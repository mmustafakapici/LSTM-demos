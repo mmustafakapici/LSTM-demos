{
  "cells": [
    {
      "cell_type": "code",
      "execution_count": 1,
      "metadata": {
        "colab": {
          "base_uri": "https://localhost:8080/"
        },
        "id": "qjEuJ-j7yEdK",
        "outputId": "49462ae4-592f-4240-f8a2-633308ac4022"
      },
      "outputs": [
        {
          "name": "stderr",
          "output_type": "stream",
          "text": [
            "2024-01-05 20:40:55.554803: I tensorflow/core/platform/cpu_feature_guard.cc:182] This TensorFlow binary is optimized to use available CPU instructions in performance-critical operations.\n",
            "To enable the following instructions: AVX2 FMA, in other operations, rebuild TensorFlow with the appropriate compiler flags.\n"
          ]
        }
      ],
      "source": [
        "import pandas as pd \n",
        "import numpy as np\n",
        "import matplotlib.pyplot as plt\n",
        "\n",
        "import tensorflow as tf"
      ]
    },
    {
      "cell_type": "code",
      "execution_count": 2,
      "metadata": {},
      "outputs": [],
      "source": [
        "epochs = 10 "
      ]
    },
    {
      "cell_type": "code",
      "execution_count": 3,
      "metadata": {},
      "outputs": [
        {
          "name": "stdout",
          "output_type": "stream",
          "text": [
            "[*********************100%%**********************]  1 of 1 completed\n"
          ]
        },
        {
          "data": {
            "text/html": [
              "<div>\n",
              "<style scoped>\n",
              "    .dataframe tbody tr th:only-of-type {\n",
              "        vertical-align: middle;\n",
              "    }\n",
              "\n",
              "    .dataframe tbody tr th {\n",
              "        vertical-align: top;\n",
              "    }\n",
              "\n",
              "    .dataframe thead th {\n",
              "        text-align: right;\n",
              "    }\n",
              "</style>\n",
              "<table border=\"1\" class=\"dataframe\">\n",
              "  <thead>\n",
              "    <tr style=\"text-align: right;\">\n",
              "      <th></th>\n",
              "      <th>Open</th>\n",
              "      <th>High</th>\n",
              "      <th>Low</th>\n",
              "      <th>Close</th>\n",
              "      <th>Adj Close</th>\n",
              "      <th>Volume</th>\n",
              "    </tr>\n",
              "    <tr>\n",
              "      <th>Date</th>\n",
              "      <th></th>\n",
              "      <th></th>\n",
              "      <th></th>\n",
              "      <th></th>\n",
              "      <th></th>\n",
              "      <th></th>\n",
              "    </tr>\n",
              "  </thead>\n",
              "  <tbody>\n",
              "    <tr>\n",
              "      <th>2014-09-17</th>\n",
              "      <td>465.864014</td>\n",
              "      <td>468.174011</td>\n",
              "      <td>452.421997</td>\n",
              "      <td>457.334015</td>\n",
              "      <td>457.334015</td>\n",
              "      <td>21056800</td>\n",
              "    </tr>\n",
              "    <tr>\n",
              "      <th>2014-09-18</th>\n",
              "      <td>456.859985</td>\n",
              "      <td>456.859985</td>\n",
              "      <td>413.104004</td>\n",
              "      <td>424.440002</td>\n",
              "      <td>424.440002</td>\n",
              "      <td>34483200</td>\n",
              "    </tr>\n",
              "    <tr>\n",
              "      <th>2014-09-19</th>\n",
              "      <td>424.102997</td>\n",
              "      <td>427.834991</td>\n",
              "      <td>384.532013</td>\n",
              "      <td>394.795990</td>\n",
              "      <td>394.795990</td>\n",
              "      <td>37919700</td>\n",
              "    </tr>\n",
              "    <tr>\n",
              "      <th>2014-09-20</th>\n",
              "      <td>394.673004</td>\n",
              "      <td>423.295990</td>\n",
              "      <td>389.882996</td>\n",
              "      <td>408.903992</td>\n",
              "      <td>408.903992</td>\n",
              "      <td>36863600</td>\n",
              "    </tr>\n",
              "    <tr>\n",
              "      <th>2014-09-21</th>\n",
              "      <td>408.084991</td>\n",
              "      <td>412.425995</td>\n",
              "      <td>393.181000</td>\n",
              "      <td>398.821014</td>\n",
              "      <td>398.821014</td>\n",
              "      <td>26580100</td>\n",
              "    </tr>\n",
              "  </tbody>\n",
              "</table>\n",
              "</div>"
            ],
            "text/plain": [
              "                  Open        High         Low       Close   Adj Close  \\\n",
              "Date                                                                     \n",
              "2014-09-17  465.864014  468.174011  452.421997  457.334015  457.334015   \n",
              "2014-09-18  456.859985  456.859985  413.104004  424.440002  424.440002   \n",
              "2014-09-19  424.102997  427.834991  384.532013  394.795990  394.795990   \n",
              "2014-09-20  394.673004  423.295990  389.882996  408.903992  408.903992   \n",
              "2014-09-21  408.084991  412.425995  393.181000  398.821014  398.821014   \n",
              "\n",
              "              Volume  \n",
              "Date                  \n",
              "2014-09-17  21056800  \n",
              "2014-09-18  34483200  \n",
              "2014-09-19  37919700  \n",
              "2014-09-20  36863600  \n",
              "2014-09-21  26580100  "
            ]
          },
          "execution_count": 3,
          "metadata": {},
          "output_type": "execute_result"
        }
      ],
      "source": [
        "import yfinance as yf\n",
        "\n",
        "# Download Bitcoin data from Yahoo Finance\n",
        "\n",
        "btc_data = yf.download('BTC-USD', period='3600d')  # Bitcoin verilerini yfinance ile indirme\n",
        "df = btc_data[['Open', 'High', 'Low', 'Close' , 'Adj Close', 'Volume']]  # İlgili sütunların seçilmesi\n",
        "\n",
        "df.head()  # İlk 5 satırın gösterilmesi"
      ]
    },
    {
      "cell_type": "markdown",
      "metadata": {
        "id": "EQiDyqJaCdSS"
      },
      "source": [
        "Looking good! Let's get some more info."
      ]
    },
    {
      "cell_type": "code",
      "execution_count": 4,
      "metadata": {
        "colab": {
          "base_uri": "https://localhost:8080/"
        },
        "id": "Z-YoeINjCzJ_",
        "outputId": "d4ac2c82-9f59-438a-c749-fe418b04764d"
      },
      "outputs": [
        {
          "name": "stdout",
          "output_type": "stream",
          "text": [
            "<class 'pandas.core.frame.DataFrame'>\n",
            "DatetimeIndex: 3398 entries, 2014-09-17 to 2024-01-05\n",
            "Data columns (total 6 columns):\n",
            " #   Column     Non-Null Count  Dtype  \n",
            "---  ------     --------------  -----  \n",
            " 0   Open       3398 non-null   float64\n",
            " 1   High       3398 non-null   float64\n",
            " 2   Low        3398 non-null   float64\n",
            " 3   Close      3398 non-null   float64\n",
            " 4   Adj Close  3398 non-null   float64\n",
            " 5   Volume     3398 non-null   int64  \n",
            "dtypes: float64(5), int64(1)\n",
            "memory usage: 185.8 KB\n"
          ]
        }
      ],
      "source": [
        "df.info()"
      ]
    },
    {
      "cell_type": "markdown",
      "metadata": {
        "id": "4s00kcEDCrjV"
      },
      "source": [
        "Because we told pandas to parse the date column and set it as the index, its not in the list of columns.\n",
        "\n",
        "You can also see there isn't many samples."
      ]
    },
    {
      "cell_type": "code",
      "execution_count": 5,
      "metadata": {
        "colab": {
          "base_uri": "https://localhost:8080/"
        },
        "id": "XP3cN0uvlxhi",
        "outputId": "39e39718-290e-4d99-f62a-8ec042714e65"
      },
      "outputs": [
        {
          "data": {
            "text/plain": [
              "3398"
            ]
          },
          "execution_count": 5,
          "metadata": {},
          "output_type": "execute_result"
        }
      ],
      "source": [
        "# How many samples do we have?\n",
        "len(df)"
      ]
    },
    {
      "cell_type": "code",
      "execution_count": 6,
      "metadata": {
        "colab": {
          "base_uri": "https://localhost:8080/",
          "height": 235
        },
        "id": "QxoNCv2NCuLY",
        "outputId": "0fce77d2-7d89-4c68-c26b-c7b6750efc44"
      },
      "outputs": [
        {
          "data": {
            "text/html": [
              "<div>\n",
              "<style scoped>\n",
              "    .dataframe tbody tr th:only-of-type {\n",
              "        vertical-align: middle;\n",
              "    }\n",
              "\n",
              "    .dataframe tbody tr th {\n",
              "        vertical-align: top;\n",
              "    }\n",
              "\n",
              "    .dataframe thead th {\n",
              "        text-align: right;\n",
              "    }\n",
              "</style>\n",
              "<table border=\"1\" class=\"dataframe\">\n",
              "  <thead>\n",
              "    <tr style=\"text-align: right;\">\n",
              "      <th></th>\n",
              "      <th>Price</th>\n",
              "    </tr>\n",
              "    <tr>\n",
              "      <th>Date</th>\n",
              "      <th></th>\n",
              "    </tr>\n",
              "  </thead>\n",
              "  <tbody>\n",
              "    <tr>\n",
              "      <th>2014-09-17</th>\n",
              "      <td>457.334015</td>\n",
              "    </tr>\n",
              "    <tr>\n",
              "      <th>2014-09-18</th>\n",
              "      <td>424.440002</td>\n",
              "    </tr>\n",
              "    <tr>\n",
              "      <th>2014-09-19</th>\n",
              "      <td>394.795990</td>\n",
              "    </tr>\n",
              "    <tr>\n",
              "      <th>2014-09-20</th>\n",
              "      <td>408.903992</td>\n",
              "    </tr>\n",
              "    <tr>\n",
              "      <th>2014-09-21</th>\n",
              "      <td>398.821014</td>\n",
              "    </tr>\n",
              "  </tbody>\n",
              "</table>\n",
              "</div>"
            ],
            "text/plain": [
              "                 Price\n",
              "Date                  \n",
              "2014-09-17  457.334015\n",
              "2014-09-18  424.440002\n",
              "2014-09-19  394.795990\n",
              "2014-09-20  408.903992\n",
              "2014-09-21  398.821014"
            ]
          },
          "execution_count": 6,
          "metadata": {},
          "output_type": "execute_result"
        }
      ],
      "source": [
        "import pandas as pd\n",
        "\n",
        "# Only want closing price for each day \n",
        "bitcoin_prices = pd.DataFrame(df[\"Close\"]).rename(columns={\"Close\": \"Price\"})\n",
        "bitcoin_prices.head()"
      ]
    },
    {
      "cell_type": "markdown",
      "metadata": {
        "id": "olHSR6poID_w"
      },
      "source": [
        "Much better!\n",
        "\n",
        "But that's only five days worth of Bitcoin prices, let's plot everything we've got."
      ]
    },
    {
      "cell_type": "code",
      "execution_count": 7,
      "metadata": {
        "colab": {
          "base_uri": "https://localhost:8080/",
          "height": 460
        },
        "id": "CfkhZhmCEyUe",
        "outputId": "c49b5f77-3059-416d-8a13-9ae7f2768ebf"
      },
      "outputs": [
        {
          "data": {
            "image/png": "[encoded data removed]",
            "text/plain": [
              "<Figure size 1000x700 with 1 Axes>"
            ]
          },
          "metadata": {},
          "output_type": "display_data"
        }
      ],
      "source": [
        "import matplotlib.pyplot as plt\n",
        "bitcoin_prices.plot(figsize=(10, 7))\n",
        "plt.ylabel(\"BTC Price\")\n",
        "plt.title(\"Price of Bitcoin from 1 Oct 2013 to 18 May 2021\", fontsize=16)\n",
        "plt.legend(fontsize=14);"
      ]
    },
    {
      "cell_type": "markdown",
      "metadata": {
        "id": "Wndwxoo_IZry"
      },
      "source": [
        "Woah, looks like it would've been a good idea to buy Bitcoin back in 2014."
      ]
    },
    {
      "cell_type": "code",
      "execution_count": 8,
      "metadata": {
        "colab": {
          "base_uri": "https://localhost:8080/"
        },
        "id": "UkTvwP2DCuGK",
        "outputId": "9bf2e5c1-fea5-44a2-e247-71a72645848c"
      },
      "outputs": [
        {
          "data": {
            "text/plain": [
              "([Timestamp('2014-09-17 00:00:00'),\n",
              "  Timestamp('2014-09-18 00:00:00'),\n",
              "  Timestamp('2014-09-19 00:00:00'),\n",
              "  Timestamp('2014-09-20 00:00:00'),\n",
              "  Timestamp('2014-09-21 00:00:00'),\n",
              "  Timestamp('2014-09-22 00:00:00'),\n",
              "  Timestamp('2014-09-23 00:00:00'),\n",
              "  Timestamp('2014-09-24 00:00:00'),\n",
              "  Timestamp('2014-09-25 00:00:00'),\n",
              "  Timestamp('2014-09-26 00:00:00')],\n",
              " [457.3340148925781,\n",
              "  424.44000244140625,\n",
              "  394.7959899902344,\n",
              "  408.90399169921875,\n",
              "  398.8210144042969,\n",
              "  402.1520080566406,\n",
              "  435.7909851074219,\n",
              "  423.2049865722656,\n",
              "  411.5740051269531,\n",
              "  404.42498779296875])"
            ]
          },
          "execution_count": 8,
          "metadata": {},
          "output_type": "execute_result"
        }
      ],
      "source": [
        "# Formatting historical Bitcoin data with Python\n",
        "from datetime import datetime\n",
        "\n",
        "timesteps = []\n",
        "btc_price = []\n",
        "\n",
        "\n",
        "# ilk 10 satırın gösterilmesi\n",
        "for row in df.itertuples():\n",
        "  timesteps.append(row.Index)\n",
        "  btc_price.append(row.Close)\n",
        "\n",
        "\n",
        "\n",
        "\n",
        "\n",
        "timesteps[:10], btc_price[:10]"
      ]
    },
    {
      "cell_type": "markdown",
      "metadata": {
        "id": "40o59gpNKtRs"
      },
      "source": [
        "Beautiful! Now, let's see how things look."
      ]
    },
    {
      "cell_type": "code",
      "execution_count": 9,
      "metadata": {
        "colab": {
          "base_uri": "https://localhost:8080/",
          "height": 460
        },
        "id": "bTSX7RZ9Cytj",
        "outputId": "2ed83ea1-2136-4890-93b7-f94ffdb50870"
      },
      "outputs": [
        {
          "data": {
            "image/png": "[encoded data removed]",
            "text/plain": [
              "<Figure size 1000x700 with 1 Axes>"
            ]
          },
          "metadata": {},
          "output_type": "display_data"
        }
      ],
      "source": [
        "# Plotting\n",
        "import matplotlib.pyplot as plt\n",
        "import numpy as np\n",
        "plt.figure(figsize=(10, 7))\n",
        "plt.plot(timesteps, btc_price)\n",
        "plt.title(\"Price of Bitcoin \", fontsize=16)\n",
        "plt.xlabel(\"Date\")\n",
        "plt.ylabel(\"BTC Price\");"
      ]
    },
    {
      "cell_type": "markdown",
      "metadata": {
        "id": "G12TARVyK_gN"
      },
      "source": [
        "Ho ho! Would you look at that! Just like the pandas plot. And because we formatted the `timesteps` to be `datetime` objects, `matplotlib` displays a fantastic looking date axis."
      ]
    },
    {
      "cell_type": "code",
      "execution_count": 10,
      "metadata": {},
      "outputs": [
        {
          "data": {
            "text/plain": [
              "(array(['2014-09-17T00:00:00.000000000', '2014-09-18T00:00:00.000000000',\n",
              "        '2014-09-19T00:00:00.000000000', '2014-09-20T00:00:00.000000000',\n",
              "        '2014-09-21T00:00:00.000000000', '2014-09-22T00:00:00.000000000',\n",
              "        '2014-09-23T00:00:00.000000000', '2014-09-24T00:00:00.000000000',\n",
              "        '2014-09-25T00:00:00.000000000', '2014-09-26T00:00:00.000000000'],\n",
              "       dtype='datetime64[ns]'),\n",
              " array([457.33401489, 424.44000244, 394.79598999, 408.9039917 ,\n",
              "        398.8210144 , 402.15200806, 435.79098511, 423.20498657,\n",
              "        411.57400513, 404.42498779]))"
            ]
          },
          "execution_count": 10,
          "metadata": {},
          "output_type": "execute_result"
        }
      ],
      "source": [
        "# Get bitcoin date array\n",
        "timesteps = bitcoin_prices.index.to_numpy()\n",
        "prices = bitcoin_prices[\"Price\"].to_numpy()\n",
        "\n",
        "timesteps[:10], prices[:10]"
      ]
    },
    {
      "cell_type": "markdown",
      "metadata": {
        "id": "_nfP7i9R_dOp"
      },
      "source": [
        "## Format Data Part 1: Creatining train and test sets for time series data\n",
        "\n",
        "\n",
        "\n",
        "Usually, you could create a train and test split using a function like Scikit-Learn's outstanding [`train_test_split()`](https://scikit-learn.org/stable/modules/generated/sklearn.model_selection.train_test_split.html) but as we'll see in a moment, this doesn't really cut it for time series data.\n",
        "\n",
        "But before we do create splits, it's worth talking about what *kind* of data we have.\n",
        "\n",
        "In time series problems, you'll either have **univariate** or **multivariate** data.\n",
        "\n",
        "Can you guess what our data is?\n",
        "\n",
        "* **Univariate** time series data deals with *one* variable, for example, using the price of Bitcoin to predict the price of Bitcoin.\n",
        "* **Multivariate** time series data deals with *more than one* variable, for example, predicting electricity demand using the day of week, time of year and number of houses in a region.\n",
        "\n",
        "![comparison of univariate and multivariate time series data](https://raw.githubusercontent.com/mrdbourke/tensorflow-deep-learning/main/images/10-univariate-and-multivariate-time-series-data.png)\n",
        "*Example of univariate and multivariate time series data. Univariate involves using the target to predict the target. Multivariate inolves using the target as well as another time series to predict the target.*"
      ]
    },
    {
      "cell_type": "markdown",
      "metadata": {
        "id": "ajoASBK2size"
      },
      "source": [
        "### Create train & test sets for time series (the right way)\n",
        "\n",
        "Of course, there's no way we can actually access data from the future.\n",
        "\n",
        "But we can engineer our test set to be in the future with respect to the training set.\n",
        "\n",
        "To do this, we can create an abitrary point in time to split our data.\n",
        "\n",
        "Everything before the point in time can be considered the training set and everything after the point in time can be considered the test set.\n",
        "\n",
        "![time series train test split](https://raw.githubusercontent.com/mrdbourke/tensorflow-deep-learning/main/images/10-time-series-train-test-split.png)\n",
        "*Demonstration of time series split. Rather than a traditionaly random train/test split, it's best to split the time series data sequentially. Meaning, the test data should be data from the future when compared to the training data.*"
      ]
    },
    {
      "cell_type": "code",
      "execution_count": 11,
      "metadata": {
        "colab": {
          "base_uri": "https://localhost:8080/"
        },
        "id": "lpEVKyXANLT4",
        "outputId": "94acf2dc-837b-4b73-aa37-63eefe8ffadd"
      },
      "outputs": [
        {
          "data": {
            "text/plain": [
              "(2718, 680, 2718, 680)"
            ]
          },
          "execution_count": 11,
          "metadata": {},
          "output_type": "execute_result"
        }
      ],
      "source": [
        "# Create train and test splits the right way for time series data\n",
        "split_size = int(0.8 * len(prices)) # 80% train, 20% test\n",
        "\n",
        "# Create train data splits (everything before the split)\n",
        "X_train, y_train = timesteps[:split_size], prices[:split_size]\n",
        "\n",
        "# Create test data splits (everything after the split)\n",
        "X_test, y_test = timesteps[split_size:], prices[split_size:]\n",
        "\n",
        "len(X_train), len(X_test), len(y_train), len(y_test)"
      ]
    },
    {
      "cell_type": "markdown",
      "metadata": {
        "id": "ByN_YCotv3zk"
      },
      "source": [
        "Okay, looks like our custom made splits are the same lengths as the splits we made with `train_test_split`.\n",
        "\n",
        "But again, these are numbers on a page.\n",
        "\n",
        "And you know how the saying goes, trust one eye more than two ears.\n",
        "\n",
        "Let's visualize."
      ]
    },
    {
      "cell_type": "code",
      "execution_count": 12,
      "metadata": {
        "colab": {
          "base_uri": "https://localhost:8080/",
          "height": 442
        },
        "id": "L9QImNlhOQuS",
        "outputId": "a0eae767-fea6-44df-b68c-b63baa60cc49"
      },
      "outputs": [
        {
          "data": {
            "image/png": "[encoded data removed]",
            "text/plain": [
              "<Figure size 1000x700 with 1 Axes>"
            ]
          },
          "metadata": {},
          "output_type": "display_data"
        }
      ],
      "source": [
        "# Plot correctly made splits\n",
        "plt.figure(figsize=(10, 7))\n",
        "plt.scatter(X_train, y_train, s=5, label=\"Train data\")\n",
        "plt.scatter(X_test, y_test, s=5, label=\"Test data\")\n",
        "plt.xlabel(\"Date\")\n",
        "plt.ylabel(\"BTC Price\")\n",
        "plt.legend(fontsize=14)\n",
        "plt.show();"
      ]
    },
    {
      "cell_type": "markdown",
      "metadata": {
        "id": "tmp1pSbaunlf"
      },
      "source": [
        "That looks much better!\n",
        "\n",
        "Do you see what's happened here?\n",
        "\n",
        "We're going to be using the training set (past) to train a model to try and predict values on the test set (future).\n",
        "\n",
        "Because the test set is an *artificial* future, we can guage how our model might perform on *actual* future data.\n",
        "\n",
        "> 🔑 **Note:** The amount of data you reserve for your test set not set in stone. You could have 80/20, 90/10, 95/5 splits or in some cases, you might not even have enough data to split into train and test sets (see the resource below). The point is to remember the test set is a pseudofuture and not the actual future, it is only meant to give you an indication of how the models you're building are performing. \n",
        "\n",
        "> 📖 **Resource:** Working with time series data can be tricky compared to other kinds of data. And there are a few pitfalls to watch out for, such as how much data to use for a test set. The article [*3 facts about time series forecasting that surprise experienced machine learning practitioners*](https://towardsdatascience.com/3-facts-about-time-series-forecasting-that-surprise-experienced-machine-learning-practitioners-69c18ee89387) talks about different things to watch out for when working with time series data, I'd recommend reading it.\n",
        "\n"
      ]
    },
    {
      "cell_type": "markdown",
      "metadata": {
        "id": "sGUelYVKCybB"
      },
      "source": [
        "### Create a plotting function\n",
        "\n",
        "Rather than retyping `matplotlib` commands to continuously plot data, let's make a plotting function we can reuse later."
      ]
    },
    {
      "cell_type": "code",
      "execution_count": 13,
      "metadata": {
        "id": "trkvizA0C6vc"
      },
      "outputs": [],
      "source": [
        "# Create a function to plot time series data\n",
        "def plot_time_series(timesteps, values, format='.', start=0, end=None, label=None):\n",
        "  \"\"\"\n",
        "  Plots a timesteps (a series of points in time) against values (a series of values across timesteps).\n",
        "  \n",
        "  Parameters\n",
        "  ---------\n",
        "  timesteps : array of timesteps\n",
        "  values : array of values across time\n",
        "  format : style of plot, default \".\"\n",
        "  start : where to start the plot (setting a value will index from start of timesteps & values)\n",
        "  end : where to end the plot (setting a value will index from end of timesteps & values)\n",
        "  label : label to show on plot of values\n",
        "  \"\"\"\n",
        "  # Plot the series\n",
        "  plt.plot(timesteps[start:end], values[start:end], format, label=label)\n",
        "  plt.xlabel(\"Time\")\n",
        "  plt.ylabel(\"BTC Price\")\n",
        "  if label:\n",
        "    plt.legend(fontsize=14) # make label bigger\n",
        "  plt.grid(True)"
      ]
    },
    {
      "cell_type": "code",
      "execution_count": 14,
      "metadata": {
        "colab": {
          "base_uri": "https://localhost:8080/",
          "height": 442
        },
        "id": "6TyFY1cGC_sw",
        "outputId": "41e56d50-31b2-4c88-9d78-7095f6e74dd8"
      },
      "outputs": [
        {
          "data": {
            "image/png": "[encoded data removed]",
            "text/plain": [
              "<Figure size 1000x700 with 1 Axes>"
            ]
          },
          "metadata": {},
          "output_type": "display_data"
        }
      ],
      "source": [
        "# Try out our plotting function\n",
        "plt.figure(figsize=(10, 7))\n",
        "plot_time_series(timesteps=X_train, values=y_train, label=\"Train data\")\n",
        "plot_time_series(timesteps=X_test, values=y_test, label=\"Test data\")"
      ]
    },
    {
      "cell_type": "markdown",
      "metadata": {
        "id": "SDeel1jj8ioU"
      },
      "source": [
        "Looking good!\n",
        "\n",
        "Time for some modelling experiments."
      ]
    },
    {
      "cell_type": "markdown",
      "metadata": {
        "id": "1ys3PAVUTo6q"
      },
      "source": [
        "And since TensorFlow doesn't have a ready made version of MASE (mean aboslute scaled error), how about we create our own?\n",
        "\n",
        "We'll take inspiration from [sktime](https://github.com/alan-turing-institute/sktime)'s (Scikit-Learn for time series) [`MeanAbsoluteScaledError`](https://www.sktime.org/en/stable/api_reference/auto_generated/sktime.performance_metrics.forecasting.MeanAbsoluteScaledError.html#sktime.performance_metrics.forecasting.MeanAbsoluteScaledError) class which calculates the MASE."
      ]
    },
    {
      "cell_type": "code",
      "execution_count": 15,
      "metadata": {
        "id": "2jbLBJ_IGjla"
      },
      "outputs": [],
      "source": [
        "# MASE implemented courtesy of sktime - https://github.com/alan-turing-institute/sktime/blob/ee7a06843a44f4aaec7582d847e36073a9ab0566/sktime/performance_metrics/forecasting/_functions.py#L16\n",
        "def mean_absolute_scaled_error(y_true, y_pred):\n",
        "  \"\"\"\n",
        "  Implement MASE (assuming no seasonality of data).\n",
        "  \"\"\"\n",
        "  mae = tf.reduce_mean(tf.abs(y_true - y_pred))\n",
        "\n",
        "  # Find MAE of naive forecast (no seasonality)\n",
        "  mae_naive_no_season = tf.reduce_mean(tf.abs(y_true[1:] - y_true[:-1])) # our seasonality is 1 day (hence the shifting of 1 day)\n",
        "\n",
        "  return mae / mae_naive_no_season"
      ]
    },
    {
      "cell_type": "markdown",
      "metadata": {
        "id": "yD4P7-wwUVWj"
      },
      "source": [
        "You'll notice the version of MASE above doesn't take in the training values like sktime's `mae_loss()`. In our case, we're comparing the MAE of our predictions on the test to the MAE of the naïve forecast on the test set.\n",
        "\n",
        "In practice, if we've created the function correctly, the naïve model should achieve an MASE of 1 (or very close to 1). Any model worse than the naïve forecast will achieve an MASE of >1 and any model better than the naïve forecast will achieve an MASE of <1.\n",
        "\n",
        "Let's put each of our different evaluation metrics together into a function."
      ]
    },
    {
      "cell_type": "code",
      "execution_count": 16,
      "metadata": {
        "id": "MwMeVgRXWaJp"
      },
      "outputs": [],
      "source": [
        "def evaluate_preds(y_true, y_pred):\n",
        "  # Make sure float32 (for metric calculations)\n",
        "  y_true = tf.cast(y_true, dtype=tf.float32)\n",
        "  y_pred = tf.cast(y_pred, dtype=tf.float32)\n",
        "\n",
        "  # Calculate various metrics\n",
        "  mae = tf.keras.metrics.mean_absolute_error(y_true, y_pred)\n",
        "  mse = tf.keras.metrics.mean_squared_error(y_true, y_pred) # puts and emphasis on outliers (all errors get squared)\n",
        "  rmse = tf.sqrt(mse)\n",
        "  mape = tf.keras.metrics.mean_absolute_percentage_error(y_true, y_pred)\n",
        "  \n",
        "  return {\"mae\": mae.numpy(),\n",
        "          \"mse\": mse.numpy(),\n",
        "          \"rmse\": rmse.numpy(),\n",
        "          \"mape\": mape.numpy()\n",
        "          }"
      ]
    },
    {
      "cell_type": "markdown",
      "metadata": {
        "id": "VAKTXEIPVKfR"
      },
      "source": [
        "Looking good! How about we test our function on the naive forecast?"
      ]
    },
    {
      "cell_type": "code",
      "execution_count": 17,
      "metadata": {
        "colab": {
          "base_uri": "https://localhost:8080/"
        },
        "id": "Yjl-X9QLVhp1",
        "outputId": "d96d84d8-af33-4574-98c6-cecba5a211a9"
      },
      "outputs": [
        {
          "data": {
            "text/plain": [
              "27630.633596622243"
            ]
          },
          "execution_count": 17,
          "metadata": {},
          "output_type": "execute_result"
        }
      ],
      "source": [
        "# Find average price of Bitcoin in test dataset\n",
        "tf.reduce_mean(y_test).numpy()"
      ]
    },
    {
      "cell_type": "markdown",
      "metadata": {
        "id": "e8AzwUvjBkgY"
      },
      "source": [
        "## Format Data Part 2: Windowing dataset\n",
        "\n",
        "Surely we'd be ready to start building models by now?\n",
        "\n",
        "We're so close! Only one more step (really two) to go.\n",
        "\n",
        "We've got to window our time series.\n",
        "\n",
        "Why do we window?\n",
        "\n",
        "Windowing is a method to turn a time series dataset into **supervised learning problem**. \n",
        "\n",
        "In other words, we want to use windows of the past to predict the future.\n",
        "\n",
        "For example for a univariate time series, windowing for one week (`window=7`) to predict the next single value (`horizon=1`) might look like:\n",
        "\n",
        "```\n",
        "Window for one week (univariate time series)\n",
        "\n",
        "[0, 1, 2, 3, 4, 5, 6] -> [7]\n",
        "[1, 2, 3, 4, 5, 6, 7] -> [8]\n",
        "[2, 3, 4, 5, 6, 7, 8] -> [9]\n",
        "```\n",
        "\n",
        "Or for the price of Bitcoin, it'd look like:\n",
        "\n",
        "```\n",
        "Window for one week with the target of predicting the next day (Bitcoin prices)\n",
        "\n",
        "[123.654, 125.455, 108.584, 118.674, 121.338, 120.655, 121.795] -> [123.033]\n",
        "[125.455, 108.584, 118.674, 121.338, 120.655, 121.795, 123.033] -> [124.049]\n",
        "[108.584, 118.674, 121.338, 120.655, 121.795, 123.033, 124.049] -> [125.961]\n",
        "```\n",
        "\n",
        "![windows and horizons for turning time series data into a supervised learning problem](https://raw.githubusercontent.com/mrdbourke/tensorflow-deep-learning/main/images/10-time-series-windows-and-horizons.png)\n",
        "*Example of windows and horizons for Bitcoin data. Windowing can be used to turn time series data into a supervised learning problem.*\n",
        "\n",
        "Let's build some functions which take in a univariate time series and turn it into windows and horizons of specified sizes.\n",
        "\n",
        "We'll start with the default horizon size of 1 and a window size of 7 (these aren't necessarily the best values to use, I've just picked them)."
      ]
    },
    {
      "cell_type": "code",
      "execution_count": 18,
      "metadata": {
        "id": "LibzWQXM2ib-"
      },
      "outputs": [],
      "source": [
        "HORIZON = 1 # predict 1 step at a time\n",
        "WINDOW_SIZE = 7 # use a week worth of timesteps to predict the horizon"
      ]
    },
    {
      "cell_type": "markdown",
      "metadata": {
        "id": "1AQ0HWWzfRW_"
      },
      "source": [
        "Now we'll write a function to take in an array and turn it into a window and horizon."
      ]
    },
    {
      "cell_type": "code",
      "execution_count": 19,
      "metadata": {
        "id": "zV8pv5K_x81E"
      },
      "outputs": [],
      "source": [
        "# Create function to label windowed data\n",
        "def get_labelled_windows(x, horizon=1):\n",
        "  \"\"\"\n",
        "  Creates labels for windowed dataset.\n",
        "\n",
        "  E.g. if horizon=1 (default)\n",
        "  Input: [1, 2, 3, 4, 5, 6] -> Output: ([1, 2, 3, 4, 5], [6])\n",
        "  \"\"\"\n",
        "  return x[:, :-horizon], x[:, -horizon:]"
      ]
    },
    {
      "cell_type": "code",
      "execution_count": 20,
      "metadata": {
        "colab": {
          "base_uri": "https://localhost:8080/"
        },
        "id": "ejJ9vCyKff8F",
        "outputId": "805b4459-9f5e-4311-9592-41efefd22546"
      },
      "outputs": [
        {
          "name": "stdout",
          "output_type": "stream",
          "text": [
            "Window: [1 2 3 4 5 6 7] -> Label: 8\n"
          ]
        }
      ],
      "source": [
        "# Test out the window labelling function\n",
        "test_window, test_label = get_labelled_windows(tf.expand_dims(tf.range(8)+1, axis=0), horizon=HORIZON)\n",
        "print(f\"Window: {tf.squeeze(test_window).numpy()} -> Label: {tf.squeeze(test_label).numpy()}\")"
      ]
    },
    {
      "cell_type": "markdown",
      "metadata": {
        "id": "qc4U4ExKfx6S"
      },
      "source": [
        "Oh yeah, that's what I'm talking about!\n",
        "\n",
        "Now we need a way to make windows for an entire time series.\n",
        "\n",
        "We could do this with Python for loops, however, for large time series, that'd be quite slow.\n",
        "\n",
        "To speed things up, we'll leverage [NumPy's array indexing](https://numpy.org/doc/stable/reference/arrays.indexing.html).\n",
        "\n",
        "Let's write a function which:\n",
        "1. Creates a window step of specific window size, for example: `[[0, 1, 2, 3, 4, 5, 6, 7]]`\n",
        "2. Uses NumPy indexing to create a 2D of multiple window steps, for example: \n",
        "```\n",
        "[[0, 1, 2, 3, 4, 5, 6, 7],\n",
        " [1, 2, 3, 4, 5, 6, 7, 8],\n",
        " [2, 3, 4, 5, 6, 7, 8, 9]]\n",
        "```\n",
        "3. Uses the 2D array of multuple window steps to index on a target series\n",
        "4. Uses the `get_labelled_windows()` function we created above to turn the window steps into windows with a specified horizon\n",
        "\n",
        "> 📖 **Resource:** The function created below has been adapted from Syafiq Kamarul Azman's article [*Fast and Robust Sliding Window Vectorization with NumPy*](https://towardsdatascience.com/fast-and-robust-sliding-window-vectorization-with-numpy-3ad950ed62f5)."
      ]
    },
    {
      "cell_type": "code",
      "execution_count": 21,
      "metadata": {
        "id": "apea0wiJyCI6"
      },
      "outputs": [],
      "source": [
        "# Create function to view NumPy arrays as windows \n",
        "def make_windows(x, window_size=7, horizon=1):\n",
        "  \"\"\"\n",
        "  Turns a 1D array into a 2D array of sequential windows of window_size.\n",
        "  \"\"\"\n",
        "  # 1. Create a window of specific window_size (add the horizon on the end for later labelling)\n",
        "  window_step = np.expand_dims(np.arange(window_size+horizon), axis=0)\n",
        "  # print(f\"Window step:\\n {window_step}\")\n",
        "\n",
        "  # 2. Create a 2D array of multiple window steps (minus 1 to account for 0 indexing)\n",
        "  window_indexes = window_step + np.expand_dims(np.arange(len(x)-(window_size+horizon-1)), axis=0).T # create 2D array of windows of size window_size\n",
        "  # print(f\"Window indexes:\\n {window_indexes[:3], window_indexes[-3:], window_indexes.shape}\")\n",
        "\n",
        "  # 3. Index on the target array (time series) with 2D array of multiple window steps\n",
        "  windowed_array = x[window_indexes]\n",
        "\n",
        "  # 4. Get the labelled windows\n",
        "  windows, labels = get_labelled_windows(windowed_array, horizon=horizon)\n",
        "\n",
        "  return windows, labels"
      ]
    },
    {
      "cell_type": "markdown",
      "metadata": {
        "id": "TYQD0PRLkMIs"
      },
      "source": [
        "Phew! A few steps there... let's see how it goes."
      ]
    },
    {
      "cell_type": "code",
      "execution_count": 22,
      "metadata": {
        "colab": {
          "base_uri": "https://localhost:8080/"
        },
        "id": "u7Yc3V7fc1UG",
        "outputId": "41dce6b2-d01b-4943-f1c8-a113c256bc2d"
      },
      "outputs": [
        {
          "data": {
            "text/plain": [
              "(3391, 3391)"
            ]
          },
          "execution_count": 22,
          "metadata": {},
          "output_type": "execute_result"
        }
      ],
      "source": [
        "full_windows, full_labels = make_windows(prices, window_size=WINDOW_SIZE, horizon=HORIZON)\n",
        "len(full_windows), len(full_labels)"
      ]
    },
    {
      "cell_type": "markdown",
      "metadata": {
        "id": "xhj521fWlJsy"
      },
      "source": [
        "Of course we have to visualize, visualize, visualize!"
      ]
    },
    {
      "cell_type": "code",
      "execution_count": 23,
      "metadata": {
        "colab": {
          "base_uri": "https://localhost:8080/"
        },
        "id": "U1P-MT4CkYta",
        "outputId": "a00a6bb8-de3e-4861-84bc-442441b09635"
      },
      "outputs": [
        {
          "name": "stdout",
          "output_type": "stream",
          "text": [
            "Window: \n",
            " [457.33401489 424.44000244 394.79598999 408.9039917  398.8210144\n",
            " 402.15200806 435.79098511] ->  Label: [423.20498657]\n",
            "Window: \n",
            " [424.44000244 394.79598999 408.9039917  398.8210144  402.15200806\n",
            " 435.79098511 423.20498657] ->  Label: [411.57400513]\n",
            "Window: \n",
            " [394.79598999 408.9039917  398.8210144  402.15200806 435.79098511\n",
            " 423.20498657 411.57400513] ->  Label: [404.42498779]\n"
          ]
        }
      ],
      "source": [
        "# View the first 3 windows/labels\n",
        "for i in range(3):\n",
        "  print(f\"Window: \\n {full_windows[i]} ->  Label: {full_labels[i]}\")"
      ]
    },
    {
      "cell_type": "code",
      "execution_count": 24,
      "metadata": {
        "colab": {
          "base_uri": "https://localhost:8080/"
        },
        "id": "UCDtm6gskjRH",
        "outputId": "0d02d8c6-d0af-45b6-e98f-bbf22172f572"
      },
      "outputs": [
        {
          "name": "stdout",
          "output_type": "stream",
          "text": [
            "Window: [43442.85546875 42627.85546875 42099.40234375 42156.90234375\n",
            " 42265.1875     44167.33203125 44957.96875   ] -> Label: [42848.17578125]\n",
            "Window: [42627.85546875 42099.40234375 42156.90234375 42265.1875\n",
            " 44167.33203125 44957.96875    42848.17578125] -> Label: [44179.921875]\n",
            "Window: [42099.40234375 42156.90234375 42265.1875     44167.33203125\n",
            " 44957.96875    42848.17578125 44179.921875  ] -> Label: [43500.5703125]\n"
          ]
        }
      ],
      "source": [
        "# View the last 3 windows/labels\n",
        "for i in range(3):\n",
        "  print(f\"Window: {full_windows[i-3]} -> Label: {full_labels[i-3]}\")"
      ]
    },
    {
      "cell_type": "markdown",
      "metadata": {
        "id": "exTivzXvgbmb"
      },
      "source": [
        "> 🔑 **Note:** You can find a function which achieves similar results to the ones we implemented above at [`tf.keras.preprocessing.timeseries_dataset_from_array()`](https://www.tensorflow.org/api_docs/python/tf/keras/preprocessing/timeseries_dataset_from_array). Just like ours, it takes in an array and returns a windowed dataset. It has the benefit of returning data in the form of a tf.data.Dataset instance (we'll see how to do this with our own data later).\n",
        "\n",
        "## Turning windows into training and test sets \n",
        "\n",
        "Look how good those windows look! Almost like the stain glass windows on the Sistine Chapel, well, maybe not that good but still.\n",
        "\n",
        "Time to turn our windows into training and test splits.\n",
        "\n",
        "We could've windowed our existing training and test splits, however, with the nature of windowing (windowing often requires an offset at some point in the data), it usually works better to window the data first, then split it into training and test sets.\n",
        "\n",
        "Let's write a function which takes in full sets of windows and their labels and splits them into train and test splits."
      ]
    },
    {
      "cell_type": "code",
      "execution_count": 25,
      "metadata": {
        "id": "o_8BRgb8YtP3"
      },
      "outputs": [],
      "source": [
        "# Make the train/test splits\n",
        "def make_train_test_splits(windows, labels, test_split=0.2):\n",
        "  \"\"\"\n",
        "  Splits matching pairs of windows and labels into train and test splits.\n",
        "  \"\"\"\n",
        "  split_size = int(len(windows) * (1-test_split)) # this will default to 80% train/20% test\n",
        "  train_windows = windows[:split_size]\n",
        "  train_labels = labels[:split_size]\n",
        "  test_windows = windows[split_size:]\n",
        "  test_labels = labels[split_size:]\n",
        "  return train_windows, test_windows, train_labels, test_labels"
      ]
    },
    {
      "cell_type": "markdown",
      "metadata": {
        "id": "_062e8Oec9cf"
      },
      "source": [
        "Look at that amazing function, lets test it."
      ]
    },
    {
      "cell_type": "code",
      "execution_count": 26,
      "metadata": {
        "colab": {
          "base_uri": "https://localhost:8080/"
        },
        "id": "z_xY8T7HEaoU",
        "outputId": "d31a4535-f5b7-4ee6-92bd-a056a0101794"
      },
      "outputs": [
        {
          "data": {
            "text/plain": [
              "(2712, 679, 2712, 679)"
            ]
          },
          "execution_count": 26,
          "metadata": {},
          "output_type": "execute_result"
        }
      ],
      "source": [
        "train_windows, test_windows, train_labels, test_labels = make_train_test_splits(full_windows, full_labels)\n",
        "len(train_windows), len(test_windows), len(train_labels), len(test_labels)"
      ]
    },
    {
      "cell_type": "markdown",
      "metadata": {
        "id": "75_YBwiedI2s"
      },
      "source": [
        "Notice the default split of 80% training data and 20% testing data (this split can be adjusted if needed).\n",
        "\n",
        "How do the first 5 samples of the training windows and labels looks?"
      ]
    },
    {
      "cell_type": "code",
      "execution_count": 27,
      "metadata": {
        "colab": {
          "base_uri": "https://localhost:8080/"
        },
        "id": "DDgyT7Gix1fH",
        "outputId": "ca96d4e6-56f0-4355-d2bb-6ad981fc3dae"
      },
      "outputs": [
        {
          "data": {
            "text/plain": [
              "(array([[457.33401489, 424.44000244, 394.79598999, 408.9039917 ,\n",
              "         398.8210144 , 402.15200806, 435.79098511],\n",
              "        [424.44000244, 394.79598999, 408.9039917 , 398.8210144 ,\n",
              "         402.15200806, 435.79098511, 423.20498657],\n",
              "        [394.79598999, 408.9039917 , 398.8210144 , 402.15200806,\n",
              "         435.79098511, 423.20498657, 411.57400513],\n",
              "        [408.9039917 , 398.8210144 , 402.15200806, 435.79098511,\n",
              "         423.20498657, 411.57400513, 404.42498779],\n",
              "        [398.8210144 , 402.15200806, 435.79098511, 423.20498657,\n",
              "         411.57400513, 404.42498779, 399.51998901]]),\n",
              " array([[423.20498657],\n",
              "        [411.57400513],\n",
              "        [404.42498779],\n",
              "        [399.51998901],\n",
              "        [377.18099976]]))"
            ]
          },
          "execution_count": 27,
          "metadata": {},
          "output_type": "execute_result"
        }
      ],
      "source": [
        "train_windows[:5], train_labels[:5]"
      ]
    },
    {
      "cell_type": "code",
      "execution_count": 28,
      "metadata": {
        "colab": {
          "base_uri": "https://localhost:8080/"
        },
        "id": "TkF0HmvadHBB",
        "outputId": "a257bf12-cd34-4843-e517-fc6863fcdd15"
      },
      "outputs": [
        {
          "data": {
            "text/plain": [
              "False"
            ]
          },
          "execution_count": 28,
          "metadata": {},
          "output_type": "execute_result"
        }
      ],
      "source": [
        "# Check to see if same (accounting for horizon and window size)\n",
        "np.array_equal(np.squeeze(train_labels[:-HORIZON-1]), y_train[WINDOW_SIZE:])"
      ]
    },
    {
      "cell_type": "markdown",
      "metadata": {
        "id": "PQX0PF5jV4aq"
      },
      "source": [
        "## Make a modelling checkpoint\n",
        "\n",
        "We're so close to building models. So so so close.\n",
        "\n",
        "Because our model's performance will fluctuate from experiment to experiment, we'll want to make sure we're comparing apples to apples.\n",
        "\n",
        "What I mean by this is in order for a fair comparison, we want to compare each model's best performance against each model's best performance.\n",
        "\n",
        "For example, if `model_1` performed incredibly well on epoch 55 but its performance fell off toward epoch 100, we want the version of the model from epoch 55 to compare to other models rather than the version of the model from epoch 100.\n",
        "\n",
        "And the same goes for each of our other models: compare the best against the best.\n",
        "\n",
        "To take of this, we'll implement a [`ModelCheckpoint`](https://www.tensorflow.org/api_docs/python/tf/keras/callbacks/ModelCheckpoint) callback.\n",
        "\n",
        "The `ModelCheckpoint` callback will monitor our model's performance during training and save the best model to file by setting `save_best_only=True`.\n",
        "\n",
        "That way when evaluating our model we could restore its best performing configuration from file.\n",
        "\n",
        "> 🔑 **Note:** Because of the size of the dataset (smaller than usual), you'll notice our modelling experiment results fluctuate quite a bit during training (hence the implementation of the `ModelCheckpoint` callback to save the best model).\n",
        "\n",
        "Because we're going to be running multiple experiments, it makes sense to keep track of them by saving models to file under different names.\n",
        "\n",
        "To do this, we'll write a small function to create a `ModelCheckpoint` callback which saves a model to specified filename."
      ]
    },
    {
      "cell_type": "code",
      "execution_count": 29,
      "metadata": {
        "id": "Xh8i1f7rV_P2"
      },
      "outputs": [],
      "source": [
        "import os\n",
        "\n",
        "# Create a function to implement a ModelCheckpoint callback with a specific filename \n",
        "def create_model_checkpoint(model_name, save_path=\"model_experiments\"):\n",
        "  return tf.keras.callbacks.ModelCheckpoint(filepath=os.path.join(save_path, model_name), # create filepath to save model\n",
        "                                            verbose=0, # only output a limited amount of text\n",
        "                                            save_best_only=True) # save only the best model to file"
      ]
    },
    {
      "cell_type": "markdown",
      "metadata": {
        "id": "j5uw1AaVY-J9"
      },
      "source": [
        "## Model 1: Dense model (window = 7, horizon = 1)\n",
        "\n",
        "Finally!\n",
        "\n",
        "Time to build one of our models.\n",
        "\n",
        "If you think we've been through a fair bit of preprocessing before getting here, you're right.\n",
        "\n",
        "Often, preparing data for a model is one of the largest parts of any machine learning project.\n",
        "\n",
        "And once you've got a good model in place, you'll probably notice far more improvements from manipulating the data (e.g. collecting more, improving the quality) than manipulating the model.\n",
        "\n",
        "We're going to start by keeping it simple, `model_1` will have:\n",
        "* A single dense layer with 128 hidden units and ReLU (rectified linear unit) activation\n",
        "* An output layer with linear activation (or no activation)\n",
        "* Adam optimizer and MAE loss function\n",
        "* Batch size of 128\n",
        "* 100 epochs\n",
        "\n",
        "Why these values?\n",
        "\n",
        "I picked them out of experimentation. \n",
        "\n",
        "A batch size of 32 works pretty well too and we could always train for less epochs but since the model runs so fast (you'll see in a second, it's because the number of samples we have isn't massive) we might as well train for more.\n",
        "\n",
        "> 🔑 **Note:** As always, many of the values for machine learning problems are experimental. A reminder that the values you can set yourself in a machine learning algorithm (the hidden units, the batch size, horizon size, window size) are called [**hyperparameters**](https://en.wikipedia.org/wiki/Hyperparameter_(machine_learning). And experimenting to find the best values for hyperparameters is called **hyperparameter tuning**. Where as parameters learned by a model itself (patterns in the data, formally called weights & biases) are referred to as **parameters**.\n",
        "\n",
        "Let's import TensorFlow and build our first deep learning model for time series."
      ]
    },
    {
      "cell_type": "code",
      "execution_count": 30,
      "metadata": {
        "colab": {
          "base_uri": "https://localhost:8080/"
        },
        "id": "Slr5hrJHY_Ed",
        "outputId": "95b645ae-d08a-4794-a3e6-db8d1e1e3c67"
      },
      "outputs": [
        {
          "name": "stdout",
          "output_type": "stream",
          "text": [
            "Epoch 1/10\n",
            " 1/22 [>.............................] - ETA: 12s - loss: 7593.0938 - mae: 7593.0938INFO:tensorflow:Assets written to: model_experiments/model_1_dense/assets\n"
          ]
        },
        {
          "name": "stderr",
          "output_type": "stream",
          "text": [
            "INFO:tensorflow:Assets written to: model_experiments/model_1_dense/assets\n"
          ]
        },
        {
          "name": "stdout",
          "output_type": "stream",
          "text": [
            "22/22 [==============================] - 1s 27ms/step - loss: 3586.2002 - mae: 3586.2002 - val_loss: 2821.4644 - val_mae: 2821.4644\n",
            "Epoch 2/10\n",
            " 1/22 [>.............................] - ETA: 0s - loss: 1102.1543 - mae: 1102.1543"
          ]
        },
        {
          "name": "stdout",
          "output_type": "stream",
          "text": [
            "INFO:tensorflow:Assets written to: model_experiments/model_1_dense/assets\n"
          ]
        },
        {
          "name": "stderr",
          "output_type": "stream",
          "text": [
            "INFO:tensorflow:Assets written to: model_experiments/model_1_dense/assets\n"
          ]
        },
        {
          "name": "stdout",
          "output_type": "stream",
          "text": [
            "22/22 [==============================] - 0s 16ms/step - loss: 784.4512 - mae: 784.4512 - val_loss: 1258.7150 - val_mae: 1258.7150\n",
            "Epoch 3/10\n",
            " 1/22 [>.............................] - ETA: 0s - loss: 516.5471 - mae: 516.5471INFO:tensorflow:Assets written to: model_experiments/model_1_dense/assets\n"
          ]
        },
        {
          "name": "stderr",
          "output_type": "stream",
          "text": [
            "INFO:tensorflow:Assets written to: model_experiments/model_1_dense/assets\n"
          ]
        },
        {
          "name": "stdout",
          "output_type": "stream",
          "text": [
            "22/22 [==============================] - 0s 15ms/step - loss: 612.1034 - mae: 612.1034 - val_loss: 903.1422 - val_mae: 903.1422\n",
            "Epoch 4/10\n",
            "22/22 [==============================] - 0s 2ms/step - loss: 519.3472 - mae: 519.3472 - val_loss: 1154.8625 - val_mae: 1154.8625\n",
            "Epoch 5/10\n",
            " 1/22 [>.............................] - ETA: 0s - loss: 661.7450 - mae: 661.7450INFO:tensorflow:Assets written to: model_experiments/model_1_dense/assets\n"
          ]
        },
        {
          "name": "stderr",
          "output_type": "stream",
          "text": [
            "INFO:tensorflow:Assets written to: model_experiments/model_1_dense/assets\n"
          ]
        },
        {
          "name": "stdout",
          "output_type": "stream",
          "text": [
            "22/22 [==============================] - 0s 14ms/step - loss: 511.8180 - mae: 511.8180 - val_loss: 748.0710 - val_mae: 748.0710\n",
            "Epoch 6/10\n",
            " 1/22 [>.............................] - ETA: 0s - loss: 358.2339 - mae: 358.2339INFO:tensorflow:Assets written to: model_experiments/model_1_dense/assets\n"
          ]
        },
        {
          "name": "stderr",
          "output_type": "stream",
          "text": [
            "INFO:tensorflow:Assets written to: model_experiments/model_1_dense/assets\n"
          ]
        },
        {
          "name": "stdout",
          "output_type": "stream",
          "text": [
            "22/22 [==============================] - 0s 14ms/step - loss: 482.8171 - mae: 482.8171 - val_loss: 740.9172 - val_mae: 740.9172\n",
            "Epoch 7/10\n",
            "22/22 [==============================] - 0s 2ms/step - loss: 473.5117 - mae: 473.5117 - val_loss: 771.1396 - val_mae: 771.1396\n",
            "Epoch 8/10\n",
            " 1/22 [>.............................] - ETA: 0s - loss: 358.0268 - mae: 358.0268INFO:tensorflow:Assets written to: model_experiments/model_1_dense/assets\n"
          ]
        },
        {
          "name": "stderr",
          "output_type": "stream",
          "text": [
            "INFO:tensorflow:Assets written to: model_experiments/model_1_dense/assets\n"
          ]
        },
        {
          "name": "stdout",
          "output_type": "stream",
          "text": [
            "22/22 [==============================] - 0s 14ms/step - loss: 497.2057 - mae: 497.2057 - val_loss: 716.3473 - val_mae: 716.3473\n",
            "Epoch 9/10\n",
            "22/22 [==============================] - 0s 2ms/step - loss: 466.1129 - mae: 466.1129 - val_loss: 729.4545 - val_mae: 729.4545\n",
            "Epoch 10/10\n",
            " 1/22 [>.............................] - ETA: 0s - loss: 318.2134 - mae: 318.2134INFO:tensorflow:Assets written to: model_experiments/model_1_dense/assets\n"
          ]
        },
        {
          "name": "stderr",
          "output_type": "stream",
          "text": [
            "INFO:tensorflow:Assets written to: model_experiments/model_1_dense/assets\n"
          ]
        },
        {
          "name": "stdout",
          "output_type": "stream",
          "text": [
            "22/22 [==============================] - 0s 14ms/step - loss: 449.7623 - mae: 449.7623 - val_loss: 678.8699 - val_mae: 678.8699\n"
          ]
        },
        {
          "data": {
            "text/plain": [
              "<keras.src.callbacks.History at 0x14b22ec90>"
            ]
          },
          "execution_count": 30,
          "metadata": {},
          "output_type": "execute_result"
        }
      ],
      "source": [
        "import tensorflow as tf\n",
        "from tensorflow.keras import layers\n",
        "\n",
        "# Set random seed for as reproducible results as possible\n",
        "tf.random.set_seed(42)\n",
        "\n",
        "# Construct model\n",
        "model_1 = tf.keras.Sequential([\n",
        "  layers.Dense(128, activation=\"relu\"),\n",
        "  layers.Dense(HORIZON, activation=\"linear\") # linear activation is the same as having no activation                        \n",
        "], name=\"model_1_dense\") # give the model a name so we can save it\n",
        "\n",
        "# Compile model\n",
        "model_1.compile(loss=\"mae\",\n",
        "                optimizer=tf.keras.optimizers.Adam(),\n",
        "                metrics=[\"mae\"]) # we don't necessarily need this when the loss function is already MAE\n",
        "\n",
        "# Fit model\n",
        "model_1.fit(x=train_windows, # train windows of 7 timesteps of Bitcoin prices\n",
        "            y=train_labels, # horizon value of 1 (using the previous 7 timesteps to predict next day)\n",
        "            epochs=epochs,\n",
        "            verbose=1,\n",
        "            batch_size=128,\n",
        "            validation_data=(test_windows, test_labels),\n",
        "            callbacks=[create_model_checkpoint(model_name=model_1.name)]) # create ModelCheckpoint callback to save best model"
      ]
    },
    {
      "cell_type": "markdown",
      "metadata": {
        "id": "ZRrvDINUooJO"
      },
      "source": [
        "Because of the small size of our data (less than 3000 total samples), the model trains very fast.\n",
        "\n",
        "Let's evaluate it."
      ]
    },
    {
      "cell_type": "code",
      "execution_count": 31,
      "metadata": {
        "colab": {
          "base_uri": "https://localhost:8080/"
        },
        "id": "N1DbcEZBY_Bt",
        "outputId": "2d353c8c-075c-4149-bd68-9fb6b25a44d4"
      },
      "outputs": [
        {
          "name": "stdout",
          "output_type": "stream",
          "text": [
            "22/22 [==============================] - 0s 1ms/step - loss: 678.8699 - mae: 678.8699\n"
          ]
        },
        {
          "data": {
            "text/plain": [
              "[678.869873046875, 678.869873046875]"
            ]
          },
          "execution_count": 31,
          "metadata": {},
          "output_type": "execute_result"
        }
      ],
      "source": [
        "# Evaluate model on test data\n",
        "model_1.evaluate(test_windows, test_labels)"
      ]
    },
    {
      "cell_type": "markdown",
      "metadata": {
        "id": "zwaUv85oox2F"
      },
      "source": [
        "You'll notice the model achieves the same `val_loss` (in this case, this is MAE) as the last epoch.\n",
        "\n",
        "But if we load in the version of `model_1` which was saved to file using the `ModelCheckpoint` callback, we should see an improvement in results."
      ]
    },
    {
      "cell_type": "code",
      "execution_count": 32,
      "metadata": {
        "colab": {
          "base_uri": "https://localhost:8080/"
        },
        "id": "FXey-AX-XZPK",
        "outputId": "98d82f0b-ce9e-4326-f456-f1e49f5e8483"
      },
      "outputs": [
        {
          "name": "stdout",
          "output_type": "stream",
          "text": [
            "22/22 [==============================] - 0s 1ms/step - loss: 678.8699 - mae: 678.8699\n"
          ]
        },
        {
          "data": {
            "text/plain": [
              "[678.869873046875, 678.869873046875]"
            ]
          },
          "execution_count": 32,
          "metadata": {},
          "output_type": "execute_result"
        }
      ],
      "source": [
        "# Load in saved best performing model_1 and evaluate on test data\n",
        "model_1 = tf.keras.models.load_model(\"model_experiments/model_1_dense\")\n",
        "model_1.evaluate(test_windows, test_labels)"
      ]
    },
    {
      "cell_type": "markdown",
      "metadata": {
        "id": "YvVtmLRdpcyH"
      },
      "source": [
        "Much better! Due to the fluctuating performance of the model during training, loading back in the best performing model see's a sizeable improvement in MAE."
      ]
    },
    {
      "cell_type": "markdown",
      "metadata": {
        "id": "-HfeTX5KhYin"
      },
      "source": [
        "## Making forecasts with a model (on the test dataset)\n",
        "\n",
        "We've trained a model and evaluated the it on the test data, but the project we're working on is called BitPredict 💰📈 so how do you think we could use our model to make predictions?\n",
        "\n",
        "Since we're going to be running more modelling experiments, let's write a function which: \n",
        "1. Takes in a trained model (just like `model_1`)\n",
        "2. Takes in some input data (just like the data the model was trained on) \n",
        "3. Passes the input data to the model's `predict()` method\n",
        "4. Returns the predictions\n",
        "\n"
      ]
    },
    {
      "cell_type": "code",
      "execution_count": 33,
      "metadata": {
        "id": "hZrExWzyh3ur"
      },
      "outputs": [],
      "source": [
        "def make_preds(model, input_data):\n",
        "  \"\"\"\n",
        "  Uses model to make predictions on input_data.\n",
        "\n",
        "  Parameters\n",
        "  ----------\n",
        "  model: trained model \n",
        "  input_data: windowed input data (same kind of data model was trained on)\n",
        "\n",
        "  Returns model predictions on input_data.\n",
        "  \"\"\"\n",
        "  forecast = model.predict(input_data)\n",
        "  return tf.squeeze(forecast) # return 1D array of predictions"
      ]
    },
    {
      "cell_type": "markdown",
      "metadata": {
        "id": "vcsoVIrGvrDd"
      },
      "source": [
        "Nice! \n",
        "\n",
        "Now let's use our `make_preds()` and see how it goes.\n",
        "\n"
      ]
    },
    {
      "cell_type": "code",
      "execution_count": 34,
      "metadata": {
        "colab": {
          "base_uri": "https://localhost:8080/"
        },
        "id": "u1aAKQp6vapw",
        "outputId": "0e3faaae-e3fb-4196-9139-c6c5f5efb9a1"
      },
      "outputs": [
        {
          "name": "stdout",
          "output_type": "stream",
          "text": [
            "22/22 [==============================] - 0s 892us/step\n"
          ]
        },
        {
          "data": {
            "text/plain": [
              "(679,\n",
              " <tf.Tensor: shape=(10,), dtype=float32, numpy=\n",
              " array([38438.324, 38551.945, 38807.668, 39891.83 , 41687.88 , 43191.45 ,\n",
              "        44332.168, 41951.363, 40426.797, 39008.098], dtype=float32)>)"
            ]
          },
          "execution_count": 34,
          "metadata": {},
          "output_type": "execute_result"
        }
      ],
      "source": [
        "# Make predictions using model_1 on the test dataset and view the results\n",
        "model_1_preds = make_preds(model_1, test_windows)\n",
        "len(model_1_preds), model_1_preds[:10]"
      ]
    },
    {
      "cell_type": "markdown",
      "metadata": {
        "id": "q5Ra13OrwIOf"
      },
      "source": [
        "> 🔑 **Note:** With these outputs, our model isn't *forecasting* yet. It's only making predictions on the test dataset. Forecasting would involve a model making predictions into the future, however, the test dataset is only a pseudofuture.\n",
        "\n",
        "Excellent! Now we've got some prediction values, let's use the `evaluate_preds()` we created before to compare them to the ground truth."
      ]
    },
    {
      "cell_type": "code",
      "execution_count": 35,
      "metadata": {
        "colab": {
          "base_uri": "https://localhost:8080/"
        },
        "id": "eHak7Jqd9aXv",
        "outputId": "6969b6f5-1922-46c4-934d-48a24c452807"
      },
      "outputs": [
        {
          "data": {
            "text/plain": [
              "{'mae': 678.8699, 'mse': 1050351.9, 'rmse': 1024.8667, 'mape': 2.4556832}"
            ]
          },
          "execution_count": 35,
          "metadata": {},
          "output_type": "execute_result"
        }
      ],
      "source": [
        "# Evaluate preds\n",
        "model_1_results = evaluate_preds(y_true=tf.squeeze(test_labels), # reduce to right shape\n",
        "                                 y_pred=model_1_preds)\n",
        "model_1_results"
      ]
    },
    {
      "cell_type": "code",
      "execution_count": 36,
      "metadata": {
        "colab": {
          "base_uri": "https://localhost:8080/",
          "height": 442
        },
        "id": "Wgxoqg_tIhFJ",
        "outputId": "018c00f6-e663-49d6-d046-177e200ccbfb"
      },
      "outputs": [
        {
          "data": {
            "image/png": "[encoded data removed]",
            "text/plain": [
              "<Figure size 1000x700 with 1 Axes>"
            ]
          },
          "metadata": {},
          "output_type": "display_data"
        }
      ],
      "source": [
        "offset = 300\n",
        "plt.figure(figsize=(10, 7))\n",
        "# Account for the test_window offset and index into test_labels to ensure correct plotting\n",
        "plot_time_series(timesteps=X_test[-len(test_windows):], values=test_labels[:, 0], start=offset, label=\"Test_data\")\n",
        "plot_time_series(timesteps=X_test[-len(test_windows):], values=model_1_preds, start=offset, format=\"-\", label=\"model_1_preds\")"
      ]
    },
    {
      "cell_type": "markdown",
      "metadata": {
        "id": "fr18ffVq4i6m"
      },
      "source": [
        "## Model 2: Dense (window = 30, horizon = 1)\n",
        "\n",
        "A naïve model is currently beating our handcrafted deep learning model. \n",
        "\n",
        "We can't let this happen.\n",
        "\n",
        "Let's continue our modelling experiments.\n",
        "\n",
        "We'll keep the previous model architecture but use a window size of 30.\n",
        "\n",
        "In other words, we'll use the previous 30 days of Bitcoin prices to try and predict the next day price.\n",
        "\n",
        "![bitcoin prices windowed for 30 days to predict a horizon of 1 day](https://raw.githubusercontent.com/mrdbourke/tensorflow-deep-learning/main/images/10-bitcoin-price-window-for-one-month.png)\n",
        "*Example of Bitcoin prices windowed for 30 days to predict a horizon of 1.*\n",
        "\n",
        "> 🔑 **Note:** Recall from before, the window size (how many timesteps to use to fuel a forecast) and the horizon (how many timesteps to predict into the future) are **hyperparameters**. This means you can tune them to try and find values will result in better performance.\n",
        "\n",
        "We'll start our second modelling experiment by preparing datasets using the functions we created earlier."
      ]
    },
    {
      "cell_type": "code",
      "execution_count": 37,
      "metadata": {
        "id": "Vz0eMi7F4wpn"
      },
      "outputs": [],
      "source": [
        "HORIZON = 1 # predict one step at a time\n",
        "WINDOW_SIZE = 30 # use 30 timesteps in the past"
      ]
    },
    {
      "cell_type": "code",
      "execution_count": 38,
      "metadata": {
        "colab": {
          "base_uri": "https://localhost:8080/"
        },
        "id": "1HlYaAxr6UoC",
        "outputId": "7fdc8064-6fe8-4739-919d-dc0c06de8666"
      },
      "outputs": [
        {
          "data": {
            "text/plain": [
              "(3368, 3368)"
            ]
          },
          "execution_count": 38,
          "metadata": {},
          "output_type": "execute_result"
        }
      ],
      "source": [
        "# Make windowed data with appropriate horizon and window sizes\n",
        "full_windows, full_labels = make_windows(prices, window_size=WINDOW_SIZE, horizon=HORIZON)\n",
        "len(full_windows), len(full_labels)"
      ]
    },
    {
      "cell_type": "code",
      "execution_count": 39,
      "metadata": {
        "colab": {
          "base_uri": "https://localhost:8080/"
        },
        "id": "jWxYZtOuelzO",
        "outputId": "14a862eb-c90e-4905-fbae-640d890059b7"
      },
      "outputs": [
        {
          "data": {
            "text/plain": [
              "(2694, 674, 2694, 674)"
            ]
          },
          "execution_count": 39,
          "metadata": {},
          "output_type": "execute_result"
        }
      ],
      "source": [
        "# Make train and testing windows\n",
        "train_windows, test_windows, train_labels, test_labels = make_train_test_splits(windows=full_windows, labels=full_labels)\n",
        "len(train_windows), len(test_windows), len(train_labels), len(test_labels)"
      ]
    },
    {
      "cell_type": "markdown",
      "metadata": {
        "id": "2xikvf8N0_dU"
      },
      "source": [
        "Data prepared!\n",
        "\n",
        "Now let's construct `model_2`, a model with the same architecture as `model_1` as well as the same training routine."
      ]
    },
    {
      "cell_type": "code",
      "execution_count": 40,
      "metadata": {
        "colab": {
          "base_uri": "https://localhost:8080/"
        },
        "id": "b_oz5aJE6UwN",
        "outputId": "e9f156de-6b38-44b4-e319-0d5d1be0ffa4"
      },
      "outputs": [
        {
          "name": "stdout",
          "output_type": "stream",
          "text": [
            "INFO:tensorflow:Assets written to: model_experiments/model_2_dense/assets\n"
          ]
        },
        {
          "name": "stderr",
          "output_type": "stream",
          "text": [
            "INFO:tensorflow:Assets written to: model_experiments/model_2_dense/assets\n"
          ]
        },
        {
          "name": "stdout",
          "output_type": "stream",
          "text": [
            "INFO:tensorflow:Assets written to: model_experiments/model_2_dense/assets\n"
          ]
        },
        {
          "name": "stderr",
          "output_type": "stream",
          "text": [
            "INFO:tensorflow:Assets written to: model_experiments/model_2_dense/assets\n"
          ]
        },
        {
          "name": "stdout",
          "output_type": "stream",
          "text": [
            "INFO:tensorflow:Assets written to: model_experiments/model_2_dense/assets\n"
          ]
        },
        {
          "name": "stderr",
          "output_type": "stream",
          "text": [
            "INFO:tensorflow:Assets written to: model_experiments/model_2_dense/assets\n"
          ]
        },
        {
          "name": "stdout",
          "output_type": "stream",
          "text": [
            "INFO:tensorflow:Assets written to: model_experiments/model_2_dense/assets\n"
          ]
        },
        {
          "name": "stderr",
          "output_type": "stream",
          "text": [
            "INFO:tensorflow:Assets written to: model_experiments/model_2_dense/assets\n"
          ]
        },
        {
          "name": "stdout",
          "output_type": "stream",
          "text": [
            "INFO:tensorflow:Assets written to: model_experiments/model_2_dense/assets\n"
          ]
        },
        {
          "name": "stderr",
          "output_type": "stream",
          "text": [
            "INFO:tensorflow:Assets written to: model_experiments/model_2_dense/assets\n"
          ]
        },
        {
          "name": "stdout",
          "output_type": "stream",
          "text": [
            "INFO:tensorflow:Assets written to: model_experiments/model_2_dense/assets\n"
          ]
        },
        {
          "name": "stderr",
          "output_type": "stream",
          "text": [
            "INFO:tensorflow:Assets written to: model_experiments/model_2_dense/assets\n"
          ]
        },
        {
          "data": {
            "text/plain": [
              "<keras.src.callbacks.History at 0x14bdb4750>"
            ]
          },
          "execution_count": 40,
          "metadata": {},
          "output_type": "execute_result"
        }
      ],
      "source": [
        "tf.random.set_seed(42)\n",
        "\n",
        "# Create model (same model as model 1 but data input will be different)\n",
        "model_2 = tf.keras.Sequential([\n",
        "  layers.Dense(128, activation=\"relu\"),\n",
        "  layers.Dense(HORIZON) # need to predict horizon number of steps into the future\n",
        "], name=\"model_2_dense\")\n",
        "\n",
        "model_2.compile(loss=\"mae\",\n",
        "                optimizer=tf.keras.optimizers.Adam())\n",
        "\n",
        "model_2.fit(train_windows,\n",
        "            train_labels,\n",
        "            epochs=epochs,\n",
        "            batch_size=128,\n",
        "            verbose=0,\n",
        "            validation_data=(test_windows, test_labels),\n",
        "            callbacks=[create_model_checkpoint(model_name=model_2.name)])"
      ]
    },
    {
      "cell_type": "markdown",
      "metadata": {
        "id": "0oYd2nt51Ppj"
      },
      "source": [
        "Once again, training goes nice and fast.\n",
        "\n",
        "Let's evaluate our model's performance."
      ]
    },
    {
      "cell_type": "code",
      "execution_count": 41,
      "metadata": {
        "colab": {
          "base_uri": "https://localhost:8080/"
        },
        "id": "W42Fa-aO8rhg",
        "outputId": "06a8f364-fc40-4216-aa7f-913c2689e589"
      },
      "outputs": [
        {
          "name": "stdout",
          "output_type": "stream",
          "text": [
            "22/22 [==============================] - 0s 887us/step - loss: 2045.9629\n"
          ]
        },
        {
          "data": {
            "text/plain": [
              "2045.962890625"
            ]
          },
          "execution_count": 41,
          "metadata": {},
          "output_type": "execute_result"
        }
      ],
      "source": [
        "# Evaluate model 2 preds\n",
        "model_2.evaluate(test_windows, test_labels)"
      ]
    },
    {
      "cell_type": "markdown",
      "metadata": {
        "id": "W1P2DRrA1VlP"
      },
      "source": [
        "Hmmm... is that the best it did?\n",
        "\n",
        "How about we try loading in the best performing `model_2` which was saved to file thanks to our `ModelCheckpoint` callback."
      ]
    },
    {
      "cell_type": "code",
      "execution_count": 42,
      "metadata": {
        "colab": {
          "base_uri": "https://localhost:8080/"
        },
        "id": "c_hG89F5YV4i",
        "outputId": "027e0c90-f19f-4478-f633-1a541ca73e39"
      },
      "outputs": [
        {
          "name": "stdout",
          "output_type": "stream",
          "text": [
            "22/22 [==============================] - 0s 910us/step - loss: 978.9287\n"
          ]
        },
        {
          "data": {
            "text/plain": [
              "978.9287109375"
            ]
          },
          "execution_count": 42,
          "metadata": {},
          "output_type": "execute_result"
        }
      ],
      "source": [
        "# Load in best performing model\n",
        "model_2 = tf.keras.models.load_model(\"model_experiments/model_2_dense/\")\n",
        "model_2.evaluate(test_windows, test_labels)"
      ]
    },
    {
      "cell_type": "markdown",
      "metadata": {
        "id": "jGh8gRhU1kaj"
      },
      "source": [
        "Excellent! Loading back in the best performing model see's a performance boost.\n",
        "\n",
        "But let's not stop there, let's make some predictions with `model_2` and then evaluate them just as we did before."
      ]
    },
    {
      "cell_type": "code",
      "execution_count": 43,
      "metadata": {
        "id": "TPfvPgkUknY5"
      },
      "outputs": [
        {
          "name": "stdout",
          "output_type": "stream",
          "text": [
            "22/22 [==============================] - 0s 929us/step\n"
          ]
        }
      ],
      "source": [
        "# Get forecast predictions\n",
        "model_2_preds = make_preds(model_2,\n",
        "                           input_data=test_windows)"
      ]
    },
    {
      "cell_type": "code",
      "execution_count": 44,
      "metadata": {
        "colab": {
          "base_uri": "https://localhost:8080/"
        },
        "id": "dy7XZx7FllHX",
        "outputId": "f08daef8-841a-4c58-c8a6-da36b98ff47a"
      },
      "outputs": [
        {
          "data": {
            "text/plain": [
              "{'mae': 978.9288, 'mse': 2066714.4, 'rmse': 1437.6072, 'mape': 3.614725}"
            ]
          },
          "execution_count": 44,
          "metadata": {},
          "output_type": "execute_result"
        }
      ],
      "source": [
        "# Evaluate results for model 2 predictions\n",
        "model_2_results = evaluate_preds(y_true=tf.squeeze(test_labels), # remove 1 dimension of test labels\n",
        "                                 y_pred=model_2_preds)\n",
        "model_2_results"
      ]
    },
    {
      "cell_type": "markdown",
      "metadata": {
        "id": "a8djCXli1wGy"
      },
      "source": [
        "It looks like `model_2` performs worse than the naïve model as well as `model_1`!\n",
        "\n",
        "Does this mean a smaller window size is better? (I'll leave this as a challenge you can experiment with)\n",
        "\n",
        "How do the predictions look?"
      ]
    },
    {
      "cell_type": "code",
      "execution_count": 45,
      "metadata": {
        "colab": {
          "base_uri": "https://localhost:8080/",
          "height": 442
        },
        "id": "jHh_qtXflx7Z",
        "outputId": "b5329370-f1c8-4980-b612-ed904880c16f"
      },
      "outputs": [
        {
          "data": {
            "image/png": "[encoded data removed]",
            "text/plain": [
              "<Figure size 1000x700 with 1 Axes>"
            ]
          },
          "metadata": {},
          "output_type": "display_data"
        }
      ],
      "source": [
        "offset = 300\n",
        "plt.figure(figsize=(10, 7))\n",
        "# Account for the test_window offset\n",
        "plot_time_series(timesteps=X_test[-len(test_windows):], values=test_labels[:, 0], start=offset, label=\"test_data\")\n",
        "plot_time_series(timesteps=X_test[-len(test_windows):], values=model_2_preds, start=offset, format=\"-\", label=\"model_2_preds\") "
      ]
    },
    {
      "cell_type": "markdown",
      "metadata": {
        "id": "Sls7mUaq9lMl"
      },
      "source": [
        "## Model 3: Dense (window = 30, horizon = 7)\n",
        "\n",
        "Let's try and predict 7 days ahead given the previous 30 days.\n",
        "\n",
        "First, we'll update the `HORIZON` and `WINDOW_SIZE` variables and create windowed data.\n"
      ]
    },
    {
      "cell_type": "code",
      "execution_count": 46,
      "metadata": {
        "colab": {
          "base_uri": "https://localhost:8080/"
        },
        "id": "8PtmayTM98Mb",
        "outputId": "3bbaec11-0558-4181-d906-258ece66a3a3"
      },
      "outputs": [
        {
          "data": {
            "text/plain": [
              "(3362, 3362)"
            ]
          },
          "execution_count": 46,
          "metadata": {},
          "output_type": "execute_result"
        }
      ],
      "source": [
        "HORIZON = 7\n",
        "WINDOW_SIZE = 30\n",
        "\n",
        "full_windows, full_labels = make_windows(prices, window_size=WINDOW_SIZE, horizon=HORIZON)\n",
        "len(full_windows), len(full_labels)"
      ]
    },
    {
      "cell_type": "markdown",
      "metadata": {
        "id": "c7lhMfxWZK83"
      },
      "source": [
        "And we'll split the full dataset windows into training and test sets."
      ]
    },
    {
      "cell_type": "code",
      "execution_count": 47,
      "metadata": {
        "colab": {
          "base_uri": "https://localhost:8080/"
        },
        "id": "E8xgoKunZ__e",
        "outputId": "f6588b6d-2d90-44db-8062-ca1ffe03bfc8"
      },
      "outputs": [
        {
          "data": {
            "text/plain": [
              "(2689, 673, 2689, 673)"
            ]
          },
          "execution_count": 47,
          "metadata": {},
          "output_type": "execute_result"
        }
      ],
      "source": [
        "train_windows, test_windows, train_labels, test_labels = make_train_test_splits(windows=full_windows, labels=full_labels, test_split=0.2)\n",
        "len(train_windows), len(test_windows), len(train_labels), len(test_labels)"
      ]
    },
    {
      "cell_type": "markdown",
      "metadata": {
        "id": "dlwu4mQmZvSg"
      },
      "source": [
        "Now let's build, compile, fit and evaluate a model."
      ]
    },
    {
      "cell_type": "code",
      "execution_count": 48,
      "metadata": {
        "colab": {
          "base_uri": "https://localhost:8080/"
        },
        "id": "hxHh7xS2-CoH",
        "outputId": "587403ef-8c0d-4c6d-928a-a6dddecc1794"
      },
      "outputs": [
        {
          "name": "stdout",
          "output_type": "stream",
          "text": [
            "INFO:tensorflow:Assets written to: model_experiments/model_3_dense/assets\n"
          ]
        },
        {
          "name": "stderr",
          "output_type": "stream",
          "text": [
            "INFO:tensorflow:Assets written to: model_experiments/model_3_dense/assets\n"
          ]
        },
        {
          "name": "stdout",
          "output_type": "stream",
          "text": [
            "INFO:tensorflow:Assets written to: model_experiments/model_3_dense/assets\n"
          ]
        },
        {
          "name": "stderr",
          "output_type": "stream",
          "text": [
            "INFO:tensorflow:Assets written to: model_experiments/model_3_dense/assets\n"
          ]
        },
        {
          "name": "stdout",
          "output_type": "stream",
          "text": [
            "INFO:tensorflow:Assets written to: model_experiments/model_3_dense/assets\n"
          ]
        },
        {
          "name": "stderr",
          "output_type": "stream",
          "text": [
            "INFO:tensorflow:Assets written to: model_experiments/model_3_dense/assets\n"
          ]
        },
        {
          "name": "stdout",
          "output_type": "stream",
          "text": [
            "INFO:tensorflow:Assets written to: model_experiments/model_3_dense/assets\n"
          ]
        },
        {
          "name": "stderr",
          "output_type": "stream",
          "text": [
            "INFO:tensorflow:Assets written to: model_experiments/model_3_dense/assets\n"
          ]
        },
        {
          "name": "stdout",
          "output_type": "stream",
          "text": [
            "INFO:tensorflow:Assets written to: model_experiments/model_3_dense/assets\n"
          ]
        },
        {
          "name": "stderr",
          "output_type": "stream",
          "text": [
            "INFO:tensorflow:Assets written to: model_experiments/model_3_dense/assets\n"
          ]
        },
        {
          "name": "stdout",
          "output_type": "stream",
          "text": [
            "INFO:tensorflow:Assets written to: model_experiments/model_3_dense/assets\n"
          ]
        },
        {
          "name": "stderr",
          "output_type": "stream",
          "text": [
            "INFO:tensorflow:Assets written to: model_experiments/model_3_dense/assets\n"
          ]
        },
        {
          "name": "stdout",
          "output_type": "stream",
          "text": [
            "INFO:tensorflow:Assets written to: model_experiments/model_3_dense/assets\n"
          ]
        },
        {
          "name": "stderr",
          "output_type": "stream",
          "text": [
            "INFO:tensorflow:Assets written to: model_experiments/model_3_dense/assets\n"
          ]
        },
        {
          "name": "stdout",
          "output_type": "stream",
          "text": [
            "INFO:tensorflow:Assets written to: model_experiments/model_3_dense/assets\n"
          ]
        },
        {
          "name": "stderr",
          "output_type": "stream",
          "text": [
            "INFO:tensorflow:Assets written to: model_experiments/model_3_dense/assets\n"
          ]
        },
        {
          "name": "stdout",
          "output_type": "stream",
          "text": [
            "INFO:tensorflow:Assets written to: model_experiments/model_3_dense/assets\n"
          ]
        },
        {
          "name": "stderr",
          "output_type": "stream",
          "text": [
            "INFO:tensorflow:Assets written to: model_experiments/model_3_dense/assets\n"
          ]
        },
        {
          "name": "stdout",
          "output_type": "stream",
          "text": [
            "INFO:tensorflow:Assets written to: model_experiments/model_3_dense/assets\n"
          ]
        },
        {
          "name": "stderr",
          "output_type": "stream",
          "text": [
            "INFO:tensorflow:Assets written to: model_experiments/model_3_dense/assets\n"
          ]
        },
        {
          "name": "stdout",
          "output_type": "stream",
          "text": [
            "INFO:tensorflow:Assets written to: model_experiments/model_3_dense/assets\n"
          ]
        },
        {
          "name": "stderr",
          "output_type": "stream",
          "text": [
            "INFO:tensorflow:Assets written to: model_experiments/model_3_dense/assets\n"
          ]
        },
        {
          "name": "stdout",
          "output_type": "stream",
          "text": [
            "INFO:tensorflow:Assets written to: model_experiments/model_3_dense/assets\n"
          ]
        },
        {
          "name": "stderr",
          "output_type": "stream",
          "text": [
            "INFO:tensorflow:Assets written to: model_experiments/model_3_dense/assets\n"
          ]
        },
        {
          "name": "stdout",
          "output_type": "stream",
          "text": [
            "INFO:tensorflow:Assets written to: model_experiments/model_3_dense/assets\n"
          ]
        },
        {
          "name": "stderr",
          "output_type": "stream",
          "text": [
            "INFO:tensorflow:Assets written to: model_experiments/model_3_dense/assets\n"
          ]
        },
        {
          "name": "stdout",
          "output_type": "stream",
          "text": [
            "INFO:tensorflow:Assets written to: model_experiments/model_3_dense/assets\n"
          ]
        },
        {
          "name": "stderr",
          "output_type": "stream",
          "text": [
            "INFO:tensorflow:Assets written to: model_experiments/model_3_dense/assets\n"
          ]
        },
        {
          "name": "stdout",
          "output_type": "stream",
          "text": [
            "INFO:tensorflow:Assets written to: model_experiments/model_3_dense/assets\n"
          ]
        },
        {
          "name": "stderr",
          "output_type": "stream",
          "text": [
            "INFO:tensorflow:Assets written to: model_experiments/model_3_dense/assets\n"
          ]
        },
        {
          "name": "stdout",
          "output_type": "stream",
          "text": [
            "INFO:tensorflow:Assets written to: model_experiments/model_3_dense/assets\n"
          ]
        },
        {
          "name": "stderr",
          "output_type": "stream",
          "text": [
            "INFO:tensorflow:Assets written to: model_experiments/model_3_dense/assets\n"
          ]
        },
        {
          "name": "stdout",
          "output_type": "stream",
          "text": [
            "INFO:tensorflow:Assets written to: model_experiments/model_3_dense/assets\n"
          ]
        },
        {
          "name": "stderr",
          "output_type": "stream",
          "text": [
            "INFO:tensorflow:Assets written to: model_experiments/model_3_dense/assets\n"
          ]
        },
        {
          "name": "stdout",
          "output_type": "stream",
          "text": [
            "INFO:tensorflow:Assets written to: model_experiments/model_3_dense/assets\n"
          ]
        },
        {
          "name": "stderr",
          "output_type": "stream",
          "text": [
            "INFO:tensorflow:Assets written to: model_experiments/model_3_dense/assets\n"
          ]
        },
        {
          "data": {
            "text/plain": [
              "<keras.src.callbacks.History at 0x14c0b1190>"
            ]
          },
          "execution_count": 48,
          "metadata": {},
          "output_type": "execute_result"
        }
      ],
      "source": [
        "tf.random.set_seed(42)\n",
        "\n",
        "# Create model (same as model_1 except with different data input size)\n",
        "model_3 = tf.keras.Sequential([\n",
        "  layers.Dense(128, activation=\"relu\"),\n",
        "  layers.Dense(HORIZON)\n",
        "], name=\"model_3_dense\")\n",
        "\n",
        "model_3.compile(loss=\"mae\",\n",
        "                optimizer=tf.keras.optimizers.Adam())\n",
        "\n",
        "model_3.fit(train_windows,\n",
        "            train_labels,\n",
        "            batch_size=128,\n",
        "            epochs=100,\n",
        "            verbose=0,\n",
        "            validation_data=(test_windows, test_labels),\n",
        "            callbacks=[create_model_checkpoint(model_name=model_3.name)])"
      ]
    },
    {
      "cell_type": "code",
      "execution_count": 49,
      "metadata": {
        "colab": {
          "base_uri": "https://localhost:8080/"
        },
        "id": "Pd-8pbfh-DDI",
        "outputId": "ad359823-115b-4f42-f5da-bc5c2116951f"
      },
      "outputs": [
        {
          "name": "stdout",
          "output_type": "stream",
          "text": [
            "22/22 [==============================] - 0s 2ms/step - loss: 3065.3054\n"
          ]
        },
        {
          "data": {
            "text/plain": [
              "3065.305419921875"
            ]
          },
          "execution_count": 49,
          "metadata": {},
          "output_type": "execute_result"
        }
      ],
      "source": [
        "# How did our model with a larger window size and horizon go?\n",
        "model_3.evaluate(test_windows, test_labels)"
      ]
    },
    {
      "cell_type": "markdown",
      "metadata": {
        "id": "BXqmKsQhS2qB"
      },
      "source": [
        "To compare apples to apples (best performing model to best performing model), we've got to load in the best version of `model_3`. "
      ]
    },
    {
      "cell_type": "code",
      "execution_count": 50,
      "metadata": {
        "colab": {
          "base_uri": "https://localhost:8080/"
        },
        "id": "XsltcXHYSrkX",
        "outputId": "ca492549-6b42-4f67-c84b-37a77b742732"
      },
      "outputs": [
        {
          "name": "stdout",
          "output_type": "stream",
          "text": [
            "22/22 [==============================] - 0s 1ms/step - loss: 1115.1818\n"
          ]
        },
        {
          "data": {
            "text/plain": [
              "1115.1817626953125"
            ]
          },
          "execution_count": 50,
          "metadata": {},
          "output_type": "execute_result"
        }
      ],
      "source": [
        "# Load in best version of model_3 and evaluate\n",
        "model_3 = tf.keras.models.load_model(\"model_experiments/model_3_dense/\")\n",
        "model_3.evaluate(test_windows, test_labels)"
      ]
    },
    {
      "cell_type": "markdown",
      "metadata": {
        "id": "q--5dtgITJbc"
      },
      "source": [
        "In this case, the error will be higher because we're predicting 7 steps at a time. \n",
        "\n",
        "This makes sense though because the further you try and predict, the larger your error will be (think of trying to predict the weather 7 days in advance).\n",
        "\n",
        "Let's make predictions with our model using the `make_preds()` function and evaluate them using the `evaluate_preds()` function."
      ]
    },
    {
      "cell_type": "code",
      "execution_count": 51,
      "metadata": {
        "colab": {
          "base_uri": "https://localhost:8080/"
        },
        "id": "uKBNVovRpvhd",
        "outputId": "4adc4cf3-362d-468b-9664-f63c8bbfc493"
      },
      "outputs": [
        {
          "name": "stdout",
          "output_type": "stream",
          "text": [
            "22/22 [==============================] - 0s 897us/step\n"
          ]
        },
        {
          "data": {
            "text/plain": [
              "<tf.Tensor: shape=(5, 7), dtype=float32, numpy=\n",
              "array([[38130.703, 39256.547, 38985.5  , 37687.555, 37524.508, 37674.223,\n",
              "        37339.93 ],\n",
              "       [38800.13 , 39326.35 , 38641.8  , 39033.754, 38895.445, 39233.41 ,\n",
              "        38760.93 ],\n",
              "       [37683.4  , 38181.625, 38113.11 , 38047.72 , 38277.516, 39270.195,\n",
              "        39004.17 ],\n",
              "       [40113.47 , 42044.367, 41664.855, 40569.496, 40687.086, 41614.836,\n",
              "        41119.24 ],\n",
              "       [43527.152, 43794.613, 44243.793, 42709.863, 42435.89 , 43188.85 ,\n",
              "        44075.63 ]], dtype=float32)>"
            ]
          },
          "execution_count": 51,
          "metadata": {},
          "output_type": "execute_result"
        }
      ],
      "source": [
        "# The predictions are going to be 7 steps at a time (this is the HORIZON size)\n",
        "model_3_preds = make_preds(model_3,\n",
        "                           input_data=test_windows)\n",
        "model_3_preds[:5]"
      ]
    },
    {
      "cell_type": "code",
      "execution_count": 52,
      "metadata": {
        "colab": {
          "base_uri": "https://localhost:8080/"
        },
        "id": "P9VQqenW-5to",
        "outputId": "d31e64e1-3827-4e87-e88c-24404164890c"
      },
      "outputs": [
        {
          "data": {
            "text/plain": [
              "{'mae': array([3767.2678 , 2836.033  , 3353.2278 , 2268.3276 , 3519.476  ,\n",
              "        4304.6167 , 3894.2761 , 2439.0938 , 1543.3164 ,  619.71094,\n",
              "        1469.212  , 1089.596  , 1816.1467 , 1207.5212 , 1661.5547 ,\n",
              "        2472.2651 , 3050.7136 , 3126.799  , 2657.1802 , 1319.1133 ,\n",
              "        1527.6178 , 1759.8728 , 1357.8197 , 2088.2683 , 2990.509  ,\n",
              "        2867.9402 , 2935.3286 , 2062.7278 , 2190.7969 , 2280.933  ,\n",
              "        1190.0792 ,  789.08484,  842.9219 , 1856.9102 , 1845.4453 ,\n",
              "        2210.3147 , 2224.707  , 2883.996  , 3715.7952 , 4127.868  ,\n",
              "        3201.0005 , 2953.0374 , 2173.013  , 2385.3281 , 2288.5925 ,\n",
              "         812.34656,  746.66125,  824.43805,  696.851  ,  762.8192 ,\n",
              "         771.7751 , 1029.1869 ,  698.0446 , 1206.0363 , 1880.5189 ,\n",
              "        1529.9542 ,  987.9872 ,  924.61774,  909.3281 , 1168.3253 ,\n",
              "         955.9169 , 1077.346  , 1320.0156 , 1272.7053 , 1090.2834 ,\n",
              "        1954.7897 , 2945.355  , 3729.4944 , 5263.9844 , 5603.058  ,\n",
              "        5355.0713 , 5552.165  , 5050.9067 , 2436.4844 , 1644.0636 ,\n",
              "         678.5304 , 1012.86163, 1121.5499 ,  928.1722 ,  613.96844,\n",
              "         630.97797,  595.37054,  660.5508 ,  320.39145,  498.7112 ,\n",
              "         520.4548 ,  947.5424 ,  898.0622 , 1047.7537 , 1333.6328 ,\n",
              "        1166.9408 , 1351.7257 , 1759.9297 , 1361.5402 ,  771.6071 ,\n",
              "        1026.5345 ,  786.2104 ,  582.93945,  724.0519 , 1014.39954,\n",
              "        1496.8555 , 2946.2988 , 4380.361  , 4945.5166 , 5720.238  ,\n",
              "        6239.695  , 6590.761  , 6573.638  , 4376.4624 , 2772.4783 ,\n",
              "        2329.4001 ,  860.2282 ,  706.6261 ,  958.63   ,  887.4933 ,\n",
              "         969.95087,  554.8228 ,  739.37665,  546.0756 ,  814.16907,\n",
              "        1148.6947 ,  826.5192 , 1341.4688 ,  965.64594,  911.3839 ,\n",
              "         882.60156, 1132.4922 , 1575.1127 , 1624.6842 , 1389.5773 ,\n",
              "        1240.0209 , 1081.0898 ,  651.03876,  847.41376, 1081.1345 ,\n",
              "         797.09796,  605.1122 , 1382.192  , 1765.036  , 1609.9877 ,\n",
              "        1779.3533 , 1633.9603 , 1864.7205 , 1025.3744 ,  577.8929 ,\n",
              "         569.24524,  862.20953,  901.1021 ,  814.8903 , 1070.9294 ,\n",
              "        1369.7009 , 1585.6964 ,  961.28265,  413.6303 ,  641.9107 ,\n",
              "         639.94086,  692.03876,  446.1582 ,  375.3979 ,  501.25418,\n",
              "         747.75726,  642.02344,  590.2796 ,  815.58344,  596.3273 ,\n",
              "         617.08704,  439.8273 ,  458.81027,  995.9774 , 1390.5829 ,\n",
              "        1674.8826 , 2074.5989 , 2133.0134 , 1982.8147 , 2188.453  ,\n",
              "         923.65906,  796.2296 ,  840.0773 ,  875.0488 ,  882.7065 ,\n",
              "        1075.8329 , 1337.1111 ,  749.40594,  176.71484,  244.29492,\n",
              "         239.72545,  307.08566,  496.9891 ,  521.0296 ,  751.12976,\n",
              "         841.7768 , 1201.9685 , 1511.8301 , 1494.4662 , 1885.1456 ,\n",
              "        1785.7891 ,  759.6657 ,  655.74274, 1263.3326 , 2006.0045 ,\n",
              "        1373.4034 , 1173.748  ,  731.5511 ,  837.81305,  957.1529 ,\n",
              "         590.1702 ,  626.3636 ,  293.28433,  692.94366,  319.74692,\n",
              "         238.77205,  250.58566,  341.7648 ,  393.36942,  463.89117,\n",
              "         676.8175 ,  591.2051 ,  389.8538 ,  384.11188,  453.9389 ,\n",
              "         461.0363 ,  628.4068 ,  658.4297 ,  677.796  ,  428.57645,\n",
              "         285.82172,  199.2076 ,  266.45285,  172.20842,  227.12584,\n",
              "         219.2991 ,  171.4961 ,  301.87445,  230.09682,  212.04631,\n",
              "         291.07672,  402.726  ,  626.0954 ,  746.4015 , 1014.0212 ,\n",
              "         935.94977, 1126.1947 ,  794.13   ,  170.91881,  294.4587 ,\n",
              "         258.33316,  421.58344,  375.44223,  397.30637,  602.25195,\n",
              "        1297.7917 , 1690.3625 , 2101.6501 , 2948.685  , 3513.133  ,\n",
              "        3900.8997 , 2995.4888 ,  855.3175 ,  609.87274,  408.3019 ,\n",
              "         353.5611 ,  177.94978,  362.80008,  322.30844,  261.24414,\n",
              "         210.25711,  533.7069 ,  395.03348,  342.94156,  444.71176,\n",
              "         386.2563 ,  322.7154 ,  352.30832,  467.9686 ,  438.74527,\n",
              "         537.5243 ,  609.8228 ,  657.5371 ,  377.92926,  574.4036 ,\n",
              "         388.0646 ,  489.62918,  334.33707,  238.06223,  212.30273,\n",
              "         289.98883,  284.4654 ,  300.70312,  368.99918,  386.46484,\n",
              "         474.8365 ,  601.7718 ,  862.7383 ,  798.7706 ,  409.69113,\n",
              "         199.2634 ,  129.09738,  256.27817,  145.1995 ,  142.85295,\n",
              "         182.66267,  152.52539,  167.9548 ,  237.31808,  245.06082,\n",
              "         204.85715,  159.41322,  150.00195,  165.07924,  244.33119,\n",
              "         289.1702 ,  254.6716 ,  377.74442,  423.77344,  644.666  ,\n",
              "        1001.9852 , 1590.4366 , 2076.9768 , 2573.9343 , 2938.5354 ,\n",
              "        2872.2554 , 2486.2734 , 1979.582  , 1151.0143 , 1027.2229 ,\n",
              "        1086.8108 , 1135.6844 , 1371.9236 , 1568.8943 ,  655.6247 ,\n",
              "         140.66072,  288.78543,  310.56586,  292.25278,  342.66992,\n",
              "         263.2422 ,  276.86273,  342.16937,  344.0198 ,  319.75586,\n",
              "         279.54465,  268.55524,  764.19977,  946.7564 , 1202.0419 ,\n",
              "        1211.3792 , 1131.2877 , 1233.409  , 1339.069  ,  825.6069 ,\n",
              "        1184.2296 , 1353.6437 , 1738.3038 , 2191.5461 , 2197.2644 ,\n",
              "        1072.2502 ,  888.5575 ,  452.17633,  470.05386,  795.2997 ,\n",
              "         970.97125, 1126.7179 , 1141.572  , 1066.6833 ,  390.21652,\n",
              "         516.3962 ,  548.5458 ,  651.47406,  733.7056 ,  994.69366,\n",
              "        1513.3998 , 1077.6033 ,  892.3876 , 1067.284  , 1258.1534 ,\n",
              "        1479.0488 , 1658.9073 , 2088.0015 , 3391.387  , 4347.2935 ,\n",
              "        4317.562  , 3543.8337 , 2793.5718 , 2984.6929 , 3021.9019 ,\n",
              "        1787.069  , 1312.0056 ,  412.44614,  569.0999 , 1174.8231 ,\n",
              "         522.7829 ,  777.6716 ,  458.6755 ,  600.9874 ,  515.6507 ,\n",
              "         407.1755 ,  832.8097 ,  431.77094,  496.012  ,  307.52985,\n",
              "         344.31668,  232.19197,  516.31085,  762.4531 ,  670.4244 ,\n",
              "        1155.8998 , 1336.9149 , 1525.9481 , 1922.1534 ,  962.4149 ,\n",
              "         391.94672,  487.32812,  723.10297, 1248.6233 , 1486.3234 ,\n",
              "        1779.2891 , 1982.7552 , 2361.3208 , 1776.6554 , 1215.067  ,\n",
              "         549.72015,  811.90656, 1084.426  , 1306.2268 , 1096.7146 ,\n",
              "         782.9545 ,  501.274  ,  390.66602,  438.99887,  709.9247 ,\n",
              "         523.5335 ,  696.0625 ,  843.38086, 1250.0374 , 1766.6272 ,\n",
              "        1840.7604 , 1663.6049 ,  946.26086,  609.22015,  671.25696,\n",
              "         164.65932,  290.84262,  326.9135 ,  534.2397 ,  322.94894,\n",
              "         444.36188,  495.35883,  498.95425,  495.88672,  393.33566,\n",
              "         456.04855,  608.7472 ,  777.18976,  655.2475 ,  815.4833 ,\n",
              "         941.59235,  576.30133,  296.30777,  661.68134,  737.7589 ,\n",
              "         479.86774,  536.1903 ,  472.2059 ,  707.7843 ,  842.59344,\n",
              "         578.5101 ,  658.6044 ,  710.99774,  718.13367,  628.4054 ,\n",
              "         573.28125,  294.69196,  653.05273,  879.11554, 1549.4841 ,\n",
              "        2412.9392 , 2356.2942 , 2771.3406 , 3319.459  , 3326.9421 ,\n",
              "        2752.183  , 1370.408  ,  902.80414,  280.0106 ,  279.6635 ,\n",
              "         246.89285,  271.05246,  356.99832,  133.5985 ,  344.62527,\n",
              "         389.21457,  447.9297 ,  286.20786,  515.7938 ,  498.5307 ,\n",
              "         474.6303 ,  438.2762 ,  251.02791,  351.15067,  377.9082 ,\n",
              "         370.47238,  463.87836,  713.8331 , 1174.668  ,  959.339  ,\n",
              "        1046.322  ,  673.0904 ,  612.85046,  335.0198 ,  344.01367,\n",
              "         492.98242,  571.63   ,  504.76285,  743.5918 ,  229.1476 ,\n",
              "         269.32086,  129.10184,  236.7006 ,  219.4668 ,  245.09041,\n",
              "         182.95424,  325.8061 ,  409.83258,  209.80553,  268.01367,\n",
              "         247.74246,  329.18805,  418.6529 ,  414.99664,  111.41741,\n",
              "         287.91043,  594.71765, 1123.4043 , 1476.7539 , 1956.9631 ,\n",
              "        2393.2266 , 2749.887  , 2786.7    , 1581.1066 ,  547.96625,\n",
              "         289.66742,  349.84543,  208.97266,  493.5784 ,  548.1546 ,\n",
              "         553.7355 ,  697.96906,  596.60156,  581.11945,  554.2472 ,\n",
              "        1031.007  , 1395.344  ,  755.24304,  319.9445 ,  414.75055,\n",
              "         285.1638 ,  203.38309,  295.96317,  385.1398 ,  493.12445,\n",
              "         700.30554,  855.43665,  825.4414 , 1153.8053 , 1069.5452 ,\n",
              "         801.9188 ,  414.85602,  348.36578,  278.00754,  222.4866 ,\n",
              "         361.38422,  456.12668,  829.2257 ,  565.60016,  410.0198 ,\n",
              "         550.5971 ,  650.93274,  850.6995 ,  943.3226 ,  939.1554 ,\n",
              "         705.995  ,  790.3189 ,  815.7296 ,  390.89926,  227.18498,\n",
              "         382.2857 ,  234.31445,  541.3457 ,  711.03125,  905.79156,\n",
              "        1133.2487 ,  921.9347 ,  784.7051 ,  628.2333 ,  919.0114 ,\n",
              "        1384.0391 , 1743.7815 , 2159.701  , 1992.3574 , 2402.4956 ,\n",
              "        3149.842  , 3651.1604 , 3492.3264 , 3680.7085 , 4014.16   ,\n",
              "        2409.785  , 1040.2623 ,  584.7232 ,  723.5089 ,  367.37387,\n",
              "         401.54633,  372.09653,  150.57812,  482.42355,  517.75836,\n",
              "         537.8393 ,  926.27625, 1091.7919 , 1318.0983 , 1426.8047 ,\n",
              "        1136.447  , 1317.8549 ,  725.1099 ,  693.5106 ,  825.03625,\n",
              "         640.5837 ,  580.43024,  623.44476,  618.5815 ,  376.47488,\n",
              "         330.20035,  905.9079 ,  610.24384,  561.44366, 1095.3828 ,\n",
              "         604.54913,  333.27066,  490.1116 ,  594.2321 ,  957.8583 ,\n",
              "        1461.1378 , 2469.1055 , 3020.2266 , 3530.534  , 4045.0837 ,\n",
              "        3727.683  , 3696.164  , 2420.1267 , 1017.9922 ,  840.02344,\n",
              "         954.7601 , 1608.1345 , 1925.784  , 2212.7834 ,  842.4286 ,\n",
              "         591.0318 ,  975.03406,  858.1105 ,  903.8382 ,  973.8354 ,\n",
              "        1311.048  , 1192.5256 , 1548.4108 ,  717.07196,  551.0826 ,\n",
              "         989.81415, 1266.4447 , 1145.9827 , 1010.00836, 1021.8075 ,\n",
              "         876.1836 , 1163.3275 ,  893.21985], dtype=float32),\n",
              " 'mse': array([1.89298300e+07, 1.22513860e+07, 1.75322920e+07, 6.48559550e+06,\n",
              "        1.56992880e+07, 2.03968840e+07, 1.77159180e+07, 6.82552500e+06,\n",
              "        2.69745075e+06, 8.33741938e+05, 3.30602675e+06, 2.49872400e+06,\n",
              "        4.55703550e+06, 1.91844312e+06, 4.41026050e+06, 9.23818900e+06,\n",
              "        1.00839810e+07, 1.04682420e+07, 8.01456700e+06, 2.48198000e+06,\n",
              "        2.97751975e+06, 4.55686100e+06, 2.61446575e+06, 6.98416100e+06,\n",
              "        1.15188720e+07, 1.02924690e+07, 9.64971300e+06, 5.02226450e+06,\n",
              "        5.71259700e+06, 5.49250000e+06, 1.74357775e+06, 8.26411375e+05,\n",
              "        9.75339312e+05, 4.68645050e+06, 6.32175250e+06, 8.61486400e+06,\n",
              "        7.31122350e+06, 1.00140990e+07, 1.68651380e+07, 1.91454720e+07,\n",
              "        1.31225040e+07, 1.04425190e+07, 6.53731850e+06, 6.84958500e+06,\n",
              "        5.44331550e+06, 1.13567238e+06, 6.55993562e+05, 8.27872438e+05,\n",
              "        7.24724312e+05, 7.36807500e+05, 7.21113438e+05, 1.36406562e+06,\n",
              "        7.48400625e+05, 1.79547688e+06, 4.22316550e+06, 3.01213225e+06,\n",
              "        1.27625975e+06, 1.73505075e+06, 1.11496950e+06, 1.81455425e+06,\n",
              "        1.12616862e+06, 1.30773475e+06, 2.17258225e+06, 1.95592625e+06,\n",
              "        1.61901038e+06, 4.50845250e+06, 1.40705740e+07, 1.95410180e+07,\n",
              "        3.36832840e+07, 3.97796200e+07, 3.60223560e+07, 3.42059080e+07,\n",
              "        2.66221240e+07, 6.61498550e+06, 3.48897125e+06, 5.77328562e+05,\n",
              "        1.51488162e+06, 1.59077188e+06, 1.11558488e+06, 6.82399188e+05,\n",
              "        7.09711188e+05, 4.94831312e+05, 6.48580875e+05, 1.30147867e+05,\n",
              "        4.86894219e+05, 4.89732312e+05, 1.02713606e+06, 1.37934888e+06,\n",
              "        2.08773512e+06, 2.52813800e+06, 2.05363200e+06, 2.73059175e+06,\n",
              "        3.62578575e+06, 2.60097625e+06, 1.08836025e+06, 1.29416062e+06,\n",
              "        6.82866875e+05, 5.15177312e+05, 7.78432875e+05, 1.30823338e+06,\n",
              "        3.04881775e+06, 1.58657690e+07, 3.09660060e+07, 3.36886280e+07,\n",
              "        4.07369960e+07, 4.74719440e+07, 4.88791960e+07, 4.61108040e+07,\n",
              "        2.13356260e+07, 9.26582100e+06, 5.81207450e+06, 1.29283412e+06,\n",
              "        6.67639438e+05, 1.36904725e+06, 1.08374575e+06, 1.34568438e+06,\n",
              "        5.03104781e+05, 7.26105062e+05, 4.57610500e+05, 1.02091938e+06,\n",
              "        1.67542362e+06, 8.38613312e+05, 1.98182800e+06, 1.30859662e+06,\n",
              "        1.20153925e+06, 1.15621112e+06, 1.77041438e+06, 3.35895600e+06,\n",
              "        3.07185175e+06, 2.38819150e+06, 2.18848650e+06, 1.53362275e+06,\n",
              "        5.32416062e+05, 1.40978225e+06, 1.64755388e+06, 9.83928062e+05,\n",
              "        6.63701375e+05, 2.84449375e+06, 4.24656300e+06, 3.78994950e+06,\n",
              "        3.85319325e+06, 3.13207275e+06, 3.59966275e+06, 1.22285675e+06,\n",
              "        4.64867438e+05, 6.29876562e+05, 1.11945100e+06, 1.26287412e+06,\n",
              "        9.77616500e+05, 1.30500488e+06, 2.19368075e+06, 2.75589525e+06,\n",
              "        1.16210925e+06, 2.97914625e+05, 5.10192406e+05, 4.46465344e+05,\n",
              "        5.74306250e+05, 3.53317156e+05, 1.94724078e+05, 4.11410219e+05,\n",
              "        6.76110812e+05, 6.48865438e+05, 4.45158938e+05, 7.35367812e+05,\n",
              "        5.13429844e+05, 4.58438406e+05, 2.48964047e+05, 3.85355406e+05,\n",
              "        2.33185725e+06, 3.50874575e+06, 4.19788400e+06, 5.66578500e+06,\n",
              "        5.36934850e+06, 4.65613350e+06, 4.89013200e+06, 1.14619700e+06,\n",
              "        1.24579062e+06, 1.22259262e+06, 1.23945412e+06, 1.16566762e+06,\n",
              "        1.36610388e+06, 1.85635562e+06, 6.67467500e+05, 4.69814883e+04,\n",
              "        9.45343672e+04, 8.00541953e+04, 2.50435500e+05, 3.99861906e+05,\n",
              "        3.69386719e+05, 8.65977000e+05, 1.17601100e+06, 1.93259288e+06,\n",
              "        2.79479375e+06, 3.37179800e+06, 4.41512150e+06, 3.74055875e+06,\n",
              "        1.13048075e+06, 4.77699031e+05, 1.67708988e+06, 4.10251950e+06,\n",
              "        2.14874250e+06, 1.69638488e+06, 9.35140125e+05, 9.92274500e+05,\n",
              "        1.03566850e+06, 5.54250188e+05, 5.54158625e+05, 1.27452930e+05,\n",
              "        6.54521000e+05, 1.80191172e+05, 1.11894227e+05, 7.83850078e+04,\n",
              "        1.52447391e+05, 2.25981000e+05, 3.86465500e+05, 7.42117688e+05,\n",
              "        4.41240000e+05, 2.63413188e+05, 2.39145766e+05, 2.76177375e+05,\n",
              "        3.29427219e+05, 4.59178656e+05, 5.29334250e+05, 5.16501844e+05,\n",
              "        2.40616156e+05, 1.08967062e+05, 6.04841797e+04, 1.02400070e+05,\n",
              "        4.57783555e+04, 7.44711719e+04, 6.07349023e+04, 5.33732461e+04,\n",
              "        1.20533516e+05, 7.92183203e+04, 9.15678281e+04, 1.27654320e+05,\n",
              "        4.29793156e+05, 6.73213500e+05, 8.56124688e+05, 1.27403075e+06,\n",
              "        1.12268712e+06, 1.33863088e+06, 7.16099500e+05, 5.33314961e+04,\n",
              "        1.02126523e+05, 1.01319000e+05, 2.06554422e+05, 1.81916891e+05,\n",
              "        2.09642203e+05, 5.83791000e+05, 3.85988725e+06, 4.84219200e+06,\n",
              "        7.36781600e+06, 1.20248970e+07, 1.45416980e+07, 1.59832800e+07,\n",
              "        9.29843900e+06, 9.43930688e+05, 4.99355219e+05, 2.26239594e+05,\n",
              "        1.40405328e+05, 3.97977852e+04, 1.52522516e+05, 1.99351797e+05,\n",
              "        1.13290172e+05, 5.96532383e+04, 3.87322250e+05, 3.29517594e+05,\n",
              "        1.78482828e+05, 2.13632781e+05, 1.70280891e+05, 2.03919578e+05,\n",
              "        1.73713172e+05, 3.42174438e+05, 2.27110594e+05, 3.58654094e+05,\n",
              "        4.72179188e+05, 4.94160938e+05, 2.27618344e+05, 4.58359188e+05,\n",
              "        2.63026688e+05, 2.75139812e+05, 1.17701117e+05, 9.04961953e+04,\n",
              "        9.20743281e+04, 1.31752719e+05, 1.24433492e+05, 1.79397672e+05,\n",
              "        1.92505234e+05, 2.01369422e+05, 2.52589781e+05, 4.29357281e+05,\n",
              "        8.27241812e+05, 6.87236938e+05, 1.92139266e+05, 8.85378203e+04,\n",
              "        2.35526406e+04, 8.53102109e+04, 2.47462988e+04, 3.35260898e+04,\n",
              "        6.32781133e+04, 3.17271699e+04, 4.41563047e+04, 7.47366953e+04,\n",
              "        7.79978906e+04, 4.53455195e+04, 3.33137578e+04, 3.46720625e+04,\n",
              "        4.55314648e+04, 7.34301094e+04, 1.07560562e+05, 9.86728750e+04,\n",
              "        2.04016828e+05, 3.43268406e+05, 8.64250688e+05, 2.06957862e+06,\n",
              "        4.75739750e+06, 6.71654650e+06, 8.78074000e+06, 1.00209690e+07,\n",
              "        8.89624200e+06, 6.35436250e+06, 4.26881700e+06, 2.09546288e+06,\n",
              "        1.82309438e+06, 1.64621125e+06, 1.51532662e+06, 2.20715875e+06,\n",
              "        2.51822625e+06, 4.96314938e+05, 2.56409844e+04, 1.86437094e+05,\n",
              "        1.51958922e+05, 1.58845641e+05, 2.17141500e+05, 1.01121227e+05,\n",
              "        1.26889047e+05, 1.47767578e+05, 1.55210406e+05, 1.44297016e+05,\n",
              "        1.14570992e+05, 8.52853359e+04, 9.31845125e+05, 1.49552338e+06,\n",
              "        1.90283825e+06, 2.00054325e+06, 1.73309700e+06, 1.80234812e+06,\n",
              "        1.87304625e+06, 9.52732312e+05, 2.37406225e+06, 3.02432675e+06,\n",
              "        3.97517750e+06, 5.39736850e+06, 5.11000000e+06, 1.28489412e+06,\n",
              "        8.86557812e+05, 2.59203078e+05, 3.98187000e+05, 8.26928312e+05,\n",
              "        1.16857162e+06, 1.46169212e+06, 1.42974062e+06, 1.19034238e+06,\n",
              "        2.49087359e+05, 5.31285562e+05, 4.69934094e+05, 6.62207688e+05,\n",
              "        6.21453312e+05, 1.12393812e+06, 2.75978400e+06, 2.21504875e+06,\n",
              "        1.51268488e+06, 1.92370912e+06, 2.03489400e+06, 2.95755950e+06,\n",
              "        3.37170975e+06, 5.52518300e+06, 1.52033690e+07, 2.11833140e+07,\n",
              "        2.11039460e+07, 1.52106450e+07, 1.04722290e+07, 1.03574030e+07,\n",
              "        9.55097300e+06, 3.61151225e+06, 2.05028862e+06, 2.44758797e+05,\n",
              "        5.19282344e+05, 1.58813938e+06, 3.71847000e+05, 8.48670000e+05,\n",
              "        3.29408750e+05, 5.02781000e+05, 3.93819812e+05, 1.94173547e+05,\n",
              "        7.78169500e+05, 2.60498531e+05, 2.84271875e+05, 1.37993625e+05,\n",
              "        1.59601094e+05, 9.18593203e+04, 5.92030812e+05, 9.41386125e+05,\n",
              "        6.20611062e+05, 1.61519538e+06, 2.53461975e+06, 2.77165175e+06,\n",
              "        3.75770950e+06, 1.02244519e+06, 1.93363031e+05, 4.86809562e+05,\n",
              "        9.18442688e+05, 2.69898575e+06, 3.49323075e+06, 4.25937450e+06,\n",
              "        4.58252800e+06, 5.99233300e+06, 3.42621675e+06, 1.53587000e+06,\n",
              "        5.82324562e+05, 1.06484138e+06, 1.58198862e+06, 1.99177825e+06,\n",
              "        1.41610988e+06, 7.54126812e+05, 2.82884406e+05, 2.24396469e+05,\n",
              "        3.81966281e+05, 6.43383875e+05, 4.28672344e+05, 7.32162875e+05,\n",
              "        1.13250125e+06, 1.94382125e+06, 3.55861600e+06, 3.69829375e+06,\n",
              "        2.97132875e+06, 1.07417550e+06, 4.77864844e+05, 5.33862062e+05,\n",
              "        6.64661562e+04, 1.09488930e+05, 1.72864641e+05, 4.06443531e+05,\n",
              "        1.13265562e+05, 2.81304531e+05, 3.26085719e+05, 4.06215719e+05,\n",
              "        3.19916500e+05, 2.20076844e+05, 3.34401094e+05, 5.69836000e+05,\n",
              "        7.55641875e+05, 7.16801562e+05, 9.12367312e+05, 1.06239212e+06,\n",
              "        5.37372875e+05, 1.40365641e+05, 6.71342000e+05, 7.94567375e+05,\n",
              "        3.76696469e+05, 5.23224000e+05, 3.84197594e+05, 6.80576125e+05,\n",
              "        8.92567125e+05, 5.00122562e+05, 5.70425812e+05, 6.73072000e+05,\n",
              "        7.18982938e+05, 5.25229312e+05, 4.40661844e+05, 1.75905406e+05,\n",
              "        6.38108062e+05, 1.37150662e+06, 4.31416500e+06, 8.40185800e+06,\n",
              "        8.69449300e+06, 1.08890910e+07, 1.27702130e+07, 1.15202770e+07,\n",
              "        7.70321550e+06, 1.94680000e+06, 9.63983875e+05, 1.38966266e+05,\n",
              "        1.25272789e+05, 1.20526273e+05, 1.26184375e+05, 1.61502141e+05,\n",
              "        2.59980645e+04, 1.69524594e+05, 2.63602250e+05, 2.99055875e+05,\n",
              "        1.59574016e+05, 3.58952719e+05, 3.21692344e+05, 2.67858688e+05,\n",
              "        3.96345156e+05, 1.37833016e+05, 3.07879312e+05, 2.02908906e+05,\n",
              "        1.98262375e+05, 3.29608750e+05, 6.29313062e+05, 1.46237725e+06,\n",
              "        1.05590525e+06, 1.21102988e+06, 5.44248000e+05, 4.60705156e+05,\n",
              "        1.90025922e+05, 1.85807578e+05, 2.87712031e+05, 4.23511531e+05,\n",
              "        3.36405062e+05, 5.91293062e+05, 9.13050391e+04, 1.20188141e+05,\n",
              "        2.54536875e+04, 1.05413586e+05, 8.02194375e+04, 8.49386094e+04,\n",
              "        4.49330234e+04, 1.61459500e+05, 2.18132141e+05, 6.95307422e+04,\n",
              "        9.87635625e+04, 1.03696500e+05, 1.35477906e+05, 1.88288609e+05,\n",
              "        2.49819391e+05, 3.29415508e+04, 1.15378820e+05, 9.44220688e+05,\n",
              "        2.93968925e+06, 4.15324925e+06, 5.67607150e+06, 7.27435300e+06,\n",
              "        8.47165000e+06, 7.92911900e+06, 2.52458200e+06, 3.88567188e+05,\n",
              "        1.22656602e+05, 1.75194516e+05, 4.83225820e+04, 7.28151562e+05,\n",
              "        6.05325938e+05, 7.83876625e+05, 1.10869800e+06, 7.52472312e+05,\n",
              "        6.34952500e+05, 7.03521938e+05, 1.13998100e+06, 1.97659688e+06,\n",
              "        6.47513000e+05, 1.45887656e+05, 1.91653531e+05, 9.78497109e+04,\n",
              "        5.10498984e+04, 1.68140047e+05, 2.09039125e+05, 4.21866312e+05,\n",
              "        7.63873438e+05, 1.05081838e+06, 9.29188312e+05, 1.47609375e+06,\n",
              "        1.26550388e+06, 8.23086562e+05, 2.96702688e+05, 2.10873219e+05,\n",
              "        1.12656641e+05, 5.76680078e+04, 1.75136125e+05, 2.34299609e+05,\n",
              "        8.21723688e+05, 4.36339031e+05, 2.46121656e+05, 3.58569938e+05,\n",
              "        8.00224375e+05, 1.07720300e+06, 1.12313575e+06, 1.10710588e+06,\n",
              "        6.09488438e+05, 7.80992875e+05, 7.11848875e+05, 1.81722500e+05,\n",
              "        8.80769922e+04, 1.80002641e+05, 9.56444375e+04, 4.13532344e+05,\n",
              "        7.71439562e+05, 9.75693000e+05, 1.42783700e+06, 9.51158625e+05,\n",
              "        7.13980812e+05, 5.30054875e+05, 1.33039562e+06, 2.79379175e+06,\n",
              "        3.67959025e+06, 5.19710750e+06, 6.72989150e+06, 9.80679100e+06,\n",
              "        1.47449370e+07, 1.76758180e+07, 1.54587980e+07, 1.55493420e+07,\n",
              "        1.62534220e+07, 5.90594100e+06, 1.25311062e+06, 4.44991781e+05,\n",
              "        6.53841125e+05, 2.23913297e+05, 2.81728812e+05, 1.77860469e+05,\n",
              "        5.49330391e+04, 2.77326562e+05, 3.96292906e+05, 5.19980438e+05,\n",
              "        1.79914175e+06, 2.20194700e+06, 2.43992800e+06, 2.44717125e+06,\n",
              "        1.63587862e+06, 1.95944812e+06, 7.17573062e+05, 7.56006000e+05,\n",
              "        8.75403438e+05, 7.37534500e+05, 5.84332938e+05, 6.81705688e+05,\n",
              "        7.57662125e+05, 2.97635625e+05, 2.21476125e+05, 1.10177638e+06,\n",
              "        7.04715812e+05, 4.54669312e+05, 1.47030088e+06, 4.54041344e+05,\n",
              "        1.60123328e+05, 3.95653719e+05, 5.96019500e+05, 1.73870788e+06,\n",
              "        3.88100775e+06, 1.03778070e+07, 1.44493030e+07, 1.60814020e+07,\n",
              "        1.96286440e+07, 1.57937520e+07, 1.39946730e+07, 6.76192350e+06,\n",
              "        1.20659188e+06, 1.10680525e+06, 1.72994938e+06, 3.65489175e+06,\n",
              "        4.90745050e+06, 5.45527750e+06, 1.17526338e+06, 6.27077562e+05,\n",
              "        1.14611600e+06, 9.93156812e+05, 1.24762425e+06, 1.42240412e+06,\n",
              "        2.06742375e+06, 1.91928325e+06, 2.56415625e+06, 5.59482125e+05,\n",
              "        4.50479031e+05, 1.61509062e+06, 1.93541425e+06, 1.70723888e+06,\n",
              "        1.24108512e+06, 1.23307800e+06, 1.07723288e+06, 1.55278175e+06,\n",
              "        1.29265775e+06], dtype=float32),\n",
              " 'rmse': array([4350.8423 , 3500.198  , 4187.158  , 2546.6833 , 3962.2327 ,\n",
              "        4516.291  , 4209.0283 , 2612.5706 , 1642.3917 ,  913.0947 ,\n",
              "        1818.2483 , 1580.7352 , 2134.7214 , 1385.0787 , 2100.062  ,\n",
              "        3039.439  , 3175.5286 , 3235.4663 , 2831.001  , 1575.43   ,\n",
              "        1725.5491 , 2134.6804 , 1616.9309 , 2642.7563 , 3393.9463 ,\n",
              "        3208.1877 , 3106.3987 , 2241.041  , 2390.104  , 2343.6084 ,\n",
              "        1320.446  ,  909.0717 ,  987.5927 , 2164.821  , 2514.3096 ,\n",
              "        2935.109  , 2703.9275 , 3164.506  , 4106.7188 , 4375.5537 ,\n",
              "        3622.4998 , 3231.4888 , 2556.818  , 2617.1711 , 2333.0913 ,\n",
              "        1065.6793 ,  809.93427,  909.87494,  851.30743,  858.37494,\n",
              "         849.18396, 1167.9323 ,  865.1015 , 1339.9541 , 2055.0342 ,\n",
              "        1735.5496 , 1129.7167 , 1317.2133 , 1055.9211 , 1347.054  ,\n",
              "        1061.2109 , 1143.5623 , 1473.9681 , 1398.5443 , 1272.4034 ,\n",
              "        2123.3118 , 3751.0764 , 4420.5225 , 5803.73   , 6307.109  ,\n",
              "        6001.863  , 5848.5815 , 5159.663  , 2571.9614 , 1867.8788 ,\n",
              "         759.8214 , 1230.8053 , 1261.258  , 1056.2125 ,  826.0746 ,\n",
              "         842.4436 ,  703.44244,  805.3452 ,  360.76013,  697.7781 ,\n",
              "         699.8088 , 1013.47723, 1174.4568 , 1444.8997 , 1590.012  ,\n",
              "        1433.0499 , 1652.4502 , 1904.1497 , 1612.7543 , 1043.2451 ,\n",
              "        1137.6118 ,  826.3576 ,  717.75854,  882.28845, 1143.7803 ,\n",
              "        1746.0864 , 3983.1858 , 5564.711  , 5804.1904 , 6382.554  ,\n",
              "        6889.989  , 6991.3657 , 6790.4937 , 4619.0503 , 3043.9812 ,\n",
              "        2410.8245 , 1137.0287 ,  817.09204, 1170.0629 , 1041.0311 ,\n",
              "        1160.0364 ,  709.29877,  852.118  ,  676.4691 , 1010.4056 ,\n",
              "        1294.3816 ,  915.7583 , 1407.7742 , 1143.9391 , 1096.1475 ,\n",
              "        1075.2726 , 1330.5692 , 1832.7455 , 1752.6699 , 1545.3774 ,\n",
              "        1479.3534 , 1238.3953 ,  729.66846, 1187.3425 , 1283.5708 ,\n",
              "         991.93146,  814.6787 , 1686.5627 , 2060.719  , 1946.7793 ,\n",
              "        1962.9552 , 1769.7664 , 1897.2777 , 1105.8285 ,  681.8119 ,\n",
              "         793.64764, 1058.0411 , 1123.7767 ,  988.74493, 1142.368  ,\n",
              "        1481.1079 , 1660.089  , 1078.0117 ,  545.81555,  714.2775 ,\n",
              "         668.1806 ,  757.82996,  594.40485,  441.2755 ,  641.41266,\n",
              "         822.2596 ,  805.52185,  667.20233,  857.5359 ,  716.54016,\n",
              "         677.0808 ,  498.96298,  620.77   , 1527.042  , 1873.1647 ,\n",
              "        2048.8738 , 2380.291  , 2317.1855 , 2157.8076 , 2211.3643 ,\n",
              "        1070.606  , 1116.1499 , 1105.7091 , 1113.3077 , 1079.6609 ,\n",
              "        1168.8044 , 1362.4814 ,  816.9868 ,  216.75214,  307.46442,\n",
              "         282.9385 ,  500.4353 ,  632.3464 ,  607.7719 ,  930.57886,\n",
              "        1084.4404 , 1390.1772 , 1671.7637 , 1836.2456 , 2101.219  ,\n",
              "        1934.0524 , 1063.2407 ,  691.1578 , 1295.025  , 2025.4678 ,\n",
              "        1465.859  , 1302.4534 ,  967.0264 ,  996.12976, 1017.678  ,\n",
              "         744.4798 ,  744.41833,  357.0055 ,  809.0247 ,  424.48932,\n",
              "         334.50595,  279.97324,  390.44513,  475.3746 ,  621.6635 ,\n",
              "         861.4625 ,  664.259  ,  513.2379 ,  489.02533,  525.5258 ,\n",
              "         573.9575 ,  677.6272 ,  727.5536 ,  718.6806 ,  490.5264 ,\n",
              "         330.1016 ,  245.93532,  320.00012,  213.95877,  272.89407,\n",
              "         246.44452,  231.0265 ,  347.17938,  281.4575 ,  302.60178,\n",
              "         357.28745,  655.5861 ,  820.4959 ,  925.2701 , 1128.7297 ,\n",
              "        1059.5693 , 1156.9922 ,  846.2266 ,  230.93613,  319.57242,\n",
              "         318.30646,  454.48257,  426.51715,  457.867  ,  764.0622 ,\n",
              "        1964.6595 , 2200.498  , 2714.372  , 3467.6934 , 3813.358  ,\n",
              "        3997.9094 , 3049.3342 ,  971.561  ,  706.6507 ,  475.6465 ,\n",
              "         374.707  ,  199.49382,  390.54132,  446.48828,  336.58606,\n",
              "         244.24013,  622.3522 ,  574.03625,  422.4723 ,  462.20425,\n",
              "         412.65106,  451.57455,  416.78912,  584.9568 ,  476.56122,\n",
              "         598.8774 ,  687.15295,  702.9658 ,  477.09363,  677.0223 ,\n",
              "         512.86127,  524.5377 ,  343.07596,  300.82587,  303.43753,\n",
              "         362.97757,  352.7513 ,  423.55362,  438.75418,  448.74203,\n",
              "         502.5831 ,  655.2536 ,  909.5283 ,  828.99756,  438.33694,\n",
              "         297.55304,  153.46869,  292.07913,  157.30957,  183.1013 ,\n",
              "         251.5514 ,  178.12122,  210.13402,  273.38013,  279.28104,\n",
              "         212.94487,  182.52057,  186.20436,  213.38103,  270.97992,\n",
              "         327.96426,  314.12238,  451.68222,  585.8911 ,  929.6508 ,\n",
              "        1438.603  , 2181.146  , 2591.6301 , 2963.2314 , 3165.5913 ,\n",
              "        2982.657  , 2520.7861 , 2066.1116 , 1447.5714 , 1350.2201 ,\n",
              "        1283.0476 , 1230.9861 , 1485.651  , 1586.892  ,  704.4962 ,\n",
              "         160.12802,  431.78363,  389.8191 ,  398.55444,  465.98444,\n",
              "         317.99564,  356.21487,  384.4055 ,  393.96753,  379.86447,\n",
              "         338.48337,  292.03653,  965.3212 , 1222.9159 , 1379.4341 ,\n",
              "        1414.4056 , 1316.4714 , 1342.5156 , 1368.5928 ,  976.0801 ,\n",
              "        1540.7992 , 1739.0592 , 1993.7847 , 2323.2236 , 2260.531  ,\n",
              "        1133.5317 ,  941.57196,  509.1199 ,  631.0206 ,  909.356  ,\n",
              "        1081.0049 , 1209.0046 , 1195.7177 , 1091.0281 ,  499.08652,\n",
              "         728.8934 ,  685.5174 ,  813.7614 ,  788.3231 , 1060.1594 ,\n",
              "        1661.2598 , 1488.304  , 1229.9126 , 1386.9784 , 1426.4971 ,\n",
              "        1719.7556 , 1836.2216 , 2350.5708 , 3899.1497 , 4602.533  ,\n",
              "        4593.9033 , 3900.0828 , 3236.0823 , 3218.292  , 3090.4648 ,\n",
              "        1900.398  , 1431.8829 ,  494.73105,  720.6125 , 1260.214  ,\n",
              "         609.7926 ,  921.23285,  573.9414 ,  709.0705 ,  627.55066,\n",
              "         440.65128,  882.13916,  510.39056,  533.1715 ,  371.47495,\n",
              "         399.50107,  303.08304,  769.43536,  970.25055,  787.7887 ,\n",
              "        1270.9033 , 1592.049  , 1664.8279 , 1938.4812 , 1011.16034,\n",
              "         439.73062,  697.7174 ,  958.3541 , 1642.859  , 1869.0187 ,\n",
              "        2063.8252 , 2140.684  , 2447.9243 , 1851.0043 , 1239.3022 ,\n",
              "         763.1019 , 1031.9115 , 1257.7712 , 1411.3037 , 1190.0042 ,\n",
              "         868.4047 ,  531.8688 ,  473.70505,  618.0342 ,  802.1121 ,\n",
              "         654.7307 ,  855.66516, 1064.1904 , 1394.21   , 1886.4294 ,\n",
              "        1923.0948 , 1723.7543 , 1036.4244 ,  691.2777 ,  730.6586 ,\n",
              "         257.8103 ,  330.8911 ,  415.76993,  637.52924,  336.5495 ,\n",
              "         530.3815 ,  571.0392 ,  637.3505 ,  565.61163,  469.12347,\n",
              "         578.27423,  754.8748 ,  869.2766 ,  846.64136,  955.1792 ,\n",
              "        1030.7241 ,  733.0572 ,  374.65402,  819.3546 ,  891.3851 ,\n",
              "         613.75604,  723.3422 ,  619.83673,  824.9704 ,  944.7577 ,\n",
              "         707.1934 ,  755.2654 ,  820.40967,  847.9286 ,  724.72705,\n",
              "         663.82367,  419.4108 ,  798.81665, 1171.1134 , 2077.057  ,\n",
              "        2898.596  , 2948.6426 , 3299.8623 , 3573.5435 , 3394.1533 ,\n",
              "        2775.4668 , 1395.2777 ,  981.8268 ,  372.7818 ,  353.93896,\n",
              "         347.16895,  355.2244 ,  401.8733 ,  161.23915,  411.73364,\n",
              "         513.4221 ,  546.86   ,  399.46716,  599.12665,  567.17926,\n",
              "         517.55066,  629.5595 ,  371.2587 ,  554.8687 ,  450.4541 ,\n",
              "         445.26663,  574.1156 ,  793.29254, 1209.288  , 1027.5725 ,\n",
              "        1100.468  ,  737.7316 ,  678.7526 ,  435.91962,  431.05405,\n",
              "         536.38794,  650.77765,  580.0044 ,  768.9558 ,  302.16724,\n",
              "         346.6816 ,  159.54211,  324.6746 ,  283.23035,  291.4423 ,\n",
              "         211.9741 ,  401.82022,  467.04617,  263.68683,  314.2667 ,\n",
              "         322.0194 ,  368.07324,  433.92236,  499.81937,  181.49808,\n",
              "         339.6746 ,  971.7102 , 1714.5522 , 2037.9523 , 2382.4507 ,\n",
              "        2697.1008 , 2910.6099 , 2815.8691 , 1588.8933 ,  623.35156,\n",
              "         350.22363,  418.56244,  219.82397,  853.318  ,  778.027  ,\n",
              "         885.3681 , 1052.9473 ,  867.4516 ,  796.83905,  838.76215,\n",
              "        1067.699  , 1405.9149 ,  804.68195,  381.95242,  437.7825 ,\n",
              "         312.8094 ,  225.94225,  410.04883,  457.20798,  649.5124 ,\n",
              "         873.99854, 1025.0944 ,  963.94415, 1214.946  , 1124.9462 ,\n",
              "         907.2412 ,  544.7042 ,  459.20935,  335.64362,  240.14165,\n",
              "         418.49268,  484.04504,  906.48975,  660.55963,  496.1065 ,\n",
              "         598.80707,  894.5526 , 1037.8839 , 1059.781  , 1052.191  ,\n",
              "         780.6974 ,  883.73804,  843.71136,  426.2892 ,  296.77768,\n",
              "         424.26718,  309.26434,  643.0648 ,  878.31635,  987.7717 ,\n",
              "        1194.9214 ,  975.2736 ,  844.9739 ,  728.0487 , 1153.4277 ,\n",
              "        1671.464  , 1918.2258 , 2279.7166 , 2594.2034 , 3131.5796 ,\n",
              "        3839.9136 , 4204.2617 , 3931.7678 , 3943.2654 , 4031.5532 ,\n",
              "        2430.214  , 1119.4242 ,  667.077  ,  808.60443,  473.19476,\n",
              "         530.7813 ,  421.73508,  234.37799,  526.61804,  629.518  ,\n",
              "         721.0967 , 1341.3209 , 1483.8959 , 1562.0269 , 1564.3438 ,\n",
              "        1279.0146 , 1399.8029 ,  847.09686,  869.4861 ,  935.62994,\n",
              "         858.7983 ,  764.41675,  825.6547 ,  870.43787,  545.55994,\n",
              "         470.6125 , 1049.6554 ,  839.4735 ,  674.2917 , 1212.5597 ,\n",
              "         673.8259 ,  400.15414,  629.01013,  772.023  , 1318.6007 ,\n",
              "        1970.0273 , 3221.4604 , 3801.2239 , 4010.1624 , 4430.4224 ,\n",
              "        3974.1355 , 3740.9456 , 2600.3699 , 1098.4497 , 1052.0481 ,\n",
              "        1315.2754 , 1911.7771 , 2215.2766 , 2335.6536 , 1084.0957 ,\n",
              "         791.88226, 1070.5681 ,  996.5725 , 1116.9711 , 1192.6459 ,\n",
              "        1437.8539 , 1385.382  , 1601.2983 ,  747.98535,  671.17737,\n",
              "        1270.8622 , 1391.1917 , 1306.6135 , 1114.04   , 1110.4404 ,\n",
              "        1037.8983 , 1246.1067 , 1136.951  ], dtype=float32),\n",
              " 'mape': array([ 8.826225  ,  6.586161  ,  7.76095   ,  5.566676  ,  9.030849  ,\n",
              "        10.981799  , 10.029464  ,  6.284634  ,  3.933363  ,  1.5373746 ,\n",
              "         3.6674948 ,  2.713338  ,  4.659528  ,  3.1000924 ,  4.0990515 ,\n",
              "         5.994634  ,  7.4150496 ,  7.5723767 ,  6.3732824 ,  3.1288755 ,\n",
              "         3.5827165 ,  4.068132  ,  3.1242154 ,  4.649483  ,  6.5958343 ,\n",
              "         6.233237  ,  6.332649  ,  4.427577  ,  4.688961  ,  4.8875923 ,\n",
              "         2.5507717 ,  1.6971718 ,  1.8351747 ,  4.126388  ,  4.177945  ,\n",
              "         5.096612  ,  5.1516733 ,  6.704873  ,  8.870594  ,  9.968095  ,\n",
              "         7.8198442 ,  7.268674  ,  5.404087  ,  5.932205  ,  5.7068815 ,\n",
              "         2.0293343 ,  1.8328846 ,  2.0190864 ,  1.6978992 ,  1.8741194 ,\n",
              "         1.9055281 ,  2.5671673 ,  1.7293783 ,  3.0578375 ,  4.7925806 ,\n",
              "         3.9056153 ,  2.530928  ,  2.4140997 ,  2.3411465 ,  3.0494127 ,\n",
              "         2.4924512 ,  2.801506  ,  3.4860666 ,  3.3868139 ,  2.9146502 ,\n",
              "         5.386287  ,  8.810198  , 11.375876  , 16.616182  , 18.340776  ,\n",
              "        17.915268  , 18.619003  , 16.937447  ,  8.207047  ,  5.5707664 ,\n",
              "         2.2730877 ,  3.375337  ,  3.7064242 ,  3.067662  ,  2.0797236 ,\n",
              "         2.1470025 ,  2.0390878 ,  2.2119086 ,  1.087491  ,  1.707588  ,\n",
              "         1.7583121 ,  3.2459736 ,  2.9856713 ,  3.401808  ,  4.3738885 ,\n",
              "         3.7928808 ,  4.3718433 ,  5.7361226 ,  4.405595  ,  2.4938653 ,\n",
              "         3.3917022 ,  2.5779414 ,  1.9042319 ,  2.3639138 ,  3.3737977 ,\n",
              "         5.1382465 , 11.537792  , 18.06951   , 20.832218  , 25.159546  ,\n",
              "        28.551495  , 31.319084  , 31.742338  , 21.43074   , 13.731005  ,\n",
              "        11.5793705 ,  4.3396993 ,  3.4962707 ,  4.54871   ,  4.2160907 ,\n",
              "         4.607079  ,  2.6274886 ,  3.5104878 ,  2.6501598 ,  4.0543256 ,\n",
              "         5.7854156 ,  4.1952286 ,  6.8311915 ,  4.9457083 ,  4.677091  ,\n",
              "         4.4032607 ,  5.4287252 ,  7.4269614 ,  7.6718426 ,  6.5684056 ,\n",
              "         5.8521075 ,  5.1084933 ,  3.1668847 ,  4.2313347 ,  5.385231  ,\n",
              "         3.9907076 ,  2.865879  ,  6.287657  ,  7.8881392 ,  7.041658  ,\n",
              "         7.7890277 ,  7.127665  ,  8.138364  ,  4.4707513 ,  2.6214454 ,\n",
              "         2.6265893 ,  3.9326792 ,  4.085948  ,  3.6329474 ,  4.713469  ,\n",
              "         5.84208   ,  6.7558537 ,  4.084277  ,  1.7899679 ,  2.7912037 ,\n",
              "         2.7834103 ,  3.0181358 ,  1.9511329 ,  1.6189152 ,  2.124361  ,\n",
              "         3.164715  ,  2.681665  ,  2.4577563 ,  3.3862245 ,  2.46256   ,\n",
              "         2.5485265 ,  1.8229816 ,  1.939437  ,  4.5147295 ,  6.386242  ,\n",
              "         7.730718  ,  9.633918  ,  9.93476   ,  9.311885  , 10.256143  ,\n",
              "         4.3751125 ,  3.8743403 ,  4.161721  ,  4.355377  ,  4.4232717 ,\n",
              "         5.370509  ,  6.6901946 ,  3.7602928 ,  0.8887403 ,  1.218139  ,\n",
              "         1.2035849 ,  1.5913712 ,  2.5585477 ,  2.691478  ,  3.768987  ,\n",
              "         4.09715   ,  5.81645   ,  7.1324615 ,  6.8986177 ,  8.786293  ,\n",
              "         8.342514  ,  3.4913085 ,  3.1547415 ,  6.2795305 , 10.110362  ,\n",
              "         7.01985   ,  6.1180925 ,  3.8525958 ,  4.3917646 ,  5.028867  ,\n",
              "         3.1264358 ,  3.3239589 ,  1.5434382 ,  3.594872  ,  1.6564893 ,\n",
              "         1.2455078 ,  1.2975541 ,  1.763005  ,  2.0195472 ,  2.3384805 ,\n",
              "         3.3935983 ,  2.976832  ,  1.973023  ,  1.9185809 ,  2.2760284 ,\n",
              "         2.3169692 ,  3.2416961 ,  3.4128883 ,  3.5109792 ,  2.2284572 ,\n",
              "         1.4876766 ,  1.0394771 ,  1.3774631 ,  0.8970896 ,  1.1743689 ,\n",
              "         1.1385311 ,  0.88842726,  1.564254  ,  1.1870787 ,  1.1068577 ,\n",
              "         1.4920816 ,  1.984288  ,  3.0930128 ,  3.6624522 ,  4.956298  ,\n",
              "         4.5425677 ,  5.4748025 ,  3.8473773 ,  0.8279069 ,  1.4393761 ,\n",
              "         1.2508358 ,  2.0375369 ,  1.8145131 ,  1.9100292 ,  3.0251312 ,\n",
              "         7.365555  ,  9.560904  , 12.240987  , 17.316307  , 20.82187   ,\n",
              "        23.270428  , 18.005903  ,  5.1183333 ,  3.6668591 ,  2.4568832 ,\n",
              "         2.1202614 ,  1.0722592 ,  2.2027385 ,  1.993473  ,  1.5783314 ,\n",
              "         1.293665  ,  3.2824073 ,  2.454139  ,  2.11735   ,  2.7048397 ,\n",
              "         2.3479443 ,  1.9232267 ,  2.1044796 ,  2.788218  ,  2.615079  ,\n",
              "         3.16463   ,  3.5762675 ,  3.8527627 ,  2.2210166 ,  3.3656974 ,\n",
              "         2.2659874 ,  2.8661623 ,  1.9558861 ,  1.392876  ,  1.2187713 ,\n",
              "         1.6543561 ,  1.6237934 ,  1.7221544 ,  2.132678  ,  2.2290528 ,\n",
              "         2.784796  ,  3.5735629 ,  5.154571  ,  4.7798524 ,  2.4466484 ,\n",
              "         1.1972294 ,  0.77166605,  1.5193245 ,  0.86272454,  0.85243446,\n",
              "         1.096041  ,  0.91286826,  1.0095947 ,  1.4282503 ,  1.4759856 ,\n",
              "         1.2322685 ,  0.9559812 ,  0.897665  ,  0.981081  ,  1.4501864 ,\n",
              "         1.7094357 ,  1.4955423 ,  2.2024448 ,  2.4189801 ,  3.5569522 ,\n",
              "         5.299437  ,  8.06904   , 10.353315  , 12.647242  , 14.29138   ,\n",
              "        13.862205  , 11.897505  ,  9.255626  ,  5.219575  ,  4.5765314 ,\n",
              "         4.828116  ,  5.041021  ,  6.0130377 ,  6.862597  ,  2.8566036 ,\n",
              "         0.6123736 ,  1.2479494 ,  1.3394938 ,  1.2539065 ,  1.4572357 ,\n",
              "         1.120551  ,  1.1830219 ,  1.4613166 ,  1.4877298 ,  1.3750242 ,\n",
              "         1.1965752 ,  1.1625892 ,  3.3885076 ,  4.272179  ,  5.431821  ,\n",
              "         5.52379   ,  5.185433  ,  5.647119  ,  6.073394  ,  3.602571  ,\n",
              "         4.9824696 ,  5.590424  ,  7.1766176 ,  9.0001955 ,  8.979299  ,\n",
              "         4.380562  ,  3.6274915 ,  1.8648744 ,  1.9959682 ,  3.365177  ,\n",
              "         4.130832  ,  4.8148212 ,  4.8842816 ,  4.5672417 ,  1.6965268 ,\n",
              "         2.2793043 ,  2.4177213 ,  2.900142  ,  3.2558386 ,  4.4682493 ,\n",
              "         6.989283  ,  5.1854024 ,  4.3432894 ,  5.169467  ,  5.903806  ,\n",
              "         6.739011  ,  7.358134  ,  8.747089  , 13.505931  , 17.076859  ,\n",
              "        16.431622  , 13.155225  , 10.112058  , 10.804421  , 10.872223  ,\n",
              "         6.422718  ,  4.699381  ,  1.4783816 ,  2.0779872 ,  4.282876  ,\n",
              "         1.8994491 ,  2.8331234 ,  1.667036  ,  2.1715093 ,  1.8607793 ,\n",
              "         1.4494076 ,  2.9473376 ,  1.5286573 ,  1.7568458 ,  1.0989434 ,\n",
              "         1.2303545 ,  0.8304243 ,  1.7895589 ,  2.6140218 ,  2.2770443 ,\n",
              "         3.9073474 ,  4.433479  ,  5.047829  ,  6.3552933 ,  3.179962  ,\n",
              "         1.2974209 ,  1.65451   ,  2.4943292 ,  4.413804  ,  5.3018064 ,\n",
              "         6.376533  ,  7.123049  ,  8.492519  ,  6.396205  ,  4.346998  ,\n",
              "         1.9021147 ,  2.7989926 ,  3.7170382 ,  4.4939747 ,  3.7658002 ,\n",
              "         2.6811826 ,  1.7314799 ,  1.3608947 ,  1.536832  ,  2.480247  ,\n",
              "         1.8326929 ,  2.4655972 ,  3.023485  ,  4.5032325 ,  6.4289117 ,\n",
              "         6.7470746 ,  6.135228  ,  3.4992428 ,  2.2584426 ,  2.489987  ,\n",
              "         0.61084104,  1.0748559 ,  1.2059597 ,  1.970553  ,  1.1979276 ,\n",
              "         1.6380314 ,  1.8510323 ,  1.8757341 ,  1.8595855 ,  1.4788686 ,\n",
              "         1.6843508 ,  2.2313592 ,  2.847411  ,  2.3661456 ,  2.9575174 ,\n",
              "         3.4197588 ,  2.0805879 ,  1.0885249 ,  2.4873476 ,  2.7733016 ,\n",
              "         1.8172635 ,  2.0318518 ,  1.7985052 ,  2.6997178 ,  3.2305486 ,\n",
              "         2.1982644 ,  2.5298417 ,  2.7622173 ,  2.8035977 ,  2.4528546 ,\n",
              "         2.2283142 ,  1.1477643 ,  2.4995484 ,  3.240196  ,  5.4741282 ,\n",
              "         8.412309  ,  7.957734  ,  9.239828  , 11.047106  , 11.027546  ,\n",
              "         9.052338  ,  4.505657  ,  2.9623096 ,  0.9180153 ,  0.9228493 ,\n",
              "         0.81403655,  0.88529605,  1.1699251 ,  0.4362555 ,  1.1305555 ,\n",
              "         1.2815137 ,  1.4764929 ,  0.93869895,  1.7063899 ,  1.6494374 ,\n",
              "         1.5676105 ,  1.4168696 ,  0.8117504 ,  1.1326916 ,  1.2288424 ,\n",
              "         1.20558   ,  1.5344648 ,  2.3489046 ,  3.9106271 ,  3.202179  ,\n",
              "         3.4988675 ,  2.2510498 ,  2.0647004 ,  1.1369442 ,  1.1671394 ,\n",
              "         1.6761727 ,  1.9504247 ,  1.7179443 ,  2.5400417 ,  0.7827653 ,\n",
              "         0.9173529 ,  0.44104952,  0.80466604,  0.74652   ,  0.83635384,\n",
              "         0.6262614 ,  1.1125704 ,  1.4001621 ,  0.71883744,  0.9134857 ,\n",
              "         0.841475  ,  1.1166953 ,  1.4217936 ,  1.4069551 ,  0.37791276,\n",
              "         0.9882018 ,  2.1512306 ,  4.1856766 ,  5.5690346 ,  7.3963866 ,\n",
              "         9.084148  , 10.481466  , 10.638492  ,  6.0451174 ,  2.094505  ,\n",
              "         1.1102588 ,  1.3389094 ,  0.80055773,  1.8180424 ,  2.023837  ,\n",
              "         2.03277   ,  2.5682156 ,  2.1990192 ,  2.1503997 ,  2.042211  ,\n",
              "         3.966412  ,  5.398517  ,  2.923006  ,  1.2360052 ,  1.6014156 ,\n",
              "         1.1013982 ,  0.78558016,  1.1548121 ,  1.4939547 ,  1.904133  ,\n",
              "         2.674221  ,  3.2511137 ,  3.1212375 ,  4.3594565 ,  4.0064836 ,\n",
              "         2.9862313 ,  1.5406356 ,  1.29087   ,  1.0323876 ,  0.83260715,\n",
              "         1.3539772 ,  1.7226726 ,  3.1478915 ,  2.146447  ,  1.5562778 ,\n",
              "         2.0740461 ,  2.3815317 ,  3.1095824 ,  3.4460115 ,  3.4104593 ,\n",
              "         2.5598822 ,  2.849656  ,  2.9364104 ,  1.4061939 ,  0.81613   ,\n",
              "         1.37489   ,  0.8555144 ,  1.9847721 ,  2.6315038 ,  3.3533773 ,\n",
              "         4.2001734 ,  3.4062989 ,  2.8622706 ,  2.249915  ,  3.2369304 ,\n",
              "         4.8029275 ,  6.004407  ,  7.371574  ,  6.4500027 ,  7.495272  ,\n",
              "         9.602116  , 10.976605  , 10.36757   , 10.854195  , 11.785722  ,\n",
              "         7.035137  ,  3.0223484 ,  1.6879495 ,  2.0884736 ,  1.0511221 ,\n",
              "         1.1449821 ,  1.0644993 ,  0.4272676 ,  1.3777425 ,  1.4786501 ,\n",
              "         1.5064142 ,  2.5310223 ,  2.9630222 ,  3.5779111 ,  3.8783085 ,\n",
              "         3.0832534 ,  3.5542672 ,  1.9495314 ,  1.8869605 ,  2.270068  ,\n",
              "         1.7735256 ,  1.5892601 ,  1.6809957 ,  1.7080572 ,  1.03242   ,\n",
              "         0.90315324,  2.4432936 ,  1.6587561 ,  1.5192916 ,  2.9105926 ,\n",
              "         1.6037474 ,  0.88408524,  1.2862073 ,  1.5439291 ,  2.4407337 ,\n",
              "         3.6240418 ,  5.9309154 ,  7.108633  ,  8.280795  ,  9.374989  ,\n",
              "         8.571303  ,  8.470862  ,  5.528176  ,  2.3626034 ,  1.9895924 ,\n",
              "         2.2769334 ,  3.8324702 ,  4.596479  ,  5.2945185 ,  2.0129805 ,\n",
              "         1.4047251 ,  2.297235  ,  2.022562  ,  2.0889375 ,  2.2405946 ,\n",
              "         3.0107918 ,  2.7277694 ,  3.5523136 ,  1.64697   ,  1.2796302 ,\n",
              "         2.3250406 ,  2.976678  ,  2.7026358 ,  2.3764613 ,  2.3840516 ,\n",
              "         2.0590076 ,  2.7102637 ,  2.0322695 ], dtype=float32)}"
            ]
          },
          "execution_count": 52,
          "metadata": {},
          "output_type": "execute_result"
        }
      ],
      "source": [
        "# Calculate model_3 results - these are going to be multi-dimensional because\n",
        "# we're trying to predict more than one step at a time.\n",
        "model_3_results = evaluate_preds(y_true=tf.squeeze(test_labels),\n",
        "                                 y_pred=model_3_preds)\n",
        "model_3_results"
      ]
    },
    {
      "cell_type": "markdown",
      "metadata": {
        "id": "t405o940Twum"
      },
      "source": [
        "## Make our evaluation function work for larger horizons\n",
        "\n",
        "You'll notice the outputs for `model_3_results` are multi-dimensional. \n",
        "\n",
        "This is because the predictions are getting evaluated across the `HORIZON` timesteps (7 predictions at a time).\n",
        "\n",
        "To fix this, let's adjust our `evaluate_preds()` function to work with multiple shapes of data."
      ]
    },
    {
      "cell_type": "code",
      "execution_count": 53,
      "metadata": {
        "id": "ERkl26UFgSbz"
      },
      "outputs": [],
      "source": [
        "def evaluate_preds(y_true, y_pred):\n",
        "  # Make sure float32 (for metric calculations)\n",
        "  y_true = tf.cast(y_true, dtype=tf.float32)\n",
        "  y_pred = tf.cast(y_pred, dtype=tf.float32)\n",
        "\n",
        "  # Calculate various metrics\n",
        "  mae = tf.keras.metrics.mean_absolute_error(y_true, y_pred)\n",
        "  mse = tf.keras.metrics.mean_squared_error(y_true, y_pred)\n",
        "  rmse = tf.sqrt(mse)\n",
        "  mape = tf.keras.metrics.mean_absolute_percentage_error(y_true, y_pred)\n",
        "  mase = mean_absolute_scaled_error(y_true, y_pred)\n",
        "\n",
        "  # Account for different sized metrics (for longer horizons, reduce to single number)\n",
        "  if mae.ndim > 0: # if mae isn't already a scalar, reduce it to one by aggregating tensors to mean\n",
        "    mae = tf.reduce_mean(mae)\n",
        "    mse = tf.reduce_mean(mse)\n",
        "    rmse = tf.reduce_mean(rmse)\n",
        "    mape = tf.reduce_mean(mape)\n",
        "    mase = tf.reduce_mean(mase)\n",
        "\n",
        "  return {\"mae\": mae.numpy(),\n",
        "          \"mse\": mse.numpy(),\n",
        "          \"rmse\": rmse.numpy(),\n",
        "          \"mape\": mape.numpy(),\n",
        "          \"mase\": mase.numpy()}"
      ]
    },
    {
      "cell_type": "markdown",
      "metadata": {
        "id": "_RnoZl28Udx4"
      },
      "source": [
        "Now we've updated `evaluate_preds()` to work with multiple shapes, how does it look?"
      ]
    },
    {
      "cell_type": "code",
      "execution_count": 54,
      "metadata": {
        "colab": {
          "base_uri": "https://localhost:8080/"
        },
        "id": "Kt1Z8yjpUij2",
        "outputId": "31690393-6057-40df-ef06-cfb3914d7ab4"
      },
      "outputs": [
        {
          "data": {
            "text/plain": [
              "{'mae': 1115.1816,\n",
              " 'mse': 2925080.2,\n",
              " 'rmse': 1282.9257,\n",
              " 'mape': 4.1057553,\n",
              " 'mase': 2.177504}"
            ]
          },
          "execution_count": 54,
          "metadata": {},
          "output_type": "execute_result"
        }
      ],
      "source": [
        "# Get model_3 results aggregated to single values\n",
        "model_3_results = evaluate_preds(y_true=tf.squeeze(test_labels),\n",
        "                                 y_pred=model_3_preds)\n",
        "model_3_results"
      ]
    },
    {
      "cell_type": "markdown",
      "metadata": {
        "id": "0XNIJfcsTpdA"
      },
      "source": [
        "Time to visualize.\n",
        "\n",
        "If our prediction evaluation metrics were mutli-dimensional, how do you think the predictions will look like if we plot them?"
      ]
    },
    {
      "cell_type": "code",
      "execution_count": 55,
      "metadata": {
        "colab": {
          "base_uri": "https://localhost:8080/",
          "height": 442
        },
        "id": "gBdg1NcLs3gW",
        "outputId": "f9c0c6dd-39f5-42b2-9c5c-8020742b9318"
      },
      "outputs": [
        {
          "data": {
            "image/png": "[encoded data removed]",
            "text/plain": [
              "<Figure size 1000x700 with 1 Axes>"
            ]
          },
          "metadata": {},
          "output_type": "display_data"
        }
      ],
      "source": [
        "offset = 300\n",
        "plt.figure(figsize=(10, 7))\n",
        "plot_time_series(timesteps=X_test[-len(test_windows):], values=test_labels[:, 0], start=offset, label=\"Test_data\")\n",
        "# Checking the shape of model_3_preds results in [n_test_samples, HORIZON] (this will screw up the plot)\n",
        "plot_time_series(timesteps=X_test[-len(test_windows):], values=model_3_preds, start=offset, label=\"model_3_preds\")"
      ]
    },
    {
      "cell_type": "markdown",
      "metadata": {
        "id": "j3nZnSG1Uute"
      },
      "source": [
        "When we try to plot our multi-horizon predicts, we get a funky looking plot.\n",
        "\n",
        "Again, we can fix this by aggregating our model's predictions.\n",
        "\n",
        "> 🔑 **Note:** Aggregating the predictions (e.g. reducing a 7-day horizon to one value such as the mean) loses information from the original prediction. As in, the model predictions were trained to be made for 7-days but by reducing them to one, we gain the ability to plot them visually but we lose the extra information contained across multiple days."
      ]
    },
    {
      "cell_type": "code",
      "execution_count": 56,
      "metadata": {
        "colab": {
          "base_uri": "https://localhost:8080/",
          "height": 442
        },
        "id": "wYpZb27bU6OO",
        "outputId": "c310346c-5cb9-4262-c52e-c468725aa4f0"
      },
      "outputs": [
        {
          "data": {
            "image/png": "[encoded data removed]",
            "text/plain": [
              "<Figure size 1000x700 with 1 Axes>"
            ]
          },
          "metadata": {},
          "output_type": "display_data"
        }
      ],
      "source": [
        "offset = 300\n",
        "plt.figure(figsize=(10, 7))\n",
        "# Plot model_3_preds by aggregating them (note: this condenses information so the preds will look fruther ahead than the test data)\n",
        "plot_time_series(timesteps=X_test[-len(test_windows):], \n",
        "                 values=test_labels[:, 0], \n",
        "                 start=offset, \n",
        "                 label=\"Test_data\")\n",
        "plot_time_series(timesteps=X_test[-len(test_windows):], \n",
        "                 values=tf.reduce_mean(model_3_preds, axis=1), \n",
        "                 format=\"-\",\n",
        "                 start=offset, \n",
        "                 label=\"model_3_preds\")"
      ]
    },
    {
      "cell_type": "markdown",
      "metadata": {
        "id": "Ojqon-Y5VpCC"
      },
      "source": [
        "## Which of our models is performing best so far?\n",
        "\n",
        "So far, we've trained 3 models which use the same architecture but use different data inputs.\n",
        "\n",
        "Let's compare them with the naïve model to see which model is performing the best so far."
      ]
    },
    {
      "cell_type": "code",
      "execution_count": 57,
      "metadata": {
        "colab": {
          "base_uri": "https://localhost:8080/",
          "height": 440
        },
        "id": "QA4EKseAVrYf",
        "outputId": "8c842c42-48b8-46ca-94f2-a6fc0344494f"
      },
      "outputs": [
        {
          "data": {
            "image/png": "[encoded data removed]",
            "text/plain": [
              "<Figure size 1000x700 with 1 Axes>"
            ]
          },
          "metadata": {},
          "output_type": "display_data"
        }
      ],
      "source": [
        "pd.DataFrame({\n",
        "              \"horizon_1_window_7\": model_1_results[\"mae\"], \n",
        "              \"horizon_1_window_30\": model_2_results[\"mae\"], \n",
        "              \"horizon_7_window_30\": model_3_results[\"mae\"]}, index=[\"mae\"]).plot(figsize=(10, 7), kind=\"bar\");"
      ]
    },
    {
      "cell_type": "markdown",
      "metadata": {
        "id": "dIRwia9BWeI5"
      },
      "source": [
        "Woah, our naïve model is performing best (it's very hard to beat a naïve model in open systems) but the dense model with a horizon of 1 and a window size of 7 looks to be performing cloest.\n",
        "\n",
        "Because of this, let's use `HORIZON=1` and `WINDOW_SIZE=7` for our next series of modelling experiments (in other words, we'll use the previous week of Bitcoin prices to try and predict the next day).\n",
        "\n",
        "> 🔑 **Note:** You might be wondering, why are the naïve results so good? One of the reasons could be due the presence of **autocorrelation** in the data. If a time series has **autocorrelation** it means the value at `t+1` (the next timestep) is typically close to the value at `t` (the current timestep). In other words, today's value is probably pretty close to yesterday's value. Of course, this isn't always the case but when it is, a naïve model will often get fairly good results.\n",
        "\n",
        "> 📖 **Resource:** For more on how autocorrelation influences a model's predictions, see the article [*How (not) to use Machine Learning for time series forecasting: Avoiding the pitfalls*](https://towardsdatascience.com/how-not-to-use-machine-learning-for-time-series-forecasting-avoiding-the-pitfalls-19f9d7adf424) by Vegard Flovik"
      ]
    },
    {
      "cell_type": "markdown",
      "metadata": {
        "id": "CxcL0gi-rWC5"
      },
      "source": [
        "## Model 4: Conv1D\n",
        "\n",
        "Onto the next modelling experiment!\n",
        "\n",
        "This time, we'll be using a Conv1D model. Because as we saw in the sequence modelling notebook, Conv1D models can be used for seq2seq (sequence to sequence) problems.\n",
        "\n",
        "In our case, the input sequence is the previous 7 days of Bitcoin price data and the output is the next day (in seq2seq terms this is called a many to one problem).\n",
        "\n",
        "![bitcoin prediction in seq2seq terms](https://raw.githubusercontent.com/mrdbourke/tensorflow-deep-learning/main/images/10-bitcoin-forecast-in-seq2seq-terms.png)\n",
        "*Framing Bitcoin forecasting in seq2seq (sequence to sequence) terms. Using a window size of 7 and a horizon of one results in a many to one problem. Using a window size of >1 and a horizon of >1 results in a many to many problem. The diagram comes from Andrei Karpathy's [The Unreasonable Effectiveness of Recurrent Neural Networks](http://karpathy.github.io/2015/05/21/rnn-effectiveness/)*.\n",
        "\n",
        "Before we build a Conv1D model, let's recreate our datasets."
      ]
    },
    {
      "cell_type": "code",
      "execution_count": 58,
      "metadata": {
        "id": "2_t9hXvXrZPD"
      },
      "outputs": [],
      "source": [
        "HORIZON = 1 # predict next day\n",
        "WINDOW_SIZE = 7 # use previous week worth of data"
      ]
    },
    {
      "cell_type": "code",
      "execution_count": 59,
      "metadata": {
        "colab": {
          "base_uri": "https://localhost:8080/"
        },
        "id": "CRCy-vXzsEGL",
        "outputId": "09b79a4c-efd0-4e96-ae40-98ed0dba39fe"
      },
      "outputs": [
        {
          "data": {
            "text/plain": [
              "(3391, 3391)"
            ]
          },
          "execution_count": 59,
          "metadata": {},
          "output_type": "execute_result"
        }
      ],
      "source": [
        "# Create windowed dataset\n",
        "full_windows, full_labels = make_windows(prices, window_size=WINDOW_SIZE, horizon=HORIZON)\n",
        "len(full_windows), len(full_labels)"
      ]
    },
    {
      "cell_type": "code",
      "execution_count": 60,
      "metadata": {
        "colab": {
          "base_uri": "https://localhost:8080/"
        },
        "id": "ZtsLeB3rsED2",
        "outputId": "dcab650a-b245-4b00-d475-48bb8f5435fe"
      },
      "outputs": [
        {
          "data": {
            "text/plain": [
              "(2712, 679, 2712, 679)"
            ]
          },
          "execution_count": 60,
          "metadata": {},
          "output_type": "execute_result"
        }
      ],
      "source": [
        "# Create train/test splits\n",
        "train_windows, test_windows, train_labels, test_labels = make_train_test_splits(full_windows, full_labels)\n",
        "len(train_windows), len(test_windows), len(train_labels), len(test_labels)"
      ]
    },
    {
      "cell_type": "markdown",
      "metadata": {
        "id": "RMtzZKYRXExH"
      },
      "source": [
        "Data windowed!\n",
        "\n",
        "Now, since we're going to be using [Conv1D layers](https://www.tensorflow.org/api_docs/python/tf/keras/layers/Conv1D), we need to make sure our input shapes are correct.\n",
        "\n",
        "The Conv1D layer in TensorFlow takes an input of: `(batch_size, timesteps, input_dim)`.\n",
        "\n",
        "In our case, the `batch_size` (by default this is 32 but we can change it) is handled for us but the other values will be:\n",
        "* `timesteps = WINDOW_SIZE` - the `timesteps` is also often referred to as `features`, our features are the previous `WINDOW_SIZE` values of Bitcoin \n",
        "* `input_dim = HORIZON` - our model views `WINDOW_SIZE` (one week) worth of data at a time to predict `HORIZON` (one day)\n",
        "\n",
        "Right now, our data has the `timesteps` dimension ready but we'll have to adjust it to have the `input_dim` dimension. "
      ]
    },
    {
      "cell_type": "code",
      "execution_count": 61,
      "metadata": {
        "colab": {
          "base_uri": "https://localhost:8080/"
        },
        "id": "To_k7zIAX7Pj",
        "outputId": "ee118751-d61f-43b0-b6a4-278acbf2b828"
      },
      "outputs": [
        {
          "data": {
            "text/plain": [
              "(7,)"
            ]
          },
          "execution_count": 61,
          "metadata": {},
          "output_type": "execute_result"
        }
      ],
      "source": [
        "# Check data sample shapes\n",
        "train_windows[0].shape # returns (WINDOW_SIZE, )"
      ]
    },
    {
      "cell_type": "markdown",
      "metadata": {
        "id": "oPIMnb3GYMvP"
      },
      "source": [
        "To fix this, we could adjust the shape of all of our `train_windows` or we could use a [`tf.keras.layers.Lamdba`](https://keras.io/api/layers/core_layers/lambda/) (called a Lambda layer) to do this for us in our model.\n",
        "\n",
        "The Lambda layer wraps a function into a layer which can be used with a model.\n",
        "\n",
        "Let's try it out."
      ]
    },
    {
      "cell_type": "code",
      "execution_count": 62,
      "metadata": {
        "colab": {
          "base_uri": "https://localhost:8080/"
        },
        "id": "62oSNy3VvZpv",
        "outputId": "d822a1bd-2cae-4a7c-a616-1ce82887303a"
      },
      "outputs": [
        {
          "name": "stdout",
          "output_type": "stream",
          "text": [
            "Original shape: (7,)\n",
            "Expanded shape: (7, 1)\n",
            "Original values with expanded shape:\n",
            " [[457.334]\n",
            " [424.44 ]\n",
            " [394.796]\n",
            " [408.904]\n",
            " [398.821]\n",
            " [402.152]\n",
            " [435.791]]\n"
          ]
        }
      ],
      "source": [
        "# Before we pass our data to the Conv1D layer, we have to reshape it in order to make sure it works\n",
        "x = tf.constant(train_windows[0])\n",
        "expand_dims_layer = layers.Lambda(lambda x: tf.expand_dims(x, axis=1)) # add an extra dimension for timesteps\n",
        "print(f\"Original shape: {x.shape}\") # (WINDOW_SIZE)\n",
        "print(f\"Expanded shape: {expand_dims_layer(x).shape}\") # (WINDOW_SIZE, input_dim) \n",
        "print(f\"Original values with expanded shape:\\n {expand_dims_layer(x)}\")"
      ]
    },
    {
      "cell_type": "markdown",
      "metadata": {
        "id": "vKt2YFb5ip4n"
      },
      "source": [
        "Looking good!\n",
        "\n",
        "Now we've got a Lambda layer, let's build, compile, fit and evaluate a Conv1D model on our data.\n",
        "\n",
        "> 🔑 **Note:** If you run the model below without the Lambda layer, you'll get an input shape error (one of the most common errors when building neural networks)."
      ]
    },
    {
      "cell_type": "code",
      "execution_count": 63,
      "metadata": {
        "colab": {
          "base_uri": "https://localhost:8080/"
        },
        "id": "jODevMWGsEBI",
        "outputId": "8d264c36-4f20-4573-88e7-dd498870a6aa"
      },
      "outputs": [
        {
          "name": "stdout",
          "output_type": "stream",
          "text": [
            "INFO:tensorflow:Assets written to: model_experiments/model_4_conv1D/assets\n"
          ]
        },
        {
          "name": "stderr",
          "output_type": "stream",
          "text": [
            "INFO:tensorflow:Assets written to: model_experiments/model_4_conv1D/assets\n"
          ]
        },
        {
          "name": "stdout",
          "output_type": "stream",
          "text": [
            "INFO:tensorflow:Assets written to: model_experiments/model_4_conv1D/assets\n"
          ]
        },
        {
          "name": "stderr",
          "output_type": "stream",
          "text": [
            "INFO:tensorflow:Assets written to: model_experiments/model_4_conv1D/assets\n"
          ]
        },
        {
          "name": "stdout",
          "output_type": "stream",
          "text": [
            "INFO:tensorflow:Assets written to: model_experiments/model_4_conv1D/assets\n"
          ]
        },
        {
          "name": "stderr",
          "output_type": "stream",
          "text": [
            "INFO:tensorflow:Assets written to: model_experiments/model_4_conv1D/assets\n"
          ]
        },
        {
          "name": "stdout",
          "output_type": "stream",
          "text": [
            "INFO:tensorflow:Assets written to: model_experiments/model_4_conv1D/assets\n"
          ]
        },
        {
          "name": "stderr",
          "output_type": "stream",
          "text": [
            "INFO:tensorflow:Assets written to: model_experiments/model_4_conv1D/assets\n"
          ]
        },
        {
          "name": "stdout",
          "output_type": "stream",
          "text": [
            "INFO:tensorflow:Assets written to: model_experiments/model_4_conv1D/assets\n"
          ]
        },
        {
          "name": "stderr",
          "output_type": "stream",
          "text": [
            "INFO:tensorflow:Assets written to: model_experiments/model_4_conv1D/assets\n"
          ]
        },
        {
          "name": "stdout",
          "output_type": "stream",
          "text": [
            "INFO:tensorflow:Assets written to: model_experiments/model_4_conv1D/assets\n"
          ]
        },
        {
          "name": "stderr",
          "output_type": "stream",
          "text": [
            "INFO:tensorflow:Assets written to: model_experiments/model_4_conv1D/assets\n"
          ]
        },
        {
          "name": "stdout",
          "output_type": "stream",
          "text": [
            "INFO:tensorflow:Assets written to: model_experiments/model_4_conv1D/assets\n"
          ]
        },
        {
          "name": "stderr",
          "output_type": "stream",
          "text": [
            "INFO:tensorflow:Assets written to: model_experiments/model_4_conv1D/assets\n"
          ]
        },
        {
          "data": {
            "text/plain": [
              "<keras.src.callbacks.History at 0x14b07e350>"
            ]
          },
          "execution_count": 63,
          "metadata": {},
          "output_type": "execute_result"
        }
      ],
      "source": [
        "tf.random.set_seed(42)\n",
        "\n",
        "# Create model\n",
        "model_4 = tf.keras.Sequential([\n",
        "  # Create Lambda layer to reshape inputs, without this layer, the model will error\n",
        "  layers.Lambda(lambda x: tf.expand_dims(x, axis=1)), # resize the inputs to adjust for window size / Conv1D 3D input requirements\n",
        "  layers.Conv1D(filters=128, kernel_size=5, padding=\"causal\", activation=\"relu\"),\n",
        "  layers.Dense(HORIZON)\n",
        "], name=\"model_4_conv1D\")\n",
        "\n",
        "# Compile model\n",
        "model_4.compile(loss=\"mae\",\n",
        "                optimizer=tf.keras.optimizers.Adam())\n",
        "\n",
        "# Fit model\n",
        "model_4.fit(train_windows,\n",
        "            train_labels,\n",
        "            batch_size=128, \n",
        "            epochs=epochs,\n",
        "            verbose=0,\n",
        "            validation_data=(test_windows, test_labels),\n",
        "            callbacks=[create_model_checkpoint(model_name=model_4.name)])"
      ]
    },
    {
      "cell_type": "markdown",
      "metadata": {
        "id": "dWqZR5cSjHCf"
      },
      "source": [
        "What does the Lambda layer look like in a summary?"
      ]
    },
    {
      "cell_type": "code",
      "execution_count": 64,
      "metadata": {
        "colab": {
          "base_uri": "https://localhost:8080/"
        },
        "id": "2FcGUALG4RxJ",
        "outputId": "945dbb97-927f-4f70-8a13-391c18db821d"
      },
      "outputs": [
        {
          "name": "stdout",
          "output_type": "stream",
          "text": [
            "Model: \"model_4_conv1D\"\n",
            "_________________________________________________________________\n",
            " Layer (type)                Output Shape              Param #   \n",
            "=================================================================\n",
            " lambda_1 (Lambda)           (None, 1, 7)              0         \n",
            "                                                                 \n",
            " conv1d (Conv1D)             (None, 1, 128)            4608      \n",
            "                                                                 \n",
            " dense_6 (Dense)             (None, 1, 1)              129       \n",
            "                                                                 \n",
            "=================================================================\n",
            "Total params: 4737 (18.50 KB)\n",
            "Trainable params: 4737 (18.50 KB)\n",
            "Non-trainable params: 0 (0.00 Byte)\n",
            "_________________________________________________________________\n"
          ]
        }
      ],
      "source": [
        "model_4.summary()"
      ]
    },
    {
      "cell_type": "markdown",
      "metadata": {
        "id": "MIZEau4Vjk-M"
      },
      "source": [
        "The Lambda layer appears the same as any other regular layer. \n",
        "\n",
        "Time to evaluate the Conv1D model."
      ]
    },
    {
      "cell_type": "code",
      "execution_count": 65,
      "metadata": {
        "colab": {
          "base_uri": "https://localhost:8080/"
        },
        "id": "KXEL9FuhsD-3",
        "outputId": "315e48d9-5262-4dca-a7db-9b3f2d3c07aa"
      },
      "outputs": [
        {
          "name": "stdout",
          "output_type": "stream",
          "text": [
            "22/22 [==============================] - 0s 959us/step - loss: 872.8693\n"
          ]
        },
        {
          "data": {
            "text/plain": [
              "872.8692626953125"
            ]
          },
          "execution_count": 65,
          "metadata": {},
          "output_type": "execute_result"
        }
      ],
      "source": [
        "# Load in best performing Conv1D model and evaluate it on the test data\n",
        "model_4 = tf.keras.models.load_model(\"model_experiments/model_4_conv1D\")\n",
        "model_4.evaluate(test_windows, test_labels)"
      ]
    },
    {
      "cell_type": "code",
      "execution_count": 66,
      "metadata": {
        "colab": {
          "base_uri": "https://localhost:8080/"
        },
        "id": "j99tbnwSsD8R",
        "outputId": "1cf57db2-3dff-4c14-8db8-e5dda6e29f4f"
      },
      "outputs": [
        {
          "name": "stdout",
          "output_type": "stream",
          "text": [
            "22/22 [==============================] - 0s 932us/step\n"
          ]
        },
        {
          "data": {
            "text/plain": [
              "<tf.Tensor: shape=(10,), dtype=float32, numpy=\n",
              "array([38153.496, 38181.59 , 38290.27 , 39226.54 , 40271.184, 40924.31 ,\n",
              "       41826.066, 42028.887, 42225.06 , 41428.082], dtype=float32)>"
            ]
          },
          "execution_count": 66,
          "metadata": {},
          "output_type": "execute_result"
        }
      ],
      "source": [
        "# Make predictions\n",
        "model_4_preds = make_preds(model_4, test_windows)\n",
        "model_4_preds[:10]"
      ]
    },
    {
      "cell_type": "code",
      "execution_count": 67,
      "metadata": {
        "colab": {
          "base_uri": "https://localhost:8080/"
        },
        "id": "yjfEDWxjrZW2",
        "outputId": "abb0a047-5324-4e0a-a21e-f092f23d24a3"
      },
      "outputs": [
        {
          "data": {
            "text/plain": [
              "{'mae': 872.86926,\n",
              " 'mse': 1738242.6,\n",
              " 'rmse': 1318.4243,\n",
              " 'mape': 3.1916962,\n",
              " 'mase': 1.6687094}"
            ]
          },
          "execution_count": 67,
          "metadata": {},
          "output_type": "execute_result"
        }
      ],
      "source": [
        "# Evaluate predictions\n",
        "model_4_results = evaluate_preds(y_true=tf.squeeze(test_labels),\n",
        "                                 y_pred=model_4_preds)\n",
        "model_4_results"
      ]
    },
    {
      "cell_type": "markdown",
      "metadata": {
        "id": "pZ2s0Rx0rZjE"
      },
      "source": [
        "## Model 5: RNN (LSTM)\n",
        "\n",
        "As you might've guessed, we can also use a recurrent neural network to model our sequential time series data.\n",
        "\n",
        "> 📖 **Resource:** For more on the different types of recurrent neural networks you can use for sequence problems, see the [Recurrent Neural Networks section of notebook 08](https://dev.mrdbourke.com/tensorflow-deep-learning/08_introduction_to_nlp_in_tensorflow/#recurrent-neural-networks-rnns).\n",
        "\n",
        "Let's reuse the same data we used for the Conv1D model, except this time we'll create an [LSTM-cell](https://www.tensorflow.org/api_docs/python/tf/keras/layers/LSTM) powered RNN to model our Bitcoin data. \n",
        "\n",
        "Once again, one of the most important steps for the LSTM model will be getting our data into the right shape.\n",
        "\n",
        "The [`tf.keras.layers.LSTM()`](https://www.tensorflow.org/api_docs/python/tf/keras/layers/LSTM) layer takes a tensor with `[batch, timesteps, feature]` dimensions.\n",
        "\n",
        "As mentioned earlier, the `batch` dimension gets taken care of for us but our data is currently only has the `feature` dimension (`WINDOW_SIZE`).\n",
        "\n",
        "To fix this, just like we did with the `Conv1D` model, we can use a `tf.keras.layers.Lambda()` layer to adjust the shape of our input tensors to the LSTM layer.\n",
        "\n",
        "\n",
        "\n",
        "\n",
        "\n",
        "\n"
      ]
    },
    {
      "cell_type": "code",
      "execution_count": 68,
      "metadata": {
        "colab": {
          "base_uri": "https://localhost:8080/"
        },
        "id": "a6YFL_b-rZrt",
        "outputId": "96a90e42-069a-459a-b140-6191cab11eb1"
      },
      "outputs": [
        {
          "name": "stdout",
          "output_type": "stream",
          "text": [
            "INFO:tensorflow:Assets written to: model_experiments/model_5_lstm/assets\n"
          ]
        },
        {
          "name": "stderr",
          "output_type": "stream",
          "text": [
            "INFO:tensorflow:Assets written to: model_experiments/model_5_lstm/assets\n"
          ]
        },
        {
          "name": "stdout",
          "output_type": "stream",
          "text": [
            "INFO:tensorflow:Assets written to: model_experiments/model_5_lstm/assets\n"
          ]
        },
        {
          "name": "stderr",
          "output_type": "stream",
          "text": [
            "INFO:tensorflow:Assets written to: model_experiments/model_5_lstm/assets\n"
          ]
        },
        {
          "name": "stdout",
          "output_type": "stream",
          "text": [
            "INFO:tensorflow:Assets written to: model_experiments/model_5_lstm/assets\n"
          ]
        },
        {
          "name": "stderr",
          "output_type": "stream",
          "text": [
            "INFO:tensorflow:Assets written to: model_experiments/model_5_lstm/assets\n"
          ]
        },
        {
          "name": "stdout",
          "output_type": "stream",
          "text": [
            "INFO:tensorflow:Assets written to: model_experiments/model_5_lstm/assets\n"
          ]
        },
        {
          "name": "stderr",
          "output_type": "stream",
          "text": [
            "INFO:tensorflow:Assets written to: model_experiments/model_5_lstm/assets\n"
          ]
        },
        {
          "name": "stdout",
          "output_type": "stream",
          "text": [
            "INFO:tensorflow:Assets written to: model_experiments/model_5_lstm/assets\n"
          ]
        },
        {
          "name": "stderr",
          "output_type": "stream",
          "text": [
            "INFO:tensorflow:Assets written to: model_experiments/model_5_lstm/assets\n"
          ]
        },
        {
          "name": "stdout",
          "output_type": "stream",
          "text": [
            "INFO:tensorflow:Assets written to: model_experiments/model_5_lstm/assets\n"
          ]
        },
        {
          "name": "stderr",
          "output_type": "stream",
          "text": [
            "INFO:tensorflow:Assets written to: model_experiments/model_5_lstm/assets\n"
          ]
        },
        {
          "data": {
            "text/plain": [
              "<keras.src.callbacks.History at 0x14c33a310>"
            ]
          },
          "execution_count": 68,
          "metadata": {},
          "output_type": "execute_result"
        }
      ],
      "source": [
        "tf.random.set_seed(42)\n",
        "\n",
        "# Let's build an LSTM model with the Functional API\n",
        "inputs = layers.Input(shape=(WINDOW_SIZE))\n",
        "x = layers.Lambda(lambda x: tf.expand_dims(x, axis=1))(inputs) # expand input dimension to be compatible with LSTM\n",
        "# print(x.shape)\n",
        "# x = layers.LSTM(128, activation=\"relu\", return_sequences=True)(x) # this layer will error if the inputs are not the right shape\n",
        "x = layers.LSTM(128, activation=\"relu\")(x) # using the tanh loss function results in a massive error\n",
        "# print(x.shape)\n",
        "# Add another optional dense layer (you could add more of these to see if they improve model performance)\n",
        "# x = layers.Dense(32, activation=\"relu\")(x)\n",
        "output = layers.Dense(HORIZON)(x)\n",
        "model_5 = tf.keras.Model(inputs=inputs, outputs=output, name=\"model_5_lstm\")\n",
        "\n",
        "# Compile model\n",
        "model_5.compile(loss=\"mae\",\n",
        "                optimizer=tf.keras.optimizers.Adam())\n",
        "\n",
        "# Seems when saving the model several warnings are appearing: https://github.com/tensorflow/tensorflow/issues/47554 \n",
        "model_5.fit(train_windows,\n",
        "            train_labels,\n",
        "            epochs=epochs,\n",
        "            verbose=0,\n",
        "            batch_size=128,\n",
        "            validation_data=(test_windows, test_labels),\n",
        "            callbacks=[create_model_checkpoint(model_name=model_5.name)])"
      ]
    },
    {
      "cell_type": "code",
      "execution_count": 69,
      "metadata": {
        "colab": {
          "base_uri": "https://localhost:8080/"
        },
        "id": "cOpHqmEtSsNw",
        "outputId": "8071fad7-885c-40d6-a601-0dd333aab6e1"
      },
      "outputs": [
        {
          "name": "stdout",
          "output_type": "stream",
          "text": [
            "22/22 [==============================] - 0s 2ms/step - loss: 873.8588\n"
          ]
        },
        {
          "data": {
            "text/plain": [
              "873.8588256835938"
            ]
          },
          "execution_count": 69,
          "metadata": {},
          "output_type": "execute_result"
        }
      ],
      "source": [
        "# Load in best version of model 5 and evaluate on the test data\n",
        "model_5 = tf.keras.models.load_model(\"model_experiments/model_5_lstm/\")\n",
        "model_5.evaluate(test_windows, test_labels)"
      ]
    },
    {
      "cell_type": "markdown",
      "metadata": {
        "id": "Pm_ZVNomnWvP"
      },
      "source": [
        "Now we've got the best performing LSTM model loaded in, let's make predictions with it and evaluate them."
      ]
    },
    {
      "cell_type": "code",
      "execution_count": 70,
      "metadata": {
        "colab": {
          "base_uri": "https://localhost:8080/"
        },
        "id": "yfG11v_51UWa",
        "outputId": "764915f3-48c2-4e64-b8a3-42867ea9eb0b"
      },
      "outputs": [
        {
          "name": "stdout",
          "output_type": "stream",
          "text": [
            "22/22 [==============================] - 0s 1ms/step\n"
          ]
        },
        {
          "data": {
            "text/plain": [
              "<tf.Tensor: shape=(10,), dtype=float32, numpy=\n",
              "array([37950.05 , 38024.83 , 37966.953, 38835.16 , 40116.03 , 40947.324,\n",
              "       40958.13 , 41019.227, 41675.78 , 41321.566], dtype=float32)>"
            ]
          },
          "execution_count": 70,
          "metadata": {},
          "output_type": "execute_result"
        }
      ],
      "source": [
        "# Make predictions with our LSTM model\n",
        "model_5_preds = make_preds(model_5, test_windows)\n",
        "model_5_preds[:10]"
      ]
    },
    {
      "cell_type": "code",
      "execution_count": 71,
      "metadata": {
        "colab": {
          "base_uri": "https://localhost:8080/"
        },
        "id": "sVv5Kg5N1axK",
        "outputId": "ef27748e-7980-4e94-af5a-b9f89840840a"
      },
      "outputs": [
        {
          "data": {
            "text/plain": [
              "{'mae': 873.8588,\n",
              " 'mse': 1684453.2,\n",
              " 'rmse': 1297.8649,\n",
              " 'mape': 3.1668591,\n",
              " 'mase': 1.6706012}"
            ]
          },
          "execution_count": 71,
          "metadata": {},
          "output_type": "execute_result"
        }
      ],
      "source": [
        "# Evaluate model 5 preds\n",
        "model_5_results = evaluate_preds(y_true=tf.squeeze(test_labels),\n",
        "                                 y_pred=model_5_preds)\n",
        "model_5_results"
      ]
    },
    {
      "cell_type": "markdown",
      "metadata": {
        "id": "V-lSjFE-4_qq"
      },
      "source": [
        "When we scale the block reward and the Bitcoin price, we can see the price goes up as the block reward goes down, perhaps this information will be helpful to our model's performance."
      ]
    },
    {
      "cell_type": "markdown",
      "metadata": {
        "id": "7m0h2WcP5Ko8"
      },
      "source": [
        "## Making a windowed dataset with pandas\n",
        "\n",
        "Previously, we used some custom made functions to window our **univariate** time series.\n",
        "\n",
        "However, since we've just added another variable to our dataset, these functions won't work.\n",
        "\n",
        "Not to worry though. Since our data is in a pandas DataFrame, we can leverage the [`pandas.DataFrame.shift()`](https://pandas.pydata.org/pandas-docs/stable/reference/api/pandas.DataFrame.shift.html) method to create a windowed **multivariate** time series.\n",
        "\n",
        "The `shift()` method offsets an index by a specified number of periods.\n",
        "\n",
        "Let's see it in action."
      ]
    },
    {
      "cell_type": "code",
      "execution_count": 72,
      "metadata": {
        "id": "8_9iFxKS8Sed"
      },
      "outputs": [],
      "source": [
        "# Setup dataset hyperparameters\n",
        "HORIZON = 1\n",
        "WINDOW_SIZE = 7"
      ]
    },
    {
      "cell_type": "code",
      "execution_count": 73,
      "metadata": {
        "colab": {
          "base_uri": "https://localhost:8080/",
          "height": 390
        },
        "id": "DqPp3HdHsXO8",
        "outputId": "82838ef8-9ee5-4967-bfd0-25a5e8a72eef"
      },
      "outputs": [
        {
          "ename": "NameError",
          "evalue": "name 'bitcoin_prices_block' is not defined",
          "output_type": "error",
          "traceback": [
            "\u001b[0;31m---------------------------------------------------------------------------\u001b[0m",
            "\u001b[0;31mNameError\u001b[0m                                 Traceback (most recent call last)",
            "Cell \u001b[0;32mIn[73], line 2\u001b[0m\n\u001b[1;32m      1\u001b[0m \u001b[38;5;66;03m# Make a copy of the Bitcoin historical data with block reward feature\u001b[39;00m\n\u001b[0;32m----> 2\u001b[0m bitcoin_prices_windowed \u001b[38;5;241m=\u001b[39m \u001b[43mbitcoin_prices_block\u001b[49m\u001b[38;5;241m.\u001b[39mcopy()\n\u001b[1;32m      4\u001b[0m \u001b[38;5;66;03m# Add windowed columns\u001b[39;00m\n\u001b[1;32m      5\u001b[0m \u001b[38;5;28;01mfor\u001b[39;00m i \u001b[38;5;129;01min\u001b[39;00m \u001b[38;5;28mrange\u001b[39m(WINDOW_SIZE): \u001b[38;5;66;03m# Shift values for each step in WINDOW_SIZE\u001b[39;00m\n",
            "\u001b[0;31mNameError\u001b[0m: name 'bitcoin_prices_block' is not defined"
          ]
        }
      ],
      "source": [
        "# Make a copy of the Bitcoin historical data with block reward feature\n",
        "bitcoin_prices_windowed = bitcoin_prices_block.copy()\n",
        "\n",
        "# Add windowed columns\n",
        "for i in range(WINDOW_SIZE): # Shift values for each step in WINDOW_SIZE\n",
        "  bitcoin_prices_windowed[f\"Price+{i+1}\"] = bitcoin_prices_windowed[\"Price\"].shift(periods=i+1)\n",
        "bitcoin_prices_windowed.head(10)"
      ]
    },
    {
      "cell_type": "markdown",
      "metadata": {
        "id": "Pbfw5uqEzlZ3"
      },
      "source": [
        "Training and test multivariate time series datasets made! Time to build a model."
      ]
    },
    {
      "cell_type": "markdown",
      "metadata": {
        "id": "UW9oxH47EK-6"
      },
      "source": [
        "## Model 9: Train a model on the full historical data to make predictions into future\n",
        "\n",
        "What would a forecasting model be worth if we didn't use it to predict into the future?\n",
        "\n",
        "It's time we created a model which is able to make future predictions on the price of Bitcoin.\n",
        "\n",
        "To make predictions into the future, we'll train a model on the full dataset and then get to make predictions to some future horizon.\n",
        "\n",
        "Why use the full dataset?\n",
        "\n",
        "Previously, we split our data into training and test sets to evaluate how our model did on pseudo-future data (the test set).\n",
        "\n",
        "But since the goal of a forecasting model is to predict values into the actual-future, we won't be using a test set.\n",
        "\n",
        "> 🔑 **Note:** Forecasting models need to be retrained every time a forecast is made. Why? Because if Bitcoin prices are updated daily and you predict the price for tomorrow. Your model is only really valid for one day. When a new price comes out (e.g. the next day), you'll have to retrain your model to incorporate that new price to predict the next forecast.\n",
        "\n",
        "Let's get some data ready."
      ]
    },
    {
      "cell_type": "code",
      "execution_count": null,
      "metadata": {
        "colab": {
          "base_uri": "https://localhost:8080/"
        },
        "id": "0lseRHbOYseR",
        "outputId": "caa7777f-a8ef-4098-d026-26879b4119f5"
      },
      "outputs": [],
      "source": [
        "bitcoin_prices_windowed.head()"
      ]
    },
    {
      "cell_type": "code",
      "execution_count": null,
      "metadata": {
        "id": "-HZ9ObQaYyVf"
      },
      "outputs": [],
      "source": [
        "# Train model on entire data to make prediction for the next day \n",
        "X_all = bitcoin_prices_windowed.drop([\"Price\", \"block_reward\"], axis=1).dropna().to_numpy() # only want prices, our future model can be a univariate model\n",
        "y_all = bitcoin_prices_windowed.dropna()[\"Price\"].to_numpy()"
      ]
    },
    {
      "cell_type": "markdown",
      "metadata": {
        "id": "6clQZWFCYPAW"
      },
      "source": [
        "Windows and labels ready! Let's turn them into performance optimized TensorFlow Datasets by:\n",
        "1. Turning `X_all` and `y_all` into tensor Datasets using [`tf.data.Dataset.from_tensor_slices()`](https://www.tensorflow.org/api_docs/python/tf/data/Dataset#from_tensor_slices)\n",
        "2. Combining the features and labels into a Dataset tuple using [`tf.data.Dataset.zip()`](https://www.tensorflow.org/api_docs/python/tf/data/Dataset#zip)\n",
        "3. Batch and prefetch the data using [`tf.data.Dataset.batch()`](https://www.tensorflow.org/api_docs/python/tf/data/Dataset#batch) and [`tf.data.Dataset.prefetch()`](https://www.tensorflow.org/api_docs/python/tf/data/Dataset#prefetch) respectively"
      ]
    },
    {
      "cell_type": "code",
      "execution_count": null,
      "metadata": {
        "colab": {
          "base_uri": "https://localhost:8080/"
        },
        "id": "B-eX9FBPZYkR",
        "outputId": "d66cdfbe-60d1-41ef-e6fe-902b559cbf9a"
      },
      "outputs": [],
      "source": [
        "# 1. Turn X and y into tensor Datasets\n",
        "features_dataset_all = tf.data.Dataset.from_tensor_slices(X_all)\n",
        "labels_dataset_all = tf.data.Dataset.from_tensor_slices(y_all)\n",
        "\n",
        "# 2. Combine features & labels\n",
        "dataset_all = tf.data.Dataset.zip((features_dataset_all, labels_dataset_all))\n",
        "\n",
        "# 3. Batch and prefetch for optimal performance\n",
        "BATCH_SIZE = 1024 # taken from Appendix D in N-BEATS paper\n",
        "dataset_all = dataset_all.batch(BATCH_SIZE).prefetch(tf.data.AUTOTUNE)\n",
        "\n",
        "dataset_all"
      ]
    },
    {
      "cell_type": "markdown",
      "metadata": {
        "id": "63wxSbcuY8RI"
      },
      "source": [
        "And now let's create a model similar to `model_1` except with an extra layer, we'll also fit it to the entire dataset for 100 epochs (feel free to play around with the number of epochs or callbacks here, you've got the skills to now)."
      ]
    },
    {
      "cell_type": "code",
      "execution_count": null,
      "metadata": {
        "colab": {
          "base_uri": "https://localhost:8080/"
        },
        "id": "dCtmpaCGZ_fj",
        "outputId": "b81ba08b-8d8d-4305-f711-4d18d2aff51f"
      },
      "outputs": [],
      "source": [
        "tf.random.set_seed(42)\n",
        "\n",
        "# Create model (nice and simple, just to test)\n",
        "model_9 = tf.keras.Sequential([\n",
        "  layers.Dense(128, activation=\"relu\"),\n",
        "  layers.Dense(128, activation=\"relu\"),\n",
        "  layers.Dense(HORIZON)\n",
        "])\n",
        "\n",
        "# Compile\n",
        "model_9.compile(loss=tf.keras.losses.mae,\n",
        "                optimizer=tf.keras.optimizers.Adam())\n",
        "\n",
        "# Fit model on all of the data to make future forecasts\n",
        "model_9.fit(dataset_all,\n",
        "            epochs=epochs,\n",
        "            verbose=0) # don't print out anything, we've seen this all before"
      ]
    },
    {
      "cell_type": "markdown",
      "metadata": {
        "id": "Dv1Z7Q8N4qI5"
      },
      "source": [
        "### Make predictions on the future\n",
        "\n",
        "Let's predict the future and get rich!\n",
        "\n",
        "Well... maybe not.\n",
        "\n",
        "As you've seen so far, our machine learning models have performed quite poorly at predicting the price of Bitcoin (time series forecasting in open systems is typically a game of luck), often worse than the naive forecast.\n",
        "\n",
        "That doesn't mean we can't use our models to *try* and predict into the future right?\n",
        "\n",
        "To do so, let's start by defining a variable `INTO_FUTURE` which decides how many timesteps we'd like to predict into the future."
      ]
    },
    {
      "cell_type": "code",
      "execution_count": null,
      "metadata": {
        "id": "sYxHD1qPA1Mj"
      },
      "outputs": [],
      "source": [
        "# How many timesteps to predict into the future?\n",
        "INTO_FUTURE = 14 # since our Bitcoin data is daily, this is for 14 days"
      ]
    },
    {
      "cell_type": "markdown",
      "metadata": {
        "id": "4b2Flb1Wb4G4"
      },
      "source": [
        "![flowchart representation prediction loop to make forecasts and then append forecasts to data and make more forecasts continuously until forecast horizon is exhausted](https://raw.githubusercontent.com/mrdbourke/tensorflow-deep-learning/main/images/10-prediction-loop-for-forecasts.png)\n",
        "\n",
        "\n",
        "*Example flow chart representing the loop we're about to create for making forecasts. Not pictured: retraining a forecasting model every time a forecast is made & new data is acquired. For example, if you're predicting the price of Bitcoin daily, you'd want to retrain your model every day, since each day you're going to have a new data point to work with.*\n",
        "\n",
        "Alright, let's create a function which returns `INTO_FUTURE` forecasted values using a trained model.\n",
        "\n",
        "To do so, we'll build the following steps:\n",
        "1. Function which takes as input: \n",
        "  * a list of values (the Bitcoin historical data)\n",
        "  * a trained model (such as `model_9`)\n",
        "  * a window into the future to predict (our `INTO_FUTURE` variable)\n",
        "  * the window size a model was trained on (`WINDOW_SIZE`) - the model can only predict on the same kind of data it was trained on\n",
        "2. Creates an empty list for future forecasts (this will be returned at the end of the function) and extracts the last `WINDOW_SIZE` values from the input values (predictions will start from the last `WINDOW_SIZE` values of the training data)\n",
        "3. Loop `INTO_FUTURE` times making a prediction on `WINDOW_SIZE` datasets which update to remove the first the value and append the latest prediction \n",
        "  * Eventually future predictions will be made using the model's own previous predictions as input"
      ]
    },
    {
      "cell_type": "code",
      "execution_count": null,
      "metadata": {
        "id": "JEtTHMV_iE7f"
      },
      "outputs": [],
      "source": [
        "# 1. Create function to make predictions into the future\n",
        "def make_future_forecast(values, model, into_future, window_size=WINDOW_SIZE) -> list:\n",
        "  \"\"\"\n",
        "  Makes future forecasts into_future steps after values ends.\n",
        "\n",
        "  Returns future forecasts as list of floats.\n",
        "  \"\"\"\n",
        "  # 2. Make an empty list for future forecasts/prepare data to forecast on\n",
        "  future_forecast = []\n",
        "  last_window = values[-WINDOW_SIZE:] # only want preds from the last window (this will get updated)\n",
        "\n",
        "  # 3. Make INTO_FUTURE number of predictions, altering the data which gets predicted on each time \n",
        "  for _ in range(into_future):\n",
        "    \n",
        "    # Predict on last window then append it again, again, again (model starts to make forecasts on its own forecasts)\n",
        "    future_pred = model.predict(tf.expand_dims(last_window, axis=0))\n",
        "    print(f\"Predicting on: \\n {last_window} -> Prediction: {tf.squeeze(future_pred).numpy()}\\n\")\n",
        "    \n",
        "    # Append predictions to future_forecast\n",
        "    future_forecast.append(tf.squeeze(future_pred).numpy())\n",
        "    # print(future_forecast)\n",
        "\n",
        "    # Update last window with new pred and get WINDOW_SIZE most recent preds (model was trained on WINDOW_SIZE windows)\n",
        "    last_window = np.append(last_window, future_pred)[-WINDOW_SIZE:]\n",
        "  \n",
        "  return future_forecast"
      ]
    },
    {
      "cell_type": "markdown",
      "metadata": {
        "id": "shcu6e7EeSWz"
      },
      "source": [
        "Nice! Time to bring BitPredict 💰📈 to life and make future forecasts of the price of Bitcoin.\n",
        "\n",
        "> 🛠 **Exercise:** In terms of a forecasting model, what might another approach to our `make_future_forecasts()` function? Recall, that for making forecasts, you need to retrain a model each time you want to generate a new prediction. \n",
        ">\n",
        "> So perhaps you could try to: make a prediction (one timestep into the future), retrain a model with this new prediction appended to the data, make a prediction, append the prediction, retrain a model... etc. \n",
        ">\n",
        "> As it is, the `make_future_forecasts()` function skips the retraining of a model part."
      ]
    },
    {
      "cell_type": "code",
      "execution_count": null,
      "metadata": {
        "colab": {
          "base_uri": "https://localhost:8080/"
        },
        "id": "ZZVNYdqJ5zo9",
        "outputId": "348d457b-3ab1-4b99-bd99-96e643c8c749"
      },
      "outputs": [],
      "source": [
        "# Make forecasts into future of the price of Bitcoin\n",
        "# Note: if you're reading this at a later date, you may already be in the future, so the forecasts \n",
        "# we're making may not actually be forecasts, if that's the case, readjust the training data.\n",
        "future_forecast = make_future_forecast(values=y_all,\n",
        "                                       model=model_9,\n",
        "                                       into_future=INTO_FUTURE,\n",
        "                                       window_size=WINDOW_SIZE)"
      ]
    },
    {
      "cell_type": "code",
      "execution_count": null,
      "metadata": {
        "colab": {
          "base_uri": "https://localhost:8080/"
        },
        "id": "hFZmkWRccmQ5",
        "outputId": "c33733d2-cc17-4a92-9f87-db55c5494d14"
      },
      "outputs": [],
      "source": [
        "future_forecast[:10]"
      ]
    },
    {
      "cell_type": "markdown",
      "metadata": {
        "id": "QuaY0cOaCHfr"
      },
      "source": [
        "### Plot future forecasts\n",
        "\n",
        "This is so exciting! Forecasts made! \n",
        "\n",
        "But right now, they're just numbers on a page.\n",
        "\n",
        "Let's bring them to life by adhering to the data explorer's motto: visualize, visualize, visualize!\n",
        "\n",
        "To plot our model's future forecasts against the historical data of Bitcoin, we're going to need a series of future dates (future dates from the final date of where our dataset ends).\n",
        "\n",
        "How about we create a function to return a date range from some specified start date to a specified number of days into the future (`INTO_FUTURE`).\n",
        "\n",
        "To do so, we'll use a combination of NumPy's [`datetime64` datatype](https://numpy.org/doc/stable/reference/arrays.datetime.html) (our Bitcoin dates are already in this datatype) as well as NumPy's `timedelta64` method which helps to create date ranges."
      ]
    },
    {
      "cell_type": "code",
      "execution_count": null,
      "metadata": {
        "id": "i4iNNliSCbU-"
      },
      "outputs": [],
      "source": [
        "def get_future_dates(start_date, into_future, offset=1):\n",
        "  \"\"\"\n",
        "  Returns array of datetime values from ranging from start_date to start_date+horizon.\n",
        "\n",
        "  start_date: date to start range (np.datetime64)\n",
        "  into_future: number of days to add onto start date for range (int)\n",
        "  offset: number of days to offset start_date by (default 1)\n",
        "  \"\"\"\n",
        "  start_date = start_date + np.timedelta64(offset, \"D\") # specify start date, \"D\" stands for day\n",
        "  end_date = start_date + np.timedelta64(into_future, \"D\") # specify end date\n",
        "  return np.arange(start_date, end_date, dtype=\"datetime64[D]\") # return a date range between start date and end date"
      ]
    },
    {
      "cell_type": "markdown",
      "metadata": {
        "id": "sob2VY8chLA5"
      },
      "source": [
        "The start date of our forecasted dates will be the last date of our dataset. "
      ]
    },
    {
      "cell_type": "code",
      "execution_count": null,
      "metadata": {
        "colab": {
          "base_uri": "https://localhost:8080/"
        },
        "id": "6676Sl-cAFn5",
        "outputId": "fbfc545a-a313-4866-ea98-c4f1b397d0bf"
      },
      "outputs": [],
      "source": [
        "# Last timestep of timesteps (currently in np.datetime64 format)\n",
        "last_timestep = bitcoin_prices.index[-1]\n",
        "last_timestep"
      ]
    },
    {
      "cell_type": "code",
      "execution_count": null,
      "metadata": {
        "colab": {
          "base_uri": "https://localhost:8080/"
        },
        "id": "252bhVD7C5NZ",
        "outputId": "17065a39-4de8-4528-a380-2415a528db8c"
      },
      "outputs": [],
      "source": [
        "# Get next two weeks of timesteps\n",
        "next_time_steps = get_future_dates(start_date=last_timestep, \n",
        "                                   into_future=INTO_FUTURE)\n",
        "next_time_steps"
      ]
    },
    {
      "cell_type": "markdown",
      "metadata": {
        "id": "A5FIVsQJhVVs"
      },
      "source": [
        "Look at that! We've now got a list of dates we can use to visualize our future Bitcoin predictions.\n",
        "\n",
        "But to make sure the lines of the plot connect (try not running the cell below and then plotting the data to see what I mean), let's insert the last timestep and Bitcoin price of our training data to the `next_time_steps` and `future_forecast` arrays."
      ]
    },
    {
      "cell_type": "code",
      "execution_count": null,
      "metadata": {
        "colab": {
          "base_uri": "https://localhost:8080/"
        },
        "id": "QLXAudg3hIo9",
        "outputId": "c33b3c8d-8fd5-49c3-951e-d111d6b6c5e8"
      },
      "outputs": [],
      "source": [
        "# Insert last timestep/final price so the graph doesn't look messed\n",
        "next_time_steps = np.insert(next_time_steps, 0, last_timestep)\n",
        "future_forecast = np.insert(future_forecast, 0, btc_price[-1])\n",
        "next_time_steps, future_forecast"
      ]
    },
    {
      "cell_type": "markdown",
      "metadata": {
        "id": "-xDtk3wHhyDQ"
      },
      "source": [
        "Time to plot!"
      ]
    },
    {
      "cell_type": "code",
      "execution_count": null,
      "metadata": {
        "colab": {
          "base_uri": "https://localhost:8080/",
          "height": 442
        },
        "id": "LUo-rjmpfuM0",
        "outputId": "79e101a7-7475-49fe-a1ee-1532578a3a80"
      },
      "outputs": [],
      "source": [
        "# Plot future price predictions of Bitcoin\n",
        "plt.figure(figsize=(10, 7))\n",
        "plot_time_series(bitcoin_prices.index, btc_price, start=2500, format=\"-\", label=\"Actual BTC Price\")\n",
        "plot_time_series(next_time_steps, future_forecast, format=\"-\", label=\"Predicted BTC Price\")"
      ]
    },
    {
      "cell_type": "markdown",
      "metadata": {
        "id": "xWwHor7lBR3b"
      },
      "source": [
        "## Compare Models\n",
        "\n",
        "We've trained a bunch of models.\n",
        "\n",
        "And if anything, we've seen just how poorly machine learning and deep learning models are at forecasting the price of Bitcoin (or any kind of open market value).\n",
        "\n",
        "To highlight this, let's compare the results of all of the modelling experiments we've performed so far."
      ]
    },
    {
      "cell_type": "code",
      "execution_count": null,
      "metadata": {
        "colab": {
          "base_uri": "https://localhost:8080/",
          "height": 359
        },
        "id": "vZtkauQXBXVx",
        "outputId": "af622e83-258b-4d7a-de18-5e59027b169d"
      },
      "outputs": [],
      "source": [
        "# Compare different model results (w = window, h = horizon, e.g. w=7 means a window size of 7)\n",
        "model_results = pd.DataFrame({\n",
        "                              \"model_1_dense_w7_h1\": model_1_results,\n",
        "                              \"model_2_dense_w30_h1\": model_2_results,\n",
        "                              \"model_3_dense_w30_h7\": model_3_results,\n",
        "                              \"model_4_CONV1D\": model_4_results,\n",
        "                              \"model_5_LSTM\": model_5_results,\n",
        "                             \n",
        "                             }).T\n",
        "model_results.head(10)"
      ]
    },
    {
      "cell_type": "code",
      "execution_count": null,
      "metadata": {
        "colab": {
          "base_uri": "https://localhost:8080/",
          "height": 539
        },
        "id": "PrLcCM-LFv2B",
        "outputId": "c96cae30-d0dd-4c1d-eaf3-4b4258e96639"
      },
      "outputs": [],
      "source": [
        "# Sort model results by MAE and plot them\n",
        "model_results[[\"mae\"]].sort_values(by=\"mae\").plot(figsize=(10, 7), kind=\"bar\");"
      ]
    },
    {
      "cell_type": "markdown",
      "metadata": {
        "id": "ke0mH9fr5HP1"
      },
      "source": [
        "The majority of our deep learning models perform on par or only slightly better than the naive model. And for the turkey model, changing a single data point destroys its performance.\n",
        "\n",
        "> 🔑 **Note:** Just because one type of model performs better here doesn't mean it'll perform the best elsewhere (and vice versa, just because one model performs poorly here, doesn't mean it'll perform poorly elsewhere).\n",
        "\n",
        "As I said at the start, this is not financial advice.\n",
        "\n",
        "After what we've gone through, you'll now have some of the skills required to callout BS for any future tutorial or blog post or investment sales guide claiming to have model which is able to predict the futrue.\n",
        "\n",
        "[Mark Saroufim's Tweet](https://twitter.com/marksaroufim/status/1366871736604532739?s=20) sums this up nicely (stock market forecasting with a machine learning model is just as reliable as palm reading).\n",
        "\n",
        "![Mark Saroufim tweet on what forecasting with a machine learning model reminds him of: palm reading, basic heuristics, comparing calculations in the brain of different organisms](https://raw.githubusercontent.com/mrdbourke/tensorflow-deep-learning/main/images/10-mark-saroufim-tweet-forecasting-bs.png)\n",
        "*Beware the tutorials or trading courses which claim to use some kind of algorithm to beat the market (an open system), they're likely a scam or the creator is very lucky and hasn't yet come across a turkey problem.*\n",
        "\n",
        "Don't let these results get you down though, forecasting in a closed system (such as predicting the demand of electricity) often yields quite usable results.\n",
        "\n",
        "If anything, this module teaches anti-knowledge. Knowing that forecasting methods usually *don't* perform well in open systems.\n",
        "\n",
        "Plus, sometimes not knowing the future is a benefit. A known future is already the past.\n",
        "\n"
      ]
    }
  ],
  "metadata": {
    "accelerator": "GPU",
    "colab": {
      "authorship_tag": "ABX9TyMKHq9zYuL5lcH+aaRNPUt2",
      "collapsed_sections": [],
      "include_colab_link": true,
      "name": "10_time_series_forecasting_in_tensorflow.ipynb",
      "provenance": []
    },
    "kernelspec": {
      "display_name": "Python 3",
      "name": "python3"
    },
    "language_info": {
      "codemirror_mode": {
        "name": "ipython",
        "version": 3
      },
      "file_extension": ".py",
      "mimetype": "text/x-python",
      "name": "python",
      "nbconvert_exporter": "python",
      "pygments_lexer": "ipython3",
      "version": "3.11.5"
    }
  },
  "nbformat": 4,
  "nbformat_minor": 0
}
