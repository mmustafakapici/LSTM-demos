{
  "cells": [
    {
      "cell_type": "code",
      "execution_count": 1,
      "metadata": {
        "colab": {
          "base_uri": "https://localhost:8080/"
        },
        "id": "qjEuJ-j7yEdK",
        "outputId": "49462ae4-592f-4240-f8a2-633308ac4022"
      },
      "outputs": [
        {
          "name": "stderr",
          "output_type": "stream",
          "text": [
            "2024-01-05 20:00:59.991680: I tensorflow/core/platform/cpu_feature_guard.cc:182] This TensorFlow binary is optimized to use available CPU instructions in performance-critical operations.\n",
            "To enable the following instructions: AVX2 FMA, in other operations, rebuild TensorFlow with the appropriate compiler flags.\n"
          ]
        }
      ],
      "source": [
        "import pandas as pd \n",
        "import numpy as np\n",
        "import matplotlib.pyplot as plt\n",
        "import yfinance as yf\n",
        "import tensorflow as tf\n",
        "\n"
      ]
    },
    {
      "cell_type": "code",
      "execution_count": 2,
      "metadata": {},
      "outputs": [
        {
          "name": "stdout",
          "output_type": "stream",
          "text": [
            "[*********************100%%**********************]  1 of 1 completed\n"
          ]
        },
        {
          "data": {
            "text/html": [
              "<div>\n",
              "<style scoped>\n",
              "    .dataframe tbody tr th:only-of-type {\n",
              "        vertical-align: middle;\n",
              "    }\n",
              "\n",
              "    .dataframe tbody tr th {\n",
              "        vertical-align: top;\n",
              "    }\n",
              "\n",
              "    .dataframe thead th {\n",
              "        text-align: right;\n",
              "    }\n",
              "</style>\n",
              "<table border=\"1\" class=\"dataframe\">\n",
              "  <thead>\n",
              "    <tr style=\"text-align: right;\">\n",
              "      <th></th>\n",
              "      <th>Open</th>\n",
              "      <th>High</th>\n",
              "      <th>Low</th>\n",
              "      <th>Close</th>\n",
              "      <th>Adj Close</th>\n",
              "      <th>Volume</th>\n",
              "    </tr>\n",
              "    <tr>\n",
              "      <th>Date</th>\n",
              "      <th></th>\n",
              "      <th></th>\n",
              "      <th></th>\n",
              "      <th></th>\n",
              "      <th></th>\n",
              "      <th></th>\n",
              "    </tr>\n",
              "  </thead>\n",
              "  <tbody>\n",
              "    <tr>\n",
              "      <th>2014-09-17</th>\n",
              "      <td>465.864014</td>\n",
              "      <td>468.174011</td>\n",
              "      <td>452.421997</td>\n",
              "      <td>457.334015</td>\n",
              "      <td>457.334015</td>\n",
              "      <td>21056800</td>\n",
              "    </tr>\n",
              "    <tr>\n",
              "      <th>2014-09-18</th>\n",
              "      <td>456.859985</td>\n",
              "      <td>456.859985</td>\n",
              "      <td>413.104004</td>\n",
              "      <td>424.440002</td>\n",
              "      <td>424.440002</td>\n",
              "      <td>34483200</td>\n",
              "    </tr>\n",
              "    <tr>\n",
              "      <th>2014-09-19</th>\n",
              "      <td>424.102997</td>\n",
              "      <td>427.834991</td>\n",
              "      <td>384.532013</td>\n",
              "      <td>394.795990</td>\n",
              "      <td>394.795990</td>\n",
              "      <td>37919700</td>\n",
              "    </tr>\n",
              "    <tr>\n",
              "      <th>2014-09-20</th>\n",
              "      <td>394.673004</td>\n",
              "      <td>423.295990</td>\n",
              "      <td>389.882996</td>\n",
              "      <td>408.903992</td>\n",
              "      <td>408.903992</td>\n",
              "      <td>36863600</td>\n",
              "    </tr>\n",
              "    <tr>\n",
              "      <th>2014-09-21</th>\n",
              "      <td>408.084991</td>\n",
              "      <td>412.425995</td>\n",
              "      <td>393.181000</td>\n",
              "      <td>398.821014</td>\n",
              "      <td>398.821014</td>\n",
              "      <td>26580100</td>\n",
              "    </tr>\n",
              "  </tbody>\n",
              "</table>\n",
              "</div>"
            ],
            "text/plain": [
              "                  Open        High         Low       Close   Adj Close  \\\n",
              "Date                                                                     \n",
              "2014-09-17  465.864014  468.174011  452.421997  457.334015  457.334015   \n",
              "2014-09-18  456.859985  456.859985  413.104004  424.440002  424.440002   \n",
              "2014-09-19  424.102997  427.834991  384.532013  394.795990  394.795990   \n",
              "2014-09-20  394.673004  423.295990  389.882996  408.903992  408.903992   \n",
              "2014-09-21  408.084991  412.425995  393.181000  398.821014  398.821014   \n",
              "\n",
              "              Volume  \n",
              "Date                  \n",
              "2014-09-17  21056800  \n",
              "2014-09-18  34483200  \n",
              "2014-09-19  37919700  \n",
              "2014-09-20  36863600  \n",
              "2014-09-21  26580100  "
            ]
          },
          "execution_count": 2,
          "metadata": {},
          "output_type": "execute_result"
        }
      ],
      "source": [
        "# Download Bitcoin data from Yahoo Finance\n",
        "\n",
        "btc_data = yf.download('BTC-USD', period='3600d')  # Bitcoin verilerini yfinance ile indirme\n",
        "df = btc_data[['Open', 'High', 'Low', 'Close' , 'Adj Close', 'Volume']]  # İlgili sütunların seçilmesi\n",
        "\n",
        "df.head()  # İlk 5 satırın gösterilmesi"
      ]
    },
    {
      "cell_type": "markdown",
      "metadata": {
        "id": "EQiDyqJaCdSS"
      },
      "source": [
        "Looking good! Let's get some more info."
      ]
    },
    {
      "cell_type": "code",
      "execution_count": 3,
      "metadata": {
        "colab": {
          "base_uri": "https://localhost:8080/"
        },
        "id": "Z-YoeINjCzJ_",
        "outputId": "d4ac2c82-9f59-438a-c749-fe418b04764d"
      },
      "outputs": [
        {
          "name": "stdout",
          "output_type": "stream",
          "text": [
            "<class 'pandas.core.frame.DataFrame'>\n",
            "DatetimeIndex: 3398 entries, 2014-09-17 to 2024-01-05\n",
            "Data columns (total 6 columns):\n",
            " #   Column     Non-Null Count  Dtype  \n",
            "---  ------     --------------  -----  \n",
            " 0   Open       3398 non-null   float64\n",
            " 1   High       3398 non-null   float64\n",
            " 2   Low        3398 non-null   float64\n",
            " 3   Close      3398 non-null   float64\n",
            " 4   Adj Close  3398 non-null   float64\n",
            " 5   Volume     3398 non-null   int64  \n",
            "dtypes: float64(5), int64(1)\n",
            "memory usage: 185.8 KB\n"
          ]
        }
      ],
      "source": [
        "df.info()"
      ]
    },
    {
      "cell_type": "markdown",
      "metadata": {
        "id": "4s00kcEDCrjV"
      },
      "source": [
        "Because we told pandas to parse the date column and set it as the index, its not in the list of columns.\n",
        "\n",
        "You can also see there isn't many samples."
      ]
    },
    {
      "cell_type": "code",
      "execution_count": 4,
      "metadata": {
        "colab": {
          "base_uri": "https://localhost:8080/"
        },
        "id": "XP3cN0uvlxhi",
        "outputId": "39e39718-290e-4d99-f62a-8ec042714e65"
      },
      "outputs": [
        {
          "data": {
            "text/plain": [
              "3398"
            ]
          },
          "execution_count": 4,
          "metadata": {},
          "output_type": "execute_result"
        }
      ],
      "source": [
        "# How many samples do we have?\n",
        "len(df)"
      ]
    },
    {
      "cell_type": "code",
      "execution_count": 5,
      "metadata": {
        "colab": {
          "base_uri": "https://localhost:8080/",
          "height": 235
        },
        "id": "QxoNCv2NCuLY",
        "outputId": "0fce77d2-7d89-4c68-c26b-c7b6750efc44"
      },
      "outputs": [
        {
          "data": {
            "text/html": [
              "<div>\n",
              "<style scoped>\n",
              "    .dataframe tbody tr th:only-of-type {\n",
              "        vertical-align: middle;\n",
              "    }\n",
              "\n",
              "    .dataframe tbody tr th {\n",
              "        vertical-align: top;\n",
              "    }\n",
              "\n",
              "    .dataframe thead th {\n",
              "        text-align: right;\n",
              "    }\n",
              "</style>\n",
              "<table border=\"1\" class=\"dataframe\">\n",
              "  <thead>\n",
              "    <tr style=\"text-align: right;\">\n",
              "      <th></th>\n",
              "      <th>Price</th>\n",
              "    </tr>\n",
              "    <tr>\n",
              "      <th>Date</th>\n",
              "      <th></th>\n",
              "    </tr>\n",
              "  </thead>\n",
              "  <tbody>\n",
              "    <tr>\n",
              "      <th>2014-09-17</th>\n",
              "      <td>457.334015</td>\n",
              "    </tr>\n",
              "    <tr>\n",
              "      <th>2014-09-18</th>\n",
              "      <td>424.440002</td>\n",
              "    </tr>\n",
              "    <tr>\n",
              "      <th>2014-09-19</th>\n",
              "      <td>394.795990</td>\n",
              "    </tr>\n",
              "    <tr>\n",
              "      <th>2014-09-20</th>\n",
              "      <td>408.903992</td>\n",
              "    </tr>\n",
              "    <tr>\n",
              "      <th>2014-09-21</th>\n",
              "      <td>398.821014</td>\n",
              "    </tr>\n",
              "  </tbody>\n",
              "</table>\n",
              "</div>"
            ],
            "text/plain": [
              "                 Price\n",
              "Date                  \n",
              "2014-09-17  457.334015\n",
              "2014-09-18  424.440002\n",
              "2014-09-19  394.795990\n",
              "2014-09-20  408.903992\n",
              "2014-09-21  398.821014"
            ]
          },
          "execution_count": 5,
          "metadata": {},
          "output_type": "execute_result"
        }
      ],
      "source": [
        "# Only want closing price for each day \n",
        "bitcoin_prices = pd.DataFrame(df[\"Close\"]).rename(columns={\"Close\": \"Price\"})\n",
        "bitcoin_prices.head()"
      ]
    },
    {
      "cell_type": "markdown",
      "metadata": {
        "id": "olHSR6poID_w"
      },
      "source": [
        "Much better!\n",
        "\n",
        "But that's only five days worth of Bitcoin prices, let's plot everything we've got."
      ]
    },
    {
      "cell_type": "code",
      "execution_count": 6,
      "metadata": {
        "colab": {
          "base_uri": "https://localhost:8080/",
          "height": 460
        },
        "id": "CfkhZhmCEyUe",
        "outputId": "c49b5f77-3059-416d-8a13-9ae7f2768ebf"
      },
      "outputs": [
        {
          "data": {
            "image/png": "[encoded data removed]",
            "text/plain": [
              "<Figure size 1000x700 with 1 Axes>"
            ]
          },
          "metadata": {},
          "output_type": "display_data"
        }
      ],
      "source": [
        "bitcoin_prices.plot(figsize=(10, 7))\n",
        "plt.ylabel(\"BTC Price\")\n",
        "plt.title(\"Price of Bitcoin from 1 Oct 2013 to 18 May 2021\", fontsize=16)\n",
        "plt.legend(fontsize=14);"
      ]
    },
    {
      "cell_type": "code",
      "execution_count": 7,
      "metadata": {
        "colab": {
          "base_uri": "https://localhost:8080/"
        },
        "id": "UkTvwP2DCuGK",
        "outputId": "9bf2e5c1-fea5-44a2-e247-71a72645848c"
      },
      "outputs": [
        {
          "data": {
            "text/plain": [
              "([Timestamp('2014-09-17 00:00:00'),\n",
              "  Timestamp('2014-09-18 00:00:00'),\n",
              "  Timestamp('2014-09-19 00:00:00'),\n",
              "  Timestamp('2014-09-20 00:00:00'),\n",
              "  Timestamp('2014-09-21 00:00:00'),\n",
              "  Timestamp('2014-09-22 00:00:00'),\n",
              "  Timestamp('2014-09-23 00:00:00'),\n",
              "  Timestamp('2014-09-24 00:00:00'),\n",
              "  Timestamp('2014-09-25 00:00:00'),\n",
              "  Timestamp('2014-09-26 00:00:00')],\n",
              " [457.3340148925781,\n",
              "  424.44000244140625,\n",
              "  394.7959899902344,\n",
              "  408.90399169921875,\n",
              "  398.8210144042969,\n",
              "  402.1520080566406,\n",
              "  435.7909851074219,\n",
              "  423.2049865722656,\n",
              "  411.5740051269531,\n",
              "  404.42498779296875])"
            ]
          },
          "execution_count": 7,
          "metadata": {},
          "output_type": "execute_result"
        }
      ],
      "source": [
        "# Formatting historical Bitcoin data with Python\n",
        "from datetime import datetime\n",
        "\n",
        "timesteps = []\n",
        "btc_price = []\n",
        "\n",
        "\n",
        "# ilk 10 satırın gösterilmesi\n",
        "for row in df.itertuples():\n",
        "  timesteps.append(row.Index)\n",
        "  btc_price.append(row.Close)\n",
        "\n",
        "\n",
        "\n",
        "\n",
        "\n",
        "timesteps[:10], btc_price[:10]"
      ]
    },
    {
      "cell_type": "markdown",
      "metadata": {
        "id": "40o59gpNKtRs"
      },
      "source": [
        "Beautiful! Now, let's see how things look."
      ]
    },
    {
      "cell_type": "code",
      "execution_count": 8,
      "metadata": {
        "colab": {
          "base_uri": "https://localhost:8080/",
          "height": 460
        },
        "id": "bTSX7RZ9Cytj",
        "outputId": "2ed83ea1-2136-4890-93b7-f94ffdb50870"
      },
      "outputs": [
        {
          "data": {
            "image/png": "[encoded data removed]",
            "text/plain": [
              "<Figure size 1000x700 with 1 Axes>"
            ]
          },
          "metadata": {},
          "output_type": "display_data"
        }
      ],
      "source": [
        "# Plotting\n",
        "plt.figure(figsize=(10, 7))\n",
        "plt.plot(timesteps, btc_price)\n",
        "plt.title(\"Price of Bitcoin \", fontsize=16)\n",
        "plt.xlabel(\"Date\")\n",
        "plt.ylabel(\"BTC Price\");"
      ]
    },
    {
      "cell_type": "markdown",
      "metadata": {
        "id": "G12TARVyK_gN"
      },
      "source": [
        "Ho ho! Would you look at that! Just like the pandas plot. And because we formatted the `timesteps` to be `datetime` objects, `matplotlib` displays a fantastic looking date axis."
      ]
    },
    {
      "cell_type": "code",
      "execution_count": 9,
      "metadata": {},
      "outputs": [
        {
          "data": {
            "text/plain": [
              "(array(['2014-09-17T00:00:00.000000000', '2014-09-18T00:00:00.000000000',\n",
              "        '2014-09-19T00:00:00.000000000', '2014-09-20T00:00:00.000000000',\n",
              "        '2014-09-21T00:00:00.000000000', '2014-09-22T00:00:00.000000000',\n",
              "        '2014-09-23T00:00:00.000000000', '2014-09-24T00:00:00.000000000',\n",
              "        '2014-09-25T00:00:00.000000000', '2014-09-26T00:00:00.000000000'],\n",
              "       dtype='datetime64[ns]'),\n",
              " array([457.33401489, 424.44000244, 394.79598999, 408.9039917 ,\n",
              "        398.8210144 , 402.15200806, 435.79098511, 423.20498657,\n",
              "        411.57400513, 404.42498779]))"
            ]
          },
          "execution_count": 9,
          "metadata": {},
          "output_type": "execute_result"
        }
      ],
      "source": [
        "# Get bitcoin date array\n",
        "timesteps = bitcoin_prices.index.to_numpy()\n",
        "prices = bitcoin_prices[\"Price\"].to_numpy()\n",
        "\n",
        "timesteps[:10], prices[:10]"
      ]
    },
    {
      "cell_type": "markdown",
      "metadata": {
        "id": "_nfP7i9R_dOp"
      },
      "source": [
        "## Format Data Part 1: Creatining train and test sets for time series data"
      ]
    },
    {
      "cell_type": "markdown",
      "metadata": {
        "id": "ajoASBK2size"
      },
      "source": [
        "### Create train & test sets for time series (the right way)"
      ]
    },
    {
      "cell_type": "code",
      "execution_count": 10,
      "metadata": {
        "colab": {
          "base_uri": "https://localhost:8080/"
        },
        "id": "lpEVKyXANLT4",
        "outputId": "94acf2dc-837b-4b73-aa37-63eefe8ffadd"
      },
      "outputs": [
        {
          "data": {
            "text/plain": [
              "(2718, 680, 2718, 680)"
            ]
          },
          "execution_count": 10,
          "metadata": {},
          "output_type": "execute_result"
        }
      ],
      "source": [
        "# Create train and test splits the right way for time series data\n",
        "split_size = int(0.8 * len(prices)) # 80% train, 20% test\n",
        "\n",
        "# Create train data splits (everything before the split)\n",
        "X_train, y_train = timesteps[:split_size], prices[:split_size]\n",
        "\n",
        "# Create test data splits (everything after the split)\n",
        "X_test, y_test = timesteps[split_size:], prices[split_size:]\n",
        "\n",
        "len(X_train), len(X_test), len(y_train), len(y_test)"
      ]
    },
    {
      "cell_type": "markdown",
      "metadata": {
        "id": "ByN_YCotv3zk"
      },
      "source": [
        "Okay, looks like our custom made splits are the same lengths as the splits we made with `train_test_split`.\n",
        "\n",
        "But again, these are numbers on a page.\n",
        "\n",
        "And you know how the saying goes, trust one eye more than two ears.\n",
        "\n",
        "Let's visualize."
      ]
    },
    {
      "cell_type": "code",
      "execution_count": 11,
      "metadata": {
        "colab": {
          "base_uri": "https://localhost:8080/",
          "height": 442
        },
        "id": "L9QImNlhOQuS",
        "outputId": "a0eae767-fea6-44df-b68c-b63baa60cc49"
      },
      "outputs": [
        {
          "data": {
            "image/png": "[encoded data removed]",
            "text/plain": [
              "<Figure size 1000x700 with 1 Axes>"
            ]
          },
          "metadata": {},
          "output_type": "display_data"
        }
      ],
      "source": [
        "# Plot correctly made splits\n",
        "plt.figure(figsize=(10, 7))\n",
        "plt.scatter(X_train, y_train, s=5, label=\"Train data\")\n",
        "plt.scatter(X_test, y_test, s=5, label=\"Test data\")\n",
        "plt.xlabel(\"Date\")\n",
        "plt.ylabel(\"BTC Price\")\n",
        "plt.legend(fontsize=14)\n",
        "plt.show();"
      ]
    },
    {
      "cell_type": "markdown",
      "metadata": {
        "id": "sGUelYVKCybB"
      },
      "source": [
        "### Create a plotting function\n",
        "\n",
        "Rather than retyping `matplotlib` commands to continuously plot data, let's make a plotting function we can reuse later."
      ]
    },
    {
      "cell_type": "code",
      "execution_count": 12,
      "metadata": {
        "id": "trkvizA0C6vc"
      },
      "outputs": [],
      "source": [
        "# Create a function to plot time series data\n",
        "def plot_time_series(timesteps, values, format='.', start=0, end=None, label=None):\n",
        "  \"\"\"\n",
        "  Plots a timesteps (a series of points in time) against values (a series of values across timesteps).\n",
        "  \n",
        "  Parameters\n",
        "  ---------\n",
        "  timesteps : array of timesteps\n",
        "  values : array of values across time\n",
        "  format : style of plot, default \".\"\n",
        "  start : where to start the plot (setting a value will index from start of timesteps & values)\n",
        "  end : where to end the plot (setting a value will index from end of timesteps & values)\n",
        "  label : label to show on plot of values\n",
        "  \"\"\"\n",
        "  # Plot the series\n",
        "  plt.plot(timesteps[start:end], values[start:end], format, label=label)\n",
        "  plt.xlabel(\"Time\")\n",
        "  plt.ylabel(\"BTC Price\")\n",
        "  if label:\n",
        "    plt.legend(fontsize=14) # make label bigger\n",
        "  plt.grid(True)"
      ]
    },
    {
      "cell_type": "code",
      "execution_count": 13,
      "metadata": {
        "colab": {
          "base_uri": "https://localhost:8080/",
          "height": 442
        },
        "id": "6TyFY1cGC_sw",
        "outputId": "41e56d50-31b2-4c88-9d78-7095f6e74dd8"
      },
      "outputs": [
        {
          "data": {
            "image/png": "[encoded data removed]",
            "text/plain": [
              "<Figure size 1000x700 with 1 Axes>"
            ]
          },
          "metadata": {},
          "output_type": "display_data"
        }
      ],
      "source": [
        "# Try out our plotting function\n",
        "plt.figure(figsize=(10, 7))\n",
        "plot_time_series(timesteps=X_train, values=y_train, label=\"Train data\")\n",
        "plot_time_series(timesteps=X_test, values=y_test, label=\"Test data\")"
      ]
    },
    {
      "cell_type": "markdown",
      "metadata": {
        "id": "1ys3PAVUTo6q"
      },
      "source": [
        "And since TensorFlow doesn't have a ready made version of MASE (mean aboslute scaled error), how about we create our own?\n",
        "\n",
        "We'll take inspiration from [sktime](https://github.com/alan-turing-institute/sktime)'s (Scikit-Learn for time series) [`MeanAbsoluteScaledError`](https://www.sktime.org/en/stable/api_reference/auto_generated/sktime.performance_metrics.forecasting.MeanAbsoluteScaledError.html#sktime.performance_metrics.forecasting.MeanAbsoluteScaledError) class which calculates the MASE."
      ]
    },
    {
      "cell_type": "code",
      "execution_count": 14,
      "metadata": {
        "id": "2jbLBJ_IGjla"
      },
      "outputs": [],
      "source": [
        "# MASE implemented courtesy of sktime - https://github.com/alan-turing-institute/sktime/blob/ee7a06843a44f4aaec7582d847e36073a9ab0566/sktime/performance_metrics/forecasting/_functions.py#L16\n",
        "def mean_absolute_scaled_error(y_true, y_pred):\n",
        "  \"\"\"\n",
        "  Implement MASE (assuming no seasonality of data).\n",
        "  \"\"\"\n",
        "  mae = tf.reduce_mean(tf.abs(y_true - y_pred))\n",
        "\n",
        "  # Find MAE of naive forecast (no seasonality)\n",
        "  mae_naive_no_season = tf.reduce_mean(tf.abs(y_true[1:] - y_true[:-1])) # our seasonality is 1 day (hence the shifting of 1 day)\n",
        "\n",
        "  return mae / mae_naive_no_season"
      ]
    },
    {
      "cell_type": "markdown",
      "metadata": {
        "id": "yD4P7-wwUVWj"
      },
      "source": [
        "You'll notice the version of MASE above doesn't take in the training values like sktime's `mae_loss()`. In our case, we're comparing the MAE of our predictions on the test to the MAE of the naïve forecast on the test set.\n",
        "\n",
        "In practice, if we've created the function correctly, the naïve model should achieve an MASE of 1 (or very close to 1). Any model worse than the naïve forecast will achieve an MASE of >1 and any model better than the naïve forecast will achieve an MASE of <1.\n",
        "\n",
        "Let's put each of our different evaluation metrics together into a function."
      ]
    },
    {
      "cell_type": "code",
      "execution_count": 15,
      "metadata": {
        "id": "MwMeVgRXWaJp"
      },
      "outputs": [],
      "source": [
        "def evaluate_preds(y_true, y_pred):\n",
        "  # Make sure float32 (for metric calculations)\n",
        "  y_true = tf.cast(y_true, dtype=tf.float32)\n",
        "  y_pred = tf.cast(y_pred, dtype=tf.float32)\n",
        "\n",
        "  # Calculate various metrics\n",
        "  mae = tf.keras.metrics.mean_absolute_error(y_true, y_pred)\n",
        "  mse = tf.keras.metrics.mean_squared_error(y_true, y_pred) # puts and emphasis on outliers (all errors get squared)\n",
        "  rmse = tf.sqrt(mse)\n",
        "  mape = tf.keras.metrics.mean_absolute_percentage_error(y_true, y_pred)\n",
        "  mase = mean_absolute_scaled_error(y_true, y_pred)\n",
        "  \n",
        "  return {\"mae\": mae.numpy(),\n",
        "          \"mse\": mse.numpy(),\n",
        "          \"rmse\": rmse.numpy(),\n",
        "          \"mape\": mape.numpy(),\n",
        "          \"mase\": mase.numpy()}"
      ]
    },
    {
      "cell_type": "markdown",
      "metadata": {
        "id": "VAKTXEIPVKfR"
      },
      "source": [
        "Looking good! How about we test our function on the naive forecast?"
      ]
    },
    {
      "cell_type": "code",
      "execution_count": 16,
      "metadata": {
        "colab": {
          "base_uri": "https://localhost:8080/"
        },
        "id": "Yjl-X9QLVhp1",
        "outputId": "d96d84d8-af33-4574-98c6-cecba5a211a9"
      },
      "outputs": [
        {
          "data": {
            "text/plain": [
              "27630.384768497242"
            ]
          },
          "execution_count": 16,
          "metadata": {},
          "output_type": "execute_result"
        }
      ],
      "source": [
        "# Find average price of Bitcoin in test dataset\n",
        "tf.reduce_mean(y_test).numpy()"
      ]
    },
    {
      "cell_type": "markdown",
      "metadata": {
        "id": "e8AzwUvjBkgY"
      },
      "source": [
        "## Format Data Part 2: Windowing dataset\n",
        "\n",
        "Surely we'd be ready to start building models by now?\n",
        "\n",
        "We're so close! Only one more step (really two) to go.\n",
        "\n",
        "We've got to window our time series.\n",
        "\n",
        "Why do we window?\n",
        "\n",
        "Windowing is a method to turn a time series dataset into **supervised learning problem**. \n",
        "\n",
        "In other words, we want to use windows of the past to predict the future.\n",
        "\n",
        "For example for a univariate time series, windowing for one week (`window=7`) to predict the next single value (`horizon=1`) might look like:\n",
        "\n",
        "```\n",
        "Window for one week (univariate time series)\n",
        "\n",
        "[0, 1, 2, 3, 4, 5, 6] -> [7]\n",
        "[1, 2, 3, 4, 5, 6, 7] -> [8]\n",
        "[2, 3, 4, 5, 6, 7, 8] -> [9]\n",
        "```\n",
        "\n",
        "Or for the price of Bitcoin, it'd look like:\n",
        "\n",
        "```\n",
        "Window for one week with the target of predicting the next day (Bitcoin prices)\n",
        "\n",
        "[123.654, 125.455, 108.584, 118.674, 121.338, 120.655, 121.795] -> [123.033]\n",
        "[125.455, 108.584, 118.674, 121.338, 120.655, 121.795, 123.033] -> [124.049]\n",
        "[108.584, 118.674, 121.338, 120.655, 121.795, 123.033, 124.049] -> [125.961]\n",
        "```\n",
        "\n",
        "![windows and horizons for turning time series data into a supervised learning problem](https://raw.githubusercontent.com/mrdbourke/tensorflow-deep-learning/main/images/10-time-series-windows-and-horizons.png)\n",
        "*Example of windows and horizons for Bitcoin data. Windowing can be used to turn time series data into a supervised learning problem.*\n",
        "\n",
        "Let's build some functions which take in a univariate time series and turn it into windows and horizons of specified sizes.\n",
        "\n",
        "We'll start with the default horizon size of 1 and a window size of 7 (these aren't necessarily the best values to use, I've just picked them)."
      ]
    },
    {
      "cell_type": "code",
      "execution_count": 17,
      "metadata": {
        "id": "LibzWQXM2ib-"
      },
      "outputs": [],
      "source": [
        "HORIZON = 1 # predict 1 step at a time\n",
        "WINDOW_SIZE = 7 # use a week worth of timesteps to predict the horizon"
      ]
    },
    {
      "cell_type": "markdown",
      "metadata": {
        "id": "1AQ0HWWzfRW_"
      },
      "source": [
        "Now we'll write a function to take in an array and turn it into a window and horizon."
      ]
    },
    {
      "cell_type": "code",
      "execution_count": 18,
      "metadata": {
        "id": "zV8pv5K_x81E"
      },
      "outputs": [],
      "source": [
        "# Create function to label windowed data\n",
        "def get_labelled_windows(x, horizon=1):\n",
        "  \"\"\"\n",
        "  Creates labels for windowed dataset.\n",
        "\n",
        "  E.g. if horizon=1 (default)\n",
        "  Input: [1, 2, 3, 4, 5, 6] -> Output: ([1, 2, 3, 4, 5], [6])\n",
        "  \"\"\"\n",
        "  return x[:, :-horizon], x[:, -horizon:]"
      ]
    },
    {
      "cell_type": "code",
      "execution_count": 19,
      "metadata": {
        "colab": {
          "base_uri": "https://localhost:8080/"
        },
        "id": "ejJ9vCyKff8F",
        "outputId": "805b4459-9f5e-4311-9592-41efefd22546"
      },
      "outputs": [
        {
          "name": "stdout",
          "output_type": "stream",
          "text": [
            "Window: [1 2 3 4 5 6 7] -> Label: 8\n"
          ]
        }
      ],
      "source": [
        "# Test out the window labelling function\n",
        "test_window, test_label = get_labelled_windows(tf.expand_dims(tf.range(8)+1, axis=0), horizon=HORIZON)\n",
        "print(f\"Window: {tf.squeeze(test_window).numpy()} -> Label: {tf.squeeze(test_label).numpy()}\")"
      ]
    },
    {
      "cell_type": "markdown",
      "metadata": {
        "id": "qc4U4ExKfx6S"
      },
      "source": [
        "Oh yeah, that's what I'm talking about!\n",
        "\n",
        "Now we need a way to make windows for an entire time series.\n",
        "\n",
        "We could do this with Python for loops, however, for large time series, that'd be quite slow.\n",
        "\n",
        "To speed things up, we'll leverage [NumPy's array indexing](https://numpy.org/doc/stable/reference/arrays.indexing.html).\n",
        "\n",
        "Let's write a function which:\n",
        "1. Creates a window step of specific window size, for example: `[[0, 1, 2, 3, 4, 5, 6, 7]]`\n",
        "2. Uses NumPy indexing to create a 2D of multiple window steps, for example: \n",
        "```\n",
        "[[0, 1, 2, 3, 4, 5, 6, 7],\n",
        " [1, 2, 3, 4, 5, 6, 7, 8],\n",
        " [2, 3, 4, 5, 6, 7, 8, 9]]\n",
        "```\n",
        "3. Uses the 2D array of multuple window steps to index on a target series\n",
        "4. Uses the `get_labelled_windows()` function we created above to turn the window steps into windows with a specified horizon\n",
        "\n",
        "> 📖 **Resource:** The function created below has been adapted from Syafiq Kamarul Azman's article [*Fast and Robust Sliding Window Vectorization with NumPy*](https://towardsdatascience.com/fast-and-robust-sliding-window-vectorization-with-numpy-3ad950ed62f5)."
      ]
    },
    {
      "cell_type": "code",
      "execution_count": 20,
      "metadata": {
        "id": "apea0wiJyCI6"
      },
      "outputs": [],
      "source": [
        "# Create function to view NumPy arrays as windows \n",
        "def make_windows(x, window_size=7, horizon=1):\n",
        "  \"\"\"\n",
        "  Turns a 1D array into a 2D array of sequential windows of window_size.\n",
        "  \"\"\"\n",
        "  # 1. Create a window of specific window_size (add the horizon on the end for later labelling)\n",
        "  window_step = np.expand_dims(np.arange(window_size+horizon), axis=0)\n",
        "  # print(f\"Window step:\\n {window_step}\")\n",
        "\n",
        "  # 2. Create a 2D array of multiple window steps (minus 1 to account for 0 indexing)\n",
        "  window_indexes = window_step + np.expand_dims(np.arange(len(x)-(window_size+horizon-1)), axis=0).T # create 2D array of windows of size window_size\n",
        "  # print(f\"Window indexes:\\n {window_indexes[:3], window_indexes[-3:], window_indexes.shape}\")\n",
        "\n",
        "  # 3. Index on the target array (time series) with 2D array of multiple window steps\n",
        "  windowed_array = x[window_indexes]\n",
        "\n",
        "  # 4. Get the labelled windows\n",
        "  windows, labels = get_labelled_windows(windowed_array, horizon=horizon)\n",
        "\n",
        "  return windows, labels"
      ]
    },
    {
      "cell_type": "markdown",
      "metadata": {
        "id": "TYQD0PRLkMIs"
      },
      "source": [
        "Phew! A few steps there... let's see how it goes."
      ]
    },
    {
      "cell_type": "code",
      "execution_count": 21,
      "metadata": {
        "colab": {
          "base_uri": "https://localhost:8080/"
        },
        "id": "u7Yc3V7fc1UG",
        "outputId": "41dce6b2-d01b-4943-f1c8-a113c256bc2d"
      },
      "outputs": [
        {
          "data": {
            "text/plain": [
              "(3391, 3391)"
            ]
          },
          "execution_count": 21,
          "metadata": {},
          "output_type": "execute_result"
        }
      ],
      "source": [
        "full_windows, full_labels = make_windows(prices, window_size=WINDOW_SIZE, horizon=HORIZON)\n",
        "len(full_windows), len(full_labels)"
      ]
    },
    {
      "cell_type": "markdown",
      "metadata": {
        "id": "xhj521fWlJsy"
      },
      "source": [
        "Of course we have to visualize, visualize, visualize!"
      ]
    },
    {
      "cell_type": "code",
      "execution_count": 22,
      "metadata": {
        "colab": {
          "base_uri": "https://localhost:8080/"
        },
        "id": "U1P-MT4CkYta",
        "outputId": "a00a6bb8-de3e-4861-84bc-442441b09635"
      },
      "outputs": [
        {
          "name": "stdout",
          "output_type": "stream",
          "text": [
            "Window: [457.33401489 424.44000244 394.79598999 408.9039917  398.8210144\n",
            " 402.15200806 435.79098511] -> Label: [423.20498657]\n",
            "Window: [424.44000244 394.79598999 408.9039917  398.8210144  402.15200806\n",
            " 435.79098511 423.20498657] -> Label: [411.57400513]\n",
            "Window: [394.79598999 408.9039917  398.8210144  402.15200806 435.79098511\n",
            " 423.20498657 411.57400513] -> Label: [404.42498779]\n"
          ]
        }
      ],
      "source": [
        "# View the first 3 windows/labels\n",
        "for i in range(3):\n",
        "  print(f\"Window: {full_windows[i]} -> Label: {full_labels[i]}\")"
      ]
    },
    {
      "cell_type": "code",
      "execution_count": 23,
      "metadata": {
        "colab": {
          "base_uri": "https://localhost:8080/"
        },
        "id": "UCDtm6gskjRH",
        "outputId": "0d02d8c6-d0af-45b6-e98f-bbf22172f572"
      },
      "outputs": [
        {
          "name": "stdout",
          "output_type": "stream",
          "text": [
            "Window: [43442.85546875 42627.85546875 42099.40234375 42156.90234375\n",
            " 42265.1875     44167.33203125 44957.96875   ] -> Label: [42848.17578125]\n",
            "Window: [42627.85546875 42099.40234375 42156.90234375 42265.1875\n",
            " 44167.33203125 44957.96875    42848.17578125] -> Label: [44179.921875]\n",
            "Window: [42099.40234375 42156.90234375 42265.1875     44167.33203125\n",
            " 44957.96875    42848.17578125 44179.921875  ] -> Label: [43331.3671875]\n"
          ]
        }
      ],
      "source": [
        "# View the last 3 windows/labels\n",
        "for i in range(3):\n",
        "  print(f\"Window: {full_windows[i-3]} -> Label: {full_labels[i-3]}\")"
      ]
    },
    {
      "cell_type": "code",
      "execution_count": 24,
      "metadata": {
        "id": "o_8BRgb8YtP3"
      },
      "outputs": [],
      "source": [
        "# Make the train/test splits\n",
        "def make_train_test_splits(windows, labels, test_split=0.2):\n",
        "  \"\"\"\n",
        "  Splits matching pairs of windows and labels into train and test splits.\n",
        "  \"\"\"\n",
        "  split_size = int(len(windows) * (1-test_split)) # this will default to 80% train/20% test\n",
        "  train_windows = windows[:split_size]\n",
        "  train_labels = labels[:split_size]\n",
        "  test_windows = windows[split_size:]\n",
        "  test_labels = labels[split_size:]\n",
        "  return train_windows, test_windows, train_labels, test_labels"
      ]
    },
    {
      "cell_type": "markdown",
      "metadata": {
        "id": "_062e8Oec9cf"
      },
      "source": [
        "Look at that amazing function, lets test it."
      ]
    },
    {
      "cell_type": "code",
      "execution_count": 25,
      "metadata": {
        "colab": {
          "base_uri": "https://localhost:8080/"
        },
        "id": "z_xY8T7HEaoU",
        "outputId": "d31a4535-f5b7-4ee6-92bd-a056a0101794"
      },
      "outputs": [
        {
          "data": {
            "text/plain": [
              "(2712, 679, 2712, 679)"
            ]
          },
          "execution_count": 25,
          "metadata": {},
          "output_type": "execute_result"
        }
      ],
      "source": [
        "train_windows, test_windows, train_labels, test_labels = make_train_test_splits(full_windows, full_labels)\n",
        "len(train_windows), len(test_windows), len(train_labels), len(test_labels)"
      ]
    },
    {
      "cell_type": "markdown",
      "metadata": {
        "id": "75_YBwiedI2s"
      },
      "source": [
        "Notice the default split of 80% training data and 20% testing data (this split can be adjusted if needed).\n",
        "\n",
        "How do the first 5 samples of the training windows and labels looks?"
      ]
    },
    {
      "cell_type": "code",
      "execution_count": 26,
      "metadata": {
        "colab": {
          "base_uri": "https://localhost:8080/"
        },
        "id": "DDgyT7Gix1fH",
        "outputId": "ca96d4e6-56f0-4355-d2bb-6ad981fc3dae"
      },
      "outputs": [
        {
          "data": {
            "text/plain": [
              "(array([[457.33401489, 424.44000244, 394.79598999, 408.9039917 ,\n",
              "         398.8210144 , 402.15200806, 435.79098511],\n",
              "        [424.44000244, 394.79598999, 408.9039917 , 398.8210144 ,\n",
              "         402.15200806, 435.79098511, 423.20498657],\n",
              "        [394.79598999, 408.9039917 , 398.8210144 , 402.15200806,\n",
              "         435.79098511, 423.20498657, 411.57400513],\n",
              "        [408.9039917 , 398.8210144 , 402.15200806, 435.79098511,\n",
              "         423.20498657, 411.57400513, 404.42498779],\n",
              "        [398.8210144 , 402.15200806, 435.79098511, 423.20498657,\n",
              "         411.57400513, 404.42498779, 399.51998901]]),\n",
              " array([[423.20498657],\n",
              "        [411.57400513],\n",
              "        [404.42498779],\n",
              "        [399.51998901],\n",
              "        [377.18099976]]))"
            ]
          },
          "execution_count": 26,
          "metadata": {},
          "output_type": "execute_result"
        }
      ],
      "source": [
        "train_windows[:5], train_labels[:5]"
      ]
    },
    {
      "cell_type": "code",
      "execution_count": 27,
      "metadata": {
        "colab": {
          "base_uri": "https://localhost:8080/"
        },
        "id": "TkF0HmvadHBB",
        "outputId": "a257bf12-cd34-4843-e517-fc6863fcdd15"
      },
      "outputs": [
        {
          "data": {
            "text/plain": [
              "False"
            ]
          },
          "execution_count": 27,
          "metadata": {},
          "output_type": "execute_result"
        }
      ],
      "source": [
        "# Check to see if same (accounting for horizon and window size)\n",
        "np.array_equal(np.squeeze(train_labels[:-HORIZON-1]), y_train[WINDOW_SIZE:])"
      ]
    },
    {
      "cell_type": "markdown",
      "metadata": {
        "id": "PQX0PF5jV4aq"
      },
      "source": [
        "## Make a modelling checkpoint"
      ]
    },
    {
      "cell_type": "code",
      "execution_count": 28,
      "metadata": {
        "id": "Xh8i1f7rV_P2"
      },
      "outputs": [],
      "source": [
        "import os\n",
        "\n",
        "# Create a function to implement a ModelCheckpoint callback with a specific filename \n",
        "def create_model_checkpoint(model_name, save_path=\"model_experiments\"):\n",
        "  return tf.keras.callbacks.ModelCheckpoint(filepath=os.path.join(save_path, model_name), # create filepath to save model\n",
        "                                            verbose=0, # only output a limited amount of text\n",
        "                                            save_best_only=True) # save only the best model to file"
      ]
    },
    {
      "cell_type": "markdown",
      "metadata": {
        "id": "j5uw1AaVY-J9"
      },
      "source": [
        "## Model 1: Dense model (window = 7, horizon = 1)\n",
        "\n",
        "Finally!\n",
        "\n",
        "Time to build one of our models.\n",
        "\n",
        "If you think we've been through a fair bit of preprocessing before getting here, you're right.\n",
        "\n",
        "Often, preparing data for a model is one of the largest parts of any machine learning project.\n",
        "\n",
        "And once you've got a good model in place, you'll probably notice far more improvements from manipulating the data (e.g. collecting more, improving the quality) than manipulating the model.\n",
        "\n",
        "We're going to start by keeping it simple, `model_1` will have:\n",
        "* A single dense layer with 128 hidden units and ReLU (rectified linear unit) activation\n",
        "* An output layer with linear activation (or no activation)\n",
        "* Adam optimizer and MAE loss function\n",
        "* Batch size of 128\n",
        "* 100 epochs\n",
        "\n",
        "Why these values?\n",
        "\n",
        "I picked them out of experimentation. \n",
        "\n",
        "A batch size of 32 works pretty well too and we could always train for less epochs but since the model runs so fast (you'll see in a second, it's because the number of samples we have isn't massive) we might as well train for more.\n",
        "\n",
        "> 🔑 **Note:** As always, many of the values for machine learning problems are experimental. A reminder that the values you can set yourself in a machine learning algorithm (the hidden units, the batch size, horizon size, window size) are called [**hyperparameters**](https://en.wikipedia.org/wiki/Hyperparameter_(machine_learning). And experimenting to find the best values for hyperparameters is called **hyperparameter tuning**. Where as parameters learned by a model itself (patterns in the data, formally called weights & biases) are referred to as **parameters**.\n",
        "\n",
        "Let's import TensorFlow and build our first deep learning model for time series."
      ]
    },
    {
      "cell_type": "code",
      "execution_count": 29,
      "metadata": {
        "colab": {
          "base_uri": "https://localhost:8080/"
        },
        "id": "Slr5hrJHY_Ed",
        "outputId": "95b645ae-d08a-4794-a3e6-db8d1e1e3c67"
      },
      "outputs": [
        {
          "name": "stdout",
          "output_type": "stream",
          "text": [
            "Epoch 1/100\n",
            " 1/22 [>.............................] - ETA: 10s - loss: 7280.5107 - mae: 7280.5107"
          ]
        },
        {
          "name": "stdout",
          "output_type": "stream",
          "text": [
            "INFO:tensorflow:Assets written to: model_experiments/model_1_dense/assets\n"
          ]
        },
        {
          "name": "stderr",
          "output_type": "stream",
          "text": [
            "INFO:tensorflow:Assets written to: model_experiments/model_1_dense/assets\n"
          ]
        },
        {
          "name": "stdout",
          "output_type": "stream",
          "text": [
            "22/22 [==============================] - 1s 28ms/step - loss: 3400.2234 - mae: 3400.2234 - val_loss: 2039.9849 - val_mae: 2039.9849\n",
            "Epoch 2/100\n",
            " 1/22 [>.............................] - ETA: 0s - loss: 794.2731 - mae: 794.2731INFO:tensorflow:Assets written to: model_experiments/model_1_dense/assets\n"
          ]
        },
        {
          "name": "stderr",
          "output_type": "stream",
          "text": [
            "INFO:tensorflow:Assets written to: model_experiments/model_1_dense/assets\n"
          ]
        },
        {
          "name": "stdout",
          "output_type": "stream",
          "text": [
            "22/22 [==============================] - 0s 14ms/step - loss: 755.7613 - mae: 755.7613 - val_loss: 898.8285 - val_mae: 898.8285\n",
            "Epoch 3/100\n",
            "22/22 [==============================] - 0s 2ms/step - loss: 620.5760 - mae: 620.5760 - val_loss: 907.6395 - val_mae: 907.6395\n",
            "Epoch 4/100\n",
            "22/22 [==============================] - 0s 2ms/step - loss: 556.3906 - mae: 556.3906 - val_loss: 932.6299 - val_mae: 932.6299\n",
            "Epoch 5/100\n",
            " 1/22 [>.............................] - ETA: 0s - loss: 640.5677 - mae: 640.5677INFO:tensorflow:Assets written to: model_experiments/model_1_dense/assets\n"
          ]
        },
        {
          "name": "stderr",
          "output_type": "stream",
          "text": [
            "INFO:tensorflow:Assets written to: model_experiments/model_1_dense/assets\n"
          ]
        },
        {
          "name": "stdout",
          "output_type": "stream",
          "text": [
            "22/22 [==============================] - 0s 14ms/step - loss: 538.1996 - mae: 538.1996 - val_loss: 808.5941 - val_mae: 808.5941\n",
            "Epoch 6/100\n",
            " 1/22 [>.............................] - ETA: 0s - loss: 386.3943 - mae: 386.3943INFO:tensorflow:Assets written to: model_experiments/model_1_dense/assets\n"
          ]
        },
        {
          "name": "stderr",
          "output_type": "stream",
          "text": [
            "INFO:tensorflow:Assets written to: model_experiments/model_1_dense/assets\n"
          ]
        },
        {
          "name": "stdout",
          "output_type": "stream",
          "text": [
            "22/22 [==============================] - 0s 14ms/step - loss: 524.3618 - mae: 524.3618 - val_loss: 791.8968 - val_mae: 791.8968\n",
            "Epoch 7/100\n",
            " 1/22 [>.............................] - ETA: 0s - loss: 508.3051 - mae: 508.3051INFO:tensorflow:Assets written to: model_experiments/model_1_dense/assets\n"
          ]
        },
        {
          "name": "stderr",
          "output_type": "stream",
          "text": [
            "INFO:tensorflow:Assets written to: model_experiments/model_1_dense/assets\n"
          ]
        },
        {
          "name": "stdout",
          "output_type": "stream",
          "text": [
            "22/22 [==============================] - 0s 14ms/step - loss: 505.8083 - mae: 505.8083 - val_loss: 762.7991 - val_mae: 762.7991\n",
            "Epoch 8/100\n",
            " 1/22 [>.............................] - ETA: 0s - loss: 355.3213 - mae: 355.3213INFO:tensorflow:Assets written to: model_experiments/model_1_dense/assets\n"
          ]
        },
        {
          "name": "stderr",
          "output_type": "stream",
          "text": [
            "INFO:tensorflow:Assets written to: model_experiments/model_1_dense/assets\n"
          ]
        },
        {
          "name": "stdout",
          "output_type": "stream",
          "text": [
            "22/22 [==============================] - 1s 24ms/step - loss: 502.0537 - mae: 502.0537 - val_loss: 747.3835 - val_mae: 747.3835\n",
            "Epoch 9/100\n",
            " 1/22 [>.............................] - ETA: 0s - loss: 483.4385 - mae: 483.4385INFO:tensorflow:Assets written to: model_experiments/model_1_dense/assets\n"
          ]
        },
        {
          "name": "stderr",
          "output_type": "stream",
          "text": [
            "INFO:tensorflow:Assets written to: model_experiments/model_1_dense/assets\n"
          ]
        },
        {
          "name": "stdout",
          "output_type": "stream",
          "text": [
            "22/22 [==============================] - 1s 24ms/step - loss: 480.5209 - mae: 480.5209 - val_loss: 738.2744 - val_mae: 738.2744\n",
            "Epoch 10/100\n",
            " 1/22 [>.............................] - ETA: 0s - loss: 316.3093 - mae: 316.3093INFO:tensorflow:Assets written to: model_experiments/model_1_dense/assets\n"
          ]
        },
        {
          "name": "stderr",
          "output_type": "stream",
          "text": [
            "INFO:tensorflow:Assets written to: model_experiments/model_1_dense/assets\n"
          ]
        },
        {
          "name": "stdout",
          "output_type": "stream",
          "text": [
            "22/22 [==============================] - 0s 23ms/step - loss: 473.1640 - mae: 473.1640 - val_loss: 705.0316 - val_mae: 705.0316\n",
            "Epoch 11/100\n",
            "22/22 [==============================] - 0s 4ms/step - loss: 448.9812 - mae: 448.9812 - val_loss: 820.2295 - val_mae: 820.2295\n",
            "Epoch 12/100\n",
            "22/22 [==============================] - 0s 4ms/step - loss: 438.5216 - mae: 438.5216 - val_loss: 721.1010 - val_mae: 721.1010\n",
            "Epoch 13/100\n",
            " 1/22 [>.............................] - ETA: 0s - loss: 412.2429 - mae: 412.2429INFO:tensorflow:Assets written to: model_experiments/model_1_dense/assets\n"
          ]
        },
        {
          "name": "stderr",
          "output_type": "stream",
          "text": [
            "INFO:tensorflow:Assets written to: model_experiments/model_1_dense/assets\n"
          ]
        },
        {
          "name": "stdout",
          "output_type": "stream",
          "text": [
            "22/22 [==============================] - 0s 23ms/step - loss: 444.3740 - mae: 444.3740 - val_loss: 704.5928 - val_mae: 704.5928\n",
            "Epoch 14/100\n",
            "22/22 [==============================] - 0s 4ms/step - loss: 440.4816 - mae: 440.4816 - val_loss: 985.8693 - val_mae: 985.8693\n",
            "Epoch 15/100\n",
            "22/22 [==============================] - 0s 4ms/step - loss: 435.8834 - mae: 435.8834 - val_loss: 732.6060 - val_mae: 732.6060\n",
            "Epoch 16/100\n",
            " 1/22 [>.............................] - ETA: 0s - loss: 545.0621 - mae: 545.0621INFO:tensorflow:Assets written to: model_experiments/model_1_dense/assets\n"
          ]
        },
        {
          "name": "stderr",
          "output_type": "stream",
          "text": [
            "INFO:tensorflow:Assets written to: model_experiments/model_1_dense/assets\n"
          ]
        },
        {
          "name": "stdout",
          "output_type": "stream",
          "text": [
            "22/22 [==============================] - 0s 23ms/step - loss: 413.1530 - mae: 413.1530 - val_loss: 612.1298 - val_mae: 612.1298\n",
            "Epoch 17/100\n",
            " 1/22 [>.............................] - ETA: 0s - loss: 433.0959 - mae: 433.0959INFO:tensorflow:Assets written to: model_experiments/model_1_dense/assets\n"
          ]
        },
        {
          "name": "stderr",
          "output_type": "stream",
          "text": [
            "INFO:tensorflow:Assets written to: model_experiments/model_1_dense/assets\n"
          ]
        },
        {
          "name": "stdout",
          "output_type": "stream",
          "text": [
            "22/22 [==============================] - 1s 24ms/step - loss: 390.0484 - mae: 390.0484 - val_loss: 600.4933 - val_mae: 600.4933\n",
            "Epoch 18/100\n",
            " 1/22 [>.............................] - ETA: 0s - loss: 471.3389 - mae: 471.3389INFO:tensorflow:Assets written to: model_experiments/model_1_dense/assets\n"
          ]
        },
        {
          "name": "stderr",
          "output_type": "stream",
          "text": [
            "INFO:tensorflow:Assets written to: model_experiments/model_1_dense/assets\n"
          ]
        },
        {
          "name": "stdout",
          "output_type": "stream",
          "text": [
            "22/22 [==============================] - 1s 24ms/step - loss: 397.0705 - mae: 397.0705 - val_loss: 594.9705 - val_mae: 594.9705\n",
            "Epoch 19/100\n",
            " 1/22 [>.............................] - ETA: 0s - loss: 292.8157 - mae: 292.8157INFO:tensorflow:Assets written to: model_experiments/model_1_dense/assets\n"
          ]
        },
        {
          "name": "stderr",
          "output_type": "stream",
          "text": [
            "INFO:tensorflow:Assets written to: model_experiments/model_1_dense/assets\n"
          ]
        },
        {
          "name": "stdout",
          "output_type": "stream",
          "text": [
            "22/22 [==============================] - 1s 24ms/step - loss: 386.1402 - mae: 386.1402 - val_loss: 590.5053 - val_mae: 590.5053\n",
            "Epoch 20/100\n",
            "22/22 [==============================] - 0s 4ms/step - loss: 378.3703 - mae: 378.3703 - val_loss: 645.5844 - val_mae: 645.5844\n",
            "Epoch 21/100\n",
            "22/22 [==============================] - 0s 4ms/step - loss: 383.9519 - mae: 383.9519 - val_loss: 735.4521 - val_mae: 735.4521\n",
            "Epoch 22/100\n",
            "22/22 [==============================] - 0s 4ms/step - loss: 390.6903 - mae: 390.6903 - val_loss: 613.3994 - val_mae: 613.3994\n",
            "Epoch 23/100\n",
            " 1/22 [>.............................] - ETA: 0s - loss: 402.0388 - mae: 402.0388INFO:tensorflow:Assets written to: model_experiments/model_1_dense/assets\n"
          ]
        },
        {
          "name": "stderr",
          "output_type": "stream",
          "text": [
            "INFO:tensorflow:Assets written to: model_experiments/model_1_dense/assets\n"
          ]
        },
        {
          "name": "stdout",
          "output_type": "stream",
          "text": [
            "22/22 [==============================] - 0s 23ms/step - loss: 371.6284 - mae: 371.6284 - val_loss: 588.8012 - val_mae: 588.8012\n",
            "Epoch 24/100\n",
            "22/22 [==============================] - 0s 4ms/step - loss: 375.2351 - mae: 375.2351 - val_loss: 735.4709 - val_mae: 735.4709\n",
            "Epoch 25/100\n",
            " 1/22 [>.............................] - ETA: 0s - loss: 380.0232 - mae: 380.0232INFO:tensorflow:Assets written to: model_experiments/model_1_dense/assets\n"
          ]
        },
        {
          "name": "stderr",
          "output_type": "stream",
          "text": [
            "INFO:tensorflow:Assets written to: model_experiments/model_1_dense/assets\n"
          ]
        },
        {
          "name": "stdout",
          "output_type": "stream",
          "text": [
            "22/22 [==============================] - 0s 24ms/step - loss: 394.0329 - mae: 394.0329 - val_loss: 580.2335 - val_mae: 580.2335\n",
            "Epoch 26/100\n",
            " 1/22 [>.............................] - ETA: 0s - loss: 403.0709 - mae: 403.0709INFO:tensorflow:Assets written to: model_experiments/model_1_dense/assets\n"
          ]
        },
        {
          "name": "stderr",
          "output_type": "stream",
          "text": [
            "INFO:tensorflow:Assets written to: model_experiments/model_1_dense/assets\n"
          ]
        },
        {
          "name": "stdout",
          "output_type": "stream",
          "text": [
            "22/22 [==============================] - 1s 33ms/step - loss: 369.0118 - mae: 369.0118 - val_loss: 567.4017 - val_mae: 567.4017\n",
            "Epoch 27/100\n",
            "22/22 [==============================] - 0s 4ms/step - loss: 359.0420 - mae: 359.0420 - val_loss: 570.3034 - val_mae: 570.3034\n",
            "Epoch 28/100\n",
            "22/22 [==============================] - 0s 4ms/step - loss: 355.9703 - mae: 355.9703 - val_loss: 626.6309 - val_mae: 626.6309\n",
            "Epoch 29/100\n",
            "22/22 [==============================] - 0s 4ms/step - loss: 378.9912 - mae: 378.9912 - val_loss: 691.7402 - val_mae: 691.7402\n",
            "Epoch 30/100\n",
            "22/22 [==============================] - 0s 4ms/step - loss: 358.0768 - mae: 358.0768 - val_loss: 590.7422 - val_mae: 590.7422\n",
            "Epoch 31/100\n",
            "22/22 [==============================] - 0s 4ms/step - loss: 370.4885 - mae: 370.4885 - val_loss: 738.7723 - val_mae: 738.7723\n",
            "Epoch 32/100\n",
            "22/22 [==============================] - 0s 4ms/step - loss: 365.8649 - mae: 365.8649 - val_loss: 570.0053 - val_mae: 570.0053\n",
            "Epoch 33/100\n",
            "22/22 [==============================] - 0s 4ms/step - loss: 360.4850 - mae: 360.4850 - val_loss: 858.0149 - val_mae: 858.0149\n",
            "Epoch 34/100\n",
            "22/22 [==============================] - 0s 4ms/step - loss: 371.3170 - mae: 371.3170 - val_loss: 574.2873 - val_mae: 574.2873\n",
            "Epoch 35/100\n",
            "22/22 [==============================] - 0s 4ms/step - loss: 383.9946 - mae: 383.9946 - val_loss: 577.1326 - val_mae: 577.1326\n",
            "Epoch 36/100\n",
            "22/22 [==============================] - 0s 4ms/step - loss: 356.6368 - mae: 356.6368 - val_loss: 575.7451 - val_mae: 575.7451\n",
            "Epoch 37/100\n",
            "22/22 [==============================] - 0s 4ms/step - loss: 357.0370 - mae: 357.0370 - val_loss: 660.1894 - val_mae: 660.1894\n",
            "Epoch 38/100\n",
            "22/22 [==============================] - 0s 4ms/step - loss: 366.5183 - mae: 366.5183 - val_loss: 694.8032 - val_mae: 694.8032\n",
            "Epoch 39/100\n",
            " 1/22 [>.............................] - ETA: 0s - loss: 472.3523 - mae: 472.3523INFO:tensorflow:Assets written to: model_experiments/model_1_dense/assets\n"
          ]
        },
        {
          "name": "stderr",
          "output_type": "stream",
          "text": [
            "INFO:tensorflow:Assets written to: model_experiments/model_1_dense/assets\n"
          ]
        },
        {
          "name": "stdout",
          "output_type": "stream",
          "text": [
            "22/22 [==============================] - 1s 24ms/step - loss: 351.4842 - mae: 351.4842 - val_loss: 544.0942 - val_mae: 544.0942\n",
            "Epoch 40/100\n",
            "22/22 [==============================] - 0s 4ms/step - loss: 356.7047 - mae: 356.7047 - val_loss: 602.6554 - val_mae: 602.6554\n",
            "Epoch 41/100\n",
            "22/22 [==============================] - 0s 4ms/step - loss: 351.3904 - mae: 351.3904 - val_loss: 607.1107 - val_mae: 607.1107\n",
            "Epoch 42/100\n",
            "22/22 [==============================] - 0s 4ms/step - loss: 385.1831 - mae: 385.1831 - val_loss: 685.2590 - val_mae: 685.2590\n",
            "Epoch 43/100\n",
            "22/22 [==============================] - 0s 4ms/step - loss: 362.7510 - mae: 362.7510 - val_loss: 656.4299 - val_mae: 656.4299\n",
            "Epoch 44/100\n",
            " 1/22 [>.............................] - ETA: 0s - loss: 303.8661 - mae: 303.8661INFO:tensorflow:Assets written to: model_experiments/model_1_dense/assets\n"
          ]
        },
        {
          "name": "stderr",
          "output_type": "stream",
          "text": [
            "INFO:tensorflow:Assets written to: model_experiments/model_1_dense/assets\n"
          ]
        },
        {
          "name": "stdout",
          "output_type": "stream",
          "text": [
            "22/22 [==============================] - 0s 23ms/step - loss: 360.6427 - mae: 360.6427 - val_loss: 541.1318 - val_mae: 541.1318\n",
            "Epoch 45/100\n",
            "22/22 [==============================] - 0s 4ms/step - loss: 348.3076 - mae: 348.3076 - val_loss: 590.0838 - val_mae: 590.0838\n",
            "Epoch 46/100\n",
            "22/22 [==============================] - 0s 4ms/step - loss: 355.3810 - mae: 355.3810 - val_loss: 567.8031 - val_mae: 567.8031\n",
            "Epoch 47/100\n",
            "22/22 [==============================] - 0s 4ms/step - loss: 347.6339 - mae: 347.6339 - val_loss: 557.1077 - val_mae: 557.1077\n",
            "Epoch 48/100\n",
            "22/22 [==============================] - 0s 3ms/step - loss: 351.0134 - mae: 351.0134 - val_loss: 546.6569 - val_mae: 546.6569\n",
            "Epoch 49/100\n",
            "22/22 [==============================] - 0s 2ms/step - loss: 343.9909 - mae: 343.9909 - val_loss: 682.0150 - val_mae: 682.0150\n",
            "Epoch 50/100\n",
            "22/22 [==============================] - 0s 2ms/step - loss: 350.5364 - mae: 350.5364 - val_loss: 565.6046 - val_mae: 565.6046\n",
            "Epoch 51/100\n",
            "22/22 [==============================] - 0s 2ms/step - loss: 339.8423 - mae: 339.8423 - val_loss: 637.8970 - val_mae: 637.8970\n",
            "Epoch 52/100\n",
            "22/22 [==============================] - 0s 2ms/step - loss: 347.9597 - mae: 347.9597 - val_loss: 703.2296 - val_mae: 703.2296\n",
            "Epoch 53/100\n",
            "22/22 [==============================] - 0s 2ms/step - loss: 362.5238 - mae: 362.5238 - val_loss: 568.2587 - val_mae: 568.2587\n",
            "Epoch 54/100\n",
            " 1/22 [>.............................] - ETA: 0s - loss: 290.5421 - mae: 290.5421INFO:tensorflow:Assets written to: model_experiments/model_1_dense/assets\n"
          ]
        },
        {
          "name": "stderr",
          "output_type": "stream",
          "text": [
            "INFO:tensorflow:Assets written to: model_experiments/model_1_dense/assets\n"
          ]
        },
        {
          "name": "stdout",
          "output_type": "stream",
          "text": [
            "22/22 [==============================] - 0s 13ms/step - loss: 344.1729 - mae: 344.1729 - val_loss: 532.2720 - val_mae: 532.2720\n",
            "Epoch 55/100\n",
            "22/22 [==============================] - 0s 2ms/step - loss: 345.4088 - mae: 345.4088 - val_loss: 615.8788 - val_mae: 615.8788\n",
            "Epoch 56/100\n",
            "22/22 [==============================] - 0s 2ms/step - loss: 336.2290 - mae: 336.2290 - val_loss: 543.1242 - val_mae: 543.1242\n",
            "Epoch 57/100\n",
            "22/22 [==============================] - 0s 2ms/step - loss: 338.1607 - mae: 338.1607 - val_loss: 730.4217 - val_mae: 730.4217\n",
            "Epoch 58/100\n",
            "22/22 [==============================] - 0s 2ms/step - loss: 359.3717 - mae: 359.3717 - val_loss: 535.6299 - val_mae: 535.6299\n",
            "Epoch 59/100\n",
            "22/22 [==============================] - 0s 2ms/step - loss: 351.4977 - mae: 351.4977 - val_loss: 833.2598 - val_mae: 833.2598\n",
            "Epoch 60/100\n",
            "22/22 [==============================] - 0s 2ms/step - loss: 404.8911 - mae: 404.8911 - val_loss: 608.8726 - val_mae: 608.8726\n",
            "Epoch 61/100\n",
            "22/22 [==============================] - 0s 2ms/step - loss: 367.5693 - mae: 367.5693 - val_loss: 639.0369 - val_mae: 639.0369\n",
            "Epoch 62/100\n",
            "22/22 [==============================] - 0s 2ms/step - loss: 344.5927 - mae: 344.5927 - val_loss: 547.7615 - val_mae: 547.7615\n",
            "Epoch 63/100\n",
            " 1/22 [>.............................] - ETA: 0s - loss: 240.1883 - mae: 240.1883INFO:tensorflow:Assets written to: model_experiments/model_1_dense/assets\n"
          ]
        },
        {
          "name": "stderr",
          "output_type": "stream",
          "text": [
            "INFO:tensorflow:Assets written to: model_experiments/model_1_dense/assets\n"
          ]
        },
        {
          "name": "stdout",
          "output_type": "stream",
          "text": [
            "22/22 [==============================] - 0s 14ms/step - loss: 345.5013 - mae: 345.5013 - val_loss: 528.2335 - val_mae: 528.2335\n",
            "Epoch 64/100\n",
            "22/22 [==============================] - 0s 2ms/step - loss: 342.5633 - mae: 342.5633 - val_loss: 648.5240 - val_mae: 648.5240\n",
            "Epoch 65/100\n",
            "22/22 [==============================] - 0s 2ms/step - loss: 337.2711 - mae: 337.2711 - val_loss: 560.0205 - val_mae: 560.0205\n",
            "Epoch 66/100\n",
            "22/22 [==============================] - 0s 2ms/step - loss: 336.4009 - mae: 336.4009 - val_loss: 535.4788 - val_mae: 535.4788\n",
            "Epoch 67/100\n",
            "22/22 [==============================] - 0s 2ms/step - loss: 337.6327 - mae: 337.6327 - val_loss: 599.6573 - val_mae: 599.6573\n",
            "Epoch 68/100\n",
            "22/22 [==============================] - 0s 2ms/step - loss: 343.8321 - mae: 343.8321 - val_loss: 609.9067 - val_mae: 609.9067\n",
            "Epoch 69/100\n",
            "22/22 [==============================] - 0s 2ms/step - loss: 344.7340 - mae: 344.7340 - val_loss: 552.3975 - val_mae: 552.3975\n",
            "Epoch 70/100\n",
            "22/22 [==============================] - 0s 2ms/step - loss: 356.0983 - mae: 356.0983 - val_loss: 534.1635 - val_mae: 534.1635\n",
            "Epoch 71/100\n",
            "22/22 [==============================] - 0s 2ms/step - loss: 339.3342 - mae: 339.3342 - val_loss: 550.9661 - val_mae: 550.9661\n",
            "Epoch 72/100\n",
            "22/22 [==============================] - 0s 2ms/step - loss: 351.0499 - mae: 351.0499 - val_loss: 738.4171 - val_mae: 738.4171\n",
            "Epoch 73/100\n",
            "22/22 [==============================] - 0s 2ms/step - loss: 383.1969 - mae: 383.1969 - val_loss: 578.6391 - val_mae: 578.6391\n",
            "Epoch 74/100\n",
            "22/22 [==============================] - 0s 2ms/step - loss: 336.2996 - mae: 336.2996 - val_loss: 637.2278 - val_mae: 637.2278\n",
            "Epoch 75/100\n",
            "22/22 [==============================] - 0s 2ms/step - loss: 340.0439 - mae: 340.0439 - val_loss: 588.0291 - val_mae: 588.0291\n",
            "Epoch 76/100\n",
            "22/22 [==============================] - 0s 3ms/step - loss: 332.6847 - mae: 332.6847 - val_loss: 539.8372 - val_mae: 539.8372\n",
            "Epoch 77/100\n",
            "22/22 [==============================] - 0s 2ms/step - loss: 353.8426 - mae: 353.8426 - val_loss: 550.6602 - val_mae: 550.6602\n",
            "Epoch 78/100\n",
            " 1/22 [>.............................] - ETA: 0s - loss: 337.1500 - mae: 337.1500INFO:tensorflow:Assets written to: model_experiments/model_1_dense/assets\n"
          ]
        },
        {
          "name": "stderr",
          "output_type": "stream",
          "text": [
            "INFO:tensorflow:Assets written to: model_experiments/model_1_dense/assets\n"
          ]
        },
        {
          "name": "stdout",
          "output_type": "stream",
          "text": [
            "22/22 [==============================] - 0s 13ms/step - loss: 344.1091 - mae: 344.1091 - val_loss: 526.0662 - val_mae: 526.0662\n",
            "Epoch 79/100\n",
            "22/22 [==============================] - 0s 2ms/step - loss: 344.8514 - mae: 344.8514 - val_loss: 586.0759 - val_mae: 586.0759\n",
            "Epoch 80/100\n",
            "22/22 [==============================] - 0s 2ms/step - loss: 344.2473 - mae: 344.2473 - val_loss: 628.2759 - val_mae: 628.2759\n",
            "Epoch 81/100\n",
            "22/22 [==============================] - 0s 2ms/step - loss: 388.7433 - mae: 388.7433 - val_loss: 574.5650 - val_mae: 574.5650\n",
            "Epoch 82/100\n",
            "22/22 [==============================] - 0s 2ms/step - loss: 344.5431 - mae: 344.5431 - val_loss: 569.1157 - val_mae: 569.1157\n",
            "Epoch 83/100\n",
            "22/22 [==============================] - 0s 2ms/step - loss: 331.1512 - mae: 331.1512 - val_loss: 679.0914 - val_mae: 679.0914\n",
            "Epoch 84/100\n",
            "22/22 [==============================] - 0s 2ms/step - loss: 347.8439 - mae: 347.8439 - val_loss: 531.0444 - val_mae: 531.0444\n",
            "Epoch 85/100\n",
            "22/22 [==============================] - 0s 2ms/step - loss: 339.2192 - mae: 339.2192 - val_loss: 582.6325 - val_mae: 582.6325\n",
            "Epoch 86/100\n",
            "22/22 [==============================] - 0s 2ms/step - loss: 330.1020 - mae: 330.1020 - val_loss: 554.2518 - val_mae: 554.2518\n",
            "Epoch 87/100\n",
            "22/22 [==============================] - 0s 2ms/step - loss: 341.7880 - mae: 341.7880 - val_loss: 594.5278 - val_mae: 594.5278\n",
            "Epoch 88/100\n",
            "22/22 [==============================] - 0s 2ms/step - loss: 334.6332 - mae: 334.6332 - val_loss: 531.5195 - val_mae: 531.5195\n",
            "Epoch 89/100\n",
            "22/22 [==============================] - 0s 3ms/step - loss: 335.0682 - mae: 335.0682 - val_loss: 528.6051 - val_mae: 528.6051\n",
            "Epoch 90/100\n",
            "22/22 [==============================] - 0s 2ms/step - loss: 343.6176 - mae: 343.6176 - val_loss: 592.1011 - val_mae: 592.1011\n",
            "Epoch 91/100\n",
            "22/22 [==============================] - 0s 2ms/step - loss: 366.9319 - mae: 366.9319 - val_loss: 603.9173 - val_mae: 603.9173\n",
            "Epoch 92/100\n",
            "22/22 [==============================] - 0s 2ms/step - loss: 345.6556 - mae: 345.6556 - val_loss: 583.3146 - val_mae: 583.3146\n",
            "Epoch 93/100\n",
            "22/22 [==============================] - 0s 2ms/step - loss: 331.7543 - mae: 331.7543 - val_loss: 545.7935 - val_mae: 545.7935\n",
            "Epoch 94/100\n",
            "22/22 [==============================] - 0s 2ms/step - loss: 334.7928 - mae: 334.7928 - val_loss: 750.5444 - val_mae: 750.5444\n",
            "Epoch 95/100\n",
            "22/22 [==============================] - 0s 2ms/step - loss: 385.3297 - mae: 385.3297 - val_loss: 565.7589 - val_mae: 565.7589\n",
            "Epoch 96/100\n",
            "22/22 [==============================] - 0s 2ms/step - loss: 371.5783 - mae: 371.5783 - val_loss: 639.8844 - val_mae: 639.8844\n",
            "Epoch 97/100\n",
            "22/22 [==============================] - 0s 2ms/step - loss: 340.4365 - mae: 340.4365 - val_loss: 534.0959 - val_mae: 534.0959\n",
            "Epoch 98/100\n",
            "22/22 [==============================] - 0s 2ms/step - loss: 338.8080 - mae: 338.8080 - val_loss: 562.8966 - val_mae: 562.8966\n",
            "Epoch 99/100\n",
            "22/22 [==============================] - 0s 2ms/step - loss: 330.1458 - mae: 330.1458 - val_loss: 532.1066 - val_mae: 532.1066\n",
            "Epoch 100/100\n",
            "22/22 [==============================] - 0s 2ms/step - loss: 330.1089 - mae: 330.1089 - val_loss: 585.0908 - val_mae: 585.0908\n"
          ]
        },
        {
          "data": {
            "text/plain": [
              "<keras.src.callbacks.History at 0x14f3e7110>"
            ]
          },
          "execution_count": 29,
          "metadata": {},
          "output_type": "execute_result"
        }
      ],
      "source": [
        "import tensorflow as tf\n",
        "from tensorflow.keras import layers\n",
        "\n",
        "# Set random seed for as reproducible results as possible\n",
        "tf.random.set_seed(42)\n",
        "\n",
        "# Construct model\n",
        "model_1 = tf.keras.Sequential([\n",
        "  layers.Dense(128, activation=\"relu\"),\n",
        "  layers.Dense(HORIZON, activation=\"linear\") # linear activation is the same as having no activation                        \n",
        "], name=\"model_1_dense\") # give the model a name so we can save it\n",
        "\n",
        "# Compile model\n",
        "model_1.compile(loss=\"mae\",\n",
        "                optimizer=tf.keras.optimizers.Adam(),\n",
        "                metrics=[\"mae\"]) # we don't necessarily need this when the loss function is already MAE\n",
        "\n",
        "# Fit model\n",
        "model_1.fit(x=train_windows, # train windows of 7 timesteps of Bitcoin prices\n",
        "            y=train_labels, # horizon value of 1 (using the previous 7 timesteps to predict next day)\n",
        "            epochs=100,\n",
        "            verbose=1,\n",
        "            batch_size=128,\n",
        "            validation_data=(test_windows, test_labels),\n",
        "            callbacks=[create_model_checkpoint(model_name=model_1.name)]) # create ModelCheckpoint callback to save best model"
      ]
    },
    {
      "cell_type": "markdown",
      "metadata": {
        "id": "ZRrvDINUooJO"
      },
      "source": [
        "Because of the small size of our data (less than 3000 total samples), the model trains very fast.\n",
        "\n",
        "Let's evaluate it."
      ]
    },
    {
      "cell_type": "code",
      "execution_count": 30,
      "metadata": {
        "colab": {
          "base_uri": "https://localhost:8080/"
        },
        "id": "N1DbcEZBY_Bt",
        "outputId": "2d353c8c-075c-4149-bd68-9fb6b25a44d4"
      },
      "outputs": [
        {
          "name": "stdout",
          "output_type": "stream",
          "text": [
            "22/22 [==============================] - 0s 950us/step - loss: 585.0906 - mae: 585.0906\n"
          ]
        },
        {
          "data": {
            "text/plain": [
              "[585.0906372070312, 585.0906372070312]"
            ]
          },
          "execution_count": 30,
          "metadata": {},
          "output_type": "execute_result"
        }
      ],
      "source": [
        "# Evaluate model on test data\n",
        "model_1.evaluate(test_windows, test_labels)"
      ]
    },
    {
      "cell_type": "markdown",
      "metadata": {
        "id": "zwaUv85oox2F"
      },
      "source": [
        "You'll notice the model achieves the same `val_loss` (in this case, this is MAE) as the last epoch.\n",
        "\n",
        "But if we load in the version of `model_1` which was saved to file using the `ModelCheckpoint` callback, we should see an improvement in results."
      ]
    },
    {
      "cell_type": "code",
      "execution_count": 31,
      "metadata": {
        "colab": {
          "base_uri": "https://localhost:8080/"
        },
        "id": "FXey-AX-XZPK",
        "outputId": "98d82f0b-ce9e-4326-f456-f1e49f5e8483"
      },
      "outputs": [
        {
          "name": "stdout",
          "output_type": "stream",
          "text": [
            "22/22 [==============================] - 0s 994us/step - loss: 526.0663 - mae: 526.0663\n"
          ]
        },
        {
          "data": {
            "text/plain": [
              "[526.0662841796875, 526.0662841796875]"
            ]
          },
          "execution_count": 31,
          "metadata": {},
          "output_type": "execute_result"
        }
      ],
      "source": [
        "# Load in saved best performing model_1 and evaluate on test data\n",
        "model_1 = tf.keras.models.load_model(\"model_experiments/model_1_dense\")\n",
        "model_1.evaluate(test_windows, test_labels)"
      ]
    },
    {
      "cell_type": "markdown",
      "metadata": {
        "id": "YvVtmLRdpcyH"
      },
      "source": [
        "Much better! Due to the fluctuating performance of the model during training, loading back in the best performing model see's a sizeable improvement in MAE."
      ]
    },
    {
      "cell_type": "markdown",
      "metadata": {
        "id": "-HfeTX5KhYin"
      },
      "source": [
        "## Making forecasts with a model (on the test dataset)\n",
        "\n",
        "We've trained a model and evaluated the it on the test data, but the project we're working on is called BitPredict 💰📈 so how do you think we could use our model to make predictions?\n",
        "\n",
        "Since we're going to be running more modelling experiments, let's write a function which: \n",
        "1. Takes in a trained model (just like `model_1`)\n",
        "2. Takes in some input data (just like the data the model was trained on) \n",
        "3. Passes the input data to the model's `predict()` method\n",
        "4. Returns the predictions\n",
        "\n"
      ]
    },
    {
      "cell_type": "code",
      "execution_count": 32,
      "metadata": {
        "id": "hZrExWzyh3ur"
      },
      "outputs": [],
      "source": [
        "def make_preds(model, input_data):\n",
        "  \"\"\"\n",
        "  Uses model to make predictions on input_data.\n",
        "\n",
        "  Parameters\n",
        "  ----------\n",
        "  model: trained model \n",
        "  input_data: windowed input data (same kind of data model was trained on)\n",
        "\n",
        "  Returns model predictions on input_data.\n",
        "  \"\"\"\n",
        "  forecast = model.predict(input_data)\n",
        "  return tf.squeeze(forecast) # return 1D array of predictions"
      ]
    },
    {
      "cell_type": "markdown",
      "metadata": {
        "id": "vcsoVIrGvrDd"
      },
      "source": [
        "Nice! \n",
        "\n",
        "Now let's use our `make_preds()` and see how it goes.\n",
        "\n"
      ]
    },
    {
      "cell_type": "code",
      "execution_count": 33,
      "metadata": {
        "colab": {
          "base_uri": "https://localhost:8080/"
        },
        "id": "u1aAKQp6vapw",
        "outputId": "0e3faaae-e3fb-4196-9139-c6c5f5efb9a1"
      },
      "outputs": [
        {
          "name": "stdout",
          "output_type": "stream",
          "text": [
            "22/22 [==============================] - 0s 871us/step\n"
          ]
        },
        {
          "data": {
            "text/plain": [
              "(679,\n",
              " <tf.Tensor: shape=(10,), dtype=float32, numpy=\n",
              " array([38861.848, 39162.418, 37842.234, 42492.523, 44262.57 , 44328.06 ,\n",
              "        42492.1  , 39577.89 , 39365.367, 38281.17 ], dtype=float32)>)"
            ]
          },
          "execution_count": 33,
          "metadata": {},
          "output_type": "execute_result"
        }
      ],
      "source": [
        "# Make predictions using model_1 on the test dataset and view the results\n",
        "model_1_preds = make_preds(model_1, test_windows)\n",
        "len(model_1_preds), model_1_preds[:10]"
      ]
    },
    {
      "cell_type": "markdown",
      "metadata": {
        "id": "q5Ra13OrwIOf"
      },
      "source": [
        "> 🔑 **Note:** With these outputs, our model isn't *forecasting* yet. It's only making predictions on the test dataset. Forecasting would involve a model making predictions into the future, however, the test dataset is only a pseudofuture.\n",
        "\n",
        "Excellent! Now we've got some prediction values, let's use the `evaluate_preds()` we created before to compare them to the ground truth."
      ]
    },
    {
      "cell_type": "code",
      "execution_count": 34,
      "metadata": {
        "colab": {
          "base_uri": "https://localhost:8080/"
        },
        "id": "eHak7Jqd9aXv",
        "outputId": "6969b6f5-1922-46c4-934d-48a24c452807"
      },
      "outputs": [
        {
          "data": {
            "text/plain": [
              "{'mae': 526.0663,\n",
              " 'mse': 666067.8,\n",
              " 'rmse': 816.12976,\n",
              " 'mape': 1.894244,\n",
              " 'mase': 1.0052286}"
            ]
          },
          "execution_count": 34,
          "metadata": {},
          "output_type": "execute_result"
        }
      ],
      "source": [
        "# Evaluate preds\n",
        "model_1_results = evaluate_preds(y_true=tf.squeeze(test_labels), # reduce to right shape\n",
        "                                 y_pred=model_1_preds)\n",
        "model_1_results"
      ]
    },
    {
      "cell_type": "code",
      "execution_count": 35,
      "metadata": {
        "colab": {
          "base_uri": "https://localhost:8080/",
          "height": 442
        },
        "id": "Wgxoqg_tIhFJ",
        "outputId": "018c00f6-e663-49d6-d046-177e200ccbfb"
      },
      "outputs": [
        {
          "data": {
            "image/png": "[encoded data removed]",
            "text/plain": [
              "<Figure size 1000x700 with 1 Axes>"
            ]
          },
          "metadata": {},
          "output_type": "display_data"
        }
      ],
      "source": [
        "offset = 300\n",
        "plt.figure(figsize=(10, 7))\n",
        "# Account for the test_window offset and index into test_labels to ensure correct plotting\n",
        "plot_time_series(timesteps=X_test[-len(test_windows):], values=test_labels[:, 0], start=offset, label=\"Test_data\")\n",
        "plot_time_series(timesteps=X_test[-len(test_windows):], values=model_1_preds, start=offset, format=\"-\", label=\"model_1_preds\")"
      ]
    },
    {
      "cell_type": "markdown",
      "metadata": {
        "id": "fr18ffVq4i6m"
      },
      "source": [
        "## Model 2: Dense (window = 30, horizon = 1)\n",
        "\n",
        "A naïve model is currently beating our handcrafted deep learning model. \n",
        "\n",
        "We can't let this happen.\n",
        "\n",
        "Let's continue our modelling experiments.\n",
        "\n",
        "We'll keep the previous model architecture but use a window size of 30.\n",
        "\n",
        "In other words, we'll use the previous 30 days of Bitcoin prices to try and predict the next day price.\n",
        "\n",
        "![bitcoin prices windowed for 30 days to predict a horizon of 1 day](https://raw.githubusercontent.com/mrdbourke/tensorflow-deep-learning/main/images/10-bitcoin-price-window-for-one-month.png)\n",
        "*Example of Bitcoin prices windowed for 30 days to predict a horizon of 1.*\n",
        "\n",
        "> 🔑 **Note:** Recall from before, the window size (how many timesteps to use to fuel a forecast) and the horizon (how many timesteps to predict into the future) are **hyperparameters**. This means you can tune them to try and find values will result in better performance.\n",
        "\n",
        "We'll start our second modelling experiment by preparing datasets using the functions we created earlier."
      ]
    },
    {
      "cell_type": "code",
      "execution_count": 36,
      "metadata": {
        "id": "Vz0eMi7F4wpn"
      },
      "outputs": [],
      "source": [
        "HORIZON = 1 # predict one step at a time\n",
        "WINDOW_SIZE = 30 # use 30 timesteps in the past"
      ]
    },
    {
      "cell_type": "code",
      "execution_count": 37,
      "metadata": {
        "colab": {
          "base_uri": "https://localhost:8080/"
        },
        "id": "1HlYaAxr6UoC",
        "outputId": "7fdc8064-6fe8-4739-919d-dc0c06de8666"
      },
      "outputs": [
        {
          "data": {
            "text/plain": [
              "(3368, 3368)"
            ]
          },
          "execution_count": 37,
          "metadata": {},
          "output_type": "execute_result"
        }
      ],
      "source": [
        "# Make windowed data with appropriate horizon and window sizes\n",
        "full_windows, full_labels = make_windows(prices, window_size=WINDOW_SIZE, horizon=HORIZON)\n",
        "len(full_windows), len(full_labels)"
      ]
    },
    {
      "cell_type": "code",
      "execution_count": 38,
      "metadata": {
        "colab": {
          "base_uri": "https://localhost:8080/"
        },
        "id": "jWxYZtOuelzO",
        "outputId": "14a862eb-c90e-4905-fbae-640d890059b7"
      },
      "outputs": [
        {
          "data": {
            "text/plain": [
              "(2694, 674, 2694, 674)"
            ]
          },
          "execution_count": 38,
          "metadata": {},
          "output_type": "execute_result"
        }
      ],
      "source": [
        "# Make train and testing windows\n",
        "train_windows, test_windows, train_labels, test_labels = make_train_test_splits(windows=full_windows, labels=full_labels)\n",
        "len(train_windows), len(test_windows), len(train_labels), len(test_labels)"
      ]
    },
    {
      "cell_type": "markdown",
      "metadata": {
        "id": "2xikvf8N0_dU"
      },
      "source": [
        "Data prepared!\n",
        "\n",
        "Now let's construct `model_2`, a model with the same architecture as `model_1` as well as the same training routine."
      ]
    },
    {
      "cell_type": "code",
      "execution_count": 39,
      "metadata": {
        "colab": {
          "base_uri": "https://localhost:8080/"
        },
        "id": "b_oz5aJE6UwN",
        "outputId": "e9f156de-6b38-44b4-e319-0d5d1be0ffa4"
      },
      "outputs": [
        {
          "name": "stdout",
          "output_type": "stream",
          "text": [
            "INFO:tensorflow:Assets written to: model_experiments/model_2_dense/assets\n"
          ]
        },
        {
          "name": "stderr",
          "output_type": "stream",
          "text": [
            "INFO:tensorflow:Assets written to: model_experiments/model_2_dense/assets\n"
          ]
        },
        {
          "name": "stdout",
          "output_type": "stream",
          "text": [
            "INFO:tensorflow:Assets written to: model_experiments/model_2_dense/assets\n"
          ]
        },
        {
          "name": "stderr",
          "output_type": "stream",
          "text": [
            "INFO:tensorflow:Assets written to: model_experiments/model_2_dense/assets\n"
          ]
        },
        {
          "name": "stdout",
          "output_type": "stream",
          "text": [
            "INFO:tensorflow:Assets written to: model_experiments/model_2_dense/assets\n"
          ]
        },
        {
          "name": "stderr",
          "output_type": "stream",
          "text": [
            "INFO:tensorflow:Assets written to: model_experiments/model_2_dense/assets\n"
          ]
        },
        {
          "name": "stdout",
          "output_type": "stream",
          "text": [
            "INFO:tensorflow:Assets written to: model_experiments/model_2_dense/assets\n"
          ]
        },
        {
          "name": "stderr",
          "output_type": "stream",
          "text": [
            "INFO:tensorflow:Assets written to: model_experiments/model_2_dense/assets\n"
          ]
        },
        {
          "name": "stdout",
          "output_type": "stream",
          "text": [
            "INFO:tensorflow:Assets written to: model_experiments/model_2_dense/assets\n"
          ]
        },
        {
          "name": "stderr",
          "output_type": "stream",
          "text": [
            "INFO:tensorflow:Assets written to: model_experiments/model_2_dense/assets\n"
          ]
        },
        {
          "name": "stdout",
          "output_type": "stream",
          "text": [
            "INFO:tensorflow:Assets written to: model_experiments/model_2_dense/assets\n"
          ]
        },
        {
          "name": "stderr",
          "output_type": "stream",
          "text": [
            "INFO:tensorflow:Assets written to: model_experiments/model_2_dense/assets\n"
          ]
        },
        {
          "name": "stdout",
          "output_type": "stream",
          "text": [
            "INFO:tensorflow:Assets written to: model_experiments/model_2_dense/assets\n"
          ]
        },
        {
          "name": "stderr",
          "output_type": "stream",
          "text": [
            "INFO:tensorflow:Assets written to: model_experiments/model_2_dense/assets\n"
          ]
        },
        {
          "name": "stdout",
          "output_type": "stream",
          "text": [
            "INFO:tensorflow:Assets written to: model_experiments/model_2_dense/assets\n"
          ]
        },
        {
          "name": "stderr",
          "output_type": "stream",
          "text": [
            "INFO:tensorflow:Assets written to: model_experiments/model_2_dense/assets\n"
          ]
        },
        {
          "name": "stdout",
          "output_type": "stream",
          "text": [
            "INFO:tensorflow:Assets written to: model_experiments/model_2_dense/assets\n"
          ]
        },
        {
          "name": "stderr",
          "output_type": "stream",
          "text": [
            "INFO:tensorflow:Assets written to: model_experiments/model_2_dense/assets\n"
          ]
        },
        {
          "name": "stdout",
          "output_type": "stream",
          "text": [
            "INFO:tensorflow:Assets written to: model_experiments/model_2_dense/assets\n"
          ]
        },
        {
          "name": "stderr",
          "output_type": "stream",
          "text": [
            "INFO:tensorflow:Assets written to: model_experiments/model_2_dense/assets\n"
          ]
        },
        {
          "name": "stdout",
          "output_type": "stream",
          "text": [
            "INFO:tensorflow:Assets written to: model_experiments/model_2_dense/assets\n"
          ]
        },
        {
          "name": "stderr",
          "output_type": "stream",
          "text": [
            "INFO:tensorflow:Assets written to: model_experiments/model_2_dense/assets\n"
          ]
        },
        {
          "name": "stdout",
          "output_type": "stream",
          "text": [
            "INFO:tensorflow:Assets written to: model_experiments/model_2_dense/assets\n"
          ]
        },
        {
          "name": "stderr",
          "output_type": "stream",
          "text": [
            "INFO:tensorflow:Assets written to: model_experiments/model_2_dense/assets\n"
          ]
        },
        {
          "name": "stdout",
          "output_type": "stream",
          "text": [
            "INFO:tensorflow:Assets written to: model_experiments/model_2_dense/assets\n"
          ]
        },
        {
          "name": "stderr",
          "output_type": "stream",
          "text": [
            "INFO:tensorflow:Assets written to: model_experiments/model_2_dense/assets\n"
          ]
        },
        {
          "name": "stdout",
          "output_type": "stream",
          "text": [
            "INFO:tensorflow:Assets written to: model_experiments/model_2_dense/assets\n"
          ]
        },
        {
          "name": "stderr",
          "output_type": "stream",
          "text": [
            "INFO:tensorflow:Assets written to: model_experiments/model_2_dense/assets\n"
          ]
        },
        {
          "name": "stdout",
          "output_type": "stream",
          "text": [
            "INFO:tensorflow:Assets written to: model_experiments/model_2_dense/assets\n"
          ]
        },
        {
          "name": "stderr",
          "output_type": "stream",
          "text": [
            "INFO:tensorflow:Assets written to: model_experiments/model_2_dense/assets\n"
          ]
        },
        {
          "name": "stdout",
          "output_type": "stream",
          "text": [
            "INFO:tensorflow:Assets written to: model_experiments/model_2_dense/assets\n"
          ]
        },
        {
          "name": "stderr",
          "output_type": "stream",
          "text": [
            "INFO:tensorflow:Assets written to: model_experiments/model_2_dense/assets\n"
          ]
        },
        {
          "data": {
            "text/plain": [
              "<keras.src.callbacks.History at 0x14fe426d0>"
            ]
          },
          "execution_count": 39,
          "metadata": {},
          "output_type": "execute_result"
        }
      ],
      "source": [
        "tf.random.set_seed(42)\n",
        "\n",
        "# Create model (same model as model 1 but data input will be different)\n",
        "model_2 = tf.keras.Sequential([\n",
        "  layers.Dense(128, activation=\"relu\"),\n",
        "  layers.Dense(HORIZON) # need to predict horizon number of steps into the future\n",
        "], name=\"model_2_dense\")\n",
        "\n",
        "model_2.compile(loss=\"mae\",\n",
        "                optimizer=tf.keras.optimizers.Adam())\n",
        "\n",
        "model_2.fit(train_windows,\n",
        "            train_labels,\n",
        "            epochs=100,\n",
        "            batch_size=128,\n",
        "            verbose=0,\n",
        "            validation_data=(test_windows, test_labels),\n",
        "            callbacks=[create_model_checkpoint(model_name=model_2.name)])"
      ]
    },
    {
      "cell_type": "markdown",
      "metadata": {
        "id": "0oYd2nt51Ppj"
      },
      "source": [
        "Once again, training goes nice and fast.\n",
        "\n",
        "Let's evaluate our model's performance."
      ]
    },
    {
      "cell_type": "code",
      "execution_count": 40,
      "metadata": {
        "colab": {
          "base_uri": "https://localhost:8080/"
        },
        "id": "W42Fa-aO8rhg",
        "outputId": "06a8f364-fc40-4216-aa7f-913c2689e589"
      },
      "outputs": [
        {
          "name": "stdout",
          "output_type": "stream",
          "text": [
            "22/22 [==============================] - 0s 2ms/step - loss: 1174.3162\n"
          ]
        },
        {
          "data": {
            "text/plain": [
              "1174.316162109375"
            ]
          },
          "execution_count": 40,
          "metadata": {},
          "output_type": "execute_result"
        }
      ],
      "source": [
        "# Evaluate model 2 preds\n",
        "model_2.evaluate(test_windows, test_labels)"
      ]
    },
    {
      "cell_type": "markdown",
      "metadata": {
        "id": "W1P2DRrA1VlP"
      },
      "source": [
        "Hmmm... is that the best it did?\n",
        "\n",
        "How about we try loading in the best performing `model_2` which was saved to file thanks to our `ModelCheckpoint` callback."
      ]
    },
    {
      "cell_type": "code",
      "execution_count": 41,
      "metadata": {
        "colab": {
          "base_uri": "https://localhost:8080/"
        },
        "id": "c_hG89F5YV4i",
        "outputId": "027e0c90-f19f-4478-f633-1a541ca73e39"
      },
      "outputs": [
        {
          "name": "stdout",
          "output_type": "stream",
          "text": [
            "22/22 [==============================] - 0s 1ms/step - loss: 612.6913\n"
          ]
        },
        {
          "data": {
            "text/plain": [
              "612.6913452148438"
            ]
          },
          "execution_count": 41,
          "metadata": {},
          "output_type": "execute_result"
        }
      ],
      "source": [
        "# Load in best performing model\n",
        "model_2 = tf.keras.models.load_model(\"model_experiments/model_2_dense/\")\n",
        "model_2.evaluate(test_windows, test_labels)"
      ]
    },
    {
      "cell_type": "markdown",
      "metadata": {
        "id": "jGh8gRhU1kaj"
      },
      "source": [
        "Excellent! Loading back in the best performing model see's a performance boost.\n",
        "\n",
        "But let's not stop there, let's make some predictions with `model_2` and then evaluate them just as we did before."
      ]
    },
    {
      "cell_type": "code",
      "execution_count": 42,
      "metadata": {
        "id": "TPfvPgkUknY5"
      },
      "outputs": [
        {
          "name": "stdout",
          "output_type": "stream",
          "text": [
            "22/22 [==============================] - 0s 1ms/step\n"
          ]
        }
      ],
      "source": [
        "# Get forecast predictions\n",
        "model_2_preds = make_preds(model_2,\n",
        "                           input_data=test_windows)"
      ]
    },
    {
      "cell_type": "code",
      "execution_count": 43,
      "metadata": {
        "colab": {
          "base_uri": "https://localhost:8080/"
        },
        "id": "dy7XZx7FllHX",
        "outputId": "f08daef8-841a-4c58-c8a6-da36b98ff47a"
      },
      "outputs": [
        {
          "data": {
            "text/plain": [
              "{'mae': 612.69147,\n",
              " 'mse': 800701.25,\n",
              " 'rmse': 894.8191,\n",
              " 'mape': 2.235934,\n",
              " 'mase': 1.1956267}"
            ]
          },
          "execution_count": 43,
          "metadata": {},
          "output_type": "execute_result"
        }
      ],
      "source": [
        "# Evaluate results for model 2 predictions\n",
        "model_2_results = evaluate_preds(y_true=tf.squeeze(test_labels), # remove 1 dimension of test labels\n",
        "                                 y_pred=model_2_preds)\n",
        "model_2_results"
      ]
    },
    {
      "cell_type": "markdown",
      "metadata": {
        "id": "a8djCXli1wGy"
      },
      "source": [
        "It looks like `model_2` performs worse than the naïve model as well as `model_1`!\n",
        "\n",
        "Does this mean a smaller window size is better? (I'll leave this as a challenge you can experiment with)\n",
        "\n",
        "How do the predictions look?"
      ]
    },
    {
      "cell_type": "code",
      "execution_count": 44,
      "metadata": {
        "colab": {
          "base_uri": "https://localhost:8080/",
          "height": 442
        },
        "id": "jHh_qtXflx7Z",
        "outputId": "b5329370-f1c8-4980-b612-ed904880c16f"
      },
      "outputs": [
        {
          "data": {
            "image/png": "[encoded data removed]",
            "text/plain": [
              "<Figure size 1000x700 with 1 Axes>"
            ]
          },
          "metadata": {},
          "output_type": "display_data"
        }
      ],
      "source": [
        "offset = 300\n",
        "plt.figure(figsize=(10, 7))\n",
        "# Account for the test_window offset\n",
        "plot_time_series(timesteps=X_test[-len(test_windows):], values=test_labels[:, 0], start=offset, label=\"test_data\")\n",
        "plot_time_series(timesteps=X_test[-len(test_windows):], values=model_2_preds, start=offset, format=\"-\", label=\"model_2_preds\") "
      ]
    },
    {
      "cell_type": "markdown",
      "metadata": {
        "id": "Sls7mUaq9lMl"
      },
      "source": [
        "## Model 3: Dense (window = 30, horizon = 7)\n",
        "\n",
        "Let's try and predict 7 days ahead given the previous 30 days.\n",
        "\n",
        "First, we'll update the `HORIZON` and `WINDOW_SIZE` variables and create windowed data.\n"
      ]
    },
    {
      "cell_type": "code",
      "execution_count": 45,
      "metadata": {
        "colab": {
          "base_uri": "https://localhost:8080/"
        },
        "id": "8PtmayTM98Mb",
        "outputId": "3bbaec11-0558-4181-d906-258ece66a3a3"
      },
      "outputs": [
        {
          "data": {
            "text/plain": [
              "(3362, 3362)"
            ]
          },
          "execution_count": 45,
          "metadata": {},
          "output_type": "execute_result"
        }
      ],
      "source": [
        "HORIZON = 7\n",
        "WINDOW_SIZE = 30\n",
        "\n",
        "full_windows, full_labels = make_windows(prices, window_size=WINDOW_SIZE, horizon=HORIZON)\n",
        "len(full_windows), len(full_labels)"
      ]
    },
    {
      "cell_type": "markdown",
      "metadata": {
        "id": "c7lhMfxWZK83"
      },
      "source": [
        "And we'll split the full dataset windows into training and test sets."
      ]
    },
    {
      "cell_type": "code",
      "execution_count": 46,
      "metadata": {
        "colab": {
          "base_uri": "https://localhost:8080/"
        },
        "id": "E8xgoKunZ__e",
        "outputId": "f6588b6d-2d90-44db-8062-ca1ffe03bfc8"
      },
      "outputs": [
        {
          "data": {
            "text/plain": [
              "(2689, 673, 2689, 673)"
            ]
          },
          "execution_count": 46,
          "metadata": {},
          "output_type": "execute_result"
        }
      ],
      "source": [
        "train_windows, test_windows, train_labels, test_labels = make_train_test_splits(windows=full_windows, labels=full_labels, test_split=0.2)\n",
        "len(train_windows), len(test_windows), len(train_labels), len(test_labels)"
      ]
    },
    {
      "cell_type": "markdown",
      "metadata": {
        "id": "dlwu4mQmZvSg"
      },
      "source": [
        "Now let's build, compile, fit and evaluate a model."
      ]
    },
    {
      "cell_type": "code",
      "execution_count": 47,
      "metadata": {
        "colab": {
          "base_uri": "https://localhost:8080/"
        },
        "id": "hxHh7xS2-CoH",
        "outputId": "587403ef-8c0d-4c6d-928a-a6dddecc1794"
      },
      "outputs": [
        {
          "name": "stdout",
          "output_type": "stream",
          "text": [
            "INFO:tensorflow:Assets written to: model_experiments/model_3_dense/assets\n"
          ]
        },
        {
          "name": "stderr",
          "output_type": "stream",
          "text": [
            "INFO:tensorflow:Assets written to: model_experiments/model_3_dense/assets\n"
          ]
        },
        {
          "name": "stdout",
          "output_type": "stream",
          "text": [
            "INFO:tensorflow:Assets written to: model_experiments/model_3_dense/assets\n"
          ]
        },
        {
          "name": "stderr",
          "output_type": "stream",
          "text": [
            "INFO:tensorflow:Assets written to: model_experiments/model_3_dense/assets\n"
          ]
        },
        {
          "name": "stdout",
          "output_type": "stream",
          "text": [
            "INFO:tensorflow:Assets written to: model_experiments/model_3_dense/assets\n"
          ]
        },
        {
          "name": "stderr",
          "output_type": "stream",
          "text": [
            "INFO:tensorflow:Assets written to: model_experiments/model_3_dense/assets\n"
          ]
        },
        {
          "name": "stdout",
          "output_type": "stream",
          "text": [
            "INFO:tensorflow:Assets written to: model_experiments/model_3_dense/assets\n"
          ]
        },
        {
          "name": "stderr",
          "output_type": "stream",
          "text": [
            "INFO:tensorflow:Assets written to: model_experiments/model_3_dense/assets\n"
          ]
        },
        {
          "name": "stdout",
          "output_type": "stream",
          "text": [
            "INFO:tensorflow:Assets written to: model_experiments/model_3_dense/assets\n"
          ]
        },
        {
          "name": "stderr",
          "output_type": "stream",
          "text": [
            "INFO:tensorflow:Assets written to: model_experiments/model_3_dense/assets\n"
          ]
        },
        {
          "name": "stdout",
          "output_type": "stream",
          "text": [
            "INFO:tensorflow:Assets written to: model_experiments/model_3_dense/assets\n"
          ]
        },
        {
          "name": "stderr",
          "output_type": "stream",
          "text": [
            "INFO:tensorflow:Assets written to: model_experiments/model_3_dense/assets\n"
          ]
        },
        {
          "name": "stdout",
          "output_type": "stream",
          "text": [
            "INFO:tensorflow:Assets written to: model_experiments/model_3_dense/assets\n"
          ]
        },
        {
          "name": "stderr",
          "output_type": "stream",
          "text": [
            "INFO:tensorflow:Assets written to: model_experiments/model_3_dense/assets\n"
          ]
        },
        {
          "name": "stdout",
          "output_type": "stream",
          "text": [
            "INFO:tensorflow:Assets written to: model_experiments/model_3_dense/assets\n"
          ]
        },
        {
          "name": "stderr",
          "output_type": "stream",
          "text": [
            "INFO:tensorflow:Assets written to: model_experiments/model_3_dense/assets\n"
          ]
        },
        {
          "name": "stdout",
          "output_type": "stream",
          "text": [
            "INFO:tensorflow:Assets written to: model_experiments/model_3_dense/assets\n"
          ]
        },
        {
          "name": "stderr",
          "output_type": "stream",
          "text": [
            "INFO:tensorflow:Assets written to: model_experiments/model_3_dense/assets\n"
          ]
        },
        {
          "name": "stdout",
          "output_type": "stream",
          "text": [
            "INFO:tensorflow:Assets written to: model_experiments/model_3_dense/assets\n"
          ]
        },
        {
          "name": "stderr",
          "output_type": "stream",
          "text": [
            "INFO:tensorflow:Assets written to: model_experiments/model_3_dense/assets\n"
          ]
        },
        {
          "name": "stdout",
          "output_type": "stream",
          "text": [
            "INFO:tensorflow:Assets written to: model_experiments/model_3_dense/assets\n"
          ]
        },
        {
          "name": "stderr",
          "output_type": "stream",
          "text": [
            "INFO:tensorflow:Assets written to: model_experiments/model_3_dense/assets\n"
          ]
        },
        {
          "name": "stdout",
          "output_type": "stream",
          "text": [
            "INFO:tensorflow:Assets written to: model_experiments/model_3_dense/assets\n"
          ]
        },
        {
          "name": "stderr",
          "output_type": "stream",
          "text": [
            "INFO:tensorflow:Assets written to: model_experiments/model_3_dense/assets\n"
          ]
        },
        {
          "name": "stdout",
          "output_type": "stream",
          "text": [
            "INFO:tensorflow:Assets written to: model_experiments/model_3_dense/assets\n"
          ]
        },
        {
          "name": "stderr",
          "output_type": "stream",
          "text": [
            "INFO:tensorflow:Assets written to: model_experiments/model_3_dense/assets\n"
          ]
        },
        {
          "name": "stdout",
          "output_type": "stream",
          "text": [
            "INFO:tensorflow:Assets written to: model_experiments/model_3_dense/assets\n"
          ]
        },
        {
          "name": "stderr",
          "output_type": "stream",
          "text": [
            "INFO:tensorflow:Assets written to: model_experiments/model_3_dense/assets\n"
          ]
        },
        {
          "name": "stdout",
          "output_type": "stream",
          "text": [
            "INFO:tensorflow:Assets written to: model_experiments/model_3_dense/assets\n"
          ]
        },
        {
          "name": "stderr",
          "output_type": "stream",
          "text": [
            "INFO:tensorflow:Assets written to: model_experiments/model_3_dense/assets\n"
          ]
        },
        {
          "name": "stdout",
          "output_type": "stream",
          "text": [
            "INFO:tensorflow:Assets written to: model_experiments/model_3_dense/assets\n"
          ]
        },
        {
          "name": "stderr",
          "output_type": "stream",
          "text": [
            "INFO:tensorflow:Assets written to: model_experiments/model_3_dense/assets\n"
          ]
        },
        {
          "name": "stdout",
          "output_type": "stream",
          "text": [
            "INFO:tensorflow:Assets written to: model_experiments/model_3_dense/assets\n"
          ]
        },
        {
          "name": "stderr",
          "output_type": "stream",
          "text": [
            "INFO:tensorflow:Assets written to: model_experiments/model_3_dense/assets\n"
          ]
        },
        {
          "name": "stdout",
          "output_type": "stream",
          "text": [
            "INFO:tensorflow:Assets written to: model_experiments/model_3_dense/assets\n"
          ]
        },
        {
          "name": "stderr",
          "output_type": "stream",
          "text": [
            "INFO:tensorflow:Assets written to: model_experiments/model_3_dense/assets\n"
          ]
        },
        {
          "name": "stdout",
          "output_type": "stream",
          "text": [
            "INFO:tensorflow:Assets written to: model_experiments/model_3_dense/assets\n"
          ]
        },
        {
          "name": "stderr",
          "output_type": "stream",
          "text": [
            "INFO:tensorflow:Assets written to: model_experiments/model_3_dense/assets\n"
          ]
        },
        {
          "name": "stdout",
          "output_type": "stream",
          "text": [
            "INFO:tensorflow:Assets written to: model_experiments/model_3_dense/assets\n"
          ]
        },
        {
          "name": "stderr",
          "output_type": "stream",
          "text": [
            "INFO:tensorflow:Assets written to: model_experiments/model_3_dense/assets\n"
          ]
        },
        {
          "name": "stdout",
          "output_type": "stream",
          "text": [
            "INFO:tensorflow:Assets written to: model_experiments/model_3_dense/assets\n"
          ]
        },
        {
          "name": "stderr",
          "output_type": "stream",
          "text": [
            "INFO:tensorflow:Assets written to: model_experiments/model_3_dense/assets\n"
          ]
        },
        {
          "data": {
            "text/plain": [
              "<keras.src.callbacks.History at 0x150551550>"
            ]
          },
          "execution_count": 47,
          "metadata": {},
          "output_type": "execute_result"
        }
      ],
      "source": [
        "tf.random.set_seed(42)\n",
        "\n",
        "# Create model (same as model_1 except with different data input size)\n",
        "model_3 = tf.keras.Sequential([\n",
        "  layers.Dense(128, activation=\"relu\"),\n",
        "  layers.Dense(HORIZON)\n",
        "], name=\"model_3_dense\")\n",
        "\n",
        "model_3.compile(loss=\"mae\",\n",
        "                optimizer=tf.keras.optimizers.Adam())\n",
        "\n",
        "model_3.fit(train_windows,\n",
        "            train_labels,\n",
        "            batch_size=128,\n",
        "            epochs=100,\n",
        "            verbose=0,\n",
        "            validation_data=(test_windows, test_labels),\n",
        "            callbacks=[create_model_checkpoint(model_name=model_3.name)])"
      ]
    },
    {
      "cell_type": "code",
      "execution_count": 48,
      "metadata": {
        "colab": {
          "base_uri": "https://localhost:8080/"
        },
        "id": "Pd-8pbfh-DDI",
        "outputId": "ad359823-115b-4f42-f5da-bc5c2116951f"
      },
      "outputs": [
        {
          "name": "stdout",
          "output_type": "stream",
          "text": [
            "22/22 [==============================] - 0s 1ms/step - loss: 2957.5923\n"
          ]
        },
        {
          "data": {
            "text/plain": [
              "2957.59228515625"
            ]
          },
          "execution_count": 48,
          "metadata": {},
          "output_type": "execute_result"
        }
      ],
      "source": [
        "# How did our model with a larger window size and horizon go?\n",
        "model_3.evaluate(test_windows, test_labels)"
      ]
    },
    {
      "cell_type": "markdown",
      "metadata": {
        "id": "BXqmKsQhS2qB"
      },
      "source": [
        "To compare apples to apples (best performing model to best performing model), we've got to load in the best version of `model_3`. "
      ]
    },
    {
      "cell_type": "code",
      "execution_count": 49,
      "metadata": {
        "colab": {
          "base_uri": "https://localhost:8080/"
        },
        "id": "XsltcXHYSrkX",
        "outputId": "ca492549-6b42-4f67-c84b-37a77b742732"
      },
      "outputs": [
        {
          "name": "stdout",
          "output_type": "stream",
          "text": [
            "22/22 [==============================] - 0s 2ms/step - loss: 1149.9160\n"
          ]
        },
        {
          "data": {
            "text/plain": [
              "1149.916015625"
            ]
          },
          "execution_count": 49,
          "metadata": {},
          "output_type": "execute_result"
        }
      ],
      "source": [
        "# Load in best version of model_3 and evaluate\n",
        "model_3 = tf.keras.models.load_model(\"model_experiments/model_3_dense/\")\n",
        "model_3.evaluate(test_windows, test_labels)"
      ]
    },
    {
      "cell_type": "markdown",
      "metadata": {
        "id": "q--5dtgITJbc"
      },
      "source": [
        "In this case, the error will be higher because we're predicting 7 steps at a time. \n",
        "\n",
        "This makes sense though because the further you try and predict, the larger your error will be (think of trying to predict the weather 7 days in advance).\n",
        "\n",
        "Let's make predictions with our model using the `make_preds()` function and evaluate them using the `evaluate_preds()` function."
      ]
    },
    {
      "cell_type": "code",
      "execution_count": 50,
      "metadata": {
        "colab": {
          "base_uri": "https://localhost:8080/"
        },
        "id": "uKBNVovRpvhd",
        "outputId": "4adc4cf3-362d-468b-9664-f63c8bbfc493"
      },
      "outputs": [
        {
          "name": "stdout",
          "output_type": "stream",
          "text": [
            " 1/22 [>.............................] - ETA: 1s"
          ]
        },
        {
          "name": "stdout",
          "output_type": "stream",
          "text": [
            "22/22 [==============================] - 0s 1ms/step\n"
          ]
        },
        {
          "data": {
            "text/plain": [
              "<tf.Tensor: shape=(5, 7), dtype=float32, numpy=\n",
              "array([[39284.434, 38984.684, 38140.727, 38263.418, 38999.96 , 38308.457,\n",
              "        39147.61 ],\n",
              "       [40059.227, 39852.957, 39428.824, 38442.062, 39246.766, 38081.87 ,\n",
              "        39583.004],\n",
              "       [37923.12 , 38823.207, 38766.004, 38265.348, 38249.598, 37442.754,\n",
              "        39744.094],\n",
              "       [42129.332, 42045.793, 40748.84 , 41140.094, 42402.05 , 40078.703,\n",
              "        42068.914],\n",
              "       [42913.13 , 44690.8  , 42679.934, 42067.11 , 44115.797, 43040.594,\n",
              "        43318.7  ]], dtype=float32)>"
            ]
          },
          "execution_count": 50,
          "metadata": {},
          "output_type": "execute_result"
        }
      ],
      "source": [
        "# The predictions are going to be 7 steps at a time (this is the HORIZON size)\n",
        "model_3_preds = make_preds(model_3,\n",
        "                           input_data=test_windows)\n",
        "model_3_preds[:5]"
      ]
    },
    {
      "cell_type": "code",
      "execution_count": 51,
      "metadata": {
        "colab": {
          "base_uri": "https://localhost:8080/"
        },
        "id": "P9VQqenW-5to",
        "outputId": "d31e64e1-3827-4e87-e88c-24404164890c"
      },
      "outputs": [
        {
          "data": {
            "text/plain": [
              "{'mae': array([3096.486  , 2934.3945 , 3473.721  , 2353.7322 , 3530.664  ,\n",
              "        3823.145  , 4310.7617 , 2840.6714 , 1735.8822 , 1258.8086 ,\n",
              "         846.7182 , 1311.6747 ,  965.87054, 1302.8041 , 1776.4006 ,\n",
              "        1833.0358 , 2015.1222 , 1978.5647 , 3060.346  , 1417.5084 ,\n",
              "        1902.9084 , 1472.2728 , 2054.9197 , 2432.0994 , 2440.865  ,\n",
              "        2353.2712 , 3359.1875 , 2755.1497 , 2079.2126 , 1944.8956 ,\n",
              "         756.49774,  828.08203, 1440.4967 , 1637.3811 , 1693.7344 ,\n",
              "        1939.0128 , 2080.4536 , 3132.8108 , 4143.503  , 4566.719  ,\n",
              "        3296.4202 , 3293.6328 , 2634.4575 , 2824.8745 , 2503.764  ,\n",
              "         865.51953,  627.97546,  656.1278 ,  696.02454, 1012.73773,\n",
              "         787.50555,  836.5826 ,  822.9068 , 1422.9626 , 1862.1423 ,\n",
              "        1554.9542 , 1359.7539 , 1169.36   , 1038.5028 , 1330.822  ,\n",
              "         418.06305,  585.3577 , 1416.1752 , 1370.4537 , 1296.5084 ,\n",
              "        1669.342  , 2746.9363 , 3446.336  , 5529.1655 , 5518.9253 ,\n",
              "        5355.4272 , 5731.906  , 4989.4956 , 2486.211  , 1804.8867 ,\n",
              "        1113.5901 , 1078.5865 , 1326.9425 ,  620.78766,  755.78876,\n",
              "         710.96594, 1101.13   ,  715.029  ,  573.4149 ,  473.12695,\n",
              "         634.11554,  423.20395,  755.6579 , 1054.959  , 1365.4989 ,\n",
              "        1558.8494 , 1594.7059 , 1707.1652 , 1688.6384 ,  952.00867,\n",
              "         815.7333 ,  842.99023,  976.1314 ,  810.106  , 1000.6995 ,\n",
              "        1625.2991 , 2549.2437 , 3986.574  , 4800.9897 , 5883.607  ,\n",
              "        6670.559  , 7048.796  , 6965.246  , 4208.951  , 2782.0496 ,\n",
              "        2642.1086 , 1118.0583 ,  681.8139 ,  745.1437 ,  500.05414,\n",
              "         734.7338 ,  703.89484,  505.39844,  566.35516, 1382.0421 ,\n",
              "        1322.9152 , 1133.9252 , 1114.3893 ,  988.6976 ,  591.2003 ,\n",
              "        1024.2522 , 1441.8455 , 1791.3488 , 2341.166  , 2058.5486 ,\n",
              "        1739.1113 , 1187.569  ,  567.1423 ,  539.03094,  924.46985,\n",
              "         536.18304,  855.7028 , 1621.7606 , 1761.3273 , 2020.9266 ,\n",
              "        1853.4811 , 1665.7748 , 1784.1049 , 1087.1365 ,  499.0519 ,\n",
              "         888.0664 , 1094.1947 ,  930.09485,  894.8962 , 1078.1426 ,\n",
              "        1350.738  , 1594.7352 , 1084.7631 ,  407.29184,  602.25165,\n",
              "         766.96204,  969.24805,  755.3535 ,  444.565  ,  306.88113,\n",
              "         671.72766,  610.53546,  820.41016,  970.0187 ,  519.73773,\n",
              "         455.02762,  483.9269 ,  459.61636, 1102.4835 , 1733.8177 ,\n",
              "        1856.5898 , 2262.942  , 2190.4458 , 2331.9207 , 2292.7483 ,\n",
              "         834.88837,  587.3114 ,  916.6158 ,  872.8178 , 1068.8646 ,\n",
              "        1138.8125 , 1581.5541 ,  822.95844,  570.13367,  274.69754,\n",
              "         313.31863,  442.8552 ,  370.75027,  510.43832,  563.2333 ,\n",
              "         865.8315 , 1145.618  , 1488.8859 , 1553.3529 , 1698.949  ,\n",
              "        2043.296  ,  732.9489 ,  711.28766, 1214.6211 , 2062.8472 ,\n",
              "        1411.3201 , 1449.2765 ,  657.7553 ,  733.889  ,  801.3856 ,\n",
              "         508.26617,  507.13226,  451.8016 ,  409.75082,  328.7129 ,\n",
              "         412.3488 ,  261.89426,  367.7302 ,  360.58957,  499.23605,\n",
              "         523.52484,  543.25616,  648.06976,  578.3683 ,  557.6928 ,\n",
              "         431.67496,  557.5829 ,  755.829  ,  949.6976 ,  529.055  ,\n",
              "         467.47797,  291.30386,  218.20508,  168.6024 ,  240.33287,\n",
              "         239.53098,  223.863  ,  219.32785,  232.56166,  355.09125,\n",
              "         282.952  ,  487.15988,  653.71484,  757.74835, 1019.6716 ,\n",
              "        1017.6694 , 1065.6635 ,  664.3714 ,  334.2871 ,  233.17076,\n",
              "         297.45035,  527.41437,  478.00195,  492.4057 ,  751.19617,\n",
              "        1168.2267 , 1667.7091 , 2100.6592 , 2868.5195 , 3534.2742 ,\n",
              "        4078.927  , 3169.3071 ,  908.4855 ,  926.2143 ,  564.22687,\n",
              "         242.39062,  300.59488,  240.53488,  327.4629 ,  436.51968,\n",
              "         560.8746 ,  556.9869 ,  603.571  ,  489.5593 ,  449.4036 ,\n",
              "         493.29117,  279.56418,  340.37192,  483.5593 ,  505.47867,\n",
              "         565.67633,  781.3997 ,  912.85223,  374.75824,  373.41406,\n",
              "         361.5904 ,  564.4273 ,  335.37152,  320.26898,  338.1663 ,\n",
              "         413.94586,  310.04938,  391.68723,  413.8393 ,  330.3527 ,\n",
              "         422.86496,  733.22797,  928.9964 ,  845.9872 ,  432.98773,\n",
              "         283.84766,  190.05664,  219.96931,  187.03795,  166.48717,\n",
              "         232.34543,  189.87723,  261.29547,  300.57672,  422.82254,\n",
              "         285.4936 ,  133.25111,  159.83846,  168.32227,  307.03668,\n",
              "         324.8514 ,  247.66154,  350.8061 ,  446.76703,  723.12164,\n",
              "        1041.8934 , 1528.1339 , 1949.538  , 2456.32   , 2872.6272 ,\n",
              "        2813.3362 , 2531.3809 , 1984.8451 , 1179.6599 , 1045.9677 ,\n",
              "        1144.2288 , 1178.2188 , 1323.4559 , 1516.2631 ,  758.9132 ,\n",
              "         419.36496,  426.75363,  405.36636,  372.80887,  326.35324,\n",
              "         477.1649 ,  231.89705,  474.87613,  535.899  ,  269.32004,\n",
              "         159.14006,  688.9679 , 1069.2272 , 1264.0831 , 1288.8158 ,\n",
              "        1468.0638 , 1291.1456 , 1464.5701 , 1421.351  ,  935.2564 ,\n",
              "         932.9925 , 1399.4525 , 1850.8834 , 2239.8928 , 2082.4075 ,\n",
              "        1017.47235,  836.76337,  421.6169 ,  585.25867,  660.6479 ,\n",
              "        1379.4961 , 1051.7804 , 1158.6903 ,  912.6872 ,  574.9869 ,\n",
              "         425.76312,  548.3825 ,  867.4562 ,  866.9018 , 1057.983  ,\n",
              "        1528.5834 , 1304.1732 , 1195.2916 , 1197.1248 , 1227.5315 ,\n",
              "        1463.534  , 1720.4841 , 2255.5325 , 3452.7769 , 4097.1807 ,\n",
              "        4403.3315 , 3486.114  , 2796.559  , 2861.6724 , 2963.284  ,\n",
              "        1367.8463 ,  958.18134,  390.64594,  586.0996 ,  751.70593,\n",
              "         502.0695 ,  659.5128 ,  658.21906,  579.8136 ,  746.02484,\n",
              "         436.6353 ,  758.6172 ,  361.125  ,  311.29047,  276.88644,\n",
              "         565.11774,  859.17523,  327.74527,  498.2712 ,  813.6317 ,\n",
              "        1047.1984 , 1239.3368 , 1253.2728 , 1840.8717 ,  834.9718 ,\n",
              "         314.81613,  634.9503 ,  814.25165, 1750.3776 , 1700.5391 ,\n",
              "        2047.7936 , 2020.0999 , 2474.457  , 1689.5184 , 1078.2283 ,\n",
              "         682.76984,  894.71594,  932.89984, 1286.4386 ,  904.5368 ,\n",
              "         807.40735,  391.00418,  322.84793,  577.4453 ,  804.71094,\n",
              "         546.0589 ,  868.0053 ,  618.6669 , 1088.135  , 1714.1599 ,\n",
              "        1773.5115 , 1754.173  , 1298.7771 ,  890.113  ,  867.4294 ,\n",
              "         334.34152,  185.61858,  375.27176,  366.18332,  288.49164,\n",
              "         320.51785,  515.2012 ,  365.73325,  590.4526 ,  392.1621 ,\n",
              "         301.23746,  641.3917 ,  688.38336,  780.35046,  793.5717 ,\n",
              "         801.2829 ,  645.17413,  262.78265,  663.02704,  885.6412 ,\n",
              "         750.4604 ,  441.61746,  621.4389 ,  634.58594,  885.3167 ,\n",
              "         547.9886 ,  699.85187,  623.8915 ,  744.5201 ,  765.2754 ,\n",
              "         538.3376 ,  490.43723,  511.38812,  974.4794 , 1669.1786 ,\n",
              "        2264.5977 , 2300.006  , 2808.5867 , 3226.8293 , 3234.5085 ,\n",
              "        2755.9863 , 1466.2545 ,  758.18024,  491.8055 ,  443.363  ,\n",
              "         456.8538 ,  349.12582,  344.7062 ,  320.71484,  456.12973,\n",
              "         454.16434,  311.90738,  627.76843,  907.1744 ,  843.47156,\n",
              "         675.5508 ,  373.96457,  505.65625,  403.24106,  293.28934,\n",
              "         442.08176,  562.2765 ,  739.96515, 1386.2168 ,  896.702  ,\n",
              "        1082.9366 ,  885.1264 ,  893.0469 ,  499.3973 ,  509.0229 ,\n",
              "         528.16125,  530.0915 ,  483.41293,  873.7411 ,  348.47824,\n",
              "         242.6942 ,  362.41937,  245.69029,  258.3312 ,  371.34488,\n",
              "         210.9174 ,  200.56361,  355.34738,  380.1691 ,  380.95258,\n",
              "         365.46207,  428.0689 ,  335.18973,  377.11273,  332.72964,\n",
              "         286.35016,  703.34015, 1151.7748 , 1607.0447 , 1946.5826 ,\n",
              "        2483.467  , 2711.931  , 2835.4517 , 1698.3613 ,  716.37555,\n",
              "         336.25223,  296.74805,  228.58455,  514.3097 ,  658.35657,\n",
              "         653.87415,  643.10046,  637.1822 ,  535.59766,  608.2581 ,\n",
              "         953.59796, 1188.1038 ,  583.3909 ,  518.82477,  408.20535,\n",
              "         406.0784 ,  484.53766,  300.85324,  470.226  ,  443.64508,\n",
              "         516.3535 ,  790.8965 ,  768.7924 ,  898.07086, 1098.2064 ,\n",
              "        1117.7751 ,  534.0918 ,  444.243  ,  376.14117,  348.25586,\n",
              "         316.2313 ,  687.59875,  847.64874,  389.2977 ,  503.10883,\n",
              "         439.024  ,  590.53546,  761.2436 ,  850.47906, 1000.6169 ,\n",
              "         736.3588 ,  642.93915,  757.9361 ,  405.9629 ,  295.21902,\n",
              "         358.85742,  462.72656,  455.23746,  661.3725 ,  769.88086,\n",
              "        1115.9054 ,  848.0304 ,  841.3326 ,  743.2679 , 1027.7422 ,\n",
              "        1292.1412 , 1607.9152 , 2037.9241 , 1961.8842 , 2295.4382 ,\n",
              "        3028.209  , 3479.1626 , 3315.183  , 3560.8113 , 3998.5579 ,\n",
              "        2267.7878 , 1265.6152 ,  633.4018 ,  610.8058 ,  574.5664 ,\n",
              "         418.2768 ,  438.22433,  260.82535,  558.18805,  537.22656,\n",
              "         621.34094,  828.80804,  953.4665 ,  865.8393 , 1067.5575 ,\n",
              "        1018.981  ,  971.14844,  771.61774,  760.4414 , 1129.0267 ,\n",
              "        1030.2494 ,  851.4208 ,  719.8265 ,  805.1903 ,  666.4107 ,\n",
              "         517.19476,  506.37668,  603.56415,  760.2204 ,  912.9799 ,\n",
              "         478.57477,  371.81586,  427.70425,  722.2054 , 1061.9587 ,\n",
              "        1502.716  , 2310.6418 , 2899.1038 , 3768.6072 , 3680.5989 ,\n",
              "        3639.1602 , 3870.5017 , 2412.8677 ,  798.5742 ,  913.24054,\n",
              "        1132.4353 , 1699.283  , 2165.3528 , 2226.6836 ,  927.0826 ,\n",
              "         661.351  ,  685.25836,  955.83203,  895.0547 , 1158.7305 ,\n",
              "        1061.0848 ,  752.5781 , 1236.0837 ,  267.3711 ,  847.90344,\n",
              "        1171.0056 , 1448.0553 ,  996.0162 , 1419.793  ,  886.8956 ,\n",
              "        1190.2433 ,  875.82086, 1103.7316 ], dtype=float32),\n",
              " 'mse': array([1.51004150e+07, 1.17734160e+07, 1.55540230e+07, 6.17218050e+06,\n",
              "        1.48444980e+07, 1.78683940e+07, 2.04806760e+07, 9.20304600e+06,\n",
              "        3.97138525e+06, 3.29650550e+06, 1.10727550e+06, 3.67449800e+06,\n",
              "        1.36799525e+06, 2.06124975e+06, 4.65239850e+06, 4.91857950e+06,\n",
              "        6.06621500e+06, 5.24643950e+06, 1.03414450e+07, 3.14610225e+06,\n",
              "        4.66934300e+06, 3.36717650e+06, 4.89310950e+06, 8.16859050e+06,\n",
              "        8.66313400e+06, 7.94772950e+06, 1.39481460e+07, 9.23844000e+06,\n",
              "        5.16426050e+06, 3.99422350e+06, 8.24456438e+05, 9.16748312e+05,\n",
              "        2.74795750e+06, 4.55925100e+06, 4.98777850e+06, 6.69965500e+06,\n",
              "        6.99305700e+06, 1.19640310e+07, 2.08795700e+07, 2.25791840e+07,\n",
              "        1.30012880e+07, 1.30565700e+07, 8.22513050e+06, 9.03571200e+06,\n",
              "        6.89662900e+06, 1.03264900e+06, 6.88627500e+05, 5.93768562e+05,\n",
              "        6.20382062e+05, 1.16487825e+06, 8.11768875e+05, 1.08217400e+06,\n",
              "        9.40243000e+05, 2.83270025e+06, 3.91104550e+06, 2.88491750e+06,\n",
              "        2.42975750e+06, 2.23991925e+06, 1.38865175e+06, 2.13285325e+06,\n",
              "        3.27979906e+05, 5.17469656e+05, 2.58610575e+06, 2.69111600e+06,\n",
              "        2.50118725e+06, 4.27068400e+06, 1.34759210e+07, 1.78900120e+07,\n",
              "        3.88023880e+07, 3.74176400e+07, 3.40211440e+07, 3.54074600e+07,\n",
              "        2.53026980e+07, 7.29540650e+06, 3.57556650e+06, 1.97090988e+06,\n",
              "        1.59193325e+06, 2.10243650e+06, 6.43298438e+05, 8.67745938e+05,\n",
              "        6.36562500e+05, 1.43006538e+06, 7.58892188e+05, 3.52462469e+05,\n",
              "        4.18627312e+05, 5.59141438e+05, 2.34712781e+05, 1.14683862e+06,\n",
              "        1.89994862e+06, 4.52545750e+06, 3.03604375e+06, 3.86244075e+06,\n",
              "        3.85981600e+06, 3.38078175e+06, 1.31609925e+06, 8.16365438e+05,\n",
              "        8.08425062e+05, 1.39419725e+06, 9.12266875e+05, 1.40198200e+06,\n",
              "        3.31788400e+06, 1.24389510e+07, 2.54094860e+07, 3.30516800e+07,\n",
              "        4.42073320e+07, 5.10036280e+07, 5.60451480e+07, 5.05281880e+07,\n",
              "        1.95092480e+07, 9.23757100e+06, 7.29518550e+06, 1.82212688e+06,\n",
              "        7.56357000e+05, 9.35245000e+05, 6.97110875e+05, 6.49961438e+05,\n",
              "        6.28342875e+05, 3.98367500e+05, 5.30779250e+05, 2.61735825e+06,\n",
              "        2.05332538e+06, 1.57322862e+06, 1.46925400e+06, 1.21295588e+06,\n",
              "        4.05131656e+05, 1.38927162e+06, 2.93381750e+06, 4.25543050e+06,\n",
              "        6.58859300e+06, 4.87387200e+06, 3.39479850e+06, 1.83344112e+06,\n",
              "        4.20779812e+05, 3.90052969e+05, 1.25673588e+06, 6.85986812e+05,\n",
              "        9.96611125e+05, 3.50649075e+06, 4.28449150e+06, 5.26960500e+06,\n",
              "        4.36911250e+06, 3.47467825e+06, 3.29290050e+06, 1.38290412e+06,\n",
              "        4.77980219e+05, 1.29659738e+06, 1.77681538e+06, 1.18273225e+06,\n",
              "        1.17478350e+06, 1.34959800e+06, 2.17003775e+06, 2.72004400e+06,\n",
              "        1.35468112e+06, 2.82829969e+05, 4.55622062e+05, 8.04359562e+05,\n",
              "        1.23937162e+06, 7.31879875e+05, 2.27818844e+05, 1.42459844e+05,\n",
              "        6.12964438e+05, 4.77950062e+05, 8.78164000e+05, 1.16866788e+06,\n",
              "        4.36572281e+05, 2.75201844e+05, 3.69433031e+05, 3.56254594e+05,\n",
              "        2.30221175e+06, 4.60646750e+06, 4.90598750e+06, 6.08132250e+06,\n",
              "        5.55764550e+06, 5.99508250e+06, 5.40602050e+06, 1.31380088e+06,\n",
              "        7.76996500e+05, 1.54889762e+06, 1.19939038e+06, 1.61498462e+06,\n",
              "        1.56053688e+06, 2.68305075e+06, 8.02950938e+05, 4.02973938e+05,\n",
              "        1.12610312e+05, 1.30962484e+05, 3.81307000e+05, 2.47266078e+05,\n",
              "        4.59901469e+05, 5.91276188e+05, 9.06268312e+05, 1.93196888e+06,\n",
              "        2.58302800e+06, 3.53468950e+06, 3.86456250e+06, 5.06785300e+06,\n",
              "        1.05848912e+06, 5.57995750e+05, 1.66678288e+06, 4.35685350e+06,\n",
              "        2.27266025e+06, 2.43223525e+06, 7.39388688e+05, 6.27053438e+05,\n",
              "        7.67636312e+05, 3.89427438e+05, 4.23397844e+05, 2.97015625e+05,\n",
              "        2.28082672e+05, 2.08790719e+05, 2.22203578e+05, 9.30196406e+04,\n",
              "        1.83264000e+05, 2.34504625e+05, 4.16243500e+05, 4.85723594e+05,\n",
              "        3.24746281e+05, 5.01118438e+05, 4.69471312e+05, 3.99323906e+05,\n",
              "        2.87831781e+05, 3.30497344e+05, 6.59439625e+05, 9.89183562e+05,\n",
              "        3.35022406e+05, 3.07658344e+05, 1.46853172e+05, 6.76912344e+04,\n",
              "        6.66785938e+04, 7.27173203e+04, 9.57560547e+04, 6.36625078e+04,\n",
              "        7.01690859e+04, 6.19846875e+04, 1.45179953e+05, 1.19221062e+05,\n",
              "        4.43794281e+05, 6.89284938e+05, 9.35300938e+05, 1.38537688e+06,\n",
              "        1.27577512e+06, 1.21477375e+06, 5.57326500e+05, 1.50701828e+05,\n",
              "        5.87418672e+04, 1.32408094e+05, 3.33786281e+05, 2.81583906e+05,\n",
              "        2.83336031e+05, 9.27729938e+05, 3.70152800e+06, 4.56824900e+06,\n",
              "        7.68802850e+06, 1.11167340e+07, 1.46653910e+07, 1.74659100e+07,\n",
              "        1.02480390e+07, 1.04964750e+06, 9.30685000e+05, 4.77679406e+05,\n",
              "        6.96077266e+04, 1.04016859e+05, 1.27352617e+05, 1.99137359e+05,\n",
              "        2.50824828e+05, 4.43336969e+05, 4.09461781e+05, 4.80748156e+05,\n",
              "        3.30851438e+05, 2.64909375e+05, 2.71077938e+05, 1.07332250e+05,\n",
              "        2.02900094e+05, 4.23664250e+05, 4.15701406e+05, 3.65311500e+05,\n",
              "        6.83942375e+05, 9.13516688e+05, 2.50324172e+05, 1.73504625e+05,\n",
              "        1.57096250e+05, 4.16670406e+05, 2.27266266e+05, 1.11303609e+05,\n",
              "        1.45768078e+05, 2.80686750e+05, 2.54968391e+05, 2.01466203e+05,\n",
              "        2.29682625e+05, 1.61161234e+05, 2.67304688e+05, 6.03411938e+05,\n",
              "        9.80038312e+05, 7.33773375e+05, 2.40534250e+05, 1.48679016e+05,\n",
              "        6.56791953e+04, 5.64572617e+04, 4.93440000e+04, 5.18787500e+04,\n",
              "        7.23962344e+04, 5.04296875e+04, 8.57015156e+04, 1.22879625e+05,\n",
              "        2.03782828e+05, 1.07564867e+05, 3.07418535e+04, 3.81024727e+04,\n",
              "        3.86633672e+04, 1.33764109e+05, 1.46062438e+05, 9.81542656e+04,\n",
              "        1.46832828e+05, 2.99881344e+05, 9.09528562e+05, 2.19338425e+06,\n",
              "        4.33208550e+06, 6.12632800e+06, 8.31360350e+06, 9.88973700e+06,\n",
              "        8.72675500e+06, 6.61654300e+06, 4.41542200e+06, 2.42617225e+06,\n",
              "        1.84912900e+06, 1.77474775e+06, 1.54078762e+06, 2.05437325e+06,\n",
              "        2.37894875e+06, 6.98978688e+05, 2.11150609e+05, 2.63530344e+05,\n",
              "        3.03093344e+05, 1.71712859e+05, 1.49511203e+05, 2.79800188e+05,\n",
              "        9.41559531e+04, 3.12812312e+05, 3.60989844e+05, 1.69111047e+05,\n",
              "        3.84845820e+04, 6.47289125e+05, 1.56028712e+06, 2.30941925e+06,\n",
              "        2.28203150e+06, 2.65663775e+06, 1.90761112e+06, 2.32341400e+06,\n",
              "        2.19785050e+06, 1.08708600e+06, 1.33676938e+06, 2.72562025e+06,\n",
              "        4.65906100e+06, 5.61334150e+06, 4.70609550e+06, 1.26531088e+06,\n",
              "        8.10967938e+05, 2.32478594e+05, 5.40264188e+05, 5.99505688e+05,\n",
              "        2.11784625e+06, 1.26943575e+06, 1.58129062e+06, 9.28921125e+05,\n",
              "        6.77014125e+05, 3.71649594e+05, 5.08164781e+05, 1.03236169e+06,\n",
              "        9.19213000e+05, 1.47681575e+06, 2.80162750e+06, 2.55787075e+06,\n",
              "        2.41964675e+06, 1.99361175e+06, 2.07448375e+06, 2.70515825e+06,\n",
              "        3.35316225e+06, 6.34820000e+06, 1.51613710e+07, 1.97523700e+07,\n",
              "        2.16120700e+07, 1.50292060e+07, 1.04149580e+07, 9.40992000e+06,\n",
              "        9.24012700e+06, 2.52215025e+06, 1.08367788e+06, 3.20371562e+05,\n",
              "        5.29656375e+05, 6.24449938e+05, 3.86520688e+05, 6.04372188e+05,\n",
              "        6.02557375e+05, 6.14519125e+05, 7.30654188e+05, 2.71010031e+05,\n",
              "        7.91880438e+05, 1.85190719e+05, 1.35701453e+05, 1.22598688e+05,\n",
              "        3.78168562e+05, 8.02298938e+05, 1.63697531e+05, 4.49710562e+05,\n",
              "        1.02491188e+06, 1.43886288e+06, 1.85549012e+06, 1.91888000e+06,\n",
              "        3.64349025e+06, 9.23916375e+05, 1.56357750e+05, 6.79495688e+05,\n",
              "        1.20208975e+06, 4.11430625e+06, 4.00827150e+06, 5.06523450e+06,\n",
              "        4.60300150e+06, 6.36002900e+06, 3.06924975e+06, 1.46083638e+06,\n",
              "        7.44896938e+05, 1.14741288e+06, 1.29106675e+06, 2.23145925e+06,\n",
              "        9.37943000e+05, 7.05217125e+05, 1.64611656e+05, 2.19750203e+05,\n",
              "        5.48880562e+05, 9.20314938e+05, 6.21876125e+05, 9.99460125e+05,\n",
              "        6.45792438e+05, 1.50629262e+06, 3.32666275e+06, 3.49728025e+06,\n",
              "        3.23696525e+06, 1.93261838e+06, 9.89708000e+05, 8.87759938e+05,\n",
              "        1.61620391e+05, 6.46424648e+04, 1.98537453e+05, 2.02023250e+05,\n",
              "        1.04207492e+05, 1.51404078e+05, 3.71228938e+05, 2.90816844e+05,\n",
              "        5.11274812e+05, 2.12124609e+05, 1.72373719e+05, 6.06168438e+05,\n",
              "        6.85424875e+05, 9.08852125e+05, 9.97393438e+05, 8.55867625e+05,\n",
              "        5.80939500e+05, 8.83669141e+04, 7.74928562e+05, 9.97950875e+05,\n",
              "        8.61747000e+05, 3.71711344e+05, 5.63458875e+05, 7.00065625e+05,\n",
              "        9.57005875e+05, 3.48654031e+05, 5.83182438e+05, 6.46567438e+05,\n",
              "        6.46003812e+05, 7.65649062e+05, 3.79726250e+05, 3.28043812e+05,\n",
              "        3.33388500e+05, 1.30861175e+06, 4.92441500e+06, 7.47851450e+06,\n",
              "        8.56858500e+06, 1.12400550e+07, 1.23948490e+07, 1.12020270e+07,\n",
              "        7.99451650e+06, 2.35958975e+06, 6.34952125e+05, 2.95758625e+05,\n",
              "        3.38239781e+05, 2.28728594e+05, 2.63522312e+05, 2.16885797e+05,\n",
              "        2.11026078e+05, 2.85791094e+05, 2.62769344e+05, 1.51468297e+05,\n",
              "        5.16092656e+05, 9.84680625e+05, 9.83199562e+05, 4.95360156e+05,\n",
              "        1.85244094e+05, 3.47508281e+05, 2.31517484e+05, 2.92706062e+05,\n",
              "        3.15827469e+05, 4.44938781e+05, 6.91073562e+05, 2.15166250e+06,\n",
              "        9.96452125e+05, 1.23788288e+06, 9.39244125e+05, 9.96397875e+05,\n",
              "        4.17489281e+05, 3.56717781e+05, 3.83448656e+05, 3.51272219e+05,\n",
              "        3.38956469e+05, 8.80561625e+05, 2.10395500e+05, 1.04258102e+05,\n",
              "        1.91447625e+05, 7.01206875e+04, 1.06300133e+05, 1.94264969e+05,\n",
              "        5.68570273e+04, 6.88468984e+04, 2.10526172e+05, 2.22998891e+05,\n",
              "        2.08368359e+05, 2.32776609e+05, 2.44431172e+05, 1.81546109e+05,\n",
              "        1.72010047e+05, 1.93404531e+05, 1.78588281e+05, 1.44870800e+06,\n",
              "        2.97319725e+06, 4.54812700e+06, 5.64685250e+06, 7.40999650e+06,\n",
              "        8.27724300e+06, 8.10968700e+06, 2.95023075e+06, 6.13645688e+05,\n",
              "        2.17320219e+05, 1.16063680e+05, 6.43568438e+04, 4.85639719e+05,\n",
              "        8.48180125e+05, 8.30335625e+05, 7.03888688e+05, 7.62858000e+05,\n",
              "        5.11544344e+05, 6.20057938e+05, 1.06616525e+06, 1.54677288e+06,\n",
              "        3.99087250e+05, 3.60009719e+05, 2.13914250e+05, 2.21655531e+05,\n",
              "        3.10621531e+05, 1.18738602e+05, 2.38451203e+05, 3.02958750e+05,\n",
              "        4.16575906e+05, 8.14855312e+05, 6.94052688e+05, 9.53092375e+05,\n",
              "        1.39687788e+06, 1.34926188e+06, 3.70822344e+05, 3.00717906e+05,\n",
              "        1.91760609e+05, 1.72909156e+05, 1.80177484e+05, 6.42886688e+05,\n",
              "        7.96611875e+05, 2.22863141e+05, 3.53592344e+05, 2.95328188e+05,\n",
              "        4.69514812e+05, 9.80364125e+05, 1.11356125e+06, 1.26330375e+06,\n",
              "        8.19665625e+05, 4.67400906e+05, 7.77356938e+05, 2.52720344e+05,\n",
              "        9.76971484e+04, 1.60492109e+05, 3.19977094e+05, 3.47696281e+05,\n",
              "        6.39750062e+05, 7.60872062e+05, 1.31090725e+06, 9.58518688e+05,\n",
              "        8.22725062e+05, 6.97062125e+05, 1.45991588e+06, 2.30318450e+06,\n",
              "        3.37697025e+06, 4.74295450e+06, 6.42352900e+06, 9.86207800e+06,\n",
              "        1.43781850e+07, 1.69086020e+07, 1.53161990e+07, 1.45924890e+07,\n",
              "        1.62662140e+07, 5.45397250e+06, 1.98804988e+06, 6.51182812e+05,\n",
              "        6.98111438e+05, 5.57944938e+05, 2.78135469e+05, 3.21683031e+05,\n",
              "        8.96155625e+04, 4.41923062e+05, 5.53041188e+05, 4.81452000e+05,\n",
              "        1.44582538e+06, 1.95349338e+06, 1.27460538e+06, 1.69558575e+06,\n",
              "        1.35977700e+06, 1.27096875e+06, 9.59527688e+05, 7.64931000e+05,\n",
              "        1.52753338e+06, 1.69781375e+06, 9.38188000e+05, 1.03071556e+06,\n",
              "        8.82456125e+05, 6.04549000e+05, 4.46737812e+05, 3.47765938e+05,\n",
              "        7.36323625e+05, 8.98009938e+05, 9.13820500e+05, 3.56210156e+05,\n",
              "        2.57366875e+05, 2.41107203e+05, 8.12124438e+05, 1.72829462e+06,\n",
              "        3.79661475e+06, 9.02511500e+06, 1.31758860e+07, 1.89410920e+07,\n",
              "        1.75982020e+07, 1.53930880e+07, 1.55621210e+07, 6.86122650e+06,\n",
              "        7.84270375e+05, 1.40029275e+06, 2.24190175e+06, 4.18774375e+06,\n",
              "        5.94305200e+06, 5.65229150e+06, 1.05340712e+06, 5.65576125e+05,\n",
              "        9.03942562e+05, 1.07929975e+06, 1.38663712e+06, 2.03056812e+06,\n",
              "        1.57464425e+06, 7.64424625e+05, 2.07336025e+06, 1.07922766e+05,\n",
              "        1.06913100e+06, 1.71292975e+06, 2.48963025e+06, 1.34783700e+06,\n",
              "        2.21798650e+06, 1.04812438e+06, 1.95062500e+06, 1.09561938e+06,\n",
              "        1.66880312e+06], dtype=float32),\n",
              " 'rmse': array([3885.9253 , 3431.2412 , 3943.859  , 2484.3875 , 3852.8557 ,\n",
              "        4227.1025 , 4525.558  , 3033.6523 , 1992.8335 , 1815.6282 ,\n",
              "        1052.2716 , 1916.8981 , 1169.6133 , 1435.7053 , 2156.942  ,\n",
              "        2217.787  , 2462.9688 , 2290.5107 , 3215.8118 , 1773.7256 ,\n",
              "        2160.8662 , 1834.9868 , 2212.0374 , 2858.0747 , 2943.3203 ,\n",
              "        2819.1719 , 3734.7217 , 3039.4802 , 2272.501  , 1998.5553 ,\n",
              "         907.99585,  957.4697 , 1657.6964 , 2135.2402 , 2233.3335 ,\n",
              "        2588.3691 , 2644.439  , 3458.906  , 4569.417  , 4751.756  ,\n",
              "        3605.73   , 3613.3877 , 2867.9487 , 3005.946  , 2626.1433 ,\n",
              "        1016.19336,  829.8358 ,  770.5638 ,  787.6434 , 1079.2953 ,\n",
              "         900.9822 , 1040.2759 ,  969.66125, 1683.0627 , 1977.6364 ,\n",
              "        1698.5045 , 1558.768  , 1496.636  , 1178.4106 , 1460.4291 ,\n",
              "         572.6953 ,  719.35364, 1608.1373 , 1640.4622 , 1581.5143 ,\n",
              "        2066.5632 , 3670.9563 , 4229.6587 , 6229.1562 , 6116.996  ,\n",
              "        5832.7646 , 5950.417  , 5030.1787 , 2701.001  , 1890.9169 ,\n",
              "        1403.891  , 1261.7184 , 1449.9781 ,  802.0589 ,  931.5288 ,\n",
              "         797.8487 , 1195.8534 ,  871.14417,  593.6855 ,  647.01416,\n",
              "         747.7576 ,  484.47165, 1070.9055 , 1378.3862 , 2127.3123 ,\n",
              "        1742.4247 , 1965.3093 , 1964.6415 , 1838.6902 , 1147.2137 ,\n",
              "         903.5294 ,  899.12463, 1180.7614 ,  955.12665, 1184.0532 ,\n",
              "        1821.506  , 3526.8896 , 5040.782  , 5749.059  , 6648.8594 ,\n",
              "        7141.6826 , 7486.3306 , 7108.3184 , 4416.9272 , 3039.3372 ,\n",
              "        2700.9602 , 1349.8618 ,  869.68787,  967.0807 ,  834.93164,\n",
              "         806.20184,  792.6808 ,  631.16364,  728.54596, 1617.8252 ,\n",
              "        1432.9429 , 1254.284  , 1212.1279 , 1101.3428 ,  636.4995 ,\n",
              "        1178.6737 , 1712.839  , 2062.8694 , 2566.8254 , 2207.6848 ,\n",
              "        1842.4979 , 1354.0463 ,  648.6754 ,  624.54224, 1121.0424 ,\n",
              "         828.2432 ,  998.30414, 1872.5626 , 2069.9014 , 2295.562  ,\n",
              "        2090.2422 , 1864.0488 , 1814.6351 , 1175.9695 ,  691.36115,\n",
              "        1138.6823 , 1332.9724 , 1087.5349 , 1083.8743 , 1161.722  ,\n",
              "        1473.1049 , 1649.2556 , 1163.9077 ,  531.8176 ,  674.9978 ,\n",
              "         896.86096, 1113.2706 ,  855.49976,  477.3037 ,  377.43854,\n",
              "         782.9205 ,  691.33936,  937.10406, 1081.0494 ,  660.73615,\n",
              "         524.59686,  607.81006,  596.87067, 1517.3041 , 2146.2683 ,\n",
              "        2214.9463 , 2466.0337 , 2357.4658 , 2448.4858 , 2325.085  ,\n",
              "        1146.2115 ,  881.47406, 1244.5471 , 1095.1669 , 1270.8204 ,\n",
              "        1249.2145 , 1638.0021 ,  896.0753 ,  634.8023 ,  335.57462,\n",
              "         361.8874 ,  617.5006 ,  497.25858,  678.16034,  768.9448 ,\n",
              "         951.98126, 1389.9529 , 1607.1802 , 1880.077  , 1965.849  ,\n",
              "        2251.1892 , 1028.829  ,  746.99115, 1291.0394 , 2087.3076 ,\n",
              "        1507.5345 , 1559.5625 ,  859.87714,  791.86707,  876.14856,\n",
              "         624.0412 ,  650.6903 ,  544.9914 ,  477.58002,  456.93622,\n",
              "         471.38474,  304.9912 ,  428.09344,  484.25677,  645.1694 ,\n",
              "         696.9387 ,  569.8652 ,  707.8972 ,  685.17975,  631.92084,\n",
              "         536.4996 ,  574.889  ,  812.0589 ,  994.5771 ,  578.8112 ,\n",
              "         554.66956,  383.21426,  260.17538,  258.222  ,  269.6615 ,\n",
              "         309.44476,  252.3143 ,  264.89447,  248.96724,  381.02487,\n",
              "         345.28403,  666.1789 ,  830.2319 ,  967.10956, 1177.0204 ,\n",
              "        1129.5022 , 1102.1677 ,  746.543  ,  388.20334,  242.36722,\n",
              "         363.87924,  577.7424 ,  530.6448 ,  532.29315,  963.1874 ,\n",
              "        1923.9355 , 2137.3462 , 2772.7295 , 3334.1768 , 3829.542  ,\n",
              "        4179.2236 , 3201.2559 , 1024.5231 ,  964.72015,  691.14355,\n",
              "         263.83276,  322.51645,  356.865  ,  446.24808,  500.82416,\n",
              "         665.8356 ,  639.892  ,  693.36005,  575.19684,  514.6935 ,\n",
              "         520.6514 ,  327.616  ,  450.44434,  650.89496,  644.7491 ,\n",
              "         604.41003,  827.00806,  955.78064,  500.32407,  416.53885,\n",
              "         396.3537 ,  645.5001 ,  476.72452,  333.62195,  381.79587,\n",
              "         529.79877,  504.94394,  448.84985,  479.25217,  401.4489 ,\n",
              "         517.0152 ,  776.79596,  989.9689 ,  856.6057 ,  490.4429 ,\n",
              "         385.58917,  256.2795 ,  237.60738,  222.1351 ,  227.76907,\n",
              "         269.0655 ,  224.56555,  292.7482 ,  350.5419 ,  451.42313,\n",
              "         327.97083,  175.33354,  195.19855,  196.63002,  365.73776,\n",
              "         382.18115,  313.2958 ,  383.1877 ,  547.61426,  953.6921 ,\n",
              "        1481.0078 , 2081.3662 , 2475.142  , 2883.332  , 3144.7952 ,\n",
              "        2954.1082 , 2572.2642 , 2101.2905 , 1557.6174 , 1359.8268 ,\n",
              "        1332.1965 , 1241.2847 , 1433.3085 , 1542.3842 ,  836.04944,\n",
              "         459.51126,  513.35205,  550.5391 ,  414.3825 ,  386.66678,\n",
              "         528.9614 ,  306.84842,  559.29626,  600.8243 ,  411.23114,\n",
              "         196.17488,  804.5428 , 1249.1145 , 1519.6774 , 1510.6394 ,\n",
              "        1629.9196 , 1381.163  , 1524.2749 , 1482.5149 , 1042.6342 ,\n",
              "        1156.1874 , 1650.9453 , 2158.4858 , 2369.249  , 2169.3538 ,\n",
              "        1124.8604 ,  900.5376 ,  482.16034,  735.0267 ,  774.2775 ,\n",
              "        1455.2822 , 1126.6924 , 1257.4938 ,  963.80554,  822.80865,\n",
              "         609.6307 ,  712.85675, 1016.052  ,  958.756  , 1215.243  ,\n",
              "        1673.8063 , 1599.3345 , 1555.5214 , 1411.9531 , 1440.3069 ,\n",
              "        1644.7366 , 1831.1642 , 2519.5635 , 3893.7605 , 4444.364  ,\n",
              "        4648.8784 , 3876.752  , 3227.2214 , 3067.5593 , 3039.7578 ,\n",
              "        1588.1279 , 1040.9985 ,  566.01373,  727.77496,  790.22144,\n",
              "         621.7079 ,  777.41376,  776.24567,  783.9127 ,  854.78314,\n",
              "         520.58624,  889.87665,  430.33792,  368.37677,  350.14096,\n",
              "         614.9541 ,  895.7114 ,  404.59552,  670.6046 , 1012.37933,\n",
              "        1199.5261 , 1362.1638 , 1385.2365 , 1908.7928 ,  961.2057 ,\n",
              "         395.421  ,  824.3153 , 1096.3986 , 2028.3752 , 2002.0668 ,\n",
              "        2250.6077 , 2145.4607 , 2521.91   , 1751.9275 , 1208.6506 ,\n",
              "         863.0741 , 1071.1736 , 1136.2512 , 1493.807  ,  968.47455,\n",
              "         839.7721 ,  405.72363,  468.7752 ,  740.86475,  959.33044,\n",
              "         788.59125,  999.73004,  803.6121 , 1227.3112 , 1823.9142 ,\n",
              "        1870.1017 , 1799.1569 , 1390.1864 ,  994.8407 ,  942.21014,\n",
              "         402.0204 ,  254.24883,  445.5754 ,  449.46997,  322.81186,\n",
              "         389.10678,  609.2856 ,  539.27435,  715.03485,  460.5699 ,\n",
              "         415.17914,  778.5682 ,  827.90393,  953.33734,  998.69586,\n",
              "         925.13116,  762.19385,  297.26572,  880.3003 ,  998.9749 ,\n",
              "         928.3033 ,  609.68134,  750.639  ,  836.6992 ,  978.2668 ,\n",
              "         590.46936,  763.6638 ,  804.0942 ,  803.74365,  875.01373,\n",
              "         616.2193 ,  572.7511 ,  577.3981 , 1143.9457 , 2219.1023 ,\n",
              "        2734.6873 , 2927.2146 , 3352.6191 , 3520.6318 , 3346.9429 ,\n",
              "        2827.4575 , 1536.0956 ,  796.8388 ,  543.837  ,  581.58386,\n",
              "         478.25577,  513.34424,  465.71   ,  459.37576,  534.5943 ,\n",
              "         512.61035,  389.18927,  718.3959 ,  992.3107 ,  991.5642 ,\n",
              "         703.8183 ,  430.39993,  589.49835,  481.16263,  541.02313,\n",
              "         561.9853 ,  667.0373 ,  831.30835, 1466.8546 ,  998.2245 ,\n",
              "        1112.6018 ,  969.14606,  998.1973 ,  646.1341 ,  597.25854,\n",
              "         619.2323 ,  592.68225,  582.1997 ,  938.38245,  458.6889 ,\n",
              "         322.89023,  437.54727,  264.8031 ,  326.03702,  440.755  ,\n",
              "         238.44711,  262.38693,  458.8313 ,  472.22757,  456.47385,\n",
              "         482.46927,  494.3998 ,  426.08228,  414.74094,  439.77783,\n",
              "         422.59708, 1203.6229 , 1724.2961 , 2132.6338 , 2376.3108 ,\n",
              "        2722.1309 , 2877.0198 , 2847.7512 , 1717.6235 ,  783.3554 ,\n",
              "         466.17618,  340.6812 ,  253.68651,  696.87854,  920.967  ,\n",
              "         911.22754,  838.9807 ,  873.4174 ,  715.22327,  787.43756,\n",
              "        1032.5527 , 1243.6932 ,  631.7335 ,  600.0081 ,  462.50864,\n",
              "         470.80307,  557.3343 ,  344.5847 ,  488.31467,  550.4169 ,\n",
              "         645.42694,  902.69336,  833.09827,  976.2645 , 1181.8959 ,\n",
              "        1161.5773 ,  608.95184,  548.3775 ,  437.9048 ,  415.82346,\n",
              "         424.47318,  801.8021 ,  892.5312 ,  472.08383,  594.6363 ,\n",
              "         543.44104,  685.2115 ,  990.13336, 1055.2542 , 1123.9679 ,\n",
              "         905.3539 ,  683.66724,  881.67847,  502.71298,  312.56543,\n",
              "         400.61465,  565.66516,  589.6578 ,  799.84375,  872.2798 ,\n",
              "        1144.9486 ,  979.0397 ,  907.04193,  834.90247, 1208.2698 ,\n",
              "        1517.6246 , 1837.6534 , 2177.8325 , 2534.4683 , 3140.3945 ,\n",
              "        3791.8577 , 4112.007  , 3913.5916 , 3820.0117 , 4033.1394 ,\n",
              "        2335.3743 , 1409.9822 ,  806.959  ,  835.53064,  746.9571 ,\n",
              "         527.3855 ,  567.1711 ,  299.35858,  664.77295,  743.6674 ,\n",
              "         693.86743, 1202.4248 , 1397.6743 , 1128.9843 , 1302.1466 ,\n",
              "        1166.0947 , 1127.3726 ,  979.5549 ,  874.60333, 1235.9342 ,\n",
              "        1303.0018 ,  968.6011 , 1015.24164,  939.39136,  777.52747,\n",
              "         668.38446,  589.71686,  858.093  ,  947.63385,  955.9396 ,\n",
              "         596.83344,  507.3134 ,  491.02667,  901.17944, 1314.6462 ,\n",
              "        1948.4904 , 3004.1829 , 3629.8604 , 4352.1367 , 4195.021  ,\n",
              "        3923.4026 , 3944.8855 , 2619.3943 ,  885.5904 , 1183.3396 ,\n",
              "        1497.2981 , 2046.3977 , 2437.8376 , 2377.4548 , 1026.3562 ,\n",
              "         752.048  ,  950.7589 , 1038.8936 , 1177.5555 , 1424.9801 ,\n",
              "        1254.8483 ,  874.3138 , 1439.9167 ,  328.516  , 1033.9879 ,\n",
              "        1308.7894 , 1577.8562 , 1160.9639 , 1489.2906 , 1023.7795 ,\n",
              "        1396.6478 , 1046.7184 , 1291.8217 ], dtype=float32),\n",
              " 'mape': array([ 7.1808534 ,  6.894313  ,  8.137346  ,  5.8405375 ,  9.018109  ,\n",
              "         9.80771   , 11.06726   ,  7.3146    ,  4.4596767 ,  3.1760044 ,\n",
              "         2.1163566 ,  3.2418196 ,  2.4794202 ,  3.310397  ,  4.383201  ,\n",
              "         4.4747496 ,  4.851034  ,  4.772034  ,  7.34267   ,  3.3620138 ,\n",
              "         4.4682374 ,  3.3946621 ,  4.7549405 ,  5.4586554 ,  5.352601  ,\n",
              "         5.090132  ,  7.236391  ,  5.9132714 ,  4.4552903 ,  4.1661882 ,\n",
              "         1.6333113 ,  1.7899973 ,  3.1370118 ,  3.6555252 ,  3.8276293 ,\n",
              "         4.4706354 ,  4.83264   ,  7.287629  ,  9.887715  , 11.000696  ,\n",
              "         8.029749  ,  8.108464  ,  6.515441  ,  7.014705  ,  6.2453628 ,\n",
              "         2.1561244 ,  1.5641803 ,  1.6210771 ,  1.7039365 ,  2.4990451 ,\n",
              "         1.9501263 ,  2.090134  ,  2.052854  ,  3.6178026 ,  4.7302427 ,\n",
              "         3.9637425 ,  3.494707  ,  3.0381331 ,  2.6746666 ,  3.4652717 ,\n",
              "         1.0943047 ,  1.5117773 ,  3.7426531 ,  3.6879606 ,  3.487059  ,\n",
              "         4.6437016 ,  8.294666  , 10.572265  , 17.531828  , 18.00628   ,\n",
              "        17.820177  , 19.169626  , 16.706373  ,  8.398919  ,  6.092372  ,\n",
              "         3.772394  ,  3.5479732 ,  4.3851223 ,  2.0742064 ,  2.5662465 ,\n",
              "         2.4044285 ,  3.7402737 ,  2.3897915 ,  1.944485  ,  1.6262631 ,\n",
              "         2.1403487 ,  1.4531198 ,  2.5006187 ,  3.442516  ,  4.367745  ,\n",
              "         5.1204014 ,  5.1575074 ,  5.537589  ,  5.495555  ,  3.090023  ,\n",
              "         2.671236  ,  2.768247  ,  3.1855967 ,  2.6696193 ,  3.3455153 ,\n",
              "         5.6051517 , 10.040869  , 16.419611  , 20.330082  , 25.987211  ,\n",
              "        30.224281  , 33.506306  , 33.51614   , 20.587019  , 13.781383  ,\n",
              "        13.110169  ,  5.6030874 ,  3.4194794 ,  3.5505548 ,  2.3676116 ,\n",
              "         3.5116155 ,  3.3572316 ,  2.4231863 ,  2.779655  ,  6.908556  ,\n",
              "         6.6817813 ,  5.781253  ,  5.6809077 ,  5.0207696 ,  2.9870987 ,\n",
              "         5.025144  ,  6.8922095 ,  8.459955  , 11.030178  ,  9.763225  ,\n",
              "         8.255293  ,  5.617403  ,  2.7564867 ,  2.6566143 ,  4.610508  ,\n",
              "         2.709529  ,  4.1130385 ,  7.405857  ,  7.8598313 ,  8.903465  ,\n",
              "         8.093663  ,  7.247498  ,  7.796307  ,  4.766215  ,  2.287631  ,\n",
              "         4.07104   ,  4.983307  ,  4.1979017 ,  4.0170765 ,  4.759602  ,\n",
              "         5.7660522 ,  6.7916045 ,  4.6195292 ,  1.7611297 ,  2.6115706 ,\n",
              "         3.3419244 ,  4.2262025 ,  3.2862327 ,  1.9273493 ,  1.3113868 ,\n",
              "         2.841674  ,  2.557922  ,  3.4074705 ,  4.0110254 ,  2.1474829 ,\n",
              "         1.8785772 ,  2.0259535 ,  1.9305866 ,  4.937095  ,  7.884415  ,\n",
              "         8.544084  , 10.437819  , 10.189355  , 10.915468  , 10.750641  ,\n",
              "         3.998402  ,  2.8726535 ,  4.5497336 ,  4.3385615 ,  5.348749  ,\n",
              "         5.6916666 ,  7.915908  ,  4.1309147 ,  2.8646276 ,  1.3702915 ,\n",
              "         1.5744599 ,  2.2772405 ,  1.9188579 ,  2.645485  ,  2.8442729 ,\n",
              "         4.2674246 ,  5.4975085 ,  7.066562  ,  7.188074  ,  7.8891673 ,\n",
              "         9.529082  ,  3.3716743 ,  3.4222589 ,  6.0786133 , 10.386567  ,\n",
              "         7.230396  ,  7.5357957 ,  3.4535832 ,  3.830754  ,  4.211856  ,\n",
              "         2.6960802 ,  2.6964054 ,  2.380433  ,  2.1324947 ,  1.712907  ,\n",
              "         2.147813  ,  1.3540385 ,  1.8985351 ,  1.8497189 ,  2.5218964 ,\n",
              "         2.6239347 ,  2.753962  ,  3.2674763 ,  2.9176848 ,  2.8007092 ,\n",
              "         2.1820443 ,  2.8664632 ,  3.916521  ,  4.9212694 ,  2.7529852 ,\n",
              "         2.4406462 ,  1.5217335 ,  1.1316376 ,  0.8702894 ,  1.243739  ,\n",
              "         1.245064  ,  1.1605382 ,  1.1398549 ,  1.2060466 ,  1.8431346 ,\n",
              "         1.4620082 ,  2.423914  ,  3.2406318 ,  3.7121155 ,  4.9728284 ,\n",
              "         4.947993  ,  5.1799417 ,  3.2172117 ,  1.6285524 ,  1.1380829 ,\n",
              "         1.440686  ,  2.5662775 ,  2.3243551 ,  2.378     ,  3.7927475 ,\n",
              "         6.7442613 ,  9.419937  , 12.29732   , 16.79782   , 20.934658  ,\n",
              "        24.33      , 19.026684  ,  5.445925  ,  5.544672  ,  3.3993964 ,\n",
              "         1.4563036 ,  1.8085814 ,  1.4871244 ,  2.0111008 ,  2.6687143 ,\n",
              "         3.4485037 ,  3.4301677 ,  3.7121563 ,  3.0054684 ,  2.7279377 ,\n",
              "         2.9956698 ,  1.6783231 ,  2.030671  ,  2.8568587 ,  3.0064235 ,\n",
              "         3.354817  ,  4.597318  ,  5.354965  ,  2.2040248 ,  2.1859024 ,\n",
              "         2.1217887 ,  3.2987316 ,  1.9579933 ,  1.87051   ,  1.9633578 ,\n",
              "         2.3629692 ,  1.7547323 ,  2.2651303 ,  2.3838985 ,  1.9100454 ,\n",
              "         2.4960027 ,  4.358723  ,  5.551282  ,  5.0552297 ,  2.590922  ,\n",
              "         1.7047253 ,  1.1394739 ,  1.3058206 ,  1.1111774 ,  0.99666715,\n",
              "         1.3880548 ,  1.1368836 ,  1.5677612 ,  1.807324  ,  2.5445526 ,\n",
              "         1.7170892 ,  0.8010538 ,  0.9579355 ,  1.0066127 ,  1.8218387 ,\n",
              "         1.9198775 ,  1.4556053 ,  2.052555  ,  2.5641625 ,  4.0153003 ,\n",
              "         5.5173874 ,  7.760436  ,  9.690019  , 12.030145  , 13.931929  ,\n",
              "        13.557418  , 12.112735  ,  9.271687  ,  5.330205  ,  4.662791  ,\n",
              "         5.102932  ,  5.2570524 ,  5.8015223 ,  6.63256   ,  3.306555  ,\n",
              "         1.8259099 ,  1.8403236 ,  1.7392201 ,  1.6063492 ,  1.4135478 ,\n",
              "         2.0469377 ,  0.99979687,  2.0339167 ,  2.3125062 ,  1.1727569 ,\n",
              "         0.6836381 ,  2.9903343 ,  4.726174  ,  5.6758056 ,  5.83313   ,\n",
              "         6.6654963 ,  5.8862576 ,  6.6870704 ,  6.46177   ,  4.12141   ,\n",
              "         3.9509263 ,  5.8464637 ,  7.632123  ,  9.200941  ,  8.503129  ,\n",
              "         4.154717  ,  3.4145317 ,  1.7506231 ,  2.4722934 ,  2.8047895 ,\n",
              "         5.8486395 ,  4.4935265 ,  4.961225  ,  3.9102745 ,  2.5117564 ,\n",
              "         1.8757519 ,  2.4120455 ,  3.847038  ,  3.8521738 ,  4.7651415 ,\n",
              "         7.0570545 ,  6.212226  ,  5.788581  ,  5.75369   ,  5.7997694 ,\n",
              "         6.6813016 ,  7.64664   ,  9.471884  , 13.796202  , 16.017857  ,\n",
              "        16.782883  , 12.923698  , 10.136134  , 10.374106  , 10.660841  ,\n",
              "         4.8951735 ,  3.4327068 ,  1.3953356 ,  2.1285138 ,  2.7345018 ,\n",
              "         1.8134514 ,  2.3984087 ,  2.3792522 ,  2.0804956 ,  2.6868997 ,\n",
              "         1.5486695 ,  2.6853888 ,  1.2850498 ,  1.1040211 ,  0.9891441 ,\n",
              "         2.0176554 ,  3.064975  ,  1.1482509 ,  1.6992452 ,  2.7676363 ,\n",
              "         3.5254993 ,  4.132133  ,  4.150868  ,  6.0888696 ,  2.75545   ,\n",
              "         1.0365949 ,  2.1481173 ,  2.8061752 ,  6.118924  ,  6.030429  ,\n",
              "         7.304527  ,  7.2476974 ,  8.883144  ,  6.080972  ,  3.8894672 ,\n",
              "         2.384269  ,  3.097375  ,  3.1955247 ,  4.4081697 ,  3.115885  ,\n",
              "         2.7747529 ,  1.3531495 ,  1.1276611 ,  2.013808  ,  2.819518  ,\n",
              "         1.9231286 ,  3.0655754 ,  2.2154477 ,  3.9202042 ,  6.232371  ,\n",
              "         6.503452  ,  6.4569416 ,  4.7940397 ,  3.3004377 ,  3.2154832 ,\n",
              "         1.2375116 ,  0.6880134 ,  1.3834343 ,  1.3508407 ,  1.0676048 ,\n",
              "         1.189738  ,  1.9261734 ,  1.3763036 ,  2.2152143 ,  1.4686542 ,\n",
              "         1.1057545 ,  2.3608263 ,  2.5286522 ,  2.8299599 ,  2.8684957 ,\n",
              "         2.910295  ,  2.3377523 ,  0.9633927 ,  2.4981453 ,  3.3158739 ,\n",
              "         2.8357356 ,  1.6804423 ,  2.3553183 ,  2.4297411 ,  3.3915763 ,\n",
              "         2.0796285 ,  2.6830857 ,  2.4333525 ,  2.8949828 ,  2.9797797 ,\n",
              "         2.095821  ,  1.8980229 ,  1.9594743 ,  3.6355429 ,  5.901523  ,\n",
              "         7.8877687 ,  7.7529273 ,  9.359765  , 10.722586  , 10.707515  ,\n",
              "         9.058885  ,  4.8163095 ,  2.4884517 ,  1.6162928 ,  1.4615291 ,\n",
              "         1.501336  ,  1.1498811 ,  1.1231842 ,  1.0483283 ,  1.4979874 ,\n",
              "         1.4833431 ,  1.0299119 ,  2.0656104 ,  2.9950647 ,  2.7910829 ,\n",
              "         2.232098  ,  1.2194844 ,  1.6541001 ,  1.3109711 ,  0.943515  ,\n",
              "         1.4409637 ,  1.8603917 ,  2.446079  ,  4.613354  ,  2.9905226 ,\n",
              "         3.6185253 ,  2.9598281 ,  3.0109665 ,  1.6923819 ,  1.7269833 ,\n",
              "         1.7968625 ,  1.8026286 ,  1.6489115 ,  2.986234  ,  1.1897454 ,\n",
              "         0.828688  ,  1.2347674 ,  0.8379709 ,  0.87891304,  1.2685881 ,\n",
              "         0.722798  ,  0.68676907,  1.2196088 ,  1.2992533 ,  1.2962502 ,\n",
              "         1.2460833 ,  1.4515376 ,  1.1378449 ,  1.2794437 ,  1.1338298 ,\n",
              "         0.98656404,  2.5514724 ,  4.2800007 ,  6.0325108 ,  7.3577456 ,\n",
              "         9.396052  , 10.335582  , 10.817612  ,  6.4955125 ,  2.742385  ,\n",
              "         1.2876167 ,  1.1337966 ,  0.8764206 ,  1.9162027 ,  2.4350438 ,\n",
              "         2.417049  ,  2.3862915 ,  2.3563883 ,  1.9882646 ,  2.2689238 ,\n",
              "         3.6779816 ,  4.6       ,  2.2562327 ,  2.001573  ,  1.573812  ,\n",
              "         1.5677586 ,  1.8835131 ,  1.1665645 ,  1.8149441 ,  1.7107923 ,\n",
              "         1.9708335 ,  3.0234745 ,  2.9265296 ,  3.384445  ,  4.114976  ,\n",
              "         4.169277  ,  1.9861075 ,  1.6508824 ,  1.3984765 ,  1.3056078 ,\n",
              "         1.1889964 ,  2.6038582 ,  3.209324  ,  1.4758543 ,  1.9061962 ,\n",
              "         1.6629573 ,  2.180198  ,  2.777996  ,  3.097238  ,  3.6315732 ,\n",
              "         2.66035   ,  2.3258002 ,  2.7218847 ,  1.4625362 ,  1.0649186 ,\n",
              "         1.2961632 ,  1.6884094 ,  1.6758465 ,  2.4427092 ,  2.8527758 ,\n",
              "         4.129819  ,  3.1462822 ,  3.0908346 ,  2.6844506 ,  3.6381342 ,\n",
              "         4.492905  ,  5.5222774 ,  6.953997  ,  6.3571386 ,  7.1155386 ,\n",
              "         9.195428  , 10.419699  ,  9.777393  , 10.50178   , 11.734884  ,\n",
              "         6.621353  ,  3.6747668 ,  1.8239485 ,  1.7629983 ,  1.6465727 ,\n",
              "         1.20257   ,  1.248996  ,  0.7458441 ,  1.5864117 ,  1.5367689 ,\n",
              "         1.7473185 ,  2.2699432 ,  2.5878642 ,  2.3491855 ,  2.8913975 ,\n",
              "         2.7658086 ,  2.610999  ,  2.0936847 ,  2.0898018 ,  3.1054306 ,\n",
              "         2.846456  ,  2.3391614 ,  1.9713614 ,  2.2022562 ,  1.8184128 ,\n",
              "         1.408527  ,  1.3638911 ,  1.6386552 ,  2.0621312 ,  2.4304647 ,\n",
              "         1.2709479 ,  0.9845742 ,  1.1278622 ,  1.8854926 ,  2.720677  ,\n",
              "         3.7382317 ,  5.552022  ,  6.834735  ,  8.822936  ,  8.496263  ,\n",
              "         8.364303  ,  8.868294  ,  5.514083  ,  1.8692758 ,  2.169193  ,\n",
              "         2.6938546 ,  4.0467553 ,  5.1606092 ,  5.329093  ,  2.2073984 ,\n",
              "         1.5657518 ,  1.6320364 ,  2.2614245 ,  2.0875773 ,  2.6713161 ,\n",
              "         2.4379575 ,  1.7297891 ,  2.8275096 ,  0.6141354 ,  1.9689465 ,\n",
              "         2.7396946 ,  3.4013703 ,  2.3476937 ,  3.334595  ,  2.0820656 ,\n",
              "         2.7751198 ,  2.0252192 ,  2.5225856 ], dtype=float32),\n",
              " 'mase': 2.245168}"
            ]
          },
          "execution_count": 51,
          "metadata": {},
          "output_type": "execute_result"
        }
      ],
      "source": [
        "# Calculate model_3 results - these are going to be multi-dimensional because\n",
        "# we're trying to predict more than one step at a time.\n",
        "model_3_results = evaluate_preds(y_true=tf.squeeze(test_labels),\n",
        "                                 y_pred=model_3_preds)\n",
        "model_3_results"
      ]
    },
    {
      "cell_type": "markdown",
      "metadata": {
        "id": "t405o940Twum"
      },
      "source": [
        "## Make our evaluation function work for larger horizons\n",
        "\n",
        "You'll notice the outputs for `model_3_results` are multi-dimensional. \n",
        "\n",
        "This is because the predictions are getting evaluated across the `HORIZON` timesteps (7 predictions at a time).\n",
        "\n",
        "To fix this, let's adjust our `evaluate_preds()` function to work with multiple shapes of data."
      ]
    },
    {
      "cell_type": "code",
      "execution_count": 52,
      "metadata": {
        "id": "ERkl26UFgSbz"
      },
      "outputs": [],
      "source": [
        "def evaluate_preds(y_true, y_pred):\n",
        "  # Make sure float32 (for metric calculations)\n",
        "  y_true = tf.cast(y_true, dtype=tf.float32)\n",
        "  y_pred = tf.cast(y_pred, dtype=tf.float32)\n",
        "\n",
        "  # Calculate various metrics\n",
        "  mae = tf.keras.metrics.mean_absolute_error(y_true, y_pred)\n",
        "  mse = tf.keras.metrics.mean_squared_error(y_true, y_pred)\n",
        "  rmse = tf.sqrt(mse)\n",
        "  mape = tf.keras.metrics.mean_absolute_percentage_error(y_true, y_pred)\n",
        "  mase = mean_absolute_scaled_error(y_true, y_pred)\n",
        "\n",
        "  # Account for different sized metrics (for longer horizons, reduce to single number)\n",
        "  if mae.ndim > 0: # if mae isn't already a scalar, reduce it to one by aggregating tensors to mean\n",
        "    mae = tf.reduce_mean(mae)\n",
        "    mse = tf.reduce_mean(mse)\n",
        "    rmse = tf.reduce_mean(rmse)\n",
        "    mape = tf.reduce_mean(mape)\n",
        "    mase = tf.reduce_mean(mase)\n",
        "\n",
        "  return {\"mae\": mae.numpy(),\n",
        "          \"mse\": mse.numpy(),\n",
        "          \"rmse\": rmse.numpy(),\n",
        "          \"mape\": mape.numpy(),\n",
        "          \"mase\": mase.numpy()}"
      ]
    },
    {
      "cell_type": "markdown",
      "metadata": {
        "id": "_RnoZl28Udx4"
      },
      "source": [
        "Now we've updated `evaluate_preds()` to work with multiple shapes, how does it look?"
      ]
    },
    {
      "cell_type": "code",
      "execution_count": 53,
      "metadata": {
        "colab": {
          "base_uri": "https://localhost:8080/"
        },
        "id": "Kt1Z8yjpUij2",
        "outputId": "31690393-6057-40df-ef06-cfb3914d7ab4"
      },
      "outputs": [
        {
          "data": {
            "text/plain": [
              "{'mae': 1149.916,\n",
              " 'mse': 3016147.0,\n",
              " 'rmse': 1322.1744,\n",
              " 'mape': 4.2610183,\n",
              " 'mase': 2.245168}"
            ]
          },
          "execution_count": 53,
          "metadata": {},
          "output_type": "execute_result"
        }
      ],
      "source": [
        "# Get model_3 results aggregated to single values\n",
        "model_3_results = evaluate_preds(y_true=tf.squeeze(test_labels),\n",
        "                                 y_pred=model_3_preds)\n",
        "model_3_results"
      ]
    },
    {
      "cell_type": "markdown",
      "metadata": {
        "id": "0XNIJfcsTpdA"
      },
      "source": [
        "Time to visualize.\n",
        "\n",
        "If our prediction evaluation metrics were mutli-dimensional, how do you think the predictions will look like if we plot them?"
      ]
    },
    {
      "cell_type": "code",
      "execution_count": 54,
      "metadata": {
        "colab": {
          "base_uri": "https://localhost:8080/",
          "height": 442
        },
        "id": "gBdg1NcLs3gW",
        "outputId": "f9c0c6dd-39f5-42b2-9c5c-8020742b9318"
      },
      "outputs": [
        {
          "data": {
            "image/png": "[encoded data removed]",
            "text/plain": [
              "<Figure size 1000x700 with 1 Axes>"
            ]
          },
          "metadata": {},
          "output_type": "display_data"
        }
      ],
      "source": [
        "offset = 300\n",
        "plt.figure(figsize=(10, 7))\n",
        "plot_time_series(timesteps=X_test[-len(test_windows):], values=test_labels[:, 0], start=offset, label=\"Test_data\")\n",
        "# Checking the shape of model_3_preds results in [n_test_samples, HORIZON] (this will screw up the plot)\n",
        "plot_time_series(timesteps=X_test[-len(test_windows):], values=model_3_preds, start=offset, label=\"model_3_preds\")"
      ]
    },
    {
      "cell_type": "markdown",
      "metadata": {
        "id": "j3nZnSG1Uute"
      },
      "source": [
        "When we try to plot our multi-horizon predicts, we get a funky looking plot.\n",
        "\n",
        "Again, we can fix this by aggregating our model's predictions.\n",
        "\n",
        "> 🔑 **Note:** Aggregating the predictions (e.g. reducing a 7-day horizon to one value such as the mean) loses information from the original prediction. As in, the model predictions were trained to be made for 7-days but by reducing them to one, we gain the ability to plot them visually but we lose the extra information contained across multiple days."
      ]
    },
    {
      "cell_type": "code",
      "execution_count": 55,
      "metadata": {
        "colab": {
          "base_uri": "https://localhost:8080/",
          "height": 442
        },
        "id": "wYpZb27bU6OO",
        "outputId": "c310346c-5cb9-4262-c52e-c468725aa4f0"
      },
      "outputs": [
        {
          "data": {
            "image/png": "[encoded data removed]",
            "text/plain": [
              "<Figure size 1000x700 with 1 Axes>"
            ]
          },
          "metadata": {},
          "output_type": "display_data"
        }
      ],
      "source": [
        "offset = 300\n",
        "plt.figure(figsize=(10, 7))\n",
        "# Plot model_3_preds by aggregating them (note: this condenses information so the preds will look fruther ahead than the test data)\n",
        "plot_time_series(timesteps=X_test[-len(test_windows):], \n",
        "                 values=test_labels[:, 0], \n",
        "                 start=offset, \n",
        "                 label=\"Test_data\")\n",
        "plot_time_series(timesteps=X_test[-len(test_windows):], \n",
        "                 values=tf.reduce_mean(model_3_preds, axis=1), \n",
        "                 format=\"-\",\n",
        "                 start=offset, \n",
        "                 label=\"model_3_preds\")"
      ]
    },
    {
      "cell_type": "markdown",
      "metadata": {
        "id": "Ojqon-Y5VpCC"
      },
      "source": [
        "## Which of our models is performing best so far?\n",
        "\n",
        "So far, we've trained 3 models which use the same architecture but use different data inputs.\n",
        "\n",
        "Let's compare them with the naïve model to see which model is performing the best so far."
      ]
    },
    {
      "cell_type": "code",
      "execution_count": 56,
      "metadata": {
        "colab": {
          "base_uri": "https://localhost:8080/",
          "height": 440
        },
        "id": "QA4EKseAVrYf",
        "outputId": "8c842c42-48b8-46ca-94f2-a6fc0344494f"
      },
      "outputs": [
        {
          "data": {
            "image/png": "[encoded data removed]",
            "text/plain": [
              "<Figure size 1000x700 with 1 Axes>"
            ]
          },
          "metadata": {},
          "output_type": "display_data"
        }
      ],
      "source": [
        "pd.DataFrame({\n",
        "              \"horizon_1_window_7\": model_1_results[\"mae\"], \n",
        "              \"horizon_1_window_30\": model_2_results[\"mae\"], \n",
        "              \"horizon_7_window_30\": model_3_results[\"mae\"]}, index=[\"mae\"]).plot(figsize=(10, 7), kind=\"bar\");"
      ]
    },
    {
      "cell_type": "markdown",
      "metadata": {
        "id": "dIRwia9BWeI5"
      },
      "source": [
        "Woah, our naïve model is performing best (it's very hard to beat a naïve model in open systems) but the dense model with a horizon of 1 and a window size of 7 looks to be performing cloest.\n",
        "\n",
        "Because of this, let's use `HORIZON=1` and `WINDOW_SIZE=7` for our next series of modelling experiments (in other words, we'll use the previous week of Bitcoin prices to try and predict the next day).\n",
        "\n",
        "> 🔑 **Note:** You might be wondering, why are the naïve results so good? One of the reasons could be due the presence of **autocorrelation** in the data. If a time series has **autocorrelation** it means the value at `t+1` (the next timestep) is typically close to the value at `t` (the current timestep). In other words, today's value is probably pretty close to yesterday's value. Of course, this isn't always the case but when it is, a naïve model will often get fairly good results.\n",
        "\n",
        "> 📖 **Resource:** For more on how autocorrelation influences a model's predictions, see the article [*How (not) to use Machine Learning for time series forecasting: Avoiding the pitfalls*](https://towardsdatascience.com/how-not-to-use-machine-learning-for-time-series-forecasting-avoiding-the-pitfalls-19f9d7adf424) by Vegard Flovik"
      ]
    },
    {
      "cell_type": "markdown",
      "metadata": {
        "id": "CxcL0gi-rWC5"
      },
      "source": [
        "## Model 4: Conv1D\n",
        "\n",
        "Onto the next modelling experiment!\n",
        "\n",
        "This time, we'll be using a Conv1D model. Because as we saw in the sequence modelling notebook, Conv1D models can be used for seq2seq (sequence to sequence) problems.\n",
        "\n",
        "In our case, the input sequence is the previous 7 days of Bitcoin price data and the output is the next day (in seq2seq terms this is called a many to one problem).\n",
        "\n",
        "![bitcoin prediction in seq2seq terms](https://raw.githubusercontent.com/mrdbourke/tensorflow-deep-learning/main/images/10-bitcoin-forecast-in-seq2seq-terms.png)\n",
        "*Framing Bitcoin forecasting in seq2seq (sequence to sequence) terms. Using a window size of 7 and a horizon of one results in a many to one problem. Using a window size of >1 and a horizon of >1 results in a many to many problem. The diagram comes from Andrei Karpathy's [The Unreasonable Effectiveness of Recurrent Neural Networks](http://karpathy.github.io/2015/05/21/rnn-effectiveness/)*.\n",
        "\n",
        "Before we build a Conv1D model, let's recreate our datasets."
      ]
    },
    {
      "cell_type": "code",
      "execution_count": 57,
      "metadata": {
        "id": "2_t9hXvXrZPD"
      },
      "outputs": [],
      "source": [
        "HORIZON = 1 # predict next day\n",
        "WINDOW_SIZE = 7 # use previous week worth of data"
      ]
    },
    {
      "cell_type": "code",
      "execution_count": 58,
      "metadata": {
        "colab": {
          "base_uri": "https://localhost:8080/"
        },
        "id": "CRCy-vXzsEGL",
        "outputId": "09b79a4c-efd0-4e96-ae40-98ed0dba39fe"
      },
      "outputs": [
        {
          "data": {
            "text/plain": [
              "(3391, 3391)"
            ]
          },
          "execution_count": 58,
          "metadata": {},
          "output_type": "execute_result"
        }
      ],
      "source": [
        "# Create windowed dataset\n",
        "full_windows, full_labels = make_windows(prices, window_size=WINDOW_SIZE, horizon=HORIZON)\n",
        "len(full_windows), len(full_labels)"
      ]
    },
    {
      "cell_type": "code",
      "execution_count": 59,
      "metadata": {
        "colab": {
          "base_uri": "https://localhost:8080/"
        },
        "id": "ZtsLeB3rsED2",
        "outputId": "dcab650a-b245-4b00-d475-48bb8f5435fe"
      },
      "outputs": [
        {
          "data": {
            "text/plain": [
              "(2712, 679, 2712, 679)"
            ]
          },
          "execution_count": 59,
          "metadata": {},
          "output_type": "execute_result"
        }
      ],
      "source": [
        "# Create train/test splits\n",
        "train_windows, test_windows, train_labels, test_labels = make_train_test_splits(full_windows, full_labels)\n",
        "len(train_windows), len(test_windows), len(train_labels), len(test_labels)"
      ]
    },
    {
      "cell_type": "markdown",
      "metadata": {
        "id": "RMtzZKYRXExH"
      },
      "source": [
        "Data windowed!\n",
        "\n",
        "Now, since we're going to be using [Conv1D layers](https://www.tensorflow.org/api_docs/python/tf/keras/layers/Conv1D), we need to make sure our input shapes are correct.\n",
        "\n",
        "The Conv1D layer in TensorFlow takes an input of: `(batch_size, timesteps, input_dim)`.\n",
        "\n",
        "In our case, the `batch_size` (by default this is 32 but we can change it) is handled for us but the other values will be:\n",
        "* `timesteps = WINDOW_SIZE` - the `timesteps` is also often referred to as `features`, our features are the previous `WINDOW_SIZE` values of Bitcoin \n",
        "* `input_dim = HORIZON` - our model views `WINDOW_SIZE` (one week) worth of data at a time to predict `HORIZON` (one day)\n",
        "\n",
        "Right now, our data has the `timesteps` dimension ready but we'll have to adjust it to have the `input_dim` dimension. "
      ]
    },
    {
      "cell_type": "code",
      "execution_count": 60,
      "metadata": {
        "colab": {
          "base_uri": "https://localhost:8080/"
        },
        "id": "To_k7zIAX7Pj",
        "outputId": "ee118751-d61f-43b0-b6a4-278acbf2b828"
      },
      "outputs": [
        {
          "data": {
            "text/plain": [
              "(7,)"
            ]
          },
          "execution_count": 60,
          "metadata": {},
          "output_type": "execute_result"
        }
      ],
      "source": [
        "# Check data sample shapes\n",
        "train_windows[0].shape # returns (WINDOW_SIZE, )"
      ]
    },
    {
      "cell_type": "markdown",
      "metadata": {
        "id": "oPIMnb3GYMvP"
      },
      "source": [
        "To fix this, we could adjust the shape of all of our `train_windows` or we could use a [`tf.keras.layers.Lamdba`](https://keras.io/api/layers/core_layers/lambda/) (called a Lambda layer) to do this for us in our model.\n",
        "\n",
        "The Lambda layer wraps a function into a layer which can be used with a model.\n",
        "\n",
        "Let's try it out."
      ]
    },
    {
      "cell_type": "code",
      "execution_count": 61,
      "metadata": {
        "colab": {
          "base_uri": "https://localhost:8080/"
        },
        "id": "62oSNy3VvZpv",
        "outputId": "d822a1bd-2cae-4a7c-a616-1ce82887303a"
      },
      "outputs": [
        {
          "name": "stdout",
          "output_type": "stream",
          "text": [
            "Original shape: (7,)\n",
            "Expanded shape: (7, 1)\n",
            "Original values with expanded shape:\n",
            " [[457.334]\n",
            " [424.44 ]\n",
            " [394.796]\n",
            " [408.904]\n",
            " [398.821]\n",
            " [402.152]\n",
            " [435.791]]\n"
          ]
        }
      ],
      "source": [
        "# Before we pass our data to the Conv1D layer, we have to reshape it in order to make sure it works\n",
        "x = tf.constant(train_windows[0])\n",
        "expand_dims_layer = layers.Lambda(lambda x: tf.expand_dims(x, axis=1)) # add an extra dimension for timesteps\n",
        "print(f\"Original shape: {x.shape}\") # (WINDOW_SIZE)\n",
        "print(f\"Expanded shape: {expand_dims_layer(x).shape}\") # (WINDOW_SIZE, input_dim) \n",
        "print(f\"Original values with expanded shape:\\n {expand_dims_layer(x)}\")"
      ]
    },
    {
      "cell_type": "markdown",
      "metadata": {
        "id": "vKt2YFb5ip4n"
      },
      "source": [
        "Looking good!\n",
        "\n",
        "Now we've got a Lambda layer, let's build, compile, fit and evaluate a Conv1D model on our data.\n",
        "\n",
        "> 🔑 **Note:** If you run the model below without the Lambda layer, you'll get an input shape error (one of the most common errors when building neural networks)."
      ]
    },
    {
      "cell_type": "code",
      "execution_count": 62,
      "metadata": {
        "colab": {
          "base_uri": "https://localhost:8080/"
        },
        "id": "jODevMWGsEBI",
        "outputId": "8d264c36-4f20-4573-88e7-dd498870a6aa"
      },
      "outputs": [
        {
          "name": "stdout",
          "output_type": "stream",
          "text": [
            "INFO:tensorflow:Assets written to: model_experiments/model_4_conv1D/assets\n"
          ]
        },
        {
          "name": "stderr",
          "output_type": "stream",
          "text": [
            "INFO:tensorflow:Assets written to: model_experiments/model_4_conv1D/assets\n"
          ]
        },
        {
          "name": "stdout",
          "output_type": "stream",
          "text": [
            "INFO:tensorflow:Assets written to: model_experiments/model_4_conv1D/assets\n"
          ]
        },
        {
          "name": "stderr",
          "output_type": "stream",
          "text": [
            "INFO:tensorflow:Assets written to: model_experiments/model_4_conv1D/assets\n"
          ]
        },
        {
          "name": "stdout",
          "output_type": "stream",
          "text": [
            "INFO:tensorflow:Assets written to: model_experiments/model_4_conv1D/assets\n"
          ]
        },
        {
          "name": "stderr",
          "output_type": "stream",
          "text": [
            "INFO:tensorflow:Assets written to: model_experiments/model_4_conv1D/assets\n"
          ]
        },
        {
          "name": "stdout",
          "output_type": "stream",
          "text": [
            "INFO:tensorflow:Assets written to: model_experiments/model_4_conv1D/assets\n"
          ]
        },
        {
          "name": "stderr",
          "output_type": "stream",
          "text": [
            "INFO:tensorflow:Assets written to: model_experiments/model_4_conv1D/assets\n"
          ]
        },
        {
          "name": "stdout",
          "output_type": "stream",
          "text": [
            "INFO:tensorflow:Assets written to: model_experiments/model_4_conv1D/assets\n"
          ]
        },
        {
          "name": "stderr",
          "output_type": "stream",
          "text": [
            "INFO:tensorflow:Assets written to: model_experiments/model_4_conv1D/assets\n"
          ]
        },
        {
          "name": "stdout",
          "output_type": "stream",
          "text": [
            "INFO:tensorflow:Assets written to: model_experiments/model_4_conv1D/assets\n"
          ]
        },
        {
          "name": "stderr",
          "output_type": "stream",
          "text": [
            "INFO:tensorflow:Assets written to: model_experiments/model_4_conv1D/assets\n"
          ]
        },
        {
          "name": "stdout",
          "output_type": "stream",
          "text": [
            "INFO:tensorflow:Assets written to: model_experiments/model_4_conv1D/assets\n"
          ]
        },
        {
          "name": "stderr",
          "output_type": "stream",
          "text": [
            "INFO:tensorflow:Assets written to: model_experiments/model_4_conv1D/assets\n"
          ]
        },
        {
          "name": "stdout",
          "output_type": "stream",
          "text": [
            "INFO:tensorflow:Assets written to: model_experiments/model_4_conv1D/assets\n"
          ]
        },
        {
          "name": "stderr",
          "output_type": "stream",
          "text": [
            "INFO:tensorflow:Assets written to: model_experiments/model_4_conv1D/assets\n"
          ]
        },
        {
          "name": "stdout",
          "output_type": "stream",
          "text": [
            "INFO:tensorflow:Assets written to: model_experiments/model_4_conv1D/assets\n"
          ]
        },
        {
          "name": "stderr",
          "output_type": "stream",
          "text": [
            "INFO:tensorflow:Assets written to: model_experiments/model_4_conv1D/assets\n"
          ]
        },
        {
          "name": "stdout",
          "output_type": "stream",
          "text": [
            "INFO:tensorflow:Assets written to: model_experiments/model_4_conv1D/assets\n"
          ]
        },
        {
          "name": "stderr",
          "output_type": "stream",
          "text": [
            "INFO:tensorflow:Assets written to: model_experiments/model_4_conv1D/assets\n"
          ]
        },
        {
          "name": "stdout",
          "output_type": "stream",
          "text": [
            "INFO:tensorflow:Assets written to: model_experiments/model_4_conv1D/assets\n"
          ]
        },
        {
          "name": "stderr",
          "output_type": "stream",
          "text": [
            "INFO:tensorflow:Assets written to: model_experiments/model_4_conv1D/assets\n"
          ]
        },
        {
          "name": "stdout",
          "output_type": "stream",
          "text": [
            "INFO:tensorflow:Assets written to: model_experiments/model_4_conv1D/assets\n"
          ]
        },
        {
          "name": "stderr",
          "output_type": "stream",
          "text": [
            "INFO:tensorflow:Assets written to: model_experiments/model_4_conv1D/assets\n"
          ]
        },
        {
          "name": "stdout",
          "output_type": "stream",
          "text": [
            "INFO:tensorflow:Assets written to: model_experiments/model_4_conv1D/assets\n"
          ]
        },
        {
          "name": "stderr",
          "output_type": "stream",
          "text": [
            "INFO:tensorflow:Assets written to: model_experiments/model_4_conv1D/assets\n"
          ]
        },
        {
          "name": "stdout",
          "output_type": "stream",
          "text": [
            "INFO:tensorflow:Assets written to: model_experiments/model_4_conv1D/assets\n"
          ]
        },
        {
          "name": "stderr",
          "output_type": "stream",
          "text": [
            "INFO:tensorflow:Assets written to: model_experiments/model_4_conv1D/assets\n"
          ]
        },
        {
          "name": "stdout",
          "output_type": "stream",
          "text": [
            "INFO:tensorflow:Assets written to: model_experiments/model_4_conv1D/assets\n"
          ]
        },
        {
          "name": "stderr",
          "output_type": "stream",
          "text": [
            "INFO:tensorflow:Assets written to: model_experiments/model_4_conv1D/assets\n"
          ]
        },
        {
          "name": "stdout",
          "output_type": "stream",
          "text": [
            "INFO:tensorflow:Assets written to: model_experiments/model_4_conv1D/assets\n"
          ]
        },
        {
          "name": "stderr",
          "output_type": "stream",
          "text": [
            "INFO:tensorflow:Assets written to: model_experiments/model_4_conv1D/assets\n"
          ]
        },
        {
          "name": "stdout",
          "output_type": "stream",
          "text": [
            "INFO:tensorflow:Assets written to: model_experiments/model_4_conv1D/assets\n"
          ]
        },
        {
          "name": "stderr",
          "output_type": "stream",
          "text": [
            "INFO:tensorflow:Assets written to: model_experiments/model_4_conv1D/assets\n"
          ]
        },
        {
          "name": "stdout",
          "output_type": "stream",
          "text": [
            "INFO:tensorflow:Assets written to: model_experiments/model_4_conv1D/assets\n"
          ]
        },
        {
          "name": "stderr",
          "output_type": "stream",
          "text": [
            "INFO:tensorflow:Assets written to: model_experiments/model_4_conv1D/assets\n"
          ]
        },
        {
          "name": "stdout",
          "output_type": "stream",
          "text": [
            "INFO:tensorflow:Assets written to: model_experiments/model_4_conv1D/assets\n"
          ]
        },
        {
          "name": "stderr",
          "output_type": "stream",
          "text": [
            "INFO:tensorflow:Assets written to: model_experiments/model_4_conv1D/assets\n"
          ]
        },
        {
          "name": "stdout",
          "output_type": "stream",
          "text": [
            "INFO:tensorflow:Assets written to: model_experiments/model_4_conv1D/assets\n"
          ]
        },
        {
          "name": "stderr",
          "output_type": "stream",
          "text": [
            "INFO:tensorflow:Assets written to: model_experiments/model_4_conv1D/assets\n"
          ]
        },
        {
          "name": "stdout",
          "output_type": "stream",
          "text": [
            "INFO:tensorflow:Assets written to: model_experiments/model_4_conv1D/assets\n"
          ]
        },
        {
          "name": "stderr",
          "output_type": "stream",
          "text": [
            "INFO:tensorflow:Assets written to: model_experiments/model_4_conv1D/assets\n"
          ]
        },
        {
          "name": "stdout",
          "output_type": "stream",
          "text": [
            "INFO:tensorflow:Assets written to: model_experiments/model_4_conv1D/assets\n"
          ]
        },
        {
          "name": "stderr",
          "output_type": "stream",
          "text": [
            "INFO:tensorflow:Assets written to: model_experiments/model_4_conv1D/assets\n"
          ]
        },
        {
          "name": "stdout",
          "output_type": "stream",
          "text": [
            "INFO:tensorflow:Assets written to: model_experiments/model_4_conv1D/assets\n"
          ]
        },
        {
          "name": "stderr",
          "output_type": "stream",
          "text": [
            "INFO:tensorflow:Assets written to: model_experiments/model_4_conv1D/assets\n"
          ]
        },
        {
          "name": "stdout",
          "output_type": "stream",
          "text": [
            "INFO:tensorflow:Assets written to: model_experiments/model_4_conv1D/assets\n"
          ]
        },
        {
          "name": "stderr",
          "output_type": "stream",
          "text": [
            "INFO:tensorflow:Assets written to: model_experiments/model_4_conv1D/assets\n"
          ]
        },
        {
          "name": "stdout",
          "output_type": "stream",
          "text": [
            "INFO:tensorflow:Assets written to: model_experiments/model_4_conv1D/assets\n"
          ]
        },
        {
          "name": "stderr",
          "output_type": "stream",
          "text": [
            "INFO:tensorflow:Assets written to: model_experiments/model_4_conv1D/assets\n"
          ]
        },
        {
          "name": "stdout",
          "output_type": "stream",
          "text": [
            "INFO:tensorflow:Assets written to: model_experiments/model_4_conv1D/assets\n"
          ]
        },
        {
          "name": "stderr",
          "output_type": "stream",
          "text": [
            "INFO:tensorflow:Assets written to: model_experiments/model_4_conv1D/assets\n"
          ]
        },
        {
          "name": "stdout",
          "output_type": "stream",
          "text": [
            "INFO:tensorflow:Assets written to: model_experiments/model_4_conv1D/assets\n"
          ]
        },
        {
          "name": "stderr",
          "output_type": "stream",
          "text": [
            "INFO:tensorflow:Assets written to: model_experiments/model_4_conv1D/assets\n"
          ]
        },
        {
          "name": "stdout",
          "output_type": "stream",
          "text": [
            "INFO:tensorflow:Assets written to: model_experiments/model_4_conv1D/assets\n"
          ]
        },
        {
          "name": "stderr",
          "output_type": "stream",
          "text": [
            "INFO:tensorflow:Assets written to: model_experiments/model_4_conv1D/assets\n"
          ]
        },
        {
          "name": "stdout",
          "output_type": "stream",
          "text": [
            "INFO:tensorflow:Assets written to: model_experiments/model_4_conv1D/assets\n"
          ]
        },
        {
          "name": "stderr",
          "output_type": "stream",
          "text": [
            "INFO:tensorflow:Assets written to: model_experiments/model_4_conv1D/assets\n"
          ]
        },
        {
          "name": "stdout",
          "output_type": "stream",
          "text": [
            "INFO:tensorflow:Assets written to: model_experiments/model_4_conv1D/assets\n"
          ]
        },
        {
          "name": "stderr",
          "output_type": "stream",
          "text": [
            "INFO:tensorflow:Assets written to: model_experiments/model_4_conv1D/assets\n"
          ]
        },
        {
          "name": "stdout",
          "output_type": "stream",
          "text": [
            "INFO:tensorflow:Assets written to: model_experiments/model_4_conv1D/assets\n"
          ]
        },
        {
          "name": "stderr",
          "output_type": "stream",
          "text": [
            "INFO:tensorflow:Assets written to: model_experiments/model_4_conv1D/assets\n"
          ]
        },
        {
          "name": "stdout",
          "output_type": "stream",
          "text": [
            "INFO:tensorflow:Assets written to: model_experiments/model_4_conv1D/assets\n"
          ]
        },
        {
          "name": "stderr",
          "output_type": "stream",
          "text": [
            "INFO:tensorflow:Assets written to: model_experiments/model_4_conv1D/assets\n"
          ]
        },
        {
          "name": "stdout",
          "output_type": "stream",
          "text": [
            "INFO:tensorflow:Assets written to: model_experiments/model_4_conv1D/assets\n"
          ]
        },
        {
          "name": "stderr",
          "output_type": "stream",
          "text": [
            "INFO:tensorflow:Assets written to: model_experiments/model_4_conv1D/assets\n"
          ]
        },
        {
          "data": {
            "text/plain": [
              "<keras.src.callbacks.History at 0x1503112d0>"
            ]
          },
          "execution_count": 62,
          "metadata": {},
          "output_type": "execute_result"
        }
      ],
      "source": [
        "tf.random.set_seed(42)\n",
        "\n",
        "# Create model\n",
        "model_4 = tf.keras.Sequential([\n",
        "  # Create Lambda layer to reshape inputs, without this layer, the model will error\n",
        "  layers.Lambda(lambda x: tf.expand_dims(x, axis=1)), # resize the inputs to adjust for window size / Conv1D 3D input requirements\n",
        "  layers.Conv1D(filters=128, kernel_size=5, padding=\"causal\", activation=\"relu\"),\n",
        "  layers.Dense(HORIZON)\n",
        "], name=\"model_4_conv1D\")\n",
        "\n",
        "# Compile model\n",
        "model_4.compile(loss=\"mae\",\n",
        "                optimizer=tf.keras.optimizers.Adam())\n",
        "\n",
        "# Fit model\n",
        "model_4.fit(train_windows,\n",
        "            train_labels,\n",
        "            batch_size=128, \n",
        "            epochs=100,\n",
        "            verbose=0,\n",
        "            validation_data=(test_windows, test_labels),\n",
        "            callbacks=[create_model_checkpoint(model_name=model_4.name)])"
      ]
    },
    {
      "cell_type": "markdown",
      "metadata": {
        "id": "dWqZR5cSjHCf"
      },
      "source": [
        "What does the Lambda layer look like in a summary?"
      ]
    },
    {
      "cell_type": "code",
      "execution_count": 63,
      "metadata": {
        "colab": {
          "base_uri": "https://localhost:8080/"
        },
        "id": "2FcGUALG4RxJ",
        "outputId": "945dbb97-927f-4f70-8a13-391c18db821d"
      },
      "outputs": [
        {
          "name": "stdout",
          "output_type": "stream",
          "text": [
            "Model: \"model_4_conv1D\"\n",
            "_________________________________________________________________\n",
            " Layer (type)                Output Shape              Param #   \n",
            "=================================================================\n",
            " lambda_1 (Lambda)           (None, 1, 7)              0         \n",
            "                                                                 \n",
            " conv1d (Conv1D)             (None, 1, 128)            4608      \n",
            "                                                                 \n",
            " dense_6 (Dense)             (None, 1, 1)              129       \n",
            "                                                                 \n",
            "=================================================================\n",
            "Total params: 4737 (18.50 KB)\n",
            "Trainable params: 4737 (18.50 KB)\n",
            "Non-trainable params: 0 (0.00 Byte)\n",
            "_________________________________________________________________\n"
          ]
        }
      ],
      "source": [
        "model_4.summary()"
      ]
    },
    {
      "cell_type": "markdown",
      "metadata": {
        "id": "MIZEau4Vjk-M"
      },
      "source": [
        "The Lambda layer appears the same as any other regular layer. \n",
        "\n",
        "Time to evaluate the Conv1D model."
      ]
    },
    {
      "cell_type": "code",
      "execution_count": 64,
      "metadata": {
        "colab": {
          "base_uri": "https://localhost:8080/"
        },
        "id": "KXEL9FuhsD-3",
        "outputId": "315e48d9-5262-4dca-a7db-9b3f2d3c07aa"
      },
      "outputs": [
        {
          "name": "stdout",
          "output_type": "stream",
          "text": [
            "22/22 [==============================] - 0s 2ms/step - loss: 533.5367\n"
          ]
        },
        {
          "data": {
            "text/plain": [
              "533.5367431640625"
            ]
          },
          "execution_count": 64,
          "metadata": {},
          "output_type": "execute_result"
        }
      ],
      "source": [
        "# Load in best performing Conv1D model and evaluate it on the test data\n",
        "model_4 = tf.keras.models.load_model(\"model_experiments/model_4_conv1D\")\n",
        "model_4.evaluate(test_windows, test_labels)"
      ]
    },
    {
      "cell_type": "code",
      "execution_count": 65,
      "metadata": {
        "colab": {
          "base_uri": "https://localhost:8080/"
        },
        "id": "j99tbnwSsD8R",
        "outputId": "1cf57db2-3dff-4c14-8db8-e5dda6e29f4f"
      },
      "outputs": [
        {
          "name": "stdout",
          "output_type": "stream",
          "text": [
            "22/22 [==============================] - 0s 2ms/step\n"
          ]
        },
        {
          "data": {
            "text/plain": [
              "<tf.Tensor: shape=(10,), dtype=float32, numpy=\n",
              "array([39150.656, 39248.637, 38084.777, 42310.375, 44457.434, 44220.99 ,\n",
              "       43100.56 , 40023.82 , 39283.82 , 38497.895], dtype=float32)>"
            ]
          },
          "execution_count": 65,
          "metadata": {},
          "output_type": "execute_result"
        }
      ],
      "source": [
        "# Make predictions\n",
        "model_4_preds = make_preds(model_4, test_windows)\n",
        "model_4_preds[:10]"
      ]
    },
    {
      "cell_type": "code",
      "execution_count": 66,
      "metadata": {
        "colab": {
          "base_uri": "https://localhost:8080/"
        },
        "id": "yjfEDWxjrZW2",
        "outputId": "abb0a047-5324-4e0a-a21e-f092f23d24a3"
      },
      "outputs": [
        {
          "data": {
            "text/plain": [
              "{'mae': 533.53674,\n",
              " 'mse': 678396.8,\n",
              " 'rmse': 823.6485,\n",
              " 'mape': 1.9222214,\n",
              " 'mase': 1.0195036}"
            ]
          },
          "execution_count": 66,
          "metadata": {},
          "output_type": "execute_result"
        }
      ],
      "source": [
        "# Evaluate predictions\n",
        "model_4_results = evaluate_preds(y_true=tf.squeeze(test_labels),\n",
        "                                 y_pred=model_4_preds)\n",
        "model_4_results"
      ]
    },
    {
      "cell_type": "markdown",
      "metadata": {
        "id": "pZ2s0Rx0rZjE"
      },
      "source": [
        "## Model 5: RNN (LSTM)\n",
        "\n",
        "As you might've guessed, we can also use a recurrent neural network to model our sequential time series data.\n",
        "\n",
        "> 📖 **Resource:** For more on the different types of recurrent neural networks you can use for sequence problems, see the [Recurrent Neural Networks section of notebook 08](https://dev.mrdbourke.com/tensorflow-deep-learning/08_introduction_to_nlp_in_tensorflow/#recurrent-neural-networks-rnns).\n",
        "\n",
        "Let's reuse the same data we used for the Conv1D model, except this time we'll create an [LSTM-cell](https://www.tensorflow.org/api_docs/python/tf/keras/layers/LSTM) powered RNN to model our Bitcoin data. \n",
        "\n",
        "Once again, one of the most important steps for the LSTM model will be getting our data into the right shape.\n",
        "\n",
        "The [`tf.keras.layers.LSTM()`](https://www.tensorflow.org/api_docs/python/tf/keras/layers/LSTM) layer takes a tensor with `[batch, timesteps, feature]` dimensions.\n",
        "\n",
        "As mentioned earlier, the `batch` dimension gets taken care of for us but our data is currently only has the `feature` dimension (`WINDOW_SIZE`).\n",
        "\n",
        "To fix this, just like we did with the `Conv1D` model, we can use a `tf.keras.layers.Lambda()` layer to adjust the shape of our input tensors to the LSTM layer.\n",
        "\n",
        "\n",
        "\n",
        "\n",
        "\n",
        "\n"
      ]
    },
    {
      "cell_type": "code",
      "execution_count": 67,
      "metadata": {
        "colab": {
          "base_uri": "https://localhost:8080/"
        },
        "id": "a6YFL_b-rZrt",
        "outputId": "96a90e42-069a-459a-b140-6191cab11eb1"
      },
      "outputs": [
        {
          "name": "stdout",
          "output_type": "stream",
          "text": [
            "INFO:tensorflow:Assets written to: model_experiments/model_5_lstm/assets\n"
          ]
        },
        {
          "name": "stderr",
          "output_type": "stream",
          "text": [
            "INFO:tensorflow:Assets written to: model_experiments/model_5_lstm/assets\n"
          ]
        },
        {
          "name": "stdout",
          "output_type": "stream",
          "text": [
            "INFO:tensorflow:Assets written to: model_experiments/model_5_lstm/assets\n"
          ]
        },
        {
          "name": "stderr",
          "output_type": "stream",
          "text": [
            "INFO:tensorflow:Assets written to: model_experiments/model_5_lstm/assets\n"
          ]
        },
        {
          "name": "stdout",
          "output_type": "stream",
          "text": [
            "INFO:tensorflow:Assets written to: model_experiments/model_5_lstm/assets\n"
          ]
        },
        {
          "name": "stderr",
          "output_type": "stream",
          "text": [
            "INFO:tensorflow:Assets written to: model_experiments/model_5_lstm/assets\n"
          ]
        },
        {
          "name": "stdout",
          "output_type": "stream",
          "text": [
            "INFO:tensorflow:Assets written to: model_experiments/model_5_lstm/assets\n"
          ]
        },
        {
          "name": "stderr",
          "output_type": "stream",
          "text": [
            "INFO:tensorflow:Assets written to: model_experiments/model_5_lstm/assets\n"
          ]
        },
        {
          "name": "stdout",
          "output_type": "stream",
          "text": [
            "INFO:tensorflow:Assets written to: model_experiments/model_5_lstm/assets\n"
          ]
        },
        {
          "name": "stderr",
          "output_type": "stream",
          "text": [
            "INFO:tensorflow:Assets written to: model_experiments/model_5_lstm/assets\n"
          ]
        },
        {
          "name": "stdout",
          "output_type": "stream",
          "text": [
            "INFO:tensorflow:Assets written to: model_experiments/model_5_lstm/assets\n"
          ]
        },
        {
          "name": "stderr",
          "output_type": "stream",
          "text": [
            "INFO:tensorflow:Assets written to: model_experiments/model_5_lstm/assets\n"
          ]
        },
        {
          "name": "stdout",
          "output_type": "stream",
          "text": [
            "INFO:tensorflow:Assets written to: model_experiments/model_5_lstm/assets\n"
          ]
        },
        {
          "name": "stderr",
          "output_type": "stream",
          "text": [
            "INFO:tensorflow:Assets written to: model_experiments/model_5_lstm/assets\n"
          ]
        },
        {
          "name": "stdout",
          "output_type": "stream",
          "text": [
            "INFO:tensorflow:Assets written to: model_experiments/model_5_lstm/assets\n"
          ]
        },
        {
          "name": "stderr",
          "output_type": "stream",
          "text": [
            "INFO:tensorflow:Assets written to: model_experiments/model_5_lstm/assets\n"
          ]
        },
        {
          "name": "stdout",
          "output_type": "stream",
          "text": [
            "INFO:tensorflow:Assets written to: model_experiments/model_5_lstm/assets\n"
          ]
        },
        {
          "name": "stderr",
          "output_type": "stream",
          "text": [
            "INFO:tensorflow:Assets written to: model_experiments/model_5_lstm/assets\n"
          ]
        },
        {
          "name": "stdout",
          "output_type": "stream",
          "text": [
            "INFO:tensorflow:Assets written to: model_experiments/model_5_lstm/assets\n"
          ]
        },
        {
          "name": "stderr",
          "output_type": "stream",
          "text": [
            "INFO:tensorflow:Assets written to: model_experiments/model_5_lstm/assets\n"
          ]
        },
        {
          "name": "stdout",
          "output_type": "stream",
          "text": [
            "INFO:tensorflow:Assets written to: model_experiments/model_5_lstm/assets\n"
          ]
        },
        {
          "name": "stderr",
          "output_type": "stream",
          "text": [
            "INFO:tensorflow:Assets written to: model_experiments/model_5_lstm/assets\n"
          ]
        },
        {
          "name": "stdout",
          "output_type": "stream",
          "text": [
            "INFO:tensorflow:Assets written to: model_experiments/model_5_lstm/assets\n"
          ]
        },
        {
          "name": "stderr",
          "output_type": "stream",
          "text": [
            "INFO:tensorflow:Assets written to: model_experiments/model_5_lstm/assets\n"
          ]
        },
        {
          "name": "stdout",
          "output_type": "stream",
          "text": [
            "INFO:tensorflow:Assets written to: model_experiments/model_5_lstm/assets\n"
          ]
        },
        {
          "name": "stderr",
          "output_type": "stream",
          "text": [
            "INFO:tensorflow:Assets written to: model_experiments/model_5_lstm/assets\n"
          ]
        },
        {
          "name": "stdout",
          "output_type": "stream",
          "text": [
            "INFO:tensorflow:Assets written to: model_experiments/model_5_lstm/assets\n"
          ]
        },
        {
          "name": "stderr",
          "output_type": "stream",
          "text": [
            "INFO:tensorflow:Assets written to: model_experiments/model_5_lstm/assets\n"
          ]
        },
        {
          "name": "stdout",
          "output_type": "stream",
          "text": [
            "INFO:tensorflow:Assets written to: model_experiments/model_5_lstm/assets\n"
          ]
        },
        {
          "name": "stderr",
          "output_type": "stream",
          "text": [
            "INFO:tensorflow:Assets written to: model_experiments/model_5_lstm/assets\n"
          ]
        },
        {
          "name": "stdout",
          "output_type": "stream",
          "text": [
            "INFO:tensorflow:Assets written to: model_experiments/model_5_lstm/assets\n"
          ]
        },
        {
          "name": "stderr",
          "output_type": "stream",
          "text": [
            "INFO:tensorflow:Assets written to: model_experiments/model_5_lstm/assets\n"
          ]
        },
        {
          "name": "stdout",
          "output_type": "stream",
          "text": [
            "INFO:tensorflow:Assets written to: model_experiments/model_5_lstm/assets\n"
          ]
        },
        {
          "name": "stderr",
          "output_type": "stream",
          "text": [
            "INFO:tensorflow:Assets written to: model_experiments/model_5_lstm/assets\n"
          ]
        },
        {
          "name": "stdout",
          "output_type": "stream",
          "text": [
            "INFO:tensorflow:Assets written to: model_experiments/model_5_lstm/assets\n"
          ]
        },
        {
          "name": "stderr",
          "output_type": "stream",
          "text": [
            "INFO:tensorflow:Assets written to: model_experiments/model_5_lstm/assets\n"
          ]
        },
        {
          "name": "stdout",
          "output_type": "stream",
          "text": [
            "INFO:tensorflow:Assets written to: model_experiments/model_5_lstm/assets\n"
          ]
        },
        {
          "name": "stderr",
          "output_type": "stream",
          "text": [
            "INFO:tensorflow:Assets written to: model_experiments/model_5_lstm/assets\n"
          ]
        },
        {
          "name": "stdout",
          "output_type": "stream",
          "text": [
            "INFO:tensorflow:Assets written to: model_experiments/model_5_lstm/assets\n"
          ]
        },
        {
          "name": "stderr",
          "output_type": "stream",
          "text": [
            "INFO:tensorflow:Assets written to: model_experiments/model_5_lstm/assets\n"
          ]
        },
        {
          "name": "stdout",
          "output_type": "stream",
          "text": [
            "INFO:tensorflow:Assets written to: model_experiments/model_5_lstm/assets\n"
          ]
        },
        {
          "name": "stderr",
          "output_type": "stream",
          "text": [
            "INFO:tensorflow:Assets written to: model_experiments/model_5_lstm/assets\n"
          ]
        },
        {
          "name": "stdout",
          "output_type": "stream",
          "text": [
            "INFO:tensorflow:Assets written to: model_experiments/model_5_lstm/assets\n"
          ]
        },
        {
          "name": "stderr",
          "output_type": "stream",
          "text": [
            "INFO:tensorflow:Assets written to: model_experiments/model_5_lstm/assets\n"
          ]
        },
        {
          "name": "stdout",
          "output_type": "stream",
          "text": [
            "INFO:tensorflow:Assets written to: model_experiments/model_5_lstm/assets\n"
          ]
        },
        {
          "name": "stderr",
          "output_type": "stream",
          "text": [
            "INFO:tensorflow:Assets written to: model_experiments/model_5_lstm/assets\n"
          ]
        },
        {
          "name": "stdout",
          "output_type": "stream",
          "text": [
            "INFO:tensorflow:Assets written to: model_experiments/model_5_lstm/assets\n"
          ]
        },
        {
          "name": "stderr",
          "output_type": "stream",
          "text": [
            "INFO:tensorflow:Assets written to: model_experiments/model_5_lstm/assets\n"
          ]
        },
        {
          "name": "stdout",
          "output_type": "stream",
          "text": [
            "INFO:tensorflow:Assets written to: model_experiments/model_5_lstm/assets\n"
          ]
        },
        {
          "name": "stderr",
          "output_type": "stream",
          "text": [
            "INFO:tensorflow:Assets written to: model_experiments/model_5_lstm/assets\n"
          ]
        },
        {
          "name": "stdout",
          "output_type": "stream",
          "text": [
            "INFO:tensorflow:Assets written to: model_experiments/model_5_lstm/assets\n"
          ]
        },
        {
          "name": "stderr",
          "output_type": "stream",
          "text": [
            "INFO:tensorflow:Assets written to: model_experiments/model_5_lstm/assets\n"
          ]
        },
        {
          "name": "stdout",
          "output_type": "stream",
          "text": [
            "INFO:tensorflow:Assets written to: model_experiments/model_5_lstm/assets\n"
          ]
        },
        {
          "name": "stderr",
          "output_type": "stream",
          "text": [
            "INFO:tensorflow:Assets written to: model_experiments/model_5_lstm/assets\n"
          ]
        },
        {
          "name": "stdout",
          "output_type": "stream",
          "text": [
            "INFO:tensorflow:Assets written to: model_experiments/model_5_lstm/assets\n"
          ]
        },
        {
          "name": "stderr",
          "output_type": "stream",
          "text": [
            "INFO:tensorflow:Assets written to: model_experiments/model_5_lstm/assets\n"
          ]
        },
        {
          "name": "stdout",
          "output_type": "stream",
          "text": [
            "INFO:tensorflow:Assets written to: model_experiments/model_5_lstm/assets\n"
          ]
        },
        {
          "name": "stderr",
          "output_type": "stream",
          "text": [
            "INFO:tensorflow:Assets written to: model_experiments/model_5_lstm/assets\n"
          ]
        },
        {
          "name": "stdout",
          "output_type": "stream",
          "text": [
            "INFO:tensorflow:Assets written to: model_experiments/model_5_lstm/assets\n"
          ]
        },
        {
          "name": "stderr",
          "output_type": "stream",
          "text": [
            "INFO:tensorflow:Assets written to: model_experiments/model_5_lstm/assets\n"
          ]
        },
        {
          "name": "stdout",
          "output_type": "stream",
          "text": [
            "INFO:tensorflow:Assets written to: model_experiments/model_5_lstm/assets\n"
          ]
        },
        {
          "name": "stderr",
          "output_type": "stream",
          "text": [
            "INFO:tensorflow:Assets written to: model_experiments/model_5_lstm/assets\n"
          ]
        },
        {
          "name": "stdout",
          "output_type": "stream",
          "text": [
            "INFO:tensorflow:Assets written to: model_experiments/model_5_lstm/assets\n"
          ]
        },
        {
          "name": "stderr",
          "output_type": "stream",
          "text": [
            "INFO:tensorflow:Assets written to: model_experiments/model_5_lstm/assets\n"
          ]
        },
        {
          "name": "stdout",
          "output_type": "stream",
          "text": [
            "INFO:tensorflow:Assets written to: model_experiments/model_5_lstm/assets\n"
          ]
        },
        {
          "name": "stderr",
          "output_type": "stream",
          "text": [
            "INFO:tensorflow:Assets written to: model_experiments/model_5_lstm/assets\n"
          ]
        },
        {
          "name": "stdout",
          "output_type": "stream",
          "text": [
            "INFO:tensorflow:Assets written to: model_experiments/model_5_lstm/assets\n"
          ]
        },
        {
          "name": "stderr",
          "output_type": "stream",
          "text": [
            "INFO:tensorflow:Assets written to: model_experiments/model_5_lstm/assets\n"
          ]
        },
        {
          "name": "stdout",
          "output_type": "stream",
          "text": [
            "INFO:tensorflow:Assets written to: model_experiments/model_5_lstm/assets\n"
          ]
        },
        {
          "name": "stderr",
          "output_type": "stream",
          "text": [
            "INFO:tensorflow:Assets written to: model_experiments/model_5_lstm/assets\n"
          ]
        },
        {
          "name": "stdout",
          "output_type": "stream",
          "text": [
            "INFO:tensorflow:Assets written to: model_experiments/model_5_lstm/assets\n"
          ]
        },
        {
          "name": "stderr",
          "output_type": "stream",
          "text": [
            "INFO:tensorflow:Assets written to: model_experiments/model_5_lstm/assets\n"
          ]
        },
        {
          "name": "stdout",
          "output_type": "stream",
          "text": [
            "INFO:tensorflow:Assets written to: model_experiments/model_5_lstm/assets\n"
          ]
        },
        {
          "name": "stderr",
          "output_type": "stream",
          "text": [
            "INFO:tensorflow:Assets written to: model_experiments/model_5_lstm/assets\n"
          ]
        },
        {
          "name": "stdout",
          "output_type": "stream",
          "text": [
            "INFO:tensorflow:Assets written to: model_experiments/model_5_lstm/assets\n"
          ]
        },
        {
          "name": "stderr",
          "output_type": "stream",
          "text": [
            "INFO:tensorflow:Assets written to: model_experiments/model_5_lstm/assets\n"
          ]
        },
        {
          "name": "stdout",
          "output_type": "stream",
          "text": [
            "INFO:tensorflow:Assets written to: model_experiments/model_5_lstm/assets\n"
          ]
        },
        {
          "name": "stderr",
          "output_type": "stream",
          "text": [
            "INFO:tensorflow:Assets written to: model_experiments/model_5_lstm/assets\n"
          ]
        },
        {
          "name": "stdout",
          "output_type": "stream",
          "text": [
            "INFO:tensorflow:Assets written to: model_experiments/model_5_lstm/assets\n"
          ]
        },
        {
          "name": "stderr",
          "output_type": "stream",
          "text": [
            "INFO:tensorflow:Assets written to: model_experiments/model_5_lstm/assets\n"
          ]
        },
        {
          "name": "stdout",
          "output_type": "stream",
          "text": [
            "INFO:tensorflow:Assets written to: model_experiments/model_5_lstm/assets\n"
          ]
        },
        {
          "name": "stderr",
          "output_type": "stream",
          "text": [
            "INFO:tensorflow:Assets written to: model_experiments/model_5_lstm/assets\n"
          ]
        },
        {
          "name": "stdout",
          "output_type": "stream",
          "text": [
            "INFO:tensorflow:Assets written to: model_experiments/model_5_lstm/assets\n"
          ]
        },
        {
          "name": "stderr",
          "output_type": "stream",
          "text": [
            "INFO:tensorflow:Assets written to: model_experiments/model_5_lstm/assets\n"
          ]
        },
        {
          "data": {
            "text/plain": [
              "<keras.src.callbacks.History at 0x1500bded0>"
            ]
          },
          "execution_count": 67,
          "metadata": {},
          "output_type": "execute_result"
        }
      ],
      "source": [
        "tf.random.set_seed(42)\n",
        "\n",
        "# Let's build an LSTM model with the Functional API\n",
        "inputs = layers.Input(shape=(WINDOW_SIZE))\n",
        "x = layers.Lambda(lambda x: tf.expand_dims(x, axis=1))(inputs) # expand input dimension to be compatible with LSTM\n",
        "# print(x.shape)\n",
        "# x = layers.LSTM(128, activation=\"relu\", return_sequences=True)(x) # this layer will error if the inputs are not the right shape\n",
        "x = layers.LSTM(128, activation=\"relu\")(x) # using the tanh loss function results in a massive error\n",
        "# print(x.shape)\n",
        "# Add another optional dense layer (you could add more of these to see if they improve model performance)\n",
        "# x = layers.Dense(32, activation=\"relu\")(x)\n",
        "output = layers.Dense(HORIZON)(x)\n",
        "model_5 = tf.keras.Model(inputs=inputs, outputs=output, name=\"model_5_lstm\")\n",
        "\n",
        "# Compile model\n",
        "model_5.compile(loss=\"mae\",\n",
        "                optimizer=tf.keras.optimizers.Adam())\n",
        "\n",
        "# Seems when saving the model several warnings are appearing: https://github.com/tensorflow/tensorflow/issues/47554 \n",
        "model_5.fit(train_windows,\n",
        "            train_labels,\n",
        "            epochs=100,\n",
        "            verbose=0,\n",
        "            batch_size=128,\n",
        "            validation_data=(test_windows, test_labels),\n",
        "            callbacks=[create_model_checkpoint(model_name=model_5.name)])"
      ]
    },
    {
      "cell_type": "code",
      "execution_count": 68,
      "metadata": {
        "colab": {
          "base_uri": "https://localhost:8080/"
        },
        "id": "cOpHqmEtSsNw",
        "outputId": "8071fad7-885c-40d6-a601-0dd333aab6e1"
      },
      "outputs": [
        {
          "name": "stdout",
          "output_type": "stream",
          "text": [
            "22/22 [==============================] - 0s 2ms/step - loss: 554.7845\n"
          ]
        },
        {
          "data": {
            "text/plain": [
              "554.7845458984375"
            ]
          },
          "execution_count": 68,
          "metadata": {},
          "output_type": "execute_result"
        }
      ],
      "source": [
        "# Load in best version of model 5 and evaluate on the test data\n",
        "model_5 = tf.keras.models.load_model(\"model_experiments/model_5_lstm/\")\n",
        "model_5.evaluate(test_windows, test_labels)"
      ]
    },
    {
      "cell_type": "markdown",
      "metadata": {
        "id": "Pm_ZVNomnWvP"
      },
      "source": [
        "Now we've got the best performing LSTM model loaded in, let's make predictions with it and evaluate them."
      ]
    },
    {
      "cell_type": "code",
      "execution_count": 69,
      "metadata": {
        "colab": {
          "base_uri": "https://localhost:8080/"
        },
        "id": "yfG11v_51UWa",
        "outputId": "764915f3-48c2-4e64-b8a3-42867ea9eb0b"
      },
      "outputs": [
        {
          "name": "stdout",
          "output_type": "stream",
          "text": [
            "22/22 [==============================] - 0s 2ms/step\n"
          ]
        },
        {
          "data": {
            "text/plain": [
              "<tf.Tensor: shape=(10,), dtype=float32, numpy=\n",
              "array([38847.26 , 39124.27 , 38221.38 , 41890.9  , 43765.89 , 44008.156,\n",
              "       43422.055, 40886.2  , 39751.496, 38470.17 ], dtype=float32)>"
            ]
          },
          "execution_count": 69,
          "metadata": {},
          "output_type": "execute_result"
        }
      ],
      "source": [
        "# Make predictions with our LSTM model\n",
        "model_5_preds = make_preds(model_5, test_windows)\n",
        "model_5_preds[:10]"
      ]
    },
    {
      "cell_type": "code",
      "execution_count": 70,
      "metadata": {
        "colab": {
          "base_uri": "https://localhost:8080/"
        },
        "id": "sVv5Kg5N1axK",
        "outputId": "ef27748e-7980-4e94-af5a-b9f89840840a"
      },
      "outputs": [
        {
          "data": {
            "text/plain": [
              "{'mae': 554.7844,\n",
              " 'mse': 720717.0,\n",
              " 'rmse': 848.9505,\n",
              " 'mape': 1.996903,\n",
              " 'mase': 1.0601045}"
            ]
          },
          "execution_count": 70,
          "metadata": {},
          "output_type": "execute_result"
        }
      ],
      "source": [
        "# Evaluate model 5 preds\n",
        "model_5_results = evaluate_preds(y_true=tf.squeeze(test_labels),\n",
        "                                 y_pred=model_5_preds)\n",
        "model_5_results"
      ]
    },
    {
      "cell_type": "markdown",
      "metadata": {
        "id": "V-lSjFE-4_qq"
      },
      "source": [
        "When we scale the block reward and the Bitcoin price, we can see the price goes up as the block reward goes down, perhaps this information will be helpful to our model's performance."
      ]
    },
    {
      "cell_type": "markdown",
      "metadata": {},
      "source": [
        "## Multivariate time series eklenecek"
      ]
    },
    {
      "cell_type": "code",
      "execution_count": null,
      "metadata": {},
      "outputs": [],
      "source": []
    },
    {
      "cell_type": "markdown",
      "metadata": {
        "id": "7m0h2WcP5Ko8"
      },
      "source": [
        "## Making a windowed dataset with pandas\n",
        "\n",
        "Previously, we used some custom made functions to window our **univariate** time series.\n",
        "\n",
        "However, since we've just added another variable to our dataset, these functions won't work.\n",
        "\n",
        "Not to worry though. Since our data is in a pandas DataFrame, we can leverage the [`pandas.DataFrame.shift()`](https://pandas.pydata.org/pandas-docs/stable/reference/api/pandas.DataFrame.shift.html) method to create a windowed **multivariate** time series.\n",
        "\n",
        "The `shift()` method offsets an index by a specified number of periods.\n",
        "\n",
        "Let's see it in action."
      ]
    },
    {
      "cell_type": "code",
      "execution_count": 71,
      "metadata": {
        "id": "8_9iFxKS8Sed"
      },
      "outputs": [],
      "source": [
        "# Setup dataset hyperparameters\n",
        "HORIZON = 1\n",
        "WINDOW_SIZE = 7"
      ]
    },
    {
      "cell_type": "code",
      "execution_count": 72,
      "metadata": {
        "colab": {
          "base_uri": "https://localhost:8080/",
          "height": 390
        },
        "id": "DqPp3HdHsXO8",
        "outputId": "82838ef8-9ee5-4967-bfd0-25a5e8a72eef"
      },
      "outputs": [
        {
          "ename": "NameError",
          "evalue": "name 'bitcoin_prices_block' is not defined",
          "output_type": "error",
          "traceback": [
            "\u001b[0;31m---------------------------------------------------------------------------\u001b[0m",
            "\u001b[0;31mNameError\u001b[0m                                 Traceback (most recent call last)",
            "Cell \u001b[0;32mIn[72], line 2\u001b[0m\n\u001b[1;32m      1\u001b[0m \u001b[38;5;66;03m# Make a copy of the Bitcoin historical data with block reward feature\u001b[39;00m\n\u001b[0;32m----> 2\u001b[0m bitcoin_prices_windowed \u001b[38;5;241m=\u001b[39m \u001b[43mbitcoin_prices_block\u001b[49m\u001b[38;5;241m.\u001b[39mcopy()\n\u001b[1;32m      4\u001b[0m \u001b[38;5;66;03m# Add windowed columns\u001b[39;00m\n\u001b[1;32m      5\u001b[0m \u001b[38;5;28;01mfor\u001b[39;00m i \u001b[38;5;129;01min\u001b[39;00m \u001b[38;5;28mrange\u001b[39m(WINDOW_SIZE): \u001b[38;5;66;03m# Shift values for each step in WINDOW_SIZE\u001b[39;00m\n",
            "\u001b[0;31mNameError\u001b[0m: name 'bitcoin_prices_block' is not defined"
          ]
        }
      ],
      "source": [
        "# Make a copy of the Bitcoin historical data with block reward feature\n",
        "bitcoin_prices_windowed = bitcoin_prices_block.copy()\n",
        "\n",
        "# Add windowed columns\n",
        "for i in range(WINDOW_SIZE): # Shift values for each step in WINDOW_SIZE\n",
        "  bitcoin_prices_windowed[f\"Price+{i+1}\"] = bitcoin_prices_windowed[\"Price\"].shift(periods=i+1)\n",
        "bitcoin_prices_windowed.head(10)"
      ]
    },
    {
      "cell_type": "markdown",
      "metadata": {
        "id": "Pbfw5uqEzlZ3"
      },
      "source": [
        "Training and test multivariate time series datasets made! Time to build a model."
      ]
    },
    {
      "cell_type": "markdown",
      "metadata": {
        "id": "UW9oxH47EK-6"
      },
      "source": [
        "## Model 9: Train a model on the full historical data to make predictions into future\n",
        "\n",
        "What would a forecasting model be worth if we didn't use it to predict into the future?\n",
        "\n",
        "It's time we created a model which is able to make future predictions on the price of Bitcoin.\n",
        "\n",
        "To make predictions into the future, we'll train a model on the full dataset and then get to make predictions to some future horizon.\n",
        "\n",
        "Why use the full dataset?\n",
        "\n",
        "Previously, we split our data into training and test sets to evaluate how our model did on pseudo-future data (the test set).\n",
        "\n",
        "But since the goal of a forecasting model is to predict values into the actual-future, we won't be using a test set.\n",
        "\n",
        "> 🔑 **Note:** Forecasting models need to be retrained every time a forecast is made. Why? Because if Bitcoin prices are updated daily and you predict the price for tomorrow. Your model is only really valid for one day. When a new price comes out (e.g. the next day), you'll have to retrain your model to incorporate that new price to predict the next forecast.\n",
        "\n",
        "Let's get some data ready."
      ]
    },
    {
      "cell_type": "code",
      "execution_count": null,
      "metadata": {
        "colab": {
          "base_uri": "https://localhost:8080/"
        },
        "id": "0lseRHbOYseR",
        "outputId": "caa7777f-a8ef-4098-d026-26879b4119f5"
      },
      "outputs": [],
      "source": [
        "bitcoin_prices_windowed.head()"
      ]
    },
    {
      "cell_type": "code",
      "execution_count": null,
      "metadata": {
        "id": "-HZ9ObQaYyVf"
      },
      "outputs": [],
      "source": [
        "# Train model on entire data to make prediction for the next day \n",
        "X_all = bitcoin_prices_windowed.drop([\"Price\", \"block_reward\"], axis=1).dropna().to_numpy() # only want prices, our future model can be a univariate model\n",
        "y_all = bitcoin_prices_windowed.dropna()[\"Price\"].to_numpy()"
      ]
    },
    {
      "cell_type": "markdown",
      "metadata": {
        "id": "6clQZWFCYPAW"
      },
      "source": [
        "Windows and labels ready! Let's turn them into performance optimized TensorFlow Datasets by:\n",
        "1. Turning `X_all` and `y_all` into tensor Datasets using [`tf.data.Dataset.from_tensor_slices()`](https://www.tensorflow.org/api_docs/python/tf/data/Dataset#from_tensor_slices)\n",
        "2. Combining the features and labels into a Dataset tuple using [`tf.data.Dataset.zip()`](https://www.tensorflow.org/api_docs/python/tf/data/Dataset#zip)\n",
        "3. Batch and prefetch the data using [`tf.data.Dataset.batch()`](https://www.tensorflow.org/api_docs/python/tf/data/Dataset#batch) and [`tf.data.Dataset.prefetch()`](https://www.tensorflow.org/api_docs/python/tf/data/Dataset#prefetch) respectively"
      ]
    },
    {
      "cell_type": "code",
      "execution_count": null,
      "metadata": {
        "colab": {
          "base_uri": "https://localhost:8080/"
        },
        "id": "B-eX9FBPZYkR",
        "outputId": "d66cdfbe-60d1-41ef-e6fe-902b559cbf9a"
      },
      "outputs": [],
      "source": [
        "# 1. Turn X and y into tensor Datasets\n",
        "features_dataset_all = tf.data.Dataset.from_tensor_slices(X_all)\n",
        "labels_dataset_all = tf.data.Dataset.from_tensor_slices(y_all)\n",
        "\n",
        "# 2. Combine features & labels\n",
        "dataset_all = tf.data.Dataset.zip((features_dataset_all, labels_dataset_all))\n",
        "\n",
        "# 3. Batch and prefetch for optimal performance\n",
        "BATCH_SIZE = 1024 # taken from Appendix D in N-BEATS paper\n",
        "dataset_all = dataset_all.batch(BATCH_SIZE).prefetch(tf.data.AUTOTUNE)\n",
        "\n",
        "dataset_all"
      ]
    },
    {
      "cell_type": "markdown",
      "metadata": {
        "id": "63wxSbcuY8RI"
      },
      "source": [
        "And now let's create a model similar to `model_1` except with an extra layer, we'll also fit it to the entire dataset for 100 epochs (feel free to play around with the number of epochs or callbacks here, you've got the skills to now)."
      ]
    },
    {
      "cell_type": "code",
      "execution_count": null,
      "metadata": {
        "colab": {
          "base_uri": "https://localhost:8080/"
        },
        "id": "dCtmpaCGZ_fj",
        "outputId": "b81ba08b-8d8d-4305-f711-4d18d2aff51f"
      },
      "outputs": [],
      "source": [
        "tf.random.set_seed(42)\n",
        "\n",
        "# Create model (nice and simple, just to test)\n",
        "model_9 = tf.keras.Sequential([\n",
        "  layers.Dense(128, activation=\"relu\"),\n",
        "  layers.Dense(128, activation=\"relu\"),\n",
        "  layers.Dense(HORIZON)\n",
        "])\n",
        "\n",
        "# Compile\n",
        "model_9.compile(loss=tf.keras.losses.mae,\n",
        "                optimizer=tf.keras.optimizers.Adam())\n",
        "\n",
        "# Fit model on all of the data to make future forecasts\n",
        "model_9.fit(dataset_all,\n",
        "            epochs=100,\n",
        "            verbose=0) # don't print out anything, we've seen this all before"
      ]
    },
    {
      "cell_type": "markdown",
      "metadata": {
        "id": "Dv1Z7Q8N4qI5"
      },
      "source": [
        "### Make predictions on the future\n",
        "\n",
        "Let's predict the future and get rich!\n",
        "\n",
        "Well... maybe not.\n",
        "\n",
        "As you've seen so far, our machine learning models have performed quite poorly at predicting the price of Bitcoin (time series forecasting in open systems is typically a game of luck), often worse than the naive forecast.\n",
        "\n",
        "That doesn't mean we can't use our models to *try* and predict into the future right?\n",
        "\n",
        "To do so, let's start by defining a variable `INTO_FUTURE` which decides how many timesteps we'd like to predict into the future."
      ]
    },
    {
      "cell_type": "code",
      "execution_count": null,
      "metadata": {
        "id": "sYxHD1qPA1Mj"
      },
      "outputs": [],
      "source": [
        "# How many timesteps to predict into the future?\n",
        "INTO_FUTURE = 14 # since our Bitcoin data is daily, this is for 14 days"
      ]
    },
    {
      "cell_type": "markdown",
      "metadata": {
        "id": "4b2Flb1Wb4G4"
      },
      "source": [
        "![flowchart representation prediction loop to make forecasts and then append forecasts to data and make more forecasts continuously until forecast horizon is exhausted](https://raw.githubusercontent.com/mrdbourke/tensorflow-deep-learning/main/images/10-prediction-loop-for-forecasts.png)\n",
        "\n",
        "\n",
        "*Example flow chart representing the loop we're about to create for making forecasts. Not pictured: retraining a forecasting model every time a forecast is made & new data is acquired. For example, if you're predicting the price of Bitcoin daily, you'd want to retrain your model every day, since each day you're going to have a new data point to work with.*\n",
        "\n",
        "Alright, let's create a function which returns `INTO_FUTURE` forecasted values using a trained model.\n",
        "\n",
        "To do so, we'll build the following steps:\n",
        "1. Function which takes as input: \n",
        "  * a list of values (the Bitcoin historical data)\n",
        "  * a trained model (such as `model_9`)\n",
        "  * a window into the future to predict (our `INTO_FUTURE` variable)\n",
        "  * the window size a model was trained on (`WINDOW_SIZE`) - the model can only predict on the same kind of data it was trained on\n",
        "2. Creates an empty list for future forecasts (this will be returned at the end of the function) and extracts the last `WINDOW_SIZE` values from the input values (predictions will start from the last `WINDOW_SIZE` values of the training data)\n",
        "3. Loop `INTO_FUTURE` times making a prediction on `WINDOW_SIZE` datasets which update to remove the first the value and append the latest prediction \n",
        "  * Eventually future predictions will be made using the model's own previous predictions as input"
      ]
    },
    {
      "cell_type": "code",
      "execution_count": null,
      "metadata": {
        "id": "JEtTHMV_iE7f"
      },
      "outputs": [],
      "source": [
        "# 1. Create function to make predictions into the future\n",
        "def make_future_forecast(values, model, into_future, window_size=WINDOW_SIZE) -> list:\n",
        "  \"\"\"\n",
        "  Makes future forecasts into_future steps after values ends.\n",
        "\n",
        "  Returns future forecasts as list of floats.\n",
        "  \"\"\"\n",
        "  # 2. Make an empty list for future forecasts/prepare data to forecast on\n",
        "  future_forecast = []\n",
        "  last_window = values[-WINDOW_SIZE:] # only want preds from the last window (this will get updated)\n",
        "\n",
        "  # 3. Make INTO_FUTURE number of predictions, altering the data which gets predicted on each time \n",
        "  for _ in range(into_future):\n",
        "    \n",
        "    # Predict on last window then append it again, again, again (model starts to make forecasts on its own forecasts)\n",
        "    future_pred = model.predict(tf.expand_dims(last_window, axis=0))\n",
        "    print(f\"Predicting on: \\n {last_window} -> Prediction: {tf.squeeze(future_pred).numpy()}\\n\")\n",
        "    \n",
        "    # Append predictions to future_forecast\n",
        "    future_forecast.append(tf.squeeze(future_pred).numpy())\n",
        "    # print(future_forecast)\n",
        "\n",
        "    # Update last window with new pred and get WINDOW_SIZE most recent preds (model was trained on WINDOW_SIZE windows)\n",
        "    last_window = np.append(last_window, future_pred)[-WINDOW_SIZE:]\n",
        "  \n",
        "  return future_forecast"
      ]
    },
    {
      "cell_type": "markdown",
      "metadata": {
        "id": "shcu6e7EeSWz"
      },
      "source": [
        "Nice! Time to bring BitPredict 💰📈 to life and make future forecasts of the price of Bitcoin.\n",
        "\n",
        "> 🛠 **Exercise:** In terms of a forecasting model, what might another approach to our `make_future_forecasts()` function? Recall, that for making forecasts, you need to retrain a model each time you want to generate a new prediction. \n",
        ">\n",
        "> So perhaps you could try to: make a prediction (one timestep into the future), retrain a model with this new prediction appended to the data, make a prediction, append the prediction, retrain a model... etc. \n",
        ">\n",
        "> As it is, the `make_future_forecasts()` function skips the retraining of a model part."
      ]
    },
    {
      "cell_type": "code",
      "execution_count": null,
      "metadata": {
        "colab": {
          "base_uri": "https://localhost:8080/"
        },
        "id": "ZZVNYdqJ5zo9",
        "outputId": "348d457b-3ab1-4b99-bd99-96e643c8c749"
      },
      "outputs": [],
      "source": [
        "# Make forecasts into future of the price of Bitcoin\n",
        "# Note: if you're reading this at a later date, you may already be in the future, so the forecasts \n",
        "# we're making may not actually be forecasts, if that's the case, readjust the training data.\n",
        "future_forecast = make_future_forecast(values=y_all,\n",
        "                                       model=model_9,\n",
        "                                       into_future=INTO_FUTURE,\n",
        "                                       window_size=WINDOW_SIZE)"
      ]
    },
    {
      "cell_type": "code",
      "execution_count": null,
      "metadata": {
        "colab": {
          "base_uri": "https://localhost:8080/"
        },
        "id": "hFZmkWRccmQ5",
        "outputId": "c33733d2-cc17-4a92-9f87-db55c5494d14"
      },
      "outputs": [],
      "source": [
        "future_forecast[:10]"
      ]
    },
    {
      "cell_type": "markdown",
      "metadata": {
        "id": "QuaY0cOaCHfr"
      },
      "source": [
        "### Plot future forecasts\n",
        "\n",
        "This is so exciting! Forecasts made! \n",
        "\n",
        "But right now, they're just numbers on a page.\n",
        "\n",
        "Let's bring them to life by adhering to the data explorer's motto: visualize, visualize, visualize!\n",
        "\n",
        "To plot our model's future forecasts against the historical data of Bitcoin, we're going to need a series of future dates (future dates from the final date of where our dataset ends).\n",
        "\n",
        "How about we create a function to return a date range from some specified start date to a specified number of days into the future (`INTO_FUTURE`).\n",
        "\n",
        "To do so, we'll use a combination of NumPy's [`datetime64` datatype](https://numpy.org/doc/stable/reference/arrays.datetime.html) (our Bitcoin dates are already in this datatype) as well as NumPy's `timedelta64` method which helps to create date ranges."
      ]
    },
    {
      "cell_type": "code",
      "execution_count": null,
      "metadata": {
        "id": "i4iNNliSCbU-"
      },
      "outputs": [],
      "source": [
        "def get_future_dates(start_date, into_future, offset=1):\n",
        "  \"\"\"\n",
        "  Returns array of datetime values from ranging from start_date to start_date+horizon.\n",
        "\n",
        "  start_date: date to start range (np.datetime64)\n",
        "  into_future: number of days to add onto start date for range (int)\n",
        "  offset: number of days to offset start_date by (default 1)\n",
        "  \"\"\"\n",
        "  start_date = start_date + np.timedelta64(offset, \"D\") # specify start date, \"D\" stands for day\n",
        "  end_date = start_date + np.timedelta64(into_future, \"D\") # specify end date\n",
        "  return np.arange(start_date, end_date, dtype=\"datetime64[D]\") # return a date range between start date and end date"
      ]
    },
    {
      "cell_type": "markdown",
      "metadata": {
        "id": "sob2VY8chLA5"
      },
      "source": [
        "The start date of our forecasted dates will be the last date of our dataset. "
      ]
    },
    {
      "cell_type": "code",
      "execution_count": null,
      "metadata": {
        "colab": {
          "base_uri": "https://localhost:8080/"
        },
        "id": "6676Sl-cAFn5",
        "outputId": "fbfc545a-a313-4866-ea98-c4f1b397d0bf"
      },
      "outputs": [],
      "source": [
        "# Last timestep of timesteps (currently in np.datetime64 format)\n",
        "last_timestep = bitcoin_prices.index[-1]\n",
        "last_timestep"
      ]
    },
    {
      "cell_type": "code",
      "execution_count": null,
      "metadata": {
        "colab": {
          "base_uri": "https://localhost:8080/"
        },
        "id": "252bhVD7C5NZ",
        "outputId": "17065a39-4de8-4528-a380-2415a528db8c"
      },
      "outputs": [],
      "source": [
        "# Get next two weeks of timesteps\n",
        "next_time_steps = get_future_dates(start_date=last_timestep, \n",
        "                                   into_future=INTO_FUTURE)\n",
        "next_time_steps"
      ]
    },
    {
      "cell_type": "markdown",
      "metadata": {
        "id": "A5FIVsQJhVVs"
      },
      "source": [
        "Look at that! We've now got a list of dates we can use to visualize our future Bitcoin predictions.\n",
        "\n",
        "But to make sure the lines of the plot connect (try not running the cell below and then plotting the data to see what I mean), let's insert the last timestep and Bitcoin price of our training data to the `next_time_steps` and `future_forecast` arrays."
      ]
    },
    {
      "cell_type": "code",
      "execution_count": null,
      "metadata": {
        "colab": {
          "base_uri": "https://localhost:8080/"
        },
        "id": "QLXAudg3hIo9",
        "outputId": "c33b3c8d-8fd5-49c3-951e-d111d6b6c5e8"
      },
      "outputs": [],
      "source": [
        "# Insert last timestep/final price so the graph doesn't look messed\n",
        "next_time_steps = np.insert(next_time_steps, 0, last_timestep)\n",
        "future_forecast = np.insert(future_forecast, 0, btc_price[-1])\n",
        "next_time_steps, future_forecast"
      ]
    },
    {
      "cell_type": "markdown",
      "metadata": {
        "id": "-xDtk3wHhyDQ"
      },
      "source": [
        "Time to plot!"
      ]
    },
    {
      "cell_type": "code",
      "execution_count": null,
      "metadata": {
        "colab": {
          "base_uri": "https://localhost:8080/",
          "height": 442
        },
        "id": "LUo-rjmpfuM0",
        "outputId": "79e101a7-7475-49fe-a1ee-1532578a3a80"
      },
      "outputs": [],
      "source": [
        "# Plot future price predictions of Bitcoin\n",
        "plt.figure(figsize=(10, 7))\n",
        "plot_time_series(bitcoin_prices.index, btc_price, start=2500, format=\"-\", label=\"Actual BTC Price\")\n",
        "plot_time_series(next_time_steps, future_forecast, format=\"-\", label=\"Predicted BTC Price\")"
      ]
    },
    {
      "cell_type": "markdown",
      "metadata": {
        "id": "xWwHor7lBR3b"
      },
      "source": [
        "## Compare Models\n",
        "\n",
        "We've trained a bunch of models.\n",
        "\n",
        "And if anything, we've seen just how poorly machine learning and deep learning models are at forecasting the price of Bitcoin (or any kind of open market value).\n",
        "\n",
        "To highlight this, let's compare the results of all of the modelling experiments we've performed so far."
      ]
    },
    {
      "cell_type": "code",
      "execution_count": null,
      "metadata": {
        "colab": {
          "base_uri": "https://localhost:8080/",
          "height": 359
        },
        "id": "vZtkauQXBXVx",
        "outputId": "af622e83-258b-4d7a-de18-5e59027b169d"
      },
      "outputs": [],
      "source": [
        "# Compare different model results (w = window, h = horizon, e.g. w=7 means a window size of 7)\n",
        "model_results = pd.DataFrame({\n",
        "                              \"model_1_dense_w7_h1\": model_1_results,\n",
        "                              \"model_2_dense_w30_h1\": model_2_results,\n",
        "                              \"model_3_dense_w30_h7\": model_3_results,\n",
        "                              \"model_4_CONV1D\": model_4_results,\n",
        "                              \"model_5_LSTM\": model_5_results,\n",
        "                             \n",
        "                             }).T\n",
        "model_results.head(10)"
      ]
    },
    {
      "cell_type": "code",
      "execution_count": null,
      "metadata": {
        "colab": {
          "base_uri": "https://localhost:8080/",
          "height": 539
        },
        "id": "PrLcCM-LFv2B",
        "outputId": "c96cae30-d0dd-4c1d-eaf3-4b4258e96639"
      },
      "outputs": [],
      "source": [
        "# Sort model results by MAE and plot them\n",
        "model_results[[\"mae\"]].sort_values(by=\"mae\").plot(figsize=(10, 7), kind=\"bar\");"
      ]
    },
    {
      "cell_type": "markdown",
      "metadata": {
        "id": "ke0mH9fr5HP1"
      },
      "source": [
        "The majority of our deep learning models perform on par or only slightly better than the naive model. And for the turkey model, changing a single data point destroys its performance.\n",
        "\n",
        "> 🔑 **Note:** Just because one type of model performs better here doesn't mean it'll perform the best elsewhere (and vice versa, just because one model performs poorly here, doesn't mean it'll perform poorly elsewhere).\n",
        "\n",
        "As I said at the start, this is not financial advice.\n",
        "\n",
        "After what we've gone through, you'll now have some of the skills required to callout BS for any future tutorial or blog post or investment sales guide claiming to have model which is able to predict the futrue.\n",
        "\n",
        "[Mark Saroufim's Tweet](https://twitter.com/marksaroufim/status/1366871736604532739?s=20) sums this up nicely (stock market forecasting with a machine learning model is just as reliable as palm reading).\n",
        "\n",
        "![Mark Saroufim tweet on what forecasting with a machine learning model reminds him of: palm reading, basic heuristics, comparing calculations in the brain of different organisms](https://raw.githubusercontent.com/mrdbourke/tensorflow-deep-learning/main/images/10-mark-saroufim-tweet-forecasting-bs.png)\n",
        "*Beware the tutorials or trading courses which claim to use some kind of algorithm to beat the market (an open system), they're likely a scam or the creator is very lucky and hasn't yet come across a turkey problem.*\n",
        "\n",
        "Don't let these results get you down though, forecasting in a closed system (such as predicting the demand of electricity) often yields quite usable results.\n",
        "\n",
        "If anything, this module teaches anti-knowledge. Knowing that forecasting methods usually *don't* perform well in open systems.\n",
        "\n",
        "Plus, sometimes not knowing the future is a benefit. A known future is already the past.\n",
        "\n"
      ]
    }
  ],
  "metadata": {
    "accelerator": "GPU",
    "colab": {
      "authorship_tag": "ABX9TyMKHq9zYuL5lcH+aaRNPUt2",
      "collapsed_sections": [],
      "include_colab_link": true,
      "name": "10_time_series_forecasting_in_tensorflow.ipynb",
      "provenance": []
    },
    "kernelspec": {
      "display_name": "Python 3",
      "name": "python3"
    },
    "language_info": {
      "codemirror_mode": {
        "name": "ipython",
        "version": 3
      },
      "file_extension": ".py",
      "mimetype": "text/x-python",
      "name": "python",
      "nbconvert_exporter": "python",
      "pygments_lexer": "ipython3",
      "version": "3.11.5"
    }
  },
  "nbformat": 4,
  "nbformat_minor": 0
}
