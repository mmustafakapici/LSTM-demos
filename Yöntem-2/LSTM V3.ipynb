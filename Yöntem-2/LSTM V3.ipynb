{
  "cells": [
    {
      "cell_type": "code",
      "execution_count": 1,
      "metadata": {
        "colab": {
          "base_uri": "https://localhost:8080/"
        },
        "id": "qjEuJ-j7yEdK",
        "outputId": "49462ae4-592f-4240-f8a2-633308ac4022"
      },
      "outputs": [
        {
          "name": "stderr",
          "output_type": "stream",
          "text": [
            "2024-01-05 20:20:36.615271: I tensorflow/core/platform/cpu_feature_guard.cc:182] This TensorFlow binary is optimized to use available CPU instructions in performance-critical operations.\n",
            "To enable the following instructions: AVX2 FMA, in other operations, rebuild TensorFlow with the appropriate compiler flags.\n"
          ]
        }
      ],
      "source": [
        "import pandas as pd \n",
        "import numpy as np\n",
        "import matplotlib.pyplot as plt\n",
        "\n",
        "import tensorflow as tf"
      ]
    },
    {
      "cell_type": "code",
      "execution_count": 2,
      "metadata": {},
      "outputs": [],
      "source": [
        "epochs = 10 "
      ]
    },
    {
      "cell_type": "code",
      "execution_count": 3,
      "metadata": {},
      "outputs": [
        {
          "name": "stdout",
          "output_type": "stream",
          "text": [
            "[*********************100%%**********************]  1 of 1 completed\n"
          ]
        },
        {
          "data": {
            "text/html": [
              "<div>\n",
              "<style scoped>\n",
              "    .dataframe tbody tr th:only-of-type {\n",
              "        vertical-align: middle;\n",
              "    }\n",
              "\n",
              "    .dataframe tbody tr th {\n",
              "        vertical-align: top;\n",
              "    }\n",
              "\n",
              "    .dataframe thead th {\n",
              "        text-align: right;\n",
              "    }\n",
              "</style>\n",
              "<table border=\"1\" class=\"dataframe\">\n",
              "  <thead>\n",
              "    <tr style=\"text-align: right;\">\n",
              "      <th></th>\n",
              "      <th>Open</th>\n",
              "      <th>High</th>\n",
              "      <th>Low</th>\n",
              "      <th>Close</th>\n",
              "      <th>Adj Close</th>\n",
              "      <th>Volume</th>\n",
              "    </tr>\n",
              "    <tr>\n",
              "      <th>Date</th>\n",
              "      <th></th>\n",
              "      <th></th>\n",
              "      <th></th>\n",
              "      <th></th>\n",
              "      <th></th>\n",
              "      <th></th>\n",
              "    </tr>\n",
              "  </thead>\n",
              "  <tbody>\n",
              "    <tr>\n",
              "      <th>2014-09-17</th>\n",
              "      <td>465.864014</td>\n",
              "      <td>468.174011</td>\n",
              "      <td>452.421997</td>\n",
              "      <td>457.334015</td>\n",
              "      <td>457.334015</td>\n",
              "      <td>21056800</td>\n",
              "    </tr>\n",
              "    <tr>\n",
              "      <th>2014-09-18</th>\n",
              "      <td>456.859985</td>\n",
              "      <td>456.859985</td>\n",
              "      <td>413.104004</td>\n",
              "      <td>424.440002</td>\n",
              "      <td>424.440002</td>\n",
              "      <td>34483200</td>\n",
              "    </tr>\n",
              "    <tr>\n",
              "      <th>2014-09-19</th>\n",
              "      <td>424.102997</td>\n",
              "      <td>427.834991</td>\n",
              "      <td>384.532013</td>\n",
              "      <td>394.795990</td>\n",
              "      <td>394.795990</td>\n",
              "      <td>37919700</td>\n",
              "    </tr>\n",
              "    <tr>\n",
              "      <th>2014-09-20</th>\n",
              "      <td>394.673004</td>\n",
              "      <td>423.295990</td>\n",
              "      <td>389.882996</td>\n",
              "      <td>408.903992</td>\n",
              "      <td>408.903992</td>\n",
              "      <td>36863600</td>\n",
              "    </tr>\n",
              "    <tr>\n",
              "      <th>2014-09-21</th>\n",
              "      <td>408.084991</td>\n",
              "      <td>412.425995</td>\n",
              "      <td>393.181000</td>\n",
              "      <td>398.821014</td>\n",
              "      <td>398.821014</td>\n",
              "      <td>26580100</td>\n",
              "    </tr>\n",
              "  </tbody>\n",
              "</table>\n",
              "</div>"
            ],
            "text/plain": [
              "                  Open        High         Low       Close   Adj Close  \\\n",
              "Date                                                                     \n",
              "2014-09-17  465.864014  468.174011  452.421997  457.334015  457.334015   \n",
              "2014-09-18  456.859985  456.859985  413.104004  424.440002  424.440002   \n",
              "2014-09-19  424.102997  427.834991  384.532013  394.795990  394.795990   \n",
              "2014-09-20  394.673004  423.295990  389.882996  408.903992  408.903992   \n",
              "2014-09-21  408.084991  412.425995  393.181000  398.821014  398.821014   \n",
              "\n",
              "              Volume  \n",
              "Date                  \n",
              "2014-09-17  21056800  \n",
              "2014-09-18  34483200  \n",
              "2014-09-19  37919700  \n",
              "2014-09-20  36863600  \n",
              "2014-09-21  26580100  "
            ]
          },
          "execution_count": 3,
          "metadata": {},
          "output_type": "execute_result"
        }
      ],
      "source": [
        "import yfinance as yf\n",
        "\n",
        "# Download Bitcoin data from Yahoo Finance\n",
        "\n",
        "btc_data = yf.download('BTC-USD', period='3600d')  # Bitcoin verilerini yfinance ile indirme\n",
        "df = btc_data[['Open', 'High', 'Low', 'Close' , 'Adj Close', 'Volume']]  # İlgili sütunların seçilmesi\n",
        "\n",
        "df.head()  # İlk 5 satırın gösterilmesi"
      ]
    },
    {
      "cell_type": "markdown",
      "metadata": {
        "id": "EQiDyqJaCdSS"
      },
      "source": [
        "Looking good! Let's get some more info."
      ]
    },
    {
      "cell_type": "code",
      "execution_count": 4,
      "metadata": {
        "colab": {
          "base_uri": "https://localhost:8080/"
        },
        "id": "Z-YoeINjCzJ_",
        "outputId": "d4ac2c82-9f59-438a-c749-fe418b04764d"
      },
      "outputs": [
        {
          "name": "stdout",
          "output_type": "stream",
          "text": [
            "<class 'pandas.core.frame.DataFrame'>\n",
            "DatetimeIndex: 3398 entries, 2014-09-17 to 2024-01-05\n",
            "Data columns (total 6 columns):\n",
            " #   Column     Non-Null Count  Dtype  \n",
            "---  ------     --------------  -----  \n",
            " 0   Open       3398 non-null   float64\n",
            " 1   High       3398 non-null   float64\n",
            " 2   Low        3398 non-null   float64\n",
            " 3   Close      3398 non-null   float64\n",
            " 4   Adj Close  3398 non-null   float64\n",
            " 5   Volume     3398 non-null   int64  \n",
            "dtypes: float64(5), int64(1)\n",
            "memory usage: 185.8 KB\n"
          ]
        }
      ],
      "source": [
        "df.info()"
      ]
    },
    {
      "cell_type": "markdown",
      "metadata": {
        "id": "4s00kcEDCrjV"
      },
      "source": [
        "Because we told pandas to parse the date column and set it as the index, its not in the list of columns.\n",
        "\n",
        "You can also see there isn't many samples."
      ]
    },
    {
      "cell_type": "code",
      "execution_count": 5,
      "metadata": {
        "colab": {
          "base_uri": "https://localhost:8080/"
        },
        "id": "XP3cN0uvlxhi",
        "outputId": "39e39718-290e-4d99-f62a-8ec042714e65"
      },
      "outputs": [
        {
          "data": {
            "text/plain": [
              "3398"
            ]
          },
          "execution_count": 5,
          "metadata": {},
          "output_type": "execute_result"
        }
      ],
      "source": [
        "# How many samples do we have?\n",
        "len(df)"
      ]
    },
    {
      "cell_type": "code",
      "execution_count": 6,
      "metadata": {
        "colab": {
          "base_uri": "https://localhost:8080/",
          "height": 235
        },
        "id": "QxoNCv2NCuLY",
        "outputId": "0fce77d2-7d89-4c68-c26b-c7b6750efc44"
      },
      "outputs": [
        {
          "data": {
            "text/html": [
              "<div>\n",
              "<style scoped>\n",
              "    .dataframe tbody tr th:only-of-type {\n",
              "        vertical-align: middle;\n",
              "    }\n",
              "\n",
              "    .dataframe tbody tr th {\n",
              "        vertical-align: top;\n",
              "    }\n",
              "\n",
              "    .dataframe thead th {\n",
              "        text-align: right;\n",
              "    }\n",
              "</style>\n",
              "<table border=\"1\" class=\"dataframe\">\n",
              "  <thead>\n",
              "    <tr style=\"text-align: right;\">\n",
              "      <th></th>\n",
              "      <th>Price</th>\n",
              "    </tr>\n",
              "    <tr>\n",
              "      <th>Date</th>\n",
              "      <th></th>\n",
              "    </tr>\n",
              "  </thead>\n",
              "  <tbody>\n",
              "    <tr>\n",
              "      <th>2014-09-17</th>\n",
              "      <td>457.334015</td>\n",
              "    </tr>\n",
              "    <tr>\n",
              "      <th>2014-09-18</th>\n",
              "      <td>424.440002</td>\n",
              "    </tr>\n",
              "    <tr>\n",
              "      <th>2014-09-19</th>\n",
              "      <td>394.795990</td>\n",
              "    </tr>\n",
              "    <tr>\n",
              "      <th>2014-09-20</th>\n",
              "      <td>408.903992</td>\n",
              "    </tr>\n",
              "    <tr>\n",
              "      <th>2014-09-21</th>\n",
              "      <td>398.821014</td>\n",
              "    </tr>\n",
              "  </tbody>\n",
              "</table>\n",
              "</div>"
            ],
            "text/plain": [
              "                 Price\n",
              "Date                  \n",
              "2014-09-17  457.334015\n",
              "2014-09-18  424.440002\n",
              "2014-09-19  394.795990\n",
              "2014-09-20  408.903992\n",
              "2014-09-21  398.821014"
            ]
          },
          "execution_count": 6,
          "metadata": {},
          "output_type": "execute_result"
        }
      ],
      "source": [
        "import pandas as pd\n",
        "\n",
        "# Only want closing price for each day \n",
        "bitcoin_prices = pd.DataFrame(df[\"Close\"]).rename(columns={\"Close\": \"Price\"})\n",
        "bitcoin_prices.head()"
      ]
    },
    {
      "cell_type": "markdown",
      "metadata": {
        "id": "olHSR6poID_w"
      },
      "source": [
        "Much better!\n",
        "\n",
        "But that's only five days worth of Bitcoin prices, let's plot everything we've got."
      ]
    },
    {
      "cell_type": "code",
      "execution_count": 7,
      "metadata": {
        "colab": {
          "base_uri": "https://localhost:8080/",
          "height": 460
        },
        "id": "CfkhZhmCEyUe",
        "outputId": "c49b5f77-3059-416d-8a13-9ae7f2768ebf"
      },
      "outputs": [
        {
          "data": {
            "image/png": "[encoded data removed]",
            "text/plain": [
              "<Figure size 1000x700 with 1 Axes>"
            ]
          },
          "metadata": {},
          "output_type": "display_data"
        }
      ],
      "source": [
        "import matplotlib.pyplot as plt\n",
        "bitcoin_prices.plot(figsize=(10, 7))\n",
        "plt.ylabel(\"BTC Price\")\n",
        "plt.title(\"Price of Bitcoin from 1 Oct 2013 to 18 May 2021\", fontsize=16)\n",
        "plt.legend(fontsize=14);"
      ]
    },
    {
      "cell_type": "markdown",
      "metadata": {
        "id": "Wndwxoo_IZry"
      },
      "source": [
        "Woah, looks like it would've been a good idea to buy Bitcoin back in 2014."
      ]
    },
    {
      "cell_type": "code",
      "execution_count": 8,
      "metadata": {
        "colab": {
          "base_uri": "https://localhost:8080/"
        },
        "id": "UkTvwP2DCuGK",
        "outputId": "9bf2e5c1-fea5-44a2-e247-71a72645848c"
      },
      "outputs": [
        {
          "data": {
            "text/plain": [
              "([Timestamp('2014-09-17 00:00:00'),\n",
              "  Timestamp('2014-09-18 00:00:00'),\n",
              "  Timestamp('2014-09-19 00:00:00'),\n",
              "  Timestamp('2014-09-20 00:00:00'),\n",
              "  Timestamp('2014-09-21 00:00:00'),\n",
              "  Timestamp('2014-09-22 00:00:00'),\n",
              "  Timestamp('2014-09-23 00:00:00'),\n",
              "  Timestamp('2014-09-24 00:00:00'),\n",
              "  Timestamp('2014-09-25 00:00:00'),\n",
              "  Timestamp('2014-09-26 00:00:00')],\n",
              " [457.3340148925781,\n",
              "  424.44000244140625,\n",
              "  394.7959899902344,\n",
              "  408.90399169921875,\n",
              "  398.8210144042969,\n",
              "  402.1520080566406,\n",
              "  435.7909851074219,\n",
              "  423.2049865722656,\n",
              "  411.5740051269531,\n",
              "  404.42498779296875])"
            ]
          },
          "execution_count": 8,
          "metadata": {},
          "output_type": "execute_result"
        }
      ],
      "source": [
        "# Formatting historical Bitcoin data with Python\n",
        "from datetime import datetime\n",
        "\n",
        "timesteps = []\n",
        "btc_price = []\n",
        "\n",
        "\n",
        "# ilk 10 satırın gösterilmesi\n",
        "for row in df.itertuples():\n",
        "  timesteps.append(row.Index)\n",
        "  btc_price.append(row.Close)\n",
        "\n",
        "\n",
        "\n",
        "\n",
        "\n",
        "timesteps[:10], btc_price[:10]"
      ]
    },
    {
      "cell_type": "markdown",
      "metadata": {
        "id": "40o59gpNKtRs"
      },
      "source": [
        "Beautiful! Now, let's see how things look."
      ]
    },
    {
      "cell_type": "code",
      "execution_count": 9,
      "metadata": {
        "colab": {
          "base_uri": "https://localhost:8080/",
          "height": 460
        },
        "id": "bTSX7RZ9Cytj",
        "outputId": "2ed83ea1-2136-4890-93b7-f94ffdb50870"
      },
      "outputs": [
        {
          "data": {
            "image/png": "[encoded data removed]",
            "text/plain": [
              "<Figure size 1000x700 with 1 Axes>"
            ]
          },
          "metadata": {},
          "output_type": "display_data"
        }
      ],
      "source": [
        "# Plotting\n",
        "import matplotlib.pyplot as plt\n",
        "import numpy as np\n",
        "plt.figure(figsize=(10, 7))\n",
        "plt.plot(timesteps, btc_price)\n",
        "plt.title(\"Price of Bitcoin \", fontsize=16)\n",
        "plt.xlabel(\"Date\")\n",
        "plt.ylabel(\"BTC Price\");"
      ]
    },
    {
      "cell_type": "markdown",
      "metadata": {
        "id": "G12TARVyK_gN"
      },
      "source": [
        "Ho ho! Would you look at that! Just like the pandas plot. And because we formatted the `timesteps` to be `datetime` objects, `matplotlib` displays a fantastic looking date axis."
      ]
    },
    {
      "cell_type": "code",
      "execution_count": 10,
      "metadata": {},
      "outputs": [
        {
          "data": {
            "text/plain": [
              "(array(['2014-09-17T00:00:00.000000000', '2014-09-18T00:00:00.000000000',\n",
              "        '2014-09-19T00:00:00.000000000', '2014-09-20T00:00:00.000000000',\n",
              "        '2014-09-21T00:00:00.000000000', '2014-09-22T00:00:00.000000000',\n",
              "        '2014-09-23T00:00:00.000000000', '2014-09-24T00:00:00.000000000',\n",
              "        '2014-09-25T00:00:00.000000000', '2014-09-26T00:00:00.000000000'],\n",
              "       dtype='datetime64[ns]'),\n",
              " array([457.33401489, 424.44000244, 394.79598999, 408.9039917 ,\n",
              "        398.8210144 , 402.15200806, 435.79098511, 423.20498657,\n",
              "        411.57400513, 404.42498779]))"
            ]
          },
          "execution_count": 10,
          "metadata": {},
          "output_type": "execute_result"
        }
      ],
      "source": [
        "# Get bitcoin date array\n",
        "timesteps = bitcoin_prices.index.to_numpy()\n",
        "prices = bitcoin_prices[\"Price\"].to_numpy()\n",
        "\n",
        "timesteps[:10], prices[:10]"
      ]
    },
    {
      "cell_type": "markdown",
      "metadata": {
        "id": "_nfP7i9R_dOp"
      },
      "source": [
        "## Format Data Part 1: Creatining train and test sets for time series data\n",
        "\n",
        "\n",
        "\n",
        "Usually, you could create a train and test split using a function like Scikit-Learn's outstanding [`train_test_split()`](https://scikit-learn.org/stable/modules/generated/sklearn.model_selection.train_test_split.html) but as we'll see in a moment, this doesn't really cut it for time series data.\n",
        "\n",
        "But before we do create splits, it's worth talking about what *kind* of data we have.\n",
        "\n",
        "In time series problems, you'll either have **univariate** or **multivariate** data.\n",
        "\n",
        "Can you guess what our data is?\n",
        "\n",
        "* **Univariate** time series data deals with *one* variable, for example, using the price of Bitcoin to predict the price of Bitcoin.\n",
        "* **Multivariate** time series data deals with *more than one* variable, for example, predicting electricity demand using the day of week, time of year and number of houses in a region.\n",
        "\n",
        "![comparison of univariate and multivariate time series data](https://raw.githubusercontent.com/mrdbourke/tensorflow-deep-learning/main/images/10-univariate-and-multivariate-time-series-data.png)\n",
        "*Example of univariate and multivariate time series data. Univariate involves using the target to predict the target. Multivariate inolves using the target as well as another time series to predict the target.*"
      ]
    },
    {
      "cell_type": "markdown",
      "metadata": {
        "id": "ajoASBK2size"
      },
      "source": [
        "### Create train & test sets for time series (the right way)\n",
        "\n",
        "Of course, there's no way we can actually access data from the future.\n",
        "\n",
        "But we can engineer our test set to be in the future with respect to the training set.\n",
        "\n",
        "To do this, we can create an abitrary point in time to split our data.\n",
        "\n",
        "Everything before the point in time can be considered the training set and everything after the point in time can be considered the test set.\n",
        "\n",
        "![time series train test split](https://raw.githubusercontent.com/mrdbourke/tensorflow-deep-learning/main/images/10-time-series-train-test-split.png)\n",
        "*Demonstration of time series split. Rather than a traditionaly random train/test split, it's best to split the time series data sequentially. Meaning, the test data should be data from the future when compared to the training data.*"
      ]
    },
    {
      "cell_type": "code",
      "execution_count": 11,
      "metadata": {
        "colab": {
          "base_uri": "https://localhost:8080/"
        },
        "id": "lpEVKyXANLT4",
        "outputId": "94acf2dc-837b-4b73-aa37-63eefe8ffadd"
      },
      "outputs": [
        {
          "data": {
            "text/plain": [
              "(2718, 680, 2718, 680)"
            ]
          },
          "execution_count": 11,
          "metadata": {},
          "output_type": "execute_result"
        }
      ],
      "source": [
        "# Create train and test splits the right way for time series data\n",
        "split_size = int(0.8 * len(prices)) # 80% train, 20% test\n",
        "\n",
        "# Create train data splits (everything before the split)\n",
        "X_train, y_train = timesteps[:split_size], prices[:split_size]\n",
        "\n",
        "# Create test data splits (everything after the split)\n",
        "X_test, y_test = timesteps[split_size:], prices[split_size:]\n",
        "\n",
        "len(X_train), len(X_test), len(y_train), len(y_test)"
      ]
    },
    {
      "cell_type": "markdown",
      "metadata": {
        "id": "ByN_YCotv3zk"
      },
      "source": [
        "Okay, looks like our custom made splits are the same lengths as the splits we made with `train_test_split`.\n",
        "\n",
        "But again, these are numbers on a page.\n",
        "\n",
        "And you know how the saying goes, trust one eye more than two ears.\n",
        "\n",
        "Let's visualize."
      ]
    },
    {
      "cell_type": "code",
      "execution_count": 12,
      "metadata": {
        "colab": {
          "base_uri": "https://localhost:8080/",
          "height": 442
        },
        "id": "L9QImNlhOQuS",
        "outputId": "a0eae767-fea6-44df-b68c-b63baa60cc49"
      },
      "outputs": [
        {
          "data": {
            "image/png": "[encoded data removed]",
            "text/plain": [
              "<Figure size 1000x700 with 1 Axes>"
            ]
          },
          "metadata": {},
          "output_type": "display_data"
        }
      ],
      "source": [
        "# Plot correctly made splits\n",
        "plt.figure(figsize=(10, 7))\n",
        "plt.scatter(X_train, y_train, s=5, label=\"Train data\")\n",
        "plt.scatter(X_test, y_test, s=5, label=\"Test data\")\n",
        "plt.xlabel(\"Date\")\n",
        "plt.ylabel(\"BTC Price\")\n",
        "plt.legend(fontsize=14)\n",
        "plt.show();"
      ]
    },
    {
      "cell_type": "markdown",
      "metadata": {
        "id": "tmp1pSbaunlf"
      },
      "source": [
        "That looks much better!\n",
        "\n",
        "Do you see what's happened here?\n",
        "\n",
        "We're going to be using the training set (past) to train a model to try and predict values on the test set (future).\n",
        "\n",
        "Because the test set is an *artificial* future, we can guage how our model might perform on *actual* future data.\n",
        "\n",
        "> 🔑 **Note:** The amount of data you reserve for your test set not set in stone. You could have 80/20, 90/10, 95/5 splits or in some cases, you might not even have enough data to split into train and test sets (see the resource below). The point is to remember the test set is a pseudofuture and not the actual future, it is only meant to give you an indication of how the models you're building are performing. \n",
        "\n",
        "> 📖 **Resource:** Working with time series data can be tricky compared to other kinds of data. And there are a few pitfalls to watch out for, such as how much data to use for a test set. The article [*3 facts about time series forecasting that surprise experienced machine learning practitioners*](https://towardsdatascience.com/3-facts-about-time-series-forecasting-that-surprise-experienced-machine-learning-practitioners-69c18ee89387) talks about different things to watch out for when working with time series data, I'd recommend reading it.\n",
        "\n"
      ]
    },
    {
      "cell_type": "markdown",
      "metadata": {
        "id": "sGUelYVKCybB"
      },
      "source": [
        "### Create a plotting function\n",
        "\n",
        "Rather than retyping `matplotlib` commands to continuously plot data, let's make a plotting function we can reuse later."
      ]
    },
    {
      "cell_type": "code",
      "execution_count": 13,
      "metadata": {
        "id": "trkvizA0C6vc"
      },
      "outputs": [],
      "source": [
        "# Create a function to plot time series data\n",
        "def plot_time_series(timesteps, values, format='.', start=0, end=None, label=None):\n",
        "  \"\"\"\n",
        "  Plots a timesteps (a series of points in time) against values (a series of values across timesteps).\n",
        "  \n",
        "  Parameters\n",
        "  ---------\n",
        "  timesteps : array of timesteps\n",
        "  values : array of values across time\n",
        "  format : style of plot, default \".\"\n",
        "  start : where to start the plot (setting a value will index from start of timesteps & values)\n",
        "  end : where to end the plot (setting a value will index from end of timesteps & values)\n",
        "  label : label to show on plot of values\n",
        "  \"\"\"\n",
        "  # Plot the series\n",
        "  plt.plot(timesteps[start:end], values[start:end], format, label=label)\n",
        "  plt.xlabel(\"Time\")\n",
        "  plt.ylabel(\"BTC Price\")\n",
        "  if label:\n",
        "    plt.legend(fontsize=14) # make label bigger\n",
        "  plt.grid(True)"
      ]
    },
    {
      "cell_type": "code",
      "execution_count": 14,
      "metadata": {
        "colab": {
          "base_uri": "https://localhost:8080/",
          "height": 442
        },
        "id": "6TyFY1cGC_sw",
        "outputId": "41e56d50-31b2-4c88-9d78-7095f6e74dd8"
      },
      "outputs": [
        {
          "data": {
            "image/png": "[encoded data removed]",
            "text/plain": [
              "<Figure size 1000x700 with 1 Axes>"
            ]
          },
          "metadata": {},
          "output_type": "display_data"
        }
      ],
      "source": [
        "# Try out our plotting function\n",
        "plt.figure(figsize=(10, 7))\n",
        "plot_time_series(timesteps=X_train, values=y_train, label=\"Train data\")\n",
        "plot_time_series(timesteps=X_test, values=y_test, label=\"Test data\")"
      ]
    },
    {
      "cell_type": "markdown",
      "metadata": {
        "id": "SDeel1jj8ioU"
      },
      "source": [
        "Looking good!\n",
        "\n",
        "Time for some modelling experiments."
      ]
    },
    {
      "cell_type": "markdown",
      "metadata": {
        "id": "1ys3PAVUTo6q"
      },
      "source": [
        "And since TensorFlow doesn't have a ready made version of MASE (mean aboslute scaled error), how about we create our own?\n",
        "\n",
        "We'll take inspiration from [sktime](https://github.com/alan-turing-institute/sktime)'s (Scikit-Learn for time series) [`MeanAbsoluteScaledError`](https://www.sktime.org/en/stable/api_reference/auto_generated/sktime.performance_metrics.forecasting.MeanAbsoluteScaledError.html#sktime.performance_metrics.forecasting.MeanAbsoluteScaledError) class which calculates the MASE."
      ]
    },
    {
      "cell_type": "code",
      "execution_count": 15,
      "metadata": {
        "id": "2jbLBJ_IGjla"
      },
      "outputs": [],
      "source": [
        "# MASE implemented courtesy of sktime - https://github.com/alan-turing-institute/sktime/blob/ee7a06843a44f4aaec7582d847e36073a9ab0566/sktime/performance_metrics/forecasting/_functions.py#L16\n",
        "def mean_absolute_scaled_error(y_true, y_pred):\n",
        "  \"\"\"\n",
        "  Implement MASE (assuming no seasonality of data).\n",
        "  \"\"\"\n",
        "  mae = tf.reduce_mean(tf.abs(y_true - y_pred))\n",
        "\n",
        "  # Find MAE of naive forecast (no seasonality)\n",
        "  mae_naive_no_season = tf.reduce_mean(tf.abs(y_true[1:] - y_true[:-1])) # our seasonality is 1 day (hence the shifting of 1 day)\n",
        "\n",
        "  return mae / mae_naive_no_season"
      ]
    },
    {
      "cell_type": "markdown",
      "metadata": {
        "id": "yD4P7-wwUVWj"
      },
      "source": [
        "You'll notice the version of MASE above doesn't take in the training values like sktime's `mae_loss()`. In our case, we're comparing the MAE of our predictions on the test to the MAE of the naïve forecast on the test set.\n",
        "\n",
        "In practice, if we've created the function correctly, the naïve model should achieve an MASE of 1 (or very close to 1). Any model worse than the naïve forecast will achieve an MASE of >1 and any model better than the naïve forecast will achieve an MASE of <1.\n",
        "\n",
        "Let's put each of our different evaluation metrics together into a function."
      ]
    },
    {
      "cell_type": "code",
      "execution_count": 16,
      "metadata": {
        "id": "MwMeVgRXWaJp"
      },
      "outputs": [],
      "source": [
        "def evaluate_preds(y_true, y_pred):\n",
        "  # Make sure float32 (for metric calculations)\n",
        "  y_true = tf.cast(y_true, dtype=tf.float32)\n",
        "  y_pred = tf.cast(y_pred, dtype=tf.float32)\n",
        "\n",
        "  # Calculate various metrics\n",
        "  mae = tf.keras.metrics.mean_absolute_error(y_true, y_pred)\n",
        "  mse = tf.keras.metrics.mean_squared_error(y_true, y_pred) # puts and emphasis on outliers (all errors get squared)\n",
        "  rmse = tf.sqrt(mse)\n",
        "  mape = tf.keras.metrics.mean_absolute_percentage_error(y_true, y_pred)\n",
        "  mase = mean_absolute_scaled_error(y_true, y_pred)\n",
        "  \n",
        "  return {\"mae\": mae.numpy(),\n",
        "          \"mse\": mse.numpy(),\n",
        "          \"rmse\": rmse.numpy(),\n",
        "          \"mape\": mape.numpy(),\n",
        "          \"mase\": mase.numpy()}"
      ]
    },
    {
      "cell_type": "markdown",
      "metadata": {
        "id": "VAKTXEIPVKfR"
      },
      "source": [
        "Looking good! How about we test our function on the naive forecast?"
      ]
    },
    {
      "cell_type": "code",
      "execution_count": 17,
      "metadata": {
        "colab": {
          "base_uri": "https://localhost:8080/"
        },
        "id": "Yjl-X9QLVhp1",
        "outputId": "d96d84d8-af33-4574-98c6-cecba5a211a9"
      },
      "outputs": [
        {
          "data": {
            "text/plain": [
              "27630.505408432906"
            ]
          },
          "execution_count": 17,
          "metadata": {},
          "output_type": "execute_result"
        }
      ],
      "source": [
        "# Find average price of Bitcoin in test dataset\n",
        "tf.reduce_mean(y_test).numpy()"
      ]
    },
    {
      "cell_type": "markdown",
      "metadata": {
        "id": "e8AzwUvjBkgY"
      },
      "source": [
        "## Format Data Part 2: Windowing dataset\n",
        "\n",
        "Surely we'd be ready to start building models by now?\n",
        "\n",
        "We're so close! Only one more step (really two) to go.\n",
        "\n",
        "We've got to window our time series.\n",
        "\n",
        "Why do we window?\n",
        "\n",
        "Windowing is a method to turn a time series dataset into **supervised learning problem**. \n",
        "\n",
        "In other words, we want to use windows of the past to predict the future.\n",
        "\n",
        "For example for a univariate time series, windowing for one week (`window=7`) to predict the next single value (`horizon=1`) might look like:\n",
        "\n",
        "```\n",
        "Window for one week (univariate time series)\n",
        "\n",
        "[0, 1, 2, 3, 4, 5, 6] -> [7]\n",
        "[1, 2, 3, 4, 5, 6, 7] -> [8]\n",
        "[2, 3, 4, 5, 6, 7, 8] -> [9]\n",
        "```\n",
        "\n",
        "Or for the price of Bitcoin, it'd look like:\n",
        "\n",
        "```\n",
        "Window for one week with the target of predicting the next day (Bitcoin prices)\n",
        "\n",
        "[123.654, 125.455, 108.584, 118.674, 121.338, 120.655, 121.795] -> [123.033]\n",
        "[125.455, 108.584, 118.674, 121.338, 120.655, 121.795, 123.033] -> [124.049]\n",
        "[108.584, 118.674, 121.338, 120.655, 121.795, 123.033, 124.049] -> [125.961]\n",
        "```\n",
        "\n",
        "![windows and horizons for turning time series data into a supervised learning problem](https://raw.githubusercontent.com/mrdbourke/tensorflow-deep-learning/main/images/10-time-series-windows-and-horizons.png)\n",
        "*Example of windows and horizons for Bitcoin data. Windowing can be used to turn time series data into a supervised learning problem.*\n",
        "\n",
        "Let's build some functions which take in a univariate time series and turn it into windows and horizons of specified sizes.\n",
        "\n",
        "We'll start with the default horizon size of 1 and a window size of 7 (these aren't necessarily the best values to use, I've just picked them)."
      ]
    },
    {
      "cell_type": "code",
      "execution_count": 18,
      "metadata": {
        "id": "LibzWQXM2ib-"
      },
      "outputs": [],
      "source": [
        "HORIZON = 1 # predict 1 step at a time\n",
        "WINDOW_SIZE = 7 # use a week worth of timesteps to predict the horizon"
      ]
    },
    {
      "cell_type": "markdown",
      "metadata": {
        "id": "1AQ0HWWzfRW_"
      },
      "source": [
        "Now we'll write a function to take in an array and turn it into a window and horizon."
      ]
    },
    {
      "cell_type": "code",
      "execution_count": 19,
      "metadata": {
        "id": "zV8pv5K_x81E"
      },
      "outputs": [],
      "source": [
        "# Create function to label windowed data\n",
        "def get_labelled_windows(x, horizon=1):\n",
        "  \"\"\"\n",
        "  Creates labels for windowed dataset.\n",
        "\n",
        "  E.g. if horizon=1 (default)\n",
        "  Input: [1, 2, 3, 4, 5, 6] -> Output: ([1, 2, 3, 4, 5], [6])\n",
        "  \"\"\"\n",
        "  return x[:, :-horizon], x[:, -horizon:]"
      ]
    },
    {
      "cell_type": "code",
      "execution_count": 20,
      "metadata": {
        "colab": {
          "base_uri": "https://localhost:8080/"
        },
        "id": "ejJ9vCyKff8F",
        "outputId": "805b4459-9f5e-4311-9592-41efefd22546"
      },
      "outputs": [
        {
          "name": "stdout",
          "output_type": "stream",
          "text": [
            "Window: [1 2 3 4 5 6 7] -> Label: 8\n"
          ]
        }
      ],
      "source": [
        "# Test out the window labelling function\n",
        "test_window, test_label = get_labelled_windows(tf.expand_dims(tf.range(8)+1, axis=0), horizon=HORIZON)\n",
        "print(f\"Window: {tf.squeeze(test_window).numpy()} -> Label: {tf.squeeze(test_label).numpy()}\")"
      ]
    },
    {
      "cell_type": "markdown",
      "metadata": {
        "id": "qc4U4ExKfx6S"
      },
      "source": [
        "Oh yeah, that's what I'm talking about!\n",
        "\n",
        "Now we need a way to make windows for an entire time series.\n",
        "\n",
        "We could do this with Python for loops, however, for large time series, that'd be quite slow.\n",
        "\n",
        "To speed things up, we'll leverage [NumPy's array indexing](https://numpy.org/doc/stable/reference/arrays.indexing.html).\n",
        "\n",
        "Let's write a function which:\n",
        "1. Creates a window step of specific window size, for example: `[[0, 1, 2, 3, 4, 5, 6, 7]]`\n",
        "2. Uses NumPy indexing to create a 2D of multiple window steps, for example: \n",
        "```\n",
        "[[0, 1, 2, 3, 4, 5, 6, 7],\n",
        " [1, 2, 3, 4, 5, 6, 7, 8],\n",
        " [2, 3, 4, 5, 6, 7, 8, 9]]\n",
        "```\n",
        "3. Uses the 2D array of multuple window steps to index on a target series\n",
        "4. Uses the `get_labelled_windows()` function we created above to turn the window steps into windows with a specified horizon\n",
        "\n",
        "> 📖 **Resource:** The function created below has been adapted from Syafiq Kamarul Azman's article [*Fast and Robust Sliding Window Vectorization with NumPy*](https://towardsdatascience.com/fast-and-robust-sliding-window-vectorization-with-numpy-3ad950ed62f5)."
      ]
    },
    {
      "cell_type": "code",
      "execution_count": 21,
      "metadata": {
        "id": "apea0wiJyCI6"
      },
      "outputs": [],
      "source": [
        "# Create function to view NumPy arrays as windows \n",
        "def make_windows(x, window_size=7, horizon=1):\n",
        "  \"\"\"\n",
        "  Turns a 1D array into a 2D array of sequential windows of window_size.\n",
        "  \"\"\"\n",
        "  # 1. Create a window of specific window_size (add the horizon on the end for later labelling)\n",
        "  window_step = np.expand_dims(np.arange(window_size+horizon), axis=0)\n",
        "  # print(f\"Window step:\\n {window_step}\")\n",
        "\n",
        "  # 2. Create a 2D array of multiple window steps (minus 1 to account for 0 indexing)\n",
        "  window_indexes = window_step + np.expand_dims(np.arange(len(x)-(window_size+horizon-1)), axis=0).T # create 2D array of windows of size window_size\n",
        "  # print(f\"Window indexes:\\n {window_indexes[:3], window_indexes[-3:], window_indexes.shape}\")\n",
        "\n",
        "  # 3. Index on the target array (time series) with 2D array of multiple window steps\n",
        "  windowed_array = x[window_indexes]\n",
        "\n",
        "  # 4. Get the labelled windows\n",
        "  windows, labels = get_labelled_windows(windowed_array, horizon=horizon)\n",
        "\n",
        "  return windows, labels"
      ]
    },
    {
      "cell_type": "markdown",
      "metadata": {
        "id": "TYQD0PRLkMIs"
      },
      "source": [
        "Phew! A few steps there... let's see how it goes."
      ]
    },
    {
      "cell_type": "code",
      "execution_count": 22,
      "metadata": {
        "colab": {
          "base_uri": "https://localhost:8080/"
        },
        "id": "u7Yc3V7fc1UG",
        "outputId": "41dce6b2-d01b-4943-f1c8-a113c256bc2d"
      },
      "outputs": [
        {
          "data": {
            "text/plain": [
              "(3391, 3391)"
            ]
          },
          "execution_count": 22,
          "metadata": {},
          "output_type": "execute_result"
        }
      ],
      "source": [
        "full_windows, full_labels = make_windows(prices, window_size=WINDOW_SIZE, horizon=HORIZON)\n",
        "len(full_windows), len(full_labels)"
      ]
    },
    {
      "cell_type": "markdown",
      "metadata": {
        "id": "xhj521fWlJsy"
      },
      "source": [
        "Of course we have to visualize, visualize, visualize!"
      ]
    },
    {
      "cell_type": "code",
      "execution_count": 23,
      "metadata": {
        "colab": {
          "base_uri": "https://localhost:8080/"
        },
        "id": "U1P-MT4CkYta",
        "outputId": "a00a6bb8-de3e-4861-84bc-442441b09635"
      },
      "outputs": [
        {
          "name": "stdout",
          "output_type": "stream",
          "text": [
            "Window: [457.33401489 424.44000244 394.79598999 408.9039917  398.8210144\n",
            " 402.15200806 435.79098511] -> Label: [423.20498657]\n",
            "Window: [424.44000244 394.79598999 408.9039917  398.8210144  402.15200806\n",
            " 435.79098511 423.20498657] -> Label: [411.57400513]\n",
            "Window: [394.79598999 408.9039917  398.8210144  402.15200806 435.79098511\n",
            " 423.20498657 411.57400513] -> Label: [404.42498779]\n"
          ]
        }
      ],
      "source": [
        "# View the first 3 windows/labels\n",
        "for i in range(3):\n",
        "  print(f\"Window: {full_windows[i]} -> Label: {full_labels[i]}\")"
      ]
    },
    {
      "cell_type": "code",
      "execution_count": 24,
      "metadata": {
        "colab": {
          "base_uri": "https://localhost:8080/"
        },
        "id": "UCDtm6gskjRH",
        "outputId": "0d02d8c6-d0af-45b6-e98f-bbf22172f572"
      },
      "outputs": [
        {
          "name": "stdout",
          "output_type": "stream",
          "text": [
            "Window: [43442.85546875 42627.85546875 42099.40234375 42156.90234375\n",
            " 42265.1875     44167.33203125 44957.96875   ] -> Label: [42848.17578125]\n",
            "Window: [42627.85546875 42099.40234375 42156.90234375 42265.1875\n",
            " 44167.33203125 44957.96875    42848.17578125] -> Label: [44179.921875]\n",
            "Window: [42099.40234375 42156.90234375 42265.1875     44167.33203125\n",
            " 44957.96875    42848.17578125 44179.921875  ] -> Label: [43413.40234375]\n"
          ]
        }
      ],
      "source": [
        "# View the last 3 windows/labels\n",
        "for i in range(3):\n",
        "  print(f\"Window: {full_windows[i-3]} -> Label: {full_labels[i-3]}\")"
      ]
    },
    {
      "cell_type": "markdown",
      "metadata": {
        "id": "exTivzXvgbmb"
      },
      "source": [
        "> 🔑 **Note:** You can find a function which achieves similar results to the ones we implemented above at [`tf.keras.preprocessing.timeseries_dataset_from_array()`](https://www.tensorflow.org/api_docs/python/tf/keras/preprocessing/timeseries_dataset_from_array). Just like ours, it takes in an array and returns a windowed dataset. It has the benefit of returning data in the form of a tf.data.Dataset instance (we'll see how to do this with our own data later).\n",
        "\n",
        "## Turning windows into training and test sets \n",
        "\n",
        "Look how good those windows look! Almost like the stain glass windows on the Sistine Chapel, well, maybe not that good but still.\n",
        "\n",
        "Time to turn our windows into training and test splits.\n",
        "\n",
        "We could've windowed our existing training and test splits, however, with the nature of windowing (windowing often requires an offset at some point in the data), it usually works better to window the data first, then split it into training and test sets.\n",
        "\n",
        "Let's write a function which takes in full sets of windows and their labels and splits them into train and test splits."
      ]
    },
    {
      "cell_type": "code",
      "execution_count": 25,
      "metadata": {
        "id": "o_8BRgb8YtP3"
      },
      "outputs": [],
      "source": [
        "# Make the train/test splits\n",
        "def make_train_test_splits(windows, labels, test_split=0.2):\n",
        "  \"\"\"\n",
        "  Splits matching pairs of windows and labels into train and test splits.\n",
        "  \"\"\"\n",
        "  split_size = int(len(windows) * (1-test_split)) # this will default to 80% train/20% test\n",
        "  train_windows = windows[:split_size]\n",
        "  train_labels = labels[:split_size]\n",
        "  test_windows = windows[split_size:]\n",
        "  test_labels = labels[split_size:]\n",
        "  return train_windows, test_windows, train_labels, test_labels"
      ]
    },
    {
      "cell_type": "markdown",
      "metadata": {
        "id": "_062e8Oec9cf"
      },
      "source": [
        "Look at that amazing function, lets test it."
      ]
    },
    {
      "cell_type": "code",
      "execution_count": 26,
      "metadata": {
        "colab": {
          "base_uri": "https://localhost:8080/"
        },
        "id": "z_xY8T7HEaoU",
        "outputId": "d31a4535-f5b7-4ee6-92bd-a056a0101794"
      },
      "outputs": [
        {
          "data": {
            "text/plain": [
              "(2712, 679, 2712, 679)"
            ]
          },
          "execution_count": 26,
          "metadata": {},
          "output_type": "execute_result"
        }
      ],
      "source": [
        "train_windows, test_windows, train_labels, test_labels = make_train_test_splits(full_windows, full_labels)\n",
        "len(train_windows), len(test_windows), len(train_labels), len(test_labels)"
      ]
    },
    {
      "cell_type": "markdown",
      "metadata": {
        "id": "75_YBwiedI2s"
      },
      "source": [
        "Notice the default split of 80% training data and 20% testing data (this split can be adjusted if needed).\n",
        "\n",
        "How do the first 5 samples of the training windows and labels looks?"
      ]
    },
    {
      "cell_type": "code",
      "execution_count": 27,
      "metadata": {
        "colab": {
          "base_uri": "https://localhost:8080/"
        },
        "id": "DDgyT7Gix1fH",
        "outputId": "ca96d4e6-56f0-4355-d2bb-6ad981fc3dae"
      },
      "outputs": [
        {
          "data": {
            "text/plain": [
              "(array([[457.33401489, 424.44000244, 394.79598999, 408.9039917 ,\n",
              "         398.8210144 , 402.15200806, 435.79098511],\n",
              "        [424.44000244, 394.79598999, 408.9039917 , 398.8210144 ,\n",
              "         402.15200806, 435.79098511, 423.20498657],\n",
              "        [394.79598999, 408.9039917 , 398.8210144 , 402.15200806,\n",
              "         435.79098511, 423.20498657, 411.57400513],\n",
              "        [408.9039917 , 398.8210144 , 402.15200806, 435.79098511,\n",
              "         423.20498657, 411.57400513, 404.42498779],\n",
              "        [398.8210144 , 402.15200806, 435.79098511, 423.20498657,\n",
              "         411.57400513, 404.42498779, 399.51998901]]),\n",
              " array([[423.20498657],\n",
              "        [411.57400513],\n",
              "        [404.42498779],\n",
              "        [399.51998901],\n",
              "        [377.18099976]]))"
            ]
          },
          "execution_count": 27,
          "metadata": {},
          "output_type": "execute_result"
        }
      ],
      "source": [
        "train_windows[:5], train_labels[:5]"
      ]
    },
    {
      "cell_type": "code",
      "execution_count": 28,
      "metadata": {
        "colab": {
          "base_uri": "https://localhost:8080/"
        },
        "id": "TkF0HmvadHBB",
        "outputId": "a257bf12-cd34-4843-e517-fc6863fcdd15"
      },
      "outputs": [
        {
          "data": {
            "text/plain": [
              "False"
            ]
          },
          "execution_count": 28,
          "metadata": {},
          "output_type": "execute_result"
        }
      ],
      "source": [
        "# Check to see if same (accounting for horizon and window size)\n",
        "np.array_equal(np.squeeze(train_labels[:-HORIZON-1]), y_train[WINDOW_SIZE:])"
      ]
    },
    {
      "cell_type": "markdown",
      "metadata": {
        "id": "PQX0PF5jV4aq"
      },
      "source": [
        "## Make a modelling checkpoint\n",
        "\n",
        "We're so close to building models. So so so close.\n",
        "\n",
        "Because our model's performance will fluctuate from experiment to experiment, we'll want to make sure we're comparing apples to apples.\n",
        "\n",
        "What I mean by this is in order for a fair comparison, we want to compare each model's best performance against each model's best performance.\n",
        "\n",
        "For example, if `model_1` performed incredibly well on epoch 55 but its performance fell off toward epoch 100, we want the version of the model from epoch 55 to compare to other models rather than the version of the model from epoch 100.\n",
        "\n",
        "And the same goes for each of our other models: compare the best against the best.\n",
        "\n",
        "To take of this, we'll implement a [`ModelCheckpoint`](https://www.tensorflow.org/api_docs/python/tf/keras/callbacks/ModelCheckpoint) callback.\n",
        "\n",
        "The `ModelCheckpoint` callback will monitor our model's performance during training and save the best model to file by setting `save_best_only=True`.\n",
        "\n",
        "That way when evaluating our model we could restore its best performing configuration from file.\n",
        "\n",
        "> 🔑 **Note:** Because of the size of the dataset (smaller than usual), you'll notice our modelling experiment results fluctuate quite a bit during training (hence the implementation of the `ModelCheckpoint` callback to save the best model).\n",
        "\n",
        "Because we're going to be running multiple experiments, it makes sense to keep track of them by saving models to file under different names.\n",
        "\n",
        "To do this, we'll write a small function to create a `ModelCheckpoint` callback which saves a model to specified filename."
      ]
    },
    {
      "cell_type": "code",
      "execution_count": 29,
      "metadata": {
        "id": "Xh8i1f7rV_P2"
      },
      "outputs": [],
      "source": [
        "import os\n",
        "\n",
        "# Create a function to implement a ModelCheckpoint callback with a specific filename \n",
        "def create_model_checkpoint(model_name, save_path=\"model_experiments\"):\n",
        "  return tf.keras.callbacks.ModelCheckpoint(filepath=os.path.join(save_path, model_name), # create filepath to save model\n",
        "                                            verbose=0, # only output a limited amount of text\n",
        "                                            save_best_only=True) # save only the best model to file"
      ]
    },
    {
      "cell_type": "markdown",
      "metadata": {
        "id": "j5uw1AaVY-J9"
      },
      "source": [
        "## Model 1: Dense model (window = 7, horizon = 1)\n",
        "\n",
        "Finally!\n",
        "\n",
        "Time to build one of our models.\n",
        "\n",
        "If you think we've been through a fair bit of preprocessing before getting here, you're right.\n",
        "\n",
        "Often, preparing data for a model is one of the largest parts of any machine learning project.\n",
        "\n",
        "And once you've got a good model in place, you'll probably notice far more improvements from manipulating the data (e.g. collecting more, improving the quality) than manipulating the model.\n",
        "\n",
        "We're going to start by keeping it simple, `model_1` will have:\n",
        "* A single dense layer with 128 hidden units and ReLU (rectified linear unit) activation\n",
        "* An output layer with linear activation (or no activation)\n",
        "* Adam optimizer and MAE loss function\n",
        "* Batch size of 128\n",
        "* 100 epochs\n",
        "\n",
        "Why these values?\n",
        "\n",
        "I picked them out of experimentation. \n",
        "\n",
        "A batch size of 32 works pretty well too and we could always train for less epochs but since the model runs so fast (you'll see in a second, it's because the number of samples we have isn't massive) we might as well train for more.\n",
        "\n",
        "> 🔑 **Note:** As always, many of the values for machine learning problems are experimental. A reminder that the values you can set yourself in a machine learning algorithm (the hidden units, the batch size, horizon size, window size) are called [**hyperparameters**](https://en.wikipedia.org/wiki/Hyperparameter_(machine_learning). And experimenting to find the best values for hyperparameters is called **hyperparameter tuning**. Where as parameters learned by a model itself (patterns in the data, formally called weights & biases) are referred to as **parameters**.\n",
        "\n",
        "Let's import TensorFlow and build our first deep learning model for time series."
      ]
    },
    {
      "cell_type": "code",
      "execution_count": 30,
      "metadata": {
        "colab": {
          "base_uri": "https://localhost:8080/"
        },
        "id": "Slr5hrJHY_Ed",
        "outputId": "95b645ae-d08a-4794-a3e6-db8d1e1e3c67"
      },
      "outputs": [
        {
          "name": "stdout",
          "output_type": "stream",
          "text": [
            "Epoch 1/10\n",
            " 1/22 [>.............................] - ETA: 12s - loss: 14099.2910 - mae: 14099.2910INFO:tensorflow:Assets written to: model_experiments/model_1_dense/assets\n"
          ]
        },
        {
          "name": "stderr",
          "output_type": "stream",
          "text": [
            "INFO:tensorflow:Assets written to: model_experiments/model_1_dense/assets\n"
          ]
        },
        {
          "name": "stdout",
          "output_type": "stream",
          "text": [
            "22/22 [==============================] - 1s 26ms/step - loss: 10553.1357 - mae: 10553.1357 - val_loss: 4838.4683 - val_mae: 4838.4683\n",
            "Epoch 2/10\n",
            " 1/22 [>.............................] - ETA: 0s - loss: 2113.9971 - mae: 2113.9971INFO:tensorflow:Assets written to: model_experiments/model_1_dense/assets\n"
          ]
        },
        {
          "name": "stderr",
          "output_type": "stream",
          "text": [
            "INFO:tensorflow:Assets written to: model_experiments/model_1_dense/assets\n"
          ]
        },
        {
          "name": "stdout",
          "output_type": "stream",
          "text": [
            "22/22 [==============================] - 0s 13ms/step - loss: 1220.1038 - mae: 1220.1038 - val_loss: 1968.3737 - val_mae: 1968.3737\n",
            "Epoch 3/10\n",
            " 1/22 [>.............................] - ETA: 0s - loss: 820.9976 - mae: 820.9976INFO:tensorflow:Assets written to: model_experiments/model_1_dense/assets\n"
          ]
        },
        {
          "name": "stderr",
          "output_type": "stream",
          "text": [
            "INFO:tensorflow:Assets written to: model_experiments/model_1_dense/assets\n"
          ]
        },
        {
          "name": "stdout",
          "output_type": "stream",
          "text": [
            "22/22 [==============================] - 0s 13ms/step - loss: 644.7603 - mae: 644.7603 - val_loss: 919.8962 - val_mae: 919.8962\n",
            "Epoch 4/10\n",
            "22/22 [==============================] - 0s 2ms/step - loss: 562.7791 - mae: 562.7791 - val_loss: 979.5381 - val_mae: 979.5381\n",
            "Epoch 5/10\n",
            " 1/22 [>.............................] - ETA: 0s - loss: 664.4972 - mae: 664.4972INFO:tensorflow:Assets written to: model_experiments/model_1_dense/assets\n"
          ]
        },
        {
          "name": "stderr",
          "output_type": "stream",
          "text": [
            "INFO:tensorflow:Assets written to: model_experiments/model_1_dense/assets\n"
          ]
        },
        {
          "name": "stdout",
          "output_type": "stream",
          "text": [
            "22/22 [==============================] - 0s 14ms/step - loss: 546.0077 - mae: 546.0077 - val_loss: 840.8304 - val_mae: 840.8304\n",
            "Epoch 6/10\n",
            " 1/22 [>.............................] - ETA: 0s - loss: 365.8801 - mae: 365.8801INFO:tensorflow:Assets written to: model_experiments/model_1_dense/assets\n"
          ]
        },
        {
          "name": "stderr",
          "output_type": "stream",
          "text": [
            "INFO:tensorflow:Assets written to: model_experiments/model_1_dense/assets\n"
          ]
        },
        {
          "name": "stdout",
          "output_type": "stream",
          "text": [
            "22/22 [==============================] - 0s 14ms/step - loss: 507.7801 - mae: 507.7801 - val_loss: 761.1916 - val_mae: 761.1916\n",
            "Epoch 7/10\n",
            " 1/22 [>.............................] - ETA: 0s - loss: 515.1293 - mae: 515.1293INFO:tensorflow:Assets written to: model_experiments/model_1_dense/assets\n"
          ]
        },
        {
          "name": "stderr",
          "output_type": "stream",
          "text": [
            "INFO:tensorflow:Assets written to: model_experiments/model_1_dense/assets\n"
          ]
        },
        {
          "name": "stdout",
          "output_type": "stream",
          "text": [
            "22/22 [==============================] - 0s 13ms/step - loss: 487.3101 - mae: 487.3101 - val_loss: 741.6421 - val_mae: 741.6421\n",
            "Epoch 8/10\n",
            "22/22 [==============================] - 0s 2ms/step - loss: 480.0519 - mae: 480.0519 - val_loss: 771.3146 - val_mae: 771.3146\n",
            "Epoch 9/10\n",
            "22/22 [==============================] - 0s 2ms/step - loss: 472.5559 - mae: 472.5559 - val_loss: 760.8110 - val_mae: 760.8110\n",
            "Epoch 10/10\n",
            " 1/22 [>.............................] - ETA: 0s - loss: 308.0720 - mae: 308.0720INFO:tensorflow:Assets written to: model_experiments/model_1_dense/assets\n"
          ]
        },
        {
          "name": "stderr",
          "output_type": "stream",
          "text": [
            "INFO:tensorflow:Assets written to: model_experiments/model_1_dense/assets\n"
          ]
        },
        {
          "name": "stdout",
          "output_type": "stream",
          "text": [
            "22/22 [==============================] - 0s 13ms/step - loss: 458.4180 - mae: 458.4180 - val_loss: 684.6946 - val_mae: 684.6946\n"
          ]
        },
        {
          "data": {
            "text/plain": [
              "<keras.src.callbacks.History at 0x14fba9450>"
            ]
          },
          "execution_count": 30,
          "metadata": {},
          "output_type": "execute_result"
        }
      ],
      "source": [
        "import tensorflow as tf\n",
        "from tensorflow.keras import layers\n",
        "\n",
        "# Set random seed for as reproducible results as possible\n",
        "tf.random.set_seed(42)\n",
        "\n",
        "# Construct model\n",
        "model_1 = tf.keras.Sequential([\n",
        "  layers.Dense(128, activation=\"relu\"),\n",
        "  layers.Dense(HORIZON, activation=\"linear\") # linear activation is the same as having no activation                        \n",
        "], name=\"model_1_dense\") # give the model a name so we can save it\n",
        "\n",
        "# Compile model\n",
        "model_1.compile(loss=\"mae\",\n",
        "                optimizer=tf.keras.optimizers.Adam(),\n",
        "                metrics=[\"mae\"]) # we don't necessarily need this when the loss function is already MAE\n",
        "\n",
        "# Fit model\n",
        "model_1.fit(x=train_windows, # train windows of 7 timesteps of Bitcoin prices\n",
        "            y=train_labels, # horizon value of 1 (using the previous 7 timesteps to predict next day)\n",
        "            epochs=epochs,\n",
        "            verbose=1,\n",
        "            batch_size=128,\n",
        "            validation_data=(test_windows, test_labels),\n",
        "            callbacks=[create_model_checkpoint(model_name=model_1.name)]) # create ModelCheckpoint callback to save best model"
      ]
    },
    {
      "cell_type": "markdown",
      "metadata": {
        "id": "ZRrvDINUooJO"
      },
      "source": [
        "Because of the small size of our data (less than 3000 total samples), the model trains very fast.\n",
        "\n",
        "Let's evaluate it."
      ]
    },
    {
      "cell_type": "code",
      "execution_count": 31,
      "metadata": {
        "colab": {
          "base_uri": "https://localhost:8080/"
        },
        "id": "N1DbcEZBY_Bt",
        "outputId": "2d353c8c-075c-4149-bd68-9fb6b25a44d4"
      },
      "outputs": [
        {
          "name": "stdout",
          "output_type": "stream",
          "text": [
            "22/22 [==============================] - 0s 998us/step - loss: 684.6945 - mae: 684.6945\n"
          ]
        },
        {
          "data": {
            "text/plain": [
              "[684.6945190429688, 684.6945190429688]"
            ]
          },
          "execution_count": 31,
          "metadata": {},
          "output_type": "execute_result"
        }
      ],
      "source": [
        "# Evaluate model on test data\n",
        "model_1.evaluate(test_windows, test_labels)"
      ]
    },
    {
      "cell_type": "markdown",
      "metadata": {
        "id": "zwaUv85oox2F"
      },
      "source": [
        "You'll notice the model achieves the same `val_loss` (in this case, this is MAE) as the last epoch.\n",
        "\n",
        "But if we load in the version of `model_1` which was saved to file using the `ModelCheckpoint` callback, we should see an improvement in results."
      ]
    },
    {
      "cell_type": "code",
      "execution_count": 32,
      "metadata": {
        "colab": {
          "base_uri": "https://localhost:8080/"
        },
        "id": "FXey-AX-XZPK",
        "outputId": "98d82f0b-ce9e-4326-f456-f1e49f5e8483"
      },
      "outputs": [
        {
          "name": "stdout",
          "output_type": "stream",
          "text": [
            "22/22 [==============================] - 0s 991us/step - loss: 684.6945 - mae: 684.6945\n"
          ]
        },
        {
          "data": {
            "text/plain": [
              "[684.6945190429688, 684.6945190429688]"
            ]
          },
          "execution_count": 32,
          "metadata": {},
          "output_type": "execute_result"
        }
      ],
      "source": [
        "# Load in saved best performing model_1 and evaluate on test data\n",
        "model_1 = tf.keras.models.load_model(\"model_experiments/model_1_dense\")\n",
        "model_1.evaluate(test_windows, test_labels)"
      ]
    },
    {
      "cell_type": "markdown",
      "metadata": {
        "id": "YvVtmLRdpcyH"
      },
      "source": [
        "Much better! Due to the fluctuating performance of the model during training, loading back in the best performing model see's a sizeable improvement in MAE."
      ]
    },
    {
      "cell_type": "markdown",
      "metadata": {
        "id": "-HfeTX5KhYin"
      },
      "source": [
        "## Making forecasts with a model (on the test dataset)\n",
        "\n",
        "We've trained a model and evaluated the it on the test data, but the project we're working on is called BitPredict 💰📈 so how do you think we could use our model to make predictions?\n",
        "\n",
        "Since we're going to be running more modelling experiments, let's write a function which: \n",
        "1. Takes in a trained model (just like `model_1`)\n",
        "2. Takes in some input data (just like the data the model was trained on) \n",
        "3. Passes the input data to the model's `predict()` method\n",
        "4. Returns the predictions\n",
        "\n"
      ]
    },
    {
      "cell_type": "code",
      "execution_count": 33,
      "metadata": {
        "id": "hZrExWzyh3ur"
      },
      "outputs": [],
      "source": [
        "def make_preds(model, input_data):\n",
        "  \"\"\"\n",
        "  Uses model to make predictions on input_data.\n",
        "\n",
        "  Parameters\n",
        "  ----------\n",
        "  model: trained model \n",
        "  input_data: windowed input data (same kind of data model was trained on)\n",
        "\n",
        "  Returns model predictions on input_data.\n",
        "  \"\"\"\n",
        "  forecast = model.predict(input_data)\n",
        "  return tf.squeeze(forecast) # return 1D array of predictions"
      ]
    },
    {
      "cell_type": "markdown",
      "metadata": {
        "id": "vcsoVIrGvrDd"
      },
      "source": [
        "Nice! \n",
        "\n",
        "Now let's use our `make_preds()` and see how it goes.\n",
        "\n"
      ]
    },
    {
      "cell_type": "code",
      "execution_count": 34,
      "metadata": {
        "colab": {
          "base_uri": "https://localhost:8080/"
        },
        "id": "u1aAKQp6vapw",
        "outputId": "0e3faaae-e3fb-4196-9139-c6c5f5efb9a1"
      },
      "outputs": [
        {
          "name": "stdout",
          "output_type": "stream",
          "text": [
            "22/22 [==============================] - 0s 884us/step\n"
          ]
        },
        {
          "data": {
            "text/plain": [
              "(679,\n",
              " <tf.Tensor: shape=(10,), dtype=float32, numpy=\n",
              " array([38142.848, 38429.066, 38540.258, 40160.465, 41277.098, 42976.934,\n",
              "        43218.29 , 41444.402, 41189.656, 39408.613], dtype=float32)>)"
            ]
          },
          "execution_count": 34,
          "metadata": {},
          "output_type": "execute_result"
        }
      ],
      "source": [
        "# Make predictions using model_1 on the test dataset and view the results\n",
        "model_1_preds = make_preds(model_1, test_windows)\n",
        "len(model_1_preds), model_1_preds[:10]"
      ]
    },
    {
      "cell_type": "markdown",
      "metadata": {
        "id": "q5Ra13OrwIOf"
      },
      "source": [
        "> 🔑 **Note:** With these outputs, our model isn't *forecasting* yet. It's only making predictions on the test dataset. Forecasting would involve a model making predictions into the future, however, the test dataset is only a pseudofuture.\n",
        "\n",
        "Excellent! Now we've got some prediction values, let's use the `evaluate_preds()` we created before to compare them to the ground truth."
      ]
    },
    {
      "cell_type": "code",
      "execution_count": 35,
      "metadata": {
        "colab": {
          "base_uri": "https://localhost:8080/"
        },
        "id": "eHak7Jqd9aXv",
        "outputId": "6969b6f5-1922-46c4-934d-48a24c452807"
      },
      "outputs": [
        {
          "data": {
            "text/plain": [
              "{'mae': 684.6945,\n",
              " 'mse': 1064877.4,\n",
              " 'rmse': 1031.929,\n",
              " 'mape': 2.4816082,\n",
              " 'mase': 1.3086444}"
            ]
          },
          "execution_count": 35,
          "metadata": {},
          "output_type": "execute_result"
        }
      ],
      "source": [
        "# Evaluate preds\n",
        "model_1_results = evaluate_preds(y_true=tf.squeeze(test_labels), # reduce to right shape\n",
        "                                 y_pred=model_1_preds)\n",
        "model_1_results"
      ]
    },
    {
      "cell_type": "code",
      "execution_count": 36,
      "metadata": {
        "colab": {
          "base_uri": "https://localhost:8080/",
          "height": 442
        },
        "id": "Wgxoqg_tIhFJ",
        "outputId": "018c00f6-e663-49d6-d046-177e200ccbfb"
      },
      "outputs": [
        {
          "data": {
            "image/png": "[encoded data removed]",
            "text/plain": [
              "<Figure size 1000x700 with 1 Axes>"
            ]
          },
          "metadata": {},
          "output_type": "display_data"
        }
      ],
      "source": [
        "offset = 300\n",
        "plt.figure(figsize=(10, 7))\n",
        "# Account for the test_window offset and index into test_labels to ensure correct plotting\n",
        "plot_time_series(timesteps=X_test[-len(test_windows):], values=test_labels[:, 0], start=offset, label=\"Test_data\")\n",
        "plot_time_series(timesteps=X_test[-len(test_windows):], values=model_1_preds, start=offset, format=\"-\", label=\"model_1_preds\")"
      ]
    },
    {
      "cell_type": "markdown",
      "metadata": {
        "id": "fr18ffVq4i6m"
      },
      "source": [
        "## Model 2: Dense (window = 30, horizon = 1)\n",
        "\n",
        "A naïve model is currently beating our handcrafted deep learning model. \n",
        "\n",
        "We can't let this happen.\n",
        "\n",
        "Let's continue our modelling experiments.\n",
        "\n",
        "We'll keep the previous model architecture but use a window size of 30.\n",
        "\n",
        "In other words, we'll use the previous 30 days of Bitcoin prices to try and predict the next day price.\n",
        "\n",
        "![bitcoin prices windowed for 30 days to predict a horizon of 1 day](https://raw.githubusercontent.com/mrdbourke/tensorflow-deep-learning/main/images/10-bitcoin-price-window-for-one-month.png)\n",
        "*Example of Bitcoin prices windowed for 30 days to predict a horizon of 1.*\n",
        "\n",
        "> 🔑 **Note:** Recall from before, the window size (how many timesteps to use to fuel a forecast) and the horizon (how many timesteps to predict into the future) are **hyperparameters**. This means you can tune them to try and find values will result in better performance.\n",
        "\n",
        "We'll start our second modelling experiment by preparing datasets using the functions we created earlier."
      ]
    },
    {
      "cell_type": "code",
      "execution_count": 37,
      "metadata": {
        "id": "Vz0eMi7F4wpn"
      },
      "outputs": [],
      "source": [
        "HORIZON = 1 # predict one step at a time\n",
        "WINDOW_SIZE = 30 # use 30 timesteps in the past"
      ]
    },
    {
      "cell_type": "code",
      "execution_count": 38,
      "metadata": {
        "colab": {
          "base_uri": "https://localhost:8080/"
        },
        "id": "1HlYaAxr6UoC",
        "outputId": "7fdc8064-6fe8-4739-919d-dc0c06de8666"
      },
      "outputs": [
        {
          "data": {
            "text/plain": [
              "(3368, 3368)"
            ]
          },
          "execution_count": 38,
          "metadata": {},
          "output_type": "execute_result"
        }
      ],
      "source": [
        "# Make windowed data with appropriate horizon and window sizes\n",
        "full_windows, full_labels = make_windows(prices, window_size=WINDOW_SIZE, horizon=HORIZON)\n",
        "len(full_windows), len(full_labels)"
      ]
    },
    {
      "cell_type": "code",
      "execution_count": 39,
      "metadata": {
        "colab": {
          "base_uri": "https://localhost:8080/"
        },
        "id": "jWxYZtOuelzO",
        "outputId": "14a862eb-c90e-4905-fbae-640d890059b7"
      },
      "outputs": [
        {
          "data": {
            "text/plain": [
              "(2694, 674, 2694, 674)"
            ]
          },
          "execution_count": 39,
          "metadata": {},
          "output_type": "execute_result"
        }
      ],
      "source": [
        "# Make train and testing windows\n",
        "train_windows, test_windows, train_labels, test_labels = make_train_test_splits(windows=full_windows, labels=full_labels)\n",
        "len(train_windows), len(test_windows), len(train_labels), len(test_labels)"
      ]
    },
    {
      "cell_type": "markdown",
      "metadata": {
        "id": "2xikvf8N0_dU"
      },
      "source": [
        "Data prepared!\n",
        "\n",
        "Now let's construct `model_2`, a model with the same architecture as `model_1` as well as the same training routine."
      ]
    },
    {
      "cell_type": "code",
      "execution_count": 40,
      "metadata": {
        "colab": {
          "base_uri": "https://localhost:8080/"
        },
        "id": "b_oz5aJE6UwN",
        "outputId": "e9f156de-6b38-44b4-e319-0d5d1be0ffa4"
      },
      "outputs": [
        {
          "name": "stdout",
          "output_type": "stream",
          "text": [
            "INFO:tensorflow:Assets written to: model_experiments/model_2_dense/assets\n"
          ]
        },
        {
          "name": "stderr",
          "output_type": "stream",
          "text": [
            "INFO:tensorflow:Assets written to: model_experiments/model_2_dense/assets\n"
          ]
        },
        {
          "name": "stdout",
          "output_type": "stream",
          "text": [
            "INFO:tensorflow:Assets written to: model_experiments/model_2_dense/assets\n"
          ]
        },
        {
          "name": "stderr",
          "output_type": "stream",
          "text": [
            "INFO:tensorflow:Assets written to: model_experiments/model_2_dense/assets\n"
          ]
        },
        {
          "name": "stdout",
          "output_type": "stream",
          "text": [
            "INFO:tensorflow:Assets written to: model_experiments/model_2_dense/assets\n"
          ]
        },
        {
          "name": "stderr",
          "output_type": "stream",
          "text": [
            "INFO:tensorflow:Assets written to: model_experiments/model_2_dense/assets\n"
          ]
        },
        {
          "name": "stdout",
          "output_type": "stream",
          "text": [
            "INFO:tensorflow:Assets written to: model_experiments/model_2_dense/assets\n"
          ]
        },
        {
          "name": "stderr",
          "output_type": "stream",
          "text": [
            "INFO:tensorflow:Assets written to: model_experiments/model_2_dense/assets\n"
          ]
        },
        {
          "name": "stdout",
          "output_type": "stream",
          "text": [
            "INFO:tensorflow:Assets written to: model_experiments/model_2_dense/assets\n"
          ]
        },
        {
          "name": "stderr",
          "output_type": "stream",
          "text": [
            "INFO:tensorflow:Assets written to: model_experiments/model_2_dense/assets\n"
          ]
        },
        {
          "data": {
            "text/plain": [
              "<keras.src.callbacks.History at 0x1505ee590>"
            ]
          },
          "execution_count": 40,
          "metadata": {},
          "output_type": "execute_result"
        }
      ],
      "source": [
        "tf.random.set_seed(42)\n",
        "\n",
        "# Create model (same model as model 1 but data input will be different)\n",
        "model_2 = tf.keras.Sequential([\n",
        "  layers.Dense(128, activation=\"relu\"),\n",
        "  layers.Dense(HORIZON) # need to predict horizon number of steps into the future\n",
        "], name=\"model_2_dense\")\n",
        "\n",
        "model_2.compile(loss=\"mae\",\n",
        "                optimizer=tf.keras.optimizers.Adam())\n",
        "\n",
        "model_2.fit(train_windows,\n",
        "            train_labels,\n",
        "            epochs=epochs,\n",
        "            batch_size=128,\n",
        "            verbose=0,\n",
        "            validation_data=(test_windows, test_labels),\n",
        "            callbacks=[create_model_checkpoint(model_name=model_2.name)])"
      ]
    },
    {
      "cell_type": "markdown",
      "metadata": {
        "id": "0oYd2nt51Ppj"
      },
      "source": [
        "Once again, training goes nice and fast.\n",
        "\n",
        "Let's evaluate our model's performance."
      ]
    },
    {
      "cell_type": "code",
      "execution_count": 41,
      "metadata": {
        "colab": {
          "base_uri": "https://localhost:8080/"
        },
        "id": "W42Fa-aO8rhg",
        "outputId": "06a8f364-fc40-4216-aa7f-913c2689e589"
      },
      "outputs": [
        {
          "name": "stdout",
          "output_type": "stream",
          "text": [
            "22/22 [==============================] - 0s 896us/step - loss: 1698.5497\n"
          ]
        },
        {
          "data": {
            "text/plain": [
              "1698.5496826171875"
            ]
          },
          "execution_count": 41,
          "metadata": {},
          "output_type": "execute_result"
        }
      ],
      "source": [
        "# Evaluate model 2 preds\n",
        "model_2.evaluate(test_windows, test_labels)"
      ]
    },
    {
      "cell_type": "markdown",
      "metadata": {
        "id": "W1P2DRrA1VlP"
      },
      "source": [
        "Hmmm... is that the best it did?\n",
        "\n",
        "How about we try loading in the best performing `model_2` which was saved to file thanks to our `ModelCheckpoint` callback."
      ]
    },
    {
      "cell_type": "code",
      "execution_count": 42,
      "metadata": {
        "colab": {
          "base_uri": "https://localhost:8080/"
        },
        "id": "c_hG89F5YV4i",
        "outputId": "027e0c90-f19f-4478-f633-1a541ca73e39"
      },
      "outputs": [
        {
          "name": "stdout",
          "output_type": "stream",
          "text": [
            "22/22 [==============================] - 0s 934us/step - loss: 860.8613\n"
          ]
        },
        {
          "data": {
            "text/plain": [
              "860.8612670898438"
            ]
          },
          "execution_count": 42,
          "metadata": {},
          "output_type": "execute_result"
        }
      ],
      "source": [
        "# Load in best performing model\n",
        "model_2 = tf.keras.models.load_model(\"model_experiments/model_2_dense/\")\n",
        "model_2.evaluate(test_windows, test_labels)"
      ]
    },
    {
      "cell_type": "markdown",
      "metadata": {
        "id": "jGh8gRhU1kaj"
      },
      "source": [
        "Excellent! Loading back in the best performing model see's a performance boost.\n",
        "\n",
        "But let's not stop there, let's make some predictions with `model_2` and then evaluate them just as we did before."
      ]
    },
    {
      "cell_type": "code",
      "execution_count": 43,
      "metadata": {
        "id": "TPfvPgkUknY5"
      },
      "outputs": [
        {
          "name": "stdout",
          "output_type": "stream",
          "text": [
            "22/22 [==============================] - 0s 897us/step\n"
          ]
        }
      ],
      "source": [
        "# Get forecast predictions\n",
        "model_2_preds = make_preds(model_2,\n",
        "                           input_data=test_windows)"
      ]
    },
    {
      "cell_type": "code",
      "execution_count": 44,
      "metadata": {
        "colab": {
          "base_uri": "https://localhost:8080/"
        },
        "id": "dy7XZx7FllHX",
        "outputId": "f08daef8-841a-4c58-c8a6-da36b98ff47a"
      },
      "outputs": [
        {
          "data": {
            "text/plain": [
              "{'mae': 860.8614,\n",
              " 'mse': 1494389.8,\n",
              " 'rmse': 1222.4524,\n",
              " 'mape': 3.2058294,\n",
              " 'mase': 1.6803135}"
            ]
          },
          "execution_count": 44,
          "metadata": {},
          "output_type": "execute_result"
        }
      ],
      "source": [
        "# Evaluate results for model 2 predictions\n",
        "model_2_results = evaluate_preds(y_true=tf.squeeze(test_labels), # remove 1 dimension of test labels\n",
        "                                 y_pred=model_2_preds)\n",
        "model_2_results"
      ]
    },
    {
      "cell_type": "markdown",
      "metadata": {
        "id": "a8djCXli1wGy"
      },
      "source": [
        "It looks like `model_2` performs worse than the naïve model as well as `model_1`!\n",
        "\n",
        "Does this mean a smaller window size is better? (I'll leave this as a challenge you can experiment with)\n",
        "\n",
        "How do the predictions look?"
      ]
    },
    {
      "cell_type": "code",
      "execution_count": 45,
      "metadata": {
        "colab": {
          "base_uri": "https://localhost:8080/",
          "height": 442
        },
        "id": "jHh_qtXflx7Z",
        "outputId": "b5329370-f1c8-4980-b612-ed904880c16f"
      },
      "outputs": [
        {
          "data": {
            "image/png": "[encoded data removed]",
            "text/plain": [
              "<Figure size 1000x700 with 1 Axes>"
            ]
          },
          "metadata": {},
          "output_type": "display_data"
        }
      ],
      "source": [
        "offset = 300\n",
        "plt.figure(figsize=(10, 7))\n",
        "# Account for the test_window offset\n",
        "plot_time_series(timesteps=X_test[-len(test_windows):], values=test_labels[:, 0], start=offset, label=\"test_data\")\n",
        "plot_time_series(timesteps=X_test[-len(test_windows):], values=model_2_preds, start=offset, format=\"-\", label=\"model_2_preds\") "
      ]
    },
    {
      "cell_type": "markdown",
      "metadata": {
        "id": "Sls7mUaq9lMl"
      },
      "source": [
        "## Model 3: Dense (window = 30, horizon = 7)\n",
        "\n",
        "Let's try and predict 7 days ahead given the previous 30 days.\n",
        "\n",
        "First, we'll update the `HORIZON` and `WINDOW_SIZE` variables and create windowed data.\n"
      ]
    },
    {
      "cell_type": "code",
      "execution_count": 46,
      "metadata": {
        "colab": {
          "base_uri": "https://localhost:8080/"
        },
        "id": "8PtmayTM98Mb",
        "outputId": "3bbaec11-0558-4181-d906-258ece66a3a3"
      },
      "outputs": [
        {
          "data": {
            "text/plain": [
              "(3362, 3362)"
            ]
          },
          "execution_count": 46,
          "metadata": {},
          "output_type": "execute_result"
        }
      ],
      "source": [
        "HORIZON = 7\n",
        "WINDOW_SIZE = 30\n",
        "\n",
        "full_windows, full_labels = make_windows(prices, window_size=WINDOW_SIZE, horizon=HORIZON)\n",
        "len(full_windows), len(full_labels)"
      ]
    },
    {
      "cell_type": "markdown",
      "metadata": {
        "id": "c7lhMfxWZK83"
      },
      "source": [
        "And we'll split the full dataset windows into training and test sets."
      ]
    },
    {
      "cell_type": "code",
      "execution_count": 47,
      "metadata": {
        "colab": {
          "base_uri": "https://localhost:8080/"
        },
        "id": "E8xgoKunZ__e",
        "outputId": "f6588b6d-2d90-44db-8062-ca1ffe03bfc8"
      },
      "outputs": [
        {
          "data": {
            "text/plain": [
              "(2689, 673, 2689, 673)"
            ]
          },
          "execution_count": 47,
          "metadata": {},
          "output_type": "execute_result"
        }
      ],
      "source": [
        "train_windows, test_windows, train_labels, test_labels = make_train_test_splits(windows=full_windows, labels=full_labels, test_split=0.2)\n",
        "len(train_windows), len(test_windows), len(train_labels), len(test_labels)"
      ]
    },
    {
      "cell_type": "markdown",
      "metadata": {
        "id": "dlwu4mQmZvSg"
      },
      "source": [
        "Now let's build, compile, fit and evaluate a model."
      ]
    },
    {
      "cell_type": "code",
      "execution_count": 48,
      "metadata": {
        "colab": {
          "base_uri": "https://localhost:8080/"
        },
        "id": "hxHh7xS2-CoH",
        "outputId": "587403ef-8c0d-4c6d-928a-a6dddecc1794"
      },
      "outputs": [
        {
          "name": "stdout",
          "output_type": "stream",
          "text": [
            "INFO:tensorflow:Assets written to: model_experiments/model_3_dense/assets\n"
          ]
        },
        {
          "name": "stderr",
          "output_type": "stream",
          "text": [
            "INFO:tensorflow:Assets written to: model_experiments/model_3_dense/assets\n"
          ]
        },
        {
          "name": "stdout",
          "output_type": "stream",
          "text": [
            "INFO:tensorflow:Assets written to: model_experiments/model_3_dense/assets\n"
          ]
        },
        {
          "name": "stderr",
          "output_type": "stream",
          "text": [
            "INFO:tensorflow:Assets written to: model_experiments/model_3_dense/assets\n"
          ]
        },
        {
          "name": "stdout",
          "output_type": "stream",
          "text": [
            "INFO:tensorflow:Assets written to: model_experiments/model_3_dense/assets\n"
          ]
        },
        {
          "name": "stderr",
          "output_type": "stream",
          "text": [
            "INFO:tensorflow:Assets written to: model_experiments/model_3_dense/assets\n"
          ]
        },
        {
          "name": "stdout",
          "output_type": "stream",
          "text": [
            "INFO:tensorflow:Assets written to: model_experiments/model_3_dense/assets\n"
          ]
        },
        {
          "name": "stderr",
          "output_type": "stream",
          "text": [
            "INFO:tensorflow:Assets written to: model_experiments/model_3_dense/assets\n"
          ]
        },
        {
          "name": "stdout",
          "output_type": "stream",
          "text": [
            "INFO:tensorflow:Assets written to: model_experiments/model_3_dense/assets\n"
          ]
        },
        {
          "name": "stderr",
          "output_type": "stream",
          "text": [
            "INFO:tensorflow:Assets written to: model_experiments/model_3_dense/assets\n"
          ]
        },
        {
          "name": "stdout",
          "output_type": "stream",
          "text": [
            "INFO:tensorflow:Assets written to: model_experiments/model_3_dense/assets\n"
          ]
        },
        {
          "name": "stderr",
          "output_type": "stream",
          "text": [
            "INFO:tensorflow:Assets written to: model_experiments/model_3_dense/assets\n"
          ]
        },
        {
          "name": "stdout",
          "output_type": "stream",
          "text": [
            "INFO:tensorflow:Assets written to: model_experiments/model_3_dense/assets\n"
          ]
        },
        {
          "name": "stderr",
          "output_type": "stream",
          "text": [
            "INFO:tensorflow:Assets written to: model_experiments/model_3_dense/assets\n"
          ]
        },
        {
          "name": "stdout",
          "output_type": "stream",
          "text": [
            "INFO:tensorflow:Assets written to: model_experiments/model_3_dense/assets\n"
          ]
        },
        {
          "name": "stderr",
          "output_type": "stream",
          "text": [
            "INFO:tensorflow:Assets written to: model_experiments/model_3_dense/assets\n"
          ]
        },
        {
          "name": "stdout",
          "output_type": "stream",
          "text": [
            "INFO:tensorflow:Assets written to: model_experiments/model_3_dense/assets\n"
          ]
        },
        {
          "name": "stderr",
          "output_type": "stream",
          "text": [
            "INFO:tensorflow:Assets written to: model_experiments/model_3_dense/assets\n"
          ]
        },
        {
          "name": "stdout",
          "output_type": "stream",
          "text": [
            "INFO:tensorflow:Assets written to: model_experiments/model_3_dense/assets\n"
          ]
        },
        {
          "name": "stderr",
          "output_type": "stream",
          "text": [
            "INFO:tensorflow:Assets written to: model_experiments/model_3_dense/assets\n"
          ]
        },
        {
          "name": "stdout",
          "output_type": "stream",
          "text": [
            "INFO:tensorflow:Assets written to: model_experiments/model_3_dense/assets\n"
          ]
        },
        {
          "name": "stderr",
          "output_type": "stream",
          "text": [
            "INFO:tensorflow:Assets written to: model_experiments/model_3_dense/assets\n"
          ]
        },
        {
          "name": "stdout",
          "output_type": "stream",
          "text": [
            "INFO:tensorflow:Assets written to: model_experiments/model_3_dense/assets\n"
          ]
        },
        {
          "name": "stderr",
          "output_type": "stream",
          "text": [
            "INFO:tensorflow:Assets written to: model_experiments/model_3_dense/assets\n"
          ]
        },
        {
          "name": "stdout",
          "output_type": "stream",
          "text": [
            "INFO:tensorflow:Assets written to: model_experiments/model_3_dense/assets\n"
          ]
        },
        {
          "name": "stderr",
          "output_type": "stream",
          "text": [
            "INFO:tensorflow:Assets written to: model_experiments/model_3_dense/assets\n"
          ]
        },
        {
          "name": "stdout",
          "output_type": "stream",
          "text": [
            "INFO:tensorflow:Assets written to: model_experiments/model_3_dense/assets\n"
          ]
        },
        {
          "name": "stderr",
          "output_type": "stream",
          "text": [
            "INFO:tensorflow:Assets written to: model_experiments/model_3_dense/assets\n"
          ]
        },
        {
          "name": "stdout",
          "output_type": "stream",
          "text": [
            "INFO:tensorflow:Assets written to: model_experiments/model_3_dense/assets\n"
          ]
        },
        {
          "name": "stderr",
          "output_type": "stream",
          "text": [
            "INFO:tensorflow:Assets written to: model_experiments/model_3_dense/assets\n"
          ]
        },
        {
          "name": "stdout",
          "output_type": "stream",
          "text": [
            "INFO:tensorflow:Assets written to: model_experiments/model_3_dense/assets\n"
          ]
        },
        {
          "name": "stderr",
          "output_type": "stream",
          "text": [
            "INFO:tensorflow:Assets written to: model_experiments/model_3_dense/assets\n"
          ]
        },
        {
          "data": {
            "text/plain": [
              "<keras.src.callbacks.History at 0x1508cce50>"
            ]
          },
          "execution_count": 48,
          "metadata": {},
          "output_type": "execute_result"
        }
      ],
      "source": [
        "tf.random.set_seed(42)\n",
        "\n",
        "# Create model (same as model_1 except with different data input size)\n",
        "model_3 = tf.keras.Sequential([\n",
        "  layers.Dense(128, activation=\"relu\"),\n",
        "  layers.Dense(HORIZON)\n",
        "], name=\"model_3_dense\")\n",
        "\n",
        "model_3.compile(loss=\"mae\",\n",
        "                optimizer=tf.keras.optimizers.Adam())\n",
        "\n",
        "model_3.fit(train_windows,\n",
        "            train_labels,\n",
        "            batch_size=128,\n",
        "            epochs=100,\n",
        "            verbose=0,\n",
        "            validation_data=(test_windows, test_labels),\n",
        "            callbacks=[create_model_checkpoint(model_name=model_3.name)])"
      ]
    },
    {
      "cell_type": "code",
      "execution_count": 49,
      "metadata": {
        "colab": {
          "base_uri": "https://localhost:8080/"
        },
        "id": "Pd-8pbfh-DDI",
        "outputId": "ad359823-115b-4f42-f5da-bc5c2116951f"
      },
      "outputs": [
        {
          "name": "stdout",
          "output_type": "stream",
          "text": [
            "22/22 [==============================] - 0s 936us/step - loss: 2738.8943\n"
          ]
        },
        {
          "data": {
            "text/plain": [
              "2738.894287109375"
            ]
          },
          "execution_count": 49,
          "metadata": {},
          "output_type": "execute_result"
        }
      ],
      "source": [
        "# How did our model with a larger window size and horizon go?\n",
        "model_3.evaluate(test_windows, test_labels)"
      ]
    },
    {
      "cell_type": "markdown",
      "metadata": {
        "id": "BXqmKsQhS2qB"
      },
      "source": [
        "To compare apples to apples (best performing model to best performing model), we've got to load in the best version of `model_3`. "
      ]
    },
    {
      "cell_type": "code",
      "execution_count": 50,
      "metadata": {
        "colab": {
          "base_uri": "https://localhost:8080/"
        },
        "id": "XsltcXHYSrkX",
        "outputId": "ca492549-6b42-4f67-c84b-37a77b742732"
      },
      "outputs": [
        {
          "name": "stdout",
          "output_type": "stream",
          "text": [
            "22/22 [==============================] - 0s 894us/step - loss: 1139.7075\n"
          ]
        },
        {
          "data": {
            "text/plain": [
              "1139.70751953125"
            ]
          },
          "execution_count": 50,
          "metadata": {},
          "output_type": "execute_result"
        }
      ],
      "source": [
        "# Load in best version of model_3 and evaluate\n",
        "model_3 = tf.keras.models.load_model(\"model_experiments/model_3_dense/\")\n",
        "model_3.evaluate(test_windows, test_labels)"
      ]
    },
    {
      "cell_type": "markdown",
      "metadata": {
        "id": "q--5dtgITJbc"
      },
      "source": [
        "In this case, the error will be higher because we're predicting 7 steps at a time. \n",
        "\n",
        "This makes sense though because the further you try and predict, the larger your error will be (think of trying to predict the weather 7 days in advance).\n",
        "\n",
        "Let's make predictions with our model using the `make_preds()` function and evaluate them using the `evaluate_preds()` function."
      ]
    },
    {
      "cell_type": "code",
      "execution_count": 51,
      "metadata": {
        "colab": {
          "base_uri": "https://localhost:8080/"
        },
        "id": "uKBNVovRpvhd",
        "outputId": "4adc4cf3-362d-468b-9664-f63c8bbfc493"
      },
      "outputs": [
        {
          "name": "stdout",
          "output_type": "stream",
          "text": [
            "22/22 [==============================] - 0s 871us/step\n"
          ]
        },
        {
          "data": {
            "text/plain": [
              "<tf.Tensor: shape=(5, 7), dtype=float32, numpy=\n",
              "array([[38236.816, 38473.152, 39059.02 , 38209.582, 38672.797, 39630.51 ,\n",
              "        37558.68 ],\n",
              "       [39012.977, 38045.234, 38501.93 , 37969.76 , 39023.598, 39117.26 ,\n",
              "        37389.137],\n",
              "       [38734.973, 38291.234, 38740.145, 38305.34 , 38168.01 , 38298.785,\n",
              "        37108.227],\n",
              "       [41378.176, 40876.55 , 42015.95 , 40006.35 , 40865.652, 41522.02 ,\n",
              "        39661.848],\n",
              "       [42781.64 , 41955.79 , 42023.293, 42103.855, 42753.664, 42286.473,\n",
              "        41751.543]], dtype=float32)>"
            ]
          },
          "execution_count": 51,
          "metadata": {},
          "output_type": "execute_result"
        }
      ],
      "source": [
        "# The predictions are going to be 7 steps at a time (this is the HORIZON size)\n",
        "model_3_preds = make_preds(model_3,\n",
        "                           input_data=test_windows)\n",
        "model_3_preds[:5]"
      ]
    },
    {
      "cell_type": "code",
      "execution_count": 52,
      "metadata": {
        "colab": {
          "base_uri": "https://localhost:8080/"
        },
        "id": "P9VQqenW-5to",
        "outputId": "d31e64e1-3827-4e87-e88c-24404164890c"
      },
      "outputs": [
        {
          "data": {
            "text/plain": [
              "{'mae': array([3080.356  , 3388.3198 , 3319.3198 , 1927.9319 , 2685.6887 ,\n",
              "        3616.019  , 4835.7573 , 3183.3298 , 1860.2428 , 1265.5675 ,\n",
              "        1078.9186 , 1509.7533 ,  947.625  , 1022.0597 , 1281.5809 ,\n",
              "        1995.3839 , 2474.4934 , 2383.774  , 2592.437  , 2391.3638 ,\n",
              "        2016.8588 , 1483.6211 , 1775.0703 , 2485.0503 , 2764.077  ,\n",
              "        3138.845  , 3500.5151 , 2629.8706 , 2314.2925 , 2107.4324 ,\n",
              "        1125.0966 ,  769.70593,  887.5597 , 1482.375  , 1267.38   ,\n",
              "        1897.3303 , 2209.119  , 2723.9136 , 3993.9744 , 4306.917  ,\n",
              "        3186.9692 , 2830.8816 , 2297.342  , 2169.4731 , 2111.5698 ,\n",
              "         694.21375,  586.57367,  583.3622 ,  894.53015,  636.5753 ,\n",
              "         696.84094,  874.08203,  815.25946, 1342.053  , 1543.9933 ,\n",
              "        1506.4191 , 1384.5999 , 1153.3192 , 1054.9838 , 1307.6189 ,\n",
              "         490.42133,  579.0089 , 1009.5943 , 1204.3951 , 1410.0022 ,\n",
              "        1587.4811 , 2799.7734 , 3438.318  , 5222.691  , 5275.3384 ,\n",
              "        5544.8086 , 5787.2812 , 4639.439  , 2382.4897 , 2230.1125 ,\n",
              "         705.519  , 1125.3607 , 1003.4785 ,  949.8725 ,  571.0765 ,\n",
              "         650.48663,  884.983  ,  567.03015,  512.6099 ,  365.98102,\n",
              "         521.2383 ,  798.90735,  782.4911 , 1030.3633 , 1326.9772 ,\n",
              "        1525.9388 , 1690.5508 , 1697.9143 , 1654.9358 ,  606.4827 ,\n",
              "         920.7885 ,  523.5028 ,  634.1415 ,  692.94   ,  988.5773 ,\n",
              "        1291.765  , 2155.7175 , 3598.0562 , 4467.507  , 6071.4556 ,\n",
              "        6570.7837 , 7180.0034 , 6825.3438 , 4087.9626 , 3100.0432 ,\n",
              "        2595.8284 ,  812.00726,  546.579  , 1092.774  , 1090.7784 ,\n",
              "        1005.93555,  579.62024,  894.798  ,  347.4453 ,  823.8697 ,\n",
              "        1311.6808 , 1737.3242 , 1646.4835 ,  861.50305,  717.3686 ,\n",
              "         855.8647 , 1120.457  , 1524.9015 , 1937.6873 , 1592.0416 ,\n",
              "        1473.278  , 1131.7706 ,  639.5159 ,  589.1967 ,  752.69617,\n",
              "         609.10016,  816.1462 , 1406.6903 , 1810.2773 , 2199.9302 ,\n",
              "        2088.7224 , 1913.878  , 1946.4822 , 1144.2177 ,  547.74945,\n",
              "         671.75867, 1035.9877 ,  994.851  ,  864.53375,  892.8853 ,\n",
              "        1357.9913 , 1778.6641 , 1179.4369 ,  451.1052 ,  407.1264 ,\n",
              "         716.1914 ,  719.31165,  651.7338 ,  407.42523,  431.48187,\n",
              "         515.3304 ,  697.1744 , 1003.73883, 1106.0137 ,  709.7374 ,\n",
              "         737.6426 ,  375.24136,  298.2553 ,  906.4118 , 1510.9088 ,\n",
              "        1988.983  , 2271.4622 , 2397.0469 , 2235.7515 , 2110.054  ,\n",
              "         853.4551 ,  600.35406,  757.3619 ,  996.839  , 1126.8002 ,\n",
              "        1296.8206 , 1304.7565 ,  778.6239 ,  536.6621 ,  228.2009 ,\n",
              "         153.19727,  326.01144,  380.34207,  418.91852,  839.57227,\n",
              "         906.9347 , 1177.8767 , 1562.5768 , 1577.041  , 1656.4799 ,\n",
              "        1872.153  ,  990.1392 ,  872.94055, 1163.041  , 1887.4972 ,\n",
              "        1595.7355 , 1297.0228 ,  856.19226,  555.35187,  779.4386 ,\n",
              "         550.387  ,  449.79547,  320.20758,  529.6133 ,  515.1772 ,\n",
              "         441.48746,  395.1939 ,  414.30023,  269.3488 ,  597.72906,\n",
              "         544.8831 ,  541.28796,  561.25726,  528.99524,  496.96625,\n",
              "         411.51703,  457.31055,  757.02594,  798.798  ,  810.19836,\n",
              "         502.58148,  332.49527,  285.98605,  456.56223,  260.00613,\n",
              "         190.26004,  267.90543,  202.75865,  313.49582,  192.5399 ,\n",
              "         228.01033,  502.43777,  595.3571 ,  867.1378 , 1098.8861 ,\n",
              "        1058.9716 , 1140.2565 ,  842.8368 ,  332.39008,  275.91852,\n",
              "         299.03433,  462.38644,  373.20953,  413.48297,  680.1085 ,\n",
              "        1338.9769 , 1662.5704 , 2120.7053 , 2668.5608 , 3360.6843 ,\n",
              "        3929.6921 , 3063.186  , 1128.0365 , 1083.6727 ,  373.7712 ,\n",
              "         250.14955,  196.10881,  375.68262,  438.80887,  459.39508,\n",
              "         411.87164,  357.24722,  474.9343 ,  274.58356,  275.8143 ,\n",
              "         345.155  ,  386.22406,  421.42007,  495.40863,  492.37094,\n",
              "         576.78723,  782.8749 ,  833.3404 ,  444.02023,  251.05385,\n",
              "         181.71346,  252.899  ,  359.1811 ,  413.08496,  517.9732 ,\n",
              "         594.31476,  325.14676,  364.47183,  399.7221 ,  379.9272 ,\n",
              "         468.6359 ,  589.06085,  752.30554,  780.7896 ,  418.923  ,\n",
              "         238.34486,  166.77539,  258.78738,  119.45424,  100.10993,\n",
              "         159.02148,  118.27372,  194.85715,  183.83342,  271.83984,\n",
              "         242.4375 ,  131.7592 ,  134.8178 ,  172.62807,  311.8386 ,\n",
              "         335.4559 ,  356.68723,  420.39844,  494.50836,  714.9169 ,\n",
              "        1080.9911 , 1578.1838 , 2016.9373 , 2488.7405 , 2824.9785 ,\n",
              "        3009.2405 , 2720.1733 , 2232.6243 , 1396.0111 , 1105.1901 ,\n",
              "        1088.7793 , 1189.944  , 1398.7539 , 1478.3488 ,  809.79047,\n",
              "         511.75504,  388.38672,  278.28516,  298.21234,  261.01422,\n",
              "         299.28488,  356.85184,  366.8005 ,  438.03934,  380.0106 ,\n",
              "         307.5025 ,  518.6772 ,  659.5    ,  890.2578 , 1249.7908 ,\n",
              "        1168.681  , 1112.6208 , 1387.3016 , 1400.24   ,  947.6124 ,\n",
              "        1072.8763 , 1356.0026 , 1950.8231 , 2292.775  , 2467.9387 ,\n",
              "        1355.7734 , 1005.03516,  357.61832,  550.16656,  679.38837,\n",
              "        1102.3298 , 1286.2765 , 1102.6237 , 1031.2352 ,  646.0762 ,\n",
              "         468.06027,  486.4269 ,  828.4827 ,  745.8315 ,  893.9199 ,\n",
              "        1339.1995 , 1140.9559 , 1192.2576 , 1034.9824 , 1258.9863 ,\n",
              "        1531.9303 , 1831.6459 , 2355.927  , 3358.0645 , 4371.087  ,\n",
              "        4757.0757 , 3802.2676 , 3110.0637 , 3019.596  , 2876.6597 ,\n",
              "        1338.7283 , 1112.0731 ,  512.22626,  435.7754 ,  804.4833 ,\n",
              "         569.6046 ,  796.9464 ,  750.483  ,  521.04156,  471.85883,\n",
              "         755.3535 ,  866.3019 ,  326.77094,  570.4501 ,  286.22656,\n",
              "         491.24442,  407.69   ,  315.49496,  759.7104 ,  911.1222 ,\n",
              "        1204.7734 , 1299.5851 , 1561.3396 , 1584.337  ,  997.45593,\n",
              "         580.1395 ,  497.35043,  929.0293 , 1567.8815 , 1678.0332 ,\n",
              "        2129.4167 , 1835.3998 , 2328.6099 , 1686.5625 , 1041.7162 ,\n",
              "         613.4562 ,  854.7818 , 1402.9713 , 1572.1459 , 1166.5564 ,\n",
              "         964.7645 ,  508.75473,  572.07   ,  359.4375 ,  665.72516,\n",
              "         499.50336,  571.3661 ,  816.2436 ,  934.16766, 1468.0544 ,\n",
              "        1681.9863 , 1710.8644 , 1298.9271 ,  971.899  ,  478.5078 ,\n",
              "         382.30664,  239.78209,  412.61133,  434.96597,  534.2154 ,\n",
              "         298.58734,  197.964  ,  301.13394,  273.46597,  368.43695,\n",
              "         544.3661 ,  528.9643 ,  678.9746 ,  705.3114 ,  745.5103 ,\n",
              "         814.7969 ,  939.72266,  269.0025 ,  453.02957,  720.5932 ,\n",
              "         712.3493 ,  580.416  ,  618.58734,  467.45676,  805.9632 ,\n",
              "         361.08203,  668.16016,  598.4378 ,  522.5449 ,  710.1314 ,\n",
              "         414.62473,  459.09848,  565.9556 ,  846.9556 , 1774.8446 ,\n",
              "        2280.5488 , 2622.1777 , 2971.5183 , 3327.4565 , 3434.7358 ,\n",
              "        3050.4832 , 1767.2977 , 1015.47546,  184.48885,  507.86133,\n",
              "         539.28625,  405.1981 ,  479.64426,  430.637  ,  339.89676,\n",
              "         340.28012,  395.50504,  502.4534 ,  607.49133,  483.23828,\n",
              "         358.81445,  331.06918,  239.48744,  342.52985,  350.50446,\n",
              "         258.07504,  403.97125,  490.0346 , 1091.0365 ,  863.7324 ,\n",
              "         725.94366,  804.0025 ,  798.31055,  606.1696 ,  586.8507 ,\n",
              "         425.92328,  443.05887,  383.64536,  569.87445,  234.9336 ,\n",
              "         235.2274 ,  196.3125 ,  213.42662,  223.34402,  127.39034,\n",
              "         267.5318 ,  244.40373,  420.90933,  260.6409 ,  334.30914,\n",
              "         420.59543,  372.91742,  465.59067,  343.79184,   92.07757,\n",
              "         183.9082 ,  603.3128 ,  998.339  , 1548.7628 , 1873.2096 ,\n",
              "        2299.133  , 2631.7107 , 2720.942  , 1699.5293 ,  832.05414,\n",
              "         317.60797,  202.28293,  408.36246,  564.8415 ,  580.6493 ,\n",
              "         559.1351 ,  611.04266,  564.22687,  471.2698 ,  535.33453,\n",
              "         818.2907 , 1051.6705 ,  725.5742 ,  507.88004,  301.23828,\n",
              "         238.67271,  216.96205,  334.20004,  548.81195,  481.9643 ,\n",
              "         569.08954,  579.3306 ,  739.7447 , 1060.8192 , 1326.3262 ,\n",
              "        1151.9037 ,  862.66656,  444.62695,  396.5932 ,  246.83398,\n",
              "         340.4138 ,  511.2687 ,  586.4986 ,  448.34488,  407.03375,\n",
              "         325.91406,  401.30804,  711.12836, 1031.724  , 1372.8759 ,\n",
              "         999.75   ,  863.911  ,  901.82587,  323.04184,  376.62695,\n",
              "         291.6038 ,  374.7274 ,  407.8962 ,  536.1454 ,  749.24054,\n",
              "         857.8903 ,  874.5458 ,  898.28015,  688.4657 ,  970.95844,\n",
              "        1397.1719 , 1913.0232 , 2229.5852 , 2070.2107 , 2565.9773 ,\n",
              "        3267.7292 , 3630.4343 , 3605.6973 , 3818.2727 , 4064.1577 ,\n",
              "        2606.7166 , 1499.0033 ,  528.8214 ,  575.3343 ,  433.56195,\n",
              "         402.63672,  303.79352,  489.11774,  288.09097,  360.62723,\n",
              "         514.8661 ,  726.68024,  980.029  , 1265.1797 , 1556.4749 ,\n",
              "        1242.528  , 1268.303  ,  807.08984,  724.33704,  779.24274,\n",
              "         973.3343 ,  864.3789 ,  446.0982 ,  732.61884,  501.01953,\n",
              "         723.92633,  585.7143 ,  368.83316,  451.05972,  723.87164,\n",
              "         602.5424 ,  624.6864 ,  470.87054,  579.8577 ,  875.4068 ,\n",
              "        1524.7433 , 2125.4023 , 3181.3503 , 3888.155  , 4015.4185 ,\n",
              "        4050.899  , 4234.8374 , 2505.7869 , 1219.26   ,  841.6211 ,\n",
              "         889.80914, 1903.971  , 1920.38   , 2237.2942 ,  957.1429 ,\n",
              "         481.91852,  630.1579 ,  799.6696 ,  772.2132 , 1306.7142 ,\n",
              "        1403.1608 , 1354.337  , 1345.3036 ,  592.66907,  380.00055,\n",
              "         905.3851 , 1087.6825 , 1104.2494 , 1517.7667 , 1174.7645 ,\n",
              "         930.12836, 1137.3158 ,  831.5597 ], dtype=float32),\n",
              " 'mse': array([1.34598780e+07, 1.62439390e+07, 1.49403350e+07, 4.77429800e+06,\n",
              "        8.98551300e+06, 1.58165920e+07, 2.51151500e+07, 1.20969290e+07,\n",
              "        3.84552175e+06, 1.88351400e+06, 2.71981550e+06, 2.64435925e+06,\n",
              "        1.60280438e+06, 1.56920338e+06, 2.43827650e+06, 4.93470450e+06,\n",
              "        6.69928650e+06, 6.49262800e+06, 7.69072450e+06, 5.94888450e+06,\n",
              "        5.04098150e+06, 3.60101475e+06, 5.22900250e+06, 8.93898200e+06,\n",
              "        1.17158390e+07, 1.23732550e+07, 1.47937190e+07, 8.53954900e+06,\n",
              "        6.49414450e+06, 5.21809300e+06, 1.58601700e+06, 8.41405938e+05,\n",
              "        1.01089788e+06, 3.06210275e+06, 3.11601125e+06, 5.75244800e+06,\n",
              "        7.27920000e+06, 1.02870100e+07, 1.91172900e+07, 2.05588480e+07,\n",
              "        1.20801930e+07, 9.87311000e+06, 7.23457950e+06, 5.43297200e+06,\n",
              "        4.67411000e+06, 7.99328625e+05, 4.92642312e+05, 5.61098688e+05,\n",
              "        9.43685000e+05, 6.78285562e+05, 6.70255500e+05, 1.08088925e+06,\n",
              "        8.81322875e+05, 2.42574450e+06, 3.21438250e+06, 2.84220325e+06,\n",
              "        2.18111850e+06, 1.85409962e+06, 1.51380400e+06, 2.35002125e+06,\n",
              "        4.57388594e+05, 4.97127719e+05, 1.29958012e+06, 2.32485675e+06,\n",
              "        2.51615400e+06, 3.89709325e+06, 1.15063020e+07, 1.70694820e+07,\n",
              "        3.54375320e+07, 3.54679400e+07, 3.68764720e+07, 3.58144520e+07,\n",
              "        2.24223340e+07, 6.75529900e+06, 5.94697450e+06, 7.00876812e+05,\n",
              "        1.86724975e+06, 1.67162725e+06, 1.38187575e+06, 4.39120062e+05,\n",
              "        8.29093375e+05, 1.08925888e+06, 3.87301844e+05, 3.93232562e+05,\n",
              "        3.02541750e+05, 3.83572000e+05, 8.00133125e+05, 1.12435325e+06,\n",
              "        2.12409050e+06, 2.04277575e+06, 3.19804625e+06, 3.88048275e+06,\n",
              "        3.61195025e+06, 3.66614575e+06, 7.01268625e+05, 1.12732962e+06,\n",
              "        5.42825812e+05, 6.90340500e+05, 5.62025875e+05, 1.39649075e+06,\n",
              "        2.08769538e+06, 1.02478160e+07, 2.18557820e+07, 3.07108020e+07,\n",
              "        4.72879120e+07, 5.12533880e+07, 5.61714960e+07, 4.77674000e+07,\n",
              "        1.79674600e+07, 1.08816430e+07, 7.43536650e+06, 9.43071938e+05,\n",
              "        4.29835531e+05, 1.70034712e+06, 1.29007300e+06, 1.14694762e+06,\n",
              "        4.05961469e+05, 8.92449500e+05, 1.78379266e+05, 1.02290712e+06,\n",
              "        2.35500075e+06, 3.23153475e+06, 3.23291950e+06, 1.09346075e+06,\n",
              "        6.97170000e+05, 1.07604975e+06, 2.16318575e+06, 2.89266600e+06,\n",
              "        4.17860575e+06, 3.04857725e+06, 2.51616125e+06, 1.84313000e+06,\n",
              "        6.38484812e+05, 5.98079375e+05, 8.84222000e+05, 6.90839625e+05,\n",
              "        1.08018725e+06, 3.46097150e+06, 4.67818500e+06, 6.09911550e+06,\n",
              "        5.29488950e+06, 4.11841350e+06, 3.97189050e+06, 1.61825975e+06,\n",
              "        4.97929719e+05, 8.21582688e+05, 1.34359812e+06, 1.41436900e+06,\n",
              "        1.02833788e+06, 1.05120075e+06, 1.91876338e+06, 3.47643575e+06,\n",
              "        1.50679038e+06, 3.72016219e+05, 2.05336328e+05, 6.35366562e+05,\n",
              "        7.02092625e+05, 5.11568562e+05, 2.19368109e+05, 2.56750750e+05,\n",
              "        4.13831156e+05, 6.73268812e+05, 1.26700300e+06, 1.35228138e+06,\n",
              "        5.27790438e+05, 6.12319625e+05, 2.51829875e+05, 1.14122336e+05,\n",
              "        1.87809112e+06, 4.07864650e+06, 5.55857950e+06, 6.32867100e+06,\n",
              "        6.58141500e+06, 5.43467700e+06, 4.62961250e+06, 9.76380875e+05,\n",
              "        6.08701938e+05, 9.04759438e+05, 1.08718188e+06, 1.48753138e+06,\n",
              "        2.05124700e+06, 1.80275888e+06, 6.89341688e+05, 3.83160000e+05,\n",
              "        6.87749141e+04, 3.21663164e+04, 1.64354547e+05, 3.21311562e+05,\n",
              "        3.03127188e+05, 1.01767944e+06, 1.32015200e+06, 1.87386975e+06,\n",
              "        3.01724775e+06, 3.68804475e+06, 3.80728175e+06, 4.16603225e+06,\n",
              "        1.73990712e+06, 9.64760562e+05, 1.38791612e+06, 3.67708025e+06,\n",
              "        2.65749550e+06, 1.89081512e+06, 9.91945125e+05, 4.48483250e+05,\n",
              "        8.28333875e+05, 4.61574719e+05, 2.51900203e+05, 1.42453594e+05,\n",
              "        4.28309406e+05, 3.88689750e+05, 3.60171594e+05, 2.47259797e+05,\n",
              "        2.93839062e+05, 1.06355516e+05, 6.49074125e+05, 4.98099562e+05,\n",
              "        4.11414844e+05, 4.47965562e+05, 3.93909062e+05, 4.38647031e+05,\n",
              "        2.67640875e+05, 2.60090125e+05, 6.51481375e+05, 6.74284000e+05,\n",
              "        6.78547812e+05, 2.82547125e+05, 1.68918797e+05, 1.05358305e+05,\n",
              "        2.93703031e+05, 9.80466797e+04, 4.05666016e+04, 9.38796953e+04,\n",
              "        8.96514219e+04, 1.79333641e+05, 6.01136953e+04, 1.15156648e+05,\n",
              "        4.56932469e+05, 6.54885375e+05, 1.11776588e+06, 1.50177462e+06,\n",
              "        1.31117012e+06, 1.39459788e+06, 7.34073000e+05, 1.41801031e+05,\n",
              "        1.02355836e+05, 1.69810531e+05, 2.33768719e+05, 1.74146625e+05,\n",
              "        2.18248844e+05, 8.28295125e+05, 3.55251375e+06, 4.51184200e+06,\n",
              "        7.30396900e+06, 1.03314140e+07, 1.33186730e+07, 1.59551850e+07,\n",
              "        9.64005300e+06, 1.45547512e+06, 1.35914712e+06, 1.57781875e+05,\n",
              "        9.03612500e+04, 6.27250352e+04, 1.69317141e+05, 2.78232281e+05,\n",
              "        2.77799938e+05, 2.08237656e+05, 2.52763828e+05, 3.24654906e+05,\n",
              "        1.15581070e+05, 9.92381094e+04, 1.81027578e+05, 3.22376562e+05,\n",
              "        3.35983562e+05, 3.39566281e+05, 3.25447562e+05, 3.52809812e+05,\n",
              "        7.70282875e+05, 7.58175875e+05, 2.74602969e+05, 9.68051016e+04,\n",
              "        4.72733164e+04, 8.83663594e+04, 1.90909969e+05, 2.59043922e+05,\n",
              "        3.44397281e+05, 4.77772844e+05, 1.64905609e+05, 1.83568453e+05,\n",
              "        2.27086641e+05, 2.32553359e+05, 2.64887281e+05, 4.49437312e+05,\n",
              "        6.33862875e+05, 6.36930062e+05, 2.20408469e+05, 7.06696250e+04,\n",
              "        5.13273242e+04, 7.71661328e+04, 1.63008438e+04, 1.09356514e+04,\n",
              "        3.87751836e+04, 2.45611055e+04, 5.46574258e+04, 5.36572422e+04,\n",
              "        8.59162734e+04, 7.79891797e+04, 2.20238848e+04, 2.46794082e+04,\n",
              "        5.49166250e+04, 1.51327656e+05, 1.68819219e+05, 1.76853531e+05,\n",
              "        2.28638922e+05, 4.26210812e+05, 1.07757725e+06, 2.35094200e+06,\n",
              "        4.57530000e+06, 6.19972100e+06, 8.25964450e+06, 9.55327600e+06,\n",
              "        9.77360700e+06, 7.66169050e+06, 5.48876800e+06, 2.74951650e+06,\n",
              "        2.06166425e+06, 1.69554625e+06, 1.51733088e+06, 2.18197525e+06,\n",
              "        2.23598075e+06, 7.38878562e+05, 3.33831469e+05, 2.82960594e+05,\n",
              "        1.59137047e+05, 1.38514828e+05, 1.08192625e+05, 1.30916609e+05,\n",
              "        1.90285047e+05, 1.70138234e+05, 3.06691500e+05, 2.07711766e+05,\n",
              "        1.47731234e+05, 3.43256000e+05, 6.57399688e+05, 1.15948188e+06,\n",
              "        1.91327062e+06, 1.82580775e+06, 1.67602462e+06, 2.18614050e+06,\n",
              "        1.98124412e+06, 1.02957600e+06, 1.75767938e+06, 3.02380775e+06,\n",
              "        4.89619950e+06, 6.24276800e+06, 6.21859200e+06, 1.96447338e+06,\n",
              "        1.10066762e+06, 1.68720422e+05, 5.07924781e+05, 7.31908875e+05,\n",
              "        1.39979688e+06, 1.76732800e+06, 1.28372800e+06, 1.16193788e+06,\n",
              "        7.10224000e+05, 3.51868188e+05, 4.37008594e+05, 8.52488500e+05,\n",
              "        6.01070188e+05, 9.71303938e+05, 2.36799350e+06, 2.14427150e+06,\n",
              "        2.32278175e+06, 1.89399225e+06, 2.36739050e+06, 3.06902600e+06,\n",
              "        3.85689925e+06, 7.55872450e+06, 1.52603700e+07, 2.21411220e+07,\n",
              "        2.49311580e+07, 1.66499470e+07, 1.20548260e+07, 1.01741670e+07,\n",
              "        8.74891300e+06, 2.07100288e+06, 1.43184875e+06, 3.90680250e+05,\n",
              "        3.50418594e+05, 9.19822188e+05, 4.08825719e+05, 9.27354500e+05,\n",
              "        6.85900500e+05, 3.39860031e+05, 3.69099812e+05, 6.54436312e+05,\n",
              "        8.78586125e+05, 2.24380328e+05, 4.60923094e+05, 1.24290820e+05,\n",
              "        3.63179844e+05, 2.02879703e+05, 3.55393688e+05, 1.32406712e+06,\n",
              "        1.56031025e+06, 2.33070475e+06, 2.15253650e+06, 2.78360575e+06,\n",
              "        2.63631375e+06, 1.03110756e+06, 4.49006844e+05, 3.28402469e+05,\n",
              "        1.38687138e+06, 3.50140950e+06, 4.12244450e+06, 5.44347100e+06,\n",
              "        4.13982850e+06, 5.59780000e+06, 3.05102750e+06, 1.32911338e+06,\n",
              "        6.69229125e+05, 1.10857088e+06, 2.36232000e+06, 2.78033525e+06,\n",
              "        1.66588875e+06, 1.12549662e+06, 3.69541469e+05, 5.87831625e+05,\n",
              "        3.23767469e+05, 5.78240625e+05, 4.02187594e+05, 4.74357938e+05,\n",
              "        8.52416500e+05, 1.15143262e+06, 2.56080975e+06, 3.03586475e+06,\n",
              "        3.14339775e+06, 1.86385925e+06, 1.08084962e+06, 3.40909594e+05,\n",
              "        1.97895234e+05, 1.36697094e+05, 2.53322828e+05, 2.75253188e+05,\n",
              "        3.94172062e+05, 1.97903922e+05, 5.71270547e+04, 1.14483352e+05,\n",
              "        1.25833461e+05, 1.90164750e+05, 5.30726125e+05, 4.48386188e+05,\n",
              "        5.56107000e+05, 6.93370062e+05, 7.40395438e+05, 9.70636375e+05,\n",
              "        1.10229312e+06, 1.36418984e+05, 4.37586500e+05, 8.44316625e+05,\n",
              "        7.30613125e+05, 5.91100688e+05, 5.96710062e+05, 3.19746906e+05,\n",
              "        7.77086438e+05, 1.63744031e+05, 5.14722500e+05, 4.07144594e+05,\n",
              "        4.07322938e+05, 6.60532875e+05, 2.16838000e+05, 2.81191250e+05,\n",
              "        4.10393594e+05, 1.42032338e+06, 5.54737450e+06, 7.77810400e+06,\n",
              "        1.01181230e+07, 1.15345860e+07, 1.30501550e+07, 1.27594240e+07,\n",
              "        9.51380800e+06, 3.25229925e+06, 1.14536162e+06, 5.81741250e+04,\n",
              "        3.00160031e+05, 3.64133156e+05, 1.97401328e+05, 3.61123719e+05,\n",
              "        2.47797203e+05, 1.68386750e+05, 1.87396500e+05, 3.08077656e+05,\n",
              "        3.73487781e+05, 4.78674094e+05, 2.87925000e+05, 1.74414344e+05,\n",
              "        1.87912719e+05, 1.61829266e+05, 2.57649391e+05, 2.22282156e+05,\n",
              "        1.59066891e+05, 2.39374500e+05, 3.62173906e+05, 1.28834000e+06,\n",
              "        8.16439625e+05, 5.73530062e+05, 6.81993688e+05, 7.21383938e+05,\n",
              "        4.93299906e+05, 4.27958344e+05, 2.54353672e+05, 2.51535578e+05,\n",
              "        2.01717656e+05, 3.61976000e+05, 8.81172969e+04, 8.89682344e+04,\n",
              "        5.07257695e+04, 8.05186875e+04, 6.74667031e+04, 2.72449219e+04,\n",
              "        1.26517836e+05, 9.01871406e+04, 2.34062203e+05, 1.12694555e+05,\n",
              "        1.50183359e+05, 2.21908516e+05, 1.61015391e+05, 2.76438781e+05,\n",
              "        1.84602234e+05, 2.66244062e+04, 4.34276484e+04, 9.76954438e+05,\n",
              "        2.49456675e+06, 4.17958800e+06, 5.29326250e+06, 6.78106150e+06,\n",
              "        7.64839600e+06, 7.46359450e+06, 2.91276625e+06, 7.31393000e+05,\n",
              "        1.44166016e+05, 7.00068594e+04, 2.62698281e+05, 7.09427438e+05,\n",
              "        7.36050438e+05, 6.66451688e+05, 7.19573625e+05, 6.56766188e+05,\n",
              "        5.79329438e+05, 6.36844125e+05, 7.40575312e+05, 1.14339238e+06,\n",
              "        6.35323438e+05, 3.15779250e+05, 1.43646750e+05, 7.56414531e+04,\n",
              "        7.29715156e+04, 1.79831719e+05, 3.49614938e+05, 3.37836844e+05,\n",
              "        4.33381719e+05, 4.37152156e+05, 6.54084438e+05, 1.27341525e+06,\n",
              "        1.91874700e+06, 1.43799912e+06, 8.33173375e+05, 2.69966469e+05,\n",
              "        2.11483391e+05, 1.21418305e+05, 1.46227875e+05, 3.47797719e+05,\n",
              "        4.27851594e+05, 2.53367219e+05, 2.26875641e+05, 1.34657969e+05,\n",
              "        3.52563344e+05, 7.01562875e+05, 1.32653612e+06, 2.05567888e+06,\n",
              "        1.09306088e+06, 9.45802125e+05, 9.10206375e+05, 2.06543344e+05,\n",
              "        1.65735469e+05, 1.15481016e+05, 1.91305516e+05, 2.67243906e+05,\n",
              "        4.27080156e+05, 6.92554625e+05, 8.46472188e+05, 7.99444625e+05,\n",
              "        8.42986125e+05, 6.65476688e+05, 1.44603088e+06, 2.59766625e+06,\n",
              "        4.41162250e+06, 5.46098250e+06, 6.82476800e+06, 1.07483290e+07,\n",
              "        1.56139540e+07, 1.79445980e+07, 1.66433710e+07, 1.68328360e+07,\n",
              "        1.68363740e+07, 7.01771600e+06, 2.44153750e+06, 6.97717000e+05,\n",
              "        5.09534656e+05, 3.24090688e+05, 2.79553375e+05, 1.69616406e+05,\n",
              "        3.32497031e+05, 1.28350891e+05, 2.57550078e+05, 3.96636844e+05,\n",
              "        1.16696412e+06, 1.71990000e+06, 2.09297962e+06, 2.89120050e+06,\n",
              "        2.11495675e+06, 2.00658775e+06, 8.34998188e+05, 8.12482125e+05,\n",
              "        8.22436562e+05, 1.29313725e+06, 1.14297238e+06, 2.85041656e+05,\n",
              "        8.72303062e+05, 3.63041812e+05, 6.52100000e+05, 4.48809812e+05,\n",
              "        2.20457234e+05, 5.34634125e+05, 6.63693375e+05, 5.29457125e+05,\n",
              "        4.96414281e+05, 3.12126500e+05, 7.16816500e+05, 1.51340288e+06,\n",
              "        4.81270750e+06, 9.46260300e+06, 1.53778740e+07, 1.94802880e+07,\n",
              "        1.98727220e+07, 1.87321820e+07, 1.85237800e+07, 6.72931450e+06,\n",
              "        1.60868075e+06, 1.40550388e+06, 1.56954475e+06, 4.44034100e+06,\n",
              "        4.33680800e+06, 5.42755200e+06, 1.42617788e+06, 4.33849281e+05,\n",
              "        7.37195438e+05, 6.76324312e+05, 1.01310156e+06, 1.94900375e+06,\n",
              "        2.25618125e+06, 2.07868025e+06, 2.07976875e+06, 4.44302031e+05,\n",
              "        1.77410969e+05, 1.23902175e+06, 1.83794938e+06, 1.51499762e+06,\n",
              "        2.85202125e+06, 1.87670825e+06, 1.15187925e+06, 1.61007788e+06,\n",
              "        9.00699812e+05], dtype=float32),\n",
              " 'rmse': array([3668.7708 , 4030.377  , 3865.273  , 2185.0166 , 2997.5845 ,\n",
              "        3977.0078 , 5011.502  , 3478.064  , 1961.0002 , 1372.4117 ,\n",
              "        1649.1863 , 1626.1486 , 1266.0192 , 1252.6785 , 1561.4982 ,\n",
              "        2221.4194 , 2588.298  , 2548.0635 , 2773.2156 , 2439.0334 ,\n",
              "        2245.2131 , 1897.634  , 2286.7012 , 2989.813  , 3422.8408 ,\n",
              "        3517.5637 , 3846.2605 , 2922.2507 , 2548.361  , 2284.3145 ,\n",
              "        1259.3717 ,  917.2818 , 1005.43414, 1749.8865 , 1765.2228 ,\n",
              "        2398.4263 , 2697.9993 , 3207.337  , 4372.3325 , 4534.1865 ,\n",
              "        3475.6572 , 3142.1506 , 2689.7173 , 2330.8735 , 2161.969  ,\n",
              "         894.0518 ,  701.8848 ,  749.0652 ,  971.4345 ,  823.58093,\n",
              "         818.69135, 1039.6582 ,  938.78796, 1557.4802 , 1792.8699 ,\n",
              "        1685.8835 , 1476.8611 , 1361.6533 , 1230.3674 , 1532.9779 ,\n",
              "         676.3051 ,  705.0729 , 1139.9913 , 1524.748  , 1586.2389 ,\n",
              "        1974.1057 , 3392.094  , 4131.523  , 5952.9434 , 5955.4966 ,\n",
              "        6072.6    , 5984.5176 , 4735.2227 , 2599.0957 , 2438.6418 ,\n",
              "         837.18384, 1366.4735 , 1292.9143 , 1175.5321 ,  662.6614 ,\n",
              "         910.54565, 1043.6757 ,  622.3358 ,  627.0826 ,  550.03796,\n",
              "         619.3319 ,  894.5016 , 1060.3552 , 1457.426  , 1429.2571 ,\n",
              "        1788.3082 , 1969.894  , 1900.5132 , 1914.7181 ,  837.41785,\n",
              "        1061.7578 ,  736.76715,  830.8673 ,  749.68384, 1181.732  ,\n",
              "        1444.886  , 3201.221  , 4675.0166 , 5541.733  , 6876.6206 ,\n",
              "        7159.147  , 7494.7646 , 6911.3965 , 4238.804  , 3298.7336 ,\n",
              "        2726.7869 ,  971.1189 ,  655.6184 , 1303.9736 , 1135.8138 ,\n",
              "        1070.9564 ,  637.15106,  944.69543,  422.3497 , 1011.38873,\n",
              "        1534.6012 , 1797.647  , 1798.0321 , 1045.6868 ,  834.96704,\n",
              "        1037.3281 , 1470.7772 , 1700.7839 , 2044.1638 , 1746.0176 ,\n",
              "        1586.2412 , 1357.6193 ,  799.0524 ,  773.3559 ,  940.3308 ,\n",
              "         831.1676 , 1039.3206 , 1860.3687 , 2162.9111 , 2469.6387 ,\n",
              "        2301.0627 , 2029.3875 , 1992.9602 , 1272.1084 ,  705.64136,\n",
              "         906.412  , 1159.1368 , 1189.2725 , 1014.06995, 1025.2808 ,\n",
              "        1385.1943 , 1864.5203 , 1227.5139 ,  609.93134,  453.1405 ,\n",
              "         797.0988 ,  837.90967,  715.24023,  468.3675 ,  506.70578,\n",
              "         643.2971 ,  820.5296 , 1125.6123 , 1162.8763 ,  726.4919 ,\n",
              "         782.50854,  501.82654,  337.81998, 1370.4347 , 2019.5659 ,\n",
              "        2357.664  , 2515.685  , 2565.4268 , 2331.2393 , 2151.6533 ,\n",
              "         988.1199 ,  780.19354,  951.1884 , 1042.6802 , 1219.6439 ,\n",
              "        1432.2175 , 1342.6686 ,  830.26605,  618.9992 ,  262.24973,\n",
              "         179.3497 ,  405.40665,  566.8435 ,  550.5699 , 1008.80096,\n",
              "        1148.9786 , 1368.8937 , 1737.0227 , 1920.4282 , 1951.2257 ,\n",
              "        2041.086  , 1319.0554 ,  982.2222 , 1178.0985 , 1917.5714 ,\n",
              "        1630.1826 , 1375.0691 ,  995.9644 ,  669.6889 ,  910.1285 ,\n",
              "         679.3929 ,  501.8966 ,  377.43024,  654.4535 ,  623.4499 ,\n",
              "         600.143  ,  497.25226,  542.0692 ,  326.12195,  805.65137,\n",
              "         705.7617 ,  641.41626,  669.3023 ,  627.62177,  662.3043 ,\n",
              "         517.3402 ,  509.99033,  807.144  ,  821.14795,  823.7401 ,\n",
              "         531.55164,  410.9973 ,  324.58945,  541.9437 ,  313.12405,\n",
              "         201.41153,  306.39795,  299.4185 ,  423.47803,  245.18094,\n",
              "         339.34738,  675.9678 ,  809.2499 , 1057.2445 , 1225.4691 ,\n",
              "        1145.0634 , 1180.9309 ,  856.7806 ,  376.5648 ,  319.931  ,\n",
              "         412.08072,  483.49634,  417.30878,  467.1711 ,  910.1072 ,\n",
              "        1884.8113 , 2124.1096 , 2702.5857 , 3214.2517 , 3649.4758 ,\n",
              "        3994.3943 , 3104.8435 , 1206.4308 , 1165.8247 ,  397.21768,\n",
              "         300.60147,  250.44966,  411.48163,  527.4773 ,  527.0673 ,\n",
              "         456.33066,  502.75623,  569.785  ,  339.97217,  315.0208 ,\n",
              "         425.47336,  567.78217,  579.64087,  582.72314,  570.4801 ,\n",
              "         593.97797,  877.6576 ,  870.733  ,  524.02576,  311.1352 ,\n",
              "         217.42427,  297.2648 ,  436.93246,  508.96356,  586.8537 ,\n",
              "         691.2111 ,  406.08572,  428.44888,  476.53607,  482.23785,\n",
              "         514.672  ,  670.4009 ,  796.155  ,  798.079  ,  469.4768 ,\n",
              "         265.8376 ,  226.55534,  277.78793,  127.67476,  104.57366,\n",
              "         196.91415,  156.71983,  233.78928,  231.64034,  293.11478,\n",
              "         279.26544,  148.40446,  157.09682,  234.34297,  389.00854,\n",
              "         410.87616,  420.53958,  478.16202,  652.8482 , 1038.0642 ,\n",
              "        1533.2782 , 2138.995  , 2489.9238 , 2873.9597 , 3090.8374 ,\n",
              "        3126.2769 , 2767.9758 , 2342.812  , 1658.1666 , 1435.8496 ,\n",
              "        1302.1315 , 1231.7998 , 1477.151  , 1495.3196 ,  859.58044,\n",
              "         577.7815 ,  531.9404 ,  398.91986,  372.1758 ,  328.92648,\n",
              "         361.824  ,  436.21674,  412.47815,  553.79736,  455.75406,\n",
              "         384.35822,  585.88055,  810.8019 , 1076.7924 , 1383.2102 ,\n",
              "        1351.2245 , 1294.6136 , 1478.5603 , 1407.5668 , 1014.68024,\n",
              "        1325.775  , 1738.9099 , 2212.7358 , 2498.5532 , 2493.7104 ,\n",
              "        1401.5967 , 1049.1271 ,  410.75592,  712.6884 ,  855.5167 ,\n",
              "        1183.1301 , 1329.4089 , 1133.0172 , 1077.9323 ,  842.74786,\n",
              "         593.18475,  661.0663 ,  923.30304,  775.2872 ,  985.54755,\n",
              "        1538.8286 , 1464.3331 , 1524.0675 , 1376.2239 , 1538.6327 ,\n",
              "        1751.8635 , 1963.899  , 2749.3135 , 3906.4524 , 4705.4355 ,\n",
              "        4993.111  , 4080.4346 , 3472.006  , 3189.697  , 2957.8562 ,\n",
              "        1439.0979 , 1196.5989 ,  625.0442 ,  591.9617 ,  959.0736 ,\n",
              "         639.39484,  962.9925 ,  828.1911 ,  582.97516,  607.5358 ,\n",
              "         808.97235,  937.3292 ,  473.68802,  678.91315,  352.54904,\n",
              "         602.64404,  450.4217 ,  596.14905, 1150.6812 , 1249.1238 ,\n",
              "        1526.6646 , 1467.1525 , 1668.4142 , 1623.673  , 1015.4347 ,\n",
              "         670.0797 ,  573.0641 , 1177.655  , 1871.2053 , 2030.3804 ,\n",
              "        2333.1248 , 2034.6569 , 2365.967  , 1746.7191 , 1152.8718 ,\n",
              "         818.0643 , 1052.887  , 1536.984  , 1667.4337 , 1290.6931 ,\n",
              "        1060.8943 ,  607.89923,  766.7018 ,  569.0057 ,  760.4213 ,\n",
              "         634.1826 ,  688.73645,  923.26404, 1073.0483 , 1600.253  ,\n",
              "        1742.3733 , 1772.963  , 1365.2323 , 1039.6392 ,  583.87463,\n",
              "         444.8542 ,  369.7257 ,  503.31186,  524.64575,  627.83124,\n",
              "         444.86392,  239.01266,  338.35388,  354.73013,  436.07883,\n",
              "         728.5095 ,  669.61646,  745.7258 ,  832.6885 ,  860.46234,\n",
              "         985.2088 , 1049.9015 ,  369.3494 ,  661.50323,  918.867  ,\n",
              "         854.7591 ,  768.83075,  772.4701 ,  565.4617 ,  881.5251 ,\n",
              "         404.65298,  717.44165,  638.07886,  638.21857,  812.73175,\n",
              "         465.65866,  530.2747 ,  640.6197 , 1191.7732 , 2355.2866 ,\n",
              "        2788.9253 , 3180.8997 , 3396.2605 , 3612.4998 , 3572.0337 ,\n",
              "        3084.446  , 1803.4132 , 1070.2157 ,  241.19313,  547.86865,\n",
              "         603.43445,  444.2987 ,  600.9357 ,  497.79233,  410.34955,\n",
              "         432.8932 ,  555.0474 ,  611.1365 ,  691.8628 ,  536.5864 ,\n",
              "         417.62943,  433.489  ,  402.2801 ,  507.59177,  471.46808,\n",
              "         398.8319 ,  489.25912,  601.80884, 1135.0507 ,  903.5705 ,\n",
              "         757.3177 ,  825.8291 ,  849.34326,  702.35315,  654.18524,\n",
              "         504.33487,  501.53323,  449.12988,  601.6444 ,  296.84558,\n",
              "         298.27542,  225.22382,  283.75815,  259.74353,  165.06036,\n",
              "         355.69345,  300.31174,  483.79974,  335.7001 ,  387.53497,\n",
              "         471.07166,  401.26724,  525.7745 ,  429.65363,  163.16988,\n",
              "         208.39302,  988.41003, 1579.4198 , 2044.404  , 2300.7092 ,\n",
              "        2604.047  , 2765.5732 , 2731.958  , 1706.6829 ,  855.21515,\n",
              "         379.692  ,  264.5881 ,  512.541  ,  842.27515,  857.93384,\n",
              "         816.3649 ,  848.27686,  810.41113,  761.13696,  798.02515,\n",
              "         860.56683, 1069.2953 ,  797.0718 ,  561.9424 ,  379.0076 ,\n",
              "         275.0299 ,  270.13242,  424.0657 ,  591.2825 ,  581.23737,\n",
              "         658.3173 ,  661.1748 ,  808.7549 , 1128.457  , 1385.1885 ,\n",
              "        1199.166  ,  912.7833 ,  519.58295,  459.87323,  348.4513 ,\n",
              "         382.39752,  589.7438 ,  654.10364,  503.35596,  476.31464,\n",
              "         366.95773,  593.77045,  837.5935 , 1151.7535 , 1433.7639 ,\n",
              "        1045.4955 ,  972.52356,  954.04736,  454.4704 ,  407.1062 ,\n",
              "         339.82498,  437.38486,  516.95636,  653.5137 ,  832.19867,\n",
              "         920.03925,  894.1167 ,  918.14276,  815.7675 , 1202.5103 ,\n",
              "        1611.7277 , 2100.3862 , 2336.8745 , 2612.4258 , 3278.4644 ,\n",
              "        3951.4497 , 4236.1064 , 4079.6287 , 4102.7837 , 4103.215  ,\n",
              "        2649.0972 , 1562.542  ,  835.29456,  713.81696,  569.2896 ,\n",
              "         528.7281 ,  411.84512,  576.62555,  358.26093,  507.49393,\n",
              "         629.79114, 1080.2611 , 1311.4496 , 1446.7134 , 1700.353  ,\n",
              "        1454.2891 , 1416.5408 ,  913.78235,  901.3779 ,  906.8829 ,\n",
              "        1137.162  , 1069.0989 ,  533.89294,  933.9717 ,  602.52954,\n",
              "         807.5271 ,  669.9327 ,  469.52875,  731.18677,  814.67377,\n",
              "         727.63806,  704.5667 ,  558.6828 ,  846.65015, 1230.2043 ,\n",
              "        2193.7883 , 3076.1345 , 3921.4631 , 4413.648  , 4457.8833 ,\n",
              "        4328.069  , 4303.9263 , 2594.0923 , 1268.3378 , 1185.5394 ,\n",
              "        1252.8147 , 2107.2117 , 2082.5005 , 2329.7107 , 1194.2269 ,\n",
              "         658.67236,  858.6008 ,  822.3894 , 1006.5295 , 1396.0673 ,\n",
              "        1502.059  , 1441.763  , 1442.1404 ,  666.5599 ,  421.2018 ,\n",
              "        1113.1135 , 1355.71   , 1230.8524 , 1688.7928 , 1369.93   ,\n",
              "        1073.2563 , 1268.8884 ,  949.05206], dtype=float32),\n",
              " 'mape': array([ 7.1865997 ,  7.9083195 ,  7.749935  ,  4.6986866 ,  6.8804955 ,\n",
              "         9.274413  , 12.394528  ,  8.214491  ,  4.7842193 ,  3.2493868 ,\n",
              "         2.6678002 ,  3.7945325 ,  2.4128273 ,  2.549961  ,  3.1542413 ,\n",
              "         4.88399   ,  6.012306  ,  5.759814  ,  6.219188  ,  5.7090664 ,\n",
              "         4.7343917 ,  3.4270418 ,  4.0606823 ,  5.5576973 ,  6.045142  ,\n",
              "         6.8162403 ,  7.530508  ,  5.636823  ,  4.9461317 ,  4.4987807 ,\n",
              "         2.4063592 ,  1.6698648 ,  1.9287983 ,  3.290823  ,  2.8725889 ,\n",
              "         4.3602524 ,  5.1186304 ,  6.3687367 ,  9.527283  , 10.392483  ,\n",
              "         7.765852  ,  6.980815  ,  5.7098923 ,  5.389646  ,  5.2631097 ,\n",
              "         1.7314023 ,  1.4379275 ,  1.4470073 ,  2.1952543 ,  1.5606327 ,\n",
              "         1.7192876 ,  2.1384122 ,  2.0238252 ,  3.4096491 ,  3.9402413 ,\n",
              "         3.8417187 ,  3.545775  ,  2.9901245 ,  2.7487297 ,  3.4127898 ,\n",
              "         1.261317  ,  1.4977951 ,  2.6736534 ,  3.2480602 ,  3.8111937 ,\n",
              "         4.456794  ,  8.277247  , 10.490198  , 16.60302   , 17.281158  ,\n",
              "        18.47621   , 19.332342  , 15.566848  ,  8.060713  ,  7.556771  ,\n",
              "         2.3774056 ,  3.697192  ,  3.290779  ,  3.1284518 ,  1.9226412 ,\n",
              "         2.2259946 ,  3.0215716 ,  1.9044763 ,  1.7442276 ,  1.2275509 ,\n",
              "         1.7803159 ,  2.7451038 ,  2.5954063 ,  3.3339467 ,  4.3967495 ,\n",
              "         4.9780545 ,  5.4852424 ,  5.5124226 ,  5.3567533 ,  1.9565533 ,\n",
              "         3.048103  ,  1.7007977 ,  2.0630662 ,  2.2745016 ,  3.2534056 ,\n",
              "         4.432417  ,  8.613826  , 14.910825  , 19.074379  , 26.81939   ,\n",
              "        29.954464  , 33.931904  , 32.771107  , 19.959904  , 15.300035  ,\n",
              "        12.924043  ,  4.0375266 ,  2.702346  ,  5.1848197 ,  5.20483   ,\n",
              "         4.784871  ,  2.761152  ,  4.267377  ,  1.700559  ,  4.117917  ,\n",
              "         6.664822  ,  8.818059  ,  8.395819  ,  4.403786  ,  3.6421993 ,\n",
              "         4.2317977 ,  5.3271294 ,  7.21828   ,  9.165849  ,  7.511879  ,\n",
              "         6.9819765 ,  5.323281  ,  3.0745478 ,  2.9367208 ,  3.7493143 ,\n",
              "         3.059598  ,  3.8713017 ,  6.3366547 ,  8.057694  ,  9.708705  ,\n",
              "         9.148292  ,  8.367864  ,  8.488009  ,  4.979619  ,  2.4846578 ,\n",
              "         3.0910552 ,  4.6933103 ,  4.516292  ,  3.8669977 ,  3.9740064 ,\n",
              "         5.8569727 ,  7.568133  ,  5.0259414 ,  1.918922  ,  1.7657887 ,\n",
              "         3.1210852 ,  3.1386192 ,  2.8357153 ,  1.7678868 ,  1.8495417 ,\n",
              "         2.1703093 ,  2.915883  ,  4.1735506 ,  4.585499  ,  2.9463036 ,\n",
              "         3.051415  ,  1.5452182 ,  1.2510127 ,  4.1028347 ,  6.9365234 ,\n",
              "         9.143969  , 10.497179  , 11.149669  , 10.458397  ,  9.898411  ,\n",
              "         4.0591116 ,  2.9146361 ,  3.739522  ,  4.8777523 ,  5.595075  ,\n",
              "         6.4928427 ,  6.5308495 ,  3.9060154 ,  2.703596  ,  1.1379282 ,\n",
              "         0.7700383 ,  1.6594656 ,  1.9741614 ,  2.1713471 ,  4.2241073 ,\n",
              "         4.4275913 ,  5.67222   ,  7.3814764 ,  7.2881794 ,  7.6685095 ,\n",
              "         8.739402  ,  4.581797  ,  4.179579  ,  5.763829  ,  9.514689  ,\n",
              "         8.146663  ,  6.731753  ,  4.47401   ,  2.91863   ,  4.112297  ,\n",
              "         2.9217286 ,  2.3775005 ,  1.68784   ,  2.7464554 ,  2.6725645 ,\n",
              "         2.2744498 ,  2.034576  ,  2.1343145 ,  1.3828405 ,  3.021534  ,\n",
              "         2.738764  ,  2.7237892 ,  2.8209648 ,  2.6678104 ,  2.479787  ,\n",
              "         2.059428  ,  2.3482165 ,  3.924297  ,  4.1438913 ,  4.2096996 ,\n",
              "         2.622181  ,  1.7363622 ,  1.4834075 ,  2.358706  ,  1.3428886 ,\n",
              "         0.9879566 ,  1.3900286 ,  1.0467867 ,  1.6146445 ,  0.9991565 ,\n",
              "         1.1564242 ,  2.5038202 ,  2.9370742 ,  4.259279  ,  5.3717647 ,\n",
              "         5.154321  ,  5.538406  ,  4.091082  ,  1.6167345 ,  1.3413676 ,\n",
              "         1.442722  ,  2.2427707 ,  1.8113943 ,  2.0030334 ,  3.45548   ,\n",
              "         7.4999437 ,  9.369332  , 12.329727  , 15.743218  , 19.922485  ,\n",
              "        23.397692  , 18.407726  ,  6.7490296 ,  6.5073414 ,  2.2385304 ,\n",
              "         1.4955437 ,  1.1731746 ,  2.2872632 ,  2.6828277 ,  2.827478  ,\n",
              "         2.5222526 ,  2.2142594 ,  2.9343023 ,  1.6955403 ,  1.6733524 ,\n",
              "         2.0971684 ,  2.2971873 ,  2.5000389 ,  2.9426785 ,  2.9107344 ,\n",
              "         3.4190264 ,  4.591326  ,  4.889095  ,  2.6055818 ,  1.4690253 ,\n",
              "         1.0648099 ,  1.4794438 ,  2.1007133 ,  2.4109125 ,  2.9939656 ,\n",
              "         3.3996005 ,  1.8521501 ,  2.0916178 ,  2.2990801 ,  2.1847012 ,\n",
              "         2.746135  ,  3.5150938 ,  4.496858  ,  4.671534  ,  2.5087168 ,\n",
              "         1.4248686 ,  0.9968908 ,  1.5350455 ,  0.7095686 ,  0.5955198 ,\n",
              "         0.94769466,  0.70907784,  1.1672624 ,  1.1084425 ,  1.6357733 ,\n",
              "         1.4598372 ,  0.7911048 ,  0.80621606,  1.0276886 ,  1.8484178 ,\n",
              "         1.9793031 ,  2.095441  ,  2.451582  ,  2.8289275 ,  3.9415662 ,\n",
              "         5.7257705 ,  8.022315  , 10.071138  , 12.222439  , 13.699761  ,\n",
              "        14.522466  , 13.009408  , 10.432707  ,  6.3560886 ,  4.9255776 ,\n",
              "         4.8302984 ,  5.323926  ,  6.1462803 ,  6.466194  ,  3.5280354 ,\n",
              "         2.2288008 ,  1.6646197 ,  1.204415  ,  1.2793107 ,  1.1163671 ,\n",
              "         1.278338  ,  1.5189829 ,  1.5632905 ,  1.8946564 ,  1.63569   ,\n",
              "         1.3268543 ,  2.2487934 ,  2.9227529 ,  4.0030427 ,  5.6378174 ,\n",
              "         5.3268757 ,  5.10119   ,  6.3435974 ,  6.320657  ,  4.1973324 ,\n",
              "         4.5534687 ,  5.6035714 ,  8.063702  ,  9.389175  , 10.101355  ,\n",
              "         5.542895  ,  4.1093426 ,  1.4858512 ,  2.3291876 ,  2.8905532 ,\n",
              "         4.6800604 ,  5.4856443 ,  4.7116747 ,  4.4175577 ,  2.8164415 ,\n",
              "         2.0511794 ,  2.158519  ,  3.6554222 ,  3.3046954 ,  4.0223694 ,\n",
              "         6.209536  ,  5.454754  ,  5.765474  ,  5.019367  ,  5.9112635 ,\n",
              "         6.958002  ,  8.076499  ,  9.797369  , 13.343522  , 17.109648  ,\n",
              "        18.1514    , 14.169322  , 11.316672  , 10.956773  , 10.34306   ,\n",
              "         4.8089027 ,  3.983848  ,  1.83227   ,  1.5763521 ,  2.9417243 ,\n",
              "         2.0618486 ,  2.9028568 ,  2.7045894 ,  1.8632174 ,  1.6986866 ,\n",
              "         2.6786973 ,  3.0699964 ,  1.1542791 ,  2.01627   ,  1.0160745 ,\n",
              "         1.7566906 ,  1.4556124 ,  1.0824423 ,  2.5772917 ,  3.0613043 ,\n",
              "         4.014844  ,  4.3235726 ,  5.171762  ,  5.2349353 ,  3.3050284 ,\n",
              "         1.9124041 ,  1.6730543 ,  3.1922054 ,  5.501685  ,  5.9664717 ,\n",
              "         7.5940185 ,  6.6106687 ,  8.362551  ,  6.071377  ,  3.7519913 ,\n",
              "         2.127762  ,  2.9474726 ,  4.8276925 ,  5.4124346 ,  4.0032616 ,\n",
              "         3.3029761 ,  1.7575837 ,  1.985035  ,  1.2632662 ,  2.3274677 ,\n",
              "         1.7510977 ,  2.0196183 ,  2.9003525 ,  3.3710103 ,  5.348151  ,\n",
              "         6.1660733 ,  6.3092856 ,  4.80225   ,  3.6026947 ,  1.7755346 ,\n",
              "         1.4158056 ,  0.88247406,  1.5189232 ,  1.6016366 ,  1.9739008 ,\n",
              "         1.0982463 ,  0.7358979 ,  1.1263623 ,  1.026377  ,  1.383774  ,\n",
              "         2.0002766 ,  1.9341657 ,  2.4978795 ,  2.5592742 ,  2.7038648 ,\n",
              "         2.945985  ,  3.4109077 ,  0.9803692 ,  1.7138884 ,  2.7164443 ,\n",
              "         2.6926088 ,  2.2046418 ,  2.3513658 ,  1.7898383 ,  3.0819232 ,\n",
              "         1.3675673 ,  2.5664377 ,  2.3178923 ,  2.0413945 ,  2.7686732 ,\n",
              "         1.6069558 ,  1.7762685 ,  2.1728249 ,  3.1178143 ,  6.275372  ,\n",
              "         7.930565  ,  8.8959255 ,  9.960478  , 11.060987  , 11.362048  ,\n",
              "        10.032227  ,  5.8097515 ,  3.3281724 ,  0.6051634 ,  1.6700802 ,\n",
              "         1.7752471 ,  1.3217708 ,  1.5764074 ,  1.4022299 ,  1.1172049 ,\n",
              "         1.113719  ,  1.2899296 ,  1.6562855 ,  2.0103755 ,  1.5977832 ,\n",
              "         1.1876638 ,  1.0778065 ,  0.7712557 ,  1.1076392 ,  1.135797  ,\n",
              "         0.83498883,  1.3199939 ,  1.6132544 ,  3.629827  ,  2.8780024 ,\n",
              "         2.4256241 ,  2.6885488 ,  2.6877322 ,  2.0518596 ,  1.9911345 ,\n",
              "         1.4513416 ,  1.5076298 ,  1.3091197 ,  1.9463658 ,  0.80331236,\n",
              "         0.7990004 ,  0.6691273 ,  0.7249785 ,  0.7608491 ,  0.43557748,\n",
              "         0.91201264,  0.8356028 ,  1.4366685 ,  0.8855745 ,  1.137981  ,\n",
              "         1.4304253 ,  1.2657171 ,  1.5783181 ,  1.1647314 ,  0.31300795,\n",
              "         0.62799233,  2.184502  ,  3.7321765 ,  5.815346  ,  7.0862403 ,\n",
              "         8.731527  , 10.023599  , 10.382032  ,  6.499718  ,  3.183177  ,\n",
              "         1.2164795 ,  0.7740095 ,  1.55746   ,  2.094666  ,  2.1369007 ,\n",
              "         2.059931  ,  2.257594  ,  2.0870762 ,  1.7278237 ,  1.9722929 ,\n",
              "         3.1543899 ,  4.067994  ,  2.8093536 ,  1.9630085 ,  1.1639384 ,\n",
              "         0.92127043,  0.8461966 ,  1.2917744 ,  2.118593  ,  1.8632561 ,\n",
              "         2.1881132 ,  2.2034054 ,  2.8181086 ,  3.998304  ,  4.9667754 ,\n",
              "         4.2930136 ,  3.2166324 ,  1.6541219 ,  1.4767611 ,  0.9161386 ,\n",
              "         1.2773466 ,  1.9368632 ,  2.22277   ,  1.6961617 ,  1.5431851 ,\n",
              "         1.2308264 ,  1.4654628 ,  2.6071744 ,  3.7677546 ,  4.9955974 ,\n",
              "         3.6313336 ,  3.113398  ,  3.2448313 ,  1.1585027 ,  1.3557703 ,\n",
              "         1.0475012 ,  1.367087  ,  1.4996543 ,  1.9817116 ,  2.7738543 ,\n",
              "         3.1812694 ,  3.2210712 ,  3.2990806 ,  2.4679005 ,  3.4211495 ,\n",
              "         4.8654356 ,  6.5872984 ,  7.614528  ,  6.724632  ,  8.027651  ,\n",
              "         9.9734955 , 10.893859  , 10.696714  , 11.253242  , 11.924685  ,\n",
              "         7.607118  ,  4.358657  ,  1.5124621 ,  1.6665789 ,  1.2492093 ,\n",
              "         1.1525033 ,  0.87173814,  1.3934729 ,  0.8195695 ,  1.0284292 ,\n",
              "         1.4435685 ,  1.9832644 ,  2.6644175 ,  3.4392114 ,  4.2272687 ,\n",
              "         3.363233  ,  3.410079  ,  2.175784  ,  1.9893972 ,  2.1449594 ,\n",
              "         2.6850362 ,  2.3838313 ,  1.2020228 ,  2.0159981 ,  1.3617818 ,\n",
              "         1.9618461 ,  1.5797157 ,  1.0021001 ,  1.2365891 ,  1.9240296 ,\n",
              "         1.5978296 ,  1.6552863 ,  1.2393334 ,  1.4984951 ,  2.2320547 ,\n",
              "         3.767118  ,  5.048418  ,  7.5083413 ,  9.119146  ,  9.291009  ,\n",
              "         9.312702  ,  9.701219  ,  5.7388783 ,  2.843329  ,  2.0049455 ,\n",
              "         2.123769  ,  4.5198374 ,  4.5701046 ,  5.3482323 ,  2.2906442 ,\n",
              "         1.1390996 ,  1.4935938 ,  1.8746078 ,  1.773313  ,  3.0230193 ,\n",
              "         3.2270172 ,  3.105126  ,  3.0835724 ,  1.3620104 ,  0.8809032 ,\n",
              "         2.1236556 ,  2.563368  ,  2.6029797 ,  3.574282  ,  2.7135882 ,\n",
              "         2.1581423 ,  2.6199114 ,  1.898245  ], dtype=float32),\n",
              " 'mase': 2.2253122}"
            ]
          },
          "execution_count": 52,
          "metadata": {},
          "output_type": "execute_result"
        }
      ],
      "source": [
        "# Calculate model_3 results - these are going to be multi-dimensional because\n",
        "# we're trying to predict more than one step at a time.\n",
        "model_3_results = evaluate_preds(y_true=tf.squeeze(test_labels),\n",
        "                                 y_pred=model_3_preds)\n",
        "model_3_results"
      ]
    },
    {
      "cell_type": "markdown",
      "metadata": {
        "id": "t405o940Twum"
      },
      "source": [
        "## Make our evaluation function work for larger horizons\n",
        "\n",
        "You'll notice the outputs for `model_3_results` are multi-dimensional. \n",
        "\n",
        "This is because the predictions are getting evaluated across the `HORIZON` timesteps (7 predictions at a time).\n",
        "\n",
        "To fix this, let's adjust our `evaluate_preds()` function to work with multiple shapes of data."
      ]
    },
    {
      "cell_type": "code",
      "execution_count": 53,
      "metadata": {
        "id": "ERkl26UFgSbz"
      },
      "outputs": [],
      "source": [
        "def evaluate_preds(y_true, y_pred):\n",
        "  # Make sure float32 (for metric calculations)\n",
        "  y_true = tf.cast(y_true, dtype=tf.float32)\n",
        "  y_pred = tf.cast(y_pred, dtype=tf.float32)\n",
        "\n",
        "  # Calculate various metrics\n",
        "  mae = tf.keras.metrics.mean_absolute_error(y_true, y_pred)\n",
        "  mse = tf.keras.metrics.mean_squared_error(y_true, y_pred)\n",
        "  rmse = tf.sqrt(mse)\n",
        "  mape = tf.keras.metrics.mean_absolute_percentage_error(y_true, y_pred)\n",
        "  mase = mean_absolute_scaled_error(y_true, y_pred)\n",
        "\n",
        "  # Account for different sized metrics (for longer horizons, reduce to single number)\n",
        "  if mae.ndim > 0: # if mae isn't already a scalar, reduce it to one by aggregating tensors to mean\n",
        "    mae = tf.reduce_mean(mae)\n",
        "    mse = tf.reduce_mean(mse)\n",
        "    rmse = tf.reduce_mean(rmse)\n",
        "    mape = tf.reduce_mean(mape)\n",
        "    mase = tf.reduce_mean(mase)\n",
        "\n",
        "  return {\"mae\": mae.numpy(),\n",
        "          \"mse\": mse.numpy(),\n",
        "          \"rmse\": rmse.numpy(),\n",
        "          \"mape\": mape.numpy(),\n",
        "          \"mase\": mase.numpy()}"
      ]
    },
    {
      "cell_type": "markdown",
      "metadata": {
        "id": "_RnoZl28Udx4"
      },
      "source": [
        "Now we've updated `evaluate_preds()` to work with multiple shapes, how does it look?"
      ]
    },
    {
      "cell_type": "code",
      "execution_count": 54,
      "metadata": {
        "colab": {
          "base_uri": "https://localhost:8080/"
        },
        "id": "Kt1Z8yjpUij2",
        "outputId": "31690393-6057-40df-ef06-cfb3914d7ab4"
      },
      "outputs": [
        {
          "data": {
            "text/plain": [
              "{'mae': 1139.7075,\n",
              " 'mse': 3001332.2,\n",
              " 'rmse': 1304.3328,\n",
              " 'mape': 4.2147665,\n",
              " 'mase': 2.2253122}"
            ]
          },
          "execution_count": 54,
          "metadata": {},
          "output_type": "execute_result"
        }
      ],
      "source": [
        "# Get model_3 results aggregated to single values\n",
        "model_3_results = evaluate_preds(y_true=tf.squeeze(test_labels),\n",
        "                                 y_pred=model_3_preds)\n",
        "model_3_results"
      ]
    },
    {
      "cell_type": "markdown",
      "metadata": {
        "id": "0XNIJfcsTpdA"
      },
      "source": [
        "Time to visualize.\n",
        "\n",
        "If our prediction evaluation metrics were mutli-dimensional, how do you think the predictions will look like if we plot them?"
      ]
    },
    {
      "cell_type": "code",
      "execution_count": 55,
      "metadata": {
        "colab": {
          "base_uri": "https://localhost:8080/",
          "height": 442
        },
        "id": "gBdg1NcLs3gW",
        "outputId": "f9c0c6dd-39f5-42b2-9c5c-8020742b9318"
      },
      "outputs": [
        {
          "data": {
            "image/png": "[encoded data removed]",
            "text/plain": [
              "<Figure size 1000x700 with 1 Axes>"
            ]
          },
          "metadata": {},
          "output_type": "display_data"
        }
      ],
      "source": [
        "offset = 300\n",
        "plt.figure(figsize=(10, 7))\n",
        "plot_time_series(timesteps=X_test[-len(test_windows):], values=test_labels[:, 0], start=offset, label=\"Test_data\")\n",
        "# Checking the shape of model_3_preds results in [n_test_samples, HORIZON] (this will screw up the plot)\n",
        "plot_time_series(timesteps=X_test[-len(test_windows):], values=model_3_preds, start=offset, label=\"model_3_preds\")"
      ]
    },
    {
      "cell_type": "markdown",
      "metadata": {
        "id": "j3nZnSG1Uute"
      },
      "source": [
        "When we try to plot our multi-horizon predicts, we get a funky looking plot.\n",
        "\n",
        "Again, we can fix this by aggregating our model's predictions.\n",
        "\n",
        "> 🔑 **Note:** Aggregating the predictions (e.g. reducing a 7-day horizon to one value such as the mean) loses information from the original prediction. As in, the model predictions were trained to be made for 7-days but by reducing them to one, we gain the ability to plot them visually but we lose the extra information contained across multiple days."
      ]
    },
    {
      "cell_type": "code",
      "execution_count": 56,
      "metadata": {
        "colab": {
          "base_uri": "https://localhost:8080/",
          "height": 442
        },
        "id": "wYpZb27bU6OO",
        "outputId": "c310346c-5cb9-4262-c52e-c468725aa4f0"
      },
      "outputs": [
        {
          "data": {
            "image/png": "[encoded data removed]",
            "text/plain": [
              "<Figure size 1000x700 with 1 Axes>"
            ]
          },
          "metadata": {},
          "output_type": "display_data"
        }
      ],
      "source": [
        "offset = 300\n",
        "plt.figure(figsize=(10, 7))\n",
        "# Plot model_3_preds by aggregating them (note: this condenses information so the preds will look fruther ahead than the test data)\n",
        "plot_time_series(timesteps=X_test[-len(test_windows):], \n",
        "                 values=test_labels[:, 0], \n",
        "                 start=offset, \n",
        "                 label=\"Test_data\")\n",
        "plot_time_series(timesteps=X_test[-len(test_windows):], \n",
        "                 values=tf.reduce_mean(model_3_preds, axis=1), \n",
        "                 format=\"-\",\n",
        "                 start=offset, \n",
        "                 label=\"model_3_preds\")"
      ]
    },
    {
      "cell_type": "markdown",
      "metadata": {
        "id": "pZ2s0Rx0rZjE"
      },
      "source": [
        "## Model 5: RNN (LSTM)\n",
        "\n",
        "As you might've guessed, we can also use a recurrent neural network to model our sequential time series data.\n",
        "\n",
        "> 📖 **Resource:** For more on the different types of recurrent neural networks you can use for sequence problems, see the [Recurrent Neural Networks section of notebook 08](https://dev.mrdbourke.com/tensorflow-deep-learning/08_introduction_to_nlp_in_tensorflow/#recurrent-neural-networks-rnns).\n",
        "\n",
        "Let's reuse the same data we used for the Conv1D model, except this time we'll create an [LSTM-cell](https://www.tensorflow.org/api_docs/python/tf/keras/layers/LSTM) powered RNN to model our Bitcoin data. \n",
        "\n",
        "Once again, one of the most important steps for the LSTM model will be getting our data into the right shape.\n",
        "\n",
        "The [`tf.keras.layers.LSTM()`](https://www.tensorflow.org/api_docs/python/tf/keras/layers/LSTM) layer takes a tensor with `[batch, timesteps, feature]` dimensions.\n",
        "\n",
        "As mentioned earlier, the `batch` dimension gets taken care of for us but our data is currently only has the `feature` dimension (`WINDOW_SIZE`).\n",
        "\n",
        "To fix this, just like we did with the `Conv1D` model, we can use a `tf.keras.layers.Lambda()` layer to adjust the shape of our input tensors to the LSTM layer.\n",
        "\n",
        "\n",
        "\n",
        "\n",
        "\n",
        "\n"
      ]
    },
    {
      "cell_type": "code",
      "execution_count": 57,
      "metadata": {
        "colab": {
          "base_uri": "https://localhost:8080/"
        },
        "id": "a6YFL_b-rZrt",
        "outputId": "96a90e42-069a-459a-b140-6191cab11eb1"
      },
      "outputs": [
        {
          "name": "stdout",
          "output_type": "stream",
          "text": [
            "INFO:tensorflow:Assets written to: model_experiments/model_5_lstm/assets\n"
          ]
        },
        {
          "name": "stderr",
          "output_type": "stream",
          "text": [
            "INFO:tensorflow:Assets written to: model_experiments/model_5_lstm/assets\n"
          ]
        },
        {
          "name": "stdout",
          "output_type": "stream",
          "text": [
            "INFO:tensorflow:Assets written to: model_experiments/model_5_lstm/assets\n"
          ]
        },
        {
          "name": "stderr",
          "output_type": "stream",
          "text": [
            "INFO:tensorflow:Assets written to: model_experiments/model_5_lstm/assets\n"
          ]
        },
        {
          "name": "stdout",
          "output_type": "stream",
          "text": [
            "INFO:tensorflow:Assets written to: model_experiments/model_5_lstm/assets\n"
          ]
        },
        {
          "name": "stderr",
          "output_type": "stream",
          "text": [
            "INFO:tensorflow:Assets written to: model_experiments/model_5_lstm/assets\n"
          ]
        },
        {
          "name": "stdout",
          "output_type": "stream",
          "text": [
            "INFO:tensorflow:Assets written to: model_experiments/model_5_lstm/assets\n"
          ]
        },
        {
          "name": "stderr",
          "output_type": "stream",
          "text": [
            "INFO:tensorflow:Assets written to: model_experiments/model_5_lstm/assets\n"
          ]
        },
        {
          "name": "stdout",
          "output_type": "stream",
          "text": [
            "INFO:tensorflow:Assets written to: model_experiments/model_5_lstm/assets\n"
          ]
        },
        {
          "name": "stderr",
          "output_type": "stream",
          "text": [
            "INFO:tensorflow:Assets written to: model_experiments/model_5_lstm/assets\n"
          ]
        },
        {
          "name": "stdout",
          "output_type": "stream",
          "text": [
            "INFO:tensorflow:Assets written to: model_experiments/model_5_lstm/assets\n"
          ]
        },
        {
          "name": "stderr",
          "output_type": "stream",
          "text": [
            "INFO:tensorflow:Assets written to: model_experiments/model_5_lstm/assets\n"
          ]
        },
        {
          "name": "stdout",
          "output_type": "stream",
          "text": [
            "INFO:tensorflow:Assets written to: model_experiments/model_5_lstm/assets\n"
          ]
        },
        {
          "name": "stderr",
          "output_type": "stream",
          "text": [
            "INFO:tensorflow:Assets written to: model_experiments/model_5_lstm/assets\n"
          ]
        },
        {
          "data": {
            "text/plain": [
              "<keras.src.callbacks.History at 0x150be8610>"
            ]
          },
          "execution_count": 57,
          "metadata": {},
          "output_type": "execute_result"
        }
      ],
      "source": [
        "tf.random.set_seed(42)\n",
        "\n",
        "# Let's build an LSTM model with the Functional API\n",
        "inputs = layers.Input(shape=(WINDOW_SIZE))\n",
        "x = layers.Lambda(lambda x: tf.expand_dims(x, axis=1))(inputs) # expand input dimension to be compatible with LSTM\n",
        "# print(x.shape)\n",
        "x = layers.LSTM(128, activation=\"relu\", return_sequences=True)(x) # this layer will error if the inputs are not the right shape\n",
        "x = layers.LSTM(128, activation=\"relu\")(x) # using the tanh loss function results in a massive error\n",
        "# print(x.shape)\n",
        "# Add another optional dense layer (you could add more of these to see if they improve model performance)\n",
        "x = layers.Dense(32, activation=\"relu\")(x)\n",
        "output = layers.Dense(HORIZON)(x)\n",
        "model_5 = tf.keras.Model(inputs=inputs, outputs=output, name=\"model_5_lstm\")\n",
        "\n",
        "# Compile model\n",
        "model_5.compile(loss=\"mae\",\n",
        "                optimizer=tf.keras.optimizers.Adam())\n",
        "\n",
        "# Seems when saving the model several warnings are appearing: https://github.com/tensorflow/tensorflow/issues/47554 \n",
        "model_5.fit(train_windows,\n",
        "            train_labels,\n",
        "            epochs=epochs,\n",
        "            verbose=0,\n",
        "            batch_size=128,\n",
        "            validation_data=(test_windows, test_labels),\n",
        "            callbacks=[create_model_checkpoint(model_name=model_5.name)])"
      ]
    },
    {
      "cell_type": "code",
      "execution_count": 58,
      "metadata": {
        "colab": {
          "base_uri": "https://localhost:8080/"
        },
        "id": "cOpHqmEtSsNw",
        "outputId": "8071fad7-885c-40d6-a601-0dd333aab6e1"
      },
      "outputs": [
        {
          "name": "stdout",
          "output_type": "stream",
          "text": [
            "22/22 [==============================] - 0s 2ms/step - loss: 1873.8582\n"
          ]
        },
        {
          "data": {
            "text/plain": [
              "1873.858154296875"
            ]
          },
          "execution_count": 58,
          "metadata": {},
          "output_type": "execute_result"
        }
      ],
      "source": [
        "# Load in best version of model 5 and evaluate on the test data\n",
        "model_5 = tf.keras.models.load_model(\"model_experiments/model_5_lstm/\")\n",
        "model_5.evaluate(test_windows, test_labels)"
      ]
    },
    {
      "cell_type": "markdown",
      "metadata": {
        "id": "Pm_ZVNomnWvP"
      },
      "source": [
        "Now we've got the best performing LSTM model loaded in, let's make predictions with it and evaluate them."
      ]
    },
    {
      "cell_type": "code",
      "execution_count": 59,
      "metadata": {
        "colab": {
          "base_uri": "https://localhost:8080/"
        },
        "id": "yfG11v_51UWa",
        "outputId": "764915f3-48c2-4e64-b8a3-42867ea9eb0b"
      },
      "outputs": [
        {
          "name": "stdout",
          "output_type": "stream",
          "text": [
            "22/22 [==============================] - 0s 2ms/step\n"
          ]
        },
        {
          "data": {
            "text/plain": [
              "<tf.Tensor: shape=(10, 7), dtype=float32, numpy=\n",
              "array([[40498.566, 38839.93 , 39035.484, 38445.652, 38383.32 , 38513.77 ,\n",
              "        38379.953],\n",
              "       [40360.92 , 38642.89 , 38827.727, 38264.797, 38253.246, 38360.95 ,\n",
              "        38189.7  ],\n",
              "       [40099.37 , 38469.008, 38607.83 , 38149.207, 38182.1  , 38243.875,\n",
              "        37998.555],\n",
              "       [40531.793, 38932.74 , 39060.125, 38570.332, 38590.04 , 38593.496,\n",
              "        38403.305],\n",
              "       [40718.92 , 39079.91 , 39226.555, 38726.793, 38652.617, 38849.867,\n",
              "        38496.617],\n",
              "       [40908.895, 39215.87 , 39396.125, 38868.477, 38938.355, 39008.523,\n",
              "        38706.87 ],\n",
              "       [41000.535, 39287.125, 39481.195, 38943.168, 38968.332, 39047.227,\n",
              "        38825.363],\n",
              "       [40958.875, 39167.414, 39428.992, 38852.46 , 38896.023, 39026.83 ,\n",
              "        38830.45 ],\n",
              "       [41109.953, 39251.35 , 39594.51 , 38866.49 , 38899.133, 39216.137,\n",
              "        38898.293],\n",
              "       [41205.965, 39272.676, 39701.117, 38806.023, 38860.53 , 39193.254,\n",
              "        38921.047]], dtype=float32)>"
            ]
          },
          "execution_count": 59,
          "metadata": {},
          "output_type": "execute_result"
        }
      ],
      "source": [
        "# Make predictions with our LSTM model\n",
        "model_5_preds = make_preds(model_5, test_windows)\n",
        "model_5_preds[:10]"
      ]
    },
    {
      "cell_type": "code",
      "execution_count": 60,
      "metadata": {
        "colab": {
          "base_uri": "https://localhost:8080/"
        },
        "id": "sVv5Kg5N1axK",
        "outputId": "ef27748e-7980-4e94-af5a-b9f89840840a"
      },
      "outputs": [
        {
          "data": {
            "text/plain": [
              "{'mae': 1873.8583,\n",
              " 'mse': 6613602.0,\n",
              " 'rmse': 2037.0082,\n",
              " 'mape': 6.791309,\n",
              " 'mase': 3.6587627}"
            ]
          },
          "execution_count": 60,
          "metadata": {},
          "output_type": "execute_result"
        }
      ],
      "source": [
        "# Evaluate model 5 preds\n",
        "model_5_results = evaluate_preds(y_true=tf.squeeze(test_labels),\n",
        "                                 y_pred=model_5_preds)\n",
        "model_5_results"
      ]
    },
    {
      "cell_type": "markdown",
      "metadata": {
        "id": "V-lSjFE-4_qq"
      },
      "source": [
        "When we scale the block reward and the Bitcoin price, we can see the price goes up as the block reward goes down, perhaps this information will be helpful to our model's performance."
      ]
    },
    {
      "cell_type": "markdown",
      "metadata": {
        "id": "Pbfw5uqEzlZ3"
      },
      "source": [
        "Training and test multivariate time series datasets made! Time to build a model."
      ]
    },
    {
      "cell_type": "markdown",
      "metadata": {
        "id": "Dv1Z7Q8N4qI5"
      },
      "source": [
        "### Make predictions on the future\n",
        "\n",
        "Let's predict the future and get rich!\n",
        "\n",
        "Well... maybe not.\n",
        "\n",
        "As you've seen so far, our machine learning models have performed quite poorly at predicting the price of Bitcoin (time series forecasting in open systems is typically a game of luck), often worse than the naive forecast.\n",
        "\n",
        "That doesn't mean we can't use our models to *try* and predict into the future right?\n",
        "\n",
        "To do so, let's start by defining a variable `INTO_FUTURE` which decides how many timesteps we'd like to predict into the future."
      ]
    },
    {
      "cell_type": "code",
      "execution_count": 61,
      "metadata": {
        "id": "sYxHD1qPA1Mj"
      },
      "outputs": [],
      "source": [
        "# How many timesteps to predict into the future?\n",
        "INTO_FUTURE = 14 # since our Bitcoin data is daily, this is for 14 days"
      ]
    },
    {
      "cell_type": "markdown",
      "metadata": {
        "id": "4b2Flb1Wb4G4"
      },
      "source": [
        "![flowchart representation prediction loop to make forecasts and then append forecasts to data and make more forecasts continuously until forecast horizon is exhausted](https://raw.githubusercontent.com/mrdbourke/tensorflow-deep-learning/main/images/10-prediction-loop-for-forecasts.png)\n",
        "\n",
        "\n",
        "*Example flow chart representing the loop we're about to create for making forecasts. Not pictured: retraining a forecasting model every time a forecast is made & new data is acquired. For example, if you're predicting the price of Bitcoin daily, you'd want to retrain your model every day, since each day you're going to have a new data point to work with.*\n",
        "\n",
        "Alright, let's create a function which returns `INTO_FUTURE` forecasted values using a trained model.\n",
        "\n",
        "To do so, we'll build the following steps:\n",
        "1. Function which takes as input: \n",
        "  * a list of values (the Bitcoin historical data)\n",
        "  * a trained model (such as `model_9`)\n",
        "  * a window into the future to predict (our `INTO_FUTURE` variable)\n",
        "  * the window size a model was trained on (`WINDOW_SIZE`) - the model can only predict on the same kind of data it was trained on\n",
        "2. Creates an empty list for future forecasts (this will be returned at the end of the function) and extracts the last `WINDOW_SIZE` values from the input values (predictions will start from the last `WINDOW_SIZE` values of the training data)\n",
        "3. Loop `INTO_FUTURE` times making a prediction on `WINDOW_SIZE` datasets which update to remove the first the value and append the latest prediction \n",
        "  * Eventually future predictions will be made using the model's own previous predictions as input"
      ]
    },
    {
      "cell_type": "code",
      "execution_count": 62,
      "metadata": {
        "id": "JEtTHMV_iE7f"
      },
      "outputs": [],
      "source": [
        "# 1. Create function to make predictions into the future\n",
        "def make_future_forecast(values, model, into_future, window_size=WINDOW_SIZE) -> list:\n",
        "  \"\"\"\n",
        "  Makes future forecasts into_future steps after values ends.\n",
        "\n",
        "  Returns future forecasts as list of floats.\n",
        "  \"\"\"\n",
        "  # 2. Make an empty list for future forecasts/prepare data to forecast on\n",
        "  future_forecast = []\n",
        "  last_window = values[-WINDOW_SIZE:] # only want preds from the last window (this will get updated)\n",
        "\n",
        "  # 3. Make INTO_FUTURE number of predictions, altering the data which gets predicted on each time \n",
        "  for _ in range(into_future):\n",
        "    \n",
        "    # Predict on last window then append it again, again, again (model starts to make forecasts on its own forecasts)\n",
        "    future_pred = model.predict(tf.expand_dims(last_window, axis=0))\n",
        "    print(f\"Predicting on: \\n {last_window} -> Prediction: {tf.squeeze(future_pred).numpy()}\\n\")\n",
        "    \n",
        "    # Append predictions to future_forecast\n",
        "    future_forecast.append(tf.squeeze(future_pred).numpy())\n",
        "    # print(future_forecast)\n",
        "\n",
        "    # Update last window with new pred and get WINDOW_SIZE most recent preds (model was trained on WINDOW_SIZE windows)\n",
        "    last_window = np.append(last_window, future_pred)[-WINDOW_SIZE:]\n",
        "  \n",
        "  return future_forecast"
      ]
    },
    {
      "cell_type": "markdown",
      "metadata": {
        "id": "shcu6e7EeSWz"
      },
      "source": [
        "Nice! Time to bring BitPredict 💰📈 to life and make future forecasts of the price of Bitcoin.\n",
        "\n",
        "> 🛠 **Exercise:** In terms of a forecasting model, what might another approach to our `make_future_forecasts()` function? Recall, that for making forecasts, you need to retrain a model each time you want to generate a new prediction. \n",
        ">\n",
        "> So perhaps you could try to: make a prediction (one timestep into the future), retrain a model with this new prediction appended to the data, make a prediction, append the prediction, retrain a model... etc. \n",
        ">\n",
        "> As it is, the `make_future_forecasts()` function skips the retraining of a model part."
      ]
    },
    {
      "cell_type": "code",
      "execution_count": 64,
      "metadata": {
        "id": "i4iNNliSCbU-"
      },
      "outputs": [],
      "source": [
        "def get_future_dates(start_date, into_future, offset=1):\n",
        "  \"\"\"\n",
        "  Returns array of datetime values from ranging from start_date to start_date+horizon.\n",
        "\n",
        "  start_date: date to start range (np.datetime64)\n",
        "  into_future: number of days to add onto start date for range (int)\n",
        "  offset: number of days to offset start_date by (default 1)\n",
        "  \"\"\"\n",
        "  start_date = start_date + np.timedelta64(offset, \"D\") # specify start date, \"D\" stands for day\n",
        "  end_date = start_date + np.timedelta64(into_future, \"D\") # specify end date\n",
        "  return np.arange(start_date, end_date, dtype=\"datetime64[D]\") # return a date range between start date and end date"
      ]
    },
    {
      "cell_type": "markdown",
      "metadata": {
        "id": "sob2VY8chLA5"
      },
      "source": [
        "The start date of our forecasted dates will be the last date of our dataset. "
      ]
    },
    {
      "cell_type": "code",
      "execution_count": 65,
      "metadata": {
        "colab": {
          "base_uri": "https://localhost:8080/"
        },
        "id": "6676Sl-cAFn5",
        "outputId": "fbfc545a-a313-4866-ea98-c4f1b397d0bf"
      },
      "outputs": [
        {
          "data": {
            "text/plain": [
              "Timestamp('2024-01-05 00:00:00')"
            ]
          },
          "execution_count": 65,
          "metadata": {},
          "output_type": "execute_result"
        }
      ],
      "source": [
        "# Last timestep of timesteps (currently in np.datetime64 format)\n",
        "last_timestep = bitcoin_prices.index[-1]\n",
        "last_timestep"
      ]
    },
    {
      "cell_type": "code",
      "execution_count": null,
      "metadata": {
        "colab": {
          "base_uri": "https://localhost:8080/"
        },
        "id": "252bhVD7C5NZ",
        "outputId": "17065a39-4de8-4528-a380-2415a528db8c"
      },
      "outputs": [],
      "source": [
        "# Get next two weeks of timesteps\n",
        "next_time_steps = get_future_dates(start_date=last_timestep, \n",
        "                                   into_future=INTO_FUTURE)\n",
        "next_time_steps"
      ]
    },
    {
      "cell_type": "markdown",
      "metadata": {
        "id": "A5FIVsQJhVVs"
      },
      "source": [
        "Look at that! We've now got a list of dates we can use to visualize our future Bitcoin predictions.\n",
        "\n",
        "But to make sure the lines of the plot connect (try not running the cell below and then plotting the data to see what I mean), let's insert the last timestep and Bitcoin price of our training data to the `next_time_steps` and `future_forecast` arrays."
      ]
    },
    {
      "cell_type": "code",
      "execution_count": null,
      "metadata": {
        "colab": {
          "base_uri": "https://localhost:8080/"
        },
        "id": "QLXAudg3hIo9",
        "outputId": "c33b3c8d-8fd5-49c3-951e-d111d6b6c5e8"
      },
      "outputs": [],
      "source": [
        "# Insert last timestep/final price so the graph doesn't look messed\n",
        "next_time_steps = np.insert(next_time_steps, 0, last_timestep)\n",
        "future_forecast = np.insert(future_forecast, 0, btc_price[-1])\n",
        "next_time_steps, future_forecast"
      ]
    },
    {
      "cell_type": "markdown",
      "metadata": {
        "id": "-xDtk3wHhyDQ"
      },
      "source": [
        "Time to plot!"
      ]
    },
    {
      "cell_type": "code",
      "execution_count": null,
      "metadata": {
        "colab": {
          "base_uri": "https://localhost:8080/",
          "height": 442
        },
        "id": "LUo-rjmpfuM0",
        "outputId": "79e101a7-7475-49fe-a1ee-1532578a3a80"
      },
      "outputs": [],
      "source": [
        "# Plot future price predictions of Bitcoin\n",
        "plt.figure(figsize=(10, 7))\n",
        "plot_time_series(bitcoin_prices.index, btc_price, start=2500, format=\"-\", label=\"Actual BTC Price\")\n",
        "plot_time_series(next_time_steps, future_forecast, format=\"-\", label=\"Predicted BTC Price\")"
      ]
    },
    {
      "cell_type": "markdown",
      "metadata": {
        "id": "xWwHor7lBR3b"
      },
      "source": [
        "## Compare Models\n",
        "\n",
        "We've trained a bunch of models.\n",
        "\n",
        "And if anything, we've seen just how poorly machine learning and deep learning models are at forecasting the price of Bitcoin (or any kind of open market value).\n",
        "\n",
        "To highlight this, let's compare the results of all of the modelling experiments we've performed so far."
      ]
    },
    {
      "cell_type": "code",
      "execution_count": null,
      "metadata": {
        "colab": {
          "base_uri": "https://localhost:8080/",
          "height": 359
        },
        "id": "vZtkauQXBXVx",
        "outputId": "af622e83-258b-4d7a-de18-5e59027b169d"
      },
      "outputs": [],
      "source": [
        "# Compare different model results (w = window, h = horizon, e.g. w=7 means a window size of 7)\n",
        "model_results = pd.DataFrame({\n",
        "                              \"model_1_dense_w7_h1\": model_1_results,\n",
        "                              \"model_2_dense_w30_h1\": model_2_results,\n",
        "                              \"model_3_dense_w30_h7\": model_3_results,\n",
        "                              \"model_4_CONV1D\": model_4_results,\n",
        "                              \"model_5_LSTM\": model_5_results,\n",
        "                             \n",
        "                             }).T\n",
        "model_results.head(10)"
      ]
    },
    {
      "cell_type": "code",
      "execution_count": null,
      "metadata": {
        "colab": {
          "base_uri": "https://localhost:8080/",
          "height": 539
        },
        "id": "PrLcCM-LFv2B",
        "outputId": "c96cae30-d0dd-4c1d-eaf3-4b4258e96639"
      },
      "outputs": [],
      "source": [
        "# Sort model results by MAE and plot them\n",
        "model_results[[\"mae\"]].sort_values(by=\"mae\").plot(figsize=(10, 7), kind=\"bar\");"
      ]
    },
    {
      "cell_type": "markdown",
      "metadata": {
        "id": "ke0mH9fr5HP1"
      },
      "source": [
        "The majority of our deep learning models perform on par or only slightly better than the naive model. And for the turkey model, changing a single data point destroys its performance.\n",
        "\n",
        "> 🔑 **Note:** Just because one type of model performs better here doesn't mean it'll perform the best elsewhere (and vice versa, just because one model performs poorly here, doesn't mean it'll perform poorly elsewhere).\n",
        "\n",
        "As I said at the start, this is not financial advice.\n",
        "\n",
        "After what we've gone through, you'll now have some of the skills required to callout BS for any future tutorial or blog post or investment sales guide claiming to have model which is able to predict the futrue.\n",
        "\n",
        "[Mark Saroufim's Tweet](https://twitter.com/marksaroufim/status/1366871736604532739?s=20) sums this up nicely (stock market forecasting with a machine learning model is just as reliable as palm reading).\n",
        "\n",
        "![Mark Saroufim tweet on what forecasting with a machine learning model reminds him of: palm reading, basic heuristics, comparing calculations in the brain of different organisms](https://raw.githubusercontent.com/mrdbourke/tensorflow-deep-learning/main/images/10-mark-saroufim-tweet-forecasting-bs.png)\n",
        "*Beware the tutorials or trading courses which claim to use some kind of algorithm to beat the market (an open system), they're likely a scam or the creator is very lucky and hasn't yet come across a turkey problem.*\n",
        "\n",
        "Don't let these results get you down though, forecasting in a closed system (such as predicting the demand of electricity) often yields quite usable results.\n",
        "\n",
        "If anything, this module teaches anti-knowledge. Knowing that forecasting methods usually *don't* perform well in open systems.\n",
        "\n",
        "Plus, sometimes not knowing the future is a benefit. A known future is already the past.\n",
        "\n"
      ]
    }
  ],
  "metadata": {
    "accelerator": "GPU",
    "colab": {
      "authorship_tag": "ABX9TyMKHq9zYuL5lcH+aaRNPUt2",
      "collapsed_sections": [],
      "include_colab_link": true,
      "name": "10_time_series_forecasting_in_tensorflow.ipynb",
      "provenance": []
    },
    "kernelspec": {
      "display_name": "Python 3",
      "name": "python3"
    },
    "language_info": {
      "codemirror_mode": {
        "name": "ipython",
        "version": 3
      },
      "file_extension": ".py",
      "mimetype": "text/x-python",
      "name": "python",
      "nbconvert_exporter": "python",
      "pygments_lexer": "ipython3",
      "version": "3.11.5"
    }
  },
  "nbformat": 4,
  "nbformat_minor": 0
}
