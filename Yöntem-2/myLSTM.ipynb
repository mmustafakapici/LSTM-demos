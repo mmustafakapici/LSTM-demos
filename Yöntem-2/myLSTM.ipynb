{
 "cells": [
  {
   "cell_type": "code",
   "execution_count": 1,
   "metadata": {},
   "outputs": [],
   "source": [
    "import pandas as pd\n",
    "import numpy as np\n",
    "import matplotlib.pyplot as plt"
   ]
  },
  {
   "cell_type": "code",
   "execution_count": 2,
   "metadata": {},
   "outputs": [],
   "source": [
    "import tensorflow as tf"
   ]
  },
  {
   "cell_type": "code",
   "execution_count": 3,
   "metadata": {},
   "outputs": [],
   "source": [
    "import yfinance as yf # yfinance is used to download the data from yahoo finance"
   ]
  },
  {
   "cell_type": "code",
   "execution_count": 4,
   "metadata": {},
   "outputs": [
    {
     "name": "stdout",
     "output_type": "stream",
     "text": [
      "[*********************100%%**********************]  1 of 1 completed\n"
     ]
    },
    {
     "data": {
      "text/html": [
       "<div>\n",
       "<style scoped>\n",
       "    .dataframe tbody tr th:only-of-type {\n",
       "        vertical-align: middle;\n",
       "    }\n",
       "\n",
       "    .dataframe tbody tr th {\n",
       "        vertical-align: top;\n",
       "    }\n",
       "\n",
       "    .dataframe thead th {\n",
       "        text-align: right;\n",
       "    }\n",
       "</style>\n",
       "<table border=\"1\" class=\"dataframe\">\n",
       "  <thead>\n",
       "    <tr style=\"text-align: right;\">\n",
       "      <th></th>\n",
       "      <th>Open</th>\n",
       "      <th>High</th>\n",
       "      <th>Low</th>\n",
       "      <th>Close</th>\n",
       "      <th>Adj Close</th>\n",
       "      <th>Volume</th>\n",
       "    </tr>\n",
       "    <tr>\n",
       "      <th>Date</th>\n",
       "      <th></th>\n",
       "      <th></th>\n",
       "      <th></th>\n",
       "      <th></th>\n",
       "      <th></th>\n",
       "      <th></th>\n",
       "    </tr>\n",
       "  </thead>\n",
       "  <tbody>\n",
       "    <tr>\n",
       "      <th>2014-09-17</th>\n",
       "      <td>465.864014</td>\n",
       "      <td>468.174011</td>\n",
       "      <td>452.421997</td>\n",
       "      <td>457.334015</td>\n",
       "      <td>457.334015</td>\n",
       "      <td>21056800</td>\n",
       "    </tr>\n",
       "    <tr>\n",
       "      <th>2014-09-18</th>\n",
       "      <td>456.859985</td>\n",
       "      <td>456.859985</td>\n",
       "      <td>413.104004</td>\n",
       "      <td>424.440002</td>\n",
       "      <td>424.440002</td>\n",
       "      <td>34483200</td>\n",
       "    </tr>\n",
       "    <tr>\n",
       "      <th>2014-09-19</th>\n",
       "      <td>424.102997</td>\n",
       "      <td>427.834991</td>\n",
       "      <td>384.532013</td>\n",
       "      <td>394.795990</td>\n",
       "      <td>394.795990</td>\n",
       "      <td>37919700</td>\n",
       "    </tr>\n",
       "    <tr>\n",
       "      <th>2014-09-20</th>\n",
       "      <td>394.673004</td>\n",
       "      <td>423.295990</td>\n",
       "      <td>389.882996</td>\n",
       "      <td>408.903992</td>\n",
       "      <td>408.903992</td>\n",
       "      <td>36863600</td>\n",
       "    </tr>\n",
       "    <tr>\n",
       "      <th>2014-09-21</th>\n",
       "      <td>408.084991</td>\n",
       "      <td>412.425995</td>\n",
       "      <td>393.181000</td>\n",
       "      <td>398.821014</td>\n",
       "      <td>398.821014</td>\n",
       "      <td>26580100</td>\n",
       "    </tr>\n",
       "  </tbody>\n",
       "</table>\n",
       "</div>"
      ],
      "text/plain": [
       "                  Open        High         Low       Close   Adj Close  \\\n",
       "Date                                                                     \n",
       "2014-09-17  465.864014  468.174011  452.421997  457.334015  457.334015   \n",
       "2014-09-18  456.859985  456.859985  413.104004  424.440002  424.440002   \n",
       "2014-09-19  424.102997  427.834991  384.532013  394.795990  394.795990   \n",
       "2014-09-20  394.673004  423.295990  389.882996  408.903992  408.903992   \n",
       "2014-09-21  408.084991  412.425995  393.181000  398.821014  398.821014   \n",
       "\n",
       "              Volume  \n",
       "Date                  \n",
       "2014-09-17  21056800  \n",
       "2014-09-18  34483200  \n",
       "2014-09-19  37919700  \n",
       "2014-09-20  36863600  \n",
       "2014-09-21  26580100  "
      ]
     },
     "execution_count": 4,
     "metadata": {},
     "output_type": "execute_result"
    }
   ],
   "source": [
    "btc_data  = yf.download('BTC-USD' , period='3600d')\n",
    "df = btc_data[['Open', 'High', 'Low', 'Close' , 'Adj Close', 'Volume']]  # İlgili sütunların seçilmesi\n",
    "\n",
    "df.head()"
   ]
  },
  {
   "cell_type": "code",
   "execution_count": 5,
   "metadata": {},
   "outputs": [
    {
     "name": "stdout",
     "output_type": "stream",
     "text": [
      "<class 'pandas.core.frame.DataFrame'>\n",
      "DatetimeIndex: 3400 entries, 2014-09-17 to 2024-01-07\n",
      "Data columns (total 6 columns):\n",
      " #   Column     Non-Null Count  Dtype  \n",
      "---  ------     --------------  -----  \n",
      " 0   Open       3400 non-null   float64\n",
      " 1   High       3400 non-null   float64\n",
      " 2   Low        3400 non-null   float64\n",
      " 3   Close      3400 non-null   float64\n",
      " 4   Adj Close  3400 non-null   float64\n",
      " 5   Volume     3400 non-null   int64  \n",
      "dtypes: float64(5), int64(1)\n",
      "memory usage: 185.9 KB\n"
     ]
    }
   ],
   "source": [
    "df.info()  # Veri setinin bilgileri"
   ]
  },
  {
   "cell_type": "code",
   "execution_count": 6,
   "metadata": {},
   "outputs": [
    {
     "data": {
      "text/plain": [
       "3400"
      ]
     },
     "execution_count": 6,
     "metadata": {},
     "output_type": "execute_result"
    }
   ],
   "source": [
    "len(df)  # Veri setinin uzunluğu"
   ]
  },
  {
   "cell_type": "code",
   "execution_count": 7,
   "metadata": {},
   "outputs": [
    {
     "data": {
      "text/html": [
       "<div>\n",
       "<style scoped>\n",
       "    .dataframe tbody tr th:only-of-type {\n",
       "        vertical-align: middle;\n",
       "    }\n",
       "\n",
       "    .dataframe tbody tr th {\n",
       "        vertical-align: top;\n",
       "    }\n",
       "\n",
       "    .dataframe thead th {\n",
       "        text-align: right;\n",
       "    }\n",
       "</style>\n",
       "<table border=\"1\" class=\"dataframe\">\n",
       "  <thead>\n",
       "    <tr style=\"text-align: right;\">\n",
       "      <th></th>\n",
       "      <th>Price</th>\n",
       "    </tr>\n",
       "    <tr>\n",
       "      <th>Date</th>\n",
       "      <th></th>\n",
       "    </tr>\n",
       "  </thead>\n",
       "  <tbody>\n",
       "    <tr>\n",
       "      <th>2014-09-17</th>\n",
       "      <td>457.334015</td>\n",
       "    </tr>\n",
       "    <tr>\n",
       "      <th>2014-09-18</th>\n",
       "      <td>424.440002</td>\n",
       "    </tr>\n",
       "    <tr>\n",
       "      <th>2014-09-19</th>\n",
       "      <td>394.795990</td>\n",
       "    </tr>\n",
       "    <tr>\n",
       "      <th>2014-09-20</th>\n",
       "      <td>408.903992</td>\n",
       "    </tr>\n",
       "    <tr>\n",
       "      <th>2014-09-21</th>\n",
       "      <td>398.821014</td>\n",
       "    </tr>\n",
       "  </tbody>\n",
       "</table>\n",
       "</div>"
      ],
      "text/plain": [
       "                 Price\n",
       "Date                  \n",
       "2014-09-17  457.334015\n",
       "2014-09-18  424.440002\n",
       "2014-09-19  394.795990\n",
       "2014-09-20  408.903992\n",
       "2014-09-21  398.821014"
      ]
     },
     "execution_count": 7,
     "metadata": {},
     "output_type": "execute_result"
    }
   ],
   "source": [
    "# Only want closing price for each day \n",
    "bitcoin_prices = pd.DataFrame(df[\"Close\"]).rename(columns={\"Close\": \"Price\"}) # Sadece kapanış fiyatlarını alıyoruz ve sütun ismini değiştiriyoruz\n",
    "bitcoin_prices.head()"
   ]
  },
  {
   "cell_type": "code",
   "execution_count": 8,
   "metadata": {},
   "outputs": [
    {
     "data": {
      "image/png": "[encoded data removed]",
      "text/plain": [
       "<Figure size 1000x700 with 1 Axes>"
      ]
     },
     "metadata": {},
     "output_type": "display_data"
    }
   ],
   "source": [
    "bitcoin_prices.plot(figsize=(10, 7))\n",
    "plt.ylabel(\"BTC Price\")\n",
    "plt.title(\"Price of Bitcoin from 1 Oct 2013 to 18 May 2021\", fontsize=16)\n",
    "plt.legend(fontsize=14);"
   ]
  },
  {
   "cell_type": "code",
   "execution_count": 9,
   "metadata": {},
   "outputs": [
    {
     "data": {
      "text/plain": [
       "([Timestamp('2014-09-17 00:00:00'),\n",
       "  Timestamp('2014-09-18 00:00:00'),\n",
       "  Timestamp('2014-09-19 00:00:00'),\n",
       "  Timestamp('2014-09-20 00:00:00'),\n",
       "  Timestamp('2014-09-21 00:00:00'),\n",
       "  Timestamp('2014-09-22 00:00:00'),\n",
       "  Timestamp('2014-09-23 00:00:00'),\n",
       "  Timestamp('2014-09-24 00:00:00'),\n",
       "  Timestamp('2014-09-25 00:00:00'),\n",
       "  Timestamp('2014-09-26 00:00:00')],\n",
       " [457.3340148925781,\n",
       "  424.44000244140625,\n",
       "  394.7959899902344,\n",
       "  408.90399169921875,\n",
       "  398.8210144042969,\n",
       "  402.1520080566406,\n",
       "  435.7909851074219,\n",
       "  423.2049865722656,\n",
       "  411.5740051269531,\n",
       "  404.42498779296875])"
      ]
     },
     "execution_count": 9,
     "metadata": {},
     "output_type": "execute_result"
    }
   ],
   "source": [
    "# Formatting historical Bitcoin data with Python\n",
    "from datetime import datetime\n",
    "\n",
    "timesteps = []\n",
    "btc_price = []\n",
    "\n",
    "\n",
    "# ilk 10 satırın gösterilmesi\n",
    "for row in df.itertuples():\n",
    "  timesteps.append(row.Index)\n",
    "  btc_price.append(row.Close)\n",
    "\n",
    "\n",
    "\n",
    "\n",
    "\n",
    "timesteps[:10], btc_price[:10]"
   ]
  },
  {
   "cell_type": "code",
   "execution_count": 10,
   "metadata": {},
   "outputs": [
    {
     "data": {
      "image/png": "[encoded data removed]",
      "text/plain": [
       "<Figure size 1000x700 with 1 Axes>"
      ]
     },
     "metadata": {},
     "output_type": "display_data"
    }
   ],
   "source": [
    "plt.figure(figsize=(10, 7))\n",
    "plt.plot(timesteps, btc_price)\n",
    "plt.title(\"Price of Bitcoin \", fontsize=16)\n",
    "plt.xlabel(\"Date\")\n",
    "plt.ylabel(\"BTC Price\");"
   ]
  },
  {
   "cell_type": "code",
   "execution_count": 11,
   "metadata": {},
   "outputs": [
    {
     "data": {
      "text/plain": [
       "(array(['2014-09-17T00:00:00.000000000', '2014-09-18T00:00:00.000000000',\n",
       "        '2014-09-19T00:00:00.000000000', '2014-09-20T00:00:00.000000000',\n",
       "        '2014-09-21T00:00:00.000000000', '2014-09-22T00:00:00.000000000',\n",
       "        '2014-09-23T00:00:00.000000000', '2014-09-24T00:00:00.000000000',\n",
       "        '2014-09-25T00:00:00.000000000', '2014-09-26T00:00:00.000000000'],\n",
       "       dtype='datetime64[ns]'),\n",
       " array([457.33401489, 424.44000244, 394.79598999, 408.9039917 ,\n",
       "        398.8210144 , 402.15200806, 435.79098511, 423.20498657,\n",
       "        411.57400513, 404.42498779]))"
      ]
     },
     "execution_count": 11,
     "metadata": {},
     "output_type": "execute_result"
    }
   ],
   "source": [
    "# Get bitcoin date array\n",
    "timesteps = bitcoin_prices.index.to_numpy()\n",
    "prices = bitcoin_prices[\"Price\"].to_numpy()\n",
    "\n",
    "timesteps[:10], prices[:10]"
   ]
  },
  {
   "cell_type": "code",
   "execution_count": 12,
   "metadata": {},
   "outputs": [
    {
     "data": {
      "text/plain": [
       "(2720, 680, 2720, 680)"
      ]
     },
     "execution_count": 12,
     "metadata": {},
     "output_type": "execute_result"
    }
   ],
   "source": [
    "# Create train and test splits the right way for time series data\n",
    "split_size = int(0.8 * len(prices)) # 80% train, 20% test\n",
    "\n",
    "# Create train data splits (everything before the split)\n",
    "X_train, y_train = timesteps[:split_size], prices[:split_size]\n",
    "\n",
    "# Create test data splits (everything after the split)\n",
    "X_test, y_test = timesteps[split_size:], prices[split_size:]\n",
    "\n",
    "len(X_train), len(X_test), len(y_train), len(y_test)"
   ]
  },
  {
   "cell_type": "code",
   "execution_count": 13,
   "metadata": {},
   "outputs": [
    {
     "data": {
      "image/png": "[encoded data removed]",
      "text/plain": [
       "<Figure size 1000x700 with 1 Axes>"
      ]
     },
     "metadata": {},
     "output_type": "display_data"
    }
   ],
   "source": [
    "# Plot correctly made splits\n",
    "plt.figure(figsize=(10, 7))\n",
    "plt.scatter(X_train, y_train, s=5, label=\"Train data\")\n",
    "plt.scatter(X_test, y_test, s=5, label=\"Test data\")\n",
    "plt.xlabel(\"Date\")\n",
    "plt.ylabel(\"BTC Price\")\n",
    "plt.legend(fontsize=14)\n",
    "plt.show();"
   ]
  },
  {
   "cell_type": "code",
   "execution_count": 14,
   "metadata": {},
   "outputs": [],
   "source": [
    "# Create a function to plot time series data\n",
    "def plot_time_series(timesteps, values, format='.', start=0, end=None, label=None):\n",
    "  \"\"\"\n",
    "  Plots a timesteps (a series of points in time) against values (a series of values across timesteps).\n",
    "  \n",
    "  Parameters\n",
    "  ---------\n",
    "  timesteps : array of timesteps\n",
    "  values : array of values across time\n",
    "  format : style of plot, default \".\"\n",
    "  start : where to start the plot (setting a value will index from start of timesteps & values)\n",
    "  end : where to end the plot (setting a value will index from end of timesteps & values)\n",
    "  label : label to show on plot of values\n",
    "  \"\"\"\n",
    "  # Plot the series\n",
    "  plt.plot(timesteps[start:end], values[start:end], format, label=label)\n",
    "  plt.xlabel(\"Time\")\n",
    "  plt.ylabel(\"BTC Price\")\n",
    "  if label:\n",
    "    plt.legend(fontsize=14) # make label bigger\n",
    "  plt.grid(True)"
   ]
  },
  {
   "cell_type": "code",
   "execution_count": 15,
   "metadata": {},
   "outputs": [
    {
     "data": {
      "image/png": "[encoded data removed]",
      "text/plain": [
       "<Figure size 1000x700 with 1 Axes>"
      ]
     },
     "metadata": {},
     "output_type": "display_data"
    }
   ],
   "source": [
    "# Try out our plotting function\n",
    "plt.figure(figsize=(10, 7))\n",
    "plot_time_series(timesteps=X_train, values=y_train, label=\"Train data\")\n",
    "plot_time_series(timesteps=X_test, values=y_test, label=\"Test data\")"
   ]
  },
  {
   "cell_type": "code",
   "execution_count": 16,
   "metadata": {},
   "outputs": [],
   "source": [
    "def evaluate_preds(y_true, y_pred):\n",
    "  # Make sure float32 (for metric calculations)\n",
    "  y_true = tf.cast(y_true, dtype=tf.float32)\n",
    "  y_pred = tf.cast(y_pred, dtype=tf.float32)\n",
    "\n",
    "  # Calculate various metrics\n",
    "  mae = tf.keras.metrics.mean_absolute_error(y_true, y_pred)\n",
    "  mse = tf.keras.metrics.mean_squared_error(y_true, y_pred) # puts and emphasis on outliers (all errors get squared)\n",
    "  rmse = tf.sqrt(mse)\n",
    "  mape = tf.keras.metrics.mean_absolute_percentage_error(y_true, y_pred)\n",
    "  \n",
    "  return {\"mae\": mae.numpy(),\n",
    "          \"mse\": mse.numpy(),\n",
    "          \"rmse\": rmse.numpy(),\n",
    "          \"mape\": mape.numpy()\n",
    "          }"
   ]
  },
  {
   "cell_type": "code",
   "execution_count": 17,
   "metadata": {},
   "outputs": [
    {
     "data": {
      "text/plain": [
       "27646.193339269303"
      ]
     },
     "execution_count": 17,
     "metadata": {},
     "output_type": "execute_result"
    }
   ],
   "source": [
    "# Find average price of Bitcoin in test dataset\n",
    "tf.reduce_mean(y_test).numpy()"
   ]
  },
  {
   "cell_type": "code",
   "execution_count": 18,
   "metadata": {},
   "outputs": [],
   "source": [
    "HORIZON = 1 # predict 1 step at a time\n",
    "WINDOW_SIZE = 7 # use a week worth of timesteps to predict the horizon"
   ]
  },
  {
   "cell_type": "code",
   "execution_count": 19,
   "metadata": {},
   "outputs": [],
   "source": [
    "# Create function to label windowed data\n",
    "def get_labelled_windows(x, horizon=1):\n",
    "  \"\"\"\n",
    "  Creates labels for windowed dataset.\n",
    "\n",
    "  E.g. if horizon=1 (default)\n",
    "  Input: [1, 2, 3, 4, 5, 6] -> Output: ([1, 2, 3, 4, 5], [6])\n",
    "  \"\"\"\n",
    "  return x[:, :-horizon], x[:, -horizon:]"
   ]
  },
  {
   "cell_type": "code",
   "execution_count": 20,
   "metadata": {},
   "outputs": [
    {
     "name": "stdout",
     "output_type": "stream",
     "text": [
      "Window: [1 2 3 4 5 6 7] -> Label: 8\n"
     ]
    }
   ],
   "source": [
    "# Test out the window labelling function\n",
    "test_window, test_label = get_labelled_windows(tf.expand_dims(tf.range(8)+1, axis=0), horizon=HORIZON)\n",
    "print(f\"Window: {tf.squeeze(test_window).numpy()} -> Label: {tf.squeeze(test_label).numpy()}\")"
   ]
  },
  {
   "cell_type": "code",
   "execution_count": 21,
   "metadata": {},
   "outputs": [],
   "source": [
    "# Create function to view NumPy arrays as windows \n",
    "def make_windows(x, window_size=7, horizon=1):\n",
    "  \"\"\"\n",
    "  Turns a 1D array into a 2D array of sequential windows of window_size.\n",
    "  \"\"\"\n",
    "  # 1. Create a window of specific window_size (add the horizon on the end for later labelling)\n",
    "  window_step = np.expand_dims(np.arange(window_size+horizon), axis=0)\n",
    "  # print(f\"Window step:\\n {window_step}\")\n",
    "\n",
    "  # 2. Create a 2D array of multiple window steps (minus 1 to account for 0 indexing)\n",
    "  window_indexes = window_step + np.expand_dims(np.arange(len(x)-(window_size+horizon-1)), axis=0).T # create 2D array of windows of size window_size\n",
    "  # print(f\"Window indexes:\\n {window_indexes[:3], window_indexes[-3:], window_indexes.shape}\")\n",
    "\n",
    "  # 3. Index on the target array (time series) with 2D array of multiple window steps\n",
    "  windowed_array = x[window_indexes]\n",
    "\n",
    "  # 4. Get the labelled windows\n",
    "  windows, labels = get_labelled_windows(windowed_array, horizon=horizon)\n",
    "\n",
    "  return windows, labels"
   ]
  },
  {
   "cell_type": "code",
   "execution_count": 22,
   "metadata": {},
   "outputs": [
    {
     "data": {
      "text/plain": [
       "(3393, 3393)"
      ]
     },
     "execution_count": 22,
     "metadata": {},
     "output_type": "execute_result"
    }
   ],
   "source": [
    "full_windows, full_labels = make_windows(prices, window_size=WINDOW_SIZE, horizon=HORIZON)\n",
    "len(full_windows), len(full_labels)"
   ]
  },
  {
   "cell_type": "code",
   "execution_count": 23,
   "metadata": {},
   "outputs": [
    {
     "name": "stdout",
     "output_type": "stream",
     "text": [
      "Window: [457.33401489 424.44000244 394.79598999 408.9039917  398.8210144\n",
      " 402.15200806 435.79098511] \n",
      " -> Label: [423.20498657]\n",
      "Window: [424.44000244 394.79598999 408.9039917  398.8210144  402.15200806\n",
      " 435.79098511 423.20498657] \n",
      " -> Label: [411.57400513]\n",
      "Window: [394.79598999 408.9039917  398.8210144  402.15200806 435.79098511\n",
      " 423.20498657 411.57400513] \n",
      " -> Label: [404.42498779]\n"
     ]
    }
   ],
   "source": [
    "#örnek 3 satırın düzenli şekilde gösterilmesi\n",
    "for i in range(3):\n",
    "  print(f\"Window: {full_windows[i]} \\n -> Label: {full_labels[i]}\")\n"
   ]
  },
  {
   "cell_type": "code",
   "execution_count": 24,
   "metadata": {},
   "outputs": [
    {
     "name": "stdout",
     "output_type": "stream",
     "text": [
      "Window: [42099.40234375 42156.90234375 42265.1875     44167.33203125\n",
      " 44957.96875    42848.17578125 44179.921875  ]  \n",
      " -> Label: [44162.69140625]\n",
      "Window: [42156.90234375 42265.1875     44167.33203125 44957.96875\n",
      " 42848.17578125 44179.921875   44162.69140625]  \n",
      " -> Label: [43989.1953125]\n",
      "Window: [42265.1875     44167.33203125 44957.96875    42848.17578125\n",
      " 44179.921875   44162.69140625 43989.1953125 ]  \n",
      " -> Label: [44248.67578125]\n"
     ]
    }
   ],
   "source": [
    "# View the last 3 windows/labels\n",
    "for i in range(3):\n",
    "  print(f\"Window: {full_windows[i-3]}  \\n -> Label: {full_labels[i-3]}\")"
   ]
  },
  {
   "cell_type": "markdown",
   "metadata": {},
   "source": [
    "Turning windows into training and test sets"
   ]
  },
  {
   "cell_type": "code",
   "execution_count": 25,
   "metadata": {},
   "outputs": [],
   "source": [
    "# Make the train/test splits\n",
    "def make_train_test_splits(windows, labels, test_split=0.2):\n",
    "  \"\"\"\n",
    "  Splits matching pairs of windows and labels into train and test splits.\n",
    "  \"\"\"\n",
    "  split_size = int(len(windows) * (1-test_split)) # this will default to 80% train/20% test\n",
    "  train_windows = windows[:split_size]\n",
    "  train_labels = labels[:split_size]\n",
    "  test_windows = windows[split_size:]\n",
    "  test_labels = labels[split_size:]\n",
    "  return train_windows, test_windows, train_labels, test_labels"
   ]
  },
  {
   "cell_type": "code",
   "execution_count": 26,
   "metadata": {},
   "outputs": [
    {
     "data": {
      "text/plain": [
       "(2714, 679, 2714, 679)"
      ]
     },
     "execution_count": 26,
     "metadata": {},
     "output_type": "execute_result"
    }
   ],
   "source": [
    "train_windows, test_windows, train_labels, test_labels = make_train_test_splits(full_windows, full_labels)\n",
    "len(train_windows), len(test_windows), len(train_labels), len(test_labels)\n",
    "     "
   ]
  },
  {
   "cell_type": "code",
   "execution_count": 27,
   "metadata": {},
   "outputs": [
    {
     "data": {
      "text/plain": [
       "(array([[457.33401489, 424.44000244, 394.79598999, 408.9039917 ,\n",
       "         398.8210144 , 402.15200806, 435.79098511],\n",
       "        [424.44000244, 394.79598999, 408.9039917 , 398.8210144 ,\n",
       "         402.15200806, 435.79098511, 423.20498657],\n",
       "        [394.79598999, 408.9039917 , 398.8210144 , 402.15200806,\n",
       "         435.79098511, 423.20498657, 411.57400513],\n",
       "        [408.9039917 , 398.8210144 , 402.15200806, 435.79098511,\n",
       "         423.20498657, 411.57400513, 404.42498779],\n",
       "        [398.8210144 , 402.15200806, 435.79098511, 423.20498657,\n",
       "         411.57400513, 404.42498779, 399.51998901]]),\n",
       " array([[423.20498657],\n",
       "        [411.57400513],\n",
       "        [404.42498779],\n",
       "        [399.51998901],\n",
       "        [377.18099976]]))"
      ]
     },
     "execution_count": 27,
     "metadata": {},
     "output_type": "execute_result"
    }
   ],
   "source": [
    "train_windows[:5], train_labels[:5]"
   ]
  },
  {
   "cell_type": "code",
   "execution_count": 28,
   "metadata": {},
   "outputs": [
    {
     "data": {
      "text/plain": [
       "False"
      ]
     },
     "execution_count": 28,
     "metadata": {},
     "output_type": "execute_result"
    }
   ],
   "source": [
    "# Check to see if same (accounting for horizon and window size)\n",
    "np.array_equal(np.squeeze(train_labels[:-HORIZON-1]), y_train[WINDOW_SIZE:])\n"
   ]
  },
  {
   "cell_type": "code",
   "execution_count": 29,
   "metadata": {},
   "outputs": [],
   "source": [
    "import os\n",
    "\n",
    "# Create a function to implement a ModelCheckpoint callback with a specific filename \n",
    "def create_model_checkpoint(model_name, save_path=\"model_experiments\"):\n",
    "  return tf.keras.callbacks.ModelCheckpoint(filepath=os.path.join(save_path, model_name), # create filepath to save model\n",
    "                                            verbose=0, # only output a limited amount of text\n",
    "                                            save_best_only=True) # save only the best model to file\n",
    " "
   ]
  },
  {
   "cell_type": "markdown",
   "metadata": {},
   "source": [
    "## model 1"
   ]
  },
  {
   "cell_type": "code",
   "execution_count": 30,
   "metadata": {},
   "outputs": [
    {
     "name": "stdout",
     "output_type": "stream",
     "text": [
      "Epoch 1/100\n"
     ]
    },
    {
     "name": "stdout",
     "output_type": "stream",
     "text": [
      " 1/22 [>.............................] - ETA: 12s - loss: 10538.3555 - mae: 10538.3555"
     ]
    },
    {
     "ename": "FailedPreconditionError",
     "evalue": "model_experiments is not a directory",
     "output_type": "error",
     "traceback": [
      "\u001b[1;31m---------------------------------------------------------------------------\u001b[0m",
      "\u001b[1;31mFailedPreconditionError\u001b[0m                   Traceback (most recent call last)",
      "Cell \u001b[1;32mIn[30], line 19\u001b[0m\n\u001b[0;32m     14\u001b[0m model_1\u001b[38;5;241m.\u001b[39mcompile(loss\u001b[38;5;241m=\u001b[39m\u001b[38;5;124m\"\u001b[39m\u001b[38;5;124mmae\u001b[39m\u001b[38;5;124m\"\u001b[39m,\n\u001b[0;32m     15\u001b[0m                 optimizer\u001b[38;5;241m=\u001b[39mtf\u001b[38;5;241m.\u001b[39mkeras\u001b[38;5;241m.\u001b[39moptimizers\u001b[38;5;241m.\u001b[39mAdam(),\n\u001b[0;32m     16\u001b[0m                 metrics\u001b[38;5;241m=\u001b[39m[\u001b[38;5;124m\"\u001b[39m\u001b[38;5;124mmae\u001b[39m\u001b[38;5;124m\"\u001b[39m]) \u001b[38;5;66;03m# we don't necessarily need this when the loss function is already MAE\u001b[39;00m\n\u001b[0;32m     18\u001b[0m \u001b[38;5;66;03m# Fit model\u001b[39;00m\n\u001b[1;32m---> 19\u001b[0m \u001b[43mmodel_1\u001b[49m\u001b[38;5;241;43m.\u001b[39;49m\u001b[43mfit\u001b[49m\u001b[43m(\u001b[49m\u001b[43mx\u001b[49m\u001b[38;5;241;43m=\u001b[39;49m\u001b[43mtrain_windows\u001b[49m\u001b[43m,\u001b[49m\u001b[43m \u001b[49m\u001b[38;5;66;43;03m# train windows of 7 timesteps of Bitcoin prices\u001b[39;49;00m\n\u001b[0;32m     20\u001b[0m \u001b[43m            \u001b[49m\u001b[43my\u001b[49m\u001b[38;5;241;43m=\u001b[39;49m\u001b[43mtrain_labels\u001b[49m\u001b[43m,\u001b[49m\u001b[43m \u001b[49m\u001b[38;5;66;43;03m# horizon value of 1 (using the previous 7 timesteps to predict next day)\u001b[39;49;00m\n\u001b[0;32m     21\u001b[0m \u001b[43m            \u001b[49m\u001b[43mepochs\u001b[49m\u001b[38;5;241;43m=\u001b[39;49m\u001b[38;5;241;43m100\u001b[39;49m\u001b[43m,\u001b[49m\n\u001b[0;32m     22\u001b[0m \u001b[43m            \u001b[49m\u001b[43mverbose\u001b[49m\u001b[38;5;241;43m=\u001b[39;49m\u001b[38;5;241;43m1\u001b[39;49m\u001b[43m,\u001b[49m\n\u001b[0;32m     23\u001b[0m \u001b[43m            \u001b[49m\u001b[43mbatch_size\u001b[49m\u001b[38;5;241;43m=\u001b[39;49m\u001b[38;5;241;43m128\u001b[39;49m\u001b[43m,\u001b[49m\n\u001b[0;32m     24\u001b[0m \u001b[43m            \u001b[49m\u001b[43mvalidation_data\u001b[49m\u001b[38;5;241;43m=\u001b[39;49m\u001b[43m(\u001b[49m\u001b[43mtest_windows\u001b[49m\u001b[43m,\u001b[49m\u001b[43m \u001b[49m\u001b[43mtest_labels\u001b[49m\u001b[43m)\u001b[49m\u001b[43m,\u001b[49m\n\u001b[0;32m     25\u001b[0m \u001b[43m            \u001b[49m\u001b[43mcallbacks\u001b[49m\u001b[38;5;241;43m=\u001b[39;49m\u001b[43m[\u001b[49m\u001b[43mcreate_model_checkpoint\u001b[49m\u001b[43m(\u001b[49m\u001b[43mmodel_name\u001b[49m\u001b[38;5;241;43m=\u001b[39;49m\u001b[43mmodel_1\u001b[49m\u001b[38;5;241;43m.\u001b[39;49m\u001b[43mname\u001b[49m\u001b[43m)\u001b[49m\u001b[43m]\u001b[49m\u001b[43m)\u001b[49m\n",
      "File \u001b[1;32mc:\\Users\\mmust\\anaconda3\\envs\\all\\Lib\\site-packages\\keras\\src\\utils\\traceback_utils.py:70\u001b[0m, in \u001b[0;36mfilter_traceback.<locals>.error_handler\u001b[1;34m(*args, **kwargs)\u001b[0m\n\u001b[0;32m     67\u001b[0m     filtered_tb \u001b[38;5;241m=\u001b[39m _process_traceback_frames(e\u001b[38;5;241m.\u001b[39m__traceback__)\n\u001b[0;32m     68\u001b[0m     \u001b[38;5;66;03m# To get the full stack trace, call:\u001b[39;00m\n\u001b[0;32m     69\u001b[0m     \u001b[38;5;66;03m# `tf.debugging.disable_traceback_filtering()`\u001b[39;00m\n\u001b[1;32m---> 70\u001b[0m     \u001b[38;5;28;01mraise\u001b[39;00m e\u001b[38;5;241m.\u001b[39mwith_traceback(filtered_tb) \u001b[38;5;28;01mfrom\u001b[39;00m \u001b[38;5;28;01mNone\u001b[39;00m\n\u001b[0;32m     71\u001b[0m \u001b[38;5;28;01mfinally\u001b[39;00m:\n\u001b[0;32m     72\u001b[0m     \u001b[38;5;28;01mdel\u001b[39;00m filtered_tb\n",
      "File \u001b[1;32mc:\\Users\\mmust\\anaconda3\\envs\\all\\Lib\\site-packages\\tensorflow\\python\\lib\\io\\file_io.py:513\u001b[0m, in \u001b[0;36mrecursive_create_dir_v2\u001b[1;34m(path)\u001b[0m\n\u001b[0;32m    501\u001b[0m \u001b[38;5;129m@tf_export\u001b[39m(\u001b[38;5;124m\"\u001b[39m\u001b[38;5;124mio.gfile.makedirs\u001b[39m\u001b[38;5;124m\"\u001b[39m)\n\u001b[0;32m    502\u001b[0m \u001b[38;5;28;01mdef\u001b[39;00m \u001b[38;5;21mrecursive_create_dir_v2\u001b[39m(path):\n\u001b[0;32m    503\u001b[0m \u001b[38;5;250m  \u001b[39m\u001b[38;5;124;03m\"\"\"Creates a directory and all parent/intermediate directories.\u001b[39;00m\n\u001b[0;32m    504\u001b[0m \n\u001b[0;32m    505\u001b[0m \u001b[38;5;124;03m  It succeeds if path already exists and is writable.\u001b[39;00m\n\u001b[1;32m   (...)\u001b[0m\n\u001b[0;32m    511\u001b[0m \u001b[38;5;124;03m    errors.OpError: If the operation fails.\u001b[39;00m\n\u001b[0;32m    512\u001b[0m \u001b[38;5;124;03m  \"\"\"\u001b[39;00m\n\u001b[1;32m--> 513\u001b[0m   \u001b[43m_pywrap_file_io\u001b[49m\u001b[38;5;241;43m.\u001b[39;49m\u001b[43mRecursivelyCreateDir\u001b[49m\u001b[43m(\u001b[49m\u001b[43mcompat\u001b[49m\u001b[38;5;241;43m.\u001b[39;49m\u001b[43mpath_to_bytes\u001b[49m\u001b[43m(\u001b[49m\u001b[43mpath\u001b[49m\u001b[43m)\u001b[49m\u001b[43m)\u001b[49m\n",
      "\u001b[1;31mFailedPreconditionError\u001b[0m: model_experiments is not a directory"
     ]
    }
   ],
   "source": [
    "import tensorflow as tf\n",
    "from tensorflow.keras import layers\n",
    "\n",
    "# Set random seed for as reproducible results as possible\n",
    "tf.random.set_seed(42)\n",
    "\n",
    "# Construct model\n",
    "model_1 = tf.keras.Sequential([\n",
    "  layers.Dense(128, activation=\"relu\"),\n",
    "  layers.Dense(HORIZON, activation=\"linear\") # linear activation is the same as having no activation                        \n",
    "], name=\"model_1_dense\") # give the model a name so we can save it\n",
    "\n",
    "# Compile model\n",
    "model_1.compile(loss=\"mae\",\n",
    "                optimizer=tf.keras.optimizers.Adam(),\n",
    "                metrics=[\"mae\"]) # we don't necessarily need this when the loss function is already MAE\n",
    "\n",
    "# Fit model\n",
    "model_1.fit(x=train_windows, # train windows of 7 timesteps of Bitcoin prices\n",
    "            y=train_labels, # horizon value of 1 (using the previous 7 timesteps to predict next day)\n",
    "            epochs=100,\n",
    "            verbose=1,\n",
    "            batch_size=128,\n",
    "            validation_data=(test_windows, test_labels),\n",
    "            callbacks=[create_model_checkpoint(model_name=model_1.name)])"
   ]
  },
  {
   "cell_type": "code",
   "execution_count": null,
   "metadata": {},
   "outputs": [
    {
     "name": "stdout",
     "output_type": "stream",
     "text": [
      "22/22 [==============================] - 0s 1ms/step - loss: 550.8353 - mae: 550.8353\n"
     ]
    },
    {
     "data": {
      "text/plain": [
       "[550.8353271484375, 550.8353271484375]"
      ]
     },
     "execution_count": 31,
     "metadata": {},
     "output_type": "execute_result"
    }
   ],
   "source": [
    "\n",
    "# Evaluate model on test data\n",
    "model_1.evaluate(test_windows, test_labels)"
   ]
  },
  {
   "cell_type": "code",
   "execution_count": null,
   "metadata": {},
   "outputs": [
    {
     "name": "stdout",
     "output_type": "stream",
     "text": [
      "22/22 [==============================] - 0s 1ms/step - loss: 525.1224 - mae: 525.1224\n"
     ]
    },
    {
     "data": {
      "text/plain": [
       "[525.1224365234375, 525.1224365234375]"
      ]
     },
     "execution_count": 32,
     "metadata": {},
     "output_type": "execute_result"
    }
   ],
   "source": [
    "# Load in saved best performing model_1 and evaluate on test data\n",
    "model_1 = tf.keras.models.load_model(\"model_experiments/model_1_dense\")\n",
    "model_1.evaluate(test_windows, test_labels)\n",
    "     "
   ]
  },
  {
   "cell_type": "code",
   "execution_count": null,
   "metadata": {},
   "outputs": [],
   "source": [
    "\n",
    "def make_preds(model, input_data):\n",
    "  \"\"\"\n",
    "  Uses model to make predictions on input_data.\n",
    "\n",
    "  Parameters\n",
    "  ----------\n",
    "  model: trained model \n",
    "  input_data: windowed input data (same kind of data model was trained on)\n",
    "\n",
    "  Returns model predictions on input_data.\n",
    "  \"\"\"\n",
    "  forecast = model.predict(input_data)\n",
    "  return tf.squeeze(forecast) # return 1D array of predictions"
   ]
  },
  {
   "cell_type": "code",
   "execution_count": null,
   "metadata": {},
   "outputs": [
    {
     "name": "stdout",
     "output_type": "stream",
     "text": [
      "22/22 [==============================] - 0s 2ms/step\n"
     ]
    },
    {
     "data": {
      "text/plain": [
       "(679,\n",
       " <tf.Tensor: shape=(10,), dtype=float32, numpy=\n",
       " array([39130.33 , 39097.438, 38023.094, 42524.227, 44471.617, 44231.715,\n",
       "        42872.035, 39319.53 , 39420.133, 38462.76 ], dtype=float32)>)"
      ]
     },
     "execution_count": 34,
     "metadata": {},
     "output_type": "execute_result"
    }
   ],
   "source": [
    "\n",
    "# Make predictions using model_1 on the test dataset and view the results\n",
    "model_1_preds = make_preds(model_1, test_windows)\n",
    "len(model_1_preds), model_1_preds[:10]"
   ]
  },
  {
   "cell_type": "code",
   "execution_count": null,
   "metadata": {},
   "outputs": [
    {
     "data": {
      "text/plain": [
       "{'mae': 525.1223, 'mse': 665156.5, 'rmse': 815.5713, 'mape': 1.8893912}"
      ]
     },
     "execution_count": 35,
     "metadata": {},
     "output_type": "execute_result"
    }
   ],
   "source": [
    "\n",
    "# Evaluate preds\n",
    "model_1_results = evaluate_preds(y_true=tf.squeeze(test_labels), # reduce to right shape\n",
    "                                 y_pred=model_1_preds)\n",
    "model_1_results"
   ]
  },
  {
   "cell_type": "code",
   "execution_count": null,
   "metadata": {},
   "outputs": [
    {
     "data": {
      "image/png": "[encoded data removed]",
      "text/plain": [
       "<Figure size 1000x700 with 1 Axes>"
      ]
     },
     "metadata": {},
     "output_type": "display_data"
    }
   ],
   "source": [
    "offset = 300\n",
    "plt.figure(figsize=(10, 7))\n",
    "# Account for the test_window offset and index into test_labels to ensure correct plotting\n",
    "plot_time_series(timesteps=X_test[-len(test_windows):], values=test_labels[:, 0], start=offset, label=\"Test_data\")\n",
    "plot_time_series(timesteps=X_test[-len(test_windows):], values=model_1_preds, start=offset, format=\"-\", label=\"model_1_preds\")\n",
    "     "
   ]
  },
  {
   "cell_type": "markdown",
   "metadata": {},
   "source": [
    "## Model 3 DENSE (win = 30 horizon = 7)"
   ]
  },
  {
   "cell_type": "code",
   "execution_count": null,
   "metadata": {},
   "outputs": [
    {
     "data": {
      "text/plain": [
       "(3362, 3362)"
      ]
     },
     "execution_count": 37,
     "metadata": {},
     "output_type": "execute_result"
    }
   ],
   "source": [
    "HORIZON = 7\n",
    "WINDOW_SIZE = 30\n",
    "\n",
    "full_windows, full_labels = make_windows(prices, window_size=WINDOW_SIZE, horizon=HORIZON)\n",
    "len(full_windows), len(full_labels)\n"
   ]
  },
  {
   "cell_type": "code",
   "execution_count": null,
   "metadata": {},
   "outputs": [
    {
     "data": {
      "text/plain": [
       "(2689, 673, 2689, 673)"
      ]
     },
     "execution_count": 38,
     "metadata": {},
     "output_type": "execute_result"
    }
   ],
   "source": [
    "train_windows, test_windows, train_labels, test_labels = make_train_test_splits(windows=full_windows, labels=full_labels, test_split=0.2)\n",
    "len(train_windows), len(test_windows), len(train_labels), len(test_labels)\n",
    "     \n"
   ]
  },
  {
   "cell_type": "code",
   "execution_count": null,
   "metadata": {},
   "outputs": [
    {
     "name": "stdout",
     "output_type": "stream",
     "text": [
      "INFO:tensorflow:Assets written to: model_experiments/model_3_dense/assets\n"
     ]
    },
    {
     "name": "stderr",
     "output_type": "stream",
     "text": [
      "INFO:tensorflow:Assets written to: model_experiments/model_3_dense/assets\n"
     ]
    },
    {
     "name": "stdout",
     "output_type": "stream",
     "text": [
      "INFO:tensorflow:Assets written to: model_experiments/model_3_dense/assets\n"
     ]
    },
    {
     "name": "stderr",
     "output_type": "stream",
     "text": [
      "INFO:tensorflow:Assets written to: model_experiments/model_3_dense/assets\n"
     ]
    },
    {
     "name": "stdout",
     "output_type": "stream",
     "text": [
      "INFO:tensorflow:Assets written to: model_experiments/model_3_dense/assets\n"
     ]
    },
    {
     "name": "stderr",
     "output_type": "stream",
     "text": [
      "INFO:tensorflow:Assets written to: model_experiments/model_3_dense/assets\n"
     ]
    },
    {
     "name": "stdout",
     "output_type": "stream",
     "text": [
      "INFO:tensorflow:Assets written to: model_experiments/model_3_dense/assets\n"
     ]
    },
    {
     "name": "stderr",
     "output_type": "stream",
     "text": [
      "INFO:tensorflow:Assets written to: model_experiments/model_3_dense/assets\n"
     ]
    },
    {
     "name": "stdout",
     "output_type": "stream",
     "text": [
      "INFO:tensorflow:Assets written to: model_experiments/model_3_dense/assets\n"
     ]
    },
    {
     "name": "stderr",
     "output_type": "stream",
     "text": [
      "INFO:tensorflow:Assets written to: model_experiments/model_3_dense/assets\n"
     ]
    },
    {
     "name": "stdout",
     "output_type": "stream",
     "text": [
      "INFO:tensorflow:Assets written to: model_experiments/model_3_dense/assets\n"
     ]
    },
    {
     "name": "stderr",
     "output_type": "stream",
     "text": [
      "INFO:tensorflow:Assets written to: model_experiments/model_3_dense/assets\n"
     ]
    },
    {
     "name": "stdout",
     "output_type": "stream",
     "text": [
      "INFO:tensorflow:Assets written to: model_experiments/model_3_dense/assets\n"
     ]
    },
    {
     "name": "stderr",
     "output_type": "stream",
     "text": [
      "INFO:tensorflow:Assets written to: model_experiments/model_3_dense/assets\n"
     ]
    },
    {
     "name": "stdout",
     "output_type": "stream",
     "text": [
      "INFO:tensorflow:Assets written to: model_experiments/model_3_dense/assets\n"
     ]
    },
    {
     "name": "stderr",
     "output_type": "stream",
     "text": [
      "INFO:tensorflow:Assets written to: model_experiments/model_3_dense/assets\n"
     ]
    },
    {
     "name": "stdout",
     "output_type": "stream",
     "text": [
      "INFO:tensorflow:Assets written to: model_experiments/model_3_dense/assets\n"
     ]
    },
    {
     "name": "stderr",
     "output_type": "stream",
     "text": [
      "INFO:tensorflow:Assets written to: model_experiments/model_3_dense/assets\n"
     ]
    },
    {
     "name": "stdout",
     "output_type": "stream",
     "text": [
      "INFO:tensorflow:Assets written to: model_experiments/model_3_dense/assets\n"
     ]
    },
    {
     "name": "stderr",
     "output_type": "stream",
     "text": [
      "INFO:tensorflow:Assets written to: model_experiments/model_3_dense/assets\n"
     ]
    },
    {
     "name": "stdout",
     "output_type": "stream",
     "text": [
      "INFO:tensorflow:Assets written to: model_experiments/model_3_dense/assets\n"
     ]
    },
    {
     "name": "stderr",
     "output_type": "stream",
     "text": [
      "INFO:tensorflow:Assets written to: model_experiments/model_3_dense/assets\n"
     ]
    },
    {
     "name": "stdout",
     "output_type": "stream",
     "text": [
      "INFO:tensorflow:Assets written to: model_experiments/model_3_dense/assets\n"
     ]
    },
    {
     "name": "stderr",
     "output_type": "stream",
     "text": [
      "INFO:tensorflow:Assets written to: model_experiments/model_3_dense/assets\n"
     ]
    },
    {
     "name": "stdout",
     "output_type": "stream",
     "text": [
      "INFO:tensorflow:Assets written to: model_experiments/model_3_dense/assets\n"
     ]
    },
    {
     "name": "stderr",
     "output_type": "stream",
     "text": [
      "INFO:tensorflow:Assets written to: model_experiments/model_3_dense/assets\n"
     ]
    },
    {
     "name": "stdout",
     "output_type": "stream",
     "text": [
      "INFO:tensorflow:Assets written to: model_experiments/model_3_dense/assets\n"
     ]
    },
    {
     "name": "stderr",
     "output_type": "stream",
     "text": [
      "INFO:tensorflow:Assets written to: model_experiments/model_3_dense/assets\n"
     ]
    },
    {
     "name": "stdout",
     "output_type": "stream",
     "text": [
      "INFO:tensorflow:Assets written to: model_experiments/model_3_dense/assets\n"
     ]
    },
    {
     "name": "stderr",
     "output_type": "stream",
     "text": [
      "INFO:tensorflow:Assets written to: model_experiments/model_3_dense/assets\n"
     ]
    },
    {
     "name": "stdout",
     "output_type": "stream",
     "text": [
      "INFO:tensorflow:Assets written to: model_experiments/model_3_dense/assets\n"
     ]
    },
    {
     "name": "stderr",
     "output_type": "stream",
     "text": [
      "INFO:tensorflow:Assets written to: model_experiments/model_3_dense/assets\n"
     ]
    },
    {
     "name": "stdout",
     "output_type": "stream",
     "text": [
      "INFO:tensorflow:Assets written to: model_experiments/model_3_dense/assets\n"
     ]
    },
    {
     "name": "stderr",
     "output_type": "stream",
     "text": [
      "INFO:tensorflow:Assets written to: model_experiments/model_3_dense/assets\n"
     ]
    },
    {
     "name": "stdout",
     "output_type": "stream",
     "text": [
      "INFO:tensorflow:Assets written to: model_experiments/model_3_dense/assets\n"
     ]
    },
    {
     "name": "stderr",
     "output_type": "stream",
     "text": [
      "INFO:tensorflow:Assets written to: model_experiments/model_3_dense/assets\n"
     ]
    },
    {
     "name": "stdout",
     "output_type": "stream",
     "text": [
      "INFO:tensorflow:Assets written to: model_experiments/model_3_dense/assets\n"
     ]
    },
    {
     "name": "stderr",
     "output_type": "stream",
     "text": [
      "INFO:tensorflow:Assets written to: model_experiments/model_3_dense/assets\n"
     ]
    },
    {
     "name": "stdout",
     "output_type": "stream",
     "text": [
      "INFO:tensorflow:Assets written to: model_experiments/model_3_dense/assets\n"
     ]
    },
    {
     "name": "stderr",
     "output_type": "stream",
     "text": [
      "INFO:tensorflow:Assets written to: model_experiments/model_3_dense/assets\n"
     ]
    },
    {
     "name": "stdout",
     "output_type": "stream",
     "text": [
      "INFO:tensorflow:Assets written to: model_experiments/model_3_dense/assets\n"
     ]
    },
    {
     "name": "stderr",
     "output_type": "stream",
     "text": [
      "INFO:tensorflow:Assets written to: model_experiments/model_3_dense/assets\n"
     ]
    },
    {
     "name": "stdout",
     "output_type": "stream",
     "text": [
      "INFO:tensorflow:Assets written to: model_experiments/model_3_dense/assets\n"
     ]
    },
    {
     "name": "stderr",
     "output_type": "stream",
     "text": [
      "INFO:tensorflow:Assets written to: model_experiments/model_3_dense/assets\n"
     ]
    },
    {
     "data": {
      "text/plain": [
       "<keras.src.callbacks.History at 0x14a3f3e50>"
      ]
     },
     "execution_count": 39,
     "metadata": {},
     "output_type": "execute_result"
    }
   ],
   "source": [
    "tf.random.set_seed(42)\n",
    "\n",
    "# Create model (same as model_1 except with different data input size)\n",
    "model_3 = tf.keras.Sequential([\n",
    "  layers.Dense(128, activation=\"relu\"),\n",
    "  layers.Dense(HORIZON)\n",
    "], name=\"model_3_dense\")\n",
    "\n",
    "model_3.compile(loss=\"mae\",\n",
    "                optimizer=tf.keras.optimizers.Adam())\n",
    "\n",
    "model_3.fit(train_windows,\n",
    "            train_labels,\n",
    "            batch_size=128,\n",
    "            epochs=100,\n",
    "            verbose=0,\n",
    "            validation_data=(test_windows, test_labels),\n",
    "            callbacks=[create_model_checkpoint(model_name=model_3.name)])\n"
   ]
  },
  {
   "cell_type": "code",
   "execution_count": null,
   "metadata": {},
   "outputs": [
    {
     "name": "stdout",
     "output_type": "stream",
     "text": [
      " 1/22 [>.............................] - ETA: 0s - loss: 3096.9714"
     ]
    },
    {
     "name": "stdout",
     "output_type": "stream",
     "text": [
      "22/22 [==============================] - 0s 988us/step - loss: 2655.9824\n"
     ]
    },
    {
     "data": {
      "text/plain": [
       "2655.982421875"
      ]
     },
     "execution_count": 40,
     "metadata": {},
     "output_type": "execute_result"
    }
   ],
   "source": [
    "\n",
    "# How did our model with a larger window size and horizon go?\n",
    "model_3.evaluate(test_windows, test_labels)"
   ]
  },
  {
   "cell_type": "code",
   "execution_count": null,
   "metadata": {},
   "outputs": [
    {
     "name": "stdout",
     "output_type": "stream",
     "text": [
      "22/22 [==============================] - 0s 1ms/step - loss: 1119.6500\n"
     ]
    },
    {
     "data": {
      "text/plain": [
       "1119.6500244140625"
      ]
     },
     "execution_count": 41,
     "metadata": {},
     "output_type": "execute_result"
    }
   ],
   "source": [
    "\n",
    "# Load in best version of model_3 and evaluate\n",
    "model_3 = tf.keras.models.load_model(\"model_experiments/model_3_dense/\")\n",
    "model_3.evaluate(test_windows, test_labels)"
   ]
  },
  {
   "cell_type": "code",
   "execution_count": null,
   "metadata": {},
   "outputs": [
    {
     "name": "stdout",
     "output_type": "stream",
     "text": [
      "22/22 [==============================] - 0s 881us/step\n"
     ]
    },
    {
     "data": {
      "text/plain": [
       "<tf.Tensor: shape=(5, 7), dtype=float32, numpy=\n",
       "array([[38434.65 , 37488.906, 38573.574, 38211.457, 38600.535, 37200.836,\n",
       "        39180.516],\n",
       "       [39745.98 , 38745.51 , 38696.684, 38439.938, 38535.715, 38558.977,\n",
       "        39313.34 ],\n",
       "       [38316.684, 38685.03 , 37607.684, 38313.01 , 37771.64 , 38182.258,\n",
       "        37596.55 ],\n",
       "       [41003.094, 40517.06 , 40237.34 , 40587.594, 41370.79 , 39784.34 ,\n",
       "        41977.504],\n",
       "       [42893.49 , 43114.53 , 43345.688, 42993.85 , 43720.926, 41604.703,\n",
       "        43316.5  ]], dtype=float32)>"
      ]
     },
     "execution_count": 42,
     "metadata": {},
     "output_type": "execute_result"
    }
   ],
   "source": [
    "\n",
    "\n",
    "# The predictions are going to be 7 steps at a time (this is the HORIZON size)\n",
    "model_3_preds = make_preds(model_3,\n",
    "                           input_data=test_windows)\n",
    "model_3_preds[:5]"
   ]
  },
  {
   "cell_type": "code",
   "execution_count": null,
   "metadata": {},
   "outputs": [
    {
     "data": {
      "text/plain": [
       "{'mae': array([3181.6663 , 3172.5715 , 3487.0134 , 2524.7231 , 3273.9363 ,\n",
       "        4035.1719 , 3536.8962 , 2357.957  , 1480.1361 ,  889.0229 ,\n",
       "        1708.3923 , 1155.3538 , 1399.7969 , 1652.0306 , 1572.1395 ,\n",
       "        2623.014  , 3141.6099 , 3187.3225 , 3647.254  , 2178.3801 ,\n",
       "        1627.8103 , 1457.217  , 1385.5228 , 2494.1714 , 3560.3572 ,\n",
       "        3408.4995 , 3443.066  , 2626.4397 , 2294.2126 , 1883.3142 ,\n",
       "         826.60266,  646.69977,  775.0714 , 1318.7115 , 1081.885  ,\n",
       "        1980.6278 , 2171.8577 , 2773.976  , 3727.734  , 3858.9124 ,\n",
       "        2447.494  , 2334.0854 , 1740.4967 , 2151.5352 , 1810.1658 ,\n",
       "         575.5201 ,  537.4274 ,  730.15735,  702.30524,  822.1546 ,\n",
       "         919.59656,  651.6378 ,  719.4297 , 1178.774  , 1832.2098 ,\n",
       "        1437.2294 ,  912.846  ,  923.0876 ,  580.4096 , 1058.3147 ,\n",
       "         528.81586,  759.3086 , 1327.1139 ,  951.31195,  885.40344,\n",
       "        1496.3806 , 2507.2249 , 3438.323  , 4892.9233 , 5047.401  ,\n",
       "        5305.846  , 5183.6255 , 4655.8857 , 1875.819  , 1155.7815 ,\n",
       "         542.14484,  778.18585, 1422.0731 ,  699.642  ,  628.4936 ,\n",
       "         805.72156,  539.99524,  757.46735,  489.4813 ,  223.05692,\n",
       "         536.0179 ,  634.33984,  804.2796 , 1248.7654 , 1219.9143 ,\n",
       "        1537.8602 , 1817.483  , 2297.545  , 2063.5737 ,  913.6953 ,\n",
       "         960.6049 ,  836.9297 , 1020.94476, 1116.454  , 1097.4026 ,\n",
       "        1397.1476 , 2336.3684 , 4024.1174 , 4656.4263 , 5458.05   ,\n",
       "        6063.152  , 6438.7954 , 6094.6616 , 3438.3328 , 2202.1624 ,\n",
       "        2239.9836 , 1128.5056 ,  589.1264 , 1021.7614 ,  698.1035 ,\n",
       "         941.49133,  848.14594,  522.31586,  467.24387,  965.7952 ,\n",
       "        1149.7311 ,  828.40344, 1207.0248 , 1092.4666 ,  902.81335,\n",
       "         983.0664 , 1432.8708 , 1760.4799 , 2160.0227 , 1956.0006 ,\n",
       "        1746.5128 , 1289.1484 ,  517.8343 ,  414.4216 ,  732.52454,\n",
       "         696.296  ,  947.8075 , 1630.5369 , 1916.8499 , 1868.9874 ,\n",
       "        1813.7489 , 1843.8822 , 2070.1067 , 1251.7936 ,  481.87332,\n",
       "         544.8019 ,  833.6708 , 1004.5357 , 1009.65344,  993.3683 ,\n",
       "        1450.9994 , 1758.4855 , 1115.9655 ,  450.1102 ,  503.988  ,\n",
       "         464.80414,  554.14703,  511.80246,  381.31277,  809.11633,\n",
       "         963.66797,  737.03406,  781.34015,  869.9528 ,  758.74414,\n",
       "         801.5804 ,  521.3926 ,  416.18387,  706.31415, 1306.4694 ,\n",
       "        1717.8802 , 1971.9777 , 1967.5184 , 1775.8518 , 1892.1384 ,\n",
       "         475.77957,  505.47656,  738.7397 ,  722.6649 ,  862.9604 ,\n",
       "         814.77594, 1255.2129 ,  580.0675 ,  286.868  ,  305.37863,\n",
       "         192.18555,  286.4777 ,  271.81558,  415.09683,  729.24384,\n",
       "         870.53546, 1152.5944 , 1539.7101 , 1898.4373 , 2038.4857 ,\n",
       "        1981.3153 ,  763.08734,  751.7433 , 1190.9824 , 1833.9182 ,\n",
       "        1013.0522 ,  922.9989 ,  607.97015,  483.13727,  696.27094,\n",
       "         463.65402,  385.9643 ,  387.1797 ,  773.32   ,  318.6236 ,\n",
       "         493.16156,  599.4347 ,  641.60187,  423.9177 ,  475.20535,\n",
       "         505.61606,  590.1417 ,  589.0575 ,  596.95703,  688.27765,\n",
       "         549.738  ,  539.9986 ,  620.14813,  518.041  ,  273.8976 ,\n",
       "         206.19504,  172.75725,  275.68695,  354.14313,  367.70535,\n",
       "         214.69894,  233.95117,  382.25168,  275.1398 ,  236.72461,\n",
       "         309.78125,  649.4632 ,  811.3901 ,  801.1546 , 1047.2509 ,\n",
       "        1148.995  , 1323.9735 ,  932.49274,  293.24722,  280.69922,\n",
       "         264.58344,  404.42633,  553.8329 ,  492.1437 ,  724.3853 ,\n",
       "        1235.8191 , 1548.7809 , 2050.3547 , 2774.7444 , 3291.8298 ,\n",
       "        3606.7805 , 2643.6619 ,  509.9788 ,  464.01813,  290.89536,\n",
       "         282.21918,  407.07925,  343.54074,  366.90375,  333.69644,\n",
       "         294.64133,  298.9216 ,  325.25278,  314.90164,  432.11176,\n",
       "         362.95465,  295.9234 ,  306.40067,  510.91476,  683.5523 ,\n",
       "         689.555  ,  700.6624 ,  900.2687 ,  572.3065 ,  595.33746,\n",
       "         500.2143 ,  597.6007 ,  358.72223,  316.02176,  341.12473,\n",
       "         545.7464 ,  463.5184 ,  404.71207,  239.27428,  329.5516 ,\n",
       "         401.42188,  480.37418,  657.2285 ,  541.6105 ,  175.55078,\n",
       "         157.31725,  196.09793,  399.99106,  302.1473 ,  140.07617,\n",
       "          86.92662,  205.8245 ,  184.83008,  139.22461,  149.68332,\n",
       "         135.40012,  183.86607,  210.50754,  229.40527,  270.64426,\n",
       "         399.83902,  450.7863 ,  537.40137,  572.73895,  839.5954 ,\n",
       "        1134.6573 , 1684.8928 , 2180.791  , 2716.5247 , 3059.5098 ,\n",
       "        3001.7195 , 2533.6086 , 1937.7408 , 1101.947  , 1009.4213 ,\n",
       "        1119.3937 , 1141.4908 , 1354.8811 , 1495.8722 ,  536.50085,\n",
       "         296.76227,  391.4841 ,  389.59515,  237.113  ,  236.98744,\n",
       "         386.41574,  328.7673 ,  471.26617,  287.31918,  201.06975,\n",
       "         185.37277,  428.1116 ,  663.4124 ,  825.39844,  851.005  ,\n",
       "        1003.0463 , 1080.0994 , 1217.7654 , 1186.367  ,  891.15594,\n",
       "        1195.9132 , 1496.654  , 1913.1584 , 2416.7417 , 2419.6968 ,\n",
       "        1076.2592 , 1065.5201 ,  603.6774 ,  487.77316,  564.91376,\n",
       "         905.8024 ,  934.3842 ,  960.03906,  806.3876 ,  346.27148,\n",
       "         361.07895,  388.50168,  519.0081 ,  526.15265,  712.5053 ,\n",
       "        1123.5879 ,  838.8407 ,  916.42883,  872.858  , 1140.0944 ,\n",
       "        1552.0486 , 1788.9073 , 2384.134  , 3510.1648 , 4452.3345 ,\n",
       "        4402.5127 , 3561.5256 , 3036.4368 , 3090.272  , 3070.941  ,\n",
       "        1471.724  ,  993.4757 ,  280.2048 ,  487.96317, 1132.515  ,\n",
       "         910.0036 , 1101.6959 ,  760.5067 ,  519.27484,  528.03546,\n",
       "         661.9785 , 1074.8206 ,  572.4548 ,  333.4816 ,  318.84848,\n",
       "         392.99414,  315.8203 ,  441.24637,  770.74835,  848.1981 ,\n",
       "        1226.3906 , 1455.875  , 1734.1208 , 1996.5486 , 1123.4395 ,\n",
       "         471.84097,  351.1621 ,  543.43   , 1043.1309 , 1430.1237 ,\n",
       "        1714.6833 , 1629.293  , 2181.0515 , 1375.2483 ,  877.19336,\n",
       "         720.34485, 1003.012  , 1335.6747 , 1684.9991 , 1465.6144 ,\n",
       "        1050.949  ,  481.53543,  395.93637,  507.39703,  532.7489 ,\n",
       "         460.12918,  464.38812,  670.685  ,  948.106  , 1652.6356 ,\n",
       "        1578.8494 , 1297.9484 ,  593.1864 ,  450.81863,  506.86383,\n",
       "         384.26508,  499.08286,  510.18472,  527.4467 ,  327.59488,\n",
       "         370.22992,  405.5388 ,  160.82478,  249.07701,  387.28793,\n",
       "         586.1403 ,  666.4274 ,  747.9799 ,  896.3792 , 1074.9366 ,\n",
       "        1120.4023 ,  803.9838 ,  281.47293,  449.9852 ,  484.28207,\n",
       "         467.12192,  454.38727,  317.74692,  467.89035,  543.35266,\n",
       "         241.13588,  444.26926,  577.1392 ,  498.20117,  389.59067,\n",
       "         414.3987 ,  549.2754 ,  719.4495 , 1084.6259 , 1743.1222 ,\n",
       "        2461.7292 , 2586.78   , 2905.7515 , 3611.8208 , 3557.2195 ,\n",
       "        2829.4531 , 1404.4701 , 1009.94586,  246.87611,  431.31586,\n",
       "         445.18555,  456.3775 ,  445.82004,  391.07477,  165.08176,\n",
       "         244.863  ,  390.452  ,  331.0798 ,  406.49692,  392.78125,\n",
       "         319.19586,  774.83624,  473.87863,  333.92523,  424.83902,\n",
       "         435.5106 ,  479.99777,  427.24918,  910.3058 ,  597.6412 ,\n",
       "         680.7718 ,  379.45563,  487.8362 ,  220.28264,  141.66574,\n",
       "         304.26813,  374.8488 ,  333.887  ,  447.3803 ,  179.06947,\n",
       "         336.3602 ,  301.8323 ,  328.5095 ,  284.56808,  219.5092 ,\n",
       "         185.78934,  311.54074,  232.99498,  370.37473,  405.2391 ,\n",
       "         469.6021 ,  527.8563 ,  623.0801 ,  634.7015 ,  192.14453,\n",
       "         274.11606,  509.64285,  881.2067 , 1248.4286 , 1686.4266 ,\n",
       "        2089.592  , 2423.0535 , 2503.0483 , 1201.8859 ,  347.7023 ,\n",
       "         179.16908,  262.1649 ,  366.24582,  669.4146 ,  619.10297,\n",
       "         623.34265,  694.15875,  716.71204,  643.0586 ,  568.61774,\n",
       "         857.7603 , 1202.3448 ,  655.19727,  350.7034 ,  347.68527,\n",
       "         268.21402,  521.38446,  423.83762,  541.19226,  608.8304 ,\n",
       "         683.51337,  787.736  , 1053.906  , 1481.7977 , 1435.3639 ,\n",
       "        1139.1144 ,  597.2871 ,  402.97992,  353.493  ,  519.02454,\n",
       "         364.11328,  326.22266,  550.2179 ,  425.00113,  440.2461 ,\n",
       "         509.08734,  700.37305, 1048.404  , 1282.9388 , 1275.1775 ,\n",
       "        1008.7606 , 1078.9548 , 1007.1889 ,  416.27902,  433.96094,\n",
       "         462.09067,  480.649  ,  279.95172,  453.99722,  635.57117,\n",
       "         821.51953,  728.4132 ,  795.6688 ,  856.3524 , 1174.9807 ,\n",
       "        1706.2266 , 2029.2904 , 2355.601  , 2192.6453 , 2608.2273 ,\n",
       "        3327.7415 , 3862.4084 , 3756.3362 , 3838.168  , 4249.983  ,\n",
       "        2310.7898 ,  896.1038 ,  680.60547,  614.18524,  491.88394,\n",
       "         322.1345 ,  428.19644,  350.5441 ,  454.0134 ,  645.4587 ,\n",
       "         753.3778 ,  799.74835, 1189.0625 , 1449.4319 , 1670.99   ,\n",
       "        1488.1797 , 1467.0111 ,  794.34656,  667.5078 ,  847.10657,\n",
       "         686.3583 ,  748.1077 ,  862.5519 ,  572.2433 ,  688.3851 ,\n",
       "         706.2807 , 1029.9001 ,  597.93915,  600.41797, 1564.8416 ,\n",
       "         954.4548 ,  592.72766,  737.0067 ,  735.53015, 1203.553  ,\n",
       "        1709.2756 , 2464.1172 , 3434.2825 , 4017.7566 , 4441.4497 ,\n",
       "        4053.6406 , 3909.6992 , 2609.4001 ,  836.7031 ,  770.7037 ,\n",
       "         902.46765, 1378.5267 , 1836.4052 , 2193.7996 ,  714.2768 ,\n",
       "         366.5893 ,  814.91516, 1079.8158 , 1228.8275 , 1490.6272 ,\n",
       "        1869.9705 , 1485.5045 , 1969.2294 ,  907.1149 ,  405.7807 ,\n",
       "         799.029  , 1049.903  ,  598.1797 ,  922.89844, 1194.2076 ,\n",
       "        1086.697  , 1009.36383, 1186.0653 ], dtype=float32),\n",
       " 'mse': array([1.64990220e+07, 1.45278630e+07, 1.67114590e+07, 7.27445250e+06,\n",
       "        1.33915340e+07, 2.02752060e+07, 1.50964230e+07, 6.39764400e+06,\n",
       "        2.86158750e+06, 1.68470788e+06, 4.37408250e+06, 2.62565775e+06,\n",
       "        3.21089025e+06, 3.51027075e+06, 3.85024850e+06, 8.74941300e+06,\n",
       "        1.18198130e+07, 1.13291900e+07, 1.35403040e+07, 5.35173050e+06,\n",
       "        4.09607775e+06, 3.47045400e+06, 2.99244800e+06, 7.85154000e+06,\n",
       "        1.57984750e+07, 1.41354940e+07, 1.51055580e+07, 9.26424600e+06,\n",
       "        5.98450650e+06, 3.83447175e+06, 7.79865312e+05, 5.47229938e+05,\n",
       "        1.10354112e+06, 3.42431650e+06, 2.25536075e+06, 5.55192250e+06,\n",
       "        6.12842150e+06, 9.79081900e+06, 1.59907430e+07, 1.65289280e+07,\n",
       "        7.46018050e+06, 7.64908250e+06, 4.22082600e+06, 5.44435100e+06,\n",
       "        3.57760400e+06, 4.35073969e+05, 5.14570062e+05, 6.63826062e+05,\n",
       "        8.97462562e+05, 8.33625562e+05, 9.79103500e+05, 5.54402750e+05,\n",
       "        6.86883062e+05, 1.78141138e+06, 3.49429950e+06, 2.42718675e+06,\n",
       "        1.38039362e+06, 1.18599962e+06, 5.92673062e+05, 1.62045788e+06,\n",
       "        5.45662125e+05, 6.43331000e+05, 2.30664950e+06, 1.35117138e+06,\n",
       "        9.89172125e+05, 3.61654950e+06, 1.11177170e+07, 1.57969740e+07,\n",
       "        3.23603960e+07, 3.17625860e+07, 3.23587080e+07, 3.01035800e+07,\n",
       "        2.24950380e+07, 4.71050100e+06, 1.63760038e+06, 3.75869062e+05,\n",
       "        1.27601962e+06, 2.99277025e+06, 6.80695938e+05, 5.85554312e+05,\n",
       "        9.90445375e+05, 5.43700562e+05, 8.09585000e+05, 2.93807281e+05,\n",
       "        9.32681328e+04, 3.39747750e+05, 5.42836500e+05, 1.27439700e+06,\n",
       "        2.63839175e+06, 3.01081350e+06, 3.38035125e+06, 4.68933900e+06,\n",
       "        5.97248750e+06, 4.79071000e+06, 1.42233500e+06, 1.21100138e+06,\n",
       "        1.33380075e+06, 1.62711362e+06, 1.69834888e+06, 1.45612025e+06,\n",
       "        2.50040075e+06, 1.18748530e+07, 2.41219860e+07, 3.03497120e+07,\n",
       "        4.01684200e+07, 4.39680360e+07, 4.61621480e+07, 3.87214080e+07,\n",
       "        1.27961090e+07, 6.18953450e+06, 5.40274700e+06, 1.74617200e+06,\n",
       "        7.29267125e+05, 1.25559138e+06, 8.17541438e+05, 9.58277938e+05,\n",
       "        1.03116444e+06, 5.83216000e+05, 4.47765219e+05, 1.22240200e+06,\n",
       "        1.49177900e+06, 8.01761312e+05, 1.66632025e+06, 1.47615775e+06,\n",
       "        1.08655275e+06, 1.53671088e+06, 3.57413000e+06, 5.10712350e+06,\n",
       "        5.82338350e+06, 4.40140650e+06, 3.48849450e+06, 1.99111362e+06,\n",
       "        3.63391406e+05, 4.08811844e+05, 7.95121562e+05, 6.32496625e+05,\n",
       "        1.22052338e+06, 4.06211875e+06, 5.05082550e+06, 4.84329500e+06,\n",
       "        4.32447650e+06, 4.01361575e+06, 4.38564900e+06, 1.75692775e+06,\n",
       "        3.89013500e+05, 5.38235750e+05, 9.03697875e+05, 1.27522500e+06,\n",
       "        1.42104938e+06, 1.17602688e+06, 2.31511450e+06, 3.29456350e+06,\n",
       "        1.43385738e+06, 2.60432969e+05, 3.65590219e+05, 3.14635031e+05,\n",
       "        4.50131562e+05, 3.17014844e+05, 3.26418406e+05, 8.31768062e+05,\n",
       "        1.18206525e+06, 8.38269125e+05, 9.68245812e+05, 9.90839438e+05,\n",
       "        6.64607188e+05, 7.41989312e+05, 3.24952281e+05, 2.59547047e+05,\n",
       "        1.58189588e+06, 2.84361650e+06, 4.08691950e+06, 5.06866300e+06,\n",
       "        4.71135950e+06, 3.68578125e+06, 3.65648800e+06, 3.22839938e+05,\n",
       "        4.20440781e+05, 9.22379000e+05, 8.66525562e+05, 1.06673338e+06,\n",
       "        7.73325812e+05, 1.63844100e+06, 4.58740812e+05, 1.09849289e+05,\n",
       "        1.09388711e+05, 4.15582578e+04, 1.29640984e+05, 1.61745375e+05,\n",
       "        2.51727359e+05, 8.52456938e+05, 1.29926725e+06, 1.88996975e+06,\n",
       "        3.36208400e+06, 5.18397200e+06, 4.94264100e+06, 4.37203500e+06,\n",
       "        1.14828375e+06, 6.25440500e+05, 1.64657125e+06, 3.52425250e+06,\n",
       "        1.12948312e+06, 1.21226000e+06, 4.72631562e+05, 4.31837094e+05,\n",
       "        7.15034500e+05, 3.63498781e+05, 2.61850531e+05, 1.74986859e+05,\n",
       "        6.97099062e+05, 1.71181859e+05, 3.36300094e+05, 4.63193750e+05,\n",
       "        4.80831844e+05, 2.22661453e+05, 4.50530312e+05, 4.82014406e+05,\n",
       "        4.98194531e+05, 4.84554438e+05, 5.30038625e+05, 5.69348375e+05,\n",
       "        3.19691750e+05, 3.98852844e+05, 4.47209562e+05, 2.92964906e+05,\n",
       "        1.26195484e+05, 6.35919570e+04, 4.45196016e+04, 1.26406500e+05,\n",
       "        2.09936406e+05, 2.09989781e+05, 6.72446250e+04, 9.73958750e+04,\n",
       "        1.79100781e+05, 8.70453281e+04, 1.12141547e+05, 1.95287234e+05,\n",
       "        8.56815000e+05, 1.14772675e+06, 1.08602075e+06, 1.46034025e+06,\n",
       "        1.58887388e+06, 1.89001562e+06, 9.17667562e+05, 1.55299844e+05,\n",
       "        9.40526484e+04, 1.04559898e+05, 2.47839734e+05, 3.62654000e+05,\n",
       "        3.35234844e+05, 7.68361938e+05, 3.25695450e+06, 3.84542150e+06,\n",
       "        6.85878300e+06, 1.07378330e+07, 1.29301620e+07, 1.35665590e+07,\n",
       "        7.25755050e+06, 4.12139562e+05, 2.91824094e+05, 1.25241477e+05,\n",
       "        1.38465344e+05, 2.07755344e+05, 2.07675391e+05, 1.75283891e+05,\n",
       "        1.64480406e+05, 1.23873055e+05, 1.48049469e+05, 2.46682391e+05,\n",
       "        1.22283641e+05, 2.08492625e+05, 1.52062719e+05, 1.45104703e+05,\n",
       "        1.51404203e+05, 4.65041500e+05, 6.65138375e+05, 6.76867500e+05,\n",
       "        7.65831125e+05, 9.57516562e+05, 4.24950562e+05, 4.41185812e+05,\n",
       "        3.20371656e+05, 4.90524938e+05, 1.95760047e+05, 1.65148281e+05,\n",
       "        1.29358484e+05, 4.59649000e+05, 3.96092906e+05, 2.46257250e+05,\n",
       "        1.10949984e+05, 2.07305828e+05, 2.30352672e+05, 2.74393906e+05,\n",
       "        5.21690531e+05, 3.64155688e+05, 4.12523125e+04, 3.54729023e+04,\n",
       "        6.52779180e+04, 1.73297344e+05, 1.09782109e+05, 2.86405586e+04,\n",
       "        9.55073340e+03, 5.36086445e+04, 5.40835742e+04, 2.55559355e+04,\n",
       "        3.01174043e+04, 3.50616133e+04, 5.95398398e+04, 9.54464844e+04,\n",
       "        9.20099219e+04, 1.23557570e+05, 2.18153250e+05, 2.66128906e+05,\n",
       "        3.66238156e+05, 5.58448625e+05, 1.34993900e+06, 2.56477375e+06,\n",
       "        5.09169350e+06, 7.26749500e+06, 9.74210100e+06, 1.09750350e+07,\n",
       "        9.76693000e+06, 6.61605350e+06, 4.16068075e+06, 2.09380525e+06,\n",
       "        1.88679262e+06, 1.65937838e+06, 1.48889062e+06, 2.19278475e+06,\n",
       "        2.30374425e+06, 3.55067219e+05, 1.18563430e+05, 2.75033062e+05,\n",
       "        2.25882984e+05, 1.31917828e+05, 8.00682656e+04, 2.52864266e+05,\n",
       "        1.59366641e+05, 2.55379141e+05, 1.15863234e+05, 6.66665156e+04,\n",
       "        4.78694453e+04, 2.75265000e+05, 9.62895312e+05, 1.20061562e+06,\n",
       "        1.08753725e+06, 1.41451588e+06, 1.49045712e+06, 1.76226775e+06,\n",
       "        1.54042788e+06, 1.21061612e+06, 2.79067250e+06, 3.58794025e+06,\n",
       "        5.14480800e+06, 6.53389500e+06, 6.03778100e+06, 1.35384762e+06,\n",
       "        1.19625475e+06, 4.24853781e+05, 4.06595219e+05, 4.25127781e+05,\n",
       "        1.10182488e+06, 1.00652138e+06, 1.05117075e+06, 7.73035875e+05,\n",
       "        2.11969672e+05, 2.51948844e+05, 2.20590297e+05, 3.56635594e+05,\n",
       "        3.30913688e+05, 6.29171875e+05, 1.63798488e+06, 1.28939338e+06,\n",
       "        1.40240488e+06, 1.35928725e+06, 1.87255938e+06, 3.22744475e+06,\n",
       "        3.96783800e+06, 7.49413250e+06, 1.65719860e+07, 2.29485920e+07,\n",
       "        2.17533300e+07, 1.52811930e+07, 1.19193740e+07, 1.08565260e+07,\n",
       "        9.74083100e+06, 2.75313200e+06, 1.16419362e+06, 1.38273047e+05,\n",
       "        3.53522000e+05, 1.40228675e+06, 9.67106062e+05, 1.67600838e+06,\n",
       "        1.01927362e+06, 3.75449469e+05, 3.46870906e+05, 5.27480312e+05,\n",
       "        1.26179475e+06, 4.41333031e+05, 1.44663438e+05, 1.34140000e+05,\n",
       "        1.99252766e+05, 1.24966820e+05, 3.86395438e+05, 1.21541688e+06,\n",
       "        1.31001025e+06, 2.02124088e+06, 2.92494200e+06, 3.63690800e+06,\n",
       "        4.12210075e+06, 1.53709838e+06, 2.54441672e+05, 2.05775422e+05,\n",
       "        6.77588188e+05, 1.96737888e+06, 2.95081075e+06, 3.84800225e+06,\n",
       "        3.10022875e+06, 4.94747250e+06, 2.34886450e+06, 9.98096312e+05,\n",
       "        1.19182562e+06, 1.65595900e+06, 2.29319750e+06, 3.20160325e+06,\n",
       "        2.35061475e+06, 1.24036188e+06, 3.03330750e+05, 2.27978453e+05,\n",
       "        3.67198719e+05, 4.76533500e+05, 3.30992812e+05, 3.83716031e+05,\n",
       "        6.17092062e+05, 1.19433762e+06, 3.10105275e+06, 2.65510525e+06,\n",
       "        1.89326825e+06, 5.64118688e+05, 2.51483453e+05, 3.55127969e+05,\n",
       "        2.45437922e+05, 3.65945844e+05, 3.24155562e+05, 3.45203719e+05,\n",
       "        1.37740453e+05, 1.59735078e+05, 2.56577281e+05, 4.86465820e+04,\n",
       "        8.08669922e+04, 2.37832031e+05, 5.18472594e+05, 7.24644562e+05,\n",
       "        7.34397625e+05, 1.23754575e+06, 1.45518975e+06, 1.44069162e+06,\n",
       "        8.86087562e+05, 1.49584422e+05, 3.72607719e+05, 3.22791562e+05,\n",
       "        3.34573812e+05, 3.66993062e+05, 1.86019578e+05, 3.85610750e+05,\n",
       "        4.03570656e+05, 1.61943891e+05, 3.02722781e+05, 5.13676531e+05,\n",
       "        3.08309062e+05, 2.12058234e+05, 2.70217562e+05, 4.49471031e+05,\n",
       "        6.99589438e+05, 1.86071200e+06, 5.63145750e+06, 8.82147300e+06,\n",
       "        9.85237300e+06, 1.16404860e+07, 1.51936180e+07, 1.34031070e+07,\n",
       "        8.20910950e+06, 2.26147825e+06, 1.11128362e+06, 1.06562336e+05,\n",
       "        2.95781375e+05, 2.42200016e+05, 2.64858531e+05, 2.96915875e+05,\n",
       "        2.11593719e+05, 5.18578242e+04, 1.16693453e+05, 2.20434156e+05,\n",
       "        2.12097969e+05, 2.12577891e+05, 2.00535250e+05, 1.52920156e+05,\n",
       "        7.64298688e+05, 5.77353938e+05, 2.75025938e+05, 2.73768125e+05,\n",
       "        2.88796219e+05, 4.57416656e+05, 2.80171750e+05, 9.20453188e+05,\n",
       "        4.52054219e+05, 5.64189500e+05, 2.05447016e+05, 2.50919359e+05,\n",
       "        7.48526328e+04, 3.10212383e+04, 1.53986031e+05, 2.35475391e+05,\n",
       "        1.36504156e+05, 2.52184766e+05, 5.40468125e+04, 1.66491891e+05,\n",
       "        2.24273281e+05, 1.94828109e+05, 1.37908422e+05, 1.00091414e+05,\n",
       "        4.70645234e+04, 1.48263172e+05, 9.29362891e+04, 2.42034469e+05,\n",
       "        3.00967719e+05, 3.51424562e+05, 4.03460000e+05, 5.03078250e+05,\n",
       "        4.57791062e+05, 7.93761719e+04, 1.01376680e+05, 9.56412500e+05,\n",
       "        2.07766162e+06, 3.10316925e+06, 4.37797400e+06, 5.71414400e+06,\n",
       "        6.56172050e+06, 6.36196800e+06, 1.57220162e+06, 1.79834891e+05,\n",
       "        5.27490508e+04, 9.95297500e+04, 1.64011797e+05, 7.96940812e+05,\n",
       "        9.79694312e+05, 9.72845500e+05, 9.22023188e+05, 1.02945169e+06,\n",
       "        8.51972062e+05, 7.29854188e+05, 8.05270938e+05, 1.53222488e+06,\n",
       "        5.57060125e+05, 1.82646391e+05, 1.46539094e+05, 1.41600547e+05,\n",
       "        3.94886188e+05, 2.19571781e+05, 3.57114688e+05, 6.56010062e+05,\n",
       "        8.22064875e+05, 9.38251812e+05, 1.36379525e+06, 2.40608175e+06,\n",
       "        2.17448350e+06, 1.51403600e+06, 5.77187312e+05, 2.10953672e+05,\n",
       "        1.63771984e+05, 3.79463688e+05, 1.94974016e+05, 1.34919656e+05,\n",
       "        4.05101750e+05, 2.57122359e+05, 3.19866469e+05, 3.67632438e+05,\n",
       "        9.95657062e+05, 1.73501525e+06, 2.06860088e+06, 1.82410875e+06,\n",
       "        1.32571138e+06, 1.32224088e+06, 1.16399112e+06, 3.23099219e+05,\n",
       "        2.98722969e+05, 3.16252219e+05, 2.63312312e+05, 1.21704305e+05,\n",
       "        3.14106750e+05, 5.55637938e+05, 7.98594000e+05, 6.25151312e+05,\n",
       "        8.58128875e+05, 1.28580262e+06, 2.12287350e+06, 3.87220475e+06,\n",
       "        5.15872850e+06, 6.29292950e+06, 7.31973350e+06, 1.14408410e+07,\n",
       "        1.64404410e+07, 1.95230380e+07, 1.80457020e+07, 1.68672460e+07,\n",
       "        1.83321900e+07, 5.50758650e+06, 1.18444675e+06, 7.11258562e+05,\n",
       "        5.05765438e+05, 4.52340844e+05, 1.68789172e+05, 2.21737547e+05,\n",
       "        1.82557328e+05, 2.56691969e+05, 4.68463562e+05, 7.72175688e+05,\n",
       "        1.45710938e+06, 2.43315550e+06, 3.03943725e+06, 3.49549075e+06,\n",
       "        2.67549550e+06, 2.37537025e+06, 9.59717688e+05, 7.36046000e+05,\n",
       "        1.02681231e+06, 6.98785625e+05, 8.97179312e+05, 1.27206538e+06,\n",
       "        4.74368219e+05, 7.71791625e+05, 7.41015125e+05, 1.24129662e+06,\n",
       "        7.12544312e+05, 5.55052375e+05, 2.51197975e+06, 1.21611288e+06,\n",
       "        5.00734500e+05, 9.09315188e+05, 1.36975312e+06, 2.32517550e+06,\n",
       "        5.89774100e+06, 1.09837390e+07, 1.77769440e+07, 2.10913460e+07,\n",
       "        2.34223800e+07, 1.88152080e+07, 1.60591530e+07, 7.88889700e+06,\n",
       "        8.15110875e+05, 1.09781888e+06, 1.66172425e+06, 2.93472225e+06,\n",
       "        4.26907650e+06, 5.32771950e+06, 6.71350312e+05, 1.76265922e+05,\n",
       "        1.01016400e+06, 1.44923412e+06, 2.25820550e+06, 2.73506600e+06,\n",
       "        4.25053950e+06, 2.47802550e+06, 4.29740050e+06, 8.75271125e+05,\n",
       "        1.98868219e+05, 9.70672312e+05, 1.51835025e+06, 5.62487312e+05,\n",
       "        1.02139219e+06, 1.65382000e+06, 1.48302188e+06, 1.43336400e+06,\n",
       "        2.37528025e+06], dtype=float32),\n",
       " 'rmse': array([4061.899  , 3811.5435 , 4087.965  , 2697.1194 , 3659.4446 ,\n",
       "        4502.8    , 3885.4116 , 2529.3564 , 1691.6227 , 1297.963  ,\n",
       "        2091.4307 , 1620.3882 , 1791.8958 , 1873.5717 , 1962.205  ,\n",
       "        2957.9407 , 3437.9956 , 3365.8862 , 3679.715  , 2313.3809 ,\n",
       "        2023.877  , 1862.9154 , 1729.8694 , 2802.06   , 3974.7295 ,\n",
       "        3759.72   , 3886.587  , 3043.7224 , 2446.3252 , 1958.1807 ,\n",
       "         883.09985,  739.74994, 1050.4956 , 1850.4908 , 1501.7859 ,\n",
       "        2356.2517 , 2475.565  , 3129.0286 , 3998.8428 , 4065.5784 ,\n",
       "        2731.333  , 2765.6975 , 2054.4648 , 2333.3132 , 1891.4556 ,\n",
       "         659.6014 ,  717.3354 ,  814.7552 ,  947.34503,  913.031  ,\n",
       "         989.4966 ,  744.5823 ,  828.78406, 1334.6952 , 1869.3046 ,\n",
       "        1557.9431 , 1174.9015 , 1089.0361 ,  769.8526 , 1272.972  ,\n",
       "         738.68945,  802.07916, 1518.7657 , 1162.3989 ,  994.57135,\n",
       "        1901.7228 , 3334.324  , 3974.5408 , 5688.6196 , 5635.8306 ,\n",
       "        5688.4717 , 5486.673  , 4742.8936 , 2170.369  , 1279.6876 ,\n",
       "         613.0816 , 1129.6104 , 1729.9625 ,  825.04297,  765.2152 ,\n",
       "         995.21124,  737.36053,  899.7694 ,  542.0399 ,  305.39832,\n",
       "         582.87885,  736.7744 , 1128.892  , 1624.3127 , 1735.1696 ,\n",
       "        1838.5731 , 2165.4883 , 2443.8674 , 2188.769  , 1192.6168 ,\n",
       "        1100.4551 , 1154.903  , 1275.5836 , 1303.2072 , 1206.6981 ,\n",
       "        1581.2655 , 3445.991  , 4911.414  , 5509.057  , 6337.856  ,\n",
       "        6630.84   , 6794.273  , 6222.653  , 3577.165  , 2487.8774 ,\n",
       "        2324.381  , 1321.428  ,  853.9714 , 1120.5317 ,  904.18   ,\n",
       "         978.9167 , 1015.46265,  763.6858 ,  669.1526 , 1105.6229 ,\n",
       "        1221.384  ,  895.41125, 1290.8602 , 1214.9723 , 1042.3784 ,\n",
       "        1239.6415 , 1890.537  , 2259.8945 , 2413.1687 , 2097.953  ,\n",
       "        1867.7512 , 1411.0682 ,  602.8195 ,  639.384  ,  891.69586,\n",
       "         795.2966 , 1104.773  , 2015.4698 , 2247.404  , 2200.7488 ,\n",
       "        2079.5376 , 2003.401  , 2094.194  , 1325.4915 ,  623.7095 ,\n",
       "         733.6455 ,  950.63025, 1129.2587 , 1192.0778 , 1084.4478 ,\n",
       "        1521.55   , 1815.0933 , 1197.4379 ,  510.32632,  604.64056,\n",
       "         560.9234 ,  670.91846,  563.0407 ,  571.3304 ,  912.0132 ,\n",
       "        1087.2283 ,  915.5704 ,  983.9948 ,  995.4092 ,  815.23444,\n",
       "         861.388  ,  570.04584,  509.4576 , 1257.7344 , 1686.3026 ,\n",
       "        2021.613  , 2251.3691 , 2170.5667 , 1919.8389 , 1912.1946 ,\n",
       "         568.19006,  648.41406,  960.40564,  930.87354, 1032.8279 ,\n",
       "         879.38947, 1280.016  ,  677.3041 ,  331.43518,  330.73965,\n",
       "         203.85843,  360.05692,  402.1758 ,  501.7244 ,  923.28595,\n",
       "        1139.854  , 1374.7617 , 1833.5986 , 2276.8337 , 2223.205  ,\n",
       "        2090.9412 , 1071.5801 ,  790.84796, 1283.1879 , 1877.2993 ,\n",
       "        1062.7715 , 1101.0267 ,  687.48206,  657.1431 ,  845.5971 ,\n",
       "         602.9086 ,  511.71332,  418.3143 ,  834.92456,  413.7413 ,\n",
       "         579.9139 ,  680.5834 ,  693.4204 ,  471.87018,  671.2156 ,\n",
       "         694.2726 ,  705.829  ,  696.0994 ,  728.03754,  754.55176,\n",
       "         565.4129 ,  631.548  ,  668.7373 ,  541.2623 ,  355.24005,\n",
       "         252.17445,  210.99669,  355.53693,  458.18817,  458.24643,\n",
       "         259.31567,  312.08313,  423.203  ,  295.03445,  334.87543,\n",
       "         441.91315,  925.643  , 1071.3201 , 1042.1232 , 1208.4454 ,\n",
       "        1260.5054 , 1374.7784 ,  957.94965,  394.08102,  306.68005,\n",
       "         323.35724,  497.83505,  602.2076 ,  578.9947 ,  876.56256,\n",
       "        1804.7035 , 1960.9746 , 2618.9277 , 3276.8633 , 3595.8535 ,\n",
       "        3683.281  , 2693.9841 ,  641.98096,  540.20746,  353.8947 ,\n",
       "         372.1093 ,  455.80188,  455.71414,  418.6692 ,  405.56183,\n",
       "         351.95605,  384.77197,  496.67133,  349.69077,  456.60992,\n",
       "         389.9522 ,  380.92612,  389.10693,  681.9395 ,  815.5602 ,\n",
       "         822.7196 ,  875.1178 ,  978.5278 ,  651.8823 ,  664.2182 ,\n",
       "         566.01385,  700.3749 ,  442.44778,  406.3844 ,  359.6644 ,\n",
       "         677.9742 ,  629.35913,  496.24313,  333.09155,  455.3085 ,\n",
       "         479.95068,  523.82623,  722.2815 ,  603.4531 ,  203.10666,\n",
       "         188.34251,  255.49544,  416.28998,  331.33383,  169.23521,\n",
       "          97.72785,  231.5354 ,  232.55876,  159.86224,  173.54367,\n",
       "         187.24747,  244.00787,  308.94415,  303.33136,  351.50757,\n",
       "         467.0688 ,  515.87683,  605.17615,  747.2942 , 1161.8688 ,\n",
       "        1601.4911 , 2256.478  , 2695.829  , 3121.234  , 3312.8591 ,\n",
       "        3125.2087 , 2572.169  , 2039.7747 , 1446.9987 , 1373.6057 ,\n",
       "        1288.1686 , 1220.201  , 1480.8054 , 1517.8091 ,  595.8752 ,\n",
       "         344.3304 ,  524.436  ,  475.27148,  363.20493,  282.96338,\n",
       "         502.8561 ,  399.20752,  505.35052,  340.3869 ,  258.1986 ,\n",
       "         218.79088,  524.65704,  981.2723 , 1095.7261 , 1042.8506 ,\n",
       "        1189.3342 , 1220.8428 , 1327.5043 , 1241.1398 , 1100.28   ,\n",
       "        1670.5306 , 1894.1859 , 2268.217  , 2556.1484 , 2457.1897 ,\n",
       "        1163.5496 , 1093.7344 ,  651.8081 ,  637.6482 ,  652.01825,\n",
       "        1049.6785 , 1003.2554 , 1025.2662 ,  879.2246 ,  460.40164,\n",
       "         501.94507,  469.6704 ,  597.18976,  575.251  ,  793.20355,\n",
       "        1279.8379 , 1135.5145 , 1184.2318 , 1165.8848 , 1368.4149 ,\n",
       "        1796.509  , 1991.9432 , 2737.5413 , 4070.8704 , 4790.4688 ,\n",
       "        4664.0464 , 3909.1167 , 3452.4446 , 3294.9243 , 3121.0305 ,\n",
       "        1659.2565 , 1078.978  ,  371.85083,  594.57715, 1184.1819 ,\n",
       "         983.4155 , 1294.6074 , 1009.5908 ,  612.7393 ,  588.95746,\n",
       "         726.2784 , 1123.2964 ,  664.329  ,  380.34647,  366.25128,\n",
       "         446.37738,  353.50647,  621.6071 , 1102.4595 , 1144.5568 ,\n",
       "        1421.7035 , 1710.2462 , 1907.0679 , 2030.2958 , 1239.7977 ,\n",
       "         504.42212,  453.62476,  823.1575 , 1402.6328 , 1717.7924 ,\n",
       "        1961.6326 , 1760.7467 , 2224.2915 , 1532.6006 ,  999.0477 ,\n",
       "        1091.7076 , 1286.8407 , 1514.3307 , 1789.3025 , 1533.1715 ,\n",
       "        1113.7153 ,  550.7547 ,  477.4709 ,  605.96924,  690.3141 ,\n",
       "         575.31976,  619.4482 ,  785.55206, 1092.8575 , 1760.9806 ,\n",
       "        1629.4493 , 1375.9608 ,  751.07837,  501.48126,  595.92615,\n",
       "         495.41693,  604.9346 ,  569.3466 ,  587.5404 ,  371.134  ,\n",
       "         399.6687 ,  506.53458,  220.55971,  284.37122,  487.68027,\n",
       "         720.0504 ,  851.26056,  856.97003, 1112.4503 , 1206.3125 ,\n",
       "        1200.2881 ,  941.32227,  386.76144,  610.416  ,  568.14746,\n",
       "         578.4236 ,  605.7995 ,  431.29987,  620.97565,  635.2721 ,\n",
       "         402.42252,  550.2025 ,  716.7123 ,  555.25586,  460.4978 ,\n",
       "         519.8245 ,  670.426  ,  836.4146 , 1364.0792 , 2373.0693 ,\n",
       "        2970.0964 , 3138.8489 , 3411.8157 , 3897.8992 , 3661.0254 ,\n",
       "        2865.1543 , 1503.8212 , 1054.1744 ,  326.43887,  543.85785,\n",
       "         492.1382 ,  514.6441 ,  544.8999 ,  459.99316,  227.72313,\n",
       "         341.60425,  469.50415,  460.54095,  461.0617 ,  447.8116 ,\n",
       "         391.05008,  874.24176,  759.8381 ,  524.42914,  523.2286 ,\n",
       "         537.39764,  676.32587,  529.3125 ,  959.4025 ,  672.3498 ,\n",
       "         751.1255 ,  453.26263,  500.91852,  273.5921 ,  176.12846,\n",
       "         392.41055,  485.25806,  369.4647 ,  502.18002,  232.4797 ,\n",
       "         408.03418,  473.575  ,  441.39337,  371.36023,  316.37228,\n",
       "         216.94359,  385.04956,  304.85452,  491.97   ,  548.6052 ,\n",
       "         592.8107 ,  635.185  ,  709.2801 ,  676.6026 ,  281.73776,\n",
       "         318.39703,  977.96344, 1441.4095 , 1761.5814 , 2092.3608 ,\n",
       "        2390.4275 , 2561.5854 , 2522.2942 , 1253.8746 ,  424.06943,\n",
       "         229.67162,  315.48337,  404.9837 ,  892.7154 ,  989.7951 ,\n",
       "         986.3293 ,  960.2204 , 1014.61896,  923.0233 ,  854.31506,\n",
       "         897.3689 , 1237.8307 ,  746.3646 ,  427.3715 ,  382.80426,\n",
       "         376.2985 ,  628.3997 ,  468.58487,  597.59076,  809.94446,\n",
       "         906.6779 ,  968.634  , 1167.8164 , 1551.155  , 1474.613  ,\n",
       "        1230.4617 ,  759.72845,  459.29694,  404.6875 ,  616.0062 ,\n",
       "         441.55862,  367.31412,  636.476  ,  507.07233,  565.5674 ,\n",
       "         606.327  ,  997.8262 , 1317.1998 , 1438.2632 , 1350.5957 ,\n",
       "        1151.3954 , 1149.8873 , 1078.8842 ,  568.41815,  546.55554,\n",
       "         562.36304,  513.13965,  348.86145,  560.4523 ,  745.41125,\n",
       "         893.64087,  790.6651 ,  926.3525 , 1133.9324 , 1457.0084 ,\n",
       "        1967.7919 , 2271.2834 , 2508.5713 , 2705.5005 , 3382.4312 ,\n",
       "        4054.6814 , 4418.4883 , 4248.0234 , 4106.975  , 4281.611  ,\n",
       "        2346.8247 , 1088.3229 ,  843.36145,  711.1719 ,  672.56287,\n",
       "         410.8396 ,  470.89017,  427.26727,  506.64777,  684.444  ,\n",
       "         878.7353 , 1207.1079 , 1559.8575 , 1743.3982 , 1869.6232 ,\n",
       "        1635.6942 , 1541.2236 ,  979.6518 ,  857.9312 , 1013.3175 ,\n",
       "         835.93396,  947.1955 , 1127.8588 ,  688.74396,  878.5167 ,\n",
       "         860.8223 , 1114.1349 ,  844.1234 ,  745.0184 , 1584.9226 ,\n",
       "        1102.775  ,  707.626  ,  953.5802 , 1170.3645 , 1524.8527 ,\n",
       "        2428.5266 , 3314.1724 , 4216.2715 , 4592.5317 , 4839.6675 ,\n",
       "        4337.65   , 4007.3872 , 2808.718  ,  902.8349 , 1047.7686 ,\n",
       "        1289.0789 , 1713.1031 , 2066.1743 , 2308.1853 ,  819.3597 ,\n",
       "         419.84036, 1005.06915, 1203.8414 , 1502.7327 , 1653.8035 ,\n",
       "        2061.6836 , 1574.1746 , 2073.0173 ,  935.55927,  445.94644,\n",
       "         985.22705, 1232.2135 ,  749.9915 , 1010.63947, 1286.0093 ,\n",
       "        1217.7938 , 1197.2318 , 1541.1945 ], dtype=float32),\n",
       " 'mape': array([ 7.3492312 ,  7.4090424 ,  8.13254   ,  6.1532607 ,  8.386515  ,\n",
       "        10.356138  ,  9.121026  ,  6.0586605 ,  3.8239985 ,  2.2088583 ,\n",
       "         4.257306  ,  2.855824  ,  3.600004  ,  4.142367  ,  3.8616977 ,\n",
       "         6.4017797 ,  7.604325  ,  7.70805   ,  8.773336  ,  5.190634  ,\n",
       "         3.8017597 ,  3.3629704 ,  3.19426   ,  5.615723  ,  7.8582115 ,\n",
       "         7.4067364 ,  7.400877  ,  5.6377096 ,  4.919047  ,  4.0354486 ,\n",
       "         1.777329  ,  1.386653  ,  1.694165  ,  2.9544418 ,  2.4534297 ,\n",
       "         4.527974  ,  4.998748  ,  6.4597883 ,  8.873604  ,  9.310966  ,\n",
       "         5.9649224 ,  5.7804146 ,  4.325781  ,  5.347499  ,  4.519102  ,\n",
       "         1.4253373 ,  1.3120034 ,  1.7914732 ,  1.7107477 ,  2.0143557 ,\n",
       "         2.263144  ,  1.6026089 ,  1.7776837 ,  2.9894183 ,  4.6419864 ,\n",
       "         3.661465  ,  2.3543775 ,  2.38277   ,  1.4856753 ,  2.7529864 ,\n",
       "         1.381558  ,  1.9629734 ,  3.4862068 ,  2.534062  ,  2.3601494 ,\n",
       "         4.130304  ,  7.5442896 , 10.436626  , 15.614268  , 16.494766  ,\n",
       "        17.602695  , 17.389635  , 15.616484  ,  6.3700266 ,  3.9175272 ,\n",
       "         1.8067634 ,  2.539847  ,  4.677058  ,  2.309012  ,  2.1377141 ,\n",
       "         2.707385  ,  1.8276477 ,  2.5358486 ,  1.6578459 ,  0.7545422 ,\n",
       "         1.828903  ,  2.1728556 ,  2.6658783 ,  4.061415  ,  3.9348812 ,\n",
       "         5.0065913 ,  5.8900075 ,  7.496047  ,  6.733551  ,  2.9553683 ,\n",
       "         3.141608  ,  2.7146046 ,  3.3247578 ,  3.6505651 ,  3.64344   ,\n",
       "         4.7617903 ,  9.325413  , 16.431202  , 19.644873  , 24.272827  ,\n",
       "        27.670362  , 30.540148  , 29.3354    , 16.795084  , 10.959222  ,\n",
       "        11.140622  ,  5.6406994 ,  2.9763713 ,  4.8783517 ,  3.2951984 ,\n",
       "         4.4920535 ,  4.0276685 ,  2.4652276 ,  2.321596  ,  4.807208  ,\n",
       "         5.7987413 ,  4.2205234 ,  6.14493   ,  5.590736  ,  4.6169705 ,\n",
       "         4.78714   ,  6.7804546 ,  8.234983  , 10.200216  ,  9.269554  ,\n",
       "         8.299533  ,  6.1116242 ,  2.4737647 ,  2.0723765 ,  3.6529844 ,\n",
       "         3.4622333 ,  4.5271997 ,  7.394066  ,  8.551409  ,  8.2021885 ,\n",
       "         7.906466  ,  8.04311   ,  9.043049  ,  5.4774146 ,  2.1722271 ,\n",
       "         2.501175  ,  3.7659955 ,  4.4874945 ,  4.460001  ,  4.3796563 ,\n",
       "         6.2065225 ,  7.488004  ,  4.743165  ,  1.9366016 ,  2.1849778 ,\n",
       "         2.0278742 ,  2.4175663 ,  2.2279408 ,  1.624664  ,  3.4464161 ,\n",
       "         4.0732074 ,  3.073307  ,  3.23729   ,  3.5961773 ,  3.1450238 ,\n",
       "         3.3099308 ,  2.1561372 ,  1.7248034 ,  3.2377083 ,  5.973705  ,\n",
       "         7.8908095 ,  9.145073  ,  9.180144  ,  8.332152  ,  8.873396  ,\n",
       "         2.2575235 ,  2.4448109 ,  3.6524599 ,  3.5966165 ,  4.3105717 ,\n",
       "         4.0704784 ,  6.2770166 ,  2.9187896 ,  1.4358566 ,  1.5236565 ,\n",
       "         0.9655649 ,  1.4628706 ,  1.413769  ,  2.145216  ,  3.6745403 ,\n",
       "         4.2244835 ,  5.5157366 ,  7.193262  ,  8.78996   ,  9.527604  ,\n",
       "         9.296662  ,  3.506534  ,  3.6180484 ,  5.945731  ,  9.250178  ,\n",
       "         5.1819415 ,  4.8200727 ,  3.1732097 ,  2.5445116 ,  3.6729665 ,\n",
       "         2.4614453 ,  2.043776  ,  2.034572  ,  4.0205984 ,  1.6525398 ,\n",
       "         2.5495858 ,  3.0948927 ,  3.31455   ,  2.1821756 ,  2.3939614 ,\n",
       "         2.528919  ,  2.9672952 ,  2.9581363 ,  2.986863  ,  3.46644   ,\n",
       "         2.7787538 ,  2.7855895 ,  3.2057266 ,  2.6816313 ,  1.4281578 ,\n",
       "         1.073377  ,  0.90246445,  1.4257578 ,  1.8278124 ,  1.8973188 ,\n",
       "         1.1134076 ,  1.214767  ,  1.9817699 ,  1.424618  ,  1.2237338 ,\n",
       "         1.5741659 ,  3.2216911 ,  4.005869  ,  3.9201732 ,  5.1092353 ,\n",
       "         5.5863414 ,  6.4301295 ,  4.5244794 ,  1.4231229 ,  1.3703983 ,\n",
       "         1.2782341 ,  1.9430118 ,  2.667721  ,  2.3618925 ,  3.6100793 ,\n",
       "         6.95455   ,  8.7094965 , 11.919533  , 16.308298  , 19.535215  ,\n",
       "        21.496048  , 15.896334  ,  3.05741   ,  2.7888687 ,  1.7517971 ,\n",
       "         1.6977022 ,  2.4375467 ,  2.1043885 ,  2.2526066 ,  2.0520272 ,\n",
       "         1.7992139 ,  1.8402934 ,  2.024458  ,  1.9324569 ,  2.6234877 ,\n",
       "         2.20757   ,  1.7731365 ,  1.823414  ,  3.01312   ,  4.0387845 ,\n",
       "         4.049289  ,  4.1243343 ,  5.2778955 ,  3.3653717 ,  3.4925592 ,\n",
       "         2.9305701 ,  3.4887605 ,  2.1024103 ,  1.8473372 ,  1.9739559 ,\n",
       "         3.115645  ,  2.631462  ,  2.3164337 ,  1.361943  ,  1.8836465 ,\n",
       "         2.3321197 ,  2.855056  ,  3.932929  ,  3.2472963 ,  1.0505416 ,\n",
       "         0.94265866,  1.1716537 ,  2.372692  ,  1.7936815 ,  0.83464336,\n",
       "         0.51765156,  1.2279495 ,  1.1092077 ,  0.838312  ,  0.90159446,\n",
       "         0.81373525,  1.0994672 ,  1.2534204 ,  1.3624591 ,  1.602455  ,\n",
       "         2.3618107 ,  2.650002  ,  3.1346214 ,  3.2787387 ,  4.6477633 ,\n",
       "         6.0123334 ,  8.58057   , 10.888334  , 13.351999  , 14.864866  ,\n",
       "        14.482655  , 12.121822  ,  9.054356  ,  4.9804635 ,  4.486237  ,\n",
       "         4.9927945 ,  5.0822186 ,  5.9371123 ,  6.5426507 ,  2.3348157 ,\n",
       "         1.2932913 ,  1.69109   ,  1.6822454 ,  1.0145686 ,  1.0193101 ,\n",
       "         1.6454058 ,  1.4002004 ,  2.0113006 ,  1.2433398 ,  0.8675291 ,\n",
       "         0.795622  ,  1.8581109 ,  2.9631245 ,  3.7279606 ,  3.8580503 ,\n",
       "         4.5759006 ,  4.9391828 ,  5.5681205 ,  5.362747  ,  3.866395  ,\n",
       "         4.990621  ,  6.187622  ,  7.871138  ,  9.932388  ,  9.900171  ,\n",
       "         4.391     ,  4.3646703 ,  2.4918227 ,  2.0583344 ,  2.3917902 ,\n",
       "         3.858759  ,  3.9945598 ,  4.1033754 ,  3.455599  ,  1.5056543 ,\n",
       "         1.581595  ,  1.7127533 ,  2.2895896 ,  2.3275113 ,  3.2016695 ,\n",
       "         5.2032375 ,  4.0295863 ,  4.434668  ,  4.2385545 ,  5.3265    ,\n",
       "         7.014655  ,  7.840602  ,  9.951856  , 13.9488325 , 17.434296  ,\n",
       "        16.76559   , 13.226596  , 11.021829  , 11.203579  , 11.057089  ,\n",
       "         5.266661  ,  3.5598342 ,  1.0027962 ,  1.774427  ,  4.118672  ,\n",
       "         3.284692  ,  4.0151424 ,  2.767917  ,  1.8737957 ,  1.8809687 ,\n",
       "         2.3463492 ,  3.8089018 ,  2.027137  ,  1.1813877 ,  1.1380105 ,\n",
       "         1.4025726 ,  1.1268646 ,  1.5298039 ,  2.6215    ,  2.8555534 ,\n",
       "         4.118048  ,  4.833942  ,  5.733448  ,  6.5995045 ,  3.712686  ,\n",
       "         1.5611029 ,  1.1839612 ,  1.8811295 ,  3.6924899 ,  5.0800886 ,\n",
       "         6.133564  ,  5.851842  ,  7.8346715 ,  4.965587  ,  3.144629  ,\n",
       "         2.4720635 ,  3.4448433 ,  4.5899844 ,  5.7985153 ,  5.044225  ,\n",
       "         3.6059895 ,  1.6632367 ,  1.3770409 ,  1.757527  ,  1.8628361 ,\n",
       "         1.5999575 ,  1.6256405 ,  2.386446  ,  3.4117117 ,  6.0110927 ,\n",
       "         5.781072  ,  4.782436  ,  2.2011104 ,  1.6732421 ,  1.8813434 ,\n",
       "         1.4180603 ,  1.8419911 ,  1.8843962 ,  1.946128  ,  1.2130306 ,\n",
       "         1.3697087 ,  1.5170217 ,  0.5981388 ,  0.93015647,  1.4571705 ,\n",
       "         2.159486  ,  2.431163  ,  2.7318926 ,  3.2450356 ,  3.9051335 ,\n",
       "         4.071159  ,  2.9154408 ,  1.0370044 ,  1.6983632 ,  1.8146565 ,\n",
       "         1.7648587 ,  1.7125908 ,  1.2120498 ,  1.7901372 ,  2.0831916 ,\n",
       "         0.8983505 ,  1.7096331 ,  2.243865  ,  1.9407481 ,  1.5194999 ,\n",
       "         1.600197  ,  2.1036131 ,  2.7330866 ,  4.0137343 ,  6.146401  ,\n",
       "         8.572683  ,  8.775304  ,  9.703915  , 12.01788   , 11.777527  ,\n",
       "         9.304569  ,  4.6108203 ,  3.3164659 ,  0.8084345 ,  1.423312  ,\n",
       "         1.4635918 ,  1.4936569 ,  1.4552425 ,  1.2709008 ,  0.54132855,\n",
       "         0.7946237 ,  1.284259  ,  1.087929  ,  1.3427315 ,  1.2998422 ,\n",
       "         1.0532504 ,  2.523424  ,  1.5273869 ,  1.0780976 ,  1.3807243 ,\n",
       "         1.4183013 ,  1.5724236 ,  1.3985864 ,  3.0304883 ,  1.9933009 ,\n",
       "         2.2761445 ,  1.2689784 ,  1.6400471 ,  0.742847  ,  0.47849515,\n",
       "         1.0347612 ,  1.2786514 ,  1.1326782 ,  1.5299356 ,  0.61146575,\n",
       "         1.1442434 ,  1.0230918 ,  1.1178476 ,  0.9715663 ,  0.74818224,\n",
       "         0.6348754 ,  1.0656959 ,  0.7961379 ,  1.2565857 ,  1.3738996 ,\n",
       "         1.5943084 ,  1.7891062 ,  2.114222  ,  2.1542203 ,  0.6541524 ,\n",
       "         0.9405249 ,  1.8642154 ,  3.3005037 ,  4.718568  ,  6.379492  ,\n",
       "         7.943462  ,  9.231923  ,  9.548837  ,  4.599578  ,  1.3316033 ,\n",
       "         0.6860269 ,  1.0021837 ,  1.4012479 ,  2.4960651 ,  2.2689712 ,\n",
       "         2.2871788 ,  2.5672798 ,  2.64784   ,  2.3736765 ,  2.095595  ,\n",
       "         3.3031974 ,  4.65067   ,  2.534284  ,  1.3521069 ,  1.3402613 ,\n",
       "         1.0365233 ,  2.0109432 ,  1.6391894 ,  2.088027  ,  2.3489344 ,\n",
       "         2.5992453 ,  2.9851449 ,  3.9918993 ,  5.588313  ,  5.3813963 ,\n",
       "         4.241157  ,  2.2172353 ,  1.4984837 ,  1.3179275 ,  1.9359559 ,\n",
       "         1.3546333 ,  1.2310865 ,  2.0849812 ,  1.6015042 ,  1.6539503 ,\n",
       "         1.9097865 ,  2.5587878 ,  3.8242583 ,  4.6818895 ,  4.6382675 ,\n",
       "         3.6529918 ,  3.8976219 ,  3.623743  ,  1.4920714 ,  1.557365  ,\n",
       "         1.659691  ,  1.7428901 ,  1.0146176 ,  1.6784543 ,  2.3552554 ,\n",
       "         3.044022  ,  2.6795945 ,  2.8758254 ,  3.0393767 ,  4.1393957 ,\n",
       "         5.942043  ,  6.9781265 ,  8.034296  ,  7.1385055 ,  8.14251   ,\n",
       "        10.1444235 , 11.625397  , 11.143808  , 11.320468  , 12.475372  ,\n",
       "         6.743773  ,  2.5972114 ,  1.9695795 ,  1.7693186 ,  1.4130077 ,\n",
       "         0.9250452 ,  1.2225276 ,  1.0020608 ,  1.2934749 ,  1.8378694 ,\n",
       "         2.1176367 ,  2.1821256 ,  3.2340062 ,  3.929137  ,  4.5337443 ,\n",
       "         4.0418496 ,  3.956937  ,  2.141694  ,  1.8303404 ,  2.331273  ,\n",
       "         1.8908875 ,  2.0325074 ,  2.3135548 ,  1.5727023 ,  1.8651817 ,\n",
       "         1.9129475 ,  2.766738  ,  1.6121576 ,  1.6229756 ,  4.165822  ,\n",
       "         2.5316548 ,  1.5690601 ,  1.9346664 ,  1.8940238 ,  3.0817492 ,\n",
       "         4.2248697 ,  5.896304  ,  8.108835  ,  9.415636  , 10.298841  ,\n",
       "         9.318423  ,  8.955966  ,  5.9617496 ,  1.9533703 ,  1.8343389 ,\n",
       "         2.1500592 ,  3.2910411 ,  4.3783817 ,  5.2388487 ,  1.7016779 ,\n",
       "         0.86135995,  1.9257197 ,  2.5304127 ,  2.8333669 ,  3.4351282 ,\n",
       "         4.294622  ,  3.4058359 ,  4.5137124 ,  2.0840046 ,  0.9406505 ,\n",
       "         1.8729488 ,  2.46715   ,  1.4122143 ,  2.1713617 ,  2.7625093 ,\n",
       "         2.5160625 ,  2.314307  ,  2.6877148 ], dtype=float32)}"
      ]
     },
     "execution_count": 43,
     "metadata": {},
     "output_type": "execute_result"
    }
   ],
   "source": [
    "# Calculate model_3 results - these are going to be multi-dimensional because\n",
    "# we're trying to predict more than one step at a time.\n",
    "model_3_results = evaluate_preds(y_true=tf.squeeze(test_labels),\n",
    "                                 y_pred=model_3_preds)\n",
    "model_3_results"
   ]
  },
  {
   "cell_type": "code",
   "execution_count": null,
   "metadata": {},
   "outputs": [],
   "source": [
    "def evaluate_preds(y_true, y_pred):\n",
    "  # Make sure float32 (for metric calculations)\n",
    "  y_true = tf.cast(y_true, dtype=tf.float32)\n",
    "  y_pred = tf.cast(y_pred, dtype=tf.float32)\n",
    "\n",
    "  # Calculate various metrics\n",
    "  mae = tf.keras.metrics.mean_absolute_error(y_true, y_pred)\n",
    "  mse = tf.keras.metrics.mean_squared_error(y_true, y_pred)\n",
    "  rmse = tf.sqrt(mse)\n",
    "  mape = tf.keras.metrics.mean_absolute_percentage_error(y_true, y_pred)\n",
    "\n",
    "  # Account for different sized metrics (for longer horizons, reduce to single number)\n",
    "  if mae.ndim > 0: # if mae isn't already a scalar, reduce it to one by aggregating tensors to mean\n",
    "    mae = tf.reduce_mean(mae)\n",
    "    mse = tf.reduce_mean(mse)\n",
    "    rmse = tf.reduce_mean(rmse)\n",
    "    mape = tf.reduce_mean(mape)\n",
    "\n",
    "  return {\"mae\": mae.numpy(),\n",
    "          \"mse\": mse.numpy(),\n",
    "          \"rmse\": rmse.numpy(),\n",
    "          \"mape\": mape.numpy(),}"
   ]
  },
  {
   "cell_type": "code",
   "execution_count": null,
   "metadata": {},
   "outputs": [
    {
     "data": {
      "text/plain": [
       "{'mae': 1119.6498, 'mse': 2918740.2, 'rmse': 1294.7014, 'mape': 4.10581}"
      ]
     },
     "execution_count": 45,
     "metadata": {},
     "output_type": "execute_result"
    }
   ],
   "source": [
    "# Get model_3 results aggregated to single values\n",
    "model_3_results = evaluate_preds(y_true=tf.squeeze(test_labels),\n",
    "                                 y_pred=model_3_preds)\n",
    "model_3_results\n"
   ]
  },
  {
   "cell_type": "code",
   "execution_count": null,
   "metadata": {},
   "outputs": [
    {
     "data": {
      "image/png": "[encoded data removed]",
      "text/plain": [
       "<Figure size 1000x700 with 1 Axes>"
      ]
     },
     "metadata": {},
     "output_type": "display_data"
    }
   ],
   "source": [
    "offset = 300\n",
    "plt.figure(figsize=(10, 7))\n",
    "plot_time_series(timesteps=X_test[-len(test_windows):], values=test_labels[:, 0], start=offset, label=\"Test_data\")\n",
    "# Checking the shape of model_3_preds results in [n_test_samples, HORIZON] (this will screw up the plot)\n",
    "plot_time_series(timesteps=X_test[-len(test_windows):], values=model_3_preds, start=offset, label=\"model_3_preds\")\n",
    "     \n"
   ]
  },
  {
   "cell_type": "code",
   "execution_count": null,
   "metadata": {},
   "outputs": [
    {
     "data": {
      "image/png": "[encoded data removed]",
      "text/plain": [
       "<Figure size 1000x700 with 1 Axes>"
      ]
     },
     "metadata": {},
     "output_type": "display_data"
    }
   ],
   "source": [
    "offset = 300\n",
    "plt.figure(figsize=(10, 7))\n",
    "# Plot model_3_preds by aggregating them (note: this condenses information so the preds will look fruther ahead than the test data)\n",
    "plot_time_series(timesteps=X_test[-len(test_windows):], \n",
    "                 values=test_labels[:, 0], \n",
    "                 start=offset, \n",
    "                 label=\"Test_data\")\n",
    "plot_time_series(timesteps=X_test[-len(test_windows):], \n",
    "                 values=tf.reduce_mean(model_3_preds, axis=1), \n",
    "                 format=\"-\",\n",
    "                 start=offset, \n",
    "                 label=\"model_3_preds\")\n"
   ]
  },
  {
   "cell_type": "code",
   "execution_count": null,
   "metadata": {},
   "outputs": [
    {
     "data": {
      "image/png": "[encoded data removed]",
      "text/plain": [
       "<Figure size 1000x700 with 1 Axes>"
      ]
     },
     "metadata": {},
     "output_type": "display_data"
    }
   ],
   "source": [
    "pd.DataFrame({\n",
    "              \"horizon_1_window_7\": model_1_results[\"mae\"], \n",
    "               \n",
    "              \"horizon_7_window_30\": model_3_results[\"mae\"]}, index=[\"mae\"]).plot(figsize=(10, 7), kind=\"bar\");\n"
   ]
  },
  {
   "cell_type": "markdown",
   "metadata": {},
   "source": [
    "## Model 5  RNN (LSTM )"
   ]
  },
  {
   "cell_type": "code",
   "execution_count": null,
   "metadata": {},
   "outputs": [
    {
     "name": "stdout",
     "output_type": "stream",
     "text": [
      "INFO:tensorflow:Assets written to: model_experiments/model_5_lstm/assets\n"
     ]
    },
    {
     "name": "stderr",
     "output_type": "stream",
     "text": [
      "INFO:tensorflow:Assets written to: model_experiments/model_5_lstm/assets\n"
     ]
    },
    {
     "name": "stdout",
     "output_type": "stream",
     "text": [
      "INFO:tensorflow:Assets written to: model_experiments/model_5_lstm/assets\n"
     ]
    },
    {
     "name": "stderr",
     "output_type": "stream",
     "text": [
      "INFO:tensorflow:Assets written to: model_experiments/model_5_lstm/assets\n"
     ]
    },
    {
     "name": "stdout",
     "output_type": "stream",
     "text": [
      "INFO:tensorflow:Assets written to: model_experiments/model_5_lstm/assets\n"
     ]
    },
    {
     "name": "stderr",
     "output_type": "stream",
     "text": [
      "INFO:tensorflow:Assets written to: model_experiments/model_5_lstm/assets\n"
     ]
    },
    {
     "name": "stdout",
     "output_type": "stream",
     "text": [
      "INFO:tensorflow:Assets written to: model_experiments/model_5_lstm/assets\n"
     ]
    },
    {
     "name": "stderr",
     "output_type": "stream",
     "text": [
      "INFO:tensorflow:Assets written to: model_experiments/model_5_lstm/assets\n"
     ]
    },
    {
     "name": "stdout",
     "output_type": "stream",
     "text": [
      "INFO:tensorflow:Assets written to: model_experiments/model_5_lstm/assets\n"
     ]
    },
    {
     "name": "stderr",
     "output_type": "stream",
     "text": [
      "INFO:tensorflow:Assets written to: model_experiments/model_5_lstm/assets\n"
     ]
    },
    {
     "name": "stdout",
     "output_type": "stream",
     "text": [
      "INFO:tensorflow:Assets written to: model_experiments/model_5_lstm/assets\n"
     ]
    },
    {
     "name": "stderr",
     "output_type": "stream",
     "text": [
      "INFO:tensorflow:Assets written to: model_experiments/model_5_lstm/assets\n"
     ]
    },
    {
     "name": "stdout",
     "output_type": "stream",
     "text": [
      "INFO:tensorflow:Assets written to: model_experiments/model_5_lstm/assets\n"
     ]
    },
    {
     "name": "stderr",
     "output_type": "stream",
     "text": [
      "INFO:tensorflow:Assets written to: model_experiments/model_5_lstm/assets\n"
     ]
    },
    {
     "name": "stdout",
     "output_type": "stream",
     "text": [
      "INFO:tensorflow:Assets written to: model_experiments/model_5_lstm/assets\n"
     ]
    },
    {
     "name": "stderr",
     "output_type": "stream",
     "text": [
      "INFO:tensorflow:Assets written to: model_experiments/model_5_lstm/assets\n"
     ]
    },
    {
     "name": "stdout",
     "output_type": "stream",
     "text": [
      "INFO:tensorflow:Assets written to: model_experiments/model_5_lstm/assets\n"
     ]
    },
    {
     "name": "stderr",
     "output_type": "stream",
     "text": [
      "INFO:tensorflow:Assets written to: model_experiments/model_5_lstm/assets\n"
     ]
    },
    {
     "name": "stdout",
     "output_type": "stream",
     "text": [
      "INFO:tensorflow:Assets written to: model_experiments/model_5_lstm/assets\n"
     ]
    },
    {
     "name": "stderr",
     "output_type": "stream",
     "text": [
      "INFO:tensorflow:Assets written to: model_experiments/model_5_lstm/assets\n"
     ]
    },
    {
     "name": "stdout",
     "output_type": "stream",
     "text": [
      "INFO:tensorflow:Assets written to: model_experiments/model_5_lstm/assets\n"
     ]
    },
    {
     "name": "stderr",
     "output_type": "stream",
     "text": [
      "INFO:tensorflow:Assets written to: model_experiments/model_5_lstm/assets\n"
     ]
    },
    {
     "name": "stdout",
     "output_type": "stream",
     "text": [
      "INFO:tensorflow:Assets written to: model_experiments/model_5_lstm/assets\n"
     ]
    },
    {
     "name": "stderr",
     "output_type": "stream",
     "text": [
      "INFO:tensorflow:Assets written to: model_experiments/model_5_lstm/assets\n"
     ]
    },
    {
     "name": "stdout",
     "output_type": "stream",
     "text": [
      "INFO:tensorflow:Assets written to: model_experiments/model_5_lstm/assets\n"
     ]
    },
    {
     "name": "stderr",
     "output_type": "stream",
     "text": [
      "INFO:tensorflow:Assets written to: model_experiments/model_5_lstm/assets\n"
     ]
    },
    {
     "name": "stdout",
     "output_type": "stream",
     "text": [
      "INFO:tensorflow:Assets written to: model_experiments/model_5_lstm/assets\n"
     ]
    },
    {
     "name": "stderr",
     "output_type": "stream",
     "text": [
      "INFO:tensorflow:Assets written to: model_experiments/model_5_lstm/assets\n"
     ]
    },
    {
     "name": "stdout",
     "output_type": "stream",
     "text": [
      "INFO:tensorflow:Assets written to: model_experiments/model_5_lstm/assets\n"
     ]
    },
    {
     "name": "stderr",
     "output_type": "stream",
     "text": [
      "INFO:tensorflow:Assets written to: model_experiments/model_5_lstm/assets\n"
     ]
    },
    {
     "name": "stdout",
     "output_type": "stream",
     "text": [
      "INFO:tensorflow:Assets written to: model_experiments/model_5_lstm/assets\n"
     ]
    },
    {
     "name": "stderr",
     "output_type": "stream",
     "text": [
      "INFO:tensorflow:Assets written to: model_experiments/model_5_lstm/assets\n"
     ]
    },
    {
     "name": "stdout",
     "output_type": "stream",
     "text": [
      "INFO:tensorflow:Assets written to: model_experiments/model_5_lstm/assets\n"
     ]
    },
    {
     "name": "stderr",
     "output_type": "stream",
     "text": [
      "INFO:tensorflow:Assets written to: model_experiments/model_5_lstm/assets\n"
     ]
    },
    {
     "name": "stdout",
     "output_type": "stream",
     "text": [
      "INFO:tensorflow:Assets written to: model_experiments/model_5_lstm/assets\n"
     ]
    },
    {
     "name": "stderr",
     "output_type": "stream",
     "text": [
      "INFO:tensorflow:Assets written to: model_experiments/model_5_lstm/assets\n"
     ]
    },
    {
     "name": "stdout",
     "output_type": "stream",
     "text": [
      "INFO:tensorflow:Assets written to: model_experiments/model_5_lstm/assets\n"
     ]
    },
    {
     "name": "stderr",
     "output_type": "stream",
     "text": [
      "INFO:tensorflow:Assets written to: model_experiments/model_5_lstm/assets\n"
     ]
    },
    {
     "name": "stdout",
     "output_type": "stream",
     "text": [
      "INFO:tensorflow:Assets written to: model_experiments/model_5_lstm/assets\n"
     ]
    },
    {
     "name": "stderr",
     "output_type": "stream",
     "text": [
      "INFO:tensorflow:Assets written to: model_experiments/model_5_lstm/assets\n"
     ]
    },
    {
     "name": "stdout",
     "output_type": "stream",
     "text": [
      "INFO:tensorflow:Assets written to: model_experiments/model_5_lstm/assets\n"
     ]
    },
    {
     "name": "stderr",
     "output_type": "stream",
     "text": [
      "INFO:tensorflow:Assets written to: model_experiments/model_5_lstm/assets\n"
     ]
    },
    {
     "name": "stdout",
     "output_type": "stream",
     "text": [
      "INFO:tensorflow:Assets written to: model_experiments/model_5_lstm/assets\n"
     ]
    },
    {
     "name": "stderr",
     "output_type": "stream",
     "text": [
      "INFO:tensorflow:Assets written to: model_experiments/model_5_lstm/assets\n"
     ]
    },
    {
     "name": "stdout",
     "output_type": "stream",
     "text": [
      "INFO:tensorflow:Assets written to: model_experiments/model_5_lstm/assets\n"
     ]
    },
    {
     "name": "stderr",
     "output_type": "stream",
     "text": [
      "INFO:tensorflow:Assets written to: model_experiments/model_5_lstm/assets\n"
     ]
    },
    {
     "name": "stdout",
     "output_type": "stream",
     "text": [
      "INFO:tensorflow:Assets written to: model_experiments/model_5_lstm/assets\n"
     ]
    },
    {
     "name": "stderr",
     "output_type": "stream",
     "text": [
      "INFO:tensorflow:Assets written to: model_experiments/model_5_lstm/assets\n"
     ]
    },
    {
     "name": "stdout",
     "output_type": "stream",
     "text": [
      "INFO:tensorflow:Assets written to: model_experiments/model_5_lstm/assets\n"
     ]
    },
    {
     "name": "stderr",
     "output_type": "stream",
     "text": [
      "INFO:tensorflow:Assets written to: model_experiments/model_5_lstm/assets\n"
     ]
    },
    {
     "name": "stdout",
     "output_type": "stream",
     "text": [
      "INFO:tensorflow:Assets written to: model_experiments/model_5_lstm/assets\n"
     ]
    },
    {
     "name": "stderr",
     "output_type": "stream",
     "text": [
      "INFO:tensorflow:Assets written to: model_experiments/model_5_lstm/assets\n"
     ]
    },
    {
     "name": "stdout",
     "output_type": "stream",
     "text": [
      "INFO:tensorflow:Assets written to: model_experiments/model_5_lstm/assets\n"
     ]
    },
    {
     "name": "stderr",
     "output_type": "stream",
     "text": [
      "INFO:tensorflow:Assets written to: model_experiments/model_5_lstm/assets\n"
     ]
    },
    {
     "name": "stdout",
     "output_type": "stream",
     "text": [
      "INFO:tensorflow:Assets written to: model_experiments/model_5_lstm/assets\n"
     ]
    },
    {
     "name": "stderr",
     "output_type": "stream",
     "text": [
      "INFO:tensorflow:Assets written to: model_experiments/model_5_lstm/assets\n"
     ]
    },
    {
     "name": "stdout",
     "output_type": "stream",
     "text": [
      "INFO:tensorflow:Assets written to: model_experiments/model_5_lstm/assets\n"
     ]
    },
    {
     "name": "stderr",
     "output_type": "stream",
     "text": [
      "INFO:tensorflow:Assets written to: model_experiments/model_5_lstm/assets\n"
     ]
    },
    {
     "name": "stdout",
     "output_type": "stream",
     "text": [
      "INFO:tensorflow:Assets written to: model_experiments/model_5_lstm/assets\n"
     ]
    },
    {
     "name": "stderr",
     "output_type": "stream",
     "text": [
      "INFO:tensorflow:Assets written to: model_experiments/model_5_lstm/assets\n"
     ]
    },
    {
     "name": "stdout",
     "output_type": "stream",
     "text": [
      "INFO:tensorflow:Assets written to: model_experiments/model_5_lstm/assets\n"
     ]
    },
    {
     "name": "stderr",
     "output_type": "stream",
     "text": [
      "INFO:tensorflow:Assets written to: model_experiments/model_5_lstm/assets\n"
     ]
    },
    {
     "data": {
      "text/plain": [
       "<keras.src.callbacks.History at 0x14b20f150>"
      ]
     },
     "execution_count": 49,
     "metadata": {},
     "output_type": "execute_result"
    }
   ],
   "source": [
    "tf.random.set_seed(42)\n",
    "\n",
    "# Let's build an LSTM model with the Functional API\n",
    "inputs = layers.Input(shape=(WINDOW_SIZE))\n",
    "x = layers.Lambda(lambda x: tf.expand_dims(x, axis=1))(inputs) # expand input dimension to be compatible with LSTM\n",
    "# print(x.shape)\n",
    "# x = layers.LSTM(128, activation=\"relu\", return_sequences=True)(x) # this layer will error if the inputs are not the right shape\n",
    "x = layers.LSTM(128, activation=\"relu\")(x) # using the tanh loss function results in a massive error\n",
    "# print(x.shape)\n",
    "# Add another optional dense layer (you could add more of these to see if they improve model performance)\n",
    "# x = layers.Dense(32, activation=\"relu\")(x)\n",
    "output = layers.Dense(HORIZON)(x)\n",
    "model_5 = tf.keras.Model(inputs=inputs, outputs=output, name=\"model_5_lstm\")\n",
    "\n",
    "# Compile model\n",
    "model_5.compile(loss=\"mae\",\n",
    "                optimizer=tf.keras.optimizers.Adam())\n",
    "\n",
    "# Seems when saving the model several warnings are appearing: https://github.com/tensorflow/tensorflow/issues/47554 \n",
    "model_5.fit(train_windows,\n",
    "            train_labels,\n",
    "            epochs=100,\n",
    "            verbose=0,\n",
    "            batch_size=128,\n",
    "            validation_data=(test_windows, test_labels),\n",
    "            callbacks=[create_model_checkpoint(model_name=model_5.name)])\n",
    "     \n"
   ]
  },
  {
   "cell_type": "code",
   "execution_count": null,
   "metadata": {},
   "outputs": [
    {
     "name": "stdout",
     "output_type": "stream",
     "text": [
      "22/22 [==============================] - 0s 1ms/step - loss: 1139.4878\n"
     ]
    },
    {
     "data": {
      "text/plain": [
       "1139.48779296875"
      ]
     },
     "execution_count": 50,
     "metadata": {},
     "output_type": "execute_result"
    }
   ],
   "source": [
    "\n",
    "# Load in best version of model 5 and evaluate on the test data\n",
    "model_5 = tf.keras.models.load_model(\"model_experiments/model_5_lstm/\")\n",
    "model_5.evaluate(test_windows, test_labels)"
   ]
  },
  {
   "cell_type": "code",
   "execution_count": null,
   "metadata": {},
   "outputs": [
    {
     "name": "stdout",
     "output_type": "stream",
     "text": [
      "22/22 [==============================] - 0s 1ms/step\n"
     ]
    },
    {
     "data": {
      "text/plain": [
       "<tf.Tensor: shape=(10, 7), dtype=float32, numpy=\n",
       "array([[38183.28 , 38413.734, 38579.57 , 38186.34 , 38578.51 , 38465.73 ,\n",
       "        38976.418],\n",
       "       [38187.594, 38588.188, 38985.24 , 38636.402, 38868.406, 38899.805,\n",
       "        39043.496],\n",
       "       [37765.203, 38136.18 , 38567.9  , 38370.72 , 38337.297, 38444.195,\n",
       "        38750.418],\n",
       "       [39952.18 , 39905.133, 40301.734, 39983.18 , 40381.51 , 40394.926,\n",
       "        40475.906],\n",
       "       [41924.19 , 41164.383, 41890.156, 42041.906, 42365.355, 42186.42 ,\n",
       "        42109.465],\n",
       "       [43126.215, 42629.363, 42916.65 , 43090.418, 43302.91 , 43251.73 ,\n",
       "        42958.59 ],\n",
       "       [43782.57 , 42846.684, 42947.156, 43062.793, 43597.9  , 43408.727,\n",
       "        43767.24 ],\n",
       "       [42163.54 , 41775.31 , 41773.664, 41658.02 , 42103.418, 42277.36 ,\n",
       "        42550.04 ],\n",
       "       [41178.145, 41361.45 , 41449.727, 41373.27 , 41071.332, 41700.344,\n",
       "        41601.34 ],\n",
       "       [39984.54 , 40194.766, 40377.69 , 40145.117, 40295.63 , 40681.344,\n",
       "        40518.87 ]], dtype=float32)>"
      ]
     },
     "execution_count": 51,
     "metadata": {},
     "output_type": "execute_result"
    }
   ],
   "source": [
    "\n",
    "# Make predictions with our LSTM model\n",
    "model_5_preds = make_preds(model_5, test_windows)\n",
    "model_5_preds[:10]"
   ]
  },
  {
   "cell_type": "code",
   "execution_count": null,
   "metadata": {},
   "outputs": [
    {
     "data": {
      "text/plain": [
       "{'mae': 1139.4878, 'mse': 3089158.8, 'rmse': 1293.65, 'mape': 4.2077904}"
      ]
     },
     "execution_count": 52,
     "metadata": {},
     "output_type": "execute_result"
    }
   ],
   "source": [
    "# Evaluate model 5 preds\n",
    "model_5_results = evaluate_preds(y_true=tf.squeeze(test_labels),\n",
    "                                 y_pred=model_5_preds)\n",
    "model_5_results\n"
   ]
  },
  {
   "cell_type": "markdown",
   "metadata": {},
   "source": [
    "# Multivariate time series "
   ]
  },
  {
   "cell_type": "code",
   "execution_count": null,
   "metadata": {},
   "outputs": [
    {
     "data": {
      "text/html": [
       "<div>\n",
       "<style scoped>\n",
       "    .dataframe tbody tr th:only-of-type {\n",
       "        vertical-align: middle;\n",
       "    }\n",
       "\n",
       "    .dataframe tbody tr th {\n",
       "        vertical-align: top;\n",
       "    }\n",
       "\n",
       "    .dataframe thead th {\n",
       "        text-align: right;\n",
       "    }\n",
       "</style>\n",
       "<table border=\"1\" class=\"dataframe\">\n",
       "  <thead>\n",
       "    <tr style=\"text-align: right;\">\n",
       "      <th></th>\n",
       "      <th>Price</th>\n",
       "    </tr>\n",
       "    <tr>\n",
       "      <th>Date</th>\n",
       "      <th></th>\n",
       "    </tr>\n",
       "  </thead>\n",
       "  <tbody>\n",
       "    <tr>\n",
       "      <th>2014-09-17</th>\n",
       "      <td>457.334015</td>\n",
       "    </tr>\n",
       "    <tr>\n",
       "      <th>2014-09-18</th>\n",
       "      <td>424.440002</td>\n",
       "    </tr>\n",
       "    <tr>\n",
       "      <th>2014-09-19</th>\n",
       "      <td>394.795990</td>\n",
       "    </tr>\n",
       "    <tr>\n",
       "      <th>2014-09-20</th>\n",
       "      <td>408.903992</td>\n",
       "    </tr>\n",
       "    <tr>\n",
       "      <th>2014-09-21</th>\n",
       "      <td>398.821014</td>\n",
       "    </tr>\n",
       "  </tbody>\n",
       "</table>\n",
       "</div>"
      ],
      "text/plain": [
       "                 Price\n",
       "Date                  \n",
       "2014-09-17  457.334015\n",
       "2014-09-18  424.440002\n",
       "2014-09-19  394.795990\n",
       "2014-09-20  408.903992\n",
       "2014-09-21  398.821014"
      ]
     },
     "execution_count": 53,
     "metadata": {},
     "output_type": "execute_result"
    }
   ],
   "source": [
    "\n",
    "# Let's make a multivariate time series\n",
    "bitcoin_prices.head()"
   ]
  },
  {
   "cell_type": "code",
   "execution_count": null,
   "metadata": {},
   "outputs": [
    {
     "data": {
      "text/html": [
       "<div>\n",
       "<style scoped>\n",
       "    .dataframe tbody tr th:only-of-type {\n",
       "        vertical-align: middle;\n",
       "    }\n",
       "\n",
       "    .dataframe tbody tr th {\n",
       "        vertical-align: top;\n",
       "    }\n",
       "\n",
       "    .dataframe thead th {\n",
       "        text-align: right;\n",
       "    }\n",
       "</style>\n",
       "<table border=\"1\" class=\"dataframe\">\n",
       "  <thead>\n",
       "    <tr style=\"text-align: right;\">\n",
       "      <th></th>\n",
       "      <th>Price</th>\n",
       "      <th>block_reward</th>\n",
       "    </tr>\n",
       "    <tr>\n",
       "      <th>Date</th>\n",
       "      <th></th>\n",
       "      <th></th>\n",
       "    </tr>\n",
       "  </thead>\n",
       "  <tbody>\n",
       "    <tr>\n",
       "      <th>2014-09-17</th>\n",
       "      <td>457.334015</td>\n",
       "      <td>25</td>\n",
       "    </tr>\n",
       "    <tr>\n",
       "      <th>2014-09-18</th>\n",
       "      <td>424.440002</td>\n",
       "      <td>25</td>\n",
       "    </tr>\n",
       "    <tr>\n",
       "      <th>2014-09-19</th>\n",
       "      <td>394.795990</td>\n",
       "      <td>25</td>\n",
       "    </tr>\n",
       "    <tr>\n",
       "      <th>2014-09-20</th>\n",
       "      <td>408.903992</td>\n",
       "      <td>25</td>\n",
       "    </tr>\n",
       "    <tr>\n",
       "      <th>2014-09-21</th>\n",
       "      <td>398.821014</td>\n",
       "      <td>25</td>\n",
       "    </tr>\n",
       "  </tbody>\n",
       "</table>\n",
       "</div>"
      ],
      "text/plain": [
       "                 Price block_reward\n",
       "Date                               \n",
       "2014-09-17  457.334015           25\n",
       "2014-09-18  424.440002           25\n",
       "2014-09-19  394.795990           25\n",
       "2014-09-20  408.903992           25\n",
       "2014-09-21  398.821014           25"
      ]
     },
     "execution_count": 54,
     "metadata": {},
     "output_type": "execute_result"
    }
   ],
   "source": [
    "# Block reward values\n",
    "block_reward_1 = 50 # 3 January 2009 (2009-01-03) - this block reward isn't in our dataset (it starts from 01 October 2013)\n",
    "block_reward_2 = 25 # 28 November 2012 \n",
    "block_reward_3 = 12.5 # 9 July 2016\n",
    "block_reward_4 = 6.25 # 11 May 2020\n",
    "\n",
    "# Block reward dates (datetime form of the above date stamps)\n",
    "block_reward_2_datetime = np.datetime64(\"2012-11-28\")\n",
    "block_reward_3_datetime = np.datetime64(\"2016-07-09\")\n",
    "block_reward_4_datetime = np.datetime64(\"2020-05-11\")\n",
    "\n",
    "\n",
    "\n",
    "# Get date indexes for when to add in different block dates\n",
    "block_reward_2_days = (block_reward_3_datetime - bitcoin_prices.index[0]).days\n",
    "block_reward_3_days = (block_reward_4_datetime - bitcoin_prices.index[0]).days\n",
    "#block_reward_2_days, block_reward_3_days\n",
    "\n",
    "\n",
    "# Add block_reward column\n",
    "bitcoin_prices_block = bitcoin_prices.copy()\n",
    "bitcoin_prices_block[\"block_reward\"] = None\n",
    "\n",
    "# Set values of block_reward column (it's the last column hence -1 indexing on iloc)\n",
    "bitcoin_prices_block.iloc[:block_reward_2_days, -1] = block_reward_2\n",
    "bitcoin_prices_block.iloc[block_reward_2_days:block_reward_3_days, -1] = block_reward_3\n",
    "bitcoin_prices_block.iloc[block_reward_3_days:, -1] = block_reward_4\n",
    "bitcoin_prices_block.head()"
   ]
  },
  {
   "cell_type": "code",
   "execution_count": null,
   "metadata": {},
   "outputs": [
    {
     "data": {
      "image/png": "[encoded data removed]",
      "text/plain": [
       "<Figure size 1000x700 with 1 Axes>"
      ]
     },
     "metadata": {},
     "output_type": "display_data"
    }
   ],
   "source": [
    "\n",
    "# Plot the block reward/price over time\n",
    "# Note: Because of the different scales of our values we'll scale them to be between 0 and 1.\n",
    "from sklearn.preprocessing import minmax_scale\n",
    "scaled_price_block_df = pd.DataFrame(minmax_scale(bitcoin_prices_block[[\"Price\", \"block_reward\"]]), # we need to scale the data first\n",
    "                                     columns=bitcoin_prices_block.columns,\n",
    "                                     index=bitcoin_prices_block.index)\n",
    "scaled_price_block_df.plot(figsize=(10, 7));"
   ]
  },
  {
   "cell_type": "code",
   "execution_count": null,
   "metadata": {},
   "outputs": [],
   "source": [
    "\n",
    "# Setup dataset hyperparameters\n",
    "HORIZON = 1\n",
    "WINDOW_SIZE = 7"
   ]
  },
  {
   "cell_type": "code",
   "execution_count": null,
   "metadata": {},
   "outputs": [
    {
     "data": {
      "text/html": [
       "<div>\n",
       "<style scoped>\n",
       "    .dataframe tbody tr th:only-of-type {\n",
       "        vertical-align: middle;\n",
       "    }\n",
       "\n",
       "    .dataframe tbody tr th {\n",
       "        vertical-align: top;\n",
       "    }\n",
       "\n",
       "    .dataframe thead th {\n",
       "        text-align: right;\n",
       "    }\n",
       "</style>\n",
       "<table border=\"1\" class=\"dataframe\">\n",
       "  <thead>\n",
       "    <tr style=\"text-align: right;\">\n",
       "      <th></th>\n",
       "      <th>Price</th>\n",
       "      <th>block_reward</th>\n",
       "      <th>Price+1</th>\n",
       "      <th>Price+2</th>\n",
       "      <th>Price+3</th>\n",
       "      <th>Price+4</th>\n",
       "      <th>Price+5</th>\n",
       "      <th>Price+6</th>\n",
       "      <th>Price+7</th>\n",
       "    </tr>\n",
       "    <tr>\n",
       "      <th>Date</th>\n",
       "      <th></th>\n",
       "      <th></th>\n",
       "      <th></th>\n",
       "      <th></th>\n",
       "      <th></th>\n",
       "      <th></th>\n",
       "      <th></th>\n",
       "      <th></th>\n",
       "      <th></th>\n",
       "    </tr>\n",
       "  </thead>\n",
       "  <tbody>\n",
       "    <tr>\n",
       "      <th>2014-09-17</th>\n",
       "      <td>457.334015</td>\n",
       "      <td>25</td>\n",
       "      <td>NaN</td>\n",
       "      <td>NaN</td>\n",
       "      <td>NaN</td>\n",
       "      <td>NaN</td>\n",
       "      <td>NaN</td>\n",
       "      <td>NaN</td>\n",
       "      <td>NaN</td>\n",
       "    </tr>\n",
       "    <tr>\n",
       "      <th>2014-09-18</th>\n",
       "      <td>424.440002</td>\n",
       "      <td>25</td>\n",
       "      <td>457.334015</td>\n",
       "      <td>NaN</td>\n",
       "      <td>NaN</td>\n",
       "      <td>NaN</td>\n",
       "      <td>NaN</td>\n",
       "      <td>NaN</td>\n",
       "      <td>NaN</td>\n",
       "    </tr>\n",
       "    <tr>\n",
       "      <th>2014-09-19</th>\n",
       "      <td>394.795990</td>\n",
       "      <td>25</td>\n",
       "      <td>424.440002</td>\n",
       "      <td>457.334015</td>\n",
       "      <td>NaN</td>\n",
       "      <td>NaN</td>\n",
       "      <td>NaN</td>\n",
       "      <td>NaN</td>\n",
       "      <td>NaN</td>\n",
       "    </tr>\n",
       "    <tr>\n",
       "      <th>2014-09-20</th>\n",
       "      <td>408.903992</td>\n",
       "      <td>25</td>\n",
       "      <td>394.795990</td>\n",
       "      <td>424.440002</td>\n",
       "      <td>457.334015</td>\n",
       "      <td>NaN</td>\n",
       "      <td>NaN</td>\n",
       "      <td>NaN</td>\n",
       "      <td>NaN</td>\n",
       "    </tr>\n",
       "    <tr>\n",
       "      <th>2014-09-21</th>\n",
       "      <td>398.821014</td>\n",
       "      <td>25</td>\n",
       "      <td>408.903992</td>\n",
       "      <td>394.795990</td>\n",
       "      <td>424.440002</td>\n",
       "      <td>457.334015</td>\n",
       "      <td>NaN</td>\n",
       "      <td>NaN</td>\n",
       "      <td>NaN</td>\n",
       "    </tr>\n",
       "    <tr>\n",
       "      <th>2014-09-22</th>\n",
       "      <td>402.152008</td>\n",
       "      <td>25</td>\n",
       "      <td>398.821014</td>\n",
       "      <td>408.903992</td>\n",
       "      <td>394.795990</td>\n",
       "      <td>424.440002</td>\n",
       "      <td>457.334015</td>\n",
       "      <td>NaN</td>\n",
       "      <td>NaN</td>\n",
       "    </tr>\n",
       "    <tr>\n",
       "      <th>2014-09-23</th>\n",
       "      <td>435.790985</td>\n",
       "      <td>25</td>\n",
       "      <td>402.152008</td>\n",
       "      <td>398.821014</td>\n",
       "      <td>408.903992</td>\n",
       "      <td>394.795990</td>\n",
       "      <td>424.440002</td>\n",
       "      <td>457.334015</td>\n",
       "      <td>NaN</td>\n",
       "    </tr>\n",
       "    <tr>\n",
       "      <th>2014-09-24</th>\n",
       "      <td>423.204987</td>\n",
       "      <td>25</td>\n",
       "      <td>435.790985</td>\n",
       "      <td>402.152008</td>\n",
       "      <td>398.821014</td>\n",
       "      <td>408.903992</td>\n",
       "      <td>394.795990</td>\n",
       "      <td>424.440002</td>\n",
       "      <td>457.334015</td>\n",
       "    </tr>\n",
       "    <tr>\n",
       "      <th>2014-09-25</th>\n",
       "      <td>411.574005</td>\n",
       "      <td>25</td>\n",
       "      <td>423.204987</td>\n",
       "      <td>435.790985</td>\n",
       "      <td>402.152008</td>\n",
       "      <td>398.821014</td>\n",
       "      <td>408.903992</td>\n",
       "      <td>394.795990</td>\n",
       "      <td>424.440002</td>\n",
       "    </tr>\n",
       "    <tr>\n",
       "      <th>2014-09-26</th>\n",
       "      <td>404.424988</td>\n",
       "      <td>25</td>\n",
       "      <td>411.574005</td>\n",
       "      <td>423.204987</td>\n",
       "      <td>435.790985</td>\n",
       "      <td>402.152008</td>\n",
       "      <td>398.821014</td>\n",
       "      <td>408.903992</td>\n",
       "      <td>394.795990</td>\n",
       "    </tr>\n",
       "  </tbody>\n",
       "</table>\n",
       "</div>"
      ],
      "text/plain": [
       "                 Price block_reward     Price+1     Price+2     Price+3  \\\n",
       "Date                                                                      \n",
       "2014-09-17  457.334015           25         NaN         NaN         NaN   \n",
       "2014-09-18  424.440002           25  457.334015         NaN         NaN   \n",
       "2014-09-19  394.795990           25  424.440002  457.334015         NaN   \n",
       "2014-09-20  408.903992           25  394.795990  424.440002  457.334015   \n",
       "2014-09-21  398.821014           25  408.903992  394.795990  424.440002   \n",
       "2014-09-22  402.152008           25  398.821014  408.903992  394.795990   \n",
       "2014-09-23  435.790985           25  402.152008  398.821014  408.903992   \n",
       "2014-09-24  423.204987           25  435.790985  402.152008  398.821014   \n",
       "2014-09-25  411.574005           25  423.204987  435.790985  402.152008   \n",
       "2014-09-26  404.424988           25  411.574005  423.204987  435.790985   \n",
       "\n",
       "               Price+4     Price+5     Price+6     Price+7  \n",
       "Date                                                        \n",
       "2014-09-17         NaN         NaN         NaN         NaN  \n",
       "2014-09-18         NaN         NaN         NaN         NaN  \n",
       "2014-09-19         NaN         NaN         NaN         NaN  \n",
       "2014-09-20         NaN         NaN         NaN         NaN  \n",
       "2014-09-21  457.334015         NaN         NaN         NaN  \n",
       "2014-09-22  424.440002  457.334015         NaN         NaN  \n",
       "2014-09-23  394.795990  424.440002  457.334015         NaN  \n",
       "2014-09-24  408.903992  394.795990  424.440002  457.334015  \n",
       "2014-09-25  398.821014  408.903992  394.795990  424.440002  \n",
       "2014-09-26  402.152008  398.821014  408.903992  394.795990  "
      ]
     },
     "execution_count": 57,
     "metadata": {},
     "output_type": "execute_result"
    }
   ],
   "source": [
    "# Make a copy of the Bitcoin historical data with block reward feature\n",
    "bitcoin_prices_windowed = bitcoin_prices_block.copy()\n",
    "\n",
    "# Add windowed columns\n",
    "for i in range(WINDOW_SIZE): # Shift values for each step in WINDOW_SIZE\n",
    "  bitcoin_prices_windowed[f\"Price+{i+1}\"] = bitcoin_prices_windowed[\"Price\"].shift(periods=i+1)\n",
    "bitcoin_prices_windowed.head(10)"
   ]
  },
  {
   "cell_type": "code",
   "execution_count": null,
   "metadata": {},
   "outputs": [
    {
     "data": {
      "text/html": [
       "<div>\n",
       "<style scoped>\n",
       "    .dataframe tbody tr th:only-of-type {\n",
       "        vertical-align: middle;\n",
       "    }\n",
       "\n",
       "    .dataframe tbody tr th {\n",
       "        vertical-align: top;\n",
       "    }\n",
       "\n",
       "    .dataframe thead th {\n",
       "        text-align: right;\n",
       "    }\n",
       "</style>\n",
       "<table border=\"1\" class=\"dataframe\">\n",
       "  <thead>\n",
       "    <tr style=\"text-align: right;\">\n",
       "      <th></th>\n",
       "      <th>block_reward</th>\n",
       "      <th>Price+1</th>\n",
       "      <th>Price+2</th>\n",
       "      <th>Price+3</th>\n",
       "      <th>Price+4</th>\n",
       "      <th>Price+5</th>\n",
       "      <th>Price+6</th>\n",
       "      <th>Price+7</th>\n",
       "    </tr>\n",
       "    <tr>\n",
       "      <th>Date</th>\n",
       "      <th></th>\n",
       "      <th></th>\n",
       "      <th></th>\n",
       "      <th></th>\n",
       "      <th></th>\n",
       "      <th></th>\n",
       "      <th></th>\n",
       "      <th></th>\n",
       "    </tr>\n",
       "  </thead>\n",
       "  <tbody>\n",
       "    <tr>\n",
       "      <th>2014-09-24</th>\n",
       "      <td>25.0</td>\n",
       "      <td>435.790985</td>\n",
       "      <td>402.152008</td>\n",
       "      <td>398.821014</td>\n",
       "      <td>408.903992</td>\n",
       "      <td>394.795990</td>\n",
       "      <td>424.440002</td>\n",
       "      <td>457.334015</td>\n",
       "    </tr>\n",
       "    <tr>\n",
       "      <th>2014-09-25</th>\n",
       "      <td>25.0</td>\n",
       "      <td>423.204987</td>\n",
       "      <td>435.790985</td>\n",
       "      <td>402.152008</td>\n",
       "      <td>398.821014</td>\n",
       "      <td>408.903992</td>\n",
       "      <td>394.795990</td>\n",
       "      <td>424.440002</td>\n",
       "    </tr>\n",
       "    <tr>\n",
       "      <th>2014-09-26</th>\n",
       "      <td>25.0</td>\n",
       "      <td>411.574005</td>\n",
       "      <td>423.204987</td>\n",
       "      <td>435.790985</td>\n",
       "      <td>402.152008</td>\n",
       "      <td>398.821014</td>\n",
       "      <td>408.903992</td>\n",
       "      <td>394.795990</td>\n",
       "    </tr>\n",
       "    <tr>\n",
       "      <th>2014-09-27</th>\n",
       "      <td>25.0</td>\n",
       "      <td>404.424988</td>\n",
       "      <td>411.574005</td>\n",
       "      <td>423.204987</td>\n",
       "      <td>435.790985</td>\n",
       "      <td>402.152008</td>\n",
       "      <td>398.821014</td>\n",
       "      <td>408.903992</td>\n",
       "    </tr>\n",
       "    <tr>\n",
       "      <th>2014-09-28</th>\n",
       "      <td>25.0</td>\n",
       "      <td>399.519989</td>\n",
       "      <td>404.424988</td>\n",
       "      <td>411.574005</td>\n",
       "      <td>423.204987</td>\n",
       "      <td>435.790985</td>\n",
       "      <td>402.152008</td>\n",
       "      <td>398.821014</td>\n",
       "    </tr>\n",
       "  </tbody>\n",
       "</table>\n",
       "</div>"
      ],
      "text/plain": [
       "            block_reward     Price+1     Price+2     Price+3     Price+4  \\\n",
       "Date                                                                       \n",
       "2014-09-24          25.0  435.790985  402.152008  398.821014  408.903992   \n",
       "2014-09-25          25.0  423.204987  435.790985  402.152008  398.821014   \n",
       "2014-09-26          25.0  411.574005  423.204987  435.790985  402.152008   \n",
       "2014-09-27          25.0  404.424988  411.574005  423.204987  435.790985   \n",
       "2014-09-28          25.0  399.519989  404.424988  411.574005  423.204987   \n",
       "\n",
       "               Price+5     Price+6     Price+7  \n",
       "Date                                            \n",
       "2014-09-24  394.795990  424.440002  457.334015  \n",
       "2014-09-25  408.903992  394.795990  424.440002  \n",
       "2014-09-26  398.821014  408.903992  394.795990  \n",
       "2014-09-27  402.152008  398.821014  408.903992  \n",
       "2014-09-28  435.790985  402.152008  398.821014  "
      ]
     },
     "execution_count": 58,
     "metadata": {},
     "output_type": "execute_result"
    }
   ],
   "source": [
    "\n",
    "\n",
    "# Let's create X & y, remove the NaN's and convert to float32 to prevent TensorFlow errors \n",
    "X = bitcoin_prices_windowed.dropna().drop(\"Price\", axis=1).astype(np.float32) \n",
    "y = bitcoin_prices_windowed.dropna()[\"Price\"].astype(np.float32)\n",
    "X.head()"
   ]
  },
  {
   "cell_type": "code",
   "execution_count": null,
   "metadata": {},
   "outputs": [
    {
     "data": {
      "text/plain": [
       "Date\n",
       "2014-09-24    423.204987\n",
       "2014-09-25    411.574005\n",
       "2014-09-26    404.424988\n",
       "2014-09-27    399.519989\n",
       "2014-09-28    377.181000\n",
       "Name: Price, dtype: float32"
      ]
     },
     "execution_count": 59,
     "metadata": {},
     "output_type": "execute_result"
    }
   ],
   "source": [
    "# View labels\n",
    "y.head()\n"
   ]
  },
  {
   "cell_type": "code",
   "execution_count": null,
   "metadata": {},
   "outputs": [
    {
     "data": {
      "text/plain": [
       "(2712, 2712, 679, 679)"
      ]
     },
     "execution_count": 60,
     "metadata": {},
     "output_type": "execute_result"
    }
   ],
   "source": [
    "\n",
    "# Make train and test sets\n",
    "split_size = int(len(X) * 0.8)\n",
    "X_train, y_train = X[:split_size], y[:split_size]\n",
    "X_test, y_test = X[split_size:], y[split_size:]\n",
    "len(X_train), len(y_train), len(X_test), len(y_test)"
   ]
  },
  {
   "cell_type": "markdown",
   "metadata": {},
   "source": [
    "## model 6 Multivariate time series (DENSE)"
   ]
  },
  {
   "cell_type": "code",
   "execution_count": null,
   "metadata": {},
   "outputs": [
    {
     "name": "stdout",
     "output_type": "stream",
     "text": [
      "INFO:tensorflow:Assets written to: model_experiments/model_6_dense_multivariate/assets\n"
     ]
    },
    {
     "name": "stderr",
     "output_type": "stream",
     "text": [
      "INFO:tensorflow:Assets written to: model_experiments/model_6_dense_multivariate/assets\n"
     ]
    },
    {
     "name": "stdout",
     "output_type": "stream",
     "text": [
      "INFO:tensorflow:Assets written to: model_experiments/model_6_dense_multivariate/assets\n"
     ]
    },
    {
     "name": "stderr",
     "output_type": "stream",
     "text": [
      "INFO:tensorflow:Assets written to: model_experiments/model_6_dense_multivariate/assets\n"
     ]
    },
    {
     "name": "stdout",
     "output_type": "stream",
     "text": [
      "INFO:tensorflow:Assets written to: model_experiments/model_6_dense_multivariate/assets\n"
     ]
    },
    {
     "name": "stderr",
     "output_type": "stream",
     "text": [
      "INFO:tensorflow:Assets written to: model_experiments/model_6_dense_multivariate/assets\n"
     ]
    },
    {
     "name": "stdout",
     "output_type": "stream",
     "text": [
      "INFO:tensorflow:Assets written to: model_experiments/model_6_dense_multivariate/assets\n"
     ]
    },
    {
     "name": "stderr",
     "output_type": "stream",
     "text": [
      "INFO:tensorflow:Assets written to: model_experiments/model_6_dense_multivariate/assets\n"
     ]
    },
    {
     "name": "stdout",
     "output_type": "stream",
     "text": [
      "INFO:tensorflow:Assets written to: model_experiments/model_6_dense_multivariate/assets\n"
     ]
    },
    {
     "name": "stderr",
     "output_type": "stream",
     "text": [
      "INFO:tensorflow:Assets written to: model_experiments/model_6_dense_multivariate/assets\n"
     ]
    },
    {
     "name": "stdout",
     "output_type": "stream",
     "text": [
      "INFO:tensorflow:Assets written to: model_experiments/model_6_dense_multivariate/assets\n"
     ]
    },
    {
     "name": "stderr",
     "output_type": "stream",
     "text": [
      "INFO:tensorflow:Assets written to: model_experiments/model_6_dense_multivariate/assets\n"
     ]
    },
    {
     "name": "stdout",
     "output_type": "stream",
     "text": [
      "INFO:tensorflow:Assets written to: model_experiments/model_6_dense_multivariate/assets\n"
     ]
    },
    {
     "name": "stderr",
     "output_type": "stream",
     "text": [
      "INFO:tensorflow:Assets written to: model_experiments/model_6_dense_multivariate/assets\n"
     ]
    },
    {
     "name": "stdout",
     "output_type": "stream",
     "text": [
      "INFO:tensorflow:Assets written to: model_experiments/model_6_dense_multivariate/assets\n"
     ]
    },
    {
     "name": "stderr",
     "output_type": "stream",
     "text": [
      "INFO:tensorflow:Assets written to: model_experiments/model_6_dense_multivariate/assets\n"
     ]
    },
    {
     "name": "stdout",
     "output_type": "stream",
     "text": [
      "INFO:tensorflow:Assets written to: model_experiments/model_6_dense_multivariate/assets\n"
     ]
    },
    {
     "name": "stderr",
     "output_type": "stream",
     "text": [
      "INFO:tensorflow:Assets written to: model_experiments/model_6_dense_multivariate/assets\n"
     ]
    },
    {
     "name": "stdout",
     "output_type": "stream",
     "text": [
      "INFO:tensorflow:Assets written to: model_experiments/model_6_dense_multivariate/assets\n"
     ]
    },
    {
     "name": "stderr",
     "output_type": "stream",
     "text": [
      "INFO:tensorflow:Assets written to: model_experiments/model_6_dense_multivariate/assets\n"
     ]
    },
    {
     "name": "stdout",
     "output_type": "stream",
     "text": [
      "INFO:tensorflow:Assets written to: model_experiments/model_6_dense_multivariate/assets\n"
     ]
    },
    {
     "name": "stderr",
     "output_type": "stream",
     "text": [
      "INFO:tensorflow:Assets written to: model_experiments/model_6_dense_multivariate/assets\n"
     ]
    },
    {
     "name": "stdout",
     "output_type": "stream",
     "text": [
      "INFO:tensorflow:Assets written to: model_experiments/model_6_dense_multivariate/assets\n"
     ]
    },
    {
     "name": "stderr",
     "output_type": "stream",
     "text": [
      "INFO:tensorflow:Assets written to: model_experiments/model_6_dense_multivariate/assets\n"
     ]
    },
    {
     "name": "stdout",
     "output_type": "stream",
     "text": [
      "INFO:tensorflow:Assets written to: model_experiments/model_6_dense_multivariate/assets\n"
     ]
    },
    {
     "name": "stderr",
     "output_type": "stream",
     "text": [
      "INFO:tensorflow:Assets written to: model_experiments/model_6_dense_multivariate/assets\n"
     ]
    },
    {
     "name": "stdout",
     "output_type": "stream",
     "text": [
      "INFO:tensorflow:Assets written to: model_experiments/model_6_dense_multivariate/assets\n"
     ]
    },
    {
     "name": "stderr",
     "output_type": "stream",
     "text": [
      "INFO:tensorflow:Assets written to: model_experiments/model_6_dense_multivariate/assets\n"
     ]
    },
    {
     "name": "stdout",
     "output_type": "stream",
     "text": [
      "INFO:tensorflow:Assets written to: model_experiments/model_6_dense_multivariate/assets\n"
     ]
    },
    {
     "name": "stderr",
     "output_type": "stream",
     "text": [
      "INFO:tensorflow:Assets written to: model_experiments/model_6_dense_multivariate/assets\n"
     ]
    },
    {
     "name": "stdout",
     "output_type": "stream",
     "text": [
      "INFO:tensorflow:Assets written to: model_experiments/model_6_dense_multivariate/assets\n"
     ]
    },
    {
     "name": "stderr",
     "output_type": "stream",
     "text": [
      "INFO:tensorflow:Assets written to: model_experiments/model_6_dense_multivariate/assets\n"
     ]
    },
    {
     "name": "stdout",
     "output_type": "stream",
     "text": [
      "INFO:tensorflow:Assets written to: model_experiments/model_6_dense_multivariate/assets\n"
     ]
    },
    {
     "name": "stderr",
     "output_type": "stream",
     "text": [
      "INFO:tensorflow:Assets written to: model_experiments/model_6_dense_multivariate/assets\n"
     ]
    },
    {
     "name": "stdout",
     "output_type": "stream",
     "text": [
      "INFO:tensorflow:Assets written to: model_experiments/model_6_dense_multivariate/assets\n"
     ]
    },
    {
     "name": "stderr",
     "output_type": "stream",
     "text": [
      "INFO:tensorflow:Assets written to: model_experiments/model_6_dense_multivariate/assets\n"
     ]
    },
    {
     "name": "stdout",
     "output_type": "stream",
     "text": [
      "INFO:tensorflow:Assets written to: model_experiments/model_6_dense_multivariate/assets\n"
     ]
    },
    {
     "name": "stderr",
     "output_type": "stream",
     "text": [
      "INFO:tensorflow:Assets written to: model_experiments/model_6_dense_multivariate/assets\n"
     ]
    },
    {
     "name": "stdout",
     "output_type": "stream",
     "text": [
      "INFO:tensorflow:Assets written to: model_experiments/model_6_dense_multivariate/assets\n"
     ]
    },
    {
     "name": "stderr",
     "output_type": "stream",
     "text": [
      "INFO:tensorflow:Assets written to: model_experiments/model_6_dense_multivariate/assets\n"
     ]
    },
    {
     "name": "stdout",
     "output_type": "stream",
     "text": [
      "INFO:tensorflow:Assets written to: model_experiments/model_6_dense_multivariate/assets\n"
     ]
    },
    {
     "name": "stderr",
     "output_type": "stream",
     "text": [
      "INFO:tensorflow:Assets written to: model_experiments/model_6_dense_multivariate/assets\n"
     ]
    },
    {
     "name": "stdout",
     "output_type": "stream",
     "text": [
      "INFO:tensorflow:Assets written to: model_experiments/model_6_dense_multivariate/assets\n"
     ]
    },
    {
     "name": "stderr",
     "output_type": "stream",
     "text": [
      "INFO:tensorflow:Assets written to: model_experiments/model_6_dense_multivariate/assets\n"
     ]
    },
    {
     "name": "stdout",
     "output_type": "stream",
     "text": [
      "INFO:tensorflow:Assets written to: model_experiments/model_6_dense_multivariate/assets\n"
     ]
    },
    {
     "name": "stderr",
     "output_type": "stream",
     "text": [
      "INFO:tensorflow:Assets written to: model_experiments/model_6_dense_multivariate/assets\n"
     ]
    },
    {
     "name": "stdout",
     "output_type": "stream",
     "text": [
      "INFO:tensorflow:Assets written to: model_experiments/model_6_dense_multivariate/assets\n"
     ]
    },
    {
     "name": "stderr",
     "output_type": "stream",
     "text": [
      "INFO:tensorflow:Assets written to: model_experiments/model_6_dense_multivariate/assets\n"
     ]
    },
    {
     "data": {
      "text/plain": [
       "<keras.src.callbacks.History at 0x14d763650>"
      ]
     },
     "execution_count": 61,
     "metadata": {},
     "output_type": "execute_result"
    }
   ],
   "source": [
    "tf.random.set_seed(42)\n",
    "\n",
    "# Make multivariate time series model\n",
    "model_6 = tf.keras.Sequential([\n",
    "  layers.Dense(128, activation=\"relu\"),\n",
    "  # layers.Dense(128, activation=\"relu\"), # adding an extra layer here should lead to beating the naive model\n",
    "  layers.Dense(HORIZON)\n",
    "], name=\"model_6_dense_multivariate\")\n",
    "\n",
    "# Compile\n",
    "model_6.compile(loss=\"mae\",\n",
    "                optimizer=tf.keras.optimizers.Adam())\n",
    "\n",
    "# Fit\n",
    "model_6.fit(X_train, y_train,\n",
    "            epochs=100,\n",
    "            batch_size=128,\n",
    "            verbose=0, # only print 1 line per epoch\n",
    "            validation_data=(X_test, y_test),\n",
    "            callbacks=[create_model_checkpoint(model_name=model_6.name)])\n",
    "  "
   ]
  },
  {
   "cell_type": "code",
   "execution_count": null,
   "metadata": {},
   "outputs": [
    {
     "name": "stdout",
     "output_type": "stream",
     "text": [
      "22/22 [==============================] - 0s 1ms/step - loss: 525.3386\n"
     ]
    },
    {
     "data": {
      "text/plain": [
       "525.3385620117188"
      ]
     },
     "execution_count": 62,
     "metadata": {},
     "output_type": "execute_result"
    }
   ],
   "source": [
    "# Make sure best model is loaded and evaluate\n",
    "model_6 = tf.keras.models.load_model(\"model_experiments/model_6_dense_multivariate\")\n",
    "model_6.evaluate(X_test, y_test)"
   ]
  },
  {
   "cell_type": "code",
   "execution_count": null,
   "metadata": {},
   "outputs": [
    {
     "name": "stdout",
     "output_type": "stream",
     "text": [
      "22/22 [==============================] - 0s 810us/step\n"
     ]
    },
    {
     "data": {
      "text/plain": [
       "<tf.Tensor: shape=(10,), dtype=float32, numpy=\n",
       "array([39022.773, 39115.242, 37994.867, 42431.062, 44306.844, 44208.12 ,\n",
       "       42824.633, 39581.44 , 39456.21 , 38407.5  ], dtype=float32)>"
      ]
     },
     "execution_count": 63,
     "metadata": {},
     "output_type": "execute_result"
    }
   ],
   "source": [
    "\n",
    "# Make predictions on multivariate data\n",
    "model_6_preds = tf.squeeze(model_6.predict(X_test))\n",
    "model_6_preds[:10]\n"
   ]
  },
  {
   "cell_type": "code",
   "execution_count": null,
   "metadata": {},
   "outputs": [
    {
     "data": {
      "text/plain": [
       "{'mae': 525.3386, 'mse': 666197.94, 'rmse': 816.2095, 'mape': 1.891881}"
      ]
     },
     "execution_count": 64,
     "metadata": {},
     "output_type": "execute_result"
    }
   ],
   "source": [
    "# Evaluate preds\n",
    "model_6_results = evaluate_preds(y_true=y_test,\n",
    "                                 y_pred=model_6_preds)\n",
    "model_6_results"
   ]
  },
  {
   "cell_type": "markdown",
   "metadata": {},
   "source": [
    "## Model 9: Train a model on the full historical data to make predictions into future"
   ]
  },
  {
   "cell_type": "code",
   "execution_count": null,
   "metadata": {},
   "outputs": [
    {
     "data": {
      "text/html": [
       "<div>\n",
       "<style scoped>\n",
       "    .dataframe tbody tr th:only-of-type {\n",
       "        vertical-align: middle;\n",
       "    }\n",
       "\n",
       "    .dataframe tbody tr th {\n",
       "        vertical-align: top;\n",
       "    }\n",
       "\n",
       "    .dataframe thead th {\n",
       "        text-align: right;\n",
       "    }\n",
       "</style>\n",
       "<table border=\"1\" class=\"dataframe\">\n",
       "  <thead>\n",
       "    <tr style=\"text-align: right;\">\n",
       "      <th></th>\n",
       "      <th>Price</th>\n",
       "      <th>block_reward</th>\n",
       "      <th>Price+1</th>\n",
       "      <th>Price+2</th>\n",
       "      <th>Price+3</th>\n",
       "      <th>Price+4</th>\n",
       "      <th>Price+5</th>\n",
       "      <th>Price+6</th>\n",
       "      <th>Price+7</th>\n",
       "    </tr>\n",
       "    <tr>\n",
       "      <th>Date</th>\n",
       "      <th></th>\n",
       "      <th></th>\n",
       "      <th></th>\n",
       "      <th></th>\n",
       "      <th></th>\n",
       "      <th></th>\n",
       "      <th></th>\n",
       "      <th></th>\n",
       "      <th></th>\n",
       "    </tr>\n",
       "  </thead>\n",
       "  <tbody>\n",
       "    <tr>\n",
       "      <th>2014-09-17</th>\n",
       "      <td>457.334015</td>\n",
       "      <td>25</td>\n",
       "      <td>NaN</td>\n",
       "      <td>NaN</td>\n",
       "      <td>NaN</td>\n",
       "      <td>NaN</td>\n",
       "      <td>NaN</td>\n",
       "      <td>NaN</td>\n",
       "      <td>NaN</td>\n",
       "    </tr>\n",
       "    <tr>\n",
       "      <th>2014-09-18</th>\n",
       "      <td>424.440002</td>\n",
       "      <td>25</td>\n",
       "      <td>457.334015</td>\n",
       "      <td>NaN</td>\n",
       "      <td>NaN</td>\n",
       "      <td>NaN</td>\n",
       "      <td>NaN</td>\n",
       "      <td>NaN</td>\n",
       "      <td>NaN</td>\n",
       "    </tr>\n",
       "    <tr>\n",
       "      <th>2014-09-19</th>\n",
       "      <td>394.795990</td>\n",
       "      <td>25</td>\n",
       "      <td>424.440002</td>\n",
       "      <td>457.334015</td>\n",
       "      <td>NaN</td>\n",
       "      <td>NaN</td>\n",
       "      <td>NaN</td>\n",
       "      <td>NaN</td>\n",
       "      <td>NaN</td>\n",
       "    </tr>\n",
       "    <tr>\n",
       "      <th>2014-09-20</th>\n",
       "      <td>408.903992</td>\n",
       "      <td>25</td>\n",
       "      <td>394.795990</td>\n",
       "      <td>424.440002</td>\n",
       "      <td>457.334015</td>\n",
       "      <td>NaN</td>\n",
       "      <td>NaN</td>\n",
       "      <td>NaN</td>\n",
       "      <td>NaN</td>\n",
       "    </tr>\n",
       "    <tr>\n",
       "      <th>2014-09-21</th>\n",
       "      <td>398.821014</td>\n",
       "      <td>25</td>\n",
       "      <td>408.903992</td>\n",
       "      <td>394.795990</td>\n",
       "      <td>424.440002</td>\n",
       "      <td>457.334015</td>\n",
       "      <td>NaN</td>\n",
       "      <td>NaN</td>\n",
       "      <td>NaN</td>\n",
       "    </tr>\n",
       "  </tbody>\n",
       "</table>\n",
       "</div>"
      ],
      "text/plain": [
       "                 Price block_reward     Price+1     Price+2     Price+3  \\\n",
       "Date                                                                      \n",
       "2014-09-17  457.334015           25         NaN         NaN         NaN   \n",
       "2014-09-18  424.440002           25  457.334015         NaN         NaN   \n",
       "2014-09-19  394.795990           25  424.440002  457.334015         NaN   \n",
       "2014-09-20  408.903992           25  394.795990  424.440002  457.334015   \n",
       "2014-09-21  398.821014           25  408.903992  394.795990  424.440002   \n",
       "\n",
       "               Price+4  Price+5  Price+6  Price+7  \n",
       "Date                                               \n",
       "2014-09-17         NaN      NaN      NaN      NaN  \n",
       "2014-09-18         NaN      NaN      NaN      NaN  \n",
       "2014-09-19         NaN      NaN      NaN      NaN  \n",
       "2014-09-20         NaN      NaN      NaN      NaN  \n",
       "2014-09-21  457.334015      NaN      NaN      NaN  "
      ]
     },
     "execution_count": 65,
     "metadata": {},
     "output_type": "execute_result"
    }
   ],
   "source": [
    "bitcoin_prices_windowed.head()\n"
   ]
  },
  {
   "cell_type": "code",
   "execution_count": null,
   "metadata": {},
   "outputs": [],
   "source": [
    "# Train model on entire data to make prediction for the next day \n",
    "X_all = bitcoin_prices_windowed.drop([\"Price\", \"block_reward\"], axis=1).dropna().to_numpy() # only want prices, our future model can be a univariate model\n",
    "y_all = bitcoin_prices_windowed.dropna()[\"Price\"].to_numpy()"
   ]
  },
  {
   "cell_type": "code",
   "execution_count": null,
   "metadata": {},
   "outputs": [
    {
     "data": {
      "text/plain": [
       "<_PrefetchDataset element_spec=(TensorSpec(shape=(None, 7), dtype=tf.float64, name=None), TensorSpec(shape=(None,), dtype=tf.float64, name=None))>"
      ]
     },
     "execution_count": 67,
     "metadata": {},
     "output_type": "execute_result"
    }
   ],
   "source": [
    "\n",
    "# 1. Turn X and y into tensor Datasets\n",
    "features_dataset_all = tf.data.Dataset.from_tensor_slices(X_all)\n",
    "labels_dataset_all = tf.data.Dataset.from_tensor_slices(y_all)\n",
    "\n",
    "# 2. Combine features & labels\n",
    "dataset_all = tf.data.Dataset.zip((features_dataset_all, labels_dataset_all))\n",
    "\n",
    "# 3. Batch and prefetch for optimal performance\n",
    "BATCH_SIZE = 1024 # taken from Appendix D in N-BEATS paper\n",
    "dataset_all = dataset_all.batch(BATCH_SIZE).prefetch(tf.data.AUTOTUNE)\n",
    "\n",
    "dataset_all"
   ]
  },
  {
   "cell_type": "code",
   "execution_count": null,
   "metadata": {},
   "outputs": [
    {
     "data": {
      "text/plain": [
       "<keras.src.callbacks.History at 0x14bb18750>"
      ]
     },
     "execution_count": 68,
     "metadata": {},
     "output_type": "execute_result"
    }
   ],
   "source": [
    "tf.random.set_seed(42)\n",
    "\n",
    "# Create model (nice and simple, just to test)\n",
    "model_9 = tf.keras.Sequential([\n",
    "  layers.Dense(128, activation=\"relu\"),\n",
    "  layers.Dense(128, activation=\"relu\"),\n",
    "  layers.Dense(HORIZON)\n",
    "])\n",
    "\n",
    "# Compile\n",
    "model_9.compile(loss=tf.keras.losses.mae,\n",
    "                optimizer=tf.keras.optimizers.Adam())\n",
    "\n",
    "# Fit model on all of the data to make future forecasts\n",
    "model_9.fit(dataset_all,\n",
    "            epochs=100,\n",
    "            verbose=0) # don't print out anything, we've seen this all before\n",
    "     "
   ]
  },
  {
   "cell_type": "code",
   "execution_count": null,
   "metadata": {},
   "outputs": [],
   "source": [
    "# How many timesteps to predict into the future?\n",
    "INTO_FUTURE = 14 # since our Bitcoin data is daily, this is for 14 days\n"
   ]
  },
  {
   "cell_type": "code",
   "execution_count": null,
   "metadata": {},
   "outputs": [],
   "source": [
    "# 1. Create function to make predictions into the future\n",
    "def make_future_forecast(values, model, into_future, window_size=WINDOW_SIZE) -> list:\n",
    "  \"\"\"\n",
    "  Makes future forecasts into_future steps after values ends.\n",
    "\n",
    "  Returns future forecasts as list of floats.\n",
    "  \"\"\"\n",
    "  # 2. Make an empty list for future forecasts/prepare data to forecast on\n",
    "  future_forecast = []\n",
    "  last_window = values[-WINDOW_SIZE:] # only want preds from the last window (this will get updated)\n",
    "\n",
    "  # 3. Make INTO_FUTURE number of predictions, altering the data which gets predicted on each time \n",
    "  for _ in range(into_future):\n",
    "    \n",
    "    # Predict on last window then append it again, again, again (model starts to make forecasts on its own forecasts)\n",
    "    future_pred = model.predict(tf.expand_dims(last_window, axis=0))\n",
    "    print(f\"Predicting on: \\n {last_window} -> Prediction: {tf.squeeze(future_pred).numpy()}\\n\")\n",
    "    \n",
    "    # Append predictions to future_forecast\n",
    "    future_forecast.append(tf.squeeze(future_pred).numpy())\n",
    "    # print(future_forecast)\n",
    "\n",
    "    # Update last window with new pred and get WINDOW_SIZE most recent preds (model was trained on WINDOW_SIZE windows)\n",
    "    last_window = np.append(last_window, future_pred)[-WINDOW_SIZE:]\n",
    "  \n",
    "  return future_forecast"
   ]
  },
  {
   "cell_type": "code",
   "execution_count": null,
   "metadata": {},
   "outputs": [
    {
     "name": "stdout",
     "output_type": "stream",
     "text": [
      "1/1 [==============================] - 0s 50ms/step\n",
      "Predicting on: \n",
      " [42156.90234375 42265.1875     44167.33203125 44957.96875\n",
      " 42848.17578125 44179.921875   43528.07421875] -> Prediction: 42227.34375\n",
      "\n",
      "1/1 [==============================] - 0s 17ms/step\n",
      "Predicting on: \n",
      " [42265.1875     44167.33203125 44957.96875    42848.17578125\n",
      " 44179.921875   43528.07421875 42227.34375   ] -> Prediction: 43079.0625\n",
      "\n",
      "1/1 [==============================] - 0s 17ms/step\n",
      "Predicting on: \n",
      " [44167.33203125 44957.96875    42848.17578125 44179.921875\n",
      " 43528.07421875 42227.34375    43079.0625    ] -> Prediction: 44452.47265625\n",
      "\n",
      "1/1 [==============================] - 0s 16ms/step\n",
      "Predicting on: \n",
      " [44957.96875    42848.17578125 44179.921875   43528.07421875\n",
      " 42227.34375    43079.0625     44452.47265625] -> Prediction: 43769.578125\n",
      "\n",
      "1/1 [==============================] - 0s 15ms/step\n",
      "Predicting on: \n",
      " [42848.17578125 44179.921875   43528.07421875 42227.34375\n",
      " 43079.0625     44452.47265625 43769.578125  ] -> Prediction: 43231.84375\n",
      "\n",
      "1/1 [==============================] - 0s 15ms/step\n",
      "Predicting on: \n",
      " [44179.921875   43528.07421875 42227.34375    43079.0625\n",
      " 44452.47265625 43769.578125   43231.84375   ] -> Prediction: 43513.0078125\n",
      "\n",
      "1/1 [==============================] - 0s 15ms/step\n",
      "Predicting on: \n",
      " [43528.07421875 42227.34375    43079.0625     44452.47265625\n",
      " 43769.578125   43231.84375    43513.0078125 ] -> Prediction: 42811.55859375\n",
      "\n",
      "1/1 [==============================] - 0s 15ms/step\n",
      "Predicting on: \n",
      " [42227.34375    43079.0625     44452.47265625 43769.578125\n",
      " 43231.84375    43513.0078125  42811.55859375] -> Prediction: 42621.87109375\n",
      "\n",
      "1/1 [==============================] - 0s 15ms/step\n",
      "Predicting on: \n",
      " [43079.0625     44452.47265625 43769.578125   43231.84375\n",
      " 43513.0078125  42811.55859375 42621.87109375] -> Prediction: 43640.203125\n",
      "\n",
      "1/1 [==============================] - 0s 16ms/step\n",
      "Predicting on: \n",
      " [44452.47265625 43769.578125   43231.84375    43513.0078125\n",
      " 42811.55859375 42621.87109375 43640.203125  ] -> Prediction: 43955.46484375\n",
      "\n",
      "1/1 [==============================] - 0s 17ms/step\n",
      "Predicting on: \n",
      " [43769.578125   43231.84375    43513.0078125  42811.55859375\n",
      " 42621.87109375 43640.203125   43955.46484375] -> Prediction: 43296.01171875\n",
      "\n",
      "1/1 [==============================] - 0s 15ms/step\n",
      "Predicting on: \n",
      " [43231.84375    43513.0078125  42811.55859375 42621.87109375\n",
      " 43640.203125   43955.46484375 43296.01171875] -> Prediction: 43093.11328125\n",
      "\n",
      "1/1 [==============================] - 0s 16ms/step\n",
      "Predicting on: \n",
      " [43513.0078125  42811.55859375 42621.87109375 43640.203125\n",
      " 43955.46484375 43296.01171875 43093.11328125] -> Prediction: 42980.05859375\n",
      "\n",
      "1/1 [==============================] - 0s 15ms/step\n",
      "Predicting on: \n",
      " [42811.55859375 42621.87109375 43640.203125   43955.46484375\n",
      " 43296.01171875 43093.11328125 42980.05859375] -> Prediction: 42677.28515625\n",
      "\n"
     ]
    }
   ],
   "source": [
    "\n",
    "# Make forecasts into future of the price of Bitcoin\n",
    "# Note: if you're reading this at a later date, you may already be in the future, so the forecasts \n",
    "# we're making may not actually be forecasts, if that's the case, readjust the training data.\n",
    "future_forecast = make_future_forecast(values=y_all,\n",
    "                                       model=model_9,\n",
    "                                       into_future=INTO_FUTURE,\n",
    "                                       window_size=WINDOW_SIZE)"
   ]
  },
  {
   "cell_type": "code",
   "execution_count": null,
   "metadata": {},
   "outputs": [
    {
     "data": {
      "text/plain": [
       "[42227.344,\n",
       " 43079.062,\n",
       " 44452.473,\n",
       " 43769.58,\n",
       " 43231.844,\n",
       " 43513.008,\n",
       " 42811.56,\n",
       " 42621.87,\n",
       " 43640.203,\n",
       " 43955.465]"
      ]
     },
     "execution_count": 72,
     "metadata": {},
     "output_type": "execute_result"
    }
   ],
   "source": [
    "future_forecast[:10]\n"
   ]
  },
  {
   "cell_type": "code",
   "execution_count": null,
   "metadata": {},
   "outputs": [],
   "source": [
    "def get_future_dates(start_date, into_future, offset=1):\n",
    "  \"\"\"\n",
    "  Returns array of datetime values from ranging from start_date to start_date+horizon.\n",
    "\n",
    "  start_date: date to start range (np.datetime64)\n",
    "  into_future: number of days to add onto start date for range (int)\n",
    "  offset: number of days to offset start_date by (default 1)\n",
    "  \"\"\"\n",
    "  start_date = start_date + np.timedelta64(offset, \"D\") # specify start date, \"D\" stands for day\n",
    "  end_date = start_date + np.timedelta64(into_future, \"D\") # specify end date\n",
    "  return np.arange(start_date, end_date, dtype=\"datetime64[D]\") # return a date range between start date and end date\n",
    "     \n"
   ]
  },
  {
   "cell_type": "code",
   "execution_count": null,
   "metadata": {},
   "outputs": [
    {
     "data": {
      "text/plain": [
       "Timestamp('2024-01-05 00:00:00')"
      ]
     },
     "execution_count": 74,
     "metadata": {},
     "output_type": "execute_result"
    }
   ],
   "source": [
    "\n",
    "# Last timestep of timesteps (currently in np.datetime64 format)\n",
    "last_timestep = bitcoin_prices.index[-1]\n",
    "last_timestep\n"
   ]
  },
  {
   "cell_type": "code",
   "execution_count": null,
   "metadata": {},
   "outputs": [
    {
     "data": {
      "text/plain": [
       "array(['2024-01-06', '2024-01-07', '2024-01-08', '2024-01-09',\n",
       "       '2024-01-10', '2024-01-11', '2024-01-12', '2024-01-13',\n",
       "       '2024-01-14', '2024-01-15', '2024-01-16', '2024-01-17',\n",
       "       '2024-01-18', '2024-01-19'], dtype='datetime64[D]')"
      ]
     },
     "execution_count": 75,
     "metadata": {},
     "output_type": "execute_result"
    }
   ],
   "source": [
    "\n",
    "# Get next two weeks of timesteps\n",
    "next_time_steps = get_future_dates(start_date=last_timestep, \n",
    "                                   into_future=INTO_FUTURE)\n",
    "next_time_steps"
   ]
  },
  {
   "cell_type": "code",
   "execution_count": null,
   "metadata": {},
   "outputs": [
    {
     "data": {
      "text/plain": [
       "(array(['2024-01-05', '2024-01-06', '2024-01-07', '2024-01-08',\n",
       "        '2024-01-09', '2024-01-10', '2024-01-11', '2024-01-12',\n",
       "        '2024-01-13', '2024-01-14', '2024-01-15', '2024-01-16',\n",
       "        '2024-01-17', '2024-01-18', '2024-01-19'], dtype='datetime64[D]'),\n",
       " array([43528.074, 42227.344, 43079.062, 44452.473, 43769.58 , 43231.844,\n",
       "        43513.008, 42811.56 , 42621.87 , 43640.203, 43955.465, 43296.01 ,\n",
       "        43093.113, 42980.06 , 42677.285], dtype=float32))"
      ]
     },
     "execution_count": 76,
     "metadata": {},
     "output_type": "execute_result"
    }
   ],
   "source": [
    "\n",
    "# Insert last timestep/final price so the graph doesn't look messed\n",
    "next_time_steps = np.insert(next_time_steps, 0, last_timestep)\n",
    "future_forecast = np.insert(future_forecast, 0, btc_price[-1])\n",
    "next_time_steps, future_forecast"
   ]
  },
  {
   "cell_type": "code",
   "execution_count": null,
   "metadata": {},
   "outputs": [
    {
     "data": {
      "image/png": "[encoded data removed]",
      "text/plain": [
       "<Figure size 1000x700 with 1 Axes>"
      ]
     },
     "metadata": {},
     "output_type": "display_data"
    }
   ],
   "source": [
    "# Plot future price predictions of Bitcoin\n",
    "plt.figure(figsize=(10, 7))\n",
    "plot_time_series(bitcoin_prices.index, btc_price, start=2500, format=\"-\", label=\"Actual BTC Price\")\n",
    "plot_time_series(next_time_steps, future_forecast, format=\"-\", label=\"Predicted BTC Price\")\n"
   ]
  },
  {
   "cell_type": "code",
   "execution_count": null,
   "metadata": {},
   "outputs": [
    {
     "data": {
      "text/html": [
       "<div>\n",
       "<style scoped>\n",
       "    .dataframe tbody tr th:only-of-type {\n",
       "        vertical-align: middle;\n",
       "    }\n",
       "\n",
       "    .dataframe tbody tr th {\n",
       "        vertical-align: top;\n",
       "    }\n",
       "\n",
       "    .dataframe thead th {\n",
       "        text-align: right;\n",
       "    }\n",
       "</style>\n",
       "<table border=\"1\" class=\"dataframe\">\n",
       "  <thead>\n",
       "    <tr style=\"text-align: right;\">\n",
       "      <th></th>\n",
       "      <th>Price</th>\n",
       "    </tr>\n",
       "    <tr>\n",
       "      <th>Date</th>\n",
       "      <th></th>\n",
       "    </tr>\n",
       "  </thead>\n",
       "  <tbody>\n",
       "    <tr>\n",
       "      <th>2024-01-05</th>\n",
       "      <td>43528.074219</td>\n",
       "    </tr>\n",
       "    <tr>\n",
       "      <th>2024-01-06</th>\n",
       "      <td>42227.343750</td>\n",
       "    </tr>\n",
       "    <tr>\n",
       "      <th>2024-01-07</th>\n",
       "      <td>43079.062500</td>\n",
       "    </tr>\n",
       "    <tr>\n",
       "      <th>2024-01-08</th>\n",
       "      <td>44452.472656</td>\n",
       "    </tr>\n",
       "    <tr>\n",
       "      <th>2024-01-09</th>\n",
       "      <td>43769.578125</td>\n",
       "    </tr>\n",
       "    <tr>\n",
       "      <th>2024-01-10</th>\n",
       "      <td>43231.843750</td>\n",
       "    </tr>\n",
       "    <tr>\n",
       "      <th>2024-01-11</th>\n",
       "      <td>43513.007812</td>\n",
       "    </tr>\n",
       "    <tr>\n",
       "      <th>2024-01-12</th>\n",
       "      <td>42811.558594</td>\n",
       "    </tr>\n",
       "    <tr>\n",
       "      <th>2024-01-13</th>\n",
       "      <td>42621.871094</td>\n",
       "    </tr>\n",
       "    <tr>\n",
       "      <th>2024-01-14</th>\n",
       "      <td>43640.203125</td>\n",
       "    </tr>\n",
       "    <tr>\n",
       "      <th>2024-01-15</th>\n",
       "      <td>43955.464844</td>\n",
       "    </tr>\n",
       "    <tr>\n",
       "      <th>2024-01-16</th>\n",
       "      <td>43296.011719</td>\n",
       "    </tr>\n",
       "    <tr>\n",
       "      <th>2024-01-17</th>\n",
       "      <td>43093.113281</td>\n",
       "    </tr>\n",
       "    <tr>\n",
       "      <th>2024-01-18</th>\n",
       "      <td>42980.058594</td>\n",
       "    </tr>\n",
       "    <tr>\n",
       "      <th>2024-01-19</th>\n",
       "      <td>42677.285156</td>\n",
       "    </tr>\n",
       "  </tbody>\n",
       "</table>\n",
       "</div>"
      ],
      "text/plain": [
       "                   Price\n",
       "Date                    \n",
       "2024-01-05  43528.074219\n",
       "2024-01-06  42227.343750\n",
       "2024-01-07  43079.062500\n",
       "2024-01-08  44452.472656\n",
       "2024-01-09  43769.578125\n",
       "2024-01-10  43231.843750\n",
       "2024-01-11  43513.007812\n",
       "2024-01-12  42811.558594\n",
       "2024-01-13  42621.871094\n",
       "2024-01-14  43640.203125\n",
       "2024-01-15  43955.464844\n",
       "2024-01-16  43296.011719\n",
       "2024-01-17  43093.113281\n",
       "2024-01-18  42980.058594\n",
       "2024-01-19  42677.285156"
      ]
     },
     "execution_count": 78,
     "metadata": {},
     "output_type": "execute_result"
    }
   ],
   "source": [
    "#future forecastın tarihlerini ve fiyatları bana yaz\n",
    "future_forecast = pd.DataFrame(future_forecast, columns=[\"Price\"])\n",
    "future_forecast[\"Date\"] = next_time_steps\n",
    "future_forecast.set_index(\"Date\", inplace=True)\n",
    "future_forecast\n"
   ]
  },
  {
   "cell_type": "code",
   "execution_count": null,
   "metadata": {},
   "outputs": [],
   "source": []
  }
 ],
 "metadata": {
  "kernelspec": {
   "display_name": "all",
   "language": "python",
   "name": "python3"
  },
  "language_info": {
   "codemirror_mode": {
    "name": "ipython",
    "version": 3
   },
   "file_extension": ".py",
   "mimetype": "text/x-python",
   "name": "python",
   "nbconvert_exporter": "python",
   "pygments_lexer": "ipython3",
   "version": "3.11.5"
  }
 },
 "nbformat": 4,
 "nbformat_minor": 2
}
