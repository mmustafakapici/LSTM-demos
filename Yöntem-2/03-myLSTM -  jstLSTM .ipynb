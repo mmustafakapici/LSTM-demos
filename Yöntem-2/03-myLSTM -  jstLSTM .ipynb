{
 "cells": [
  {
   "cell_type": "code",
   "execution_count": 1,
   "metadata": {},
   "outputs": [],
   "source": [
    "import pandas as pd\n",
    "import numpy as np\n",
    "import matplotlib.pyplot as plt"
   ]
  },
  {
   "cell_type": "code",
   "execution_count": 2,
   "metadata": {},
   "outputs": [],
   "source": [
    "import tensorflow as tf\n",
    "from tensorflow.keras import layers\n"
   ]
  },
  {
   "cell_type": "code",
   "execution_count": 3,
   "metadata": {},
   "outputs": [],
   "source": [
    "import yfinance as yf # yfinance is used to download the data from yahoo finance"
   ]
  },
  {
   "cell_type": "code",
   "execution_count": 4,
   "metadata": {},
   "outputs": [
    {
     "name": "stdout",
     "output_type": "stream",
     "text": [
      "[*********************100%%**********************]  1 of 1 completed\n"
     ]
    },
    {
     "data": {
      "text/html": [
       "<div>\n",
       "<style scoped>\n",
       "    .dataframe tbody tr th:only-of-type {\n",
       "        vertical-align: middle;\n",
       "    }\n",
       "\n",
       "    .dataframe tbody tr th {\n",
       "        vertical-align: top;\n",
       "    }\n",
       "\n",
       "    .dataframe thead th {\n",
       "        text-align: right;\n",
       "    }\n",
       "</style>\n",
       "<table border=\"1\" class=\"dataframe\">\n",
       "  <thead>\n",
       "    <tr style=\"text-align: right;\">\n",
       "      <th></th>\n",
       "      <th>Open</th>\n",
       "      <th>High</th>\n",
       "      <th>Low</th>\n",
       "      <th>Close</th>\n",
       "      <th>Adj Close</th>\n",
       "      <th>Volume</th>\n",
       "    </tr>\n",
       "    <tr>\n",
       "      <th>Date</th>\n",
       "      <th></th>\n",
       "      <th></th>\n",
       "      <th></th>\n",
       "      <th></th>\n",
       "      <th></th>\n",
       "      <th></th>\n",
       "    </tr>\n",
       "  </thead>\n",
       "  <tbody>\n",
       "    <tr>\n",
       "      <th>2014-09-17</th>\n",
       "      <td>465.864014</td>\n",
       "      <td>468.174011</td>\n",
       "      <td>452.421997</td>\n",
       "      <td>457.334015</td>\n",
       "      <td>457.334015</td>\n",
       "      <td>21056800</td>\n",
       "    </tr>\n",
       "    <tr>\n",
       "      <th>2014-09-18</th>\n",
       "      <td>456.859985</td>\n",
       "      <td>456.859985</td>\n",
       "      <td>413.104004</td>\n",
       "      <td>424.440002</td>\n",
       "      <td>424.440002</td>\n",
       "      <td>34483200</td>\n",
       "    </tr>\n",
       "    <tr>\n",
       "      <th>2014-09-19</th>\n",
       "      <td>424.102997</td>\n",
       "      <td>427.834991</td>\n",
       "      <td>384.532013</td>\n",
       "      <td>394.795990</td>\n",
       "      <td>394.795990</td>\n",
       "      <td>37919700</td>\n",
       "    </tr>\n",
       "    <tr>\n",
       "      <th>2014-09-20</th>\n",
       "      <td>394.673004</td>\n",
       "      <td>423.295990</td>\n",
       "      <td>389.882996</td>\n",
       "      <td>408.903992</td>\n",
       "      <td>408.903992</td>\n",
       "      <td>36863600</td>\n",
       "    </tr>\n",
       "    <tr>\n",
       "      <th>2014-09-21</th>\n",
       "      <td>408.084991</td>\n",
       "      <td>412.425995</td>\n",
       "      <td>393.181000</td>\n",
       "      <td>398.821014</td>\n",
       "      <td>398.821014</td>\n",
       "      <td>26580100</td>\n",
       "    </tr>\n",
       "  </tbody>\n",
       "</table>\n",
       "</div>"
      ],
      "text/plain": [
       "                  Open        High         Low       Close   Adj Close  \\\n",
       "Date                                                                     \n",
       "2014-09-17  465.864014  468.174011  452.421997  457.334015  457.334015   \n",
       "2014-09-18  456.859985  456.859985  413.104004  424.440002  424.440002   \n",
       "2014-09-19  424.102997  427.834991  384.532013  394.795990  394.795990   \n",
       "2014-09-20  394.673004  423.295990  389.882996  408.903992  408.903992   \n",
       "2014-09-21  408.084991  412.425995  393.181000  398.821014  398.821014   \n",
       "\n",
       "              Volume  \n",
       "Date                  \n",
       "2014-09-17  21056800  \n",
       "2014-09-18  34483200  \n",
       "2014-09-19  37919700  \n",
       "2014-09-20  36863600  \n",
       "2014-09-21  26580100  "
      ]
     },
     "execution_count": 4,
     "metadata": {},
     "output_type": "execute_result"
    }
   ],
   "source": [
    "btc_data  = yf.download('BTC-USD' , period='3600d')\n",
    "df = btc_data[['Open', 'High', 'Low', 'Close' , 'Adj Close', 'Volume']]  # İlgili sütunların seçilmesi\n",
    "\n",
    "df.head()"
   ]
  },
  {
   "cell_type": "code",
   "execution_count": 5,
   "metadata": {},
   "outputs": [
    {
     "name": "stdout",
     "output_type": "stream",
     "text": [
      "<class 'pandas.core.frame.DataFrame'>\n",
      "DatetimeIndex: 3422 entries, 2014-09-17 to 2024-01-30\n",
      "Data columns (total 6 columns):\n",
      " #   Column     Non-Null Count  Dtype  \n",
      "---  ------     --------------  -----  \n",
      " 0   Open       3422 non-null   float64\n",
      " 1   High       3422 non-null   float64\n",
      " 2   Low        3422 non-null   float64\n",
      " 3   Close      3422 non-null   float64\n",
      " 4   Adj Close  3422 non-null   float64\n",
      " 5   Volume     3422 non-null   int64  \n",
      "dtypes: float64(5), int64(1)\n",
      "memory usage: 187.1 KB\n"
     ]
    }
   ],
   "source": [
    "df.info()  # Veri setinin bilgileri"
   ]
  },
  {
   "cell_type": "code",
   "execution_count": 6,
   "metadata": {},
   "outputs": [
    {
     "data": {
      "text/plain": [
       "3422"
      ]
     },
     "execution_count": 6,
     "metadata": {},
     "output_type": "execute_result"
    }
   ],
   "source": [
    "len(df)  # Veri setinin uzunluğu"
   ]
  },
  {
   "cell_type": "code",
   "execution_count": 7,
   "metadata": {},
   "outputs": [
    {
     "data": {
      "text/html": [
       "<div>\n",
       "<style scoped>\n",
       "    .dataframe tbody tr th:only-of-type {\n",
       "        vertical-align: middle;\n",
       "    }\n",
       "\n",
       "    .dataframe tbody tr th {\n",
       "        vertical-align: top;\n",
       "    }\n",
       "\n",
       "    .dataframe thead th {\n",
       "        text-align: right;\n",
       "    }\n",
       "</style>\n",
       "<table border=\"1\" class=\"dataframe\">\n",
       "  <thead>\n",
       "    <tr style=\"text-align: right;\">\n",
       "      <th></th>\n",
       "      <th>Price</th>\n",
       "    </tr>\n",
       "    <tr>\n",
       "      <th>Date</th>\n",
       "      <th></th>\n",
       "    </tr>\n",
       "  </thead>\n",
       "  <tbody>\n",
       "    <tr>\n",
       "      <th>2014-09-17</th>\n",
       "      <td>457.334015</td>\n",
       "    </tr>\n",
       "    <tr>\n",
       "      <th>2014-09-18</th>\n",
       "      <td>424.440002</td>\n",
       "    </tr>\n",
       "    <tr>\n",
       "      <th>2014-09-19</th>\n",
       "      <td>394.795990</td>\n",
       "    </tr>\n",
       "    <tr>\n",
       "      <th>2014-09-20</th>\n",
       "      <td>408.903992</td>\n",
       "    </tr>\n",
       "    <tr>\n",
       "      <th>2014-09-21</th>\n",
       "      <td>398.821014</td>\n",
       "    </tr>\n",
       "  </tbody>\n",
       "</table>\n",
       "</div>"
      ],
      "text/plain": [
       "                 Price\n",
       "Date                  \n",
       "2014-09-17  457.334015\n",
       "2014-09-18  424.440002\n",
       "2014-09-19  394.795990\n",
       "2014-09-20  408.903992\n",
       "2014-09-21  398.821014"
      ]
     },
     "execution_count": 7,
     "metadata": {},
     "output_type": "execute_result"
    }
   ],
   "source": [
    "# Only want closing price for each day \n",
    "bitcoin_prices = pd.DataFrame(df[\"Close\"]).rename(columns={\"Close\": \"Price\"}) # Sadece kapanış fiyatlarını alıyoruz ve sütun ismini değiştiriyoruz\n",
    "bitcoin_prices.head()"
   ]
  },
  {
   "cell_type": "code",
   "execution_count": 8,
   "metadata": {},
   "outputs": [
    {
     "data": {
      "image/png": "[encoded data removed]",
      "text/plain": [
       "<Figure size 1000x700 with 1 Axes>"
      ]
     },
     "metadata": {},
     "output_type": "display_data"
    }
   ],
   "source": [
    "bitcoin_prices.plot(figsize=(10, 7))\n",
    "plt.ylabel(\"BTC Price\")\n",
    "plt.title(\"Price of Bitcoin from 1 Oct 2013 to 18 May 2021\", fontsize=16)\n",
    "plt.legend(fontsize=14);"
   ]
  },
  {
   "cell_type": "code",
   "execution_count": 9,
   "metadata": {},
   "outputs": [
    {
     "data": {
      "text/plain": [
       "([Timestamp('2014-09-17 00:00:00'),\n",
       "  Timestamp('2014-09-18 00:00:00'),\n",
       "  Timestamp('2014-09-19 00:00:00'),\n",
       "  Timestamp('2014-09-20 00:00:00'),\n",
       "  Timestamp('2014-09-21 00:00:00'),\n",
       "  Timestamp('2014-09-22 00:00:00'),\n",
       "  Timestamp('2014-09-23 00:00:00'),\n",
       "  Timestamp('2014-09-24 00:00:00'),\n",
       "  Timestamp('2014-09-25 00:00:00'),\n",
       "  Timestamp('2014-09-26 00:00:00')],\n",
       " [457.3340148925781,\n",
       "  424.44000244140625,\n",
       "  394.7959899902344,\n",
       "  408.90399169921875,\n",
       "  398.8210144042969,\n",
       "  402.1520080566406,\n",
       "  435.7909851074219,\n",
       "  423.2049865722656,\n",
       "  411.5740051269531,\n",
       "  404.42498779296875])"
      ]
     },
     "execution_count": 9,
     "metadata": {},
     "output_type": "execute_result"
    }
   ],
   "source": [
    "# Formatting historical Bitcoin data with Python\n",
    "from datetime import datetime\n",
    "\n",
    "timesteps = []\n",
    "btc_price = []\n",
    "\n",
    "\n",
    "# ilk 10 satırın gösterilmesi\n",
    "for row in df.itertuples():\n",
    "  timesteps.append(row.Index)\n",
    "  btc_price.append(row.Close)\n",
    "\n",
    "\n",
    "\n",
    "\n",
    "\n",
    "timesteps[:10], btc_price[:10]"
   ]
  },
  {
   "cell_type": "code",
   "execution_count": 10,
   "metadata": {},
   "outputs": [
    {
     "data": {
      "image/png": "[encoded data removed]",
      "text/plain": [
       "<Figure size 1000x700 with 1 Axes>"
      ]
     },
     "metadata": {},
     "output_type": "display_data"
    }
   ],
   "source": [
    "plt.figure(figsize=(10, 7))\n",
    "plt.plot(timesteps, btc_price)\n",
    "plt.title(\"Price of Bitcoin \", fontsize=16)\n",
    "plt.xlabel(\"Date\")\n",
    "plt.ylabel(\"BTC Price\");"
   ]
  },
  {
   "cell_type": "code",
   "execution_count": 11,
   "metadata": {},
   "outputs": [
    {
     "data": {
      "text/plain": [
       "(array(['2014-09-17T00:00:00.000000000', '2014-09-18T00:00:00.000000000',\n",
       "        '2014-09-19T00:00:00.000000000', '2014-09-20T00:00:00.000000000',\n",
       "        '2014-09-21T00:00:00.000000000', '2014-09-22T00:00:00.000000000',\n",
       "        '2014-09-23T00:00:00.000000000', '2014-09-24T00:00:00.000000000',\n",
       "        '2014-09-25T00:00:00.000000000', '2014-09-26T00:00:00.000000000'],\n",
       "       dtype='datetime64[ns]'),\n",
       " array([457.33401489, 424.44000244, 394.79598999, 408.9039917 ,\n",
       "        398.8210144 , 402.15200806, 435.79098511, 423.20498657,\n",
       "        411.57400513, 404.42498779]))"
      ]
     },
     "execution_count": 11,
     "metadata": {},
     "output_type": "execute_result"
    }
   ],
   "source": [
    "# Get bitcoin date array\n",
    "timesteps = bitcoin_prices.index.to_numpy()\n",
    "prices = bitcoin_prices[\"Price\"].to_numpy()\n",
    "\n",
    "timesteps[:10], prices[:10]"
   ]
  },
  {
   "cell_type": "code",
   "execution_count": 12,
   "metadata": {},
   "outputs": [
    {
     "data": {
      "text/plain": [
       "(2737, 685, 2737, 685)"
      ]
     },
     "execution_count": 12,
     "metadata": {},
     "output_type": "execute_result"
    }
   ],
   "source": [
    "# Create train and test splits the right way for time series data\n",
    "split_size = int(0.8 * len(prices)) # 80% train, 20% test\n",
    "\n",
    "# Create train data splits (everything before the split)\n",
    "X_train, y_train = timesteps[:split_size], prices[:split_size]\n",
    "\n",
    "# Create test data splits (everything after the split)\n",
    "X_test, y_test = timesteps[split_size:], prices[split_size:]\n",
    "\n",
    "len(X_train), len(X_test), len(y_train), len(y_test)"
   ]
  },
  {
   "cell_type": "code",
   "execution_count": 13,
   "metadata": {},
   "outputs": [
    {
     "data": {
      "image/png": "[encoded data removed]",
      "text/plain": [
       "<Figure size 1000x700 with 1 Axes>"
      ]
     },
     "metadata": {},
     "output_type": "display_data"
    }
   ],
   "source": [
    "# Plot correctly made splits\n",
    "plt.figure(figsize=(10, 7))\n",
    "plt.scatter(X_train, y_train, s=5, label=\"Train data\")\n",
    "plt.scatter(X_test, y_test, s=5, label=\"Test data\")\n",
    "plt.xlabel(\"Date\")\n",
    "plt.ylabel(\"BTC Price\")\n",
    "plt.legend(fontsize=14)\n",
    "plt.show();"
   ]
  },
  {
   "cell_type": "code",
   "execution_count": 14,
   "metadata": {},
   "outputs": [],
   "source": [
    "# Create a function to plot time series data\n",
    "def plot_time_series(timesteps, values, format='.', start=0, end=None, label=None):\n",
    "  \"\"\"\n",
    "  Plots a timesteps (a series of points in time) against values (a series of values across timesteps).\n",
    "  \n",
    "  Parameters\n",
    "  ---------\n",
    "  timesteps : array of timesteps\n",
    "  values : array of values across time\n",
    "  format : style of plot, default \".\"\n",
    "  start : where to start the plot (setting a value will index from start of timesteps & values)\n",
    "  end : where to end the plot (setting a value will index from end of timesteps & values)\n",
    "  label : label to show on plot of values\n",
    "  \"\"\"\n",
    "  # Plot the series\n",
    "  plt.plot(timesteps[start:end], values[start:end], format, label=label)\n",
    "  plt.xlabel(\"Time\")\n",
    "  plt.ylabel(\"BTC Price\")\n",
    "  if label:\n",
    "    plt.legend(fontsize=14) # make label bigger\n",
    "  plt.grid(True)"
   ]
  },
  {
   "cell_type": "code",
   "execution_count": 15,
   "metadata": {},
   "outputs": [
    {
     "data": {
      "image/png": "[encoded data removed]",
      "text/plain": [
       "<Figure size 1000x700 with 1 Axes>"
      ]
     },
     "metadata": {},
     "output_type": "display_data"
    }
   ],
   "source": [
    "# Try out our plotting function\n",
    "plt.figure(figsize=(10, 7))\n",
    "plot_time_series(timesteps=X_train, values=y_train, label=\"Train data\")\n",
    "plot_time_series(timesteps=X_test, values=y_test, label=\"Test data\")"
   ]
  },
  {
   "cell_type": "code",
   "execution_count": 16,
   "metadata": {},
   "outputs": [],
   "source": [
    "def evaluate_preds(y_true, y_pred):\n",
    "  # Make sure float32 (for metric calculations)\n",
    "  y_true = tf.cast(y_true, dtype=tf.float32)\n",
    "  y_pred = tf.cast(y_pred, dtype=tf.float32)\n",
    "\n",
    "  # Calculate various metrics\n",
    "  mae = tf.keras.metrics.mean_absolute_error(y_true, y_pred)\n",
    "  mse = tf.keras.metrics.mean_squared_error(y_true, y_pred) # puts and emphasis on outliers (all errors get squared)\n",
    "  rmse = tf.sqrt(mse)\n",
    "  mape = tf.keras.metrics.mean_absolute_percentage_error(y_true, y_pred)\n",
    "  \n",
    "  return {\"mae\": mae.numpy(),\n",
    "          \"mse\": mse.numpy(),\n",
    "          \"rmse\": rmse.numpy(),\n",
    "          \"mape\": mape.numpy()\n",
    "          }"
   ]
  },
  {
   "cell_type": "code",
   "execution_count": 17,
   "metadata": {},
   "outputs": [
    {
     "data": {
      "text/plain": [
       "27816.620600479015"
      ]
     },
     "execution_count": 17,
     "metadata": {},
     "output_type": "execute_result"
    }
   ],
   "source": [
    "# Find average price of Bitcoin in test dataset\n",
    "tf.reduce_mean(y_test).numpy()"
   ]
  },
  {
   "cell_type": "code",
   "execution_count": 18,
   "metadata": {},
   "outputs": [],
   "source": [
    "HORIZON = 1 # predict 1 step at a time\n",
    "WINDOW_SIZE = 7 # use a week worth of timesteps to predict the horizon"
   ]
  },
  {
   "cell_type": "code",
   "execution_count": 19,
   "metadata": {},
   "outputs": [],
   "source": [
    "# Create function to label windowed data\n",
    "def get_labelled_windows(x, horizon=1):\n",
    "  \"\"\"\n",
    "  Creates labels for windowed dataset.\n",
    "\n",
    "  E.g. if horizon=1 (default)\n",
    "  Input: [1, 2, 3, 4, 5, 6] -> Output: ([1, 2, 3, 4, 5], [6])\n",
    "  \"\"\"\n",
    "  return x[:, :-horizon], x[:, -horizon:]"
   ]
  },
  {
   "cell_type": "code",
   "execution_count": 20,
   "metadata": {},
   "outputs": [
    {
     "name": "stdout",
     "output_type": "stream",
     "text": [
      "Window: [1 2 3 4 5 6 7] -> Label: 8\n"
     ]
    }
   ],
   "source": [
    "# Test out the window labelling function\n",
    "test_window, test_label = get_labelled_windows(tf.expand_dims(tf.range(8)+1, axis=0), horizon=HORIZON)\n",
    "print(f\"Window: {tf.squeeze(test_window).numpy()} -> Label: {tf.squeeze(test_label).numpy()}\")"
   ]
  },
  {
   "cell_type": "code",
   "execution_count": 21,
   "metadata": {},
   "outputs": [],
   "source": [
    "# Create function to view NumPy arrays as windows \n",
    "def make_windows(x, window_size=7, horizon=1):\n",
    "  \"\"\"\n",
    "  Turns a 1D array into a 2D array of sequential windows of window_size.\n",
    "  \"\"\"\n",
    "  # 1. Create a window of specific window_size (add the horizon on the end for later labelling)\n",
    "  window_step = np.expand_dims(np.arange(window_size+horizon), axis=0)\n",
    "  # print(f\"Window step:\\n {window_step}\")\n",
    "\n",
    "  # 2. Create a 2D array of multiple window steps (minus 1 to account for 0 indexing)\n",
    "  window_indexes = window_step + np.expand_dims(np.arange(len(x)-(window_size+horizon-1)), axis=0).T # create 2D array of windows of size window_size\n",
    "  # print(f\"Window indexes:\\n {window_indexes[:3], window_indexes[-3:], window_indexes.shape}\")\n",
    "\n",
    "  # 3. Index on the target array (time series) with 2D array of multiple window steps\n",
    "  windowed_array = x[window_indexes]\n",
    "\n",
    "  # 4. Get the labelled windows\n",
    "  windows, labels = get_labelled_windows(windowed_array, horizon=horizon)\n",
    "\n",
    "  return windows, labels"
   ]
  },
  {
   "cell_type": "code",
   "execution_count": 22,
   "metadata": {},
   "outputs": [
    {
     "data": {
      "text/plain": [
       "(3415, 3415)"
      ]
     },
     "execution_count": 22,
     "metadata": {},
     "output_type": "execute_result"
    }
   ],
   "source": [
    "full_windows, full_labels = make_windows(prices, window_size=WINDOW_SIZE, horizon=HORIZON)\n",
    "len(full_windows), len(full_labels)"
   ]
  },
  {
   "cell_type": "code",
   "execution_count": 23,
   "metadata": {},
   "outputs": [
    {
     "name": "stdout",
     "output_type": "stream",
     "text": [
      "Window: [457.33401489 424.44000244 394.79598999 408.9039917  398.8210144\n",
      " 402.15200806 435.79098511] \n",
      " -> Label: [423.20498657]\n",
      "Window: [424.44000244 394.79598999 408.9039917  398.8210144  402.15200806\n",
      " 435.79098511 423.20498657] \n",
      " -> Label: [411.57400513]\n",
      "Window: [394.79598999 408.9039917  398.8210144  402.15200806 435.79098511\n",
      " 423.20498657 411.57400513] \n",
      " -> Label: [404.42498779]\n"
     ]
    }
   ],
   "source": [
    "#örnek 3 satırın düzenli şekilde gösterilmesi\n",
    "for i in range(3):\n",
    "  print(f\"Window: {full_windows[i]} \\n -> Label: {full_labels[i]}\")\n"
   ]
  },
  {
   "cell_type": "code",
   "execution_count": 24,
   "metadata": {},
   "outputs": [
    {
     "name": "stdout",
     "output_type": "stream",
     "text": [
      "Window: [41665.5859375  41545.78515625 39507.3671875  39845.55078125\n",
      " 40077.07421875 39933.80859375 41816.87109375]  \n",
      " -> Label: [42120.0546875]\n",
      "Window: [41545.78515625 39507.3671875  39845.55078125 40077.07421875\n",
      " 39933.80859375 41816.87109375 42120.0546875 ]  \n",
      " -> Label: [42035.59375]\n",
      "Window: [39507.3671875  39845.55078125 40077.07421875 39933.80859375\n",
      " 41816.87109375 42120.0546875  42035.59375   ]  \n",
      " -> Label: [43208.69921875]\n"
     ]
    }
   ],
   "source": [
    "# View the last 3 windows/labels\n",
    "for i in range(3):\n",
    "  print(f\"Window: {full_windows[i-3]}  \\n -> Label: {full_labels[i-3]}\")"
   ]
  },
  {
   "cell_type": "markdown",
   "metadata": {},
   "source": [
    "Turning windows into training and test sets"
   ]
  },
  {
   "cell_type": "code",
   "execution_count": 25,
   "metadata": {},
   "outputs": [],
   "source": [
    "# Make the train/test splits\n",
    "def make_train_test_splits(windows, labels, test_split=0.2):\n",
    "  \"\"\"\n",
    "  Splits matching pairs of windows and labels into train and test splits.\n",
    "  \"\"\"\n",
    "  split_size = int(len(windows) * (1-test_split)) # this will default to 80% train/20% test\n",
    "  train_windows = windows[:split_size]\n",
    "  train_labels = labels[:split_size]\n",
    "  test_windows = windows[split_size:]\n",
    "  test_labels = labels[split_size:]\n",
    "  return train_windows, test_windows, train_labels, test_labels"
   ]
  },
  {
   "cell_type": "code",
   "execution_count": 26,
   "metadata": {},
   "outputs": [
    {
     "data": {
      "text/plain": [
       "(2732, 683, 2732, 683)"
      ]
     },
     "execution_count": 26,
     "metadata": {},
     "output_type": "execute_result"
    }
   ],
   "source": [
    "train_windows, test_windows, train_labels, test_labels = make_train_test_splits(full_windows, full_labels)\n",
    "len(train_windows), len(test_windows), len(train_labels), len(test_labels)\n",
    "     "
   ]
  },
  {
   "cell_type": "code",
   "execution_count": 27,
   "metadata": {},
   "outputs": [
    {
     "data": {
      "text/plain": [
       "(array([[457.33401489, 424.44000244, 394.79598999, 408.9039917 ,\n",
       "         398.8210144 , 402.15200806, 435.79098511],\n",
       "        [424.44000244, 394.79598999, 408.9039917 , 398.8210144 ,\n",
       "         402.15200806, 435.79098511, 423.20498657],\n",
       "        [394.79598999, 408.9039917 , 398.8210144 , 402.15200806,\n",
       "         435.79098511, 423.20498657, 411.57400513],\n",
       "        [408.9039917 , 398.8210144 , 402.15200806, 435.79098511,\n",
       "         423.20498657, 411.57400513, 404.42498779],\n",
       "        [398.8210144 , 402.15200806, 435.79098511, 423.20498657,\n",
       "         411.57400513, 404.42498779, 399.51998901]]),\n",
       " array([[423.20498657],\n",
       "        [411.57400513],\n",
       "        [404.42498779],\n",
       "        [399.51998901],\n",
       "        [377.18099976]]))"
      ]
     },
     "execution_count": 27,
     "metadata": {},
     "output_type": "execute_result"
    }
   ],
   "source": [
    "train_windows[:5], train_labels[:5]"
   ]
  },
  {
   "cell_type": "code",
   "execution_count": 28,
   "metadata": {},
   "outputs": [
    {
     "data": {
      "text/plain": [
       "True"
      ]
     },
     "execution_count": 28,
     "metadata": {},
     "output_type": "execute_result"
    }
   ],
   "source": [
    "# Check to see if same (accounting for horizon and window size)\n",
    "np.array_equal(np.squeeze(train_labels[:-HORIZON-1]), y_train[WINDOW_SIZE:])\n"
   ]
  },
  {
   "cell_type": "code",
   "execution_count": 29,
   "metadata": {},
   "outputs": [],
   "source": [
    "import os\n",
    "\n",
    "# Create a function to implement a ModelCheckpoint callback with a specific filename \n",
    "def create_model_checkpoint(model_name, save_path=\"model_experiments\"):\n",
    "  return tf.keras.callbacks.ModelCheckpoint(filepath=os.path.join(save_path, model_name), # create filepath to save model\n",
    "                                            verbose=0, # only output a limited amount of text\n",
    "                                            save_best_only=True) # save only the best model to file\n",
    " "
   ]
  },
  {
   "cell_type": "code",
   "execution_count": 30,
   "metadata": {},
   "outputs": [],
   "source": [
    "\n",
    "def make_preds(model, input_data):\n",
    "  \"\"\"\n",
    "  Uses model to make predictions on input_data.\n",
    "\n",
    "  Parameters\n",
    "  ----------\n",
    "  model: trained model \n",
    "  input_data: windowed input data (same kind of data model was trained on)\n",
    "\n",
    "  Returns model predictions on input_data.\n",
    "  \"\"\"\n",
    "  forecast = model.predict(input_data)\n",
    "  return tf.squeeze(forecast) # return 1D array of predictions"
   ]
  },
  {
   "cell_type": "code",
   "execution_count": 31,
   "metadata": {},
   "outputs": [],
   "source": [
    "def evaluate_preds(y_true, y_pred):\n",
    "  # Make sure float32 (for metric calculations)\n",
    "  y_true = tf.cast(y_true, dtype=tf.float32)\n",
    "  y_pred = tf.cast(y_pred, dtype=tf.float32)\n",
    "\n",
    "  # Calculate various metrics\n",
    "  mae = tf.keras.metrics.mean_absolute_error(y_true, y_pred)\n",
    "  mse = tf.keras.metrics.mean_squared_error(y_true, y_pred)\n",
    "  rmse = tf.sqrt(mse)\n",
    "  mape = tf.keras.metrics.mean_absolute_percentage_error(y_true, y_pred)\n",
    "\n",
    "  # Account for different sized metrics (for longer horizons, reduce to single number)\n",
    "  if mae.ndim > 0: # if mae isn't already a scalar, reduce it to one by aggregating tensors to mean\n",
    "    mae = tf.reduce_mean(mae)\n",
    "    mse = tf.reduce_mean(mse)\n",
    "    rmse = tf.reduce_mean(rmse)\n",
    "    mape = tf.reduce_mean(mape)\n",
    "\n",
    "  return {\"mae\": mae.numpy(),\n",
    "          \"mse\": mse.numpy(),\n",
    "          \"rmse\": rmse.numpy(),\n",
    "          \"mape\": mape.numpy(),}"
   ]
  },
  {
   "cell_type": "markdown",
   "metadata": {},
   "source": [
    "## Model 5  RNN (LSTM )"
   ]
  },
  {
   "cell_type": "code",
   "execution_count": 32,
   "metadata": {},
   "outputs": [
    {
     "data": {
      "text/plain": [
       "<keras.src.callbacks.History at 0x2704e869bd0>"
      ]
     },
     "execution_count": 32,
     "metadata": {},
     "output_type": "execute_result"
    }
   ],
   "source": [
    "tf.random.set_seed(42)\n",
    "\n",
    "# Let's build an LSTM model with the Functional API\n",
    "inputs = layers.Input(shape=(WINDOW_SIZE))\n",
    "x = layers.Lambda(lambda x: tf.expand_dims(x, axis=1))(inputs) # expand input dimension to be compatible with LSTM\n",
    "# print(x.shape)\n",
    "# x = layers.LSTM(128, activation=\"relu\", return_sequences=True)(x) # this layer will error if the inputs are not the right shape\n",
    "x = layers.LSTM(128, activation=\"relu\")(x) # using the tanh loss function results in a massive error\n",
    "# print(x.shape)\n",
    "# Add another optional dense layer (you could add more of these to see if they improve model performance)\n",
    "# x = layers.Dense(32, activation=\"relu\")(x)\n",
    "output = layers.Dense(HORIZON)(x)\n",
    "model_5 = tf.keras.Model(inputs=inputs, outputs=output, name=\"model_5_lstm\")\n",
    "\n",
    "# Compile model\n",
    "model_5.compile(loss=\"mae\",\n",
    "                optimizer=tf.keras.optimizers.Adam())\n",
    "\n",
    "# Seems when saving the model several warnings are appearing: https://github.com/tensorflow/tensorflow/issues/47554 \n",
    "model_5.fit(train_windows,\n",
    "            train_labels,\n",
    "            epochs=100,\n",
    "            verbose=0,\n",
    "            batch_size=128,\n",
    "            validation_data=(test_windows, test_labels))\n",
    "       \n",
    "     \n"
   ]
  },
  {
   "cell_type": "code",
   "execution_count": 33,
   "metadata": {},
   "outputs": [
    {
     "name": "stdout",
     "output_type": "stream",
     "text": [
      "22/22 [==============================] - 0s 1ms/step - loss: 669.4186\n"
     ]
    },
    {
     "data": {
      "text/plain": [
       "669.4186401367188"
      ]
     },
     "execution_count": 33,
     "metadata": {},
     "output_type": "execute_result"
    }
   ],
   "source": [
    "\n",
    "# Load in best version of model 5 and evaluate on the test data\n",
    "model_5.evaluate(test_windows, test_labels)"
   ]
  },
  {
   "cell_type": "code",
   "execution_count": 34,
   "metadata": {},
   "outputs": [
    {
     "name": "stdout",
     "output_type": "stream",
     "text": [
      "22/22 [==============================] - 0s 809us/step\n"
     ]
    },
    {
     "data": {
      "text/plain": [
       "<tf.Tensor: shape=(10,), dtype=float32, numpy=\n",
       "array([40449.543, 41154.227, 41649.72 , 41086.797, 40673.137, 41416.562,\n",
       "       42035.473, 42975.535, 43686.152, 44029.023], dtype=float32)>"
      ]
     },
     "execution_count": 34,
     "metadata": {},
     "output_type": "execute_result"
    }
   ],
   "source": [
    "\n",
    "# Make predictions with our LSTM model\n",
    "model_5_preds = make_preds(model_5, test_windows)\n",
    "model_5_preds[:10]"
   ]
  },
  {
   "cell_type": "code",
   "execution_count": 35,
   "metadata": {},
   "outputs": [
    {
     "data": {
      "text/plain": [
       "{'mae': 669.4187, 'mse': 826290.3, 'rmse': 909.0051, 'mape': 2.414388}"
      ]
     },
     "execution_count": 35,
     "metadata": {},
     "output_type": "execute_result"
    }
   ],
   "source": [
    "# Evaluate model 5 preds\n",
    "model_5_results = evaluate_preds(y_true=tf.squeeze(test_labels),\n",
    "                                 y_pred=model_5_preds)\n",
    "model_5_results\n"
   ]
  },
  {
   "cell_type": "markdown",
   "metadata": {},
   "source": [
    "# Multivariate time series "
   ]
  },
  {
   "cell_type": "code",
   "execution_count": 36,
   "metadata": {},
   "outputs": [
    {
     "data": {
      "text/html": [
       "<div>\n",
       "<style scoped>\n",
       "    .dataframe tbody tr th:only-of-type {\n",
       "        vertical-align: middle;\n",
       "    }\n",
       "\n",
       "    .dataframe tbody tr th {\n",
       "        vertical-align: top;\n",
       "    }\n",
       "\n",
       "    .dataframe thead th {\n",
       "        text-align: right;\n",
       "    }\n",
       "</style>\n",
       "<table border=\"1\" class=\"dataframe\">\n",
       "  <thead>\n",
       "    <tr style=\"text-align: right;\">\n",
       "      <th></th>\n",
       "      <th>Price</th>\n",
       "    </tr>\n",
       "    <tr>\n",
       "      <th>Date</th>\n",
       "      <th></th>\n",
       "    </tr>\n",
       "  </thead>\n",
       "  <tbody>\n",
       "    <tr>\n",
       "      <th>2014-09-17</th>\n",
       "      <td>457.334015</td>\n",
       "    </tr>\n",
       "    <tr>\n",
       "      <th>2014-09-18</th>\n",
       "      <td>424.440002</td>\n",
       "    </tr>\n",
       "    <tr>\n",
       "      <th>2014-09-19</th>\n",
       "      <td>394.795990</td>\n",
       "    </tr>\n",
       "    <tr>\n",
       "      <th>2014-09-20</th>\n",
       "      <td>408.903992</td>\n",
       "    </tr>\n",
       "    <tr>\n",
       "      <th>2014-09-21</th>\n",
       "      <td>398.821014</td>\n",
       "    </tr>\n",
       "  </tbody>\n",
       "</table>\n",
       "</div>"
      ],
      "text/plain": [
       "                 Price\n",
       "Date                  \n",
       "2014-09-17  457.334015\n",
       "2014-09-18  424.440002\n",
       "2014-09-19  394.795990\n",
       "2014-09-20  408.903992\n",
       "2014-09-21  398.821014"
      ]
     },
     "execution_count": 36,
     "metadata": {},
     "output_type": "execute_result"
    }
   ],
   "source": [
    "\n",
    "# Let's make a multivariate time series\n",
    "bitcoin_prices.head()"
   ]
  },
  {
   "cell_type": "code",
   "execution_count": 37,
   "metadata": {},
   "outputs": [
    {
     "data": {
      "text/html": [
       "<div>\n",
       "<style scoped>\n",
       "    .dataframe tbody tr th:only-of-type {\n",
       "        vertical-align: middle;\n",
       "    }\n",
       "\n",
       "    .dataframe tbody tr th {\n",
       "        vertical-align: top;\n",
       "    }\n",
       "\n",
       "    .dataframe thead th {\n",
       "        text-align: right;\n",
       "    }\n",
       "</style>\n",
       "<table border=\"1\" class=\"dataframe\">\n",
       "  <thead>\n",
       "    <tr style=\"text-align: right;\">\n",
       "      <th></th>\n",
       "      <th>Price</th>\n",
       "      <th>block_reward</th>\n",
       "    </tr>\n",
       "    <tr>\n",
       "      <th>Date</th>\n",
       "      <th></th>\n",
       "      <th></th>\n",
       "    </tr>\n",
       "  </thead>\n",
       "  <tbody>\n",
       "    <tr>\n",
       "      <th>2014-09-17</th>\n",
       "      <td>457.334015</td>\n",
       "      <td>25</td>\n",
       "    </tr>\n",
       "    <tr>\n",
       "      <th>2014-09-18</th>\n",
       "      <td>424.440002</td>\n",
       "      <td>25</td>\n",
       "    </tr>\n",
       "    <tr>\n",
       "      <th>2014-09-19</th>\n",
       "      <td>394.795990</td>\n",
       "      <td>25</td>\n",
       "    </tr>\n",
       "    <tr>\n",
       "      <th>2014-09-20</th>\n",
       "      <td>408.903992</td>\n",
       "      <td>25</td>\n",
       "    </tr>\n",
       "    <tr>\n",
       "      <th>2014-09-21</th>\n",
       "      <td>398.821014</td>\n",
       "      <td>25</td>\n",
       "    </tr>\n",
       "  </tbody>\n",
       "</table>\n",
       "</div>"
      ],
      "text/plain": [
       "                 Price block_reward\n",
       "Date                               \n",
       "2014-09-17  457.334015           25\n",
       "2014-09-18  424.440002           25\n",
       "2014-09-19  394.795990           25\n",
       "2014-09-20  408.903992           25\n",
       "2014-09-21  398.821014           25"
      ]
     },
     "execution_count": 37,
     "metadata": {},
     "output_type": "execute_result"
    }
   ],
   "source": [
    "# Block reward values\n",
    "block_reward_1 = 50 # 3 January 2009 (2009-01-03) - this block reward isn't in our dataset (it starts from 01 October 2013)\n",
    "block_reward_2 = 25 # 28 November 2012 \n",
    "block_reward_3 = 12.5 # 9 July 2016\n",
    "block_reward_4 = 6.25 # 11 May 2020\n",
    "\n",
    "# Block reward dates (datetime form of the above date stamps)\n",
    "block_reward_2_datetime = np.datetime64(\"2012-11-28\")\n",
    "block_reward_3_datetime = np.datetime64(\"2016-07-09\")\n",
    "block_reward_4_datetime = np.datetime64(\"2020-05-11\")\n",
    "\n",
    "\n",
    "\n",
    "# Get date indexes for when to add in different block dates\n",
    "block_reward_2_days = (block_reward_3_datetime - bitcoin_prices.index[0]).days\n",
    "block_reward_3_days = (block_reward_4_datetime - bitcoin_prices.index[0]).days\n",
    "#block_reward_2_days, block_reward_3_days\n",
    "\n",
    "\n",
    "# Add block_reward column\n",
    "bitcoin_prices_block = bitcoin_prices.copy()\n",
    "bitcoin_prices_block[\"block_reward\"] = None\n",
    "\n",
    "# Set values of block_reward column (it's the last column hence -1 indexing on iloc)\n",
    "bitcoin_prices_block.iloc[:block_reward_2_days, -1] = block_reward_2\n",
    "bitcoin_prices_block.iloc[block_reward_2_days:block_reward_3_days, -1] = block_reward_3\n",
    "bitcoin_prices_block.iloc[block_reward_3_days:, -1] = block_reward_4\n",
    "bitcoin_prices_block.head()"
   ]
  },
  {
   "cell_type": "code",
   "execution_count": 38,
   "metadata": {},
   "outputs": [
    {
     "data": {
      "image/png": "[encoded data removed]",
      "text/plain": [
       "<Figure size 1000x700 with 1 Axes>"
      ]
     },
     "metadata": {},
     "output_type": "display_data"
    }
   ],
   "source": [
    "\n",
    "# Plot the block reward/price over time\n",
    "# Note: Because of the different scales of our values we'll scale them to be between 0 and 1.\n",
    "from sklearn.preprocessing import minmax_scale\n",
    "scaled_price_block_df = pd.DataFrame(minmax_scale(bitcoin_prices_block[[\"Price\", \"block_reward\"]]), # we need to scale the data first\n",
    "                                     columns=bitcoin_prices_block.columns,\n",
    "                                     index=bitcoin_prices_block.index)\n",
    "scaled_price_block_df.plot(figsize=(10, 7));"
   ]
  },
  {
   "cell_type": "code",
   "execution_count": 39,
   "metadata": {},
   "outputs": [],
   "source": [
    "\n",
    "# Setup dataset hyperparameters\n",
    "HORIZON = 1\n",
    "WINDOW_SIZE = 7"
   ]
  },
  {
   "cell_type": "code",
   "execution_count": 40,
   "metadata": {},
   "outputs": [
    {
     "data": {
      "text/html": [
       "<div>\n",
       "<style scoped>\n",
       "    .dataframe tbody tr th:only-of-type {\n",
       "        vertical-align: middle;\n",
       "    }\n",
       "\n",
       "    .dataframe tbody tr th {\n",
       "        vertical-align: top;\n",
       "    }\n",
       "\n",
       "    .dataframe thead th {\n",
       "        text-align: right;\n",
       "    }\n",
       "</style>\n",
       "<table border=\"1\" class=\"dataframe\">\n",
       "  <thead>\n",
       "    <tr style=\"text-align: right;\">\n",
       "      <th></th>\n",
       "      <th>Price</th>\n",
       "      <th>block_reward</th>\n",
       "      <th>Price+1</th>\n",
       "      <th>Price+2</th>\n",
       "      <th>Price+3</th>\n",
       "      <th>Price+4</th>\n",
       "      <th>Price+5</th>\n",
       "      <th>Price+6</th>\n",
       "      <th>Price+7</th>\n",
       "    </tr>\n",
       "    <tr>\n",
       "      <th>Date</th>\n",
       "      <th></th>\n",
       "      <th></th>\n",
       "      <th></th>\n",
       "      <th></th>\n",
       "      <th></th>\n",
       "      <th></th>\n",
       "      <th></th>\n",
       "      <th></th>\n",
       "      <th></th>\n",
       "    </tr>\n",
       "  </thead>\n",
       "  <tbody>\n",
       "    <tr>\n",
       "      <th>2014-09-17</th>\n",
       "      <td>457.334015</td>\n",
       "      <td>25</td>\n",
       "      <td>NaN</td>\n",
       "      <td>NaN</td>\n",
       "      <td>NaN</td>\n",
       "      <td>NaN</td>\n",
       "      <td>NaN</td>\n",
       "      <td>NaN</td>\n",
       "      <td>NaN</td>\n",
       "    </tr>\n",
       "    <tr>\n",
       "      <th>2014-09-18</th>\n",
       "      <td>424.440002</td>\n",
       "      <td>25</td>\n",
       "      <td>457.334015</td>\n",
       "      <td>NaN</td>\n",
       "      <td>NaN</td>\n",
       "      <td>NaN</td>\n",
       "      <td>NaN</td>\n",
       "      <td>NaN</td>\n",
       "      <td>NaN</td>\n",
       "    </tr>\n",
       "    <tr>\n",
       "      <th>2014-09-19</th>\n",
       "      <td>394.795990</td>\n",
       "      <td>25</td>\n",
       "      <td>424.440002</td>\n",
       "      <td>457.334015</td>\n",
       "      <td>NaN</td>\n",
       "      <td>NaN</td>\n",
       "      <td>NaN</td>\n",
       "      <td>NaN</td>\n",
       "      <td>NaN</td>\n",
       "    </tr>\n",
       "    <tr>\n",
       "      <th>2014-09-20</th>\n",
       "      <td>408.903992</td>\n",
       "      <td>25</td>\n",
       "      <td>394.795990</td>\n",
       "      <td>424.440002</td>\n",
       "      <td>457.334015</td>\n",
       "      <td>NaN</td>\n",
       "      <td>NaN</td>\n",
       "      <td>NaN</td>\n",
       "      <td>NaN</td>\n",
       "    </tr>\n",
       "    <tr>\n",
       "      <th>2014-09-21</th>\n",
       "      <td>398.821014</td>\n",
       "      <td>25</td>\n",
       "      <td>408.903992</td>\n",
       "      <td>394.795990</td>\n",
       "      <td>424.440002</td>\n",
       "      <td>457.334015</td>\n",
       "      <td>NaN</td>\n",
       "      <td>NaN</td>\n",
       "      <td>NaN</td>\n",
       "    </tr>\n",
       "    <tr>\n",
       "      <th>2014-09-22</th>\n",
       "      <td>402.152008</td>\n",
       "      <td>25</td>\n",
       "      <td>398.821014</td>\n",
       "      <td>408.903992</td>\n",
       "      <td>394.795990</td>\n",
       "      <td>424.440002</td>\n",
       "      <td>457.334015</td>\n",
       "      <td>NaN</td>\n",
       "      <td>NaN</td>\n",
       "    </tr>\n",
       "    <tr>\n",
       "      <th>2014-09-23</th>\n",
       "      <td>435.790985</td>\n",
       "      <td>25</td>\n",
       "      <td>402.152008</td>\n",
       "      <td>398.821014</td>\n",
       "      <td>408.903992</td>\n",
       "      <td>394.795990</td>\n",
       "      <td>424.440002</td>\n",
       "      <td>457.334015</td>\n",
       "      <td>NaN</td>\n",
       "    </tr>\n",
       "    <tr>\n",
       "      <th>2014-09-24</th>\n",
       "      <td>423.204987</td>\n",
       "      <td>25</td>\n",
       "      <td>435.790985</td>\n",
       "      <td>402.152008</td>\n",
       "      <td>398.821014</td>\n",
       "      <td>408.903992</td>\n",
       "      <td>394.795990</td>\n",
       "      <td>424.440002</td>\n",
       "      <td>457.334015</td>\n",
       "    </tr>\n",
       "    <tr>\n",
       "      <th>2014-09-25</th>\n",
       "      <td>411.574005</td>\n",
       "      <td>25</td>\n",
       "      <td>423.204987</td>\n",
       "      <td>435.790985</td>\n",
       "      <td>402.152008</td>\n",
       "      <td>398.821014</td>\n",
       "      <td>408.903992</td>\n",
       "      <td>394.795990</td>\n",
       "      <td>424.440002</td>\n",
       "    </tr>\n",
       "    <tr>\n",
       "      <th>2014-09-26</th>\n",
       "      <td>404.424988</td>\n",
       "      <td>25</td>\n",
       "      <td>411.574005</td>\n",
       "      <td>423.204987</td>\n",
       "      <td>435.790985</td>\n",
       "      <td>402.152008</td>\n",
       "      <td>398.821014</td>\n",
       "      <td>408.903992</td>\n",
       "      <td>394.795990</td>\n",
       "    </tr>\n",
       "  </tbody>\n",
       "</table>\n",
       "</div>"
      ],
      "text/plain": [
       "                 Price block_reward     Price+1     Price+2     Price+3  \\\n",
       "Date                                                                      \n",
       "2014-09-17  457.334015           25         NaN         NaN         NaN   \n",
       "2014-09-18  424.440002           25  457.334015         NaN         NaN   \n",
       "2014-09-19  394.795990           25  424.440002  457.334015         NaN   \n",
       "2014-09-20  408.903992           25  394.795990  424.440002  457.334015   \n",
       "2014-09-21  398.821014           25  408.903992  394.795990  424.440002   \n",
       "2014-09-22  402.152008           25  398.821014  408.903992  394.795990   \n",
       "2014-09-23  435.790985           25  402.152008  398.821014  408.903992   \n",
       "2014-09-24  423.204987           25  435.790985  402.152008  398.821014   \n",
       "2014-09-25  411.574005           25  423.204987  435.790985  402.152008   \n",
       "2014-09-26  404.424988           25  411.574005  423.204987  435.790985   \n",
       "\n",
       "               Price+4     Price+5     Price+6     Price+7  \n",
       "Date                                                        \n",
       "2014-09-17         NaN         NaN         NaN         NaN  \n",
       "2014-09-18         NaN         NaN         NaN         NaN  \n",
       "2014-09-19         NaN         NaN         NaN         NaN  \n",
       "2014-09-20         NaN         NaN         NaN         NaN  \n",
       "2014-09-21  457.334015         NaN         NaN         NaN  \n",
       "2014-09-22  424.440002  457.334015         NaN         NaN  \n",
       "2014-09-23  394.795990  424.440002  457.334015         NaN  \n",
       "2014-09-24  408.903992  394.795990  424.440002  457.334015  \n",
       "2014-09-25  398.821014  408.903992  394.795990  424.440002  \n",
       "2014-09-26  402.152008  398.821014  408.903992  394.795990  "
      ]
     },
     "execution_count": 40,
     "metadata": {},
     "output_type": "execute_result"
    }
   ],
   "source": [
    "# Make a copy of the Bitcoin historical data with block reward feature\n",
    "bitcoin_prices_windowed = bitcoin_prices_block.copy()\n",
    "\n",
    "# Add windowed columns\n",
    "for i in range(WINDOW_SIZE): # Shift values for each step in WINDOW_SIZE\n",
    "  bitcoin_prices_windowed[f\"Price+{i+1}\"] = bitcoin_prices_windowed[\"Price\"].shift(periods=i+1)\n",
    "bitcoin_prices_windowed.head(10)"
   ]
  },
  {
   "cell_type": "code",
   "execution_count": 41,
   "metadata": {},
   "outputs": [
    {
     "data": {
      "text/html": [
       "<div>\n",
       "<style scoped>\n",
       "    .dataframe tbody tr th:only-of-type {\n",
       "        vertical-align: middle;\n",
       "    }\n",
       "\n",
       "    .dataframe tbody tr th {\n",
       "        vertical-align: top;\n",
       "    }\n",
       "\n",
       "    .dataframe thead th {\n",
       "        text-align: right;\n",
       "    }\n",
       "</style>\n",
       "<table border=\"1\" class=\"dataframe\">\n",
       "  <thead>\n",
       "    <tr style=\"text-align: right;\">\n",
       "      <th></th>\n",
       "      <th>block_reward</th>\n",
       "      <th>Price+1</th>\n",
       "      <th>Price+2</th>\n",
       "      <th>Price+3</th>\n",
       "      <th>Price+4</th>\n",
       "      <th>Price+5</th>\n",
       "      <th>Price+6</th>\n",
       "      <th>Price+7</th>\n",
       "    </tr>\n",
       "    <tr>\n",
       "      <th>Date</th>\n",
       "      <th></th>\n",
       "      <th></th>\n",
       "      <th></th>\n",
       "      <th></th>\n",
       "      <th></th>\n",
       "      <th></th>\n",
       "      <th></th>\n",
       "      <th></th>\n",
       "    </tr>\n",
       "  </thead>\n",
       "  <tbody>\n",
       "    <tr>\n",
       "      <th>2014-09-24</th>\n",
       "      <td>25.0</td>\n",
       "      <td>435.790985</td>\n",
       "      <td>402.152008</td>\n",
       "      <td>398.821014</td>\n",
       "      <td>408.903992</td>\n",
       "      <td>394.795990</td>\n",
       "      <td>424.440002</td>\n",
       "      <td>457.334015</td>\n",
       "    </tr>\n",
       "    <tr>\n",
       "      <th>2014-09-25</th>\n",
       "      <td>25.0</td>\n",
       "      <td>423.204987</td>\n",
       "      <td>435.790985</td>\n",
       "      <td>402.152008</td>\n",
       "      <td>398.821014</td>\n",
       "      <td>408.903992</td>\n",
       "      <td>394.795990</td>\n",
       "      <td>424.440002</td>\n",
       "    </tr>\n",
       "    <tr>\n",
       "      <th>2014-09-26</th>\n",
       "      <td>25.0</td>\n",
       "      <td>411.574005</td>\n",
       "      <td>423.204987</td>\n",
       "      <td>435.790985</td>\n",
       "      <td>402.152008</td>\n",
       "      <td>398.821014</td>\n",
       "      <td>408.903992</td>\n",
       "      <td>394.795990</td>\n",
       "    </tr>\n",
       "    <tr>\n",
       "      <th>2014-09-27</th>\n",
       "      <td>25.0</td>\n",
       "      <td>404.424988</td>\n",
       "      <td>411.574005</td>\n",
       "      <td>423.204987</td>\n",
       "      <td>435.790985</td>\n",
       "      <td>402.152008</td>\n",
       "      <td>398.821014</td>\n",
       "      <td>408.903992</td>\n",
       "    </tr>\n",
       "    <tr>\n",
       "      <th>2014-09-28</th>\n",
       "      <td>25.0</td>\n",
       "      <td>399.519989</td>\n",
       "      <td>404.424988</td>\n",
       "      <td>411.574005</td>\n",
       "      <td>423.204987</td>\n",
       "      <td>435.790985</td>\n",
       "      <td>402.152008</td>\n",
       "      <td>398.821014</td>\n",
       "    </tr>\n",
       "  </tbody>\n",
       "</table>\n",
       "</div>"
      ],
      "text/plain": [
       "            block_reward     Price+1     Price+2     Price+3     Price+4  \\\n",
       "Date                                                                       \n",
       "2014-09-24          25.0  435.790985  402.152008  398.821014  408.903992   \n",
       "2014-09-25          25.0  423.204987  435.790985  402.152008  398.821014   \n",
       "2014-09-26          25.0  411.574005  423.204987  435.790985  402.152008   \n",
       "2014-09-27          25.0  404.424988  411.574005  423.204987  435.790985   \n",
       "2014-09-28          25.0  399.519989  404.424988  411.574005  423.204987   \n",
       "\n",
       "               Price+5     Price+6     Price+7  \n",
       "Date                                            \n",
       "2014-09-24  394.795990  424.440002  457.334015  \n",
       "2014-09-25  408.903992  394.795990  424.440002  \n",
       "2014-09-26  398.821014  408.903992  394.795990  \n",
       "2014-09-27  402.152008  398.821014  408.903992  \n",
       "2014-09-28  435.790985  402.152008  398.821014  "
      ]
     },
     "execution_count": 41,
     "metadata": {},
     "output_type": "execute_result"
    }
   ],
   "source": [
    "\n",
    "\n",
    "# Let's create X & y, remove the NaN's and convert to float32 to prevent TensorFlow errors \n",
    "X = bitcoin_prices_windowed.dropna().drop(\"Price\", axis=1).astype(np.float32) # burada drop ile price sütununu çıkarıyoruz\n",
    "y = bitcoin_prices_windowed.dropna()[\"Price\"].astype(np.float32)\n",
    "X.head()"
   ]
  },
  {
   "cell_type": "code",
   "execution_count": 42,
   "metadata": {},
   "outputs": [
    {
     "data": {
      "text/plain": [
       "Date\n",
       "2014-09-24    423.204987\n",
       "2014-09-25    411.574005\n",
       "2014-09-26    404.424988\n",
       "2014-09-27    399.519989\n",
       "2014-09-28    377.181000\n",
       "Name: Price, dtype: float32"
      ]
     },
     "execution_count": 42,
     "metadata": {},
     "output_type": "execute_result"
    }
   ],
   "source": [
    "# View labels\n",
    "y.head()\n"
   ]
  },
  {
   "cell_type": "code",
   "execution_count": 43,
   "metadata": {},
   "outputs": [
    {
     "data": {
      "text/plain": [
       "(2732, 2732, 683, 683)"
      ]
     },
     "execution_count": 43,
     "metadata": {},
     "output_type": "execute_result"
    }
   ],
   "source": [
    "\n",
    "# Make train and test sets\n",
    "split_size = int(len(X) * 0.8)\n",
    "X_train, y_train = X[:split_size], y[:split_size]\n",
    "X_test, y_test = X[split_size:], y[split_size:]\n",
    "len(X_train), len(y_train), len(X_test), len(y_test)"
   ]
  },
  {
   "cell_type": "markdown",
   "metadata": {},
   "source": [
    "## model 6 Multivariate time series (DENSE)"
   ]
  },
  {
   "cell_type": "code",
   "execution_count": 44,
   "metadata": {},
   "outputs": [
    {
     "data": {
      "text/plain": [
       "<keras.src.callbacks.History at 0x2704e77f510>"
      ]
     },
     "execution_count": 44,
     "metadata": {},
     "output_type": "execute_result"
    }
   ],
   "source": [
    "tf.random.set_seed(42)\n",
    "\n",
    "# Make multivariate time series model\n",
    "model_6 = tf.keras.Sequential([\n",
    "  layers.Dense(128, activation=\"relu\"),\n",
    "  # layers.Dense(128, activation=\"relu\"), # adding an extra layer here should lead to beating the naive model\n",
    "  layers.Dense(HORIZON)\n",
    "], name=\"model_6_dense_multivariate\")\n",
    "\n",
    "# Compile\n",
    "model_6.compile(loss=\"mae\",\n",
    "                optimizer=tf.keras.optimizers.Adam())\n",
    "\n",
    "# Fit\n",
    "model_6.fit(X_train, y_train,\n",
    "            epochs=100,\n",
    "            batch_size=128,\n",
    "            verbose=0, # only print 1 line per epoch\n",
    "            validation_data=(X_test, y_test))  "
   ]
  },
  {
   "cell_type": "code",
   "execution_count": 45,
   "metadata": {},
   "outputs": [
    {
     "name": "stdout",
     "output_type": "stream",
     "text": [
      "22/22 [==============================] - 0s 667us/step - loss: 512.6100\n"
     ]
    },
    {
     "data": {
      "text/plain": [
       "512.6099853515625"
      ]
     },
     "execution_count": 45,
     "metadata": {},
     "output_type": "execute_result"
    }
   ],
   "source": [
    "# Make sure best model is loaded and evaluate\n",
    "model_6.evaluate(X_test, y_test)"
   ]
  },
  {
   "cell_type": "code",
   "execution_count": 46,
   "metadata": {},
   "outputs": [
    {
     "name": "stdout",
     "output_type": "stream",
     "text": [
      "22/22 [==============================] - 0s 762us/step\n"
     ]
    },
    {
     "data": {
      "text/plain": [
       "<tf.Tensor: shape=(10,), dtype=float32, numpy=\n",
       "array([40957.41 , 41706.195, 42103.83 , 41354.973, 40990.855, 42084.137,\n",
       "       42730.887, 43758.35 , 44296.04 , 44485.055], dtype=float32)>"
      ]
     },
     "execution_count": 46,
     "metadata": {},
     "output_type": "execute_result"
    }
   ],
   "source": [
    "\n",
    "# Make predictions on multivariate data\n",
    "model_6_preds = tf.squeeze(model_6.predict(X_test))\n",
    "model_6_preds[:10]\n"
   ]
  },
  {
   "cell_type": "code",
   "execution_count": 47,
   "metadata": {},
   "outputs": [
    {
     "data": {
      "text/plain": [
       "{'mae': 512.61005, 'mse': 607634.44, 'rmse': 779.5091, 'mape': 1.8503958}"
      ]
     },
     "execution_count": 47,
     "metadata": {},
     "output_type": "execute_result"
    }
   ],
   "source": [
    "# Evaluate preds\n",
    "model_6_results = evaluate_preds(y_true=y_test,\n",
    "                                 y_pred=model_6_preds)\n",
    "model_6_results"
   ]
  },
  {
   "cell_type": "markdown",
   "metadata": {},
   "source": [
    "## Model 9: Train a model on the full historical data to make predictions into future"
   ]
  },
  {
   "cell_type": "code",
   "execution_count": 48,
   "metadata": {},
   "outputs": [
    {
     "data": {
      "text/html": [
       "<div>\n",
       "<style scoped>\n",
       "    .dataframe tbody tr th:only-of-type {\n",
       "        vertical-align: middle;\n",
       "    }\n",
       "\n",
       "    .dataframe tbody tr th {\n",
       "        vertical-align: top;\n",
       "    }\n",
       "\n",
       "    .dataframe thead th {\n",
       "        text-align: right;\n",
       "    }\n",
       "</style>\n",
       "<table border=\"1\" class=\"dataframe\">\n",
       "  <thead>\n",
       "    <tr style=\"text-align: right;\">\n",
       "      <th></th>\n",
       "      <th>Price</th>\n",
       "      <th>block_reward</th>\n",
       "      <th>Price+1</th>\n",
       "      <th>Price+2</th>\n",
       "      <th>Price+3</th>\n",
       "      <th>Price+4</th>\n",
       "      <th>Price+5</th>\n",
       "      <th>Price+6</th>\n",
       "      <th>Price+7</th>\n",
       "    </tr>\n",
       "    <tr>\n",
       "      <th>Date</th>\n",
       "      <th></th>\n",
       "      <th></th>\n",
       "      <th></th>\n",
       "      <th></th>\n",
       "      <th></th>\n",
       "      <th></th>\n",
       "      <th></th>\n",
       "      <th></th>\n",
       "      <th></th>\n",
       "    </tr>\n",
       "  </thead>\n",
       "  <tbody>\n",
       "    <tr>\n",
       "      <th>2014-09-17</th>\n",
       "      <td>457.334015</td>\n",
       "      <td>25</td>\n",
       "      <td>NaN</td>\n",
       "      <td>NaN</td>\n",
       "      <td>NaN</td>\n",
       "      <td>NaN</td>\n",
       "      <td>NaN</td>\n",
       "      <td>NaN</td>\n",
       "      <td>NaN</td>\n",
       "    </tr>\n",
       "    <tr>\n",
       "      <th>2014-09-18</th>\n",
       "      <td>424.440002</td>\n",
       "      <td>25</td>\n",
       "      <td>457.334015</td>\n",
       "      <td>NaN</td>\n",
       "      <td>NaN</td>\n",
       "      <td>NaN</td>\n",
       "      <td>NaN</td>\n",
       "      <td>NaN</td>\n",
       "      <td>NaN</td>\n",
       "    </tr>\n",
       "    <tr>\n",
       "      <th>2014-09-19</th>\n",
       "      <td>394.795990</td>\n",
       "      <td>25</td>\n",
       "      <td>424.440002</td>\n",
       "      <td>457.334015</td>\n",
       "      <td>NaN</td>\n",
       "      <td>NaN</td>\n",
       "      <td>NaN</td>\n",
       "      <td>NaN</td>\n",
       "      <td>NaN</td>\n",
       "    </tr>\n",
       "    <tr>\n",
       "      <th>2014-09-20</th>\n",
       "      <td>408.903992</td>\n",
       "      <td>25</td>\n",
       "      <td>394.795990</td>\n",
       "      <td>424.440002</td>\n",
       "      <td>457.334015</td>\n",
       "      <td>NaN</td>\n",
       "      <td>NaN</td>\n",
       "      <td>NaN</td>\n",
       "      <td>NaN</td>\n",
       "    </tr>\n",
       "    <tr>\n",
       "      <th>2014-09-21</th>\n",
       "      <td>398.821014</td>\n",
       "      <td>25</td>\n",
       "      <td>408.903992</td>\n",
       "      <td>394.795990</td>\n",
       "      <td>424.440002</td>\n",
       "      <td>457.334015</td>\n",
       "      <td>NaN</td>\n",
       "      <td>NaN</td>\n",
       "      <td>NaN</td>\n",
       "    </tr>\n",
       "  </tbody>\n",
       "</table>\n",
       "</div>"
      ],
      "text/plain": [
       "                 Price block_reward     Price+1     Price+2     Price+3  \\\n",
       "Date                                                                      \n",
       "2014-09-17  457.334015           25         NaN         NaN         NaN   \n",
       "2014-09-18  424.440002           25  457.334015         NaN         NaN   \n",
       "2014-09-19  394.795990           25  424.440002  457.334015         NaN   \n",
       "2014-09-20  408.903992           25  394.795990  424.440002  457.334015   \n",
       "2014-09-21  398.821014           25  408.903992  394.795990  424.440002   \n",
       "\n",
       "               Price+4  Price+5  Price+6  Price+7  \n",
       "Date                                               \n",
       "2014-09-17         NaN      NaN      NaN      NaN  \n",
       "2014-09-18         NaN      NaN      NaN      NaN  \n",
       "2014-09-19         NaN      NaN      NaN      NaN  \n",
       "2014-09-20         NaN      NaN      NaN      NaN  \n",
       "2014-09-21  457.334015      NaN      NaN      NaN  "
      ]
     },
     "execution_count": 48,
     "metadata": {},
     "output_type": "execute_result"
    }
   ],
   "source": [
    "bitcoin_prices_windowed.head()\n"
   ]
  },
  {
   "cell_type": "code",
   "execution_count": 49,
   "metadata": {},
   "outputs": [],
   "source": [
    "# Train model on entire data to make prediction for the next day \n",
    "X_all = bitcoin_prices_windowed.drop([\"Price\", \"block_reward\"], axis=1).dropna().to_numpy() # only want prices, our future model can be a univariate model\n",
    "y_all = bitcoin_prices_windowed.dropna()[\"Price\"].to_numpy()"
   ]
  },
  {
   "cell_type": "code",
   "execution_count": 50,
   "metadata": {},
   "outputs": [
    {
     "data": {
      "text/plain": [
       "<_PrefetchDataset element_spec=(TensorSpec(shape=(None, 7), dtype=tf.float64, name=None), TensorSpec(shape=(None,), dtype=tf.float64, name=None))>"
      ]
     },
     "execution_count": 50,
     "metadata": {},
     "output_type": "execute_result"
    }
   ],
   "source": [
    "\n",
    "# 1. Turn X and y into tensor Datasets\n",
    "features_dataset_all = tf.data.Dataset.from_tensor_slices(X_all)\n",
    "labels_dataset_all = tf.data.Dataset.from_tensor_slices(y_all)\n",
    "\n",
    "# 2. Combine features & labels\n",
    "dataset_all = tf.data.Dataset.zip((features_dataset_all, labels_dataset_all))\n",
    "\n",
    "# 3. Batch and prefetch for optimal performance\n",
    "BATCH_SIZE = 1024 # taken from Appendix D in N-BEATS paper\n",
    "dataset_all = dataset_all.batch(BATCH_SIZE).prefetch(tf.data.AUTOTUNE)\n",
    "\n",
    "dataset_all"
   ]
  },
  {
   "cell_type": "code",
   "execution_count": 51,
   "metadata": {},
   "outputs": [
    {
     "data": {
      "text/plain": [
       "<keras.src.callbacks.History at 0x27055b8eb10>"
      ]
     },
     "execution_count": 51,
     "metadata": {},
     "output_type": "execute_result"
    }
   ],
   "source": [
    "tf.random.set_seed(42)\n",
    "\n",
    "# Create model (nice and simple, just to test)\n",
    "model_9 = tf.keras.Sequential([\n",
    "  layers.Dense(128, activation=\"relu\"),\n",
    "  layers.Dense(128, activation=\"relu\"),\n",
    "  layers.Dense(HORIZON)\n",
    "])\n",
    "\n",
    "# Compile\n",
    "model_9.compile(loss=tf.keras.losses.mae,\n",
    "                optimizer=tf.keras.optimizers.Adam())\n",
    "\n",
    "# Fit model on all of the data to make future forecasts\n",
    "model_9.fit(dataset_all,\n",
    "            epochs=100,\n",
    "            verbose=0) # don't print out anything, we've seen this all before\n",
    "     "
   ]
  },
  {
   "cell_type": "code",
   "execution_count": 52,
   "metadata": {},
   "outputs": [],
   "source": [
    "# How many timesteps to predict into the future?\n",
    "INTO_FUTURE = 14 # since our Bitcoin data is daily, this is for 14 days\n"
   ]
  },
  {
   "cell_type": "code",
   "execution_count": 53,
   "metadata": {},
   "outputs": [],
   "source": [
    "# 1. Create function to make predictions into the future\n",
    "def make_future_forecast(values, model, into_future, window_size=WINDOW_SIZE) -> list:\n",
    "  \"\"\"\n",
    "  Makes future forecasts into_future steps after values ends.\n",
    "\n",
    "  Returns future forecasts as list of floats.\n",
    "  \"\"\"\n",
    "  # 2. Make an empty list for future forecasts/prepare data to forecast on\n",
    "  future_forecast = []\n",
    "  last_window = values[-WINDOW_SIZE:] # only want preds from the last window (this will get updated)\n",
    "\n",
    "  # 3. Make INTO_FUTURE number of predictions, altering the data which gets predicted on each time \n",
    "  for _ in range(into_future):\n",
    "    \n",
    "    # Predict on last window then append it again, again, again (model starts to make forecasts on its own forecasts)\n",
    "    future_pred = model.predict(tf.expand_dims(last_window, axis=0))\n",
    "    print(f\"Predicting on: \\n {last_window} -> Prediction: {tf.squeeze(future_pred).numpy()}\\n\")\n",
    "    \n",
    "    # Append predictions to future_forecast\n",
    "    future_forecast.append(tf.squeeze(future_pred).numpy())\n",
    "    # print(future_forecast)\n",
    "\n",
    "    # Update last window with new pred and get WINDOW_SIZE most recent preds (model was trained on WINDOW_SIZE windows)\n",
    "    last_window = np.append(last_window, future_pred)[-WINDOW_SIZE:]\n",
    "  \n",
    "  return future_forecast"
   ]
  },
  {
   "cell_type": "code",
   "execution_count": 54,
   "metadata": {},
   "outputs": [
    {
     "name": "stdout",
     "output_type": "stream",
     "text": [
      "1/1 [==============================] - 0s 58ms/step\n",
      "Predicting on: \n",
      " [39845.55078125 40077.07421875 39933.80859375 41816.87109375\n",
      " 42120.0546875  42035.59375    43208.69921875] -> Prediction: 40176.90234375\n",
      "\n",
      "1/1 [==============================] - 0s 14ms/step\n",
      "Predicting on: \n",
      " [40077.07421875 39933.80859375 41816.87109375 42120.0546875\n",
      " 42035.59375    43208.69921875 40176.90234375] -> Prediction: 40756.16796875\n",
      "\n",
      "1/1 [==============================] - 0s 13ms/step\n",
      "Predicting on: \n",
      " [39933.80859375 41816.87109375 42120.0546875  42035.59375\n",
      " 43208.69921875 40176.90234375 40756.16796875] -> Prediction: 41228.83984375\n",
      "\n",
      "1/1 [==============================] - 0s 14ms/step\n",
      "Predicting on: \n",
      " [41816.87109375 42120.0546875  42035.59375    43208.69921875\n",
      " 40176.90234375 40756.16796875 41228.83984375] -> Prediction: 42383.31640625\n",
      "\n",
      "1/1 [==============================] - 0s 16ms/step\n",
      "Predicting on: \n",
      " [42120.0546875  42035.59375    43208.69921875 40176.90234375\n",
      " 40756.16796875 41228.83984375 42383.31640625] -> Prediction: 42482.296875\n",
      "\n",
      "1/1 [==============================] - 0s 28ms/step\n",
      "Predicting on: \n",
      " [42035.59375    43208.69921875 40176.90234375 40756.16796875\n",
      " 41228.83984375 42383.31640625 42482.296875  ] -> Prediction: 42329.05859375\n",
      "\n",
      "1/1 [==============================] - 0s 19ms/step\n",
      "Predicting on: \n",
      " [43208.69921875 40176.90234375 40756.16796875 41228.83984375\n",
      " 42383.31640625 42482.296875   42329.05859375] -> Prediction: 42207.37890625\n",
      "\n",
      "1/1 [==============================] - 0s 15ms/step\n",
      "Predicting on: \n",
      " [40176.90234375 40756.16796875 41228.83984375 42383.31640625\n",
      " 42482.296875   42329.05859375 42207.37890625] -> Prediction: 40858.86328125\n",
      "\n",
      "1/1 [==============================] - 0s 13ms/step\n",
      "Predicting on: \n",
      " [40756.16796875 41228.83984375 42383.31640625 42482.296875\n",
      " 42329.05859375 42207.37890625 40858.86328125] -> Prediction: 41580.0234375\n",
      "\n",
      "1/1 [==============================] - 0s 13ms/step\n",
      "Predicting on: \n",
      " [41228.83984375 42383.31640625 42482.296875   42329.05859375\n",
      " 42207.37890625 40858.86328125 41580.0234375 ] -> Prediction: 42137.9140625\n",
      "\n",
      "1/1 [==============================] - 0s 13ms/step\n",
      "Predicting on: \n",
      " [42383.31640625 42482.296875   42329.05859375 42207.37890625\n",
      " 40858.86328125 41580.0234375  42137.9140625 ] -> Prediction: 42720.5390625\n",
      "\n",
      "1/1 [==============================] - 0s 14ms/step\n",
      "Predicting on: \n",
      " [42482.296875   42329.05859375 42207.37890625 40858.86328125\n",
      " 41580.0234375  42137.9140625  42720.5390625 ] -> Prediction: 42618.40234375\n",
      "\n",
      "1/1 [==============================] - 0s 19ms/step\n",
      "Predicting on: \n",
      " [42329.05859375 42207.37890625 40858.86328125 41580.0234375\n",
      " 42137.9140625  42720.5390625  42618.40234375] -> Prediction: 42333.53125\n",
      "\n",
      "1/1 [==============================] - 0s 20ms/step\n",
      "Predicting on: \n",
      " [42207.37890625 40858.86328125 41580.0234375  42137.9140625\n",
      " 42720.5390625  42618.40234375 42333.53125   ] -> Prediction: 42014.515625\n",
      "\n"
     ]
    }
   ],
   "source": [
    "\n",
    "# Make forecasts into future of the price of Bitcoin\n",
    "# Note: if you're reading this at a later date, you may already be in the future, so the forecasts \n",
    "# we're making may not actually be forecasts, if that's the case, readjust the training data.\n",
    "future_forecast = make_future_forecast(values=y_all,\n",
    "                                       model=model_9,\n",
    "                                       into_future=INTO_FUTURE,\n",
    "                                       window_size=WINDOW_SIZE)"
   ]
  },
  {
   "cell_type": "code",
   "execution_count": 55,
   "metadata": {},
   "outputs": [
    {
     "data": {
      "text/plain": [
       "[40176.902,\n",
       " 40756.168,\n",
       " 41228.84,\n",
       " 42383.316,\n",
       " 42482.297,\n",
       " 42329.06,\n",
       " 42207.38,\n",
       " 40858.863,\n",
       " 41580.023,\n",
       " 42137.914]"
      ]
     },
     "execution_count": 55,
     "metadata": {},
     "output_type": "execute_result"
    }
   ],
   "source": [
    "future_forecast[:10]\n"
   ]
  },
  {
   "cell_type": "code",
   "execution_count": 56,
   "metadata": {},
   "outputs": [],
   "source": [
    "def get_future_dates(start_date, into_future, offset=1):\n",
    "  \"\"\"\n",
    "  Returns array of datetime values from ranging from start_date to start_date+horizon.\n",
    "\n",
    "  start_date: date to start range (np.datetime64)\n",
    "  into_future: number of days to add onto start date for range (int)\n",
    "  offset: number of days to offset start_date by (default 1)\n",
    "  \"\"\"\n",
    "  start_date = start_date + np.timedelta64(offset, \"D\") # specify start date, \"D\" stands for day\n",
    "  end_date = start_date + np.timedelta64(into_future, \"D\") # specify end date\n",
    "  return np.arange(start_date, end_date, dtype=\"datetime64[D]\") # return a date range between start date and end date\n",
    "     \n"
   ]
  },
  {
   "cell_type": "code",
   "execution_count": 57,
   "metadata": {},
   "outputs": [
    {
     "data": {
      "text/plain": [
       "Timestamp('2024-01-30 00:00:00')"
      ]
     },
     "execution_count": 57,
     "metadata": {},
     "output_type": "execute_result"
    }
   ],
   "source": [
    "\n",
    "# Last timestep of timesteps (currently in np.datetime64 format)\n",
    "last_timestep = bitcoin_prices.index[-1]\n",
    "last_timestep\n"
   ]
  },
  {
   "cell_type": "code",
   "execution_count": 58,
   "metadata": {},
   "outputs": [
    {
     "data": {
      "text/plain": [
       "array(['2024-01-31', '2024-02-01', '2024-02-02', '2024-02-03',\n",
       "       '2024-02-04', '2024-02-05', '2024-02-06', '2024-02-07',\n",
       "       '2024-02-08', '2024-02-09', '2024-02-10', '2024-02-11',\n",
       "       '2024-02-12', '2024-02-13'], dtype='datetime64[D]')"
      ]
     },
     "execution_count": 58,
     "metadata": {},
     "output_type": "execute_result"
    }
   ],
   "source": [
    "\n",
    "# Get next two weeks of timesteps\n",
    "next_time_steps = get_future_dates(start_date=last_timestep, \n",
    "                                   into_future=INTO_FUTURE)\n",
    "next_time_steps"
   ]
  },
  {
   "cell_type": "code",
   "execution_count": 59,
   "metadata": {},
   "outputs": [
    {
     "data": {
      "text/plain": [
       "(array(['2024-01-30', '2024-01-31', '2024-02-01', '2024-02-02',\n",
       "        '2024-02-03', '2024-02-04', '2024-02-05', '2024-02-06',\n",
       "        '2024-02-07', '2024-02-08', '2024-02-09', '2024-02-10',\n",
       "        '2024-02-11', '2024-02-12', '2024-02-13'], dtype='datetime64[D]'),\n",
       " array([43208.7  , 40176.902, 40756.168, 41228.84 , 42383.316, 42482.297,\n",
       "        42329.06 , 42207.38 , 40858.863, 41580.023, 42137.914, 42720.54 ,\n",
       "        42618.402, 42333.53 , 42014.516], dtype=float32))"
      ]
     },
     "execution_count": 59,
     "metadata": {},
     "output_type": "execute_result"
    }
   ],
   "source": [
    "\n",
    "# Insert last timestep/final price so the graph doesn't look messed\n",
    "next_time_steps = np.insert(next_time_steps, 0, last_timestep)\n",
    "future_forecast = np.insert(future_forecast, 0, btc_price[-1])\n",
    "next_time_steps, future_forecast"
   ]
  },
  {
   "cell_type": "code",
   "execution_count": 60,
   "metadata": {},
   "outputs": [
    {
     "data": {
      "image/png": "[encoded data removed]",
      "text/plain": [
       "<Figure size 1000x700 with 1 Axes>"
      ]
     },
     "metadata": {},
     "output_type": "display_data"
    }
   ],
   "source": [
    "# Plot future price predictions of Bitcoin\n",
    "plt.figure(figsize=(10, 7))\n",
    "plot_time_series(bitcoin_prices.index, btc_price, start=2500, format=\"-\", label=\"Actual BTC Price\")\n",
    "plot_time_series(next_time_steps, future_forecast, format=\"-\", label=\"Predicted BTC Price\")\n"
   ]
  },
  {
   "cell_type": "code",
   "execution_count": 61,
   "metadata": {},
   "outputs": [
    {
     "data": {
      "text/html": [
       "<div>\n",
       "<style scoped>\n",
       "    .dataframe tbody tr th:only-of-type {\n",
       "        vertical-align: middle;\n",
       "    }\n",
       "\n",
       "    .dataframe tbody tr th {\n",
       "        vertical-align: top;\n",
       "    }\n",
       "\n",
       "    .dataframe thead th {\n",
       "        text-align: right;\n",
       "    }\n",
       "</style>\n",
       "<table border=\"1\" class=\"dataframe\">\n",
       "  <thead>\n",
       "    <tr style=\"text-align: right;\">\n",
       "      <th></th>\n",
       "      <th>Price</th>\n",
       "    </tr>\n",
       "    <tr>\n",
       "      <th>Date</th>\n",
       "      <th></th>\n",
       "    </tr>\n",
       "  </thead>\n",
       "  <tbody>\n",
       "    <tr>\n",
       "      <th>2024-01-30</th>\n",
       "      <td>43208.699219</td>\n",
       "    </tr>\n",
       "    <tr>\n",
       "      <th>2024-01-31</th>\n",
       "      <td>40176.902344</td>\n",
       "    </tr>\n",
       "    <tr>\n",
       "      <th>2024-02-01</th>\n",
       "      <td>40756.167969</td>\n",
       "    </tr>\n",
       "    <tr>\n",
       "      <th>2024-02-02</th>\n",
       "      <td>41228.839844</td>\n",
       "    </tr>\n",
       "    <tr>\n",
       "      <th>2024-02-03</th>\n",
       "      <td>42383.316406</td>\n",
       "    </tr>\n",
       "    <tr>\n",
       "      <th>2024-02-04</th>\n",
       "      <td>42482.296875</td>\n",
       "    </tr>\n",
       "    <tr>\n",
       "      <th>2024-02-05</th>\n",
       "      <td>42329.058594</td>\n",
       "    </tr>\n",
       "    <tr>\n",
       "      <th>2024-02-06</th>\n",
       "      <td>42207.378906</td>\n",
       "    </tr>\n",
       "    <tr>\n",
       "      <th>2024-02-07</th>\n",
       "      <td>40858.863281</td>\n",
       "    </tr>\n",
       "    <tr>\n",
       "      <th>2024-02-08</th>\n",
       "      <td>41580.023438</td>\n",
       "    </tr>\n",
       "    <tr>\n",
       "      <th>2024-02-09</th>\n",
       "      <td>42137.914062</td>\n",
       "    </tr>\n",
       "    <tr>\n",
       "      <th>2024-02-10</th>\n",
       "      <td>42720.539062</td>\n",
       "    </tr>\n",
       "    <tr>\n",
       "      <th>2024-02-11</th>\n",
       "      <td>42618.402344</td>\n",
       "    </tr>\n",
       "    <tr>\n",
       "      <th>2024-02-12</th>\n",
       "      <td>42333.531250</td>\n",
       "    </tr>\n",
       "    <tr>\n",
       "      <th>2024-02-13</th>\n",
       "      <td>42014.515625</td>\n",
       "    </tr>\n",
       "  </tbody>\n",
       "</table>\n",
       "</div>"
      ],
      "text/plain": [
       "                   Price\n",
       "Date                    \n",
       "2024-01-30  43208.699219\n",
       "2024-01-31  40176.902344\n",
       "2024-02-01  40756.167969\n",
       "2024-02-02  41228.839844\n",
       "2024-02-03  42383.316406\n",
       "2024-02-04  42482.296875\n",
       "2024-02-05  42329.058594\n",
       "2024-02-06  42207.378906\n",
       "2024-02-07  40858.863281\n",
       "2024-02-08  41580.023438\n",
       "2024-02-09  42137.914062\n",
       "2024-02-10  42720.539062\n",
       "2024-02-11  42618.402344\n",
       "2024-02-12  42333.531250\n",
       "2024-02-13  42014.515625"
      ]
     },
     "execution_count": 61,
     "metadata": {},
     "output_type": "execute_result"
    }
   ],
   "source": [
    "#future forecastın tarihlerini ve fiyatları bana yaz\n",
    "future_forecast = pd.DataFrame(future_forecast, columns=[\"Price\"])\n",
    "future_forecast[\"Date\"] = next_time_steps\n",
    "future_forecast.set_index(\"Date\", inplace=True)\n",
    "future_forecast\n"
   ]
  },
  {
   "cell_type": "code",
   "execution_count": null,
   "metadata": {},
   "outputs": [],
   "source": []
  }
 ],
 "metadata": {
  "kernelspec": {
   "display_name": "all",
   "language": "python",
   "name": "python3"
  },
  "language_info": {
   "codemirror_mode": {
    "name": "ipython",
    "version": 3
   },
   "file_extension": ".py",
   "mimetype": "text/x-python",
   "name": "python",
   "nbconvert_exporter": "python",
   "pygments_lexer": "ipython3",
   "version": "3.11.5"
  }
 },
 "nbformat": 4,
 "nbformat_minor": 2
}
