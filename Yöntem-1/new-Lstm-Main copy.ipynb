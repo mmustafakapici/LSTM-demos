{
 "cells": [
  {
   "cell_type": "code",
   "execution_count": 1,
   "metadata": {},
   "outputs": [],
   "source": [
    "# Gerekli kütüphanelerin içe aktarılması\n",
    "import yfinance as yf  # Finansal veri indirmek için\n",
    "import numpy as np  # Sayısal işlemler için\n",
    "from sklearn.preprocessing import MinMaxScaler  # Veri ölçeklendirmek için\n",
    "from tensorflow.keras.models import Sequential  # Model oluşturmak için\n",
    "from tensorflow.keras.layers import LSTM, Dense, Dropout , Activation, BatchNormalization # Model katmanları\n",
    "from tensorflow.keras.callbacks import EarlyStopping , ReduceLROnPlateau # Model eğitimini durdurmak için\n",
    "from tensorflow.keras.regularizers import l1, l2\n",
    "\n",
    "from sklearn.metrics import mean_squared_error  , mean_absolute_error , r2_score  # Hata ölçümü için\n",
    "import mplfinance as mpf  # Finansal verileri görselleştirmek için\n",
    "import pandas as pd  # Veri işleme için\n",
    "import plotly.graph_objects as go"
   ]
  },
  {
   "cell_type": "code",
   "execution_count": 2,
   "metadata": {},
   "outputs": [
    {
     "data": {
      "text/plain": [
       "'/device:DML:0'"
      ]
     },
     "execution_count": 2,
     "metadata": {},
     "output_type": "execute_result"
    }
   ],
   "source": [
    "#tensorflow gpu var mı yok mu kontrolü\n",
    "import tensorflow as tf\n",
    "tf.test.gpu_device_name()\n"
   ]
  },
  {
   "cell_type": "code",
   "execution_count": 3,
   "metadata": {},
   "outputs": [
    {
     "name": "stdout",
     "output_type": "stream",
     "text": [
      "[*********************100%***********************]  1 of 1 completed\n"
     ]
    }
   ],
   "source": [
    "# Veri Toplama\n",
    "btc_data = yf.download('BTC-USD', period='3600d')  # Bitcoin verilerini yfinance ile indirme\n",
    "#btc_data"
   ]
  },
  {
   "cell_type": "code",
   "execution_count": 4,
   "metadata": {},
   "outputs": [],
   "source": [
    "# İndirilen Verileri Mum Çubukları ile Görselleştirme\n",
    "#mpf.plot(btc_data, type='candle', volume=True, style='yahoo', title='BTC-USD') "
   ]
  },
  {
   "cell_type": "code",
   "execution_count": 5,
   "metadata": {},
   "outputs": [],
   "source": [
    "# Veri Hazırlama\n",
    "btc_df = btc_data[['Open', 'High', 'Low', 'Close' , 'Adj Close', 'Volume']]  # İlgili sütunların seçilmesi\n"
   ]
  },
  {
   "cell_type": "code",
   "execution_count": 6,
   "metadata": {},
   "outputs": [],
   "source": [
    "#zero base normalization\n",
    "btc_df['Open'] = btc_df['Open'] / btc_df['Open'].iloc[0] - 1"
   ]
  },
  {
   "cell_type": "code",
   "execution_count": 7,
   "metadata": {},
   "outputs": [],
   "source": [
    "scaler = MinMaxScaler(feature_range=(0, 1))  # Ölçekleyici tanımlama\n",
    "scaled_data = scaler.fit_transform(btc_df)  # Verilerin ölçeklendirilmesi\n"
   ]
  },
  {
   "cell_type": "code",
   "execution_count": 8,
   "metadata": {},
   "outputs": [],
   "source": [
    "\n",
    "# Zaman serisi veri seti oluşturma fonksiyonu\n",
    "def create_dataset(dataset, time_step=1):\n",
    "    dataX, dataY = [], []\n",
    "    for i in range(len(dataset) - time_step - 1):\n",
    "        a = dataset[i:(i + time_step), 0:]  # Girdi verileri\n",
    "        dataX.append(a)\n",
    "        dataY.append(dataset[i + time_step, 0:])  # Çıktı verileri\n",
    "    return np.array(dataX), np.array(dataY)\n",
    "\n",
    "time_step = 7  # Zaman adımı\n",
    "X, y = create_dataset(scaled_data, time_step)  # X ve y veri setlerinin oluşturulması\n",
    "\n",
    "\n"
   ]
  },
  {
   "cell_type": "code",
   "execution_count": 9,
   "metadata": {},
   "outputs": [],
   "source": [
    "# Veri setini eğitim ve test setlerine ayırma\n",
    "test_size = 300  # Test setinin boyutu\n",
    "train_size = int(len(X) - test_size)  # Eğitim setinin boyutu\n",
    "X_train, X_test = X[0:train_size,:,:], X[train_size:len(X),:,:]  # Eğitim ve test girdileri\n",
    "y_train, y_test = y[0:train_size,:], y[train_size:len(y),:]  # Eğitim ve test çıktıları\n"
   ]
  },
  {
   "cell_type": "code",
   "execution_count": 10,
   "metadata": {},
   "outputs": [],
   "source": [
    "units1 = 500  # İlk LSTM katmanı için birim sayısı\n",
    "units2 = units1*2  # İkinci LSTM katmanı için birim sayısı\n",
    "units3 = units1  # Yoğun katmanlar için birim sayısı\n",
    "units3 = units1/2  # Yoğun katmanlar için birim sayısı\n",
    "units4 = units3/2  # Yoğun katmanlar için birim sayısı\n",
    "units5 = units4/2  # Yoğun katmanlar için birim sayısı\n",
    "\n",
    "\n",
    "dropout = 0.2  # Dropout oranı\n",
    "batch_size = X_train.shape[0] / 3 # Batch boyutu\n",
    "batch_size = int(batch_size)\n",
    "activation = 'relu'  # Aktivasyon fonksiyonu\n",
    "epochs = 50  # Eğitim sayısı"
   ]
  },
  {
   "cell_type": "code",
   "execution_count": 11,
   "metadata": {},
   "outputs": [
    {
     "data": {
      "text/plain": [
       "(7, 6)"
      ]
     },
     "execution_count": 11,
     "metadata": {},
     "output_type": "execute_result"
    }
   ],
   "source": [
    "input_shape=(X_train.shape[1], 6)\n",
    "input_shape"
   ]
  },
  {
   "cell_type": "code",
   "execution_count": 12,
   "metadata": {},
   "outputs": [
    {
     "name": "stdout",
     "output_type": "stream",
     "text": [
      "WARNING:tensorflow:From c:\\Users\\mmust\\anaconda3\\envs\\directML\\lib\\site-packages\\tensorflow_core\\python\\ops\\resource_variable_ops.py:1630: calling BaseResourceVariable.__init__ (from tensorflow.python.ops.resource_variable_ops) with constraint is deprecated and will be removed in a future version.\n",
      "Instructions for updating:\n",
      "If using Keras pass *_constraint arguments to layers.\n"
     ]
    }
   ],
   "source": [
    "model = Sequential()  # Model oluşturma\n",
    "model.add(LSTM(units=units1, return_sequences=True, input_shape=input_shape))  # LSTM katmanı\n",
    "\n",
    "model.add(LSTM(units=units2, return_sequences=False))  # LSTM katmanı\n",
    "\n",
    "\n",
    "\n",
    "\n",
    "model.add(Dense(units=units4))  # Yoğun katman\n",
    "model.add(BatchNormalization())  # Batch Normalization katmanı\n",
    "model.add(Activation(activation))  # Aktivasyon katmanı\n",
    "model.add(Dropout(dropout))  # Dropout katmanı\n",
    "\n",
    "model.add(Dense(units=units5))  # Yoğun katman\n",
    "model.add(BatchNormalization())  # Batch Normalization katmanı\n",
    "model.add(Activation(activation))  # Aktivasyon katmanı\n",
    "model.add(Dropout(dropout))  # Dropout katmanı\n",
    "\n",
    "model.add(Dense(units=6))  # Yoğun katman\n",
    "\n",
    "\n",
    "model.compile(optimizer='adam', loss='mean_squared_error')  # Model derleme\n",
    "\n"
   ]
  },
  {
   "cell_type": "code",
   "execution_count": 13,
   "metadata": {},
   "outputs": [
    {
     "name": "stdout",
     "output_type": "stream",
     "text": [
      "Model: \"sequential\"\n",
      "_________________________________________________________________\n",
      "Layer (type)                 Output Shape              Param #   \n",
      "=================================================================\n",
      "lstm (LSTM)                  (None, 7, 500)            1014000   \n",
      "_________________________________________________________________\n",
      "lstm_1 (LSTM)                (None, 1000)              6004000   \n",
      "_________________________________________________________________\n",
      "dense (Dense)                (None, 125)               125125    \n",
      "_________________________________________________________________\n",
      "batch_normalization (BatchNo (None, 125)               500       \n",
      "_________________________________________________________________\n",
      "activation (Activation)      (None, 125)               0         \n",
      "_________________________________________________________________\n",
      "dropout (Dropout)            (None, 125)               0         \n",
      "_________________________________________________________________\n",
      "dense_1 (Dense)              (None, 62)                7812      \n",
      "_________________________________________________________________\n",
      "batch_normalization_1 (Batch (None, 62)                248       \n",
      "_________________________________________________________________\n",
      "activation_1 (Activation)    (None, 62)                0         \n",
      "_________________________________________________________________\n",
      "dropout_1 (Dropout)          (None, 62)                0         \n",
      "_________________________________________________________________\n",
      "dense_2 (Dense)              (None, 6)                 378       \n",
      "=================================================================\n",
      "Total params: 7,152,063\n",
      "Trainable params: 7,151,689\n",
      "Non-trainable params: 374\n",
      "_________________________________________________________________\n"
     ]
    }
   ],
   "source": [
    "\n",
    "\n",
    "model.summary()  # Model özeti"
   ]
  },
  {
   "cell_type": "code",
   "execution_count": 14,
   "metadata": {},
   "outputs": [],
   "source": [
    "early_stopping = EarlyStopping(monitor='val_loss',  # İzlenecek metrik\n",
    "                               patience=5,          # Metrikte iyileşme olmadığı durumda kaç epoch bekleyeceği\n",
    "                               verbose=1,           # Eğitim durdurulduğunda bilgi vermesi\n",
    "                               restore_best_weights=True)  # En iyi ağırlıkları geri yükleme\n",
    "# ReduceLROnPlateau callback'ini ayarlama\n",
    "reduce_lr = ReduceLROnPlateau(monitor='val_loss',\n",
    "                              factor=0.2,  # Öğrenme oranını ne kadar azaltacağı\n",
    "                              patience=3,  # Kaç epoch boyunca iyileşme olmadığında öğrenme oranını azaltacağı\n",
    "                              min_lr=0.001,  # Öğrenme oranının düşebileceği minimum değer\n",
    "                              verbose=1)"
   ]
  },
  {
   "cell_type": "code",
   "execution_count": 15,
   "metadata": {},
   "outputs": [
    {
     "name": "stdout",
     "output_type": "stream",
     "text": [
      "WARNING:tensorflow:From c:\\Users\\mmust\\anaconda3\\envs\\directML\\lib\\site-packages\\tensorflow_core\\python\\ops\\math_grad.py:1424: where (from tensorflow.python.ops.array_ops) is deprecated and will be removed in a future version.\n",
      "Instructions for updating:\n",
      "Use tf.where in 2.0, which has the same broadcast rule as np.where\n",
      "Train on 3079 samples, validate on 300 samples\n",
      "Epoch 1/50\n",
      "3079/3079 [==============================] - 3s 1ms/sample - loss: 1.1995 - val_loss: 0.1543\n",
      "Epoch 2/50\n",
      "3079/3079 [==============================] - 1s 297us/sample - loss: 0.6838 - val_loss: 0.1635\n",
      "Epoch 3/50\n",
      "3079/3079 [==============================] - 1s 306us/sample - loss: 0.5265 - val_loss: 0.1584\n",
      "Epoch 4/50\n",
      "3078/3079 [============================>.] - ETA: 0s - loss: 0.4569\n",
      "Epoch 00004: ReduceLROnPlateau reducing learning rate to 0.001.\n",
      "3079/3079 [==============================] - 1s 324us/sample - loss: 0.4568 - val_loss: 0.1594\n",
      "Epoch 5/50\n",
      "3079/3079 [==============================] - 1s 296us/sample - loss: 0.3815 - val_loss: 0.1590\n",
      "Epoch 6/50\n",
      "3079/3079 [==============================] - 1s 300us/sample - loss: 0.3483 - val_loss: 0.1401\n",
      "Epoch 7/50\n",
      "3079/3079 [==============================] - 1s 301us/sample - loss: 0.3121 - val_loss: 0.1215\n",
      "Epoch 8/50\n",
      "3079/3079 [==============================] - 1s 294us/sample - loss: 0.2808 - val_loss: 0.1208\n",
      "Epoch 9/50\n",
      "3079/3079 [==============================] - 1s 293us/sample - loss: 0.2703 - val_loss: 0.1209\n",
      "Epoch 10/50\n",
      "3079/3079 [==============================] - 1s 300us/sample - loss: 0.2495 - val_loss: 0.1147\n",
      "Epoch 11/50\n",
      "3079/3079 [==============================] - 1s 291us/sample - loss: 0.2282 - val_loss: 0.1149\n",
      "Epoch 12/50\n",
      "3079/3079 [==============================] - 1s 296us/sample - loss: 0.2149 - val_loss: 0.1084\n",
      "Epoch 13/50\n",
      "3079/3079 [==============================] - 1s 298us/sample - loss: 0.2163 - val_loss: 0.0986\n",
      "Epoch 14/50\n",
      "3079/3079 [==============================] - 1s 300us/sample - loss: 0.1987 - val_loss: 0.0930\n",
      "Epoch 15/50\n",
      "3079/3079 [==============================] - 1s 303us/sample - loss: 0.2012 - val_loss: 0.0890\n",
      "Epoch 16/50\n",
      "3079/3079 [==============================] - 1s 296us/sample - loss: 0.2053 - val_loss: 0.0837\n",
      "Epoch 17/50\n",
      "3079/3079 [==============================] - 1s 298us/sample - loss: 0.1786 - val_loss: 0.0772\n",
      "Epoch 18/50\n",
      "3079/3079 [==============================] - 1s 289us/sample - loss: 0.1803 - val_loss: 0.0778\n",
      "Epoch 19/50\n",
      "3079/3079 [==============================] - 1s 299us/sample - loss: 0.1718 - val_loss: 0.0765\n",
      "Epoch 20/50\n",
      "3079/3079 [==============================] - 1s 294us/sample - loss: 0.1672 - val_loss: 0.0778\n",
      "Epoch 21/50\n",
      "3079/3079 [==============================] - 1s 298us/sample - loss: 0.1440 - val_loss: 0.0771\n",
      "Epoch 22/50\n",
      "3079/3079 [==============================] - 1s 300us/sample - loss: 0.1633 - val_loss: 0.0719\n",
      "Epoch 23/50\n",
      "3079/3079 [==============================] - 1s 296us/sample - loss: 0.1513 - val_loss: 0.0716\n",
      "Epoch 24/50\n",
      "3079/3079 [==============================] - 1s 297us/sample - loss: 0.1484 - val_loss: 0.0744\n",
      "Epoch 25/50\n",
      "3079/3079 [==============================] - 1s 298us/sample - loss: 0.1404 - val_loss: 0.0621\n",
      "Epoch 26/50\n",
      "3079/3079 [==============================] - 1s 297us/sample - loss: 0.1389 - val_loss: 0.0585\n",
      "Epoch 27/50\n",
      "3079/3079 [==============================] - 1s 289us/sample - loss: 0.1342 - val_loss: 0.0589\n",
      "Epoch 28/50\n",
      "3079/3079 [==============================] - 1s 298us/sample - loss: 0.1299 - val_loss: 0.0583\n",
      "Epoch 29/50\n",
      "3079/3079 [==============================] - 1s 295us/sample - loss: 0.1252 - val_loss: 0.0558\n",
      "Epoch 30/50\n",
      "3079/3079 [==============================] - 1s 295us/sample - loss: 0.1218 - val_loss: 0.0493\n",
      "Epoch 31/50\n",
      "3079/3079 [==============================] - 1s 298us/sample - loss: 0.1032 - val_loss: 0.0512\n",
      "Epoch 32/50\n",
      "3079/3079 [==============================] - 1s 298us/sample - loss: 0.1084 - val_loss: 0.0615\n",
      "Epoch 33/50\n",
      "3079/3079 [==============================] - 1s 297us/sample - loss: 0.1030 - val_loss: 0.0395\n",
      "Epoch 34/50\n",
      "3079/3079 [==============================] - 1s 292us/sample - loss: 0.1088 - val_loss: 0.0437\n",
      "Epoch 35/50\n",
      "3079/3079 [==============================] - 1s 301us/sample - loss: 0.0934 - val_loss: 0.0329\n",
      "Epoch 36/50\n",
      "3079/3079 [==============================] - 1s 297us/sample - loss: 0.0989 - val_loss: 0.0382\n",
      "Epoch 37/50\n",
      "3079/3079 [==============================] - 1s 297us/sample - loss: 0.0887 - val_loss: 0.0388\n",
      "Epoch 38/50\n",
      "3079/3079 [==============================] - 1s 302us/sample - loss: 0.0856 - val_loss: 0.0302\n",
      "Epoch 39/50\n",
      "3079/3079 [==============================] - 1s 296us/sample - loss: 0.0811 - val_loss: 0.0321\n",
      "Epoch 40/50\n",
      "3079/3079 [==============================] - 1s 295us/sample - loss: 0.0848 - val_loss: 0.0176\n",
      "Epoch 41/50\n",
      "3079/3079 [==============================] - 1s 298us/sample - loss: 0.0766 - val_loss: 0.0281\n",
      "Epoch 42/50\n",
      "3079/3079 [==============================] - 1s 306us/sample - loss: 0.0730 - val_loss: 0.0164\n",
      "Epoch 43/50\n",
      "3079/3079 [==============================] - 1s 305us/sample - loss: 0.0793 - val_loss: 0.0194\n",
      "Epoch 44/50\n",
      "3079/3079 [==============================] - 1s 297us/sample - loss: 0.0706 - val_loss: 0.0258\n",
      "Epoch 45/50\n",
      "3078/3079 [============================>.] - ETA: 0s - loss: 0.0736\n",
      "Epoch 00045: ReduceLROnPlateau reducing learning rate to 0.001.\n",
      "3079/3079 [==============================] - 1s 294us/sample - loss: 0.0736 - val_loss: 0.0164\n",
      "Epoch 46/50\n",
      "3079/3079 [==============================] - 1s 290us/sample - loss: 0.0653 - val_loss: 0.0280\n",
      "Epoch 47/50\n",
      "3079/3079 [==============================] - 1s 303us/sample - loss: 0.0725 - val_loss: 0.0037\n",
      "Epoch 48/50\n",
      "3079/3079 [==============================] - 1s 294us/sample - loss: 0.0720 - val_loss: 0.0055\n",
      "Epoch 49/50\n",
      "3079/3079 [==============================] - 1s 299us/sample - loss: 0.0625 - val_loss: 0.0143\n",
      "Epoch 50/50\n",
      "3078/3079 [============================>.] - ETA: 0s - loss: 0.0612\n",
      "Epoch 00050: ReduceLROnPlateau reducing learning rate to 0.001.\n",
      "3079/3079 [==============================] - 1s 296us/sample - loss: 0.0612 - val_loss: 0.0102\n"
     ]
    }
   ],
   "source": [
    "\n",
    "# Modeli Eğitme ve Tahmin Yapma\n",
    "history = model.fit(X_train, y_train, \n",
    "                    validation_data=(X_test,y_test) , \n",
    "                    epochs=epochs, batch_size= batch_size, \n",
    "                    verbose=1,  \n",
    "                    callbacks=[early_stopping , reduce_lr])  # Model eğitimi\n"
   ]
  },
  {
   "cell_type": "code",
   "execution_count": 16,
   "metadata": {},
   "outputs": [
    {
     "data": {
      "image/png": "[encoded data removed]",
      "text/plain": [
       "<Figure size 432x288 with 1 Axes>"
      ]
     },
     "metadata": {
      "needs_background": "light"
     },
     "output_type": "display_data"
    }
   ],
   "source": [
    "# Modelin Eğitim ve Test Hata Grafiği\n",
    "import matplotlib.pyplot as plt\n",
    "plt.plot(history.history['loss'], label='Eğitim Verisi')\n",
    "plt.plot(history.history['val_loss'], label='Test Verisi')\n",
    "plt.title('Model Hatası')\n",
    "plt.ylabel('Hata')\n",
    "plt.xlabel('Epoch')\n",
    "plt.legend(loc='upper right')\n",
    "plt.show()"
   ]
  },
  {
   "cell_type": "code",
   "execution_count": 17,
   "metadata": {},
   "outputs": [
    {
     "name": "stdout",
     "output_type": "stream",
     "text": [
      "300/300 [==============================] - 1s 3ms/sample - loss: 0.0102\n"
     ]
    },
    {
     "data": {
      "text/plain": [
       "0.010219183638691903"
      ]
     },
     "execution_count": 17,
     "metadata": {},
     "output_type": "execute_result"
    }
   ],
   "source": [
    "model.evaluate(X_test, y_test)  # Test verileri ile modelin performansını ölçme\n",
    "# bu ne  ? yüksek çıkması iyi mi kötü mü ?\n"
   ]
  },
  {
   "cell_type": "code",
   "execution_count": 18,
   "metadata": {},
   "outputs": [],
   "source": [
    "predictions = model.predict(X_test).squeeze() # Test verisi üzerinde tahmin yapma\n",
    "#predictions = scaler.inverse_transform(predictions)  # Tahminlerin ölçeklendirilmesinin tersine çevrilmesi\n"
   ]
  },
  {
   "cell_type": "code",
   "execution_count": 19,
   "metadata": {},
   "outputs": [
    {
     "name": "stdout",
     "output_type": "stream",
     "text": [
      "MSE:  0.01021918449860129\n",
      "MAE:  0.09373028004743111\n",
      "R2:  -9.964493023838942\n"
     ]
    }
   ],
   "source": [
    "# Sonuçların Değerlendirilmesi\n",
    "#predictions = scaler.inverse_transform(predictions)  # Tahminlerin ölçeklendirilmesinin tersine çevrilmesi\n",
    "#y_test_scaled = scaler.inverse_transform(y_test)  # Gerçek test verilerinin ölçeklendirilmesinin tersine çevrilmesi\n",
    "\n",
    "\n",
    "MSE = mean_squared_error( predictions , y_test)  # Hata ölçümü\n",
    "MAE = mean_absolute_error( predictions ,y_test)  # Hata ölçümü\n",
    "R2 = r2_score(predictions ,y_test)  # Hata ölçümü\n",
    "print('MSE: ', MSE)\n",
    "print('MAE: ', MAE)\n",
    "print('R2: ', R2)\n"
   ]
  },
  {
   "cell_type": "code",
   "execution_count": 20,
   "metadata": {},
   "outputs": [],
   "source": [
    "predictions = scaler.inverse_transform(predictions)  # Tahminlerin ölçeklendirilmesinin tersine çevrilmesi\n"
   ]
  },
  {
   "cell_type": "code",
   "execution_count": 21,
   "metadata": {},
   "outputs": [],
   "source": [
    "# Tahmin Edilen Verileri Mum Çubukları ile Görselleştirme\n",
    "predicted_df = pd.DataFrame(predictions, columns=['Open', 'High', 'Low', 'Close' , 'Adj Close', 'Volume'])  # Tahminlerin DataFrame'e dönüştürülmesi\n",
    "predicted_df['Date'] = pd.date_range(start=btc_data.index[-len(predictions)], periods=len(predictions), freq='D')  # Tarih sütununun eklenmesi\n",
    "predicted_df.set_index('Date', inplace=True)  # Tarihin indeks olarak ayarlanması\n"
   ]
  },
  {
   "cell_type": "code",
   "execution_count": 22,
   "metadata": {},
   "outputs": [],
   "source": [
    "#mpf.plot(predicted_df, type='candle', volume=True, style='yahoo', title='BTC-USD')  # Gerçek verilerin görselleştirilmesi"
   ]
  },
  {
   "cell_type": "code",
   "execution_count": 23,
   "metadata": {},
   "outputs": [],
   "source": [
    "def prepare_data_for_forecasting(latest_data, time_step):\n",
    "    # Son kullanılabilir verileri al ve ölçeklendir\n",
    "    last_scaled_data = scaler.transform(latest_data)\n",
    "\n",
    "    # Son verileri model girdisi olarak hazırla\n",
    "    X = []\n",
    "    for i in range(len(last_scaled_data) - time_step):\n",
    "        X.append(last_scaled_data[i:i + time_step, 0:])\n",
    "\n",
    "    return np.array(X)\n"
   ]
  },
  {
   "cell_type": "code",
   "execution_count": 24,
   "metadata": {},
   "outputs": [],
   "source": [
    "def predict_future_prices(model, prepared_data, days_to_predict):\n",
    "    predictions = []\n",
    "\n",
    "    # Son verileri kullanarak gelecek günler için tahmin yap\n",
    "    current_batch = prepared_data[-1].reshape(1, prepared_data.shape[1], 6)\n",
    "\n",
    "    for i in range(days_to_predict):\n",
    "        # Tahmin yap ve sonucu sakla\n",
    "        current_pred = model.predict(current_batch)[0]\n",
    "        predictions.append(current_pred)\n",
    "        \n",
    "        # Sonraki tahmin için girdiyi güncelle\n",
    "        current_batch = np.append(current_batch[:,1:,:],[[current_pred]],axis=1)\n",
    "\n",
    "    return scaler.inverse_transform(predictions)\n"
   ]
  },
  {
   "cell_type": "code",
   "execution_count": 25,
   "metadata": {},
   "outputs": [],
   "source": [
    "#btc_data = yf.download('BTC-USD', period='6000d')  # Bitcoin verilerini yfinance ile indirme\n"
   ]
  },
  {
   "cell_type": "code",
   "execution_count": 26,
   "metadata": {},
   "outputs": [],
   "source": [
    "days_to_predict = 7  # Kaç gün sonrası için tahmin yapılacağı\n",
    "\n",
    "btc_data_son_x = btc_data[-days_to_predict:]\n",
    "\n",
    "\n",
    "#btc_datadan son 30 günü sil (göz ile test için)\n",
    "btc_data = btc_data[:-days_to_predict]\n",
    "\n",
    "\n",
    "# Son kullanılabilir verileri al (örneğin son 100 gün)\n",
    "latest_data = btc_data\n",
    "\n",
    "# Verileri hazırla\n",
    "prepared_data = prepare_data_for_forecasting(latest_data, time_step=time_step) # Son 100 gündeki verileri kullanarak gelecek 30 gün için tahmin yap\n",
    "\n",
    "# Gelecek 30 gün için tahmin yap\n",
    "future_predictions = predict_future_prices(model, prepared_data, days_to_predict=days_to_predict) # Son 100 gündeki verileri kullanarak gelecek 30 gün için tahmin yapar\n",
    "\n"
   ]
  },
  {
   "cell_type": "code",
   "execution_count": 27,
   "metadata": {},
   "outputs": [
    {
     "data": {
      "text/html": [
       "<div>\n",
       "<style scoped>\n",
       "    .dataframe tbody tr th:only-of-type {\n",
       "        vertical-align: middle;\n",
       "    }\n",
       "\n",
       "    .dataframe tbody tr th {\n",
       "        vertical-align: top;\n",
       "    }\n",
       "\n",
       "    .dataframe thead th {\n",
       "        text-align: right;\n",
       "    }\n",
       "</style>\n",
       "<table border=\"1\" class=\"dataframe\">\n",
       "  <thead>\n",
       "    <tr style=\"text-align: right;\">\n",
       "      <th></th>\n",
       "      <th>Open</th>\n",
       "      <th>High</th>\n",
       "      <th>Low</th>\n",
       "      <th>Close</th>\n",
       "      <th>Adj Close</th>\n",
       "      <th>Volume</th>\n",
       "    </tr>\n",
       "    <tr>\n",
       "      <th>Date</th>\n",
       "      <th></th>\n",
       "      <th></th>\n",
       "      <th></th>\n",
       "      <th></th>\n",
       "      <th></th>\n",
       "      <th></th>\n",
       "    </tr>\n",
       "  </thead>\n",
       "  <tbody>\n",
       "    <tr>\n",
       "      <th>2023-12-18</th>\n",
       "      <td>240.816592</td>\n",
       "      <td>67656.593963</td>\n",
       "      <td>96605.888817</td>\n",
       "      <td>146954.552340</td>\n",
       "      <td>93165.931588</td>\n",
       "      <td>1.226620e+11</td>\n",
       "    </tr>\n",
       "    <tr>\n",
       "      <th>2023-12-19</th>\n",
       "      <td>244.071010</td>\n",
       "      <td>68295.357123</td>\n",
       "      <td>96881.446193</td>\n",
       "      <td>148449.673484</td>\n",
       "      <td>93405.020509</td>\n",
       "      <td>1.279187e+11</td>\n",
       "    </tr>\n",
       "    <tr>\n",
       "      <th>2023-12-20</th>\n",
       "      <td>253.032210</td>\n",
       "      <td>69559.672444</td>\n",
       "      <td>97583.473440</td>\n",
       "      <td>150619.725574</td>\n",
       "      <td>94539.266964</td>\n",
       "      <td>1.388266e+11</td>\n",
       "    </tr>\n",
       "    <tr>\n",
       "      <th>2023-12-21</th>\n",
       "      <td>265.264069</td>\n",
       "      <td>70978.399470</td>\n",
       "      <td>98605.858237</td>\n",
       "      <td>153070.527600</td>\n",
       "      <td>96400.396116</td>\n",
       "      <td>1.530207e+11</td>\n",
       "    </tr>\n",
       "    <tr>\n",
       "      <th>2023-12-22</th>\n",
       "      <td>279.156617</td>\n",
       "      <td>72699.050102</td>\n",
       "      <td>99639.743008</td>\n",
       "      <td>156150.197274</td>\n",
       "      <td>98666.671816</td>\n",
       "      <td>1.685469e+11</td>\n",
       "    </tr>\n",
       "    <tr>\n",
       "      <th>2023-12-23</th>\n",
       "      <td>295.821020</td>\n",
       "      <td>75157.767101</td>\n",
       "      <td>100645.994691</td>\n",
       "      <td>160278.027894</td>\n",
       "      <td>101268.139547</td>\n",
       "      <td>1.847039e+11</td>\n",
       "    </tr>\n",
       "    <tr>\n",
       "      <th>2023-12-24</th>\n",
       "      <td>307.488253</td>\n",
       "      <td>77062.586883</td>\n",
       "      <td>100972.824430</td>\n",
       "      <td>163043.593112</td>\n",
       "      <td>102861.115074</td>\n",
       "      <td>1.945808e+11</td>\n",
       "    </tr>\n",
       "  </tbody>\n",
       "</table>\n",
       "</div>"
      ],
      "text/plain": [
       "                  Open          High            Low          Close  \\\n",
       "Date                                                                 \n",
       "2023-12-18  240.816592  67656.593963   96605.888817  146954.552340   \n",
       "2023-12-19  244.071010  68295.357123   96881.446193  148449.673484   \n",
       "2023-12-20  253.032210  69559.672444   97583.473440  150619.725574   \n",
       "2023-12-21  265.264069  70978.399470   98605.858237  153070.527600   \n",
       "2023-12-22  279.156617  72699.050102   99639.743008  156150.197274   \n",
       "2023-12-23  295.821020  75157.767101  100645.994691  160278.027894   \n",
       "2023-12-24  307.488253  77062.586883  100972.824430  163043.593112   \n",
       "\n",
       "                Adj Close        Volume  \n",
       "Date                                     \n",
       "2023-12-18   93165.931588  1.226620e+11  \n",
       "2023-12-19   93405.020509  1.279187e+11  \n",
       "2023-12-20   94539.266964  1.388266e+11  \n",
       "2023-12-21   96400.396116  1.530207e+11  \n",
       "2023-12-22   98666.671816  1.685469e+11  \n",
       "2023-12-23  101268.139547  1.847039e+11  \n",
       "2023-12-24  102861.115074  1.945808e+11  "
      ]
     },
     "execution_count": 27,
     "metadata": {},
     "output_type": "execute_result"
    }
   ],
   "source": [
    "# Tahmin edilen verileri df yap\n",
    "future_predictions_df = pd.DataFrame(future_predictions, columns=['Open', 'High', 'Low', 'Close' , 'Adj Close', 'Volume'])\n",
    "\n",
    "#btc_datanın son tarihinden başlayarak 30 gün boyunca tarihleri oluştur\n",
    "future_predictions_df['Date'] = pd.date_range(start=btc_data.index[-1], periods=len(future_predictions_df), freq='D')\n",
    "\n",
    "# Tarihi indeks olarak ayarla\n",
    "future_predictions_df.set_index('Date', inplace=True)\n",
    "future_predictions_df"
   ]
  },
  {
   "cell_type": "code",
   "execution_count": 28,
   "metadata": {},
   "outputs": [
    {
     "data": {
      "text/html": [
       "<div>\n",
       "<style scoped>\n",
       "    .dataframe tbody tr th:only-of-type {\n",
       "        vertical-align: middle;\n",
       "    }\n",
       "\n",
       "    .dataframe tbody tr th {\n",
       "        vertical-align: top;\n",
       "    }\n",
       "\n",
       "    .dataframe thead th {\n",
       "        text-align: right;\n",
       "    }\n",
       "</style>\n",
       "<table border=\"1\" class=\"dataframe\">\n",
       "  <thead>\n",
       "    <tr style=\"text-align: right;\">\n",
       "      <th></th>\n",
       "      <th>Open</th>\n",
       "      <th>High</th>\n",
       "      <th>Low</th>\n",
       "      <th>Close</th>\n",
       "      <th>Adj Close</th>\n",
       "      <th>Volume</th>\n",
       "    </tr>\n",
       "    <tr>\n",
       "      <th>Date</th>\n",
       "      <th></th>\n",
       "      <th></th>\n",
       "      <th></th>\n",
       "      <th></th>\n",
       "      <th></th>\n",
       "      <th></th>\n",
       "    </tr>\n",
       "  </thead>\n",
       "  <tbody>\n",
       "    <tr>\n",
       "      <th>2023-12-19</th>\n",
       "      <td>42641.511719</td>\n",
       "      <td>43354.296875</td>\n",
       "      <td>41826.335938</td>\n",
       "      <td>42270.527344</td>\n",
       "      <td>42270.527344</td>\n",
       "      <td>23171001281</td>\n",
       "    </tr>\n",
       "    <tr>\n",
       "      <th>2023-12-20</th>\n",
       "      <td>42261.300781</td>\n",
       "      <td>44275.585938</td>\n",
       "      <td>42223.816406</td>\n",
       "      <td>43652.250000</td>\n",
       "      <td>43652.250000</td>\n",
       "      <td>27868908174</td>\n",
       "    </tr>\n",
       "    <tr>\n",
       "      <th>2023-12-21</th>\n",
       "      <td>43648.125000</td>\n",
       "      <td>44240.667969</td>\n",
       "      <td>43330.050781</td>\n",
       "      <td>43869.152344</td>\n",
       "      <td>43869.152344</td>\n",
       "      <td>22452766169</td>\n",
       "    </tr>\n",
       "    <tr>\n",
       "      <th>2023-12-22</th>\n",
       "      <td>43868.988281</td>\n",
       "      <td>44367.957031</td>\n",
       "      <td>43441.968750</td>\n",
       "      <td>43997.902344</td>\n",
       "      <td>43997.902344</td>\n",
       "      <td>21028503216</td>\n",
       "    </tr>\n",
       "    <tr>\n",
       "      <th>2023-12-23</th>\n",
       "      <td>44012.199219</td>\n",
       "      <td>44015.699219</td>\n",
       "      <td>43351.355469</td>\n",
       "      <td>43739.542969</td>\n",
       "      <td>43739.542969</td>\n",
       "      <td>13507796558</td>\n",
       "    </tr>\n",
       "    <tr>\n",
       "      <th>2023-12-24</th>\n",
       "      <td>43728.367188</td>\n",
       "      <td>43945.523438</td>\n",
       "      <td>42786.917969</td>\n",
       "      <td>43016.117188</td>\n",
       "      <td>43016.117188</td>\n",
       "      <td>18830554085</td>\n",
       "    </tr>\n",
       "    <tr>\n",
       "      <th>2023-12-26</th>\n",
       "      <td>43599.847656</td>\n",
       "      <td>43599.847656</td>\n",
       "      <td>43426.062500</td>\n",
       "      <td>43438.234375</td>\n",
       "      <td>43438.234375</td>\n",
       "      <td>20394520576</td>\n",
       "    </tr>\n",
       "  </tbody>\n",
       "</table>\n",
       "</div>"
      ],
      "text/plain": [
       "                    Open          High           Low         Close  \\\n",
       "Date                                                                 \n",
       "2023-12-19  42641.511719  43354.296875  41826.335938  42270.527344   \n",
       "2023-12-20  42261.300781  44275.585938  42223.816406  43652.250000   \n",
       "2023-12-21  43648.125000  44240.667969  43330.050781  43869.152344   \n",
       "2023-12-22  43868.988281  44367.957031  43441.968750  43997.902344   \n",
       "2023-12-23  44012.199219  44015.699219  43351.355469  43739.542969   \n",
       "2023-12-24  43728.367188  43945.523438  42786.917969  43016.117188   \n",
       "2023-12-26  43599.847656  43599.847656  43426.062500  43438.234375   \n",
       "\n",
       "               Adj Close       Volume  \n",
       "Date                                   \n",
       "2023-12-19  42270.527344  23171001281  \n",
       "2023-12-20  43652.250000  27868908174  \n",
       "2023-12-21  43869.152344  22452766169  \n",
       "2023-12-22  43997.902344  21028503216  \n",
       "2023-12-23  43739.542969  13507796558  \n",
       "2023-12-24  43016.117188  18830554085  \n",
       "2023-12-26  43438.234375  20394520576  "
      ]
     },
     "execution_count": 28,
     "metadata": {},
     "output_type": "execute_result"
    }
   ],
   "source": [
    "btc_data_son_x"
   ]
  }
 ],
 "metadata": {
  "kernelspec": {
   "display_name": "all",
   "language": "python",
   "name": "python3"
  },
  "language_info": {
   "codemirror_mode": {
    "name": "ipython",
    "version": 3
   },
   "file_extension": ".py",
   "mimetype": "text/x-python",
   "name": "python",
   "nbconvert_exporter": "python",
   "pygments_lexer": "ipython3",
   "version": "3.6.13"
  }
 },
 "nbformat": 4,
 "nbformat_minor": 2
}
