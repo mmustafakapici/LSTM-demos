{
 "cells": [
  {
   "cell_type": "code",
   "execution_count": null,
   "metadata": {},
   "outputs": [],
   "source": [
    "import yfinance as yf  # Finansal veri indirmek için\n",
    "import numpy as np  # Sayısal işlemler için\n",
    "from sklearn.preprocessing import MinMaxScaler  # Veri ölçeklendirmek için\n",
    "from tensorflow.keras.models import Sequential  # Model oluşturmak için\n",
    "from tensorflow.keras.layers import LSTM, Dense, Dropout , Activation, BatchNormalization # Model katmanları\n",
    "from tensorflow.keras.callbacks import EarlyStopping , ReduceLROnPlateau # Model eğitimini durdurmak için\n",
    "from tensorflow.keras.regularizers import l1, l2\n",
    "\n",
    "from sklearn.metrics import mean_squared_error  , mean_absolute_error , r2_score  # Hata ölçümü için\n",
    "import mplfinance as mpf  # Finansal verileri görselleştirmek için\n",
    "import pandas as pd  # Veri işleme için\n",
    "import plotly.graph_objects as go"
   ]
  },
  {
   "cell_type": "code",
   "execution_count": null,
   "metadata": {},
   "outputs": [],
   "source": [
    "import tensorflow as tf\n",
    "tf.test.gpu_device_name()"
   ]
  },
  {
   "cell_type": "code",
   "execution_count": null,
   "metadata": {},
   "outputs": [],
   "source": [
    "#veri indirme\n",
    "parite_data = yf.download(\"ETH-USD\", period=\"2000\")\n",
    "parite_data"
   ]
  },
  {
   "cell_type": "code",
   "execution_count": null,
   "metadata": {},
   "outputs": [],
   "source": [
    "parite_df = parite_data[['Open', 'High', 'Low', 'Close' , 'Adj Close', 'Volume']]"
   ]
  },
  {
   "cell_type": "code",
   "execution_count": null,
   "metadata": {},
   "outputs": [],
   "source": [
    "\n",
    "#girdiler tüm dataset kolonları , çıktılar ise 'Open', 'High', 'Low', 'Close' kolonu olacak şekilde zamanserisi oluşturulması\n",
    "def create_time_series(data, time_steps, step):\n",
    "    Xs, ys = [], []\n",
    "    for i in range(0, len(data) - time_steps, step):\n",
    "        v = data.iloc[i:(i + time_steps)].values\n",
    "        Xs.append(v)\n",
    "        ys.append(data.iloc[i + time_steps].values)\n",
    "    return np.array(Xs), np.array(ys)\n",
    "\n",
    "#veri ölçeklendirme\n",
    "scaler = MinMaxScaler()\n",
    "parite_df = scaler.fit_transform(parite_df)\n",
    "\n",
    "#zamanserisi oluşturma\n",
    "TIME_STEPS = 30\n",
    "STEP = 7\n",
    "X, y = create_time_series(parite_df, TIME_STEPS, STEP)\n",
    "print(X.shape, y.shape)\n",
    "\n",
    "#veri setinin train ve test olarak ayrılması\n",
    "train_size = int(len(X) * 0.80)\n",
    "test_size = len(X) - train_size\n",
    "X_train, X_test = X[0:train_size], X[train_size:len(X)]\n",
    "y_train, y_test = y[0:train_size], y[train_size:len(y)]\n",
    "\n",
    "\n",
    "\n"
   ]
  },
  {
   "cell_type": "code",
   "execution_count": null,
   "metadata": {},
   "outputs": [],
   "source": [
    "#modelin oluşturulması\n",
    "model = Sequential()\n",
    "model.add(LSTM(256, input_shape=(X_train.shape[1], X_train.shape[2]), return_sequences=True))\n",
    "model.add(Dropout(0.2))\n",
    "model.add(BatchNormalization())\n",
    "model.add(LSTM(256))\n",
    "model.add(Dropout(0.2))\n",
    "model.add(BatchNormalization())\n",
    "model.add(Dense(y_train.shape[1]))\n",
    "model.add(Activation('linear'))\n",
    "model.compile(loss='mse', optimizer='adam')"
   ]
  },
  {
   "cell_type": "code",
   "execution_count": null,
   "metadata": {},
   "outputs": [],
   "source": [
    "#modelin eğitilmesi\n",
    "history = model.fit(X_train, y_train, epochs=100, batch_size=32, validation_split=0.1, verbose=1,\n",
    "                    callbacks=[EarlyStopping(monitor='val_loss', patience=10), ReduceLROnPlateau(monitor='val_loss', factor=0.2, patience=5, min_lr=0.001)])"
   ]
  },
  {
   "cell_type": "code",
   "execution_count": null,
   "metadata": {},
   "outputs": [],
   "source": []
  }
 ],
 "metadata": {
  "kernelspec": {
   "display_name": "all",
   "language": "python",
   "name": "python3"
  },
  "language_info": {
   "codemirror_mode": {
    "name": "ipython",
    "version": 3
   },
   "file_extension": ".py",
   "mimetype": "text/x-python",
   "name": "python",
   "nbconvert_exporter": "python",
   "pygments_lexer": "ipython3",
   "version": "3.11.5"
  }
 },
 "nbformat": 4,
 "nbformat_minor": 2
}
