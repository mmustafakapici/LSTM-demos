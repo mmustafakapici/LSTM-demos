{
 "cells": [
  {
   "cell_type": "code",
   "execution_count": 1,
   "metadata": {},
   "outputs": [],
   "source": [
    "# Gerekli kütüphanelerin içe aktarılması\n",
    "import yfinance as yf  # Finansal veri indirmek için\n",
    "import numpy as np  # Sayısal işlemler için\n",
    "from sklearn.preprocessing import MinMaxScaler  # Veri ölçeklendirmek için\n",
    "from tensorflow.keras.models import Sequential  # Model oluşturmak için\n",
    "from tensorflow.keras.layers import LSTM, Dense, Dropout , Activation, BatchNormalization # Model katmanları\n",
    "from tensorflow.keras.callbacks import EarlyStopping , ReduceLROnPlateau # Model eğitimini durdurmak için\n",
    "from tensorflow.keras.regularizers import l1, l2\n",
    "\n",
    "from sklearn.metrics import mean_squared_error  , mean_absolute_error , r2_score  # Hata ölçümü için\n",
    "import mplfinance as mpf  # Finansal verileri görselleştirmek için\n",
    "import pandas as pd  # Veri işleme için\n",
    "import plotly.graph_objects as go"
   ]
  },
  {
   "cell_type": "code",
   "execution_count": 2,
   "metadata": {},
   "outputs": [
    {
     "data": {
      "text/plain": [
       "'/device:DML:0'"
      ]
     },
     "execution_count": 2,
     "metadata": {},
     "output_type": "execute_result"
    }
   ],
   "source": [
    "#tensorflow gpu var mı yok mu kontrolü\n",
    "import tensorflow as tf\n",
    "tf.test.gpu_device_name()\n"
   ]
  },
  {
   "cell_type": "code",
   "execution_count": 3,
   "metadata": {},
   "outputs": [
    {
     "name": "stdout",
     "output_type": "stream",
     "text": [
      "[*********************100%***********************]  1 of 1 completed\n"
     ]
    }
   ],
   "source": [
    "# Veri Toplama\n",
    "btc_data = yf.download('BTC-USD', period='3600d')  # Bitcoin verilerini yfinance ile indirme\n",
    "#btc_data"
   ]
  },
  {
   "cell_type": "code",
   "execution_count": 4,
   "metadata": {},
   "outputs": [],
   "source": [
    "# İndirilen Verileri Mum Çubukları ile Görselleştirme\n",
    "#mpf.plot(btc_data, type='candle', volume=True, style='yahoo', title='BTC-USD') "
   ]
  },
  {
   "cell_type": "code",
   "execution_count": 5,
   "metadata": {},
   "outputs": [],
   "source": [
    "# Veri Hazırlama\n",
    "btc_df = btc_data[['Open', 'High', 'Low', 'Close' , 'Adj Close', 'Volume']]  # İlgili sütunların seçilmesi\n"
   ]
  },
  {
   "cell_type": "code",
   "execution_count": 6,
   "metadata": {},
   "outputs": [],
   "source": [
    "scaler = MinMaxScaler(feature_range=(0, 1))  # Ölçekleyici tanımlama\n",
    "scaled_data = scaler.fit_transform(btc_df)  # Verilerin ölçeklendirilmesi\n"
   ]
  },
  {
   "cell_type": "code",
   "execution_count": 7,
   "metadata": {},
   "outputs": [],
   "source": [
    "\n",
    "# Zaman serisi veri seti oluşturma fonksiyonu\n",
    "def create_dataset(dataset, time_step=1):\n",
    "    dataX, dataY = [], []\n",
    "    for i in range(len(dataset) - time_step - 1):\n",
    "        a = dataset[i:(i + time_step), 0:]  # Girdi verileri\n",
    "        dataX.append(a)\n",
    "        dataY.append(dataset[i + time_step, 0:])  # Çıktı verileri\n",
    "    return np.array(dataX), np.array(dataY)\n",
    "\n",
    "time_step = 7  # Zaman adımı\n",
    "X, y = create_dataset(scaled_data, time_step)  # X ve y veri setlerinin oluşturulması\n",
    "\n",
    "\n"
   ]
  },
  {
   "cell_type": "code",
   "execution_count": 8,
   "metadata": {},
   "outputs": [],
   "source": [
    "# Veri setini eğitim ve test setlerine ayırma\n",
    "test_size = 7  # Test setinin boyutu\n",
    "train_size = int(len(X) - test_size)  # Eğitim setinin boyutu\n",
    "X_train, X_test = X[0:train_size,:,:], X[train_size:len(X),:,:]  # Eğitim ve test girdileri\n",
    "y_train, y_test = y[0:train_size,:], y[train_size:len(y),:]  # Eğitim ve test çıktıları\n"
   ]
  },
  {
   "cell_type": "code",
   "execution_count": 9,
   "metadata": {},
   "outputs": [],
   "source": [
    "units1 = 256  # İlk LSTM katmanı için birim sayısı\n",
    "units2 = units1*2  # İkinci LSTM katmanı için birim sayısı\n",
    "units3 = units1  # Yoğun katmanlar için birim sayısı\n",
    "units3 = units1/2  # Yoğun katmanlar için birim sayısı\n",
    "units4 = units3/2  # Yoğun katmanlar için birim sayısı\n",
    "units5 = units4/2  # Yoğun katmanlar için birim sayısı\n",
    "\n",
    "\n",
    "dropout = 0.2  # Dropout oranı\n",
    "batch_size = X_train.shape[0] / 1 # Batch boyutu\n",
    "batch_size = int(batch_size)\n",
    "activation = 'relu'  # Aktivasyon fonksiyonu\n",
    "epochs = 100  # Eğitim sayısı"
   ]
  },
  {
   "cell_type": "code",
   "execution_count": 10,
   "metadata": {},
   "outputs": [
    {
     "data": {
      "text/plain": [
       "3407"
      ]
     },
     "execution_count": 10,
     "metadata": {},
     "output_type": "execute_result"
    }
   ],
   "source": [
    "batch_size"
   ]
  },
  {
   "cell_type": "code",
   "execution_count": 11,
   "metadata": {},
   "outputs": [
    {
     "data": {
      "text/plain": [
       "(7, 6)"
      ]
     },
     "execution_count": 11,
     "metadata": {},
     "output_type": "execute_result"
    }
   ],
   "source": [
    "input_shape=(X_train.shape[1], X_train.shape[2])\n",
    "input_shape"
   ]
  },
  {
   "cell_type": "code",
   "execution_count": 12,
   "metadata": {},
   "outputs": [
    {
     "data": {
      "text/plain": [
       "6"
      ]
     },
     "execution_count": 12,
     "metadata": {},
     "output_type": "execute_result"
    }
   ],
   "source": [
    "output_shape = y_train.shape[1]\n",
    "output_shape"
   ]
  },
  {
   "cell_type": "code",
   "execution_count": 13,
   "metadata": {},
   "outputs": [
    {
     "name": "stdout",
     "output_type": "stream",
     "text": [
      "WARNING:tensorflow:From c:\\Users\\mmust\\anaconda3\\envs\\directML\\lib\\site-packages\\tensorflow_core\\python\\ops\\resource_variable_ops.py:1630: calling BaseResourceVariable.__init__ (from tensorflow.python.ops.resource_variable_ops) with constraint is deprecated and will be removed in a future version.\n",
      "Instructions for updating:\n",
      "If using Keras pass *_constraint arguments to layers.\n"
     ]
    }
   ],
   "source": [
    "model = Sequential()  # Model oluşturma\n",
    "model.add(LSTM(units1, return_sequences=True, input_shape=input_shape))  # LSTM katmanı\n",
    "\n",
    "\n",
    "\n",
    "model.add(LSTM(units1))\n",
    "\n",
    "\n",
    "model.add(Dropout(dropout))\n",
    "\n",
    "\n",
    "\n",
    "\n",
    "model.add(Dense(output_shape))  # Yoğun katman\n",
    "model.add(Activation(activation))  # Aktivasyon fonksiyonu\n",
    "\n",
    "\n",
    "model.compile(optimizer='adam', loss='mean_squared_error' )  # Model derleme\n",
    "\n"
   ]
  },
  {
   "cell_type": "code",
   "execution_count": 14,
   "metadata": {},
   "outputs": [
    {
     "name": "stdout",
     "output_type": "stream",
     "text": [
      "Model: \"sequential\"\n",
      "_________________________________________________________________\n",
      "Layer (type)                 Output Shape              Param #   \n",
      "=================================================================\n",
      "lstm (LSTM)                  (None, 7, 256)            269312    \n",
      "_________________________________________________________________\n",
      "lstm_1 (LSTM)                (None, 256)               525312    \n",
      "_________________________________________________________________\n",
      "dropout (Dropout)            (None, 256)               0         \n",
      "_________________________________________________________________\n",
      "dense (Dense)                (None, 6)                 1542      \n",
      "_________________________________________________________________\n",
      "activation (Activation)      (None, 6)                 0         \n",
      "=================================================================\n",
      "Total params: 796,166\n",
      "Trainable params: 796,166\n",
      "Non-trainable params: 0\n",
      "_________________________________________________________________\n"
     ]
    }
   ],
   "source": [
    "model.summary()  # Model özeti"
   ]
  },
  {
   "cell_type": "code",
   "execution_count": 15,
   "metadata": {},
   "outputs": [],
   "source": [
    "early_stopping = EarlyStopping(monitor='val_loss',  # İzlenecek metrik\n",
    "                               patience=5,          # Metrikte iyileşme olmadığı durumda kaç epoch bekleyeceği\n",
    "                               verbose=1,           # Eğitim durdurulduğunda bilgi vermesi\n",
    "                               restore_best_weights=True)  # En iyi ağırlıkları geri yükleme\n",
    "# ReduceLROnPlateau callback'ini ayarlama\n",
    "reduce_lr = ReduceLROnPlateau(monitor='val_loss',\n",
    "                              factor=0.2,  # Öğrenme oranını ne kadar azaltacağı\n",
    "                              patience=3,  # Kaç epoch boyunca iyileşme olmadığında öğrenme oranını azaltacağı\n",
    "                              min_lr=0.001,  # Öğrenme oranının düşebileceği minimum değer\n",
    "                              verbose=1)"
   ]
  },
  {
   "cell_type": "code",
   "execution_count": 16,
   "metadata": {},
   "outputs": [
    {
     "name": "stdout",
     "output_type": "stream",
     "text": [
      "WARNING:tensorflow:From c:\\Users\\mmust\\anaconda3\\envs\\directML\\lib\\site-packages\\tensorflow_core\\python\\ops\\math_grad.py:1424: where (from tensorflow.python.ops.array_ops) is deprecated and will be removed in a future version.\n",
      "Instructions for updating:\n",
      "Use tf.where in 2.0, which has the same broadcast rule as np.where\n",
      "Train on 3407 samples, validate on 7 samples\n",
      "Epoch 1/100\n",
      "3407/3407 [==============================] - 1s 354us/sample - loss: 0.0847 - val_loss: 0.2146\n",
      "Epoch 2/100\n",
      "3407/3407 [==============================] - 0s 17us/sample - loss: 0.0626 - val_loss: 0.1404\n",
      "Epoch 3/100\n",
      "3407/3407 [==============================] - 0s 18us/sample - loss: 0.0407 - val_loss: 0.0722\n",
      "Epoch 4/100\n",
      "3407/3407 [==============================] - 0s 19us/sample - loss: 0.0217 - val_loss: 0.0307\n",
      "Epoch 5/100\n",
      "3407/3407 [==============================] - 0s 18us/sample - loss: 0.0113 - val_loss: 0.0350\n",
      "Epoch 6/100\n",
      "3407/3407 [==============================] - 0s 18us/sample - loss: 0.0146 - val_loss: 0.0289\n",
      "Epoch 7/100\n",
      "3407/3407 [==============================] - 0s 18us/sample - loss: 0.0129 - val_loss: 0.0102\n",
      "Epoch 8/100\n",
      "3407/3407 [==============================] - 0s 17us/sample - loss: 0.0062 - val_loss: 0.0058\n",
      "Epoch 9/100\n",
      "3407/3407 [==============================] - 0s 18us/sample - loss: 0.0038 - val_loss: 0.0151\n",
      "Epoch 10/100\n",
      "3407/3407 [==============================] - 0s 19us/sample - loss: 0.0058 - val_loss: 0.0254\n",
      "Epoch 11/100\n",
      "3407/3407 [==============================] - 0s 18us/sample - loss: 0.0085 - val_loss: 0.0296\n",
      "Epoch 12/100\n",
      "3407/3407 [==============================] - 0s 17us/sample - loss: 0.0095 - val_loss: 0.0265\n",
      "Epoch 13/100\n",
      "3407/3407 [==============================] - 0s 18us/sample - loss: 0.0086 - val_loss: 0.0188\n",
      "Epoch 14/100\n",
      "3407/3407 [==============================] - 0s 18us/sample - loss: 0.0063 - val_loss: 0.0103\n",
      "Epoch 15/100\n",
      "3407/3407 [==============================] - 0s 19us/sample - loss: 0.0039 - val_loss: 0.0047\n",
      "Epoch 16/100\n",
      "3407/3407 [==============================] - 0s 18us/sample - loss: 0.0024 - val_loss: 0.0041\n",
      "Epoch 17/100\n",
      "3407/3407 [==============================] - 0s 18us/sample - loss: 0.0021 - val_loss: 0.0065\n",
      "Epoch 18/100\n",
      "3407/3407 [==============================] - 0s 18us/sample - loss: 0.0028 - val_loss: 0.0079\n",
      "Epoch 19/100\n",
      "3407/3407 [==============================] - 0s 18us/sample - loss: 0.0034 - val_loss: 0.0066\n",
      "Epoch 20/100\n",
      "3407/3407 [==============================] - 0s 19us/sample - loss: 0.0030 - val_loss: 0.0045\n",
      "Epoch 21/100\n",
      "3407/3407 [==============================] - 0s 18us/sample - loss: 0.0024 - val_loss: 0.0037\n",
      "Epoch 22/100\n",
      "3407/3407 [==============================] - 0s 18us/sample - loss: 0.0022 - val_loss: 0.0044\n",
      "Epoch 23/100\n",
      "3407/3407 [==============================] - 0s 18us/sample - loss: 0.0025 - val_loss: 0.0051\n",
      "Epoch 24/100\n",
      "3407/3407 [==============================] - 0s 18us/sample - loss: 0.0028 - val_loss: 0.0049\n",
      "Epoch 25/100\n",
      "3407/3407 [==============================] - 0s 18us/sample - loss: 0.0027 - val_loss: 0.0035\n",
      "Epoch 26/100\n",
      "3407/3407 [==============================] - 0s 18us/sample - loss: 0.0023 - val_loss: 0.0017\n",
      "Epoch 27/100\n",
      "3407/3407 [==============================] - 0s 17us/sample - loss: 0.0018 - val_loss: 6.0949e-04\n",
      "Epoch 28/100\n",
      "3407/3407 [==============================] - 0s 18us/sample - loss: 0.0013 - val_loss: 8.7786e-04\n",
      "Epoch 29/100\n",
      "3407/3407 [==============================] - 0s 18us/sample - loss: 0.0013 - val_loss: 0.0022\n",
      "Epoch 30/100\n",
      "3407/3407 [==============================] - 0s 19us/sample - loss: 0.0015 - val_loss: 0.0036\n",
      "Epoch 31/100\n",
      "3407/3407 [==============================] - 0s 18us/sample - loss: 0.0018 - val_loss: 0.0039\n",
      "Epoch 32/100\n",
      "3407/3407 [==============================] - 0s 18us/sample - loss: 0.0019 - val_loss: 0.0032\n",
      "Epoch 33/100\n",
      "3407/3407 [==============================] - 0s 18us/sample - loss: 0.0016 - val_loss: 0.0024\n",
      "Epoch 34/100\n",
      "3407/3407 [==============================] - 0s 18us/sample - loss: 0.0015 - val_loss: 0.0020\n",
      "Epoch 35/100\n",
      "3407/3407 [==============================] - 0s 19us/sample - loss: 0.0014 - val_loss: 0.0019\n",
      "Epoch 36/100\n",
      "3407/3407 [==============================] - 0s 18us/sample - loss: 0.0015 - val_loss: 0.0019\n",
      "Epoch 37/100\n",
      "3407/3407 [==============================] - 0s 18us/sample - loss: 0.0015 - val_loss: 0.0017\n",
      "Epoch 38/100\n",
      "3407/3407 [==============================] - 0s 18us/sample - loss: 0.0015 - val_loss: 0.0013\n",
      "Epoch 39/100\n",
      "3407/3407 [==============================] - 0s 18us/sample - loss: 0.0014 - val_loss: 8.3759e-04\n",
      "Epoch 40/100\n",
      "3407/3407 [==============================] - 0s 18us/sample - loss: 0.0012 - val_loss: 6.7056e-04\n",
      "Epoch 41/100\n",
      "3407/3407 [==============================] - 0s 18us/sample - loss: 0.0012 - val_loss: 8.2741e-04\n",
      "Epoch 42/100\n",
      "3407/3407 [==============================] - 0s 19us/sample - loss: 0.0012 - val_loss: 0.0011\n",
      "Epoch 43/100\n",
      "3407/3407 [==============================] - 0s 18us/sample - loss: 0.0013 - val_loss: 0.0012\n",
      "Epoch 44/100\n",
      "3407/3407 [==============================] - 0s 18us/sample - loss: 0.0013 - val_loss: 0.0011\n",
      "Epoch 45/100\n",
      "3407/3407 [==============================] - 0s 18us/sample - loss: 0.0012 - val_loss: 9.6857e-04\n",
      "Epoch 46/100\n",
      "3407/3407 [==============================] - 0s 18us/sample - loss: 0.0012 - val_loss: 9.2746e-04\n",
      "Epoch 47/100\n",
      "3407/3407 [==============================] - 0s 18us/sample - loss: 0.0012 - val_loss: 0.0010\n",
      "Epoch 48/100\n",
      "3407/3407 [==============================] - 0s 18us/sample - loss: 0.0012 - val_loss: 0.0012\n",
      "Epoch 49/100\n",
      "3407/3407 [==============================] - 0s 18us/sample - loss: 0.0012 - val_loss: 0.0012\n",
      "Epoch 50/100\n",
      "3407/3407 [==============================] - 0s 18us/sample - loss: 0.0012 - val_loss: 0.0011\n",
      "Epoch 51/100\n",
      "3407/3407 [==============================] - 0s 18us/sample - loss: 0.0012 - val_loss: 8.8121e-04\n",
      "Epoch 52/100\n",
      "3407/3407 [==============================] - 0s 18us/sample - loss: 0.0011 - val_loss: 7.6189e-04\n",
      "Epoch 53/100\n",
      "3407/3407 [==============================] - 0s 18us/sample - loss: 0.0011 - val_loss: 7.4669e-04\n",
      "Epoch 54/100\n",
      "3407/3407 [==============================] - 0s 18us/sample - loss: 0.0012 - val_loss: 8.0460e-04\n",
      "Epoch 55/100\n",
      "3407/3407 [==============================] - 0s 18us/sample - loss: 0.0011 - val_loss: 8.3835e-04\n",
      "Epoch 56/100\n",
      "3407/3407 [==============================] - 0s 18us/sample - loss: 0.0011 - val_loss: 8.1440e-04\n",
      "Epoch 57/100\n",
      "3407/3407 [==============================] - 0s 18us/sample - loss: 0.0011 - val_loss: 7.5588e-04\n",
      "Epoch 58/100\n",
      "3407/3407 [==============================] - 0s 17us/sample - loss: 0.0011 - val_loss: 7.2315e-04\n",
      "Epoch 59/100\n",
      "3407/3407 [==============================] - 0s 18us/sample - loss: 0.0011 - val_loss: 7.4172e-04\n",
      "Epoch 60/100\n",
      "3407/3407 [==============================] - 0s 18us/sample - loss: 0.0011 - val_loss: 7.8374e-04\n",
      "Epoch 61/100\n",
      "3407/3407 [==============================] - 0s 18us/sample - loss: 0.0011 - val_loss: 8.2002e-04\n",
      "Epoch 62/100\n",
      "3407/3407 [==============================] - 0s 18us/sample - loss: 0.0011 - val_loss: 8.1629e-04\n",
      "Epoch 63/100\n",
      "3407/3407 [==============================] - 0s 18us/sample - loss: 0.0010 - val_loss: 7.9307e-04\n",
      "Epoch 64/100\n",
      "3407/3407 [==============================] - 0s 17us/sample - loss: 0.0011 - val_loss: 7.8707e-04\n",
      "Epoch 65/100\n",
      "3407/3407 [==============================] - 0s 18us/sample - loss: 0.0010 - val_loss: 7.8823e-04\n",
      "Epoch 66/100\n",
      "3407/3407 [==============================] - 0s 18us/sample - loss: 0.0010 - val_loss: 7.8666e-04\n",
      "Epoch 67/100\n",
      "3407/3407 [==============================] - 0s 19us/sample - loss: 0.0011 - val_loss: 7.5627e-04\n",
      "Epoch 68/100\n",
      "3407/3407 [==============================] - 0s 18us/sample - loss: 0.0010 - val_loss: 7.0838e-04\n",
      "Epoch 69/100\n",
      "3407/3407 [==============================] - 0s 17us/sample - loss: 0.0010 - val_loss: 6.6296e-04\n",
      "Epoch 70/100\n",
      "3407/3407 [==============================] - 0s 18us/sample - loss: 0.0010 - val_loss: 6.3909e-04\n",
      "Epoch 71/100\n",
      "3407/3407 [==============================] - 0s 19us/sample - loss: 0.0010 - val_loss: 6.4712e-04\n",
      "Epoch 72/100\n",
      "3407/3407 [==============================] - 0s 18us/sample - loss: 0.0010 - val_loss: 6.6862e-04\n",
      "Epoch 73/100\n",
      "3407/3407 [==============================] - 0s 18us/sample - loss: 9.9670e-04 - val_loss: 6.8396e-04\n",
      "Epoch 74/100\n",
      "3407/3407 [==============================] - 0s 17us/sample - loss: 0.0010 - val_loss: 6.9540e-04\n",
      "Epoch 75/100\n",
      "3407/3407 [==============================] - 0s 18us/sample - loss: 0.0010 - val_loss: 7.1051e-04\n",
      "Epoch 76/100\n",
      "3407/3407 [==============================] - 0s 18us/sample - loss: 9.5795e-04 - val_loss: 7.2521e-04\n",
      "Epoch 77/100\n",
      "3407/3407 [==============================] - 0s 18us/sample - loss: 0.0010 - val_loss: 7.2923e-04\n",
      "Epoch 78/100\n",
      "3407/3407 [==============================] - 0s 18us/sample - loss: 9.9752e-04 - val_loss: 7.2010e-04\n",
      "Epoch 79/100\n",
      "3407/3407 [==============================] - 0s 18us/sample - loss: 9.6975e-04 - val_loss: 7.0153e-04\n",
      "Epoch 80/100\n",
      "3407/3407 [==============================] - 0s 18us/sample - loss: 9.8554e-04 - val_loss: 6.7873e-04\n",
      "Epoch 81/100\n",
      "3407/3407 [==============================] - 0s 18us/sample - loss: 9.7964e-04 - val_loss: 6.7623e-04\n",
      "Epoch 82/100\n",
      "3407/3407 [==============================] - 0s 19us/sample - loss: 9.7038e-04 - val_loss: 6.7567e-04\n",
      "Epoch 83/100\n",
      "3407/3407 [==============================] - 0s 18us/sample - loss: 0.0010 - val_loss: 6.7161e-04\n",
      "Epoch 84/100\n",
      "3407/3407 [==============================] - 0s 17us/sample - loss: 9.6155e-04 - val_loss: 6.6570e-04\n",
      "Epoch 85/100\n",
      "3407/3407 [==============================] - 0s 18us/sample - loss: 9.8179e-04 - val_loss: 6.6548e-04\n",
      "Epoch 86/100\n",
      "3407/3407 [==============================] - 0s 18us/sample - loss: 9.6932e-04 - val_loss: 6.7143e-04\n",
      "Epoch 87/100\n",
      "3407/3407 [==============================] - 0s 18us/sample - loss: 9.5583e-04 - val_loss: 6.7869e-04\n",
      "Epoch 88/100\n",
      "3407/3407 [==============================] - 0s 18us/sample - loss: 9.7134e-04 - val_loss: 6.7910e-04\n",
      "Epoch 89/100\n",
      "3407/3407 [==============================] - 0s 18us/sample - loss: 9.6359e-04 - val_loss: 6.6848e-04\n",
      "Epoch 90/100\n",
      "3407/3407 [==============================] - 0s 18us/sample - loss: 9.5547e-04 - val_loss: 6.4698e-04\n",
      "Epoch 91/100\n",
      "3407/3407 [==============================] - 0s 18us/sample - loss: 9.7076e-04 - val_loss: 6.3277e-04\n",
      "Epoch 92/100\n",
      "3407/3407 [==============================] - 0s 18us/sample - loss: 0.0010 - val_loss: 6.3288e-04\n",
      "Epoch 93/100\n",
      "3407/3407 [==============================] - 0s 19us/sample - loss: 9.2539e-04 - val_loss: 6.3745e-04\n",
      "Epoch 94/100\n",
      "3407/3407 [==============================] - 0s 18us/sample - loss: 9.2124e-04 - val_loss: 6.4088e-04\n",
      "Epoch 95/100\n",
      "3407/3407 [==============================] - 0s 17us/sample - loss: 9.4262e-04 - val_loss: 6.5559e-04\n",
      "Epoch 96/100\n",
      "3407/3407 [==============================] - 0s 18us/sample - loss: 9.7937e-04 - val_loss: 6.7810e-04\n",
      "Epoch 97/100\n",
      "3407/3407 [==============================] - 0s 18us/sample - loss: 9.1698e-04 - val_loss: 6.8213e-04\n",
      "Epoch 98/100\n",
      "3407/3407 [==============================] - 0s 19us/sample - loss: 9.5480e-04 - val_loss: 6.7527e-04\n",
      "Epoch 99/100\n",
      "3407/3407 [==============================] - 0s 18us/sample - loss: 9.5285e-04 - val_loss: 6.5155e-04\n",
      "Epoch 100/100\n",
      "3407/3407 [==============================] - 0s 17us/sample - loss: 9.4531e-04 - val_loss: 6.2015e-04\n"
     ]
    }
   ],
   "source": [
    "\n",
    "# Modeli Eğitme ve Tahmin Yapma\n",
    "history = model.fit(X_train, y_train, \n",
    "                    validation_data=(X_test,y_test) , \n",
    "                    epochs=epochs, batch_size= batch_size, \n",
    "                    verbose=1,  \n",
    "\n",
    "                    \n",
    "                    #callbacks=[early_stopping , reduce_lr],\n",
    "                        )  # Model eğitimi\n"
   ]
  },
  {
   "cell_type": "code",
   "execution_count": 17,
   "metadata": {},
   "outputs": [
    {
     "data": {
      "image/png": "[encoded data removed]",
      "text/plain": [
       "<Figure size 432x288 with 1 Axes>"
      ]
     },
     "metadata": {
      "needs_background": "light"
     },
     "output_type": "display_data"
    }
   ],
   "source": [
    "# Modelin Eğitim ve Test Hata Grafiği\n",
    "import matplotlib.pyplot as plt\n",
    "plt.plot(history.history['loss'], label='Eğitim Verisi')\n",
    "plt.plot(history.history['val_loss'], label='Test Verisi')\n",
    "plt.title('Model Hatası')\n",
    "plt.ylabel('Hata')\n",
    "plt.xlabel('Epoch')\n",
    "plt.legend(loc='upper right')\n",
    "plt.show()"
   ]
  },
  {
   "cell_type": "code",
   "execution_count": 18,
   "metadata": {},
   "outputs": [
    {
     "name": "stdout",
     "output_type": "stream",
     "text": [
      "7/7 [==============================] - 0s 2ms/sample - loss: 6.2015e-04\n"
     ]
    },
    {
     "data": {
      "text/plain": [
       "0.0006201486685313284"
      ]
     },
     "execution_count": 18,
     "metadata": {},
     "output_type": "execute_result"
    }
   ],
   "source": [
    "model.evaluate(X_test, y_test)  # Test verileri ile modelin performansını ölçme\n",
    "# bu ne  ? yüksek çıkması iyi mi kötü mü ?\n"
   ]
  },
  {
   "cell_type": "code",
   "execution_count": 19,
   "metadata": {},
   "outputs": [],
   "source": [
    "predictions = model.predict(X_test).squeeze() # Test verisi üzerinde tahmin yapma\n"
   ]
  },
  {
   "cell_type": "code",
   "execution_count": 20,
   "metadata": {},
   "outputs": [
    {
     "data": {
      "text/html": [
       "<div>\n",
       "<style scoped>\n",
       "    .dataframe tbody tr th:only-of-type {\n",
       "        vertical-align: middle;\n",
       "    }\n",
       "\n",
       "    .dataframe tbody tr th {\n",
       "        vertical-align: top;\n",
       "    }\n",
       "\n",
       "    .dataframe thead th {\n",
       "        text-align: right;\n",
       "    }\n",
       "</style>\n",
       "<table border=\"1\" class=\"dataframe\">\n",
       "  <thead>\n",
       "    <tr style=\"text-align: right;\">\n",
       "      <th></th>\n",
       "      <th>Open</th>\n",
       "      <th>High</th>\n",
       "      <th>Low</th>\n",
       "      <th>Close</th>\n",
       "      <th>Adj Close</th>\n",
       "      <th>Volume</th>\n",
       "    </tr>\n",
       "  </thead>\n",
       "  <tbody>\n",
       "    <tr>\n",
       "      <th>0</th>\n",
       "      <td>0.619346</td>\n",
       "      <td>0.624189</td>\n",
       "      <td>0.614198</td>\n",
       "      <td>0.618112</td>\n",
       "      <td>0.615984</td>\n",
       "      <td>0.091786</td>\n",
       "    </tr>\n",
       "    <tr>\n",
       "      <th>1</th>\n",
       "      <td>0.615398</td>\n",
       "      <td>0.620533</td>\n",
       "      <td>0.610636</td>\n",
       "      <td>0.614500</td>\n",
       "      <td>0.612179</td>\n",
       "      <td>0.091486</td>\n",
       "    </tr>\n",
       "    <tr>\n",
       "      <th>2</th>\n",
       "      <td>0.609200</td>\n",
       "      <td>0.614446</td>\n",
       "      <td>0.604643</td>\n",
       "      <td>0.608418</td>\n",
       "      <td>0.606147</td>\n",
       "      <td>0.091526</td>\n",
       "    </tr>\n",
       "    <tr>\n",
       "      <th>3</th>\n",
       "      <td>0.603220</td>\n",
       "      <td>0.608265</td>\n",
       "      <td>0.598588</td>\n",
       "      <td>0.602401</td>\n",
       "      <td>0.600227</td>\n",
       "      <td>0.091759</td>\n",
       "    </tr>\n",
       "    <tr>\n",
       "      <th>4</th>\n",
       "      <td>0.598951</td>\n",
       "      <td>0.603884</td>\n",
       "      <td>0.594252</td>\n",
       "      <td>0.598049</td>\n",
       "      <td>0.595912</td>\n",
       "      <td>0.090985</td>\n",
       "    </tr>\n",
       "    <tr>\n",
       "      <th>5</th>\n",
       "      <td>0.597334</td>\n",
       "      <td>0.601712</td>\n",
       "      <td>0.592420</td>\n",
       "      <td>0.596065</td>\n",
       "      <td>0.594329</td>\n",
       "      <td>0.090808</td>\n",
       "    </tr>\n",
       "    <tr>\n",
       "      <th>6</th>\n",
       "      <td>0.597723</td>\n",
       "      <td>0.601094</td>\n",
       "      <td>0.592340</td>\n",
       "      <td>0.596123</td>\n",
       "      <td>0.594549</td>\n",
       "      <td>0.091473</td>\n",
       "    </tr>\n",
       "  </tbody>\n",
       "</table>\n",
       "</div>"
      ],
      "text/plain": [
       "       Open      High       Low     Close  Adj Close    Volume\n",
       "0  0.619346  0.624189  0.614198  0.618112   0.615984  0.091786\n",
       "1  0.615398  0.620533  0.610636  0.614500   0.612179  0.091486\n",
       "2  0.609200  0.614446  0.604643  0.608418   0.606147  0.091526\n",
       "3  0.603220  0.608265  0.598588  0.602401   0.600227  0.091759\n",
       "4  0.598951  0.603884  0.594252  0.598049   0.595912  0.090985\n",
       "5  0.597334  0.601712  0.592420  0.596065   0.594329  0.090808\n",
       "6  0.597723  0.601094  0.592340  0.596123   0.594549  0.091473"
      ]
     },
     "execution_count": 20,
     "metadata": {},
     "output_type": "execute_result"
    }
   ],
   "source": [
    "predictions_df = pd.DataFrame(predictions , columns=['Open', 'High', 'Low', 'Close' , 'Adj Close', 'Volume'])  # Tahminlerin DataFrame'e dönüştürülmesi\n",
    "predictions_df"
   ]
  },
  {
   "cell_type": "code",
   "execution_count": 21,
   "metadata": {},
   "outputs": [
    {
     "data": {
      "text/html": [
       "<div>\n",
       "<style scoped>\n",
       "    .dataframe tbody tr th:only-of-type {\n",
       "        vertical-align: middle;\n",
       "    }\n",
       "\n",
       "    .dataframe tbody tr th {\n",
       "        vertical-align: top;\n",
       "    }\n",
       "\n",
       "    .dataframe thead th {\n",
       "        text-align: right;\n",
       "    }\n",
       "</style>\n",
       "<table border=\"1\" class=\"dataframe\">\n",
       "  <thead>\n",
       "    <tr style=\"text-align: right;\">\n",
       "      <th></th>\n",
       "      <th>Open</th>\n",
       "      <th>High</th>\n",
       "      <th>Low</th>\n",
       "      <th>Close</th>\n",
       "      <th>Adj Close</th>\n",
       "      <th>Volume</th>\n",
       "    </tr>\n",
       "  </thead>\n",
       "  <tbody>\n",
       "    <tr>\n",
       "      <th>0</th>\n",
       "      <td>0.614146</td>\n",
       "      <td>0.604269</td>\n",
       "      <td>0.593238</td>\n",
       "      <td>0.583618</td>\n",
       "      <td>0.583618</td>\n",
       "      <td>0.089277</td>\n",
       "    </tr>\n",
       "    <tr>\n",
       "      <th>1</th>\n",
       "      <td>0.583942</td>\n",
       "      <td>0.582048</td>\n",
       "      <td>0.579219</td>\n",
       "      <td>0.588636</td>\n",
       "      <td>0.588636</td>\n",
       "      <td>0.083310</td>\n",
       "    </tr>\n",
       "    <tr>\n",
       "      <th>2</th>\n",
       "      <td>0.589269</td>\n",
       "      <td>0.587245</td>\n",
       "      <td>0.594124</td>\n",
       "      <td>0.592072</td>\n",
       "      <td>0.592072</td>\n",
       "      <td>0.063692</td>\n",
       "    </tr>\n",
       "    <tr>\n",
       "      <th>3</th>\n",
       "      <td>0.592207</td>\n",
       "      <td>0.583902</td>\n",
       "      <td>0.594681</td>\n",
       "      <td>0.589946</td>\n",
       "      <td>0.589946</td>\n",
       "      <td>0.052672</td>\n",
       "    </tr>\n",
       "    <tr>\n",
       "      <th>4</th>\n",
       "      <td>0.590148</td>\n",
       "      <td>0.612408</td>\n",
       "      <td>0.598910</td>\n",
       "      <td>0.617889</td>\n",
       "      <td>0.617889</td>\n",
       "      <td>0.072920</td>\n",
       "    </tr>\n",
       "    <tr>\n",
       "      <th>5</th>\n",
       "      <td>0.618034</td>\n",
       "      <td>0.612208</td>\n",
       "      <td>0.623160</td>\n",
       "      <td>0.622388</td>\n",
       "      <td>0.622388</td>\n",
       "      <td>0.032531</td>\n",
       "    </tr>\n",
       "    <tr>\n",
       "      <th>6</th>\n",
       "      <td>0.622643</td>\n",
       "      <td>0.620979</td>\n",
       "      <td>0.627172</td>\n",
       "      <td>0.621135</td>\n",
       "      <td>0.621135</td>\n",
       "      <td>0.048020</td>\n",
       "    </tr>\n",
       "  </tbody>\n",
       "</table>\n",
       "</div>"
      ],
      "text/plain": [
       "       Open      High       Low     Close  Adj Close    Volume\n",
       "0  0.614146  0.604269  0.593238  0.583618   0.583618  0.089277\n",
       "1  0.583942  0.582048  0.579219  0.588636   0.588636  0.083310\n",
       "2  0.589269  0.587245  0.594124  0.592072   0.592072  0.063692\n",
       "3  0.592207  0.583902  0.594681  0.589946   0.589946  0.052672\n",
       "4  0.590148  0.612408  0.598910  0.617889   0.617889  0.072920\n",
       "5  0.618034  0.612208  0.623160  0.622388   0.622388  0.032531\n",
       "6  0.622643  0.620979  0.627172  0.621135   0.621135  0.048020"
      ]
     },
     "execution_count": 21,
     "metadata": {},
     "output_type": "execute_result"
    }
   ],
   "source": [
    "y_test_df = pd.DataFrame(y_test, columns=['Open', 'High', 'Low', 'Close' , 'Adj Close', 'Volume'])  # Gerçek değerlerin DataFrame'e dönüştürülmesi\n",
    "y_test_df"
   ]
  },
  {
   "cell_type": "code",
   "execution_count": 22,
   "metadata": {},
   "outputs": [
    {
     "name": "stdout",
     "output_type": "stream",
     "text": [
      "MSE:  0.0006201486951780554\n",
      "MAE:  0.021965583620540314\n",
      "R2:  -1609.4772183790835\n"
     ]
    }
   ],
   "source": [
    "MSE = mean_squared_error( predictions , y_test)  # Hata ölçümü\n",
    "MAE = mean_absolute_error( predictions ,y_test)  # Hata ölçümü\n",
    "R2 = r2_score(predictions ,y_test)  # Hata ölçümü\n",
    "print('MSE: ', MSE)\n",
    "print('MAE: ', MAE)\n",
    "print('R2: ', R2)\n"
   ]
  },
  {
   "cell_type": "code",
   "execution_count": 23,
   "metadata": {},
   "outputs": [
    {
     "name": "stdout",
     "output_type": "stream",
     "text": [
      "MSE:  2.342181889846592e+19\n",
      "MAE:  1649528169.9962797\n",
      "R2:  -1609.4841041017944\n"
     ]
    }
   ],
   "source": [
    "# Sonuçların Değerlendirilmesi\n",
    "predictions_scaled = scaler.inverse_transform(predictions)  # Tahminlerin ölçeklendirilmesinin tersine çevrilmesi\n",
    "y_test_scaled = scaler.inverse_transform(y_test)  # Gerçek test verilerinin ölçeklendirilmesinin tersine çevrilmesi\n",
    "\n",
    "\n",
    "MSE = mean_squared_error( predictions_scaled , y_test_scaled)  # Hata ölçümü\n",
    "MAE = mean_absolute_error( predictions_scaled ,y_test_scaled)  # Hata ölçümü\n",
    "R2 = r2_score(predictions_scaled ,y_test_scaled)  # Hata ölçümü\n",
    "print('MSE: ', MSE)\n",
    "print('MAE: ', MAE)\n",
    "print('R2: ', R2)\n"
   ]
  },
  {
   "cell_type": "code",
   "execution_count": 24,
   "metadata": {},
   "outputs": [
    {
     "data": {
      "text/html": [
       "<div>\n",
       "<style scoped>\n",
       "    .dataframe tbody tr th:only-of-type {\n",
       "        vertical-align: middle;\n",
       "    }\n",
       "\n",
       "    .dataframe tbody tr th {\n",
       "        vertical-align: top;\n",
       "    }\n",
       "\n",
       "    .dataframe thead th {\n",
       "        text-align: right;\n",
       "    }\n",
       "</style>\n",
       "<table border=\"1\" class=\"dataframe\">\n",
       "  <thead>\n",
       "    <tr style=\"text-align: right;\">\n",
       "      <th></th>\n",
       "      <th>Open</th>\n",
       "      <th>High</th>\n",
       "      <th>Low</th>\n",
       "      <th>Close</th>\n",
       "      <th>Adj Close</th>\n",
       "      <th>Volume</th>\n",
       "    </tr>\n",
       "  </thead>\n",
       "  <tbody>\n",
       "    <tr>\n",
       "      <th>0</th>\n",
       "      <td>41903.988281</td>\n",
       "      <td>43017.316406</td>\n",
       "      <td>40837.906250</td>\n",
       "      <td>41831.910156</td>\n",
       "      <td>41688.464844</td>\n",
       "      <td>3.221943e+10</td>\n",
       "    </tr>\n",
       "    <tr>\n",
       "      <th>1</th>\n",
       "      <td>41637.984375</td>\n",
       "      <td>42766.550781</td>\n",
       "      <td>40602.058594</td>\n",
       "      <td>41588.480469</td>\n",
       "      <td>41432.058594</td>\n",
       "      <td>3.211393e+10</td>\n",
       "    </tr>\n",
       "    <tr>\n",
       "      <th>2</th>\n",
       "      <td>41220.425781</td>\n",
       "      <td>42349.132812</td>\n",
       "      <td>40205.257812</td>\n",
       "      <td>41178.589844</td>\n",
       "      <td>41025.546875</td>\n",
       "      <td>3.212805e+10</td>\n",
       "    </tr>\n",
       "    <tr>\n",
       "      <th>3</th>\n",
       "      <td>40817.531250</td>\n",
       "      <td>41925.292969</td>\n",
       "      <td>39804.343750</td>\n",
       "      <td>40773.144531</td>\n",
       "      <td>40626.667969</td>\n",
       "      <td>3.220981e+10</td>\n",
       "    </tr>\n",
       "    <tr>\n",
       "      <th>4</th>\n",
       "      <td>40529.949219</td>\n",
       "      <td>41624.816406</td>\n",
       "      <td>39517.257812</td>\n",
       "      <td>40479.832031</td>\n",
       "      <td>40335.867188</td>\n",
       "      <td>3.193810e+10</td>\n",
       "    </tr>\n",
       "    <tr>\n",
       "      <th>5</th>\n",
       "      <td>40421.003906</td>\n",
       "      <td>41475.847656</td>\n",
       "      <td>39395.953125</td>\n",
       "      <td>40346.195312</td>\n",
       "      <td>40229.191406</td>\n",
       "      <td>3.187600e+10</td>\n",
       "    </tr>\n",
       "    <tr>\n",
       "      <th>6</th>\n",
       "      <td>40447.207031</td>\n",
       "      <td>41433.507812</td>\n",
       "      <td>39390.656250</td>\n",
       "      <td>40350.078125</td>\n",
       "      <td>40243.984375</td>\n",
       "      <td>3.210942e+10</td>\n",
       "    </tr>\n",
       "  </tbody>\n",
       "</table>\n",
       "</div>"
      ],
      "text/plain": [
       "           Open          High           Low         Close     Adj Close  \\\n",
       "0  41903.988281  43017.316406  40837.906250  41831.910156  41688.464844   \n",
       "1  41637.984375  42766.550781  40602.058594  41588.480469  41432.058594   \n",
       "2  41220.425781  42349.132812  40205.257812  41178.589844  41025.546875   \n",
       "3  40817.531250  41925.292969  39804.343750  40773.144531  40626.667969   \n",
       "4  40529.949219  41624.816406  39517.257812  40479.832031  40335.867188   \n",
       "5  40421.003906  41475.847656  39395.953125  40346.195312  40229.191406   \n",
       "6  40447.207031  41433.507812  39390.656250  40350.078125  40243.984375   \n",
       "\n",
       "         Volume  \n",
       "0  3.221943e+10  \n",
       "1  3.211393e+10  \n",
       "2  3.212805e+10  \n",
       "3  3.220981e+10  \n",
       "4  3.193810e+10  \n",
       "5  3.187600e+10  \n",
       "6  3.210942e+10  "
      ]
     },
     "execution_count": 24,
     "metadata": {},
     "output_type": "execute_result"
    }
   ],
   "source": [
    "predictions_scaled_df = pd.DataFrame(predictions_scaled, columns=['Open', 'High', 'Low', 'Close' , 'Adj Close', 'Volume'])  # Tahminlerin DataFrame'e dönüştürülmesi\n",
    "predictions_scaled_df"
   ]
  },
  {
   "cell_type": "code",
   "execution_count": 25,
   "metadata": {},
   "outputs": [
    {
     "data": {
      "text/html": [
       "<div>\n",
       "<style scoped>\n",
       "    .dataframe tbody tr th:only-of-type {\n",
       "        vertical-align: middle;\n",
       "    }\n",
       "\n",
       "    .dataframe tbody tr th {\n",
       "        vertical-align: top;\n",
       "    }\n",
       "\n",
       "    .dataframe thead th {\n",
       "        text-align: right;\n",
       "    }\n",
       "</style>\n",
       "<table border=\"1\" class=\"dataframe\">\n",
       "  <thead>\n",
       "    <tr style=\"text-align: right;\">\n",
       "      <th></th>\n",
       "      <th>Open</th>\n",
       "      <th>High</th>\n",
       "      <th>Low</th>\n",
       "      <th>Close</th>\n",
       "      <th>Adj Close</th>\n",
       "      <th>Volume</th>\n",
       "    </tr>\n",
       "  </thead>\n",
       "  <tbody>\n",
       "    <tr>\n",
       "      <th>0</th>\n",
       "      <td>41553.652344</td>\n",
       "      <td>41651.207031</td>\n",
       "      <td>39450.117188</td>\n",
       "      <td>39507.367188</td>\n",
       "      <td>39507.367188</td>\n",
       "      <td>3.133871e+10</td>\n",
       "    </tr>\n",
       "    <tr>\n",
       "      <th>1</th>\n",
       "      <td>39518.714844</td>\n",
       "      <td>40127.351562</td>\n",
       "      <td>38521.894531</td>\n",
       "      <td>39845.550781</td>\n",
       "      <td>39845.550781</td>\n",
       "      <td>2.924455e+10</td>\n",
       "    </tr>\n",
       "    <tr>\n",
       "      <th>2</th>\n",
       "      <td>39877.593750</td>\n",
       "      <td>40483.785156</td>\n",
       "      <td>39508.796875</td>\n",
       "      <td>40077.074219</td>\n",
       "      <td>40077.074219</td>\n",
       "      <td>2.235953e+10</td>\n",
       "    </tr>\n",
       "    <tr>\n",
       "      <th>3</th>\n",
       "      <td>40075.550781</td>\n",
       "      <td>40254.480469</td>\n",
       "      <td>39545.664062</td>\n",
       "      <td>39933.808594</td>\n",
       "      <td>39933.808594</td>\n",
       "      <td>1.849178e+10</td>\n",
       "    </tr>\n",
       "    <tr>\n",
       "      <th>4</th>\n",
       "      <td>39936.816406</td>\n",
       "      <td>42209.386719</td>\n",
       "      <td>39825.691406</td>\n",
       "      <td>41816.871094</td>\n",
       "      <td>41816.871094</td>\n",
       "      <td>2.559812e+10</td>\n",
       "    </tr>\n",
       "    <tr>\n",
       "      <th>5</th>\n",
       "      <td>41815.625000</td>\n",
       "      <td>42195.632812</td>\n",
       "      <td>41431.281250</td>\n",
       "      <td>42120.054688</td>\n",
       "      <td>42120.054688</td>\n",
       "      <td>1.142294e+10</td>\n",
       "    </tr>\n",
       "    <tr>\n",
       "      <th>6</th>\n",
       "      <td>42126.125000</td>\n",
       "      <td>42797.175781</td>\n",
       "      <td>41696.910156</td>\n",
       "      <td>42035.593750</td>\n",
       "      <td>42035.593750</td>\n",
       "      <td>1.685897e+10</td>\n",
       "    </tr>\n",
       "  </tbody>\n",
       "</table>\n",
       "</div>"
      ],
      "text/plain": [
       "           Open          High           Low         Close     Adj Close  \\\n",
       "0  41553.652344  41651.207031  39450.117188  39507.367188  39507.367188   \n",
       "1  39518.714844  40127.351562  38521.894531  39845.550781  39845.550781   \n",
       "2  39877.593750  40483.785156  39508.796875  40077.074219  40077.074219   \n",
       "3  40075.550781  40254.480469  39545.664062  39933.808594  39933.808594   \n",
       "4  39936.816406  42209.386719  39825.691406  41816.871094  41816.871094   \n",
       "5  41815.625000  42195.632812  41431.281250  42120.054688  42120.054688   \n",
       "6  42126.125000  42797.175781  41696.910156  42035.593750  42035.593750   \n",
       "\n",
       "         Volume  \n",
       "0  3.133871e+10  \n",
       "1  2.924455e+10  \n",
       "2  2.235953e+10  \n",
       "3  1.849178e+10  \n",
       "4  2.559812e+10  \n",
       "5  1.142294e+10  \n",
       "6  1.685897e+10  "
      ]
     },
     "execution_count": 25,
     "metadata": {},
     "output_type": "execute_result"
    }
   ],
   "source": [
    "y_test_scaled_df = pd.DataFrame(y_test_scaled, columns=['Open', 'High', 'Low', 'Close' , 'Adj Close', 'Volume'])  # Gerçek değerlerin DataFrame'e dönüştürülmesi\n",
    "y_test_scaled_df"
   ]
  },
  {
   "cell_type": "code",
   "execution_count": 26,
   "metadata": {},
   "outputs": [],
   "source": [
    "def prepare_data_for_forecasting(latest_data, time_step):\n",
    "    # Son kullanılabilir verileri al ve ölçeklendir\n",
    "    last_scaled_data = scaler.transform(latest_data)\n",
    "\n",
    "    # Son verileri model girdisi olarak hazırla\n",
    "    X = []\n",
    "    for i in range(len(last_scaled_data) - time_step):\n",
    "        X.append(last_scaled_data[i:i + time_step, 0:])\n",
    "\n",
    "    return np.array(X)\n"
   ]
  },
  {
   "cell_type": "code",
   "execution_count": 27,
   "metadata": {},
   "outputs": [],
   "source": [
    "def predict_future_prices(model, prepared_data, days_to_predict):\n",
    "    predictions = []\n",
    "\n",
    "    # Son verileri kullanarak gelecek günler için tahmin yap\n",
    "    current_batch = prepared_data[-1].reshape(1, prepared_data.shape[1], 6)\n",
    "\n",
    "    for i in range(days_to_predict):\n",
    "        # Tahmin yap ve sonucu sakla\n",
    "        current_pred = model.predict(current_batch)[0]\n",
    "        predictions.append(current_pred)\n",
    "        \n",
    "        # Sonraki tahmin için girdiyi güncelle\n",
    "        current_batch = np.append(current_batch[:,1:,:],[[current_pred]],axis=1)\n",
    "\n",
    "    return scaler.inverse_transform(predictions)\n"
   ]
  },
  {
   "cell_type": "code",
   "execution_count": 28,
   "metadata": {},
   "outputs": [],
   "source": [
    "days_to_predict = 30  # Kaç gün sonrası için tahmin yapılacağı\n",
    "\n",
    "btc_data_son_x = btc_data[-days_to_predict:]\n",
    "\n",
    "\n",
    "#btc_datadan son x günü sil (göz ile test için)\n",
    "btc_data = btc_data[:-days_to_predict]\n",
    "\n",
    "\n",
    "# Son kullanılabilir verileri al (örneğin son 100 gün)\n",
    "latest_data = btc_data\n",
    "\n",
    "# Verileri hazırla\n",
    "prepared_data = prepare_data_for_forecasting(latest_data, time_step=time_step) # Son 100 gündeki verileri kullanarak gelecek 30 gün için tahmin yap\n",
    "\n",
    "# Gelecek x gün için tahmin yap\n",
    "future_predictions = predict_future_prices(model, prepared_data, days_to_predict=days_to_predict) # Son 100 gündeki verileri kullanarak gelecek 30 gün için tahmin yapar\n",
    "\n"
   ]
  },
  {
   "cell_type": "code",
   "execution_count": 29,
   "metadata": {},
   "outputs": [
    {
     "data": {
      "text/html": [
       "<div>\n",
       "<style scoped>\n",
       "    .dataframe tbody tr th:only-of-type {\n",
       "        vertical-align: middle;\n",
       "    }\n",
       "\n",
       "    .dataframe tbody tr th {\n",
       "        vertical-align: top;\n",
       "    }\n",
       "\n",
       "    .dataframe thead th {\n",
       "        text-align: right;\n",
       "    }\n",
       "</style>\n",
       "<table border=\"1\" class=\"dataframe\">\n",
       "  <thead>\n",
       "    <tr style=\"text-align: right;\">\n",
       "      <th></th>\n",
       "      <th>Open</th>\n",
       "      <th>High</th>\n",
       "      <th>Low</th>\n",
       "      <th>Close</th>\n",
       "      <th>Adj Close</th>\n",
       "      <th>Volume</th>\n",
       "    </tr>\n",
       "    <tr>\n",
       "      <th>Date</th>\n",
       "      <th></th>\n",
       "      <th></th>\n",
       "      <th></th>\n",
       "      <th></th>\n",
       "      <th></th>\n",
       "      <th></th>\n",
       "    </tr>\n",
       "  </thead>\n",
       "  <tbody>\n",
       "    <tr>\n",
       "      <th>2023-12-30</th>\n",
       "      <td>42946.191285</td>\n",
       "      <td>44073.443410</td>\n",
       "      <td>41855.048694</td>\n",
       "      <td>42848.815778</td>\n",
       "      <td>42745.940543</td>\n",
       "      <td>3.314405e+10</td>\n",
       "    </tr>\n",
       "    <tr>\n",
       "      <th>2023-12-31</th>\n",
       "      <td>42814.045525</td>\n",
       "      <td>43922.334455</td>\n",
       "      <td>41710.004580</td>\n",
       "      <td>42721.009004</td>\n",
       "      <td>42626.207299</td>\n",
       "      <td>3.391738e+10</td>\n",
       "    </tr>\n",
       "    <tr>\n",
       "      <th>2024-01-01</th>\n",
       "      <td>42747.962605</td>\n",
       "      <td>43844.053574</td>\n",
       "      <td>41631.979189</td>\n",
       "      <td>42656.910808</td>\n",
       "      <td>42571.415753</td>\n",
       "      <td>3.456964e+10</td>\n",
       "    </tr>\n",
       "    <tr>\n",
       "      <th>2024-01-02</th>\n",
       "      <td>42681.176933</td>\n",
       "      <td>43761.100610</td>\n",
       "      <td>41555.844151</td>\n",
       "      <td>42593.001397</td>\n",
       "      <td>42514.941218</td>\n",
       "      <td>3.522950e+10</td>\n",
       "    </tr>\n",
       "    <tr>\n",
       "      <th>2024-01-03</th>\n",
       "      <td>42671.996965</td>\n",
       "      <td>43750.783606</td>\n",
       "      <td>41537.307645</td>\n",
       "      <td>42579.814633</td>\n",
       "      <td>42511.298088</td>\n",
       "      <td>3.553745e+10</td>\n",
       "    </tr>\n",
       "    <tr>\n",
       "      <th>2024-01-04</th>\n",
       "      <td>42628.197353</td>\n",
       "      <td>43697.796553</td>\n",
       "      <td>41486.224713</td>\n",
       "      <td>42540.804627</td>\n",
       "      <td>42475.758494</td>\n",
       "      <td>3.610772e+10</td>\n",
       "    </tr>\n",
       "    <tr>\n",
       "      <th>2024-01-05</th>\n",
       "      <td>42594.573612</td>\n",
       "      <td>43657.174372</td>\n",
       "      <td>41437.324171</td>\n",
       "      <td>42510.422451</td>\n",
       "      <td>42448.171929</td>\n",
       "      <td>3.672469e+10</td>\n",
       "    </tr>\n",
       "    <tr>\n",
       "      <th>2024-01-06</th>\n",
       "      <td>42612.082213</td>\n",
       "      <td>43684.099136</td>\n",
       "      <td>41445.785373</td>\n",
       "      <td>42536.735729</td>\n",
       "      <td>42472.745983</td>\n",
       "      <td>3.721552e+10</td>\n",
       "    </tr>\n",
       "    <tr>\n",
       "      <th>2024-01-07</th>\n",
       "      <td>42570.563538</td>\n",
       "      <td>43636.303285</td>\n",
       "      <td>41401.233826</td>\n",
       "      <td>42495.179147</td>\n",
       "      <td>42433.414643</td>\n",
       "      <td>3.739021e+10</td>\n",
       "    </tr>\n",
       "    <tr>\n",
       "      <th>2024-01-08</th>\n",
       "      <td>42542.075921</td>\n",
       "      <td>43604.138268</td>\n",
       "      <td>41370.218625</td>\n",
       "      <td>42467.319447</td>\n",
       "      <td>42407.008982</td>\n",
       "      <td>3.754750e+10</td>\n",
       "    </tr>\n",
       "    <tr>\n",
       "      <th>2024-01-09</th>\n",
       "      <td>42518.017659</td>\n",
       "      <td>43577.695835</td>\n",
       "      <td>41344.053619</td>\n",
       "      <td>42444.191398</td>\n",
       "      <td>42384.780669</td>\n",
       "      <td>3.768482e+10</td>\n",
       "    </tr>\n",
       "    <tr>\n",
       "      <th>2024-01-10</th>\n",
       "      <td>42497.441037</td>\n",
       "      <td>43556.080813</td>\n",
       "      <td>41321.957409</td>\n",
       "      <td>42424.871162</td>\n",
       "      <td>42365.838001</td>\n",
       "      <td>3.779842e+10</td>\n",
       "    </tr>\n",
       "    <tr>\n",
       "      <th>2024-01-11</th>\n",
       "      <td>42475.290248</td>\n",
       "      <td>43532.589600</td>\n",
       "      <td>41298.349706</td>\n",
       "      <td>42403.892037</td>\n",
       "      <td>42345.063727</td>\n",
       "      <td>3.789937e+10</td>\n",
       "    </tr>\n",
       "    <tr>\n",
       "      <th>2024-01-12</th>\n",
       "      <td>42454.685517</td>\n",
       "      <td>43511.195305</td>\n",
       "      <td>41276.802054</td>\n",
       "      <td>42384.455318</td>\n",
       "      <td>42325.614958</td>\n",
       "      <td>3.797676e+10</td>\n",
       "    </tr>\n",
       "    <tr>\n",
       "      <th>2024-01-13</th>\n",
       "      <td>42434.956216</td>\n",
       "      <td>43490.970053</td>\n",
       "      <td>41256.635662</td>\n",
       "      <td>42365.685367</td>\n",
       "      <td>42306.776724</td>\n",
       "      <td>3.802878e+10</td>\n",
       "    </tr>\n",
       "    <tr>\n",
       "      <th>2024-01-14</th>\n",
       "      <td>42411.717163</td>\n",
       "      <td>43466.154471</td>\n",
       "      <td>41233.154246</td>\n",
       "      <td>42342.758152</td>\n",
       "      <td>42284.026242</td>\n",
       "      <td>3.806039e+10</td>\n",
       "    </tr>\n",
       "    <tr>\n",
       "      <th>2024-01-15</th>\n",
       "      <td>42390.670701</td>\n",
       "      <td>43444.081641</td>\n",
       "      <td>41212.028864</td>\n",
       "      <td>42322.144545</td>\n",
       "      <td>42263.440752</td>\n",
       "      <td>3.808604e+10</td>\n",
       "    </tr>\n",
       "    <tr>\n",
       "      <th>2024-01-16</th>\n",
       "      <td>42370.298882</td>\n",
       "      <td>43422.903988</td>\n",
       "      <td>41191.712506</td>\n",
       "      <td>42302.249924</td>\n",
       "      <td>42243.457764</td>\n",
       "      <td>3.810553e+10</td>\n",
       "    </tr>\n",
       "    <tr>\n",
       "      <th>2024-01-17</th>\n",
       "      <td>42350.159976</td>\n",
       "      <td>43402.053339</td>\n",
       "      <td>41171.731597</td>\n",
       "      <td>42282.548104</td>\n",
       "      <td>42223.655526</td>\n",
       "      <td>3.811932e+10</td>\n",
       "    </tr>\n",
       "    <tr>\n",
       "      <th>2024-01-18</th>\n",
       "      <td>42330.005007</td>\n",
       "      <td>43381.169990</td>\n",
       "      <td>41151.813832</td>\n",
       "      <td>42262.778000</td>\n",
       "      <td>42203.760905</td>\n",
       "      <td>3.812821e+10</td>\n",
       "    </tr>\n",
       "    <tr>\n",
       "      <th>2024-01-19</th>\n",
       "      <td>42310.034761</td>\n",
       "      <td>43360.491018</td>\n",
       "      <td>41132.164425</td>\n",
       "      <td>42243.172580</td>\n",
       "      <td>42183.998835</td>\n",
       "      <td>3.813278e+10</td>\n",
       "    </tr>\n",
       "    <tr>\n",
       "      <th>2024-01-20</th>\n",
       "      <td>42290.144831</td>\n",
       "      <td>43339.881536</td>\n",
       "      <td>41112.653144</td>\n",
       "      <td>42223.591260</td>\n",
       "      <td>42164.272914</td>\n",
       "      <td>3.813399e+10</td>\n",
       "    </tr>\n",
       "    <tr>\n",
       "      <th>2024-01-21</th>\n",
       "      <td>42270.315136</td>\n",
       "      <td>43319.296579</td>\n",
       "      <td>41093.212899</td>\n",
       "      <td>42204.021990</td>\n",
       "      <td>42144.563060</td>\n",
       "      <td>3.813291e+10</td>\n",
       "    </tr>\n",
       "    <tr>\n",
       "      <th>2024-01-22</th>\n",
       "      <td>42250.850873</td>\n",
       "      <td>43299.181691</td>\n",
       "      <td>41074.190979</td>\n",
       "      <td>42184.842338</td>\n",
       "      <td>42125.218725</td>\n",
       "      <td>3.813030e+10</td>\n",
       "    </tr>\n",
       "    <tr>\n",
       "      <th>2024-01-23</th>\n",
       "      <td>42231.567318</td>\n",
       "      <td>43279.258918</td>\n",
       "      <td>41055.362436</td>\n",
       "      <td>42165.823353</td>\n",
       "      <td>42106.023006</td>\n",
       "      <td>3.812639e+10</td>\n",
       "    </tr>\n",
       "    <tr>\n",
       "      <th>2024-01-24</th>\n",
       "      <td>42212.400220</td>\n",
       "      <td>43259.442423</td>\n",
       "      <td>41036.675964</td>\n",
       "      <td>42146.912819</td>\n",
       "      <td>42086.931721</td>\n",
       "      <td>3.812141e+10</td>\n",
       "    </tr>\n",
       "    <tr>\n",
       "      <th>2024-01-25</th>\n",
       "      <td>42193.365640</td>\n",
       "      <td>43239.773079</td>\n",
       "      <td>41018.119726</td>\n",
       "      <td>42128.122785</td>\n",
       "      <td>42067.964953</td>\n",
       "      <td>3.811557e+10</td>\n",
       "    </tr>\n",
       "    <tr>\n",
       "      <th>2024-01-26</th>\n",
       "      <td>42174.475627</td>\n",
       "      <td>43220.254975</td>\n",
       "      <td>40999.709507</td>\n",
       "      <td>42109.469318</td>\n",
       "      <td>42049.134753</td>\n",
       "      <td>3.810908e+10</td>\n",
       "    </tr>\n",
       "    <tr>\n",
       "      <th>2024-01-27</th>\n",
       "      <td>42155.734197</td>\n",
       "      <td>43200.888111</td>\n",
       "      <td>40981.476878</td>\n",
       "      <td>42090.952419</td>\n",
       "      <td>42030.437103</td>\n",
       "      <td>3.810209e+10</td>\n",
       "    </tr>\n",
       "    <tr>\n",
       "      <th>2024-01-28</th>\n",
       "      <td>42137.137332</td>\n",
       "      <td>43181.684750</td>\n",
       "      <td>40963.378428</td>\n",
       "      <td>42072.584137</td>\n",
       "      <td>42011.896103</td>\n",
       "      <td>3.809478e+10</td>\n",
       "    </tr>\n",
       "  </tbody>\n",
       "</table>\n",
       "</div>"
      ],
      "text/plain": [
       "                    Open          High           Low         Close  \\\n",
       "Date                                                                 \n",
       "2023-12-30  42946.191285  44073.443410  41855.048694  42848.815778   \n",
       "2023-12-31  42814.045525  43922.334455  41710.004580  42721.009004   \n",
       "2024-01-01  42747.962605  43844.053574  41631.979189  42656.910808   \n",
       "2024-01-02  42681.176933  43761.100610  41555.844151  42593.001397   \n",
       "2024-01-03  42671.996965  43750.783606  41537.307645  42579.814633   \n",
       "2024-01-04  42628.197353  43697.796553  41486.224713  42540.804627   \n",
       "2024-01-05  42594.573612  43657.174372  41437.324171  42510.422451   \n",
       "2024-01-06  42612.082213  43684.099136  41445.785373  42536.735729   \n",
       "2024-01-07  42570.563538  43636.303285  41401.233826  42495.179147   \n",
       "2024-01-08  42542.075921  43604.138268  41370.218625  42467.319447   \n",
       "2024-01-09  42518.017659  43577.695835  41344.053619  42444.191398   \n",
       "2024-01-10  42497.441037  43556.080813  41321.957409  42424.871162   \n",
       "2024-01-11  42475.290248  43532.589600  41298.349706  42403.892037   \n",
       "2024-01-12  42454.685517  43511.195305  41276.802054  42384.455318   \n",
       "2024-01-13  42434.956216  43490.970053  41256.635662  42365.685367   \n",
       "2024-01-14  42411.717163  43466.154471  41233.154246  42342.758152   \n",
       "2024-01-15  42390.670701  43444.081641  41212.028864  42322.144545   \n",
       "2024-01-16  42370.298882  43422.903988  41191.712506  42302.249924   \n",
       "2024-01-17  42350.159976  43402.053339  41171.731597  42282.548104   \n",
       "2024-01-18  42330.005007  43381.169990  41151.813832  42262.778000   \n",
       "2024-01-19  42310.034761  43360.491018  41132.164425  42243.172580   \n",
       "2024-01-20  42290.144831  43339.881536  41112.653144  42223.591260   \n",
       "2024-01-21  42270.315136  43319.296579  41093.212899  42204.021990   \n",
       "2024-01-22  42250.850873  43299.181691  41074.190979  42184.842338   \n",
       "2024-01-23  42231.567318  43279.258918  41055.362436  42165.823353   \n",
       "2024-01-24  42212.400220  43259.442423  41036.675964  42146.912819   \n",
       "2024-01-25  42193.365640  43239.773079  41018.119726  42128.122785   \n",
       "2024-01-26  42174.475627  43220.254975  40999.709507  42109.469318   \n",
       "2024-01-27  42155.734197  43200.888111  40981.476878  42090.952419   \n",
       "2024-01-28  42137.137332  43181.684750  40963.378428  42072.584137   \n",
       "\n",
       "               Adj Close        Volume  \n",
       "Date                                    \n",
       "2023-12-30  42745.940543  3.314405e+10  \n",
       "2023-12-31  42626.207299  3.391738e+10  \n",
       "2024-01-01  42571.415753  3.456964e+10  \n",
       "2024-01-02  42514.941218  3.522950e+10  \n",
       "2024-01-03  42511.298088  3.553745e+10  \n",
       "2024-01-04  42475.758494  3.610772e+10  \n",
       "2024-01-05  42448.171929  3.672469e+10  \n",
       "2024-01-06  42472.745983  3.721552e+10  \n",
       "2024-01-07  42433.414643  3.739021e+10  \n",
       "2024-01-08  42407.008982  3.754750e+10  \n",
       "2024-01-09  42384.780669  3.768482e+10  \n",
       "2024-01-10  42365.838001  3.779842e+10  \n",
       "2024-01-11  42345.063727  3.789937e+10  \n",
       "2024-01-12  42325.614958  3.797676e+10  \n",
       "2024-01-13  42306.776724  3.802878e+10  \n",
       "2024-01-14  42284.026242  3.806039e+10  \n",
       "2024-01-15  42263.440752  3.808604e+10  \n",
       "2024-01-16  42243.457764  3.810553e+10  \n",
       "2024-01-17  42223.655526  3.811932e+10  \n",
       "2024-01-18  42203.760905  3.812821e+10  \n",
       "2024-01-19  42183.998835  3.813278e+10  \n",
       "2024-01-20  42164.272914  3.813399e+10  \n",
       "2024-01-21  42144.563060  3.813291e+10  \n",
       "2024-01-22  42125.218725  3.813030e+10  \n",
       "2024-01-23  42106.023006  3.812639e+10  \n",
       "2024-01-24  42086.931721  3.812141e+10  \n",
       "2024-01-25  42067.964953  3.811557e+10  \n",
       "2024-01-26  42049.134753  3.810908e+10  \n",
       "2024-01-27  42030.437103  3.810209e+10  \n",
       "2024-01-28  42011.896103  3.809478e+10  "
      ]
     },
     "execution_count": 29,
     "metadata": {},
     "output_type": "execute_result"
    }
   ],
   "source": [
    "# Tahmin edilen verileri df yap\n",
    "future_predictions_df = pd.DataFrame(future_predictions,columns=['Open', 'High', 'Low', 'Close' , 'Adj Close', 'Volume'])\n",
    "\n",
    "#btc_datanın son tarihinden başlayarak x gün boyunca tarihleri oluştur\n",
    "future_predictions_df['Date'] = pd.date_range(start=btc_data.index[-1], periods=len(future_predictions_df), freq='D')\n",
    "\n",
    "# Tarihi indeks olarak ayarla\n",
    "future_predictions_df.set_index('Date', inplace=True)\n",
    "future_predictions_df"
   ]
  },
  {
   "cell_type": "code",
   "execution_count": 30,
   "metadata": {},
   "outputs": [
    {
     "data": {
      "text/html": [
       "<div>\n",
       "<style scoped>\n",
       "    .dataframe tbody tr th:only-of-type {\n",
       "        vertical-align: middle;\n",
       "    }\n",
       "\n",
       "    .dataframe tbody tr th {\n",
       "        vertical-align: top;\n",
       "    }\n",
       "\n",
       "    .dataframe thead th {\n",
       "        text-align: right;\n",
       "    }\n",
       "</style>\n",
       "<table border=\"1\" class=\"dataframe\">\n",
       "  <thead>\n",
       "    <tr style=\"text-align: right;\">\n",
       "      <th></th>\n",
       "      <th>Open</th>\n",
       "      <th>High</th>\n",
       "      <th>Low</th>\n",
       "      <th>Close</th>\n",
       "      <th>Adj Close</th>\n",
       "      <th>Volume</th>\n",
       "    </tr>\n",
       "    <tr>\n",
       "      <th>Date</th>\n",
       "      <th></th>\n",
       "      <th></th>\n",
       "      <th></th>\n",
       "      <th></th>\n",
       "      <th></th>\n",
       "      <th></th>\n",
       "    </tr>\n",
       "  </thead>\n",
       "  <tbody>\n",
       "    <tr>\n",
       "      <th>2023-12-31</th>\n",
       "      <td>42152.097656</td>\n",
       "      <td>42860.937500</td>\n",
       "      <td>41998.253906</td>\n",
       "      <td>42265.187500</td>\n",
       "      <td>42265.187500</td>\n",
       "      <td>16397498810</td>\n",
       "    </tr>\n",
       "    <tr>\n",
       "      <th>2024-01-01</th>\n",
       "      <td>42280.234375</td>\n",
       "      <td>44175.437500</td>\n",
       "      <td>42214.976562</td>\n",
       "      <td>44167.332031</td>\n",
       "      <td>44167.332031</td>\n",
       "      <td>18426978443</td>\n",
       "    </tr>\n",
       "    <tr>\n",
       "      <th>2024-01-02</th>\n",
       "      <td>44187.140625</td>\n",
       "      <td>45899.707031</td>\n",
       "      <td>44176.949219</td>\n",
       "      <td>44957.968750</td>\n",
       "      <td>44957.968750</td>\n",
       "      <td>39335274536</td>\n",
       "    </tr>\n",
       "    <tr>\n",
       "      <th>2024-01-03</th>\n",
       "      <td>44961.601562</td>\n",
       "      <td>45503.242188</td>\n",
       "      <td>40813.535156</td>\n",
       "      <td>42848.175781</td>\n",
       "      <td>42848.175781</td>\n",
       "      <td>46342323118</td>\n",
       "    </tr>\n",
       "    <tr>\n",
       "      <th>2024-01-04</th>\n",
       "      <td>42855.816406</td>\n",
       "      <td>44770.023438</td>\n",
       "      <td>42675.175781</td>\n",
       "      <td>44179.921875</td>\n",
       "      <td>44179.921875</td>\n",
       "      <td>30448091210</td>\n",
       "    </tr>\n",
       "    <tr>\n",
       "      <th>2024-01-05</th>\n",
       "      <td>44192.980469</td>\n",
       "      <td>44353.285156</td>\n",
       "      <td>42784.718750</td>\n",
       "      <td>44162.691406</td>\n",
       "      <td>44162.691406</td>\n",
       "      <td>32336029347</td>\n",
       "    </tr>\n",
       "    <tr>\n",
       "      <th>2024-01-06</th>\n",
       "      <td>44178.953125</td>\n",
       "      <td>44227.632812</td>\n",
       "      <td>43475.156250</td>\n",
       "      <td>43989.195312</td>\n",
       "      <td>43989.195312</td>\n",
       "      <td>16092503468</td>\n",
       "    </tr>\n",
       "    <tr>\n",
       "      <th>2024-01-07</th>\n",
       "      <td>43998.464844</td>\n",
       "      <td>44495.570312</td>\n",
       "      <td>43662.230469</td>\n",
       "      <td>43943.097656</td>\n",
       "      <td>43943.097656</td>\n",
       "      <td>19330573863</td>\n",
       "    </tr>\n",
       "    <tr>\n",
       "      <th>2024-01-08</th>\n",
       "      <td>43948.707031</td>\n",
       "      <td>47218.000000</td>\n",
       "      <td>43244.082031</td>\n",
       "      <td>46970.503906</td>\n",
       "      <td>46970.503906</td>\n",
       "      <td>42746192015</td>\n",
       "    </tr>\n",
       "    <tr>\n",
       "      <th>2024-01-09</th>\n",
       "      <td>46987.640625</td>\n",
       "      <td>47893.699219</td>\n",
       "      <td>45244.714844</td>\n",
       "      <td>46139.730469</td>\n",
       "      <td>46139.730469</td>\n",
       "      <td>39821290992</td>\n",
       "    </tr>\n",
       "    <tr>\n",
       "      <th>2024-01-10</th>\n",
       "      <td>46121.539062</td>\n",
       "      <td>47647.222656</td>\n",
       "      <td>44483.152344</td>\n",
       "      <td>46627.777344</td>\n",
       "      <td>46627.777344</td>\n",
       "      <td>50114613298</td>\n",
       "    </tr>\n",
       "    <tr>\n",
       "      <th>2024-01-11</th>\n",
       "      <td>46656.074219</td>\n",
       "      <td>48969.371094</td>\n",
       "      <td>45678.644531</td>\n",
       "      <td>46368.585938</td>\n",
       "      <td>46368.585938</td>\n",
       "      <td>45833734549</td>\n",
       "    </tr>\n",
       "    <tr>\n",
       "      <th>2024-01-12</th>\n",
       "      <td>46354.792969</td>\n",
       "      <td>46498.136719</td>\n",
       "      <td>41903.769531</td>\n",
       "      <td>42853.167969</td>\n",
       "      <td>42853.167969</td>\n",
       "      <td>43332698900</td>\n",
       "    </tr>\n",
       "    <tr>\n",
       "      <th>2024-01-13</th>\n",
       "      <td>42799.445312</td>\n",
       "      <td>43234.660156</td>\n",
       "      <td>42464.144531</td>\n",
       "      <td>42842.382812</td>\n",
       "      <td>42842.382812</td>\n",
       "      <td>20601860469</td>\n",
       "    </tr>\n",
       "    <tr>\n",
       "      <th>2024-01-14</th>\n",
       "      <td>42842.261719</td>\n",
       "      <td>43065.597656</td>\n",
       "      <td>41724.613281</td>\n",
       "      <td>41796.269531</td>\n",
       "      <td>41796.269531</td>\n",
       "      <td>17521429522</td>\n",
       "    </tr>\n",
       "    <tr>\n",
       "      <th>2024-01-15</th>\n",
       "      <td>41715.066406</td>\n",
       "      <td>43319.722656</td>\n",
       "      <td>41705.417969</td>\n",
       "      <td>42511.968750</td>\n",
       "      <td>42511.968750</td>\n",
       "      <td>22320220558</td>\n",
       "    </tr>\n",
       "    <tr>\n",
       "      <th>2024-01-16</th>\n",
       "      <td>42499.335938</td>\n",
       "      <td>43566.273438</td>\n",
       "      <td>42085.996094</td>\n",
       "      <td>43154.945312</td>\n",
       "      <td>43154.945312</td>\n",
       "      <td>24062872740</td>\n",
       "    </tr>\n",
       "    <tr>\n",
       "      <th>2024-01-17</th>\n",
       "      <td>43132.101562</td>\n",
       "      <td>43189.890625</td>\n",
       "      <td>42189.308594</td>\n",
       "      <td>42742.652344</td>\n",
       "      <td>42742.652344</td>\n",
       "      <td>20851232595</td>\n",
       "    </tr>\n",
       "    <tr>\n",
       "      <th>2024-01-18</th>\n",
       "      <td>42742.312500</td>\n",
       "      <td>42876.347656</td>\n",
       "      <td>40631.171875</td>\n",
       "      <td>41262.058594</td>\n",
       "      <td>41262.058594</td>\n",
       "      <td>25218357242</td>\n",
       "    </tr>\n",
       "    <tr>\n",
       "      <th>2024-01-19</th>\n",
       "      <td>41278.460938</td>\n",
       "      <td>42134.160156</td>\n",
       "      <td>40297.457031</td>\n",
       "      <td>41618.406250</td>\n",
       "      <td>41618.406250</td>\n",
       "      <td>25752407154</td>\n",
       "    </tr>\n",
       "    <tr>\n",
       "      <th>2024-01-20</th>\n",
       "      <td>41624.589844</td>\n",
       "      <td>41877.894531</td>\n",
       "      <td>41446.824219</td>\n",
       "      <td>41665.585938</td>\n",
       "      <td>41665.585938</td>\n",
       "      <td>11586690904</td>\n",
       "    </tr>\n",
       "    <tr>\n",
       "      <th>2024-01-21</th>\n",
       "      <td>41671.488281</td>\n",
       "      <td>41855.367188</td>\n",
       "      <td>41497.007812</td>\n",
       "      <td>41545.785156</td>\n",
       "      <td>41545.785156</td>\n",
       "      <td>9344043642</td>\n",
       "    </tr>\n",
       "    <tr>\n",
       "      <th>2024-01-22</th>\n",
       "      <td>41553.652344</td>\n",
       "      <td>41651.207031</td>\n",
       "      <td>39450.117188</td>\n",
       "      <td>39507.367188</td>\n",
       "      <td>39507.367188</td>\n",
       "      <td>31338708143</td>\n",
       "    </tr>\n",
       "    <tr>\n",
       "      <th>2024-01-23</th>\n",
       "      <td>39518.714844</td>\n",
       "      <td>40127.351562</td>\n",
       "      <td>38521.894531</td>\n",
       "      <td>39845.550781</td>\n",
       "      <td>39845.550781</td>\n",
       "      <td>29244553045</td>\n",
       "    </tr>\n",
       "    <tr>\n",
       "      <th>2024-01-24</th>\n",
       "      <td>39877.593750</td>\n",
       "      <td>40483.785156</td>\n",
       "      <td>39508.796875</td>\n",
       "      <td>40077.074219</td>\n",
       "      <td>40077.074219</td>\n",
       "      <td>22359526178</td>\n",
       "    </tr>\n",
       "    <tr>\n",
       "      <th>2024-01-25</th>\n",
       "      <td>40075.550781</td>\n",
       "      <td>40254.480469</td>\n",
       "      <td>39545.664062</td>\n",
       "      <td>39933.808594</td>\n",
       "      <td>39933.808594</td>\n",
       "      <td>18491782013</td>\n",
       "    </tr>\n",
       "    <tr>\n",
       "      <th>2024-01-26</th>\n",
       "      <td>39936.816406</td>\n",
       "      <td>42209.386719</td>\n",
       "      <td>39825.691406</td>\n",
       "      <td>41816.871094</td>\n",
       "      <td>41816.871094</td>\n",
       "      <td>25598119893</td>\n",
       "    </tr>\n",
       "    <tr>\n",
       "      <th>2024-01-27</th>\n",
       "      <td>41815.625000</td>\n",
       "      <td>42195.632812</td>\n",
       "      <td>41431.281250</td>\n",
       "      <td>42120.054688</td>\n",
       "      <td>42120.054688</td>\n",
       "      <td>11422941934</td>\n",
       "    </tr>\n",
       "    <tr>\n",
       "      <th>2024-01-28</th>\n",
       "      <td>42126.125000</td>\n",
       "      <td>42797.175781</td>\n",
       "      <td>41696.910156</td>\n",
       "      <td>42035.593750</td>\n",
       "      <td>42035.593750</td>\n",
       "      <td>16858971687</td>\n",
       "    </tr>\n",
       "    <tr>\n",
       "      <th>2024-01-30</th>\n",
       "      <td>43300.226562</td>\n",
       "      <td>43300.226562</td>\n",
       "      <td>43181.812500</td>\n",
       "      <td>43189.644531</td>\n",
       "      <td>43189.644531</td>\n",
       "      <td>20728739840</td>\n",
       "    </tr>\n",
       "  </tbody>\n",
       "</table>\n",
       "</div>"
      ],
      "text/plain": [
       "                    Open          High           Low         Close  \\\n",
       "Date                                                                 \n",
       "2023-12-31  42152.097656  42860.937500  41998.253906  42265.187500   \n",
       "2024-01-01  42280.234375  44175.437500  42214.976562  44167.332031   \n",
       "2024-01-02  44187.140625  45899.707031  44176.949219  44957.968750   \n",
       "2024-01-03  44961.601562  45503.242188  40813.535156  42848.175781   \n",
       "2024-01-04  42855.816406  44770.023438  42675.175781  44179.921875   \n",
       "2024-01-05  44192.980469  44353.285156  42784.718750  44162.691406   \n",
       "2024-01-06  44178.953125  44227.632812  43475.156250  43989.195312   \n",
       "2024-01-07  43998.464844  44495.570312  43662.230469  43943.097656   \n",
       "2024-01-08  43948.707031  47218.000000  43244.082031  46970.503906   \n",
       "2024-01-09  46987.640625  47893.699219  45244.714844  46139.730469   \n",
       "2024-01-10  46121.539062  47647.222656  44483.152344  46627.777344   \n",
       "2024-01-11  46656.074219  48969.371094  45678.644531  46368.585938   \n",
       "2024-01-12  46354.792969  46498.136719  41903.769531  42853.167969   \n",
       "2024-01-13  42799.445312  43234.660156  42464.144531  42842.382812   \n",
       "2024-01-14  42842.261719  43065.597656  41724.613281  41796.269531   \n",
       "2024-01-15  41715.066406  43319.722656  41705.417969  42511.968750   \n",
       "2024-01-16  42499.335938  43566.273438  42085.996094  43154.945312   \n",
       "2024-01-17  43132.101562  43189.890625  42189.308594  42742.652344   \n",
       "2024-01-18  42742.312500  42876.347656  40631.171875  41262.058594   \n",
       "2024-01-19  41278.460938  42134.160156  40297.457031  41618.406250   \n",
       "2024-01-20  41624.589844  41877.894531  41446.824219  41665.585938   \n",
       "2024-01-21  41671.488281  41855.367188  41497.007812  41545.785156   \n",
       "2024-01-22  41553.652344  41651.207031  39450.117188  39507.367188   \n",
       "2024-01-23  39518.714844  40127.351562  38521.894531  39845.550781   \n",
       "2024-01-24  39877.593750  40483.785156  39508.796875  40077.074219   \n",
       "2024-01-25  40075.550781  40254.480469  39545.664062  39933.808594   \n",
       "2024-01-26  39936.816406  42209.386719  39825.691406  41816.871094   \n",
       "2024-01-27  41815.625000  42195.632812  41431.281250  42120.054688   \n",
       "2024-01-28  42126.125000  42797.175781  41696.910156  42035.593750   \n",
       "2024-01-30  43300.226562  43300.226562  43181.812500  43189.644531   \n",
       "\n",
       "               Adj Close       Volume  \n",
       "Date                                   \n",
       "2023-12-31  42265.187500  16397498810  \n",
       "2024-01-01  44167.332031  18426978443  \n",
       "2024-01-02  44957.968750  39335274536  \n",
       "2024-01-03  42848.175781  46342323118  \n",
       "2024-01-04  44179.921875  30448091210  \n",
       "2024-01-05  44162.691406  32336029347  \n",
       "2024-01-06  43989.195312  16092503468  \n",
       "2024-01-07  43943.097656  19330573863  \n",
       "2024-01-08  46970.503906  42746192015  \n",
       "2024-01-09  46139.730469  39821290992  \n",
       "2024-01-10  46627.777344  50114613298  \n",
       "2024-01-11  46368.585938  45833734549  \n",
       "2024-01-12  42853.167969  43332698900  \n",
       "2024-01-13  42842.382812  20601860469  \n",
       "2024-01-14  41796.269531  17521429522  \n",
       "2024-01-15  42511.968750  22320220558  \n",
       "2024-01-16  43154.945312  24062872740  \n",
       "2024-01-17  42742.652344  20851232595  \n",
       "2024-01-18  41262.058594  25218357242  \n",
       "2024-01-19  41618.406250  25752407154  \n",
       "2024-01-20  41665.585938  11586690904  \n",
       "2024-01-21  41545.785156   9344043642  \n",
       "2024-01-22  39507.367188  31338708143  \n",
       "2024-01-23  39845.550781  29244553045  \n",
       "2024-01-24  40077.074219  22359526178  \n",
       "2024-01-25  39933.808594  18491782013  \n",
       "2024-01-26  41816.871094  25598119893  \n",
       "2024-01-27  42120.054688  11422941934  \n",
       "2024-01-28  42035.593750  16858971687  \n",
       "2024-01-30  43189.644531  20728739840  "
      ]
     },
     "execution_count": 30,
     "metadata": {},
     "output_type": "execute_result"
    }
   ],
   "source": [
    "btc_data_son_x"
   ]
  },
  {
   "cell_type": "code",
   "execution_count": 31,
   "metadata": {},
   "outputs": [
    {
     "data": {
      "application/vnd.plotly.v1+json": {
       "config": {
        "plotlyServerURL": "https://plot.ly"
       },
       "data": [
        {
         "name": "Gerçek Veri",
         "type": "scatter",
         "x": [
          "2023-12-31T00:00:00",
          "2024-01-01T00:00:00",
          "2024-01-02T00:00:00",
          "2024-01-03T00:00:00",
          "2024-01-04T00:00:00",
          "2024-01-05T00:00:00",
          "2024-01-06T00:00:00",
          "2024-01-07T00:00:00",
          "2024-01-08T00:00:00",
          "2024-01-09T00:00:00",
          "2024-01-10T00:00:00",
          "2024-01-11T00:00:00",
          "2024-01-12T00:00:00",
          "2024-01-13T00:00:00",
          "2024-01-14T00:00:00",
          "2024-01-15T00:00:00",
          "2024-01-16T00:00:00",
          "2024-01-17T00:00:00",
          "2024-01-18T00:00:00",
          "2024-01-19T00:00:00",
          "2024-01-20T00:00:00",
          "2024-01-21T00:00:00",
          "2024-01-22T00:00:00",
          "2024-01-23T00:00:00",
          "2024-01-24T00:00:00",
          "2024-01-25T00:00:00",
          "2024-01-26T00:00:00",
          "2024-01-27T00:00:00",
          "2024-01-28T00:00:00",
          "2024-01-30T00:00:00"
         ],
         "y": [
          42265.1875,
          44167.33203125,
          44957.96875,
          42848.17578125,
          44179.921875,
          44162.69140625,
          43989.1953125,
          43943.09765625,
          46970.50390625,
          46139.73046875,
          46627.77734375,
          46368.5859375,
          42853.16796875,
          42842.3828125,
          41796.26953125,
          42511.96875,
          43154.9453125,
          42742.65234375,
          41262.05859375,
          41618.40625,
          41665.5859375,
          41545.78515625,
          39507.3671875,
          39845.55078125,
          40077.07421875,
          39933.80859375,
          41816.87109375,
          42120.0546875,
          42035.59375,
          43189.64453125
         ]
        },
        {
         "name": "Tahmin",
         "type": "scatter",
         "x": [
          "2023-12-30T00:00:00",
          "2023-12-31T00:00:00",
          "2024-01-01T00:00:00",
          "2024-01-02T00:00:00",
          "2024-01-03T00:00:00",
          "2024-01-04T00:00:00",
          "2024-01-05T00:00:00",
          "2024-01-06T00:00:00",
          "2024-01-07T00:00:00",
          "2024-01-08T00:00:00",
          "2024-01-09T00:00:00",
          "2024-01-10T00:00:00",
          "2024-01-11T00:00:00",
          "2024-01-12T00:00:00",
          "2024-01-13T00:00:00",
          "2024-01-14T00:00:00",
          "2024-01-15T00:00:00",
          "2024-01-16T00:00:00",
          "2024-01-17T00:00:00",
          "2024-01-18T00:00:00",
          "2024-01-19T00:00:00",
          "2024-01-20T00:00:00",
          "2024-01-21T00:00:00",
          "2024-01-22T00:00:00",
          "2024-01-23T00:00:00",
          "2024-01-24T00:00:00",
          "2024-01-25T00:00:00",
          "2024-01-26T00:00:00",
          "2024-01-27T00:00:00",
          "2024-01-28T00:00:00"
         ],
         "y": [
          42848.81577761404,
          42721.00900413903,
          42656.910808371904,
          42593.00139661286,
          42579.81463281392,
          42540.80462671727,
          42510.422451458304,
          42536.73572884084,
          42495.17914697552,
          42467.31944739908,
          42444.191398067895,
          42424.87116234663,
          42403.89203736282,
          42384.45531789189,
          42365.685367470796,
          42342.75815219076,
          42322.144545180054,
          42302.24992407248,
          42282.54810365402,
          42262.777999658174,
          42243.172579584265,
          42223.591259596506,
          42204.02198965181,
          42184.84233776636,
          42165.82335312183,
          42146.91281886493,
          42128.12278503872,
          42109.4693183673,
          42090.95241885066,
          42072.584136531885
         ]
        }
       ],
       "layout": {
        "template": {
         "data": {
          "bar": [
           {
            "error_x": {
             "color": "#2a3f5f"
            },
            "error_y": {
             "color": "#2a3f5f"
            },
            "marker": {
             "line": {
              "color": "#E5ECF6",
              "width": 0.5
             },
             "pattern": {
              "fillmode": "overlay",
              "size": 10,
              "solidity": 0.2
             }
            },
            "type": "bar"
           }
          ],
          "barpolar": [
           {
            "marker": {
             "line": {
              "color": "#E5ECF6",
              "width": 0.5
             },
             "pattern": {
              "fillmode": "overlay",
              "size": 10,
              "solidity": 0.2
             }
            },
            "type": "barpolar"
           }
          ],
          "carpet": [
           {
            "aaxis": {
             "endlinecolor": "#2a3f5f",
             "gridcolor": "white",
             "linecolor": "white",
             "minorgridcolor": "white",
             "startlinecolor": "#2a3f5f"
            },
            "baxis": {
             "endlinecolor": "#2a3f5f",
             "gridcolor": "white",
             "linecolor": "white",
             "minorgridcolor": "white",
             "startlinecolor": "#2a3f5f"
            },
            "type": "carpet"
           }
          ],
          "choropleth": [
           {
            "colorbar": {
             "outlinewidth": 0,
             "ticks": ""
            },
            "type": "choropleth"
           }
          ],
          "contour": [
           {
            "colorbar": {
             "outlinewidth": 0,
             "ticks": ""
            },
            "colorscale": [
             [
              0,
              "#0d0887"
             ],
             [
              0.1111111111111111,
              "#46039f"
             ],
             [
              0.2222222222222222,
              "#7201a8"
             ],
             [
              0.3333333333333333,
              "#9c179e"
             ],
             [
              0.4444444444444444,
              "#bd3786"
             ],
             [
              0.5555555555555556,
              "#d8576b"
             ],
             [
              0.6666666666666666,
              "#ed7953"
             ],
             [
              0.7777777777777778,
              "#fb9f3a"
             ],
             [
              0.8888888888888888,
              "#fdca26"
             ],
             [
              1,
              "#f0f921"
             ]
            ],
            "type": "contour"
           }
          ],
          "contourcarpet": [
           {
            "colorbar": {
             "outlinewidth": 0,
             "ticks": ""
            },
            "type": "contourcarpet"
           }
          ],
          "heatmap": [
           {
            "colorbar": {
             "outlinewidth": 0,
             "ticks": ""
            },
            "colorscale": [
             [
              0,
              "#0d0887"
             ],
             [
              0.1111111111111111,
              "#46039f"
             ],
             [
              0.2222222222222222,
              "#7201a8"
             ],
             [
              0.3333333333333333,
              "#9c179e"
             ],
             [
              0.4444444444444444,
              "#bd3786"
             ],
             [
              0.5555555555555556,
              "#d8576b"
             ],
             [
              0.6666666666666666,
              "#ed7953"
             ],
             [
              0.7777777777777778,
              "#fb9f3a"
             ],
             [
              0.8888888888888888,
              "#fdca26"
             ],
             [
              1,
              "#f0f921"
             ]
            ],
            "type": "heatmap"
           }
          ],
          "heatmapgl": [
           {
            "colorbar": {
             "outlinewidth": 0,
             "ticks": ""
            },
            "colorscale": [
             [
              0,
              "#0d0887"
             ],
             [
              0.1111111111111111,
              "#46039f"
             ],
             [
              0.2222222222222222,
              "#7201a8"
             ],
             [
              0.3333333333333333,
              "#9c179e"
             ],
             [
              0.4444444444444444,
              "#bd3786"
             ],
             [
              0.5555555555555556,
              "#d8576b"
             ],
             [
              0.6666666666666666,
              "#ed7953"
             ],
             [
              0.7777777777777778,
              "#fb9f3a"
             ],
             [
              0.8888888888888888,
              "#fdca26"
             ],
             [
              1,
              "#f0f921"
             ]
            ],
            "type": "heatmapgl"
           }
          ],
          "histogram": [
           {
            "marker": {
             "pattern": {
              "fillmode": "overlay",
              "size": 10,
              "solidity": 0.2
             }
            },
            "type": "histogram"
           }
          ],
          "histogram2d": [
           {
            "colorbar": {
             "outlinewidth": 0,
             "ticks": ""
            },
            "colorscale": [
             [
              0,
              "#0d0887"
             ],
             [
              0.1111111111111111,
              "#46039f"
             ],
             [
              0.2222222222222222,
              "#7201a8"
             ],
             [
              0.3333333333333333,
              "#9c179e"
             ],
             [
              0.4444444444444444,
              "#bd3786"
             ],
             [
              0.5555555555555556,
              "#d8576b"
             ],
             [
              0.6666666666666666,
              "#ed7953"
             ],
             [
              0.7777777777777778,
              "#fb9f3a"
             ],
             [
              0.8888888888888888,
              "#fdca26"
             ],
             [
              1,
              "#f0f921"
             ]
            ],
            "type": "histogram2d"
           }
          ],
          "histogram2dcontour": [
           {
            "colorbar": {
             "outlinewidth": 0,
             "ticks": ""
            },
            "colorscale": [
             [
              0,
              "#0d0887"
             ],
             [
              0.1111111111111111,
              "#46039f"
             ],
             [
              0.2222222222222222,
              "#7201a8"
             ],
             [
              0.3333333333333333,
              "#9c179e"
             ],
             [
              0.4444444444444444,
              "#bd3786"
             ],
             [
              0.5555555555555556,
              "#d8576b"
             ],
             [
              0.6666666666666666,
              "#ed7953"
             ],
             [
              0.7777777777777778,
              "#fb9f3a"
             ],
             [
              0.8888888888888888,
              "#fdca26"
             ],
             [
              1,
              "#f0f921"
             ]
            ],
            "type": "histogram2dcontour"
           }
          ],
          "mesh3d": [
           {
            "colorbar": {
             "outlinewidth": 0,
             "ticks": ""
            },
            "type": "mesh3d"
           }
          ],
          "parcoords": [
           {
            "line": {
             "colorbar": {
              "outlinewidth": 0,
              "ticks": ""
             }
            },
            "type": "parcoords"
           }
          ],
          "pie": [
           {
            "automargin": true,
            "type": "pie"
           }
          ],
          "scatter": [
           {
            "fillpattern": {
             "fillmode": "overlay",
             "size": 10,
             "solidity": 0.2
            },
            "type": "scatter"
           }
          ],
          "scatter3d": [
           {
            "line": {
             "colorbar": {
              "outlinewidth": 0,
              "ticks": ""
             }
            },
            "marker": {
             "colorbar": {
              "outlinewidth": 0,
              "ticks": ""
             }
            },
            "type": "scatter3d"
           }
          ],
          "scattercarpet": [
           {
            "marker": {
             "colorbar": {
              "outlinewidth": 0,
              "ticks": ""
             }
            },
            "type": "scattercarpet"
           }
          ],
          "scattergeo": [
           {
            "marker": {
             "colorbar": {
              "outlinewidth": 0,
              "ticks": ""
             }
            },
            "type": "scattergeo"
           }
          ],
          "scattergl": [
           {
            "marker": {
             "colorbar": {
              "outlinewidth": 0,
              "ticks": ""
             }
            },
            "type": "scattergl"
           }
          ],
          "scattermapbox": [
           {
            "marker": {
             "colorbar": {
              "outlinewidth": 0,
              "ticks": ""
             }
            },
            "type": "scattermapbox"
           }
          ],
          "scatterpolar": [
           {
            "marker": {
             "colorbar": {
              "outlinewidth": 0,
              "ticks": ""
             }
            },
            "type": "scatterpolar"
           }
          ],
          "scatterpolargl": [
           {
            "marker": {
             "colorbar": {
              "outlinewidth": 0,
              "ticks": ""
             }
            },
            "type": "scatterpolargl"
           }
          ],
          "scatterternary": [
           {
            "marker": {
             "colorbar": {
              "outlinewidth": 0,
              "ticks": ""
             }
            },
            "type": "scatterternary"
           }
          ],
          "surface": [
           {
            "colorbar": {
             "outlinewidth": 0,
             "ticks": ""
            },
            "colorscale": [
             [
              0,
              "#0d0887"
             ],
             [
              0.1111111111111111,
              "#46039f"
             ],
             [
              0.2222222222222222,
              "#7201a8"
             ],
             [
              0.3333333333333333,
              "#9c179e"
             ],
             [
              0.4444444444444444,
              "#bd3786"
             ],
             [
              0.5555555555555556,
              "#d8576b"
             ],
             [
              0.6666666666666666,
              "#ed7953"
             ],
             [
              0.7777777777777778,
              "#fb9f3a"
             ],
             [
              0.8888888888888888,
              "#fdca26"
             ],
             [
              1,
              "#f0f921"
             ]
            ],
            "type": "surface"
           }
          ],
          "table": [
           {
            "cells": {
             "fill": {
              "color": "#EBF0F8"
             },
             "line": {
              "color": "white"
             }
            },
            "header": {
             "fill": {
              "color": "#C8D4E3"
             },
             "line": {
              "color": "white"
             }
            },
            "type": "table"
           }
          ]
         },
         "layout": {
          "annotationdefaults": {
           "arrowcolor": "#2a3f5f",
           "arrowhead": 0,
           "arrowwidth": 1
          },
          "autotypenumbers": "strict",
          "coloraxis": {
           "colorbar": {
            "outlinewidth": 0,
            "ticks": ""
           }
          },
          "colorscale": {
           "diverging": [
            [
             0,
             "#8e0152"
            ],
            [
             0.1,
             "#c51b7d"
            ],
            [
             0.2,
             "#de77ae"
            ],
            [
             0.3,
             "#f1b6da"
            ],
            [
             0.4,
             "#fde0ef"
            ],
            [
             0.5,
             "#f7f7f7"
            ],
            [
             0.6,
             "#e6f5d0"
            ],
            [
             0.7,
             "#b8e186"
            ],
            [
             0.8,
             "#7fbc41"
            ],
            [
             0.9,
             "#4d9221"
            ],
            [
             1,
             "#276419"
            ]
           ],
           "sequential": [
            [
             0,
             "#0d0887"
            ],
            [
             0.1111111111111111,
             "#46039f"
            ],
            [
             0.2222222222222222,
             "#7201a8"
            ],
            [
             0.3333333333333333,
             "#9c179e"
            ],
            [
             0.4444444444444444,
             "#bd3786"
            ],
            [
             0.5555555555555556,
             "#d8576b"
            ],
            [
             0.6666666666666666,
             "#ed7953"
            ],
            [
             0.7777777777777778,
             "#fb9f3a"
            ],
            [
             0.8888888888888888,
             "#fdca26"
            ],
            [
             1,
             "#f0f921"
            ]
           ],
           "sequentialminus": [
            [
             0,
             "#0d0887"
            ],
            [
             0.1111111111111111,
             "#46039f"
            ],
            [
             0.2222222222222222,
             "#7201a8"
            ],
            [
             0.3333333333333333,
             "#9c179e"
            ],
            [
             0.4444444444444444,
             "#bd3786"
            ],
            [
             0.5555555555555556,
             "#d8576b"
            ],
            [
             0.6666666666666666,
             "#ed7953"
            ],
            [
             0.7777777777777778,
             "#fb9f3a"
            ],
            [
             0.8888888888888888,
             "#fdca26"
            ],
            [
             1,
             "#f0f921"
            ]
           ]
          },
          "colorway": [
           "#636efa",
           "#EF553B",
           "#00cc96",
           "#ab63fa",
           "#FFA15A",
           "#19d3f3",
           "#FF6692",
           "#B6E880",
           "#FF97FF",
           "#FECB52"
          ],
          "font": {
           "color": "#2a3f5f"
          },
          "geo": {
           "bgcolor": "white",
           "lakecolor": "white",
           "landcolor": "#E5ECF6",
           "showlakes": true,
           "showland": true,
           "subunitcolor": "white"
          },
          "hoverlabel": {
           "align": "left"
          },
          "hovermode": "closest",
          "mapbox": {
           "style": "light"
          },
          "paper_bgcolor": "white",
          "plot_bgcolor": "#E5ECF6",
          "polar": {
           "angularaxis": {
            "gridcolor": "white",
            "linecolor": "white",
            "ticks": ""
           },
           "bgcolor": "#E5ECF6",
           "radialaxis": {
            "gridcolor": "white",
            "linecolor": "white",
            "ticks": ""
           }
          },
          "scene": {
           "xaxis": {
            "backgroundcolor": "#E5ECF6",
            "gridcolor": "white",
            "gridwidth": 2,
            "linecolor": "white",
            "showbackground": true,
            "ticks": "",
            "zerolinecolor": "white"
           },
           "yaxis": {
            "backgroundcolor": "#E5ECF6",
            "gridcolor": "white",
            "gridwidth": 2,
            "linecolor": "white",
            "showbackground": true,
            "ticks": "",
            "zerolinecolor": "white"
           },
           "zaxis": {
            "backgroundcolor": "#E5ECF6",
            "gridcolor": "white",
            "gridwidth": 2,
            "linecolor": "white",
            "showbackground": true,
            "ticks": "",
            "zerolinecolor": "white"
           }
          },
          "shapedefaults": {
           "line": {
            "color": "#2a3f5f"
           }
          },
          "ternary": {
           "aaxis": {
            "gridcolor": "white",
            "linecolor": "white",
            "ticks": ""
           },
           "baxis": {
            "gridcolor": "white",
            "linecolor": "white",
            "ticks": ""
           },
           "bgcolor": "#E5ECF6",
           "caxis": {
            "gridcolor": "white",
            "linecolor": "white",
            "ticks": ""
           }
          },
          "title": {
           "x": 0.05
          },
          "xaxis": {
           "automargin": true,
           "gridcolor": "white",
           "linecolor": "white",
           "ticks": "",
           "title": {
            "standoff": 15
           },
           "zerolinecolor": "white",
           "zerolinewidth": 2
          },
          "yaxis": {
           "automargin": true,
           "gridcolor": "white",
           "linecolor": "white",
           "ticks": "",
           "title": {
            "standoff": 15
           },
           "zerolinecolor": "white",
           "zerolinewidth": 2
          }
         }
        },
        "title": {
         "text": "BTC-USD"
        },
        "xaxis": {
         "title": {
          "text": "Tarih"
         }
        },
        "yaxis": {
         "title": {
          "text": "Kapanış Fiyatı"
         }
        }
       }
      }
     },
     "metadata": {},
     "output_type": "display_data"
    }
   ],
   "source": [
    "#görselleştirme yan yana\n",
    "fig = go.Figure()\n",
    "\n",
    "fig.add_trace(go.Scatter(x=btc_data_son_x.index, y=btc_data_son_x['Close'], name='Gerçek Veri'))\n",
    "fig.add_trace(go.Scatter(x=future_predictions_df.index, y=future_predictions_df['Close'], name='Tahmin'))\n",
    "\n",
    "fig.update_layout(title='BTC-USD', xaxis_title='Tarih', yaxis_title='Kapanış Fiyatı')\n",
    "fig.show()\n",
    "\n"
   ]
  },
  {
   "cell_type": "code",
   "execution_count": null,
   "metadata": {},
   "outputs": [],
   "source": []
  }
 ],
 "metadata": {
  "kernelspec": {
   "display_name": "all",
   "language": "python",
   "name": "python3"
  },
  "language_info": {
   "codemirror_mode": {
    "name": "ipython",
    "version": 3
   },
   "file_extension": ".py",
   "mimetype": "text/x-python",
   "name": "python",
   "nbconvert_exporter": "python",
   "pygments_lexer": "ipython3",
   "version": "3.6.13"
  }
 },
 "nbformat": 4,
 "nbformat_minor": 2
}
