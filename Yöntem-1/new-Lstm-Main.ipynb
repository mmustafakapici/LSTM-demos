{
 "cells": [
  {
   "cell_type": "code",
   "execution_count": 1,
   "metadata": {},
   "outputs": [],
   "source": [
    "# Gerekli kütüphanelerin içe aktarılması\n",
    "import yfinance as yf  # Finansal veri indirmek için\n",
    "import numpy as np  # Sayısal işlemler için\n",
    "from sklearn.preprocessing import MinMaxScaler  # Veri ölçeklendirmek için\n",
    "from tensorflow.keras.models import Sequential  # Model oluşturmak için\n",
    "from tensorflow.keras.layers import LSTM, Dense, Dropout , Activation, BatchNormalization # Model katmanları\n",
    "from tensorflow.keras.callbacks import EarlyStopping , ReduceLROnPlateau # Model eğitimini durdurmak için\n",
    "from tensorflow.keras.regularizers import l1, l2\n",
    "\n",
    "from sklearn.metrics import mean_squared_error  , mean_absolute_error , r2_score  # Hata ölçümü için\n",
    "import mplfinance as mpf  # Finansal verileri görselleştirmek için\n",
    "import pandas as pd  # Veri işleme için\n",
    "import plotly.graph_objects as go"
   ]
  },
  {
   "cell_type": "code",
   "execution_count": 2,
   "metadata": {},
   "outputs": [
    {
     "name": "stdout",
     "output_type": "stream",
     "text": [
      "[*********************100%***********************]  1 of 1 completed\n"
     ]
    }
   ],
   "source": [
    "# Veri Toplama\n",
    "btc_data = yf.download('BTC-USD', period='3600d')  # Bitcoin verilerini yfinance ile indirme\n",
    "#btc_data"
   ]
  },
  {
   "cell_type": "code",
   "execution_count": 3,
   "metadata": {},
   "outputs": [],
   "source": [
    "# İndirilen Verileri Mum Çubukları ile Görselleştirme\n",
    "#mpf.plot(btc_data, type='candle', volume=True, style='yahoo', title='BTC-USD') "
   ]
  },
  {
   "cell_type": "code",
   "execution_count": 4,
   "metadata": {},
   "outputs": [],
   "source": [
    "# Veri Hazırlama\n",
    "btc_df = btc_data[['Open', 'High', 'Low', 'Close' , 'Adj Close', 'Volume']]  # İlgili sütunların seçilmesi\n"
   ]
  },
  {
   "cell_type": "code",
   "execution_count": 5,
   "metadata": {},
   "outputs": [],
   "source": [
    "#zero base normalization\n",
    "btc_df['Open'] = btc_df['Open'] / btc_df['Open'].iloc[0] - 1"
   ]
  },
  {
   "cell_type": "code",
   "execution_count": 6,
   "metadata": {},
   "outputs": [],
   "source": [
    "scaler = MinMaxScaler(feature_range=(0, 1))  # Ölçekleyici tanımlama\n",
    "scaled_data = scaler.fit_transform(btc_df)  # Verilerin ölçeklendirilmesi\n"
   ]
  },
  {
   "cell_type": "code",
   "execution_count": 7,
   "metadata": {},
   "outputs": [],
   "source": [
    "\n",
    "# Zaman serisi veri seti oluşturma fonksiyonu\n",
    "def create_dataset(dataset, time_step=1):\n",
    "    dataX, dataY = [], []\n",
    "    for i in range(len(dataset) - time_step - 1):\n",
    "        a = dataset[i:(i + time_step), 0:]  # Girdi verileri\n",
    "        dataX.append(a)\n",
    "        dataY.append(dataset[i + time_step, 0:])  # Çıktı verileri\n",
    "    return np.array(dataX), np.array(dataY)\n",
    "\n",
    "time_step = 7  # Zaman adımı\n",
    "X, y = create_dataset(scaled_data, time_step)  # X ve y veri setlerinin oluşturulması\n",
    "\n",
    "\n"
   ]
  },
  {
   "cell_type": "code",
   "execution_count": 8,
   "metadata": {},
   "outputs": [],
   "source": [
    "# Veri setini eğitim ve test setlerine ayırma\n",
    "test_size = 300  # Test setinin boyutu\n",
    "train_size = int(len(X) - test_size)  # Eğitim setinin boyutu\n",
    "X_train, X_test = X[0:train_size,:,:], X[train_size:len(X),:,:]  # Eğitim ve test girdileri\n",
    "y_train, y_test = y[0:train_size,:], y[train_size:len(y),:]  # Eğitim ve test çıktıları\n"
   ]
  },
  {
   "cell_type": "code",
   "execution_count": 9,
   "metadata": {},
   "outputs": [],
   "source": [
    "units1 = 100  # İlk LSTM katmanı için birim sayısı\n",
    "units2 = units1*2  # İkinci LSTM katmanı için birim sayısı\n",
    "units3 = units1  # Yoğun katmanlar için birim sayısı\n",
    "units3 = units1/2  # Yoğun katmanlar için birim sayısı\n",
    "units4 = units3/2  # Yoğun katmanlar için birim sayısı\n",
    "units5 = units4/2  # Yoğun katmanlar için birim sayısı\n",
    "\n",
    "\n",
    "dropout = 0.2  # Dropout oranı\n",
    "batch_size = X_train.shape[0] / 2 # Batch boyutu\n",
    "batch_size = int(batch_size)\n",
    "activation = 'relu'  # Aktivasyon fonksiyonu\n",
    "epochs = 50  # Eğitim sayısı"
   ]
  },
  {
   "cell_type": "code",
   "execution_count": 10,
   "metadata": {},
   "outputs": [
    {
     "data": {
      "text/plain": [
       "(7, 6)"
      ]
     },
     "execution_count": 10,
     "metadata": {},
     "output_type": "execute_result"
    }
   ],
   "source": [
    "input_shape=(X_train.shape[1], 6)\n",
    "input_shape"
   ]
  },
  {
   "cell_type": "code",
   "execution_count": 11,
   "metadata": {},
   "outputs": [
    {
     "name": "stdout",
     "output_type": "stream",
     "text": [
      "WARNING:tensorflow:From c:\\Users\\mmust\\anaconda3\\envs\\directML\\lib\\site-packages\\tensorflow_core\\python\\ops\\resource_variable_ops.py:1630: calling BaseResourceVariable.__init__ (from tensorflow.python.ops.resource_variable_ops) with constraint is deprecated and will be removed in a future version.\n",
      "Instructions for updating:\n",
      "If using Keras pass *_constraint arguments to layers.\n",
      "Model: \"sequential\"\n",
      "_________________________________________________________________\n",
      "Layer (type)                 Output Shape              Param #   \n",
      "=================================================================\n",
      "lstm (LSTM)                  (None, 7, 100)            42800     \n",
      "_________________________________________________________________\n",
      "batch_normalization (BatchNo (None, 7, 100)            400       \n",
      "_________________________________________________________________\n",
      "lstm_1 (LSTM)                (None, 200)               240800    \n",
      "_________________________________________________________________\n",
      "batch_normalization_1 (Batch (None, 200)               800       \n",
      "_________________________________________________________________\n",
      "dense (Dense)                (None, 50)                10050     \n",
      "_________________________________________________________________\n",
      "dropout (Dropout)            (None, 50)                0         \n",
      "_________________________________________________________________\n",
      "dense_1 (Dense)              (None, 50)                2550      \n",
      "_________________________________________________________________\n",
      "dropout_1 (Dropout)          (None, 50)                0         \n",
      "_________________________________________________________________\n",
      "dense_2 (Dense)              (None, 25)                1275      \n",
      "_________________________________________________________________\n",
      "dropout_2 (Dropout)          (None, 25)                0         \n",
      "_________________________________________________________________\n",
      "dense_3 (Dense)              (None, 12)                312       \n",
      "_________________________________________________________________\n",
      "dropout_3 (Dropout)          (None, 12)                0         \n",
      "_________________________________________________________________\n",
      "dense_4 (Dense)              (None, 6)                 78        \n",
      "=================================================================\n",
      "Total params: 299,065\n",
      "Trainable params: 298,465\n",
      "Non-trainable params: 600\n",
      "_________________________________________________________________\n"
     ]
    }
   ],
   "source": [
    "# LSTM Model Oluşturma\n",
    "\n",
    "model = Sequential([\n",
    "    LSTM(units=units1, return_sequences=True, input_shape=(X_train.shape[1], 6),\n",
    "         dropout=0.1, recurrent_dropout=0.1),  # İlk LSTM katmanı\n",
    "    BatchNormalization(),\n",
    "    \n",
    "    LSTM(units=units2, return_sequences=False, dropout=0.1, recurrent_dropout=0.1),  # İkinci LSTM katmanı\n",
    "    BatchNormalization(),\n",
    "    \n",
    "    Dense(units=units3, activation='relu', kernel_regularizer=l2(0.01)),  # Yoğun katman\n",
    "    Dropout(0.2),  # Dropout katmanı\n",
    "    \n",
    "    Dense(units=units3, activation='relu', kernel_regularizer=l2(0.01)),  # Başka bir yoğun katman\n",
    "    Dropout(0.2),  # Dropout katmanı\n",
    "    \n",
    "    Dense(units=units4, activation='relu', kernel_regularizer=l2(0.01)),  # Başka bir yoğun katman\n",
    "    Dropout(0.2),  # Dropout katmanı\n",
    "    \n",
    "\n",
    "    Dense(units=units5, activation='relu', kernel_regularizer=l2(0.01)),  # Başka bir yoğun katman\n",
    "    Dropout(0.2),  # Dropout katmanı\n",
    "    \n",
    "\n",
    "\n",
    "    Dense(units=6)  # Çıktı katmanı\n",
    "])\n",
    "model.summary()  # Model özeti"
   ]
  },
  {
   "cell_type": "code",
   "execution_count": 12,
   "metadata": {},
   "outputs": [
    {
     "data": {
      "text/plain": [
       "'/device:DML:0'"
      ]
     },
     "execution_count": 12,
     "metadata": {},
     "output_type": "execute_result"
    }
   ],
   "source": [
    "#tensorflow gpu var mı yok mu kontrolü\n",
    "import tensorflow as tf\n",
    "tf.test.gpu_device_name()\n"
   ]
  },
  {
   "cell_type": "code",
   "execution_count": 13,
   "metadata": {},
   "outputs": [],
   "source": [
    "model.compile(optimizer='adam', \n",
    "              loss='mean_absolute_error', \n",
    "             )  # Modeli derleme"
   ]
  },
  {
   "cell_type": "code",
   "execution_count": 14,
   "metadata": {},
   "outputs": [],
   "source": [
    "early_stopping = EarlyStopping(monitor='val_loss',  # İzlenecek metrik\n",
    "                               patience=5,          # Metrikte iyileşme olmadığı durumda kaç epoch bekleyeceği\n",
    "                               verbose=1,           # Eğitim durdurulduğunda bilgi vermesi\n",
    "                               restore_best_weights=True)  # En iyi ağırlıkları geri yükleme\n",
    "# ReduceLROnPlateau callback'ini ayarlama\n",
    "reduce_lr = ReduceLROnPlateau(monitor='val_loss',\n",
    "                              factor=0.2,  # Öğrenme oranını ne kadar azaltacağı\n",
    "                              patience=3,  # Kaç epoch boyunca iyileşme olmadığında öğrenme oranını azaltacağı\n",
    "                              min_lr=0.001,  # Öğrenme oranının düşebileceği minimum değer\n",
    "                              verbose=1)"
   ]
  },
  {
   "cell_type": "code",
   "execution_count": 15,
   "metadata": {},
   "outputs": [
    {
     "name": "stdout",
     "output_type": "stream",
     "text": [
      "WARNING:tensorflow:From c:\\Users\\mmust\\anaconda3\\envs\\directML\\lib\\site-packages\\tensorflow_core\\python\\ops\\math_grad.py:1424: where (from tensorflow.python.ops.array_ops) is deprecated and will be removed in a future version.\n",
      "Instructions for updating:\n",
      "Use tf.where in 2.0, which has the same broadcast rule as np.where\n",
      "Train on 3097 samples, validate on 300 samples\n",
      "Epoch 1/50\n",
      "3097/3097 [==============================] - 3s 839us/sample - loss: 2.2058 - val_loss: 2.1320\n",
      "Epoch 2/50\n",
      "3097/3097 [==============================] - 0s 31us/sample - loss: 2.0143 - val_loss: 2.0803\n",
      "Epoch 3/50\n",
      "3097/3097 [==============================] - 0s 30us/sample - loss: 1.9034 - val_loss: 2.0268\n",
      "Epoch 4/50\n",
      "3097/3097 [==============================] - 0s 45us/sample - loss: 1.8171 - val_loss: 1.9716\n",
      "Epoch 5/50\n",
      "3097/3097 [==============================] - 0s 33us/sample - loss: 1.7446 - val_loss: 1.9157\n",
      "Epoch 6/50\n",
      "3097/3097 [==============================] - 0s 33us/sample - loss: 1.6792 - val_loss: 1.8606\n",
      "Epoch 7/50\n",
      "3097/3097 [==============================] - 0s 40us/sample - loss: 1.6183 - val_loss: 1.8064\n",
      "Epoch 8/50\n",
      "3097/3097 [==============================] - 0s 36us/sample - loss: 1.5638 - val_loss: 1.7536\n",
      "Epoch 9/50\n",
      "3097/3097 [==============================] - 0s 32us/sample - loss: 1.5067 - val_loss: 1.7024\n",
      "Epoch 10/50\n",
      "3097/3097 [==============================] - 0s 36us/sample - loss: 1.4534 - val_loss: 1.6533\n",
      "Epoch 11/50\n",
      "3097/3097 [==============================] - 0s 37us/sample - loss: 1.4032 - val_loss: 1.6053\n",
      "Epoch 12/50\n",
      "3097/3097 [==============================] - 0s 32us/sample - loss: 1.3495 - val_loss: 1.5579\n",
      "Epoch 13/50\n",
      "3097/3097 [==============================] - 0s 30us/sample - loss: 1.3034 - val_loss: 1.5119\n",
      "Epoch 14/50\n",
      "3097/3097 [==============================] - 0s 40us/sample - loss: 1.2584 - val_loss: 1.4676\n",
      "Epoch 15/50\n",
      "3097/3097 [==============================] - 0s 36us/sample - loss: 1.2117 - val_loss: 1.4242\n",
      "Epoch 16/50\n",
      "3097/3097 [==============================] - 0s 33us/sample - loss: 1.1664 - val_loss: 1.3812\n",
      "Epoch 17/50\n",
      "3097/3097 [==============================] - 0s 38us/sample - loss: 1.1243 - val_loss: 1.3395\n",
      "Epoch 18/50\n",
      "3097/3097 [==============================] - 0s 35us/sample - loss: 1.0832 - val_loss: 1.2988\n",
      "Epoch 19/50\n",
      "3097/3097 [==============================] - 0s 32us/sample - loss: 1.0433 - val_loss: 1.2592\n",
      "Epoch 20/50\n",
      "3097/3097 [==============================] - 0s 35us/sample - loss: 1.0068 - val_loss: 1.2205\n",
      "Epoch 21/50\n",
      "3097/3097 [==============================] - 0s 41us/sample - loss: 0.9689 - val_loss: 1.1837\n",
      "Epoch 22/50\n",
      "3097/3097 [==============================] - 0s 32us/sample - loss: 0.9325 - val_loss: 1.1491\n",
      "Epoch 23/50\n",
      "3097/3097 [==============================] - 0s 31us/sample - loss: 0.8997 - val_loss: 1.1154\n",
      "Epoch 24/50\n",
      "3097/3097 [==============================] - 0s 38us/sample - loss: 0.8682 - val_loss: 1.0826\n",
      "Epoch 25/50\n",
      "3097/3097 [==============================] - 0s 36us/sample - loss: 0.8376 - val_loss: 1.0526\n",
      "Epoch 26/50\n",
      "3097/3097 [==============================] - 0s 31us/sample - loss: 0.8062 - val_loss: 1.0242\n",
      "Epoch 27/50\n",
      "3097/3097 [==============================] - 0s 32us/sample - loss: 0.7776 - val_loss: 0.9961\n",
      "Epoch 28/50\n",
      "3097/3097 [==============================] - 0s 40us/sample - loss: 0.7527 - val_loss: 0.9702\n",
      "Epoch 29/50\n",
      "3097/3097 [==============================] - 0s 33us/sample - loss: 0.7227 - val_loss: 0.9461\n",
      "Epoch 30/50\n",
      "3097/3097 [==============================] - 0s 31us/sample - loss: 0.6964 - val_loss: 0.9223\n",
      "Epoch 31/50\n",
      "3097/3097 [==============================] - 0s 41us/sample - loss: 0.6706 - val_loss: 0.8989\n",
      "Epoch 32/50\n",
      "3097/3097 [==============================] - 0s 36us/sample - loss: 0.6484 - val_loss: 0.8754\n",
      "Epoch 33/50\n",
      "3097/3097 [==============================] - 0s 30us/sample - loss: 0.6249 - val_loss: 0.8522\n",
      "Epoch 34/50\n",
      "3097/3097 [==============================] - 0s 37us/sample - loss: 0.6033 - val_loss: 0.8298\n",
      "Epoch 35/50\n",
      "3097/3097 [==============================] - 0s 41us/sample - loss: 0.5828 - val_loss: 0.8083\n",
      "Epoch 36/50\n",
      "3097/3097 [==============================] - 0s 31us/sample - loss: 0.5634 - val_loss: 0.7884\n",
      "Epoch 37/50\n",
      "3097/3097 [==============================] - 0s 34us/sample - loss: 0.5453 - val_loss: 0.7696\n",
      "Epoch 38/50\n",
      "3097/3097 [==============================] - 0s 44us/sample - loss: 0.5259 - val_loss: 0.7515\n",
      "Epoch 39/50\n",
      "3097/3097 [==============================] - 0s 33us/sample - loss: 0.5071 - val_loss: 0.7328\n",
      "Epoch 40/50\n",
      "3097/3097 [==============================] - 0s 31us/sample - loss: 0.4911 - val_loss: 0.7158\n",
      "Epoch 41/50\n",
      "3097/3097 [==============================] - 0s 39us/sample - loss: 0.4745 - val_loss: 0.7011\n",
      "Epoch 42/50\n",
      "3097/3097 [==============================] - 0s 39us/sample - loss: 0.4591 - val_loss: 0.6876\n",
      "Epoch 43/50\n",
      "3097/3097 [==============================] - 0s 39us/sample - loss: 0.4450 - val_loss: 0.6728\n",
      "Epoch 44/50\n",
      "3097/3097 [==============================] - 0s 35us/sample - loss: 0.4303 - val_loss: 0.6580\n",
      "Epoch 45/50\n",
      "3097/3097 [==============================] - 0s 39us/sample - loss: 0.4152 - val_loss: 0.6440\n",
      "Epoch 46/50\n",
      "3097/3097 [==============================] - 0s 33us/sample - loss: 0.4033 - val_loss: 0.6318\n",
      "Epoch 47/50\n",
      "3097/3097 [==============================] - 0s 33us/sample - loss: 0.3899 - val_loss: 0.6208\n",
      "Epoch 48/50\n",
      "3097/3097 [==============================] - 0s 38us/sample - loss: 0.3788 - val_loss: 0.6085\n",
      "Epoch 49/50\n",
      "3097/3097 [==============================] - 0s 35us/sample - loss: 0.3662 - val_loss: 0.5951\n",
      "Epoch 50/50\n",
      "3097/3097 [==============================] - 0s 33us/sample - loss: 0.3553 - val_loss: 0.5840\n"
     ]
    }
   ],
   "source": [
    "\n",
    "# Modeli Eğitme ve Tahmin Yapma\n",
    "history = model.fit(X_train, y_train, \n",
    "                    validation_data=(X_test,y_test) , \n",
    "                    epochs=epochs, batch_size= batch_size, \n",
    "                    verbose=1,  \n",
    "                    callbacks=[early_stopping , reduce_lr])  # Model eğitimi\n"
   ]
  },
  {
   "cell_type": "code",
   "execution_count": 16,
   "metadata": {},
   "outputs": [
    {
     "data": {
      "image/png": "[encoded data removed]",
      "text/plain": [
       "<Figure size 432x288 with 1 Axes>"
      ]
     },
     "metadata": {
      "needs_background": "light"
     },
     "output_type": "display_data"
    }
   ],
   "source": [
    "# Modelin Eğitim ve Test Hata Grafiği\n",
    "import matplotlib.pyplot as plt\n",
    "plt.plot(history.history['loss'], label='Eğitim Verisi')\n",
    "plt.plot(history.history['val_loss'], label='Test Verisi')\n",
    "plt.title('Model Hatası')\n",
    "plt.ylabel('Hata')\n",
    "plt.xlabel('Epoch')\n",
    "plt.legend(loc='upper right')\n",
    "plt.show()"
   ]
  },
  {
   "cell_type": "code",
   "execution_count": 17,
   "metadata": {},
   "outputs": [
    {
     "name": "stdout",
     "output_type": "stream",
     "text": [
      "300/300 [==============================] - 0s 365us/sample - loss: 0.5840\n"
     ]
    },
    {
     "data": {
      "text/plain": [
       "0.5839840340614318"
      ]
     },
     "execution_count": 17,
     "metadata": {},
     "output_type": "execute_result"
    }
   ],
   "source": [
    "model.evaluate(X_test, y_test)  # Test verileri ile modelin performansını ölçme\n",
    "# bu ne  ? yüksek çıkması iyi mi kötü mü ?\n"
   ]
  },
  {
   "cell_type": "code",
   "execution_count": 18,
   "metadata": {},
   "outputs": [],
   "source": [
    "predictions = model.predict(X_test).squeeze() # Test verisi üzerinde tahmin yapma\n",
    "#predictions = scaler.inverse_transform(predictions)  # Tahminlerin ölçeklendirilmesinin tersine çevrilmesi\n"
   ]
  },
  {
   "cell_type": "code",
   "execution_count": 19,
   "metadata": {},
   "outputs": [
    {
     "name": "stdout",
     "output_type": "stream",
     "text": [
      "MSE:  0.12152005750381308\n",
      "MAE:  0.3156769005371833\n",
      "R2:  -10817.948148871215\n"
     ]
    }
   ],
   "source": [
    "# Sonuçların Değerlendirilmesi\n",
    "#predictions = scaler.inverse_transform(predictions)  # Tahminlerin ölçeklendirilmesinin tersine çevrilmesi\n",
    "#y_test_scaled = scaler.inverse_transform(y_test)  # Gerçek test verilerinin ölçeklendirilmesinin tersine çevrilmesi\n",
    "\n",
    "\n",
    "MSE = mean_squared_error( predictions , y_test)  # Hata ölçümü\n",
    "MAE = mean_absolute_error( predictions ,y_test)  # Hata ölçümü\n",
    "R2 = r2_score(predictions ,y_test)  # Hata ölçümü\n",
    "print('MSE: ', MSE)\n",
    "print('MAE: ', MAE)\n",
    "print('R2: ', R2)\n"
   ]
  },
  {
   "cell_type": "code",
   "execution_count": 20,
   "metadata": {},
   "outputs": [],
   "source": [
    "predictions = scaler.inverse_transform(predictions)  # Tahminlerin ölçeklendirilmesinin tersine çevrilmesi\n"
   ]
  },
  {
   "cell_type": "code",
   "execution_count": 21,
   "metadata": {},
   "outputs": [],
   "source": [
    "# Tahmin Edilen Verileri Mum Çubukları ile Görselleştirme\n",
    "predicted_df = pd.DataFrame(predictions, columns=['Open', 'High', 'Low', 'Close' , 'Adj Close', 'Volume'])  # Tahminlerin DataFrame'e dönüştürülmesi\n",
    "predicted_df['Date'] = pd.date_range(start=btc_data.index[-len(predictions)], periods=len(predictions), freq='D')  # Tarih sütununun eklenmesi\n",
    "predicted_df.set_index('Date', inplace=True)  # Tarihin indeks olarak ayarlanması\n"
   ]
  },
  {
   "cell_type": "code",
   "execution_count": 22,
   "metadata": {},
   "outputs": [],
   "source": [
    "#mpf.plot(predicted_df, type='candle', volume=True, style='yahoo', title='BTC-USD')  # Gerçek verilerin görselleştirilmesi"
   ]
  },
  {
   "cell_type": "code",
   "execution_count": 23,
   "metadata": {},
   "outputs": [],
   "source": [
    "def prepare_data_for_forecasting(latest_data, time_step):\n",
    "    # Son kullanılabilir verileri al ve ölçeklendir\n",
    "    last_scaled_data = scaler.transform(latest_data)\n",
    "\n",
    "    # Son verileri model girdisi olarak hazırla\n",
    "    X = []\n",
    "    for i in range(len(last_scaled_data) - time_step):\n",
    "        X.append(last_scaled_data[i:i + time_step, 0:])\n",
    "\n",
    "    return np.array(X)\n"
   ]
  },
  {
   "cell_type": "code",
   "execution_count": 24,
   "metadata": {},
   "outputs": [],
   "source": [
    "def predict_future_prices(model, prepared_data, days_to_predict):\n",
    "    predictions = []\n",
    "\n",
    "    # Son verileri kullanarak gelecek günler için tahmin yap\n",
    "    current_batch = prepared_data[-1].reshape(1, prepared_data.shape[1], 6)\n",
    "\n",
    "    for i in range(days_to_predict):\n",
    "        # Tahmin yap ve sonucu sakla\n",
    "        current_pred = model.predict(current_batch)[0]\n",
    "        predictions.append(current_pred)\n",
    "        \n",
    "        # Sonraki tahmin için girdiyi güncelle\n",
    "        current_batch = np.append(current_batch[:,1:,:],[[current_pred]],axis=1)\n",
    "\n",
    "    return scaler.inverse_transform(predictions)\n"
   ]
  },
  {
   "cell_type": "code",
   "execution_count": 25,
   "metadata": {},
   "outputs": [],
   "source": [
    "#btc_data = yf.download('BTC-USD', period='6000d')  # Bitcoin verilerini yfinance ile indirme\n"
   ]
  },
  {
   "cell_type": "code",
   "execution_count": 26,
   "metadata": {},
   "outputs": [],
   "source": [
    "days_to_predict = 7  # Kaç gün sonrası için tahmin yapılacağı\n",
    "\n",
    "btc_data_son_x = btc_data[-days_to_predict:]\n",
    "\n",
    "\n",
    "#btc_datadan son 30 günü sil (göz ile test için)\n",
    "btc_data = btc_data[:-days_to_predict]\n",
    "\n",
    "\n",
    "# Son kullanılabilir verileri al (örneğin son 100 gün)\n",
    "latest_data = btc_data\n",
    "\n",
    "# Verileri hazırla\n",
    "prepared_data = prepare_data_for_forecasting(latest_data, time_step=time_step) # Son 100 gündeki verileri kullanarak gelecek 30 gün için tahmin yap\n",
    "\n",
    "# Gelecek 30 gün için tahmin yap\n",
    "future_predictions = predict_future_prices(model, prepared_data, days_to_predict=days_to_predict) # Son 100 gündeki verileri kullanarak gelecek 30 gün için tahmin yapar\n",
    "\n"
   ]
  },
  {
   "cell_type": "code",
   "execution_count": 27,
   "metadata": {},
   "outputs": [
    {
     "data": {
      "text/html": [
       "<div>\n",
       "<style scoped>\n",
       "    .dataframe tbody tr th:only-of-type {\n",
       "        vertical-align: middle;\n",
       "    }\n",
       "\n",
       "    .dataframe tbody tr th {\n",
       "        vertical-align: top;\n",
       "    }\n",
       "\n",
       "    .dataframe thead th {\n",
       "        text-align: right;\n",
       "    }\n",
       "</style>\n",
       "<table border=\"1\" class=\"dataframe\">\n",
       "  <thead>\n",
       "    <tr style=\"text-align: right;\">\n",
       "      <th></th>\n",
       "      <th>Open</th>\n",
       "      <th>High</th>\n",
       "      <th>Low</th>\n",
       "      <th>Close</th>\n",
       "      <th>Adj Close</th>\n",
       "      <th>Volume</th>\n",
       "    </tr>\n",
       "    <tr>\n",
       "      <th>Date</th>\n",
       "      <th></th>\n",
       "      <th></th>\n",
       "      <th></th>\n",
       "      <th></th>\n",
       "      <th></th>\n",
       "      <th></th>\n",
       "    </tr>\n",
       "  </thead>\n",
       "  <tbody>\n",
       "    <tr>\n",
       "      <th>2024-01-05</th>\n",
       "      <td>14.832614</td>\n",
       "      <td>7843.567627</td>\n",
       "      <td>6593.297904</td>\n",
       "      <td>7098.256960</td>\n",
       "      <td>6814.732501</td>\n",
       "      <td>8.453747e+09</td>\n",
       "    </tr>\n",
       "    <tr>\n",
       "      <th>2024-01-06</th>\n",
       "      <td>14.823020</td>\n",
       "      <td>7871.177569</td>\n",
       "      <td>6551.938547</td>\n",
       "      <td>7101.953311</td>\n",
       "      <td>6763.014720</td>\n",
       "      <td>8.625370e+09</td>\n",
       "    </tr>\n",
       "    <tr>\n",
       "      <th>2024-01-07</th>\n",
       "      <td>14.388540</td>\n",
       "      <td>7568.987249</td>\n",
       "      <td>6151.302673</td>\n",
       "      <td>6741.742377</td>\n",
       "      <td>6368.174976</td>\n",
       "      <td>8.151623e+09</td>\n",
       "    </tr>\n",
       "    <tr>\n",
       "      <th>2024-01-08</th>\n",
       "      <td>13.926107</td>\n",
       "      <td>7208.525170</td>\n",
       "      <td>5761.715891</td>\n",
       "      <td>6345.159895</td>\n",
       "      <td>5996.632483</td>\n",
       "      <td>7.441169e+09</td>\n",
       "    </tr>\n",
       "    <tr>\n",
       "      <th>2024-01-09</th>\n",
       "      <td>13.568956</td>\n",
       "      <td>6899.210742</td>\n",
       "      <td>5490.149369</td>\n",
       "      <td>6028.359744</td>\n",
       "      <td>5748.459336</td>\n",
       "      <td>6.728248e+09</td>\n",
       "    </tr>\n",
       "    <tr>\n",
       "      <th>2024-01-10</th>\n",
       "      <td>13.298128</td>\n",
       "      <td>6692.332126</td>\n",
       "      <td>5257.973416</td>\n",
       "      <td>5797.535144</td>\n",
       "      <td>5525.557639</td>\n",
       "      <td>6.334626e+09</td>\n",
       "    </tr>\n",
       "    <tr>\n",
       "      <th>2024-01-11</th>\n",
       "      <td>13.049822</td>\n",
       "      <td>6487.070141</td>\n",
       "      <td>5059.888926</td>\n",
       "      <td>5580.609265</td>\n",
       "      <td>5340.744120</td>\n",
       "      <td>5.890949e+09</td>\n",
       "    </tr>\n",
       "  </tbody>\n",
       "</table>\n",
       "</div>"
      ],
      "text/plain": [
       "                 Open         High          Low        Close    Adj Close  \\\n",
       "Date                                                                        \n",
       "2024-01-05  14.832614  7843.567627  6593.297904  7098.256960  6814.732501   \n",
       "2024-01-06  14.823020  7871.177569  6551.938547  7101.953311  6763.014720   \n",
       "2024-01-07  14.388540  7568.987249  6151.302673  6741.742377  6368.174976   \n",
       "2024-01-08  13.926107  7208.525170  5761.715891  6345.159895  5996.632483   \n",
       "2024-01-09  13.568956  6899.210742  5490.149369  6028.359744  5748.459336   \n",
       "2024-01-10  13.298128  6692.332126  5257.973416  5797.535144  5525.557639   \n",
       "2024-01-11  13.049822  6487.070141  5059.888926  5580.609265  5340.744120   \n",
       "\n",
       "                  Volume  \n",
       "Date                      \n",
       "2024-01-05  8.453747e+09  \n",
       "2024-01-06  8.625370e+09  \n",
       "2024-01-07  8.151623e+09  \n",
       "2024-01-08  7.441169e+09  \n",
       "2024-01-09  6.728248e+09  \n",
       "2024-01-10  6.334626e+09  \n",
       "2024-01-11  5.890949e+09  "
      ]
     },
     "execution_count": 27,
     "metadata": {},
     "output_type": "execute_result"
    }
   ],
   "source": [
    "# Tahmin edilen verileri df yap\n",
    "future_predictions_df = pd.DataFrame(future_predictions, columns=['Open', 'High', 'Low', 'Close' , 'Adj Close', 'Volume'])\n",
    "\n",
    "#btc_datanın son tarihinden başlayarak 30 gün boyunca tarihleri oluştur\n",
    "future_predictions_df['Date'] = pd.date_range(start=btc_data.index[-1], periods=len(future_predictions_df), freq='D')\n",
    "\n",
    "# Tarihi indeks olarak ayarla\n",
    "future_predictions_df.set_index('Date', inplace=True)\n",
    "future_predictions_df"
   ]
  },
  {
   "cell_type": "code",
   "execution_count": 28,
   "metadata": {},
   "outputs": [
    {
     "data": {
      "text/html": [
       "<div>\n",
       "<style scoped>\n",
       "    .dataframe tbody tr th:only-of-type {\n",
       "        vertical-align: middle;\n",
       "    }\n",
       "\n",
       "    .dataframe tbody tr th {\n",
       "        vertical-align: top;\n",
       "    }\n",
       "\n",
       "    .dataframe thead th {\n",
       "        text-align: right;\n",
       "    }\n",
       "</style>\n",
       "<table border=\"1\" class=\"dataframe\">\n",
       "  <thead>\n",
       "    <tr style=\"text-align: right;\">\n",
       "      <th></th>\n",
       "      <th>Open</th>\n",
       "      <th>High</th>\n",
       "      <th>Low</th>\n",
       "      <th>Close</th>\n",
       "      <th>Adj Close</th>\n",
       "      <th>Volume</th>\n",
       "    </tr>\n",
       "    <tr>\n",
       "      <th>Date</th>\n",
       "      <th></th>\n",
       "      <th></th>\n",
       "      <th></th>\n",
       "      <th></th>\n",
       "      <th></th>\n",
       "      <th></th>\n",
       "    </tr>\n",
       "  </thead>\n",
       "  <tbody>\n",
       "    <tr>\n",
       "      <th>2024-01-06</th>\n",
       "      <td>44178.953125</td>\n",
       "      <td>44227.632812</td>\n",
       "      <td>43475.156250</td>\n",
       "      <td>43989.195312</td>\n",
       "      <td>43989.195312</td>\n",
       "      <td>16092503468</td>\n",
       "    </tr>\n",
       "    <tr>\n",
       "      <th>2024-01-07</th>\n",
       "      <td>43998.464844</td>\n",
       "      <td>44495.570312</td>\n",
       "      <td>43662.230469</td>\n",
       "      <td>43943.097656</td>\n",
       "      <td>43943.097656</td>\n",
       "      <td>19330573863</td>\n",
       "    </tr>\n",
       "    <tr>\n",
       "      <th>2024-01-08</th>\n",
       "      <td>43948.707031</td>\n",
       "      <td>47218.000000</td>\n",
       "      <td>43244.082031</td>\n",
       "      <td>46970.503906</td>\n",
       "      <td>46970.503906</td>\n",
       "      <td>42746192015</td>\n",
       "    </tr>\n",
       "    <tr>\n",
       "      <th>2024-01-09</th>\n",
       "      <td>46987.640625</td>\n",
       "      <td>47893.699219</td>\n",
       "      <td>45244.714844</td>\n",
       "      <td>46139.730469</td>\n",
       "      <td>46139.730469</td>\n",
       "      <td>39821290992</td>\n",
       "    </tr>\n",
       "    <tr>\n",
       "      <th>2024-01-10</th>\n",
       "      <td>46121.539062</td>\n",
       "      <td>47647.222656</td>\n",
       "      <td>44483.152344</td>\n",
       "      <td>46627.777344</td>\n",
       "      <td>46627.777344</td>\n",
       "      <td>50114613298</td>\n",
       "    </tr>\n",
       "    <tr>\n",
       "      <th>2024-01-11</th>\n",
       "      <td>46656.074219</td>\n",
       "      <td>48969.371094</td>\n",
       "      <td>45678.644531</td>\n",
       "      <td>46368.585938</td>\n",
       "      <td>46368.585938</td>\n",
       "      <td>45833734549</td>\n",
       "    </tr>\n",
       "    <tr>\n",
       "      <th>2024-01-13</th>\n",
       "      <td>42799.445312</td>\n",
       "      <td>42958.730469</td>\n",
       "      <td>42773.347656</td>\n",
       "      <td>42814.250000</td>\n",
       "      <td>42814.250000</td>\n",
       "      <td>43611537408</td>\n",
       "    </tr>\n",
       "  </tbody>\n",
       "</table>\n",
       "</div>"
      ],
      "text/plain": [
       "                    Open          High           Low         Close  \\\n",
       "Date                                                                 \n",
       "2024-01-06  44178.953125  44227.632812  43475.156250  43989.195312   \n",
       "2024-01-07  43998.464844  44495.570312  43662.230469  43943.097656   \n",
       "2024-01-08  43948.707031  47218.000000  43244.082031  46970.503906   \n",
       "2024-01-09  46987.640625  47893.699219  45244.714844  46139.730469   \n",
       "2024-01-10  46121.539062  47647.222656  44483.152344  46627.777344   \n",
       "2024-01-11  46656.074219  48969.371094  45678.644531  46368.585938   \n",
       "2024-01-13  42799.445312  42958.730469  42773.347656  42814.250000   \n",
       "\n",
       "               Adj Close       Volume  \n",
       "Date                                   \n",
       "2024-01-06  43989.195312  16092503468  \n",
       "2024-01-07  43943.097656  19330573863  \n",
       "2024-01-08  46970.503906  42746192015  \n",
       "2024-01-09  46139.730469  39821290992  \n",
       "2024-01-10  46627.777344  50114613298  \n",
       "2024-01-11  46368.585938  45833734549  \n",
       "2024-01-13  42814.250000  43611537408  "
      ]
     },
     "execution_count": 28,
     "metadata": {},
     "output_type": "execute_result"
    }
   ],
   "source": [
    "btc_data_son_x"
   ]
  }
 ],
 "metadata": {
  "kernelspec": {
   "display_name": "all",
   "language": "python",
   "name": "python3"
  },
  "language_info": {
   "codemirror_mode": {
    "name": "ipython",
    "version": 3
   },
   "file_extension": ".py",
   "mimetype": "text/x-python",
   "name": "python",
   "nbconvert_exporter": "python",
   "pygments_lexer": "ipython3",
   "version": "3.6.13"
  }
 },
 "nbformat": 4,
 "nbformat_minor": 2
}
