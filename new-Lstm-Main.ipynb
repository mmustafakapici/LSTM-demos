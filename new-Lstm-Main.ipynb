{
 "cells": [
  {
   "cell_type": "code",
   "execution_count": 16,
   "metadata": {},
   "outputs": [],
   "source": [
    "# Gerekli kütüphanelerin içe aktarılması\n",
    "import yfinance as yf  # Finansal veri indirmek için\n",
    "import numpy as np  # Sayısal işlemler için\n",
    "from sklearn.preprocessing import MinMaxScaler  # Veri ölçeklendirmek için\n",
    "from tensorflow.keras.models import Sequential  # Model oluşturmak için\n",
    "from tensorflow.keras.layers import LSTM, Dense, Dropout , Activation, BatchNormalization # Model katmanları\n",
    "from tensorflow.keras.callbacks import EarlyStopping , ReduceLROnPlateau # Model eğitimini durdurmak için\n",
    "from tensorflow.keras.regularizers import l1, l2\n",
    "\n",
    "from sklearn.metrics import mean_squared_error  , mean_absolute_error , r2_score  # Hata ölçümü için\n",
    "import mplfinance as mpf  # Finansal verileri görselleştirmek için\n",
    "import pandas as pd  # Veri işleme için\n",
    "import plotly.graph_objects as go"
   ]
  },
  {
   "cell_type": "code",
   "execution_count": 17,
   "metadata": {},
   "outputs": [
    {
     "name": "stdout",
     "output_type": "stream",
     "text": [
      "[*********************100%%**********************]  1 of 1 completed\n"
     ]
    }
   ],
   "source": [
    "# Veri Toplama\n",
    "btc_data = yf.download('BTC-USD', period='3600d')  # Bitcoin verilerini yfinance ile indirme\n",
    "#btc_data"
   ]
  },
  {
   "cell_type": "code",
   "execution_count": 18,
   "metadata": {},
   "outputs": [],
   "source": [
    "# İndirilen Verileri Mum Çubukları ile Görselleştirme\n",
    "#mpf.plot(btc_data, type='candle', volume=True, style='yahoo', title='BTC-USD') "
   ]
  },
  {
   "cell_type": "code",
   "execution_count": 19,
   "metadata": {},
   "outputs": [],
   "source": [
    "# Veri Hazırlama\n",
    "btc_df = btc_data[['Open', 'High', 'Low', 'Close' , 'Adj Close', 'Volume']]  # İlgili sütunların seçilmesi\n"
   ]
  },
  {
   "cell_type": "code",
   "execution_count": 20,
   "metadata": {},
   "outputs": [],
   "source": [
    "#zero base normalization\n",
    "btc_df['Open'] = btc_df['Open'] / btc_df['Open'].iloc[0] - 1"
   ]
  },
  {
   "cell_type": "code",
   "execution_count": 21,
   "metadata": {},
   "outputs": [],
   "source": [
    "scaler = MinMaxScaler(feature_range=(0, 1))  # Ölçekleyici tanımlama\n",
    "scaled_data = scaler.fit_transform(btc_df)  # Verilerin ölçeklendirilmesi\n"
   ]
  },
  {
   "cell_type": "code",
   "execution_count": 22,
   "metadata": {},
   "outputs": [],
   "source": [
    "\n",
    "# Zaman serisi veri seti oluşturma fonksiyonu\n",
    "def create_dataset(dataset, time_step=1):\n",
    "    dataX, dataY = [], []\n",
    "    for i in range(len(dataset) - time_step - 1):\n",
    "        a = dataset[i:(i + time_step), 0:]  # Girdi verileri\n",
    "        dataX.append(a)\n",
    "        dataY.append(dataset[i + time_step, 0:])  # Çıktı verileri\n",
    "    return np.array(dataX), np.array(dataY)\n",
    "\n",
    "time_step = 7  # Zaman adımı\n",
    "X, y = create_dataset(scaled_data, time_step)  # X ve y veri setlerinin oluşturulması\n",
    "\n",
    "\n"
   ]
  },
  {
   "cell_type": "code",
   "execution_count": 23,
   "metadata": {},
   "outputs": [],
   "source": [
    "# Veri setini eğitim ve test setlerine ayırma\n",
    "test_size = 300  # Test setinin boyutu\n",
    "train_size = int(len(X) - test_size)  # Eğitim setinin boyutu\n",
    "X_train, X_test = X[0:train_size,:,:], X[train_size:len(X),:,:]  # Eğitim ve test girdileri\n",
    "y_train, y_test = y[0:train_size,:], y[train_size:len(y),:]  # Eğitim ve test çıktıları\n"
   ]
  },
  {
   "cell_type": "code",
   "execution_count": 24,
   "metadata": {},
   "outputs": [],
   "source": [
    "units1 = 2000  # İlk LSTM katmanı için birim sayısı\n",
    "units2 = units1*2  # İkinci LSTM katmanı için birim sayısı\n",
    "units3 = units1  # Yoğun katmanlar için birim sayısı\n",
    "units3 = units1/2  # Yoğun katmanlar için birim sayısı\n",
    "units4 = units3/2  # Yoğun katmanlar için birim sayısı\n",
    "units5 = units4/2  # Yoğun katmanlar için birim sayısı\n",
    "\n",
    "\n",
    "dropout = 0.2  # Dropout oranı\n",
    "batch_size = X_train.shape[0] / 1 # Batch boyutu\n",
    "batch_size = int(batch_size)\n",
    "activation = 'relu'  # Aktivasyon fonksiyonu\n",
    "epochs = 50  # Eğitim sayısı"
   ]
  },
  {
   "cell_type": "code",
   "execution_count": 25,
   "metadata": {},
   "outputs": [
    {
     "data": {
      "text/plain": [
       "(7, 6)"
      ]
     },
     "execution_count": 25,
     "metadata": {},
     "output_type": "execute_result"
    }
   ],
   "source": [
    "input_shape=(X_train.shape[1], 6)\n",
    "input_shape"
   ]
  },
  {
   "cell_type": "code",
   "execution_count": 26,
   "metadata": {},
   "outputs": [
    {
     "name": "stdout",
     "output_type": "stream",
     "text": [
      "Model: \"sequential_1\"\n",
      "_________________________________________________________________\n",
      " Layer (type)                Output Shape              Param #   \n",
      "=================================================================\n",
      " lstm_2 (LSTM)               (None, 7, 2000)           16056000  \n",
      "                                                                 \n",
      " batch_normalization_2 (Bat  (None, 7, 2000)           8000      \n",
      " chNormalization)                                                \n",
      "                                                                 \n",
      " lstm_3 (LSTM)               (None, 4000)              96016000  \n",
      "                                                                 \n",
      " batch_normalization_3 (Bat  (None, 4000)              16000     \n",
      " chNormalization)                                                \n",
      "                                                                 \n",
      " dense_5 (Dense)             (None, 1000)              4001000   \n",
      "                                                                 \n",
      " dropout_4 (Dropout)         (None, 1000)              0         \n",
      "                                                                 \n",
      " dense_6 (Dense)             (None, 1000)              1001000   \n",
      "                                                                 \n",
      " dropout_5 (Dropout)         (None, 1000)              0         \n",
      "                                                                 \n",
      " dense_7 (Dense)             (None, 500)               500500    \n",
      "                                                                 \n",
      " dropout_6 (Dropout)         (None, 500)               0         \n",
      "                                                                 \n",
      " dense_8 (Dense)             (None, 250)               125250    \n",
      "                                                                 \n",
      " dropout_7 (Dropout)         (None, 250)               0         \n",
      "                                                                 \n",
      " dense_9 (Dense)             (None, 6)                 1506      \n",
      "                                                                 \n",
      "=================================================================\n",
      "Total params: 117725256 (449.09 MB)\n",
      "Trainable params: 117713256 (449.04 MB)\n",
      "Non-trainable params: 12000 (46.88 KB)\n",
      "_________________________________________________________________\n"
     ]
    }
   ],
   "source": [
    "# LSTM Model Oluşturma\n",
    "\n",
    "model = Sequential([\n",
    "    LSTM(units=units1, return_sequences=True, input_shape=(X_train.shape[1], 6),\n",
    "         dropout=0.1, recurrent_dropout=0.1),  # İlk LSTM katmanı\n",
    "    BatchNormalization(),\n",
    "    \n",
    "    LSTM(units=units2, return_sequences=False, dropout=0.1, recurrent_dropout=0.1),  # İkinci LSTM katmanı\n",
    "    BatchNormalization(),\n",
    "    \n",
    "    Dense(units=units3, activation='relu', kernel_regularizer=l2(0.01)),  # Yoğun katman\n",
    "    Dropout(0.2),  # Dropout katmanı\n",
    "    \n",
    "    Dense(units=units3, activation='relu', kernel_regularizer=l2(0.01)),  # Başka bir yoğun katman\n",
    "    Dropout(0.2),  # Dropout katmanı\n",
    "    \n",
    "    Dense(units=units4, activation='relu', kernel_regularizer=l2(0.01)),  # Başka bir yoğun katman\n",
    "    Dropout(0.2),  # Dropout katmanı\n",
    "    \n",
    "\n",
    "    Dense(units=units5, activation='relu', kernel_regularizer=l2(0.01)),  # Başka bir yoğun katman\n",
    "    Dropout(0.2),  # Dropout katmanı\n",
    "    \n",
    "\n",
    "\n",
    "    Dense(units=6)  # Çıktı katmanı\n",
    "])\n",
    "model.summary()  # Model özeti"
   ]
  },
  {
   "cell_type": "code",
   "execution_count": 27,
   "metadata": {},
   "outputs": [
    {
     "data": {
      "text/plain": [
       "''"
      ]
     },
     "execution_count": 27,
     "metadata": {},
     "output_type": "execute_result"
    }
   ],
   "source": [
    "#tensorflow gpu var mı yok mu kontrolü\n",
    "import tensorflow as tf\n",
    "tf.test.gpu_device_name()\n"
   ]
  },
  {
   "cell_type": "code",
   "execution_count": 28,
   "metadata": {},
   "outputs": [],
   "source": [
    "model.compile(optimizer='adam', \n",
    "              loss='mean_absolute_error', \n",
    "             )  # Modeli derleme"
   ]
  },
  {
   "cell_type": "code",
   "execution_count": 29,
   "metadata": {},
   "outputs": [],
   "source": [
    "early_stopping = EarlyStopping(monitor='val_loss',  # İzlenecek metrik\n",
    "                               patience=5,          # Metrikte iyileşme olmadığı durumda kaç epoch bekleyeceği\n",
    "                               verbose=1,           # Eğitim durdurulduğunda bilgi vermesi\n",
    "                               restore_best_weights=True)  # En iyi ağırlıkları geri yükleme\n",
    "# ReduceLROnPlateau callback'ini ayarlama\n",
    "reduce_lr = ReduceLROnPlateau(monitor='val_loss',\n",
    "                              factor=0.2,  # Öğrenme oranını ne kadar azaltacağı\n",
    "                              patience=3,  # Kaç epoch boyunca iyileşme olmadığında öğrenme oranını azaltacağı\n",
    "                              min_lr=0.001,  # Öğrenme oranının düşebileceği minimum değer\n",
    "                              verbose=1)"
   ]
  },
  {
   "cell_type": "code",
   "execution_count": 30,
   "metadata": {},
   "outputs": [
    {
     "name": "stdout",
     "output_type": "stream",
     "text": [
      "Epoch 1/50\n"
     ]
    }
   ],
   "source": [
    "\n",
    "# Modeli Eğitme ve Tahmin Yapma\n",
    "history = model.fit(X_train, y_train, \n",
    "                    validation_data=(X_test,y_test) , \n",
    "                    epochs=epochs, batch_size= batch_size, \n",
    "                    verbose=1,  \n",
    "                    callbacks=[early_stopping , reduce_lr])  # Model eğitimi\n"
   ]
  },
  {
   "cell_type": "code",
   "execution_count": null,
   "metadata": {},
   "outputs": [
    {
     "data": {
      "image/png": "[encoded data removed]",
      "text/plain": [
       "<Figure size 432x288 with 1 Axes>"
      ]
     },
     "metadata": {
      "needs_background": "light"
     },
     "output_type": "display_data"
    }
   ],
   "source": [
    "# Modelin Eğitim ve Test Hata Grafiği\n",
    "import matplotlib.pyplot as plt\n",
    "plt.plot(history.history['loss'], label='Eğitim Verisi')\n",
    "plt.plot(history.history['val_loss'], label='Test Verisi')\n",
    "plt.title('Model Hatası')\n",
    "plt.ylabel('Hata')\n",
    "plt.xlabel('Epoch')\n",
    "plt.legend(loc='upper right')\n",
    "plt.show()"
   ]
  },
  {
   "cell_type": "code",
   "execution_count": null,
   "metadata": {},
   "outputs": [
    {
     "name": "stdout",
     "output_type": "stream",
     "text": [
      "300/300 [==============================] - 2s 8ms/sample - loss: 2.9403\n"
     ]
    },
    {
     "data": {
      "text/plain": [
       "2.9402587445576986"
      ]
     },
     "execution_count": 17,
     "metadata": {},
     "output_type": "execute_result"
    }
   ],
   "source": [
    "model.evaluate(X_test, y_test)  # Test verileri ile modelin performansını ölçme\n",
    "# bu ne  ? yüksek çıkması iyi mi kötü mü ?\n"
   ]
  },
  {
   "cell_type": "code",
   "execution_count": null,
   "metadata": {},
   "outputs": [],
   "source": [
    "predictions = model.predict(X_test).squeeze() # Test verisi üzerinde tahmin yapma\n",
    "#predictions = scaler.inverse_transform(predictions)  # Tahminlerin ölçeklendirilmesinin tersine çevrilmesi\n"
   ]
  },
  {
   "cell_type": "code",
   "execution_count": null,
   "metadata": {},
   "outputs": [
    {
     "name": "stdout",
     "output_type": "stream",
     "text": [
      "MSE:  0.12424330546092588\n",
      "MAE:  0.32254531828876715\n",
      "R2:  -790.2965145158715\n"
     ]
    }
   ],
   "source": [
    "# Sonuçların Değerlendirilmesi\n",
    "#predictions = scaler.inverse_transform(predictions)  # Tahminlerin ölçeklendirilmesinin tersine çevrilmesi\n",
    "#y_test_scaled = scaler.inverse_transform(y_test)  # Gerçek test verilerinin ölçeklendirilmesinin tersine çevrilmesi\n",
    "\n",
    "\n",
    "MSE = mean_squared_error( predictions , y_test)  # Hata ölçümü\n",
    "MAE = mean_absolute_error( predictions ,y_test)  # Hata ölçümü\n",
    "R2 = r2_score(predictions ,y_test)  # Hata ölçümü\n",
    "print('MSE: ', MSE)\n",
    "print('MAE: ', MAE)\n",
    "print('R2: ', R2)\n"
   ]
  },
  {
   "cell_type": "code",
   "execution_count": null,
   "metadata": {},
   "outputs": [],
   "source": [
    "predictions = scaler.inverse_transform(predictions)  # Tahminlerin ölçeklendirilmesinin tersine çevrilmesi\n"
   ]
  },
  {
   "cell_type": "code",
   "execution_count": null,
   "metadata": {},
   "outputs": [],
   "source": [
    "# Tahmin Edilen Verileri Mum Çubukları ile Görselleştirme\n",
    "predicted_df = pd.DataFrame(predictions, columns=['Open', 'High', 'Low', 'Close' , 'Adj Close', 'Volume'])  # Tahminlerin DataFrame'e dönüştürülmesi\n",
    "predicted_df['Date'] = pd.date_range(start=btc_data.index[-len(predictions)], periods=len(predictions), freq='D')  # Tarih sütununun eklenmesi\n",
    "predicted_df.set_index('Date', inplace=True)  # Tarihin indeks olarak ayarlanması\n"
   ]
  },
  {
   "cell_type": "code",
   "execution_count": null,
   "metadata": {},
   "outputs": [],
   "source": [
    "#mpf.plot(predicted_df, type='candle', volume=True, style='yahoo', title='BTC-USD')  # Gerçek verilerin görselleştirilmesi"
   ]
  },
  {
   "cell_type": "code",
   "execution_count": null,
   "metadata": {},
   "outputs": [],
   "source": [
    "def prepare_data_for_forecasting(latest_data, time_step):\n",
    "    # Son kullanılabilir verileri al ve ölçeklendir\n",
    "    last_scaled_data = scaler.transform(latest_data)\n",
    "\n",
    "    # Son verileri model girdisi olarak hazırla\n",
    "    X = []\n",
    "    for i in range(len(last_scaled_data) - time_step):\n",
    "        X.append(last_scaled_data[i:i + time_step, 0:])\n",
    "\n",
    "    return np.array(X)\n"
   ]
  },
  {
   "cell_type": "code",
   "execution_count": null,
   "metadata": {},
   "outputs": [],
   "source": [
    "def predict_future_prices(model, prepared_data, days_to_predict):\n",
    "    predictions = []\n",
    "\n",
    "    # Son verileri kullanarak gelecek günler için tahmin yap\n",
    "    current_batch = prepared_data[-1].reshape(1, prepared_data.shape[1], 6)\n",
    "\n",
    "    for i in range(days_to_predict):\n",
    "        # Tahmin yap ve sonucu sakla\n",
    "        current_pred = model.predict(current_batch)[0]\n",
    "        predictions.append(current_pred)\n",
    "        \n",
    "        # Sonraki tahmin için girdiyi güncelle\n",
    "        current_batch = np.append(current_batch[:,1:,:],[[current_pred]],axis=1)\n",
    "\n",
    "    return scaler.inverse_transform(predictions)\n"
   ]
  },
  {
   "cell_type": "code",
   "execution_count": null,
   "metadata": {},
   "outputs": [],
   "source": [
    "#btc_data = yf.download('BTC-USD', period='6000d')  # Bitcoin verilerini yfinance ile indirme\n"
   ]
  },
  {
   "cell_type": "code",
   "execution_count": null,
   "metadata": {},
   "outputs": [],
   "source": [
    "days_to_predict = 7  # Kaç gün sonrası için tahmin yapılacağı\n",
    "\n",
    "btc_data_son_x = btc_data[-days_to_predict:]\n",
    "\n",
    "\n",
    "#btc_datadan son 30 günü sil (göz ile test için)\n",
    "btc_data = btc_data[:-days_to_predict]\n",
    "\n",
    "\n",
    "# Son kullanılabilir verileri al (örneğin son 100 gün)\n",
    "latest_data = btc_data\n",
    "\n",
    "# Verileri hazırla\n",
    "prepared_data = prepare_data_for_forecasting(latest_data, time_step=time_step) # Son 100 gündeki verileri kullanarak gelecek 30 gün için tahmin yap\n",
    "\n",
    "# Gelecek 30 gün için tahmin yap\n",
    "future_predictions = predict_future_prices(model, prepared_data, days_to_predict=days_to_predict) # Son 100 gündeki verileri kullanarak gelecek 30 gün için tahmin yapar\n",
    "\n"
   ]
  },
  {
   "cell_type": "code",
   "execution_count": null,
   "metadata": {},
   "outputs": [
    {
     "data": {
      "text/html": [
       "<div>\n",
       "<style scoped>\n",
       "    .dataframe tbody tr th:only-of-type {\n",
       "        vertical-align: middle;\n",
       "    }\n",
       "\n",
       "    .dataframe tbody tr th {\n",
       "        vertical-align: top;\n",
       "    }\n",
       "\n",
       "    .dataframe thead th {\n",
       "        text-align: right;\n",
       "    }\n",
       "</style>\n",
       "<table border=\"1\" class=\"dataframe\">\n",
       "  <thead>\n",
       "    <tr style=\"text-align: right;\">\n",
       "      <th></th>\n",
       "      <th>Open</th>\n",
       "      <th>High</th>\n",
       "      <th>Low</th>\n",
       "      <th>Close</th>\n",
       "      <th>Adj Close</th>\n",
       "      <th>Volume</th>\n",
       "    </tr>\n",
       "    <tr>\n",
       "      <th>Date</th>\n",
       "      <th></th>\n",
       "      <th></th>\n",
       "      <th></th>\n",
       "      <th></th>\n",
       "      <th></th>\n",
       "      <th></th>\n",
       "    </tr>\n",
       "  </thead>\n",
       "  <tbody>\n",
       "    <tr>\n",
       "      <th>2023-12-19</th>\n",
       "      <td>25.371063</td>\n",
       "      <td>12228.401111</td>\n",
       "      <td>11658.969913</td>\n",
       "      <td>11791.732669</td>\n",
       "      <td>11543.457598</td>\n",
       "      <td>1.235339e+10</td>\n",
       "    </tr>\n",
       "    <tr>\n",
       "      <th>2023-12-20</th>\n",
       "      <td>25.471977</td>\n",
       "      <td>12269.907228</td>\n",
       "      <td>11722.320405</td>\n",
       "      <td>11840.958099</td>\n",
       "      <td>11581.305779</td>\n",
       "      <td>1.238557e+10</td>\n",
       "    </tr>\n",
       "    <tr>\n",
       "      <th>2023-12-21</th>\n",
       "      <td>25.259839</td>\n",
       "      <td>12151.715401</td>\n",
       "      <td>11634.419007</td>\n",
       "      <td>11751.041682</td>\n",
       "      <td>11476.402121</td>\n",
       "      <td>1.235333e+10</td>\n",
       "    </tr>\n",
       "    <tr>\n",
       "      <th>2023-12-22</th>\n",
       "      <td>24.836030</td>\n",
       "      <td>11930.992216</td>\n",
       "      <td>11452.852411</td>\n",
       "      <td>11569.525858</td>\n",
       "      <td>11283.399594</td>\n",
       "      <td>1.220428e+10</td>\n",
       "    </tr>\n",
       "    <tr>\n",
       "      <th>2023-12-23</th>\n",
       "      <td>24.169527</td>\n",
       "      <td>11587.710667</td>\n",
       "      <td>11153.715945</td>\n",
       "      <td>11263.972916</td>\n",
       "      <td>10967.201443</td>\n",
       "      <td>1.194133e+10</td>\n",
       "    </tr>\n",
       "    <tr>\n",
       "      <th>2023-12-24</th>\n",
       "      <td>22.935720</td>\n",
       "      <td>10959.279840</td>\n",
       "      <td>10586.654549</td>\n",
       "      <td>10681.636510</td>\n",
       "      <td>10370.886986</td>\n",
       "      <td>1.148313e+10</td>\n",
       "    </tr>\n",
       "    <tr>\n",
       "      <th>2023-12-25</th>\n",
       "      <td>19.948205</td>\n",
       "      <td>9400.288158</td>\n",
       "      <td>9177.319695</td>\n",
       "      <td>9212.265303</td>\n",
       "      <td>8898.252227</td>\n",
       "      <td>1.057361e+10</td>\n",
       "    </tr>\n",
       "  </tbody>\n",
       "</table>\n",
       "</div>"
      ],
      "text/plain": [
       "                 Open          High           Low         Close     Adj Close  \\\n",
       "Date                                                                            \n",
       "2023-12-19  25.371063  12228.401111  11658.969913  11791.732669  11543.457598   \n",
       "2023-12-20  25.471977  12269.907228  11722.320405  11840.958099  11581.305779   \n",
       "2023-12-21  25.259839  12151.715401  11634.419007  11751.041682  11476.402121   \n",
       "2023-12-22  24.836030  11930.992216  11452.852411  11569.525858  11283.399594   \n",
       "2023-12-23  24.169527  11587.710667  11153.715945  11263.972916  10967.201443   \n",
       "2023-12-24  22.935720  10959.279840  10586.654549  10681.636510  10370.886986   \n",
       "2023-12-25  19.948205   9400.288158   9177.319695   9212.265303   8898.252227   \n",
       "\n",
       "                  Volume  \n",
       "Date                      \n",
       "2023-12-19  1.235339e+10  \n",
       "2023-12-20  1.238557e+10  \n",
       "2023-12-21  1.235333e+10  \n",
       "2023-12-22  1.220428e+10  \n",
       "2023-12-23  1.194133e+10  \n",
       "2023-12-24  1.148313e+10  \n",
       "2023-12-25  1.057361e+10  "
      ]
     },
     "execution_count": 27,
     "metadata": {},
     "output_type": "execute_result"
    }
   ],
   "source": [
    "# Tahmin edilen verileri df yap\n",
    "future_predictions_df = pd.DataFrame(future_predictions, columns=['Open', 'High', 'Low', 'Close' , 'Adj Close', 'Volume'])\n",
    "\n",
    "#btc_datanın son tarihinden başlayarak 30 gün boyunca tarihleri oluştur\n",
    "future_predictions_df['Date'] = pd.date_range(start=btc_data.index[-1], periods=len(future_predictions_df), freq='D')\n",
    "\n",
    "# Tarihi indeks olarak ayarla\n",
    "future_predictions_df.set_index('Date', inplace=True)\n",
    "future_predictions_df"
   ]
  },
  {
   "cell_type": "code",
   "execution_count": null,
   "metadata": {},
   "outputs": [
    {
     "data": {
      "text/html": [
       "<div>\n",
       "<style scoped>\n",
       "    .dataframe tbody tr th:only-of-type {\n",
       "        vertical-align: middle;\n",
       "    }\n",
       "\n",
       "    .dataframe tbody tr th {\n",
       "        vertical-align: top;\n",
       "    }\n",
       "\n",
       "    .dataframe thead th {\n",
       "        text-align: right;\n",
       "    }\n",
       "</style>\n",
       "<table border=\"1\" class=\"dataframe\">\n",
       "  <thead>\n",
       "    <tr style=\"text-align: right;\">\n",
       "      <th></th>\n",
       "      <th>Open</th>\n",
       "      <th>High</th>\n",
       "      <th>Low</th>\n",
       "      <th>Close</th>\n",
       "      <th>Adj Close</th>\n",
       "      <th>Volume</th>\n",
       "    </tr>\n",
       "    <tr>\n",
       "      <th>Date</th>\n",
       "      <th></th>\n",
       "      <th></th>\n",
       "      <th></th>\n",
       "      <th></th>\n",
       "      <th></th>\n",
       "      <th></th>\n",
       "    </tr>\n",
       "  </thead>\n",
       "  <tbody>\n",
       "    <tr>\n",
       "      <th>2023-12-20</th>\n",
       "      <td>42261.300781</td>\n",
       "      <td>44275.585938</td>\n",
       "      <td>42223.816406</td>\n",
       "      <td>43652.250000</td>\n",
       "      <td>43652.250000</td>\n",
       "      <td>27868908174</td>\n",
       "    </tr>\n",
       "    <tr>\n",
       "      <th>2023-12-21</th>\n",
       "      <td>43648.125000</td>\n",
       "      <td>44240.667969</td>\n",
       "      <td>43330.050781</td>\n",
       "      <td>43869.152344</td>\n",
       "      <td>43869.152344</td>\n",
       "      <td>22452766169</td>\n",
       "    </tr>\n",
       "    <tr>\n",
       "      <th>2023-12-22</th>\n",
       "      <td>43868.988281</td>\n",
       "      <td>44367.957031</td>\n",
       "      <td>43441.968750</td>\n",
       "      <td>43997.902344</td>\n",
       "      <td>43997.902344</td>\n",
       "      <td>21028503216</td>\n",
       "    </tr>\n",
       "    <tr>\n",
       "      <th>2023-12-23</th>\n",
       "      <td>44012.199219</td>\n",
       "      <td>44015.699219</td>\n",
       "      <td>43351.355469</td>\n",
       "      <td>43739.542969</td>\n",
       "      <td>43739.542969</td>\n",
       "      <td>13507796558</td>\n",
       "    </tr>\n",
       "    <tr>\n",
       "      <th>2023-12-24</th>\n",
       "      <td>43728.367188</td>\n",
       "      <td>43945.523438</td>\n",
       "      <td>42786.917969</td>\n",
       "      <td>43016.117188</td>\n",
       "      <td>43016.117188</td>\n",
       "      <td>18830554085</td>\n",
       "    </tr>\n",
       "    <tr>\n",
       "      <th>2023-12-25</th>\n",
       "      <td>43010.574219</td>\n",
       "      <td>43765.093750</td>\n",
       "      <td>42765.769531</td>\n",
       "      <td>43613.140625</td>\n",
       "      <td>43613.140625</td>\n",
       "      <td>21115795370</td>\n",
       "    </tr>\n",
       "    <tr>\n",
       "      <th>2023-12-26</th>\n",
       "      <td>43599.847656</td>\n",
       "      <td>43599.847656</td>\n",
       "      <td>42379.105469</td>\n",
       "      <td>42682.500000</td>\n",
       "      <td>42682.500000</td>\n",
       "      <td>27023734784</td>\n",
       "    </tr>\n",
       "  </tbody>\n",
       "</table>\n",
       "</div>"
      ],
      "text/plain": [
       "                    Open          High           Low         Close  \\\n",
       "Date                                                                 \n",
       "2023-12-20  42261.300781  44275.585938  42223.816406  43652.250000   \n",
       "2023-12-21  43648.125000  44240.667969  43330.050781  43869.152344   \n",
       "2023-12-22  43868.988281  44367.957031  43441.968750  43997.902344   \n",
       "2023-12-23  44012.199219  44015.699219  43351.355469  43739.542969   \n",
       "2023-12-24  43728.367188  43945.523438  42786.917969  43016.117188   \n",
       "2023-12-25  43010.574219  43765.093750  42765.769531  43613.140625   \n",
       "2023-12-26  43599.847656  43599.847656  42379.105469  42682.500000   \n",
       "\n",
       "               Adj Close       Volume  \n",
       "Date                                   \n",
       "2023-12-20  43652.250000  27868908174  \n",
       "2023-12-21  43869.152344  22452766169  \n",
       "2023-12-22  43997.902344  21028503216  \n",
       "2023-12-23  43739.542969  13507796558  \n",
       "2023-12-24  43016.117188  18830554085  \n",
       "2023-12-25  43613.140625  21115795370  \n",
       "2023-12-26  42682.500000  27023734784  "
      ]
     },
     "execution_count": 28,
     "metadata": {},
     "output_type": "execute_result"
    }
   ],
   "source": [
    "btc_data_son_x"
   ]
  }
 ],
 "metadata": {
  "kernelspec": {
   "display_name": "all",
   "language": "python",
   "name": "python3"
  },
  "language_info": {
   "codemirror_mode": {
    "name": "ipython",
    "version": 3
   },
   "file_extension": ".py",
   "mimetype": "text/x-python",
   "name": "python",
   "nbconvert_exporter": "python",
   "pygments_lexer": "ipython3",
   "version": "3.11.5"
  }
 },
 "nbformat": 4,
 "nbformat_minor": 2
}
