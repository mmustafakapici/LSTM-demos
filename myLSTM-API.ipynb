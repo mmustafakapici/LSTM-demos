{
 "cells": [
  {
   "cell_type": "code",
   "execution_count": 85,
   "metadata": {},
   "outputs": [],
   "source": [
    "import pandas as pd\n",
    "import numpy as np\n",
    "import matplotlib.pyplot as plt"
   ]
  },
  {
   "cell_type": "code",
   "execution_count": 86,
   "metadata": {},
   "outputs": [],
   "source": [
    "import tensorflow as tf"
   ]
  },
  {
   "cell_type": "code",
   "execution_count": 87,
   "metadata": {},
   "outputs": [],
   "source": [
    "import yfinance as yf # yfinance is used to download the data from yahoo finance"
   ]
  },
  {
   "cell_type": "code",
   "execution_count": 88,
   "metadata": {},
   "outputs": [
    {
     "name": "stdout",
     "output_type": "stream",
     "text": [
      "[*********************100%%**********************]  1 of 1 completed\n"
     ]
    },
    {
     "data": {
      "text/html": [
       "<div>\n",
       "<style scoped>\n",
       "    .dataframe tbody tr th:only-of-type {\n",
       "        vertical-align: middle;\n",
       "    }\n",
       "\n",
       "    .dataframe tbody tr th {\n",
       "        vertical-align: top;\n",
       "    }\n",
       "\n",
       "    .dataframe thead th {\n",
       "        text-align: right;\n",
       "    }\n",
       "</style>\n",
       "<table border=\"1\" class=\"dataframe\">\n",
       "  <thead>\n",
       "    <tr style=\"text-align: right;\">\n",
       "      <th></th>\n",
       "      <th>Open</th>\n",
       "      <th>High</th>\n",
       "      <th>Low</th>\n",
       "      <th>Close</th>\n",
       "      <th>Adj Close</th>\n",
       "      <th>Volume</th>\n",
       "    </tr>\n",
       "    <tr>\n",
       "      <th>Date</th>\n",
       "      <th></th>\n",
       "      <th></th>\n",
       "      <th></th>\n",
       "      <th></th>\n",
       "      <th></th>\n",
       "      <th></th>\n",
       "    </tr>\n",
       "  </thead>\n",
       "  <tbody>\n",
       "    <tr>\n",
       "      <th>2014-09-17</th>\n",
       "      <td>465.864014</td>\n",
       "      <td>468.174011</td>\n",
       "      <td>452.421997</td>\n",
       "      <td>457.334015</td>\n",
       "      <td>457.334015</td>\n",
       "      <td>21056800</td>\n",
       "    </tr>\n",
       "    <tr>\n",
       "      <th>2014-09-18</th>\n",
       "      <td>456.859985</td>\n",
       "      <td>456.859985</td>\n",
       "      <td>413.104004</td>\n",
       "      <td>424.440002</td>\n",
       "      <td>424.440002</td>\n",
       "      <td>34483200</td>\n",
       "    </tr>\n",
       "    <tr>\n",
       "      <th>2014-09-19</th>\n",
       "      <td>424.102997</td>\n",
       "      <td>427.834991</td>\n",
       "      <td>384.532013</td>\n",
       "      <td>394.795990</td>\n",
       "      <td>394.795990</td>\n",
       "      <td>37919700</td>\n",
       "    </tr>\n",
       "    <tr>\n",
       "      <th>2014-09-20</th>\n",
       "      <td>394.673004</td>\n",
       "      <td>423.295990</td>\n",
       "      <td>389.882996</td>\n",
       "      <td>408.903992</td>\n",
       "      <td>408.903992</td>\n",
       "      <td>36863600</td>\n",
       "    </tr>\n",
       "    <tr>\n",
       "      <th>2014-09-21</th>\n",
       "      <td>408.084991</td>\n",
       "      <td>412.425995</td>\n",
       "      <td>393.181000</td>\n",
       "      <td>398.821014</td>\n",
       "      <td>398.821014</td>\n",
       "      <td>26580100</td>\n",
       "    </tr>\n",
       "  </tbody>\n",
       "</table>\n",
       "</div>"
      ],
      "text/plain": [
       "                  Open        High         Low       Close   Adj Close  \\\n",
       "Date                                                                     \n",
       "2014-09-17  465.864014  468.174011  452.421997  457.334015  457.334015   \n",
       "2014-09-18  456.859985  456.859985  413.104004  424.440002  424.440002   \n",
       "2014-09-19  424.102997  427.834991  384.532013  394.795990  394.795990   \n",
       "2014-09-20  394.673004  423.295990  389.882996  408.903992  408.903992   \n",
       "2014-09-21  408.084991  412.425995  393.181000  398.821014  398.821014   \n",
       "\n",
       "              Volume  \n",
       "Date                  \n",
       "2014-09-17  21056800  \n",
       "2014-09-18  34483200  \n",
       "2014-09-19  37919700  \n",
       "2014-09-20  36863600  \n",
       "2014-09-21  26580100  "
      ]
     },
     "execution_count": 88,
     "metadata": {},
     "output_type": "execute_result"
    }
   ],
   "source": [
    "btc_data  = yf.download('BTC-USD' , period='3600d')\n",
    "df = btc_data[['Open', 'High', 'Low', 'Close' , 'Adj Close', 'Volume']]  # İlgili sütunların seçilmesi\n",
    "\n",
    "df.head()"
   ]
  },
  {
   "cell_type": "code",
   "execution_count": 89,
   "metadata": {},
   "outputs": [
    {
     "name": "stdout",
     "output_type": "stream",
     "text": [
      "<class 'pandas.core.frame.DataFrame'>\n",
      "DatetimeIndex: 3398 entries, 2014-09-17 to 2024-01-05\n",
      "Data columns (total 6 columns):\n",
      " #   Column     Non-Null Count  Dtype  \n",
      "---  ------     --------------  -----  \n",
      " 0   Open       3398 non-null   float64\n",
      " 1   High       3398 non-null   float64\n",
      " 2   Low        3398 non-null   float64\n",
      " 3   Close      3398 non-null   float64\n",
      " 4   Adj Close  3398 non-null   float64\n",
      " 5   Volume     3398 non-null   int64  \n",
      "dtypes: float64(5), int64(1)\n",
      "memory usage: 185.8 KB\n"
     ]
    }
   ],
   "source": [
    "df.info()  # Veri setinin bilgileri"
   ]
  },
  {
   "cell_type": "code",
   "execution_count": 90,
   "metadata": {},
   "outputs": [
    {
     "data": {
      "text/plain": [
       "3398"
      ]
     },
     "execution_count": 90,
     "metadata": {},
     "output_type": "execute_result"
    }
   ],
   "source": [
    "len(df)  # Veri setinin uzunluğu"
   ]
  },
  {
   "cell_type": "code",
   "execution_count": 91,
   "metadata": {},
   "outputs": [
    {
     "data": {
      "text/html": [
       "<div>\n",
       "<style scoped>\n",
       "    .dataframe tbody tr th:only-of-type {\n",
       "        vertical-align: middle;\n",
       "    }\n",
       "\n",
       "    .dataframe tbody tr th {\n",
       "        vertical-align: top;\n",
       "    }\n",
       "\n",
       "    .dataframe thead th {\n",
       "        text-align: right;\n",
       "    }\n",
       "</style>\n",
       "<table border=\"1\" class=\"dataframe\">\n",
       "  <thead>\n",
       "    <tr style=\"text-align: right;\">\n",
       "      <th></th>\n",
       "      <th>Price</th>\n",
       "    </tr>\n",
       "    <tr>\n",
       "      <th>Date</th>\n",
       "      <th></th>\n",
       "    </tr>\n",
       "  </thead>\n",
       "  <tbody>\n",
       "    <tr>\n",
       "      <th>2014-09-17</th>\n",
       "      <td>457.334015</td>\n",
       "    </tr>\n",
       "    <tr>\n",
       "      <th>2014-09-18</th>\n",
       "      <td>424.440002</td>\n",
       "    </tr>\n",
       "    <tr>\n",
       "      <th>2014-09-19</th>\n",
       "      <td>394.795990</td>\n",
       "    </tr>\n",
       "    <tr>\n",
       "      <th>2014-09-20</th>\n",
       "      <td>408.903992</td>\n",
       "    </tr>\n",
       "    <tr>\n",
       "      <th>2014-09-21</th>\n",
       "      <td>398.821014</td>\n",
       "    </tr>\n",
       "  </tbody>\n",
       "</table>\n",
       "</div>"
      ],
      "text/plain": [
       "                 Price\n",
       "Date                  \n",
       "2014-09-17  457.334015\n",
       "2014-09-18  424.440002\n",
       "2014-09-19  394.795990\n",
       "2014-09-20  408.903992\n",
       "2014-09-21  398.821014"
      ]
     },
     "execution_count": 91,
     "metadata": {},
     "output_type": "execute_result"
    }
   ],
   "source": [
    "# Only want closing price for each day \n",
    "bitcoin_prices = pd.DataFrame(df[\"Close\"]).rename(columns={\"Close\": \"Price\"}) # Sadece kapanış fiyatlarını alıyoruz ve sütun ismini değiştiriyoruz\n",
    "bitcoin_prices.head()"
   ]
  },
  {
   "cell_type": "code",
   "execution_count": 92,
   "metadata": {},
   "outputs": [
    {
     "data": {
      "image/png": "[encoded data removed]",
      "text/plain": [
       "<Figure size 1000x700 with 1 Axes>"
      ]
     },
     "metadata": {},
     "output_type": "display_data"
    }
   ],
   "source": [
    "bitcoin_prices.plot(figsize=(10, 7))\n",
    "plt.ylabel(\"BTC Price\")\n",
    "plt.title(\"Price of Bitcoin from 1 Oct 2013 to 18 May 2021\", fontsize=16)\n",
    "plt.legend(fontsize=14);"
   ]
  },
  {
   "cell_type": "code",
   "execution_count": 93,
   "metadata": {},
   "outputs": [
    {
     "data": {
      "text/plain": [
       "([Timestamp('2014-09-17 00:00:00'),\n",
       "  Timestamp('2014-09-18 00:00:00'),\n",
       "  Timestamp('2014-09-19 00:00:00'),\n",
       "  Timestamp('2014-09-20 00:00:00'),\n",
       "  Timestamp('2014-09-21 00:00:00'),\n",
       "  Timestamp('2014-09-22 00:00:00'),\n",
       "  Timestamp('2014-09-23 00:00:00'),\n",
       "  Timestamp('2014-09-24 00:00:00'),\n",
       "  Timestamp('2014-09-25 00:00:00'),\n",
       "  Timestamp('2014-09-26 00:00:00')],\n",
       " [457.3340148925781,\n",
       "  424.44000244140625,\n",
       "  394.7959899902344,\n",
       "  408.90399169921875,\n",
       "  398.8210144042969,\n",
       "  402.1520080566406,\n",
       "  435.7909851074219,\n",
       "  423.2049865722656,\n",
       "  411.5740051269531,\n",
       "  404.42498779296875])"
      ]
     },
     "execution_count": 93,
     "metadata": {},
     "output_type": "execute_result"
    }
   ],
   "source": [
    "# Formatting historical Bitcoin data with Python\n",
    "from datetime import datetime\n",
    "\n",
    "timesteps = []\n",
    "btc_price = []\n",
    "\n",
    "\n",
    "# ilk 10 satırın gösterilmesi\n",
    "for row in df.itertuples():\n",
    "  timesteps.append(row.Index)\n",
    "  btc_price.append(row.Close)\n",
    "\n",
    "\n",
    "\n",
    "\n",
    "\n",
    "timesteps[:10], btc_price[:10]"
   ]
  },
  {
   "cell_type": "code",
   "execution_count": 94,
   "metadata": {},
   "outputs": [
    {
     "data": {
      "image/png": "[encoded data removed]",
      "text/plain": [
       "<Figure size 1000x700 with 1 Axes>"
      ]
     },
     "metadata": {},
     "output_type": "display_data"
    }
   ],
   "source": [
    "plt.figure(figsize=(10, 7))\n",
    "plt.plot(timesteps, btc_price)\n",
    "plt.title(\"Price of Bitcoin \", fontsize=16)\n",
    "plt.xlabel(\"Date\")\n",
    "plt.ylabel(\"BTC Price\");"
   ]
  },
  {
   "cell_type": "code",
   "execution_count": 95,
   "metadata": {},
   "outputs": [
    {
     "data": {
      "text/plain": [
       "(array(['2014-09-17T00:00:00.000000000', '2014-09-18T00:00:00.000000000',\n",
       "        '2014-09-19T00:00:00.000000000', '2014-09-20T00:00:00.000000000',\n",
       "        '2014-09-21T00:00:00.000000000', '2014-09-22T00:00:00.000000000',\n",
       "        '2014-09-23T00:00:00.000000000', '2014-09-24T00:00:00.000000000',\n",
       "        '2014-09-25T00:00:00.000000000', '2014-09-26T00:00:00.000000000'],\n",
       "       dtype='datetime64[ns]'),\n",
       " array([457.33401489, 424.44000244, 394.79598999, 408.9039917 ,\n",
       "        398.8210144 , 402.15200806, 435.79098511, 423.20498657,\n",
       "        411.57400513, 404.42498779]))"
      ]
     },
     "execution_count": 95,
     "metadata": {},
     "output_type": "execute_result"
    }
   ],
   "source": [
    "# Get bitcoin date array\n",
    "timesteps = bitcoin_prices.index.to_numpy()\n",
    "prices = bitcoin_prices[\"Price\"].to_numpy()\n",
    "\n",
    "timesteps[:10], prices[:10]"
   ]
  },
  {
   "cell_type": "code",
   "execution_count": 96,
   "metadata": {},
   "outputs": [
    {
     "data": {
      "text/plain": [
       "(2718, 680, 2718, 680)"
      ]
     },
     "execution_count": 96,
     "metadata": {},
     "output_type": "execute_result"
    }
   ],
   "source": [
    "# Create train and test splits the right way for time series data\n",
    "split_size = int(0.8 * len(prices)) # 80% train, 20% test\n",
    "\n",
    "# Create train data splits (everything before the split)\n",
    "X_train, y_train = timesteps[:split_size], prices[:split_size]\n",
    "\n",
    "# Create test data splits (everything after the split)\n",
    "X_test, y_test = timesteps[split_size:], prices[split_size:]\n",
    "\n",
    "len(X_train), len(X_test), len(y_train), len(y_test)"
   ]
  },
  {
   "cell_type": "code",
   "execution_count": 97,
   "metadata": {},
   "outputs": [
    {
     "data": {
      "image/png": "[encoded data removed]",
      "text/plain": [
       "<Figure size 1000x700 with 1 Axes>"
      ]
     },
     "metadata": {},
     "output_type": "display_data"
    }
   ],
   "source": [
    "# Plot correctly made splits\n",
    "plt.figure(figsize=(10, 7))\n",
    "plt.scatter(X_train, y_train, s=5, label=\"Train data\")\n",
    "plt.scatter(X_test, y_test, s=5, label=\"Test data\")\n",
    "plt.xlabel(\"Date\")\n",
    "plt.ylabel(\"BTC Price\")\n",
    "plt.legend(fontsize=14)\n",
    "plt.show();"
   ]
  },
  {
   "cell_type": "code",
   "execution_count": 98,
   "metadata": {},
   "outputs": [],
   "source": [
    "# Create a function to plot time series data\n",
    "def plot_time_series(timesteps, values, format='.', start=0, end=None, label=None):\n",
    "  \"\"\"\n",
    "  Plots a timesteps (a series of points in time) against values (a series of values across timesteps).\n",
    "  \n",
    "  Parameters\n",
    "  ---------\n",
    "  timesteps : array of timesteps\n",
    "  values : array of values across time\n",
    "  format : style of plot, default \".\"\n",
    "  start : where to start the plot (setting a value will index from start of timesteps & values)\n",
    "  end : where to end the plot (setting a value will index from end of timesteps & values)\n",
    "  label : label to show on plot of values\n",
    "  \"\"\"\n",
    "  # Plot the series\n",
    "  plt.plot(timesteps[start:end], values[start:end], format, label=label)\n",
    "  plt.xlabel(\"Time\")\n",
    "  plt.ylabel(\"BTC Price\")\n",
    "  if label:\n",
    "    plt.legend(fontsize=14) # make label bigger\n",
    "  plt.grid(True)"
   ]
  },
  {
   "cell_type": "code",
   "execution_count": 99,
   "metadata": {},
   "outputs": [
    {
     "data": {
      "image/png": "[encoded data removed]",
      "text/plain": [
       "<Figure size 1000x700 with 1 Axes>"
      ]
     },
     "metadata": {},
     "output_type": "display_data"
    }
   ],
   "source": [
    "# Try out our plotting function\n",
    "plt.figure(figsize=(10, 7))\n",
    "plot_time_series(timesteps=X_train, values=y_train, label=\"Train data\")\n",
    "plot_time_series(timesteps=X_test, values=y_test, label=\"Test data\")"
   ]
  },
  {
   "cell_type": "code",
   "execution_count": 100,
   "metadata": {},
   "outputs": [],
   "source": [
    "def evaluate_preds(y_true, y_pred):\n",
    "  # Make sure float32 (for metric calculations)\n",
    "  y_true = tf.cast(y_true, dtype=tf.float32)\n",
    "  y_pred = tf.cast(y_pred, dtype=tf.float32)\n",
    "\n",
    "  # Calculate various metrics\n",
    "  mae = tf.keras.metrics.mean_absolute_error(y_true, y_pred)\n",
    "  mse = tf.keras.metrics.mean_squared_error(y_true, y_pred) # puts and emphasis on outliers (all errors get squared)\n",
    "  rmse = tf.sqrt(mse)\n",
    "  mape = tf.keras.metrics.mean_absolute_percentage_error(y_true, y_pred)\n",
    "  \n",
    "  return {\"mae\": mae.numpy(),\n",
    "          \"mse\": mse.numpy(),\n",
    "          \"rmse\": rmse.numpy(),\n",
    "          \"mape\": mape.numpy()\n",
    "          }"
   ]
  },
  {
   "cell_type": "code",
   "execution_count": 101,
   "metadata": {},
   "outputs": [
    {
     "data": {
      "text/plain": [
       "27630.81338752298"
      ]
     },
     "execution_count": 101,
     "metadata": {},
     "output_type": "execute_result"
    }
   ],
   "source": [
    "# Find average price of Bitcoin in test dataset\n",
    "tf.reduce_mean(y_test).numpy()"
   ]
  },
  {
   "cell_type": "code",
   "execution_count": 102,
   "metadata": {},
   "outputs": [],
   "source": [
    "HORIZON = 1 # predict 1 step at a time\n",
    "WINDOW_SIZE = 7 # use a week worth of timesteps to predict the horizon"
   ]
  },
  {
   "cell_type": "code",
   "execution_count": 103,
   "metadata": {},
   "outputs": [],
   "source": [
    "# Create function to label windowed data\n",
    "def get_labelled_windows(x, horizon=1):\n",
    "  \"\"\"\n",
    "  Creates labels for windowed dataset.\n",
    "\n",
    "  E.g. if horizon=1 (default)\n",
    "  Input: [1, 2, 3, 4, 5, 6] -> Output: ([1, 2, 3, 4, 5], [6])\n",
    "  \"\"\"\n",
    "  return x[:, :-horizon], x[:, -horizon:]"
   ]
  },
  {
   "cell_type": "code",
   "execution_count": 104,
   "metadata": {},
   "outputs": [
    {
     "name": "stdout",
     "output_type": "stream",
     "text": [
      "Window: [1 2 3 4 5 6 7] -> Label: 8\n"
     ]
    }
   ],
   "source": [
    "# Test out the window labelling function\n",
    "test_window, test_label = get_labelled_windows(tf.expand_dims(tf.range(8)+1, axis=0), horizon=HORIZON)\n",
    "print(f\"Window: {tf.squeeze(test_window).numpy()} -> Label: {tf.squeeze(test_label).numpy()}\")"
   ]
  },
  {
   "cell_type": "code",
   "execution_count": 105,
   "metadata": {},
   "outputs": [],
   "source": [
    "# Create function to view NumPy arrays as windows \n",
    "def make_windows(x, window_size=7, horizon=1):\n",
    "  \"\"\"\n",
    "  Turns a 1D array into a 2D array of sequential windows of window_size.\n",
    "  \"\"\"\n",
    "  # 1. Create a window of specific window_size (add the horizon on the end for later labelling)\n",
    "  window_step = np.expand_dims(np.arange(window_size+horizon), axis=0)\n",
    "  # print(f\"Window step:\\n {window_step}\")\n",
    "\n",
    "  # 2. Create a 2D array of multiple window steps (minus 1 to account for 0 indexing)\n",
    "  window_indexes = window_step + np.expand_dims(np.arange(len(x)-(window_size+horizon-1)), axis=0).T # create 2D array of windows of size window_size\n",
    "  # print(f\"Window indexes:\\n {window_indexes[:3], window_indexes[-3:], window_indexes.shape}\")\n",
    "\n",
    "  # 3. Index on the target array (time series) with 2D array of multiple window steps\n",
    "  windowed_array = x[window_indexes]\n",
    "\n",
    "  # 4. Get the labelled windows\n",
    "  windows, labels = get_labelled_windows(windowed_array, horizon=horizon)\n",
    "\n",
    "  return windows, labels"
   ]
  },
  {
   "cell_type": "code",
   "execution_count": 106,
   "metadata": {},
   "outputs": [
    {
     "data": {
      "text/plain": [
       "(3391, 3391)"
      ]
     },
     "execution_count": 106,
     "metadata": {},
     "output_type": "execute_result"
    }
   ],
   "source": [
    "full_windows, full_labels = make_windows(prices, window_size=WINDOW_SIZE, horizon=HORIZON)\n",
    "len(full_windows), len(full_labels)"
   ]
  },
  {
   "cell_type": "code",
   "execution_count": 107,
   "metadata": {},
   "outputs": [
    {
     "name": "stdout",
     "output_type": "stream",
     "text": [
      "Window: [457.33401489 424.44000244 394.79598999 408.9039917  398.8210144\n",
      " 402.15200806 435.79098511] \n",
      " -> Label: [423.20498657]\n",
      "Window: [424.44000244 394.79598999 408.9039917  398.8210144  402.15200806\n",
      " 435.79098511 423.20498657] \n",
      " -> Label: [411.57400513]\n",
      "Window: [394.79598999 408.9039917  398.8210144  402.15200806 435.79098511\n",
      " 423.20498657 411.57400513] \n",
      " -> Label: [404.42498779]\n"
     ]
    }
   ],
   "source": [
    "#örnek 3 satırın düzenli şekilde gösterilmesi\n",
    "for i in range(3):\n",
    "  print(f\"Window: {full_windows[i]} \\n -> Label: {full_labels[i]}\")\n"
   ]
  },
  {
   "cell_type": "code",
   "execution_count": 108,
   "metadata": {},
   "outputs": [
    {
     "name": "stdout",
     "output_type": "stream",
     "text": [
      "Window: [43442.85546875 42627.85546875 42099.40234375 42156.90234375\n",
      " 42265.1875     44167.33203125 44957.96875   ]  \n",
      " -> Label: [42848.17578125]\n",
      "Window: [42627.85546875 42099.40234375 42156.90234375 42265.1875\n",
      " 44167.33203125 44957.96875    42848.17578125]  \n",
      " -> Label: [44179.921875]\n",
      "Window: [42099.40234375 42156.90234375 42265.1875     44167.33203125\n",
      " 44957.96875    42848.17578125 44179.921875  ]  \n",
      " -> Label: [43622.828125]\n"
     ]
    }
   ],
   "source": [
    "# View the last 3 windows/labels\n",
    "for i in range(3):\n",
    "  print(f\"Window: {full_windows[i-3]}  \\n -> Label: {full_labels[i-3]}\")"
   ]
  },
  {
   "cell_type": "markdown",
   "metadata": {},
   "source": [
    "Turning windows into training and test sets"
   ]
  },
  {
   "cell_type": "code",
   "execution_count": 109,
   "metadata": {},
   "outputs": [],
   "source": [
    "# Make the train/test splits\n",
    "def make_train_test_splits(windows, labels, test_split=0.2):\n",
    "  \"\"\"\n",
    "  Splits matching pairs of windows and labels into train and test splits.\n",
    "  \"\"\"\n",
    "  split_size = int(len(windows) * (1-test_split)) # this will default to 80% train/20% test\n",
    "  train_windows = windows[:split_size]\n",
    "  train_labels = labels[:split_size]\n",
    "  test_windows = windows[split_size:]\n",
    "  test_labels = labels[split_size:]\n",
    "  return train_windows, test_windows, train_labels, test_labels"
   ]
  },
  {
   "cell_type": "code",
   "execution_count": 110,
   "metadata": {},
   "outputs": [
    {
     "data": {
      "text/plain": [
       "(2712, 679, 2712, 679)"
      ]
     },
     "execution_count": 110,
     "metadata": {},
     "output_type": "execute_result"
    }
   ],
   "source": [
    "train_windows, test_windows, train_labels, test_labels = make_train_test_splits(full_windows, full_labels)\n",
    "len(train_windows), len(test_windows), len(train_labels), len(test_labels)\n",
    "     "
   ]
  },
  {
   "cell_type": "code",
   "execution_count": 111,
   "metadata": {},
   "outputs": [
    {
     "data": {
      "text/plain": [
       "(array([[457.33401489, 424.44000244, 394.79598999, 408.9039917 ,\n",
       "         398.8210144 , 402.15200806, 435.79098511],\n",
       "        [424.44000244, 394.79598999, 408.9039917 , 398.8210144 ,\n",
       "         402.15200806, 435.79098511, 423.20498657],\n",
       "        [394.79598999, 408.9039917 , 398.8210144 , 402.15200806,\n",
       "         435.79098511, 423.20498657, 411.57400513],\n",
       "        [408.9039917 , 398.8210144 , 402.15200806, 435.79098511,\n",
       "         423.20498657, 411.57400513, 404.42498779],\n",
       "        [398.8210144 , 402.15200806, 435.79098511, 423.20498657,\n",
       "         411.57400513, 404.42498779, 399.51998901]]),\n",
       " array([[423.20498657],\n",
       "        [411.57400513],\n",
       "        [404.42498779],\n",
       "        [399.51998901],\n",
       "        [377.18099976]]))"
      ]
     },
     "execution_count": 111,
     "metadata": {},
     "output_type": "execute_result"
    }
   ],
   "source": [
    "train_windows[:5], train_labels[:5]"
   ]
  },
  {
   "cell_type": "code",
   "execution_count": 112,
   "metadata": {},
   "outputs": [
    {
     "data": {
      "text/plain": [
       "False"
      ]
     },
     "execution_count": 112,
     "metadata": {},
     "output_type": "execute_result"
    }
   ],
   "source": [
    "# Check to see if same (accounting for horizon and window size)\n",
    "np.array_equal(np.squeeze(train_labels[:-HORIZON-1]), y_train[WINDOW_SIZE:])\n"
   ]
  },
  {
   "cell_type": "code",
   "execution_count": 113,
   "metadata": {},
   "outputs": [],
   "source": [
    "import os\n",
    "\n",
    "# Create a function to implement a ModelCheckpoint callback with a specific filename \n",
    "def create_model_checkpoint(model_name, save_path=\"model_experiments\"):\n",
    "  return tf.keras.callbacks.ModelCheckpoint(filepath=os.path.join(save_path, model_name), # create filepath to save model\n",
    "                                            verbose=0, # only output a limited amount of text\n",
    "                                            save_best_only=True) # save only the best model to file\n",
    " "
   ]
  },
  {
   "cell_type": "markdown",
   "metadata": {},
   "source": [
    "## model 1"
   ]
  },
  {
   "cell_type": "code",
   "execution_count": 114,
   "metadata": {},
   "outputs": [
    {
     "name": "stdout",
     "output_type": "stream",
     "text": [
      "Epoch 1/100\n"
     ]
    },
    {
     "name": "stdout",
     "output_type": "stream",
     "text": [
      " 1/22 [>.............................] - ETA: 9s - loss: 5729.6328 - mae: 5729.6328INFO:tensorflow:Assets written to: model_experiments/model_1_dense/assets\n"
     ]
    },
    {
     "name": "stderr",
     "output_type": "stream",
     "text": [
      "INFO:tensorflow:Assets written to: model_experiments/model_1_dense/assets\n"
     ]
    },
    {
     "name": "stdout",
     "output_type": "stream",
     "text": [
      "22/22 [==============================] - 1s 49ms/step - loss: 2765.6343 - mae: 2765.6343 - val_loss: 2328.6064 - val_mae: 2328.6064\n",
      "Epoch 2/100\n",
      " 1/22 [>.............................] - ETA: 0s - loss: 899.5129 - mae: 899.5129INFO:tensorflow:Assets written to: model_experiments/model_1_dense/assets\n"
     ]
    },
    {
     "name": "stderr",
     "output_type": "stream",
     "text": [
      "INFO:tensorflow:Assets written to: model_experiments/model_1_dense/assets\n"
     ]
    },
    {
     "name": "stdout",
     "output_type": "stream",
     "text": [
      "22/22 [==============================] - 0s 15ms/step - loss: 738.4800 - mae: 738.4800 - val_loss: 1397.1626 - val_mae: 1397.1625\n",
      "Epoch 3/100\n",
      " 1/22 [>.............................] - ETA: 0s - loss: 550.8679 - mae: 550.8679INFO:tensorflow:Assets written to: model_experiments/model_1_dense/assets\n"
     ]
    },
    {
     "name": "stderr",
     "output_type": "stream",
     "text": [
      "INFO:tensorflow:Assets written to: model_experiments/model_1_dense/assets\n"
     ]
    },
    {
     "name": "stdout",
     "output_type": "stream",
     "text": [
      "22/22 [==============================] - 0s 14ms/step - loss: 625.3497 - mae: 625.3497 - val_loss: 863.2963 - val_mae: 863.2963\n",
      "Epoch 4/100\n",
      "22/22 [==============================] - 0s 2ms/step - loss: 549.4179 - mae: 549.4179 - val_loss: 930.9763 - val_mae: 930.9763\n",
      "Epoch 5/100\n",
      " 1/22 [>.............................] - ETA: 0s - loss: 633.9382 - mae: 633.9382INFO:tensorflow:Assets written to: model_experiments/model_1_dense/assets\n"
     ]
    },
    {
     "name": "stderr",
     "output_type": "stream",
     "text": [
      "INFO:tensorflow:Assets written to: model_experiments/model_1_dense/assets\n"
     ]
    },
    {
     "name": "stdout",
     "output_type": "stream",
     "text": [
      "22/22 [==============================] - 0s 14ms/step - loss: 534.8580 - mae: 534.8580 - val_loss: 836.7048 - val_mae: 836.7048\n",
      "Epoch 6/100\n",
      " 1/22 [>.............................] - ETA: 0s - loss: 374.3907 - mae: 374.3907INFO:tensorflow:Assets written to: model_experiments/model_1_dense/assets\n"
     ]
    },
    {
     "name": "stderr",
     "output_type": "stream",
     "text": [
      "INFO:tensorflow:Assets written to: model_experiments/model_1_dense/assets\n"
     ]
    },
    {
     "name": "stdout",
     "output_type": "stream",
     "text": [
      "22/22 [==============================] - 0s 14ms/step - loss: 516.7496 - mae: 516.7496 - val_loss: 781.9995 - val_mae: 781.9995\n",
      "Epoch 7/100\n",
      " 1/22 [>.............................] - ETA: 0s - loss: 527.2354 - mae: 527.2354INFO:tensorflow:Assets written to: model_experiments/model_1_dense/assets\n"
     ]
    },
    {
     "name": "stderr",
     "output_type": "stream",
     "text": [
      "INFO:tensorflow:Assets written to: model_experiments/model_1_dense/assets\n"
     ]
    },
    {
     "name": "stdout",
     "output_type": "stream",
     "text": [
      "22/22 [==============================] - 0s 14ms/step - loss: 505.0097 - mae: 505.0097 - val_loss: 764.5481 - val_mae: 764.5481\n",
      "Epoch 8/100\n",
      "22/22 [==============================] - 0s 2ms/step - loss: 499.5767 - mae: 499.5767 - val_loss: 767.4805 - val_mae: 767.4805\n",
      "Epoch 9/100\n",
      "22/22 [==============================] - 0s 2ms/step - loss: 488.8895 - mae: 488.8895 - val_loss: 801.1770 - val_mae: 801.1770\n",
      "Epoch 10/100\n",
      " 1/22 [>.............................] - ETA: 0s - loss: 317.9003 - mae: 317.9003INFO:tensorflow:Assets written to: model_experiments/model_1_dense/assets\n"
     ]
    },
    {
     "name": "stderr",
     "output_type": "stream",
     "text": [
      "INFO:tensorflow:Assets written to: model_experiments/model_1_dense/assets\n"
     ]
    },
    {
     "name": "stdout",
     "output_type": "stream",
     "text": [
      "22/22 [==============================] - 0s 15ms/step - loss: 472.0021 - mae: 472.0021 - val_loss: 714.2097 - val_mae: 714.2097\n",
      "Epoch 11/100\n",
      "22/22 [==============================] - 0s 3ms/step - loss: 460.9741 - mae: 460.9741 - val_loss: 825.1599 - val_mae: 825.1599\n",
      "Epoch 12/100\n",
      "22/22 [==============================] - 0s 2ms/step - loss: 447.6698 - mae: 447.6698 - val_loss: 778.8648 - val_mae: 778.8648\n",
      "Epoch 13/100\n",
      "22/22 [==============================] - 0s 2ms/step - loss: 448.5100 - mae: 448.5100 - val_loss: 784.3405 - val_mae: 784.3405\n",
      "Epoch 14/100\n",
      "22/22 [==============================] - 0s 2ms/step - loss: 426.2273 - mae: 426.2273 - val_loss: 823.6766 - val_mae: 823.6766\n",
      "Epoch 15/100\n",
      " 1/22 [>.............................] - ETA: 0s - loss: 411.7946 - mae: 411.7946INFO:tensorflow:Assets written to: model_experiments/model_1_dense/assets\n"
     ]
    },
    {
     "name": "stderr",
     "output_type": "stream",
     "text": [
      "INFO:tensorflow:Assets written to: model_experiments/model_1_dense/assets\n"
     ]
    },
    {
     "name": "stdout",
     "output_type": "stream",
     "text": [
      "22/22 [==============================] - 0s 15ms/step - loss: 427.2362 - mae: 427.2362 - val_loss: 637.0198 - val_mae: 637.0198\n",
      "Epoch 16/100\n",
      "22/22 [==============================] - 0s 2ms/step - loss: 407.1909 - mae: 407.1909 - val_loss: 654.1276 - val_mae: 654.1276\n",
      "Epoch 17/100\n",
      " 1/22 [>.............................] - ETA: 0s - loss: 425.5924 - mae: 425.5924INFO:tensorflow:Assets written to: model_experiments/model_1_dense/assets\n"
     ]
    },
    {
     "name": "stderr",
     "output_type": "stream",
     "text": [
      "INFO:tensorflow:Assets written to: model_experiments/model_1_dense/assets\n"
     ]
    },
    {
     "name": "stdout",
     "output_type": "stream",
     "text": [
      "22/22 [==============================] - 0s 15ms/step - loss: 394.6556 - mae: 394.6556 - val_loss: 627.5445 - val_mae: 627.5445\n",
      "Epoch 18/100\n",
      " 1/22 [>.............................] - ETA: 0s - loss: 500.9584 - mae: 500.9584INFO:tensorflow:Assets written to: model_experiments/model_1_dense/assets\n"
     ]
    },
    {
     "name": "stderr",
     "output_type": "stream",
     "text": [
      "INFO:tensorflow:Assets written to: model_experiments/model_1_dense/assets\n"
     ]
    },
    {
     "name": "stdout",
     "output_type": "stream",
     "text": [
      "22/22 [==============================] - 0s 15ms/step - loss: 426.5130 - mae: 426.5130 - val_loss: 621.1702 - val_mae: 621.1702\n",
      "Epoch 19/100\n",
      "22/22 [==============================] - 0s 2ms/step - loss: 415.6714 - mae: 415.6714 - val_loss: 682.1197 - val_mae: 682.1197\n",
      "Epoch 20/100\n",
      "22/22 [==============================] - 0s 2ms/step - loss: 398.9538 - mae: 398.9538 - val_loss: 729.8436 - val_mae: 729.8436\n",
      "Epoch 21/100\n",
      " 1/22 [>.............................] - ETA: 0s - loss: 451.3234 - mae: 451.3234INFO:tensorflow:Assets written to: model_experiments/model_1_dense/assets\n"
     ]
    },
    {
     "name": "stderr",
     "output_type": "stream",
     "text": [
      "INFO:tensorflow:Assets written to: model_experiments/model_1_dense/assets\n"
     ]
    },
    {
     "name": "stdout",
     "output_type": "stream",
     "text": [
      "22/22 [==============================] - 0s 14ms/step - loss: 387.9408 - mae: 387.9408 - val_loss: 594.0427 - val_mae: 594.0427\n",
      "Epoch 22/100\n",
      "22/22 [==============================] - 0s 2ms/step - loss: 381.9826 - mae: 381.9826 - val_loss: 660.9367 - val_mae: 660.9367\n",
      "Epoch 23/100\n",
      "22/22 [==============================] - 0s 2ms/step - loss: 377.7074 - mae: 377.7074 - val_loss: 604.2357 - val_mae: 604.2357\n",
      "Epoch 24/100\n",
      "22/22 [==============================] - 0s 2ms/step - loss: 381.7527 - mae: 381.7527 - val_loss: 620.8463 - val_mae: 620.8463\n",
      "Epoch 25/100\n",
      "22/22 [==============================] - 0s 2ms/step - loss: 394.4917 - mae: 394.4917 - val_loss: 748.2095 - val_mae: 748.2095\n",
      "Epoch 26/100\n",
      "22/22 [==============================] - 0s 2ms/step - loss: 396.1087 - mae: 396.1087 - val_loss: 739.8955 - val_mae: 739.8955\n",
      "Epoch 27/100\n",
      " 1/22 [>.............................] - ETA: 0s - loss: 356.8909 - mae: 356.8909INFO:tensorflow:Assets written to: model_experiments/model_1_dense/assets\n"
     ]
    },
    {
     "name": "stderr",
     "output_type": "stream",
     "text": [
      "INFO:tensorflow:Assets written to: model_experiments/model_1_dense/assets\n"
     ]
    },
    {
     "name": "stdout",
     "output_type": "stream",
     "text": [
      "22/22 [==============================] - 0s 14ms/step - loss: 379.0651 - mae: 379.0651 - val_loss: 578.4672 - val_mae: 578.4672\n",
      "Epoch 28/100\n",
      "22/22 [==============================] - 0s 2ms/step - loss: 367.9783 - mae: 367.9783 - val_loss: 655.5856 - val_mae: 655.5856\n",
      "Epoch 29/100\n",
      "22/22 [==============================] - 0s 2ms/step - loss: 373.6942 - mae: 373.6942 - val_loss: 614.5738 - val_mae: 614.5738\n",
      "Epoch 30/100\n",
      "22/22 [==============================] - 0s 2ms/step - loss: 375.6135 - mae: 375.6135 - val_loss: 579.7532 - val_mae: 579.7532\n",
      "Epoch 31/100\n",
      "22/22 [==============================] - 0s 3ms/step - loss: 363.9651 - mae: 363.9651 - val_loss: 643.6986 - val_mae: 643.6986\n",
      "Epoch 32/100\n",
      "22/22 [==============================] - 0s 2ms/step - loss: 373.6318 - mae: 373.6318 - val_loss: 761.6849 - val_mae: 761.6849\n",
      "Epoch 33/100\n",
      "22/22 [==============================] - 0s 2ms/step - loss: 381.3742 - mae: 381.3742 - val_loss: 632.0076 - val_mae: 632.0076\n",
      "Epoch 34/100\n",
      " 1/22 [>.............................] - ETA: 0s - loss: 249.3681 - mae: 249.3681INFO:tensorflow:Assets written to: model_experiments/model_1_dense/assets\n"
     ]
    },
    {
     "name": "stderr",
     "output_type": "stream",
     "text": [
      "INFO:tensorflow:Assets written to: model_experiments/model_1_dense/assets\n"
     ]
    },
    {
     "name": "stdout",
     "output_type": "stream",
     "text": [
      "22/22 [==============================] - 0s 14ms/step - loss: 360.1505 - mae: 360.1505 - val_loss: 565.7667 - val_mae: 565.7667\n",
      "Epoch 35/100\n",
      " 1/22 [>.............................] - ETA: 0s - loss: 323.4224 - mae: 323.4224INFO:tensorflow:Assets written to: model_experiments/model_1_dense/assets\n"
     ]
    },
    {
     "name": "stderr",
     "output_type": "stream",
     "text": [
      "INFO:tensorflow:Assets written to: model_experiments/model_1_dense/assets\n"
     ]
    },
    {
     "name": "stdout",
     "output_type": "stream",
     "text": [
      "22/22 [==============================] - 0s 15ms/step - loss: 377.0864 - mae: 377.0864 - val_loss: 560.6193 - val_mae: 560.6193\n",
      "Epoch 36/100\n",
      "22/22 [==============================] - 0s 2ms/step - loss: 362.5282 - mae: 362.5282 - val_loss: 579.7283 - val_mae: 579.7283\n",
      "Epoch 37/100\n",
      "22/22 [==============================] - 0s 2ms/step - loss: 360.2998 - mae: 360.2998 - val_loss: 584.8008 - val_mae: 584.8008\n",
      "Epoch 38/100\n",
      " 1/22 [>.............................] - ETA: 0s - loss: 366.5587 - mae: 366.5587INFO:tensorflow:Assets written to: model_experiments/model_1_dense/assets\n"
     ]
    },
    {
     "name": "stderr",
     "output_type": "stream",
     "text": [
      "INFO:tensorflow:Assets written to: model_experiments/model_1_dense/assets\n"
     ]
    },
    {
     "name": "stdout",
     "output_type": "stream",
     "text": [
      "22/22 [==============================] - 0s 14ms/step - loss: 363.9500 - mae: 363.9500 - val_loss: 554.9378 - val_mae: 554.9378\n",
      "Epoch 39/100\n",
      "22/22 [==============================] - 0s 2ms/step - loss: 353.5360 - mae: 353.5360 - val_loss: 581.1116 - val_mae: 581.1116\n",
      "Epoch 40/100\n",
      "22/22 [==============================] - 0s 2ms/step - loss: 359.3559 - mae: 359.3559 - val_loss: 599.0018 - val_mae: 599.0018\n",
      "Epoch 41/100\n",
      "22/22 [==============================] - 0s 2ms/step - loss: 354.3048 - mae: 354.3048 - val_loss: 639.1981 - val_mae: 639.1981\n",
      "Epoch 42/100\n",
      "22/22 [==============================] - 0s 2ms/step - loss: 362.1646 - mae: 362.1646 - val_loss: 592.0468 - val_mae: 592.0468\n",
      "Epoch 43/100\n",
      "22/22 [==============================] - 0s 2ms/step - loss: 362.9891 - mae: 362.9891 - val_loss: 616.2177 - val_mae: 616.2177\n",
      "Epoch 44/100\n",
      "22/22 [==============================] - 0s 2ms/step - loss: 367.4266 - mae: 367.4266 - val_loss: 659.0645 - val_mae: 659.0645\n",
      "Epoch 45/100\n",
      "22/22 [==============================] - 0s 2ms/step - loss: 363.1463 - mae: 363.1463 - val_loss: 632.9667 - val_mae: 632.9667\n",
      "Epoch 46/100\n",
      "22/22 [==============================] - 0s 2ms/step - loss: 348.5191 - mae: 348.5191 - val_loss: 577.5215 - val_mae: 577.5215\n",
      "Epoch 47/100\n",
      " 1/22 [>.............................] - ETA: 0s - loss: 356.4917 - mae: 356.4917INFO:tensorflow:Assets written to: model_experiments/model_1_dense/assets\n"
     ]
    },
    {
     "name": "stderr",
     "output_type": "stream",
     "text": [
      "INFO:tensorflow:Assets written to: model_experiments/model_1_dense/assets\n"
     ]
    },
    {
     "name": "stdout",
     "output_type": "stream",
     "text": [
      "22/22 [==============================] - 0s 17ms/step - loss: 350.7144 - mae: 350.7144 - val_loss: 546.1904 - val_mae: 546.1904\n",
      "Epoch 48/100\n",
      "22/22 [==============================] - 0s 3ms/step - loss: 356.4617 - mae: 356.4617 - val_loss: 586.2981 - val_mae: 586.2981\n",
      "Epoch 49/100\n",
      "22/22 [==============================] - 0s 3ms/step - loss: 361.2065 - mae: 361.2065 - val_loss: 760.6352 - val_mae: 760.6352\n",
      "Epoch 50/100\n",
      "22/22 [==============================] - 0s 2ms/step - loss: 358.6898 - mae: 358.6898 - val_loss: 602.4854 - val_mae: 602.4854\n",
      "Epoch 51/100\n",
      "22/22 [==============================] - 0s 2ms/step - loss: 386.3872 - mae: 386.3872 - val_loss: 737.6633 - val_mae: 737.6633\n",
      "Epoch 52/100\n",
      "22/22 [==============================] - 0s 2ms/step - loss: 394.3096 - mae: 394.3096 - val_loss: 561.1151 - val_mae: 561.1151\n",
      "Epoch 53/100\n",
      "22/22 [==============================] - 0s 2ms/step - loss: 346.3297 - mae: 346.3297 - val_loss: 696.4465 - val_mae: 696.4465\n",
      "Epoch 54/100\n",
      "22/22 [==============================] - 0s 2ms/step - loss: 375.5337 - mae: 375.5337 - val_loss: 692.9829 - val_mae: 692.9829\n",
      "Epoch 55/100\n",
      " 1/22 [>.............................] - ETA: 0s - loss: 345.6797 - mae: 345.6797INFO:tensorflow:Assets written to: model_experiments/model_1_dense/assets\n"
     ]
    },
    {
     "name": "stderr",
     "output_type": "stream",
     "text": [
      "INFO:tensorflow:Assets written to: model_experiments/model_1_dense/assets\n"
     ]
    },
    {
     "name": "stdout",
     "output_type": "stream",
     "text": [
      "22/22 [==============================] - 0s 14ms/step - loss: 358.6696 - mae: 358.6696 - val_loss: 537.3582 - val_mae: 537.3582\n",
      "Epoch 56/100\n",
      "22/22 [==============================] - 0s 2ms/step - loss: 356.7863 - mae: 356.7863 - val_loss: 567.1710 - val_mae: 567.1710\n",
      "Epoch 57/100\n",
      "22/22 [==============================] - 0s 2ms/step - loss: 343.8379 - mae: 343.8379 - val_loss: 652.0075 - val_mae: 652.0075\n",
      "Epoch 58/100\n",
      "22/22 [==============================] - 0s 2ms/step - loss: 355.0181 - mae: 355.0181 - val_loss: 579.2801 - val_mae: 579.2801\n",
      "Epoch 59/100\n",
      "22/22 [==============================] - 0s 2ms/step - loss: 357.3130 - mae: 357.3130 - val_loss: 871.4014 - val_mae: 871.4014\n",
      "Epoch 60/100\n",
      "22/22 [==============================] - 0s 2ms/step - loss: 385.7851 - mae: 385.7851 - val_loss: 541.7339 - val_mae: 541.7339\n",
      "Epoch 61/100\n",
      "22/22 [==============================] - 0s 2ms/step - loss: 379.9411 - mae: 379.9411 - val_loss: 707.2649 - val_mae: 707.2649\n",
      "Epoch 62/100\n",
      "22/22 [==============================] - 0s 3ms/step - loss: 377.5902 - mae: 377.5902 - val_loss: 701.4562 - val_mae: 701.4562\n",
      "Epoch 63/100\n",
      "22/22 [==============================] - 0s 2ms/step - loss: 391.5551 - mae: 391.5551 - val_loss: 906.8303 - val_mae: 906.8303\n",
      "Epoch 64/100\n",
      "22/22 [==============================] - 0s 2ms/step - loss: 371.8828 - mae: 371.8828 - val_loss: 639.7638 - val_mae: 639.7638\n",
      "Epoch 65/100\n",
      "22/22 [==============================] - 0s 2ms/step - loss: 352.7946 - mae: 352.7946 - val_loss: 635.7374 - val_mae: 635.7374\n",
      "Epoch 66/100\n",
      "22/22 [==============================] - 0s 2ms/step - loss: 351.3001 - mae: 351.3001 - val_loss: 573.2683 - val_mae: 573.2683\n",
      "Epoch 67/100\n",
      "22/22 [==============================] - 0s 2ms/step - loss: 364.0507 - mae: 364.0507 - val_loss: 656.7520 - val_mae: 656.7520\n",
      "Epoch 68/100\n",
      "22/22 [==============================] - 0s 3ms/step - loss: 350.3549 - mae: 350.3549 - val_loss: 854.0884 - val_mae: 854.0884\n",
      "Epoch 69/100\n",
      "22/22 [==============================] - 0s 2ms/step - loss: 377.8049 - mae: 377.8049 - val_loss: 628.2722 - val_mae: 628.2722\n",
      "Epoch 70/100\n",
      "22/22 [==============================] - 0s 2ms/step - loss: 339.8533 - mae: 339.8533 - val_loss: 567.6092 - val_mae: 567.6092\n",
      "Epoch 71/100\n",
      "22/22 [==============================] - 0s 2ms/step - loss: 341.0198 - mae: 341.0198 - val_loss: 549.3723 - val_mae: 549.3723\n",
      "Epoch 72/100\n",
      "22/22 [==============================] - 0s 2ms/step - loss: 350.8553 - mae: 350.8553 - val_loss: 538.8656 - val_mae: 538.8656\n",
      "Epoch 73/100\n",
      " 1/22 [>.............................] - ETA: 0s - loss: 411.6249 - mae: 411.6249INFO:tensorflow:Assets written to: model_experiments/model_1_dense/assets\n"
     ]
    },
    {
     "name": "stderr",
     "output_type": "stream",
     "text": [
      "INFO:tensorflow:Assets written to: model_experiments/model_1_dense/assets\n"
     ]
    },
    {
     "name": "stdout",
     "output_type": "stream",
     "text": [
      "22/22 [==============================] - 0s 15ms/step - loss: 355.4778 - mae: 355.4778 - val_loss: 530.3557 - val_mae: 530.3557\n",
      "Epoch 74/100\n",
      "22/22 [==============================] - 0s 3ms/step - loss: 342.9180 - mae: 342.9180 - val_loss: 582.9377 - val_mae: 582.9377\n",
      "Epoch 75/100\n",
      "22/22 [==============================] - 0s 2ms/step - loss: 348.4993 - mae: 348.4993 - val_loss: 534.6167 - val_mae: 534.6167\n",
      "Epoch 76/100\n",
      "22/22 [==============================] - 0s 2ms/step - loss: 343.8927 - mae: 343.8927 - val_loss: 531.3016 - val_mae: 531.3016\n",
      "Epoch 77/100\n",
      "22/22 [==============================] - 0s 2ms/step - loss: 348.3954 - mae: 348.3954 - val_loss: 531.0593 - val_mae: 531.0593\n",
      "Epoch 78/100\n",
      "22/22 [==============================] - 0s 2ms/step - loss: 342.7343 - mae: 342.7343 - val_loss: 559.8677 - val_mae: 559.8677\n",
      "Epoch 79/100\n",
      "22/22 [==============================] - 0s 2ms/step - loss: 345.3440 - mae: 345.3440 - val_loss: 641.3155 - val_mae: 641.3155\n",
      "Epoch 80/100\n",
      "22/22 [==============================] - 0s 3ms/step - loss: 341.6365 - mae: 341.6365 - val_loss: 562.5085 - val_mae: 562.5085\n",
      "Epoch 81/100\n",
      " 1/22 [>.............................] - ETA: 0s - loss: 357.8597 - mae: 357.8597INFO:tensorflow:Assets written to: model_experiments/model_1_dense/assets\n"
     ]
    },
    {
     "name": "stderr",
     "output_type": "stream",
     "text": [
      "INFO:tensorflow:Assets written to: model_experiments/model_1_dense/assets\n"
     ]
    },
    {
     "name": "stdout",
     "output_type": "stream",
     "text": [
      "22/22 [==============================] - 0s 14ms/step - loss: 378.9144 - mae: 378.9144 - val_loss: 528.0484 - val_mae: 528.0484\n",
      "Epoch 82/100\n",
      "22/22 [==============================] - 0s 2ms/step - loss: 337.7814 - mae: 337.7814 - val_loss: 538.5090 - val_mae: 538.5090\n",
      "Epoch 83/100\n",
      "22/22 [==============================] - 0s 2ms/step - loss: 336.6258 - mae: 336.6258 - val_loss: 576.3272 - val_mae: 576.3272\n",
      "Epoch 84/100\n",
      "22/22 [==============================] - 0s 2ms/step - loss: 345.9103 - mae: 345.9103 - val_loss: 544.9425 - val_mae: 544.9425\n",
      "Epoch 85/100\n",
      "22/22 [==============================] - 0s 2ms/step - loss: 349.6359 - mae: 349.6359 - val_loss: 569.4030 - val_mae: 569.4030\n",
      "Epoch 86/100\n",
      "22/22 [==============================] - 0s 2ms/step - loss: 363.9673 - mae: 363.9673 - val_loss: 571.8984 - val_mae: 571.8984\n",
      "Epoch 87/100\n",
      "22/22 [==============================] - 0s 2ms/step - loss: 373.3510 - mae: 373.3510 - val_loss: 532.4727 - val_mae: 532.4727\n",
      "Epoch 88/100\n",
      "22/22 [==============================] - 0s 2ms/step - loss: 340.4601 - mae: 340.4601 - val_loss: 654.3259 - val_mae: 654.3259\n",
      "Epoch 89/100\n",
      "22/22 [==============================] - 0s 2ms/step - loss: 351.5868 - mae: 351.5868 - val_loss: 600.1623 - val_mae: 600.1623\n",
      "Epoch 90/100\n",
      " 1/22 [>.............................] - ETA: 0s - loss: 373.7606 - mae: 373.7606INFO:tensorflow:Assets written to: model_experiments/model_1_dense/assets\n"
     ]
    },
    {
     "name": "stderr",
     "output_type": "stream",
     "text": [
      "INFO:tensorflow:Assets written to: model_experiments/model_1_dense/assets\n"
     ]
    },
    {
     "name": "stdout",
     "output_type": "stream",
     "text": [
      "22/22 [==============================] - 0s 14ms/step - loss: 337.4302 - mae: 337.4302 - val_loss: 525.3032 - val_mae: 525.3032\n",
      "Epoch 91/100\n",
      "22/22 [==============================] - 0s 2ms/step - loss: 344.9703 - mae: 344.9703 - val_loss: 536.8242 - val_mae: 536.8242\n",
      "Epoch 92/100\n",
      "22/22 [==============================] - 0s 2ms/step - loss: 338.5077 - mae: 338.5077 - val_loss: 529.8760 - val_mae: 529.8760\n",
      "Epoch 93/100\n",
      "22/22 [==============================] - 0s 3ms/step - loss: 335.1279 - mae: 335.1279 - val_loss: 537.9427 - val_mae: 537.9427\n",
      "Epoch 94/100\n",
      "22/22 [==============================] - 0s 2ms/step - loss: 336.2562 - mae: 336.2562 - val_loss: 528.3776 - val_mae: 528.3776\n",
      "Epoch 95/100\n",
      " 1/22 [>.............................] - ETA: 0s - loss: 236.2855 - mae: 236.2855INFO:tensorflow:Assets written to: model_experiments/model_1_dense/assets\n"
     ]
    },
    {
     "name": "stderr",
     "output_type": "stream",
     "text": [
      "INFO:tensorflow:Assets written to: model_experiments/model_1_dense/assets\n"
     ]
    },
    {
     "name": "stdout",
     "output_type": "stream",
     "text": [
      "22/22 [==============================] - 0s 14ms/step - loss: 358.0243 - mae: 358.0243 - val_loss: 525.2449 - val_mae: 525.2449\n",
      "Epoch 96/100\n",
      "22/22 [==============================] - 0s 2ms/step - loss: 368.4044 - mae: 368.4044 - val_loss: 529.7906 - val_mae: 529.7906\n",
      "Epoch 97/100\n",
      "22/22 [==============================] - 0s 2ms/step - loss: 340.7067 - mae: 340.7067 - val_loss: 584.7037 - val_mae: 584.7037\n",
      "Epoch 98/100\n",
      "22/22 [==============================] - 0s 2ms/step - loss: 336.3040 - mae: 336.3040 - val_loss: 542.7250 - val_mae: 542.7250\n",
      "Epoch 99/100\n",
      "22/22 [==============================] - 0s 2ms/step - loss: 332.9017 - mae: 332.9017 - val_loss: 529.2381 - val_mae: 529.2381\n",
      "Epoch 100/100\n",
      "22/22 [==============================] - 0s 2ms/step - loss: 334.3083 - mae: 334.3083 - val_loss: 597.6043 - val_mae: 597.6043\n"
     ]
    },
    {
     "data": {
      "text/plain": [
       "<keras.src.callbacks.History at 0x156620650>"
      ]
     },
     "execution_count": 114,
     "metadata": {},
     "output_type": "execute_result"
    }
   ],
   "source": [
    "import tensorflow as tf\n",
    "from tensorflow.keras import layers\n",
    "\n",
    "# Set random seed for as reproducible results as possible\n",
    "tf.random.set_seed(42)\n",
    "\n",
    "# Construct model\n",
    "model_1 = tf.keras.Sequential([\n",
    "  layers.Dense(128, activation=\"relu\"),\n",
    "  layers.Dense(HORIZON, activation=\"linear\") # linear activation is the same as having no activation                        \n",
    "], name=\"model_1_dense\") # give the model a name so we can save it\n",
    "\n",
    "# Compile model\n",
    "model_1.compile(loss=\"mae\",\n",
    "                optimizer=tf.keras.optimizers.Adam(),\n",
    "                metrics=[\"mae\"]) # we don't necessarily need this when the loss function is already MAE\n",
    "\n",
    "# Fit model\n",
    "model_1.fit(x=train_windows, # train windows of 7 timesteps of Bitcoin prices\n",
    "            y=train_labels, # horizon value of 1 (using the previous 7 timesteps to predict next day)\n",
    "            epochs=100,\n",
    "            verbose=1,\n",
    "            batch_size=128,\n",
    "            validation_data=(test_windows, test_labels),\n",
    "            callbacks=[create_model_checkpoint(model_name=model_1.name)])"
   ]
  },
  {
   "cell_type": "code",
   "execution_count": 115,
   "metadata": {},
   "outputs": [
    {
     "name": "stdout",
     "output_type": "stream",
     "text": [
      "22/22 [==============================] - 0s 961us/step - loss: 597.6043 - mae: 597.6043\n"
     ]
    },
    {
     "data": {
      "text/plain": [
       "[597.6043090820312, 597.6043090820312]"
      ]
     },
     "execution_count": 115,
     "metadata": {},
     "output_type": "execute_result"
    }
   ],
   "source": [
    "\n",
    "# Evaluate model on test data\n",
    "model_1.evaluate(test_windows, test_labels)"
   ]
  },
  {
   "cell_type": "code",
   "execution_count": 116,
   "metadata": {},
   "outputs": [
    {
     "name": "stdout",
     "output_type": "stream",
     "text": [
      "22/22 [==============================] - 0s 1ms/step - loss: 525.2449 - mae: 525.2449\n"
     ]
    },
    {
     "data": {
      "text/plain": [
       "[525.244873046875, 525.244873046875]"
      ]
     },
     "execution_count": 116,
     "metadata": {},
     "output_type": "execute_result"
    }
   ],
   "source": [
    "# Load in saved best performing model_1 and evaluate on test data\n",
    "model_1 = tf.keras.models.load_model(\"model_experiments/model_1_dense\")\n",
    "model_1.evaluate(test_windows, test_labels)\n",
    "     "
   ]
  },
  {
   "cell_type": "code",
   "execution_count": 117,
   "metadata": {},
   "outputs": [],
   "source": [
    "\n",
    "def make_preds(model, input_data):\n",
    "  \"\"\"\n",
    "  Uses model to make predictions on input_data.\n",
    "\n",
    "  Parameters\n",
    "  ----------\n",
    "  model: trained model \n",
    "  input_data: windowed input data (same kind of data model was trained on)\n",
    "\n",
    "  Returns model predictions on input_data.\n",
    "  \"\"\"\n",
    "  forecast = model.predict(input_data)\n",
    "  return tf.squeeze(forecast) # return 1D array of predictions"
   ]
  },
  {
   "cell_type": "code",
   "execution_count": 118,
   "metadata": {},
   "outputs": [
    {
     "name": "stdout",
     "output_type": "stream",
     "text": [
      "22/22 [==============================] - 0s 1ms/step\n"
     ]
    },
    {
     "data": {
      "text/plain": [
       "(679,\n",
       " <tf.Tensor: shape=(10,), dtype=float32, numpy=\n",
       " array([39035.15 , 39143.156, 37996.03 , 42250.363, 44291.65 , 44318.535,\n",
       "        42857.156, 39550.074, 39178.51 , 38326.61 ], dtype=float32)>)"
      ]
     },
     "execution_count": 118,
     "metadata": {},
     "output_type": "execute_result"
    }
   ],
   "source": [
    "\n",
    "# Make predictions using model_1 on the test dataset and view the results\n",
    "model_1_preds = make_preds(model_1, test_windows)\n",
    "len(model_1_preds), model_1_preds[:10]"
   ]
  },
  {
   "cell_type": "code",
   "execution_count": 119,
   "metadata": {},
   "outputs": [
    {
     "data": {
      "text/plain": [
       "{'mae': 525.2448, 'mse': 667474.2, 'rmse': 816.9909, 'mape': 1.8905137}"
      ]
     },
     "execution_count": 119,
     "metadata": {},
     "output_type": "execute_result"
    }
   ],
   "source": [
    "\n",
    "# Evaluate preds\n",
    "model_1_results = evaluate_preds(y_true=tf.squeeze(test_labels), # reduce to right shape\n",
    "                                 y_pred=model_1_preds)\n",
    "model_1_results"
   ]
  },
  {
   "cell_type": "code",
   "execution_count": 120,
   "metadata": {},
   "outputs": [
    {
     "data": {
      "image/png": "[encoded data removed]",
      "text/plain": [
       "<Figure size 1000x700 with 1 Axes>"
      ]
     },
     "metadata": {},
     "output_type": "display_data"
    }
   ],
   "source": [
    "offset = 300\n",
    "plt.figure(figsize=(10, 7))\n",
    "# Account for the test_window offset and index into test_labels to ensure correct plotting\n",
    "plot_time_series(timesteps=X_test[-len(test_windows):], values=test_labels[:, 0], start=offset, label=\"Test_data\")\n",
    "plot_time_series(timesteps=X_test[-len(test_windows):], values=model_1_preds, start=offset, format=\"-\", label=\"model_1_preds\")\n",
    "     "
   ]
  },
  {
   "cell_type": "markdown",
   "metadata": {},
   "source": [
    "## Model 3 DENSE (win = 30 horizon = 7)"
   ]
  },
  {
   "cell_type": "code",
   "execution_count": 121,
   "metadata": {},
   "outputs": [
    {
     "data": {
      "text/plain": [
       "(3362, 3362)"
      ]
     },
     "execution_count": 121,
     "metadata": {},
     "output_type": "execute_result"
    }
   ],
   "source": [
    "HORIZON = 7\n",
    "WINDOW_SIZE = 30\n",
    "\n",
    "full_windows, full_labels = make_windows(prices, window_size=WINDOW_SIZE, horizon=HORIZON)\n",
    "len(full_windows), len(full_labels)\n"
   ]
  },
  {
   "cell_type": "code",
   "execution_count": 122,
   "metadata": {},
   "outputs": [
    {
     "data": {
      "text/plain": [
       "(2689, 673, 2689, 673)"
      ]
     },
     "execution_count": 122,
     "metadata": {},
     "output_type": "execute_result"
    }
   ],
   "source": [
    "train_windows, test_windows, train_labels, test_labels = make_train_test_splits(windows=full_windows, labels=full_labels, test_split=0.2)\n",
    "len(train_windows), len(test_windows), len(train_labels), len(test_labels)\n",
    "     \n"
   ]
  },
  {
   "cell_type": "code",
   "execution_count": 123,
   "metadata": {},
   "outputs": [
    {
     "name": "stdout",
     "output_type": "stream",
     "text": [
      "INFO:tensorflow:Assets written to: model_experiments/model_3_dense/assets\n"
     ]
    },
    {
     "name": "stderr",
     "output_type": "stream",
     "text": [
      "INFO:tensorflow:Assets written to: model_experiments/model_3_dense/assets\n"
     ]
    },
    {
     "name": "stdout",
     "output_type": "stream",
     "text": [
      "INFO:tensorflow:Assets written to: model_experiments/model_3_dense/assets\n"
     ]
    },
    {
     "name": "stderr",
     "output_type": "stream",
     "text": [
      "INFO:tensorflow:Assets written to: model_experiments/model_3_dense/assets\n"
     ]
    },
    {
     "name": "stdout",
     "output_type": "stream",
     "text": [
      "INFO:tensorflow:Assets written to: model_experiments/model_3_dense/assets\n"
     ]
    },
    {
     "name": "stderr",
     "output_type": "stream",
     "text": [
      "INFO:tensorflow:Assets written to: model_experiments/model_3_dense/assets\n"
     ]
    },
    {
     "name": "stdout",
     "output_type": "stream",
     "text": [
      "INFO:tensorflow:Assets written to: model_experiments/model_3_dense/assets\n"
     ]
    },
    {
     "name": "stderr",
     "output_type": "stream",
     "text": [
      "INFO:tensorflow:Assets written to: model_experiments/model_3_dense/assets\n"
     ]
    },
    {
     "name": "stdout",
     "output_type": "stream",
     "text": [
      "INFO:tensorflow:Assets written to: model_experiments/model_3_dense/assets\n"
     ]
    },
    {
     "name": "stderr",
     "output_type": "stream",
     "text": [
      "INFO:tensorflow:Assets written to: model_experiments/model_3_dense/assets\n"
     ]
    },
    {
     "name": "stdout",
     "output_type": "stream",
     "text": [
      "INFO:tensorflow:Assets written to: model_experiments/model_3_dense/assets\n"
     ]
    },
    {
     "name": "stderr",
     "output_type": "stream",
     "text": [
      "INFO:tensorflow:Assets written to: model_experiments/model_3_dense/assets\n"
     ]
    },
    {
     "name": "stdout",
     "output_type": "stream",
     "text": [
      "INFO:tensorflow:Assets written to: model_experiments/model_3_dense/assets\n"
     ]
    },
    {
     "name": "stderr",
     "output_type": "stream",
     "text": [
      "INFO:tensorflow:Assets written to: model_experiments/model_3_dense/assets\n"
     ]
    },
    {
     "name": "stdout",
     "output_type": "stream",
     "text": [
      "INFO:tensorflow:Assets written to: model_experiments/model_3_dense/assets\n"
     ]
    },
    {
     "name": "stderr",
     "output_type": "stream",
     "text": [
      "INFO:tensorflow:Assets written to: model_experiments/model_3_dense/assets\n"
     ]
    },
    {
     "name": "stdout",
     "output_type": "stream",
     "text": [
      "INFO:tensorflow:Assets written to: model_experiments/model_3_dense/assets\n"
     ]
    },
    {
     "name": "stderr",
     "output_type": "stream",
     "text": [
      "INFO:tensorflow:Assets written to: model_experiments/model_3_dense/assets\n"
     ]
    },
    {
     "name": "stdout",
     "output_type": "stream",
     "text": [
      "INFO:tensorflow:Assets written to: model_experiments/model_3_dense/assets\n"
     ]
    },
    {
     "name": "stderr",
     "output_type": "stream",
     "text": [
      "INFO:tensorflow:Assets written to: model_experiments/model_3_dense/assets\n"
     ]
    },
    {
     "name": "stdout",
     "output_type": "stream",
     "text": [
      "INFO:tensorflow:Assets written to: model_experiments/model_3_dense/assets\n"
     ]
    },
    {
     "name": "stderr",
     "output_type": "stream",
     "text": [
      "INFO:tensorflow:Assets written to: model_experiments/model_3_dense/assets\n"
     ]
    },
    {
     "name": "stdout",
     "output_type": "stream",
     "text": [
      "INFO:tensorflow:Assets written to: model_experiments/model_3_dense/assets\n"
     ]
    },
    {
     "name": "stderr",
     "output_type": "stream",
     "text": [
      "INFO:tensorflow:Assets written to: model_experiments/model_3_dense/assets\n"
     ]
    },
    {
     "name": "stdout",
     "output_type": "stream",
     "text": [
      "INFO:tensorflow:Assets written to: model_experiments/model_3_dense/assets\n"
     ]
    },
    {
     "name": "stderr",
     "output_type": "stream",
     "text": [
      "INFO:tensorflow:Assets written to: model_experiments/model_3_dense/assets\n"
     ]
    },
    {
     "name": "stdout",
     "output_type": "stream",
     "text": [
      "INFO:tensorflow:Assets written to: model_experiments/model_3_dense/assets\n"
     ]
    },
    {
     "name": "stderr",
     "output_type": "stream",
     "text": [
      "INFO:tensorflow:Assets written to: model_experiments/model_3_dense/assets\n"
     ]
    },
    {
     "name": "stdout",
     "output_type": "stream",
     "text": [
      "INFO:tensorflow:Assets written to: model_experiments/model_3_dense/assets\n"
     ]
    },
    {
     "name": "stderr",
     "output_type": "stream",
     "text": [
      "INFO:tensorflow:Assets written to: model_experiments/model_3_dense/assets\n"
     ]
    },
    {
     "name": "stdout",
     "output_type": "stream",
     "text": [
      "INFO:tensorflow:Assets written to: model_experiments/model_3_dense/assets\n"
     ]
    },
    {
     "name": "stderr",
     "output_type": "stream",
     "text": [
      "INFO:tensorflow:Assets written to: model_experiments/model_3_dense/assets\n"
     ]
    },
    {
     "name": "stdout",
     "output_type": "stream",
     "text": [
      "INFO:tensorflow:Assets written to: model_experiments/model_3_dense/assets\n"
     ]
    },
    {
     "name": "stderr",
     "output_type": "stream",
     "text": [
      "INFO:tensorflow:Assets written to: model_experiments/model_3_dense/assets\n"
     ]
    },
    {
     "name": "stdout",
     "output_type": "stream",
     "text": [
      "INFO:tensorflow:Assets written to: model_experiments/model_3_dense/assets\n"
     ]
    },
    {
     "name": "stderr",
     "output_type": "stream",
     "text": [
      "INFO:tensorflow:Assets written to: model_experiments/model_3_dense/assets\n"
     ]
    },
    {
     "data": {
      "text/plain": [
       "<keras.src.callbacks.History at 0x156c199d0>"
      ]
     },
     "execution_count": 123,
     "metadata": {},
     "output_type": "execute_result"
    }
   ],
   "source": [
    "tf.random.set_seed(42)\n",
    "\n",
    "# Create model (same as model_1 except with different data input size)\n",
    "model_3 = tf.keras.Sequential([\n",
    "  layers.Dense(128, activation=\"relu\"),\n",
    "  layers.Dense(HORIZON)\n",
    "], name=\"model_3_dense\")\n",
    "\n",
    "model_3.compile(loss=\"mae\",\n",
    "                optimizer=tf.keras.optimizers.Adam())\n",
    "\n",
    "model_3.fit(train_windows,\n",
    "            train_labels,\n",
    "            batch_size=128,\n",
    "            epochs=100,\n",
    "            verbose=0,\n",
    "            validation_data=(test_windows, test_labels),\n",
    "            callbacks=[create_model_checkpoint(model_name=model_3.name)])\n"
   ]
  },
  {
   "cell_type": "code",
   "execution_count": 124,
   "metadata": {},
   "outputs": [
    {
     "name": "stdout",
     "output_type": "stream",
     "text": [
      "22/22 [==============================] - 0s 2ms/step - loss: 3153.8574\n"
     ]
    },
    {
     "data": {
      "text/plain": [
       "3153.857421875"
      ]
     },
     "execution_count": 124,
     "metadata": {},
     "output_type": "execute_result"
    }
   ],
   "source": [
    "\n",
    "# How did our model with a larger window size and horizon go?\n",
    "model_3.evaluate(test_windows, test_labels)"
   ]
  },
  {
   "cell_type": "code",
   "execution_count": 125,
   "metadata": {},
   "outputs": [
    {
     "name": "stdout",
     "output_type": "stream",
     "text": [
      "22/22 [==============================] - 0s 962us/step - loss: 1132.6289\n"
     ]
    },
    {
     "data": {
      "text/plain": [
       "1132.62890625"
      ]
     },
     "execution_count": 125,
     "metadata": {},
     "output_type": "execute_result"
    }
   ],
   "source": [
    "\n",
    "# Load in best version of model_3 and evaluate\n",
    "model_3 = tf.keras.models.load_model(\"model_experiments/model_3_dense/\")\n",
    "model_3.evaluate(test_windows, test_labels)"
   ]
  },
  {
   "cell_type": "code",
   "execution_count": 126,
   "metadata": {},
   "outputs": [
    {
     "name": "stdout",
     "output_type": "stream",
     "text": [
      "22/22 [==============================] - 0s 880us/step\n"
     ]
    },
    {
     "data": {
      "text/plain": [
       "<tf.Tensor: shape=(5, 7), dtype=float32, numpy=\n",
       "array([[37915.527, 38805.652, 37900.145, 38614.082, 38354.062, 39099.   ,\n",
       "        37120.297],\n",
       "       [38696.57 , 39096.836, 38666.902, 39180.54 , 38997.01 , 39439.336,\n",
       "        37424.91 ],\n",
       "       [37604.344, 38258.883, 38550.145, 38597.895, 38721.117, 38437.35 ,\n",
       "        37459.39 ],\n",
       "       [40768.14 , 40863.65 , 40908.12 , 41017.29 , 40737.668, 41890.613,\n",
       "        39675.246],\n",
       "       [42819.71 , 42817.33 , 42434.207, 42421.77 , 42524.656, 43762.996,\n",
       "        42128.613]], dtype=float32)>"
      ]
     },
     "execution_count": 126,
     "metadata": {},
     "output_type": "execute_result"
    }
   ],
   "source": [
    "\n",
    "\n",
    "# The predictions are going to be 7 steps at a time (this is the HORIZON size)\n",
    "model_3_preds = make_preds(model_3,\n",
    "                           input_data=test_windows)\n",
    "model_3_preds[:5]"
   ]
  },
  {
   "cell_type": "code",
   "execution_count": 127,
   "metadata": {},
   "outputs": [
    {
     "data": {
      "text/plain": [
       "{'mae': array([3465.612  , 3035.24   , 3321.8325 , 2355.8906 , 2997.8147 ,\n",
       "        3853.3633 , 4443.6274 , 2589.1082 , 1452.49   ,  772.4163 ,\n",
       "        1548.8398 , 1606.673  , 1490.5011 , 1326.5452 , 1680.6367 ,\n",
       "        1841.653  , 2583.6333 , 2588.9492 , 3376.7488 , 2327.9788 ,\n",
       "        2097.1926 , 1811.707  , 1930.7405 , 1995.5184 , 2972.879  ,\n",
       "        3175.3342 , 3558.7527 , 2790.2566 , 2021.2299 , 2272.5286 ,\n",
       "         709.81305,  888.514  ,  762.7204 , 1617.9631 , 1130.0469 ,\n",
       "        2098.4849 , 2119.496  , 2620.9626 , 3848.443  , 4417.593  ,\n",
       "        2745.466  , 2949.073  , 2258.2183 , 2342.8794 , 2313.2825 ,\n",
       "         647.9146 ,  834.21094,  731.11884,  715.06586,  642.4565 ,\n",
       "         686.8962 ,  816.2589 ,  714.4213 ,  900.3376 , 1698.8203 ,\n",
       "        1539.1334 ,  817.9565 ,  802.2048 ,  619.87054,  887.69696,\n",
       "         446.572  ,  743.13116,  823.7411 , 1102.5302 , 1117.5072 ,\n",
       "        1646.745  , 2589.2053 , 3204.5652 , 5048.0425 , 5019.0635 ,\n",
       "        5373.3364 , 5290.1196 , 4447.636  , 2037.1417 , 1408.7051 ,\n",
       "         454.93832, 1462.4462 , 1686.7795 , 1142.3418 ,  565.3725 ,\n",
       "         639.55914,  744.0371 ,  998.7701 ,  469.52426,  554.28876,\n",
       "         822.9972 ,  674.59875,  871.56946, 1298.8724 , 1215.8231 ,\n",
       "        1238.226  , 2031.0011 , 1847.5988 , 2156.666  ,  877.46875,\n",
       "         947.0751 ,  703.58704,  767.62164,  716.269  ,  915.67773,\n",
       "        1143.7734 , 2422.8242 , 3800.7185 , 4696.653  , 5671.7554 ,\n",
       "        6538.839  , 6956.932  , 6417.153  , 3995.6853 , 2029.9911 ,\n",
       "        2171.4841 ,  720.5494 ,  914.4512 , 1434.6022 , 1507.5463 ,\n",
       "        1294.058  , 1151.623  , 1141.7806 ,  466.41324,  548.88226,\n",
       "         714.85547,  863.34485,  977.03265,  871.3485 ,  664.5382 ,\n",
       "         769.99805, 1358.5538 , 1978.8639 , 2202.7124 , 2075.1062 ,\n",
       "        1730.2076 , 1150.8362 ,  888.4844 ,  457.64508,  954.1024 ,\n",
       "         582.03906,  826.2042 , 1606.0002 , 2052.8708 , 2082.9355 ,\n",
       "        1992.6178 , 1760.3173 , 1961.3416 ,  989.2051 ,  557.36554,\n",
       "         781.0477 ,  958.435  ,  881.87274,  891.4551 , 1138.4294 ,\n",
       "        1328.8359 , 1791.9894 , 1201.4113 ,  480.39062,  463.51395,\n",
       "         742.0971 ,  889.46375,  659.226  ,  417.9018 ,  538.7349 ,\n",
       "         686.0639 ,  827.62946,  930.779  , 1105.1456 ,  557.21234,\n",
       "         448.88644,  331.9481 ,  457.99692,  932.9082 , 1414.3591 ,\n",
       "        1954.2162 , 2111.508  , 2172.051  , 2041.6272 , 1953.633  ,\n",
       "         769.2433 ,  534.4124 ,  711.8968 ,  737.47797,  899.3535 ,\n",
       "        1072.4889 , 1180.418  ,  697.0932 ,  241.22852,  358.4637 ,\n",
       "         125.81696,  294.96512,  451.44672,  423.68832,  684.31976,\n",
       "         967.79266, 1123.6934 , 1405.8839 , 1732.882  , 2030.949  ,\n",
       "        2125.9434 ,  978.41547,  663.1032 , 1231.3348 , 1814.0072 ,\n",
       "        1355.628  , 1209.8083 ,  575.3524 ,  556.41296,  587.2349 ,\n",
       "         453.57504,  468.17496,  251.8803 ,  602.4883 ,  406.73828,\n",
       "         292.00726,  634.5622 ,  429.32758,  529.25946,  616.8669 ,\n",
       "         517.41656,  549.23773,  440.15933,  487.39926,  732.6632 ,\n",
       "         422.13477,  458.50473,  692.5173 ,  807.9654 ,  355.57004,\n",
       "         213.214  ,  264.92438,  313.72934,  332.47574,  313.79688,\n",
       "         262.1409 ,  247.83594,  297.65067,  310.77036,  248.30775,\n",
       "         296.6345 ,  503.88477,  662.7472 ,  880.38477, 1107.6886 ,\n",
       "        1087.3083 , 1229.63   ,  872.5229 ,  282.2246 ,  265.375  ,\n",
       "         347.8895 ,  471.99832,  426.29297,  349.17886,  564.7949 ,\n",
       "        1184.5096 , 1611.0046 , 1998.4131 , 2767.7644 , 3485.2058 ,\n",
       "        3852.798  , 3048.7795 ,  860.8937 ,  570.25195,  270.4771 ,\n",
       "         308.447  ,  445.53433,  388.53125,  418.20828,  411.4855 ,\n",
       "         481.2327 ,  307.04617,  258.76996,  536.4985 ,  500.52386,\n",
       "         567.1314 ,  392.08176,  459.1889 ,  603.3955 ,  570.3966 ,\n",
       "         654.95325,  744.02594,  878.96204,  548.4915 ,  386.02637,\n",
       "         444.03363,  671.35284,  305.1607 ,  457.72614,  411.6232 ,\n",
       "         458.36636,  376.70535,  329.77036,  420.1797 ,  345.77707,\n",
       "         460.4905 ,  599.10016,  764.8033 ,  708.4986 ,  349.75168,\n",
       "         300.368  ,  183.12584,  287.48102,  213.76115,  136.74121,\n",
       "         165.18443,  167.53738,  211.63672,  208.91043,  275.03824,\n",
       "         162.56418,  131.816  ,  209.8358 ,  254.79729,  313.24484,\n",
       "         386.06836,  357.01047,  474.64676,  523.64453,  742.80023,\n",
       "        1071.952  , 1600.4967 , 2095.8464 , 2604.7617 , 2957.5718 ,\n",
       "        2975.795  , 2663.2065 , 2072.3345 , 1258.1456 , 1003.9453 ,\n",
       "        1036.6504 , 1096.2422 , 1396.5245 , 1634.931  ,  880.5179 ,\n",
       "         409.9188 ,  423.89816,  259.98465,  332.80524,  257.02734,\n",
       "         427.17075,  413.55133,  248.95926,  389.74777,  335.23187,\n",
       "         393.91824,  441.45508,  771.7067 ,  940.92523, 1133.017  ,\n",
       "        1264.3689 , 1174.9772 , 1400.6005 , 1423.8767 ,  941.9696 ,\n",
       "        1074.7439 , 1423.4316 , 1910.1033 , 2331.082  , 2344.0593 ,\n",
       "        1289.8329 ,  881.7807 ,  350.15625,  558.68976,  793.00836,\n",
       "         979.8521 , 1087.9688 ,  953.31476,  830.9894 ,  449.66156,\n",
       "         359.66547,  516.9015 ,  556.33875,  794.5321 ,  859.78906,\n",
       "        1233.5851 , 1251.5751 , 1068.8307 , 1050.0391 , 1232.7932 ,\n",
       "        1453.3906 , 1789.1381 , 2421.0852 , 3546.3718 , 4442.4385 ,\n",
       "        4681.6514 , 3739.5762 , 2918.     , 3054.072  , 2918.7031 ,\n",
       "        1481.2057 , 1025.5126 ,  363.41043,  266.04324,  617.0745 ,\n",
       "         535.9749 ,  733.8061 ,  615.9428 ,  526.7093 ,  469.34988,\n",
       "         763.6699 ,  882.0343 ,  347.31   ,  315.99805,  225.86635,\n",
       "         297.64676,  426.11246,  485.92578,  716.66656,  842.86383,\n",
       "        1023.17914, 1335.1389 , 1543.8175 , 1784.1732 ,  995.9528 ,\n",
       "         523.1953 ,  365.93832,  797.0321 , 1346.8448 , 1702.2812 ,\n",
       "        1957.6467 , 1853.3357 , 2116.0999 , 1658.8733 , 1081.8103 ,\n",
       "         731.7422 ,  887.7575 , 1324.7871 , 1505.5267 , 1261.8203 ,\n",
       "         981.5176 ,  375.80328,  286.9548 ,  432.87222,  443.55637,\n",
       "         387.06863,  500.68192,  698.8764 ,  988.8047 , 1463.4735 ,\n",
       "        1731.745  , 1508.1956 , 1088.3318 ,  648.79156,  534.2352 ,\n",
       "         285.4774 ,  467.54465,  528.2659 ,  628.2374 ,  427.27036,\n",
       "         391.56082,  310.54214,  346.55746,  306.24164,  445.7112 ,\n",
       "         411.28207,  602.5854 ,  685.06024,  751.7818 , 1047.4557 ,\n",
       "         988.0678 ,  847.6582 ,  336.81613,  492.61914,  667.4247 ,\n",
       "         565.4029 ,  430.5879 ,  345.12332,  673.0159 ,  574.642  ,\n",
       "         402.74332,  515.9453 ,  475.38617,  670.5499 ,  681.1708 ,\n",
       "         537.40265,  506.0982 ,  679.695  ,  958.1649 , 1831.997  ,\n",
       "        2375.0217 , 2707.3523 , 2935.432  , 3492.121  , 3452.9436 ,\n",
       "        2914.1277 , 1628.2565 ,  830.5854 ,  225.25   ,  432.5982 ,\n",
       "         270.5237 ,  407.29633,  366.6822 ,  316.618  ,  212.9735 ,\n",
       "         359.55133,  445.33258,  394.8577 ,  716.3538 ,  647.3443 ,\n",
       "         404.58426,  324.19476,  319.75473,  373.9774 ,  373.2726 ,\n",
       "         521.2067 ,  412.8125 ,  604.7118 , 1081.3817 ,  911.6071 ,\n",
       "         874.2779 ,  663.96375,  612.786  ,  434.69644,  285.69867,\n",
       "         398.60855,  363.25223,  477.38644,  514.46234,  291.00726,\n",
       "         298.5318 ,  192.01395,  241.81557,  278.3047 ,  301.10352,\n",
       "         189.07617,  398.14957,  435.22906,  359.5798 ,  344.35016,\n",
       "         402.59067,  505.39844,  497.20898,  559.27985,  164.78879,\n",
       "         215.45871,  473.4604 ,  977.4841 , 1456.2986 , 1758.0558 ,\n",
       "        2237.3616 , 2542.8625 , 2618.778  , 1511.7795 ,  404.5262 ,\n",
       "         273.6021 ,  356.13895,  441.99918,  691.1493 ,  672.7093 ,\n",
       "         666.6437 ,  604.0572 ,  687.3228 ,  624.1094 ,  596.41296,\n",
       "         619.4847 , 1041.6345 ,  640.18164,  427.26254,  325.51312,\n",
       "         203.81836,  274.5555 ,  456.66016,  460.09738,  539.4258 ,\n",
       "         500.5053 ,  649.1708 ,  804.5728 , 1311.3572 , 1387.9143 ,\n",
       "        1313.4154 ,  697.84796,  529.9235 ,  433.97906,  315.25586,\n",
       "         311.2846 ,  497.1398 ,  657.88336,  519.7051 ,  396.7863 ,\n",
       "         428.36496,  671.13055,  770.35016, 1024.6398 , 1335.3776 ,\n",
       "         945.90344,  890.2528 ,  871.13116,  421.86273,  240.25279,\n",
       "         308.31863,  285.35016,  416.53152,  539.60126,  736.03796,\n",
       "         852.7673 ,  972.0703 ,  862.0946 ,  756.7347 ,  977.0254 ,\n",
       "        1494.4779 , 1894.3044 , 2252.7578 , 2210.774  , 2409.9675 ,\n",
       "        3226.9434 , 3647.9458 , 3552.5095 , 3802.0571 , 4063.9578 ,\n",
       "        2611.4207 , 1276.1013 ,  600.976  ,  518.98047,  309.351  ,\n",
       "         226.6836 ,  338.06363,  535.9643 ,  328.53793,  459.25168,\n",
       "         576.2282 ,  753.11554,  998.73047, 1011.6395 , 1281.5391 ,\n",
       "        1269.4598 , 1329.1713 ,  696.7003 ,  736.25226,  902.11163,\n",
       "        1170.2137 ,  947.92523,  618.12164,  673.88727,  408.82144,\n",
       "         799.92914,  671.0162 ,  540.65625,  452.93192,  867.93585,\n",
       "         752.5508 ,  451.46262,  419.3979 ,  781.4732 , 1008.66907,\n",
       "        1692.1144 , 2290.9543 , 3157.693  , 3999.9536 , 3917.283  ,\n",
       "        4172.835  , 3863.6646 , 2545.9688 , 1105.9431 ,  896.0028 ,\n",
       "        1023.23157, 1508.4816 , 1930.6725 , 2098.4553 ,  810.6758 ,\n",
       "         669.4872 ,  842.394  ,  864.42413, 1095.2025 ,  885.9961 ,\n",
       "        1237.923  , 1278.846  , 1257.9631 ,  793.00616,  492.4816 ,\n",
       "        1030.2233 , 1075.9631 , 1094.7494 , 1318.9197 , 1293.5436 ,\n",
       "        1022.04913, 1049.4135 ,  971.55414], dtype=float32),\n",
       " 'mse': array([1.57033040e+07, 1.26479860e+07, 1.63071470e+07, 6.36871900e+06,\n",
       "        1.17427040e+07, 1.62703110e+07, 2.15946400e+07, 8.08654850e+06,\n",
       "        2.57340350e+06, 1.74911638e+06, 4.84278750e+06, 4.63077450e+06,\n",
       "        3.02909150e+06, 2.30511175e+06, 3.76340125e+06, 5.21289600e+06,\n",
       "        7.74972750e+06, 7.61624950e+06, 1.21931310e+07, 6.82353850e+06,\n",
       "        5.61192550e+06, 3.97866975e+06, 4.78121650e+06, 7.86136100e+06,\n",
       "        1.28027950e+07, 1.34109370e+07, 1.45786940e+07, 1.07209110e+07,\n",
       "        5.30434450e+06, 5.63565650e+06, 7.66842312e+05, 1.08490862e+06,\n",
       "        6.17072875e+05, 2.98951225e+06, 2.61987750e+06, 6.29715650e+06,\n",
       "        7.77373850e+06, 8.87601600e+06, 1.71299520e+07, 2.13932760e+07,\n",
       "        1.02486800e+07, 1.07587200e+07, 6.64083650e+06, 6.06199300e+06,\n",
       "        5.94009300e+06, 4.79638219e+05, 8.19024625e+05, 6.64925562e+05,\n",
       "        6.70968438e+05, 5.51477188e+05, 7.14392000e+05, 8.70971562e+05,\n",
       "        5.99822500e+05, 1.16911675e+06, 3.59466475e+06, 3.07308375e+06,\n",
       "        1.02494812e+06, 8.34056688e+05, 5.76887625e+05, 1.11027688e+06,\n",
       "        4.61713219e+05, 1.13561738e+06, 8.38183562e+05, 1.60501288e+06,\n",
       "        1.44356112e+06, 3.56333425e+06, 1.00623730e+07, 1.53155820e+07,\n",
       "        3.20321900e+07, 3.20404800e+07, 3.43475800e+07, 3.19805580e+07,\n",
       "        2.12966900e+07, 5.61235200e+06, 2.50847750e+06, 3.07976969e+05,\n",
       "        3.48197875e+06, 3.27169250e+06, 1.95728138e+06, 4.54688750e+05,\n",
       "        6.15029000e+05, 7.42903188e+05, 1.25348138e+06, 4.55092031e+05,\n",
       "        3.64862094e+05, 8.93488438e+05, 5.97669375e+05, 2.37734600e+06,\n",
       "        3.45273075e+06, 2.60586750e+06, 2.81547250e+06, 5.34163850e+06,\n",
       "        4.48838000e+06, 5.02570800e+06, 1.04773169e+06, 1.00065619e+06,\n",
       "        7.64173438e+05, 7.86904375e+05, 8.70970312e+05, 1.36392025e+06,\n",
       "        1.77374588e+06, 1.06480250e+07, 2.30250880e+07, 3.19989140e+07,\n",
       "        4.18072200e+07, 5.07284840e+07, 5.41753000e+07, 4.31824760e+07,\n",
       "        1.80737460e+07, 5.65860000e+06, 4.92957750e+06, 1.05311600e+06,\n",
       "        1.22611288e+06, 3.23892150e+06, 2.70424250e+06, 1.92785462e+06,\n",
       "        1.48584312e+06, 1.54592412e+06, 2.95384094e+05, 3.92887281e+05,\n",
       "        7.74103688e+05, 9.04690625e+05, 1.19531362e+06, 9.37055562e+05,\n",
       "        7.86472312e+05, 1.48913900e+06, 3.38376400e+06, 5.04613900e+06,\n",
       "        5.76198500e+06, 5.14267500e+06, 3.46512200e+06, 1.66675188e+06,\n",
       "        1.00344856e+06, 2.72615812e+05, 1.01608238e+06, 7.31316625e+05,\n",
       "        1.21326938e+06, 4.05086575e+06, 5.68753300e+06, 5.71389150e+06,\n",
       "        5.13345050e+06, 3.77315475e+06, 3.97122475e+06, 1.28161838e+06,\n",
       "        5.25034062e+05, 1.08620788e+06, 1.40718288e+06, 1.01442256e+06,\n",
       "        9.68151000e+05, 1.42614788e+06, 2.04928512e+06, 3.31761075e+06,\n",
       "        1.70290712e+06, 3.10033594e+05, 3.72301719e+05, 6.38485188e+05,\n",
       "        9.11831375e+05, 5.48060875e+05, 2.20795766e+05, 3.94377062e+05,\n",
       "        6.57844625e+05, 1.04185569e+06, 1.17161975e+06, 1.44751525e+06,\n",
       "        4.84384656e+05, 2.43108750e+05, 1.81170484e+05, 3.06488219e+05,\n",
       "        1.97112538e+06, 3.58249000e+06, 5.25930050e+06, 5.73955300e+06,\n",
       "        5.52996450e+06, 4.91817450e+06, 3.98244950e+06, 6.99304812e+05,\n",
       "        4.43104781e+05, 8.77509312e+05, 7.30646438e+05, 1.08117812e+06,\n",
       "        1.45858825e+06, 1.48454112e+06, 6.35639688e+05, 8.90879297e+04,\n",
       "        2.29544641e+05, 2.73236699e+04, 1.20604484e+05, 3.12499031e+05,\n",
       "        2.69961312e+05, 9.13080500e+05, 1.41855525e+06, 1.99702800e+06,\n",
       "        2.99907575e+06, 4.56740250e+06, 5.12932500e+06, 5.23990750e+06,\n",
       "        1.65189575e+06, 6.05036500e+05, 1.56564238e+06, 3.39710975e+06,\n",
       "        2.03779075e+06, 1.83831688e+06, 5.95970625e+05, 5.36844625e+05,\n",
       "        4.99638438e+05, 3.54587031e+05, 3.08940688e+05, 8.30139141e+04,\n",
       "        5.30880000e+05, 3.85797156e+05, 1.72671469e+05, 4.82944594e+05,\n",
       "        2.62314969e+05, 4.02011938e+05, 6.41212938e+05, 4.61570719e+05,\n",
       "        5.16451438e+05, 2.74137344e+05, 2.92278438e+05, 6.76963812e+05,\n",
       "        2.35770219e+05, 2.88871312e+05, 5.05909844e+05, 7.05403438e+05,\n",
       "        2.08649297e+05, 8.35248984e+04, 9.17586953e+04, 2.28586578e+05,\n",
       "        2.06777672e+05, 1.55210828e+05, 8.45419141e+04, 1.37581000e+05,\n",
       "        1.34066344e+05, 1.79581781e+05, 9.01333906e+04, 2.32106828e+05,\n",
       "        5.89323812e+05, 8.13968000e+05, 1.15992038e+06, 1.60888412e+06,\n",
       "        1.48680800e+06, 1.58997188e+06, 8.16724000e+05, 1.13950477e+05,\n",
       "        8.96846406e+04, 1.98600266e+05, 2.90358938e+05, 2.00976734e+05,\n",
       "        1.51701500e+05, 5.21075281e+05, 3.09329975e+06, 4.33097550e+06,\n",
       "        6.59393500e+06, 1.07668450e+07, 1.42058270e+07, 1.55895140e+07,\n",
       "        9.58865600e+06, 1.12685638e+06, 4.62232562e+05, 1.02169047e+05,\n",
       "        1.29357664e+05, 2.60165469e+05, 1.77661828e+05, 2.35554875e+05,\n",
       "        2.02062875e+05, 3.65057062e+05, 1.62220359e+05, 1.29955359e+05,\n",
       "        3.24267188e+05, 4.69059156e+05, 4.09539188e+05, 4.41338281e+05,\n",
       "        4.34919562e+05, 6.21210688e+05, 5.09814219e+05, 5.53789062e+05,\n",
       "        6.60326625e+05, 9.31696375e+05, 3.55781469e+05, 1.71020594e+05,\n",
       "        2.99220656e+05, 5.01926156e+05, 1.27814484e+05, 3.77540906e+05,\n",
       "        4.51688094e+05, 3.92426438e+05, 2.51267469e+05, 1.69658844e+05,\n",
       "        3.00805750e+05, 2.13457875e+05, 2.27069047e+05, 4.99077656e+05,\n",
       "        6.79673000e+05, 5.58697938e+05, 1.43144391e+05, 1.32658906e+05,\n",
       "        5.31114609e+04, 1.04270070e+05, 6.08104375e+04, 2.66364590e+04,\n",
       "        3.84223125e+04, 4.31898828e+04, 8.88576016e+04, 5.70956172e+04,\n",
       "        9.31302734e+04, 4.17415117e+04, 3.63840039e+04, 6.32151797e+04,\n",
       "        1.10968852e+05, 1.40290922e+05, 2.44198281e+05, 2.34929609e+05,\n",
       "        3.21807906e+05, 4.57181719e+05, 1.13144825e+06, 2.34480675e+06,\n",
       "        4.71417450e+06, 6.86905450e+06, 8.95431600e+06, 1.02162500e+07,\n",
       "        9.54315600e+06, 7.37019550e+06, 4.85453950e+06, 2.32534100e+06,\n",
       "        1.76621775e+06, 1.53432538e+06, 1.37324800e+06, 2.25640975e+06,\n",
       "        2.72392375e+06, 8.74462125e+05, 2.26797531e+05, 3.46735938e+05,\n",
       "        9.16990469e+04, 1.35715906e+05, 1.36056656e+05, 2.40900172e+05,\n",
       "        2.33292109e+05, 8.27100703e+04, 2.02852969e+05, 1.73583234e+05,\n",
       "        2.36541625e+05, 3.26019688e+05, 8.42159312e+05, 1.32182175e+06,\n",
       "        1.75434712e+06, 2.14943850e+06, 1.69534862e+06, 2.18781750e+06,\n",
       "        2.08332462e+06, 1.04241138e+06, 2.24048250e+06, 3.35442675e+06,\n",
       "        4.91834300e+06, 6.22703550e+06, 5.75968400e+06, 1.86847325e+06,\n",
       "        8.74561938e+05, 1.88901609e+05, 5.62294375e+05, 9.04251062e+05,\n",
       "        1.16023138e+06, 1.29324038e+06, 9.96877875e+05, 8.20625188e+05,\n",
       "        3.01297781e+05, 2.36161359e+05, 4.15935219e+05, 4.72795406e+05,\n",
       "        7.28755562e+05, 8.68937062e+05, 1.90933862e+06, 2.35984950e+06,\n",
       "        1.83331225e+06, 2.07302912e+06, 2.24263575e+06, 3.15273475e+06,\n",
       "        4.22526350e+06, 7.68398750e+06, 1.67003180e+07, 2.25959000e+07,\n",
       "        2.45057180e+07, 1.65807390e+07, 1.12365370e+07, 1.05462070e+07,\n",
       "        9.08872900e+06, 2.48377200e+06, 1.14749925e+06, 2.35824469e+05,\n",
       "        9.29577578e+04, 5.12725781e+05, 3.67715312e+05, 7.38624938e+05,\n",
       "        6.25999125e+05, 4.41836781e+05, 3.66362781e+05, 6.45057875e+05,\n",
       "        8.48120438e+05, 2.02223672e+05, 1.18709016e+05, 7.22379844e+04,\n",
       "        1.96314984e+05, 2.17277719e+05, 3.99177719e+05, 1.12283388e+06,\n",
       "        1.29834800e+06, 1.49586662e+06, 2.50801150e+06, 2.92886375e+06,\n",
       "        3.25665125e+06, 1.08821612e+06, 3.82836969e+05, 2.71397781e+05,\n",
       "        1.27089288e+06, 2.82467125e+06, 4.01593850e+06, 4.97276350e+06,\n",
       "        4.20733650e+06, 4.85279900e+06, 3.13523125e+06, 1.41344462e+06,\n",
       "        9.68442875e+05, 1.22876862e+06, 2.24833775e+06, 2.55554275e+06,\n",
       "        1.87225625e+06, 1.13213112e+06, 2.14234703e+05, 1.61118328e+05,\n",
       "        3.44697344e+05, 3.23139312e+05, 2.32505031e+05, 4.54169344e+05,\n",
       "        6.34358438e+05, 1.24549988e+06, 2.47077150e+06, 3.37061925e+06,\n",
       "        2.38696875e+06, 1.51207000e+06, 6.58217188e+05, 3.38383312e+05,\n",
       "        1.36608281e+05, 3.13002719e+05, 4.41664219e+05, 4.83732156e+05,\n",
       "        2.50125859e+05, 3.78627938e+05, 1.24196516e+05, 1.80287172e+05,\n",
       "        1.14284727e+05, 2.73499188e+05, 3.90777938e+05, 6.80513562e+05,\n",
       "        6.63926688e+05, 8.14298000e+05, 1.34124688e+06, 1.12952150e+06,\n",
       "        9.61632188e+05, 1.31921578e+05, 3.56566531e+05, 7.14040562e+05,\n",
       "        5.64896750e+05, 3.75449656e+05, 2.37088422e+05, 5.74953250e+05,\n",
       "        4.74973188e+05, 2.55412422e+05, 3.64979250e+05, 2.79620000e+05,\n",
       "        6.61219375e+05, 5.92307188e+05, 4.97003188e+05, 3.53412781e+05,\n",
       "        5.94216812e+05, 1.61393175e+06, 5.95322650e+06, 8.39152900e+06,\n",
       "        1.08734260e+07, 1.14506810e+07, 1.42824320e+07, 1.24880550e+07,\n",
       "        8.75092900e+06, 2.82365475e+06, 8.25926188e+05, 9.92892109e+04,\n",
       "        2.47266094e+05, 1.38329922e+05, 2.48868891e+05, 1.84387109e+05,\n",
       "        1.73144125e+05, 6.14893984e+04, 2.21407141e+05, 2.54048719e+05,\n",
       "        2.81066906e+05, 6.57802562e+05, 5.09362219e+05, 2.92786156e+05,\n",
       "        3.35487062e+05, 2.08669797e+05, 3.01413094e+05, 2.52517922e+05,\n",
       "        3.97729188e+05, 2.78251031e+05, 5.00495188e+05, 1.26500925e+06,\n",
       "        1.00825212e+06, 8.68786000e+05, 5.32955500e+05, 4.71594656e+05,\n",
       "        2.75633938e+05, 1.33218953e+05, 2.26128828e+05, 2.30990453e+05,\n",
       "        2.41018031e+05, 3.00279031e+05, 1.15240797e+05, 2.08230828e+05,\n",
       "        6.08405273e+04, 1.09119664e+05, 1.12002266e+05, 1.28382211e+05,\n",
       "        5.71828555e+04, 2.09470469e+05, 3.12626562e+05, 2.25513641e+05,\n",
       "        1.63065906e+05, 2.41470953e+05, 3.93742812e+05, 3.22965250e+05,\n",
       "        4.00582938e+05, 4.78485195e+04, 6.06042500e+04, 5.76971875e+05,\n",
       "        2.05755288e+06, 4.00931850e+06, 4.96759100e+06, 6.35887950e+06,\n",
       "        7.23268900e+06, 7.00091450e+06, 2.43821050e+06, 2.68662469e+05,\n",
       "        8.72922734e+04, 2.09807250e+05, 3.05745531e+05, 1.27023088e+06,\n",
       "        1.06207162e+06, 7.82555875e+05, 7.48380438e+05, 1.07240175e+06,\n",
       "        8.62221125e+05, 7.83480188e+05, 4.62969406e+05, 1.21310075e+06,\n",
       "        5.38208688e+05, 2.86014156e+05, 1.40222266e+05, 6.98581875e+04,\n",
       "        1.03577422e+05, 2.83543156e+05, 3.17860281e+05, 3.74174344e+05,\n",
       "        5.07910438e+05, 6.03495438e+05, 8.79866375e+05, 1.89449212e+06,\n",
       "        2.21022675e+06, 1.91096688e+06, 6.37213875e+05, 3.46618000e+05,\n",
       "        3.23405219e+05, 1.71991484e+05, 1.57616797e+05, 2.74449531e+05,\n",
       "        5.19311281e+05, 2.94633438e+05, 2.11799000e+05, 2.48238828e+05,\n",
       "        7.89502062e+05, 1.01670912e+06, 1.43799825e+06, 2.08125962e+06,\n",
       "        1.13830800e+06, 9.87402500e+05, 8.73354562e+05, 2.36770422e+05,\n",
       "        8.41951328e+04, 1.38456000e+05, 1.04853695e+05, 2.18005859e+05,\n",
       "        4.23590562e+05, 8.07520875e+05, 9.33598812e+05, 1.03284294e+06,\n",
       "        8.15570000e+05, 8.18523562e+05, 1.41996238e+06, 3.26324350e+06,\n",
       "        4.58693600e+06, 5.74683150e+06, 7.75726850e+06, 1.02167910e+07,\n",
       "        1.56646260e+07, 1.74157800e+07, 1.61808730e+07, 1.65412890e+07,\n",
       "        1.68885980e+07, 7.02850500e+06, 1.78528712e+06, 5.29901375e+05,\n",
       "        4.04402031e+05, 1.59997547e+05, 7.84174453e+04, 1.93014734e+05,\n",
       "        3.65632062e+05, 1.79704719e+05, 3.19339938e+05, 6.31731438e+05,\n",
       "        1.28901912e+06, 2.09499375e+06, 1.66224088e+06, 1.90397338e+06,\n",
       "        2.10741250e+06, 2.15229775e+06, 6.61804938e+05, 9.81289625e+05,\n",
       "        1.01347494e+06, 1.63686825e+06, 1.00035406e+06, 6.14580062e+05,\n",
       "        6.93844312e+05, 2.47058375e+05, 9.97856125e+05, 6.12170688e+05,\n",
       "        5.61708625e+05, 5.14083031e+05, 9.63875562e+05, 8.89746125e+05,\n",
       "        2.43441766e+05, 4.01097344e+05, 1.12142088e+06, 1.59405100e+06,\n",
       "        5.52153850e+06, 9.74851700e+06, 1.59154700e+07, 2.00569000e+07,\n",
       "        1.89115160e+07, 1.97114260e+07, 1.56537760e+07, 7.02056800e+06,\n",
       "        1.55558162e+06, 1.65581025e+06, 2.11375075e+06, 3.21185850e+06,\n",
       "        4.43776500e+06, 5.05728400e+06, 9.98058812e+05, 5.50344438e+05,\n",
       "        1.15794938e+06, 1.04772844e+06, 1.81881275e+06, 1.31564862e+06,\n",
       "        1.73455625e+06, 2.07199462e+06, 2.08665112e+06, 8.33840875e+05,\n",
       "        3.53117000e+05, 1.42113075e+06, 1.72937538e+06, 1.67554512e+06,\n",
       "        2.22921900e+06, 2.20226950e+06, 1.24577338e+06, 1.45892062e+06,\n",
       "        1.02807700e+06], dtype=float32),\n",
       " 'rmse': array([3962.7395 , 3556.4006 , 4038.211  , 2523.632  , 3426.763  ,\n",
       "        4033.6475 , 4647.0034 , 2843.6858 , 1604.1831 , 1322.5416 ,\n",
       "        2200.6335 , 2151.9233 , 1740.4286 , 1518.2594 , 1939.9487 ,\n",
       "        2283.1768 , 2783.8333 , 2759.7554 , 3491.8665 , 2612.1904 ,\n",
       "        2368.9502 , 1994.6603 , 2186.5994 , 2803.8118 , 3578.0994 ,\n",
       "        3662.0947 , 3818.2056 , 3274.2803 , 2303.1162 , 2373.9539 ,\n",
       "         875.6953 , 1041.5895 ,  785.53986, 1729.0206 , 1618.6035 ,\n",
       "        2509.4136 , 2788.1426 , 2979.2644 , 4138.8345 , 4625.2866 ,\n",
       "        3201.356  , 3280.0488 , 2576.982  , 2462.1116 , 2437.2307 ,\n",
       "         692.5592 ,  904.9998 ,  815.4297 ,  819.12665,  742.6151 ,\n",
       "         845.2171 ,  933.25854,  774.48206, 1081.2571 , 1895.9601 ,\n",
       "        1753.0214 , 1012.3972 ,  913.267  ,  759.5312 , 1053.6968 ,\n",
       "         679.4948 , 1065.6534 ,  915.5237 , 1266.891  , 1201.4829 ,\n",
       "        1887.6796 , 3172.1243 , 3913.5127 , 5659.6987 , 5660.431  ,\n",
       "        5860.6807 , 5655.1357 , 4614.8335 , 2369.0403 , 1583.8174 ,\n",
       "         554.9567 , 1866.0061 , 1808.7821 , 1399.0287 ,  674.30615,\n",
       "         784.23785,  861.91833, 1119.5898 ,  674.6051 ,  604.03815,\n",
       "         945.2452 ,  773.0908 , 1541.8645 , 1858.1525 , 1614.27   ,\n",
       "        1677.937  , 2311.1985 , 2118.5798 , 2241.809  , 1023.58765,\n",
       "        1000.32806,  874.17017,  887.0763 ,  933.2579 , 1167.87   ,\n",
       "        1331.8206 , 3263.131  , 4798.4463 , 5656.7583 , 6465.85   ,\n",
       "        7122.393  , 7360.387  , 6571.3374 , 4251.3228 , 2378.7812 ,\n",
       "        2220.2651 , 1026.2144 , 1107.2998 , 1799.7004 , 1644.4581 ,\n",
       "        1388.472  , 1218.9517 , 1243.3519 ,  543.4925 ,  626.8072 ,\n",
       "         879.8316 ,  951.1523 , 1093.304  ,  968.0163 ,  886.83276,\n",
       "        1220.3029 , 1839.501  , 2246.3613 , 2400.4136 , 2267.7466 ,\n",
       "        1861.4838 , 1291.0275 , 1001.7228 ,  522.1262 , 1008.0091 ,\n",
       "         855.17053, 1101.4851 , 2012.6763 , 2384.855  , 2390.3748 ,\n",
       "        2265.712  , 1942.461  , 1992.7932 , 1132.0858 ,  724.59235,\n",
       "        1042.213  , 1186.2474 , 1007.1855 ,  983.94666, 1194.2144 ,\n",
       "        1431.5325 , 1821.4309 , 1304.9548 ,  556.8066 ,  610.16534,\n",
       "         799.0527 ,  954.8986 ,  740.31134,  469.8891 ,  627.9945 ,\n",
       "         811.07623, 1020.7133 , 1082.4138 , 1203.1273 ,  695.9775 ,\n",
       "         493.0606 ,  425.64127,  553.6138 , 1403.9678 , 1892.7467 ,\n",
       "        2293.3164 , 2395.7363 , 2351.5876 , 2217.6958 , 1995.6075 ,\n",
       "         836.24445,  665.66113,  936.7547 ,  854.77856, 1039.7971 ,\n",
       "        1207.7202 , 1218.4175 ,  797.27014,  298.476  ,  479.1082 ,\n",
       "         165.29874,  347.28156,  559.0161 ,  519.578  ,  955.5524 ,\n",
       "        1191.0311 , 1413.1624 , 1731.7839 , 2137.1482 , 2264.8013 ,\n",
       "        2289.0845 , 1285.261  ,  777.84094, 1251.2563 , 1843.125  ,\n",
       "        1427.5121 , 1355.8455 ,  771.99133,  732.69684,  706.8511 ,\n",
       "         595.4721 ,  555.82434,  288.12134,  728.6151 ,  621.12573,\n",
       "         415.53757,  694.94214,  512.16693,  634.0441 ,  800.75775,\n",
       "         679.38995,  718.64557,  523.58124,  540.6278 ,  822.7781 ,\n",
       "         485.56177,  537.4675 ,  711.2734 ,  839.883  ,  456.78146,\n",
       "         289.00674,  302.917  ,  478.1073 ,  454.72812,  393.96805,\n",
       "         290.76093,  370.91913,  366.15073,  423.7709 ,  300.22223,\n",
       "         481.77466,  767.6743 ,  902.2017 , 1076.996  , 1268.418  ,\n",
       "        1219.3474 , 1260.9409 ,  903.72784,  337.56552,  299.47394,\n",
       "         445.6459 ,  538.8497 ,  448.3043 ,  389.48877,  721.85547,\n",
       "        1758.778  , 2081.0996 , 2567.866  , 3281.287  , 3769.0618 ,\n",
       "        3948.356  , 3096.5554 , 1061.5349 ,  679.8769 ,  319.63895,\n",
       "         359.66327,  510.06418,  421.4995 ,  485.33997,  449.51404,\n",
       "         604.1995 ,  402.7659 ,  360.49323,  569.44464,  684.8789 ,\n",
       "         639.9525 ,  664.33295,  659.4843 ,  788.1692 ,  714.01276,\n",
       "         744.17004,  812.60486,  965.2442 ,  596.4742 ,  413.54636,\n",
       "         547.0107 ,  708.46747,  357.5115 ,  614.4436 ,  672.07745,\n",
       "         626.4395 ,  501.26587,  411.89664,  548.4576 ,  462.015  ,\n",
       "         476.51764,  706.4543 ,  824.42285,  747.461  ,  378.34427,\n",
       "         364.2237 ,  230.45924,  322.90875,  246.59772,  163.2068 ,\n",
       "         196.0161 ,  207.82176,  298.08994,  238.9469 ,  305.17252,\n",
       "         204.30739,  190.74591,  251.42628,  333.11987,  374.5543 ,\n",
       "         494.1642 ,  484.69537,  567.2811 ,  676.15216, 1063.6956 ,\n",
       "        1531.2761 , 2171.215  , 2620.8882 , 2992.3762 , 3196.2869 ,\n",
       "        3089.2    , 2714.8103 , 2203.302  , 1524.9069 , 1328.9912 ,\n",
       "        1238.6788 , 1171.8567 , 1502.135  , 1650.4314 ,  935.1268 ,\n",
       "         476.23264,  588.8429 ,  302.8185 ,  368.3964 ,  368.85858,\n",
       "         490.81583,  483.0032 ,  287.5936 ,  450.39203,  416.6332 ,\n",
       "         486.35544,  570.9813 ,  917.6924 , 1149.7051 , 1324.5177 ,\n",
       "        1466.0963 , 1302.0555 , 1479.1273 , 1443.3727 , 1020.9855 ,\n",
       "        1496.8241 , 1831.5094 , 2217.7336 , 2495.4028 , 2399.934  ,\n",
       "        1366.9211 ,  935.1802 ,  434.6281 ,  749.8629 ,  950.92114,\n",
       "        1077.1404 , 1137.2073 ,  998.43774,  905.88367,  548.906  ,\n",
       "         485.96436,  644.9304 ,  687.6012 ,  853.6718 ,  932.1679 ,\n",
       "        1381.7882 , 1536.1802 , 1353.9987 , 1439.8018 , 1497.5432 ,\n",
       "        1775.5942 , 2055.5447 , 2772.0007 , 4086.6023 , 4753.5146 ,\n",
       "        4950.325  , 4071.9453 , 3352.0945 , 3247.4924 , 3014.752  ,\n",
       "        1575.9988 , 1071.2139 ,  485.6176 ,  304.88974,  716.0487 ,\n",
       "         606.3953 ,  859.4329 ,  791.20105,  664.70807,  605.2791 ,\n",
       "         803.15497,  920.9346 ,  449.69287,  344.54175,  268.77124,\n",
       "         443.07446,  466.13058,  631.8051 , 1059.6385 , 1139.4508 ,\n",
       "        1223.0563 , 1583.6703 , 1711.3923 , 1804.6194 , 1043.176  ,\n",
       "         618.7382 ,  520.9585 , 1127.3389 , 1680.6758 , 2003.9807 ,\n",
       "        2229.9695 , 2051.1792 , 2202.907  , 1770.6584 , 1188.8838 ,\n",
       "         984.095  , 1108.4984 , 1499.4458 , 1598.6064 , 1368.3042 ,\n",
       "        1064.0165 ,  462.85495,  401.39548,  587.1093 ,  568.4534 ,\n",
       "         482.18774,  673.9209 ,  796.46625, 1116.0197 , 1571.8688 ,\n",
       "        1835.9247 , 1544.9818 , 1229.6626 ,  811.30585,  581.7072 ,\n",
       "         369.60556,  559.46643,  664.57825,  695.50854,  500.12585,\n",
       "         615.3275 ,  352.41525,  424.60236,  338.06024,  522.9715 ,\n",
       "         625.1223 ,  824.93243,  814.81696,  902.38464, 1158.1222 ,\n",
       "        1062.7896 ,  980.6285 ,  363.2101 ,  597.1319 ,  845.0092 ,\n",
       "         751.5961 ,  612.73944,  486.91727,  758.2567 ,  689.183  ,\n",
       "         505.38345,  604.13513,  528.7911 ,  813.154  ,  769.615  ,\n",
       "         704.98456,  594.4853 ,  770.8546 , 1270.4061 , 2439.9236 ,\n",
       "        2896.8135 , 3297.4878 , 3383.8855 , 3779.2104 , 3533.8442 ,\n",
       "        2958.197  , 1680.3734 ,  908.8048 ,  315.1019 ,  497.25858,\n",
       "         371.9273 ,  498.8676 ,  429.4032 ,  416.1059 ,  247.97057,\n",
       "         470.5392 ,  504.03247,  530.1574 ,  811.0503 ,  713.69617,\n",
       "         541.09717,  579.21246,  456.8039 ,  549.011  ,  502.51163,\n",
       "         630.6577 ,  527.49506,  707.45685, 1124.7263 , 1004.1176 ,\n",
       "         932.0869 ,  730.038  ,  686.7275 ,  525.0085 ,  364.99173,\n",
       "         475.53006,  480.61465,  490.93588,  547.97723,  339.47134,\n",
       "         456.32315,  246.65872,  330.33264,  334.6674 ,  358.30463,\n",
       "         239.12936,  457.67944,  559.1302 ,  474.88275,  403.8142 ,\n",
       "         491.39694,  627.4893 ,  568.3003 ,  632.9162 ,  218.74304,\n",
       "         246.1793 ,  759.5867 , 1434.4172 , 2002.3282 , 2228.8093 ,\n",
       "        2521.682  , 2689.366  , 2645.924  , 1561.477  ,  518.3266 ,\n",
       "         295.45267,  458.0472 ,  552.9426 , 1127.0452 , 1030.5686 ,\n",
       "         884.6219 ,  865.08984, 1035.5684 ,  928.55865,  885.14417,\n",
       "         680.4186 , 1101.4086 ,  733.6271 ,  534.8029 ,  374.46265,\n",
       "         264.307  ,  321.83447,  532.48773,  563.791  ,  611.69794,\n",
       "         712.67834,  776.8497 ,  938.0119 , 1376.4055 , 1486.6831 ,\n",
       "        1382.3772 ,  798.2568 ,  588.74274,  568.68726,  414.71857,\n",
       "         397.00983,  523.87933,  720.63257,  542.80145,  460.21625,\n",
       "         498.23572,  888.5393 , 1008.31995, 1199.1656 , 1442.6571 ,\n",
       "        1066.9152 ,  993.6813 ,  934.5344 ,  486.5906 ,  290.16397,\n",
       "         372.09677,  323.81122,  466.91098,  650.8384 ,  898.62164,\n",
       "         966.2292 , 1016.2888 ,  903.0892 ,  904.7229 , 1191.6217 ,\n",
       "        1806.445  , 2141.7134 , 2397.255  , 2785.1873 , 3196.3716 ,\n",
       "        3957.8562 , 4173.2217 , 4022.5457 , 4067.0984 , 4109.5737 ,\n",
       "        2651.1328 , 1336.1464 ,  727.94324,  635.92615,  399.99695,\n",
       "         280.03116,  439.3344 ,  604.6752 ,  423.91592,  565.1017 ,\n",
       "         794.81537, 1135.3497 , 1447.4093 , 1289.2792 , 1379.8455 ,\n",
       "        1451.693  , 1467.0712 ,  813.5139 ,  990.60065, 1006.7149 ,\n",
       "        1279.4015 , 1000.177  ,  783.9516 ,  832.9732 ,  497.04968,\n",
       "         998.9275 ,  782.4134 ,  749.4722 ,  716.99585,  981.77167,\n",
       "         943.26355,  493.3982 ,  633.32245, 1058.9716 , 1262.5574 ,\n",
       "        2349.7954 , 3122.2615 , 3989.4197 , 4478.493  , 4348.7373 ,\n",
       "        4439.7554 , 3956.4854 , 2649.6355 , 1247.2296 , 1286.783  ,\n",
       "        1453.8744 , 1792.1659 , 2106.6003 , 2248.8406 ,  999.02893,\n",
       "         741.85205, 1076.0806 , 1023.58606, 1348.6337 , 1147.0173 ,\n",
       "        1317.0255 , 1439.4425 , 1444.5245 ,  913.14886,  594.2365 ,\n",
       "        1192.1119 , 1315.0571 , 1294.4285 , 1493.0569 , 1484.0045 ,\n",
       "        1116.1422 , 1207.8579 , 1013.94135], dtype=float32),\n",
       " 'mape': array([ 8.125482  ,  7.09241   ,  7.7149405 ,  5.7368484 ,  7.697553  ,\n",
       "         9.819884  , 11.409694  ,  6.681355  ,  3.7282991 ,  1.9105091 ,\n",
       "         3.8313098 ,  3.9819248 ,  3.7866406 ,  3.3375409 ,  4.1865463 ,\n",
       "         4.4814267 ,  6.2664433 ,  6.2619395 ,  8.107006  ,  5.5317802 ,\n",
       "         4.934939  ,  4.2283397 ,  4.45821   ,  4.414362  ,  6.53447   ,\n",
       "         6.8798065 ,  7.6677957 ,  5.95764   ,  4.3188896 ,  4.865437  ,\n",
       "         1.5157574 ,  1.9173338 ,  1.6518375 ,  3.5752196 ,  2.5653417 ,\n",
       "         4.7992373 ,  4.93609   ,  6.103776  ,  9.160514  , 10.648764  ,\n",
       "         6.7170167 ,  7.2678623 ,  5.601259  ,  5.810634  ,  5.773966  ,\n",
       "         1.6072923 ,  2.0497246 ,  1.792715  ,  1.7479479 ,  1.5809516 ,\n",
       "         1.6973158 ,  2.0027494 ,  1.7689515 ,  2.2885735 ,  4.3313527 ,\n",
       "         3.9271393 ,  2.100181  ,  2.0767403 ,  1.5915023 ,  2.313829  ,\n",
       "         1.1660944 ,  1.8950155 ,  2.1758108 ,  2.9497774 ,  2.9891193 ,\n",
       "         4.549632  ,  7.6855702 ,  9.789302  , 15.98524   , 16.43283   ,\n",
       "        17.88296   , 17.774313  , 14.942917  ,  6.918731  ,  4.7730064 ,\n",
       "         1.503661  ,  4.792153  ,  5.5944023 ,  3.7743356 ,  1.9094508 ,\n",
       "         2.15153   ,  2.527317  ,  3.3444636 ,  1.5747243 ,  1.8799272 ,\n",
       "         2.7824192 ,  2.3070574 ,  2.8320627 ,  4.1808953 ,  3.941295  ,\n",
       "         4.012102  ,  6.605723  ,  5.9892316 ,  7.048788  ,  2.849087  ,\n",
       "         3.1171663 ,  2.303592  ,  2.5216122 ,  2.3265805 ,  2.99943   ,\n",
       "         3.8579154 ,  9.476135  , 15.656032  , 19.888842  , 25.093884  ,\n",
       "        29.80394   , 33.00648   , 30.904135  , 19.581306  , 10.136164  ,\n",
       "        10.777464  ,  3.6413698 ,  4.4655433 ,  6.797604  ,  7.168277  ,\n",
       "         6.1507573 ,  5.488268  ,  5.4370203 ,  2.249484  ,  2.7135367 ,\n",
       "         3.6225848 ,  4.4111853 ,  4.997855  ,  4.449295  ,  3.339137  ,\n",
       "         3.6932926 ,  6.4163923 ,  9.348184  , 10.388561  ,  9.799864  ,\n",
       "         8.198403  ,  5.4395566 ,  4.2943454 ,  2.2504864 ,  4.695841  ,\n",
       "         2.9146893 ,  3.8983436 ,  7.274123  ,  9.176571  ,  9.175535  ,\n",
       "         8.701355  ,  7.669767  ,  8.559414  ,  4.2945566 ,  2.5392914 ,\n",
       "         3.5937536 ,  4.370638  ,  3.9700594 ,  3.941944  ,  5.0376053 ,\n",
       "         5.6792827 ,  7.6506195 ,  5.1170673 ,  2.0571349 ,  2.0242596 ,\n",
       "         3.2294736 ,  3.8762112 ,  2.8719008 ,  1.8009009 ,  2.3002868 ,\n",
       "         2.8964927 ,  3.4544208 ,  3.8743534 ,  4.5876036 ,  2.3012369 ,\n",
       "         1.861803  ,  1.3673774 ,  1.9158857 ,  4.2195616 ,  6.4926558 ,\n",
       "         8.969474  ,  9.787067  , 10.1145315 ,  9.580902  ,  9.160813  ,\n",
       "         3.639913  ,  2.582794  ,  3.518982  ,  3.6377847 ,  4.4888916 ,\n",
       "         5.372164  ,  5.9086194 ,  3.5059385 ,  1.2136115 ,  1.7833661 ,\n",
       "         0.6296903 ,  1.4823246 ,  2.3153033 ,  2.1830094 ,  3.398445  ,\n",
       "         4.7225766 ,  5.367285  ,  6.556151  ,  7.996911  ,  9.462794  ,\n",
       "         9.946608  ,  4.535117  ,  3.184051  ,  6.1101484 ,  9.139284  ,\n",
       "         6.940005  ,  6.2974796 ,  3.028303  ,  2.9315782 ,  3.0982585 ,\n",
       "         2.4026558 ,  2.476048  ,  1.3256708 ,  3.1252112 ,  2.0963643 ,\n",
       "         1.5111114 ,  3.2785568 ,  2.214507  ,  2.7226942 ,  3.129359  ,\n",
       "         2.5962682 ,  2.7548404 ,  2.223277  ,  2.4507601 ,  3.681675  ,\n",
       "         2.120533  ,  2.364758  ,  3.5825346 ,  4.189812  ,  1.8554006 ,\n",
       "         1.1150169 ,  1.3837272 ,  1.6158944 ,  1.7199222 ,  1.624756  ,\n",
       "         1.3589823 ,  1.2804666 ,  1.5421824 ,  1.6010325 ,  1.2922034 ,\n",
       "         1.502528  ,  2.491212  ,  3.2666695 ,  4.328071  ,  5.4060187 ,\n",
       "         5.2820272 ,  5.979929  ,  4.2331753 ,  1.3711987 ,  1.2930984 ,\n",
       "         1.6836789 ,  2.2865806 ,  2.0640595 ,  1.6782293 ,  2.837913  ,\n",
       "         6.6849804 ,  9.093644  , 11.629825  , 16.276428  , 20.634174  ,\n",
       "        22.975895  , 18.319704  ,  5.178072  ,  3.4219615 ,  1.6252538 ,\n",
       "         1.8485721 ,  2.6873195 ,  2.345877  ,  2.5569084 ,  2.5214906 ,\n",
       "         2.9569356 ,  1.9016954 ,  1.607869  ,  3.2790833 ,  3.029879  ,\n",
       "         3.4442565 ,  2.3217933 ,  2.7210534 ,  3.5655837 ,  3.3768547 ,\n",
       "         3.8520017 ,  4.3781667 ,  5.155573  ,  3.2252545 ,  2.2651603 ,\n",
       "         2.5940704 ,  3.927242  ,  1.7860023 ,  2.6696358 ,  2.35281   ,\n",
       "         2.6062102 ,  2.1420534 ,  1.8806096 ,  2.4055438 ,  1.9903436 ,\n",
       "         2.6934185 ,  3.5740073 ,  4.5741463 ,  4.243002  ,  2.089706  ,\n",
       "         1.799057  ,  1.0950861 ,  1.7046603 ,  1.2720042 ,  0.81532717,\n",
       "         0.9883223 ,  0.998786  ,  1.2745683 ,  1.2564948 ,  1.6565949 ,\n",
       "         0.9799734 ,  0.7881257 ,  1.254147  ,  1.5137079 ,  1.8602027 ,\n",
       "         2.276117  ,  2.094687  ,  2.76427   ,  2.9981422 ,  4.0994463 ,\n",
       "         5.673856  ,  8.136849  , 10.443042  , 12.803371  , 14.373634  ,\n",
       "        14.366023  , 12.737738  ,  9.672745  ,  5.721557  ,  4.468479  ,\n",
       "         4.603822  ,  4.8750753 ,  6.124422  ,  7.1525497 ,  3.8357015 ,\n",
       "         1.7806613 ,  1.8188318 ,  1.1241453 ,  1.4326296 ,  1.0991745 ,\n",
       "         1.8281589 ,  1.7655311 ,  1.0602881 ,  1.6818341 ,  1.4475535 ,\n",
       "         1.6964803 ,  1.9175246 ,  3.4100707 ,  4.2277074 ,  5.1250567 ,\n",
       "         5.761864  ,  5.3655205 ,  6.39574   ,  6.43038   ,  4.1441774 ,\n",
       "         4.4884825 ,  5.8762646 ,  7.874103  ,  9.565358  ,  9.590607  ,\n",
       "         5.267314  ,  3.5987    ,  1.4415535 ,  2.374177  ,  3.3698387 ,\n",
       "         4.166082  ,  4.6427283 ,  4.0747995 ,  3.5618503 ,  1.9524481 ,\n",
       "         1.583254  ,  2.2756972 ,  2.4648426 ,  3.525502  ,  3.8628247 ,\n",
       "         5.710531  ,  5.9612494 ,  5.1637645 ,  5.1085553 ,  5.7731123 ,\n",
       "         6.5226316 ,  7.8250647 , 10.100406  , 14.121249  , 17.413286  ,\n",
       "        17.837883  , 13.905009  , 10.5739    , 11.07277   , 10.490348  ,\n",
       "         5.3139176 ,  3.6757133 ,  1.294818  ,  0.96141857,  2.2546942 ,\n",
       "         1.9379457 ,  2.6712716 ,  2.2250497 ,  1.8913424 ,  1.6774565 ,\n",
       "         2.7088332 ,  3.124252  ,  1.227702  ,  1.1232831 ,  0.8032718 ,\n",
       "         1.062678  ,  1.5203028 ,  1.6933609 ,  2.4438803 ,  2.8426158 ,\n",
       "         3.4474428 ,  4.426385  ,  5.1035824 ,  5.8983335 ,  3.2941256 ,\n",
       "         1.7324256 ,  1.2432488 ,  2.7589176 ,  4.741684  ,  6.0388527 ,\n",
       "         7.0036964 ,  6.668455  ,  7.6117253 ,  5.9816203 ,  3.8644593 ,\n",
       "         2.5309312 ,  3.0590203 ,  4.552025  ,  5.1846623 ,  4.3357754 ,\n",
       "         3.3630722 ,  1.2979782 ,  0.9866544 ,  1.5146343 ,  1.5547669 ,\n",
       "         1.3567693 ,  1.7506596 ,  2.4853115 ,  3.5567992 ,  5.3221583 ,\n",
       "         6.3501873 ,  5.557055  ,  4.0339746 ,  2.4126668 ,  1.9793286 ,\n",
       "         1.0554115 ,  1.7259197 ,  1.9486597 ,  2.3195457 ,  1.5863014 ,\n",
       "         1.4403648 ,  1.1585437 ,  1.2992357 ,  1.1479105 ,  1.6651856 ,\n",
       "         1.506401  ,  2.1976662 ,  2.5003715 ,  2.7249167 ,  3.809641  ,\n",
       "         3.5906017 ,  3.0721838 ,  1.237073  ,  1.8509318 ,  2.5140493 ,\n",
       "         2.1442657 ,  1.6367395 ,  1.3154948 ,  2.559815  ,  2.197678  ,\n",
       "         1.5188559 ,  1.980173  ,  1.8425156 ,  2.615961  ,  2.6523235 ,\n",
       "         2.090429  ,  1.9469658 ,  2.592065  ,  3.5414286 ,  6.47763   ,\n",
       "         8.266252  ,  9.178457  ,  9.831394  , 11.614763  , 11.444398  ,\n",
       "         9.579563  ,  5.351919  ,  2.722096  ,  0.7376117 ,  1.4258778 ,\n",
       "         0.8931463 ,  1.3298262 ,  1.1986752 ,  1.0290376 ,  0.6923253 ,\n",
       "         1.1772213 ,  1.4635392 ,  1.2997986 ,  2.3670642 ,  2.1384978 ,\n",
       "         1.3416094 ,  1.0431112 ,  1.036443  ,  1.2106068 ,  1.2131855 ,\n",
       "         1.6964892 ,  1.3555974 ,  1.9851476 ,  3.5980854 ,  3.0441225 ,\n",
       "         2.9201198 ,  2.2224736 ,  2.0653014 ,  1.4729785 ,  0.9691156 ,\n",
       "         1.353065  ,  1.2411441 ,  1.6241932 ,  1.7581571 ,  0.9930107 ,\n",
       "         1.0121132 ,  0.65445   ,  0.8232045 ,  0.95005006,  1.028432  ,\n",
       "         0.6474095 ,  1.3605554 ,  1.4815418 ,  1.2230967 ,  1.1705865 ,\n",
       "         1.3690577 ,  1.7110256 ,  1.6866869 ,  1.8973792 ,  0.56219906,\n",
       "         0.7367823 ,  1.7107595 ,  3.6277752 ,  5.488994  ,  6.670214  ,\n",
       "         8.489974  ,  9.688081  ,  9.995013  ,  5.7840285 ,  1.5477219 ,\n",
       "         1.0463858 ,  1.3608298 ,  1.6903831 ,  2.5536103 ,  2.4735477 ,\n",
       "         2.467956  ,  2.2302806 ,  2.5332336 ,  2.2992675 ,  2.1989765 ,\n",
       "         2.3793478 ,  4.0311646 ,  2.4772508 ,  1.6521597 ,  1.2569977 ,\n",
       "         0.78750074,  1.0610086 ,  1.7664503 ,  1.7698848 ,  2.0732415 ,\n",
       "         1.8951373 ,  2.4726162 ,  3.0508795 ,  4.947374  ,  5.193961  ,\n",
       "         4.8974013 ,  2.5994747 ,  1.9735799 ,  1.6123908 ,  1.1728799 ,\n",
       "         1.1610276 ,  1.8764416 ,  2.4954612 ,  1.9620892 ,  1.4983362 ,\n",
       "         1.6135739 ,  2.4597104 ,  2.8066158 ,  3.7388895 ,  4.8557854 ,\n",
       "         3.4279518 ,  3.2101877 ,  3.1348326 ,  1.5170801 ,  0.86627585,\n",
       "         1.1078764 ,  1.0365139 ,  1.5195854 ,  1.995599  ,  2.7305043 ,\n",
       "         3.1637545 ,  3.5806234 ,  3.147418  ,  2.7018309 ,  3.447238  ,\n",
       "         5.1875496 ,  6.509565  ,  7.6856904 ,  7.1809587 ,  7.5025268 ,\n",
       "         9.831144  , 10.981717  , 10.536768  , 11.213379  , 11.922956  ,\n",
       "         7.6226726 ,  3.7109158 ,  1.7323116 ,  1.4992985 ,  0.8864471 ,\n",
       "         0.6480747 ,  0.96303093,  1.5273058 ,  0.93221545,  1.3070538 ,\n",
       "         1.6087363 ,  2.057999  ,  2.7048361 ,  2.7421343 ,  3.4845133 ,\n",
       "         3.4429579 ,  3.5774105 ,  1.8821154 ,  2.026631  ,  2.4807732 ,\n",
       "         3.2160022 ,  2.5876534 ,  1.6627781 ,  1.8519295 ,  1.1159792 ,\n",
       "         2.171668  ,  1.8021693 ,  1.4717352 ,  1.2387544 ,  2.3066754 ,\n",
       "         1.9933681 ,  1.197572  ,  1.0970521 ,  2.0252733 ,  2.585576  ,\n",
       "         4.1890054 ,  5.4795275 ,  7.4323254 ,  9.39931   ,  9.068732  ,\n",
       "         9.597499  ,  8.849712  ,  5.8307877 ,  2.5807369 ,  2.1417818 ,\n",
       "         2.4432864 ,  3.593544  ,  4.597686  ,  5.0201764 ,  1.9381877 ,\n",
       "         1.5882853 ,  1.9803965 ,  2.0282826 ,  2.528214  ,  2.0408804 ,\n",
       "         2.852007  ,  2.9245698 ,  2.8770006 ,  1.8185068 ,  1.1461484 ,\n",
       "         2.4100912 ,  2.5290442 ,  2.583542  ,  3.102632  ,  3.0054646 ,\n",
       "         2.3797426 ,  2.4045227 ,  2.223481  ], dtype=float32)}"
      ]
     },
     "execution_count": 127,
     "metadata": {},
     "output_type": "execute_result"
    }
   ],
   "source": [
    "# Calculate model_3 results - these are going to be multi-dimensional because\n",
    "# we're trying to predict more than one step at a time.\n",
    "model_3_results = evaluate_preds(y_true=tf.squeeze(test_labels),\n",
    "                                 y_pred=model_3_preds)\n",
    "model_3_results"
   ]
  },
  {
   "cell_type": "code",
   "execution_count": 128,
   "metadata": {},
   "outputs": [],
   "source": [
    "def evaluate_preds(y_true, y_pred):\n",
    "  # Make sure float32 (for metric calculations)\n",
    "  y_true = tf.cast(y_true, dtype=tf.float32)\n",
    "  y_pred = tf.cast(y_pred, dtype=tf.float32)\n",
    "\n",
    "  # Calculate various metrics\n",
    "  mae = tf.keras.metrics.mean_absolute_error(y_true, y_pred)\n",
    "  mse = tf.keras.metrics.mean_squared_error(y_true, y_pred)\n",
    "  rmse = tf.sqrt(mse)\n",
    "  mape = tf.keras.metrics.mean_absolute_percentage_error(y_true, y_pred)\n",
    "\n",
    "  # Account for different sized metrics (for longer horizons, reduce to single number)\n",
    "  if mae.ndim > 0: # if mae isn't already a scalar, reduce it to one by aggregating tensors to mean\n",
    "    mae = tf.reduce_mean(mae)\n",
    "    mse = tf.reduce_mean(mse)\n",
    "    rmse = tf.reduce_mean(rmse)\n",
    "    mape = tf.reduce_mean(mape)\n",
    "\n",
    "  return {\"mae\": mae.numpy(),\n",
    "          \"mse\": mse.numpy(),\n",
    "          \"rmse\": rmse.numpy(),\n",
    "          \"mape\": mape.numpy(),}"
   ]
  },
  {
   "cell_type": "code",
   "execution_count": 129,
   "metadata": {},
   "outputs": [
    {
     "data": {
      "text/plain": [
       "{'mae': 1132.629, 'mse': 2976744.8, 'rmse': 1310.1124, 'mape': 4.181059}"
      ]
     },
     "execution_count": 129,
     "metadata": {},
     "output_type": "execute_result"
    }
   ],
   "source": [
    "# Get model_3 results aggregated to single values\n",
    "model_3_results = evaluate_preds(y_true=tf.squeeze(test_labels),\n",
    "                                 y_pred=model_3_preds)\n",
    "model_3_results\n"
   ]
  },
  {
   "cell_type": "code",
   "execution_count": 130,
   "metadata": {},
   "outputs": [
    {
     "data": {
      "image/png": "[encoded data removed]",
      "text/plain": [
       "<Figure size 1000x700 with 1 Axes>"
      ]
     },
     "metadata": {},
     "output_type": "display_data"
    }
   ],
   "source": [
    "offset = 300\n",
    "plt.figure(figsize=(10, 7))\n",
    "plot_time_series(timesteps=X_test[-len(test_windows):], values=test_labels[:, 0], start=offset, label=\"Test_data\")\n",
    "# Checking the shape of model_3_preds results in [n_test_samples, HORIZON] (this will screw up the plot)\n",
    "plot_time_series(timesteps=X_test[-len(test_windows):], values=model_3_preds, start=offset, label=\"model_3_preds\")\n",
    "     \n"
   ]
  },
  {
   "cell_type": "code",
   "execution_count": 131,
   "metadata": {},
   "outputs": [
    {
     "data": {
      "image/png": "[encoded data removed]",
      "text/plain": [
       "<Figure size 1000x700 with 1 Axes>"
      ]
     },
     "metadata": {},
     "output_type": "display_data"
    }
   ],
   "source": [
    "offset = 300\n",
    "plt.figure(figsize=(10, 7))\n",
    "# Plot model_3_preds by aggregating them (note: this condenses information so the preds will look fruther ahead than the test data)\n",
    "plot_time_series(timesteps=X_test[-len(test_windows):], \n",
    "                 values=test_labels[:, 0], \n",
    "                 start=offset, \n",
    "                 label=\"Test_data\")\n",
    "plot_time_series(timesteps=X_test[-len(test_windows):], \n",
    "                 values=tf.reduce_mean(model_3_preds, axis=1), \n",
    "                 format=\"-\",\n",
    "                 start=offset, \n",
    "                 label=\"model_3_preds\")\n"
   ]
  },
  {
   "cell_type": "code",
   "execution_count": 132,
   "metadata": {},
   "outputs": [
    {
     "data": {
      "image/png": "[encoded data removed]",
      "text/plain": [
       "<Figure size 1000x700 with 1 Axes>"
      ]
     },
     "metadata": {},
     "output_type": "display_data"
    }
   ],
   "source": [
    "pd.DataFrame({\n",
    "              \"horizon_1_window_7\": model_1_results[\"mae\"], \n",
    "               \n",
    "              \"horizon_7_window_30\": model_3_results[\"mae\"]}, index=[\"mae\"]).plot(figsize=(10, 7), kind=\"bar\");\n"
   ]
  },
  {
   "cell_type": "markdown",
   "metadata": {},
   "source": [
    "## Model 5  RNN (LSTM )"
   ]
  },
  {
   "cell_type": "code",
   "execution_count": 133,
   "metadata": {},
   "outputs": [
    {
     "name": "stdout",
     "output_type": "stream",
     "text": [
      "INFO:tensorflow:Assets written to: model_experiments/model_5_lstm/assets\n"
     ]
    },
    {
     "name": "stderr",
     "output_type": "stream",
     "text": [
      "INFO:tensorflow:Assets written to: model_experiments/model_5_lstm/assets\n"
     ]
    },
    {
     "name": "stdout",
     "output_type": "stream",
     "text": [
      "INFO:tensorflow:Assets written to: model_experiments/model_5_lstm/assets\n"
     ]
    },
    {
     "name": "stderr",
     "output_type": "stream",
     "text": [
      "INFO:tensorflow:Assets written to: model_experiments/model_5_lstm/assets\n"
     ]
    },
    {
     "name": "stdout",
     "output_type": "stream",
     "text": [
      "INFO:tensorflow:Assets written to: model_experiments/model_5_lstm/assets\n"
     ]
    },
    {
     "name": "stderr",
     "output_type": "stream",
     "text": [
      "INFO:tensorflow:Assets written to: model_experiments/model_5_lstm/assets\n"
     ]
    },
    {
     "name": "stdout",
     "output_type": "stream",
     "text": [
      "INFO:tensorflow:Assets written to: model_experiments/model_5_lstm/assets\n"
     ]
    },
    {
     "name": "stderr",
     "output_type": "stream",
     "text": [
      "INFO:tensorflow:Assets written to: model_experiments/model_5_lstm/assets\n"
     ]
    },
    {
     "name": "stdout",
     "output_type": "stream",
     "text": [
      "INFO:tensorflow:Assets written to: model_experiments/model_5_lstm/assets\n"
     ]
    },
    {
     "name": "stderr",
     "output_type": "stream",
     "text": [
      "INFO:tensorflow:Assets written to: model_experiments/model_5_lstm/assets\n"
     ]
    },
    {
     "name": "stdout",
     "output_type": "stream",
     "text": [
      "INFO:tensorflow:Assets written to: model_experiments/model_5_lstm/assets\n"
     ]
    },
    {
     "name": "stderr",
     "output_type": "stream",
     "text": [
      "INFO:tensorflow:Assets written to: model_experiments/model_5_lstm/assets\n"
     ]
    },
    {
     "name": "stdout",
     "output_type": "stream",
     "text": [
      "INFO:tensorflow:Assets written to: model_experiments/model_5_lstm/assets\n"
     ]
    },
    {
     "name": "stderr",
     "output_type": "stream",
     "text": [
      "INFO:tensorflow:Assets written to: model_experiments/model_5_lstm/assets\n"
     ]
    },
    {
     "name": "stdout",
     "output_type": "stream",
     "text": [
      "INFO:tensorflow:Assets written to: model_experiments/model_5_lstm/assets\n"
     ]
    },
    {
     "name": "stderr",
     "output_type": "stream",
     "text": [
      "INFO:tensorflow:Assets written to: model_experiments/model_5_lstm/assets\n"
     ]
    },
    {
     "name": "stdout",
     "output_type": "stream",
     "text": [
      "INFO:tensorflow:Assets written to: model_experiments/model_5_lstm/assets\n"
     ]
    },
    {
     "name": "stderr",
     "output_type": "stream",
     "text": [
      "INFO:tensorflow:Assets written to: model_experiments/model_5_lstm/assets\n"
     ]
    },
    {
     "name": "stdout",
     "output_type": "stream",
     "text": [
      "INFO:tensorflow:Assets written to: model_experiments/model_5_lstm/assets\n"
     ]
    },
    {
     "name": "stderr",
     "output_type": "stream",
     "text": [
      "INFO:tensorflow:Assets written to: model_experiments/model_5_lstm/assets\n"
     ]
    },
    {
     "name": "stdout",
     "output_type": "stream",
     "text": [
      "INFO:tensorflow:Assets written to: model_experiments/model_5_lstm/assets\n"
     ]
    },
    {
     "name": "stderr",
     "output_type": "stream",
     "text": [
      "INFO:tensorflow:Assets written to: model_experiments/model_5_lstm/assets\n"
     ]
    },
    {
     "name": "stdout",
     "output_type": "stream",
     "text": [
      "INFO:tensorflow:Assets written to: model_experiments/model_5_lstm/assets\n"
     ]
    },
    {
     "name": "stderr",
     "output_type": "stream",
     "text": [
      "INFO:tensorflow:Assets written to: model_experiments/model_5_lstm/assets\n"
     ]
    },
    {
     "name": "stdout",
     "output_type": "stream",
     "text": [
      "INFO:tensorflow:Assets written to: model_experiments/model_5_lstm/assets\n"
     ]
    },
    {
     "name": "stderr",
     "output_type": "stream",
     "text": [
      "INFO:tensorflow:Assets written to: model_experiments/model_5_lstm/assets\n"
     ]
    },
    {
     "name": "stdout",
     "output_type": "stream",
     "text": [
      "INFO:tensorflow:Assets written to: model_experiments/model_5_lstm/assets\n"
     ]
    },
    {
     "name": "stderr",
     "output_type": "stream",
     "text": [
      "INFO:tensorflow:Assets written to: model_experiments/model_5_lstm/assets\n"
     ]
    },
    {
     "name": "stdout",
     "output_type": "stream",
     "text": [
      "INFO:tensorflow:Assets written to: model_experiments/model_5_lstm/assets\n"
     ]
    },
    {
     "name": "stderr",
     "output_type": "stream",
     "text": [
      "INFO:tensorflow:Assets written to: model_experiments/model_5_lstm/assets\n"
     ]
    },
    {
     "name": "stdout",
     "output_type": "stream",
     "text": [
      "INFO:tensorflow:Assets written to: model_experiments/model_5_lstm/assets\n"
     ]
    },
    {
     "name": "stderr",
     "output_type": "stream",
     "text": [
      "INFO:tensorflow:Assets written to: model_experiments/model_5_lstm/assets\n"
     ]
    },
    {
     "name": "stdout",
     "output_type": "stream",
     "text": [
      "INFO:tensorflow:Assets written to: model_experiments/model_5_lstm/assets\n"
     ]
    },
    {
     "name": "stderr",
     "output_type": "stream",
     "text": [
      "INFO:tensorflow:Assets written to: model_experiments/model_5_lstm/assets\n"
     ]
    },
    {
     "name": "stdout",
     "output_type": "stream",
     "text": [
      "INFO:tensorflow:Assets written to: model_experiments/model_5_lstm/assets\n"
     ]
    },
    {
     "name": "stderr",
     "output_type": "stream",
     "text": [
      "INFO:tensorflow:Assets written to: model_experiments/model_5_lstm/assets\n"
     ]
    },
    {
     "name": "stdout",
     "output_type": "stream",
     "text": [
      "INFO:tensorflow:Assets written to: model_experiments/model_5_lstm/assets\n"
     ]
    },
    {
     "name": "stderr",
     "output_type": "stream",
     "text": [
      "INFO:tensorflow:Assets written to: model_experiments/model_5_lstm/assets\n"
     ]
    },
    {
     "name": "stdout",
     "output_type": "stream",
     "text": [
      "INFO:tensorflow:Assets written to: model_experiments/model_5_lstm/assets\n"
     ]
    },
    {
     "name": "stderr",
     "output_type": "stream",
     "text": [
      "INFO:tensorflow:Assets written to: model_experiments/model_5_lstm/assets\n"
     ]
    },
    {
     "name": "stdout",
     "output_type": "stream",
     "text": [
      "INFO:tensorflow:Assets written to: model_experiments/model_5_lstm/assets\n"
     ]
    },
    {
     "name": "stderr",
     "output_type": "stream",
     "text": [
      "INFO:tensorflow:Assets written to: model_experiments/model_5_lstm/assets\n"
     ]
    },
    {
     "name": "stdout",
     "output_type": "stream",
     "text": [
      "INFO:tensorflow:Assets written to: model_experiments/model_5_lstm/assets\n"
     ]
    },
    {
     "name": "stderr",
     "output_type": "stream",
     "text": [
      "INFO:tensorflow:Assets written to: model_experiments/model_5_lstm/assets\n"
     ]
    },
    {
     "name": "stdout",
     "output_type": "stream",
     "text": [
      "INFO:tensorflow:Assets written to: model_experiments/model_5_lstm/assets\n"
     ]
    },
    {
     "name": "stderr",
     "output_type": "stream",
     "text": [
      "INFO:tensorflow:Assets written to: model_experiments/model_5_lstm/assets\n"
     ]
    },
    {
     "name": "stdout",
     "output_type": "stream",
     "text": [
      "INFO:tensorflow:Assets written to: model_experiments/model_5_lstm/assets\n"
     ]
    },
    {
     "name": "stderr",
     "output_type": "stream",
     "text": [
      "INFO:tensorflow:Assets written to: model_experiments/model_5_lstm/assets\n"
     ]
    },
    {
     "name": "stdout",
     "output_type": "stream",
     "text": [
      "INFO:tensorflow:Assets written to: model_experiments/model_5_lstm/assets\n"
     ]
    },
    {
     "name": "stderr",
     "output_type": "stream",
     "text": [
      "INFO:tensorflow:Assets written to: model_experiments/model_5_lstm/assets\n"
     ]
    },
    {
     "name": "stdout",
     "output_type": "stream",
     "text": [
      "INFO:tensorflow:Assets written to: model_experiments/model_5_lstm/assets\n"
     ]
    },
    {
     "name": "stderr",
     "output_type": "stream",
     "text": [
      "INFO:tensorflow:Assets written to: model_experiments/model_5_lstm/assets\n"
     ]
    },
    {
     "name": "stdout",
     "output_type": "stream",
     "text": [
      "INFO:tensorflow:Assets written to: model_experiments/model_5_lstm/assets\n"
     ]
    },
    {
     "name": "stderr",
     "output_type": "stream",
     "text": [
      "INFO:tensorflow:Assets written to: model_experiments/model_5_lstm/assets\n"
     ]
    },
    {
     "name": "stdout",
     "output_type": "stream",
     "text": [
      "INFO:tensorflow:Assets written to: model_experiments/model_5_lstm/assets\n"
     ]
    },
    {
     "name": "stderr",
     "output_type": "stream",
     "text": [
      "INFO:tensorflow:Assets written to: model_experiments/model_5_lstm/assets\n"
     ]
    },
    {
     "name": "stdout",
     "output_type": "stream",
     "text": [
      "INFO:tensorflow:Assets written to: model_experiments/model_5_lstm/assets\n"
     ]
    },
    {
     "name": "stderr",
     "output_type": "stream",
     "text": [
      "INFO:tensorflow:Assets written to: model_experiments/model_5_lstm/assets\n"
     ]
    },
    {
     "name": "stdout",
     "output_type": "stream",
     "text": [
      "INFO:tensorflow:Assets written to: model_experiments/model_5_lstm/assets\n"
     ]
    },
    {
     "name": "stderr",
     "output_type": "stream",
     "text": [
      "INFO:tensorflow:Assets written to: model_experiments/model_5_lstm/assets\n"
     ]
    },
    {
     "name": "stdout",
     "output_type": "stream",
     "text": [
      "INFO:tensorflow:Assets written to: model_experiments/model_5_lstm/assets\n"
     ]
    },
    {
     "name": "stderr",
     "output_type": "stream",
     "text": [
      "INFO:tensorflow:Assets written to: model_experiments/model_5_lstm/assets\n"
     ]
    },
    {
     "name": "stdout",
     "output_type": "stream",
     "text": [
      "INFO:tensorflow:Assets written to: model_experiments/model_5_lstm/assets\n"
     ]
    },
    {
     "name": "stderr",
     "output_type": "stream",
     "text": [
      "INFO:tensorflow:Assets written to: model_experiments/model_5_lstm/assets\n"
     ]
    },
    {
     "name": "stdout",
     "output_type": "stream",
     "text": [
      "INFO:tensorflow:Assets written to: model_experiments/model_5_lstm/assets\n"
     ]
    },
    {
     "name": "stderr",
     "output_type": "stream",
     "text": [
      "INFO:tensorflow:Assets written to: model_experiments/model_5_lstm/assets\n"
     ]
    },
    {
     "name": "stdout",
     "output_type": "stream",
     "text": [
      "INFO:tensorflow:Assets written to: model_experiments/model_5_lstm/assets\n"
     ]
    },
    {
     "name": "stderr",
     "output_type": "stream",
     "text": [
      "INFO:tensorflow:Assets written to: model_experiments/model_5_lstm/assets\n"
     ]
    },
    {
     "name": "stdout",
     "output_type": "stream",
     "text": [
      "INFO:tensorflow:Assets written to: model_experiments/model_5_lstm/assets\n"
     ]
    },
    {
     "name": "stderr",
     "output_type": "stream",
     "text": [
      "INFO:tensorflow:Assets written to: model_experiments/model_5_lstm/assets\n"
     ]
    },
    {
     "data": {
      "text/plain": [
       "<keras.src.callbacks.History at 0x156286850>"
      ]
     },
     "execution_count": 133,
     "metadata": {},
     "output_type": "execute_result"
    }
   ],
   "source": [
    "tf.random.set_seed(42)\n",
    "\n",
    "# Let's build an LSTM model with the Functional API\n",
    "inputs = layers.Input(shape=(WINDOW_SIZE))\n",
    "x = layers.Lambda(lambda x: tf.expand_dims(x, axis=1))(inputs) # expand input dimension to be compatible with LSTM\n",
    "# print(x.shape)\n",
    "# x = layers.LSTM(128, activation=\"relu\", return_sequences=True)(x) # this layer will error if the inputs are not the right shape\n",
    "x = layers.LSTM(128, activation=\"relu\")(x) # using the tanh loss function results in a massive error\n",
    "# print(x.shape)\n",
    "# Add another optional dense layer (you could add more of these to see if they improve model performance)\n",
    "# x = layers.Dense(32, activation=\"relu\")(x)\n",
    "output = layers.Dense(HORIZON)(x)\n",
    "model_5 = tf.keras.Model(inputs=inputs, outputs=output, name=\"model_5_lstm\")\n",
    "\n",
    "# Compile model\n",
    "model_5.compile(loss=\"mae\",\n",
    "                optimizer=tf.keras.optimizers.Adam())\n",
    "\n",
    "# Seems when saving the model several warnings are appearing: https://github.com/tensorflow/tensorflow/issues/47554 \n",
    "model_5.fit(train_windows,\n",
    "            train_labels,\n",
    "            epochs=100,\n",
    "            verbose=0,\n",
    "            batch_size=128,\n",
    "            validation_data=(test_windows, test_labels),\n",
    "            callbacks=[create_model_checkpoint(model_name=model_5.name)])\n",
    "     \n"
   ]
  },
  {
   "cell_type": "code",
   "execution_count": 134,
   "metadata": {},
   "outputs": [
    {
     "name": "stdout",
     "output_type": "stream",
     "text": [
      "22/22 [==============================] - 0s 2ms/step - loss: 1173.3706\n"
     ]
    },
    {
     "data": {
      "text/plain": [
       "1173.37060546875"
      ]
     },
     "execution_count": 134,
     "metadata": {},
     "output_type": "execute_result"
    }
   ],
   "source": [
    "\n",
    "# Load in best version of model 5 and evaluate on the test data\n",
    "model_5 = tf.keras.models.load_model(\"model_experiments/model_5_lstm/\")\n",
    "model_5.evaluate(test_windows, test_labels)"
   ]
  },
  {
   "cell_type": "code",
   "execution_count": 135,
   "metadata": {},
   "outputs": [
    {
     "name": "stdout",
     "output_type": "stream",
     "text": [
      "22/22 [==============================] - 0s 1ms/step\n"
     ]
    },
    {
     "data": {
      "text/plain": [
       "<tf.Tensor: shape=(10, 7), dtype=float32, numpy=\n",
       "array([[38497.027, 38176.363, 38394.31 , 38221.305, 38041.4  , 38394.05 ,\n",
       "        37904.184],\n",
       "       [38356.71 , 38323.56 , 38521.074, 38130.234, 38082.93 , 38454.996,\n",
       "        38139.79 ],\n",
       "       [38050.996, 37884.22 , 38236.586, 37981.074, 37648.523, 38163.656,\n",
       "        37809.367],\n",
       "       [39512.465, 39843.7  , 40556.19 , 40058.562, 39192.582, 40246.48 ,\n",
       "        39935.277],\n",
       "       [40975.004, 41281.992, 42107.14 , 41349.73 , 40543.062, 41718.855,\n",
       "        41515.938],\n",
       "       [41906.69 , 42120.63 , 43201.84 , 42328.78 , 41337.277, 43183.254,\n",
       "        42539.492],\n",
       "       [42267.832, 42594.316, 43200.625, 43309.832, 41443.957, 43412.695,\n",
       "        43196.703],\n",
       "       [41649.902, 41495.637, 42074.984, 42315.445, 41136.926, 42151.875,\n",
       "        42168.586],\n",
       "       [41156.984, 40738.688, 41388.676, 41273.22 , 40583.5  , 41612.625,\n",
       "        41190.125],\n",
       "       [40444.965, 39902.555, 40137.117, 40368.26 , 39653.13 , 40968.93 ,\n",
       "        40239.023]], dtype=float32)>"
      ]
     },
     "execution_count": 135,
     "metadata": {},
     "output_type": "execute_result"
    }
   ],
   "source": [
    "\n",
    "# Make predictions with our LSTM model\n",
    "model_5_preds = make_preds(model_5, test_windows)\n",
    "model_5_preds[:10]"
   ]
  },
  {
   "cell_type": "code",
   "execution_count": 136,
   "metadata": {},
   "outputs": [
    {
     "data": {
      "text/plain": [
       "{'mae': 1173.3707, 'mse': 3233809.0, 'rmse': 1332.8015, 'mape': 4.3315363}"
      ]
     },
     "execution_count": 136,
     "metadata": {},
     "output_type": "execute_result"
    }
   ],
   "source": [
    "# Evaluate model 5 preds\n",
    "model_5_results = evaluate_preds(y_true=tf.squeeze(test_labels),\n",
    "                                 y_pred=model_5_preds)\n",
    "model_5_results\n"
   ]
  },
  {
   "cell_type": "markdown",
   "metadata": {},
   "source": [
    "# Multivariate time series "
   ]
  },
  {
   "cell_type": "code",
   "execution_count": 137,
   "metadata": {},
   "outputs": [
    {
     "data": {
      "text/html": [
       "<div>\n",
       "<style scoped>\n",
       "    .dataframe tbody tr th:only-of-type {\n",
       "        vertical-align: middle;\n",
       "    }\n",
       "\n",
       "    .dataframe tbody tr th {\n",
       "        vertical-align: top;\n",
       "    }\n",
       "\n",
       "    .dataframe thead th {\n",
       "        text-align: right;\n",
       "    }\n",
       "</style>\n",
       "<table border=\"1\" class=\"dataframe\">\n",
       "  <thead>\n",
       "    <tr style=\"text-align: right;\">\n",
       "      <th></th>\n",
       "      <th>Price</th>\n",
       "    </tr>\n",
       "    <tr>\n",
       "      <th>Date</th>\n",
       "      <th></th>\n",
       "    </tr>\n",
       "  </thead>\n",
       "  <tbody>\n",
       "    <tr>\n",
       "      <th>2014-09-17</th>\n",
       "      <td>457.334015</td>\n",
       "    </tr>\n",
       "    <tr>\n",
       "      <th>2014-09-18</th>\n",
       "      <td>424.440002</td>\n",
       "    </tr>\n",
       "    <tr>\n",
       "      <th>2014-09-19</th>\n",
       "      <td>394.795990</td>\n",
       "    </tr>\n",
       "    <tr>\n",
       "      <th>2014-09-20</th>\n",
       "      <td>408.903992</td>\n",
       "    </tr>\n",
       "    <tr>\n",
       "      <th>2014-09-21</th>\n",
       "      <td>398.821014</td>\n",
       "    </tr>\n",
       "  </tbody>\n",
       "</table>\n",
       "</div>"
      ],
      "text/plain": [
       "                 Price\n",
       "Date                  \n",
       "2014-09-17  457.334015\n",
       "2014-09-18  424.440002\n",
       "2014-09-19  394.795990\n",
       "2014-09-20  408.903992\n",
       "2014-09-21  398.821014"
      ]
     },
     "execution_count": 137,
     "metadata": {},
     "output_type": "execute_result"
    }
   ],
   "source": [
    "\n",
    "# Let's make a multivariate time series\n",
    "bitcoin_prices.head()"
   ]
  },
  {
   "cell_type": "code",
   "execution_count": 138,
   "metadata": {},
   "outputs": [
    {
     "data": {
      "text/html": [
       "<div>\n",
       "<style scoped>\n",
       "    .dataframe tbody tr th:only-of-type {\n",
       "        vertical-align: middle;\n",
       "    }\n",
       "\n",
       "    .dataframe tbody tr th {\n",
       "        vertical-align: top;\n",
       "    }\n",
       "\n",
       "    .dataframe thead th {\n",
       "        text-align: right;\n",
       "    }\n",
       "</style>\n",
       "<table border=\"1\" class=\"dataframe\">\n",
       "  <thead>\n",
       "    <tr style=\"text-align: right;\">\n",
       "      <th></th>\n",
       "      <th>Price</th>\n",
       "      <th>block_reward</th>\n",
       "    </tr>\n",
       "    <tr>\n",
       "      <th>Date</th>\n",
       "      <th></th>\n",
       "      <th></th>\n",
       "    </tr>\n",
       "  </thead>\n",
       "  <tbody>\n",
       "    <tr>\n",
       "      <th>2014-09-17</th>\n",
       "      <td>457.334015</td>\n",
       "      <td>25</td>\n",
       "    </tr>\n",
       "    <tr>\n",
       "      <th>2014-09-18</th>\n",
       "      <td>424.440002</td>\n",
       "      <td>25</td>\n",
       "    </tr>\n",
       "    <tr>\n",
       "      <th>2014-09-19</th>\n",
       "      <td>394.795990</td>\n",
       "      <td>25</td>\n",
       "    </tr>\n",
       "    <tr>\n",
       "      <th>2014-09-20</th>\n",
       "      <td>408.903992</td>\n",
       "      <td>25</td>\n",
       "    </tr>\n",
       "    <tr>\n",
       "      <th>2014-09-21</th>\n",
       "      <td>398.821014</td>\n",
       "      <td>25</td>\n",
       "    </tr>\n",
       "  </tbody>\n",
       "</table>\n",
       "</div>"
      ],
      "text/plain": [
       "                 Price block_reward\n",
       "Date                               \n",
       "2014-09-17  457.334015           25\n",
       "2014-09-18  424.440002           25\n",
       "2014-09-19  394.795990           25\n",
       "2014-09-20  408.903992           25\n",
       "2014-09-21  398.821014           25"
      ]
     },
     "execution_count": 138,
     "metadata": {},
     "output_type": "execute_result"
    }
   ],
   "source": [
    "# Block reward values\n",
    "block_reward_1 = 50 # 3 January 2009 (2009-01-03) - this block reward isn't in our dataset (it starts from 01 October 2013)\n",
    "block_reward_2 = 25 # 28 November 2012 \n",
    "block_reward_3 = 12.5 # 9 July 2016\n",
    "block_reward_4 = 6.25 # 11 May 2020\n",
    "\n",
    "# Block reward dates (datetime form of the above date stamps)\n",
    "block_reward_2_datetime = np.datetime64(\"2012-11-28\")\n",
    "block_reward_3_datetime = np.datetime64(\"2016-07-09\")\n",
    "block_reward_4_datetime = np.datetime64(\"2020-05-11\")\n",
    "\n",
    "\n",
    "\n",
    "# Get date indexes for when to add in different block dates\n",
    "block_reward_2_days = (block_reward_3_datetime - bitcoin_prices.index[0]).days\n",
    "block_reward_3_days = (block_reward_4_datetime - bitcoin_prices.index[0]).days\n",
    "#block_reward_2_days, block_reward_3_days\n",
    "\n",
    "\n",
    "# Add block_reward column\n",
    "bitcoin_prices_block = bitcoin_prices.copy()\n",
    "bitcoin_prices_block[\"block_reward\"] = None\n",
    "\n",
    "# Set values of block_reward column (it's the last column hence -1 indexing on iloc)\n",
    "bitcoin_prices_block.iloc[:block_reward_2_days, -1] = block_reward_2\n",
    "bitcoin_prices_block.iloc[block_reward_2_days:block_reward_3_days, -1] = block_reward_3\n",
    "bitcoin_prices_block.iloc[block_reward_3_days:, -1] = block_reward_4\n",
    "bitcoin_prices_block.head()"
   ]
  },
  {
   "cell_type": "code",
   "execution_count": 139,
   "metadata": {},
   "outputs": [
    {
     "data": {
      "image/png": "[encoded data removed]",
      "text/plain": [
       "<Figure size 1000x700 with 1 Axes>"
      ]
     },
     "metadata": {},
     "output_type": "display_data"
    }
   ],
   "source": [
    "\n",
    "# Plot the block reward/price over time\n",
    "# Note: Because of the different scales of our values we'll scale them to be between 0 and 1.\n",
    "from sklearn.preprocessing import minmax_scale\n",
    "scaled_price_block_df = pd.DataFrame(minmax_scale(bitcoin_prices_block[[\"Price\", \"block_reward\"]]), # we need to scale the data first\n",
    "                                     columns=bitcoin_prices_block.columns,\n",
    "                                     index=bitcoin_prices_block.index)\n",
    "scaled_price_block_df.plot(figsize=(10, 7));"
   ]
  },
  {
   "cell_type": "code",
   "execution_count": 140,
   "metadata": {},
   "outputs": [],
   "source": [
    "\n",
    "# Setup dataset hyperparameters\n",
    "HORIZON = 1\n",
    "WINDOW_SIZE = 7"
   ]
  },
  {
   "cell_type": "code",
   "execution_count": 141,
   "metadata": {},
   "outputs": [
    {
     "data": {
      "text/html": [
       "<div>\n",
       "<style scoped>\n",
       "    .dataframe tbody tr th:only-of-type {\n",
       "        vertical-align: middle;\n",
       "    }\n",
       "\n",
       "    .dataframe tbody tr th {\n",
       "        vertical-align: top;\n",
       "    }\n",
       "\n",
       "    .dataframe thead th {\n",
       "        text-align: right;\n",
       "    }\n",
       "</style>\n",
       "<table border=\"1\" class=\"dataframe\">\n",
       "  <thead>\n",
       "    <tr style=\"text-align: right;\">\n",
       "      <th></th>\n",
       "      <th>Price</th>\n",
       "      <th>block_reward</th>\n",
       "      <th>Price+1</th>\n",
       "      <th>Price+2</th>\n",
       "      <th>Price+3</th>\n",
       "      <th>Price+4</th>\n",
       "      <th>Price+5</th>\n",
       "      <th>Price+6</th>\n",
       "      <th>Price+7</th>\n",
       "    </tr>\n",
       "    <tr>\n",
       "      <th>Date</th>\n",
       "      <th></th>\n",
       "      <th></th>\n",
       "      <th></th>\n",
       "      <th></th>\n",
       "      <th></th>\n",
       "      <th></th>\n",
       "      <th></th>\n",
       "      <th></th>\n",
       "      <th></th>\n",
       "    </tr>\n",
       "  </thead>\n",
       "  <tbody>\n",
       "    <tr>\n",
       "      <th>2014-09-17</th>\n",
       "      <td>457.334015</td>\n",
       "      <td>25</td>\n",
       "      <td>NaN</td>\n",
       "      <td>NaN</td>\n",
       "      <td>NaN</td>\n",
       "      <td>NaN</td>\n",
       "      <td>NaN</td>\n",
       "      <td>NaN</td>\n",
       "      <td>NaN</td>\n",
       "    </tr>\n",
       "    <tr>\n",
       "      <th>2014-09-18</th>\n",
       "      <td>424.440002</td>\n",
       "      <td>25</td>\n",
       "      <td>457.334015</td>\n",
       "      <td>NaN</td>\n",
       "      <td>NaN</td>\n",
       "      <td>NaN</td>\n",
       "      <td>NaN</td>\n",
       "      <td>NaN</td>\n",
       "      <td>NaN</td>\n",
       "    </tr>\n",
       "    <tr>\n",
       "      <th>2014-09-19</th>\n",
       "      <td>394.795990</td>\n",
       "      <td>25</td>\n",
       "      <td>424.440002</td>\n",
       "      <td>457.334015</td>\n",
       "      <td>NaN</td>\n",
       "      <td>NaN</td>\n",
       "      <td>NaN</td>\n",
       "      <td>NaN</td>\n",
       "      <td>NaN</td>\n",
       "    </tr>\n",
       "    <tr>\n",
       "      <th>2014-09-20</th>\n",
       "      <td>408.903992</td>\n",
       "      <td>25</td>\n",
       "      <td>394.795990</td>\n",
       "      <td>424.440002</td>\n",
       "      <td>457.334015</td>\n",
       "      <td>NaN</td>\n",
       "      <td>NaN</td>\n",
       "      <td>NaN</td>\n",
       "      <td>NaN</td>\n",
       "    </tr>\n",
       "    <tr>\n",
       "      <th>2014-09-21</th>\n",
       "      <td>398.821014</td>\n",
       "      <td>25</td>\n",
       "      <td>408.903992</td>\n",
       "      <td>394.795990</td>\n",
       "      <td>424.440002</td>\n",
       "      <td>457.334015</td>\n",
       "      <td>NaN</td>\n",
       "      <td>NaN</td>\n",
       "      <td>NaN</td>\n",
       "    </tr>\n",
       "    <tr>\n",
       "      <th>2014-09-22</th>\n",
       "      <td>402.152008</td>\n",
       "      <td>25</td>\n",
       "      <td>398.821014</td>\n",
       "      <td>408.903992</td>\n",
       "      <td>394.795990</td>\n",
       "      <td>424.440002</td>\n",
       "      <td>457.334015</td>\n",
       "      <td>NaN</td>\n",
       "      <td>NaN</td>\n",
       "    </tr>\n",
       "    <tr>\n",
       "      <th>2014-09-23</th>\n",
       "      <td>435.790985</td>\n",
       "      <td>25</td>\n",
       "      <td>402.152008</td>\n",
       "      <td>398.821014</td>\n",
       "      <td>408.903992</td>\n",
       "      <td>394.795990</td>\n",
       "      <td>424.440002</td>\n",
       "      <td>457.334015</td>\n",
       "      <td>NaN</td>\n",
       "    </tr>\n",
       "    <tr>\n",
       "      <th>2014-09-24</th>\n",
       "      <td>423.204987</td>\n",
       "      <td>25</td>\n",
       "      <td>435.790985</td>\n",
       "      <td>402.152008</td>\n",
       "      <td>398.821014</td>\n",
       "      <td>408.903992</td>\n",
       "      <td>394.795990</td>\n",
       "      <td>424.440002</td>\n",
       "      <td>457.334015</td>\n",
       "    </tr>\n",
       "    <tr>\n",
       "      <th>2014-09-25</th>\n",
       "      <td>411.574005</td>\n",
       "      <td>25</td>\n",
       "      <td>423.204987</td>\n",
       "      <td>435.790985</td>\n",
       "      <td>402.152008</td>\n",
       "      <td>398.821014</td>\n",
       "      <td>408.903992</td>\n",
       "      <td>394.795990</td>\n",
       "      <td>424.440002</td>\n",
       "    </tr>\n",
       "    <tr>\n",
       "      <th>2014-09-26</th>\n",
       "      <td>404.424988</td>\n",
       "      <td>25</td>\n",
       "      <td>411.574005</td>\n",
       "      <td>423.204987</td>\n",
       "      <td>435.790985</td>\n",
       "      <td>402.152008</td>\n",
       "      <td>398.821014</td>\n",
       "      <td>408.903992</td>\n",
       "      <td>394.795990</td>\n",
       "    </tr>\n",
       "  </tbody>\n",
       "</table>\n",
       "</div>"
      ],
      "text/plain": [
       "                 Price block_reward     Price+1     Price+2     Price+3  \\\n",
       "Date                                                                      \n",
       "2014-09-17  457.334015           25         NaN         NaN         NaN   \n",
       "2014-09-18  424.440002           25  457.334015         NaN         NaN   \n",
       "2014-09-19  394.795990           25  424.440002  457.334015         NaN   \n",
       "2014-09-20  408.903992           25  394.795990  424.440002  457.334015   \n",
       "2014-09-21  398.821014           25  408.903992  394.795990  424.440002   \n",
       "2014-09-22  402.152008           25  398.821014  408.903992  394.795990   \n",
       "2014-09-23  435.790985           25  402.152008  398.821014  408.903992   \n",
       "2014-09-24  423.204987           25  435.790985  402.152008  398.821014   \n",
       "2014-09-25  411.574005           25  423.204987  435.790985  402.152008   \n",
       "2014-09-26  404.424988           25  411.574005  423.204987  435.790985   \n",
       "\n",
       "               Price+4     Price+5     Price+6     Price+7  \n",
       "Date                                                        \n",
       "2014-09-17         NaN         NaN         NaN         NaN  \n",
       "2014-09-18         NaN         NaN         NaN         NaN  \n",
       "2014-09-19         NaN         NaN         NaN         NaN  \n",
       "2014-09-20         NaN         NaN         NaN         NaN  \n",
       "2014-09-21  457.334015         NaN         NaN         NaN  \n",
       "2014-09-22  424.440002  457.334015         NaN         NaN  \n",
       "2014-09-23  394.795990  424.440002  457.334015         NaN  \n",
       "2014-09-24  408.903992  394.795990  424.440002  457.334015  \n",
       "2014-09-25  398.821014  408.903992  394.795990  424.440002  \n",
       "2014-09-26  402.152008  398.821014  408.903992  394.795990  "
      ]
     },
     "execution_count": 141,
     "metadata": {},
     "output_type": "execute_result"
    }
   ],
   "source": [
    "# Make a copy of the Bitcoin historical data with block reward feature\n",
    "bitcoin_prices_windowed = bitcoin_prices_block.copy()\n",
    "\n",
    "# Add windowed columns\n",
    "for i in range(WINDOW_SIZE): # Shift values for each step in WINDOW_SIZE\n",
    "  bitcoin_prices_windowed[f\"Price+{i+1}\"] = bitcoin_prices_windowed[\"Price\"].shift(periods=i+1)\n",
    "bitcoin_prices_windowed.head(10)"
   ]
  },
  {
   "cell_type": "code",
   "execution_count": 142,
   "metadata": {},
   "outputs": [
    {
     "data": {
      "text/html": [
       "<div>\n",
       "<style scoped>\n",
       "    .dataframe tbody tr th:only-of-type {\n",
       "        vertical-align: middle;\n",
       "    }\n",
       "\n",
       "    .dataframe tbody tr th {\n",
       "        vertical-align: top;\n",
       "    }\n",
       "\n",
       "    .dataframe thead th {\n",
       "        text-align: right;\n",
       "    }\n",
       "</style>\n",
       "<table border=\"1\" class=\"dataframe\">\n",
       "  <thead>\n",
       "    <tr style=\"text-align: right;\">\n",
       "      <th></th>\n",
       "      <th>block_reward</th>\n",
       "      <th>Price+1</th>\n",
       "      <th>Price+2</th>\n",
       "      <th>Price+3</th>\n",
       "      <th>Price+4</th>\n",
       "      <th>Price+5</th>\n",
       "      <th>Price+6</th>\n",
       "      <th>Price+7</th>\n",
       "    </tr>\n",
       "    <tr>\n",
       "      <th>Date</th>\n",
       "      <th></th>\n",
       "      <th></th>\n",
       "      <th></th>\n",
       "      <th></th>\n",
       "      <th></th>\n",
       "      <th></th>\n",
       "      <th></th>\n",
       "      <th></th>\n",
       "    </tr>\n",
       "  </thead>\n",
       "  <tbody>\n",
       "    <tr>\n",
       "      <th>2014-09-24</th>\n",
       "      <td>25.0</td>\n",
       "      <td>435.790985</td>\n",
       "      <td>402.152008</td>\n",
       "      <td>398.821014</td>\n",
       "      <td>408.903992</td>\n",
       "      <td>394.795990</td>\n",
       "      <td>424.440002</td>\n",
       "      <td>457.334015</td>\n",
       "    </tr>\n",
       "    <tr>\n",
       "      <th>2014-09-25</th>\n",
       "      <td>25.0</td>\n",
       "      <td>423.204987</td>\n",
       "      <td>435.790985</td>\n",
       "      <td>402.152008</td>\n",
       "      <td>398.821014</td>\n",
       "      <td>408.903992</td>\n",
       "      <td>394.795990</td>\n",
       "      <td>424.440002</td>\n",
       "    </tr>\n",
       "    <tr>\n",
       "      <th>2014-09-26</th>\n",
       "      <td>25.0</td>\n",
       "      <td>411.574005</td>\n",
       "      <td>423.204987</td>\n",
       "      <td>435.790985</td>\n",
       "      <td>402.152008</td>\n",
       "      <td>398.821014</td>\n",
       "      <td>408.903992</td>\n",
       "      <td>394.795990</td>\n",
       "    </tr>\n",
       "    <tr>\n",
       "      <th>2014-09-27</th>\n",
       "      <td>25.0</td>\n",
       "      <td>404.424988</td>\n",
       "      <td>411.574005</td>\n",
       "      <td>423.204987</td>\n",
       "      <td>435.790985</td>\n",
       "      <td>402.152008</td>\n",
       "      <td>398.821014</td>\n",
       "      <td>408.903992</td>\n",
       "    </tr>\n",
       "    <tr>\n",
       "      <th>2014-09-28</th>\n",
       "      <td>25.0</td>\n",
       "      <td>399.519989</td>\n",
       "      <td>404.424988</td>\n",
       "      <td>411.574005</td>\n",
       "      <td>423.204987</td>\n",
       "      <td>435.790985</td>\n",
       "      <td>402.152008</td>\n",
       "      <td>398.821014</td>\n",
       "    </tr>\n",
       "  </tbody>\n",
       "</table>\n",
       "</div>"
      ],
      "text/plain": [
       "            block_reward     Price+1     Price+2     Price+3     Price+4  \\\n",
       "Date                                                                       \n",
       "2014-09-24          25.0  435.790985  402.152008  398.821014  408.903992   \n",
       "2014-09-25          25.0  423.204987  435.790985  402.152008  398.821014   \n",
       "2014-09-26          25.0  411.574005  423.204987  435.790985  402.152008   \n",
       "2014-09-27          25.0  404.424988  411.574005  423.204987  435.790985   \n",
       "2014-09-28          25.0  399.519989  404.424988  411.574005  423.204987   \n",
       "\n",
       "               Price+5     Price+6     Price+7  \n",
       "Date                                            \n",
       "2014-09-24  394.795990  424.440002  457.334015  \n",
       "2014-09-25  408.903992  394.795990  424.440002  \n",
       "2014-09-26  398.821014  408.903992  394.795990  \n",
       "2014-09-27  402.152008  398.821014  408.903992  \n",
       "2014-09-28  435.790985  402.152008  398.821014  "
      ]
     },
     "execution_count": 142,
     "metadata": {},
     "output_type": "execute_result"
    }
   ],
   "source": [
    "\n",
    "\n",
    "# Let's create X & y, remove the NaN's and convert to float32 to prevent TensorFlow errors \n",
    "X = bitcoin_prices_windowed.dropna().drop(\"Price\", axis=1).astype(np.float32) \n",
    "y = bitcoin_prices_windowed.dropna()[\"Price\"].astype(np.float32)\n",
    "X.head()"
   ]
  },
  {
   "cell_type": "code",
   "execution_count": 143,
   "metadata": {},
   "outputs": [
    {
     "data": {
      "text/plain": [
       "Date\n",
       "2014-09-24    423.204987\n",
       "2014-09-25    411.574005\n",
       "2014-09-26    404.424988\n",
       "2014-09-27    399.519989\n",
       "2014-09-28    377.181000\n",
       "Name: Price, dtype: float32"
      ]
     },
     "execution_count": 143,
     "metadata": {},
     "output_type": "execute_result"
    }
   ],
   "source": [
    "# View labels\n",
    "y.head()\n"
   ]
  },
  {
   "cell_type": "code",
   "execution_count": 144,
   "metadata": {},
   "outputs": [
    {
     "data": {
      "text/plain": [
       "(2712, 2712, 679, 679)"
      ]
     },
     "execution_count": 144,
     "metadata": {},
     "output_type": "execute_result"
    }
   ],
   "source": [
    "\n",
    "# Make train and test sets\n",
    "split_size = int(len(X) * 0.8)\n",
    "X_train, y_train = X[:split_size], y[:split_size]\n",
    "X_test, y_test = X[split_size:], y[split_size:]\n",
    "len(X_train), len(y_train), len(X_test), len(y_test)"
   ]
  },
  {
   "cell_type": "markdown",
   "metadata": {},
   "source": [
    "## model 6 Multivariate time series (DENSE)"
   ]
  },
  {
   "cell_type": "code",
   "execution_count": 145,
   "metadata": {},
   "outputs": [
    {
     "name": "stdout",
     "output_type": "stream",
     "text": [
      "INFO:tensorflow:Assets written to: model_experiments/model_6_dense_multivariate/assets\n"
     ]
    },
    {
     "name": "stderr",
     "output_type": "stream",
     "text": [
      "INFO:tensorflow:Assets written to: model_experiments/model_6_dense_multivariate/assets\n"
     ]
    },
    {
     "name": "stdout",
     "output_type": "stream",
     "text": [
      "INFO:tensorflow:Assets written to: model_experiments/model_6_dense_multivariate/assets\n"
     ]
    },
    {
     "name": "stderr",
     "output_type": "stream",
     "text": [
      "INFO:tensorflow:Assets written to: model_experiments/model_6_dense_multivariate/assets\n"
     ]
    },
    {
     "name": "stdout",
     "output_type": "stream",
     "text": [
      "INFO:tensorflow:Assets written to: model_experiments/model_6_dense_multivariate/assets\n"
     ]
    },
    {
     "name": "stderr",
     "output_type": "stream",
     "text": [
      "INFO:tensorflow:Assets written to: model_experiments/model_6_dense_multivariate/assets\n"
     ]
    },
    {
     "name": "stdout",
     "output_type": "stream",
     "text": [
      "INFO:tensorflow:Assets written to: model_experiments/model_6_dense_multivariate/assets\n"
     ]
    },
    {
     "name": "stderr",
     "output_type": "stream",
     "text": [
      "INFO:tensorflow:Assets written to: model_experiments/model_6_dense_multivariate/assets\n"
     ]
    },
    {
     "name": "stdout",
     "output_type": "stream",
     "text": [
      "INFO:tensorflow:Assets written to: model_experiments/model_6_dense_multivariate/assets\n"
     ]
    },
    {
     "name": "stderr",
     "output_type": "stream",
     "text": [
      "INFO:tensorflow:Assets written to: model_experiments/model_6_dense_multivariate/assets\n"
     ]
    },
    {
     "name": "stdout",
     "output_type": "stream",
     "text": [
      "INFO:tensorflow:Assets written to: model_experiments/model_6_dense_multivariate/assets\n"
     ]
    },
    {
     "name": "stderr",
     "output_type": "stream",
     "text": [
      "INFO:tensorflow:Assets written to: model_experiments/model_6_dense_multivariate/assets\n"
     ]
    },
    {
     "name": "stdout",
     "output_type": "stream",
     "text": [
      "INFO:tensorflow:Assets written to: model_experiments/model_6_dense_multivariate/assets\n"
     ]
    },
    {
     "name": "stderr",
     "output_type": "stream",
     "text": [
      "INFO:tensorflow:Assets written to: model_experiments/model_6_dense_multivariate/assets\n"
     ]
    },
    {
     "name": "stdout",
     "output_type": "stream",
     "text": [
      "INFO:tensorflow:Assets written to: model_experiments/model_6_dense_multivariate/assets\n"
     ]
    },
    {
     "name": "stderr",
     "output_type": "stream",
     "text": [
      "INFO:tensorflow:Assets written to: model_experiments/model_6_dense_multivariate/assets\n"
     ]
    },
    {
     "name": "stdout",
     "output_type": "stream",
     "text": [
      "INFO:tensorflow:Assets written to: model_experiments/model_6_dense_multivariate/assets\n"
     ]
    },
    {
     "name": "stderr",
     "output_type": "stream",
     "text": [
      "INFO:tensorflow:Assets written to: model_experiments/model_6_dense_multivariate/assets\n"
     ]
    },
    {
     "name": "stdout",
     "output_type": "stream",
     "text": [
      "INFO:tensorflow:Assets written to: model_experiments/model_6_dense_multivariate/assets\n"
     ]
    },
    {
     "name": "stderr",
     "output_type": "stream",
     "text": [
      "INFO:tensorflow:Assets written to: model_experiments/model_6_dense_multivariate/assets\n"
     ]
    },
    {
     "name": "stdout",
     "output_type": "stream",
     "text": [
      "INFO:tensorflow:Assets written to: model_experiments/model_6_dense_multivariate/assets\n"
     ]
    },
    {
     "name": "stderr",
     "output_type": "stream",
     "text": [
      "INFO:tensorflow:Assets written to: model_experiments/model_6_dense_multivariate/assets\n"
     ]
    },
    {
     "name": "stdout",
     "output_type": "stream",
     "text": [
      "INFO:tensorflow:Assets written to: model_experiments/model_6_dense_multivariate/assets\n"
     ]
    },
    {
     "name": "stderr",
     "output_type": "stream",
     "text": [
      "INFO:tensorflow:Assets written to: model_experiments/model_6_dense_multivariate/assets\n"
     ]
    },
    {
     "name": "stdout",
     "output_type": "stream",
     "text": [
      "INFO:tensorflow:Assets written to: model_experiments/model_6_dense_multivariate/assets\n"
     ]
    },
    {
     "name": "stderr",
     "output_type": "stream",
     "text": [
      "INFO:tensorflow:Assets written to: model_experiments/model_6_dense_multivariate/assets\n"
     ]
    },
    {
     "name": "stdout",
     "output_type": "stream",
     "text": [
      "INFO:tensorflow:Assets written to: model_experiments/model_6_dense_multivariate/assets\n"
     ]
    },
    {
     "name": "stderr",
     "output_type": "stream",
     "text": [
      "INFO:tensorflow:Assets written to: model_experiments/model_6_dense_multivariate/assets\n"
     ]
    },
    {
     "name": "stdout",
     "output_type": "stream",
     "text": [
      "INFO:tensorflow:Assets written to: model_experiments/model_6_dense_multivariate/assets\n"
     ]
    },
    {
     "name": "stderr",
     "output_type": "stream",
     "text": [
      "INFO:tensorflow:Assets written to: model_experiments/model_6_dense_multivariate/assets\n"
     ]
    },
    {
     "name": "stdout",
     "output_type": "stream",
     "text": [
      "INFO:tensorflow:Assets written to: model_experiments/model_6_dense_multivariate/assets\n"
     ]
    },
    {
     "name": "stderr",
     "output_type": "stream",
     "text": [
      "INFO:tensorflow:Assets written to: model_experiments/model_6_dense_multivariate/assets\n"
     ]
    },
    {
     "name": "stdout",
     "output_type": "stream",
     "text": [
      "INFO:tensorflow:Assets written to: model_experiments/model_6_dense_multivariate/assets\n"
     ]
    },
    {
     "name": "stderr",
     "output_type": "stream",
     "text": [
      "INFO:tensorflow:Assets written to: model_experiments/model_6_dense_multivariate/assets\n"
     ]
    },
    {
     "name": "stdout",
     "output_type": "stream",
     "text": [
      "INFO:tensorflow:Assets written to: model_experiments/model_6_dense_multivariate/assets\n"
     ]
    },
    {
     "name": "stderr",
     "output_type": "stream",
     "text": [
      "INFO:tensorflow:Assets written to: model_experiments/model_6_dense_multivariate/assets\n"
     ]
    },
    {
     "name": "stdout",
     "output_type": "stream",
     "text": [
      "INFO:tensorflow:Assets written to: model_experiments/model_6_dense_multivariate/assets\n"
     ]
    },
    {
     "name": "stderr",
     "output_type": "stream",
     "text": [
      "INFO:tensorflow:Assets written to: model_experiments/model_6_dense_multivariate/assets\n"
     ]
    },
    {
     "name": "stdout",
     "output_type": "stream",
     "text": [
      "INFO:tensorflow:Assets written to: model_experiments/model_6_dense_multivariate/assets\n"
     ]
    },
    {
     "name": "stderr",
     "output_type": "stream",
     "text": [
      "INFO:tensorflow:Assets written to: model_experiments/model_6_dense_multivariate/assets\n"
     ]
    },
    {
     "name": "stdout",
     "output_type": "stream",
     "text": [
      "INFO:tensorflow:Assets written to: model_experiments/model_6_dense_multivariate/assets\n"
     ]
    },
    {
     "name": "stderr",
     "output_type": "stream",
     "text": [
      "INFO:tensorflow:Assets written to: model_experiments/model_6_dense_multivariate/assets\n"
     ]
    },
    {
     "name": "stdout",
     "output_type": "stream",
     "text": [
      "INFO:tensorflow:Assets written to: model_experiments/model_6_dense_multivariate/assets\n"
     ]
    },
    {
     "name": "stderr",
     "output_type": "stream",
     "text": [
      "INFO:tensorflow:Assets written to: model_experiments/model_6_dense_multivariate/assets\n"
     ]
    },
    {
     "name": "stdout",
     "output_type": "stream",
     "text": [
      "INFO:tensorflow:Assets written to: model_experiments/model_6_dense_multivariate/assets\n"
     ]
    },
    {
     "name": "stderr",
     "output_type": "stream",
     "text": [
      "INFO:tensorflow:Assets written to: model_experiments/model_6_dense_multivariate/assets\n"
     ]
    },
    {
     "name": "stdout",
     "output_type": "stream",
     "text": [
      "INFO:tensorflow:Assets written to: model_experiments/model_6_dense_multivariate/assets\n"
     ]
    },
    {
     "name": "stderr",
     "output_type": "stream",
     "text": [
      "INFO:tensorflow:Assets written to: model_experiments/model_6_dense_multivariate/assets\n"
     ]
    },
    {
     "data": {
      "text/plain": [
       "<keras.src.callbacks.History at 0x15659e110>"
      ]
     },
     "execution_count": 145,
     "metadata": {},
     "output_type": "execute_result"
    }
   ],
   "source": [
    "tf.random.set_seed(42)\n",
    "\n",
    "# Make multivariate time series model\n",
    "model_6 = tf.keras.Sequential([\n",
    "  layers.Dense(128, activation=\"relu\"),\n",
    "  # layers.Dense(128, activation=\"relu\"), # adding an extra layer here should lead to beating the naive model\n",
    "  layers.Dense(HORIZON)\n",
    "], name=\"model_6_dense_multivariate\")\n",
    "\n",
    "# Compile\n",
    "model_6.compile(loss=\"mae\",\n",
    "                optimizer=tf.keras.optimizers.Adam())\n",
    "\n",
    "# Fit\n",
    "model_6.fit(X_train, y_train,\n",
    "            epochs=100,\n",
    "            batch_size=128,\n",
    "            verbose=0, # only print 1 line per epoch\n",
    "            validation_data=(X_test, y_test),\n",
    "            callbacks=[create_model_checkpoint(model_name=model_6.name)])\n",
    "  "
   ]
  },
  {
   "cell_type": "code",
   "execution_count": 146,
   "metadata": {},
   "outputs": [
    {
     "name": "stdout",
     "output_type": "stream",
     "text": [
      "22/22 [==============================] - 0s 1ms/step - loss: 531.6983\n"
     ]
    },
    {
     "data": {
      "text/plain": [
       "531.6983032226562"
      ]
     },
     "execution_count": 146,
     "metadata": {},
     "output_type": "execute_result"
    }
   ],
   "source": [
    "# Make sure best model is loaded and evaluate\n",
    "model_6 = tf.keras.models.load_model(\"model_experiments/model_6_dense_multivariate\")\n",
    "model_6.evaluate(X_test, y_test)"
   ]
  },
  {
   "cell_type": "code",
   "execution_count": 147,
   "metadata": {},
   "outputs": [
    {
     "name": "stdout",
     "output_type": "stream",
     "text": [
      "22/22 [==============================] - 0s 867us/step\n"
     ]
    },
    {
     "data": {
      "text/plain": [
       "<tf.Tensor: shape=(10,), dtype=float32, numpy=\n",
       "array([39042.395, 39297.11 , 37845.645, 42172.086, 44694.242, 44180.14 ,\n",
       "       42569.59 , 39900.473, 38978.69 , 38459.223], dtype=float32)>"
      ]
     },
     "execution_count": 147,
     "metadata": {},
     "output_type": "execute_result"
    }
   ],
   "source": [
    "\n",
    "# Make predictions on multivariate data\n",
    "model_6_preds = tf.squeeze(model_6.predict(X_test))\n",
    "model_6_preds[:10]\n"
   ]
  },
  {
   "cell_type": "code",
   "execution_count": 148,
   "metadata": {},
   "outputs": [
    {
     "data": {
      "text/plain": [
       "{'mae': 531.6985, 'mse': 673195.75, 'rmse': 820.48505, 'mape': 1.9129117}"
      ]
     },
     "execution_count": 148,
     "metadata": {},
     "output_type": "execute_result"
    }
   ],
   "source": [
    "# Evaluate preds\n",
    "model_6_results = evaluate_preds(y_true=y_test,\n",
    "                                 y_pred=model_6_preds)\n",
    "model_6_results"
   ]
  },
  {
   "cell_type": "markdown",
   "metadata": {},
   "source": [
    "## Model 9: Train a model on the full historical data to make predictions into future"
   ]
  },
  {
   "cell_type": "code",
   "execution_count": 149,
   "metadata": {},
   "outputs": [
    {
     "data": {
      "text/html": [
       "<div>\n",
       "<style scoped>\n",
       "    .dataframe tbody tr th:only-of-type {\n",
       "        vertical-align: middle;\n",
       "    }\n",
       "\n",
       "    .dataframe tbody tr th {\n",
       "        vertical-align: top;\n",
       "    }\n",
       "\n",
       "    .dataframe thead th {\n",
       "        text-align: right;\n",
       "    }\n",
       "</style>\n",
       "<table border=\"1\" class=\"dataframe\">\n",
       "  <thead>\n",
       "    <tr style=\"text-align: right;\">\n",
       "      <th></th>\n",
       "      <th>Price</th>\n",
       "      <th>block_reward</th>\n",
       "      <th>Price+1</th>\n",
       "      <th>Price+2</th>\n",
       "      <th>Price+3</th>\n",
       "      <th>Price+4</th>\n",
       "      <th>Price+5</th>\n",
       "      <th>Price+6</th>\n",
       "      <th>Price+7</th>\n",
       "    </tr>\n",
       "    <tr>\n",
       "      <th>Date</th>\n",
       "      <th></th>\n",
       "      <th></th>\n",
       "      <th></th>\n",
       "      <th></th>\n",
       "      <th></th>\n",
       "      <th></th>\n",
       "      <th></th>\n",
       "      <th></th>\n",
       "      <th></th>\n",
       "    </tr>\n",
       "  </thead>\n",
       "  <tbody>\n",
       "    <tr>\n",
       "      <th>2014-09-17</th>\n",
       "      <td>457.334015</td>\n",
       "      <td>25</td>\n",
       "      <td>NaN</td>\n",
       "      <td>NaN</td>\n",
       "      <td>NaN</td>\n",
       "      <td>NaN</td>\n",
       "      <td>NaN</td>\n",
       "      <td>NaN</td>\n",
       "      <td>NaN</td>\n",
       "    </tr>\n",
       "    <tr>\n",
       "      <th>2014-09-18</th>\n",
       "      <td>424.440002</td>\n",
       "      <td>25</td>\n",
       "      <td>457.334015</td>\n",
       "      <td>NaN</td>\n",
       "      <td>NaN</td>\n",
       "      <td>NaN</td>\n",
       "      <td>NaN</td>\n",
       "      <td>NaN</td>\n",
       "      <td>NaN</td>\n",
       "    </tr>\n",
       "    <tr>\n",
       "      <th>2014-09-19</th>\n",
       "      <td>394.795990</td>\n",
       "      <td>25</td>\n",
       "      <td>424.440002</td>\n",
       "      <td>457.334015</td>\n",
       "      <td>NaN</td>\n",
       "      <td>NaN</td>\n",
       "      <td>NaN</td>\n",
       "      <td>NaN</td>\n",
       "      <td>NaN</td>\n",
       "    </tr>\n",
       "    <tr>\n",
       "      <th>2014-09-20</th>\n",
       "      <td>408.903992</td>\n",
       "      <td>25</td>\n",
       "      <td>394.795990</td>\n",
       "      <td>424.440002</td>\n",
       "      <td>457.334015</td>\n",
       "      <td>NaN</td>\n",
       "      <td>NaN</td>\n",
       "      <td>NaN</td>\n",
       "      <td>NaN</td>\n",
       "    </tr>\n",
       "    <tr>\n",
       "      <th>2014-09-21</th>\n",
       "      <td>398.821014</td>\n",
       "      <td>25</td>\n",
       "      <td>408.903992</td>\n",
       "      <td>394.795990</td>\n",
       "      <td>424.440002</td>\n",
       "      <td>457.334015</td>\n",
       "      <td>NaN</td>\n",
       "      <td>NaN</td>\n",
       "      <td>NaN</td>\n",
       "    </tr>\n",
       "  </tbody>\n",
       "</table>\n",
       "</div>"
      ],
      "text/plain": [
       "                 Price block_reward     Price+1     Price+2     Price+3  \\\n",
       "Date                                                                      \n",
       "2014-09-17  457.334015           25         NaN         NaN         NaN   \n",
       "2014-09-18  424.440002           25  457.334015         NaN         NaN   \n",
       "2014-09-19  394.795990           25  424.440002  457.334015         NaN   \n",
       "2014-09-20  408.903992           25  394.795990  424.440002  457.334015   \n",
       "2014-09-21  398.821014           25  408.903992  394.795990  424.440002   \n",
       "\n",
       "               Price+4  Price+5  Price+6  Price+7  \n",
       "Date                                               \n",
       "2014-09-17         NaN      NaN      NaN      NaN  \n",
       "2014-09-18         NaN      NaN      NaN      NaN  \n",
       "2014-09-19         NaN      NaN      NaN      NaN  \n",
       "2014-09-20         NaN      NaN      NaN      NaN  \n",
       "2014-09-21  457.334015      NaN      NaN      NaN  "
      ]
     },
     "execution_count": 149,
     "metadata": {},
     "output_type": "execute_result"
    }
   ],
   "source": [
    "bitcoin_prices_windowed.head()\n"
   ]
  },
  {
   "cell_type": "code",
   "execution_count": 150,
   "metadata": {},
   "outputs": [],
   "source": [
    "# Train model on entire data to make prediction for the next day \n",
    "X_all = bitcoin_prices_windowed.drop([\"Price\", \"block_reward\"], axis=1).dropna().to_numpy() # only want prices, our future model can be a univariate model\n",
    "y_all = bitcoin_prices_windowed.dropna()[\"Price\"].to_numpy()"
   ]
  },
  {
   "cell_type": "code",
   "execution_count": 151,
   "metadata": {},
   "outputs": [
    {
     "data": {
      "text/plain": [
       "<_PrefetchDataset element_spec=(TensorSpec(shape=(None, 7), dtype=tf.float64, name=None), TensorSpec(shape=(None,), dtype=tf.float64, name=None))>"
      ]
     },
     "execution_count": 151,
     "metadata": {},
     "output_type": "execute_result"
    }
   ],
   "source": [
    "\n",
    "# 1. Turn X and y into tensor Datasets\n",
    "features_dataset_all = tf.data.Dataset.from_tensor_slices(X_all)\n",
    "labels_dataset_all = tf.data.Dataset.from_tensor_slices(y_all)\n",
    "\n",
    "# 2. Combine features & labels\n",
    "dataset_all = tf.data.Dataset.zip((features_dataset_all, labels_dataset_all))\n",
    "\n",
    "# 3. Batch and prefetch for optimal performance\n",
    "BATCH_SIZE = 1024 # taken from Appendix D in N-BEATS paper\n",
    "dataset_all = dataset_all.batch(BATCH_SIZE).prefetch(tf.data.AUTOTUNE)\n",
    "\n",
    "dataset_all"
   ]
  },
  {
   "cell_type": "code",
   "execution_count": 152,
   "metadata": {},
   "outputs": [
    {
     "data": {
      "text/plain": [
       "<keras.src.callbacks.History at 0x15329e6d0>"
      ]
     },
     "execution_count": 152,
     "metadata": {},
     "output_type": "execute_result"
    }
   ],
   "source": [
    "tf.random.set_seed(42)\n",
    "\n",
    "# Create model (nice and simple, just to test)\n",
    "model_9 = tf.keras.Sequential([\n",
    "  layers.Dense(128, activation=\"relu\"),\n",
    "  layers.Dense(128, activation=\"relu\"),\n",
    "  layers.Dense(HORIZON)\n",
    "])\n",
    "\n",
    "# Compile\n",
    "model_9.compile(loss=tf.keras.losses.mae,\n",
    "                optimizer=tf.keras.optimizers.Adam())\n",
    "\n",
    "# Fit model on all of the data to make future forecasts\n",
    "model_9.fit(dataset_all,\n",
    "            epochs=100,\n",
    "            verbose=0) # don't print out anything, we've seen this all before\n",
    "     "
   ]
  },
  {
   "cell_type": "code",
   "execution_count": 153,
   "metadata": {},
   "outputs": [],
   "source": [
    "# How many timesteps to predict into the future?\n",
    "INTO_FUTURE = 14 # since our Bitcoin data is daily, this is for 14 days\n"
   ]
  },
  {
   "cell_type": "code",
   "execution_count": 154,
   "metadata": {},
   "outputs": [],
   "source": [
    "# 1. Create function to make predictions into the future\n",
    "def make_future_forecast(values, model, into_future, window_size=WINDOW_SIZE) -> list:\n",
    "  \"\"\"\n",
    "  Makes future forecasts into_future steps after values ends.\n",
    "\n",
    "  Returns future forecasts as list of floats.\n",
    "  \"\"\"\n",
    "  # 2. Make an empty list for future forecasts/prepare data to forecast on\n",
    "  future_forecast = []\n",
    "  last_window = values[-WINDOW_SIZE:] # only want preds from the last window (this will get updated)\n",
    "\n",
    "  # 3. Make INTO_FUTURE number of predictions, altering the data which gets predicted on each time \n",
    "  for _ in range(into_future):\n",
    "    \n",
    "    # Predict on last window then append it again, again, again (model starts to make forecasts on its own forecasts)\n",
    "    future_pred = model.predict(tf.expand_dims(last_window, axis=0))\n",
    "    print(f\"Predicting on: \\n {last_window} -> Prediction: {tf.squeeze(future_pred).numpy()}\\n\")\n",
    "    \n",
    "    # Append predictions to future_forecast\n",
    "    future_forecast.append(tf.squeeze(future_pred).numpy())\n",
    "    # print(future_forecast)\n",
    "\n",
    "    # Update last window with new pred and get WINDOW_SIZE most recent preds (model was trained on WINDOW_SIZE windows)\n",
    "    last_window = np.append(last_window, future_pred)[-WINDOW_SIZE:]\n",
    "  \n",
    "  return future_forecast"
   ]
  },
  {
   "cell_type": "code",
   "execution_count": 155,
   "metadata": {},
   "outputs": [
    {
     "name": "stdout",
     "output_type": "stream",
     "text": [
      "1/1 [==============================] - 0s 55ms/step\n",
      "Predicting on: \n",
      " [42156.90234375 42265.1875     44167.33203125 44957.96875\n",
      " 42848.17578125 44179.921875   43622.828125  ] -> Prediction: 42248.08984375\n",
      "\n",
      "1/1 [==============================] - 0s 19ms/step\n",
      "Predicting on: \n",
      " [42265.1875     44167.33203125 44957.96875    42848.17578125\n",
      " 44179.921875   43622.828125   42248.08984375] -> Prediction: 42648.62890625\n",
      "\n",
      "1/1 [==============================] - 0s 20ms/step\n",
      "Predicting on: \n",
      " [44167.33203125 44957.96875    42848.17578125 44179.921875\n",
      " 43622.828125   42248.08984375 42648.62890625] -> Prediction: 44505.28515625\n",
      "\n",
      "1/1 [==============================] - 0s 19ms/step\n",
      "Predicting on: \n",
      " [44957.96875    42848.17578125 44179.921875   43622.828125\n",
      " 42248.08984375 42648.62890625 44505.28515625] -> Prediction: 43827.59375\n",
      "\n",
      "1/1 [==============================] - 0s 20ms/step\n",
      "Predicting on: \n",
      " [42848.17578125 44179.921875   43622.828125   42248.08984375\n",
      " 42648.62890625 44505.28515625 43827.59375   ] -> Prediction: 42912.86328125\n",
      "\n",
      "1/1 [==============================] - 0s 19ms/step\n",
      "Predicting on: \n",
      " [44179.921875   43622.828125   42248.08984375 42648.62890625\n",
      " 44505.28515625 43827.59375    42912.86328125] -> Prediction: 43910.21484375\n",
      "\n",
      "1/1 [==============================] - 0s 27ms/step\n",
      "Predicting on: \n",
      " [43622.828125   42248.08984375 42648.62890625 44505.28515625\n",
      " 43827.59375    42912.86328125 43910.21484375] -> Prediction: 43278.46484375\n",
      "\n",
      "1/1 [==============================] - 0s 19ms/step\n",
      "Predicting on: \n",
      " [42248.08984375 42648.62890625 44505.28515625 43827.59375\n",
      " 42912.86328125 43910.21484375 43278.46484375] -> Prediction: 42230.68359375\n",
      "\n",
      "1/1 [==============================] - 0s 19ms/step\n",
      "Predicting on: \n",
      " [42648.62890625 44505.28515625 43827.59375    42912.86328125\n",
      " 43910.21484375 43278.46484375 42230.68359375] -> Prediction: 43138.796875\n",
      "\n",
      "1/1 [==============================] - 0s 18ms/step\n",
      "Predicting on: \n",
      " [44505.28515625 43827.59375    42912.86328125 43910.21484375\n",
      " 43278.46484375 42230.68359375 43138.796875  ] -> Prediction: 44224.62109375\n",
      "\n",
      "1/1 [==============================] - 0s 17ms/step\n",
      "Predicting on: \n",
      " [43827.59375    42912.86328125 43910.21484375 43278.46484375\n",
      " 42230.68359375 43138.796875   44224.62109375] -> Prediction: 43160.11328125\n",
      "\n",
      "1/1 [==============================] - 0s 18ms/step\n",
      "Predicting on: \n",
      " [42912.86328125 43910.21484375 43278.46484375 42230.68359375\n",
      " 43138.796875   44224.62109375 43160.11328125] -> Prediction: 42960.40234375\n",
      "\n",
      "1/1 [==============================] - 0s 18ms/step\n",
      "Predicting on: \n",
      " [43910.21484375 43278.46484375 42230.68359375 43138.796875\n",
      " 44224.62109375 43160.11328125 42960.40234375] -> Prediction: 43693.21484375\n",
      "\n",
      "1/1 [==============================] - 0s 18ms/step\n",
      "Predicting on: \n",
      " [43278.46484375 42230.68359375 43138.796875   44224.62109375\n",
      " 43160.11328125 42960.40234375 43693.21484375] -> Prediction: 42937.55078125\n",
      "\n"
     ]
    }
   ],
   "source": [
    "\n",
    "# Make forecasts into future of the price of Bitcoin\n",
    "# Note: if you're reading this at a later date, you may already be in the future, so the forecasts \n",
    "# we're making may not actually be forecasts, if that's the case, readjust the training data.\n",
    "future_forecast = make_future_forecast(values=y_all,\n",
    "                                       model=model_9,\n",
    "                                       into_future=INTO_FUTURE,\n",
    "                                       window_size=WINDOW_SIZE)"
   ]
  },
  {
   "cell_type": "code",
   "execution_count": 156,
   "metadata": {},
   "outputs": [
    {
     "data": {
      "text/plain": [
       "[42248.09,\n",
       " 42648.63,\n",
       " 44505.285,\n",
       " 43827.594,\n",
       " 42912.863,\n",
       " 43910.215,\n",
       " 43278.465,\n",
       " 42230.684,\n",
       " 43138.797,\n",
       " 44224.62]"
      ]
     },
     "execution_count": 156,
     "metadata": {},
     "output_type": "execute_result"
    }
   ],
   "source": [
    "future_forecast[:10]\n"
   ]
  },
  {
   "cell_type": "code",
   "execution_count": 157,
   "metadata": {},
   "outputs": [],
   "source": [
    "def get_future_dates(start_date, into_future, offset=1):\n",
    "  \"\"\"\n",
    "  Returns array of datetime values from ranging from start_date to start_date+horizon.\n",
    "\n",
    "  start_date: date to start range (np.datetime64)\n",
    "  into_future: number of days to add onto start date for range (int)\n",
    "  offset: number of days to offset start_date by (default 1)\n",
    "  \"\"\"\n",
    "  start_date = start_date + np.timedelta64(offset, \"D\") # specify start date, \"D\" stands for day\n",
    "  end_date = start_date + np.timedelta64(into_future, \"D\") # specify end date\n",
    "  return np.arange(start_date, end_date, dtype=\"datetime64[D]\") # return a date range between start date and end date\n",
    "     \n"
   ]
  },
  {
   "cell_type": "code",
   "execution_count": 158,
   "metadata": {},
   "outputs": [
    {
     "data": {
      "text/plain": [
       "Timestamp('2024-01-05 00:00:00')"
      ]
     },
     "execution_count": 158,
     "metadata": {},
     "output_type": "execute_result"
    }
   ],
   "source": [
    "\n",
    "# Last timestep of timesteps (currently in np.datetime64 format)\n",
    "last_timestep = bitcoin_prices.index[-1]\n",
    "last_timestep\n"
   ]
  },
  {
   "cell_type": "code",
   "execution_count": 159,
   "metadata": {},
   "outputs": [
    {
     "data": {
      "text/plain": [
       "array(['2024-01-06', '2024-01-07', '2024-01-08', '2024-01-09',\n",
       "       '2024-01-10', '2024-01-11', '2024-01-12', '2024-01-13',\n",
       "       '2024-01-14', '2024-01-15', '2024-01-16', '2024-01-17',\n",
       "       '2024-01-18', '2024-01-19'], dtype='datetime64[D]')"
      ]
     },
     "execution_count": 159,
     "metadata": {},
     "output_type": "execute_result"
    }
   ],
   "source": [
    "\n",
    "# Get next two weeks of timesteps\n",
    "next_time_steps = get_future_dates(start_date=last_timestep, \n",
    "                                   into_future=INTO_FUTURE)\n",
    "next_time_steps"
   ]
  },
  {
   "cell_type": "code",
   "execution_count": 160,
   "metadata": {},
   "outputs": [
    {
     "data": {
      "text/plain": [
       "(array(['2024-01-05', '2024-01-06', '2024-01-07', '2024-01-08',\n",
       "        '2024-01-09', '2024-01-10', '2024-01-11', '2024-01-12',\n",
       "        '2024-01-13', '2024-01-14', '2024-01-15', '2024-01-16',\n",
       "        '2024-01-17', '2024-01-18', '2024-01-19'], dtype='datetime64[D]'),\n",
       " array([43622.83 , 42248.09 , 42648.63 , 44505.285, 43827.594, 42912.863,\n",
       "        43910.215, 43278.465, 42230.684, 43138.797, 44224.62 , 43160.113,\n",
       "        42960.402, 43693.215, 42937.55 ], dtype=float32))"
      ]
     },
     "execution_count": 160,
     "metadata": {},
     "output_type": "execute_result"
    }
   ],
   "source": [
    "\n",
    "# Insert last timestep/final price so the graph doesn't look messed\n",
    "next_time_steps = np.insert(next_time_steps, 0, last_timestep)\n",
    "future_forecast = np.insert(future_forecast, 0, btc_price[-1])\n",
    "next_time_steps, future_forecast"
   ]
  },
  {
   "cell_type": "code",
   "execution_count": 161,
   "metadata": {},
   "outputs": [
    {
     "data": {
      "image/png": "[encoded data removed]",
      "text/plain": [
       "<Figure size 1000x700 with 1 Axes>"
      ]
     },
     "metadata": {},
     "output_type": "display_data"
    }
   ],
   "source": [
    "# Plot future price predictions of Bitcoin\n",
    "plt.figure(figsize=(10, 7))\n",
    "plot_time_series(bitcoin_prices.index, btc_price, start=2500, format=\"-\", label=\"Actual BTC Price\")\n",
    "plot_time_series(next_time_steps, future_forecast, format=\"-\", label=\"Predicted BTC Price\")\n"
   ]
  },
  {
   "cell_type": "code",
   "execution_count": 162,
   "metadata": {},
   "outputs": [
    {
     "data": {
      "text/html": [
       "<div>\n",
       "<style scoped>\n",
       "    .dataframe tbody tr th:only-of-type {\n",
       "        vertical-align: middle;\n",
       "    }\n",
       "\n",
       "    .dataframe tbody tr th {\n",
       "        vertical-align: top;\n",
       "    }\n",
       "\n",
       "    .dataframe thead th {\n",
       "        text-align: right;\n",
       "    }\n",
       "</style>\n",
       "<table border=\"1\" class=\"dataframe\">\n",
       "  <thead>\n",
       "    <tr style=\"text-align: right;\">\n",
       "      <th></th>\n",
       "      <th>Price</th>\n",
       "    </tr>\n",
       "    <tr>\n",
       "      <th>Date</th>\n",
       "      <th></th>\n",
       "    </tr>\n",
       "  </thead>\n",
       "  <tbody>\n",
       "    <tr>\n",
       "      <th>2024-01-05</th>\n",
       "      <td>43622.828125</td>\n",
       "    </tr>\n",
       "    <tr>\n",
       "      <th>2024-01-06</th>\n",
       "      <td>42248.089844</td>\n",
       "    </tr>\n",
       "    <tr>\n",
       "      <th>2024-01-07</th>\n",
       "      <td>42648.628906</td>\n",
       "    </tr>\n",
       "    <tr>\n",
       "      <th>2024-01-08</th>\n",
       "      <td>44505.285156</td>\n",
       "    </tr>\n",
       "    <tr>\n",
       "      <th>2024-01-09</th>\n",
       "      <td>43827.593750</td>\n",
       "    </tr>\n",
       "    <tr>\n",
       "      <th>2024-01-10</th>\n",
       "      <td>42912.863281</td>\n",
       "    </tr>\n",
       "    <tr>\n",
       "      <th>2024-01-11</th>\n",
       "      <td>43910.214844</td>\n",
       "    </tr>\n",
       "    <tr>\n",
       "      <th>2024-01-12</th>\n",
       "      <td>43278.464844</td>\n",
       "    </tr>\n",
       "    <tr>\n",
       "      <th>2024-01-13</th>\n",
       "      <td>42230.683594</td>\n",
       "    </tr>\n",
       "    <tr>\n",
       "      <th>2024-01-14</th>\n",
       "      <td>43138.796875</td>\n",
       "    </tr>\n",
       "    <tr>\n",
       "      <th>2024-01-15</th>\n",
       "      <td>44224.621094</td>\n",
       "    </tr>\n",
       "    <tr>\n",
       "      <th>2024-01-16</th>\n",
       "      <td>43160.113281</td>\n",
       "    </tr>\n",
       "    <tr>\n",
       "      <th>2024-01-17</th>\n",
       "      <td>42960.402344</td>\n",
       "    </tr>\n",
       "    <tr>\n",
       "      <th>2024-01-18</th>\n",
       "      <td>43693.214844</td>\n",
       "    </tr>\n",
       "    <tr>\n",
       "      <th>2024-01-19</th>\n",
       "      <td>42937.550781</td>\n",
       "    </tr>\n",
       "  </tbody>\n",
       "</table>\n",
       "</div>"
      ],
      "text/plain": [
       "                   Price\n",
       "Date                    \n",
       "2024-01-05  43622.828125\n",
       "2024-01-06  42248.089844\n",
       "2024-01-07  42648.628906\n",
       "2024-01-08  44505.285156\n",
       "2024-01-09  43827.593750\n",
       "2024-01-10  42912.863281\n",
       "2024-01-11  43910.214844\n",
       "2024-01-12  43278.464844\n",
       "2024-01-13  42230.683594\n",
       "2024-01-14  43138.796875\n",
       "2024-01-15  44224.621094\n",
       "2024-01-16  43160.113281\n",
       "2024-01-17  42960.402344\n",
       "2024-01-18  43693.214844\n",
       "2024-01-19  42937.550781"
      ]
     },
     "execution_count": 162,
     "metadata": {},
     "output_type": "execute_result"
    }
   ],
   "source": [
    "#future forecastın tarihlerini ve fiyatları bana yaz\n",
    "future_forecast = pd.DataFrame(future_forecast, columns=[\"Price\"])\n",
    "future_forecast[\"Date\"] = next_time_steps\n",
    "future_forecast.set_index(\"Date\", inplace=True)\n",
    "future_forecast\n"
   ]
  },
  {
   "cell_type": "code",
   "execution_count": 163,
   "metadata": {},
   "outputs": [],
   "source": [
    "# tuple oluştur  : date ve price\n",
    "# tuple JSON a çevir\n",
    "\n",
    "future_forecast.to_json(\"future_forecast.json\", orient=\"records\")\n"
   ]
  },
  {
   "cell_type": "code",
   "execution_count": null,
   "metadata": {},
   "outputs": [],
   "source": []
  }
 ],
 "metadata": {
  "kernelspec": {
   "display_name": "all",
   "language": "python",
   "name": "python3"
  },
  "language_info": {
   "codemirror_mode": {
    "name": "ipython",
    "version": 3
   },
   "file_extension": ".py",
   "mimetype": "text/x-python",
   "name": "python",
   "nbconvert_exporter": "python",
   "pygments_lexer": "ipython3",
   "version": "3.11.5"
  }
 },
 "nbformat": 4,
 "nbformat_minor": 2
}
