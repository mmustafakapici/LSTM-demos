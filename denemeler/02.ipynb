{
 "cells": [
  {
   "cell_type": "code",
   "execution_count": 1,
   "metadata": {},
   "outputs": [
    {
     "name": "stderr",
     "output_type": "stream",
     "text": [
      "2024-02-03 05:21:19.908335: I tensorflow/core/platform/cpu_feature_guard.cc:182] This TensorFlow binary is optimized to use available CPU instructions in performance-critical operations.\n",
      "To enable the following instructions: AVX2 FMA, in other operations, rebuild TensorFlow with the appropriate compiler flags.\n"
     ]
    }
   ],
   "source": [
    "import yfinance as yf\n",
    "import numpy as np\n",
    "import pandas as pd\n",
    "from sklearn.preprocessing import MinMaxScaler\n",
    "from sklearn.metrics import mean_squared_error\n",
    "from keras.models import Sequential\n",
    "from keras.layers import LSTM, Dense, Dropout\n",
    "import matplotlib.pyplot as plt"
   ]
  },
  {
   "cell_type": "code",
   "execution_count": 2,
   "metadata": {},
   "outputs": [
    {
     "name": "stdout",
     "output_type": "stream",
     "text": [
      "[*********************100%%**********************]  1 of 1 completed\n"
     ]
    }
   ],
   "source": [
    "# Veriyi indirme ve işleme adımları\n",
    "ticker_symbol = \"AAPL\"\n",
    "start_date = \"2010-01-01\"\n",
    "end_date = \"2022-01-01\"\n",
    "\n",
    "data = yf.download(ticker_symbol, start=start_date, end=end_date)\n",
    "close_prices = data['Close'].values.reshape(-1, 1)\n",
    "\n",
    "scaler = MinMaxScaler()\n",
    "close_prices_scaled = scaler.fit_transform(close_prices)"
   ]
  },
  {
   "cell_type": "code",
   "execution_count": 3,
   "metadata": {},
   "outputs": [],
   "source": [
    "# Veriyi eğitim ve test setlerine ayırma\n",
    "train_size = int(len(close_prices_scaled) * 0.80)\n",
    "train_data, test_data = close_prices_scaled[:train_size], close_prices_scaled[train_size:]\n",
    "\n",
    "# Zaman serisi verilerini oluşturma fonksiyonu\n",
    "def create_time_series_data(dataset, look_back=1):\n",
    "    X, Y = [], []\n",
    "    for i in range(len(dataset) - look_back):\n",
    "        a = dataset[i:(i + look_back), 0]\n",
    "        X.append(a)\n",
    "        Y.append(dataset[i + look_back, 0])\n",
    "    return np.array(X), np.array(Y)\n"
   ]
  },
  {
   "cell_type": "code",
   "execution_count": 4,
   "metadata": {},
   "outputs": [],
   "source": [
    "\n",
    "look_back = 60  # Zaman serisi uzunluğu\n",
    "X_train, y_train = create_time_series_data(train_data, look_back)\n",
    "X_test, y_test = create_time_series_data(test_data, look_back)\n",
    "\n",
    "# Verileri LSTM modeline uygun hale getirme\n",
    "X_train = np.reshape(X_train, (X_train.shape[0], X_train.shape[1], 1))\n",
    "X_test = np.reshape(X_test, (X_test.shape[0], X_test.shape[1], 1))\n"
   ]
  },
  {
   "cell_type": "code",
   "execution_count": 5,
   "metadata": {},
   "outputs": [],
   "source": [
    "# Gelişmiş LSTM modeli oluşturma\n",
    "model = Sequential()\n",
    "model.add(LSTM(units=100, return_sequences=True, input_shape=(X_train.shape[1], 1)))\n",
    "model.add(Dropout(0.2))\n",
    "model.add(LSTM(units=100))\n",
    "model.add(Dropout(0.2))\n",
    "model.add(Dense(units=1))\n",
    "\n",
    "model.compile(loss='mean_squared_error', optimizer='adam')"
   ]
  },
  {
   "cell_type": "code",
   "execution_count": 6,
   "metadata": {},
   "outputs": [
    {
     "name": "stdout",
     "output_type": "stream",
     "text": [
      "Epoch 1/10\n",
      "74/74 [==============================] - 8s 46ms/step - loss: 6.5320e-04\n",
      "Epoch 2/10\n",
      "74/74 [==============================] - 3s 43ms/step - loss: 1.3033e-04\n",
      "Epoch 3/10\n",
      "74/74 [==============================] - 3s 44ms/step - loss: 1.0933e-04\n",
      "Epoch 4/10\n",
      "74/74 [==============================] - 3s 46ms/step - loss: 1.1270e-04\n",
      "Epoch 5/10\n",
      "74/74 [==============================] - 3s 45ms/step - loss: 8.8761e-05\n",
      "Epoch 6/10\n",
      "74/74 [==============================] - 3s 46ms/step - loss: 1.0121e-04\n",
      "Epoch 7/10\n",
      "74/74 [==============================] - 3s 46ms/step - loss: 8.0444e-05\n",
      "Epoch 8/10\n",
      "74/74 [==============================] - 3s 45ms/step - loss: 9.1752e-05\n",
      "Epoch 9/10\n",
      "74/74 [==============================] - 3s 46ms/step - loss: 8.1394e-05\n",
      "Epoch 10/10\n",
      "74/74 [==============================] - 3s 46ms/step - loss: 7.9274e-05\n"
     ]
    },
    {
     "data": {
      "text/plain": [
       "<keras.src.callbacks.History at 0x14fa60e90>"
      ]
     },
     "execution_count": 6,
     "metadata": {},
     "output_type": "execute_result"
    }
   ],
   "source": [
    "# Modeli eğitme\n",
    "model.fit(X_train, y_train, epochs=10, batch_size=32)"
   ]
  },
  {
   "cell_type": "code",
   "execution_count": 7,
   "metadata": {},
   "outputs": [
    {
     "name": "stdout",
     "output_type": "stream",
     "text": [
      "74/74 [==============================] - 2s 15ms/step\n",
      "18/18 [==============================] - 0s 15ms/step\n"
     ]
    }
   ],
   "source": [
    "# Tahminleri yapma\n",
    "train_predict = model.predict(X_train)\n",
    "test_predict = model.predict(X_test)\n"
   ]
  },
  {
   "cell_type": "code",
   "execution_count": 8,
   "metadata": {},
   "outputs": [],
   "source": [
    "# Tahminleri ters çevirme (normalize edilmemiş haline geri getirme)\n",
    "train_predict = scaler.inverse_transform(train_predict)\n",
    "y_train = scaler.inverse_transform([y_train])\n",
    "test_predict = scaler.inverse_transform(test_predict)\n",
    "y_test = scaler.inverse_transform([y_test])\n"
   ]
  },
  {
   "cell_type": "code",
   "execution_count": 9,
   "metadata": {},
   "outputs": [
    {
     "name": "stdout",
     "output_type": "stream",
     "text": [
      "Eğitim hatası (RMSE): 1.49\n",
      "Test hatası (RMSE): 7.19\n"
     ]
    }
   ],
   "source": [
    "# Eğitim ve test hatası hesaplama\n",
    "train_score = np.sqrt(mean_squared_error(y_train[0], train_predict[:, 0]))\n",
    "test_score = np.sqrt(mean_squared_error(y_test[0], test_predict[:, 0]))\n",
    "print(f\"Eğitim hatası (RMSE): {train_score:.2f}\")\n",
    "print(f\"Test hatası (RMSE): {test_score:.2f}\")"
   ]
  },
  {
   "cell_type": "code",
   "execution_count": 10,
   "metadata": {},
   "outputs": [
    {
     "ename": "ValueError",
     "evalue": "could not broadcast input array from shape (545,1) into shape (543,1)",
     "output_type": "error",
     "traceback": [
      "\u001b[0;31m---------------------------------------------------------------------------\u001b[0m",
      "\u001b[0;31mValueError\u001b[0m                                Traceback (most recent call last)",
      "Cell \u001b[0;32mIn[10], line 8\u001b[0m\n\u001b[1;32m      6\u001b[0m test_plot \u001b[38;5;241m=\u001b[39m np\u001b[38;5;241m.\u001b[39mempty_like(close_prices_scaled)\n\u001b[1;32m      7\u001b[0m test_plot[:,:] \u001b[38;5;241m=\u001b[39m np\u001b[38;5;241m.\u001b[39mnan\n\u001b[0;32m----> 8\u001b[0m \u001b[43mtest_plot\u001b[49m\u001b[43m[\u001b[49m\u001b[38;5;28;43mlen\u001b[39;49m\u001b[43m(\u001b[49m\u001b[43mtrain_predict\u001b[49m\u001b[43m)\u001b[49m\u001b[38;5;241;43m+\u001b[39;49m\u001b[43m(\u001b[49m\u001b[43mlook_back\u001b[49m\u001b[38;5;241;43m*\u001b[39;49m\u001b[38;5;241;43m2\u001b[39;49m\u001b[43m)\u001b[49m\u001b[38;5;241;43m+\u001b[39;49m\u001b[38;5;241;43m1\u001b[39;49m\u001b[43m:\u001b[49m\u001b[38;5;28;43mlen\u001b[39;49m\u001b[43m(\u001b[49m\u001b[43mclose_prices_scaled\u001b[49m\u001b[43m)\u001b[49m\u001b[38;5;241;43m-\u001b[39;49m\u001b[38;5;241;43m1\u001b[39;49m\u001b[43m,\u001b[49m\u001b[43m \u001b[49m\u001b[43m:\u001b[49m\u001b[43m]\u001b[49m \u001b[38;5;241m=\u001b[39m test_predict\n\u001b[1;32m     10\u001b[0m plt\u001b[38;5;241m.\u001b[39mfigure(figsize\u001b[38;5;241m=\u001b[39m(\u001b[38;5;241m12\u001b[39m,\u001b[38;5;241m6\u001b[39m))\n\u001b[1;32m     11\u001b[0m plt\u001b[38;5;241m.\u001b[39mplot(scaler\u001b[38;5;241m.\u001b[39minverse_transform(close_prices_scaled), label\u001b[38;5;241m=\u001b[39m\u001b[38;5;124m\"\u001b[39m\u001b[38;5;124mGerçek Fiyatlar\u001b[39m\u001b[38;5;124m\"\u001b[39m)\n",
      "\u001b[0;31mValueError\u001b[0m: could not broadcast input array from shape (545,1) into shape (543,1)"
     ]
    }
   ],
   "source": [
    "# Tahminleri görselleştirme\n",
    "train_plot = np.empty_like(close_prices_scaled)\n",
    "train_plot[:,:] = np.nan\n",
    "train_plot[look_back:len(train_predict)+look_back, :] = train_predict\n",
    "\n",
    "test_plot = np.empty_like(close_prices_scaled)\n",
    "test_plot[:,:] = np.nan\n",
    "test_plot[len(train_predict)+(look_back*2)+1:len(close_prices_scaled)-1, :] = test_predict\n",
    "\n",
    "plt.figure(figsize=(12,6))\n",
    "plt.plot(scaler.inverse_transform(close_prices_scaled), label=\"Gerçek Fiyatlar\")\n",
    "plt.plot(train_plot, label=\"Eğitim Tahminleri\", alpha=0.8)\n",
    "plt.plot(test_plot, label=\"Test Tahminleri\", alpha=0.8)\n",
    "plt.legend()\n",
    "plt.show()"
   ]
  }
 ],
 "metadata": {
  "kernelspec": {
   "display_name": "all",
   "language": "python",
   "name": "python3"
  },
  "language_info": {
   "codemirror_mode": {
    "name": "ipython",
    "version": 3
   },
   "file_extension": ".py",
   "mimetype": "text/x-python",
   "name": "python",
   "nbconvert_exporter": "python",
   "pygments_lexer": "ipython3",
   "version": "3.11.5"
  }
 },
 "nbformat": 4,
 "nbformat_minor": 2
}
