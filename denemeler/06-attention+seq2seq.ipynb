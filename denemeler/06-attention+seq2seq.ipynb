{
 "cells": [
  {
   "cell_type": "code",
   "execution_count": 4,
   "id": "initial_id",
   "metadata": {
    "collapsed": true,
    "ExecuteTime": {
     "end_time": "2024-02-03T22:27:42.755452Z",
     "start_time": "2024-02-03T22:27:42.741924Z"
    }
   },
   "outputs": [],
   "source": [
    "import yfinance as yf\n",
    "import numpy as np\n",
    "from tensorflow.keras.models import Model\n",
    "from tensorflow.keras.layers import Input, LSTM, Dense, Concatenate, Attention\n",
    "from sklearn.preprocessing import MinMaxScaler\n"
   ]
  },
  {
   "cell_type": "code",
   "outputs": [
    {
     "name": "stdout",
     "output_type": "stream",
     "text": [
      "[*********************100%%**********************]  1 of 1 completed\n"
     ]
    }
   ],
   "source": [
    "# Veri çekme\n",
    "data = yf.download('BTC-USD', start='2020-01-01', end='2023-01-01')\n",
    "close_prices = data['Close'].values.reshape(-1, 1)"
   ],
   "metadata": {
    "collapsed": false,
    "ExecuteTime": {
     "end_time": "2024-02-03T22:27:42.791861Z",
     "start_time": "2024-02-03T22:27:42.750561Z"
    }
   },
   "id": "b6d81111df7a2aba",
   "execution_count": 5
  },
  {
   "cell_type": "code",
   "outputs": [],
   "source": [
    "# Normalizasyon\n",
    "scaler = MinMaxScaler(feature_range=(0, 1))\n",
    "close_prices_scaled = scaler.fit_transform(close_prices)\n"
   ],
   "metadata": {
    "collapsed": false,
    "ExecuteTime": {
     "end_time": "2024-02-03T22:27:42.841603Z",
     "start_time": "2024-02-03T22:27:42.786195Z"
    }
   },
   "id": "7aefb718c41acf89",
   "execution_count": 6
  },
  {
   "cell_type": "code",
   "outputs": [],
   "source": [
    "# Seq2Seq veri seti oluşturma\n",
    "def create_dataset(dataset, n_past, n_future):\n",
    "    X, y = [], []\n",
    "    for i in range(n_past, len(dataset) - n_future +1):\n",
    "        X.append(dataset[i - n_past:i, 0])\n",
    "        y.append(dataset[i:i + n_future, 0])\n",
    "    return np.array(X), np.array(y)\n"
   ],
   "metadata": {
    "collapsed": false,
    "ExecuteTime": {
     "end_time": "2024-02-03T22:27:42.842576Z",
     "start_time": "2024-02-03T22:27:42.793814Z"
    }
   },
   "id": "8457e0d4c22f5f7d",
   "execution_count": 7
  },
  {
   "cell_type": "code",
   "outputs": [],
   "source": [
    "n_past = 60\n",
    "n_future = 1\n",
    "X, y = create_dataset(close_prices_scaled, n_past, n_future)\n",
    "X = X.reshape((X.shape[0], X.shape[1], 1))\n",
    "y = y.reshape((y.shape[0], y.shape[1], 1))"
   ],
   "metadata": {
    "collapsed": false,
    "ExecuteTime": {
     "end_time": "2024-02-03T22:27:42.857699Z",
     "start_time": "2024-02-03T22:27:42.814569Z"
    }
   },
   "id": "c4006b9bc44dc2ec",
   "execution_count": 8
  },
  {
   "cell_type": "code",
   "outputs": [],
   "source": [
    "# Encoder\n",
    "encoder_inputs = Input(shape=(n_past, 1))\n",
    "encoder_lstm = LSTM(100, return_state=True, return_sequences=True)\n",
    "encoder_outputs, state_h, state_c = encoder_lstm(encoder_inputs)\n",
    "encoder_states = [state_h, state_c]\n",
    "\n",
    "# Dikkat Mekanizması\n",
    "attention = Attention(use_scale=True)\n",
    "attention_output = attention([encoder_outputs, encoder_outputs])\n",
    "\n",
    "# Decoder\n",
    "decoder_inputs = Input(shape=(n_future, 1))\n",
    "decoder_lstm = LSTM(100, return_sequences=True, return_state=True)\n",
    "decoder_outputs, _, _ = decoder_lstm(decoder_inputs, initial_state=encoder_states)\n"
   ],
   "metadata": {
    "collapsed": false,
    "ExecuteTime": {
     "end_time": "2024-02-03T22:27:43.958885Z",
     "start_time": "2024-02-03T22:27:42.827543Z"
    }
   },
   "id": "57bf13c4d7b11e63",
   "execution_count": 9
  },
  {
   "cell_type": "code",
   "outputs": [
    {
     "ename": "ValueError",
     "evalue": "A `Concatenate` layer requires inputs with matching shapes except for the concatenation axis. Received: input_shape=[(None, 1, 100), (None, 60, 100)]",
     "output_type": "error",
     "traceback": [
      "\u001B[0;31m---------------------------------------------------------------------------\u001B[0m",
      "\u001B[0;31mValueError\u001B[0m                                Traceback (most recent call last)",
      "Cell \u001B[0;32mIn[10], line 2\u001B[0m\n\u001B[1;32m      1\u001B[0m \u001B[38;5;66;03m# Dikkat ve Decoder çıktılarını birleştirme\u001B[39;00m\n\u001B[0;32m----> 2\u001B[0m decoder_concat_input \u001B[38;5;241m=\u001B[39m \u001B[43mConcatenate\u001B[49m\u001B[43m(\u001B[49m\u001B[43maxis\u001B[49m\u001B[38;5;241;43m=\u001B[39;49m\u001B[38;5;241;43m-\u001B[39;49m\u001B[38;5;241;43m1\u001B[39;49m\u001B[43m)\u001B[49m\u001B[43m(\u001B[49m\u001B[43m[\u001B[49m\u001B[43mdecoder_outputs\u001B[49m\u001B[43m,\u001B[49m\u001B[43m \u001B[49m\u001B[43mattention_output\u001B[49m\u001B[43m]\u001B[49m\u001B[43m)\u001B[49m\n\u001B[1;32m      4\u001B[0m \u001B[38;5;66;03m# Dense katmanı\u001B[39;00m\n\u001B[1;32m      5\u001B[0m decoder_dense \u001B[38;5;241m=\u001B[39m Dense(\u001B[38;5;241m1\u001B[39m, activation\u001B[38;5;241m=\u001B[39m\u001B[38;5;124m'\u001B[39m\u001B[38;5;124mlinear\u001B[39m\u001B[38;5;124m'\u001B[39m)\n",
      "File \u001B[0;32m~/anaconda3/envs/all/lib/python3.11/site-packages/keras/src/utils/traceback_utils.py:70\u001B[0m, in \u001B[0;36mfilter_traceback.<locals>.error_handler\u001B[0;34m(*args, **kwargs)\u001B[0m\n\u001B[1;32m     67\u001B[0m     filtered_tb \u001B[38;5;241m=\u001B[39m _process_traceback_frames(e\u001B[38;5;241m.\u001B[39m__traceback__)\n\u001B[1;32m     68\u001B[0m     \u001B[38;5;66;03m# To get the full stack trace, call:\u001B[39;00m\n\u001B[1;32m     69\u001B[0m     \u001B[38;5;66;03m# `tf.debugging.disable_traceback_filtering()`\u001B[39;00m\n\u001B[0;32m---> 70\u001B[0m     \u001B[38;5;28;01mraise\u001B[39;00m e\u001B[38;5;241m.\u001B[39mwith_traceback(filtered_tb) \u001B[38;5;28;01mfrom\u001B[39;00m \u001B[38;5;28;01mNone\u001B[39;00m\n\u001B[1;32m     71\u001B[0m \u001B[38;5;28;01mfinally\u001B[39;00m:\n\u001B[1;32m     72\u001B[0m     \u001B[38;5;28;01mdel\u001B[39;00m filtered_tb\n",
      "File \u001B[0;32m~/anaconda3/envs/all/lib/python3.11/site-packages/keras/src/layers/merging/concatenate.py:131\u001B[0m, in \u001B[0;36mConcatenate.build\u001B[0;34m(self, input_shape)\u001B[0m\n\u001B[1;32m    125\u001B[0m unique_dims \u001B[38;5;241m=\u001B[39m \u001B[38;5;28mset\u001B[39m(\n\u001B[1;32m    126\u001B[0m     shape[axis]\n\u001B[1;32m    127\u001B[0m     \u001B[38;5;28;01mfor\u001B[39;00m shape \u001B[38;5;129;01min\u001B[39;00m shape_set\n\u001B[1;32m    128\u001B[0m     \u001B[38;5;28;01mif\u001B[39;00m shape[axis] \u001B[38;5;129;01mis\u001B[39;00m \u001B[38;5;129;01mnot\u001B[39;00m \u001B[38;5;28;01mNone\u001B[39;00m\n\u001B[1;32m    129\u001B[0m )\n\u001B[1;32m    130\u001B[0m \u001B[38;5;28;01mif\u001B[39;00m \u001B[38;5;28mlen\u001B[39m(unique_dims) \u001B[38;5;241m>\u001B[39m \u001B[38;5;241m1\u001B[39m:\n\u001B[0;32m--> 131\u001B[0m     \u001B[38;5;28;01mraise\u001B[39;00m \u001B[38;5;167;01mValueError\u001B[39;00m(err_msg)\n",
      "\u001B[0;31mValueError\u001B[0m: A `Concatenate` layer requires inputs with matching shapes except for the concatenation axis. Received: input_shape=[(None, 1, 100), (None, 60, 100)]"
     ]
    }
   ],
   "source": [
    "# Dikkat ve Decoder çıktılarını birleştirme\n",
    "decoder_concat_input = Concatenate(axis=-1)([decoder_outputs, attention_output])\n",
    "\n",
    "# Dense katmanı\n",
    "decoder_dense = Dense(1, activation='linear')\n",
    "decoder_outputs = decoder_dense(decoder_concat_input)"
   ],
   "metadata": {
    "collapsed": false,
    "ExecuteTime": {
     "end_time": "2024-02-03T22:27:44.859657Z",
     "start_time": "2024-02-03T22:27:43.965336Z"
    }
   },
   "id": "c427a82cd639d46",
   "execution_count": 10
  },
  {
   "cell_type": "code",
   "outputs": [],
   "source": [
    "\n",
    "# Model\n",
    "model = Model([encoder_inputs, decoder_inputs], decoder_outputs)\n",
    "\n",
    "model.compile(optimizer='adam', loss='mean_squared_error')"
   ],
   "metadata": {
    "collapsed": false,
    "ExecuteTime": {
     "end_time": "2024-02-03T22:27:44.868086Z",
     "start_time": "2024-02-03T22:27:44.863721Z"
    }
   },
   "id": "db1248839f3a0eae"
  },
  {
   "cell_type": "code",
   "outputs": [],
   "source": [
    "decoder_input_data = np.zeros_like(X)\n",
    "decoder_input_data[:,1:,0] = y[:,:-1,0]\n",
    "decoder_target_data = y\n",
    "\n",
    "model.fit([X, decoder_input_data], decoder_target_data, batch_size=32, epochs=10, validation_split=0.2)\n"
   ],
   "metadata": {
    "collapsed": false,
    "ExecuteTime": {
     "start_time": "2024-02-03T22:27:44.866057Z"
    }
   },
   "id": "37f18c022fdd3896"
  }
 ],
 "metadata": {
  "kernelspec": {
   "display_name": "Python 3",
   "language": "python",
   "name": "python3"
  },
  "language_info": {
   "codemirror_mode": {
    "name": "ipython",
    "version": 2
   },
   "file_extension": ".py",
   "mimetype": "text/x-python",
   "name": "python",
   "nbconvert_exporter": "python",
   "pygments_lexer": "ipython2",
   "version": "2.7.6"
  }
 },
 "nbformat": 4,
 "nbformat_minor": 5
}
