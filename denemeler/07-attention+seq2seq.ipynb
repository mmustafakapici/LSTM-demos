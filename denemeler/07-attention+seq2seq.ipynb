{
 "cells": [
  {
   "cell_type": "code",
   "execution_count": null,
   "id": "initial_id",
   "metadata": {
    "collapsed": true
   },
   "outputs": [],
   "source": []
  },
  {
   "cell_type": "code",
   "outputs": [],
   "source": [
    "import yfinance as yf\n",
    "import numpy as np\n",
    "import tensorflow as tf\n",
    "from tensorflow.keras.models import Model\n",
    "from tensorflow.keras.layers import Input, LSTM, Dense, TimeDistributed, RepeatVector, Concatenate, Attention\n",
    "from sklearn.preprocessing import MinMaxScaler\n"
   ],
   "metadata": {
    "collapsed": false
   },
   "id": "d23237b65b6fea65",
   "execution_count": null
  },
  {
   "cell_type": "code",
   "outputs": [],
   "source": [
    "# Apple hisse senedi verilerini çekme\n",
    "data = yf.download('AAPL', start='2018-01-01', end='2023-01-01')\n",
    "\n",
    "# Kullanılacak özellikleri seçme\n",
    "features = ['Open', 'High', 'Low', 'Close', 'Volume']\n",
    "data = data[features]\n",
    "\n",
    "# Veriyi normalize etme\n",
    "scaler = MinMaxScaler()\n",
    "data_scaled = scaler.fit_transform(data)\n",
    "\n",
    "# Veriyi dizilere bölme\n",
    "def create_sequences(data, seq_length, pred_length):\n",
    "    X, y = [], []\n",
    "    for i in range(len(data)-seq_length-pred_length):\n",
    "        X.append(data[i:(i+seq_length)])\n",
    "        y.append(data[(i+seq_length):(i+seq_length+pred_length)])\n",
    "    return np.array(X), np.array(y)\n",
    "\n",
    "seq_length = 60  # Son 60 günü kullanarak\n",
    "pred_length = 15  # Önümüzdeki 15 günü tahmin etme\n",
    "X, y = create_sequences(data_scaled, seq_length, pred_length)\n"
   ],
   "metadata": {
    "collapsed": false
   },
   "id": "1d09e6f22a5e44b1",
   "execution_count": null
  },
  {
   "cell_type": "code",
   "outputs": [],
   "source": [
    "# Encoder\n",
    "encoder_inputs = Input(shape=(seq_length, len(features)))\n",
    "encoder_lstm = LSTM(100, return_state=True)\n",
    "encoder_outputs, state_h, state_c = encoder_lstm(encoder_inputs)\n",
    "encoder_states = [state_h, state_c]\n",
    "\n",
    "# Decoder\n",
    "decoder_inputs = RepeatVector(pred_length)(encoder_outputs)\n",
    "decoder_lstm = LSTM(100, return_sequences=True)\n",
    "decoder_outputs = decoder_lstm(decoder_inputs, initial_state=encoder_states)\n",
    "\n",
    "# Dikkat Mekanizması\n",
    "attention_layer = Attention(use_scale=True)\n",
    "attention_outputs = attention_layer([decoder_outputs, encoder_outputs])\n",
    "decoder_concat_input = Concatenate(axis=-1)([decoder_outputs, attention_outputs])\n",
    "\n",
    "# TimeDistributed Dense\n",
    "decoder_dense = TimeDistributed(Dense(len(features)))\n",
    "decoder_outputs = decoder_dense(decoder_concat_input)\n",
    "\n",
    "# Modeli tanımla\n",
    "model = Model(inputs=encoder_inputs, outputs=decoder_outputs)\n",
    "model.compile(optimizer='adam', loss='mse')\n",
    "\n",
    "print(model.summary())\n"
   ],
   "metadata": {
    "collapsed": false
   },
   "id": "2c71648b73431a6d",
   "execution_count": null
  },
  {
   "cell_type": "code",
   "outputs": [],
   "source": [
    "#modelin pdf halini çıkarma\n",
    "\n",
    "!pip install pydot graphviz\n",
    "from tensorflow.keras.utils import plot_model\n",
    "plot_model(model, to_file='model.png', show_shapes=True , show_layer_names=True)\n"
   ],
   "metadata": {
    "collapsed": false
   },
   "id": "6f990aa00d016de4",
   "execution_count": null
  },
  {
   "cell_type": "code",
   "outputs": [],
   "source": [
    "from PIL import Image\n",
    "image = Image.open('model.png')"
   ],
   "metadata": {
    "collapsed": false
   },
   "id": "6477b9907106d11d",
   "execution_count": null
  },
  {
   "cell_type": "code",
   "outputs": [],
   "source": [
    "model.fit(X, y, batch_size=32, epochs=200, validation_split=0.2)\n"
   ],
   "metadata": {
    "collapsed": false
   },
   "id": "a97fa7872fc8afc6",
   "execution_count": null
  },
  {
   "cell_type": "code",
   "outputs": [],
   "source": [
    "# Son veri noktasını kullanarak geleceği tahmin etme\n",
    "last_sequence = data_scaled[-seq_length:]\n",
    "last_sequence = np.expand_dims(last_sequence, axis=0)\n",
    "predicted = model.predict(last_sequence)\n",
    "\n",
    "# Tahminleri gerçek değerlere dönüştürme\n",
    "predicted = scaler.inverse_transform(predicted[0])\n"
   ],
   "metadata": {
    "collapsed": false
   },
   "id": "61b1cb7a342f8ec6",
   "execution_count": null
  },
  {
   "cell_type": "code",
   "outputs": [],
   "source": [
    "#tahtmin edilen verileri görselleştirme\n",
    "import matplotlib.pyplot as plt\n",
    "\n",
    "plt.plot(data.index[-pred_length:], predicted[:, 3], label='Tahmin')\n",
    "plt.legend()\n",
    "plt.show()\n"
   ],
   "metadata": {
    "collapsed": false
   },
   "id": "b169cdbfe0276ebd",
   "execution_count": null
  },
  {
   "cell_type": "code",
   "outputs": [],
   "source": [
    "plt.plot(data.index[-pred_length:], data['Close'][-pred_length:], label='Gerçek')\n",
    "plt.legend()\n",
    "plt.show()"
   ],
   "metadata": {
    "collapsed": false
   },
   "id": "dbc3c61317d87174",
   "execution_count": null
  },
  {
   "cell_type": "code",
   "outputs": [],
   "source": [
    "#predictionsun mum grafiklerini çizdirme\n",
    "\n",
    "import plotly.graph_objects as go\n",
    "\n",
    "fig = go.Figure(data=[go.Candlestick(x=data.index[-pred_length:],\n",
    "                open=predicted[:, 0],\n",
    "                high=predicted[:, 1],\n",
    "                low=predicted[:, 2],\n",
    "                close=predicted[:, 3])])\n",
    "\n",
    "fig.show()\n"
   ],
   "metadata": {
    "collapsed": false
   },
   "id": "3a4db502b2fb40f6",
   "execution_count": null
  },
  {
   "cell_type": "code",
   "outputs": [],
   "source": [
    "#gerçek verilerin mum grafiklerini çizdirme\n",
    "fig = go.Figure(data=[go.Candlestick(x=data.index[-pred_length:],\n",
    "                open=data['Open'][-pred_length:],\n",
    "                high=data['High'][-pred_length:],\n",
    "                low=data['Low'][-pred_length:],\n",
    "                close=data['Close'][-pred_length:])])\n",
    "\n",
    "fig.show()"
   ],
   "metadata": {
    "collapsed": false
   },
   "id": "ee6e7f01627a050a",
   "execution_count": null
  },
  {
   "cell_type": "code",
   "outputs": [],
   "source": [],
   "metadata": {
    "collapsed": false
   },
   "id": "b55f979c07168c12"
  }
 ],
 "metadata": {
  "kernelspec": {
   "display_name": "Python 3",
   "language": "python",
   "name": "python3"
  },
  "language_info": {
   "codemirror_mode": {
    "name": "ipython",
    "version": 2
   },
   "file_extension": ".py",
   "mimetype": "text/x-python",
   "name": "python",
   "nbconvert_exporter": "python",
   "pygments_lexer": "ipython2",
   "version": "2.7.6"
  }
 },
 "nbformat": 4,
 "nbformat_minor": 5
}
