{
 "cells": [
  {
   "cell_type": "code",
   "execution_count": 6,
   "id": "initial_id",
   "metadata": {
    "collapsed": true,
    "ExecuteTime": {
     "end_time": "2024-02-03T18:16:04.234078Z",
     "start_time": "2024-02-03T18:16:04.229622Z"
    }
   },
   "outputs": [],
   "source": [
    "import yfinance as yf\n",
    "import numpy as np\n",
    "from tensorflow.keras.models import Model\n",
    "from tensorflow.keras.layers import Input, LSTM, Dense\n",
    "from sklearn.preprocessing import MinMaxScaler\n"
   ]
  },
  {
   "cell_type": "code",
   "outputs": [
    {
     "name": "stdout",
     "output_type": "stream",
     "text": [
      "[*********************100%%**********************]  1 of 1 completed\n"
     ]
    }
   ],
   "source": [
    "# BTC-USD için veri çekme\n",
    "data = yf.download('BTC-USD', start='2020-01-01', end='2023-01-01')\n",
    "close_prices = data['Close'].values.reshape(-1, 1)\n",
    "\n",
    "# Veriyi normalize etme\n",
    "scaler = MinMaxScaler(feature_range=(0, 1))\n",
    "close_prices_scaled = scaler.fit_transform(close_prices)\n",
    "\n",
    "# Veriyi Seq2Seq modeline uygun hale getirme\n",
    "def create_dataset(dataset, n_past=60, n_future=1):\n",
    "    X, y = [], []\n",
    "    for i in range(n_past, len(dataset) - n_future +1):\n",
    "        X.append(dataset[i - n_past:i, 0])\n",
    "        y.append(dataset[i:i + n_future, 0])\n",
    "    return np.array(X), np.array(y)\n",
    "\n",
    "n_past = 60\n",
    "n_future = 1\n",
    "X, y = create_dataset(close_prices_scaled, n_past, n_future)\n",
    "X = X.reshape((X.shape[0], X.shape[1], 1))\n",
    "y = y.reshape((y.shape[0], y.shape[1], 1))\n"
   ],
   "metadata": {
    "collapsed": false,
    "ExecuteTime": {
     "end_time": "2024-02-03T18:16:04.258081Z",
     "start_time": "2024-02-03T18:16:04.233816Z"
    }
   },
   "id": "3589d17b75020fee",
   "execution_count": 7
  },
  {
   "cell_type": "code",
   "outputs": [],
   "source": [
    "# Encoder\n",
    "encoder_inputs = Input(shape=(n_past, 1))\n",
    "encoder_l1 = LSTM(100, return_state=True)\n",
    "encoder_outputs1 = encoder_l1(encoder_inputs)\n",
    "encoder_states1 = encoder_outputs1[1:]\n",
    "\n",
    "# Decoder\n",
    "decoder_inputs = Input(shape=(n_future, 1))\n",
    "decoder_l1 = LSTM(100, return_sequences=True, return_state=True)\n",
    "decoder_outputs1 = decoder_l1(decoder_inputs, initial_state=encoder_states1)\n",
    "\n",
    "decoder_dense = Dense(1, activation='linear')\n",
    "decoder_outputs = decoder_dense(decoder_outputs1[0])\n",
    "\n",
    "# Seq2Seq Model\n",
    "model = Model([encoder_inputs, decoder_inputs], decoder_outputs)\n",
    "\n",
    "model.compile(optimizer='adam', loss='mean_squared_error')\n"
   ],
   "metadata": {
    "collapsed": false,
    "ExecuteTime": {
     "end_time": "2024-02-03T18:16:04.993255Z",
     "start_time": "2024-02-03T18:16:04.263091Z"
    }
   },
   "id": "2f7ed97c2f00cf57",
   "execution_count": 8
  },
  {
   "cell_type": "code",
   "outputs": [
    {
     "ename": "ValueError",
     "evalue": "could not broadcast input array from shape (1036,0) into shape (1036,59)",
     "output_type": "error",
     "traceback": [
      "\u001B[0;31m---------------------------------------------------------------------------\u001B[0m",
      "\u001B[0;31mValueError\u001B[0m                                Traceback (most recent call last)",
      "Cell \u001B[0;32mIn[9], line 2\u001B[0m\n\u001B[1;32m      1\u001B[0m decoder_input_data \u001B[38;5;241m=\u001B[39m np\u001B[38;5;241m.\u001B[39mzeros_like(X)\n\u001B[0;32m----> 2\u001B[0m \u001B[43mdecoder_input_data\u001B[49m\u001B[43m[\u001B[49m\u001B[43m:\u001B[49m\u001B[43m,\u001B[49m\u001B[38;5;241;43m1\u001B[39;49m\u001B[43m:\u001B[49m\u001B[43m,\u001B[49m\u001B[38;5;241;43m0\u001B[39;49m\u001B[43m]\u001B[49m \u001B[38;5;241m=\u001B[39m y[:,:\u001B[38;5;241m-\u001B[39m\u001B[38;5;241m1\u001B[39m,\u001B[38;5;241m0\u001B[39m]\n\u001B[1;32m      3\u001B[0m decoder_target_data \u001B[38;5;241m=\u001B[39m y\n\u001B[1;32m      5\u001B[0m model\u001B[38;5;241m.\u001B[39mfit([X, decoder_input_data], decoder_target_data, batch_size\u001B[38;5;241m=\u001B[39m\u001B[38;5;241m32\u001B[39m, epochs\u001B[38;5;241m=\u001B[39m\u001B[38;5;241m10\u001B[39m, validation_split\u001B[38;5;241m=\u001B[39m\u001B[38;5;241m0.2\u001B[39m)\n",
      "\u001B[0;31mValueError\u001B[0m: could not broadcast input array from shape (1036,0) into shape (1036,59)"
     ]
    }
   ],
   "source": [
    "decoder_input_data = np.zeros_like(X)\n",
    "decoder_input_data[:,1:,0] = y[:,:-1,0]\n",
    "decoder_target_data = y\n",
    "\n",
    "model.fit([X, decoder_input_data], decoder_target_data, batch_size=32, epochs=10, validation_split=0.2)\n"
   ],
   "metadata": {
    "collapsed": false,
    "ExecuteTime": {
     "end_time": "2024-02-03T18:16:05.026865Z",
     "start_time": "2024-02-03T18:16:04.999086Z"
    }
   },
   "id": "1f5d4f0ca0655749",
   "execution_count": 9
  },
  {
   "cell_type": "code",
   "outputs": [],
   "source": [],
   "metadata": {
    "collapsed": false,
    "ExecuteTime": {
     "start_time": "2024-02-03T18:16:05.015344Z"
    }
   },
   "id": "1c74cc0ea748bcc3"
  }
 ],
 "metadata": {
  "kernelspec": {
   "display_name": "Python 3",
   "language": "python",
   "name": "python3"
  },
  "language_info": {
   "codemirror_mode": {
    "name": "ipython",
    "version": 2
   },
   "file_extension": ".py",
   "mimetype": "text/x-python",
   "name": "python",
   "nbconvert_exporter": "python",
   "pygments_lexer": "ipython2",
   "version": "2.7.6"
  }
 },
 "nbformat": 4,
 "nbformat_minor": 5
}
