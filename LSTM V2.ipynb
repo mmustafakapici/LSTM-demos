{
  "cells": [
    {
      "cell_type": "code",
      "execution_count": 1,
      "metadata": {
        "colab": {
          "base_uri": "https://localhost:8080/"
        },
        "id": "qjEuJ-j7yEdK",
        "outputId": "49462ae4-592f-4240-f8a2-633308ac4022"
      },
      "outputs": [],
      "source": [
        "import pandas as pd \n",
        "import numpy as np\n",
        "import matplotlib.pyplot as plt\n",
        "\n",
        "import tensorflow as tf"
      ]
    },
    {
      "cell_type": "code",
      "execution_count": 2,
      "metadata": {},
      "outputs": [
        {
          "name": "stdout",
          "output_type": "stream",
          "text": [
            "[*********************100%%**********************]  1 of 1 completed\n"
          ]
        },
        {
          "data": {
            "text/html": [
              "<div>\n",
              "<style scoped>\n",
              "    .dataframe tbody tr th:only-of-type {\n",
              "        vertical-align: middle;\n",
              "    }\n",
              "\n",
              "    .dataframe tbody tr th {\n",
              "        vertical-align: top;\n",
              "    }\n",
              "\n",
              "    .dataframe thead th {\n",
              "        text-align: right;\n",
              "    }\n",
              "</style>\n",
              "<table border=\"1\" class=\"dataframe\">\n",
              "  <thead>\n",
              "    <tr style=\"text-align: right;\">\n",
              "      <th></th>\n",
              "      <th>Open</th>\n",
              "      <th>High</th>\n",
              "      <th>Low</th>\n",
              "      <th>Close</th>\n",
              "      <th>Adj Close</th>\n",
              "      <th>Volume</th>\n",
              "    </tr>\n",
              "    <tr>\n",
              "      <th>Date</th>\n",
              "      <th></th>\n",
              "      <th></th>\n",
              "      <th></th>\n",
              "      <th></th>\n",
              "      <th></th>\n",
              "      <th></th>\n",
              "    </tr>\n",
              "  </thead>\n",
              "  <tbody>\n",
              "    <tr>\n",
              "      <th>2014-09-17</th>\n",
              "      <td>465.864014</td>\n",
              "      <td>468.174011</td>\n",
              "      <td>452.421997</td>\n",
              "      <td>457.334015</td>\n",
              "      <td>457.334015</td>\n",
              "      <td>21056800</td>\n",
              "    </tr>\n",
              "    <tr>\n",
              "      <th>2014-09-18</th>\n",
              "      <td>456.859985</td>\n",
              "      <td>456.859985</td>\n",
              "      <td>413.104004</td>\n",
              "      <td>424.440002</td>\n",
              "      <td>424.440002</td>\n",
              "      <td>34483200</td>\n",
              "    </tr>\n",
              "    <tr>\n",
              "      <th>2014-09-19</th>\n",
              "      <td>424.102997</td>\n",
              "      <td>427.834991</td>\n",
              "      <td>384.532013</td>\n",
              "      <td>394.795990</td>\n",
              "      <td>394.795990</td>\n",
              "      <td>37919700</td>\n",
              "    </tr>\n",
              "    <tr>\n",
              "      <th>2014-09-20</th>\n",
              "      <td>394.673004</td>\n",
              "      <td>423.295990</td>\n",
              "      <td>389.882996</td>\n",
              "      <td>408.903992</td>\n",
              "      <td>408.903992</td>\n",
              "      <td>36863600</td>\n",
              "    </tr>\n",
              "    <tr>\n",
              "      <th>2014-09-21</th>\n",
              "      <td>408.084991</td>\n",
              "      <td>412.425995</td>\n",
              "      <td>393.181000</td>\n",
              "      <td>398.821014</td>\n",
              "      <td>398.821014</td>\n",
              "      <td>26580100</td>\n",
              "    </tr>\n",
              "  </tbody>\n",
              "</table>\n",
              "</div>"
            ],
            "text/plain": [
              "                  Open        High         Low       Close   Adj Close  \\\n",
              "Date                                                                     \n",
              "2014-09-17  465.864014  468.174011  452.421997  457.334015  457.334015   \n",
              "2014-09-18  456.859985  456.859985  413.104004  424.440002  424.440002   \n",
              "2014-09-19  424.102997  427.834991  384.532013  394.795990  394.795990   \n",
              "2014-09-20  394.673004  423.295990  389.882996  408.903992  408.903992   \n",
              "2014-09-21  408.084991  412.425995  393.181000  398.821014  398.821014   \n",
              "\n",
              "              Volume  \n",
              "Date                  \n",
              "2014-09-17  21056800  \n",
              "2014-09-18  34483200  \n",
              "2014-09-19  37919700  \n",
              "2014-09-20  36863600  \n",
              "2014-09-21  26580100  "
            ]
          },
          "execution_count": 2,
          "metadata": {},
          "output_type": "execute_result"
        }
      ],
      "source": [
        "import yfinance as yf\n",
        "\n",
        "# Download Bitcoin data from Yahoo Finance\n",
        "\n",
        "btc_data = yf.download('BTC-USD', period='3600d')  # Bitcoin verilerini yfinance ile indirme\n",
        "df = btc_data[['Open', 'High', 'Low', 'Close' , 'Adj Close', 'Volume']]  # İlgili sütunların seçilmesi\n",
        "\n",
        "df.head()  # İlk 5 satırın gösterilmesi"
      ]
    },
    {
      "cell_type": "markdown",
      "metadata": {
        "id": "EQiDyqJaCdSS"
      },
      "source": [
        "Looking good! Let's get some more info."
      ]
    },
    {
      "cell_type": "code",
      "execution_count": 3,
      "metadata": {
        "colab": {
          "base_uri": "https://localhost:8080/"
        },
        "id": "Z-YoeINjCzJ_",
        "outputId": "d4ac2c82-9f59-438a-c749-fe418b04764d"
      },
      "outputs": [
        {
          "name": "stdout",
          "output_type": "stream",
          "text": [
            "<class 'pandas.core.frame.DataFrame'>\n",
            "DatetimeIndex: 3396 entries, 2014-09-17 to 2024-01-03\n",
            "Data columns (total 6 columns):\n",
            " #   Column     Non-Null Count  Dtype  \n",
            "---  ------     --------------  -----  \n",
            " 0   Open       3396 non-null   float64\n",
            " 1   High       3396 non-null   float64\n",
            " 2   Low        3396 non-null   float64\n",
            " 3   Close      3396 non-null   float64\n",
            " 4   Adj Close  3396 non-null   float64\n",
            " 5   Volume     3396 non-null   int64  \n",
            "dtypes: float64(5), int64(1)\n",
            "memory usage: 185.7 KB\n"
          ]
        }
      ],
      "source": [
        "df.info()"
      ]
    },
    {
      "cell_type": "markdown",
      "metadata": {
        "id": "4s00kcEDCrjV"
      },
      "source": [
        "Because we told pandas to parse the date column and set it as the index, its not in the list of columns.\n",
        "\n",
        "You can also see there isn't many samples."
      ]
    },
    {
      "cell_type": "code",
      "execution_count": 4,
      "metadata": {
        "colab": {
          "base_uri": "https://localhost:8080/"
        },
        "id": "XP3cN0uvlxhi",
        "outputId": "39e39718-290e-4d99-f62a-8ec042714e65"
      },
      "outputs": [
        {
          "data": {
            "text/plain": [
              "3396"
            ]
          },
          "execution_count": 4,
          "metadata": {},
          "output_type": "execute_result"
        }
      ],
      "source": [
        "# How many samples do we have?\n",
        "len(df)"
      ]
    },
    {
      "cell_type": "code",
      "execution_count": 5,
      "metadata": {
        "colab": {
          "base_uri": "https://localhost:8080/",
          "height": 235
        },
        "id": "QxoNCv2NCuLY",
        "outputId": "0fce77d2-7d89-4c68-c26b-c7b6750efc44"
      },
      "outputs": [
        {
          "data": {
            "text/html": [
              "<div>\n",
              "<style scoped>\n",
              "    .dataframe tbody tr th:only-of-type {\n",
              "        vertical-align: middle;\n",
              "    }\n",
              "\n",
              "    .dataframe tbody tr th {\n",
              "        vertical-align: top;\n",
              "    }\n",
              "\n",
              "    .dataframe thead th {\n",
              "        text-align: right;\n",
              "    }\n",
              "</style>\n",
              "<table border=\"1\" class=\"dataframe\">\n",
              "  <thead>\n",
              "    <tr style=\"text-align: right;\">\n",
              "      <th></th>\n",
              "      <th>Price</th>\n",
              "    </tr>\n",
              "    <tr>\n",
              "      <th>Date</th>\n",
              "      <th></th>\n",
              "    </tr>\n",
              "  </thead>\n",
              "  <tbody>\n",
              "    <tr>\n",
              "      <th>2014-09-17</th>\n",
              "      <td>457.334015</td>\n",
              "    </tr>\n",
              "    <tr>\n",
              "      <th>2014-09-18</th>\n",
              "      <td>424.440002</td>\n",
              "    </tr>\n",
              "    <tr>\n",
              "      <th>2014-09-19</th>\n",
              "      <td>394.795990</td>\n",
              "    </tr>\n",
              "    <tr>\n",
              "      <th>2014-09-20</th>\n",
              "      <td>408.903992</td>\n",
              "    </tr>\n",
              "    <tr>\n",
              "      <th>2014-09-21</th>\n",
              "      <td>398.821014</td>\n",
              "    </tr>\n",
              "  </tbody>\n",
              "</table>\n",
              "</div>"
            ],
            "text/plain": [
              "                 Price\n",
              "Date                  \n",
              "2014-09-17  457.334015\n",
              "2014-09-18  424.440002\n",
              "2014-09-19  394.795990\n",
              "2014-09-20  408.903992\n",
              "2014-09-21  398.821014"
            ]
          },
          "execution_count": 5,
          "metadata": {},
          "output_type": "execute_result"
        }
      ],
      "source": [
        "import pandas as pd\n",
        "\n",
        "# Only want closing price for each day \n",
        "bitcoin_prices = pd.DataFrame(df[\"Close\"]).rename(columns={\"Close\": \"Price\"})\n",
        "bitcoin_prices.head()"
      ]
    },
    {
      "cell_type": "markdown",
      "metadata": {
        "id": "olHSR6poID_w"
      },
      "source": [
        "Much better!\n",
        "\n",
        "But that's only five days worth of Bitcoin prices, let's plot everything we've got."
      ]
    },
    {
      "cell_type": "code",
      "execution_count": 6,
      "metadata": {
        "colab": {
          "base_uri": "https://localhost:8080/",
          "height": 460
        },
        "id": "CfkhZhmCEyUe",
        "outputId": "c49b5f77-3059-416d-8a13-9ae7f2768ebf"
      },
      "outputs": [
        {
          "data": {
            "image/png": "[encoded data removed]",
            "text/plain": [
              "<Figure size 1000x700 with 1 Axes>"
            ]
          },
          "metadata": {},
          "output_type": "display_data"
        }
      ],
      "source": [
        "import matplotlib.pyplot as plt\n",
        "bitcoin_prices.plot(figsize=(10, 7))\n",
        "plt.ylabel(\"BTC Price\")\n",
        "plt.title(\"Price of Bitcoin from 1 Oct 2013 to 18 May 2021\", fontsize=16)\n",
        "plt.legend(fontsize=14);"
      ]
    },
    {
      "cell_type": "markdown",
      "metadata": {
        "id": "Wndwxoo_IZry"
      },
      "source": [
        "Woah, looks like it would've been a good idea to buy Bitcoin back in 2014."
      ]
    },
    {
      "cell_type": "code",
      "execution_count": 7,
      "metadata": {
        "colab": {
          "base_uri": "https://localhost:8080/"
        },
        "id": "UkTvwP2DCuGK",
        "outputId": "9bf2e5c1-fea5-44a2-e247-71a72645848c"
      },
      "outputs": [
        {
          "data": {
            "text/plain": [
              "([Timestamp('2014-09-17 00:00:00'),\n",
              "  Timestamp('2014-09-18 00:00:00'),\n",
              "  Timestamp('2014-09-19 00:00:00'),\n",
              "  Timestamp('2014-09-20 00:00:00'),\n",
              "  Timestamp('2014-09-21 00:00:00'),\n",
              "  Timestamp('2014-09-22 00:00:00'),\n",
              "  Timestamp('2014-09-23 00:00:00'),\n",
              "  Timestamp('2014-09-24 00:00:00'),\n",
              "  Timestamp('2014-09-25 00:00:00'),\n",
              "  Timestamp('2014-09-26 00:00:00')],\n",
              " [457.3340148925781,\n",
              "  424.44000244140625,\n",
              "  394.7959899902344,\n",
              "  408.90399169921875,\n",
              "  398.8210144042969,\n",
              "  402.1520080566406,\n",
              "  435.7909851074219,\n",
              "  423.2049865722656,\n",
              "  411.5740051269531,\n",
              "  404.42498779296875])"
            ]
          },
          "execution_count": 7,
          "metadata": {},
          "output_type": "execute_result"
        }
      ],
      "source": [
        "# Formatting historical Bitcoin data with Python\n",
        "from datetime import datetime\n",
        "\n",
        "timesteps = []\n",
        "btc_price = []\n",
        "\n",
        "\n",
        "# ilk 10 satırın gösterilmesi\n",
        "for row in df.itertuples():\n",
        "  timesteps.append(row.Index)\n",
        "  btc_price.append(row.Close)\n",
        "\n",
        "\n",
        "\n",
        "\n",
        "\n",
        "timesteps[:10], btc_price[:10]"
      ]
    },
    {
      "cell_type": "markdown",
      "metadata": {
        "id": "40o59gpNKtRs"
      },
      "source": [
        "Beautiful! Now, let's see how things look."
      ]
    },
    {
      "cell_type": "code",
      "execution_count": 8,
      "metadata": {
        "colab": {
          "base_uri": "https://localhost:8080/",
          "height": 460
        },
        "id": "bTSX7RZ9Cytj",
        "outputId": "2ed83ea1-2136-4890-93b7-f94ffdb50870"
      },
      "outputs": [
        {
          "data": {
            "image/png": "[encoded data removed]",
            "text/plain": [
              "<Figure size 1000x700 with 1 Axes>"
            ]
          },
          "metadata": {},
          "output_type": "display_data"
        }
      ],
      "source": [
        "# Plotting\n",
        "import matplotlib.pyplot as plt\n",
        "import numpy as np\n",
        "plt.figure(figsize=(10, 7))\n",
        "plt.plot(timesteps, btc_price)\n",
        "plt.title(\"Price of Bitcoin \", fontsize=16)\n",
        "plt.xlabel(\"Date\")\n",
        "plt.ylabel(\"BTC Price\");"
      ]
    },
    {
      "cell_type": "markdown",
      "metadata": {
        "id": "G12TARVyK_gN"
      },
      "source": [
        "Ho ho! Would you look at that! Just like the pandas plot. And because we formatted the `timesteps` to be `datetime` objects, `matplotlib` displays a fantastic looking date axis."
      ]
    },
    {
      "cell_type": "code",
      "execution_count": 9,
      "metadata": {},
      "outputs": [
        {
          "data": {
            "text/plain": [
              "(array(['2014-09-17T00:00:00.000000000', '2014-09-18T00:00:00.000000000',\n",
              "        '2014-09-19T00:00:00.000000000', '2014-09-20T00:00:00.000000000',\n",
              "        '2014-09-21T00:00:00.000000000', '2014-09-22T00:00:00.000000000',\n",
              "        '2014-09-23T00:00:00.000000000', '2014-09-24T00:00:00.000000000',\n",
              "        '2014-09-25T00:00:00.000000000', '2014-09-26T00:00:00.000000000'],\n",
              "       dtype='datetime64[ns]'),\n",
              " array([457.33401489, 424.44000244, 394.79598999, 408.9039917 ,\n",
              "        398.8210144 , 402.15200806, 435.79098511, 423.20498657,\n",
              "        411.57400513, 404.42498779]))"
            ]
          },
          "execution_count": 9,
          "metadata": {},
          "output_type": "execute_result"
        }
      ],
      "source": [
        "# Get bitcoin date array\n",
        "timesteps = bitcoin_prices.index.to_numpy()\n",
        "prices = bitcoin_prices[\"Price\"].to_numpy()\n",
        "\n",
        "timesteps[:10], prices[:10]"
      ]
    },
    {
      "cell_type": "markdown",
      "metadata": {
        "id": "_nfP7i9R_dOp"
      },
      "source": [
        "## Format Data Part 1: Creatining train and test sets for time series data\n",
        "\n",
        "\n",
        "\n",
        "Usually, you could create a train and test split using a function like Scikit-Learn's outstanding [`train_test_split()`](https://scikit-learn.org/stable/modules/generated/sklearn.model_selection.train_test_split.html) but as we'll see in a moment, this doesn't really cut it for time series data.\n",
        "\n",
        "But before we do create splits, it's worth talking about what *kind* of data we have.\n",
        "\n",
        "In time series problems, you'll either have **univariate** or **multivariate** data.\n",
        "\n",
        "Can you guess what our data is?\n",
        "\n",
        "* **Univariate** time series data deals with *one* variable, for example, using the price of Bitcoin to predict the price of Bitcoin.\n",
        "* **Multivariate** time series data deals with *more than one* variable, for example, predicting electricity demand using the day of week, time of year and number of houses in a region.\n",
        "\n",
        "![comparison of univariate and multivariate time series data](https://raw.githubusercontent.com/mrdbourke/tensorflow-deep-learning/main/images/10-univariate-and-multivariate-time-series-data.png)\n",
        "*Example of univariate and multivariate time series data. Univariate involves using the target to predict the target. Multivariate inolves using the target as well as another time series to predict the target.*"
      ]
    },
    {
      "cell_type": "markdown",
      "metadata": {
        "id": "ajoASBK2size"
      },
      "source": [
        "### Create train & test sets for time series (the right way)\n",
        "\n",
        "Of course, there's no way we can actually access data from the future.\n",
        "\n",
        "But we can engineer our test set to be in the future with respect to the training set.\n",
        "\n",
        "To do this, we can create an abitrary point in time to split our data.\n",
        "\n",
        "Everything before the point in time can be considered the training set and everything after the point in time can be considered the test set.\n",
        "\n",
        "![time series train test split](https://raw.githubusercontent.com/mrdbourke/tensorflow-deep-learning/main/images/10-time-series-train-test-split.png)\n",
        "*Demonstration of time series split. Rather than a traditionaly random train/test split, it's best to split the time series data sequentially. Meaning, the test data should be data from the future when compared to the training data.*"
      ]
    },
    {
      "cell_type": "code",
      "execution_count": 172,
      "metadata": {
        "colab": {
          "base_uri": "https://localhost:8080/"
        },
        "id": "lpEVKyXANLT4",
        "outputId": "94acf2dc-837b-4b73-aa37-63eefe8ffadd"
      },
      "outputs": [
        {
          "data": {
            "text/plain": [
              "(2713, 679, 2713, 679)"
            ]
          },
          "execution_count": 172,
          "metadata": {},
          "output_type": "execute_result"
        }
      ],
      "source": [
        "# Create train and test splits the right way for time series data\n",
        "split_size = int(0.8 * len(prices)) # 80% train, 20% test\n",
        "\n",
        "# Create train data splits (everything before the split)\n",
        "X_train, y_train = timesteps[:split_size], prices[:split_size]\n",
        "\n",
        "# Create test data splits (everything after the split)\n",
        "X_test, y_test = timesteps[split_size:], prices[split_size:]\n",
        "\n",
        "len(X_train), len(X_test), len(y_train), len(y_test)"
      ]
    },
    {
      "cell_type": "markdown",
      "metadata": {
        "id": "ByN_YCotv3zk"
      },
      "source": [
        "Okay, looks like our custom made splits are the same lengths as the splits we made with `train_test_split`.\n",
        "\n",
        "But again, these are numbers on a page.\n",
        "\n",
        "And you know how the saying goes, trust one eye more than two ears.\n",
        "\n",
        "Let's visualize."
      ]
    },
    {
      "cell_type": "code",
      "execution_count": 173,
      "metadata": {
        "colab": {
          "base_uri": "https://localhost:8080/",
          "height": 442
        },
        "id": "L9QImNlhOQuS",
        "outputId": "a0eae767-fea6-44df-b68c-b63baa60cc49"
      },
      "outputs": [
        {
          "data": {
            "image/png": "[encoded data removed]",
            "text/plain": [
              "<Figure size 1000x700 with 1 Axes>"
            ]
          },
          "metadata": {},
          "output_type": "display_data"
        }
      ],
      "source": [
        "# Plot correctly made splits\n",
        "plt.figure(figsize=(10, 7))\n",
        "plt.scatter(X_train, y_train, s=5, label=\"Train data\")\n",
        "plt.scatter(X_test, y_test, s=5, label=\"Test data\")\n",
        "plt.xlabel(\"Date\")\n",
        "plt.ylabel(\"BTC Price\")\n",
        "plt.legend(fontsize=14)\n",
        "plt.show();"
      ]
    },
    {
      "cell_type": "markdown",
      "metadata": {
        "id": "tmp1pSbaunlf"
      },
      "source": [
        "That looks much better!\n",
        "\n",
        "Do you see what's happened here?\n",
        "\n",
        "We're going to be using the training set (past) to train a model to try and predict values on the test set (future).\n",
        "\n",
        "Because the test set is an *artificial* future, we can guage how our model might perform on *actual* future data.\n",
        "\n",
        "> 🔑 **Note:** The amount of data you reserve for your test set not set in stone. You could have 80/20, 90/10, 95/5 splits or in some cases, you might not even have enough data to split into train and test sets (see the resource below). The point is to remember the test set is a pseudofuture and not the actual future, it is only meant to give you an indication of how the models you're building are performing. \n",
        "\n",
        "> 📖 **Resource:** Working with time series data can be tricky compared to other kinds of data. And there are a few pitfalls to watch out for, such as how much data to use for a test set. The article [*3 facts about time series forecasting that surprise experienced machine learning practitioners*](https://towardsdatascience.com/3-facts-about-time-series-forecasting-that-surprise-experienced-machine-learning-practitioners-69c18ee89387) talks about different things to watch out for when working with time series data, I'd recommend reading it.\n",
        "\n"
      ]
    },
    {
      "cell_type": "markdown",
      "metadata": {
        "id": "sGUelYVKCybB"
      },
      "source": [
        "### Create a plotting function\n",
        "\n",
        "Rather than retyping `matplotlib` commands to continuously plot data, let's make a plotting function we can reuse later."
      ]
    },
    {
      "cell_type": "code",
      "execution_count": 174,
      "metadata": {
        "id": "trkvizA0C6vc"
      },
      "outputs": [],
      "source": [
        "# Create a function to plot time series data\n",
        "def plot_time_series(timesteps, values, format='.', start=0, end=None, label=None):\n",
        "  \"\"\"\n",
        "  Plots a timesteps (a series of points in time) against values (a series of values across timesteps).\n",
        "  \n",
        "  Parameters\n",
        "  ---------\n",
        "  timesteps : array of timesteps\n",
        "  values : array of values across time\n",
        "  format : style of plot, default \".\"\n",
        "  start : where to start the plot (setting a value will index from start of timesteps & values)\n",
        "  end : where to end the plot (setting a value will index from end of timesteps & values)\n",
        "  label : label to show on plot of values\n",
        "  \"\"\"\n",
        "  # Plot the series\n",
        "  plt.plot(timesteps[start:end], values[start:end], format, label=label)\n",
        "  plt.xlabel(\"Time\")\n",
        "  plt.ylabel(\"BTC Price\")\n",
        "  if label:\n",
        "    plt.legend(fontsize=14) # make label bigger\n",
        "  plt.grid(True)"
      ]
    },
    {
      "cell_type": "code",
      "execution_count": 175,
      "metadata": {
        "colab": {
          "base_uri": "https://localhost:8080/",
          "height": 442
        },
        "id": "6TyFY1cGC_sw",
        "outputId": "41e56d50-31b2-4c88-9d78-7095f6e74dd8"
      },
      "outputs": [
        {
          "data": {
            "image/png": "[encoded data removed]",
            "text/plain": [
              "<Figure size 1000x700 with 1 Axes>"
            ]
          },
          "metadata": {},
          "output_type": "display_data"
        }
      ],
      "source": [
        "# Try out our plotting function\n",
        "plt.figure(figsize=(10, 7))\n",
        "plot_time_series(timesteps=X_train, values=y_train, label=\"Train data\")\n",
        "plot_time_series(timesteps=X_test, values=y_test, label=\"Test data\")"
      ]
    },
    {
      "cell_type": "markdown",
      "metadata": {
        "id": "SDeel1jj8ioU"
      },
      "source": [
        "Looking good!\n",
        "\n",
        "Time for some modelling experiments."
      ]
    },
    {
      "cell_type": "markdown",
      "metadata": {
        "id": "1ys3PAVUTo6q"
      },
      "source": [
        "And since TensorFlow doesn't have a ready made version of MASE (mean aboslute scaled error), how about we create our own?\n",
        "\n",
        "We'll take inspiration from [sktime](https://github.com/alan-turing-institute/sktime)'s (Scikit-Learn for time series) [`MeanAbsoluteScaledError`](https://www.sktime.org/en/stable/api_reference/auto_generated/sktime.performance_metrics.forecasting.MeanAbsoluteScaledError.html#sktime.performance_metrics.forecasting.MeanAbsoluteScaledError) class which calculates the MASE."
      ]
    },
    {
      "cell_type": "code",
      "execution_count": 176,
      "metadata": {
        "id": "2jbLBJ_IGjla"
      },
      "outputs": [],
      "source": [
        "# MASE implemented courtesy of sktime - https://github.com/alan-turing-institute/sktime/blob/ee7a06843a44f4aaec7582d847e36073a9ab0566/sktime/performance_metrics/forecasting/_functions.py#L16\n",
        "def mean_absolute_scaled_error(y_true, y_pred):\n",
        "  \"\"\"\n",
        "  Implement MASE (assuming no seasonality of data).\n",
        "  \"\"\"\n",
        "  mae = tf.reduce_mean(tf.abs(y_true - y_pred))\n",
        "\n",
        "  # Find MAE of naive forecast (no seasonality)\n",
        "  mae_naive_no_season = tf.reduce_mean(tf.abs(y_true[1:] - y_true[:-1])) # our seasonality is 1 day (hence the shifting of 1 day)\n",
        "\n",
        "  return mae / mae_naive_no_season"
      ]
    },
    {
      "cell_type": "markdown",
      "metadata": {
        "id": "yD4P7-wwUVWj"
      },
      "source": [
        "You'll notice the version of MASE above doesn't take in the training values like sktime's `mae_loss()`. In our case, we're comparing the MAE of our predictions on the test to the MAE of the naïve forecast on the test set.\n",
        "\n",
        "In practice, if we've created the function correctly, the naïve model should achieve an MASE of 1 (or very close to 1). Any model worse than the naïve forecast will achieve an MASE of >1 and any model better than the naïve forecast will achieve an MASE of <1.\n",
        "\n",
        "Let's put each of our different evaluation metrics together into a function."
      ]
    },
    {
      "cell_type": "code",
      "execution_count": 177,
      "metadata": {
        "id": "MwMeVgRXWaJp"
      },
      "outputs": [],
      "source": [
        "def evaluate_preds(y_true, y_pred):\n",
        "  # Make sure float32 (for metric calculations)\n",
        "  y_true = tf.cast(y_true, dtype=tf.float32)\n",
        "  y_pred = tf.cast(y_pred, dtype=tf.float32)\n",
        "\n",
        "  # Calculate various metrics\n",
        "  mae = tf.keras.metrics.mean_absolute_error(y_true, y_pred)\n",
        "  mse = tf.keras.metrics.mean_squared_error(y_true, y_pred) # puts and emphasis on outliers (all errors get squared)\n",
        "  rmse = tf.sqrt(mse)\n",
        "  mape = tf.keras.metrics.mean_absolute_percentage_error(y_true, y_pred)\n",
        "  mase = mean_absolute_scaled_error(y_true, y_pred)\n",
        "  \n",
        "  return {\"mae\": mae.numpy(),\n",
        "          \"mse\": mse.numpy(),\n",
        "          \"rmse\": rmse.numpy(),\n",
        "          \"mape\": mape.numpy(),\n",
        "          \"mase\": mase.numpy()}"
      ]
    },
    {
      "cell_type": "markdown",
      "metadata": {
        "id": "VAKTXEIPVKfR"
      },
      "source": [
        "Looking good! How about we test our function on the naive forecast?"
      ]
    },
    {
      "cell_type": "code",
      "execution_count": 178,
      "metadata": {
        "colab": {
          "base_uri": "https://localhost:8080/"
        },
        "id": "Yjl-X9QLVhp1",
        "outputId": "d96d84d8-af33-4574-98c6-cecba5a211a9"
      },
      "outputs": [
        {
          "data": {
            "text/plain": [
              "27564.735401900773"
            ]
          },
          "execution_count": 178,
          "metadata": {},
          "output_type": "execute_result"
        }
      ],
      "source": [
        "# Find average price of Bitcoin in test dataset\n",
        "tf.reduce_mean(y_test).numpy()"
      ]
    },
    {
      "cell_type": "markdown",
      "metadata": {
        "id": "e8AzwUvjBkgY"
      },
      "source": [
        "## Format Data Part 2: Windowing dataset\n",
        "\n",
        "Surely we'd be ready to start building models by now?\n",
        "\n",
        "We're so close! Only one more step (really two) to go.\n",
        "\n",
        "We've got to window our time series.\n",
        "\n",
        "Why do we window?\n",
        "\n",
        "Windowing is a method to turn a time series dataset into **supervised learning problem**. \n",
        "\n",
        "In other words, we want to use windows of the past to predict the future.\n",
        "\n",
        "For example for a univariate time series, windowing for one week (`window=7`) to predict the next single value (`horizon=1`) might look like:\n",
        "\n",
        "```\n",
        "Window for one week (univariate time series)\n",
        "\n",
        "[0, 1, 2, 3, 4, 5, 6] -> [7]\n",
        "[1, 2, 3, 4, 5, 6, 7] -> [8]\n",
        "[2, 3, 4, 5, 6, 7, 8] -> [9]\n",
        "```\n",
        "\n",
        "Or for the price of Bitcoin, it'd look like:\n",
        "\n",
        "```\n",
        "Window for one week with the target of predicting the next day (Bitcoin prices)\n",
        "\n",
        "[123.654, 125.455, 108.584, 118.674, 121.338, 120.655, 121.795] -> [123.033]\n",
        "[125.455, 108.584, 118.674, 121.338, 120.655, 121.795, 123.033] -> [124.049]\n",
        "[108.584, 118.674, 121.338, 120.655, 121.795, 123.033, 124.049] -> [125.961]\n",
        "```\n",
        "\n",
        "![windows and horizons for turning time series data into a supervised learning problem](https://raw.githubusercontent.com/mrdbourke/tensorflow-deep-learning/main/images/10-time-series-windows-and-horizons.png)\n",
        "*Example of windows and horizons for Bitcoin data. Windowing can be used to turn time series data into a supervised learning problem.*\n",
        "\n",
        "Let's build some functions which take in a univariate time series and turn it into windows and horizons of specified sizes.\n",
        "\n",
        "We'll start with the default horizon size of 1 and a window size of 7 (these aren't necessarily the best values to use, I've just picked them)."
      ]
    },
    {
      "cell_type": "code",
      "execution_count": 179,
      "metadata": {
        "id": "LibzWQXM2ib-"
      },
      "outputs": [],
      "source": [
        "HORIZON = 1 # predict 1 step at a time\n",
        "WINDOW_SIZE = 7 # use a week worth of timesteps to predict the horizon"
      ]
    },
    {
      "cell_type": "markdown",
      "metadata": {
        "id": "1AQ0HWWzfRW_"
      },
      "source": [
        "Now we'll write a function to take in an array and turn it into a window and horizon."
      ]
    },
    {
      "cell_type": "code",
      "execution_count": 180,
      "metadata": {
        "id": "zV8pv5K_x81E"
      },
      "outputs": [],
      "source": [
        "# Create function to label windowed data\n",
        "def get_labelled_windows(x, horizon=1):\n",
        "  \"\"\"\n",
        "  Creates labels for windowed dataset.\n",
        "\n",
        "  E.g. if horizon=1 (default)\n",
        "  Input: [1, 2, 3, 4, 5, 6] -> Output: ([1, 2, 3, 4, 5], [6])\n",
        "  \"\"\"\n",
        "  return x[:, :-horizon], x[:, -horizon:]"
      ]
    },
    {
      "cell_type": "code",
      "execution_count": 181,
      "metadata": {
        "colab": {
          "base_uri": "https://localhost:8080/"
        },
        "id": "ejJ9vCyKff8F",
        "outputId": "805b4459-9f5e-4311-9592-41efefd22546"
      },
      "outputs": [
        {
          "name": "stdout",
          "output_type": "stream",
          "text": [
            "Window: [1 2 3 4 5 6 7] -> Label: 8\n"
          ]
        }
      ],
      "source": [
        "# Test out the window labelling function\n",
        "test_window, test_label = get_labelled_windows(tf.expand_dims(tf.range(8)+1, axis=0), horizon=HORIZON)\n",
        "print(f\"Window: {tf.squeeze(test_window).numpy()} -> Label: {tf.squeeze(test_label).numpy()}\")"
      ]
    },
    {
      "cell_type": "markdown",
      "metadata": {
        "id": "qc4U4ExKfx6S"
      },
      "source": [
        "Oh yeah, that's what I'm talking about!\n",
        "\n",
        "Now we need a way to make windows for an entire time series.\n",
        "\n",
        "We could do this with Python for loops, however, for large time series, that'd be quite slow.\n",
        "\n",
        "To speed things up, we'll leverage [NumPy's array indexing](https://numpy.org/doc/stable/reference/arrays.indexing.html).\n",
        "\n",
        "Let's write a function which:\n",
        "1. Creates a window step of specific window size, for example: `[[0, 1, 2, 3, 4, 5, 6, 7]]`\n",
        "2. Uses NumPy indexing to create a 2D of multiple window steps, for example: \n",
        "```\n",
        "[[0, 1, 2, 3, 4, 5, 6, 7],\n",
        " [1, 2, 3, 4, 5, 6, 7, 8],\n",
        " [2, 3, 4, 5, 6, 7, 8, 9]]\n",
        "```\n",
        "3. Uses the 2D array of multuple window steps to index on a target series\n",
        "4. Uses the `get_labelled_windows()` function we created above to turn the window steps into windows with a specified horizon\n",
        "\n",
        "> 📖 **Resource:** The function created below has been adapted from Syafiq Kamarul Azman's article [*Fast and Robust Sliding Window Vectorization with NumPy*](https://towardsdatascience.com/fast-and-robust-sliding-window-vectorization-with-numpy-3ad950ed62f5)."
      ]
    },
    {
      "cell_type": "code",
      "execution_count": 182,
      "metadata": {
        "id": "apea0wiJyCI6"
      },
      "outputs": [],
      "source": [
        "# Create function to view NumPy arrays as windows \n",
        "def make_windows(x, window_size=7, horizon=1):\n",
        "  \"\"\"\n",
        "  Turns a 1D array into a 2D array of sequential windows of window_size.\n",
        "  \"\"\"\n",
        "  # 1. Create a window of specific window_size (add the horizon on the end for later labelling)\n",
        "  window_step = np.expand_dims(np.arange(window_size+horizon), axis=0)\n",
        "  # print(f\"Window step:\\n {window_step}\")\n",
        "\n",
        "  # 2. Create a 2D array of multiple window steps (minus 1 to account for 0 indexing)\n",
        "  window_indexes = window_step + np.expand_dims(np.arange(len(x)-(window_size+horizon-1)), axis=0).T # create 2D array of windows of size window_size\n",
        "  # print(f\"Window indexes:\\n {window_indexes[:3], window_indexes[-3:], window_indexes.shape}\")\n",
        "\n",
        "  # 3. Index on the target array (time series) with 2D array of multiple window steps\n",
        "  windowed_array = x[window_indexes]\n",
        "\n",
        "  # 4. Get the labelled windows\n",
        "  windows, labels = get_labelled_windows(windowed_array, horizon=horizon)\n",
        "\n",
        "  return windows, labels"
      ]
    },
    {
      "cell_type": "markdown",
      "metadata": {
        "id": "TYQD0PRLkMIs"
      },
      "source": [
        "Phew! A few steps there... let's see how it goes."
      ]
    },
    {
      "cell_type": "code",
      "execution_count": 183,
      "metadata": {
        "colab": {
          "base_uri": "https://localhost:8080/"
        },
        "id": "u7Yc3V7fc1UG",
        "outputId": "41dce6b2-d01b-4943-f1c8-a113c256bc2d"
      },
      "outputs": [
        {
          "data": {
            "text/plain": [
              "(3385, 3385)"
            ]
          },
          "execution_count": 183,
          "metadata": {},
          "output_type": "execute_result"
        }
      ],
      "source": [
        "full_windows, full_labels = make_windows(prices, window_size=WINDOW_SIZE, horizon=HORIZON)\n",
        "len(full_windows), len(full_labels)"
      ]
    },
    {
      "cell_type": "markdown",
      "metadata": {
        "id": "xhj521fWlJsy"
      },
      "source": [
        "Of course we have to visualize, visualize, visualize!"
      ]
    },
    {
      "cell_type": "code",
      "execution_count": 184,
      "metadata": {
        "colab": {
          "base_uri": "https://localhost:8080/"
        },
        "id": "U1P-MT4CkYta",
        "outputId": "a00a6bb8-de3e-4861-84bc-442441b09635"
      },
      "outputs": [
        {
          "name": "stdout",
          "output_type": "stream",
          "text": [
            "Window: [457.33401489 424.44000244 394.79598999 408.9039917  398.8210144\n",
            " 402.15200806 435.79098511] -> Label: [423.20498657]\n",
            "Window: [424.44000244 394.79598999 408.9039917  398.8210144  402.15200806\n",
            " 435.79098511 423.20498657] -> Label: [411.57400513]\n",
            "Window: [394.79598999 408.9039917  398.8210144  402.15200806 435.79098511\n",
            " 423.20498657 411.57400513] -> Label: [404.42498779]\n"
          ]
        }
      ],
      "source": [
        "# View the first 3 windows/labels\n",
        "for i in range(3):\n",
        "  print(f\"Window: {full_windows[i]} -> Label: {full_labels[i]}\")"
      ]
    },
    {
      "cell_type": "code",
      "execution_count": 185,
      "metadata": {
        "colab": {
          "base_uri": "https://localhost:8080/"
        },
        "id": "UCDtm6gskjRH",
        "outputId": "0d02d8c6-d0af-45b6-e98f-bbf22172f572"
      },
      "outputs": [
        {
          "name": "stdout",
          "output_type": "stream",
          "text": [
            "Window: [43869.15234375 43997.90234375 43739.54296875 43016.1171875\n",
            " 43613.140625   42520.40234375 43442.85546875] -> Label: [42627.85546875]\n",
            "Window: [43997.90234375 43739.54296875 43016.1171875  43613.140625\n",
            " 42520.40234375 43442.85546875 42627.85546875] -> Label: [42099.40234375]\n",
            "Window: [43739.54296875 43016.1171875  43613.140625   42520.40234375\n",
            " 43442.85546875 42627.85546875 42099.40234375] -> Label: [42278.68359375]\n"
          ]
        }
      ],
      "source": [
        "# View the last 3 windows/labels\n",
        "for i in range(3):\n",
        "  print(f\"Window: {full_windows[i-3]} -> Label: {full_labels[i-3]}\")"
      ]
    },
    {
      "cell_type": "markdown",
      "metadata": {
        "id": "exTivzXvgbmb"
      },
      "source": [
        "> 🔑 **Note:** You can find a function which achieves similar results to the ones we implemented above at [`tf.keras.preprocessing.timeseries_dataset_from_array()`](https://www.tensorflow.org/api_docs/python/tf/keras/preprocessing/timeseries_dataset_from_array). Just like ours, it takes in an array and returns a windowed dataset. It has the benefit of returning data in the form of a tf.data.Dataset instance (we'll see how to do this with our own data later).\n",
        "\n",
        "## Turning windows into training and test sets \n",
        "\n",
        "Look how good those windows look! Almost like the stain glass windows on the Sistine Chapel, well, maybe not that good but still.\n",
        "\n",
        "Time to turn our windows into training and test splits.\n",
        "\n",
        "We could've windowed our existing training and test splits, however, with the nature of windowing (windowing often requires an offset at some point in the data), it usually works better to window the data first, then split it into training and test sets.\n",
        "\n",
        "Let's write a function which takes in full sets of windows and their labels and splits them into train and test splits."
      ]
    },
    {
      "cell_type": "code",
      "execution_count": 186,
      "metadata": {
        "id": "o_8BRgb8YtP3"
      },
      "outputs": [],
      "source": [
        "# Make the train/test splits\n",
        "def make_train_test_splits(windows, labels, test_split=0.2):\n",
        "  \"\"\"\n",
        "  Splits matching pairs of windows and labels into train and test splits.\n",
        "  \"\"\"\n",
        "  split_size = int(len(windows) * (1-test_split)) # this will default to 80% train/20% test\n",
        "  train_windows = windows[:split_size]\n",
        "  train_labels = labels[:split_size]\n",
        "  test_windows = windows[split_size:]\n",
        "  test_labels = labels[split_size:]\n",
        "  return train_windows, test_windows, train_labels, test_labels"
      ]
    },
    {
      "cell_type": "markdown",
      "metadata": {
        "id": "_062e8Oec9cf"
      },
      "source": [
        "Look at that amazing function, lets test it."
      ]
    },
    {
      "cell_type": "code",
      "execution_count": 187,
      "metadata": {
        "colab": {
          "base_uri": "https://localhost:8080/"
        },
        "id": "z_xY8T7HEaoU",
        "outputId": "d31a4535-f5b7-4ee6-92bd-a056a0101794"
      },
      "outputs": [
        {
          "data": {
            "text/plain": [
              "(2708, 677, 2708, 677)"
            ]
          },
          "execution_count": 187,
          "metadata": {},
          "output_type": "execute_result"
        }
      ],
      "source": [
        "train_windows, test_windows, train_labels, test_labels = make_train_test_splits(full_windows, full_labels)\n",
        "len(train_windows), len(test_windows), len(train_labels), len(test_labels)"
      ]
    },
    {
      "cell_type": "markdown",
      "metadata": {
        "id": "75_YBwiedI2s"
      },
      "source": [
        "Notice the default split of 80% training data and 20% testing data (this split can be adjusted if needed).\n",
        "\n",
        "How do the first 5 samples of the training windows and labels looks?"
      ]
    },
    {
      "cell_type": "code",
      "execution_count": 188,
      "metadata": {
        "colab": {
          "base_uri": "https://localhost:8080/"
        },
        "id": "DDgyT7Gix1fH",
        "outputId": "ca96d4e6-56f0-4355-d2bb-6ad981fc3dae"
      },
      "outputs": [
        {
          "data": {
            "text/plain": [
              "(array([[457.33401489, 424.44000244, 394.79598999, 408.9039917 ,\n",
              "         398.8210144 , 402.15200806, 435.79098511],\n",
              "        [424.44000244, 394.79598999, 408.9039917 , 398.8210144 ,\n",
              "         402.15200806, 435.79098511, 423.20498657],\n",
              "        [394.79598999, 408.9039917 , 398.8210144 , 402.15200806,\n",
              "         435.79098511, 423.20498657, 411.57400513],\n",
              "        [408.9039917 , 398.8210144 , 402.15200806, 435.79098511,\n",
              "         423.20498657, 411.57400513, 404.42498779],\n",
              "        [398.8210144 , 402.15200806, 435.79098511, 423.20498657,\n",
              "         411.57400513, 404.42498779, 399.51998901]]),\n",
              " array([[423.20498657],\n",
              "        [411.57400513],\n",
              "        [404.42498779],\n",
              "        [399.51998901],\n",
              "        [377.18099976]]))"
            ]
          },
          "execution_count": 188,
          "metadata": {},
          "output_type": "execute_result"
        }
      ],
      "source": [
        "train_windows[:5], train_labels[:5]"
      ]
    },
    {
      "cell_type": "code",
      "execution_count": 189,
      "metadata": {
        "colab": {
          "base_uri": "https://localhost:8080/"
        },
        "id": "TkF0HmvadHBB",
        "outputId": "a257bf12-cd34-4843-e517-fc6863fcdd15"
      },
      "outputs": [
        {
          "data": {
            "text/plain": [
              "True"
            ]
          },
          "execution_count": 189,
          "metadata": {},
          "output_type": "execute_result"
        }
      ],
      "source": [
        "# Check to see if same (accounting for horizon and window size)\n",
        "np.array_equal(np.squeeze(train_labels[:-HORIZON-1]), y_train[WINDOW_SIZE:])"
      ]
    },
    {
      "cell_type": "markdown",
      "metadata": {
        "id": "PQX0PF5jV4aq"
      },
      "source": [
        "## Make a modelling checkpoint\n",
        "\n",
        "We're so close to building models. So so so close.\n",
        "\n",
        "Because our model's performance will fluctuate from experiment to experiment, we'll want to make sure we're comparing apples to apples.\n",
        "\n",
        "What I mean by this is in order for a fair comparison, we want to compare each model's best performance against each model's best performance.\n",
        "\n",
        "For example, if `model_1` performed incredibly well on epoch 55 but its performance fell off toward epoch 100, we want the version of the model from epoch 55 to compare to other models rather than the version of the model from epoch 100.\n",
        "\n",
        "And the same goes for each of our other models: compare the best against the best.\n",
        "\n",
        "To take of this, we'll implement a [`ModelCheckpoint`](https://www.tensorflow.org/api_docs/python/tf/keras/callbacks/ModelCheckpoint) callback.\n",
        "\n",
        "The `ModelCheckpoint` callback will monitor our model's performance during training and save the best model to file by setting `save_best_only=True`.\n",
        "\n",
        "That way when evaluating our model we could restore its best performing configuration from file.\n",
        "\n",
        "> 🔑 **Note:** Because of the size of the dataset (smaller than usual), you'll notice our modelling experiment results fluctuate quite a bit during training (hence the implementation of the `ModelCheckpoint` callback to save the best model).\n",
        "\n",
        "Because we're going to be running multiple experiments, it makes sense to keep track of them by saving models to file under different names.\n",
        "\n",
        "To do this, we'll write a small function to create a `ModelCheckpoint` callback which saves a model to specified filename."
      ]
    },
    {
      "cell_type": "code",
      "execution_count": 190,
      "metadata": {
        "id": "Xh8i1f7rV_P2"
      },
      "outputs": [],
      "source": [
        "import os\n",
        "\n",
        "# Create a function to implement a ModelCheckpoint callback with a specific filename \n",
        "def create_model_checkpoint(model_name, save_path=\"model_experiments\"):\n",
        "  return tf.keras.callbacks.ModelCheckpoint(filepath=os.path.join(save_path, model_name), # create filepath to save model\n",
        "                                            verbose=0, # only output a limited amount of text\n",
        "                                            save_best_only=True) # save only the best model to file"
      ]
    },
    {
      "cell_type": "markdown",
      "metadata": {
        "id": "j5uw1AaVY-J9"
      },
      "source": [
        "## Model 1: Dense model (window = 7, horizon = 1)\n",
        "\n",
        "Finally!\n",
        "\n",
        "Time to build one of our models.\n",
        "\n",
        "If you think we've been through a fair bit of preprocessing before getting here, you're right.\n",
        "\n",
        "Often, preparing data for a model is one of the largest parts of any machine learning project.\n",
        "\n",
        "And once you've got a good model in place, you'll probably notice far more improvements from manipulating the data (e.g. collecting more, improving the quality) than manipulating the model.\n",
        "\n",
        "We're going to start by keeping it simple, `model_1` will have:\n",
        "* A single dense layer with 128 hidden units and ReLU (rectified linear unit) activation\n",
        "* An output layer with linear activation (or no activation)\n",
        "* Adam optimizer and MAE loss function\n",
        "* Batch size of 128\n",
        "* 100 epochs\n",
        "\n",
        "Why these values?\n",
        "\n",
        "I picked them out of experimentation. \n",
        "\n",
        "A batch size of 32 works pretty well too and we could always train for less epochs but since the model runs so fast (you'll see in a second, it's because the number of samples we have isn't massive) we might as well train for more.\n",
        "\n",
        "> 🔑 **Note:** As always, many of the values for machine learning problems are experimental. A reminder that the values you can set yourself in a machine learning algorithm (the hidden units, the batch size, horizon size, window size) are called [**hyperparameters**](https://en.wikipedia.org/wiki/Hyperparameter_(machine_learning). And experimenting to find the best values for hyperparameters is called **hyperparameter tuning**. Where as parameters learned by a model itself (patterns in the data, formally called weights & biases) are referred to as **parameters**.\n",
        "\n",
        "Let's import TensorFlow and build our first deep learning model for time series."
      ]
    },
    {
      "cell_type": "code",
      "execution_count": 191,
      "metadata": {
        "colab": {
          "base_uri": "https://localhost:8080/"
        },
        "id": "Slr5hrJHY_Ed",
        "outputId": "95b645ae-d08a-4794-a3e6-db8d1e1e3c67"
      },
      "outputs": [
        {
          "name": "stdout",
          "output_type": "stream",
          "text": [
            "Epoch 1/100\n",
            " 1/22 [>.............................] - ETA: 13s - loss: 6419.6641 - mae: 6419.6641INFO:tensorflow:Assets written to: model_experiments/model_1_dense/assets\n"
          ]
        },
        {
          "name": "stderr",
          "output_type": "stream",
          "text": [
            "INFO:tensorflow:Assets written to: model_experiments/model_1_dense/assets\n"
          ]
        },
        {
          "name": "stdout",
          "output_type": "stream",
          "text": [
            "22/22 [==============================] - 1s 33ms/step - loss: 1906.8120 - mae: 1906.8120 - val_loss: 1563.2074 - val_mae: 1563.2074\n",
            "Epoch 2/100\n",
            " 1/22 [>.............................] - ETA: 0s - loss: 700.7477 - mae: 700.7477INFO:tensorflow:Assets written to: model_experiments/model_1_dense/assets\n"
          ]
        },
        {
          "name": "stderr",
          "output_type": "stream",
          "text": [
            "INFO:tensorflow:Assets written to: model_experiments/model_1_dense/assets\n"
          ]
        },
        {
          "name": "stdout",
          "output_type": "stream",
          "text": [
            "22/22 [==============================] - 1s 25ms/step - loss: 748.7834 - mae: 748.7834 - val_loss: 979.8230 - val_mae: 979.8230\n",
            "Epoch 3/100\n",
            " 1/22 [>.............................] - ETA: 0s - loss: 746.7635 - mae: 746.7635INFO:tensorflow:Assets written to: model_experiments/model_1_dense/assets\n"
          ]
        },
        {
          "name": "stderr",
          "output_type": "stream",
          "text": [
            "INFO:tensorflow:Assets written to: model_experiments/model_1_dense/assets\n"
          ]
        },
        {
          "name": "stdout",
          "output_type": "stream",
          "text": [
            "22/22 [==============================] - 1s 24ms/step - loss: 599.7523 - mae: 599.7523 - val_loss: 919.7646 - val_mae: 919.7646\n",
            "Epoch 4/100\n",
            "22/22 [==============================] - 0s 4ms/step - loss: 588.3209 - mae: 588.3209 - val_loss: 996.6920 - val_mae: 996.6920\n",
            "Epoch 5/100\n",
            " 1/22 [>.............................] - ETA: 0s - loss: 686.5712 - mae: 686.5712INFO:tensorflow:Assets written to: model_experiments/model_1_dense/assets\n"
          ]
        },
        {
          "name": "stderr",
          "output_type": "stream",
          "text": [
            "INFO:tensorflow:Assets written to: model_experiments/model_1_dense/assets\n"
          ]
        },
        {
          "name": "stdout",
          "output_type": "stream",
          "text": [
            "22/22 [==============================] - 1s 26ms/step - loss: 572.6466 - mae: 572.6466 - val_loss: 867.0267 - val_mae: 867.0267\n",
            "Epoch 6/100\n",
            " 1/22 [>.............................] - ETA: 0s - loss: 654.1331 - mae: 654.1331INFO:tensorflow:Assets written to: model_experiments/model_1_dense/assets\n"
          ]
        },
        {
          "name": "stderr",
          "output_type": "stream",
          "text": [
            "INFO:tensorflow:Assets written to: model_experiments/model_1_dense/assets\n"
          ]
        },
        {
          "name": "stdout",
          "output_type": "stream",
          "text": [
            "22/22 [==============================] - 1s 24ms/step - loss: 547.1711 - mae: 547.1711 - val_loss: 820.0315 - val_mae: 820.0315\n",
            "Epoch 7/100\n",
            "22/22 [==============================] - 0s 4ms/step - loss: 535.7710 - mae: 535.7710 - val_loss: 851.2716 - val_mae: 851.2716\n",
            "Epoch 8/100\n",
            " 1/22 [>.............................] - ETA: 0s - loss: 503.0176 - mae: 503.0176INFO:tensorflow:Assets written to: model_experiments/model_1_dense/assets\n"
          ]
        },
        {
          "name": "stderr",
          "output_type": "stream",
          "text": [
            "INFO:tensorflow:Assets written to: model_experiments/model_1_dense/assets\n"
          ]
        },
        {
          "name": "stdout",
          "output_type": "stream",
          "text": [
            "22/22 [==============================] - 1s 25ms/step - loss: 538.9952 - mae: 538.9952 - val_loss: 792.2419 - val_mae: 792.2419\n",
            "Epoch 9/100\n",
            " 1/22 [>.............................] - ETA: 0s - loss: 396.7819 - mae: 396.7819INFO:tensorflow:Assets written to: model_experiments/model_1_dense/assets\n"
          ]
        },
        {
          "name": "stderr",
          "output_type": "stream",
          "text": [
            "INFO:tensorflow:Assets written to: model_experiments/model_1_dense/assets\n"
          ]
        },
        {
          "name": "stdout",
          "output_type": "stream",
          "text": [
            "22/22 [==============================] - 1s 24ms/step - loss: 521.5348 - mae: 521.5348 - val_loss: 753.3550 - val_mae: 753.3550\n",
            "Epoch 10/100\n",
            "22/22 [==============================] - 0s 4ms/step - loss: 483.9993 - mae: 483.9993 - val_loss: 772.3749 - val_mae: 772.3749\n",
            "Epoch 11/100\n",
            "22/22 [==============================] - 0s 4ms/step - loss: 475.2197 - mae: 475.2197 - val_loss: 854.9734 - val_mae: 854.9734\n",
            "Epoch 12/100\n",
            " 1/22 [>.............................] - ETA: 0s - loss: 417.8268 - mae: 417.8268INFO:tensorflow:Assets written to: model_experiments/model_1_dense/assets\n"
          ]
        },
        {
          "name": "stderr",
          "output_type": "stream",
          "text": [
            "INFO:tensorflow:Assets written to: model_experiments/model_1_dense/assets\n"
          ]
        },
        {
          "name": "stdout",
          "output_type": "stream",
          "text": [
            "22/22 [==============================] - 1s 24ms/step - loss: 467.8863 - mae: 467.8863 - val_loss: 723.7343 - val_mae: 723.7343\n",
            "Epoch 13/100\n",
            "22/22 [==============================] - 0s 4ms/step - loss: 485.2711 - mae: 485.2711 - val_loss: 774.8477 - val_mae: 774.8477\n",
            "Epoch 14/100\n",
            " 1/22 [>.............................] - ETA: 0s - loss: 401.1033 - mae: 401.1033INFO:tensorflow:Assets written to: model_experiments/model_1_dense/assets\n"
          ]
        },
        {
          "name": "stderr",
          "output_type": "stream",
          "text": [
            "INFO:tensorflow:Assets written to: model_experiments/model_1_dense/assets\n"
          ]
        },
        {
          "name": "stdout",
          "output_type": "stream",
          "text": [
            "22/22 [==============================] - 1s 25ms/step - loss: 470.4734 - mae: 470.4734 - val_loss: 721.2758 - val_mae: 721.2758\n",
            "Epoch 15/100\n",
            "22/22 [==============================] - 0s 4ms/step - loss: 439.0004 - mae: 439.0004 - val_loss: 742.3639 - val_mae: 742.3639\n",
            "Epoch 16/100\n",
            " 1/22 [>.............................] - ETA: 0s - loss: 422.4390 - mae: 422.4390INFO:tensorflow:Assets written to: model_experiments/model_1_dense/assets\n"
          ]
        },
        {
          "name": "stderr",
          "output_type": "stream",
          "text": [
            "INFO:tensorflow:Assets written to: model_experiments/model_1_dense/assets\n"
          ]
        },
        {
          "name": "stdout",
          "output_type": "stream",
          "text": [
            "22/22 [==============================] - 1s 24ms/step - loss: 431.7042 - mae: 431.7042 - val_loss: 661.2419 - val_mae: 661.2419\n",
            "Epoch 17/100\n",
            "22/22 [==============================] - 0s 4ms/step - loss: 442.1433 - mae: 442.1433 - val_loss: 831.1969 - val_mae: 831.1969\n",
            "Epoch 18/100\n",
            "22/22 [==============================] - 0s 4ms/step - loss: 455.1192 - mae: 455.1192 - val_loss: 692.1424 - val_mae: 692.1424\n",
            "Epoch 19/100\n",
            "22/22 [==============================] - 0s 4ms/step - loss: 423.9600 - mae: 423.9600 - val_loss: 683.2958 - val_mae: 683.2958\n",
            "Epoch 20/100\n",
            " 1/22 [>.............................] - ETA: 0s - loss: 445.2978 - mae: 445.2978"
          ]
        },
        {
          "name": "stdout",
          "output_type": "stream",
          "text": [
            "INFO:tensorflow:Assets written to: model_experiments/model_1_dense/assets\n"
          ]
        },
        {
          "name": "stderr",
          "output_type": "stream",
          "text": [
            "INFO:tensorflow:Assets written to: model_experiments/model_1_dense/assets\n"
          ]
        },
        {
          "name": "stdout",
          "output_type": "stream",
          "text": [
            "22/22 [==============================] - 1s 27ms/step - loss: 417.7596 - mae: 417.7596 - val_loss: 634.6860 - val_mae: 634.6860\n",
            "Epoch 21/100\n",
            "22/22 [==============================] - 0s 4ms/step - loss: 405.8947 - mae: 405.8947 - val_loss: 752.0814 - val_mae: 752.0814\n",
            "Epoch 22/100\n",
            "22/22 [==============================] - 0s 4ms/step - loss: 419.1730 - mae: 419.1730 - val_loss: 877.1190 - val_mae: 877.1190\n",
            "Epoch 23/100\n",
            "22/22 [==============================] - 0s 4ms/step - loss: 429.5800 - mae: 429.5800 - val_loss: 741.5186 - val_mae: 741.5186\n",
            "Epoch 24/100\n",
            "22/22 [==============================] - 0s 4ms/step - loss: 417.4980 - mae: 417.4980 - val_loss: 634.9717 - val_mae: 634.9717\n",
            "Epoch 25/100\n",
            " 1/22 [>.............................] - ETA: 0s - loss: 389.9959 - mae: 389.9959INFO:tensorflow:Assets written to: model_experiments/model_1_dense/assets\n"
          ]
        },
        {
          "name": "stderr",
          "output_type": "stream",
          "text": [
            "INFO:tensorflow:Assets written to: model_experiments/model_1_dense/assets\n"
          ]
        },
        {
          "name": "stdout",
          "output_type": "stream",
          "text": [
            "22/22 [==============================] - 1s 26ms/step - loss: 398.7249 - mae: 398.7249 - val_loss: 632.2740 - val_mae: 632.2740\n",
            "Epoch 26/100\n",
            "22/22 [==============================] - 0s 4ms/step - loss: 412.4911 - mae: 412.4911 - val_loss: 740.6422 - val_mae: 740.6422\n",
            "Epoch 27/100\n",
            "22/22 [==============================] - 0s 5ms/step - loss: 388.5486 - mae: 388.5486 - val_loss: 658.8931 - val_mae: 658.8931\n",
            "Epoch 28/100\n",
            "22/22 [==============================] - 0s 4ms/step - loss: 404.6080 - mae: 404.6080 - val_loss: 742.3701 - val_mae: 742.3701\n",
            "Epoch 29/100\n",
            "22/22 [==============================] - 0s 4ms/step - loss: 398.9204 - mae: 398.9204 - val_loss: 655.1462 - val_mae: 655.1462\n",
            "Epoch 30/100\n",
            " 1/22 [>.............................] - ETA: 0s - loss: 451.3013 - mae: 451.3013INFO:tensorflow:Assets written to: model_experiments/model_1_dense/assets\n"
          ]
        },
        {
          "name": "stderr",
          "output_type": "stream",
          "text": [
            "INFO:tensorflow:Assets written to: model_experiments/model_1_dense/assets\n"
          ]
        },
        {
          "name": "stdout",
          "output_type": "stream",
          "text": [
            "22/22 [==============================] - 0s 23ms/step - loss: 395.2945 - mae: 395.2945 - val_loss: 597.3052 - val_mae: 597.3052\n",
            "Epoch 31/100\n",
            " 1/22 [>.............................] - ETA: 0s - loss: 453.7206 - mae: 453.7206INFO:tensorflow:Assets written to: model_experiments/model_1_dense/assets\n"
          ]
        },
        {
          "name": "stderr",
          "output_type": "stream",
          "text": [
            "INFO:tensorflow:Assets written to: model_experiments/model_1_dense/assets\n"
          ]
        },
        {
          "name": "stdout",
          "output_type": "stream",
          "text": [
            "22/22 [==============================] - 0s 23ms/step - loss: 378.3747 - mae: 378.3747 - val_loss: 594.1492 - val_mae: 594.1492\n",
            "Epoch 32/100\n",
            " 1/22 [>.............................] - ETA: 0s - loss: 416.7838 - mae: 416.7838INFO:tensorflow:Assets written to: model_experiments/model_1_dense/assets\n"
          ]
        },
        {
          "name": "stderr",
          "output_type": "stream",
          "text": [
            "INFO:tensorflow:Assets written to: model_experiments/model_1_dense/assets\n"
          ]
        },
        {
          "name": "stdout",
          "output_type": "stream",
          "text": [
            "22/22 [==============================] - 1s 24ms/step - loss: 398.6795 - mae: 398.6795 - val_loss: 588.2862 - val_mae: 588.2862\n",
            "Epoch 33/100\n",
            "22/22 [==============================] - 0s 4ms/step - loss: 381.4862 - mae: 381.4862 - val_loss: 652.8242 - val_mae: 652.8242\n",
            "Epoch 34/100\n",
            "22/22 [==============================] - 0s 4ms/step - loss: 371.4438 - mae: 371.4438 - val_loss: 588.9323 - val_mae: 588.9323\n",
            "Epoch 35/100\n",
            "22/22 [==============================] - 0s 5ms/step - loss: 376.0473 - mae: 376.0473 - val_loss: 624.7593 - val_mae: 624.7593\n",
            "Epoch 36/100\n",
            "22/22 [==============================] - 0s 4ms/step - loss: 372.4279 - mae: 372.4279 - val_loss: 590.7905 - val_mae: 590.7905\n",
            "Epoch 37/100\n",
            " 1/22 [>.............................] - ETA: 0s - loss: 277.7824 - mae: 277.7824INFO:tensorflow:Assets written to: model_experiments/model_1_dense/assets\n"
          ]
        },
        {
          "name": "stderr",
          "output_type": "stream",
          "text": [
            "INFO:tensorflow:Assets written to: model_experiments/model_1_dense/assets\n"
          ]
        },
        {
          "name": "stdout",
          "output_type": "stream",
          "text": [
            "22/22 [==============================] - 1s 25ms/step - loss: 365.4991 - mae: 365.4991 - val_loss: 570.5107 - val_mae: 570.5107\n",
            "Epoch 38/100\n",
            "22/22 [==============================] - 0s 4ms/step - loss: 378.8614 - mae: 378.8614 - val_loss: 674.1797 - val_mae: 674.1797\n",
            "Epoch 39/100\n",
            "22/22 [==============================] - 0s 4ms/step - loss: 406.4045 - mae: 406.4045 - val_loss: 630.5724 - val_mae: 630.5724\n",
            "Epoch 40/100\n",
            "22/22 [==============================] - 0s 4ms/step - loss: 410.3275 - mae: 410.3275 - val_loss: 675.9489 - val_mae: 675.9489\n",
            "Epoch 41/100\n",
            "21/22 [===========================>..] - ETA: 0s - loss: 377.7444 - mae: 377.7444INFO:tensorflow:Assets written to: model_experiments/model_1_dense/assets\n"
          ]
        },
        {
          "name": "stderr",
          "output_type": "stream",
          "text": [
            "INFO:tensorflow:Assets written to: model_experiments/model_1_dense/assets\n"
          ]
        },
        {
          "name": "stdout",
          "output_type": "stream",
          "text": [
            "22/22 [==============================] - 1s 29ms/step - loss: 377.8356 - mae: 377.8356 - val_loss: 562.3624 - val_mae: 562.3624\n",
            "Epoch 42/100\n",
            "22/22 [==============================] - 0s 6ms/step - loss: 376.5689 - mae: 376.5689 - val_loss: 694.3352 - val_mae: 694.3352\n",
            "Epoch 43/100\n",
            "22/22 [==============================] - 0s 6ms/step - loss: 376.6868 - mae: 376.6868 - val_loss: 587.4348 - val_mae: 587.4348\n",
            "Epoch 44/100\n",
            "21/22 [===========================>..] - ETA: 0s - loss: 354.6641 - mae: 354.6641INFO:tensorflow:Assets written to: model_experiments/model_1_dense/assets\n"
          ]
        },
        {
          "name": "stderr",
          "output_type": "stream",
          "text": [
            "INFO:tensorflow:Assets written to: model_experiments/model_1_dense/assets\n"
          ]
        },
        {
          "name": "stdout",
          "output_type": "stream",
          "text": [
            "22/22 [==============================] - 1s 27ms/step - loss: 353.2784 - mae: 353.2784 - val_loss: 559.8062 - val_mae: 559.8062\n",
            "Epoch 45/100\n",
            "22/22 [==============================] - 0s 5ms/step - loss: 362.2426 - mae: 362.2426 - val_loss: 601.4541 - val_mae: 601.4541\n",
            "Epoch 46/100\n",
            "22/22 [==============================] - 0s 5ms/step - loss: 355.7627 - mae: 355.7627 - val_loss: 589.5321 - val_mae: 589.5321\n",
            "Epoch 47/100\n",
            "22/22 [==============================] - 0s 4ms/step - loss: 374.6612 - mae: 374.6612 - val_loss: 616.2541 - val_mae: 616.2541\n",
            "Epoch 48/100\n",
            "22/22 [==============================] - 0s 4ms/step - loss: 375.4761 - mae: 375.4761 - val_loss: 691.9503 - val_mae: 691.9503\n",
            "Epoch 49/100\n",
            " 1/22 [>.............................] - ETA: 0s - loss: 481.6678 - mae: 481.6678INFO:tensorflow:Assets written to: model_experiments/model_1_dense/assets\n"
          ]
        },
        {
          "name": "stderr",
          "output_type": "stream",
          "text": [
            "INFO:tensorflow:Assets written to: model_experiments/model_1_dense/assets\n"
          ]
        },
        {
          "name": "stdout",
          "output_type": "stream",
          "text": [
            "22/22 [==============================] - 1s 55ms/step - loss: 358.8070 - mae: 358.8070 - val_loss: 549.7675 - val_mae: 549.7675\n",
            "Epoch 50/100\n",
            "22/22 [==============================] - 0s 6ms/step - loss: 351.1577 - mae: 351.1577 - val_loss: 822.4946 - val_mae: 822.4946\n",
            "Epoch 51/100\n",
            "22/22 [==============================] - 0s 8ms/step - loss: 428.6003 - mae: 428.6003 - val_loss: 623.1489 - val_mae: 623.1489\n",
            "Epoch 52/100\n",
            "22/22 [==============================] - 0s 6ms/step - loss: 375.8123 - mae: 375.8123 - val_loss: 730.8103 - val_mae: 730.8103\n",
            "Epoch 53/100\n",
            "22/22 [==============================] - 0s 6ms/step - loss: 394.0293 - mae: 394.0293 - val_loss: 610.8539 - val_mae: 610.8539\n",
            "Epoch 54/100\n",
            "22/22 [==============================] - 0s 5ms/step - loss: 359.9717 - mae: 359.9717 - val_loss: 572.0114 - val_mae: 572.0114\n",
            "Epoch 55/100\n",
            "22/22 [==============================] - 0s 6ms/step - loss: 369.9270 - mae: 369.9270 - val_loss: 679.5037 - val_mae: 679.5037\n",
            "Epoch 56/100\n",
            "22/22 [==============================] - 0s 6ms/step - loss: 367.7304 - mae: 367.7304 - val_loss: 609.5696 - val_mae: 609.5696\n",
            "Epoch 57/100\n",
            "22/22 [==============================] - 0s 5ms/step - loss: 352.7706 - mae: 352.7706 - val_loss: 665.3575 - val_mae: 665.3575\n",
            "Epoch 58/100\n",
            "22/22 [==============================] - 0s 4ms/step - loss: 354.3570 - mae: 354.3570 - val_loss: 694.9163 - val_mae: 694.9163\n",
            "Epoch 59/100\n",
            "22/22 [==============================] - 0s 4ms/step - loss: 347.2263 - mae: 347.2263 - val_loss: 587.8435 - val_mae: 587.8435\n",
            "Epoch 60/100\n",
            "22/22 [==============================] - 0s 6ms/step - loss: 357.4066 - mae: 357.4066 - val_loss: 760.9565 - val_mae: 760.9565\n",
            "Epoch 61/100\n",
            "22/22 [==============================] - 0s 7ms/step - loss: 387.6465 - mae: 387.6465 - val_loss: 596.4952 - val_mae: 596.4952\n",
            "Epoch 62/100\n",
            "22/22 [==============================] - 0s 6ms/step - loss: 363.5192 - mae: 363.5192 - val_loss: 743.5628 - val_mae: 743.5628\n",
            "Epoch 63/100\n",
            "22/22 [==============================] - 0s 7ms/step - loss: 407.9823 - mae: 407.9823 - val_loss: 840.4677 - val_mae: 840.4677\n",
            "Epoch 64/100\n",
            "22/22 [==============================] - 0s 5ms/step - loss: 375.5548 - mae: 375.5548 - val_loss: 593.9418 - val_mae: 593.9418\n",
            "Epoch 65/100\n",
            "22/22 [==============================] - 0s 4ms/step - loss: 376.8475 - mae: 376.8475 - val_loss: 611.5463 - val_mae: 611.5463\n",
            "Epoch 66/100\n",
            "22/22 [==============================] - 0s 5ms/step - loss: 345.6032 - mae: 345.6032 - val_loss: 565.1519 - val_mae: 565.1519\n",
            "Epoch 67/100\n",
            "22/22 [==============================] - 0s 5ms/step - loss: 343.4929 - mae: 343.4929 - val_loss: 554.4021 - val_mae: 554.4021\n",
            "Epoch 68/100\n",
            "22/22 [==============================] - 0s 5ms/step - loss: 341.8456 - mae: 341.8456 - val_loss: 675.8279 - val_mae: 675.8279\n",
            "Epoch 69/100\n",
            "22/22 [==============================] - 0s 5ms/step - loss: 363.8549 - mae: 363.8549 - val_loss: 742.6341 - val_mae: 742.6341\n",
            "Epoch 70/100\n",
            " 1/22 [>.............................] - ETA: 0s - loss: 352.2952 - mae: 352.2952INFO:tensorflow:Assets written to: model_experiments/model_1_dense/assets\n"
          ]
        },
        {
          "name": "stderr",
          "output_type": "stream",
          "text": [
            "INFO:tensorflow:Assets written to: model_experiments/model_1_dense/assets\n"
          ]
        },
        {
          "name": "stdout",
          "output_type": "stream",
          "text": [
            "22/22 [==============================] - 1s 33ms/step - loss: 345.5808 - mae: 345.5808 - val_loss: 538.0960 - val_mae: 538.0960\n",
            "Epoch 71/100\n",
            "22/22 [==============================] - 0s 6ms/step - loss: 346.2688 - mae: 346.2688 - val_loss: 571.0395 - val_mae: 571.0395\n",
            "Epoch 72/100\n",
            "22/22 [==============================] - 0s 6ms/step - loss: 339.9486 - mae: 339.9486 - val_loss: 798.9834 - val_mae: 798.9834\n",
            "Epoch 73/100\n",
            "22/22 [==============================] - 0s 6ms/step - loss: 349.4286 - mae: 349.4286 - val_loss: 548.5744 - val_mae: 548.5744\n",
            "Epoch 74/100\n",
            "22/22 [==============================] - 0s 6ms/step - loss: 355.9890 - mae: 355.9890 - val_loss: 775.6959 - val_mae: 775.6959\n",
            "Epoch 75/100\n",
            "20/22 [==========================>...] - ETA: 0s - loss: 355.9891 - mae: 355.9891INFO:tensorflow:Assets written to: model_experiments/model_1_dense/assets\n"
          ]
        },
        {
          "name": "stderr",
          "output_type": "stream",
          "text": [
            "INFO:tensorflow:Assets written to: model_experiments/model_1_dense/assets\n"
          ]
        },
        {
          "name": "stdout",
          "output_type": "stream",
          "text": [
            "22/22 [==============================] - 1s 26ms/step - loss: 357.1653 - mae: 357.1653 - val_loss: 533.8721 - val_mae: 533.8721\n",
            "Epoch 76/100\n",
            "22/22 [==============================] - 0s 5ms/step - loss: 342.3746 - mae: 342.3746 - val_loss: 545.3145 - val_mae: 545.3145\n",
            "Epoch 77/100\n",
            "22/22 [==============================] - 0s 4ms/step - loss: 356.3602 - mae: 356.3602 - val_loss: 558.9321 - val_mae: 558.9321\n",
            "Epoch 78/100\n",
            "21/22 [===========================>..] - ETA: 0s - loss: 352.2229 - mae: 352.2229INFO:tensorflow:Assets written to: model_experiments/model_1_dense/assets\n"
          ]
        },
        {
          "name": "stderr",
          "output_type": "stream",
          "text": [
            "INFO:tensorflow:Assets written to: model_experiments/model_1_dense/assets\n"
          ]
        },
        {
          "name": "stdout",
          "output_type": "stream",
          "text": [
            "22/22 [==============================] - 1s 35ms/step - loss: 351.7002 - mae: 351.7002 - val_loss: 532.7838 - val_mae: 532.7838\n",
            "Epoch 79/100\n",
            "22/22 [==============================] - 0s 5ms/step - loss: 355.3802 - mae: 355.3802 - val_loss: 578.1478 - val_mae: 578.1478\n",
            "Epoch 80/100\n",
            "22/22 [==============================] - 0s 7ms/step - loss: 342.0863 - mae: 342.0863 - val_loss: 754.4956 - val_mae: 754.4956\n",
            "Epoch 81/100\n",
            "22/22 [==============================] - 0s 6ms/step - loss: 352.3307 - mae: 352.3307 - val_loss: 705.2955 - val_mae: 705.2955\n",
            "Epoch 82/100\n",
            "22/22 [==============================] - 0s 6ms/step - loss: 357.2275 - mae: 357.2275 - val_loss: 780.9907 - val_mae: 780.9907\n",
            "Epoch 83/100\n",
            "22/22 [==============================] - 0s 6ms/step - loss: 378.8556 - mae: 378.8556 - val_loss: 603.3803 - val_mae: 603.3803\n",
            "Epoch 84/100\n",
            "22/22 [==============================] - 0s 5ms/step - loss: 379.5006 - mae: 379.5006 - val_loss: 572.0068 - val_mae: 572.0068\n",
            "Epoch 85/100\n",
            "22/22 [==============================] - 0s 5ms/step - loss: 336.5679 - mae: 336.5679 - val_loss: 593.9691 - val_mae: 593.9691\n",
            "Epoch 86/100\n",
            "22/22 [==============================] - 0s 5ms/step - loss: 342.3842 - mae: 342.3842 - val_loss: 548.8376 - val_mae: 548.8376\n",
            "Epoch 87/100\n",
            "22/22 [==============================] - 0s 5ms/step - loss: 339.1501 - mae: 339.1501 - val_loss: 538.1301 - val_mae: 538.1301\n",
            "Epoch 88/100\n",
            "22/22 [==============================] - 0s 5ms/step - loss: 331.8468 - mae: 331.8468 - val_loss: 735.1246 - val_mae: 735.1246\n",
            "Epoch 89/100\n",
            " 1/22 [>.............................] - ETA: 0s - loss: 349.5443 - mae: 349.5443INFO:tensorflow:Assets written to: model_experiments/model_1_dense/assets\n"
          ]
        },
        {
          "name": "stderr",
          "output_type": "stream",
          "text": [
            "INFO:tensorflow:Assets written to: model_experiments/model_1_dense/assets\n"
          ]
        },
        {
          "name": "stdout",
          "output_type": "stream",
          "text": [
            "22/22 [==============================] - 1s 25ms/step - loss: 361.6130 - mae: 361.6130 - val_loss: 526.6573 - val_mae: 526.6573\n",
            "Epoch 90/100\n",
            "22/22 [==============================] - 0s 5ms/step - loss: 336.8086 - mae: 336.8086 - val_loss: 647.6927 - val_mae: 647.6927\n",
            "Epoch 91/100\n",
            "22/22 [==============================] - 0s 5ms/step - loss: 358.6143 - mae: 358.6143 - val_loss: 574.8890 - val_mae: 574.8890\n",
            "Epoch 92/100\n",
            "22/22 [==============================] - 0s 5ms/step - loss: 353.1492 - mae: 353.1492 - val_loss: 626.8085 - val_mae: 626.8085\n",
            "Epoch 93/100\n",
            "22/22 [==============================] - 0s 5ms/step - loss: 343.8162 - mae: 343.8162 - val_loss: 716.7913 - val_mae: 716.7913\n",
            "Epoch 94/100\n",
            "22/22 [==============================] - 0s 5ms/step - loss: 350.1439 - mae: 350.1439 - val_loss: 614.8199 - val_mae: 614.8199\n",
            "Epoch 95/100\n",
            "22/22 [==============================] - 0s 5ms/step - loss: 337.7379 - mae: 337.7379 - val_loss: 570.5921 - val_mae: 570.5921\n",
            "Epoch 96/100\n",
            "22/22 [==============================] - 0s 6ms/step - loss: 334.3752 - mae: 334.3752 - val_loss: 526.6946 - val_mae: 526.6946\n",
            "Epoch 97/100\n",
            "22/22 [==============================] - 0s 7ms/step - loss: 333.1147 - mae: 333.1147 - val_loss: 578.2687 - val_mae: 578.2687\n",
            "Epoch 98/100\n",
            "22/22 [==============================] - 0s 6ms/step - loss: 354.4435 - mae: 354.4435 - val_loss: 551.5618 - val_mae: 551.5618\n",
            "Epoch 99/100\n",
            "22/22 [==============================] - 0s 9ms/step - loss: 337.1132 - mae: 337.1132 - val_loss: 616.6865 - val_mae: 616.6865\n",
            "Epoch 100/100\n",
            "22/22 [==============================] - 0s 6ms/step - loss: 349.5904 - mae: 349.5904 - val_loss: 669.5900 - val_mae: 669.5900\n"
          ]
        },
        {
          "data": {
            "text/plain": [
              "<keras.src.callbacks.History at 0x150599890>"
            ]
          },
          "execution_count": 191,
          "metadata": {},
          "output_type": "execute_result"
        }
      ],
      "source": [
        "import tensorflow as tf\n",
        "from tensorflow.keras import layers\n",
        "\n",
        "# Set random seed for as reproducible results as possible\n",
        "tf.random.set_seed(42)\n",
        "\n",
        "# Construct model\n",
        "model_1 = tf.keras.Sequential([\n",
        "  layers.Dense(128, activation=\"relu\"),\n",
        "  layers.Dense(HORIZON, activation=\"linear\") # linear activation is the same as having no activation                        \n",
        "], name=\"model_1_dense\") # give the model a name so we can save it\n",
        "\n",
        "# Compile model\n",
        "model_1.compile(loss=\"mae\",\n",
        "                optimizer=tf.keras.optimizers.Adam(),\n",
        "                metrics=[\"mae\"]) # we don't necessarily need this when the loss function is already MAE\n",
        "\n",
        "# Fit model\n",
        "model_1.fit(x=train_windows, # train windows of 7 timesteps of Bitcoin prices\n",
        "            y=train_labels, # horizon value of 1 (using the previous 7 timesteps to predict next day)\n",
        "            epochs=100,\n",
        "            verbose=1,\n",
        "            batch_size=128,\n",
        "            validation_data=(test_windows, test_labels),\n",
        "            callbacks=[create_model_checkpoint(model_name=model_1.name)]) # create ModelCheckpoint callback to save best model"
      ]
    },
    {
      "cell_type": "markdown",
      "metadata": {
        "id": "ZRrvDINUooJO"
      },
      "source": [
        "Because of the small size of our data (less than 3000 total samples), the model trains very fast.\n",
        "\n",
        "Let's evaluate it."
      ]
    },
    {
      "cell_type": "code",
      "execution_count": 192,
      "metadata": {
        "colab": {
          "base_uri": "https://localhost:8080/"
        },
        "id": "N1DbcEZBY_Bt",
        "outputId": "2d353c8c-075c-4149-bd68-9fb6b25a44d4"
      },
      "outputs": [
        {
          "name": "stdout",
          "output_type": "stream",
          "text": [
            "22/22 [==============================] - 0s 2ms/step - loss: 669.5900 - mae: 669.5900\n"
          ]
        },
        {
          "data": {
            "text/plain": [
              "[669.5900268554688, 669.5900268554688]"
            ]
          },
          "execution_count": 192,
          "metadata": {},
          "output_type": "execute_result"
        }
      ],
      "source": [
        "# Evaluate model on test data\n",
        "model_1.evaluate(test_windows, test_labels)"
      ]
    },
    {
      "cell_type": "markdown",
      "metadata": {
        "id": "zwaUv85oox2F"
      },
      "source": [
        "You'll notice the model achieves the same `val_loss` (in this case, this is MAE) as the last epoch.\n",
        "\n",
        "But if we load in the version of `model_1` which was saved to file using the `ModelCheckpoint` callback, we should see an improvement in results."
      ]
    },
    {
      "cell_type": "code",
      "execution_count": 193,
      "metadata": {
        "colab": {
          "base_uri": "https://localhost:8080/"
        },
        "id": "FXey-AX-XZPK",
        "outputId": "98d82f0b-ce9e-4326-f456-f1e49f5e8483"
      },
      "outputs": [
        {
          "name": "stdout",
          "output_type": "stream",
          "text": [
            "22/22 [==============================] - 0s 2ms/step - loss: 526.6574 - mae: 526.6574\n"
          ]
        },
        {
          "data": {
            "text/plain": [
              "[526.6574096679688, 526.6574096679688]"
            ]
          },
          "execution_count": 193,
          "metadata": {},
          "output_type": "execute_result"
        }
      ],
      "source": [
        "# Load in saved best performing model_1 and evaluate on test data\n",
        "model_1 = tf.keras.models.load_model(\"model_experiments/model_1_dense\")\n",
        "model_1.evaluate(test_windows, test_labels)"
      ]
    },
    {
      "cell_type": "markdown",
      "metadata": {
        "id": "YvVtmLRdpcyH"
      },
      "source": [
        "Much better! Due to the fluctuating performance of the model during training, loading back in the best performing model see's a sizeable improvement in MAE."
      ]
    },
    {
      "cell_type": "markdown",
      "metadata": {
        "id": "-HfeTX5KhYin"
      },
      "source": [
        "## Making forecasts with a model (on the test dataset)\n",
        "\n",
        "We've trained a model and evaluated the it on the test data, but the project we're working on is called BitPredict 💰📈 so how do you think we could use our model to make predictions?\n",
        "\n",
        "Since we're going to be running more modelling experiments, let's write a function which: \n",
        "1. Takes in a trained model (just like `model_1`)\n",
        "2. Takes in some input data (just like the data the model was trained on) \n",
        "3. Passes the input data to the model's `predict()` method\n",
        "4. Returns the predictions\n",
        "\n"
      ]
    },
    {
      "cell_type": "code",
      "execution_count": 194,
      "metadata": {
        "id": "hZrExWzyh3ur"
      },
      "outputs": [],
      "source": [
        "def make_preds(model, input_data):\n",
        "  \"\"\"\n",
        "  Uses model to make predictions on input_data.\n",
        "\n",
        "  Parameters\n",
        "  ----------\n",
        "  model: trained model \n",
        "  input_data: windowed input data (same kind of data model was trained on)\n",
        "\n",
        "  Returns model predictions on input_data.\n",
        "  \"\"\"\n",
        "  forecast = model.predict(input_data)\n",
        "  return tf.squeeze(forecast) # return 1D array of predictions"
      ]
    },
    {
      "cell_type": "markdown",
      "metadata": {
        "id": "vcsoVIrGvrDd"
      },
      "source": [
        "Nice! \n",
        "\n",
        "Now let's use our `make_preds()` and see how it goes.\n",
        "\n"
      ]
    },
    {
      "cell_type": "code",
      "execution_count": 195,
      "metadata": {
        "colab": {
          "base_uri": "https://localhost:8080/"
        },
        "id": "u1aAKQp6vapw",
        "outputId": "0e3faaae-e3fb-4196-9139-c6c5f5efb9a1"
      },
      "outputs": [
        {
          "name": "stdout",
          "output_type": "stream",
          "text": [
            "22/22 [==============================] - 0s 1ms/step\n"
          ]
        },
        {
          "data": {
            "text/plain": [
              "(677,\n",
              " <tf.Tensor: shape=(10,), dtype=float32, numpy=\n",
              " array([37036.28 , 37979.777, 37360.24 , 37961.38 , 39036.29 , 39166.56 ,\n",
              "        37888.832, 42333.94 , 44337.668, 44100.246], dtype=float32)>)"
            ]
          },
          "execution_count": 195,
          "metadata": {},
          "output_type": "execute_result"
        }
      ],
      "source": [
        "# Make predictions using model_1 on the test dataset and view the results\n",
        "model_1_preds = make_preds(model_1, test_windows)\n",
        "len(model_1_preds), model_1_preds[:10]"
      ]
    },
    {
      "cell_type": "markdown",
      "metadata": {
        "id": "q5Ra13OrwIOf"
      },
      "source": [
        "> 🔑 **Note:** With these outputs, our model isn't *forecasting* yet. It's only making predictions on the test dataset. Forecasting would involve a model making predictions into the future, however, the test dataset is only a pseudofuture.\n",
        "\n",
        "Excellent! Now we've got some prediction values, let's use the `evaluate_preds()` we created before to compare them to the ground truth."
      ]
    },
    {
      "cell_type": "code",
      "execution_count": 196,
      "metadata": {
        "colab": {
          "base_uri": "https://localhost:8080/"
        },
        "id": "eHak7Jqd9aXv",
        "outputId": "6969b6f5-1922-46c4-934d-48a24c452807"
      },
      "outputs": [
        {
          "data": {
            "text/plain": [
              "{'mae': 526.6573,\n",
              " 'mse': 665259.3,\n",
              " 'rmse': 815.6343,\n",
              " 'mape': 1.8979473,\n",
              " 'mase': 1.0146946}"
            ]
          },
          "execution_count": 196,
          "metadata": {},
          "output_type": "execute_result"
        }
      ],
      "source": [
        "# Evaluate preds\n",
        "model_1_results = evaluate_preds(y_true=tf.squeeze(test_labels), # reduce to right shape\n",
        "                                 y_pred=model_1_preds)\n",
        "model_1_results"
      ]
    },
    {
      "cell_type": "code",
      "execution_count": 197,
      "metadata": {
        "colab": {
          "base_uri": "https://localhost:8080/",
          "height": 442
        },
        "id": "Wgxoqg_tIhFJ",
        "outputId": "018c00f6-e663-49d6-d046-177e200ccbfb"
      },
      "outputs": [
        {
          "data": {
            "image/png": "[encoded data removed]",
            "text/plain": [
              "<Figure size 1000x700 with 1 Axes>"
            ]
          },
          "metadata": {},
          "output_type": "display_data"
        }
      ],
      "source": [
        "offset = 300\n",
        "plt.figure(figsize=(10, 7))\n",
        "# Account for the test_window offset and index into test_labels to ensure correct plotting\n",
        "plot_time_series(timesteps=X_test[-len(test_windows):], values=test_labels[:, 0], start=offset, label=\"Test_data\")\n",
        "plot_time_series(timesteps=X_test[-len(test_windows):], values=model_1_preds, start=offset, format=\"-\", label=\"model_1_preds\")"
      ]
    },
    {
      "cell_type": "markdown",
      "metadata": {
        "id": "fr18ffVq4i6m"
      },
      "source": [
        "## Model 2: Dense (window = 30, horizon = 1)\n",
        "\n",
        "A naïve model is currently beating our handcrafted deep learning model. \n",
        "\n",
        "We can't let this happen.\n",
        "\n",
        "Let's continue our modelling experiments.\n",
        "\n",
        "We'll keep the previous model architecture but use a window size of 30.\n",
        "\n",
        "In other words, we'll use the previous 30 days of Bitcoin prices to try and predict the next day price.\n",
        "\n",
        "![bitcoin prices windowed for 30 days to predict a horizon of 1 day](https://raw.githubusercontent.com/mrdbourke/tensorflow-deep-learning/main/images/10-bitcoin-price-window-for-one-month.png)\n",
        "*Example of Bitcoin prices windowed for 30 days to predict a horizon of 1.*\n",
        "\n",
        "> 🔑 **Note:** Recall from before, the window size (how many timesteps to use to fuel a forecast) and the horizon (how many timesteps to predict into the future) are **hyperparameters**. This means you can tune them to try and find values will result in better performance.\n",
        "\n",
        "We'll start our second modelling experiment by preparing datasets using the functions we created earlier."
      ]
    },
    {
      "cell_type": "code",
      "execution_count": 198,
      "metadata": {
        "id": "Vz0eMi7F4wpn"
      },
      "outputs": [],
      "source": [
        "HORIZON = 1 # predict one step at a time\n",
        "WINDOW_SIZE = 30 # use 30 timesteps in the past"
      ]
    },
    {
      "cell_type": "code",
      "execution_count": 199,
      "metadata": {
        "colab": {
          "base_uri": "https://localhost:8080/"
        },
        "id": "1HlYaAxr6UoC",
        "outputId": "7fdc8064-6fe8-4739-919d-dc0c06de8666"
      },
      "outputs": [
        {
          "data": {
            "text/plain": [
              "(3362, 3362)"
            ]
          },
          "execution_count": 199,
          "metadata": {},
          "output_type": "execute_result"
        }
      ],
      "source": [
        "# Make windowed data with appropriate horizon and window sizes\n",
        "full_windows, full_labels = make_windows(prices, window_size=WINDOW_SIZE, horizon=HORIZON)\n",
        "len(full_windows), len(full_labels)"
      ]
    },
    {
      "cell_type": "code",
      "execution_count": 200,
      "metadata": {
        "colab": {
          "base_uri": "https://localhost:8080/"
        },
        "id": "jWxYZtOuelzO",
        "outputId": "14a862eb-c90e-4905-fbae-640d890059b7"
      },
      "outputs": [
        {
          "data": {
            "text/plain": [
              "(2689, 673, 2689, 673)"
            ]
          },
          "execution_count": 200,
          "metadata": {},
          "output_type": "execute_result"
        }
      ],
      "source": [
        "# Make train and testing windows\n",
        "train_windows, test_windows, train_labels, test_labels = make_train_test_splits(windows=full_windows, labels=full_labels)\n",
        "len(train_windows), len(test_windows), len(train_labels), len(test_labels)"
      ]
    },
    {
      "cell_type": "markdown",
      "metadata": {
        "id": "2xikvf8N0_dU"
      },
      "source": [
        "Data prepared!\n",
        "\n",
        "Now let's construct `model_2`, a model with the same architecture as `model_1` as well as the same training routine."
      ]
    },
    {
      "cell_type": "code",
      "execution_count": 201,
      "metadata": {
        "colab": {
          "base_uri": "https://localhost:8080/"
        },
        "id": "b_oz5aJE6UwN",
        "outputId": "e9f156de-6b38-44b4-e319-0d5d1be0ffa4"
      },
      "outputs": [
        {
          "name": "stdout",
          "output_type": "stream",
          "text": [
            "INFO:tensorflow:Assets written to: model_experiments/model_2_dense/assets\n"
          ]
        },
        {
          "name": "stderr",
          "output_type": "stream",
          "text": [
            "INFO:tensorflow:Assets written to: model_experiments/model_2_dense/assets\n"
          ]
        },
        {
          "name": "stdout",
          "output_type": "stream",
          "text": [
            "INFO:tensorflow:Assets written to: model_experiments/model_2_dense/assets\n"
          ]
        },
        {
          "name": "stderr",
          "output_type": "stream",
          "text": [
            "INFO:tensorflow:Assets written to: model_experiments/model_2_dense/assets\n"
          ]
        },
        {
          "name": "stdout",
          "output_type": "stream",
          "text": [
            "INFO:tensorflow:Assets written to: model_experiments/model_2_dense/assets\n"
          ]
        },
        {
          "name": "stderr",
          "output_type": "stream",
          "text": [
            "INFO:tensorflow:Assets written to: model_experiments/model_2_dense/assets\n"
          ]
        },
        {
          "name": "stdout",
          "output_type": "stream",
          "text": [
            "INFO:tensorflow:Assets written to: model_experiments/model_2_dense/assets\n"
          ]
        },
        {
          "name": "stderr",
          "output_type": "stream",
          "text": [
            "INFO:tensorflow:Assets written to: model_experiments/model_2_dense/assets\n"
          ]
        },
        {
          "name": "stdout",
          "output_type": "stream",
          "text": [
            "INFO:tensorflow:Assets written to: model_experiments/model_2_dense/assets\n"
          ]
        },
        {
          "name": "stderr",
          "output_type": "stream",
          "text": [
            "INFO:tensorflow:Assets written to: model_experiments/model_2_dense/assets\n"
          ]
        },
        {
          "name": "stdout",
          "output_type": "stream",
          "text": [
            "INFO:tensorflow:Assets written to: model_experiments/model_2_dense/assets\n"
          ]
        },
        {
          "name": "stderr",
          "output_type": "stream",
          "text": [
            "INFO:tensorflow:Assets written to: model_experiments/model_2_dense/assets\n"
          ]
        },
        {
          "name": "stdout",
          "output_type": "stream",
          "text": [
            "INFO:tensorflow:Assets written to: model_experiments/model_2_dense/assets\n"
          ]
        },
        {
          "name": "stderr",
          "output_type": "stream",
          "text": [
            "INFO:tensorflow:Assets written to: model_experiments/model_2_dense/assets\n"
          ]
        },
        {
          "name": "stdout",
          "output_type": "stream",
          "text": [
            "INFO:tensorflow:Assets written to: model_experiments/model_2_dense/assets\n"
          ]
        },
        {
          "name": "stderr",
          "output_type": "stream",
          "text": [
            "INFO:tensorflow:Assets written to: model_experiments/model_2_dense/assets\n"
          ]
        },
        {
          "name": "stdout",
          "output_type": "stream",
          "text": [
            "INFO:tensorflow:Assets written to: model_experiments/model_2_dense/assets\n"
          ]
        },
        {
          "name": "stderr",
          "output_type": "stream",
          "text": [
            "INFO:tensorflow:Assets written to: model_experiments/model_2_dense/assets\n"
          ]
        },
        {
          "name": "stdout",
          "output_type": "stream",
          "text": [
            "INFO:tensorflow:Assets written to: model_experiments/model_2_dense/assets\n"
          ]
        },
        {
          "name": "stderr",
          "output_type": "stream",
          "text": [
            "INFO:tensorflow:Assets written to: model_experiments/model_2_dense/assets\n"
          ]
        },
        {
          "name": "stdout",
          "output_type": "stream",
          "text": [
            "INFO:tensorflow:Assets written to: model_experiments/model_2_dense/assets\n"
          ]
        },
        {
          "name": "stderr",
          "output_type": "stream",
          "text": [
            "INFO:tensorflow:Assets written to: model_experiments/model_2_dense/assets\n"
          ]
        },
        {
          "name": "stdout",
          "output_type": "stream",
          "text": [
            "INFO:tensorflow:Assets written to: model_experiments/model_2_dense/assets\n"
          ]
        },
        {
          "name": "stderr",
          "output_type": "stream",
          "text": [
            "INFO:tensorflow:Assets written to: model_experiments/model_2_dense/assets\n"
          ]
        },
        {
          "name": "stdout",
          "output_type": "stream",
          "text": [
            "INFO:tensorflow:Assets written to: model_experiments/model_2_dense/assets\n"
          ]
        },
        {
          "name": "stderr",
          "output_type": "stream",
          "text": [
            "INFO:tensorflow:Assets written to: model_experiments/model_2_dense/assets\n"
          ]
        },
        {
          "name": "stdout",
          "output_type": "stream",
          "text": [
            "INFO:tensorflow:Assets written to: model_experiments/model_2_dense/assets\n"
          ]
        },
        {
          "name": "stderr",
          "output_type": "stream",
          "text": [
            "INFO:tensorflow:Assets written to: model_experiments/model_2_dense/assets\n"
          ]
        },
        {
          "name": "stdout",
          "output_type": "stream",
          "text": [
            "INFO:tensorflow:Assets written to: model_experiments/model_2_dense/assets\n"
          ]
        },
        {
          "name": "stderr",
          "output_type": "stream",
          "text": [
            "INFO:tensorflow:Assets written to: model_experiments/model_2_dense/assets\n"
          ]
        },
        {
          "name": "stdout",
          "output_type": "stream",
          "text": [
            "INFO:tensorflow:Assets written to: model_experiments/model_2_dense/assets\n"
          ]
        },
        {
          "name": "stderr",
          "output_type": "stream",
          "text": [
            "INFO:tensorflow:Assets written to: model_experiments/model_2_dense/assets\n"
          ]
        },
        {
          "data": {
            "text/plain": [
              "<keras.src.callbacks.History at 0x150c99890>"
            ]
          },
          "execution_count": 201,
          "metadata": {},
          "output_type": "execute_result"
        }
      ],
      "source": [
        "tf.random.set_seed(42)\n",
        "\n",
        "# Create model (same model as model 1 but data input will be different)\n",
        "model_2 = tf.keras.Sequential([\n",
        "  layers.Dense(128, activation=\"relu\"),\n",
        "  layers.Dense(HORIZON) # need to predict horizon number of steps into the future\n",
        "], name=\"model_2_dense\")\n",
        "\n",
        "model_2.compile(loss=\"mae\",\n",
        "                optimizer=tf.keras.optimizers.Adam())\n",
        "\n",
        "model_2.fit(train_windows,\n",
        "            train_labels,\n",
        "            epochs=100,\n",
        "            batch_size=128,\n",
        "            verbose=0,\n",
        "            validation_data=(test_windows, test_labels),\n",
        "            callbacks=[create_model_checkpoint(model_name=model_2.name)])"
      ]
    },
    {
      "cell_type": "markdown",
      "metadata": {
        "id": "0oYd2nt51Ppj"
      },
      "source": [
        "Once again, training goes nice and fast.\n",
        "\n",
        "Let's evaluate our model's performance."
      ]
    },
    {
      "cell_type": "code",
      "execution_count": 202,
      "metadata": {
        "colab": {
          "base_uri": "https://localhost:8080/"
        },
        "id": "W42Fa-aO8rhg",
        "outputId": "06a8f364-fc40-4216-aa7f-913c2689e589"
      },
      "outputs": [
        {
          "name": "stdout",
          "output_type": "stream",
          "text": [
            "22/22 [==============================] - 0s 2ms/step - loss: 2758.5537\n"
          ]
        },
        {
          "data": {
            "text/plain": [
              "2758.5537109375"
            ]
          },
          "execution_count": 202,
          "metadata": {},
          "output_type": "execute_result"
        }
      ],
      "source": [
        "# Evaluate model 2 preds\n",
        "model_2.evaluate(test_windows, test_labels)"
      ]
    },
    {
      "cell_type": "markdown",
      "metadata": {
        "id": "W1P2DRrA1VlP"
      },
      "source": [
        "Hmmm... is that the best it did?\n",
        "\n",
        "How about we try loading in the best performing `model_2` which was saved to file thanks to our `ModelCheckpoint` callback."
      ]
    },
    {
      "cell_type": "code",
      "execution_count": 203,
      "metadata": {
        "colab": {
          "base_uri": "https://localhost:8080/"
        },
        "id": "c_hG89F5YV4i",
        "outputId": "027e0c90-f19f-4478-f633-1a541ca73e39"
      },
      "outputs": [
        {
          "name": "stdout",
          "output_type": "stream",
          "text": [
            "22/22 [==============================] - 0s 2ms/step - loss: 615.3446\n"
          ]
        },
        {
          "data": {
            "text/plain": [
              "615.3446044921875"
            ]
          },
          "execution_count": 203,
          "metadata": {},
          "output_type": "execute_result"
        }
      ],
      "source": [
        "# Load in best performing model\n",
        "model_2 = tf.keras.models.load_model(\"model_experiments/model_2_dense/\")\n",
        "model_2.evaluate(test_windows, test_labels)"
      ]
    },
    {
      "cell_type": "markdown",
      "metadata": {
        "id": "jGh8gRhU1kaj"
      },
      "source": [
        "Excellent! Loading back in the best performing model see's a performance boost.\n",
        "\n",
        "But let's not stop there, let's make some predictions with `model_2` and then evaluate them just as we did before."
      ]
    },
    {
      "cell_type": "code",
      "execution_count": 204,
      "metadata": {
        "id": "TPfvPgkUknY5"
      },
      "outputs": [
        {
          "name": "stdout",
          "output_type": "stream",
          "text": [
            "22/22 [==============================] - 0s 3ms/step\n"
          ]
        }
      ],
      "source": [
        "# Get forecast predictions\n",
        "model_2_preds = make_preds(model_2,\n",
        "                           input_data=test_windows)"
      ]
    },
    {
      "cell_type": "code",
      "execution_count": 205,
      "metadata": {
        "colab": {
          "base_uri": "https://localhost:8080/"
        },
        "id": "dy7XZx7FllHX",
        "outputId": "f08daef8-841a-4c58-c8a6-da36b98ff47a"
      },
      "outputs": [
        {
          "data": {
            "text/plain": [
              "{'mae': 615.34454,\n",
              " 'mse': 866623.1,\n",
              " 'rmse': 930.92596,\n",
              " 'mape': 2.2291656,\n",
              " 'mase': 1.1887697}"
            ]
          },
          "execution_count": 205,
          "metadata": {},
          "output_type": "execute_result"
        }
      ],
      "source": [
        "# Evaluate results for model 2 predictions\n",
        "model_2_results = evaluate_preds(y_true=tf.squeeze(test_labels), # remove 1 dimension of test labels\n",
        "                                 y_pred=model_2_preds)\n",
        "model_2_results"
      ]
    },
    {
      "cell_type": "markdown",
      "metadata": {
        "id": "a8djCXli1wGy"
      },
      "source": [
        "It looks like `model_2` performs worse than the naïve model as well as `model_1`!\n",
        "\n",
        "Does this mean a smaller window size is better? (I'll leave this as a challenge you can experiment with)\n",
        "\n",
        "How do the predictions look?"
      ]
    },
    {
      "cell_type": "code",
      "execution_count": 206,
      "metadata": {
        "colab": {
          "base_uri": "https://localhost:8080/",
          "height": 442
        },
        "id": "jHh_qtXflx7Z",
        "outputId": "b5329370-f1c8-4980-b612-ed904880c16f"
      },
      "outputs": [
        {
          "data": {
            "image/png": "[encoded data removed]",
            "text/plain": [
              "<Figure size 1000x700 with 1 Axes>"
            ]
          },
          "metadata": {},
          "output_type": "display_data"
        }
      ],
      "source": [
        "offset = 300\n",
        "plt.figure(figsize=(10, 7))\n",
        "# Account for the test_window offset\n",
        "plot_time_series(timesteps=X_test[-len(test_windows):], values=test_labels[:, 0], start=offset, label=\"test_data\")\n",
        "plot_time_series(timesteps=X_test[-len(test_windows):], values=model_2_preds, start=offset, format=\"-\", label=\"model_2_preds\") "
      ]
    },
    {
      "cell_type": "markdown",
      "metadata": {
        "id": "Sls7mUaq9lMl"
      },
      "source": [
        "## Model 3: Dense (window = 30, horizon = 7)\n",
        "\n",
        "Let's try and predict 7 days ahead given the previous 30 days.\n",
        "\n",
        "First, we'll update the `HORIZON` and `WINDOW_SIZE` variables and create windowed data.\n"
      ]
    },
    {
      "cell_type": "code",
      "execution_count": 207,
      "metadata": {
        "colab": {
          "base_uri": "https://localhost:8080/"
        },
        "id": "8PtmayTM98Mb",
        "outputId": "3bbaec11-0558-4181-d906-258ece66a3a3"
      },
      "outputs": [
        {
          "data": {
            "text/plain": [
              "(3356, 3356)"
            ]
          },
          "execution_count": 207,
          "metadata": {},
          "output_type": "execute_result"
        }
      ],
      "source": [
        "HORIZON = 7\n",
        "WINDOW_SIZE = 30\n",
        "\n",
        "full_windows, full_labels = make_windows(prices, window_size=WINDOW_SIZE, horizon=HORIZON)\n",
        "len(full_windows), len(full_labels)"
      ]
    },
    {
      "cell_type": "markdown",
      "metadata": {
        "id": "c7lhMfxWZK83"
      },
      "source": [
        "And we'll split the full dataset windows into training and test sets."
      ]
    },
    {
      "cell_type": "code",
      "execution_count": 208,
      "metadata": {
        "colab": {
          "base_uri": "https://localhost:8080/"
        },
        "id": "E8xgoKunZ__e",
        "outputId": "f6588b6d-2d90-44db-8062-ca1ffe03bfc8"
      },
      "outputs": [
        {
          "data": {
            "text/plain": [
              "(2684, 672, 2684, 672)"
            ]
          },
          "execution_count": 208,
          "metadata": {},
          "output_type": "execute_result"
        }
      ],
      "source": [
        "train_windows, test_windows, train_labels, test_labels = make_train_test_splits(windows=full_windows, labels=full_labels, test_split=0.2)\n",
        "len(train_windows), len(test_windows), len(train_labels), len(test_labels)"
      ]
    },
    {
      "cell_type": "markdown",
      "metadata": {
        "id": "dlwu4mQmZvSg"
      },
      "source": [
        "Now let's build, compile, fit and evaluate a model."
      ]
    },
    {
      "cell_type": "code",
      "execution_count": 209,
      "metadata": {
        "colab": {
          "base_uri": "https://localhost:8080/"
        },
        "id": "hxHh7xS2-CoH",
        "outputId": "587403ef-8c0d-4c6d-928a-a6dddecc1794"
      },
      "outputs": [
        {
          "name": "stdout",
          "output_type": "stream",
          "text": [
            "INFO:tensorflow:Assets written to: model_experiments/model_3_dense/assets\n"
          ]
        },
        {
          "name": "stderr",
          "output_type": "stream",
          "text": [
            "INFO:tensorflow:Assets written to: model_experiments/model_3_dense/assets\n"
          ]
        },
        {
          "name": "stdout",
          "output_type": "stream",
          "text": [
            "INFO:tensorflow:Assets written to: model_experiments/model_3_dense/assets\n"
          ]
        },
        {
          "name": "stderr",
          "output_type": "stream",
          "text": [
            "INFO:tensorflow:Assets written to: model_experiments/model_3_dense/assets\n"
          ]
        },
        {
          "name": "stdout",
          "output_type": "stream",
          "text": [
            "INFO:tensorflow:Assets written to: model_experiments/model_3_dense/assets\n"
          ]
        },
        {
          "name": "stderr",
          "output_type": "stream",
          "text": [
            "INFO:tensorflow:Assets written to: model_experiments/model_3_dense/assets\n"
          ]
        },
        {
          "name": "stdout",
          "output_type": "stream",
          "text": [
            "INFO:tensorflow:Assets written to: model_experiments/model_3_dense/assets\n"
          ]
        },
        {
          "name": "stderr",
          "output_type": "stream",
          "text": [
            "INFO:tensorflow:Assets written to: model_experiments/model_3_dense/assets\n"
          ]
        },
        {
          "name": "stdout",
          "output_type": "stream",
          "text": [
            "INFO:tensorflow:Assets written to: model_experiments/model_3_dense/assets\n"
          ]
        },
        {
          "name": "stderr",
          "output_type": "stream",
          "text": [
            "INFO:tensorflow:Assets written to: model_experiments/model_3_dense/assets\n"
          ]
        },
        {
          "name": "stdout",
          "output_type": "stream",
          "text": [
            "INFO:tensorflow:Assets written to: model_experiments/model_3_dense/assets\n"
          ]
        },
        {
          "name": "stderr",
          "output_type": "stream",
          "text": [
            "INFO:tensorflow:Assets written to: model_experiments/model_3_dense/assets\n"
          ]
        },
        {
          "name": "stdout",
          "output_type": "stream",
          "text": [
            "INFO:tensorflow:Assets written to: model_experiments/model_3_dense/assets\n"
          ]
        },
        {
          "name": "stderr",
          "output_type": "stream",
          "text": [
            "INFO:tensorflow:Assets written to: model_experiments/model_3_dense/assets\n"
          ]
        },
        {
          "name": "stdout",
          "output_type": "stream",
          "text": [
            "INFO:tensorflow:Assets written to: model_experiments/model_3_dense/assets\n"
          ]
        },
        {
          "name": "stderr",
          "output_type": "stream",
          "text": [
            "INFO:tensorflow:Assets written to: model_experiments/model_3_dense/assets\n"
          ]
        },
        {
          "name": "stdout",
          "output_type": "stream",
          "text": [
            "INFO:tensorflow:Assets written to: model_experiments/model_3_dense/assets\n"
          ]
        },
        {
          "name": "stderr",
          "output_type": "stream",
          "text": [
            "INFO:tensorflow:Assets written to: model_experiments/model_3_dense/assets\n"
          ]
        },
        {
          "name": "stdout",
          "output_type": "stream",
          "text": [
            "INFO:tensorflow:Assets written to: model_experiments/model_3_dense/assets\n"
          ]
        },
        {
          "name": "stderr",
          "output_type": "stream",
          "text": [
            "INFO:tensorflow:Assets written to: model_experiments/model_3_dense/assets\n"
          ]
        },
        {
          "name": "stdout",
          "output_type": "stream",
          "text": [
            "INFO:tensorflow:Assets written to: model_experiments/model_3_dense/assets\n"
          ]
        },
        {
          "name": "stderr",
          "output_type": "stream",
          "text": [
            "INFO:tensorflow:Assets written to: model_experiments/model_3_dense/assets\n"
          ]
        },
        {
          "name": "stdout",
          "output_type": "stream",
          "text": [
            "INFO:tensorflow:Assets written to: model_experiments/model_3_dense/assets\n"
          ]
        },
        {
          "name": "stderr",
          "output_type": "stream",
          "text": [
            "INFO:tensorflow:Assets written to: model_experiments/model_3_dense/assets\n"
          ]
        },
        {
          "name": "stdout",
          "output_type": "stream",
          "text": [
            "INFO:tensorflow:Assets written to: model_experiments/model_3_dense/assets\n"
          ]
        },
        {
          "name": "stderr",
          "output_type": "stream",
          "text": [
            "INFO:tensorflow:Assets written to: model_experiments/model_3_dense/assets\n"
          ]
        },
        {
          "name": "stdout",
          "output_type": "stream",
          "text": [
            "INFO:tensorflow:Assets written to: model_experiments/model_3_dense/assets\n"
          ]
        },
        {
          "name": "stderr",
          "output_type": "stream",
          "text": [
            "INFO:tensorflow:Assets written to: model_experiments/model_3_dense/assets\n"
          ]
        },
        {
          "name": "stdout",
          "output_type": "stream",
          "text": [
            "INFO:tensorflow:Assets written to: model_experiments/model_3_dense/assets\n"
          ]
        },
        {
          "name": "stderr",
          "output_type": "stream",
          "text": [
            "INFO:tensorflow:Assets written to: model_experiments/model_3_dense/assets\n"
          ]
        },
        {
          "name": "stdout",
          "output_type": "stream",
          "text": [
            "INFO:tensorflow:Assets written to: model_experiments/model_3_dense/assets\n"
          ]
        },
        {
          "name": "stderr",
          "output_type": "stream",
          "text": [
            "INFO:tensorflow:Assets written to: model_experiments/model_3_dense/assets\n"
          ]
        },
        {
          "name": "stdout",
          "output_type": "stream",
          "text": [
            "INFO:tensorflow:Assets written to: model_experiments/model_3_dense/assets\n"
          ]
        },
        {
          "name": "stderr",
          "output_type": "stream",
          "text": [
            "INFO:tensorflow:Assets written to: model_experiments/model_3_dense/assets\n"
          ]
        },
        {
          "name": "stdout",
          "output_type": "stream",
          "text": [
            "INFO:tensorflow:Assets written to: model_experiments/model_3_dense/assets\n"
          ]
        },
        {
          "name": "stderr",
          "output_type": "stream",
          "text": [
            "INFO:tensorflow:Assets written to: model_experiments/model_3_dense/assets\n"
          ]
        },
        {
          "name": "stdout",
          "output_type": "stream",
          "text": [
            "INFO:tensorflow:Assets written to: model_experiments/model_3_dense/assets\n"
          ]
        },
        {
          "name": "stderr",
          "output_type": "stream",
          "text": [
            "INFO:tensorflow:Assets written to: model_experiments/model_3_dense/assets\n"
          ]
        },
        {
          "data": {
            "text/plain": [
              "<keras.src.callbacks.History at 0x150b28950>"
            ]
          },
          "execution_count": 209,
          "metadata": {},
          "output_type": "execute_result"
        }
      ],
      "source": [
        "tf.random.set_seed(42)\n",
        "\n",
        "# Create model (same as model_1 except with different data input size)\n",
        "model_3 = tf.keras.Sequential([\n",
        "  layers.Dense(128, activation=\"relu\"),\n",
        "  layers.Dense(HORIZON)\n",
        "], name=\"model_3_dense\")\n",
        "\n",
        "model_3.compile(loss=\"mae\",\n",
        "                optimizer=tf.keras.optimizers.Adam())\n",
        "\n",
        "model_3.fit(train_windows,\n",
        "            train_labels,\n",
        "            batch_size=128,\n",
        "            epochs=100,\n",
        "            verbose=0,\n",
        "            validation_data=(test_windows, test_labels),\n",
        "            callbacks=[create_model_checkpoint(model_name=model_3.name)])"
      ]
    },
    {
      "cell_type": "code",
      "execution_count": 210,
      "metadata": {
        "colab": {
          "base_uri": "https://localhost:8080/"
        },
        "id": "Pd-8pbfh-DDI",
        "outputId": "ad359823-115b-4f42-f5da-bc5c2116951f"
      },
      "outputs": [
        {
          "name": "stdout",
          "output_type": "stream",
          "text": [
            "21/21 [==============================] - 0s 2ms/step - loss: 1236.0482\n"
          ]
        },
        {
          "data": {
            "text/plain": [
              "1236.0482177734375"
            ]
          },
          "execution_count": 210,
          "metadata": {},
          "output_type": "execute_result"
        }
      ],
      "source": [
        "# How did our model with a larger window size and horizon go?\n",
        "model_3.evaluate(test_windows, test_labels)"
      ]
    },
    {
      "cell_type": "markdown",
      "metadata": {
        "id": "BXqmKsQhS2qB"
      },
      "source": [
        "To compare apples to apples (best performing model to best performing model), we've got to load in the best version of `model_3`. "
      ]
    },
    {
      "cell_type": "code",
      "execution_count": 211,
      "metadata": {
        "colab": {
          "base_uri": "https://localhost:8080/"
        },
        "id": "XsltcXHYSrkX",
        "outputId": "ca492549-6b42-4f67-c84b-37a77b742732"
      },
      "outputs": [
        {
          "name": "stdout",
          "output_type": "stream",
          "text": [
            "21/21 [==============================] - 0s 2ms/step - loss: 1120.2638\n"
          ]
        },
        {
          "data": {
            "text/plain": [
              "1120.2637939453125"
            ]
          },
          "execution_count": 211,
          "metadata": {},
          "output_type": "execute_result"
        }
      ],
      "source": [
        "# Load in best version of model_3 and evaluate\n",
        "model_3 = tf.keras.models.load_model(\"model_experiments/model_3_dense/\")\n",
        "model_3.evaluate(test_windows, test_labels)"
      ]
    },
    {
      "cell_type": "markdown",
      "metadata": {
        "id": "q--5dtgITJbc"
      },
      "source": [
        "In this case, the error will be higher because we're predicting 7 steps at a time. \n",
        "\n",
        "This makes sense though because the further you try and predict, the larger your error will be (think of trying to predict the weather 7 days in advance).\n",
        "\n",
        "Let's make predictions with our model using the `make_preds()` function and evaluate them using the `evaluate_preds()` function."
      ]
    },
    {
      "cell_type": "code",
      "execution_count": 212,
      "metadata": {
        "colab": {
          "base_uri": "https://localhost:8080/"
        },
        "id": "uKBNVovRpvhd",
        "outputId": "4adc4cf3-362d-468b-9664-f63c8bbfc493"
      },
      "outputs": [
        {
          "name": "stdout",
          "output_type": "stream",
          "text": [
            "21/21 [==============================] - 0s 1ms/step\n"
          ]
        },
        {
          "data": {
            "text/plain": [
              "<tf.Tensor: shape=(5, 7), dtype=float32, numpy=\n",
              "array([[37984.12 , 38335.07 , 39073.645, 38403.586, 39375.953, 39622.72 ,\n",
              "        38533.594],\n",
              "       [37947.156, 37207.25 , 38270.242, 37675.77 , 38360.707, 38304.445,\n",
              "        37773.32 ],\n",
              "       [38047.22 , 37352.836, 37843.387, 38099.76 , 37603.324, 37819.445,\n",
              "        37357.18 ],\n",
              "       [37399.684, 36441.945, 36706.047, 38073.793, 37396.145, 37712.957,\n",
              "        37150.227],\n",
              "       [38437.414, 36693.82 , 37702.055, 38103.58 , 38486.215, 38104.18 ,\n",
              "        37460.61 ]], dtype=float32)>"
            ]
          },
          "execution_count": 212,
          "metadata": {},
          "output_type": "execute_result"
        }
      ],
      "source": [
        "# The predictions are going to be 7 steps at a time (this is the HORIZON size)\n",
        "model_3_preds = make_preds(model_3,\n",
        "                           input_data=test_windows)\n",
        "model_3_preds[:5]"
      ]
    },
    {
      "cell_type": "code",
      "execution_count": 213,
      "metadata": {
        "colab": {
          "base_uri": "https://localhost:8080/"
        },
        "id": "P9VQqenW-5to",
        "outputId": "d31e64e1-3827-4e87-e88c-24404164890c"
      },
      "outputs": [
        {
          "data": {
            "text/plain": [
              "{'mae': array([ 615.5781 , 1255.4319 , 2369.1926 , 3668.7097 , 3566.437  ,\n",
              "        2911.9744 , 2931.855  , 3130.7769 , 2645.447  , 4068.145  ,\n",
              "        5318.5034 , 4530.7783 , 1459.0837 , 1214.3605 ,  879.74835,\n",
              "        1927.0061 , 1473.2567 , 1257.8867 ,  982.3404 , 1329.658  ,\n",
              "        2364.7405 , 3370.8572 , 2478.6746 , 2644.904  , 2251.817  ,\n",
              "        1799.7142 , 1276.5217 , 1559.4269 , 2117.3086 , 3264.043  ,\n",
              "        3431.744  , 2743.1038 , 2320.5066 , 2164.2322 , 1766.163  ,\n",
              "         825.61163,  967.27734,  868.2154 , 1374.0134 , 1213.9603 ,\n",
              "        1844.678  , 2226.289  , 2468.523  , 3600.7097 , 3923.75   ,\n",
              "        2181.7761 , 2117.5847 , 2020.7506 , 1900.8577 , 2055.2761 ,\n",
              "         554.26337,  897.0028 ,  839.8594 ,  584.9274 ,  632.3164 ,\n",
              "         999.64954, 1126.9559 ,  933.2394 , 1435.2344 , 1651.3522 ,\n",
              "        1406.7762 ,  779.7355 ,  983.514  ,  932.9833 ,  945.34766,\n",
              "         625.4682 ,  738.96985,  805.64954,  758.25165, 1283.5206 ,\n",
              "        1378.7361 , 2797.3225 , 3418.8867 , 5220.667  , 5001.3916 ,\n",
              "        5291.4766 , 4934.94   , 4139.4204 , 2074.4106 , 1200.8203 ,\n",
              "         691.3164 ,  872.3499 ,  918.3482 ,  910.6593 , 1160.2721 ,\n",
              "         804.24164,  722.9372 ,  437.20425,  573.16156,  459.39984,\n",
              "         385.0466 ,  747.85016, 1045.074  , 1150.1404 , 1194.3231 ,\n",
              "        1407.4688 , 1569.8763 , 1829.1083 , 1643.5881 ,  721.87726,\n",
              "        1313.0131 ,  802.1546 ,  931.2271 , 1006.7536 , 1193.8496 ,\n",
              "        1266.6295 , 2323.236  , 3794.7844 , 4726.0337 , 5635.311  ,\n",
              "        5863.366  , 6639.066  , 6032.203  , 3390.4126 , 2232.8455 ,\n",
              "        2072.3396 , 1090.7422 ,  735.58203, 1315.7994 ,  918.3686 ,\n",
              "         322.82617,  408.12723,  316.77847,  687.38055, 1143.9576 ,\n",
              "        1355.86   , 1642.9852 ,  985.90234,  582.6671 ,  545.62665,\n",
              "         831.8725 , 1203.6825 , 1487.7533 , 2007.7448 , 1589.7224 ,\n",
              "        1179.3502 , 1010.0435 ,  706.0201 ,  821.4517 ,  576.7168 ,\n",
              "         745.9626 ,  905.5801 , 1918.3691 , 2274.9946 , 2023.2402 ,\n",
              "        1855.5829 , 1698.5284 , 2052.4875 ,  877.99304,  772.0717 ,\n",
              "         933.2628 , 1018.4821 ,  913.77625,  876.6861 , 1007.8591 ,\n",
              "        1538.6981 , 2456.6855 , 1304.3792 ,  557.6872 ,  762.4704 ,\n",
              "         978.8951 ,  556.1504 ,  487.58258,  285.40933,  671.84094,\n",
              "         971.94476,  872.0126 , 1085.3639 ,  918.48883,  491.28824,\n",
              "         773.2648 ,  453.72293,  521.4899 ,  970.4632 , 1621.1437 ,\n",
              "        1937.9755 , 1878.9308 , 1969.6827 , 1790.5818 , 1647.5988 ,\n",
              "         528.41516,  550.47156,  831.22546,  856.58984, 1000.5089 ,\n",
              "        1051.3923 , 1379.5826 ,  693.28625,  326.75473,  386.9297 ,\n",
              "         252.64201,  484.90625,  329.8803 ,  458.88727,  664.1839 ,\n",
              "         933.5943 , 1110.8552 , 1521.7148 , 1681.7589 , 1860.5338 ,\n",
              "        1866.658  ,  791.7988 ,  976.0243 , 1339.5078 , 1956.9032 ,\n",
              "        1154.5092 ,  727.6747 ,  546.5558 ,  466.15094,  576.04913,\n",
              "         354.8298 ,  408.8379 ,  484.97266,  631.80634,  566.5929 ,\n",
              "         339.51645,  320.22964,  478.56586,  394.92215,  603.524  ,\n",
              "         626.64813,  545.22266,  491.38922,  541.971  ,  707.98663,\n",
              "         495.4004 ,  599.0159 ,  782.7665 ,  706.56415,  409.03824,\n",
              "         202.43332,  248.34486,  300.45508,  538.75977,  439.92856,\n",
              "         152.3817 ,  299.27652,  391.47574,  384.60184,  133.226  ,\n",
              "         222.19754,  535.5173 ,  785.19446,  954.4375 , 1180.1326 ,\n",
              "        1075.7081 , 1186.726  ,  862.1942 ,  301.38477,  237.20201,\n",
              "         376.36832,  455.44644,  332.16965,  429.00586,  582.4863 ,\n",
              "        1393.8441 , 1721.2164 , 2083.7686 , 2818.293  , 3511.1077 ,\n",
              "        3700.1365 , 2527.6536 ,  615.6978 ,  268.00836,  271.5695 ,\n",
              "         323.0279 ,  230.6416 ,  332.49387,  521.1901 ,  484.59067,\n",
              "         332.5696 ,  470.49387,  643.02527,  365.7482 ,  437.9248 ,\n",
              "         339.57394,  469.04742,  386.0727 ,  430.28012,  583.0954 ,\n",
              "         459.66797,  595.0585 ,  850.9015 ,  520.72754,  318.05453,\n",
              "         457.3005 ,  468.90973,  470.86188,  516.4704 ,  531.4505 ,\n",
              "         575.2796 ,  433.0703 ,  399.8284 ,  291.01926,  382.9693 ,\n",
              "         417.01254,  551.8588 ,  885.94086,  729.87195,  192.23521,\n",
              "         137.3323 ,  241.60213,  411.6882 ,  244.99818,  179.46623,\n",
              "         212.01033,  167.58537,  208.00809,  185.86523,  170.34152,\n",
              "         179.68945,  182.46666,  189.32143,  308.73215,  374.40207,\n",
              "         407.6497 ,  474.6949 ,  467.1914 ,  459.21176,  801.0433 ,\n",
              "        1130.6412 , 1633.3479 , 2146.4731 , 2609.9263 , 2943.4182 ,\n",
              "        2985.0688 , 2451.7576 , 1744.4338 ,  839.03485,  821.5075 ,\n",
              "         989.80774,  995.6378 , 1511.8577 , 1764.7266 ,  807.7687 ,\n",
              "         204.19894,  310.08426,  307.4012 ,  315.70703,  428.36078,\n",
              "         225.99666,  438.34598,  320.04047,  367.9598 ,  453.01675,\n",
              "         397.33258,  333.28738,  629.1376 , 1032.6967 , 1111.9579 ,\n",
              "        1086.0927 , 1195.1454 , 1280.7952 , 1316.5938 ,  827.202  ,\n",
              "        1243.2991 , 1687.6805 , 1874.7949 , 2346.5334 , 2518.711  ,\n",
              "         910.8574 ,  569.44366,  352.8432 ,  839.3708 ,  801.90375,\n",
              "         923.6462 , 1123.7592 ,  912.0524 ,  580.9283 ,  441.66574,\n",
              "         558.00085,  356.77484,  546.4297 ,  679.2042 ,  861.3036 ,\n",
              "        1254.4509 ,  943.7023 , 1024.9822 ,  926.4495 , 1179.6278 ,\n",
              "        1323.9143 , 1697.9275 , 2361.2012 , 3596.7478 , 4651.923  ,\n",
              "        4407.983  , 2984.6938 , 2387.6294 , 2580.9048 , 2685.8784 ,\n",
              "        1208.6702 ,  719.8075 ,  462.67746,  282.29883,  761.83734,\n",
              "         514.476  ,  773.09406,  512.4018 ,  861.00977,  637.8867 ,\n",
              "         837.6554 ,  991.91156,  581.71875,  546.72516,  259.75726,\n",
              "         322.20367,  321.29688,  586.67773,  792.0806 ,  813.0714 ,\n",
              "         875.22015, 1202.0104 , 1743.4642 , 1511.4518 ,  827.81165,\n",
              "         334.8496 ,  544.1415 ,  959.1476 , 1349.9838 , 1650.7526 ,\n",
              "        1804.3025 , 1573.9857 , 1905.4701 , 1430.0048 ,  738.7419 ,\n",
              "         909.8206 , 1184.3516 , 1440.3683 , 1590.7112 , 1117.4166 ,\n",
              "        1018.94055,  460.62723,  551.1454 ,  466.10547,  564.72015,\n",
              "         592.09625,  783.2511 ,  837.66797,  985.75867, 1563.3038 ,\n",
              "        1732.4679 , 1386.579  ,  728.4897 ,  614.7489 ,  325.76508,\n",
              "         356.55496,  418.09933,  614.106  ,  446.65512,  362.67633,\n",
              "         403.16992,  313.8245 ,  288.24777,  412.03656,  366.1038 ,\n",
              "         591.40204,  526.9908 ,  654.6468 ,  808.4372 , 1127.892  ,\n",
              "        1008.22235,  953.7667 ,  299.0848 ,  633.0784 ,  602.88226,\n",
              "         568.8853 ,  386.91602,  564.839  ,  439.90152,  611.1476 ,\n",
              "         549.2034 ,  518.2436 ,  608.1925 ,  424.488  ,  613.70703,\n",
              "         428.78348,  434.61832,  512.58484,  924.5781 , 1939.5143 ,\n",
              "        2429.2869 , 2806.7322 , 2780.65   , 3262.9421 , 3608.6091 ,\n",
              "        2726.0251 ,  982.38336,  477.4191 ,  349.67773,  330.8563 ,\n",
              "         333.5865 ,  269.86636,  413.4894 ,  515.2575 ,  469.46484,\n",
              "         507.05023,  360.7154 ,  392.43164,  456.02985,  399.41016,\n",
              "         248.41238,  581.06024,  551.16046,  376.8022 ,  538.84735,\n",
              "         438.10992,  637.46484,  666.60657, 1118.7517 , 1043.1534 ,\n",
              "         619.92804,  575.15985,  516.7706 ,  465.1289 ,  372.91656,\n",
              "         364.49246,  380.11328,  301.3976 ,  291.0957 ,  228.75223,\n",
              "         282.3672 ,  291.35492,  301.75473,  238.65541,  298.12082,\n",
              "         272.65012,  299.63394,  363.3605 ,  289.4509 ,  273.3602 ,\n",
              "         526.8778 ,  535.95844,  601.7673 ,  590.86884,  282.97488,\n",
              "         226.15625,  585.50586,  988.58563, 1451.2009 , 1801.1613 ,\n",
              "        2037.3998 , 2455.0337 , 2401.4373 , 1162.2322 ,  161.93108,\n",
              "         364.97992,  312.50418,  294.88058,  467.06754,  559.6381 ,\n",
              "         484.95285,  532.96765,  621.7751 ,  573.9721 ,  590.9643 ,\n",
              "         796.77313, 1432.8658 ,  570.9732 ,  356.34683,  343.43918,\n",
              "         349.57477,  223.70535,  355.75613,  519.8895 ,  601.88586,\n",
              "         648.21875,  866.49805,  903.71484, 1438.0946 , 1416.0533 ,\n",
              "        1027.7146 ,  757.714  ,  390.05914,  318.21848,  381.91434,\n",
              "         394.70258,  530.10266,  578.1007 ,  467.83008,  336.68527,\n",
              "         346.40317,  660.1097 , 1049.2656 , 1354.6102 , 1419.4987 ,\n",
              "         946.90625,  812.9336 ,  895.92523,  344.79547,  325.6353 ,\n",
              "         278.01254,  374.3605 ,  492.65988,  602.3343 ,  797.7963 ,\n",
              "         783.6186 ,  792.6239 ,  775.63446,  773.61884, 1183.1649 ,\n",
              "        1605.2643 , 2175.2817 , 2231.142  , 2001.0273 , 2393.3499 ,\n",
              "        3090.722  , 3688.32   , 3609.0256 , 3490.151  , 3907.897  ,\n",
              "        2197.3533 ,  640.76337,  564.8432 ,  433.4509 ,  367.47656,\n",
              "         633.5536 ,  398.63394,  416.8973 ,  463.18582,  310.76785,\n",
              "         410.24554,  931.63336, 1278.8639 , 1596.0625 , 1587.0156 ,\n",
              "        1298.0931 , 1423.8817 ,  819.9118 ,  642.81586,  887.28796,\n",
              "         826.46094,  747.3153 ,  935.6875 ,  668.54297,  399.8828 ,\n",
              "         528.8683 ,  770.8895 ,  483.40738,  624.06805, 1064.1663 ,\n",
              "         971.05023,  709.1122 ,  407.24332,  508.6384 ,  941.63055,\n",
              "        1850.8303 , 2604.5642 , 3136.5637 , 3883.6272 , 4189.6206 ,\n",
              "        3845.9497 , 3682.428  , 1963.7578 ,  909.61774, 1254.5123 ,\n",
              "        1166.8309 , 1461.7244 , 1762.4459 , 2054.1328 ,  457.61996,\n",
              "        1090.6931 ,  694.9643 ,  631.5999 ,  873.31305, 1310.8705 ,\n",
              "        1958.0184 , 1659.7383 , 1042.3348 ,  675.0162 ,  627.93304,\n",
              "         978.94867, 1258.0123 ], dtype=float32),\n",
              " 'mse': array([7.09160438e+05, 4.68240150e+06, 1.17523940e+07, 1.97211140e+07,\n",
              "        1.79349300e+07, 1.30842830e+07, 1.26415190e+07, 1.56354550e+07,\n",
              "        8.35092750e+06, 2.23824420e+07, 3.25825600e+07, 2.26264460e+07,\n",
              "        2.98599075e+06, 2.06111100e+06, 1.30495388e+06, 5.21581350e+06,\n",
              "        3.33542650e+06, 2.31706825e+06, 1.10954138e+06, 4.14393550e+06,\n",
              "        8.42004100e+06, 1.27880270e+07, 8.13793500e+06, 7.81224700e+06,\n",
              "        6.22923050e+06, 4.26422400e+06, 3.24864575e+06, 3.59651375e+06,\n",
              "        7.36554050e+06, 1.29655530e+07, 1.32453430e+07, 9.03083900e+06,\n",
              "        6.12836900e+06, 5.44445150e+06, 3.38382825e+06, 9.69714000e+05,\n",
              "        1.39405462e+06, 9.42434000e+05, 2.86568450e+06, 2.36580250e+06,\n",
              "        5.05271350e+06, 6.95931900e+06, 7.97112450e+06, 1.55599410e+07,\n",
              "        1.85888620e+07, 7.62296350e+06, 6.36006850e+06, 5.22451750e+06,\n",
              "        4.20323650e+06, 4.65147350e+06, 5.03479594e+05, 9.99426125e+05,\n",
              "        9.22197438e+05, 3.89175812e+05, 6.51110375e+05, 1.08712088e+06,\n",
              "        1.54447025e+06, 1.41262400e+06, 2.98873650e+06, 3.52897950e+06,\n",
              "        2.75490000e+06, 8.65288875e+05, 1.28391888e+06, 1.13103962e+06,\n",
              "        1.39633112e+06, 6.09229438e+05, 8.61653125e+05, 8.07304062e+05,\n",
              "        9.64350438e+05, 2.13197725e+06, 2.36366850e+06, 1.20126100e+07,\n",
              "        1.72941240e+07, 3.44171280e+07, 3.29537940e+07, 3.39168040e+07,\n",
              "        2.73195740e+07, 1.81283300e+07, 5.39546800e+06, 2.12884875e+06,\n",
              "        7.68427375e+05, 1.55071488e+06, 1.30549575e+06, 1.11087262e+06,\n",
              "        1.82068812e+06, 1.12982562e+06, 7.88343438e+05, 2.97306062e+05,\n",
              "        4.65305156e+05, 4.86106656e+05, 1.96515109e+05, 8.24019500e+05,\n",
              "        1.68947875e+06, 2.46503625e+06, 2.08876775e+06, 3.48364575e+06,\n",
              "        3.22500375e+06, 4.27739100e+06, 3.34681850e+06, 8.96116500e+05,\n",
              "        2.09622225e+06, 1.06886000e+06, 1.12565838e+06, 1.46259175e+06,\n",
              "        2.45086175e+06, 2.23675550e+06, 1.15448230e+07, 2.50069660e+07,\n",
              "        3.36227240e+07, 4.07764720e+07, 4.32101440e+07, 4.90078920e+07,\n",
              "        3.84319480e+07, 1.31729220e+07, 6.07429950e+06, 4.51177150e+06,\n",
              "        1.59236862e+06, 9.45945688e+05, 2.57156525e+06, 1.01112938e+06,\n",
              "        1.30348250e+05, 2.70228531e+05, 1.88392297e+05, 7.10206688e+05,\n",
              "        1.94849538e+06, 2.10055100e+06, 3.12880125e+06, 1.20733262e+06,\n",
              "        7.46000938e+05, 5.08540438e+05, 1.28953012e+06, 2.79308075e+06,\n",
              "        3.02306325e+06, 4.62232000e+06, 3.03622175e+06, 1.62133200e+06,\n",
              "        1.32271988e+06, 6.83586188e+05, 1.22040938e+06, 4.72288719e+05,\n",
              "        8.47401125e+05, 1.21969075e+06, 4.88584800e+06, 6.42864800e+06,\n",
              "        5.12321150e+06, 4.45190500e+06, 3.20966275e+06, 4.42878650e+06,\n",
              "        1.04002081e+06, 9.35926188e+05, 1.46975125e+06, 1.31081800e+06,\n",
              "        1.24842988e+06, 9.21800688e+05, 1.08976300e+06, 2.69844675e+06,\n",
              "        6.16576000e+06, 2.10821725e+06, 4.54542844e+05, 8.30505375e+05,\n",
              "        1.28692275e+06, 4.40897094e+05, 3.37606438e+05, 1.11996008e+05,\n",
              "        7.12817000e+05, 1.10441238e+06, 9.96511000e+05, 1.37173888e+06,\n",
              "        1.01000956e+06, 2.98363031e+05, 6.64790875e+05, 3.60094969e+05,\n",
              "        4.41741656e+05, 2.11482625e+06, 4.24136250e+06, 5.28318250e+06,\n",
              "        4.61499600e+06, 4.84388000e+06, 3.70909675e+06, 2.77763925e+06,\n",
              "        5.06637250e+05, 3.90519062e+05, 9.79721312e+05, 1.18318438e+06,\n",
              "        1.44605775e+06, 1.39361838e+06, 2.00881012e+06, 5.29948312e+05,\n",
              "        1.70029125e+05, 1.85325125e+05, 8.01906719e+04, 3.66436656e+05,\n",
              "        1.70520000e+05, 4.35967500e+05, 8.10003000e+05, 1.32415925e+06,\n",
              "        1.76597338e+06, 2.99596225e+06, 3.84397600e+06, 4.29132850e+06,\n",
              "        4.03275750e+06, 1.24461600e+06, 1.22574825e+06, 1.88104388e+06,\n",
              "        3.94973125e+06, 1.66450525e+06, 8.67913562e+05, 4.09374250e+05,\n",
              "        3.60743031e+05, 4.65873969e+05, 1.64897000e+05, 2.53265391e+05,\n",
              "        3.15052500e+05, 6.53916500e+05, 4.03344062e+05, 1.74698172e+05,\n",
              "        1.54211484e+05, 3.26005000e+05, 2.13571922e+05, 5.72915938e+05,\n",
              "        7.94139125e+05, 4.75892531e+05, 3.92657188e+05, 4.38962844e+05,\n",
              "        8.40048562e+05, 3.89408000e+05, 5.12270969e+05, 7.10534875e+05,\n",
              "        6.31921812e+05, 3.25924219e+05, 7.00884219e+04, 7.69371250e+04,\n",
              "        1.77704281e+05, 3.41523781e+05, 2.38007922e+05, 4.20226992e+04,\n",
              "        1.14301375e+05, 2.06376641e+05, 2.45856578e+05, 2.52431523e+04,\n",
              "        1.05948250e+05, 6.09838562e+05, 9.11566062e+05, 1.20331338e+06,\n",
              "        1.66860525e+06, 1.35760675e+06, 1.50371025e+06, 7.69528625e+05,\n",
              "        1.22035664e+05, 7.87186328e+04, 2.13665969e+05, 2.65695531e+05,\n",
              "        1.45974344e+05, 2.72844531e+05, 5.71828125e+05, 3.41088650e+06,\n",
              "        4.18103325e+06, 6.99677900e+06, 1.13189590e+07, 1.45697940e+07,\n",
              "        1.42237910e+07, 6.74509650e+06, 4.86579688e+05, 1.58744125e+05,\n",
              "        1.81615625e+05, 1.22195016e+05, 8.70677344e+04, 1.65725984e+05,\n",
              "        4.24155812e+05, 3.87401938e+05, 1.48891406e+05, 3.39568312e+05,\n",
              "        4.98781000e+05, 1.93322750e+05, 2.23564250e+05, 2.71495938e+05,\n",
              "        3.85989094e+05, 2.33057141e+05, 2.87866094e+05, 5.04430719e+05,\n",
              "        2.67526250e+05, 4.70879438e+05, 8.82927438e+05, 3.91614969e+05,\n",
              "        2.10050047e+05, 3.33586469e+05, 3.42055781e+05, 2.84806750e+05,\n",
              "        3.28525094e+05, 4.27071250e+05, 3.95828219e+05, 2.57140016e+05,\n",
              "        2.00801781e+05, 1.71744578e+05, 2.07575078e+05, 2.62301406e+05,\n",
              "        4.11903750e+05, 8.38095125e+05, 5.51610438e+05, 6.64213828e+04,\n",
              "        2.26344102e+04, 8.54277500e+04, 1.83339359e+05, 8.45575000e+04,\n",
              "        3.93412695e+04, 6.86145078e+04, 6.25153867e+04, 4.70183008e+04,\n",
              "        5.26289805e+04, 4.38027266e+04, 3.95364414e+04, 4.42761992e+04,\n",
              "        6.61326953e+04, 1.16389859e+05, 1.87197578e+05, 2.22819344e+05,\n",
              "        2.68332094e+05, 2.62878844e+05, 3.60246438e+05, 1.19833862e+06,\n",
              "        2.44978925e+06, 4.81531250e+06, 6.94674850e+06, 8.87266800e+06,\n",
              "        1.00923410e+07, 9.54692400e+06, 6.25651200e+06, 3.49298525e+06,\n",
              "        1.37344825e+06, 1.14465412e+06, 1.30717925e+06, 1.22819088e+06,\n",
              "        2.58582650e+06, 3.16447275e+06, 7.30817062e+05, 6.45867695e+04,\n",
              "        1.98502141e+05, 1.64406781e+05, 1.81962000e+05, 3.18522500e+05,\n",
              "        1.01986859e+05, 2.46683703e+05, 1.83282484e+05, 2.28387609e+05,\n",
              "        2.62290688e+05, 1.95856125e+05, 1.61086234e+05, 7.26931125e+05,\n",
              "        1.78442862e+06, 1.77981075e+06, 1.74501088e+06, 1.76071538e+06,\n",
              "        1.88133700e+06, 1.75286900e+06, 9.07978375e+05, 2.53072575e+06,\n",
              "        4.06258975e+06, 4.42602300e+06, 6.23335550e+06, 6.43540950e+06,\n",
              "        9.62101688e+05, 4.44889656e+05, 2.05566078e+05, 9.11066312e+05,\n",
              "        8.23682438e+05, 1.10382938e+06, 1.50197200e+06, 1.04904962e+06,\n",
              "        4.08952031e+05, 2.50893000e+05, 3.86678188e+05, 2.59696016e+05,\n",
              "        4.28157281e+05, 5.10024312e+05, 8.72552188e+05, 2.05944125e+06,\n",
              "        1.62154312e+06, 1.63061575e+06, 1.32972825e+06, 2.12482650e+06,\n",
              "        2.33155550e+06, 3.70809650e+06, 7.68477150e+06, 1.69767720e+07,\n",
              "        2.39020480e+07, 2.18576220e+07, 1.12983280e+07, 7.30473050e+06,\n",
              "        7.96813650e+06, 7.43416550e+06, 1.73910912e+06, 7.28502625e+05,\n",
              "        3.19307219e+05, 1.60985328e+05, 6.79412000e+05, 4.86395688e+05,\n",
              "        7.50087938e+05, 4.28865656e+05, 8.26293000e+05, 5.40997812e+05,\n",
              "        9.28792688e+05, 1.20518062e+06, 4.87704281e+05, 4.14064906e+05,\n",
              "        8.84409219e+04, 1.27451711e+05, 1.24106789e+05, 4.82275062e+05,\n",
              "        1.28062288e+06, 1.10334575e+06, 1.22262225e+06, 1.91104062e+06,\n",
              "        3.35413775e+06, 2.41415825e+06, 8.31371000e+05, 1.62910250e+05,\n",
              "        5.35986438e+05, 1.49750888e+06, 3.08990325e+06, 4.02368225e+06,\n",
              "        4.35648350e+06, 2.87706200e+06, 3.88117925e+06, 2.16987025e+06,\n",
              "        6.39350000e+05, 1.37575512e+06, 1.97959000e+06, 2.55709275e+06,\n",
              "        2.71803675e+06, 1.64448612e+06, 1.24220675e+06, 3.11811219e+05,\n",
              "        4.53169219e+05, 3.47617250e+05, 4.09914781e+05, 5.88186375e+05,\n",
              "        6.63651500e+05, 9.74883062e+05, 1.28477912e+06, 2.99308600e+06,\n",
              "        3.32198400e+06, 2.18929650e+06, 8.39759062e+05, 5.67999062e+05,\n",
              "        1.66267500e+05, 1.55137656e+05, 2.35843578e+05, 5.35792188e+05,\n",
              "        3.03283438e+05, 2.37368391e+05, 2.72021594e+05, 1.25421891e+05,\n",
              "        1.44820422e+05, 2.47441375e+05, 2.16063156e+05, 6.30794938e+05,\n",
              "        5.33631250e+05, 6.11000000e+05, 9.84936438e+05, 1.48937675e+06,\n",
              "        1.39079838e+06, 1.17069712e+06, 1.27291180e+05, 6.14840312e+05,\n",
              "        6.10130125e+05, 6.18019625e+05, 2.55204578e+05, 4.01148156e+05,\n",
              "        2.36908125e+05, 4.94644688e+05, 4.33744656e+05, 3.53158906e+05,\n",
              "        4.14535781e+05, 2.52367734e+05, 4.96502406e+05, 2.69386312e+05,\n",
              "        2.41022875e+05, 3.87679000e+05, 1.70530475e+06, 6.05324750e+06,\n",
              "        8.82765400e+06, 1.06424300e+07, 1.02614190e+07, 1.22934950e+07,\n",
              "        1.36320580e+07, 7.62984850e+06, 1.08999712e+06, 2.93210906e+05,\n",
              "        2.34048156e+05, 1.63748719e+05, 1.58986219e+05, 1.23016539e+05,\n",
              "        2.30876750e+05, 3.36814781e+05, 3.11728469e+05, 3.64207406e+05,\n",
              "        2.12467578e+05, 2.04987203e+05, 3.75410469e+05, 2.23161844e+05,\n",
              "        1.09838484e+05, 4.98251719e+05, 5.02340406e+05, 2.63460062e+05,\n",
              "        4.22865031e+05, 3.80693688e+05, 5.80342875e+05, 5.82351062e+05,\n",
              "        1.45447138e+06, 1.31846962e+06, 4.81873531e+05, 4.07760406e+05,\n",
              "        3.55143844e+05, 3.52089219e+05, 1.84574766e+05, 1.55137328e+05,\n",
              "        1.99506375e+05, 1.50746625e+05, 1.04049242e+05, 6.90976641e+04,\n",
              "        1.47050297e+05, 1.43073844e+05, 1.40293844e+05, 1.14288453e+05,\n",
              "        1.27091664e+05, 1.62602109e+05, 1.62856750e+05, 1.93438750e+05,\n",
              "        1.40701203e+05, 1.34229641e+05, 3.81785406e+05, 3.74454812e+05,\n",
              "        4.61927906e+05, 4.05077219e+05, 9.74124453e+04, 7.54205156e+04,\n",
              "        7.78449125e+05, 2.07487488e+06, 3.83119475e+06, 4.77391050e+06,\n",
              "        5.75704500e+06, 6.78706050e+06, 5.85641750e+06, 1.46696175e+06,\n",
              "        4.25592461e+04, 1.64834344e+05, 1.55122703e+05, 1.35559734e+05,\n",
              "        7.52833375e+05, 7.09397188e+05, 4.47304406e+05, 6.12994062e+05,\n",
              "        7.14138125e+05, 7.55980438e+05, 8.75733188e+05, 7.79678875e+05,\n",
              "        2.10045925e+06, 4.57191969e+05, 2.01397234e+05, 1.92315719e+05,\n",
              "        1.93721375e+05, 8.16580469e+04, 2.04426281e+05, 3.45870094e+05,\n",
              "        5.25300938e+05, 7.03406812e+05, 1.05704562e+06, 1.07326938e+06,\n",
              "        2.16123075e+06, 2.25543875e+06, 1.26210312e+06, 6.81668125e+05,\n",
              "        1.77119391e+05, 1.54784016e+05, 2.38571781e+05, 2.46391297e+05,\n",
              "        3.84169438e+05, 3.91538219e+05, 2.72507781e+05, 1.38825891e+05,\n",
              "        1.61225219e+05, 9.14661812e+05, 1.45400000e+06, 2.14755075e+06,\n",
              "        2.14162225e+06, 1.04641269e+06, 8.50207125e+05, 9.90136875e+05,\n",
              "        1.92158250e+05, 1.45778594e+05, 1.34583109e+05, 1.87672984e+05,\n",
              "        2.83369500e+05, 5.02949438e+05, 8.69210125e+05, 7.26043562e+05,\n",
              "        7.07634562e+05, 6.63077000e+05, 9.22681438e+05, 2.10026425e+06,\n",
              "        3.45826375e+06, 5.49717600e+06, 5.55857250e+06, 6.70460800e+06,\n",
              "        9.75713400e+06, 1.46179470e+07, 1.78660060e+07, 1.60780660e+07,\n",
              "        1.42335860e+07, 1.54561300e+07, 4.99092650e+06, 4.73478219e+05,\n",
              "        4.28550500e+05, 2.60711266e+05, 2.18581219e+05, 5.50359938e+05,\n",
              "        2.24411547e+05, 2.56346281e+05, 2.91337656e+05, 1.52219375e+05,\n",
              "        4.19634281e+05, 1.93930925e+06, 2.73859950e+06, 3.13587375e+06,\n",
              "        2.90140225e+06, 2.34991525e+06, 2.71457375e+06, 9.13648438e+05,\n",
              "        7.18912000e+05, 1.01216869e+06, 9.23388625e+05, 7.53256500e+05,\n",
              "        1.16210325e+06, 8.29513438e+05, 3.30441281e+05, 3.86940438e+05,\n",
              "        7.76663938e+05, 4.34662531e+05, 6.28477500e+05, 1.32224688e+06,\n",
              "        1.10274175e+06, 6.59009500e+05, 3.15023219e+05, 6.16551125e+05,\n",
              "        2.02557862e+06, 5.64870750e+06, 1.10964000e+07, 1.43915270e+07,\n",
              "        1.92748300e+07, 2.07560780e+07, 1.67143020e+07, 1.40292370e+07,\n",
              "        4.32054700e+06, 1.39054138e+06, 3.05283925e+06, 2.02032288e+06,\n",
              "        3.23199550e+06, 3.81568075e+06, 4.74746700e+06, 2.44500984e+05,\n",
              "        1.49691462e+06, 7.33737625e+05, 5.51731688e+05, 1.29286138e+06,\n",
              "        2.31576775e+06, 3.97510125e+06, 3.32412225e+06, 1.42979262e+06,\n",
              "        5.80385312e+05, 5.31392875e+05, 1.51505638e+06, 2.11487375e+06],\n",
              "       dtype=float32),\n",
              " 'rmse': array([ 842.11664, 2163.8857 , 3428.1765 , 4440.846  , 4234.9653 ,\n",
              "        3617.2205 , 3555.4915 , 3954.1694 , 2889.797  , 4731.009  ,\n",
              "        5708.1133 , 4756.7266 , 1728.002  , 1435.657  , 1142.3458 ,\n",
              "        2283.8157 , 1826.3151 , 1522.1919 , 1053.3477 , 2035.6659 ,\n",
              "        2901.7307 , 3576.0352 , 2852.7065 , 2795.0398 , 2495.8425 ,\n",
              "        2064.9998 , 1802.4    , 1896.4476 , 2713.953  , 3600.7712 ,\n",
              "        3639.4153 , 3005.1355 , 2475.5542 , 2333.335  , 1839.5184 ,\n",
              "         984.7406 , 1180.7009 ,  970.7904 , 1692.8333 , 1538.1166 ,\n",
              "        2247.8242 , 2638.052  , 2823.318  , 3944.6091 , 4311.4805 ,\n",
              "        2760.9714 , 2521.9177 , 2285.7205 , 2050.1797 , 2156.7275 ,\n",
              "         709.563  ,  999.713  ,  960.3111 ,  623.8396 ,  806.9141 ,\n",
              "        1042.6509 , 1242.7672 , 1188.5386 , 1728.7963 , 1878.5579 ,\n",
              "        1659.7892 ,  930.20905, 1133.1014 , 1063.5034 , 1181.6646 ,\n",
              "         780.5315 ,  928.25275,  898.50104,  982.0135 , 1460.1292 ,\n",
              "        1537.4227 , 3465.9211 , 4158.6206 , 5866.6113 , 5740.5396 ,\n",
              "        5823.8135 , 5226.813  , 4257.738  , 2322.8147 , 1459.0575 ,\n",
              "         876.5999 , 1245.277  , 1142.5829 , 1053.9794 , 1349.3287 ,\n",
              "        1062.9326 ,  887.8871 ,  545.2578 ,  682.1328 ,  697.2135 ,\n",
              "         443.30026,  907.7552 , 1299.7996 , 1570.0433 , 1445.257  ,\n",
              "        1866.4528 , 1795.8296 , 2068.1855 , 1829.4312 ,  946.6343 ,\n",
              "        1447.8336 , 1033.8568 , 1060.9705 , 1209.3766 , 1565.5228 ,\n",
              "        1495.5786 , 3397.7673 , 5000.697  , 5798.5107 , 6385.646  ,\n",
              "        6573.4424 , 7000.5635 , 6199.3506 , 3629.452  , 2464.6094 ,\n",
              "        2124.093  , 1261.8909 ,  972.5974 , 1603.6101 , 1005.5493 ,\n",
              "         361.03775,  519.8351 ,  434.0418 ,  842.7376 , 1395.8851 ,\n",
              "        1449.3278 , 1768.8418 , 1098.7869 ,  863.71344,  713.12024,\n",
              "        1135.5748 , 1671.2512 , 1738.6958 , 2149.9583 , 1742.4757 ,\n",
              "        1273.3153 , 1150.0956 ,  826.7927 , 1104.7214 ,  687.23267,\n",
              "         920.54395, 1104.3961 , 2210.3955 , 2535.4778 , 2263.4512 ,\n",
              "        2109.9539 , 1791.5532 , 2104.4683 , 1019.8141 ,  967.4328 ,\n",
              "        1212.333  , 1144.9095 , 1117.3315 ,  960.1045 , 1043.9171 ,\n",
              "        1642.695  , 2483.0947 , 1451.9701 ,  674.19794,  911.3207 ,\n",
              "        1134.4261 ,  664.0008 ,  581.0391 ,  334.65805,  844.2849 ,\n",
              "        1050.9103 ,  998.25397, 1171.2125 , 1004.9923 ,  546.2262 ,\n",
              "         815.3471 ,  600.07916,  664.6365 , 1454.2443 , 2059.4568 ,\n",
              "        2298.5176 , 2148.2542 , 2200.8816 , 1925.9015 , 1666.6251 ,\n",
              "         711.78455,  624.9152 ,  989.8087 , 1087.7428 , 1202.5214 ,\n",
              "        1180.5161 , 1417.325  ,  727.97546,  412.3459 ,  430.49405,\n",
              "         283.17957,  605.3401 ,  412.94067,  660.2783 ,  900.00165,\n",
              "        1150.7212 , 1328.8993 , 1730.8848 , 1960.6061 , 2071.5522 ,\n",
              "        2008.1727 , 1115.6235 , 1107.1351 , 1371.5115 , 1987.3931 ,\n",
              "        1290.1571 ,  931.6188 ,  639.8236 ,  600.6189 ,  682.5496 ,\n",
              "         406.0751 ,  503.2548 ,  561.29535,  808.65106,  635.09375,\n",
              "         417.96912,  392.6977 ,  570.9685 ,  462.13843,  756.9121 ,\n",
              "         891.14484,  689.8497 ,  626.62366,  662.5427 ,  916.5416 ,\n",
              "         624.02563,  715.7311 ,  842.9323 ,  794.9351 ,  570.8977 ,\n",
              "         264.7422 ,  277.37543,  421.54987,  584.4004 ,  487.86057,\n",
              "         204.99438,  338.08487,  454.28696,  495.83926,  158.88094,\n",
              "         325.49692,  780.92163,  954.7597 , 1096.9564 , 1291.745  ,\n",
              "        1165.1638 , 1226.2587 ,  877.2278 ,  349.33603,  280.56842,\n",
              "         462.24017,  515.4566 ,  382.0659 ,  522.3452 ,  756.1932 ,\n",
              "        1846.8585 , 2044.7574 , 2645.1426 , 3364.366  , 3817.04   ,\n",
              "        3771.444  , 2597.1323 ,  697.5526 ,  398.42706,  426.16385,\n",
              "         349.56403,  295.07242,  407.09457,  651.27246,  622.4162 ,\n",
              "         385.8645 ,  582.7249 ,  706.24426,  439.68484,  472.8258 ,\n",
              "         521.05273,  621.2802 ,  482.75992,  536.53156,  710.23285,\n",
              "         517.2294 ,  686.20654,  939.6422 ,  625.7915 ,  458.31216,\n",
              "         577.56946,  584.85535,  533.6729 ,  573.1711 ,  653.5069 ,\n",
              "         629.1488 ,  507.08975,  448.10913,  414.42078,  455.6041 ,\n",
              "         512.1537 ,  641.7973 ,  915.47534,  742.70483,  257.72345,\n",
              "         150.44737,  292.28027,  428.18146,  290.78772,  198.34634,\n",
              "         261.94373,  250.03078,  216.83704,  229.41006,  209.29102,\n",
              "         198.83772,  210.4191 ,  257.16278,  341.15958,  432.66336,\n",
              "         472.03745,  518.0078 ,  512.7171 ,  600.2053 , 1094.6865 ,\n",
              "        1565.1803 , 2194.382  , 2635.6685 , 2978.7024 , 3176.8445 ,\n",
              "        3089.8098 , 2501.302  , 1868.953  , 1171.9421 , 1069.8851 ,\n",
              "        1143.3195 , 1108.2378 , 1608.0505 , 1778.8965 ,  854.8784 ,\n",
              "         254.13927,  445.5358 ,  405.47107,  426.57004,  564.378  ,\n",
              "         319.35382,  496.67264,  428.11505,  477.89917,  512.14325,\n",
              "         442.55637,  401.3555 ,  852.60254, 1335.8251 , 1334.0955 ,\n",
              "        1320.9886 , 1326.9196 , 1371.6184 , 1323.9596 ,  952.87897,\n",
              "        1590.8254 , 2015.5867 , 2103.8115 , 2496.669  , 2536.8108 ,\n",
              "         980.8678 ,  667.0005 ,  453.39395,  954.4979 ,  907.5695 ,\n",
              "        1050.6328 , 1225.5497 , 1024.2312 ,  639.4936 ,  500.8922 ,\n",
              "         621.83453,  509.6038 ,  654.3373 ,  714.15985,  934.10504,\n",
              "        1435.0753 , 1273.3983 , 1276.9557 , 1153.1384 , 1457.6785 ,\n",
              "        1526.9432 , 1925.6418 , 2772.142  , 4120.288  , 4888.972  ,\n",
              "        4675.2134 , 3361.2986 , 2702.7266 , 2822.7888 , 2726.5667 ,\n",
              "        1318.7528 ,  853.5237 ,  565.07275,  401.22977,  824.2645 ,\n",
              "         697.4207 ,  866.0762 ,  654.87836,  909.0066 ,  735.5255 ,\n",
              "         963.7389 , 1097.8071 ,  698.3583 ,  643.47876,  297.3902 ,\n",
              "         357.00378,  352.28793,  694.46027, 1131.6461 , 1050.4027 ,\n",
              "        1105.7225 , 1382.4039 , 1831.4305 , 1553.7562 ,  911.7955 ,\n",
              "         403.62143,  732.11096, 1223.7274 , 1757.812  , 2005.9119 ,\n",
              "        2087.219  , 1696.1904 , 1970.0709 , 1473.048  ,  799.5936 ,\n",
              "        1172.9259 , 1406.979  , 1599.0912 , 1648.647  , 1282.3752 ,\n",
              "        1114.5433 ,  558.4006 ,  673.17847,  589.59076,  640.24585,\n",
              "         766.9331 ,  814.6481 ,  987.3617 , 1133.481  , 1730.0537 ,\n",
              "        1822.6311 , 1479.6272 ,  916.38367,  753.6571 ,  407.75912,\n",
              "         393.87518,  485.6373 ,  731.9783 ,  550.71173,  487.20468,\n",
              "         521.5569 ,  354.14954,  380.5528 ,  497.43478,  464.82593,\n",
              "         794.226  ,  730.5007 ,  781.6649 ,  992.43964, 1220.4003 ,\n",
              "        1179.3212 , 1081.9875 ,  356.7789 ,  784.11755,  781.1083 ,\n",
              "         786.1422 ,  505.17776,  633.36255,  486.7321 ,  703.3098 ,\n",
              "         658.59296,  594.2717 ,  643.84454,  502.36215,  704.6293 ,\n",
              "         519.0244 ,  490.9408 ,  622.63873, 1305.8732 , 2460.3347 ,\n",
              "        2971.1367 , 3262.2737 , 3203.345  , 3506.208  , 3692.1616 ,\n",
              "        2762.218  , 1044.0293 ,  541.4895 ,  483.78525,  404.65878,\n",
              "         398.73077,  350.73712,  480.49637,  580.3575 ,  558.3265 ,\n",
              "         603.496  ,  460.94205,  452.75513,  612.7075 ,  472.4001 ,\n",
              "         331.41888,  705.8695 ,  708.75977,  513.2836 ,  650.28076,\n",
              "         617.0038 ,  761.80237,  763.1193 , 1206.0146 , 1148.2463 ,\n",
              "         694.1711 ,  638.5612 ,  595.93945,  593.3711 ,  429.62164,\n",
              "         393.87476,  446.66138,  388.26102,  322.56665,  262.86435,\n",
              "         383.47137,  378.25104,  374.5582 ,  338.06577,  356.49918,\n",
              "         403.23953,  403.55515,  439.8167 ,  375.1016 ,  366.37363,\n",
              "         617.8879 ,  611.9271 ,  679.6528 ,  636.4568 ,  312.10968,\n",
              "         274.62796,  882.29767, 1440.4426 , 1957.3438 , 2184.928  ,\n",
              "        2399.3843 , 2605.1987 , 2420.0037 , 1211.182  ,  206.29892,\n",
              "         405.99796,  393.8562 ,  368.1844 ,  867.6597 ,  842.2572 ,\n",
              "         668.8082 ,  782.9394 ,  845.06696,  869.4714 ,  935.80615,\n",
              "         882.99426, 1449.2961 ,  676.1597 ,  448.77304,  438.53815,\n",
              "         440.1379 ,  285.75873,  452.13525,  588.10724,  724.7765 ,\n",
              "         838.69354, 1028.1272 , 1035.9872 , 1470.1125 , 1501.8118 ,\n",
              "        1123.4336 ,  825.63196,  420.85556,  393.426  ,  488.4381 ,\n",
              "         496.37817,  619.814  ,  625.73016,  522.02277,  372.59348,\n",
              "         401.5286 ,  956.3795 , 1205.8192 , 1465.4524 , 1463.4282 ,\n",
              "        1022.9432 ,  922.0668 ,  995.0562 ,  438.35858,  381.80963,\n",
              "         366.8557 ,  433.2124 ,  532.32465,  709.1893 ,  932.3144 ,\n",
              "         852.0819 ,  841.2102 ,  814.2954 ,  960.5631 , 1449.2289 ,\n",
              "        1859.6407 , 2344.6057 , 2357.6626 , 2589.3257 , 3123.641  ,\n",
              "        3823.3423 , 4226.82   , 4009.7463 , 3772.7424 , 3931.4285 ,\n",
              "        2234.038  ,  688.09753,  654.6377 ,  510.59894,  467.5267 ,\n",
              "         741.8625 ,  473.72095,  506.30652,  539.757  ,  390.153  ,\n",
              "         647.7919 , 1392.5908 , 1654.8715 , 1770.8398 , 1703.3503 ,\n",
              "        1532.9434 , 1647.5963 ,  955.8496 ,  847.8868 , 1006.0659 ,\n",
              "         960.93115,  867.9035 , 1078.0089 ,  910.7763 ,  574.8402 ,\n",
              "         622.04535,  881.2854 ,  659.2894 ,  792.76575, 1149.8899 ,\n",
              "        1050.1151 ,  811.794  ,  561.2693 ,  785.2077 , 1423.2283 ,\n",
              "        2376.701  , 3331.126  , 3793.6167 , 4390.311  , 4555.884  ,\n",
              "        4088.3127 , 3745.5623 , 2078.5925 , 1179.2122 , 1747.2375 ,\n",
              "        1421.3806 , 1797.7751 , 1953.3767 , 2178.8682 ,  494.4704 ,\n",
              "        1223.4846 ,  856.58484,  742.78644, 1137.0406 , 1521.7646 ,\n",
              "        1993.7656 , 1823.2175 , 1195.7394 ,  761.83026,  728.967  ,\n",
              "        1230.8762 , 1454.2605 ], dtype=float32),\n",
              " 'mape': array([ 1.6356969 ,  3.034168  ,  5.59073   ,  8.631535  ,  8.31273   ,\n",
              "         6.7476487 ,  6.814559  ,  7.2360168 ,  6.4744854 , 10.479377  ,\n",
              "        13.602917  , 11.629949  ,  3.7754889 ,  3.056921  ,  2.196312  ,\n",
              "         4.8194    ,  3.6621559 ,  3.2215455 ,  2.471971  ,  3.2623594 ,\n",
              "         5.730424  ,  8.180994  ,  5.974603  ,  6.3518567 ,  5.352474  ,\n",
              "         4.228751  ,  2.9348302 ,  3.5653312 ,  4.7132354 ,  7.2189293 ,\n",
              "         7.4974937 ,  5.90409   ,  4.9873996 ,  4.632186  ,  3.7823617 ,\n",
              "         1.7664695 ,  2.0930276 ,  1.8851469 ,  3.0631444 ,  2.7359214 ,\n",
              "         4.2132998 ,  5.1424084 ,  5.759551  ,  8.589016  ,  9.509174  ,\n",
              "         5.3701925 ,  5.2462153 ,  5.0132594 ,  4.7244368 ,  5.1250906 ,\n",
              "         1.3759668 ,  2.2028956 ,  2.0712745 ,  1.4348581 ,  1.5438303 ,\n",
              "         2.4699728 ,  2.768884  ,  2.3178782 ,  3.652795  ,  4.2131233 ,\n",
              "         3.5967805 ,  2.0046825 ,  2.5242524 ,  2.4116683 ,  2.4736707 ,\n",
              "         1.610651  ,  1.9055781 ,  2.131896  ,  2.050921  ,  3.4472842 ,\n",
              "         3.8024187 ,  8.281927  , 10.485783  , 16.547411  , 16.430931  ,\n",
              "        17.635332  , 16.554792  , 13.901085  ,  7.0254335 ,  4.0889215 ,\n",
              "         2.3025746 ,  2.8515387 ,  3.0359423 ,  3.021109  ,  3.9428823 ,\n",
              "         2.7445908 ,  2.4704127 ,  1.4707838 ,  1.9508663 ,  1.5414209 ,\n",
              "         1.3124363 ,  2.5746717 ,  3.4692593 ,  3.7202244 ,  3.909703  ,\n",
              "         4.5374575 ,  5.0994077 ,  5.9386168 ,  5.3376164 ,  2.3424768 ,\n",
              "         4.3588324 ,  2.604866  ,  3.0585923 ,  3.292046  ,  3.892382  ,\n",
              "         4.329878  ,  9.255981  , 15.77903   , 20.115488  , 24.87764   ,\n",
              "        26.91956   , 31.47013   , 29.090523  , 16.653366  , 11.080202  ,\n",
              "        10.272771  ,  5.4418826 ,  3.6352396 ,  6.238958  ,  4.3693223 ,\n",
              "         1.5358689 ,  1.9700011 ,  1.4966981 ,  3.3559825 ,  5.7429957 ,\n",
              "         6.8222656 ,  8.355312  ,  5.045414  ,  2.9972682 ,  2.7816367 ,\n",
              "         4.0384464 ,  5.663854  ,  7.0126333 ,  9.501495  ,  7.523102  ,\n",
              "         5.611246  ,  4.7759485 ,  3.4381948 ,  4.1206303 ,  2.8609579 ,\n",
              "         3.6773126 ,  4.26916   ,  8.762405  , 10.2185    ,  8.9351425 ,\n",
              "         8.094205  ,  7.429682  ,  8.951281  ,  3.8107674 ,  3.5279214 ,\n",
              "         4.2857404 ,  4.6126094 ,  4.116119  ,  3.8334315 ,  4.418945  ,\n",
              "         6.561483  , 10.474429  ,  5.543491  ,  2.41316   ,  3.319364  ,\n",
              "         4.2676425 ,  2.4287682 ,  2.1138282 ,  1.2331604 ,  2.852517  ,\n",
              "         4.1158276 ,  3.658786  ,  4.530733  ,  3.8043373 ,  2.0363982 ,\n",
              "         3.1971698 ,  1.8787552 ,  2.195226  ,  4.3875875 ,  7.397617  ,\n",
              "         8.908528  ,  8.714878  ,  9.20332   ,  8.398313  ,  7.7232227 ,\n",
              "         2.5246165 ,  2.6478934 ,  4.072211  ,  4.256505  ,  5.002481  ,\n",
              "         5.258819  ,  6.9049964 ,  3.475083  ,  1.6440756 ,  1.9285669 ,\n",
              "         1.2678192 ,  2.477053  ,  1.6996244 ,  2.3900359 ,  3.3344588 ,\n",
              "         4.553118  ,  5.3236413 ,  7.1551523 ,  7.812489  ,  8.672035  ,\n",
              "         8.731534  ,  3.6483097 ,  4.746537  ,  6.6728764 ,  9.868787  ,\n",
              "         5.9212694 ,  3.8124523 ,  2.8445868 ,  2.4406953 ,  3.035606  ,\n",
              "         1.8743095 ,  2.1677082 ,  2.530539  ,  3.271575  ,  2.9375937 ,\n",
              "         1.7579075 ,  1.6548518 ,  2.4726877 ,  2.0328984 ,  3.048802  ,\n",
              "         3.132897  ,  2.7396185 ,  2.4552267 ,  2.718668  ,  3.5327826 ,\n",
              "         2.4796815 ,  3.1000507 ,  4.0545278 ,  3.6667485 ,  2.129486  ,\n",
              "         1.0521637 ,  1.294289  ,  1.5499367 ,  2.7873175 ,  2.279866  ,\n",
              "         0.78938705,  1.5507677 ,  2.0304394 ,  1.9802465 ,  0.6909973 ,\n",
              "         1.1305475 ,  2.6533196 ,  3.8988876 ,  4.707452  ,  5.7759295 ,\n",
              "         5.2346997 ,  5.7653966 ,  4.1840305 ,  1.4678702 ,  1.1535221 ,\n",
              "         1.8215444 ,  2.2045298 ,  1.6069323 ,  2.0611377 ,  2.9151585 ,\n",
              "         7.683955  ,  9.545152  , 12.102449  , 16.599306  , 20.816734  ,\n",
              "        22.041397  , 15.210499  ,  3.6599424 ,  1.6201211 ,  1.62366   ,\n",
              "         1.943117  ,  1.3791113 ,  2.0141602 ,  3.2143452 ,  2.9946604 ,\n",
              "         2.0395293 ,  2.9075406 ,  3.946701  ,  2.2519355 ,  2.6581502 ,\n",
              "         2.0600963 ,  2.7978435 ,  2.3089318 ,  2.5604355 ,  3.4412098 ,\n",
              "         2.7220829 ,  3.4953673 ,  4.9874706 ,  3.0635567 ,  1.8586937 ,\n",
              "         2.6702855 ,  2.7428617 ,  2.7599113 ,  3.0184073 ,  3.0655532 ,\n",
              "         3.2964115 ,  2.4723425 ,  2.3031144 ,  1.655139  ,  2.207398  ,\n",
              "         2.406558  ,  3.2950063 ,  5.288494  ,  4.362582  ,  1.1542817 ,\n",
              "         0.8177088 ,  1.4367728 ,  2.4418826 ,  1.4569683 ,  1.0680469 ,\n",
              "         1.2616751 ,  1.0032358 ,  1.2454197 ,  1.1186295 ,  1.0249839 ,\n",
              "         1.0813088 ,  1.0935818 ,  1.128765  ,  1.8395928 ,  2.221595  ,\n",
              "         2.4080825 ,  2.7936368 ,  2.7298675 ,  2.6286705 ,  4.4374175 ,\n",
              "         6.00711   ,  8.3157215 , 10.729181  , 12.846039  , 14.309452  ,\n",
              "        14.413285  , 11.723891  ,  8.137662  ,  3.772986  ,  3.669203  ,\n",
              "         4.4085393 ,  4.410467  ,  6.636753  ,  7.720331  ,  3.5207164 ,\n",
              "         0.88658977,  1.329795  ,  1.3225441 ,  1.3528754 ,  1.8242121 ,\n",
              "         0.9630074 ,  1.8709162 ,  1.3555167 ,  1.5922097 ,  1.9404149 ,\n",
              "         1.7067167 ,  1.4428481 ,  2.7980545 ,  4.6583138 ,  5.040637  ,\n",
              "         4.959673  ,  5.462292  ,  5.8584633 ,  5.931119  ,  3.6174066 ,\n",
              "         5.237637  ,  7.029324  ,  7.761978  ,  9.634857  , 10.31301   ,\n",
              "         3.716864  ,  2.3180768 ,  1.4702561 ,  3.538851  ,  3.3924932 ,\n",
              "         3.9306874 ,  4.806834  ,  3.9109588 ,  2.4913323 ,  1.9104352 ,\n",
              "         2.4119875 ,  1.5791227 ,  2.4150074 ,  2.9952881 ,  3.8697176 ,\n",
              "         5.816621  ,  4.525708  ,  4.945388  ,  4.47299   ,  5.503349  ,\n",
              "         5.960825  ,  7.3942857 ,  9.782248  , 14.335005  , 18.300488  ,\n",
              "        16.783546  , 11.046064  ,  8.670751  ,  9.334649  ,  9.673665  ,\n",
              "         4.334821  ,  2.5704954 ,  1.6673405 ,  1.0268835 ,  2.7671528 ,\n",
              "         1.8715998 ,  2.8051007 ,  1.8357804 ,  3.0688257 ,  2.2781208 ,\n",
              "         2.9632866 ,  3.5123813 ,  2.05958   ,  1.9349939 ,  0.9271009 ,\n",
              "         1.1484721 ,  1.145409  ,  2.0553498 ,  2.6917496 ,  2.7427652 ,\n",
              "         2.9232848 ,  3.995033  ,  5.7861295 ,  4.998326  ,  2.7358663 ,\n",
              "         1.1137645 ,  1.8444117 ,  3.2951555 ,  4.7678413 ,  5.869442  ,\n",
              "         6.461056  ,  5.648389  ,  6.8520613 ,  5.143341  ,  2.6248202 ,\n",
              "         3.1488273 ,  4.084068  ,  4.9515867 ,  5.4832554 ,  3.8301263 ,\n",
              "         3.489774  ,  1.6010823 ,  1.9185778 ,  1.6270118 ,  1.9677973 ,\n",
              "         2.060855  ,  2.7404492 ,  2.97858   ,  3.5475512 ,  5.704212  ,\n",
              "         6.3556542 ,  5.1152625 ,  2.7033792 ,  2.28453   ,  1.2084594 ,\n",
              "         1.32267   ,  1.5428021 ,  2.262531  ,  1.647803  ,  1.3366348 ,\n",
              "         1.4853852 ,  1.1733361 ,  1.0783768 ,  1.5443975 ,  1.3776734 ,\n",
              "         2.1694214 ,  1.91171   ,  2.3885033 ,  2.927683  ,  4.106408  ,\n",
              "         3.6504946 ,  3.4535825 ,  1.0969853 ,  2.3778632 ,  2.268864  ,\n",
              "         2.157368  ,  1.4607017 ,  2.1266136 ,  1.673198  ,  2.3374577 ,\n",
              "         2.0665493 ,  1.9878705 ,  2.3542132 ,  1.6485655 ,  2.39026   ,\n",
              "         1.6539389 ,  1.6806579 ,  1.9430187 ,  3.4009416 ,  6.8903923 ,\n",
              "         8.449496  ,  9.579512  ,  9.311225  , 10.863691  , 11.957032  ,\n",
              "         8.966147  ,  3.2264643 ,  1.5640182 ,  1.1542666 ,  1.0893339 ,\n",
              "         1.0971079 ,  0.8791086 ,  1.3488108 ,  1.6757753 ,  1.5299233 ,\n",
              "         1.6583275 ,  1.1819291 ,  1.2860267 ,  1.512771  ,  1.3206749 ,\n",
              "         0.8229508 ,  1.8897336 ,  1.7901627 ,  1.2235074 ,  1.752411  ,\n",
              "         1.4212453 ,  2.0849826 ,  2.1959093 ,  3.7281413 ,  3.483845  ,\n",
              "         2.0750687 ,  1.9228878 ,  1.7410688 ,  1.5756577 ,  1.2618977 ,\n",
              "         1.2350383 ,  1.28692   ,  1.0281478 ,  0.99382967,  0.78093976,\n",
              "         0.9585089 ,  0.99171335,  1.0280969 ,  0.81133145,  1.0179734 ,\n",
              "         0.92747426,  1.0216761 ,  1.2384983 ,  0.98322976,  0.9286483 ,\n",
              "         1.7901579 ,  1.8183672 ,  2.0408685 ,  2.0046566 ,  0.9632831 ,\n",
              "         0.77502483,  2.1056209 ,  3.6661856 ,  5.4565926 ,  6.8043447 ,\n",
              "         7.7679715 ,  9.358648  ,  9.165155  ,  4.447796  ,  0.6182225 ,\n",
              "         1.3956032 ,  1.193442  ,  1.124722  ,  1.7154707 ,  2.056628  ,\n",
              "         1.79207   ,  1.9664192 ,  2.303382  ,  2.1136937 ,  2.1729906 ,\n",
              "         3.078896  ,  5.5434737 ,  2.2086165 ,  1.372846  ,  1.3229604 ,\n",
              "         1.3456471 ,  0.8648212 ,  1.3742632 ,  2.0107706 ,  2.318866  ,\n",
              "         2.4769073 ,  3.292269  ,  3.4271147 ,  5.4297686 ,  5.3039217 ,\n",
              "         3.825942  ,  2.824234  ,  1.4544749 ,  1.1824985 ,  1.4184428 ,\n",
              "         1.4710811 ,  2.0087492 ,  2.1936731 ,  1.7693295 ,  1.2663392 ,\n",
              "         1.2986436 ,  2.4105182 ,  3.8470876 ,  4.954102  ,  5.169951  ,\n",
              "         3.4361136 ,  2.9304671 ,  3.2189138 ,  1.2385647 ,  1.1718268 ,\n",
              "         0.99827296,  1.360933  ,  1.7920604 ,  2.2207017 ,  2.9613268 ,\n",
              "         2.9080558 ,  2.9183326 ,  2.8198872 ,  2.7540581 ,  4.1727867 ,\n",
              "         5.5886397 ,  7.501724  ,  7.617279  ,  6.4822206 ,  7.4666657 ,\n",
              "         9.402076  , 11.097052  , 10.7341175 , 10.279369  , 11.470797  ,\n",
              "         6.412203  ,  1.8626899 ,  1.6366293 ,  1.2526041 ,  1.0527179 ,\n",
              "         1.8112477 ,  1.1381751 ,  1.188223  ,  1.3149307 ,  0.8809841 ,\n",
              "         1.1397862 ,  2.5449953 ,  3.4814973 ,  4.3480825 ,  4.3188615 ,\n",
              "         3.514007  ,  3.822494  ,  2.2231412 ,  1.7761041 ,  2.438854  ,\n",
              "         2.2768753 ,  2.0410297 ,  2.528121  ,  1.8433282 ,  1.0936503 ,\n",
              "         1.4225259 ,  2.0801966 ,  1.315125  ,  1.6885926 ,  2.8315675 ,\n",
              "         2.578734  ,  1.879202  ,  1.0688627 ,  1.3098457 ,  2.3951304 ,\n",
              "         4.608811  ,  6.269353  ,  7.4203053 ,  9.113965  ,  9.719214  ,\n",
              "         8.849073  ,  8.4367895 ,  4.4915013 ,  2.156471  ,  2.9936094 ,\n",
              "         2.765949  ,  3.4885173 ,  4.1970215 ,  4.9158664 ,  1.0818568 ,\n",
              "         2.5609112 ,  1.6293036 ,  1.4813634 ,  2.0158875 ,  3.0103788 ,\n",
              "         4.5121636 ,  3.801304  ,  2.3872783 ,  1.549442  ,  1.4568264 ,\n",
              "         2.295196  ,  2.9594946 ], dtype=float32),\n",
              " 'mase': 2.1641483}"
            ]
          },
          "execution_count": 213,
          "metadata": {},
          "output_type": "execute_result"
        }
      ],
      "source": [
        "# Calculate model_3 results - these are going to be multi-dimensional because\n",
        "# we're trying to predict more than one step at a time.\n",
        "model_3_results = evaluate_preds(y_true=tf.squeeze(test_labels),\n",
        "                                 y_pred=model_3_preds)\n",
        "model_3_results"
      ]
    },
    {
      "cell_type": "markdown",
      "metadata": {
        "id": "t405o940Twum"
      },
      "source": [
        "## Make our evaluation function work for larger horizons\n",
        "\n",
        "You'll notice the outputs for `model_3_results` are multi-dimensional. \n",
        "\n",
        "This is because the predictions are getting evaluated across the `HORIZON` timesteps (7 predictions at a time).\n",
        "\n",
        "To fix this, let's adjust our `evaluate_preds()` function to work with multiple shapes of data."
      ]
    },
    {
      "cell_type": "code",
      "execution_count": 214,
      "metadata": {
        "id": "ERkl26UFgSbz"
      },
      "outputs": [],
      "source": [
        "def evaluate_preds(y_true, y_pred):\n",
        "  # Make sure float32 (for metric calculations)\n",
        "  y_true = tf.cast(y_true, dtype=tf.float32)\n",
        "  y_pred = tf.cast(y_pred, dtype=tf.float32)\n",
        "\n",
        "  # Calculate various metrics\n",
        "  mae = tf.keras.metrics.mean_absolute_error(y_true, y_pred)\n",
        "  mse = tf.keras.metrics.mean_squared_error(y_true, y_pred)\n",
        "  rmse = tf.sqrt(mse)\n",
        "  mape = tf.keras.metrics.mean_absolute_percentage_error(y_true, y_pred)\n",
        "  mase = mean_absolute_scaled_error(y_true, y_pred)\n",
        "\n",
        "  # Account for different sized metrics (for longer horizons, reduce to single number)\n",
        "  if mae.ndim > 0: # if mae isn't already a scalar, reduce it to one by aggregating tensors to mean\n",
        "    mae = tf.reduce_mean(mae)\n",
        "    mse = tf.reduce_mean(mse)\n",
        "    rmse = tf.reduce_mean(rmse)\n",
        "    mape = tf.reduce_mean(mape)\n",
        "    mase = tf.reduce_mean(mase)\n",
        "\n",
        "  return {\"mae\": mae.numpy(),\n",
        "          \"mse\": mse.numpy(),\n",
        "          \"rmse\": rmse.numpy(),\n",
        "          \"mape\": mape.numpy(),\n",
        "          \"mase\": mase.numpy()}"
      ]
    },
    {
      "cell_type": "markdown",
      "metadata": {
        "id": "_RnoZl28Udx4"
      },
      "source": [
        "Now we've updated `evaluate_preds()` to work with multiple shapes, how does it look?"
      ]
    },
    {
      "cell_type": "code",
      "execution_count": 215,
      "metadata": {
        "colab": {
          "base_uri": "https://localhost:8080/"
        },
        "id": "Kt1Z8yjpUij2",
        "outputId": "31690393-6057-40df-ef06-cfb3914d7ab4"
      },
      "outputs": [
        {
          "data": {
            "text/plain": [
              "{'mae': 1120.2637,\n",
              " 'mse': 2918211.2,\n",
              " 'rmse': 1298.596,\n",
              " 'mape': 4.123899,\n",
              " 'mase': 2.1641483}"
            ]
          },
          "execution_count": 215,
          "metadata": {},
          "output_type": "execute_result"
        }
      ],
      "source": [
        "# Get model_3 results aggregated to single values\n",
        "model_3_results = evaluate_preds(y_true=tf.squeeze(test_labels),\n",
        "                                 y_pred=model_3_preds)\n",
        "model_3_results"
      ]
    },
    {
      "cell_type": "markdown",
      "metadata": {
        "id": "0XNIJfcsTpdA"
      },
      "source": [
        "Time to visualize.\n",
        "\n",
        "If our prediction evaluation metrics were mutli-dimensional, how do you think the predictions will look like if we plot them?"
      ]
    },
    {
      "cell_type": "code",
      "execution_count": 216,
      "metadata": {
        "colab": {
          "base_uri": "https://localhost:8080/",
          "height": 442
        },
        "id": "gBdg1NcLs3gW",
        "outputId": "f9c0c6dd-39f5-42b2-9c5c-8020742b9318"
      },
      "outputs": [
        {
          "data": {
            "image/png": "[encoded data removed]",
            "text/plain": [
              "<Figure size 1000x700 with 1 Axes>"
            ]
          },
          "metadata": {},
          "output_type": "display_data"
        }
      ],
      "source": [
        "offset = 300\n",
        "plt.figure(figsize=(10, 7))\n",
        "plot_time_series(timesteps=X_test[-len(test_windows):], values=test_labels[:, 0], start=offset, label=\"Test_data\")\n",
        "# Checking the shape of model_3_preds results in [n_test_samples, HORIZON] (this will screw up the plot)\n",
        "plot_time_series(timesteps=X_test[-len(test_windows):], values=model_3_preds, start=offset, label=\"model_3_preds\")"
      ]
    },
    {
      "cell_type": "markdown",
      "metadata": {
        "id": "j3nZnSG1Uute"
      },
      "source": [
        "When we try to plot our multi-horizon predicts, we get a funky looking plot.\n",
        "\n",
        "Again, we can fix this by aggregating our model's predictions.\n",
        "\n",
        "> 🔑 **Note:** Aggregating the predictions (e.g. reducing a 7-day horizon to one value such as the mean) loses information from the original prediction. As in, the model predictions were trained to be made for 7-days but by reducing them to one, we gain the ability to plot them visually but we lose the extra information contained across multiple days."
      ]
    },
    {
      "cell_type": "code",
      "execution_count": 217,
      "metadata": {
        "colab": {
          "base_uri": "https://localhost:8080/",
          "height": 442
        },
        "id": "wYpZb27bU6OO",
        "outputId": "c310346c-5cb9-4262-c52e-c468725aa4f0"
      },
      "outputs": [
        {
          "data": {
            "image/png": "[encoded data removed]",
            "text/plain": [
              "<Figure size 1000x700 with 1 Axes>"
            ]
          },
          "metadata": {},
          "output_type": "display_data"
        }
      ],
      "source": [
        "offset = 300\n",
        "plt.figure(figsize=(10, 7))\n",
        "# Plot model_3_preds by aggregating them (note: this condenses information so the preds will look fruther ahead than the test data)\n",
        "plot_time_series(timesteps=X_test[-len(test_windows):], \n",
        "                 values=test_labels[:, 0], \n",
        "                 start=offset, \n",
        "                 label=\"Test_data\")\n",
        "plot_time_series(timesteps=X_test[-len(test_windows):], \n",
        "                 values=tf.reduce_mean(model_3_preds, axis=1), \n",
        "                 format=\"-\",\n",
        "                 start=offset, \n",
        "                 label=\"model_3_preds\")"
      ]
    },
    {
      "cell_type": "markdown",
      "metadata": {
        "id": "Ojqon-Y5VpCC"
      },
      "source": [
        "## Which of our models is performing best so far?\n",
        "\n",
        "So far, we've trained 3 models which use the same architecture but use different data inputs.\n",
        "\n",
        "Let's compare them with the naïve model to see which model is performing the best so far."
      ]
    },
    {
      "cell_type": "code",
      "execution_count": 218,
      "metadata": {
        "colab": {
          "base_uri": "https://localhost:8080/",
          "height": 440
        },
        "id": "QA4EKseAVrYf",
        "outputId": "8c842c42-48b8-46ca-94f2-a6fc0344494f"
      },
      "outputs": [
        {
          "data": {
            "image/png": "[encoded data removed]",
            "text/plain": [
              "<Figure size 1000x700 with 1 Axes>"
            ]
          },
          "metadata": {},
          "output_type": "display_data"
        }
      ],
      "source": [
        "pd.DataFrame({\n",
        "              \"horizon_1_window_7\": model_1_results[\"mae\"], \n",
        "              \"horizon_1_window_30\": model_2_results[\"mae\"], \n",
        "              \"horizon_7_window_30\": model_3_results[\"mae\"]}, index=[\"mae\"]).plot(figsize=(10, 7), kind=\"bar\");"
      ]
    },
    {
      "cell_type": "markdown",
      "metadata": {
        "id": "dIRwia9BWeI5"
      },
      "source": [
        "Woah, our naïve model is performing best (it's very hard to beat a naïve model in open systems) but the dense model with a horizon of 1 and a window size of 7 looks to be performing cloest.\n",
        "\n",
        "Because of this, let's use `HORIZON=1` and `WINDOW_SIZE=7` for our next series of modelling experiments (in other words, we'll use the previous week of Bitcoin prices to try and predict the next day).\n",
        "\n",
        "> 🔑 **Note:** You might be wondering, why are the naïve results so good? One of the reasons could be due the presence of **autocorrelation** in the data. If a time series has **autocorrelation** it means the value at `t+1` (the next timestep) is typically close to the value at `t` (the current timestep). In other words, today's value is probably pretty close to yesterday's value. Of course, this isn't always the case but when it is, a naïve model will often get fairly good results.\n",
        "\n",
        "> 📖 **Resource:** For more on how autocorrelation influences a model's predictions, see the article [*How (not) to use Machine Learning for time series forecasting: Avoiding the pitfalls*](https://towardsdatascience.com/how-not-to-use-machine-learning-for-time-series-forecasting-avoiding-the-pitfalls-19f9d7adf424) by Vegard Flovik"
      ]
    },
    {
      "cell_type": "markdown",
      "metadata": {
        "id": "CxcL0gi-rWC5"
      },
      "source": [
        "## Model 4: Conv1D\n",
        "\n",
        "Onto the next modelling experiment!\n",
        "\n",
        "This time, we'll be using a Conv1D model. Because as we saw in the sequence modelling notebook, Conv1D models can be used for seq2seq (sequence to sequence) problems.\n",
        "\n",
        "In our case, the input sequence is the previous 7 days of Bitcoin price data and the output is the next day (in seq2seq terms this is called a many to one problem).\n",
        "\n",
        "![bitcoin prediction in seq2seq terms](https://raw.githubusercontent.com/mrdbourke/tensorflow-deep-learning/main/images/10-bitcoin-forecast-in-seq2seq-terms.png)\n",
        "*Framing Bitcoin forecasting in seq2seq (sequence to sequence) terms. Using a window size of 7 and a horizon of one results in a many to one problem. Using a window size of >1 and a horizon of >1 results in a many to many problem. The diagram comes from Andrei Karpathy's [The Unreasonable Effectiveness of Recurrent Neural Networks](http://karpathy.github.io/2015/05/21/rnn-effectiveness/)*.\n",
        "\n",
        "Before we build a Conv1D model, let's recreate our datasets."
      ]
    },
    {
      "cell_type": "code",
      "execution_count": 219,
      "metadata": {
        "id": "2_t9hXvXrZPD"
      },
      "outputs": [],
      "source": [
        "HORIZON = 1 # predict next day\n",
        "WINDOW_SIZE = 7 # use previous week worth of data"
      ]
    },
    {
      "cell_type": "code",
      "execution_count": 220,
      "metadata": {
        "colab": {
          "base_uri": "https://localhost:8080/"
        },
        "id": "CRCy-vXzsEGL",
        "outputId": "09b79a4c-efd0-4e96-ae40-98ed0dba39fe"
      },
      "outputs": [
        {
          "data": {
            "text/plain": [
              "(3385, 3385)"
            ]
          },
          "execution_count": 220,
          "metadata": {},
          "output_type": "execute_result"
        }
      ],
      "source": [
        "# Create windowed dataset\n",
        "full_windows, full_labels = make_windows(prices, window_size=WINDOW_SIZE, horizon=HORIZON)\n",
        "len(full_windows), len(full_labels)"
      ]
    },
    {
      "cell_type": "code",
      "execution_count": 221,
      "metadata": {
        "colab": {
          "base_uri": "https://localhost:8080/"
        },
        "id": "ZtsLeB3rsED2",
        "outputId": "dcab650a-b245-4b00-d475-48bb8f5435fe"
      },
      "outputs": [
        {
          "data": {
            "text/plain": [
              "(2708, 677, 2708, 677)"
            ]
          },
          "execution_count": 221,
          "metadata": {},
          "output_type": "execute_result"
        }
      ],
      "source": [
        "# Create train/test splits\n",
        "train_windows, test_windows, train_labels, test_labels = make_train_test_splits(full_windows, full_labels)\n",
        "len(train_windows), len(test_windows), len(train_labels), len(test_labels)"
      ]
    },
    {
      "cell_type": "markdown",
      "metadata": {
        "id": "RMtzZKYRXExH"
      },
      "source": [
        "Data windowed!\n",
        "\n",
        "Now, since we're going to be using [Conv1D layers](https://www.tensorflow.org/api_docs/python/tf/keras/layers/Conv1D), we need to make sure our input shapes are correct.\n",
        "\n",
        "The Conv1D layer in TensorFlow takes an input of: `(batch_size, timesteps, input_dim)`.\n",
        "\n",
        "In our case, the `batch_size` (by default this is 32 but we can change it) is handled for us but the other values will be:\n",
        "* `timesteps = WINDOW_SIZE` - the `timesteps` is also often referred to as `features`, our features are the previous `WINDOW_SIZE` values of Bitcoin \n",
        "* `input_dim = HORIZON` - our model views `WINDOW_SIZE` (one week) worth of data at a time to predict `HORIZON` (one day)\n",
        "\n",
        "Right now, our data has the `timesteps` dimension ready but we'll have to adjust it to have the `input_dim` dimension. "
      ]
    },
    {
      "cell_type": "code",
      "execution_count": 222,
      "metadata": {
        "colab": {
          "base_uri": "https://localhost:8080/"
        },
        "id": "To_k7zIAX7Pj",
        "outputId": "ee118751-d61f-43b0-b6a4-278acbf2b828"
      },
      "outputs": [
        {
          "data": {
            "text/plain": [
              "(7,)"
            ]
          },
          "execution_count": 222,
          "metadata": {},
          "output_type": "execute_result"
        }
      ],
      "source": [
        "# Check data sample shapes\n",
        "train_windows[0].shape # returns (WINDOW_SIZE, )"
      ]
    },
    {
      "cell_type": "markdown",
      "metadata": {
        "id": "oPIMnb3GYMvP"
      },
      "source": [
        "To fix this, we could adjust the shape of all of our `train_windows` or we could use a [`tf.keras.layers.Lamdba`](https://keras.io/api/layers/core_layers/lambda/) (called a Lambda layer) to do this for us in our model.\n",
        "\n",
        "The Lambda layer wraps a function into a layer which can be used with a model.\n",
        "\n",
        "Let's try it out."
      ]
    },
    {
      "cell_type": "code",
      "execution_count": 223,
      "metadata": {
        "colab": {
          "base_uri": "https://localhost:8080/"
        },
        "id": "62oSNy3VvZpv",
        "outputId": "d822a1bd-2cae-4a7c-a616-1ce82887303a"
      },
      "outputs": [
        {
          "name": "stdout",
          "output_type": "stream",
          "text": [
            "Original shape: (7,)\n",
            "Expanded shape: (7, 1)\n",
            "Original values with expanded shape:\n",
            " [[457.334]\n",
            " [424.44 ]\n",
            " [394.796]\n",
            " [408.904]\n",
            " [398.821]\n",
            " [402.152]\n",
            " [435.791]]\n"
          ]
        }
      ],
      "source": [
        "# Before we pass our data to the Conv1D layer, we have to reshape it in order to make sure it works\n",
        "x = tf.constant(train_windows[0])\n",
        "expand_dims_layer = layers.Lambda(lambda x: tf.expand_dims(x, axis=1)) # add an extra dimension for timesteps\n",
        "print(f\"Original shape: {x.shape}\") # (WINDOW_SIZE)\n",
        "print(f\"Expanded shape: {expand_dims_layer(x).shape}\") # (WINDOW_SIZE, input_dim) \n",
        "print(f\"Original values with expanded shape:\\n {expand_dims_layer(x)}\")"
      ]
    },
    {
      "cell_type": "markdown",
      "metadata": {
        "id": "vKt2YFb5ip4n"
      },
      "source": [
        "Looking good!\n",
        "\n",
        "Now we've got a Lambda layer, let's build, compile, fit and evaluate a Conv1D model on our data.\n",
        "\n",
        "> 🔑 **Note:** If you run the model below without the Lambda layer, you'll get an input shape error (one of the most common errors when building neural networks)."
      ]
    },
    {
      "cell_type": "code",
      "execution_count": 224,
      "metadata": {
        "colab": {
          "base_uri": "https://localhost:8080/"
        },
        "id": "jODevMWGsEBI",
        "outputId": "8d264c36-4f20-4573-88e7-dd498870a6aa"
      },
      "outputs": [
        {
          "name": "stdout",
          "output_type": "stream",
          "text": [
            "INFO:tensorflow:Assets written to: model_experiments/model_4_conv1D/assets\n"
          ]
        },
        {
          "name": "stderr",
          "output_type": "stream",
          "text": [
            "INFO:tensorflow:Assets written to: model_experiments/model_4_conv1D/assets\n"
          ]
        },
        {
          "name": "stdout",
          "output_type": "stream",
          "text": [
            "INFO:tensorflow:Assets written to: model_experiments/model_4_conv1D/assets\n"
          ]
        },
        {
          "name": "stderr",
          "output_type": "stream",
          "text": [
            "INFO:tensorflow:Assets written to: model_experiments/model_4_conv1D/assets\n"
          ]
        },
        {
          "name": "stdout",
          "output_type": "stream",
          "text": [
            "INFO:tensorflow:Assets written to: model_experiments/model_4_conv1D/assets\n"
          ]
        },
        {
          "name": "stderr",
          "output_type": "stream",
          "text": [
            "INFO:tensorflow:Assets written to: model_experiments/model_4_conv1D/assets\n"
          ]
        },
        {
          "name": "stdout",
          "output_type": "stream",
          "text": [
            "INFO:tensorflow:Assets written to: model_experiments/model_4_conv1D/assets\n"
          ]
        },
        {
          "name": "stderr",
          "output_type": "stream",
          "text": [
            "INFO:tensorflow:Assets written to: model_experiments/model_4_conv1D/assets\n"
          ]
        },
        {
          "name": "stdout",
          "output_type": "stream",
          "text": [
            "INFO:tensorflow:Assets written to: model_experiments/model_4_conv1D/assets\n"
          ]
        },
        {
          "name": "stderr",
          "output_type": "stream",
          "text": [
            "INFO:tensorflow:Assets written to: model_experiments/model_4_conv1D/assets\n"
          ]
        },
        {
          "name": "stdout",
          "output_type": "stream",
          "text": [
            "INFO:tensorflow:Assets written to: model_experiments/model_4_conv1D/assets\n"
          ]
        },
        {
          "name": "stderr",
          "output_type": "stream",
          "text": [
            "INFO:tensorflow:Assets written to: model_experiments/model_4_conv1D/assets\n"
          ]
        },
        {
          "name": "stdout",
          "output_type": "stream",
          "text": [
            "INFO:tensorflow:Assets written to: model_experiments/model_4_conv1D/assets\n"
          ]
        },
        {
          "name": "stderr",
          "output_type": "stream",
          "text": [
            "INFO:tensorflow:Assets written to: model_experiments/model_4_conv1D/assets\n"
          ]
        },
        {
          "name": "stdout",
          "output_type": "stream",
          "text": [
            "INFO:tensorflow:Assets written to: model_experiments/model_4_conv1D/assets\n"
          ]
        },
        {
          "name": "stderr",
          "output_type": "stream",
          "text": [
            "INFO:tensorflow:Assets written to: model_experiments/model_4_conv1D/assets\n"
          ]
        },
        {
          "name": "stdout",
          "output_type": "stream",
          "text": [
            "INFO:tensorflow:Assets written to: model_experiments/model_4_conv1D/assets\n"
          ]
        },
        {
          "name": "stderr",
          "output_type": "stream",
          "text": [
            "INFO:tensorflow:Assets written to: model_experiments/model_4_conv1D/assets\n"
          ]
        },
        {
          "name": "stdout",
          "output_type": "stream",
          "text": [
            "INFO:tensorflow:Assets written to: model_experiments/model_4_conv1D/assets\n"
          ]
        },
        {
          "name": "stderr",
          "output_type": "stream",
          "text": [
            "INFO:tensorflow:Assets written to: model_experiments/model_4_conv1D/assets\n"
          ]
        },
        {
          "name": "stdout",
          "output_type": "stream",
          "text": [
            "INFO:tensorflow:Assets written to: model_experiments/model_4_conv1D/assets\n"
          ]
        },
        {
          "name": "stderr",
          "output_type": "stream",
          "text": [
            "INFO:tensorflow:Assets written to: model_experiments/model_4_conv1D/assets\n"
          ]
        },
        {
          "name": "stdout",
          "output_type": "stream",
          "text": [
            "INFO:tensorflow:Assets written to: model_experiments/model_4_conv1D/assets\n"
          ]
        },
        {
          "name": "stderr",
          "output_type": "stream",
          "text": [
            "INFO:tensorflow:Assets written to: model_experiments/model_4_conv1D/assets\n"
          ]
        },
        {
          "name": "stdout",
          "output_type": "stream",
          "text": [
            "INFO:tensorflow:Assets written to: model_experiments/model_4_conv1D/assets\n"
          ]
        },
        {
          "name": "stderr",
          "output_type": "stream",
          "text": [
            "INFO:tensorflow:Assets written to: model_experiments/model_4_conv1D/assets\n"
          ]
        },
        {
          "name": "stdout",
          "output_type": "stream",
          "text": [
            "INFO:tensorflow:Assets written to: model_experiments/model_4_conv1D/assets\n"
          ]
        },
        {
          "name": "stderr",
          "output_type": "stream",
          "text": [
            "INFO:tensorflow:Assets written to: model_experiments/model_4_conv1D/assets\n"
          ]
        },
        {
          "name": "stdout",
          "output_type": "stream",
          "text": [
            "INFO:tensorflow:Assets written to: model_experiments/model_4_conv1D/assets\n"
          ]
        },
        {
          "name": "stderr",
          "output_type": "stream",
          "text": [
            "INFO:tensorflow:Assets written to: model_experiments/model_4_conv1D/assets\n"
          ]
        },
        {
          "name": "stdout",
          "output_type": "stream",
          "text": [
            "INFO:tensorflow:Assets written to: model_experiments/model_4_conv1D/assets\n"
          ]
        },
        {
          "name": "stderr",
          "output_type": "stream",
          "text": [
            "INFO:tensorflow:Assets written to: model_experiments/model_4_conv1D/assets\n"
          ]
        },
        {
          "name": "stdout",
          "output_type": "stream",
          "text": [
            "INFO:tensorflow:Assets written to: model_experiments/model_4_conv1D/assets\n"
          ]
        },
        {
          "name": "stderr",
          "output_type": "stream",
          "text": [
            "INFO:tensorflow:Assets written to: model_experiments/model_4_conv1D/assets\n"
          ]
        },
        {
          "name": "stdout",
          "output_type": "stream",
          "text": [
            "INFO:tensorflow:Assets written to: model_experiments/model_4_conv1D/assets\n"
          ]
        },
        {
          "name": "stderr",
          "output_type": "stream",
          "text": [
            "INFO:tensorflow:Assets written to: model_experiments/model_4_conv1D/assets\n"
          ]
        },
        {
          "name": "stdout",
          "output_type": "stream",
          "text": [
            "INFO:tensorflow:Assets written to: model_experiments/model_4_conv1D/assets\n"
          ]
        },
        {
          "name": "stderr",
          "output_type": "stream",
          "text": [
            "INFO:tensorflow:Assets written to: model_experiments/model_4_conv1D/assets\n"
          ]
        },
        {
          "name": "stdout",
          "output_type": "stream",
          "text": [
            "INFO:tensorflow:Assets written to: model_experiments/model_4_conv1D/assets\n"
          ]
        },
        {
          "name": "stderr",
          "output_type": "stream",
          "text": [
            "INFO:tensorflow:Assets written to: model_experiments/model_4_conv1D/assets\n"
          ]
        },
        {
          "name": "stdout",
          "output_type": "stream",
          "text": [
            "INFO:tensorflow:Assets written to: model_experiments/model_4_conv1D/assets\n"
          ]
        },
        {
          "name": "stderr",
          "output_type": "stream",
          "text": [
            "INFO:tensorflow:Assets written to: model_experiments/model_4_conv1D/assets\n"
          ]
        },
        {
          "name": "stdout",
          "output_type": "stream",
          "text": [
            "INFO:tensorflow:Assets written to: model_experiments/model_4_conv1D/assets\n"
          ]
        },
        {
          "name": "stderr",
          "output_type": "stream",
          "text": [
            "INFO:tensorflow:Assets written to: model_experiments/model_4_conv1D/assets\n"
          ]
        },
        {
          "name": "stdout",
          "output_type": "stream",
          "text": [
            "INFO:tensorflow:Assets written to: model_experiments/model_4_conv1D/assets\n"
          ]
        },
        {
          "name": "stderr",
          "output_type": "stream",
          "text": [
            "INFO:tensorflow:Assets written to: model_experiments/model_4_conv1D/assets\n"
          ]
        },
        {
          "name": "stdout",
          "output_type": "stream",
          "text": [
            "INFO:tensorflow:Assets written to: model_experiments/model_4_conv1D/assets\n"
          ]
        },
        {
          "name": "stderr",
          "output_type": "stream",
          "text": [
            "INFO:tensorflow:Assets written to: model_experiments/model_4_conv1D/assets\n"
          ]
        },
        {
          "name": "stdout",
          "output_type": "stream",
          "text": [
            "INFO:tensorflow:Assets written to: model_experiments/model_4_conv1D/assets\n"
          ]
        },
        {
          "name": "stderr",
          "output_type": "stream",
          "text": [
            "INFO:tensorflow:Assets written to: model_experiments/model_4_conv1D/assets\n"
          ]
        },
        {
          "name": "stdout",
          "output_type": "stream",
          "text": [
            "INFO:tensorflow:Assets written to: model_experiments/model_4_conv1D/assets\n"
          ]
        },
        {
          "name": "stderr",
          "output_type": "stream",
          "text": [
            "INFO:tensorflow:Assets written to: model_experiments/model_4_conv1D/assets\n"
          ]
        },
        {
          "name": "stdout",
          "output_type": "stream",
          "text": [
            "INFO:tensorflow:Assets written to: model_experiments/model_4_conv1D/assets\n"
          ]
        },
        {
          "name": "stderr",
          "output_type": "stream",
          "text": [
            "INFO:tensorflow:Assets written to: model_experiments/model_4_conv1D/assets\n"
          ]
        },
        {
          "name": "stdout",
          "output_type": "stream",
          "text": [
            "INFO:tensorflow:Assets written to: model_experiments/model_4_conv1D/assets\n"
          ]
        },
        {
          "name": "stderr",
          "output_type": "stream",
          "text": [
            "INFO:tensorflow:Assets written to: model_experiments/model_4_conv1D/assets\n"
          ]
        },
        {
          "name": "stdout",
          "output_type": "stream",
          "text": [
            "INFO:tensorflow:Assets written to: model_experiments/model_4_conv1D/assets\n"
          ]
        },
        {
          "name": "stderr",
          "output_type": "stream",
          "text": [
            "INFO:tensorflow:Assets written to: model_experiments/model_4_conv1D/assets\n"
          ]
        },
        {
          "data": {
            "text/plain": [
              "<keras.src.callbacks.History at 0x15145cd90>"
            ]
          },
          "execution_count": 224,
          "metadata": {},
          "output_type": "execute_result"
        }
      ],
      "source": [
        "tf.random.set_seed(42)\n",
        "\n",
        "# Create model\n",
        "model_4 = tf.keras.Sequential([\n",
        "  # Create Lambda layer to reshape inputs, without this layer, the model will error\n",
        "  layers.Lambda(lambda x: tf.expand_dims(x, axis=1)), # resize the inputs to adjust for window size / Conv1D 3D input requirements\n",
        "  layers.Conv1D(filters=128, kernel_size=5, padding=\"causal\", activation=\"relu\"),\n",
        "  layers.Dense(HORIZON)\n",
        "], name=\"model_4_conv1D\")\n",
        "\n",
        "# Compile model\n",
        "model_4.compile(loss=\"mae\",\n",
        "                optimizer=tf.keras.optimizers.Adam())\n",
        "\n",
        "# Fit model\n",
        "model_4.fit(train_windows,\n",
        "            train_labels,\n",
        "            batch_size=128, \n",
        "            epochs=100,\n",
        "            verbose=0,\n",
        "            validation_data=(test_windows, test_labels),\n",
        "            callbacks=[create_model_checkpoint(model_name=model_4.name)])"
      ]
    },
    {
      "cell_type": "markdown",
      "metadata": {
        "id": "dWqZR5cSjHCf"
      },
      "source": [
        "What does the Lambda layer look like in a summary?"
      ]
    },
    {
      "cell_type": "code",
      "execution_count": 225,
      "metadata": {
        "colab": {
          "base_uri": "https://localhost:8080/"
        },
        "id": "2FcGUALG4RxJ",
        "outputId": "945dbb97-927f-4f70-8a13-391c18db821d"
      },
      "outputs": [
        {
          "name": "stdout",
          "output_type": "stream",
          "text": [
            "Model: \"model_4_conv1D\"\n",
            "_________________________________________________________________\n",
            " Layer (type)                Output Shape              Param #   \n",
            "=================================================================\n",
            " lambda_1 (Lambda)           (None, 1, 7)              0         \n",
            "                                                                 \n",
            " conv1d (Conv1D)             (None, 1, 128)            4608      \n",
            "                                                                 \n",
            " dense_10 (Dense)            (None, 1, 1)              129       \n",
            "                                                                 \n",
            "=================================================================\n",
            "Total params: 4737 (18.50 KB)\n",
            "Trainable params: 4737 (18.50 KB)\n",
            "Non-trainable params: 0 (0.00 Byte)\n",
            "_________________________________________________________________\n"
          ]
        }
      ],
      "source": [
        "model_4.summary()"
      ]
    },
    {
      "cell_type": "markdown",
      "metadata": {
        "id": "MIZEau4Vjk-M"
      },
      "source": [
        "The Lambda layer appears the same as any other regular layer. \n",
        "\n",
        "Time to evaluate the Conv1D model."
      ]
    },
    {
      "cell_type": "code",
      "execution_count": 226,
      "metadata": {
        "colab": {
          "base_uri": "https://localhost:8080/"
        },
        "id": "KXEL9FuhsD-3",
        "outputId": "315e48d9-5262-4dca-a7db-9b3f2d3c07aa"
      },
      "outputs": [
        {
          "name": "stdout",
          "output_type": "stream",
          "text": [
            "22/22 [==============================] - 0s 2ms/step - loss: 526.8208\n"
          ]
        },
        {
          "data": {
            "text/plain": [
              "526.82080078125"
            ]
          },
          "execution_count": 226,
          "metadata": {},
          "output_type": "execute_result"
        }
      ],
      "source": [
        "# Load in best performing Conv1D model and evaluate it on the test data\n",
        "model_4 = tf.keras.models.load_model(\"model_experiments/model_4_conv1D\")\n",
        "model_4.evaluate(test_windows, test_labels)"
      ]
    },
    {
      "cell_type": "code",
      "execution_count": 227,
      "metadata": {
        "colab": {
          "base_uri": "https://localhost:8080/"
        },
        "id": "j99tbnwSsD8R",
        "outputId": "1cf57db2-3dff-4c14-8db8-e5dda6e29f4f"
      },
      "outputs": [
        {
          "name": "stdout",
          "output_type": "stream",
          "text": [
            "22/22 [==============================] - 0s 2ms/step\n"
          ]
        },
        {
          "data": {
            "text/plain": [
              "<tf.Tensor: shape=(10,), dtype=float32, numpy=\n",
              "array([37224.355, 37909.91 , 37358.56 , 38170.926, 39005.13 , 39246.895,\n",
              "       38092.418, 42263.37 , 44156.703, 44454.098], dtype=float32)>"
            ]
          },
          "execution_count": 227,
          "metadata": {},
          "output_type": "execute_result"
        }
      ],
      "source": [
        "# Make predictions\n",
        "model_4_preds = make_preds(model_4, test_windows)\n",
        "model_4_preds[:10]"
      ]
    },
    {
      "cell_type": "code",
      "execution_count": 228,
      "metadata": {
        "colab": {
          "base_uri": "https://localhost:8080/"
        },
        "id": "yjfEDWxjrZW2",
        "outputId": "abb0a047-5324-4e0a-a21e-f092f23d24a3"
      },
      "outputs": [
        {
          "data": {
            "text/plain": [
              "{'mae': 526.8208,\n",
              " 'mse': 666721.3,\n",
              " 'rmse': 816.53,\n",
              " 'mape': 1.9060103,\n",
              " 'mase': 1.0150096}"
            ]
          },
          "execution_count": 228,
          "metadata": {},
          "output_type": "execute_result"
        }
      ],
      "source": [
        "# Evaluate predictions\n",
        "model_4_results = evaluate_preds(y_true=tf.squeeze(test_labels),\n",
        "                                 y_pred=model_4_preds)\n",
        "model_4_results"
      ]
    },
    {
      "cell_type": "markdown",
      "metadata": {
        "id": "pZ2s0Rx0rZjE"
      },
      "source": [
        "## Model 5: RNN (LSTM)\n",
        "\n",
        "As you might've guessed, we can also use a recurrent neural network to model our sequential time series data.\n",
        "\n",
        "> 📖 **Resource:** For more on the different types of recurrent neural networks you can use for sequence problems, see the [Recurrent Neural Networks section of notebook 08](https://dev.mrdbourke.com/tensorflow-deep-learning/08_introduction_to_nlp_in_tensorflow/#recurrent-neural-networks-rnns).\n",
        "\n",
        "Let's reuse the same data we used for the Conv1D model, except this time we'll create an [LSTM-cell](https://www.tensorflow.org/api_docs/python/tf/keras/layers/LSTM) powered RNN to model our Bitcoin data. \n",
        "\n",
        "Once again, one of the most important steps for the LSTM model will be getting our data into the right shape.\n",
        "\n",
        "The [`tf.keras.layers.LSTM()`](https://www.tensorflow.org/api_docs/python/tf/keras/layers/LSTM) layer takes a tensor with `[batch, timesteps, feature]` dimensions.\n",
        "\n",
        "As mentioned earlier, the `batch` dimension gets taken care of for us but our data is currently only has the `feature` dimension (`WINDOW_SIZE`).\n",
        "\n",
        "To fix this, just like we did with the `Conv1D` model, we can use a `tf.keras.layers.Lambda()` layer to adjust the shape of our input tensors to the LSTM layer.\n",
        "\n",
        "\n",
        "\n",
        "\n",
        "\n",
        "\n"
      ]
    },
    {
      "cell_type": "code",
      "execution_count": 229,
      "metadata": {
        "colab": {
          "base_uri": "https://localhost:8080/"
        },
        "id": "a6YFL_b-rZrt",
        "outputId": "96a90e42-069a-459a-b140-6191cab11eb1"
      },
      "outputs": [
        {
          "name": "stdout",
          "output_type": "stream",
          "text": [
            "INFO:tensorflow:Assets written to: model_experiments/model_5_lstm/assets\n"
          ]
        },
        {
          "name": "stderr",
          "output_type": "stream",
          "text": [
            "INFO:tensorflow:Assets written to: model_experiments/model_5_lstm/assets\n"
          ]
        },
        {
          "name": "stdout",
          "output_type": "stream",
          "text": [
            "INFO:tensorflow:Assets written to: model_experiments/model_5_lstm/assets\n"
          ]
        },
        {
          "name": "stderr",
          "output_type": "stream",
          "text": [
            "INFO:tensorflow:Assets written to: model_experiments/model_5_lstm/assets\n"
          ]
        },
        {
          "name": "stdout",
          "output_type": "stream",
          "text": [
            "INFO:tensorflow:Assets written to: model_experiments/model_5_lstm/assets\n"
          ]
        },
        {
          "name": "stderr",
          "output_type": "stream",
          "text": [
            "INFO:tensorflow:Assets written to: model_experiments/model_5_lstm/assets\n"
          ]
        },
        {
          "name": "stdout",
          "output_type": "stream",
          "text": [
            "INFO:tensorflow:Assets written to: model_experiments/model_5_lstm/assets\n"
          ]
        },
        {
          "name": "stderr",
          "output_type": "stream",
          "text": [
            "INFO:tensorflow:Assets written to: model_experiments/model_5_lstm/assets\n"
          ]
        },
        {
          "name": "stdout",
          "output_type": "stream",
          "text": [
            "INFO:tensorflow:Assets written to: model_experiments/model_5_lstm/assets\n"
          ]
        },
        {
          "name": "stderr",
          "output_type": "stream",
          "text": [
            "INFO:tensorflow:Assets written to: model_experiments/model_5_lstm/assets\n"
          ]
        },
        {
          "name": "stdout",
          "output_type": "stream",
          "text": [
            "INFO:tensorflow:Assets written to: model_experiments/model_5_lstm/assets\n"
          ]
        },
        {
          "name": "stderr",
          "output_type": "stream",
          "text": [
            "INFO:tensorflow:Assets written to: model_experiments/model_5_lstm/assets\n"
          ]
        },
        {
          "name": "stdout",
          "output_type": "stream",
          "text": [
            "INFO:tensorflow:Assets written to: model_experiments/model_5_lstm/assets\n"
          ]
        },
        {
          "name": "stderr",
          "output_type": "stream",
          "text": [
            "INFO:tensorflow:Assets written to: model_experiments/model_5_lstm/assets\n"
          ]
        },
        {
          "name": "stdout",
          "output_type": "stream",
          "text": [
            "INFO:tensorflow:Assets written to: model_experiments/model_5_lstm/assets\n"
          ]
        },
        {
          "name": "stderr",
          "output_type": "stream",
          "text": [
            "INFO:tensorflow:Assets written to: model_experiments/model_5_lstm/assets\n"
          ]
        },
        {
          "name": "stdout",
          "output_type": "stream",
          "text": [
            "INFO:tensorflow:Assets written to: model_experiments/model_5_lstm/assets\n"
          ]
        },
        {
          "name": "stderr",
          "output_type": "stream",
          "text": [
            "INFO:tensorflow:Assets written to: model_experiments/model_5_lstm/assets\n"
          ]
        },
        {
          "name": "stdout",
          "output_type": "stream",
          "text": [
            "INFO:tensorflow:Assets written to: model_experiments/model_5_lstm/assets\n"
          ]
        },
        {
          "name": "stderr",
          "output_type": "stream",
          "text": [
            "INFO:tensorflow:Assets written to: model_experiments/model_5_lstm/assets\n"
          ]
        },
        {
          "name": "stdout",
          "output_type": "stream",
          "text": [
            "INFO:tensorflow:Assets written to: model_experiments/model_5_lstm/assets\n"
          ]
        },
        {
          "name": "stderr",
          "output_type": "stream",
          "text": [
            "INFO:tensorflow:Assets written to: model_experiments/model_5_lstm/assets\n"
          ]
        },
        {
          "name": "stdout",
          "output_type": "stream",
          "text": [
            "INFO:tensorflow:Assets written to: model_experiments/model_5_lstm/assets\n"
          ]
        },
        {
          "name": "stderr",
          "output_type": "stream",
          "text": [
            "INFO:tensorflow:Assets written to: model_experiments/model_5_lstm/assets\n"
          ]
        },
        {
          "name": "stdout",
          "output_type": "stream",
          "text": [
            "INFO:tensorflow:Assets written to: model_experiments/model_5_lstm/assets\n"
          ]
        },
        {
          "name": "stderr",
          "output_type": "stream",
          "text": [
            "INFO:tensorflow:Assets written to: model_experiments/model_5_lstm/assets\n"
          ]
        },
        {
          "name": "stdout",
          "output_type": "stream",
          "text": [
            "INFO:tensorflow:Assets written to: model_experiments/model_5_lstm/assets\n"
          ]
        },
        {
          "name": "stderr",
          "output_type": "stream",
          "text": [
            "INFO:tensorflow:Assets written to: model_experiments/model_5_lstm/assets\n"
          ]
        },
        {
          "name": "stdout",
          "output_type": "stream",
          "text": [
            "INFO:tensorflow:Assets written to: model_experiments/model_5_lstm/assets\n"
          ]
        },
        {
          "name": "stderr",
          "output_type": "stream",
          "text": [
            "INFO:tensorflow:Assets written to: model_experiments/model_5_lstm/assets\n"
          ]
        },
        {
          "name": "stdout",
          "output_type": "stream",
          "text": [
            "INFO:tensorflow:Assets written to: model_experiments/model_5_lstm/assets\n"
          ]
        },
        {
          "name": "stderr",
          "output_type": "stream",
          "text": [
            "INFO:tensorflow:Assets written to: model_experiments/model_5_lstm/assets\n"
          ]
        },
        {
          "name": "stdout",
          "output_type": "stream",
          "text": [
            "INFO:tensorflow:Assets written to: model_experiments/model_5_lstm/assets\n"
          ]
        },
        {
          "name": "stderr",
          "output_type": "stream",
          "text": [
            "INFO:tensorflow:Assets written to: model_experiments/model_5_lstm/assets\n"
          ]
        },
        {
          "name": "stdout",
          "output_type": "stream",
          "text": [
            "INFO:tensorflow:Assets written to: model_experiments/model_5_lstm/assets\n"
          ]
        },
        {
          "name": "stderr",
          "output_type": "stream",
          "text": [
            "INFO:tensorflow:Assets written to: model_experiments/model_5_lstm/assets\n"
          ]
        },
        {
          "name": "stdout",
          "output_type": "stream",
          "text": [
            "INFO:tensorflow:Assets written to: model_experiments/model_5_lstm/assets\n"
          ]
        },
        {
          "name": "stderr",
          "output_type": "stream",
          "text": [
            "INFO:tensorflow:Assets written to: model_experiments/model_5_lstm/assets\n"
          ]
        },
        {
          "name": "stdout",
          "output_type": "stream",
          "text": [
            "INFO:tensorflow:Assets written to: model_experiments/model_5_lstm/assets\n"
          ]
        },
        {
          "name": "stderr",
          "output_type": "stream",
          "text": [
            "INFO:tensorflow:Assets written to: model_experiments/model_5_lstm/assets\n"
          ]
        },
        {
          "name": "stdout",
          "output_type": "stream",
          "text": [
            "INFO:tensorflow:Assets written to: model_experiments/model_5_lstm/assets\n"
          ]
        },
        {
          "name": "stderr",
          "output_type": "stream",
          "text": [
            "INFO:tensorflow:Assets written to: model_experiments/model_5_lstm/assets\n"
          ]
        },
        {
          "name": "stdout",
          "output_type": "stream",
          "text": [
            "INFO:tensorflow:Assets written to: model_experiments/model_5_lstm/assets\n"
          ]
        },
        {
          "name": "stderr",
          "output_type": "stream",
          "text": [
            "INFO:tensorflow:Assets written to: model_experiments/model_5_lstm/assets\n"
          ]
        },
        {
          "name": "stdout",
          "output_type": "stream",
          "text": [
            "INFO:tensorflow:Assets written to: model_experiments/model_5_lstm/assets\n"
          ]
        },
        {
          "name": "stderr",
          "output_type": "stream",
          "text": [
            "INFO:tensorflow:Assets written to: model_experiments/model_5_lstm/assets\n"
          ]
        },
        {
          "name": "stdout",
          "output_type": "stream",
          "text": [
            "INFO:tensorflow:Assets written to: model_experiments/model_5_lstm/assets\n"
          ]
        },
        {
          "name": "stderr",
          "output_type": "stream",
          "text": [
            "INFO:tensorflow:Assets written to: model_experiments/model_5_lstm/assets\n"
          ]
        },
        {
          "name": "stdout",
          "output_type": "stream",
          "text": [
            "INFO:tensorflow:Assets written to: model_experiments/model_5_lstm/assets\n"
          ]
        },
        {
          "name": "stderr",
          "output_type": "stream",
          "text": [
            "INFO:tensorflow:Assets written to: model_experiments/model_5_lstm/assets\n"
          ]
        },
        {
          "name": "stdout",
          "output_type": "stream",
          "text": [
            "INFO:tensorflow:Assets written to: model_experiments/model_5_lstm/assets\n"
          ]
        },
        {
          "name": "stderr",
          "output_type": "stream",
          "text": [
            "INFO:tensorflow:Assets written to: model_experiments/model_5_lstm/assets\n"
          ]
        },
        {
          "name": "stdout",
          "output_type": "stream",
          "text": [
            "INFO:tensorflow:Assets written to: model_experiments/model_5_lstm/assets\n"
          ]
        },
        {
          "name": "stderr",
          "output_type": "stream",
          "text": [
            "INFO:tensorflow:Assets written to: model_experiments/model_5_lstm/assets\n"
          ]
        },
        {
          "name": "stdout",
          "output_type": "stream",
          "text": [
            "INFO:tensorflow:Assets written to: model_experiments/model_5_lstm/assets\n"
          ]
        },
        {
          "name": "stderr",
          "output_type": "stream",
          "text": [
            "INFO:tensorflow:Assets written to: model_experiments/model_5_lstm/assets\n"
          ]
        },
        {
          "name": "stdout",
          "output_type": "stream",
          "text": [
            "INFO:tensorflow:Assets written to: model_experiments/model_5_lstm/assets\n"
          ]
        },
        {
          "name": "stderr",
          "output_type": "stream",
          "text": [
            "INFO:tensorflow:Assets written to: model_experiments/model_5_lstm/assets\n"
          ]
        },
        {
          "name": "stdout",
          "output_type": "stream",
          "text": [
            "INFO:tensorflow:Assets written to: model_experiments/model_5_lstm/assets\n"
          ]
        },
        {
          "name": "stderr",
          "output_type": "stream",
          "text": [
            "INFO:tensorflow:Assets written to: model_experiments/model_5_lstm/assets\n"
          ]
        },
        {
          "name": "stdout",
          "output_type": "stream",
          "text": [
            "INFO:tensorflow:Assets written to: model_experiments/model_5_lstm/assets\n"
          ]
        },
        {
          "name": "stderr",
          "output_type": "stream",
          "text": [
            "INFO:tensorflow:Assets written to: model_experiments/model_5_lstm/assets\n"
          ]
        },
        {
          "name": "stdout",
          "output_type": "stream",
          "text": [
            "INFO:tensorflow:Assets written to: model_experiments/model_5_lstm/assets\n"
          ]
        },
        {
          "name": "stderr",
          "output_type": "stream",
          "text": [
            "INFO:tensorflow:Assets written to: model_experiments/model_5_lstm/assets\n"
          ]
        },
        {
          "name": "stdout",
          "output_type": "stream",
          "text": [
            "INFO:tensorflow:Assets written to: model_experiments/model_5_lstm/assets\n"
          ]
        },
        {
          "name": "stderr",
          "output_type": "stream",
          "text": [
            "INFO:tensorflow:Assets written to: model_experiments/model_5_lstm/assets\n"
          ]
        },
        {
          "name": "stdout",
          "output_type": "stream",
          "text": [
            "INFO:tensorflow:Assets written to: model_experiments/model_5_lstm/assets\n"
          ]
        },
        {
          "name": "stderr",
          "output_type": "stream",
          "text": [
            "INFO:tensorflow:Assets written to: model_experiments/model_5_lstm/assets\n"
          ]
        },
        {
          "data": {
            "text/plain": [
              "<keras.src.callbacks.History at 0x15180da50>"
            ]
          },
          "execution_count": 229,
          "metadata": {},
          "output_type": "execute_result"
        }
      ],
      "source": [
        "tf.random.set_seed(42)\n",
        "\n",
        "# Let's build an LSTM model with the Functional API\n",
        "inputs = layers.Input(shape=(WINDOW_SIZE))\n",
        "x = layers.Lambda(lambda x: tf.expand_dims(x, axis=1))(inputs) # expand input dimension to be compatible with LSTM\n",
        "# print(x.shape)\n",
        "# x = layers.LSTM(128, activation=\"relu\", return_sequences=True)(x) # this layer will error if the inputs are not the right shape\n",
        "x = layers.LSTM(128, activation=\"relu\")(x) # using the tanh loss function results in a massive error\n",
        "# print(x.shape)\n",
        "# Add another optional dense layer (you could add more of these to see if they improve model performance)\n",
        "# x = layers.Dense(32, activation=\"relu\")(x)\n",
        "output = layers.Dense(HORIZON)(x)\n",
        "model_5 = tf.keras.Model(inputs=inputs, outputs=output, name=\"model_5_lstm\")\n",
        "\n",
        "# Compile model\n",
        "model_5.compile(loss=\"mae\",\n",
        "                optimizer=tf.keras.optimizers.Adam())\n",
        "\n",
        "# Seems when saving the model several warnings are appearing: https://github.com/tensorflow/tensorflow/issues/47554 \n",
        "model_5.fit(train_windows,\n",
        "            train_labels,\n",
        "            epochs=100,\n",
        "            verbose=0,\n",
        "            batch_size=128,\n",
        "            validation_data=(test_windows, test_labels),\n",
        "            callbacks=[create_model_checkpoint(model_name=model_5.name)])"
      ]
    },
    {
      "cell_type": "code",
      "execution_count": 230,
      "metadata": {
        "colab": {
          "base_uri": "https://localhost:8080/"
        },
        "id": "cOpHqmEtSsNw",
        "outputId": "8071fad7-885c-40d6-a601-0dd333aab6e1"
      },
      "outputs": [
        {
          "name": "stdout",
          "output_type": "stream",
          "text": [
            "22/22 [==============================] - 0s 2ms/step - loss: 567.1677\n"
          ]
        },
        {
          "data": {
            "text/plain": [
              "567.167724609375"
            ]
          },
          "execution_count": 230,
          "metadata": {},
          "output_type": "execute_result"
        }
      ],
      "source": [
        "# Load in best version of model 5 and evaluate on the test data\n",
        "model_5 = tf.keras.models.load_model(\"model_experiments/model_5_lstm/\")\n",
        "model_5.evaluate(test_windows, test_labels)"
      ]
    },
    {
      "cell_type": "markdown",
      "metadata": {
        "id": "Pm_ZVNomnWvP"
      },
      "source": [
        "Now we've got the best performing LSTM model loaded in, let's make predictions with it and evaluate them."
      ]
    },
    {
      "cell_type": "code",
      "execution_count": 231,
      "metadata": {
        "colab": {
          "base_uri": "https://localhost:8080/"
        },
        "id": "yfG11v_51UWa",
        "outputId": "764915f3-48c2-4e64-b8a3-42867ea9eb0b"
      },
      "outputs": [
        {
          "name": "stdout",
          "output_type": "stream",
          "text": [
            "22/22 [==============================] - 0s 2ms/step\n"
          ]
        },
        {
          "data": {
            "text/plain": [
              "<tf.Tensor: shape=(10,), dtype=float32, numpy=\n",
              "array([37333.168, 37616.355, 37212.73 , 37851.574, 38715.523, 39139.05 ,\n",
              "       38424.918, 41451.777, 43522.74 , 44457.24 ], dtype=float32)>"
            ]
          },
          "execution_count": 231,
          "metadata": {},
          "output_type": "execute_result"
        }
      ],
      "source": [
        "# Make predictions with our LSTM model\n",
        "model_5_preds = make_preds(model_5, test_windows)\n",
        "model_5_preds[:10]"
      ]
    },
    {
      "cell_type": "code",
      "execution_count": 232,
      "metadata": {
        "colab": {
          "base_uri": "https://localhost:8080/"
        },
        "id": "sVv5Kg5N1axK",
        "outputId": "ef27748e-7980-4e94-af5a-b9f89840840a"
      },
      "outputs": [
        {
          "data": {
            "text/plain": [
              "{'mae': 567.1677,\n",
              " 'mse': 742829.3,\n",
              " 'rmse': 861.8755,\n",
              " 'mape': 2.0512185,\n",
              " 'mase': 1.0927448}"
            ]
          },
          "execution_count": 232,
          "metadata": {},
          "output_type": "execute_result"
        }
      ],
      "source": [
        "# Evaluate model 5 preds\n",
        "model_5_results = evaluate_preds(y_true=tf.squeeze(test_labels),\n",
        "                                 y_pred=model_5_preds)\n",
        "model_5_results"
      ]
    },
    {
      "cell_type": "markdown",
      "metadata": {
        "id": "V-lSjFE-4_qq"
      },
      "source": [
        "When we scale the block reward and the Bitcoin price, we can see the price goes up as the block reward goes down, perhaps this information will be helpful to our model's performance."
      ]
    },
    {
      "cell_type": "markdown",
      "metadata": {},
      "source": [
        "## Multivariate time series eklenecek"
      ]
    },
    {
      "cell_type": "code",
      "execution_count": null,
      "metadata": {},
      "outputs": [],
      "source": []
    },
    {
      "cell_type": "markdown",
      "metadata": {
        "id": "7m0h2WcP5Ko8"
      },
      "source": [
        "## Making a windowed dataset with pandas\n",
        "\n",
        "Previously, we used some custom made functions to window our **univariate** time series.\n",
        "\n",
        "However, since we've just added another variable to our dataset, these functions won't work.\n",
        "\n",
        "Not to worry though. Since our data is in a pandas DataFrame, we can leverage the [`pandas.DataFrame.shift()`](https://pandas.pydata.org/pandas-docs/stable/reference/api/pandas.DataFrame.shift.html) method to create a windowed **multivariate** time series.\n",
        "\n",
        "The `shift()` method offsets an index by a specified number of periods.\n",
        "\n",
        "Let's see it in action."
      ]
    },
    {
      "cell_type": "code",
      "execution_count": 233,
      "metadata": {
        "id": "8_9iFxKS8Sed"
      },
      "outputs": [],
      "source": [
        "# Setup dataset hyperparameters\n",
        "HORIZON = 1\n",
        "WINDOW_SIZE = 7"
      ]
    },
    {
      "cell_type": "code",
      "execution_count": null,
      "metadata": {
        "colab": {
          "base_uri": "https://localhost:8080/",
          "height": 390
        },
        "id": "DqPp3HdHsXO8",
        "outputId": "82838ef8-9ee5-4967-bfd0-25a5e8a72eef"
      },
      "outputs": [],
      "source": [
        "# Make a copy of the Bitcoin historical data with block reward feature\n",
        "bitcoin_prices_windowed = bitcoin_prices_block.copy()\n",
        "\n",
        "# Add windowed columns\n",
        "for i in range(WINDOW_SIZE): # Shift values for each step in WINDOW_SIZE\n",
        "  bitcoin_prices_windowed[f\"Price+{i+1}\"] = bitcoin_prices_windowed[\"Price\"].shift(periods=i+1)\n",
        "bitcoin_prices_windowed.head(10)"
      ]
    },
    {
      "cell_type": "markdown",
      "metadata": {
        "id": "Pbfw5uqEzlZ3"
      },
      "source": [
        "Training and test multivariate time series datasets made! Time to build a model."
      ]
    },
    {
      "cell_type": "markdown",
      "metadata": {
        "id": "UW9oxH47EK-6"
      },
      "source": [
        "## Model 9: Train a model on the full historical data to make predictions into future\n",
        "\n",
        "What would a forecasting model be worth if we didn't use it to predict into the future?\n",
        "\n",
        "It's time we created a model which is able to make future predictions on the price of Bitcoin.\n",
        "\n",
        "To make predictions into the future, we'll train a model on the full dataset and then get to make predictions to some future horizon.\n",
        "\n",
        "Why use the full dataset?\n",
        "\n",
        "Previously, we split our data into training and test sets to evaluate how our model did on pseudo-future data (the test set).\n",
        "\n",
        "But since the goal of a forecasting model is to predict values into the actual-future, we won't be using a test set.\n",
        "\n",
        "> 🔑 **Note:** Forecasting models need to be retrained every time a forecast is made. Why? Because if Bitcoin prices are updated daily and you predict the price for tomorrow. Your model is only really valid for one day. When a new price comes out (e.g. the next day), you'll have to retrain your model to incorporate that new price to predict the next forecast.\n",
        "\n",
        "Let's get some data ready."
      ]
    },
    {
      "cell_type": "code",
      "execution_count": null,
      "metadata": {
        "colab": {
          "base_uri": "https://localhost:8080/"
        },
        "id": "0lseRHbOYseR",
        "outputId": "caa7777f-a8ef-4098-d026-26879b4119f5"
      },
      "outputs": [],
      "source": [
        "bitcoin_prices_windowed.head()"
      ]
    },
    {
      "cell_type": "code",
      "execution_count": null,
      "metadata": {
        "id": "-HZ9ObQaYyVf"
      },
      "outputs": [],
      "source": [
        "# Train model on entire data to make prediction for the next day \n",
        "X_all = bitcoin_prices_windowed.drop([\"Price\", \"block_reward\"], axis=1).dropna().to_numpy() # only want prices, our future model can be a univariate model\n",
        "y_all = bitcoin_prices_windowed.dropna()[\"Price\"].to_numpy()"
      ]
    },
    {
      "cell_type": "markdown",
      "metadata": {
        "id": "6clQZWFCYPAW"
      },
      "source": [
        "Windows and labels ready! Let's turn them into performance optimized TensorFlow Datasets by:\n",
        "1. Turning `X_all` and `y_all` into tensor Datasets using [`tf.data.Dataset.from_tensor_slices()`](https://www.tensorflow.org/api_docs/python/tf/data/Dataset#from_tensor_slices)\n",
        "2. Combining the features and labels into a Dataset tuple using [`tf.data.Dataset.zip()`](https://www.tensorflow.org/api_docs/python/tf/data/Dataset#zip)\n",
        "3. Batch and prefetch the data using [`tf.data.Dataset.batch()`](https://www.tensorflow.org/api_docs/python/tf/data/Dataset#batch) and [`tf.data.Dataset.prefetch()`](https://www.tensorflow.org/api_docs/python/tf/data/Dataset#prefetch) respectively"
      ]
    },
    {
      "cell_type": "code",
      "execution_count": null,
      "metadata": {
        "colab": {
          "base_uri": "https://localhost:8080/"
        },
        "id": "B-eX9FBPZYkR",
        "outputId": "d66cdfbe-60d1-41ef-e6fe-902b559cbf9a"
      },
      "outputs": [],
      "source": [
        "# 1. Turn X and y into tensor Datasets\n",
        "features_dataset_all = tf.data.Dataset.from_tensor_slices(X_all)\n",
        "labels_dataset_all = tf.data.Dataset.from_tensor_slices(y_all)\n",
        "\n",
        "# 2. Combine features & labels\n",
        "dataset_all = tf.data.Dataset.zip((features_dataset_all, labels_dataset_all))\n",
        "\n",
        "# 3. Batch and prefetch for optimal performance\n",
        "BATCH_SIZE = 1024 # taken from Appendix D in N-BEATS paper\n",
        "dataset_all = dataset_all.batch(BATCH_SIZE).prefetch(tf.data.AUTOTUNE)\n",
        "\n",
        "dataset_all"
      ]
    },
    {
      "cell_type": "markdown",
      "metadata": {
        "id": "63wxSbcuY8RI"
      },
      "source": [
        "And now let's create a model similar to `model_1` except with an extra layer, we'll also fit it to the entire dataset for 100 epochs (feel free to play around with the number of epochs or callbacks here, you've got the skills to now)."
      ]
    },
    {
      "cell_type": "code",
      "execution_count": null,
      "metadata": {
        "colab": {
          "base_uri": "https://localhost:8080/"
        },
        "id": "dCtmpaCGZ_fj",
        "outputId": "b81ba08b-8d8d-4305-f711-4d18d2aff51f"
      },
      "outputs": [],
      "source": [
        "tf.random.set_seed(42)\n",
        "\n",
        "# Create model (nice and simple, just to test)\n",
        "model_9 = tf.keras.Sequential([\n",
        "  layers.Dense(128, activation=\"relu\"),\n",
        "  layers.Dense(128, activation=\"relu\"),\n",
        "  layers.Dense(HORIZON)\n",
        "])\n",
        "\n",
        "# Compile\n",
        "model_9.compile(loss=tf.keras.losses.mae,\n",
        "                optimizer=tf.keras.optimizers.Adam())\n",
        "\n",
        "# Fit model on all of the data to make future forecasts\n",
        "model_9.fit(dataset_all,\n",
        "            epochs=100,\n",
        "            verbose=0) # don't print out anything, we've seen this all before"
      ]
    },
    {
      "cell_type": "markdown",
      "metadata": {
        "id": "Dv1Z7Q8N4qI5"
      },
      "source": [
        "### Make predictions on the future\n",
        "\n",
        "Let's predict the future and get rich!\n",
        "\n",
        "Well... maybe not.\n",
        "\n",
        "As you've seen so far, our machine learning models have performed quite poorly at predicting the price of Bitcoin (time series forecasting in open systems is typically a game of luck), often worse than the naive forecast.\n",
        "\n",
        "That doesn't mean we can't use our models to *try* and predict into the future right?\n",
        "\n",
        "To do so, let's start by defining a variable `INTO_FUTURE` which decides how many timesteps we'd like to predict into the future."
      ]
    },
    {
      "cell_type": "code",
      "execution_count": null,
      "metadata": {
        "id": "sYxHD1qPA1Mj"
      },
      "outputs": [],
      "source": [
        "# How many timesteps to predict into the future?\n",
        "INTO_FUTURE = 14 # since our Bitcoin data is daily, this is for 14 days"
      ]
    },
    {
      "cell_type": "markdown",
      "metadata": {
        "id": "4b2Flb1Wb4G4"
      },
      "source": [
        "![flowchart representation prediction loop to make forecasts and then append forecasts to data and make more forecasts continuously until forecast horizon is exhausted](https://raw.githubusercontent.com/mrdbourke/tensorflow-deep-learning/main/images/10-prediction-loop-for-forecasts.png)\n",
        "\n",
        "\n",
        "*Example flow chart representing the loop we're about to create for making forecasts. Not pictured: retraining a forecasting model every time a forecast is made & new data is acquired. For example, if you're predicting the price of Bitcoin daily, you'd want to retrain your model every day, since each day you're going to have a new data point to work with.*\n",
        "\n",
        "Alright, let's create a function which returns `INTO_FUTURE` forecasted values using a trained model.\n",
        "\n",
        "To do so, we'll build the following steps:\n",
        "1. Function which takes as input: \n",
        "  * a list of values (the Bitcoin historical data)\n",
        "  * a trained model (such as `model_9`)\n",
        "  * a window into the future to predict (our `INTO_FUTURE` variable)\n",
        "  * the window size a model was trained on (`WINDOW_SIZE`) - the model can only predict on the same kind of data it was trained on\n",
        "2. Creates an empty list for future forecasts (this will be returned at the end of the function) and extracts the last `WINDOW_SIZE` values from the input values (predictions will start from the last `WINDOW_SIZE` values of the training data)\n",
        "3. Loop `INTO_FUTURE` times making a prediction on `WINDOW_SIZE` datasets which update to remove the first the value and append the latest prediction \n",
        "  * Eventually future predictions will be made using the model's own previous predictions as input"
      ]
    },
    {
      "cell_type": "code",
      "execution_count": null,
      "metadata": {
        "id": "JEtTHMV_iE7f"
      },
      "outputs": [],
      "source": [
        "# 1. Create function to make predictions into the future\n",
        "def make_future_forecast(values, model, into_future, window_size=WINDOW_SIZE) -> list:\n",
        "  \"\"\"\n",
        "  Makes future forecasts into_future steps after values ends.\n",
        "\n",
        "  Returns future forecasts as list of floats.\n",
        "  \"\"\"\n",
        "  # 2. Make an empty list for future forecasts/prepare data to forecast on\n",
        "  future_forecast = []\n",
        "  last_window = values[-WINDOW_SIZE:] # only want preds from the last window (this will get updated)\n",
        "\n",
        "  # 3. Make INTO_FUTURE number of predictions, altering the data which gets predicted on each time \n",
        "  for _ in range(into_future):\n",
        "    \n",
        "    # Predict on last window then append it again, again, again (model starts to make forecasts on its own forecasts)\n",
        "    future_pred = model.predict(tf.expand_dims(last_window, axis=0))\n",
        "    print(f\"Predicting on: \\n {last_window} -> Prediction: {tf.squeeze(future_pred).numpy()}\\n\")\n",
        "    \n",
        "    # Append predictions to future_forecast\n",
        "    future_forecast.append(tf.squeeze(future_pred).numpy())\n",
        "    # print(future_forecast)\n",
        "\n",
        "    # Update last window with new pred and get WINDOW_SIZE most recent preds (model was trained on WINDOW_SIZE windows)\n",
        "    last_window = np.append(last_window, future_pred)[-WINDOW_SIZE:]\n",
        "  \n",
        "  return future_forecast"
      ]
    },
    {
      "cell_type": "markdown",
      "metadata": {
        "id": "shcu6e7EeSWz"
      },
      "source": [
        "Nice! Time to bring BitPredict 💰📈 to life and make future forecasts of the price of Bitcoin.\n",
        "\n",
        "> 🛠 **Exercise:** In terms of a forecasting model, what might another approach to our `make_future_forecasts()` function? Recall, that for making forecasts, you need to retrain a model each time you want to generate a new prediction. \n",
        ">\n",
        "> So perhaps you could try to: make a prediction (one timestep into the future), retrain a model with this new prediction appended to the data, make a prediction, append the prediction, retrain a model... etc. \n",
        ">\n",
        "> As it is, the `make_future_forecasts()` function skips the retraining of a model part."
      ]
    },
    {
      "cell_type": "code",
      "execution_count": null,
      "metadata": {
        "colab": {
          "base_uri": "https://localhost:8080/"
        },
        "id": "ZZVNYdqJ5zo9",
        "outputId": "348d457b-3ab1-4b99-bd99-96e643c8c749"
      },
      "outputs": [],
      "source": [
        "# Make forecasts into future of the price of Bitcoin\n",
        "# Note: if you're reading this at a later date, you may already be in the future, so the forecasts \n",
        "# we're making may not actually be forecasts, if that's the case, readjust the training data.\n",
        "future_forecast = make_future_forecast(values=y_all,\n",
        "                                       model=model_9,\n",
        "                                       into_future=INTO_FUTURE,\n",
        "                                       window_size=WINDOW_SIZE)"
      ]
    },
    {
      "cell_type": "code",
      "execution_count": null,
      "metadata": {
        "colab": {
          "base_uri": "https://localhost:8080/"
        },
        "id": "hFZmkWRccmQ5",
        "outputId": "c33733d2-cc17-4a92-9f87-db55c5494d14"
      },
      "outputs": [],
      "source": [
        "future_forecast[:10]"
      ]
    },
    {
      "cell_type": "markdown",
      "metadata": {
        "id": "QuaY0cOaCHfr"
      },
      "source": [
        "### Plot future forecasts\n",
        "\n",
        "This is so exciting! Forecasts made! \n",
        "\n",
        "But right now, they're just numbers on a page.\n",
        "\n",
        "Let's bring them to life by adhering to the data explorer's motto: visualize, visualize, visualize!\n",
        "\n",
        "To plot our model's future forecasts against the historical data of Bitcoin, we're going to need a series of future dates (future dates from the final date of where our dataset ends).\n",
        "\n",
        "How about we create a function to return a date range from some specified start date to a specified number of days into the future (`INTO_FUTURE`).\n",
        "\n",
        "To do so, we'll use a combination of NumPy's [`datetime64` datatype](https://numpy.org/doc/stable/reference/arrays.datetime.html) (our Bitcoin dates are already in this datatype) as well as NumPy's `timedelta64` method which helps to create date ranges."
      ]
    },
    {
      "cell_type": "code",
      "execution_count": null,
      "metadata": {
        "id": "i4iNNliSCbU-"
      },
      "outputs": [],
      "source": [
        "def get_future_dates(start_date, into_future, offset=1):\n",
        "  \"\"\"\n",
        "  Returns array of datetime values from ranging from start_date to start_date+horizon.\n",
        "\n",
        "  start_date: date to start range (np.datetime64)\n",
        "  into_future: number of days to add onto start date for range (int)\n",
        "  offset: number of days to offset start_date by (default 1)\n",
        "  \"\"\"\n",
        "  start_date = start_date + np.timedelta64(offset, \"D\") # specify start date, \"D\" stands for day\n",
        "  end_date = start_date + np.timedelta64(into_future, \"D\") # specify end date\n",
        "  return np.arange(start_date, end_date, dtype=\"datetime64[D]\") # return a date range between start date and end date"
      ]
    },
    {
      "cell_type": "markdown",
      "metadata": {
        "id": "sob2VY8chLA5"
      },
      "source": [
        "The start date of our forecasted dates will be the last date of our dataset. "
      ]
    },
    {
      "cell_type": "code",
      "execution_count": null,
      "metadata": {
        "colab": {
          "base_uri": "https://localhost:8080/"
        },
        "id": "6676Sl-cAFn5",
        "outputId": "fbfc545a-a313-4866-ea98-c4f1b397d0bf"
      },
      "outputs": [],
      "source": [
        "# Last timestep of timesteps (currently in np.datetime64 format)\n",
        "last_timestep = bitcoin_prices.index[-1]\n",
        "last_timestep"
      ]
    },
    {
      "cell_type": "code",
      "execution_count": null,
      "metadata": {
        "colab": {
          "base_uri": "https://localhost:8080/"
        },
        "id": "252bhVD7C5NZ",
        "outputId": "17065a39-4de8-4528-a380-2415a528db8c"
      },
      "outputs": [],
      "source": [
        "# Get next two weeks of timesteps\n",
        "next_time_steps = get_future_dates(start_date=last_timestep, \n",
        "                                   into_future=INTO_FUTURE)\n",
        "next_time_steps"
      ]
    },
    {
      "cell_type": "markdown",
      "metadata": {
        "id": "A5FIVsQJhVVs"
      },
      "source": [
        "Look at that! We've now got a list of dates we can use to visualize our future Bitcoin predictions.\n",
        "\n",
        "But to make sure the lines of the plot connect (try not running the cell below and then plotting the data to see what I mean), let's insert the last timestep and Bitcoin price of our training data to the `next_time_steps` and `future_forecast` arrays."
      ]
    },
    {
      "cell_type": "code",
      "execution_count": null,
      "metadata": {
        "colab": {
          "base_uri": "https://localhost:8080/"
        },
        "id": "QLXAudg3hIo9",
        "outputId": "c33b3c8d-8fd5-49c3-951e-d111d6b6c5e8"
      },
      "outputs": [],
      "source": [
        "# Insert last timestep/final price so the graph doesn't look messed\n",
        "next_time_steps = np.insert(next_time_steps, 0, last_timestep)\n",
        "future_forecast = np.insert(future_forecast, 0, btc_price[-1])\n",
        "next_time_steps, future_forecast"
      ]
    },
    {
      "cell_type": "markdown",
      "metadata": {
        "id": "-xDtk3wHhyDQ"
      },
      "source": [
        "Time to plot!"
      ]
    },
    {
      "cell_type": "code",
      "execution_count": null,
      "metadata": {
        "colab": {
          "base_uri": "https://localhost:8080/",
          "height": 442
        },
        "id": "LUo-rjmpfuM0",
        "outputId": "79e101a7-7475-49fe-a1ee-1532578a3a80"
      },
      "outputs": [],
      "source": [
        "# Plot future price predictions of Bitcoin\n",
        "plt.figure(figsize=(10, 7))\n",
        "plot_time_series(bitcoin_prices.index, btc_price, start=2500, format=\"-\", label=\"Actual BTC Price\")\n",
        "plot_time_series(next_time_steps, future_forecast, format=\"-\", label=\"Predicted BTC Price\")"
      ]
    },
    {
      "cell_type": "markdown",
      "metadata": {
        "id": "xWwHor7lBR3b"
      },
      "source": [
        "## Compare Models\n",
        "\n",
        "We've trained a bunch of models.\n",
        "\n",
        "And if anything, we've seen just how poorly machine learning and deep learning models are at forecasting the price of Bitcoin (or any kind of open market value).\n",
        "\n",
        "To highlight this, let's compare the results of all of the modelling experiments we've performed so far."
      ]
    },
    {
      "cell_type": "code",
      "execution_count": null,
      "metadata": {
        "colab": {
          "base_uri": "https://localhost:8080/",
          "height": 359
        },
        "id": "vZtkauQXBXVx",
        "outputId": "af622e83-258b-4d7a-de18-5e59027b169d"
      },
      "outputs": [],
      "source": [
        "# Compare different model results (w = window, h = horizon, e.g. w=7 means a window size of 7)\n",
        "model_results = pd.DataFrame({\n",
        "                              \"model_1_dense_w7_h1\": model_1_results,\n",
        "                              \"model_2_dense_w30_h1\": model_2_results,\n",
        "                              \"model_3_dense_w30_h7\": model_3_results,\n",
        "                              \"model_4_CONV1D\": model_4_results,\n",
        "                              \"model_5_LSTM\": model_5_results,\n",
        "                             \n",
        "                             }).T\n",
        "model_results.head(10)"
      ]
    },
    {
      "cell_type": "code",
      "execution_count": null,
      "metadata": {
        "colab": {
          "base_uri": "https://localhost:8080/",
          "height": 539
        },
        "id": "PrLcCM-LFv2B",
        "outputId": "c96cae30-d0dd-4c1d-eaf3-4b4258e96639"
      },
      "outputs": [],
      "source": [
        "# Sort model results by MAE and plot them\n",
        "model_results[[\"mae\"]].sort_values(by=\"mae\").plot(figsize=(10, 7), kind=\"bar\");"
      ]
    },
    {
      "cell_type": "markdown",
      "metadata": {
        "id": "ke0mH9fr5HP1"
      },
      "source": [
        "The majority of our deep learning models perform on par or only slightly better than the naive model. And for the turkey model, changing a single data point destroys its performance.\n",
        "\n",
        "> 🔑 **Note:** Just because one type of model performs better here doesn't mean it'll perform the best elsewhere (and vice versa, just because one model performs poorly here, doesn't mean it'll perform poorly elsewhere).\n",
        "\n",
        "As I said at the start, this is not financial advice.\n",
        "\n",
        "After what we've gone through, you'll now have some of the skills required to callout BS for any future tutorial or blog post or investment sales guide claiming to have model which is able to predict the futrue.\n",
        "\n",
        "[Mark Saroufim's Tweet](https://twitter.com/marksaroufim/status/1366871736604532739?s=20) sums this up nicely (stock market forecasting with a machine learning model is just as reliable as palm reading).\n",
        "\n",
        "![Mark Saroufim tweet on what forecasting with a machine learning model reminds him of: palm reading, basic heuristics, comparing calculations in the brain of different organisms](https://raw.githubusercontent.com/mrdbourke/tensorflow-deep-learning/main/images/10-mark-saroufim-tweet-forecasting-bs.png)\n",
        "*Beware the tutorials or trading courses which claim to use some kind of algorithm to beat the market (an open system), they're likely a scam or the creator is very lucky and hasn't yet come across a turkey problem.*\n",
        "\n",
        "Don't let these results get you down though, forecasting in a closed system (such as predicting the demand of electricity) often yields quite usable results.\n",
        "\n",
        "If anything, this module teaches anti-knowledge. Knowing that forecasting methods usually *don't* perform well in open systems.\n",
        "\n",
        "Plus, sometimes not knowing the future is a benefit. A known future is already the past.\n",
        "\n"
      ]
    }
  ],
  "metadata": {
    "accelerator": "GPU",
    "colab": {
      "authorship_tag": "ABX9TyMKHq9zYuL5lcH+aaRNPUt2",
      "collapsed_sections": [],
      "include_colab_link": true,
      "name": "10_time_series_forecasting_in_tensorflow.ipynb",
      "provenance": []
    },
    "kernelspec": {
      "display_name": "Python 3",
      "name": "python3"
    },
    "language_info": {
      "codemirror_mode": {
        "name": "ipython",
        "version": 3
      },
      "file_extension": ".py",
      "mimetype": "text/x-python",
      "name": "python",
      "nbconvert_exporter": "python",
      "pygments_lexer": "ipython3",
      "version": "3.11.5"
    }
  },
  "nbformat": 4,
  "nbformat_minor": 0
}
