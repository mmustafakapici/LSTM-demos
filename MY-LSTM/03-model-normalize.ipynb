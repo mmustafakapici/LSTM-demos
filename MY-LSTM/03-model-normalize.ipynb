{
 "cells": [
  {
   "cell_type": "code",
   "execution_count": 1,
   "metadata": {
    "ExecuteTime": {
     "end_time": "2024-02-03T02:44:12.007868Z",
     "start_time": "2024-02-03T02:44:11.997012Z"
    }
   },
   "outputs": [],
   "source": [
    "import numpy as np\n",
    "import pandas as pd \n",
    "import matplotlib.pyplot as plt\n",
    "\n",
    "import os\n",
    "\n",
    "import tensorflow as tf\n",
    "\n",
    "from tensorflow.keras.models import Sequential \n",
    "from tensorflow.keras.layers import Dense, Dropout, Activation, Flatten,  LSTM , BatchNormalization\n"
   ]
  },
  {
   "cell_type": "code",
   "execution_count": 2,
   "metadata": {
    "ExecuteTime": {
     "end_time": "2024-02-03T02:44:12.024161Z",
     "start_time": "2024-02-03T02:44:12.013846Z"
    }
   },
   "outputs": [],
   "source": [
    "import yfinance as yf"
   ]
  },
  {
   "cell_type": "code",
   "execution_count": 3,
   "metadata": {
    "ExecuteTime": {
     "end_time": "2024-02-03T02:44:12.036949Z",
     "start_time": "2024-02-03T02:44:12.029222Z"
    }
   },
   "outputs": [],
   "source": [
    "period = '1000d'\n",
    "\n",
    "#tickers = ['AAPL', 'MSFT', 'AMZN', 'GOOG', 'GOOGL', 'TSLA', 'NVDA', 'PYPL', 'ADBE','BTC-USD', 'ETH-USD', 'XRP-USD', 'LTC-USD','BCH-USD', 'BNB-USD', 'LINK-USD', 'ADA-USD', 'XLM-USD', 'SOL-USD', 'TRX-USD']\n",
    "\n",
    "tickers = ['SOL-USD']\n"
   ]
  },
  {
   "cell_type": "code",
   "execution_count": 4,
   "metadata": {
    "ExecuteTime": {
     "end_time": "2024-02-03T02:44:12.044128Z",
     "start_time": "2024-02-03T02:44:12.041940Z"
    }
   },
   "outputs": [],
   "source": [
    "def indir_ve_df_olustur(tickers, period):\n",
    "    # Her bir hisse senedi için boş bir sözlük oluşturun\n",
    "    pariteler = {}\n",
    "\n",
    "    # Her bir hisse senedi için döngü oluşturun ve verileri indirin\n",
    "    for ticker in tickers:\n",
    "        try:\n",
    "            # Hisse senedi verilerini indirin\n",
    "            veri = yf.download(ticker, period=period)\n",
    "            \n",
    "            # Veriyi sözlüğe ekleyin\n",
    "            pariteler[ticker] = veri\n",
    "        except Exception as e:\n",
    "            print(f\"{ticker} için veri indirilirken bir hata oluştu: {str(e)}\")\n",
    "\n",
    "    # Her bir hisse senedi için ayrı bir veri çerçevesi oluşturun\n",
    "    df_listesi = [veri for veri in pariteler.values()]\n",
    "\n",
    "    return df_listesi"
   ]
  },
  {
   "cell_type": "code",
   "execution_count": 5,
   "metadata": {
    "ExecuteTime": {
     "end_time": "2024-02-03T02:44:12.056811Z",
     "start_time": "2024-02-03T02:44:12.048371Z"
    }
   },
   "outputs": [],
   "source": [
    "#pariteler adında klasör oluştur :\n",
    "\n",
    "import os \n",
    "\n",
    "if not os.path.exists('pariteler'):\n",
    "    os.makedirs('pariteler')\n",
    "\n"
   ]
  },
  {
   "cell_type": "code",
   "execution_count": 6,
   "metadata": {
    "ExecuteTime": {
     "end_time": "2024-02-03T02:44:12.577538Z",
     "start_time": "2024-02-03T02:44:12.053493Z"
    }
   },
   "outputs": [
    {
     "name": "stdout",
     "output_type": "stream",
     "text": [
      "[*********************100%***********************]  1 of 1 completed\n"
     ]
    }
   ],
   "source": [
    "datasets = indir_ve_df_olustur(tickers, period)\n",
    "\n",
    "#pariteler içine kaydet \n",
    "\n",
    "for i in range(len(datasets)):\n",
    "    datasets[i].to_csv(f'pariteler/{tickers[i]}.csv')\n",
    "    #print(f'{tickers[i]} verisi csv olarak kaydedildi')\n"
   ]
  },
  {
   "cell_type": "code",
   "execution_count": 7,
   "metadata": {
    "ExecuteTime": {
     "end_time": "2024-02-03T02:44:13.239303Z",
     "start_time": "2024-02-03T02:44:12.578557Z"
    }
   },
   "outputs": [
    {
     "name": "stdout",
     "output_type": "stream",
     "text": [
      "SOL-USD verisi windowed olarak kaydedildi\n"
     ]
    }
   ],
   "source": [
    "window = 30\n",
    "\n",
    "def veri_hazirla(df, window):\n",
    "    # Veri çerçevesinin kopyasını oluşturun\n",
    "    df = df.copy()\n",
    "    \n",
    "    # Veri çerçevesine yeni sütunlar ekleyin\n",
    "    for i in range(1, window + 1):\n",
    "        df[f'Önceki_{i}_Açılış'] = df['Open'].shift(i)\n",
    "        df[f'Önceki_{i}_Yüksek'] = df['High'].shift(i)\n",
    "        df[f'Önceki_{i}_Düşük'] = df['Low'].shift(i)\n",
    "        df[f'Önceki_{i}_Kapanış'] = df['Close'].shift(i)\n",
    "        df[f'Önceki_{i}_Adj'] = df['Adj Close'].shift(i)\n",
    "        df[f'Önceki_{i}_Hacim'] = df['Volume'].shift(i)\n",
    "        \n",
    "    # NaN değerleri bırakın\n",
    "    df.dropna(inplace=True)\n",
    "    \n",
    "    return df\n",
    "\n",
    "# Her bir veri çerçevesi için döngü oluşturun ve verileri hazırlayın\n",
    "data_windowed = [veri_hazirla(df, window) for df in datasets]\n",
    "\n",
    "\n",
    "if not os.path.exists('windowed'):\n",
    "    os.makedirs('windowed')\n",
    "\n",
    "# Her bir veri çerçevesi için parite ismiyle birlikte windowed klasörüne kaydedin \n",
    "for i in range(len(data_windowed)):\n",
    "    data_windowed[i].to_csv(f'windowed/{tickers[i]}_windowed.csv')\n",
    "    print(f'{tickers[i]} verisi windowed olarak kaydedildi')\n",
    "\n"
   ]
  },
  {
   "cell_type": "code",
   "execution_count": 8,
   "metadata": {
    "ExecuteTime": {
     "end_time": "2024-02-03T02:44:13.239917Z",
     "start_time": "2024-02-03T02:44:13.235294Z"
    }
   },
   "outputs": [],
   "source": [
    "#data_windowed"
   ]
  },
  {
   "cell_type": "code",
   "execution_count": 9,
   "metadata": {
    "ExecuteTime": {
     "end_time": "2024-02-03T02:44:13.835842Z",
     "start_time": "2024-02-03T02:44:13.244916Z"
    }
   },
   "outputs": [
    {
     "name": "stdout",
     "output_type": "stream",
     "text": [
      "SOL-USD verisi X ve y olarak kaydedildi\n"
     ]
    }
   ],
   "source": [
    "#her bir veri çerçevesi için X  = features(öncekiler) y = labels olan veriyapısını kuruyoruz (labels  = ['Open','High', 'Low', 'Close', 'Adj Close', 'Volume'])\n",
    "\n",
    "def X_y_olustur(df, window, labels):\n",
    "    # Veri çerçevesinin kopyasını oluşturun\n",
    "    df = df.copy()\n",
    "    \n",
    "    # Özellikler ve etiketler için boş listeler oluşturun\n",
    "    X = []\n",
    "    y = []\n",
    "    \n",
    "    # Her bir satır için döngü oluşturun\n",
    "    for i in range(len(df) - window):\n",
    "        # Özellikler için satırı alın\n",
    "        X_row = df.iloc[i:i + window].values\n",
    "        \n",
    "        # Etiketler için satırı alın\n",
    "        y_row = df[labels].iloc[i + window].values\n",
    "        \n",
    "        # Özellikleri ve etiketleri listelere ekleyin\n",
    "        X.append(X_row)\n",
    "        y.append(y_row)\n",
    "        \n",
    "    # Listeleri numpy dizilerine dönüştürün\n",
    "    X = np.array(X)\n",
    "    y = np.array(y)\n",
    "    \n",
    "    return X, y\n",
    "\n",
    "# Her bir veri çerçevesi için döngü oluşturun ve X ve y oluşturun\n",
    "X_y = [X_y_olustur(df, window, ['Open', 'High', 'Low', 'Close', 'Adj Close', 'Volume']) for df in data_windowed]\n",
    "#X_y = [X_y_olustur(df, window, ['Close' ,'Volume']) for df in data_windowed]\n",
    "\n",
    "# Her bir veri çerçevesi için parite ismiyle birlikte numpy klasörüne kaydedin\n",
    "\n",
    "if not os.path.exists('numpy'):\n",
    "    os.makedirs('numpy')\n",
    "for i in range(len(X_y)):\n",
    "    np.save(f'numpy/{tickers[i]}_X.npy', X_y[i][0])\n",
    "    np.save(f'numpy/{tickers[i]}_y.npy', X_y[i][1])\n",
    "    print(f'{tickers[i]} verisi X ve y olarak kaydedildi')\n",
    "    \n",
    "\n"
   ]
  },
  {
   "cell_type": "code",
   "execution_count": 10,
   "metadata": {
    "ExecuteTime": {
     "end_time": "2024-02-03T02:44:13.845923Z",
     "start_time": "2024-02-03T02:44:13.837374Z"
    },
    "collapsed": false
   },
   "outputs": [],
   "source": [
    "# her bir veri çerçevesi için train test split yapalım time series için doğru yolla yapmak gerekiyor\n",
    "\n",
    "def train_test_split(X, y, test_size):\n",
    "        # Test boyutunu hesaplayın\n",
    "        test_size = int(len(X) * test_size)\n",
    "        \n",
    "        # Eğitim ve test veri kümelerini ayırın\n",
    "        X_train = X[:-test_size]\n",
    "        X_test = X[-test_size:]\n",
    "        y_train = y[:-test_size]\n",
    "        y_test = y[-test_size:]\n",
    "        \n",
    "        return X_train, X_test, y_train, y_test\n",
    "\n",
    "# Her bir veri çerçevesi için döngü oluşturun ve train ve test veri kümelerini ayırın\n",
    "\n",
    "X_train_test = [train_test_split(X_y[i][0], X_y[i][1], 0.2) for i in range(len(X_y))]"
   ]
  },
  {
   "cell_type": "code",
   "execution_count": 11,
   "metadata": {
    "ExecuteTime": {
     "end_time": "2024-02-03T02:44:13.846653Z",
     "start_time": "2024-02-03T02:44:13.843724Z"
    },
    "collapsed": false
   },
   "outputs": [],
   "source": [
    "# her bir veri çerçevesi için model oluşturup eğitelim\n",
    "\n",
    "def model_olustur(input_shape, output_shape):\n",
    "    # Modeli oluşturun\n",
    "    model = Sequential()\n",
    "    \n",
    "    # Giriş katmanı\n",
    "    model.add(LSTM(256, input_shape=input_shape, return_sequences=True))\n",
    "    model.add(Dropout(0.2))\n",
    "    model.add(BatchNormalization())\n",
    "    \n",
    "    # Gizli katmanlar\n",
    "    model.add(LSTM(256, return_sequences=False))\n",
    "    model.add(Dropout(0.2))\n",
    "    model.add(BatchNormalization())\n",
    "    \n",
    "    model.add(Dense(64, activation='relu'))\n",
    "    model.add(Dropout(0.2))\n",
    "    \n",
    "    # Çıkış katmanı\n",
    "    model.add(Dense(output_shape))\n",
    "    \n",
    "    return model"
   ]
  },
  {
   "cell_type": "code",
   "execution_count": 13,
   "metadata": {
    "ExecuteTime": {
     "end_time": "2024-02-03T02:44:28.955365Z",
     "start_time": "2024-02-03T02:44:13.854416Z"
    },
    "collapsed": false
   },
   "outputs": [
    {
     "name": "stdout",
     "output_type": "stream",
     "text": [
      "WARNING:tensorflow:From c:\\Users\\mmust\\anaconda3\\envs\\directML\\lib\\site-packages\\tensorflow_core\\python\\ops\\resource_variable_ops.py:1630: calling BaseResourceVariable.__init__ (from tensorflow.python.ops.resource_variable_ops) with constraint is deprecated and will be removed in a future version.\n",
      "Instructions for updating:\n",
      "If using Keras pass *_constraint arguments to layers.\n",
      "WARNING:tensorflow:From c:\\Users\\mmust\\anaconda3\\envs\\directML\\lib\\site-packages\\tensorflow_core\\python\\ops\\math_grad.py:1424: where (from tensorflow.python.ops.array_ops) is deprecated and will be removed in a future version.\n",
      "Instructions for updating:\n",
      "Use tf.where in 2.0, which has the same broadcast rule as np.where\n",
      "Train on 752 samples, validate on 187 samples\n",
      "Epoch 1/100\n",
      "752/752 [==============================] - 2s 3ms/sample - loss: 770864983583055104.0000 - val_loss: 758186249640748672.0000\n",
      "Epoch 2/100\n",
      "752/752 [==============================] - 1s 1ms/sample - loss: 770864987969404544.0000 - val_loss: 758186220242041984.0000\n",
      "Epoch 3/100\n",
      "752/752 [==============================] - 1s 1ms/sample - loss: 770864989431521152.0000 - val_loss: 758186216567203712.0000\n",
      "Epoch 4/100\n",
      "752/752 [==============================] - 1s 1ms/sample - loss: 770864976272472320.0000 - val_loss: 758186221344493440.0000\n",
      "Epoch 5/100\n",
      "752/752 [==============================] - 1s 1ms/sample - loss: 770864982120938496.0000 - val_loss: 758186231266556928.0000\n",
      "Epoch 6/100\n",
      "752/752 [==============================] - 1s 1ms/sample - loss: 770864942643792256.0000 - val_loss: 758186201500366592.0000\n",
      "Epoch 7/100\n",
      "752/752 [==============================] - 1s 1ms/sample - loss: 770864937526384384.0000 - val_loss: 758186163282047872.0000\n",
      "Epoch 8/100\n",
      "752/752 [==============================] - 1s 1ms/sample - loss: 770864906821937408.0000 - val_loss: 758186109629408384.0000\n",
      "Epoch 9/100\n",
      "752/752 [==============================] - 1s 1ms/sample - loss: 770864871731140736.0000 - val_loss: 758186110731859840.0000\n",
      "Epoch 10/100\n",
      "752/752 [==============================] - 1s 1ms/sample - loss: 770864831522936320.0000 - val_loss: 758186056344252544.0000\n",
      "Epoch 11/100\n",
      "752/752 [==============================] - 1s 1ms/sample - loss: 770864792045789952.0000 - val_loss: 758186019963353088.0000\n",
      "Epoch 12/100\n",
      "752/752 [==============================] - 1s 1ms/sample - loss: 770864757686051584.0000 - val_loss: 758186094562571136.0000\n",
      "Epoch 13/100\n",
      "752/752 [==============================] - 1s 1ms/sample - loss: 770864667765885312.0000 - val_loss: 758186012613676416.0000\n",
      "Epoch 14/100\n",
      "752/752 [==============================] - 1s 1ms/sample - loss: 770864610743340672.0000 - val_loss: 758185754272541952.0000\n",
      "Epoch 15/100\n",
      "752/752 [==============================] - 1s 1ms/sample - loss: 770864524478465792.0000 - val_loss: 758185748760284544.0000\n",
      "Epoch 16/100\n",
      "752/752 [==============================] - 1s 1ms/sample - loss: 770864432365124608.0000 - val_loss: 758185494461472256.0000\n",
      "Epoch 17/100\n",
      "752/752 [==============================] - 1s 1ms/sample - loss: 770864293464054528.0000 - val_loss: 758185615731137024.0000\n",
      "Epoch 18/100\n",
      "752/752 [==============================] - 1s 1ms/sample - loss: 770864194040130816.0000 - val_loss: 758185608748944256.0000\n",
      "Epoch 19/100\n",
      "752/752 [==============================] - 1s 1ms/sample - loss: 770864060987526784.0000 - val_loss: 758185399283159552.0000\n",
      "Epoch 20/100\n",
      "752/752 [==============================] - 1s 1ms/sample - loss: 770863917700107264.0000 - val_loss: 758184958670043904.0000\n",
      "Epoch 21/100\n",
      "752/752 [==============================] - 1s 1ms/sample - loss: 770863696920511744.0000 - val_loss: 758185091699191424.0000\n",
      "Epoch 22/100\n",
      "752/752 [==============================] - 1s 1ms/sample - loss: 770863534625577344.0000 - val_loss: 758184788157545472.0000\n",
      "Epoch 23/100\n",
      "752/752 [==============================] - 1s 1ms/sample - loss: 770863328467147136.0000 - val_loss: 758184850262313216.0000\n",
      "Epoch 24/100\n",
      "752/752 [==============================] - 1s 1ms/sample - loss: 770863098183794304.0000 - val_loss: 758184844750055808.0000\n",
      "Epoch 25/100\n",
      "752/752 [==============================] - 1s 1ms/sample - loss: 770862870824674560.0000 - val_loss: 758185628225587328.0000\n",
      "Epoch 26/100\n",
      "752/752 [==============================] - 1s 1ms/sample - loss: 770862635423913728.0000 - val_loss: 758184288012049024.0000\n",
      "Epoch 27/100\n",
      "752/752 [==============================] - 1s 1ms/sample - loss: 770862436576066304.0000 - val_loss: 758183778679456768.0000\n",
      "Epoch 28/100\n",
      "752/752 [==============================] - 1s 1ms/sample - loss: 770862147076994048.0000 - val_loss: 758183944047181568.0000\n",
      "Epoch 29/100\n",
      "752/752 [==============================] - 1s 1ms/sample - loss: 770861682123938560.0000 - val_loss: 758184159392707584.0000\n",
      "Epoch 30/100\n",
      "752/752 [==============================] - 1s 1ms/sample - loss: 770861675544414336.0000 - val_loss: 758183581708122368.0000\n",
      "Epoch 31/100\n",
      "752/752 [==============================] - 1s 1ms/sample - loss: 770861430639896192.0000 - val_loss: 758184522099250560.0000\n",
      "Epoch 32/100\n",
      "752/752 [==============================] - 1s 1ms/sample - loss: 770861358265128064.0000 - val_loss: 758184208268057344.0000\n",
      "Epoch 33/100\n",
      "752/752 [==============================] - 1s 1ms/sample - loss: 770860975190598144.0000 - val_loss: 758183948824471424.0000\n",
      "Epoch 34/100\n",
      "752/752 [==============================] - 1s 1ms/sample - loss: 770860629400039808.0000 - val_loss: 758181936850486784.0000\n",
      "Epoch 35/100\n",
      "752/752 [==============================] - 1s 1ms/sample - loss: 770859823773833600.0000 - val_loss: 758178806990682624.0000\n",
      "Epoch 36/100\n",
      "752/752 [==============================] - 1s 1ms/sample - loss: 770859382214642688.0000 - val_loss: 758181948977453184.0000\n",
      "Epoch 37/100\n",
      "752/752 [==============================] - 1s 1ms/sample - loss: 770858678936593664.0000 - val_loss: 758180207471569536.0000\n",
      "Epoch 38/100\n",
      "752/752 [==============================] - 1s 1ms/sample - loss: 770858018059923840.0000 - val_loss: 758180013440105856.0000\n",
      "Epoch 39/100\n",
      "752/752 [==============================] - 1s 1ms/sample - loss: 770857500470673408.0000 - val_loss: 758179472136420096.0000\n",
      "Epoch 40/100\n",
      "752/752 [==============================] - 1s 1ms/sample - loss: 770856835207653888.0000 - val_loss: 758179329001467136.0000\n",
      "Epoch 41/100\n",
      "752/752 [==============================] - 1s 1ms/sample - loss: 770855956475621760.0000 - val_loss: 758179231434509568.0000\n",
      "Epoch 42/100\n",
      "752/752 [==============================] - 1s 1ms/sample - loss: 770855333613981312.0000 - val_loss: 758178435464527744.0000\n",
      "Epoch 43/100\n",
      "752/752 [==============================] - 1s 1ms/sample - loss: 770854497283328384.0000 - val_loss: 758178166098878208.0000\n",
      "Epoch 44/100\n",
      "752/752 [==============================] - 1s 1ms/sample - loss: 770854118595148032.0000 - val_loss: 758174280692313856.0000\n",
      "Epoch 45/100\n",
      "752/752 [==============================] - 1s 1ms/sample - loss: 770852981068490624.0000 - val_loss: 758176556887174400.0000\n",
      "Epoch 46/100\n",
      "752/752 [==============================] - 1s 1ms/sample - loss: 770852358937908736.0000 - val_loss: 758174695581561216.0000\n",
      "Epoch 47/100\n",
      "752/752 [==============================] - 1s 1ms/sample - loss: 770851407100050176.0000 - val_loss: 758174653320920448.0000\n",
      "Epoch 48/100\n",
      "752/752 [==============================] - 1s 1ms/sample - loss: 770850280539266560.0000 - val_loss: 758172903362908544.0000\n",
      "Epoch 49/100\n",
      "752/752 [==============================] - 1s 1ms/sample - loss: 770849320659766912.0000 - val_loss: 758172522282173952.0000\n",
      "Epoch 50/100\n",
      "752/752 [==============================] - 1s 1ms/sample - loss: 770848641506640512.0000 - val_loss: 758169421453592576.0000\n",
      "Epoch 51/100\n",
      "752/752 [==============================] - 1s 1ms/sample - loss: 770847286124620672.0000 - val_loss: 758169406386755456.0000\n",
      "Epoch 52/100\n",
      "752/752 [==============================] - 1s 1ms/sample - loss: 770846325514062848.0000 - val_loss: 758169131876332416.0000\n",
      "Epoch 53/100\n",
      "752/752 [==============================] - 1s 1ms/sample - loss: 770845171904123648.0000 - val_loss: 758173042271797376.0000\n",
      "Epoch 54/100\n",
      "752/752 [==============================] - 1s 1ms/sample - loss: 770844012445718272.0000 - val_loss: 758164539063389824.0000\n",
      "Epoch 55/100\n",
      "752/752 [==============================] - 1s 1ms/sample - loss: 770842915858323584.0000 - val_loss: 758168719559472000.0000\n",
      "Epoch 56/100\n",
      "752/752 [==============================] - 1s 1ms/sample - loss: 770841668672926720.0000 - val_loss: 758164232214389504.0000\n",
      "Epoch 57/100\n",
      "752/752 [==============================] - 1s 1ms/sample - loss: 770840445612452352.0000 - val_loss: 758167215080660480.0000\n",
      "Epoch 58/100\n",
      "752/752 [==============================] - 1s 1ms/sample - loss: 770838873106128384.0000 - val_loss: 758165651069468032.0000\n",
      "Epoch 59/100\n",
      "752/752 [==============================] - 1s 1ms/sample - loss: 770837466550029952.0000 - val_loss: 758165935869438464.0000\n",
      "Epoch 60/100\n",
      "752/752 [==============================] - 1s 1ms/sample - loss: 770836170383729408.0000 - val_loss: 758157404732259712.0000\n",
      "Epoch 61/100\n",
      "752/752 [==============================] - 1s 1ms/sample - loss: 770834371249343872.0000 - val_loss: 758159684601958400.0000\n",
      "Epoch 62/100\n",
      "752/752 [==============================] - 1s 1ms/sample - loss: 770833123332888704.0000 - val_loss: 758158781694181248.0000\n",
      "Epoch 63/100\n",
      "752/752 [==============================] - 1s 1ms/sample - loss: 770831841787753472.0000 - val_loss: 758154800741820288.0000\n",
      "Epoch 64/100\n",
      "752/752 [==============================] - 1s 1ms/sample - loss: 770829793362499968.0000 - val_loss: 758157005277333376.0000\n",
      "Epoch 65/100\n",
      "752/752 [==============================] - 1s 1ms/sample - loss: 770828268374963200.0000 - val_loss: 758148943049525248.0000\n",
      "Epoch 66/100\n",
      "752/752 [==============================] - 1s 1ms/sample - loss: 770827240507045120.0000 - val_loss: 758152515727347968.0000\n",
      "Epoch 67/100\n",
      "752/752 [==============================] - 1s 1ms/sample - loss: 770825472808164864.0000 - val_loss: 758153151841862528.0000\n",
      "Epoch 68/100\n",
      "752/752 [==============================] - 1s 1ms/sample - loss: 770823529655301376.0000 - val_loss: 758153115460963072.0000\n",
      "Epoch 69/100\n",
      "752/752 [==============================] - 1s 1ms/sample - loss: 770821585040321408.0000 - val_loss: 758146526475840768.0000\n",
      "Epoch 70/100\n",
      "752/752 [==============================] - 1s 1ms/sample - loss: 770819200328267008.0000 - val_loss: 758150976705056128.0000\n",
      "Epoch 71/100\n",
      "752/752 [==============================] - 1s 1ms/sample - loss: 770817363909910016.0000 - val_loss: 758139405006644608.0000\n",
      "Epoch 72/100\n",
      "752/752 [==============================] - 1s 1ms/sample - loss: 770815489476523264.0000 - val_loss: 758149846324786304.0000\n",
      "Epoch 73/100\n",
      "752/752 [==============================] - 1s 1ms/sample - loss: 770814197696572288.0000 - val_loss: 758147249684023680.0000\n",
      "Epoch 74/100\n",
      "752/752 [==============================] - 1s 1ms/sample - loss: 770811208399334272.0000 - val_loss: 758145705149474432.0000\n",
      "Epoch 75/100\n",
      "752/752 [==============================] - 1s 1ms/sample - loss: 770809721426827008.0000 - val_loss: 758146105339368320.0000\n",
      "Epoch 76/100\n",
      "752/752 [==============================] - 1s 1ms/sample - loss: 770808061924569728.0000 - val_loss: 758140489083951488.0000\n",
      "Epoch 77/100\n",
      "752/752 [==============================] - 1s 1ms/sample - loss: 770805459722681984.0000 - val_loss: 758146979583406592.0000\n",
      "Epoch 78/100\n",
      "752/752 [==============================] - 1s 1ms/sample - loss: 770803420435657088.0000 - val_loss: 758143401760810368.0000\n",
      "Epoch 79/100\n",
      "752/752 [==============================] - 1s 1ms/sample - loss: 770800909250523008.0000 - val_loss: 758139636521459328.0000\n",
      "Epoch 80/100\n",
      "752/752 [==============================] - 1s 1ms/sample - loss: 770798669288004864.0000 - val_loss: 758128809345293184.0000\n",
      "Epoch 81/100\n",
      "752/752 [==============================] - 1s 1ms/sample - loss: 770796517052478080.0000 - val_loss: 758124159572356608.0000\n",
      "Epoch 82/100\n",
      "752/752 [==============================] - 1s 1ms/sample - loss: 770794549043633664.0000 - val_loss: 758121356773163648.0000\n",
      "Epoch 83/100\n",
      "752/752 [==============================] - 1s 1ms/sample - loss: 770789998937003776.0000 - val_loss: 758121379189677568.0000\n",
      "Epoch 84/100\n",
      "752/752 [==============================] - 1s 1ms/sample - loss: 770788965220619776.0000 - val_loss: 758121708087707904.0000\n",
      "Epoch 85/100\n",
      "752/752 [==============================] - 1s 1ms/sample - loss: 770786489857340672.0000 - val_loss: 758121049556679424.0000\n",
      "Epoch 86/100\n",
      "752/752 [==============================] - 1s 1ms/sample - loss: 770783648964930048.0000 - val_loss: 758117530898980352.0000\n",
      "Epoch 87/100\n",
      "752/752 [==============================] - 1s 1ms/sample - loss: 770780179362413312.0000 - val_loss: 758112476526343808.0000\n",
      "Epoch 88/100\n",
      "752/752 [==============================] - 1s 1ms/sample - loss: 770776392480610048.0000 - val_loss: 758108634482871680.0000\n",
      "Epoch 89/100\n",
      "752/752 [==============================] - 1s 1ms/sample - loss: 770774764413858176.0000 - val_loss: 758111912806144256.0000\n",
      "Epoch 90/100\n",
      "752/752 [==============================] - 1s 1ms/sample - loss: 770770655135360896.0000 - val_loss: 758111293595885952.0000\n",
      "Epoch 91/100\n",
      "752/752 [==============================] - 1s 1ms/sample - loss: 770768097893556352.0000 - val_loss: 758117283214876928.0000\n",
      "Epoch 92/100\n",
      "752/752 [==============================] - 1s 1ms/sample - loss: 770768001393865728.0000 - val_loss: 758098204924212608.0000\n",
      "Epoch 93/100\n",
      "752/752 [==============================] - 1s 1ms/sample - loss: 770763427893371392.0000 - val_loss: 758103191679824000.0000\n",
      "Epoch 94/100\n",
      "752/752 [==============================] - 1s 1ms/sample - loss: 770759155588881664.0000 - val_loss: 758100636564734336.0000\n",
      "Epoch 95/100\n",
      "752/752 [==============================] - 1s 1ms/sample - loss: 770757139330191872.0000 - val_loss: 758090246326845440.0000\n",
      "Epoch 96/100\n",
      "752/752 [==============================] - 1s 1ms/sample - loss: 770753608318780672.0000 - val_loss: 758087830488128512.0000\n",
      "Epoch 97/100\n",
      "752/752 [==============================] - 1s 1ms/sample - loss: 770750143102613376.0000 - val_loss: 758088948006464128.0000\n",
      "Epoch 98/100\n",
      "752/752 [==============================] - 1s 1ms/sample - loss: 770744983293392128.0000 - val_loss: 758082098842788096.0000\n",
      "Epoch 99/100\n",
      "752/752 [==============================] - 1s 1ms/sample - loss: 770741749822694144.0000 - val_loss: 758093656760555904.0000\n",
      "Epoch 100/100\n",
      "752/752 [==============================] - 1s 1ms/sample - loss: 770739133365170560.0000 - val_loss: 758080162937956864.0000\n",
      "SOL-USD modeli eğitildi ve kaydedildi\n"
     ]
    }
   ],
   "source": [
    "# her bir veri çerçevesi için modeli eğitelim\n",
    "\n",
    "\n",
    "if not os.path.exists('models'):\n",
    "    os.makedirs('models')\n",
    "\n",
    "epochs = 100\n",
    "batch_size = 64\n",
    "models = []\n",
    "\n",
    "for i in range(len(X_train_test)):\n",
    "    # Modeli oluşturun\n",
    "    model = model_olustur(X_train_test[i][0].shape[1:], X_train_test[i][2].shape[1])\n",
    "    \n",
    "    # Modeli derleyin\n",
    "    model.compile(optimizer='adam', loss='mean_squared_error')\n",
    "    \n",
    "    # Modeli eğitin\n",
    "    model.fit(X_train_test[i][0], X_train_test[i][2], epochs=epochs, batch_size=batch_size,\n",
    "              validation_data=(X_train_test[i][1], X_train_test[i][3]),\n",
    "                verbose=1)\n",
    "    \n",
    "    # Modeli kaydedin\n",
    "    model.save(f'models/{tickers[i]}_model.h5')\n",
    "    \n",
    "    # Modeli listeye ekleyin\n",
    "    models.append(model)\n",
    "    print(f'{tickers[i]} modeli eğitildi ve kaydedildi')\n"
   ]
  },
  {
   "cell_type": "code",
   "execution_count": 14,
   "metadata": {
    "ExecuteTime": {
     "end_time": "2024-02-03T02:44:31.040853Z",
     "start_time": "2024-02-03T02:44:28.956114Z"
    },
    "collapsed": false
   },
   "outputs": [
    {
     "name": "stdout",
     "output_type": "stream",
     "text": [
      "WARNING:tensorflow:From c:\\Users\\mmust\\anaconda3\\envs\\directML\\lib\\site-packages\\tensorflow_core\\python\\ops\\init_ops.py:97: calling GlorotUniform.__init__ (from tensorflow.python.ops.init_ops) with dtype is deprecated and will be removed in a future version.\n",
      "Instructions for updating:\n",
      "Call initializer instance with the dtype argument instead of passing it to the constructor\n",
      "WARNING:tensorflow:From c:\\Users\\mmust\\anaconda3\\envs\\directML\\lib\\site-packages\\tensorflow_core\\python\\ops\\init_ops.py:97: calling Orthogonal.__init__ (from tensorflow.python.ops.init_ops) with dtype is deprecated and will be removed in a future version.\n",
      "Instructions for updating:\n",
      "Call initializer instance with the dtype argument instead of passing it to the constructor\n",
      "WARNING:tensorflow:From c:\\Users\\mmust\\anaconda3\\envs\\directML\\lib\\site-packages\\tensorflow_core\\python\\ops\\init_ops.py:97: calling Zeros.__init__ (from tensorflow.python.ops.init_ops) with dtype is deprecated and will be removed in a future version.\n",
      "Instructions for updating:\n",
      "Call initializer instance with the dtype argument instead of passing it to the constructor\n",
      "WARNING:tensorflow:From c:\\Users\\mmust\\anaconda3\\envs\\directML\\lib\\site-packages\\tensorflow_core\\python\\ops\\init_ops.py:97: calling Ones.__init__ (from tensorflow.python.ops.init_ops) with dtype is deprecated and will be removed in a future version.\n",
      "Instructions for updating:\n",
      "Call initializer instance with the dtype argument instead of passing it to the constructor\n"
     ]
    },
    {
     "data": {
      "image/png": "[encoded data removed]",
      "text/plain": [
       "<Figure size 1008x360 with 1 Axes>"
      ]
     },
     "metadata": {
      "needs_background": "light"
     },
     "output_type": "display_data"
    }
   ],
   "source": [
    "# Her bir model için döngü oluşturun ve tahmin yapın\n",
    "for i in range(len(models)):\n",
    "    # Modeli yükleyin\n",
    "    model = tf.keras.models.load_model(f'models/{tickers[i]}_model.h5')\n",
    "    \n",
    "    # Tahmin yapın\n",
    "    predictions = model.predict(X_train_test[i][1])\n",
    "    \n",
    "    # Tahminleri ve gerçek değerleri görselleştirin sadece close\n",
    "    plt.figure(figsize=(14, 5))\n",
    "    plt.plot(predictions[:, 3], label='Tahminler')\n",
    "    plt.plot(X_train_test[i][3][:, 3], label='Gerçek Değerler')\n",
    "    plt.title(f'{tickers[i]} Tahminleri ve Gerçek Değerler')\n",
    "    plt.xlabel('Zaman')\n",
    "    plt.ylabel('Kapanış Fiyatı')\n",
    "    plt.legend()\n",
    "    plt.show()\n",
    "    \n",
    "\n",
    "    \n",
    "    "
   ]
  },
  {
   "cell_type": "code",
   "execution_count": null,
   "metadata": {
    "ExecuteTime": {
     "end_time": "2024-02-03T02:44:31.047172Z",
     "start_time": "2024-02-03T02:44:31.040680Z"
    },
    "collapsed": false
   },
   "outputs": [],
   "source": []
  }
 ],
 "metadata": {
  "kernelspec": {
   "display_name": "all",
   "language": "python",
   "name": "python3"
  },
  "language_info": {
   "codemirror_mode": {
    "name": "ipython",
    "version": 3
   },
   "file_extension": ".py",
   "mimetype": "text/x-python",
   "name": "python",
   "nbconvert_exporter": "python",
   "pygments_lexer": "ipython3",
   "version": "3.6.13"
  }
 },
 "nbformat": 4,
 "nbformat_minor": 2
}
