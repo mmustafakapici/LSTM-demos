{
 "cells": [
  {
   "cell_type": "code",
   "execution_count": 1,
   "metadata": {
    "ExecuteTime": {
     "end_time": "2024-02-06T01:08:03.030290Z",
     "start_time": "2024-02-06T01:07:55.387577Z"
    }
   },
   "outputs": [
    {
     "name": "stderr",
     "output_type": "stream",
     "text": [
      "2024-02-06 04:07:59.405208: I tensorflow/core/platform/cpu_feature_guard.cc:182] This TensorFlow binary is optimized to use available CPU instructions in performance-critical operations.\n",
      "To enable the following instructions: AVX2 FMA, in other operations, rebuild TensorFlow with the appropriate compiler flags.\n"
     ]
    }
   ],
   "source": [
    "\n",
    "# yeni hali \n",
    "\n",
    "import numpy as np\n",
    "import pandas as pd \n",
    "import matplotlib.pyplot as plt\n",
    "\n",
    "import os\n",
    "\n",
    "import tensorflow as tf\n",
    "\n",
    "from tensorflow.keras.models import Sequential \n",
    "from tensorflow.keras.layers import Dense, Dropout, Activation, Flatten,  LSTM , BatchNormalization\n",
    "\n",
    "from tensorflow.keras.layers import Input, LSTM, Dense, TimeDistributed, RepeatVector, Concatenate, Attention\n",
    "\n",
    "from tensorflow.keras.models import Model\n",
    "\n",
    "from sklearn.preprocessing import MinMaxScaler\n"
   ]
  },
  {
   "cell_type": "code",
   "execution_count": 2,
   "metadata": {
    "ExecuteTime": {
     "end_time": "2024-02-06T01:08:03.158764Z",
     "start_time": "2024-02-06T01:08:03.033256Z"
    }
   },
   "outputs": [],
   "source": [
    "import yfinance as yf"
   ]
  },
  {
   "cell_type": "code",
   "outputs": [],
   "source": [
    "import os\n",
    "\n",
    "if os.path.exists('datas'):\n",
    "    #sil\n",
    "    os.system('rm -rf datas')"
   ],
   "metadata": {
    "collapsed": false,
    "ExecuteTime": {
     "end_time": "2024-02-06T01:08:03.176354Z",
     "start_time": "2024-02-06T01:08:03.159624Z"
    }
   },
   "execution_count": 3
  },
  {
   "cell_type": "code",
   "execution_count": 4,
   "metadata": {
    "ExecuteTime": {
     "end_time": "2024-02-06T01:08:03.202294Z",
     "start_time": "2024-02-06T01:08:03.178650Z"
    }
   },
   "outputs": [],
   "source": [
    "#period = '3000d'\n",
    "period = 'max'\n",
    "\n",
    "\n",
    "#features = ['Open', 'High', 'Low', 'Close','Adj Close', 'Volume']\n",
    "features = [ 'Close' ]  # Sadece kapanış fiyatını kullanın\n",
    "\n",
    "#tickers = ['AAPL', 'MSFT', 'AMZN', 'GOOG', 'GOOGL', 'TSLA', 'NVDA', 'PYPL', 'ADBE','BTC-USD', 'ETH-USD', 'XRP-USD', 'LTC-USD','BCH-USD', 'BNB-USD', 'LINK-USD', 'ADA-USD', 'XLM-USD', 'SOL-USD', 'TRX-USD']\n",
    "\n",
    "#tickers = ['SOL-USD']\n",
    "\n",
    "#tickers = ['BTC-USD']\n",
    "\n",
    "#tickers = ['BTC-USD' , 'SOL-USD'] # ilki yanlış ikinciyi doğru tahmin etti\n",
    "\n",
    "tickers = [  'SOL-USD', 'BTC-USD' , 'ETH-USD']\n",
    "\n",
    "\n",
    "\n",
    "\n",
    "\n",
    "\n",
    "\n"
   ]
  },
  {
   "cell_type": "code",
   "execution_count": 5,
   "metadata": {
    "ExecuteTime": {
     "end_time": "2024-02-06T01:08:03.204327Z",
     "start_time": "2024-02-06T01:08:03.183836Z"
    }
   },
   "outputs": [],
   "source": [
    "def indir_ve_df_olustur(tickers, period):\n",
    "    # Her bir hisse senedi için boş bir sözlük oluşturun\n",
    "    pariteler = {}\n",
    "\n",
    "    # Her bir hisse senedi için döngü oluşturun ve verileri indirin\n",
    "    for ticker in tickers:\n",
    "        try:\n",
    "            # Hisse senedi verilerini indirin\n",
    "            veri = yf.download(ticker, period=period)\n",
    "\n",
    "            veri = veri[features]   \n",
    "            # Veriyi sözlüğe ekleyin\n",
    "            pariteler[ticker] = veri\n",
    "            \n",
    "            \n",
    "        except Exception as e:\n",
    "            print(f\"{ticker} için veri indirilirken bir hata oluştu: {str(e)}\")\n",
    "\n",
    "    # Her bir hisse senedi için ayrı bir veri çerçevesi oluşturun\n",
    "    df_listesi = [veri for veri in pariteler.values()]\n",
    "\n",
    "    return df_listesi"
   ]
  },
  {
   "cell_type": "code",
   "execution_count": 6,
   "metadata": {
    "ExecuteTime": {
     "end_time": "2024-02-06T01:08:03.205590Z",
     "start_time": "2024-02-06T01:08:03.189394Z"
    }
   },
   "outputs": [],
   "source": [
    "#pariteler adında klasör oluştur :\n",
    "\n",
    "import os \n",
    "\n",
    "if not os.path.exists('datas/pariteler'):\n",
    "    os.makedirs('datas/pariteler')\n",
    "\n"
   ]
  },
  {
   "cell_type": "code",
   "execution_count": 7,
   "metadata": {
    "ExecuteTime": {
     "end_time": "2024-02-06T01:08:04.524592Z",
     "start_time": "2024-02-06T01:08:03.194898Z"
    }
   },
   "outputs": [
    {
     "name": "stdout",
     "output_type": "stream",
     "text": [
      "[*********************100%%**********************]  1 of 1 completed\n",
      "[*********************100%%**********************]  1 of 1 completed\n",
      "[*********************100%%**********************]  1 of 1 completed\n",
      "SOL-USD verisi csv olarak kaydedildi\n",
      "BTC-USD verisi csv olarak kaydedildi\n",
      "ETH-USD verisi csv olarak kaydedildi\n"
     ]
    }
   ],
   "source": [
    "datasets = indir_ve_df_olustur(tickers, period)\n",
    "\n",
    "#pariteler içine kaydet \n",
    "\n",
    "for i in range(len(datasets)):\n",
    "    datasets[i].to_csv(f'datas/pariteler/{tickers[i]}.csv')\n",
    "    print(f'{tickers[i]} verisi csv olarak kaydedildi')\n"
   ]
  },
  {
   "cell_type": "code",
   "outputs": [
    {
     "name": "stdout",
     "output_type": "stream",
     "text": [
      "SOL-USD verisi scaled edilerek kaydedildi\n",
      "BTC-USD verisi scaled edilerek kaydedildi\n",
      "ETH-USD verisi scaled edilerek kaydedildi\n"
     ]
    }
   ],
   "source": [
    "scaler  = MinMaxScaler()\n",
    "\n",
    "#her bir veri çerçevesi için scaled dataset oluştur\n",
    "\n",
    "if not os.path.exists('datas/scaled_datasets'):\n",
    "    os.makedirs('datas/scaled_datasets')\n",
    "\n",
    "scaled_datasets = []\n",
    "\n",
    "for i in range(len(datasets)):\n",
    "    scaled_datasets.append(scaler.fit_transform(datasets[i]))\n",
    "    np.save(f'datas/scaled_datasets/{tickers[i]}.npy', scaled_datasets[i])\n",
    "    print(f'{tickers[i]} verisi scaled edilerek kaydedildi')\n",
    "    "
   ],
   "metadata": {
    "collapsed": false,
    "ExecuteTime": {
     "end_time": "2024-02-06T01:08:04.538839Z",
     "start_time": "2024-02-06T01:08:04.525219Z"
    }
   },
   "execution_count": 8
  },
  {
   "cell_type": "code",
   "outputs": [
    {
     "name": "stdout",
     "output_type": "stream",
     "text": [
      "SOL-USD verisi için scaled dataset\n",
      "[[0.00168633]\n",
      " [0.0010121 ]\n",
      " [0.00142108]\n",
      " ...\n",
      " [0.37677063]\n",
      " [0.36747169]\n",
      " [0.36656831]]\n",
      "BTC-USD verisi için scaled dataset\n",
      "[[0.00414359]\n",
      " [0.00365546]\n",
      " [0.00321557]\n",
      " ...\n",
      " [0.63533101]\n",
      " [0.62926668]\n",
      " [0.62846124]]\n",
      "ETH-USD verisi için scaled dataset\n",
      "[[0.0500395 ]\n",
      " [0.0454642 ]\n",
      " [0.04872747]\n",
      " ...\n",
      " [0.46781586]\n",
      " [0.46644266]\n",
      " [0.4683165 ]]\n"
     ]
    }
   ],
   "source": [
    "#scaled datasetleri göster\n",
    "\n",
    "for i in range(len(scaled_datasets)):\n",
    "    print(f'{tickers[i]} verisi için scaled dataset')\n",
    "    print(scaled_datasets[i])"
   ],
   "metadata": {
    "collapsed": false,
    "ExecuteTime": {
     "end_time": "2024-02-06T01:15:13.907975Z",
     "start_time": "2024-02-06T01:15:13.884065Z"
    }
   },
   "execution_count": 19
  },
  {
   "cell_type": "code",
   "outputs": [
    {
     "name": "stdout",
     "output_type": "stream",
     "text": [
      "SOL-USD verisi dizilere bölünerek kaydedildi\n",
      "BTC-USD verisi dizilere bölünerek kaydedildi\n",
      "ETH-USD verisi dizilere bölünerek kaydedildi\n"
     ]
    }
   ],
   "source": [
    "# her bir veri çerçevesi için veriyi dizilere bölme\n",
    "\n",
    "seq_length = 60  # Son 60 günü kullanarak\n",
    "pred_length = 7  # Önümüzdeki 7 günü tahmin etme\n",
    "\n",
    "def create_sequences(data, seq_length, pred_length):\n",
    "    X, y = [], []\n",
    "    for i in range(len(data)-seq_length-pred_length):\n",
    "        X.append(data[i:i+seq_length])\n",
    "        y.append(data[i+seq_length:i+seq_length+pred_length])\n",
    "    return np.array(X), np.array(y)\n",
    "\n",
    "# her bir veri çerçevesi için veriyi dizilere bölme\n",
    "\n",
    "if not os.path.exists('datas/sequences'):\n",
    "    os.makedirs('datas/sequences')\n",
    "\n",
    "X, y = [], []\n",
    "\n",
    "for i in range(len(scaled_datasets)):\n",
    "    X_, y_ = create_sequences(scaled_datasets[i], seq_length, pred_length)\n",
    "    X.append(X_)\n",
    "    y.append(y_)\n",
    "    np.save(f'datas/sequences/X_{tickers[i]}.npy', X_)\n",
    "    np.save(f'datas/sequences/y_{tickers[i]}.npy', y_)\n",
    "    print(f'{tickers[i]} verisi dizilere bölünerek kaydedildi')\n",
    "    \n"
   ],
   "metadata": {
    "collapsed": false,
    "ExecuteTime": {
     "end_time": "2024-02-06T01:08:04.582781Z",
     "start_time": "2024-02-06T01:08:04.537965Z"
    }
   },
   "execution_count": 9
  },
  {
   "cell_type": "code",
   "outputs": [],
   "source": [
    "# her bir veri çerçevesi için  seq2seq attention modeli oluştur\n",
    "\n",
    "# Encoder\n",
    "encoder_inputs = Input(shape=(seq_length, len(features)))\n",
    "encoder_lstm = LSTM(100, return_state=True)\n",
    "encoder_outputs, state_h, state_c = encoder_lstm(encoder_inputs)\n",
    "encoder_states = [state_h, state_c]\n",
    "\n",
    "\n",
    "# Decoder\n",
    "decoder_inputs = RepeatVector(pred_length)(encoder_outputs)\n",
    "decoder_lstm = LSTM(100, return_sequences=True)\n",
    "decoder_outputs = decoder_lstm(decoder_inputs, initial_state=encoder_states)\n",
    "\n",
    "\n",
    "# Dikkat Mekanizması\n",
    "attention_layer = Attention(use_scale=True)\n",
    "attention_outputs = attention_layer([decoder_outputs, encoder_outputs])\n",
    "decoder_concat_input = Concatenate(axis=-1)([decoder_outputs, attention_outputs])\n",
    "\n",
    "\n",
    "# TimeDistributed Dense\n",
    "decoder_dense = TimeDistributed(Dense(len(features)))\n",
    "decoder_outputs = decoder_dense(decoder_concat_input)\n",
    "\n",
    "def create_model(encoder_inputs, decoder_outputs):\n",
    "    model = Model(encoder_inputs, decoder_outputs)\n",
    "    return model\n",
    "    \n"
   ],
   "metadata": {
    "collapsed": false,
    "ExecuteTime": {
     "end_time": "2024-02-06T01:08:05.489943Z",
     "start_time": "2024-02-06T01:08:04.572720Z"
    }
   },
   "execution_count": 10
  },
  {
   "cell_type": "code",
   "outputs": [
    {
     "name": "stdout",
     "output_type": "stream",
     "text": [
      "SOL-USD modeli oluşturuldu ve kaydedildi\n",
      "BTC-USD modeli oluşturuldu ve kaydedildi\n",
      "ETH-USD modeli oluşturuldu ve kaydedildi\n"
     ]
    },
    {
     "name": "stderr",
     "output_type": "stream",
     "text": [
      "/Users/mustafakapici/anaconda3/envs/all/lib/python3.11/site-packages/keras/src/engine/training.py:3079: UserWarning: You are saving your model as an HDF5 file via `model.save()`. This file format is considered legacy. We recommend using instead the native Keras format, e.g. `model.save('my_model.keras')`.\n",
      "  saving_api.save_model(\n"
     ]
    }
   ],
   "source": [
    "# her bir veri çerçevesi için modeli oluştur derle ve kaydet \n",
    "\n",
    "if not os.path.exists('datas/models'):\n",
    "    os.makedirs('datas/models')\n",
    "    \n",
    "models = []\n",
    "\n",
    "for i in range(len(scaled_datasets)):\n",
    "    # modeli oluştur\n",
    "    model = create_model(encoder_inputs, decoder_outputs)\n",
    "    \n",
    "    # modeli derle\n",
    "    model.compile(optimizer='adam', loss='mean_squared_error')\n",
    "    \n",
    "    # modeli listeye ekle\n",
    "    models.append(model)\n",
    "    \n",
    "    # modeli kaydet\n",
    "    models[i].save(f'datas/models/{tickers[i]}_model.h5')\n",
    "    \n",
    "    \n",
    "    print(f'{tickers[i]} modeli oluşturuldu ve kaydedildi')"
   ],
   "metadata": {
    "collapsed": false,
    "ExecuteTime": {
     "end_time": "2024-02-06T01:08:05.629423Z",
     "start_time": "2024-02-06T01:08:05.492007Z"
    }
   },
   "execution_count": 11
  },
  {
   "cell_type": "code",
   "outputs": [
    {
     "name": "stdout",
     "output_type": "stream",
     "text": [
      "Epoch 1/20\n"
     ]
    },
    {
     "name": "stderr",
     "output_type": "stream",
     "text": [
      "2024-02-06 04:08:11.023346: W tensorflow/core/grappler/costs/op_level_cost_estimator.cc:693] Error in PredictCost() for the op: op: \"Softmax\" attr { key: \"T\" value { type: DT_FLOAT } } inputs { dtype: DT_FLOAT shape { unknown_rank: true } } device { type: \"CPU\" vendor: \"GenuineIntel\" model: \"110\" frequency: 2300 num_cores: 16 environment { key: \"cpu_instruction_set\" value: \"AVX SSE, SSE2, SSE3, SSSE3, SSE4.1, SSE4.2\" } environment { key: \"eigen\" value: \"3.4.90\" } l1_cache_size: 32768 l2_cache_size: 262144 l3_cache_size: 16777216 memory_size: 268435456 } outputs { dtype: DT_FLOAT shape { unknown_rank: true } }\n"
     ]
    },
    {
     "name": "stdout",
     "output_type": "stream",
     "text": [
      "18/18 [==============================] - 7s 104ms/step - loss: 0.0238 - val_loss: 0.0029\n",
      "Epoch 2/20\n"
     ]
    },
    {
     "name": "stderr",
     "output_type": "stream",
     "text": [
      "2024-02-06 04:08:13.223134: W tensorflow/core/grappler/costs/op_level_cost_estimator.cc:693] Error in PredictCost() for the op: op: \"Softmax\" attr { key: \"T\" value { type: DT_FLOAT } } inputs { dtype: DT_FLOAT shape { unknown_rank: true } } device { type: \"CPU\" vendor: \"GenuineIntel\" model: \"110\" frequency: 2300 num_cores: 16 environment { key: \"cpu_instruction_set\" value: \"AVX SSE, SSE2, SSE3, SSSE3, SSE4.1, SSE4.2\" } environment { key: \"eigen\" value: \"3.4.90\" } l1_cache_size: 32768 l2_cache_size: 262144 l3_cache_size: 16777216 memory_size: 268435456 } outputs { dtype: DT_FLOAT shape { unknown_rank: true } }\n"
     ]
    },
    {
     "name": "stdout",
     "output_type": "stream",
     "text": [
      "18/18 [==============================] - 1s 36ms/step - loss: 0.0037 - val_loss: 0.0010\n",
      "Epoch 3/20\n",
      "18/18 [==============================] - 1s 37ms/step - loss: 0.0027 - val_loss: 7.9791e-04\n",
      "Epoch 4/20\n",
      "18/18 [==============================] - 1s 37ms/step - loss: 0.0023 - val_loss: 6.8577e-04\n",
      "Epoch 5/20\n",
      "18/18 [==============================] - 1s 37ms/step - loss: 0.0021 - val_loss: 8.1253e-04\n",
      "Epoch 6/20\n",
      "18/18 [==============================] - 1s 37ms/step - loss: 0.0019 - val_loss: 6.2413e-04\n",
      "Epoch 7/20\n",
      "18/18 [==============================] - 1s 39ms/step - loss: 0.0019 - val_loss: 6.6275e-04\n",
      "Epoch 8/20\n",
      "18/18 [==============================] - 1s 37ms/step - loss: 0.0020 - val_loss: 6.6915e-04\n",
      "Epoch 9/20\n",
      "18/18 [==============================] - 1s 36ms/step - loss: 0.0019 - val_loss: 6.0690e-04\n",
      "Epoch 10/20\n",
      "18/18 [==============================] - 1s 37ms/step - loss: 0.0018 - val_loss: 6.0015e-04\n",
      "Epoch 11/20\n",
      "18/18 [==============================] - 1s 37ms/step - loss: 0.0018 - val_loss: 5.7813e-04\n",
      "Epoch 12/20\n",
      "18/18 [==============================] - 1s 37ms/step - loss: 0.0019 - val_loss: 8.2890e-04\n",
      "Epoch 13/20\n",
      "18/18 [==============================] - 1s 37ms/step - loss: 0.0019 - val_loss: 5.8826e-04\n",
      "Epoch 14/20\n",
      "18/18 [==============================] - 1s 37ms/step - loss: 0.0017 - val_loss: 5.8704e-04\n",
      "Epoch 15/20\n",
      "18/18 [==============================] - 1s 39ms/step - loss: 0.0018 - val_loss: 6.6221e-04\n",
      "Epoch 16/20\n",
      "18/18 [==============================] - 1s 37ms/step - loss: 0.0019 - val_loss: 6.0460e-04\n",
      "Epoch 17/20\n",
      "18/18 [==============================] - 1s 39ms/step - loss: 0.0019 - val_loss: 5.6603e-04\n",
      "Epoch 18/20\n",
      "18/18 [==============================] - 1s 48ms/step - loss: 0.0017 - val_loss: 6.1161e-04\n",
      "Epoch 19/20\n",
      "18/18 [==============================] - 1s 37ms/step - loss: 0.0017 - val_loss: 6.2846e-04\n",
      "Epoch 20/20\n",
      "18/18 [==============================] - 1s 37ms/step - loss: 0.0017 - val_loss: 5.8700e-04\n",
      "SOL-USD modeli eğitildi ve kaydedildi\n",
      "Epoch 1/20\n"
     ]
    },
    {
     "name": "stderr",
     "output_type": "stream",
     "text": [
      "2024-02-06 04:08:31.529924: W tensorflow/core/grappler/costs/op_level_cost_estimator.cc:693] Error in PredictCost() for the op: op: \"Softmax\" attr { key: \"T\" value { type: DT_FLOAT } } inputs { dtype: DT_FLOAT shape { unknown_rank: true } } device { type: \"CPU\" vendor: \"GenuineIntel\" model: \"110\" frequency: 2300 num_cores: 16 environment { key: \"cpu_instruction_set\" value: \"AVX SSE, SSE2, SSE3, SSSE3, SSE4.1, SSE4.2\" } environment { key: \"eigen\" value: \"3.4.90\" } l1_cache_size: 32768 l2_cache_size: 262144 l3_cache_size: 16777216 memory_size: 268435456 } outputs { dtype: DT_FLOAT shape { unknown_rank: true } }\n"
     ]
    },
    {
     "name": "stdout",
     "output_type": "stream",
     "text": [
      "45/45 [==============================] - ETA: 0s - loss: 0.0096"
     ]
    },
    {
     "name": "stderr",
     "output_type": "stream",
     "text": [
      "2024-02-06 04:08:34.629967: W tensorflow/core/grappler/costs/op_level_cost_estimator.cc:693] Error in PredictCost() for the op: op: \"Softmax\" attr { key: \"T\" value { type: DT_FLOAT } } inputs { dtype: DT_FLOAT shape { unknown_rank: true } } device { type: \"CPU\" vendor: \"GenuineIntel\" model: \"110\" frequency: 2300 num_cores: 16 environment { key: \"cpu_instruction_set\" value: \"AVX SSE, SSE2, SSE3, SSSE3, SSE4.1, SSE4.2\" } environment { key: \"eigen\" value: \"3.4.90\" } l1_cache_size: 32768 l2_cache_size: 262144 l3_cache_size: 16777216 memory_size: 268435456 } outputs { dtype: DT_FLOAT shape { unknown_rank: true } }\n"
     ]
    },
    {
     "name": "stdout",
     "output_type": "stream",
     "text": [
      "45/45 [==============================] - 8s 63ms/step - loss: 0.0096 - val_loss: 0.0013\n",
      "Epoch 2/20\n",
      "45/45 [==============================] - 2s 36ms/step - loss: 9.9663e-04 - val_loss: 8.7810e-04\n",
      "Epoch 3/20\n",
      "45/45 [==============================] - 2s 36ms/step - loss: 9.1544e-04 - val_loss: 0.0019\n",
      "Epoch 4/20\n",
      "45/45 [==============================] - 2s 36ms/step - loss: 8.3381e-04 - val_loss: 0.0012\n",
      "Epoch 5/20\n",
      "45/45 [==============================] - 2s 40ms/step - loss: 8.1301e-04 - val_loss: 7.8009e-04\n",
      "Epoch 6/20\n",
      "45/45 [==============================] - 2s 37ms/step - loss: 7.4935e-04 - val_loss: 7.3005e-04\n",
      "Epoch 7/20\n",
      "45/45 [==============================] - 2s 36ms/step - loss: 7.2737e-04 - val_loss: 8.0872e-04\n",
      "Epoch 8/20\n",
      "45/45 [==============================] - 2s 37ms/step - loss: 7.5262e-04 - val_loss: 8.7967e-04\n",
      "Epoch 9/20\n",
      "45/45 [==============================] - 2s 36ms/step - loss: 7.2176e-04 - val_loss: 0.0012\n",
      "Epoch 10/20\n",
      "45/45 [==============================] - 2s 36ms/step - loss: 8.1418e-04 - val_loss: 6.9345e-04\n",
      "Epoch 11/20\n",
      "45/45 [==============================] - 2s 36ms/step - loss: 7.1417e-04 - val_loss: 0.0011\n",
      "Epoch 12/20\n",
      "45/45 [==============================] - 2s 36ms/step - loss: 7.2686e-04 - val_loss: 0.0019\n",
      "Epoch 13/20\n",
      "45/45 [==============================] - 2s 37ms/step - loss: 7.2314e-04 - val_loss: 7.0274e-04\n",
      "Epoch 14/20\n",
      "45/45 [==============================] - 2s 36ms/step - loss: 7.3524e-04 - val_loss: 0.0014\n",
      "Epoch 15/20\n",
      "45/45 [==============================] - 2s 36ms/step - loss: 7.2083e-04 - val_loss: 9.1522e-04\n",
      "Epoch 16/20\n",
      "45/45 [==============================] - 2s 36ms/step - loss: 7.3417e-04 - val_loss: 0.0011\n",
      "Epoch 17/20\n",
      "45/45 [==============================] - 2s 36ms/step - loss: 7.6585e-04 - val_loss: 8.6883e-04\n",
      "Epoch 18/20\n",
      "45/45 [==============================] - 2s 36ms/step - loss: 7.0029e-04 - val_loss: 0.0010\n",
      "Epoch 19/20\n",
      "45/45 [==============================] - 2s 37ms/step - loss: 6.9868e-04 - val_loss: 7.1726e-04\n",
      "Epoch 20/20\n",
      "45/45 [==============================] - 2s 37ms/step - loss: 6.6449e-04 - val_loss: 8.6532e-04\n",
      "BTC-USD modeli eğitildi ve kaydedildi\n",
      "Epoch 1/20\n"
     ]
    },
    {
     "name": "stderr",
     "output_type": "stream",
     "text": [
      "2024-02-06 04:09:11.329733: W tensorflow/core/grappler/costs/op_level_cost_estimator.cc:693] Error in PredictCost() for the op: op: \"Softmax\" attr { key: \"T\" value { type: DT_FLOAT } } inputs { dtype: DT_FLOAT shape { unknown_rank: true } } device { type: \"CPU\" vendor: \"GenuineIntel\" model: \"110\" frequency: 2300 num_cores: 16 environment { key: \"cpu_instruction_set\" value: \"AVX SSE, SSE2, SSE3, SSSE3, SSE4.1, SSE4.2\" } environment { key: \"eigen\" value: \"3.4.90\" } l1_cache_size: 32768 l2_cache_size: 262144 l3_cache_size: 16777216 memory_size: 268435456 } outputs { dtype: DT_FLOAT shape { unknown_rank: true } }\n"
     ]
    },
    {
     "name": "stdout",
     "output_type": "stream",
     "text": [
      "29/30 [============================>.] - ETA: 0s - loss: 0.0173"
     ]
    },
    {
     "name": "stderr",
     "output_type": "stream",
     "text": [
      "2024-02-06 04:09:13.854260: W tensorflow/core/grappler/costs/op_level_cost_estimator.cc:693] Error in PredictCost() for the op: op: \"Softmax\" attr { key: \"T\" value { type: DT_FLOAT } } inputs { dtype: DT_FLOAT shape { unknown_rank: true } } device { type: \"CPU\" vendor: \"GenuineIntel\" model: \"110\" frequency: 2300 num_cores: 16 environment { key: \"cpu_instruction_set\" value: \"AVX SSE, SSE2, SSE3, SSSE3, SSE4.1, SSE4.2\" } environment { key: \"eigen\" value: \"3.4.90\" } l1_cache_size: 32768 l2_cache_size: 262144 l3_cache_size: 16777216 memory_size: 268435456 } outputs { dtype: DT_FLOAT shape { unknown_rank: true } }\n"
     ]
    },
    {
     "name": "stdout",
     "output_type": "stream",
     "text": [
      "30/30 [==============================] - 7s 74ms/step - loss: 0.0171 - val_loss: 0.0017\n",
      "Epoch 2/20\n",
      "30/30 [==============================] - 1s 36ms/step - loss: 0.0021 - val_loss: 7.6509e-04\n",
      "Epoch 3/20\n",
      "30/30 [==============================] - 1s 36ms/step - loss: 0.0018 - val_loss: 6.2824e-04\n",
      "Epoch 4/20\n",
      "30/30 [==============================] - 1s 37ms/step - loss: 0.0017 - val_loss: 5.9704e-04\n",
      "Epoch 5/20\n",
      "30/30 [==============================] - 1s 36ms/step - loss: 0.0015 - val_loss: 4.2464e-04\n",
      "Epoch 6/20\n",
      "30/30 [==============================] - 1s 36ms/step - loss: 0.0015 - val_loss: 5.5054e-04\n",
      "Epoch 7/20\n",
      "30/30 [==============================] - 1s 36ms/step - loss: 0.0015 - val_loss: 5.0290e-04\n",
      "Epoch 8/20\n",
      "30/30 [==============================] - 1s 39ms/step - loss: 0.0015 - val_loss: 4.4203e-04\n",
      "Epoch 9/20\n",
      "30/30 [==============================] - 1s 38ms/step - loss: 0.0014 - val_loss: 3.9678e-04\n",
      "Epoch 10/20\n",
      "30/30 [==============================] - 1s 37ms/step - loss: 0.0014 - val_loss: 4.3381e-04\n",
      "Epoch 11/20\n",
      "30/30 [==============================] - 1s 36ms/step - loss: 0.0014 - val_loss: 7.6634e-04\n",
      "Epoch 12/20\n",
      "30/30 [==============================] - 1s 36ms/step - loss: 0.0016 - val_loss: 4.1971e-04\n",
      "Epoch 13/20\n",
      "30/30 [==============================] - 1s 36ms/step - loss: 0.0014 - val_loss: 3.9887e-04\n",
      "Epoch 14/20\n",
      "30/30 [==============================] - 1s 36ms/step - loss: 0.0016 - val_loss: 5.5742e-04\n",
      "Epoch 15/20\n",
      "30/30 [==============================] - 1s 36ms/step - loss: 0.0015 - val_loss: 3.9577e-04\n",
      "Epoch 16/20\n",
      "30/30 [==============================] - 1s 36ms/step - loss: 0.0013 - val_loss: 4.9797e-04\n",
      "Epoch 17/20\n",
      "30/30 [==============================] - 1s 36ms/step - loss: 0.0014 - val_loss: 8.0627e-04\n",
      "Epoch 18/20\n",
      "30/30 [==============================] - 1s 36ms/step - loss: 0.0013 - val_loss: 3.7824e-04\n",
      "Epoch 19/20\n",
      "30/30 [==============================] - 1s 38ms/step - loss: 0.0014 - val_loss: 3.9669e-04\n",
      "Epoch 20/20\n",
      "30/30 [==============================] - 1s 36ms/step - loss: 0.0013 - val_loss: 3.8630e-04\n",
      "ETH-USD modeli eğitildi ve kaydedildi\n"
     ]
    }
   ],
   "source": [
    "# her bir veri çerçevesi için kaydedli modeli yükle ve eğit\n",
    "\n",
    "\n",
    "batch_size = 60\n",
    "epochs = 20\n",
    "\n",
    "\n",
    "for i in range(len(scaled_datasets)):\n",
    "    model = tf.keras.models.load_model(f'datas/models/{tickers[i]}_model.h5', custom_objects={'Attention': Attention})\n",
    "    \n",
    "    model.compile(optimizer='adam', loss='mean_squared_error')\n",
    "    \n",
    "    model.fit(X[i], y[i],\n",
    "              batch_size=batch_size, epochs=epochs, \n",
    "              validation_split=0.2, verbose=1)\n",
    "    \n",
    "\n",
    "    # ağırlıkları kaydet \n",
    "    model.save_weights(f'datas/models/{tickers[i]}_model_weights.h5')\n",
    "    print(f'{tickers[i]} modeli eğitildi ve kaydedildi')"
   ],
   "metadata": {
    "collapsed": false,
    "ExecuteTime": {
     "end_time": "2024-02-06T01:09:34.923794Z",
     "start_time": "2024-02-06T01:08:05.631590Z"
    }
   },
   "execution_count": 12
  },
  {
   "cell_type": "code",
   "outputs": [
    {
     "data": {
      "image/png": "[encoded data removed]",
      "text/plain": "<IPython.core.display.Image object>"
     },
     "execution_count": 13,
     "metadata": {},
     "output_type": "execute_result"
    }
   ],
   "source": [
    "# modelerden bir tanesini png kaydedelim\n",
    "from tensorflow.keras.utils import plot_model\n",
    "plot_model(models[0], to_file='datas/model.png', show_shapes=True, show_layer_names=True , rankdir='TB', expand_nested=True, dpi=96, )"
   ],
   "metadata": {
    "collapsed": false,
    "ExecuteTime": {
     "end_time": "2024-02-06T01:09:35.296947Z",
     "start_time": "2024-02-06T01:09:34.908932Z"
    }
   },
   "execution_count": 13
  },
  {
   "cell_type": "code",
   "outputs": [
    {
     "name": "stdout",
     "output_type": "stream",
     "text": [
      "1/1 [==============================] - 1s 1s/step\n"
     ]
    },
    {
     "name": "stderr",
     "output_type": "stream",
     "text": [
      "2024-02-06 04:11:26.676382: W tensorflow/core/grappler/costs/op_level_cost_estimator.cc:693] Error in PredictCost() for the op: op: \"Softmax\" attr { key: \"T\" value { type: DT_FLOAT } } inputs { dtype: DT_FLOAT shape { unknown_rank: true } } device { type: \"CPU\" vendor: \"GenuineIntel\" model: \"110\" frequency: 2300 num_cores: 16 environment { key: \"cpu_instruction_set\" value: \"AVX SSE, SSE2, SSE3, SSSE3, SSE4.1, SSE4.2\" } environment { key: \"eigen\" value: \"3.4.90\" } l1_cache_size: 32768 l2_cache_size: 262144 l3_cache_size: 16777216 memory_size: 268435456 } outputs { dtype: DT_FLOAT shape { unknown_rank: true } }\n"
     ]
    },
    {
     "name": "stdout",
     "output_type": "stream",
     "text": [
      "SOL-USD verisi için prediction yapıldı ve kaydedildi\n",
      "1/1 [==============================] - 1s 1s/step\n"
     ]
    },
    {
     "name": "stderr",
     "output_type": "stream",
     "text": [
      "2024-02-06 04:11:28.390449: W tensorflow/core/grappler/costs/op_level_cost_estimator.cc:693] Error in PredictCost() for the op: op: \"Softmax\" attr { key: \"T\" value { type: DT_FLOAT } } inputs { dtype: DT_FLOAT shape { unknown_rank: true } } device { type: \"CPU\" vendor: \"GenuineIntel\" model: \"110\" frequency: 2300 num_cores: 16 environment { key: \"cpu_instruction_set\" value: \"AVX SSE, SSE2, SSE3, SSSE3, SSE4.1, SSE4.2\" } environment { key: \"eigen\" value: \"3.4.90\" } l1_cache_size: 32768 l2_cache_size: 262144 l3_cache_size: 16777216 memory_size: 268435456 } outputs { dtype: DT_FLOAT shape { unknown_rank: true } }\n"
     ]
    },
    {
     "name": "stdout",
     "output_type": "stream",
     "text": [
      "BTC-USD verisi için prediction yapıldı ve kaydedildi\n",
      "1/1 [==============================] - 1s 1s/step\n",
      "ETH-USD verisi için prediction yapıldı ve kaydedildi\n"
     ]
    },
    {
     "name": "stderr",
     "output_type": "stream",
     "text": [
      "2024-02-06 04:11:30.110031: W tensorflow/core/grappler/costs/op_level_cost_estimator.cc:693] Error in PredictCost() for the op: op: \"Softmax\" attr { key: \"T\" value { type: DT_FLOAT } } inputs { dtype: DT_FLOAT shape { unknown_rank: true } } device { type: \"CPU\" vendor: \"GenuineIntel\" model: \"110\" frequency: 2300 num_cores: 16 environment { key: \"cpu_instruction_set\" value: \"AVX SSE, SSE2, SSE3, SSSE3, SSE4.1, SSE4.2\" } environment { key: \"eigen\" value: \"3.4.90\" } l1_cache_size: 32768 l2_cache_size: 262144 l3_cache_size: 16777216 memory_size: 268435456 } outputs { dtype: DT_FLOAT shape { unknown_rank: true } }\n"
     ]
    }
   ],
   "source": [
    "# her bir veri çerçevesi için last_sequence = data_scaled[-seq_length:] mantığında prediction yap\n",
    "\n",
    "if not os.path.exists('datas/predictions'):\n",
    "    os.makedirs('datas/predictions')\n",
    "    \n",
    "predictions = []    \n",
    "\n",
    "for i in range(len(scaled_datasets)):\n",
    "    last_sequence = scaled_datasets[i][-seq_length:]\n",
    "    last_sequence = last_sequence.reshape((1, seq_length, len(features)))\n",
    "    \n",
    "    #ağırlıkları yükle\n",
    "    \n",
    "    model = tf.keras.models.load_model(f'datas/models/{tickers[i]}_model.h5', custom_objects={'Attention': Attention})\n",
    "    \n",
    "    \n",
    "    model.load_weights(f'datas/models/{tickers[i]}_model_weights.h5')\n",
    "    \n",
    "    predicted = model.predict(last_sequence)\n",
    "    \n",
    "    predictions.append(predicted)\n",
    "    np.save(f'datas/predictions/{tickers[i]}_prediction.npy', predicted)\n",
    "    print(f'{tickers[i]} verisi için prediction yapıldı ve kaydedildi')\n",
    "    "
   ],
   "metadata": {
    "collapsed": false,
    "ExecuteTime": {
     "end_time": "2024-02-06T01:11:30.248339Z",
     "start_time": "2024-02-06T01:11:24.821171Z"
    }
   },
   "execution_count": 16
  },
  {
   "cell_type": "code",
   "outputs": [
    {
     "name": "stdout",
     "output_type": "stream",
     "text": [
      "SOL-USD verisi için forecast yapıldı ve kaydedildi\n",
      "(7, 1)\n",
      "BTC-USD verisi için forecast yapıldı ve kaydedildi\n",
      "(7, 1)\n",
      "ETH-USD verisi için forecast yapıldı ve kaydedildi\n",
      "(7, 1)\n",
      "SOL-USD verisi için forecast dataframe oluşturuldu ve kaydedildi\n",
      "BTC-USD verisi için forecast dataframe oluşturuldu ve kaydedildi\n",
      "ETH-USD verisi için forecast dataframe oluşturuldu ve kaydedildi\n"
     ]
    }
   ],
   "source": [
    "# her bir veri çerçevesi için bütün sütunları predictionları geri dönüşüm yap ve yeni bi df e kaydet\n",
    "\n",
    "if not os.path.exists('datas/forecasts'):\n",
    "    os.makedirs('datas/forecasts')\n",
    "    \n",
    "forecasts = []\n",
    "\n",
    "for i in range(len(scaled_datasets)):\n",
    "    prediction = np.load(f'datas/predictions/{tickers[i]}_prediction.npy')\n",
    "    \n",
    "    #prediction = predictions[i]\n",
    "    \n",
    "    prediction = scaler.inverse_transform(prediction.reshape(-1, len(features) ))\n",
    "    forecasts.append(prediction)\n",
    "    np.save(f'datas/forecasts/{tickers[i]}_forecast.npy', prediction)\n",
    "    print(f'{tickers[i]} verisi için forecast yapıldı ve kaydedildi')\n",
    "    print(forecasts[i].shape)\n",
    "    \n",
    "# dataframe oluştur\n",
    "\n",
    "for i in range(len(forecasts)):\n",
    "    \n",
    "    \n",
    "    forecast = forecasts[i]\n",
    "    forecast_dates = datasets[i].index[-pred_length:]\n",
    "    forecast = pd.DataFrame(forecast, index=forecast_dates, columns=features)\n",
    "    forecast.to_csv(f'datas/forecasts/{tickers[i]}_forecast.csv')\n",
    "    print(f'{tickers[i]} verisi için forecast dataframe oluşturuldu ve kaydedildi')\n",
    "\n",
    "\n",
    "    "
   ],
   "metadata": {
    "collapsed": false,
    "ExecuteTime": {
     "end_time": "2024-02-06T01:11:36.144126Z",
     "start_time": "2024-02-06T01:11:36.120516Z"
    }
   },
   "execution_count": 17
  },
  {
   "cell_type": "code",
   "outputs": [
    {
     "name": "stdout",
     "output_type": "stream",
     "text": [
      "SOL-USD verisi için forecast dataframe\n",
      "                Close\n",
      "Date                 \n",
      "2024-01-30  1791.1140\n",
      "2024-01-31  1849.2251\n",
      "2024-02-01  1857.5443\n",
      "2024-02-02  1850.7506\n",
      "2024-02-03  1843.9037\n",
      "2024-02-04  1842.5568\n",
      "2024-02-06  1847.7781\n",
      "BTC-USD verisi için forecast dataframe\n",
      "                Close\n",
      "Date                 \n",
      "2024-01-30  3118.9683\n",
      "2024-01-31  3170.3738\n",
      "2024-02-01  3168.1150\n",
      "2024-02-02  3158.6433\n",
      "2024-02-03  3157.0261\n",
      "2024-02-04  3165.9846\n",
      "2024-02-06  3183.8047\n",
      "ETH-USD verisi için forecast dataframe\n",
      "                Close\n",
      "Date                 \n",
      "2024-01-30  2244.4014\n",
      "2024-01-31  2294.5054\n",
      "2024-02-01  2293.2842\n",
      "2024-02-02  2281.4270\n",
      "2024-02-03  2273.9736\n",
      "2024-02-04  2274.9902\n",
      "2024-02-06  2284.0452\n"
     ]
    }
   ],
   "source": [
    "#dataframeleri bi yazdır tarihleri ile\n",
    "\n",
    "for i in range(len(forecasts)):\n",
    "    forecast = pd.read_csv(f'datas/forecasts/{tickers[i]}_forecast.csv', index_col=0)\n",
    "    print(f'{tickers[i]} verisi için forecast dataframe')\n",
    "    print(forecast)"
   ],
   "metadata": {
    "collapsed": false,
    "ExecuteTime": {
     "end_time": "2024-02-06T01:11:38.098472Z",
     "start_time": "2024-02-06T01:11:38.080878Z"
    }
   },
   "execution_count": 18
  },
  {
   "cell_type": "code",
   "outputs": [],
   "source": [
    "# Gerçek veriyi yazdır aynı tarihteki \n",
    "\n",
    "for i in range(len(datasets)):\n",
    "    print(f'{tickers[i]} verisi için gerçek veri')\n",
    "    print(datasets[i].tail(pred_length))\n"
   ],
   "metadata": {
    "collapsed": false,
    "ExecuteTime": {
     "start_time": "2024-02-06T01:09:36.196190Z"
    }
   },
   "execution_count": null
  },
  {
   "cell_type": "markdown",
   "source": [
    "## 2. Kısım"
   ],
   "metadata": {
    "collapsed": false
   }
  },
  {
   "cell_type": "code",
   "outputs": [],
   "source": [
    "# her bir veri çerçevesi için eğitime uygun full data hazırla (tensor dataset)\n",
    "\n",
    "if not os.path.exists('datas/full_data'):\n",
    "    os.makedirs('datas/full_data')\n",
    "    \n",
    "full_data = []\n",
    "\n",
    "for i in range(len(scaled_datasets)):\n",
    "    \n",
    "    scaled_dataset_all = np.load(f'datas/scaled_datasets/{tickers[i]}.npy')\n",
    "    \n",
    "    #scaled_dataset_all = scaled_datasets[i].reshape(-1, len(features))\n",
    "    \n",
    "    scaled_dataset_all = tf.data.Dataset.from_tensor_slices(scaled_dataset_all)\n",
    "    \n",
    "    scaled_dataset_all = tf.data.Dataset.zip((scaled_dataset_all, scaled_dataset_all.skip(seq_length)))\n",
    "    \n",
    "    full_data.append(scaled_dataset_all)\n",
    "    \n",
    "    full_data[i] = full_data[i].batch(batch_size, drop_remainder=True).prefetch(1)\n",
    "    \n",
    "    full_data[i] = full_data[i].cache(f'datas/full_data/{tickers[i]}_full_data')\n",
    "\n",
    "    print(f'{tickers[i]} verisi için full data hazırlandı')\n",
    "    \n",
    "    \n",
    "    "
   ],
   "metadata": {
    "collapsed": false,
    "ExecuteTime": {
     "start_time": "2024-02-06T01:09:36.198210Z"
    }
   },
   "execution_count": null
  },
  {
   "cell_type": "code",
   "outputs": [],
   "source": [
    "# her bir veri çerçevesi için modeli import et ve eğit\n",
    "\n",
    "for i in range(len(scaled_datasets)):\n",
    "    model = tf.keras.models.load_model(f'datas/models/{tickers[i]}_model.h5', custom_objects={'Attention': Attention})\n",
    "    \n",
    "    model.compile(optimizer='adam', loss='mean_squared_error')\n",
    "    \n",
    "    model.fit(full_data[i], epochs=epochs, verbose=1)\n",
    "    \n",
    "    model.save(f'datas/models/{tickers[i]}_model.h5')\n",
    "    \n",
    "    print(f'{tickers[i]} modeli eğitildi ve kaydedildi')\n",
    "    "
   ],
   "metadata": {
    "collapsed": false,
    "ExecuteTime": {
     "start_time": "2024-02-06T01:09:36.200288Z"
    }
   },
   "execution_count": null
  },
  {
   "cell_type": "code",
   "outputs": [],
   "source": [
    "into_future = 1\n",
    "\n",
    "def future_forecast(model, data, into_future):\n",
    "    future_forecast = []\n",
    "    last_sequence = data[-seq_length:]\n",
    "    last_sequence = last_sequence.reshape((1, seq_length, len(features)))\n",
    "    for i in range(into_future):\n",
    "        predicted = model.predict(last_sequence)\n",
    "        future_forecast.append(predicted)\n",
    "        last_sequence = np.append(last_sequence, predicted)\n",
    "        last_sequence = last_sequence[-seq_length:]\n",
    "        last_sequence = last_sequence.reshape((1, seq_length, len(features)))\n",
    "    return future_forecast\n"
   ],
   "metadata": {
    "collapsed": false,
    "ExecuteTime": {
     "start_time": "2024-02-06T01:09:36.203370Z"
    }
   },
   "execution_count": null
  },
  {
   "cell_type": "code",
   "outputs": [],
   "source": [
    "print( into_future , seq_length,)"
   ],
   "metadata": {
    "collapsed": false,
    "ExecuteTime": {
     "start_time": "2024-02-06T01:09:36.206493Z"
    }
   },
   "execution_count": null
  },
  {
   "cell_type": "markdown",
   "source": [],
   "metadata": {
    "collapsed": false
   }
  },
  {
   "cell_type": "code",
   "outputs": [],
   "source": [
    "future_values = []\n",
    "\n",
    "if not os.path.exists('datas/future_values'):\n",
    "    os.makedirs('datas/future_values')\n",
    "\n",
    "for i in range(len(scaled_datasets)):\n",
    "    future_values.append(future_forecast(models[i], scaled_datasets[i], into_future))\n",
    "    np.save(f'datas/future_values/{tickers[i]}_future_values.npy', future_values[i])\n",
    "    print(f'{tickers[i]} verisi için future values yapıldı ve kaydedildi')\n",
    "    "
   ],
   "metadata": {
    "collapsed": false,
    "ExecuteTime": {
     "start_time": "2024-02-06T01:09:36.208893Z"
    }
   },
   "execution_count": null
  },
  {
   "cell_type": "code",
   "outputs": [],
   "source": [
    "# her bir veri çerçevesi için future valuesları geri dönüşüm yap ve yeni bi df e kaydet\n",
    "\n",
    "if not os.path.exists('datas/future_forecasts'):\n",
    "    os.makedirs('datas/future_forecasts')\n",
    "    \n",
    "future_forecasts = []\n",
    "\n",
    "for i in range(len(scaled_datasets)):\n",
    "    \n",
    "    #np array olarak future values al\n",
    "    future_value = np.load(f'datas/future_values/{tickers[i]}_future_values.npy')\n",
    "    future_value = scaler.inverse_transform(future_value.reshape(-1, 1))\n",
    "    future_forecasts.append(future_value)\n",
    "    np.save(f'datas/future_forecasts/{tickers[i]}_future_forecast.npy', future_value)\n",
    "    print(f'{tickers[i]} verisi için future forecast yapıldı ve kaydedildi')\n",
    "    print(future_forecasts[i].shape)"
   ],
   "metadata": {
    "collapsed": false,
    "ExecuteTime": {
     "start_time": "2024-02-06T01:09:36.211065Z"
    }
   },
   "execution_count": null
  },
  {
   "cell_type": "code",
   "outputs": [],
   "source": [
    "print(future_forecasts[0])"
   ],
   "metadata": {
    "collapsed": false,
    "ExecuteTime": {
     "end_time": "2024-02-06T01:09:36.215508Z",
     "start_time": "2024-02-06T01:09:36.212664Z"
    }
   },
   "execution_count": null
  },
  {
   "cell_type": "code",
   "outputs": [],
   "source": [
    "print(into_future) "
   ],
   "metadata": {
    "collapsed": false,
    "ExecuteTime": {
     "start_time": "2024-02-06T01:09:36.214487Z"
    }
   },
   "execution_count": null
  },
  {
   "cell_type": "code",
   "outputs": [],
   "source": [
    "\n",
    "# dataframe oluştur\n",
    "\n",
    "if not os.path.exists('datas/future_forecasts_df'):\n",
    "    os.makedirs('datas/future_forecasts_df')\n",
    "\n",
    "hafta = (into_future*7) + 1\n",
    "\n",
    "for i in range(len(future_forecasts)):\n",
    "    future_forecast = future_forecasts[i]\n",
    "    future_forecast_dates = pd.date_range(start=datasets[i].index[-1], periods=hafta)[1:]\n",
    "    future_forecast = pd.DataFrame(future_forecast, index=future_forecast_dates, columns=features)\n",
    "    future_forecast.to_csv(f'datas/future_forecasts_df/{tickers[i]}_future_forecast.csv')\n",
    "    print(f'{tickers[i]} verisi için future forecast dataframe oluşturuldu ve kaydedildi')"
   ],
   "metadata": {
    "collapsed": false,
    "ExecuteTime": {
     "end_time": "2024-02-06T01:09:36.216538Z",
     "start_time": "2024-02-06T01:09:36.216254Z"
    }
   },
   "execution_count": null
  },
  {
   "cell_type": "code",
   "outputs": [],
   "source": [
    "# forecast dataframe leri göster\n",
    "\n",
    "\n",
    "for i in range(len(future_forecasts)):\n",
    "    future_forecast = pd.read_csv(f'datas/future_forecasts_df/{tickers[i]}_future_forecast.csv', index_col=0)\n",
    "    print(f'{tickers[i]} verisi için future forecast dataframe')\n",
    "    print(future_forecast)"
   ],
   "metadata": {
    "collapsed": false,
    "ExecuteTime": {
     "end_time": "2024-02-06T01:09:36.224564Z",
     "start_time": "2024-02-06T01:09:36.218180Z"
    }
   },
   "execution_count": null
  },
  {
   "cell_type": "code",
   "outputs": [],
   "source": [],
   "metadata": {
    "collapsed": false,
    "ExecuteTime": {
     "start_time": "2024-02-06T01:09:36.220148Z"
    }
   },
   "execution_count": null
  }
 ],
 "metadata": {
  "kernelspec": {
   "display_name": "all",
   "language": "python",
   "name": "python3"
  },
  "language_info": {
   "codemirror_mode": {
    "name": "ipython",
    "version": 3
   },
   "file_extension": ".py",
   "mimetype": "text/x-python",
   "name": "python",
   "nbconvert_exporter": "python",
   "pygments_lexer": "ipython3",
   "version": "3.6.13"
  }
 },
 "nbformat": 4,
 "nbformat_minor": 2
}
