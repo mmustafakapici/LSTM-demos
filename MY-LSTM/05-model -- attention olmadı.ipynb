{
 "cells": [
  {
   "cell_type": "code",
   "execution_count": 16,
   "metadata": {
    "ExecuteTime": {
     "end_time": "2024-02-03T18:06:54.119407Z",
     "start_time": "2024-02-03T18:06:54.106280Z"
    }
   },
   "outputs": [],
   "source": [
    "\n",
    "# yeni hali \n",
    "\n",
    "import numpy as np\n",
    "import pandas as pd \n",
    "import matplotlib.pyplot as plt\n",
    "\n",
    "import os\n",
    "\n",
    "import tensorflow as tf\n",
    "\n",
    "from tensorflow.keras.models import Sequential \n",
    "from tensorflow.keras.layers import LSTM , Dense, Dropout, Activation, Flatten, BatchNormalization \n",
    "from tensorflow.keras.layers import TimeDistributed , RepeatVector , Attention\n"
   ]
  },
  {
   "cell_type": "code",
   "execution_count": 17,
   "metadata": {
    "ExecuteTime": {
     "end_time": "2024-02-03T18:06:54.129693Z",
     "start_time": "2024-02-03T18:06:54.123123Z"
    }
   },
   "outputs": [],
   "source": [
    "import yfinance as yf"
   ]
  },
  {
   "cell_type": "code",
   "outputs": [],
   "source": [
    "\n",
    "if os.path.exists('datas'):\n",
    "    #sil\n",
    "    os.system('rm -rf datas')"
   ],
   "metadata": {
    "collapsed": false,
    "ExecuteTime": {
     "end_time": "2024-02-03T18:06:54.158074Z",
     "start_time": "2024-02-03T18:06:54.133699Z"
    }
   },
   "execution_count": 18
  },
  {
   "cell_type": "code",
   "execution_count": 19,
   "metadata": {
    "ExecuteTime": {
     "end_time": "2024-02-03T18:06:54.160039Z",
     "start_time": "2024-02-03T18:06:54.150273Z"
    }
   },
   "outputs": [],
   "source": [
    "period = '3000d'\n",
    "\n",
    "#tickers = ['AAPL', 'MSFT', 'AMZN', 'GOOG', 'GOOGL', 'TSLA', 'NVDA', 'PYPL', 'ADBE','BTC-USD', 'ETH-USD', 'XRP-USD', 'LTC-USD','BCH-USD', 'BNB-USD', 'LINK-USD', 'ADA-USD', 'XLM-USD', 'SOL-USD', 'TRX-USD']\n",
    "\n",
    "tickers = ['SOL-USD']\n"
   ]
  },
  {
   "cell_type": "code",
   "execution_count": 20,
   "metadata": {
    "ExecuteTime": {
     "end_time": "2024-02-03T18:06:54.162659Z",
     "start_time": "2024-02-03T18:06:54.155451Z"
    }
   },
   "outputs": [],
   "source": [
    "def indir_ve_df_olustur(tickers, period):\n",
    "    # Her bir hisse senedi için boş bir sözlük oluşturun\n",
    "    pariteler = {}\n",
    "\n",
    "    # Her bir hisse senedi için döngü oluşturun ve verileri indirin\n",
    "    for ticker in tickers:\n",
    "        try:\n",
    "            # Hisse senedi verilerini indirin\n",
    "            veri = yf.download(ticker, period=period)\n",
    "            \n",
    "            # Veriyi sözlüğe ekleyin\n",
    "            pariteler[ticker] = veri\n",
    "        except Exception as e:\n",
    "            print(f\"{ticker} için veri indirilirken bir hata oluştu: {str(e)}\")\n",
    "\n",
    "    # Her bir hisse senedi için ayrı bir veri çerçevesi oluşturun\n",
    "    df_listesi = [veri for veri in pariteler.values()]\n",
    "\n",
    "    return df_listesi"
   ]
  },
  {
   "cell_type": "code",
   "execution_count": 21,
   "metadata": {
    "ExecuteTime": {
     "end_time": "2024-02-03T18:06:54.175626Z",
     "start_time": "2024-02-03T18:06:54.161014Z"
    }
   },
   "outputs": [],
   "source": [
    "#pariteler adında klasör oluştur :\n",
    "\n",
    "\n",
    "if not os.path.exists('datas/pariteler'):\n",
    "    os.makedirs('datas/pariteler')\n",
    "\n"
   ]
  },
  {
   "cell_type": "code",
   "execution_count": 22,
   "metadata": {
    "ExecuteTime": {
     "end_time": "2024-02-03T18:06:54.622536Z",
     "start_time": "2024-02-03T18:06:54.166851Z"
    }
   },
   "outputs": [
    {
     "name": "stdout",
     "output_type": "stream",
     "text": [
      "[*********************100%%**********************]  1 of 1 completed\n"
     ]
    }
   ],
   "source": [
    "datasets = indir_ve_df_olustur(tickers, period)\n",
    "\n",
    "#pariteler içine kaydet \n",
    "\n",
    "for i in range(len(datasets)):\n",
    "    datasets[i].to_csv(f'datas/pariteler/{tickers[i]}.csv')\n",
    "    #print(f'{tickers[i]} verisi csv olarak kaydedildi')\n"
   ]
  },
  {
   "cell_type": "code",
   "execution_count": 23,
   "metadata": {
    "ExecuteTime": {
     "end_time": "2024-02-03T18:06:55.051861Z",
     "start_time": "2024-02-03T18:06:54.622701Z"
    }
   },
   "outputs": [
    {
     "name": "stderr",
     "output_type": "stream",
     "text": [
      "/var/folders/w9/3z_zbj956tj44glgzg44rgbr0000gn/T/ipykernel_51918/1521282515.py:11: PerformanceWarning: DataFrame is highly fragmented.  This is usually the result of calling `frame.insert` many times, which has poor performance.  Consider joining all columns at once using pd.concat(axis=1) instead. To get a de-fragmented frame, use `newframe = frame.copy()`\n",
      "  df[f'Önceki_{i}_Düşük'] = df['Low'].shift(i)\n",
      "/var/folders/w9/3z_zbj956tj44glgzg44rgbr0000gn/T/ipykernel_51918/1521282515.py:12: PerformanceWarning: DataFrame is highly fragmented.  This is usually the result of calling `frame.insert` many times, which has poor performance.  Consider joining all columns at once using pd.concat(axis=1) instead. To get a de-fragmented frame, use `newframe = frame.copy()`\n",
      "  df[f'Önceki_{i}_Kapanış'] = df['Close'].shift(i)\n",
      "/var/folders/w9/3z_zbj956tj44glgzg44rgbr0000gn/T/ipykernel_51918/1521282515.py:13: PerformanceWarning: DataFrame is highly fragmented.  This is usually the result of calling `frame.insert` many times, which has poor performance.  Consider joining all columns at once using pd.concat(axis=1) instead. To get a de-fragmented frame, use `newframe = frame.copy()`\n",
      "  df[f'Önceki_{i}_Adj'] = df['Adj Close'].shift(i)\n",
      "/var/folders/w9/3z_zbj956tj44glgzg44rgbr0000gn/T/ipykernel_51918/1521282515.py:14: PerformanceWarning: DataFrame is highly fragmented.  This is usually the result of calling `frame.insert` many times, which has poor performance.  Consider joining all columns at once using pd.concat(axis=1) instead. To get a de-fragmented frame, use `newframe = frame.copy()`\n",
      "  df[f'Önceki_{i}_Hacim'] = df['Volume'].shift(i)\n",
      "/var/folders/w9/3z_zbj956tj44glgzg44rgbr0000gn/T/ipykernel_51918/1521282515.py:9: PerformanceWarning: DataFrame is highly fragmented.  This is usually the result of calling `frame.insert` many times, which has poor performance.  Consider joining all columns at once using pd.concat(axis=1) instead. To get a de-fragmented frame, use `newframe = frame.copy()`\n",
      "  df[f'Önceki_{i}_Açılış'] = df['Open'].shift(i)\n",
      "/var/folders/w9/3z_zbj956tj44glgzg44rgbr0000gn/T/ipykernel_51918/1521282515.py:10: PerformanceWarning: DataFrame is highly fragmented.  This is usually the result of calling `frame.insert` many times, which has poor performance.  Consider joining all columns at once using pd.concat(axis=1) instead. To get a de-fragmented frame, use `newframe = frame.copy()`\n",
      "  df[f'Önceki_{i}_Yüksek'] = df['High'].shift(i)\n",
      "/var/folders/w9/3z_zbj956tj44glgzg44rgbr0000gn/T/ipykernel_51918/1521282515.py:11: PerformanceWarning: DataFrame is highly fragmented.  This is usually the result of calling `frame.insert` many times, which has poor performance.  Consider joining all columns at once using pd.concat(axis=1) instead. To get a de-fragmented frame, use `newframe = frame.copy()`\n",
      "  df[f'Önceki_{i}_Düşük'] = df['Low'].shift(i)\n",
      "/var/folders/w9/3z_zbj956tj44glgzg44rgbr0000gn/T/ipykernel_51918/1521282515.py:12: PerformanceWarning: DataFrame is highly fragmented.  This is usually the result of calling `frame.insert` many times, which has poor performance.  Consider joining all columns at once using pd.concat(axis=1) instead. To get a de-fragmented frame, use `newframe = frame.copy()`\n",
      "  df[f'Önceki_{i}_Kapanış'] = df['Close'].shift(i)\n",
      "/var/folders/w9/3z_zbj956tj44glgzg44rgbr0000gn/T/ipykernel_51918/1521282515.py:13: PerformanceWarning: DataFrame is highly fragmented.  This is usually the result of calling `frame.insert` many times, which has poor performance.  Consider joining all columns at once using pd.concat(axis=1) instead. To get a de-fragmented frame, use `newframe = frame.copy()`\n",
      "  df[f'Önceki_{i}_Adj'] = df['Adj Close'].shift(i)\n",
      "/var/folders/w9/3z_zbj956tj44glgzg44rgbr0000gn/T/ipykernel_51918/1521282515.py:14: PerformanceWarning: DataFrame is highly fragmented.  This is usually the result of calling `frame.insert` many times, which has poor performance.  Consider joining all columns at once using pd.concat(axis=1) instead. To get a de-fragmented frame, use `newframe = frame.copy()`\n",
      "  df[f'Önceki_{i}_Hacim'] = df['Volume'].shift(i)\n",
      "/var/folders/w9/3z_zbj956tj44glgzg44rgbr0000gn/T/ipykernel_51918/1521282515.py:9: PerformanceWarning: DataFrame is highly fragmented.  This is usually the result of calling `frame.insert` many times, which has poor performance.  Consider joining all columns at once using pd.concat(axis=1) instead. To get a de-fragmented frame, use `newframe = frame.copy()`\n",
      "  df[f'Önceki_{i}_Açılış'] = df['Open'].shift(i)\n",
      "/var/folders/w9/3z_zbj956tj44glgzg44rgbr0000gn/T/ipykernel_51918/1521282515.py:10: PerformanceWarning: DataFrame is highly fragmented.  This is usually the result of calling `frame.insert` many times, which has poor performance.  Consider joining all columns at once using pd.concat(axis=1) instead. To get a de-fragmented frame, use `newframe = frame.copy()`\n",
      "  df[f'Önceki_{i}_Yüksek'] = df['High'].shift(i)\n",
      "/var/folders/w9/3z_zbj956tj44glgzg44rgbr0000gn/T/ipykernel_51918/1521282515.py:11: PerformanceWarning: DataFrame is highly fragmented.  This is usually the result of calling `frame.insert` many times, which has poor performance.  Consider joining all columns at once using pd.concat(axis=1) instead. To get a de-fragmented frame, use `newframe = frame.copy()`\n",
      "  df[f'Önceki_{i}_Düşük'] = df['Low'].shift(i)\n",
      "/var/folders/w9/3z_zbj956tj44glgzg44rgbr0000gn/T/ipykernel_51918/1521282515.py:12: PerformanceWarning: DataFrame is highly fragmented.  This is usually the result of calling `frame.insert` many times, which has poor performance.  Consider joining all columns at once using pd.concat(axis=1) instead. To get a de-fragmented frame, use `newframe = frame.copy()`\n",
      "  df[f'Önceki_{i}_Kapanış'] = df['Close'].shift(i)\n",
      "/var/folders/w9/3z_zbj956tj44glgzg44rgbr0000gn/T/ipykernel_51918/1521282515.py:13: PerformanceWarning: DataFrame is highly fragmented.  This is usually the result of calling `frame.insert` many times, which has poor performance.  Consider joining all columns at once using pd.concat(axis=1) instead. To get a de-fragmented frame, use `newframe = frame.copy()`\n",
      "  df[f'Önceki_{i}_Adj'] = df['Adj Close'].shift(i)\n",
      "/var/folders/w9/3z_zbj956tj44glgzg44rgbr0000gn/T/ipykernel_51918/1521282515.py:14: PerformanceWarning: DataFrame is highly fragmented.  This is usually the result of calling `frame.insert` many times, which has poor performance.  Consider joining all columns at once using pd.concat(axis=1) instead. To get a de-fragmented frame, use `newframe = frame.copy()`\n",
      "  df[f'Önceki_{i}_Hacim'] = df['Volume'].shift(i)\n",
      "/var/folders/w9/3z_zbj956tj44glgzg44rgbr0000gn/T/ipykernel_51918/1521282515.py:9: PerformanceWarning: DataFrame is highly fragmented.  This is usually the result of calling `frame.insert` many times, which has poor performance.  Consider joining all columns at once using pd.concat(axis=1) instead. To get a de-fragmented frame, use `newframe = frame.copy()`\n",
      "  df[f'Önceki_{i}_Açılış'] = df['Open'].shift(i)\n",
      "/var/folders/w9/3z_zbj956tj44glgzg44rgbr0000gn/T/ipykernel_51918/1521282515.py:10: PerformanceWarning: DataFrame is highly fragmented.  This is usually the result of calling `frame.insert` many times, which has poor performance.  Consider joining all columns at once using pd.concat(axis=1) instead. To get a de-fragmented frame, use `newframe = frame.copy()`\n",
      "  df[f'Önceki_{i}_Yüksek'] = df['High'].shift(i)\n",
      "/var/folders/w9/3z_zbj956tj44glgzg44rgbr0000gn/T/ipykernel_51918/1521282515.py:11: PerformanceWarning: DataFrame is highly fragmented.  This is usually the result of calling `frame.insert` many times, which has poor performance.  Consider joining all columns at once using pd.concat(axis=1) instead. To get a de-fragmented frame, use `newframe = frame.copy()`\n",
      "  df[f'Önceki_{i}_Düşük'] = df['Low'].shift(i)\n",
      "/var/folders/w9/3z_zbj956tj44glgzg44rgbr0000gn/T/ipykernel_51918/1521282515.py:12: PerformanceWarning: DataFrame is highly fragmented.  This is usually the result of calling `frame.insert` many times, which has poor performance.  Consider joining all columns at once using pd.concat(axis=1) instead. To get a de-fragmented frame, use `newframe = frame.copy()`\n",
      "  df[f'Önceki_{i}_Kapanış'] = df['Close'].shift(i)\n",
      "/var/folders/w9/3z_zbj956tj44glgzg44rgbr0000gn/T/ipykernel_51918/1521282515.py:13: PerformanceWarning: DataFrame is highly fragmented.  This is usually the result of calling `frame.insert` many times, which has poor performance.  Consider joining all columns at once using pd.concat(axis=1) instead. To get a de-fragmented frame, use `newframe = frame.copy()`\n",
      "  df[f'Önceki_{i}_Adj'] = df['Adj Close'].shift(i)\n",
      "/var/folders/w9/3z_zbj956tj44glgzg44rgbr0000gn/T/ipykernel_51918/1521282515.py:14: PerformanceWarning: DataFrame is highly fragmented.  This is usually the result of calling `frame.insert` many times, which has poor performance.  Consider joining all columns at once using pd.concat(axis=1) instead. To get a de-fragmented frame, use `newframe = frame.copy()`\n",
      "  df[f'Önceki_{i}_Hacim'] = df['Volume'].shift(i)\n",
      "/var/folders/w9/3z_zbj956tj44glgzg44rgbr0000gn/T/ipykernel_51918/1521282515.py:9: PerformanceWarning: DataFrame is highly fragmented.  This is usually the result of calling `frame.insert` many times, which has poor performance.  Consider joining all columns at once using pd.concat(axis=1) instead. To get a de-fragmented frame, use `newframe = frame.copy()`\n",
      "  df[f'Önceki_{i}_Açılış'] = df['Open'].shift(i)\n",
      "/var/folders/w9/3z_zbj956tj44glgzg44rgbr0000gn/T/ipykernel_51918/1521282515.py:10: PerformanceWarning: DataFrame is highly fragmented.  This is usually the result of calling `frame.insert` many times, which has poor performance.  Consider joining all columns at once using pd.concat(axis=1) instead. To get a de-fragmented frame, use `newframe = frame.copy()`\n",
      "  df[f'Önceki_{i}_Yüksek'] = df['High'].shift(i)\n",
      "/var/folders/w9/3z_zbj956tj44glgzg44rgbr0000gn/T/ipykernel_51918/1521282515.py:11: PerformanceWarning: DataFrame is highly fragmented.  This is usually the result of calling `frame.insert` many times, which has poor performance.  Consider joining all columns at once using pd.concat(axis=1) instead. To get a de-fragmented frame, use `newframe = frame.copy()`\n",
      "  df[f'Önceki_{i}_Düşük'] = df['Low'].shift(i)\n",
      "/var/folders/w9/3z_zbj956tj44glgzg44rgbr0000gn/T/ipykernel_51918/1521282515.py:12: PerformanceWarning: DataFrame is highly fragmented.  This is usually the result of calling `frame.insert` many times, which has poor performance.  Consider joining all columns at once using pd.concat(axis=1) instead. To get a de-fragmented frame, use `newframe = frame.copy()`\n",
      "  df[f'Önceki_{i}_Kapanış'] = df['Close'].shift(i)\n",
      "/var/folders/w9/3z_zbj956tj44glgzg44rgbr0000gn/T/ipykernel_51918/1521282515.py:13: PerformanceWarning: DataFrame is highly fragmented.  This is usually the result of calling `frame.insert` many times, which has poor performance.  Consider joining all columns at once using pd.concat(axis=1) instead. To get a de-fragmented frame, use `newframe = frame.copy()`\n",
      "  df[f'Önceki_{i}_Adj'] = df['Adj Close'].shift(i)\n",
      "/var/folders/w9/3z_zbj956tj44glgzg44rgbr0000gn/T/ipykernel_51918/1521282515.py:14: PerformanceWarning: DataFrame is highly fragmented.  This is usually the result of calling `frame.insert` many times, which has poor performance.  Consider joining all columns at once using pd.concat(axis=1) instead. To get a de-fragmented frame, use `newframe = frame.copy()`\n",
      "  df[f'Önceki_{i}_Hacim'] = df['Volume'].shift(i)\n",
      "/var/folders/w9/3z_zbj956tj44glgzg44rgbr0000gn/T/ipykernel_51918/1521282515.py:9: PerformanceWarning: DataFrame is highly fragmented.  This is usually the result of calling `frame.insert` many times, which has poor performance.  Consider joining all columns at once using pd.concat(axis=1) instead. To get a de-fragmented frame, use `newframe = frame.copy()`\n",
      "  df[f'Önceki_{i}_Açılış'] = df['Open'].shift(i)\n",
      "/var/folders/w9/3z_zbj956tj44glgzg44rgbr0000gn/T/ipykernel_51918/1521282515.py:10: PerformanceWarning: DataFrame is highly fragmented.  This is usually the result of calling `frame.insert` many times, which has poor performance.  Consider joining all columns at once using pd.concat(axis=1) instead. To get a de-fragmented frame, use `newframe = frame.copy()`\n",
      "  df[f'Önceki_{i}_Yüksek'] = df['High'].shift(i)\n",
      "/var/folders/w9/3z_zbj956tj44glgzg44rgbr0000gn/T/ipykernel_51918/1521282515.py:11: PerformanceWarning: DataFrame is highly fragmented.  This is usually the result of calling `frame.insert` many times, which has poor performance.  Consider joining all columns at once using pd.concat(axis=1) instead. To get a de-fragmented frame, use `newframe = frame.copy()`\n",
      "  df[f'Önceki_{i}_Düşük'] = df['Low'].shift(i)\n",
      "/var/folders/w9/3z_zbj956tj44glgzg44rgbr0000gn/T/ipykernel_51918/1521282515.py:12: PerformanceWarning: DataFrame is highly fragmented.  This is usually the result of calling `frame.insert` many times, which has poor performance.  Consider joining all columns at once using pd.concat(axis=1) instead. To get a de-fragmented frame, use `newframe = frame.copy()`\n",
      "  df[f'Önceki_{i}_Kapanış'] = df['Close'].shift(i)\n",
      "/var/folders/w9/3z_zbj956tj44glgzg44rgbr0000gn/T/ipykernel_51918/1521282515.py:13: PerformanceWarning: DataFrame is highly fragmented.  This is usually the result of calling `frame.insert` many times, which has poor performance.  Consider joining all columns at once using pd.concat(axis=1) instead. To get a de-fragmented frame, use `newframe = frame.copy()`\n",
      "  df[f'Önceki_{i}_Adj'] = df['Adj Close'].shift(i)\n",
      "/var/folders/w9/3z_zbj956tj44glgzg44rgbr0000gn/T/ipykernel_51918/1521282515.py:14: PerformanceWarning: DataFrame is highly fragmented.  This is usually the result of calling `frame.insert` many times, which has poor performance.  Consider joining all columns at once using pd.concat(axis=1) instead. To get a de-fragmented frame, use `newframe = frame.copy()`\n",
      "  df[f'Önceki_{i}_Hacim'] = df['Volume'].shift(i)\n",
      "/var/folders/w9/3z_zbj956tj44glgzg44rgbr0000gn/T/ipykernel_51918/1521282515.py:9: PerformanceWarning: DataFrame is highly fragmented.  This is usually the result of calling `frame.insert` many times, which has poor performance.  Consider joining all columns at once using pd.concat(axis=1) instead. To get a de-fragmented frame, use `newframe = frame.copy()`\n",
      "  df[f'Önceki_{i}_Açılış'] = df['Open'].shift(i)\n",
      "/var/folders/w9/3z_zbj956tj44glgzg44rgbr0000gn/T/ipykernel_51918/1521282515.py:10: PerformanceWarning: DataFrame is highly fragmented.  This is usually the result of calling `frame.insert` many times, which has poor performance.  Consider joining all columns at once using pd.concat(axis=1) instead. To get a de-fragmented frame, use `newframe = frame.copy()`\n",
      "  df[f'Önceki_{i}_Yüksek'] = df['High'].shift(i)\n",
      "/var/folders/w9/3z_zbj956tj44glgzg44rgbr0000gn/T/ipykernel_51918/1521282515.py:11: PerformanceWarning: DataFrame is highly fragmented.  This is usually the result of calling `frame.insert` many times, which has poor performance.  Consider joining all columns at once using pd.concat(axis=1) instead. To get a de-fragmented frame, use `newframe = frame.copy()`\n",
      "  df[f'Önceki_{i}_Düşük'] = df['Low'].shift(i)\n",
      "/var/folders/w9/3z_zbj956tj44glgzg44rgbr0000gn/T/ipykernel_51918/1521282515.py:12: PerformanceWarning: DataFrame is highly fragmented.  This is usually the result of calling `frame.insert` many times, which has poor performance.  Consider joining all columns at once using pd.concat(axis=1) instead. To get a de-fragmented frame, use `newframe = frame.copy()`\n",
      "  df[f'Önceki_{i}_Kapanış'] = df['Close'].shift(i)\n",
      "/var/folders/w9/3z_zbj956tj44glgzg44rgbr0000gn/T/ipykernel_51918/1521282515.py:13: PerformanceWarning: DataFrame is highly fragmented.  This is usually the result of calling `frame.insert` many times, which has poor performance.  Consider joining all columns at once using pd.concat(axis=1) instead. To get a de-fragmented frame, use `newframe = frame.copy()`\n",
      "  df[f'Önceki_{i}_Adj'] = df['Adj Close'].shift(i)\n",
      "/var/folders/w9/3z_zbj956tj44glgzg44rgbr0000gn/T/ipykernel_51918/1521282515.py:14: PerformanceWarning: DataFrame is highly fragmented.  This is usually the result of calling `frame.insert` many times, which has poor performance.  Consider joining all columns at once using pd.concat(axis=1) instead. To get a de-fragmented frame, use `newframe = frame.copy()`\n",
      "  df[f'Önceki_{i}_Hacim'] = df['Volume'].shift(i)\n",
      "/var/folders/w9/3z_zbj956tj44glgzg44rgbr0000gn/T/ipykernel_51918/1521282515.py:9: PerformanceWarning: DataFrame is highly fragmented.  This is usually the result of calling `frame.insert` many times, which has poor performance.  Consider joining all columns at once using pd.concat(axis=1) instead. To get a de-fragmented frame, use `newframe = frame.copy()`\n",
      "  df[f'Önceki_{i}_Açılış'] = df['Open'].shift(i)\n",
      "/var/folders/w9/3z_zbj956tj44glgzg44rgbr0000gn/T/ipykernel_51918/1521282515.py:10: PerformanceWarning: DataFrame is highly fragmented.  This is usually the result of calling `frame.insert` many times, which has poor performance.  Consider joining all columns at once using pd.concat(axis=1) instead. To get a de-fragmented frame, use `newframe = frame.copy()`\n",
      "  df[f'Önceki_{i}_Yüksek'] = df['High'].shift(i)\n",
      "/var/folders/w9/3z_zbj956tj44glgzg44rgbr0000gn/T/ipykernel_51918/1521282515.py:11: PerformanceWarning: DataFrame is highly fragmented.  This is usually the result of calling `frame.insert` many times, which has poor performance.  Consider joining all columns at once using pd.concat(axis=1) instead. To get a de-fragmented frame, use `newframe = frame.copy()`\n",
      "  df[f'Önceki_{i}_Düşük'] = df['Low'].shift(i)\n",
      "/var/folders/w9/3z_zbj956tj44glgzg44rgbr0000gn/T/ipykernel_51918/1521282515.py:12: PerformanceWarning: DataFrame is highly fragmented.  This is usually the result of calling `frame.insert` many times, which has poor performance.  Consider joining all columns at once using pd.concat(axis=1) instead. To get a de-fragmented frame, use `newframe = frame.copy()`\n",
      "  df[f'Önceki_{i}_Kapanış'] = df['Close'].shift(i)\n",
      "/var/folders/w9/3z_zbj956tj44glgzg44rgbr0000gn/T/ipykernel_51918/1521282515.py:13: PerformanceWarning: DataFrame is highly fragmented.  This is usually the result of calling `frame.insert` many times, which has poor performance.  Consider joining all columns at once using pd.concat(axis=1) instead. To get a de-fragmented frame, use `newframe = frame.copy()`\n",
      "  df[f'Önceki_{i}_Adj'] = df['Adj Close'].shift(i)\n",
      "/var/folders/w9/3z_zbj956tj44glgzg44rgbr0000gn/T/ipykernel_51918/1521282515.py:14: PerformanceWarning: DataFrame is highly fragmented.  This is usually the result of calling `frame.insert` many times, which has poor performance.  Consider joining all columns at once using pd.concat(axis=1) instead. To get a de-fragmented frame, use `newframe = frame.copy()`\n",
      "  df[f'Önceki_{i}_Hacim'] = df['Volume'].shift(i)\n",
      "/var/folders/w9/3z_zbj956tj44glgzg44rgbr0000gn/T/ipykernel_51918/1521282515.py:9: PerformanceWarning: DataFrame is highly fragmented.  This is usually the result of calling `frame.insert` many times, which has poor performance.  Consider joining all columns at once using pd.concat(axis=1) instead. To get a de-fragmented frame, use `newframe = frame.copy()`\n",
      "  df[f'Önceki_{i}_Açılış'] = df['Open'].shift(i)\n",
      "/var/folders/w9/3z_zbj956tj44glgzg44rgbr0000gn/T/ipykernel_51918/1521282515.py:10: PerformanceWarning: DataFrame is highly fragmented.  This is usually the result of calling `frame.insert` many times, which has poor performance.  Consider joining all columns at once using pd.concat(axis=1) instead. To get a de-fragmented frame, use `newframe = frame.copy()`\n",
      "  df[f'Önceki_{i}_Yüksek'] = df['High'].shift(i)\n",
      "/var/folders/w9/3z_zbj956tj44glgzg44rgbr0000gn/T/ipykernel_51918/1521282515.py:11: PerformanceWarning: DataFrame is highly fragmented.  This is usually the result of calling `frame.insert` many times, which has poor performance.  Consider joining all columns at once using pd.concat(axis=1) instead. To get a de-fragmented frame, use `newframe = frame.copy()`\n",
      "  df[f'Önceki_{i}_Düşük'] = df['Low'].shift(i)\n",
      "/var/folders/w9/3z_zbj956tj44glgzg44rgbr0000gn/T/ipykernel_51918/1521282515.py:12: PerformanceWarning: DataFrame is highly fragmented.  This is usually the result of calling `frame.insert` many times, which has poor performance.  Consider joining all columns at once using pd.concat(axis=1) instead. To get a de-fragmented frame, use `newframe = frame.copy()`\n",
      "  df[f'Önceki_{i}_Kapanış'] = df['Close'].shift(i)\n",
      "/var/folders/w9/3z_zbj956tj44glgzg44rgbr0000gn/T/ipykernel_51918/1521282515.py:13: PerformanceWarning: DataFrame is highly fragmented.  This is usually the result of calling `frame.insert` many times, which has poor performance.  Consider joining all columns at once using pd.concat(axis=1) instead. To get a de-fragmented frame, use `newframe = frame.copy()`\n",
      "  df[f'Önceki_{i}_Adj'] = df['Adj Close'].shift(i)\n",
      "/var/folders/w9/3z_zbj956tj44glgzg44rgbr0000gn/T/ipykernel_51918/1521282515.py:14: PerformanceWarning: DataFrame is highly fragmented.  This is usually the result of calling `frame.insert` many times, which has poor performance.  Consider joining all columns at once using pd.concat(axis=1) instead. To get a de-fragmented frame, use `newframe = frame.copy()`\n",
      "  df[f'Önceki_{i}_Hacim'] = df['Volume'].shift(i)\n",
      "/var/folders/w9/3z_zbj956tj44glgzg44rgbr0000gn/T/ipykernel_51918/1521282515.py:9: PerformanceWarning: DataFrame is highly fragmented.  This is usually the result of calling `frame.insert` many times, which has poor performance.  Consider joining all columns at once using pd.concat(axis=1) instead. To get a de-fragmented frame, use `newframe = frame.copy()`\n",
      "  df[f'Önceki_{i}_Açılış'] = df['Open'].shift(i)\n",
      "/var/folders/w9/3z_zbj956tj44glgzg44rgbr0000gn/T/ipykernel_51918/1521282515.py:10: PerformanceWarning: DataFrame is highly fragmented.  This is usually the result of calling `frame.insert` many times, which has poor performance.  Consider joining all columns at once using pd.concat(axis=1) instead. To get a de-fragmented frame, use `newframe = frame.copy()`\n",
      "  df[f'Önceki_{i}_Yüksek'] = df['High'].shift(i)\n",
      "/var/folders/w9/3z_zbj956tj44glgzg44rgbr0000gn/T/ipykernel_51918/1521282515.py:11: PerformanceWarning: DataFrame is highly fragmented.  This is usually the result of calling `frame.insert` many times, which has poor performance.  Consider joining all columns at once using pd.concat(axis=1) instead. To get a de-fragmented frame, use `newframe = frame.copy()`\n",
      "  df[f'Önceki_{i}_Düşük'] = df['Low'].shift(i)\n",
      "/var/folders/w9/3z_zbj956tj44glgzg44rgbr0000gn/T/ipykernel_51918/1521282515.py:12: PerformanceWarning: DataFrame is highly fragmented.  This is usually the result of calling `frame.insert` many times, which has poor performance.  Consider joining all columns at once using pd.concat(axis=1) instead. To get a de-fragmented frame, use `newframe = frame.copy()`\n",
      "  df[f'Önceki_{i}_Kapanış'] = df['Close'].shift(i)\n",
      "/var/folders/w9/3z_zbj956tj44glgzg44rgbr0000gn/T/ipykernel_51918/1521282515.py:13: PerformanceWarning: DataFrame is highly fragmented.  This is usually the result of calling `frame.insert` many times, which has poor performance.  Consider joining all columns at once using pd.concat(axis=1) instead. To get a de-fragmented frame, use `newframe = frame.copy()`\n",
      "  df[f'Önceki_{i}_Adj'] = df['Adj Close'].shift(i)\n",
      "/var/folders/w9/3z_zbj956tj44glgzg44rgbr0000gn/T/ipykernel_51918/1521282515.py:14: PerformanceWarning: DataFrame is highly fragmented.  This is usually the result of calling `frame.insert` many times, which has poor performance.  Consider joining all columns at once using pd.concat(axis=1) instead. To get a de-fragmented frame, use `newframe = frame.copy()`\n",
      "  df[f'Önceki_{i}_Hacim'] = df['Volume'].shift(i)\n",
      "/var/folders/w9/3z_zbj956tj44glgzg44rgbr0000gn/T/ipykernel_51918/1521282515.py:9: PerformanceWarning: DataFrame is highly fragmented.  This is usually the result of calling `frame.insert` many times, which has poor performance.  Consider joining all columns at once using pd.concat(axis=1) instead. To get a de-fragmented frame, use `newframe = frame.copy()`\n",
      "  df[f'Önceki_{i}_Açılış'] = df['Open'].shift(i)\n",
      "/var/folders/w9/3z_zbj956tj44glgzg44rgbr0000gn/T/ipykernel_51918/1521282515.py:10: PerformanceWarning: DataFrame is highly fragmented.  This is usually the result of calling `frame.insert` many times, which has poor performance.  Consider joining all columns at once using pd.concat(axis=1) instead. To get a de-fragmented frame, use `newframe = frame.copy()`\n",
      "  df[f'Önceki_{i}_Yüksek'] = df['High'].shift(i)\n",
      "/var/folders/w9/3z_zbj956tj44glgzg44rgbr0000gn/T/ipykernel_51918/1521282515.py:11: PerformanceWarning: DataFrame is highly fragmented.  This is usually the result of calling `frame.insert` many times, which has poor performance.  Consider joining all columns at once using pd.concat(axis=1) instead. To get a de-fragmented frame, use `newframe = frame.copy()`\n",
      "  df[f'Önceki_{i}_Düşük'] = df['Low'].shift(i)\n",
      "/var/folders/w9/3z_zbj956tj44glgzg44rgbr0000gn/T/ipykernel_51918/1521282515.py:12: PerformanceWarning: DataFrame is highly fragmented.  This is usually the result of calling `frame.insert` many times, which has poor performance.  Consider joining all columns at once using pd.concat(axis=1) instead. To get a de-fragmented frame, use `newframe = frame.copy()`\n",
      "  df[f'Önceki_{i}_Kapanış'] = df['Close'].shift(i)\n",
      "/var/folders/w9/3z_zbj956tj44glgzg44rgbr0000gn/T/ipykernel_51918/1521282515.py:13: PerformanceWarning: DataFrame is highly fragmented.  This is usually the result of calling `frame.insert` many times, which has poor performance.  Consider joining all columns at once using pd.concat(axis=1) instead. To get a de-fragmented frame, use `newframe = frame.copy()`\n",
      "  df[f'Önceki_{i}_Adj'] = df['Adj Close'].shift(i)\n",
      "/var/folders/w9/3z_zbj956tj44glgzg44rgbr0000gn/T/ipykernel_51918/1521282515.py:14: PerformanceWarning: DataFrame is highly fragmented.  This is usually the result of calling `frame.insert` many times, which has poor performance.  Consider joining all columns at once using pd.concat(axis=1) instead. To get a de-fragmented frame, use `newframe = frame.copy()`\n",
      "  df[f'Önceki_{i}_Hacim'] = df['Volume'].shift(i)\n",
      "/var/folders/w9/3z_zbj956tj44glgzg44rgbr0000gn/T/ipykernel_51918/1521282515.py:9: PerformanceWarning: DataFrame is highly fragmented.  This is usually the result of calling `frame.insert` many times, which has poor performance.  Consider joining all columns at once using pd.concat(axis=1) instead. To get a de-fragmented frame, use `newframe = frame.copy()`\n",
      "  df[f'Önceki_{i}_Açılış'] = df['Open'].shift(i)\n",
      "/var/folders/w9/3z_zbj956tj44glgzg44rgbr0000gn/T/ipykernel_51918/1521282515.py:10: PerformanceWarning: DataFrame is highly fragmented.  This is usually the result of calling `frame.insert` many times, which has poor performance.  Consider joining all columns at once using pd.concat(axis=1) instead. To get a de-fragmented frame, use `newframe = frame.copy()`\n",
      "  df[f'Önceki_{i}_Yüksek'] = df['High'].shift(i)\n",
      "/var/folders/w9/3z_zbj956tj44glgzg44rgbr0000gn/T/ipykernel_51918/1521282515.py:11: PerformanceWarning: DataFrame is highly fragmented.  This is usually the result of calling `frame.insert` many times, which has poor performance.  Consider joining all columns at once using pd.concat(axis=1) instead. To get a de-fragmented frame, use `newframe = frame.copy()`\n",
      "  df[f'Önceki_{i}_Düşük'] = df['Low'].shift(i)\n",
      "/var/folders/w9/3z_zbj956tj44glgzg44rgbr0000gn/T/ipykernel_51918/1521282515.py:12: PerformanceWarning: DataFrame is highly fragmented.  This is usually the result of calling `frame.insert` many times, which has poor performance.  Consider joining all columns at once using pd.concat(axis=1) instead. To get a de-fragmented frame, use `newframe = frame.copy()`\n",
      "  df[f'Önceki_{i}_Kapanış'] = df['Close'].shift(i)\n",
      "/var/folders/w9/3z_zbj956tj44glgzg44rgbr0000gn/T/ipykernel_51918/1521282515.py:13: PerformanceWarning: DataFrame is highly fragmented.  This is usually the result of calling `frame.insert` many times, which has poor performance.  Consider joining all columns at once using pd.concat(axis=1) instead. To get a de-fragmented frame, use `newframe = frame.copy()`\n",
      "  df[f'Önceki_{i}_Adj'] = df['Adj Close'].shift(i)\n",
      "/var/folders/w9/3z_zbj956tj44glgzg44rgbr0000gn/T/ipykernel_51918/1521282515.py:14: PerformanceWarning: DataFrame is highly fragmented.  This is usually the result of calling `frame.insert` many times, which has poor performance.  Consider joining all columns at once using pd.concat(axis=1) instead. To get a de-fragmented frame, use `newframe = frame.copy()`\n",
      "  df[f'Önceki_{i}_Hacim'] = df['Volume'].shift(i)\n",
      "/var/folders/w9/3z_zbj956tj44glgzg44rgbr0000gn/T/ipykernel_51918/1521282515.py:9: PerformanceWarning: DataFrame is highly fragmented.  This is usually the result of calling `frame.insert` many times, which has poor performance.  Consider joining all columns at once using pd.concat(axis=1) instead. To get a de-fragmented frame, use `newframe = frame.copy()`\n",
      "  df[f'Önceki_{i}_Açılış'] = df['Open'].shift(i)\n",
      "/var/folders/w9/3z_zbj956tj44glgzg44rgbr0000gn/T/ipykernel_51918/1521282515.py:10: PerformanceWarning: DataFrame is highly fragmented.  This is usually the result of calling `frame.insert` many times, which has poor performance.  Consider joining all columns at once using pd.concat(axis=1) instead. To get a de-fragmented frame, use `newframe = frame.copy()`\n",
      "  df[f'Önceki_{i}_Yüksek'] = df['High'].shift(i)\n",
      "/var/folders/w9/3z_zbj956tj44glgzg44rgbr0000gn/T/ipykernel_51918/1521282515.py:11: PerformanceWarning: DataFrame is highly fragmented.  This is usually the result of calling `frame.insert` many times, which has poor performance.  Consider joining all columns at once using pd.concat(axis=1) instead. To get a de-fragmented frame, use `newframe = frame.copy()`\n",
      "  df[f'Önceki_{i}_Düşük'] = df['Low'].shift(i)\n",
      "/var/folders/w9/3z_zbj956tj44glgzg44rgbr0000gn/T/ipykernel_51918/1521282515.py:12: PerformanceWarning: DataFrame is highly fragmented.  This is usually the result of calling `frame.insert` many times, which has poor performance.  Consider joining all columns at once using pd.concat(axis=1) instead. To get a de-fragmented frame, use `newframe = frame.copy()`\n",
      "  df[f'Önceki_{i}_Kapanış'] = df['Close'].shift(i)\n",
      "/var/folders/w9/3z_zbj956tj44glgzg44rgbr0000gn/T/ipykernel_51918/1521282515.py:13: PerformanceWarning: DataFrame is highly fragmented.  This is usually the result of calling `frame.insert` many times, which has poor performance.  Consider joining all columns at once using pd.concat(axis=1) instead. To get a de-fragmented frame, use `newframe = frame.copy()`\n",
      "  df[f'Önceki_{i}_Adj'] = df['Adj Close'].shift(i)\n",
      "/var/folders/w9/3z_zbj956tj44glgzg44rgbr0000gn/T/ipykernel_51918/1521282515.py:14: PerformanceWarning: DataFrame is highly fragmented.  This is usually the result of calling `frame.insert` many times, which has poor performance.  Consider joining all columns at once using pd.concat(axis=1) instead. To get a de-fragmented frame, use `newframe = frame.copy()`\n",
      "  df[f'Önceki_{i}_Hacim'] = df['Volume'].shift(i)\n",
      "/var/folders/w9/3z_zbj956tj44glgzg44rgbr0000gn/T/ipykernel_51918/1521282515.py:9: PerformanceWarning: DataFrame is highly fragmented.  This is usually the result of calling `frame.insert` many times, which has poor performance.  Consider joining all columns at once using pd.concat(axis=1) instead. To get a de-fragmented frame, use `newframe = frame.copy()`\n",
      "  df[f'Önceki_{i}_Açılış'] = df['Open'].shift(i)\n",
      "/var/folders/w9/3z_zbj956tj44glgzg44rgbr0000gn/T/ipykernel_51918/1521282515.py:10: PerformanceWarning: DataFrame is highly fragmented.  This is usually the result of calling `frame.insert` many times, which has poor performance.  Consider joining all columns at once using pd.concat(axis=1) instead. To get a de-fragmented frame, use `newframe = frame.copy()`\n",
      "  df[f'Önceki_{i}_Yüksek'] = df['High'].shift(i)\n",
      "/var/folders/w9/3z_zbj956tj44glgzg44rgbr0000gn/T/ipykernel_51918/1521282515.py:11: PerformanceWarning: DataFrame is highly fragmented.  This is usually the result of calling `frame.insert` many times, which has poor performance.  Consider joining all columns at once using pd.concat(axis=1) instead. To get a de-fragmented frame, use `newframe = frame.copy()`\n",
      "  df[f'Önceki_{i}_Düşük'] = df['Low'].shift(i)\n",
      "/var/folders/w9/3z_zbj956tj44glgzg44rgbr0000gn/T/ipykernel_51918/1521282515.py:12: PerformanceWarning: DataFrame is highly fragmented.  This is usually the result of calling `frame.insert` many times, which has poor performance.  Consider joining all columns at once using pd.concat(axis=1) instead. To get a de-fragmented frame, use `newframe = frame.copy()`\n",
      "  df[f'Önceki_{i}_Kapanış'] = df['Close'].shift(i)\n",
      "/var/folders/w9/3z_zbj956tj44glgzg44rgbr0000gn/T/ipykernel_51918/1521282515.py:13: PerformanceWarning: DataFrame is highly fragmented.  This is usually the result of calling `frame.insert` many times, which has poor performance.  Consider joining all columns at once using pd.concat(axis=1) instead. To get a de-fragmented frame, use `newframe = frame.copy()`\n",
      "  df[f'Önceki_{i}_Adj'] = df['Adj Close'].shift(i)\n",
      "/var/folders/w9/3z_zbj956tj44glgzg44rgbr0000gn/T/ipykernel_51918/1521282515.py:14: PerformanceWarning: DataFrame is highly fragmented.  This is usually the result of calling `frame.insert` many times, which has poor performance.  Consider joining all columns at once using pd.concat(axis=1) instead. To get a de-fragmented frame, use `newframe = frame.copy()`\n",
      "  df[f'Önceki_{i}_Hacim'] = df['Volume'].shift(i)\n"
     ]
    },
    {
     "name": "stdout",
     "output_type": "stream",
     "text": [
      "SOL-USD verisi windowed olarak kaydedildi\n"
     ]
    }
   ],
   "source": [
    "window = 30\n",
    "\n",
    "def veri_hazirla(df, window):\n",
    "    # Veri çerçevesinin kopyasını oluşturun\n",
    "    df = df.copy()\n",
    "    \n",
    "    # Veri çerçevesine yeni sütunlar ekleyin\n",
    "    for i in range(1, window + 1):\n",
    "        df[f'Önceki_{i}_Açılış'] = df['Open'].shift(i)\n",
    "        df[f'Önceki_{i}_Yüksek'] = df['High'].shift(i)\n",
    "        df[f'Önceki_{i}_Düşük'] = df['Low'].shift(i)\n",
    "        df[f'Önceki_{i}_Kapanış'] = df['Close'].shift(i)\n",
    "        df[f'Önceki_{i}_Adj'] = df['Adj Close'].shift(i)\n",
    "        df[f'Önceki_{i}_Hacim'] = df['Volume'].shift(i)\n",
    "        \n",
    "    # NaN değerleri bırakın\n",
    "    df.dropna(inplace=True)\n",
    "    \n",
    "    return df\n",
    "\n",
    "# Her bir veri çerçevesi için döngü oluşturun ve verileri hazırlayın\n",
    "data_windowed = [veri_hazirla(df, window) for df in datasets]\n",
    "\n",
    "\n",
    "if not os.path.exists('datas/windowed'):\n",
    "    os.makedirs('datas/windowed')\n",
    "\n",
    "# Her bir veri çerçevesi için parite ismiyle birlikte windowed klasörüne kaydedin \n",
    "for i in range(len(data_windowed)):\n",
    "    data_windowed[i].to_csv(f'datas/windowed/{tickers[i]}_windowed.csv')\n",
    "    print(f'{tickers[i]} verisi windowed olarak kaydedildi')\n",
    "\n"
   ]
  },
  {
   "cell_type": "code",
   "execution_count": 24,
   "metadata": {
    "ExecuteTime": {
     "end_time": "2024-02-03T18:06:55.052628Z",
     "start_time": "2024-02-03T18:06:55.047110Z"
    }
   },
   "outputs": [],
   "source": [
    "#data_windowed"
   ]
  },
  {
   "cell_type": "code",
   "execution_count": 25,
   "metadata": {
    "ExecuteTime": {
     "end_time": "2024-02-03T18:06:56.001091Z",
     "start_time": "2024-02-03T18:06:55.056102Z"
    }
   },
   "outputs": [
    {
     "name": "stdout",
     "output_type": "stream",
     "text": [
      "SOL-USD verisi X ve y olarak kaydedildi\n"
     ]
    }
   ],
   "source": [
    "#her bir veri çerçevesi için X  = features(öncekiler) y = labels olan veriyapısını kuruyoruz (labels  = ['Open','High', 'Low', 'Close', 'Adj Close', 'Volume'])\n",
    "\n",
    "def X_y_olustur(df, window, labels):\n",
    "    # Veri çerçevesinin kopyasını oluşturun\n",
    "    df = df.copy()\n",
    "    \n",
    "    # Özellikler ve etiketler için boş listeler oluşturun\n",
    "    X = []\n",
    "    y = []\n",
    "    \n",
    "    # Her bir satır için döngü oluşturun\n",
    "    for i in range(len(df) - window):\n",
    "        # Özellikler için satırı alın\n",
    "        X_row = df.iloc[i:i + window].values\n",
    "        \n",
    "        # Etiketler için satırı alın\n",
    "        y_row = df[labels].iloc[i + window].values\n",
    "        \n",
    "        # Özellikleri ve etiketleri listelere ekleyin\n",
    "        X.append(X_row)\n",
    "        y.append(y_row)\n",
    "        \n",
    "    # Listeleri numpy dizilerine dönüştürün\n",
    "    X = np.array(X)\n",
    "    y = np.array(y)\n",
    "    \n",
    "    return X, y\n",
    "\n",
    "# Her bir veri çerçevesi için döngü oluşturun ve X ve y oluşturun\n",
    "X_y = [X_y_olustur(df, window, ['Open', 'High', 'Low', 'Close', 'Adj Close', 'Volume']) for df in data_windowed]\n",
    "#X_y = [X_y_olustur(df, window, ['Close' ,'Volume']) for df in data_windowed]\n",
    "\n",
    "# Her bir veri çerçevesi için parite ismiyle birlikte numpy klasörüne kaydedin\n",
    "\n",
    "if not os.path.exists('datas/numpy'):\n",
    "    os.makedirs('datas/numpy')\n",
    "for i in range(len(X_y)):\n",
    "    np.save(f'datas/numpy/{tickers[i]}_X.npy', X_y[i][0])\n",
    "    np.save(f'datas/numpy/{tickers[i]}_y.npy', X_y[i][1])\n",
    "    print(f'{tickers[i]} verisi X ve y olarak kaydedildi')\n",
    "    \n",
    "\n"
   ]
  },
  {
   "cell_type": "code",
   "execution_count": 26,
   "metadata": {
    "collapsed": false,
    "ExecuteTime": {
     "end_time": "2024-02-03T18:06:56.015127Z",
     "start_time": "2024-02-03T18:06:56.004343Z"
    }
   },
   "outputs": [],
   "source": [
    "# her bir veri çerçevesi için train test split yapalım time series için doğru yolla yapmak gerekiyor\n",
    "\n",
    "def train_test_split(X, y, test_size):\n",
    "        # Test boyutunu hesaplayın\n",
    "\n",
    "        \n",
    "        test_size = int(len(X) * test_size) #yüzdelikli tercih değil yapmamk için yorum satırına al\n",
    "        \n",
    "        # Eğitim ve test veri kümelerini ayırın\n",
    "        X_train = X[:-test_size]\n",
    "        X_test = X[-test_size:]\n",
    "        y_train = y[:-test_size]\n",
    "        y_test = y[-test_size:]\n",
    "        \n",
    "        return X_train, X_test, y_train, y_test\n",
    "\n",
    "# Her bir veri çerçevesi için döngü oluşturun ve train ve test veri kümelerini ayırın\n",
    "test_size = 0.2\n",
    "X_train_test = [train_test_split(X_y[i][0], X_y[i][1], test_size) for i in range(len(X_y))]"
   ]
  },
  {
   "cell_type": "code",
   "outputs": [],
   "source": [
    "# her bir veri çerçevesi için zerobase normalizasyon ve minmax scaling yapalım\n",
    "\n",
    "def normalize(X_train, X_test, y_train, y_test):\n",
    "    # Zerobase normalizasyonu uygulayın\n",
    "    X_train = (X_train - X_train.mean()) / X_train.std()\n",
    "    X_test = (X_test - X_test.mean()) / X_test.std()\n",
    "    y_train = (y_train - y_train.mean()) / y_train.std()\n",
    "    y_test = (y_test - y_test.mean()) / y_test.std()\n",
    "    \n",
    "    # Minmax scaling uygulayın\n",
    "    X_train = (X_train - X_train.min()) / (X_train.max() - X_train.min())\n",
    "    X_test = (X_test - X_test.min()) / (X_test.max() - X_test.min())\n",
    "    y_train = (y_train - y_train.min()) / (y_train.max() - y_train.min())\n",
    "    y_test = (y_test - y_test.min()) / (y_test.max() - y_test.min())\n",
    "    \n",
    "    return X_train, X_test, y_train, y_test\n",
    "\n",
    "# Her bir veri çerçevesi için döngü oluşturun ve normalizasyon ve ölçeklendirme uygulayın\n",
    "\n",
    "X_train_test_normalized = [normalize(X_train_test[i][0], X_train_test[i][1], X_train_test[i][2], X_train_test[i][3]) for i in range(len(X_train_test))]\n",
    "\n",
    "\n"
   ],
   "metadata": {
    "collapsed": false,
    "ExecuteTime": {
     "end_time": "2024-02-03T18:06:56.163949Z",
     "start_time": "2024-02-03T18:06:56.008588Z"
    }
   },
   "execution_count": 27
  },
  {
   "cell_type": "code",
   "outputs": [
    {
     "data": {
      "text/plain": "''"
     },
     "execution_count": 28,
     "metadata": {},
     "output_type": "execute_result"
    }
   ],
   "source": [
    "# cihaz bilgisi = \n",
    "tf.test.gpu_device_name()\n"
   ],
   "metadata": {
    "collapsed": false,
    "ExecuteTime": {
     "end_time": "2024-02-03T18:06:56.173950Z",
     "start_time": "2024-02-03T18:06:56.162005Z"
    }
   },
   "execution_count": 28
  },
  {
   "cell_type": "code",
   "outputs": [],
   "source": [
    "# her bir veri çerçevesi için gelişmiş bir  dikkat mekanizmalı lstm modeli oluşturalım\n",
    "\n",
    "def model_olustur(input_shape , output_shape):\n",
    "    # Modeli oluşturun\n",
    "    model = Sequential()\n",
    "    \n",
    "    # giriş katmanı\n",
    "    model.add(LSTM(128, input_shape=input_shape, return_sequences=True))\n",
    "    model.add(Dropout(0.2))\n",
    "    \n",
    "    # gizli katmanlar ve attention layer\n",
    "    \n",
    "    model.add(Attention())\n",
    "    model.add(LSTM(128, return_sequences=True))\n",
    "    \n",
    "    model.add(Attention())\n",
    "    \n",
    "    model.add(LSTM(128, return_sequences=False))\n",
    "    \n",
    "\n",
    "    \n",
    "    model.add(Dropout(0.2))\n",
    "    model.add(Dense(64))\n",
    "    model.add(Dense(output_shape , activation='relu'))\n",
    "    \n",
    "    \n",
    "    return model\n"
   ],
   "metadata": {
    "collapsed": false,
    "ExecuteTime": {
     "end_time": "2024-02-03T18:06:56.176952Z",
     "start_time": "2024-02-03T18:06:56.171920Z"
    }
   },
   "execution_count": 29
  },
  {
   "cell_type": "code",
   "outputs": [
    {
     "ename": "ValueError",
     "evalue": "Exception encountered when calling layer \"attention\" (type Attention).\n\nAttention layer must be called on a list of inputs, namely [query, value] or [query, value, key]. Received: Tensor(\"Placeholder:0\", shape=(None, 30, 128), dtype=float32).\n\nCall arguments received by layer \"attention\" (type Attention):\n  • inputs=tf.Tensor(shape=(None, 30, 128), dtype=float32)\n  • mask=None\n  • training=None\n  • return_attention_scores=False\n  • use_causal_mask=False",
     "output_type": "error",
     "traceback": [
      "\u001B[0;31m---------------------------------------------------------------------------\u001B[0m",
      "\u001B[0;31mValueError\u001B[0m                                Traceback (most recent call last)",
      "Cell \u001B[0;32mIn[30], line 13\u001B[0m\n\u001B[1;32m      9\u001B[0m epochs \u001B[38;5;241m=\u001B[39m \u001B[38;5;241m100\u001B[39m\n\u001B[1;32m     11\u001B[0m \u001B[38;5;28;01mfor\u001B[39;00m i \u001B[38;5;129;01min\u001B[39;00m \u001B[38;5;28mrange\u001B[39m(\u001B[38;5;28mlen\u001B[39m(X_train_test_normalized)):\n\u001B[1;32m     12\u001B[0m     \u001B[38;5;66;03m# Modeli oluşturun\u001B[39;00m\n\u001B[0;32m---> 13\u001B[0m     model \u001B[38;5;241m=\u001B[39m \u001B[43mmodel_olustur\u001B[49m\u001B[43m(\u001B[49m\u001B[43mX_train_test_normalized\u001B[49m\u001B[43m[\u001B[49m\u001B[43mi\u001B[49m\u001B[43m]\u001B[49m\u001B[43m[\u001B[49m\u001B[38;5;241;43m0\u001B[39;49m\u001B[43m]\u001B[49m\u001B[38;5;241;43m.\u001B[39;49m\u001B[43mshape\u001B[49m\u001B[43m[\u001B[49m\u001B[38;5;241;43m1\u001B[39;49m\u001B[43m:\u001B[49m\u001B[43m]\u001B[49m\u001B[43m,\u001B[49m\u001B[43m \u001B[49m\u001B[43mX_train_test_normalized\u001B[49m\u001B[43m[\u001B[49m\u001B[43mi\u001B[49m\u001B[43m]\u001B[49m\u001B[43m[\u001B[49m\u001B[38;5;241;43m2\u001B[39;49m\u001B[43m]\u001B[49m\u001B[38;5;241;43m.\u001B[39;49m\u001B[43mshape\u001B[49m\u001B[43m[\u001B[49m\u001B[38;5;241;43m1\u001B[39;49m\u001B[43m]\u001B[49m\u001B[43m)\u001B[49m\n\u001B[1;32m     15\u001B[0m     \u001B[38;5;66;03m# Modeli derleyin\u001B[39;00m\n\u001B[1;32m     16\u001B[0m     model\u001B[38;5;241m.\u001B[39mcompile(optimizer\u001B[38;5;241m=\u001B[39m\u001B[38;5;124m'\u001B[39m\u001B[38;5;124madam\u001B[39m\u001B[38;5;124m'\u001B[39m, loss\u001B[38;5;241m=\u001B[39m\u001B[38;5;124m'\u001B[39m\u001B[38;5;124mmean_squared_error\u001B[39m\u001B[38;5;124m'\u001B[39m)\n",
      "Cell \u001B[0;32mIn[29], line 13\u001B[0m, in \u001B[0;36mmodel_olustur\u001B[0;34m(input_shape, output_shape)\u001B[0m\n\u001B[1;32m      9\u001B[0m model\u001B[38;5;241m.\u001B[39madd(Dropout(\u001B[38;5;241m0.2\u001B[39m))\n\u001B[1;32m     11\u001B[0m \u001B[38;5;66;03m# gizli katmanlar ve attention layer\u001B[39;00m\n\u001B[0;32m---> 13\u001B[0m \u001B[43mmodel\u001B[49m\u001B[38;5;241;43m.\u001B[39;49m\u001B[43madd\u001B[49m\u001B[43m(\u001B[49m\u001B[43mAttention\u001B[49m\u001B[43m(\u001B[49m\u001B[43m)\u001B[49m\u001B[43m)\u001B[49m\n\u001B[1;32m     14\u001B[0m model\u001B[38;5;241m.\u001B[39madd(LSTM(\u001B[38;5;241m128\u001B[39m, return_sequences\u001B[38;5;241m=\u001B[39m\u001B[38;5;28;01mTrue\u001B[39;00m))\n\u001B[1;32m     16\u001B[0m model\u001B[38;5;241m.\u001B[39madd(Attention())\n",
      "File \u001B[0;32m~/anaconda3/envs/all/lib/python3.11/site-packages/tensorflow/python/trackable/base.py:204\u001B[0m, in \u001B[0;36mno_automatic_dependency_tracking.<locals>._method_wrapper\u001B[0;34m(self, *args, **kwargs)\u001B[0m\n\u001B[1;32m    202\u001B[0m \u001B[38;5;28mself\u001B[39m\u001B[38;5;241m.\u001B[39m_self_setattr_tracking \u001B[38;5;241m=\u001B[39m \u001B[38;5;28;01mFalse\u001B[39;00m  \u001B[38;5;66;03m# pylint: disable=protected-access\u001B[39;00m\n\u001B[1;32m    203\u001B[0m \u001B[38;5;28;01mtry\u001B[39;00m:\n\u001B[0;32m--> 204\u001B[0m   result \u001B[38;5;241m=\u001B[39m \u001B[43mmethod\u001B[49m\u001B[43m(\u001B[49m\u001B[38;5;28;43mself\u001B[39;49m\u001B[43m,\u001B[49m\u001B[43m \u001B[49m\u001B[38;5;241;43m*\u001B[39;49m\u001B[43margs\u001B[49m\u001B[43m,\u001B[49m\u001B[43m \u001B[49m\u001B[38;5;241;43m*\u001B[39;49m\u001B[38;5;241;43m*\u001B[39;49m\u001B[43mkwargs\u001B[49m\u001B[43m)\u001B[49m\n\u001B[1;32m    205\u001B[0m \u001B[38;5;28;01mfinally\u001B[39;00m:\n\u001B[1;32m    206\u001B[0m   \u001B[38;5;28mself\u001B[39m\u001B[38;5;241m.\u001B[39m_self_setattr_tracking \u001B[38;5;241m=\u001B[39m previous_value  \u001B[38;5;66;03m# pylint: disable=protected-access\u001B[39;00m\n",
      "File \u001B[0;32m~/anaconda3/envs/all/lib/python3.11/site-packages/keras/src/utils/traceback_utils.py:70\u001B[0m, in \u001B[0;36mfilter_traceback.<locals>.error_handler\u001B[0;34m(*args, **kwargs)\u001B[0m\n\u001B[1;32m     67\u001B[0m     filtered_tb \u001B[38;5;241m=\u001B[39m _process_traceback_frames(e\u001B[38;5;241m.\u001B[39m__traceback__)\n\u001B[1;32m     68\u001B[0m     \u001B[38;5;66;03m# To get the full stack trace, call:\u001B[39;00m\n\u001B[1;32m     69\u001B[0m     \u001B[38;5;66;03m# `tf.debugging.disable_traceback_filtering()`\u001B[39;00m\n\u001B[0;32m---> 70\u001B[0m     \u001B[38;5;28;01mraise\u001B[39;00m e\u001B[38;5;241m.\u001B[39mwith_traceback(filtered_tb) \u001B[38;5;28;01mfrom\u001B[39;00m \u001B[38;5;28;01mNone\u001B[39;00m\n\u001B[1;32m     71\u001B[0m \u001B[38;5;28;01mfinally\u001B[39;00m:\n\u001B[1;32m     72\u001B[0m     \u001B[38;5;28;01mdel\u001B[39;00m filtered_tb\n",
      "File \u001B[0;32m~/anaconda3/envs/all/lib/python3.11/site-packages/keras/src/layers/attention/base_dense_attention.py:218\u001B[0m, in \u001B[0;36mBaseDenseAttention._validate_call_args\u001B[0;34m(self, inputs, mask)\u001B[0m\n\u001B[1;32m    216\u001B[0m class_name \u001B[38;5;241m=\u001B[39m \u001B[38;5;28mself\u001B[39m\u001B[38;5;241m.\u001B[39m\u001B[38;5;18m__class__\u001B[39m\u001B[38;5;241m.\u001B[39m\u001B[38;5;18m__name__\u001B[39m\n\u001B[1;32m    217\u001B[0m \u001B[38;5;28;01mif\u001B[39;00m \u001B[38;5;129;01mnot\u001B[39;00m \u001B[38;5;28misinstance\u001B[39m(inputs, \u001B[38;5;28mlist\u001B[39m):\n\u001B[0;32m--> 218\u001B[0m     \u001B[38;5;28;01mraise\u001B[39;00m \u001B[38;5;167;01mValueError\u001B[39;00m(\n\u001B[1;32m    219\u001B[0m         \u001B[38;5;124mf\u001B[39m\u001B[38;5;124m\"\u001B[39m\u001B[38;5;132;01m{\u001B[39;00mclass_name\u001B[38;5;132;01m}\u001B[39;00m\u001B[38;5;124m layer must be called on a list of inputs, \u001B[39m\u001B[38;5;124m\"\u001B[39m\n\u001B[1;32m    220\u001B[0m         \u001B[38;5;124m\"\u001B[39m\u001B[38;5;124mnamely [query, value] or [query, value, key]. \u001B[39m\u001B[38;5;124m\"\u001B[39m\n\u001B[1;32m    221\u001B[0m         \u001B[38;5;124mf\u001B[39m\u001B[38;5;124m\"\u001B[39m\u001B[38;5;124mReceived: \u001B[39m\u001B[38;5;132;01m{\u001B[39;00minputs\u001B[38;5;132;01m}\u001B[39;00m\u001B[38;5;124m.\u001B[39m\u001B[38;5;124m\"\u001B[39m\n\u001B[1;32m    222\u001B[0m     )\n\u001B[1;32m    223\u001B[0m \u001B[38;5;28;01mif\u001B[39;00m \u001B[38;5;28mlen\u001B[39m(inputs) \u001B[38;5;241m<\u001B[39m \u001B[38;5;241m2\u001B[39m \u001B[38;5;129;01mor\u001B[39;00m \u001B[38;5;28mlen\u001B[39m(inputs) \u001B[38;5;241m>\u001B[39m \u001B[38;5;241m3\u001B[39m:\n\u001B[1;32m    224\u001B[0m     \u001B[38;5;28;01mraise\u001B[39;00m \u001B[38;5;167;01mValueError\u001B[39;00m(\n\u001B[1;32m    225\u001B[0m         \u001B[38;5;124mf\u001B[39m\u001B[38;5;124m\"\u001B[39m\u001B[38;5;132;01m{\u001B[39;00mclass_name\u001B[38;5;132;01m}\u001B[39;00m\u001B[38;5;124m layer accepts inputs list of length 2 or 3, \u001B[39m\u001B[38;5;124m\"\u001B[39m\n\u001B[1;32m    226\u001B[0m         \u001B[38;5;124m\"\u001B[39m\u001B[38;5;124mnamely [query, value] or [query, value, key]. \u001B[39m\u001B[38;5;124m\"\u001B[39m\n\u001B[1;32m    227\u001B[0m         \u001B[38;5;124mf\u001B[39m\u001B[38;5;124m\"\u001B[39m\u001B[38;5;124mReceived length: \u001B[39m\u001B[38;5;132;01m{\u001B[39;00m\u001B[38;5;28mlen\u001B[39m(inputs)\u001B[38;5;132;01m}\u001B[39;00m\u001B[38;5;124m.\u001B[39m\u001B[38;5;124m\"\u001B[39m\n\u001B[1;32m    228\u001B[0m     )\n",
      "\u001B[0;31mValueError\u001B[0m: Exception encountered when calling layer \"attention\" (type Attention).\n\nAttention layer must be called on a list of inputs, namely [query, value] or [query, value, key]. Received: Tensor(\"Placeholder:0\", shape=(None, 30, 128), dtype=float32).\n\nCall arguments received by layer \"attention\" (type Attention):\n  • inputs=tf.Tensor(shape=(None, 30, 128), dtype=float32)\n  • mask=None\n  • training=None\n  • return_attention_scores=False\n  • use_causal_mask=False"
     ]
    }
   ],
   "source": [
    "# her bir veri çerçevesi için modeli oluşturup eğitelim\n",
    "\n",
    "if not os.path.exists('datas/models'):\n",
    "    os.makedirs('datas/models')\n",
    "    \n",
    "    \n",
    "models = []\n",
    "batch_size = 32\n",
    "epochs = 100\n",
    "\n",
    "for i in range(len(X_train_test_normalized)):\n",
    "    # Modeli oluşturun\n",
    "    model = model_olustur(X_train_test_normalized[i][0].shape[1:], X_train_test_normalized[i][2].shape[1])\n",
    "    \n",
    "    # Modeli derleyin\n",
    "    model.compile(optimizer='adam', loss='mean_squared_error')\n",
    "    \n",
    "    # Modeli eğitin\n",
    "    model.fit(X_train_test_normalized[i][0], X_train_test_normalized[i][2], \n",
    "              batch_size=batch_size, \n",
    "              epochs=epochs, \n",
    "              validation_data=(X_train_test_normalized[i][1], X_train_test_normalized[i][3]))\n",
    "    \n",
    "    # Modeli kaydedin\n",
    "    model.save(f'datas/models/{tickers[i]}_model.h5')\n",
    "    \n",
    "    # Modeli listeye ekleyin\n",
    "    models.append(model)\n",
    "    print(f'{tickers[i]} modeli eğitildi ve kaydedildi')\n",
    "    \n"
   ],
   "metadata": {
    "collapsed": false,
    "ExecuteTime": {
     "end_time": "2024-02-03T18:06:56.597953Z",
     "start_time": "2024-02-03T18:06:56.174614Z"
    }
   },
   "execution_count": 30
  },
  {
   "cell_type": "code",
   "outputs": [],
   "source": [
    "# her bir veri çerçevesi için modeli yükleyip tahmin yapalım\n",
    "\n",
    "# Her bir model için döngü oluşturun ve tahmin yapın\n",
    "\n",
    "if not os.path.exists('datas/predictions'):\n",
    "    os.makedirs('datas/predictions')\n",
    "    "
   ],
   "metadata": {
    "collapsed": false,
    "ExecuteTime": {
     "end_time": "2024-02-03T18:06:56.605980Z",
     "start_time": "2024-02-03T18:06:56.600073Z"
    }
   }
  },
  {
   "cell_type": "code",
   "execution_count": null,
   "metadata": {
    "collapsed": false,
    "ExecuteTime": {
     "start_time": "2024-02-03T18:06:56.602359Z"
    }
   },
   "outputs": [],
   "source": [
    "#TODO :  normalizasyon yapılacak : zerobase - minmax scaler  +\n",
    "\n",
    "#TODO : seq2seq LSTM Yapılcak denenecek\n",
    "\n",
    "#TODO : Dikkat Mekanizması ile LSTM yapılacak"
   ]
  }
 ],
 "metadata": {
  "kernelspec": {
   "display_name": "all",
   "language": "python",
   "name": "python3"
  },
  "language_info": {
   "codemirror_mode": {
    "name": "ipython",
    "version": 3
   },
   "file_extension": ".py",
   "mimetype": "text/x-python",
   "name": "python",
   "nbconvert_exporter": "python",
   "pygments_lexer": "ipython3",
   "version": "3.6.13"
  }
 },
 "nbformat": 4,
 "nbformat_minor": 2
}
