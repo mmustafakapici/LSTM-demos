{
 "cells": [
  {
   "cell_type": "code",
   "execution_count": 183,
   "metadata": {
    "ExecuteTime": {
     "end_time": "2024-02-04T07:37:36.386775Z",
     "start_time": "2024-02-04T07:37:36.307995Z"
    }
   },
   "outputs": [],
   "source": [
    "\n",
    "# yeni hali \n",
    "\n",
    "import numpy as np\n",
    "import pandas as pd \n",
    "import matplotlib.pyplot as plt\n",
    "\n",
    "import os\n",
    "\n",
    "import tensorflow as tf\n",
    "\n",
    "from tensorflow.keras.models import Sequential \n",
    "from tensorflow.keras.layers import Dense, Dropout, Activation, Flatten,  LSTM , BatchNormalization\n",
    "\n",
    "from tensorflow.keras.layers import Input, LSTM, Dense, TimeDistributed, RepeatVector, Concatenate, Attention\n",
    "\n",
    "from tensorflow.keras.models import Model\n",
    "\n",
    "from sklearn.preprocessing import MinMaxScaler\n"
   ]
  },
  {
   "cell_type": "code",
   "execution_count": 184,
   "metadata": {
    "ExecuteTime": {
     "end_time": "2024-02-04T07:37:36.391790Z",
     "start_time": "2024-02-04T07:37:36.369562Z"
    }
   },
   "outputs": [],
   "source": [
    "import yfinance as yf"
   ]
  },
  {
   "cell_type": "code",
   "outputs": [],
   "source": [
    "import os\n",
    "\n",
    "if os.path.exists('datas'):\n",
    "    #sil\n",
    "    os.system('rm -rf datas')"
   ],
   "metadata": {
    "collapsed": false,
    "ExecuteTime": {
     "end_time": "2024-02-04T07:37:36.424474Z",
     "start_time": "2024-02-04T07:37:36.395721Z"
    }
   },
   "execution_count": 185
  },
  {
   "cell_type": "code",
   "execution_count": 186,
   "metadata": {
    "ExecuteTime": {
     "end_time": "2024-02-04T07:37:36.427066Z",
     "start_time": "2024-02-04T07:37:36.414597Z"
    }
   },
   "outputs": [],
   "source": [
    "#period = '3000d'\n",
    "period = 'max'\n",
    "\n",
    "\n",
    "#features = ['Open', 'High', 'Low', 'Close','Adj Close', 'Volume']\n",
    "features = [ 'Close' ]  # Sadece kapanış fiyatını kullanın\n",
    "\n",
    "#tickers = ['AAPL', 'MSFT', 'AMZN', 'GOOG', 'GOOGL', 'TSLA', 'NVDA', 'PYPL', 'ADBE','BTC-USD', 'ETH-USD', 'XRP-USD', 'LTC-USD','BCH-USD', 'BNB-USD', 'LINK-USD', 'ADA-USD', 'XLM-USD', 'SOL-USD', 'TRX-USD']\n",
    "\n",
    "tickers = ['AAPL-USD']\n",
    "\n",
    "\n"
   ]
  },
  {
   "cell_type": "code",
   "execution_count": 187,
   "metadata": {
    "ExecuteTime": {
     "end_time": "2024-02-04T07:37:36.437791Z",
     "start_time": "2024-02-04T07:37:36.430393Z"
    }
   },
   "outputs": [],
   "source": [
    "def indir_ve_df_olustur(tickers, period):\n",
    "    # Her bir hisse senedi için boş bir sözlük oluşturun\n",
    "    pariteler = {}\n",
    "\n",
    "    # Her bir hisse senedi için döngü oluşturun ve verileri indirin\n",
    "    for ticker in tickers:\n",
    "        try:\n",
    "            # Hisse senedi verilerini indirin\n",
    "            veri = yf.download(ticker, period=period)\n",
    "\n",
    "            veri = veri[features]   \n",
    "            # Veriyi sözlüğe ekleyin\n",
    "            pariteler[ticker] = veri\n",
    "            \n",
    "            \n",
    "        except Exception as e:\n",
    "            print(f\"{ticker} için veri indirilirken bir hata oluştu: {str(e)}\")\n",
    "\n",
    "    # Her bir hisse senedi için ayrı bir veri çerçevesi oluşturun\n",
    "    df_listesi = [veri for veri in pariteler.values()]\n",
    "\n",
    "    return df_listesi"
   ]
  },
  {
   "cell_type": "code",
   "execution_count": 188,
   "metadata": {
    "ExecuteTime": {
     "end_time": "2024-02-04T07:37:36.451698Z",
     "start_time": "2024-02-04T07:37:36.441276Z"
    }
   },
   "outputs": [],
   "source": [
    "#pariteler adında klasör oluştur :\n",
    "\n",
    "import os \n",
    "\n",
    "if not os.path.exists('datas/pariteler'):\n",
    "    os.makedirs('datas/pariteler')\n",
    "\n"
   ]
  },
  {
   "cell_type": "code",
   "execution_count": 189,
   "metadata": {
    "ExecuteTime": {
     "end_time": "2024-02-04T07:37:36.887015Z",
     "start_time": "2024-02-04T07:37:36.454812Z"
    }
   },
   "outputs": [
    {
     "name": "stdout",
     "output_type": "stream",
     "text": [
      "[*********************100%%**********************]  1 of 1 completed\n",
      "AAPL-USD verisi csv olarak kaydedildi\n"
     ]
    }
   ],
   "source": [
    "datasets = indir_ve_df_olustur(tickers, period)\n",
    "\n",
    "#pariteler içine kaydet \n",
    "\n",
    "for i in range(len(datasets)):\n",
    "    datasets[i].to_csv(f'datas/pariteler/{tickers[i]}.csv')\n",
    "    print(f'{tickers[i]} verisi csv olarak kaydedildi')\n"
   ]
  },
  {
   "cell_type": "code",
   "outputs": [
    {
     "name": "stdout",
     "output_type": "stream",
     "text": [
      "AAPL-USD verisi scaled edilerek kaydedildi\n"
     ]
    }
   ],
   "source": [
    "scaler  = MinMaxScaler()\n",
    "\n",
    "#her bir veri çerçevesi için scaled dataset oluştur\n",
    "\n",
    "if not os.path.exists('datas/scaled_datasets'):\n",
    "    os.makedirs('datas/scaled_datasets')\n",
    "\n",
    "scaled_datasets = []\n",
    "\n",
    "for i in range(len(datasets)):\n",
    "    scaled_datasets.append(scaler.fit_transform(datasets[i]))\n",
    "    np.save(f'datas/scaled_datasets/{tickers[i]}.npy', scaled_datasets[i])\n",
    "    print(f'{tickers[i]} verisi scaled edilerek kaydedildi')\n",
    "    "
   ],
   "metadata": {
    "collapsed": false,
    "ExecuteTime": {
     "end_time": "2024-02-04T07:37:36.894566Z",
     "start_time": "2024-02-04T07:37:36.882980Z"
    }
   },
   "execution_count": 190
  },
  {
   "cell_type": "code",
   "outputs": [
    {
     "name": "stdout",
     "output_type": "stream",
     "text": [
      "AAPL-USD verisi dizilere bölünerek kaydedildi\n"
     ]
    }
   ],
   "source": [
    "# her bir veri çerçevesi için veriyi dizilere bölme\n",
    "\n",
    "seq_length = 60  # Son 60 günü kullanarak\n",
    "pred_length = 7  # Önümüzdeki 7 günü tahmin etme\n",
    "\n",
    "def create_sequences(data, seq_length, pred_length):\n",
    "    X, y = [], []\n",
    "    for i in range(len(data)-seq_length-pred_length):\n",
    "        X.append(data[i:i+seq_length])\n",
    "        y.append(data[i+seq_length:i+seq_length+pred_length])\n",
    "    return np.array(X), np.array(y)\n",
    "\n",
    "# her bir veri çerçevesi için veriyi dizilere bölme\n",
    "\n",
    "if not os.path.exists('datas/sequences'):\n",
    "    os.makedirs('datas/sequences')\n",
    "\n",
    "X, y = [], []\n",
    "\n",
    "for i in range(len(scaled_datasets)):\n",
    "    X_, y_ = create_sequences(scaled_datasets[i], seq_length, pred_length)\n",
    "    X.append(X_)\n",
    "    y.append(y_)\n",
    "    np.save(f'datas/sequences/X_{tickers[i]}.npy', X_)\n",
    "    np.save(f'datas/sequences/y_{tickers[i]}.npy', y_)\n",
    "    print(f'{tickers[i]} verisi dizilere bölünerek kaydedildi')\n",
    "    \n"
   ],
   "metadata": {
    "collapsed": false,
    "ExecuteTime": {
     "end_time": "2024-02-04T07:37:36.929754Z",
     "start_time": "2024-02-04T07:37:36.894698Z"
    }
   },
   "execution_count": 191
  },
  {
   "cell_type": "code",
   "outputs": [],
   "source": [
    "# her bir veri çerçevesi için  seq2seq attention modeli oluştur\n",
    "\n",
    "# Encoder\n",
    "encoder_inputs = Input(shape=(seq_length, len(features)))\n",
    "encoder_lstm = LSTM(100, return_state=True)\n",
    "encoder_outputs, state_h, state_c = encoder_lstm(encoder_inputs)\n",
    "encoder_states = [state_h, state_c]\n",
    "\n",
    "\n",
    "# Decoder\n",
    "decoder_inputs = RepeatVector(pred_length)(encoder_outputs)\n",
    "decoder_lstm = LSTM(100, return_sequences=True)\n",
    "decoder_outputs = decoder_lstm(decoder_inputs, initial_state=encoder_states)\n",
    "\n",
    "\n",
    "# Dikkat Mekanizması\n",
    "attention_layer = Attention(use_scale=True)\n",
    "attention_outputs = attention_layer([decoder_outputs, encoder_outputs])\n",
    "decoder_concat_input = Concatenate(axis=-1)([decoder_outputs, attention_outputs])\n",
    "\n",
    "\n",
    "# TimeDistributed Dense\n",
    "decoder_dense = TimeDistributed(Dense(len(features)))\n",
    "decoder_outputs = decoder_dense(decoder_concat_input)\n",
    "\n",
    "def create_model(encoder_inputs, decoder_outputs):\n",
    "    model = Model(encoder_inputs, decoder_outputs)\n",
    "    return model\n",
    "    \n"
   ],
   "metadata": {
    "collapsed": false,
    "ExecuteTime": {
     "end_time": "2024-02-04T07:37:37.635771Z",
     "start_time": "2024-02-04T07:37:36.915933Z"
    }
   },
   "execution_count": 192
  },
  {
   "cell_type": "code",
   "outputs": [
    {
     "name": "stdout",
     "output_type": "stream",
     "text": [
      "Epoch 1/100\n"
     ]
    },
    {
     "name": "stderr",
     "output_type": "stream",
     "text": [
      "2024-02-04 10:37:42.155598: W tensorflow/core/grappler/costs/op_level_cost_estimator.cc:693] Error in PredictCost() for the op: op: \"Softmax\" attr { key: \"T\" value { type: DT_FLOAT } } inputs { dtype: DT_FLOAT shape { unknown_rank: true } } device { type: \"CPU\" vendor: \"GenuineIntel\" model: \"110\" frequency: 2300 num_cores: 16 environment { key: \"cpu_instruction_set\" value: \"AVX SSE, SSE2, SSE3, SSSE3, SSE4.1, SSE4.2\" } environment { key: \"eigen\" value: \"3.4.90\" } l1_cache_size: 32768 l2_cache_size: 262144 l3_cache_size: 16777216 memory_size: 268435456 } outputs { dtype: DT_FLOAT shape { unknown_rank: true } }\n"
     ]
    },
    {
     "name": "stdout",
     "output_type": "stream",
     "text": [
      "8/8 [==============================] - 6s 179ms/step - loss: 0.0663 - val_loss: 0.0433\n",
      "Epoch 2/100\n",
      "1/8 [==>...........................] - ETA: 0s - loss: 0.0380"
     ]
    },
    {
     "name": "stderr",
     "output_type": "stream",
     "text": [
      "2024-02-04 10:37:43.831671: W tensorflow/core/grappler/costs/op_level_cost_estimator.cc:693] Error in PredictCost() for the op: op: \"Softmax\" attr { key: \"T\" value { type: DT_FLOAT } } inputs { dtype: DT_FLOAT shape { unknown_rank: true } } device { type: \"CPU\" vendor: \"GenuineIntel\" model: \"110\" frequency: 2300 num_cores: 16 environment { key: \"cpu_instruction_set\" value: \"AVX SSE, SSE2, SSE3, SSSE3, SSE4.1, SSE4.2\" } environment { key: \"eigen\" value: \"3.4.90\" } l1_cache_size: 32768 l2_cache_size: 262144 l3_cache_size: 16777216 memory_size: 268435456 } outputs { dtype: DT_FLOAT shape { unknown_rank: true } }\n"
     ]
    },
    {
     "name": "stdout",
     "output_type": "stream",
     "text": [
      "8/8 [==============================] - 0s 37ms/step - loss: 0.0219 - val_loss: 0.0169\n",
      "Epoch 3/100\n",
      "8/8 [==============================] - 0s 37ms/step - loss: 0.0171 - val_loss: 0.0128\n",
      "Epoch 4/100\n",
      "8/8 [==============================] - 0s 38ms/step - loss: 0.0125 - val_loss: 0.0115\n",
      "Epoch 5/100\n",
      "8/8 [==============================] - 0s 38ms/step - loss: 0.0100 - val_loss: 0.0106\n",
      "Epoch 6/100\n",
      "8/8 [==============================] - 0s 38ms/step - loss: 0.0087 - val_loss: 0.0118\n",
      "Epoch 7/100\n",
      "8/8 [==============================] - 0s 37ms/step - loss: 0.0084 - val_loss: 0.0108\n",
      "Epoch 8/100\n",
      "8/8 [==============================] - 0s 38ms/step - loss: 0.0083 - val_loss: 0.0108\n",
      "Epoch 9/100\n",
      "8/8 [==============================] - 0s 37ms/step - loss: 0.0080 - val_loss: 0.0105\n",
      "Epoch 10/100\n",
      "8/8 [==============================] - 0s 41ms/step - loss: 0.0079 - val_loss: 0.0101\n",
      "Epoch 11/100\n",
      "8/8 [==============================] - 0s 43ms/step - loss: 0.0078 - val_loss: 0.0103\n",
      "Epoch 12/100\n",
      "8/8 [==============================] - 0s 43ms/step - loss: 0.0077 - val_loss: 0.0102\n",
      "Epoch 13/100\n",
      "8/8 [==============================] - 0s 40ms/step - loss: 0.0076 - val_loss: 0.0097\n",
      "Epoch 14/100\n",
      "8/8 [==============================] - 0s 39ms/step - loss: 0.0075 - val_loss: 0.0103\n",
      "Epoch 15/100\n",
      "8/8 [==============================] - 0s 38ms/step - loss: 0.0074 - val_loss: 0.0094\n",
      "Epoch 16/100\n",
      "8/8 [==============================] - 0s 38ms/step - loss: 0.0074 - val_loss: 0.0092\n",
      "Epoch 17/100\n",
      "8/8 [==============================] - 0s 41ms/step - loss: 0.0073 - val_loss: 0.0092\n",
      "Epoch 18/100\n",
      "8/8 [==============================] - 0s 44ms/step - loss: 0.0074 - val_loss: 0.0094\n",
      "Epoch 19/100\n",
      "8/8 [==============================] - 0s 43ms/step - loss: 0.0072 - val_loss: 0.0093\n",
      "Epoch 20/100\n",
      "8/8 [==============================] - 0s 43ms/step - loss: 0.0073 - val_loss: 0.0088\n",
      "Epoch 21/100\n",
      "8/8 [==============================] - 0s 43ms/step - loss: 0.0072 - val_loss: 0.0087\n",
      "Epoch 22/100\n",
      "8/8 [==============================] - 0s 43ms/step - loss: 0.0072 - val_loss: 0.0090\n",
      "Epoch 23/100\n",
      "8/8 [==============================] - 0s 43ms/step - loss: 0.0072 - val_loss: 0.0090\n",
      "Epoch 24/100\n",
      "8/8 [==============================] - 0s 43ms/step - loss: 0.0072 - val_loss: 0.0087\n",
      "Epoch 25/100\n",
      "8/8 [==============================] - 0s 44ms/step - loss: 0.0072 - val_loss: 0.0089\n",
      "Epoch 26/100\n",
      "8/8 [==============================] - 0s 42ms/step - loss: 0.0071 - val_loss: 0.0091\n",
      "Epoch 27/100\n",
      "8/8 [==============================] - 0s 36ms/step - loss: 0.0070 - val_loss: 0.0086\n",
      "Epoch 28/100\n",
      "8/8 [==============================] - 0s 36ms/step - loss: 0.0071 - val_loss: 0.0086\n",
      "Epoch 29/100\n",
      "8/8 [==============================] - 0s 39ms/step - loss: 0.0072 - val_loss: 0.0090\n",
      "Epoch 30/100\n",
      "8/8 [==============================] - 0s 38ms/step - loss: 0.0073 - val_loss: 0.0085\n",
      "Epoch 31/100\n",
      "8/8 [==============================] - 0s 36ms/step - loss: 0.0073 - val_loss: 0.0088\n",
      "Epoch 32/100\n",
      "8/8 [==============================] - 0s 36ms/step - loss: 0.0071 - val_loss: 0.0089\n",
      "Epoch 33/100\n",
      "8/8 [==============================] - 0s 36ms/step - loss: 0.0070 - val_loss: 0.0088\n",
      "Epoch 34/100\n",
      "8/8 [==============================] - 0s 35ms/step - loss: 0.0072 - val_loss: 0.0090\n",
      "Epoch 35/100\n",
      "8/8 [==============================] - 0s 35ms/step - loss: 0.0070 - val_loss: 0.0091\n",
      "Epoch 36/100\n",
      "8/8 [==============================] - 0s 36ms/step - loss: 0.0070 - val_loss: 0.0086\n",
      "Epoch 37/100\n",
      "8/8 [==============================] - 0s 36ms/step - loss: 0.0069 - val_loss: 0.0086\n",
      "Epoch 38/100\n",
      "8/8 [==============================] - 0s 41ms/step - loss: 0.0072 - val_loss: 0.0088\n",
      "Epoch 39/100\n",
      "8/8 [==============================] - 0s 41ms/step - loss: 0.0072 - val_loss: 0.0087\n",
      "Epoch 40/100\n",
      "8/8 [==============================] - 0s 43ms/step - loss: 0.0072 - val_loss: 0.0086\n",
      "Epoch 41/100\n",
      "8/8 [==============================] - 0s 38ms/step - loss: 0.0070 - val_loss: 0.0087\n",
      "Epoch 42/100\n",
      "8/8 [==============================] - 0s 39ms/step - loss: 0.0069 - val_loss: 0.0085\n",
      "Epoch 43/100\n",
      "8/8 [==============================] - 0s 38ms/step - loss: 0.0069 - val_loss: 0.0086\n",
      "Epoch 44/100\n",
      "8/8 [==============================] - 0s 38ms/step - loss: 0.0069 - val_loss: 0.0088\n",
      "Epoch 45/100\n",
      "8/8 [==============================] - 0s 37ms/step - loss: 0.0069 - val_loss: 0.0087\n",
      "Epoch 46/100\n",
      "8/8 [==============================] - 0s 38ms/step - loss: 0.0069 - val_loss: 0.0085\n",
      "Epoch 47/100\n",
      "8/8 [==============================] - 0s 38ms/step - loss: 0.0069 - val_loss: 0.0086\n",
      "Epoch 48/100\n",
      "8/8 [==============================] - 0s 37ms/step - loss: 0.0069 - val_loss: 0.0084\n",
      "Epoch 49/100\n",
      "8/8 [==============================] - 0s 37ms/step - loss: 0.0069 - val_loss: 0.0083\n",
      "Epoch 50/100\n",
      "8/8 [==============================] - 0s 37ms/step - loss: 0.0070 - val_loss: 0.0083\n",
      "Epoch 51/100\n",
      "8/8 [==============================] - 0s 37ms/step - loss: 0.0069 - val_loss: 0.0085\n",
      "Epoch 52/100\n",
      "8/8 [==============================] - 0s 39ms/step - loss: 0.0070 - val_loss: 0.0084\n",
      "Epoch 53/100\n",
      "8/8 [==============================] - 0s 37ms/step - loss: 0.0068 - val_loss: 0.0082\n",
      "Epoch 54/100\n",
      "8/8 [==============================] - 0s 37ms/step - loss: 0.0069 - val_loss: 0.0082\n",
      "Epoch 55/100\n",
      "8/8 [==============================] - 0s 37ms/step - loss: 0.0069 - val_loss: 0.0083\n",
      "Epoch 56/100\n",
      "8/8 [==============================] - 0s 38ms/step - loss: 0.0070 - val_loss: 0.0086\n",
      "Epoch 57/100\n",
      "8/8 [==============================] - 0s 38ms/step - loss: 0.0069 - val_loss: 0.0083\n",
      "Epoch 58/100\n",
      "8/8 [==============================] - 0s 37ms/step - loss: 0.0068 - val_loss: 0.0083\n",
      "Epoch 59/100\n",
      "8/8 [==============================] - 0s 38ms/step - loss: 0.0069 - val_loss: 0.0085\n",
      "Epoch 60/100\n",
      "8/8 [==============================] - 0s 38ms/step - loss: 0.0069 - val_loss: 0.0081\n",
      "Epoch 61/100\n",
      "8/8 [==============================] - 0s 38ms/step - loss: 0.0068 - val_loss: 0.0081\n",
      "Epoch 62/100\n",
      "8/8 [==============================] - 0s 38ms/step - loss: 0.0067 - val_loss: 0.0087\n",
      "Epoch 63/100\n",
      "8/8 [==============================] - 0s 42ms/step - loss: 0.0068 - val_loss: 0.0084\n",
      "Epoch 64/100\n",
      "8/8 [==============================] - 0s 40ms/step - loss: 0.0068 - val_loss: 0.0084\n",
      "Epoch 65/100\n",
      "8/8 [==============================] - 0s 38ms/step - loss: 0.0068 - val_loss: 0.0083\n",
      "Epoch 66/100\n",
      "8/8 [==============================] - 0s 39ms/step - loss: 0.0068 - val_loss: 0.0080\n",
      "Epoch 67/100\n",
      "8/8 [==============================] - 0s 37ms/step - loss: 0.0067 - val_loss: 0.0085\n",
      "Epoch 68/100\n",
      "8/8 [==============================] - 0s 38ms/step - loss: 0.0069 - val_loss: 0.0083\n",
      "Epoch 69/100\n",
      "8/8 [==============================] - 0s 39ms/step - loss: 0.0070 - val_loss: 0.0082\n",
      "Epoch 70/100\n",
      "8/8 [==============================] - 0s 37ms/step - loss: 0.0068 - val_loss: 0.0086\n",
      "Epoch 71/100\n",
      "8/8 [==============================] - 0s 38ms/step - loss: 0.0068 - val_loss: 0.0084\n",
      "Epoch 72/100\n",
      "8/8 [==============================] - 0s 38ms/step - loss: 0.0067 - val_loss: 0.0084\n",
      "Epoch 73/100\n",
      "8/8 [==============================] - 0s 38ms/step - loss: 0.0067 - val_loss: 0.0084\n",
      "Epoch 74/100\n",
      "8/8 [==============================] - 0s 37ms/step - loss: 0.0067 - val_loss: 0.0084\n",
      "Epoch 75/100\n",
      "8/8 [==============================] - 0s 37ms/step - loss: 0.0067 - val_loss: 0.0082\n",
      "Epoch 76/100\n",
      "8/8 [==============================] - 0s 39ms/step - loss: 0.0067 - val_loss: 0.0081\n",
      "Epoch 77/100\n",
      "8/8 [==============================] - 0s 37ms/step - loss: 0.0068 - val_loss: 0.0086\n",
      "Epoch 78/100\n",
      "8/8 [==============================] - 0s 38ms/step - loss: 0.0068 - val_loss: 0.0079\n",
      "Epoch 79/100\n",
      "8/8 [==============================] - 0s 38ms/step - loss: 0.0067 - val_loss: 0.0079\n",
      "Epoch 80/100\n",
      "8/8 [==============================] - 0s 38ms/step - loss: 0.0067 - val_loss: 0.0085\n",
      "Epoch 81/100\n",
      "8/8 [==============================] - 0s 37ms/step - loss: 0.0066 - val_loss: 0.0078\n",
      "Epoch 82/100\n",
      "8/8 [==============================] - 0s 38ms/step - loss: 0.0066 - val_loss: 0.0080\n",
      "Epoch 83/100\n",
      "8/8 [==============================] - 0s 38ms/step - loss: 0.0067 - val_loss: 0.0083\n",
      "Epoch 84/100\n",
      "8/8 [==============================] - 0s 38ms/step - loss: 0.0066 - val_loss: 0.0081\n",
      "Epoch 85/100\n",
      "8/8 [==============================] - 0s 37ms/step - loss: 0.0067 - val_loss: 0.0078\n",
      "Epoch 86/100\n",
      "8/8 [==============================] - 0s 37ms/step - loss: 0.0066 - val_loss: 0.0081\n",
      "Epoch 87/100\n",
      "8/8 [==============================] - 0s 37ms/step - loss: 0.0066 - val_loss: 0.0080\n",
      "Epoch 88/100\n",
      "8/8 [==============================] - 0s 38ms/step - loss: 0.0066 - val_loss: 0.0081\n",
      "Epoch 89/100\n",
      "8/8 [==============================] - 0s 38ms/step - loss: 0.0064 - val_loss: 0.0082\n",
      "Epoch 90/100\n",
      "8/8 [==============================] - 0s 38ms/step - loss: 0.0064 - val_loss: 0.0081\n",
      "Epoch 91/100\n",
      "8/8 [==============================] - 0s 38ms/step - loss: 0.0064 - val_loss: 0.0084\n",
      "Epoch 92/100\n",
      "8/8 [==============================] - 0s 39ms/step - loss: 0.0064 - val_loss: 0.0090\n",
      "Epoch 93/100\n",
      "8/8 [==============================] - 0s 38ms/step - loss: 0.0064 - val_loss: 0.0085\n",
      "Epoch 94/100\n",
      "8/8 [==============================] - 0s 37ms/step - loss: 0.0063 - val_loss: 0.0086\n",
      "Epoch 95/100\n",
      "8/8 [==============================] - 0s 38ms/step - loss: 0.0063 - val_loss: 0.0086\n",
      "Epoch 96/100\n",
      "8/8 [==============================] - 0s 41ms/step - loss: 0.0063 - val_loss: 0.0088\n",
      "Epoch 97/100\n",
      "8/8 [==============================] - 0s 43ms/step - loss: 0.0064 - val_loss: 0.0083\n",
      "Epoch 98/100\n",
      "8/8 [==============================] - 0s 38ms/step - loss: 0.0065 - val_loss: 0.0083\n",
      "Epoch 99/100\n",
      "8/8 [==============================] - 0s 38ms/step - loss: 0.0064 - val_loss: 0.0087\n",
      "Epoch 100/100\n",
      "8/8 [==============================] - 0s 38ms/step - loss: 0.0063 - val_loss: 0.0092\n",
      "AAPL-USD modeli eğitildi ve kaydedildi\n"
     ]
    },
    {
     "name": "stderr",
     "output_type": "stream",
     "text": [
      "/Users/mustafakapici/anaconda3/envs/all/lib/python3.11/site-packages/keras/src/engine/training.py:3079: UserWarning: You are saving your model as an HDF5 file via `model.save()`. This file format is considered legacy. We recommend using instead the native Keras format, e.g. `model.save('my_model.keras')`.\n",
      "  saving_api.save_model(\n"
     ]
    }
   ],
   "source": [
    "# her bir veri çerçevesi için modeli oluştur ve eğit\n",
    "\n",
    "if not os.path.exists('datas/models'):\n",
    "    os.makedirs('datas/models')\n",
    "\n",
    "models = []\n",
    "batch_size = 64\n",
    "epochs = 100\n",
    "\n",
    "for i in range(len(scaled_datasets)):\n",
    "    # modeli oluştur\n",
    "    model = create_model(encoder_inputs, decoder_outputs)\n",
    "    \n",
    "    # modeli derle\n",
    "    model.compile(optimizer='adam', loss='mean_squared_error')\n",
    "    \n",
    "    # modeli listeye ekle\n",
    "    models.append(model)\n",
    "    \n",
    "    # modeli eğit\n",
    "    models[i].fit(X[i], y[i],\n",
    "                  batch_size=batch_size, epochs=epochs, \n",
    "                  validation_split=0.2, verbose=1)\n",
    "    \n",
    "    # modeli kaydet\n",
    "    models[i].save(f'datas/models/{tickers[i]}_model.h5')\n",
    "    print(f'{tickers[i]} modeli eğitildi ve kaydedildi')\n"
   ],
   "metadata": {
    "collapsed": false,
    "ExecuteTime": {
     "end_time": "2024-02-04T07:38:14.230212Z",
     "start_time": "2024-02-04T07:37:37.636126Z"
    }
   },
   "execution_count": 193
  },
  {
   "cell_type": "code",
   "outputs": [
    {
     "data": {
      "image/png": "[encoded data removed]",
      "text/plain": "<IPython.core.display.Image object>"
     },
     "execution_count": 194,
     "metadata": {},
     "output_type": "execute_result"
    }
   ],
   "source": [
    "# modelerden bir tanesini png kaydedelim\n",
    "from tensorflow.keras.utils import plot_model\n",
    "plot_model(models[0], to_file='datas/model.png', show_shapes=True, show_layer_names=True , rankdir='TB', expand_nested=True, dpi=96, )"
   ],
   "metadata": {
    "collapsed": false,
    "ExecuteTime": {
     "end_time": "2024-02-04T07:38:14.671799Z",
     "start_time": "2024-02-04T07:38:14.221592Z"
    }
   },
   "execution_count": 194
  },
  {
   "cell_type": "code",
   "outputs": [
    {
     "name": "stdout",
     "output_type": "stream",
     "text": [
      "1/1 [==============================] - 1s 1s/step\n",
      "AAPL-USD verisi için prediction yapıldı ve kaydedildi\n"
     ]
    },
    {
     "name": "stderr",
     "output_type": "stream",
     "text": [
      "2024-02-04 10:38:15.644838: W tensorflow/core/grappler/costs/op_level_cost_estimator.cc:693] Error in PredictCost() for the op: op: \"Softmax\" attr { key: \"T\" value { type: DT_FLOAT } } inputs { dtype: DT_FLOAT shape { unknown_rank: true } } device { type: \"CPU\" vendor: \"GenuineIntel\" model: \"110\" frequency: 2300 num_cores: 16 environment { key: \"cpu_instruction_set\" value: \"AVX SSE, SSE2, SSE3, SSSE3, SSE4.1, SSE4.2\" } environment { key: \"eigen\" value: \"3.4.90\" } l1_cache_size: 32768 l2_cache_size: 262144 l3_cache_size: 16777216 memory_size: 268435456 } outputs { dtype: DT_FLOAT shape { unknown_rank: true } }\n"
     ]
    }
   ],
   "source": [
    "# her bir veri çerçevesi için last_sequence = data_scaled[-seq_length:] mantığında prediction yap\n",
    "\n",
    "if not os.path.exists('datas/predictions'):\n",
    "    os.makedirs('datas/predictions')\n",
    "    \n",
    "predictions = []    \n",
    "\n",
    "for i in range(len(scaled_datasets)):\n",
    "    last_sequence = scaled_datasets[i][-seq_length:]\n",
    "    last_sequence = last_sequence.reshape((1, seq_length, len(features)))\n",
    "    predicted = models[i].predict(last_sequence)\n",
    "    \n",
    "    predictions.append(predicted)\n",
    "    np.save(f'datas/predictions/{tickers[i]}_prediction.npy', predicted)\n",
    "    print(f'{tickers[i]} verisi için prediction yapıldı ve kaydedildi')\n",
    "    "
   ],
   "metadata": {
    "collapsed": false,
    "ExecuteTime": {
     "end_time": "2024-02-04T07:38:15.784537Z",
     "start_time": "2024-02-04T07:38:14.671303Z"
    }
   },
   "execution_count": 195
  },
  {
   "cell_type": "code",
   "outputs": [
    {
     "ename": "ValueError",
     "evalue": "non-broadcastable output operand with shape (14,1) doesn't match the broadcast shape (14,2)",
     "output_type": "error",
     "traceback": [
      "\u001B[0;31m---------------------------------------------------------------------------\u001B[0m",
      "\u001B[0;31mValueError\u001B[0m                                Traceback (most recent call last)",
      "Cell \u001B[0;32mIn[196], line 10\u001B[0m\n\u001B[1;32m      8\u001B[0m \u001B[38;5;28;01mfor\u001B[39;00m i \u001B[38;5;129;01min\u001B[39;00m \u001B[38;5;28mrange\u001B[39m(\u001B[38;5;28mlen\u001B[39m(scaled_datasets)):\n\u001B[1;32m      9\u001B[0m     predicted \u001B[38;5;241m=\u001B[39m predictions[i]\n\u001B[0;32m---> 10\u001B[0m     predicted \u001B[38;5;241m=\u001B[39m \u001B[43mscaler\u001B[49m\u001B[38;5;241;43m.\u001B[39;49m\u001B[43minverse_transform\u001B[49m\u001B[43m(\u001B[49m\u001B[43mpredicted\u001B[49m\u001B[38;5;241;43m.\u001B[39;49m\u001B[43mreshape\u001B[49m\u001B[43m(\u001B[49m\u001B[38;5;241;43m-\u001B[39;49m\u001B[38;5;241;43m1\u001B[39;49m\u001B[43m,\u001B[49m\u001B[43m \u001B[49m\u001B[38;5;241;43m1\u001B[39;49m\u001B[43m)\u001B[49m\u001B[43m)\u001B[49m\n\u001B[1;32m     11\u001B[0m     forecasts\u001B[38;5;241m.\u001B[39mappend(predicted)\n\u001B[1;32m     12\u001B[0m     np\u001B[38;5;241m.\u001B[39msave(\u001B[38;5;124mf\u001B[39m\u001B[38;5;124m'\u001B[39m\u001B[38;5;124mdatas/forecasts/\u001B[39m\u001B[38;5;132;01m{\u001B[39;00mtickers[i]\u001B[38;5;132;01m}\u001B[39;00m\u001B[38;5;124m_forecast.npy\u001B[39m\u001B[38;5;124m'\u001B[39m, predicted)\n",
      "File \u001B[0;32m~/anaconda3/envs/all/lib/python3.11/site-packages/sklearn/preprocessing/_data.py:548\u001B[0m, in \u001B[0;36mMinMaxScaler.inverse_transform\u001B[0;34m(self, X)\u001B[0m\n\u001B[1;32m    542\u001B[0m check_is_fitted(\u001B[38;5;28mself\u001B[39m)\n\u001B[1;32m    544\u001B[0m X \u001B[38;5;241m=\u001B[39m check_array(\n\u001B[1;32m    545\u001B[0m     X, copy\u001B[38;5;241m=\u001B[39m\u001B[38;5;28mself\u001B[39m\u001B[38;5;241m.\u001B[39mcopy, dtype\u001B[38;5;241m=\u001B[39mFLOAT_DTYPES, force_all_finite\u001B[38;5;241m=\u001B[39m\u001B[38;5;124m\"\u001B[39m\u001B[38;5;124mallow-nan\u001B[39m\u001B[38;5;124m\"\u001B[39m\n\u001B[1;32m    546\u001B[0m )\n\u001B[0;32m--> 548\u001B[0m \u001B[43mX\u001B[49m\u001B[43m \u001B[49m\u001B[38;5;241;43m-\u001B[39;49m\u001B[38;5;241;43m=\u001B[39;49m\u001B[43m \u001B[49m\u001B[38;5;28;43mself\u001B[39;49m\u001B[38;5;241;43m.\u001B[39;49m\u001B[43mmin_\u001B[49m\n\u001B[1;32m    549\u001B[0m X \u001B[38;5;241m/\u001B[39m\u001B[38;5;241m=\u001B[39m \u001B[38;5;28mself\u001B[39m\u001B[38;5;241m.\u001B[39mscale_\n\u001B[1;32m    550\u001B[0m \u001B[38;5;28;01mreturn\u001B[39;00m X\n",
      "\u001B[0;31mValueError\u001B[0m: non-broadcastable output operand with shape (14,1) doesn't match the broadcast shape (14,2)"
     ]
    }
   ],
   "source": [
    "# her bir veri çerçevesi için predictionları geri dönüşüm yap ve yeni bi df e kaydet\n",
    "\n",
    "if not os.path.exists('datas/forecasts'):\n",
    "    os.makedirs('datas/forecasts')\n",
    "    \n",
    "forecasts = []\n",
    "\n",
    "for i in range(len(scaled_datasets)):\n",
    "    predicted = predictions[i]    \n",
    "    predicted = scaler.inverse_transform(predicted.reshape(-1, 1))\n",
    "    forecasts.append(predicted)\n",
    "    np.save(f'datas/forecasts/{tickers[i]}_forecast.npy', predicted)\n",
    "    print(f'{tickers[i]} verisi için forecast yapıldı ve kaydedildi')\n",
    "    \n",
    "# dataframe oluştur\n",
    "\n",
    "for i in range(len(forecasts)):\n",
    "    forecast = forecasts[i]\n",
    "    forecast_dates = datasets[i].index[-pred_length:]\n",
    "    forecast = pd.DataFrame(forecast, index=forecast_dates, columns=[f'{tickers[i]} Forecast'])\n",
    "    forecast.to_csv(f'datas/forecasts/{tickers[i]}_forecast.csv')\n",
    "    print(f'{tickers[i]} verisi için forecast dataframe oluşturuldu ve kaydedildi')\n",
    "    "
   ],
   "metadata": {
    "collapsed": false,
    "ExecuteTime": {
     "end_time": "2024-02-04T07:38:15.904126Z",
     "start_time": "2024-02-04T07:38:15.787231Z"
    }
   },
   "execution_count": 196
  },
  {
   "cell_type": "code",
   "outputs": [],
   "source": [
    "#dataframeleri bi yazdır tarihleri ile\n",
    "\n",
    "for i in range(len(forecasts)):\n",
    "    forecast = pd.read_csv(f'datas/forecasts/{tickers[i]}_forecast.csv', index_col=0)\n",
    "    print(f'{tickers[i]} verisi için forecast dataframe')\n",
    "    print(forecast)"
   ],
   "metadata": {
    "collapsed": false,
    "ExecuteTime": {
     "end_time": "2024-02-04T07:38:15.923316Z",
     "start_time": "2024-02-04T07:38:15.906293Z"
    }
   },
   "execution_count": null
  },
  {
   "cell_type": "code",
   "outputs": [],
   "source": [
    "# Gerçek veriyi yazdır aynı tarihteki \n",
    "\n",
    "for i in range(len(datasets)):\n",
    "    print(f'{tickers[i]} verisi için gerçek veri')\n",
    "    print(datasets[i].tail(pred_length))\n"
   ],
   "metadata": {
    "collapsed": false,
    "ExecuteTime": {
     "start_time": "2024-02-04T07:38:15.908655Z"
    }
   },
   "execution_count": null
  },
  {
   "cell_type": "markdown",
   "source": [
    "## 2. Kısım"
   ],
   "metadata": {
    "collapsed": false
   }
  },
  {
   "cell_type": "code",
   "outputs": [],
   "source": [
    "# her bir veri çerçevesi için eğitime uygun full data hazırla (tensor dataset)\n",
    "\n",
    "if not os.path.exists('datas/full_data'):\n",
    "    os.makedirs('datas/full_data')\n",
    "    \n",
    "full_data = []\n",
    "\n",
    "for i in range(len(scaled_datasets)):\n",
    "    \n",
    "    scaled_dataset_all = np.load(f'datas/scaled_datasets/{tickers[i]}.npy')\n",
    "    \n",
    "    scaled_dataset_all = tf.data.Dataset.from_tensor_slices(scaled_dataset_all)\n",
    "    \n",
    "    scaled_dataset_all = tf.data.Dataset.zip((scaled_dataset_all, scaled_dataset_all.skip(seq_length)))\n",
    "    \n",
    "    full_data.append(scaled_dataset_all)\n",
    "    \n",
    "    full_data[i] = full_data[i].batch(batch_size, drop_remainder=True).prefetch(1)\n",
    "    \n",
    "    full_data[i] = full_data[i].cache(f'datas/full_data/{tickers[i]}_full_data')\n",
    "\n",
    "    print(f'{tickers[i]} verisi için full data hazırlandı')\n",
    "    \n",
    "    \n",
    "    "
   ],
   "metadata": {
    "collapsed": false,
    "ExecuteTime": {
     "start_time": "2024-02-04T07:38:15.911006Z"
    }
   },
   "execution_count": null
  },
  {
   "cell_type": "code",
   "outputs": [],
   "source": [
    "# her bir veri çerçevesi için modeli import et ve eğit\n",
    "\n",
    "for i in range(len(scaled_datasets)):\n",
    "    model = tf.keras.models.load_model(f'datas/models/{tickers[i]}_model.h5', custom_objects={'Attention': Attention})\n",
    "    \n",
    "    model.compile(optimizer='adam', loss='mean_squared_error')\n",
    "    \n",
    "    model.fit(full_data[i], epochs=epochs, verbose=1)\n",
    "    \n",
    "    model.save(f'datas/models/{tickers[i]}_model.h5')\n",
    "    \n",
    "    print(f'{tickers[i]} modeli eğitildi ve kaydedildi')\n",
    "    "
   ],
   "metadata": {
    "collapsed": false,
    "ExecuteTime": {
     "start_time": "2024-02-04T07:38:15.913235Z"
    }
   },
   "execution_count": null
  },
  {
   "cell_type": "code",
   "outputs": [],
   "source": [
    "into_future = 1\n",
    "\n",
    "def future_forecast(model, data, into_future):\n",
    "    future_forecast = []\n",
    "    last_sequence = data[-seq_length:]\n",
    "    last_sequence = last_sequence.reshape((1, seq_length, len(features)))\n",
    "    for i in range(into_future):\n",
    "        predicted = model.predict(last_sequence)\n",
    "        future_forecast.append(predicted)\n",
    "        last_sequence = np.append(last_sequence, predicted)\n",
    "        last_sequence = last_sequence[-seq_length:]\n",
    "        last_sequence = last_sequence.reshape((1, seq_length, len(features)))\n",
    "    return future_forecast\n"
   ],
   "metadata": {
    "collapsed": false,
    "ExecuteTime": {
     "start_time": "2024-02-04T07:38:15.915600Z"
    }
   },
   "execution_count": null
  },
  {
   "cell_type": "code",
   "outputs": [],
   "source": [
    "print( into_future , seq_length,)"
   ],
   "metadata": {
    "collapsed": false,
    "ExecuteTime": {
     "start_time": "2024-02-04T07:38:15.919543Z"
    }
   },
   "execution_count": null
  },
  {
   "cell_type": "markdown",
   "source": [],
   "metadata": {
    "collapsed": false
   }
  },
  {
   "cell_type": "code",
   "outputs": [],
   "source": [
    "future_values = []\n",
    "\n",
    "if not os.path.exists('datas/future_values'):\n",
    "    os.makedirs('datas/future_values')\n",
    "\n",
    "for i in range(len(scaled_datasets)):\n",
    "    future_values.append(future_forecast(models[i], scaled_datasets[i], into_future))\n",
    "    np.save(f'datas/future_values/{tickers[i]}_future_values.npy', future_values[i])\n",
    "    print(f'{tickers[i]} verisi için future values yapıldı ve kaydedildi')\n",
    "    "
   ],
   "metadata": {
    "collapsed": false,
    "ExecuteTime": {
     "start_time": "2024-02-04T07:38:15.921721Z"
    }
   },
   "execution_count": null
  },
  {
   "cell_type": "code",
   "outputs": [],
   "source": [
    "# her bir veri çerçevesi için future valuesları geri dönüşüm yap ve yeni bi df e kaydet\n",
    "\n",
    "if not os.path.exists('datas/future_forecasts'):\n",
    "    os.makedirs('datas/future_forecasts')\n",
    "    \n",
    "future_forecasts = []\n",
    "\n",
    "for i in range(len(scaled_datasets)):\n",
    "    \n",
    "    #np array olarak future values al\n",
    "    future_value = np.load(f'datas/future_values/{tickers[i]}_future_values.npy')\n",
    "    future_value = scaler.inverse_transform(future_value.reshape(-1, 1))\n",
    "    future_forecasts.append(future_value)\n",
    "    np.save(f'datas/future_forecasts/{tickers[i]}_future_forecast.npy', future_value)\n",
    "    print(f'{tickers[i]} verisi için future forecast yapıldı ve kaydedildi')\n",
    "    print(future_forecasts[i].shape)"
   ],
   "metadata": {
    "collapsed": false,
    "ExecuteTime": {
     "start_time": "2024-02-04T07:38:15.923299Z"
    }
   },
   "execution_count": null
  },
  {
   "cell_type": "code",
   "outputs": [],
   "source": [
    "print(future_forecasts[0])"
   ],
   "metadata": {
    "collapsed": false,
    "ExecuteTime": {
     "end_time": "2024-02-04T07:38:15.926965Z",
     "start_time": "2024-02-04T07:38:15.924967Z"
    }
   },
   "execution_count": null
  },
  {
   "cell_type": "code",
   "outputs": [],
   "source": [
    "print(into_future) "
   ],
   "metadata": {
    "collapsed": false,
    "ExecuteTime": {
     "start_time": "2024-02-04T07:38:15.926728Z"
    }
   },
   "execution_count": null
  },
  {
   "cell_type": "code",
   "outputs": [],
   "source": [
    "\n",
    "# dataframe oluştur\n",
    "\n",
    "if not os.path.exists('datas/future_forecasts_df'):\n",
    "    os.makedirs('datas/future_forecasts_df')\n",
    "\n",
    "hafta = (into_future*7) + 1\n",
    "\n",
    "for i in range(len(future_forecasts)):\n",
    "    future_forecast = future_forecasts[i]\n",
    "    future_forecast_dates = pd.date_range(start=datasets[i].index[-1], periods=hafta)[1:]\n",
    "    future_forecast = pd.DataFrame(future_forecast, index=future_forecast_dates, columns=features)\n",
    "    future_forecast.to_csv(f'datas/future_forecasts_df/{tickers[i]}_future_forecast.csv')\n",
    "    print(f'{tickers[i]} verisi için future forecast dataframe oluşturuldu ve kaydedildi')"
   ],
   "metadata": {
    "collapsed": false,
    "ExecuteTime": {
     "start_time": "2024-02-04T07:38:15.928275Z"
    }
   },
   "execution_count": null
  },
  {
   "cell_type": "code",
   "outputs": [],
   "source": [],
   "metadata": {
    "collapsed": false,
    "ExecuteTime": {
     "start_time": "2024-02-04T07:38:15.929825Z"
    }
   }
  }
 ],
 "metadata": {
  "kernelspec": {
   "display_name": "all",
   "language": "python",
   "name": "python3"
  },
  "language_info": {
   "codemirror_mode": {
    "name": "ipython",
    "version": 3
   },
   "file_extension": ".py",
   "mimetype": "text/x-python",
   "name": "python",
   "nbconvert_exporter": "python",
   "pygments_lexer": "ipython3",
   "version": "3.6.13"
  }
 },
 "nbformat": 4,
 "nbformat_minor": 2
}
