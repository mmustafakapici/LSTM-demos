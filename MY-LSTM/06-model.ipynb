{
 "cells": [
  {
   "cell_type": "code",
   "execution_count": 1,
   "metadata": {
    "ExecuteTime": {
     "end_time": "2024-02-03T17:22:44.865006Z",
     "start_time": "2024-02-03T17:22:35.619835Z"
    }
   },
   "outputs": [
    {
     "name": "stderr",
     "output_type": "stream",
     "text": [
      "2024-02-03 20:22:41.159095: I tensorflow/core/platform/cpu_feature_guard.cc:182] This TensorFlow binary is optimized to use available CPU instructions in performance-critical operations.\n",
      "To enable the following instructions: AVX2 FMA, in other operations, rebuild TensorFlow with the appropriate compiler flags.\n"
     ]
    }
   ],
   "source": [
    "\n",
    "# yeni hali \n",
    "\n",
    "import numpy as np\n",
    "import pandas as pd \n",
    "import matplotlib.pyplot as plt\n",
    "\n",
    "import os\n",
    "\n",
    "import tensorflow as tf\n",
    "\n",
    "from tensorflow.keras.models import Sequential \n",
    "from tensorflow.keras.layers import Dense, Dropout, Activation, Flatten,  LSTM , BatchNormalization\n"
   ]
  },
  {
   "cell_type": "code",
   "execution_count": 2,
   "metadata": {
    "ExecuteTime": {
     "end_time": "2024-02-03T17:22:45.004015Z",
     "start_time": "2024-02-03T17:22:44.865919Z"
    }
   },
   "outputs": [],
   "source": [
    "import yfinance as yf"
   ]
  },
  {
   "cell_type": "code",
   "outputs": [],
   "source": [
    "import os\n",
    "\n",
    "if os.path.exists('datas'):\n",
    "    #sil\n",
    "    os.system('rm -rf datas')"
   ],
   "metadata": {
    "collapsed": false,
    "ExecuteTime": {
     "end_time": "2024-02-03T17:22:45.007163Z",
     "start_time": "2024-02-03T17:22:45.002298Z"
    }
   },
   "execution_count": 3
  },
  {
   "cell_type": "code",
   "execution_count": 4,
   "metadata": {
    "ExecuteTime": {
     "end_time": "2024-02-03T17:22:45.017451Z",
     "start_time": "2024-02-03T17:22:45.009800Z"
    }
   },
   "outputs": [],
   "source": [
    "period = '3000d'\n",
    "\n",
    "#tickers = ['AAPL', 'MSFT', 'AMZN', 'GOOG', 'GOOGL', 'TSLA', 'NVDA', 'PYPL', 'ADBE','BTC-USD', 'ETH-USD', 'XRP-USD', 'LTC-USD','BCH-USD', 'BNB-USD', 'LINK-USD', 'ADA-USD', 'XLM-USD', 'SOL-USD', 'TRX-USD']\n",
    "\n",
    "tickers = ['SOL-USD']\n"
   ]
  },
  {
   "cell_type": "code",
   "execution_count": 5,
   "metadata": {
    "ExecuteTime": {
     "end_time": "2024-02-03T17:22:45.019440Z",
     "start_time": "2024-02-03T17:22:45.015796Z"
    }
   },
   "outputs": [],
   "source": [
    "def indir_ve_df_olustur(tickers, period):\n",
    "    # Her bir hisse senedi için boş bir sözlük oluşturun\n",
    "    pariteler = {}\n",
    "\n",
    "    # Her bir hisse senedi için döngü oluşturun ve verileri indirin\n",
    "    for ticker in tickers:\n",
    "        try:\n",
    "            # Hisse senedi verilerini indirin\n",
    "            veri = yf.download(ticker, period=period)\n",
    "            \n",
    "            # Veriyi sözlüğe ekleyin\n",
    "            pariteler[ticker] = veri\n",
    "        except Exception as e:\n",
    "            print(f\"{ticker} için veri indirilirken bir hata oluştu: {str(e)}\")\n",
    "\n",
    "    # Her bir hisse senedi için ayrı bir veri çerçevesi oluşturun\n",
    "    df_listesi = [veri for veri in pariteler.values()]\n",
    "\n",
    "    return df_listesi"
   ]
  },
  {
   "cell_type": "code",
   "execution_count": 6,
   "metadata": {
    "ExecuteTime": {
     "end_time": "2024-02-03T17:22:45.029669Z",
     "start_time": "2024-02-03T17:22:45.019746Z"
    }
   },
   "outputs": [],
   "source": [
    "#pariteler adında klasör oluştur :\n",
    "\n",
    "import os \n",
    "\n",
    "if not os.path.exists('datas/pariteler'):\n",
    "    os.makedirs('datas/pariteler')\n",
    "\n"
   ]
  },
  {
   "cell_type": "code",
   "execution_count": 7,
   "metadata": {
    "ExecuteTime": {
     "end_time": "2024-02-03T17:23:04.132849Z",
     "start_time": "2024-02-03T17:22:45.026479Z"
    }
   },
   "outputs": [
    {
     "name": "stdout",
     "output_type": "stream",
     "text": [
      "[*********************100%%**********************]  1 of 1 completed\n"
     ]
    }
   ],
   "source": [
    "datasets = indir_ve_df_olustur(tickers, period)\n",
    "\n",
    "#pariteler içine kaydet \n",
    "\n",
    "for i in range(len(datasets)):\n",
    "    datasets[i].to_csv(f'datas/pariteler/{tickers[i]}.csv')\n",
    "    #print(f'{tickers[i]} verisi csv olarak kaydedildi')\n"
   ]
  },
  {
   "cell_type": "code",
   "execution_count": 8,
   "metadata": {
    "ExecuteTime": {
     "end_time": "2024-02-03T17:23:04.559155Z",
     "start_time": "2024-02-03T17:23:04.127184Z"
    }
   },
   "outputs": [
    {
     "name": "stderr",
     "output_type": "stream",
     "text": [
      "/var/folders/w9/3z_zbj956tj44glgzg44rgbr0000gn/T/ipykernel_50734/1521282515.py:11: PerformanceWarning: DataFrame is highly fragmented.  This is usually the result of calling `frame.insert` many times, which has poor performance.  Consider joining all columns at once using pd.concat(axis=1) instead. To get a de-fragmented frame, use `newframe = frame.copy()`\n",
      "  df[f'Önceki_{i}_Düşük'] = df['Low'].shift(i)\n",
      "/var/folders/w9/3z_zbj956tj44glgzg44rgbr0000gn/T/ipykernel_50734/1521282515.py:12: PerformanceWarning: DataFrame is highly fragmented.  This is usually the result of calling `frame.insert` many times, which has poor performance.  Consider joining all columns at once using pd.concat(axis=1) instead. To get a de-fragmented frame, use `newframe = frame.copy()`\n",
      "  df[f'Önceki_{i}_Kapanış'] = df['Close'].shift(i)\n",
      "/var/folders/w9/3z_zbj956tj44glgzg44rgbr0000gn/T/ipykernel_50734/1521282515.py:13: PerformanceWarning: DataFrame is highly fragmented.  This is usually the result of calling `frame.insert` many times, which has poor performance.  Consider joining all columns at once using pd.concat(axis=1) instead. To get a de-fragmented frame, use `newframe = frame.copy()`\n",
      "  df[f'Önceki_{i}_Adj'] = df['Adj Close'].shift(i)\n",
      "/var/folders/w9/3z_zbj956tj44glgzg44rgbr0000gn/T/ipykernel_50734/1521282515.py:14: PerformanceWarning: DataFrame is highly fragmented.  This is usually the result of calling `frame.insert` many times, which has poor performance.  Consider joining all columns at once using pd.concat(axis=1) instead. To get a de-fragmented frame, use `newframe = frame.copy()`\n",
      "  df[f'Önceki_{i}_Hacim'] = df['Volume'].shift(i)\n",
      "/var/folders/w9/3z_zbj956tj44glgzg44rgbr0000gn/T/ipykernel_50734/1521282515.py:9: PerformanceWarning: DataFrame is highly fragmented.  This is usually the result of calling `frame.insert` many times, which has poor performance.  Consider joining all columns at once using pd.concat(axis=1) instead. To get a de-fragmented frame, use `newframe = frame.copy()`\n",
      "  df[f'Önceki_{i}_Açılış'] = df['Open'].shift(i)\n",
      "/var/folders/w9/3z_zbj956tj44glgzg44rgbr0000gn/T/ipykernel_50734/1521282515.py:10: PerformanceWarning: DataFrame is highly fragmented.  This is usually the result of calling `frame.insert` many times, which has poor performance.  Consider joining all columns at once using pd.concat(axis=1) instead. To get a de-fragmented frame, use `newframe = frame.copy()`\n",
      "  df[f'Önceki_{i}_Yüksek'] = df['High'].shift(i)\n",
      "/var/folders/w9/3z_zbj956tj44glgzg44rgbr0000gn/T/ipykernel_50734/1521282515.py:11: PerformanceWarning: DataFrame is highly fragmented.  This is usually the result of calling `frame.insert` many times, which has poor performance.  Consider joining all columns at once using pd.concat(axis=1) instead. To get a de-fragmented frame, use `newframe = frame.copy()`\n",
      "  df[f'Önceki_{i}_Düşük'] = df['Low'].shift(i)\n",
      "/var/folders/w9/3z_zbj956tj44glgzg44rgbr0000gn/T/ipykernel_50734/1521282515.py:12: PerformanceWarning: DataFrame is highly fragmented.  This is usually the result of calling `frame.insert` many times, which has poor performance.  Consider joining all columns at once using pd.concat(axis=1) instead. To get a de-fragmented frame, use `newframe = frame.copy()`\n",
      "  df[f'Önceki_{i}_Kapanış'] = df['Close'].shift(i)\n",
      "/var/folders/w9/3z_zbj956tj44glgzg44rgbr0000gn/T/ipykernel_50734/1521282515.py:13: PerformanceWarning: DataFrame is highly fragmented.  This is usually the result of calling `frame.insert` many times, which has poor performance.  Consider joining all columns at once using pd.concat(axis=1) instead. To get a de-fragmented frame, use `newframe = frame.copy()`\n",
      "  df[f'Önceki_{i}_Adj'] = df['Adj Close'].shift(i)\n",
      "/var/folders/w9/3z_zbj956tj44glgzg44rgbr0000gn/T/ipykernel_50734/1521282515.py:14: PerformanceWarning: DataFrame is highly fragmented.  This is usually the result of calling `frame.insert` many times, which has poor performance.  Consider joining all columns at once using pd.concat(axis=1) instead. To get a de-fragmented frame, use `newframe = frame.copy()`\n",
      "  df[f'Önceki_{i}_Hacim'] = df['Volume'].shift(i)\n",
      "/var/folders/w9/3z_zbj956tj44glgzg44rgbr0000gn/T/ipykernel_50734/1521282515.py:9: PerformanceWarning: DataFrame is highly fragmented.  This is usually the result of calling `frame.insert` many times, which has poor performance.  Consider joining all columns at once using pd.concat(axis=1) instead. To get a de-fragmented frame, use `newframe = frame.copy()`\n",
      "  df[f'Önceki_{i}_Açılış'] = df['Open'].shift(i)\n",
      "/var/folders/w9/3z_zbj956tj44glgzg44rgbr0000gn/T/ipykernel_50734/1521282515.py:10: PerformanceWarning: DataFrame is highly fragmented.  This is usually the result of calling `frame.insert` many times, which has poor performance.  Consider joining all columns at once using pd.concat(axis=1) instead. To get a de-fragmented frame, use `newframe = frame.copy()`\n",
      "  df[f'Önceki_{i}_Yüksek'] = df['High'].shift(i)\n",
      "/var/folders/w9/3z_zbj956tj44glgzg44rgbr0000gn/T/ipykernel_50734/1521282515.py:11: PerformanceWarning: DataFrame is highly fragmented.  This is usually the result of calling `frame.insert` many times, which has poor performance.  Consider joining all columns at once using pd.concat(axis=1) instead. To get a de-fragmented frame, use `newframe = frame.copy()`\n",
      "  df[f'Önceki_{i}_Düşük'] = df['Low'].shift(i)\n",
      "/var/folders/w9/3z_zbj956tj44glgzg44rgbr0000gn/T/ipykernel_50734/1521282515.py:12: PerformanceWarning: DataFrame is highly fragmented.  This is usually the result of calling `frame.insert` many times, which has poor performance.  Consider joining all columns at once using pd.concat(axis=1) instead. To get a de-fragmented frame, use `newframe = frame.copy()`\n",
      "  df[f'Önceki_{i}_Kapanış'] = df['Close'].shift(i)\n",
      "/var/folders/w9/3z_zbj956tj44glgzg44rgbr0000gn/T/ipykernel_50734/1521282515.py:13: PerformanceWarning: DataFrame is highly fragmented.  This is usually the result of calling `frame.insert` many times, which has poor performance.  Consider joining all columns at once using pd.concat(axis=1) instead. To get a de-fragmented frame, use `newframe = frame.copy()`\n",
      "  df[f'Önceki_{i}_Adj'] = df['Adj Close'].shift(i)\n",
      "/var/folders/w9/3z_zbj956tj44glgzg44rgbr0000gn/T/ipykernel_50734/1521282515.py:14: PerformanceWarning: DataFrame is highly fragmented.  This is usually the result of calling `frame.insert` many times, which has poor performance.  Consider joining all columns at once using pd.concat(axis=1) instead. To get a de-fragmented frame, use `newframe = frame.copy()`\n",
      "  df[f'Önceki_{i}_Hacim'] = df['Volume'].shift(i)\n",
      "/var/folders/w9/3z_zbj956tj44glgzg44rgbr0000gn/T/ipykernel_50734/1521282515.py:9: PerformanceWarning: DataFrame is highly fragmented.  This is usually the result of calling `frame.insert` many times, which has poor performance.  Consider joining all columns at once using pd.concat(axis=1) instead. To get a de-fragmented frame, use `newframe = frame.copy()`\n",
      "  df[f'Önceki_{i}_Açılış'] = df['Open'].shift(i)\n",
      "/var/folders/w9/3z_zbj956tj44glgzg44rgbr0000gn/T/ipykernel_50734/1521282515.py:10: PerformanceWarning: DataFrame is highly fragmented.  This is usually the result of calling `frame.insert` many times, which has poor performance.  Consider joining all columns at once using pd.concat(axis=1) instead. To get a de-fragmented frame, use `newframe = frame.copy()`\n",
      "  df[f'Önceki_{i}_Yüksek'] = df['High'].shift(i)\n",
      "/var/folders/w9/3z_zbj956tj44glgzg44rgbr0000gn/T/ipykernel_50734/1521282515.py:11: PerformanceWarning: DataFrame is highly fragmented.  This is usually the result of calling `frame.insert` many times, which has poor performance.  Consider joining all columns at once using pd.concat(axis=1) instead. To get a de-fragmented frame, use `newframe = frame.copy()`\n",
      "  df[f'Önceki_{i}_Düşük'] = df['Low'].shift(i)\n",
      "/var/folders/w9/3z_zbj956tj44glgzg44rgbr0000gn/T/ipykernel_50734/1521282515.py:12: PerformanceWarning: DataFrame is highly fragmented.  This is usually the result of calling `frame.insert` many times, which has poor performance.  Consider joining all columns at once using pd.concat(axis=1) instead. To get a de-fragmented frame, use `newframe = frame.copy()`\n",
      "  df[f'Önceki_{i}_Kapanış'] = df['Close'].shift(i)\n",
      "/var/folders/w9/3z_zbj956tj44glgzg44rgbr0000gn/T/ipykernel_50734/1521282515.py:13: PerformanceWarning: DataFrame is highly fragmented.  This is usually the result of calling `frame.insert` many times, which has poor performance.  Consider joining all columns at once using pd.concat(axis=1) instead. To get a de-fragmented frame, use `newframe = frame.copy()`\n",
      "  df[f'Önceki_{i}_Adj'] = df['Adj Close'].shift(i)\n",
      "/var/folders/w9/3z_zbj956tj44glgzg44rgbr0000gn/T/ipykernel_50734/1521282515.py:14: PerformanceWarning: DataFrame is highly fragmented.  This is usually the result of calling `frame.insert` many times, which has poor performance.  Consider joining all columns at once using pd.concat(axis=1) instead. To get a de-fragmented frame, use `newframe = frame.copy()`\n",
      "  df[f'Önceki_{i}_Hacim'] = df['Volume'].shift(i)\n",
      "/var/folders/w9/3z_zbj956tj44glgzg44rgbr0000gn/T/ipykernel_50734/1521282515.py:9: PerformanceWarning: DataFrame is highly fragmented.  This is usually the result of calling `frame.insert` many times, which has poor performance.  Consider joining all columns at once using pd.concat(axis=1) instead. To get a de-fragmented frame, use `newframe = frame.copy()`\n",
      "  df[f'Önceki_{i}_Açılış'] = df['Open'].shift(i)\n",
      "/var/folders/w9/3z_zbj956tj44glgzg44rgbr0000gn/T/ipykernel_50734/1521282515.py:10: PerformanceWarning: DataFrame is highly fragmented.  This is usually the result of calling `frame.insert` many times, which has poor performance.  Consider joining all columns at once using pd.concat(axis=1) instead. To get a de-fragmented frame, use `newframe = frame.copy()`\n",
      "  df[f'Önceki_{i}_Yüksek'] = df['High'].shift(i)\n",
      "/var/folders/w9/3z_zbj956tj44glgzg44rgbr0000gn/T/ipykernel_50734/1521282515.py:11: PerformanceWarning: DataFrame is highly fragmented.  This is usually the result of calling `frame.insert` many times, which has poor performance.  Consider joining all columns at once using pd.concat(axis=1) instead. To get a de-fragmented frame, use `newframe = frame.copy()`\n",
      "  df[f'Önceki_{i}_Düşük'] = df['Low'].shift(i)\n",
      "/var/folders/w9/3z_zbj956tj44glgzg44rgbr0000gn/T/ipykernel_50734/1521282515.py:12: PerformanceWarning: DataFrame is highly fragmented.  This is usually the result of calling `frame.insert` many times, which has poor performance.  Consider joining all columns at once using pd.concat(axis=1) instead. To get a de-fragmented frame, use `newframe = frame.copy()`\n",
      "  df[f'Önceki_{i}_Kapanış'] = df['Close'].shift(i)\n",
      "/var/folders/w9/3z_zbj956tj44glgzg44rgbr0000gn/T/ipykernel_50734/1521282515.py:13: PerformanceWarning: DataFrame is highly fragmented.  This is usually the result of calling `frame.insert` many times, which has poor performance.  Consider joining all columns at once using pd.concat(axis=1) instead. To get a de-fragmented frame, use `newframe = frame.copy()`\n",
      "  df[f'Önceki_{i}_Adj'] = df['Adj Close'].shift(i)\n",
      "/var/folders/w9/3z_zbj956tj44glgzg44rgbr0000gn/T/ipykernel_50734/1521282515.py:14: PerformanceWarning: DataFrame is highly fragmented.  This is usually the result of calling `frame.insert` many times, which has poor performance.  Consider joining all columns at once using pd.concat(axis=1) instead. To get a de-fragmented frame, use `newframe = frame.copy()`\n",
      "  df[f'Önceki_{i}_Hacim'] = df['Volume'].shift(i)\n",
      "/var/folders/w9/3z_zbj956tj44glgzg44rgbr0000gn/T/ipykernel_50734/1521282515.py:9: PerformanceWarning: DataFrame is highly fragmented.  This is usually the result of calling `frame.insert` many times, which has poor performance.  Consider joining all columns at once using pd.concat(axis=1) instead. To get a de-fragmented frame, use `newframe = frame.copy()`\n",
      "  df[f'Önceki_{i}_Açılış'] = df['Open'].shift(i)\n",
      "/var/folders/w9/3z_zbj956tj44glgzg44rgbr0000gn/T/ipykernel_50734/1521282515.py:10: PerformanceWarning: DataFrame is highly fragmented.  This is usually the result of calling `frame.insert` many times, which has poor performance.  Consider joining all columns at once using pd.concat(axis=1) instead. To get a de-fragmented frame, use `newframe = frame.copy()`\n",
      "  df[f'Önceki_{i}_Yüksek'] = df['High'].shift(i)\n",
      "/var/folders/w9/3z_zbj956tj44glgzg44rgbr0000gn/T/ipykernel_50734/1521282515.py:11: PerformanceWarning: DataFrame is highly fragmented.  This is usually the result of calling `frame.insert` many times, which has poor performance.  Consider joining all columns at once using pd.concat(axis=1) instead. To get a de-fragmented frame, use `newframe = frame.copy()`\n",
      "  df[f'Önceki_{i}_Düşük'] = df['Low'].shift(i)\n",
      "/var/folders/w9/3z_zbj956tj44glgzg44rgbr0000gn/T/ipykernel_50734/1521282515.py:12: PerformanceWarning: DataFrame is highly fragmented.  This is usually the result of calling `frame.insert` many times, which has poor performance.  Consider joining all columns at once using pd.concat(axis=1) instead. To get a de-fragmented frame, use `newframe = frame.copy()`\n",
      "  df[f'Önceki_{i}_Kapanış'] = df['Close'].shift(i)\n",
      "/var/folders/w9/3z_zbj956tj44glgzg44rgbr0000gn/T/ipykernel_50734/1521282515.py:13: PerformanceWarning: DataFrame is highly fragmented.  This is usually the result of calling `frame.insert` many times, which has poor performance.  Consider joining all columns at once using pd.concat(axis=1) instead. To get a de-fragmented frame, use `newframe = frame.copy()`\n",
      "  df[f'Önceki_{i}_Adj'] = df['Adj Close'].shift(i)\n",
      "/var/folders/w9/3z_zbj956tj44glgzg44rgbr0000gn/T/ipykernel_50734/1521282515.py:14: PerformanceWarning: DataFrame is highly fragmented.  This is usually the result of calling `frame.insert` many times, which has poor performance.  Consider joining all columns at once using pd.concat(axis=1) instead. To get a de-fragmented frame, use `newframe = frame.copy()`\n",
      "  df[f'Önceki_{i}_Hacim'] = df['Volume'].shift(i)\n",
      "/var/folders/w9/3z_zbj956tj44glgzg44rgbr0000gn/T/ipykernel_50734/1521282515.py:9: PerformanceWarning: DataFrame is highly fragmented.  This is usually the result of calling `frame.insert` many times, which has poor performance.  Consider joining all columns at once using pd.concat(axis=1) instead. To get a de-fragmented frame, use `newframe = frame.copy()`\n",
      "  df[f'Önceki_{i}_Açılış'] = df['Open'].shift(i)\n",
      "/var/folders/w9/3z_zbj956tj44glgzg44rgbr0000gn/T/ipykernel_50734/1521282515.py:10: PerformanceWarning: DataFrame is highly fragmented.  This is usually the result of calling `frame.insert` many times, which has poor performance.  Consider joining all columns at once using pd.concat(axis=1) instead. To get a de-fragmented frame, use `newframe = frame.copy()`\n",
      "  df[f'Önceki_{i}_Yüksek'] = df['High'].shift(i)\n",
      "/var/folders/w9/3z_zbj956tj44glgzg44rgbr0000gn/T/ipykernel_50734/1521282515.py:11: PerformanceWarning: DataFrame is highly fragmented.  This is usually the result of calling `frame.insert` many times, which has poor performance.  Consider joining all columns at once using pd.concat(axis=1) instead. To get a de-fragmented frame, use `newframe = frame.copy()`\n",
      "  df[f'Önceki_{i}_Düşük'] = df['Low'].shift(i)\n",
      "/var/folders/w9/3z_zbj956tj44glgzg44rgbr0000gn/T/ipykernel_50734/1521282515.py:12: PerformanceWarning: DataFrame is highly fragmented.  This is usually the result of calling `frame.insert` many times, which has poor performance.  Consider joining all columns at once using pd.concat(axis=1) instead. To get a de-fragmented frame, use `newframe = frame.copy()`\n",
      "  df[f'Önceki_{i}_Kapanış'] = df['Close'].shift(i)\n",
      "/var/folders/w9/3z_zbj956tj44glgzg44rgbr0000gn/T/ipykernel_50734/1521282515.py:13: PerformanceWarning: DataFrame is highly fragmented.  This is usually the result of calling `frame.insert` many times, which has poor performance.  Consider joining all columns at once using pd.concat(axis=1) instead. To get a de-fragmented frame, use `newframe = frame.copy()`\n",
      "  df[f'Önceki_{i}_Adj'] = df['Adj Close'].shift(i)\n",
      "/var/folders/w9/3z_zbj956tj44glgzg44rgbr0000gn/T/ipykernel_50734/1521282515.py:14: PerformanceWarning: DataFrame is highly fragmented.  This is usually the result of calling `frame.insert` many times, which has poor performance.  Consider joining all columns at once using pd.concat(axis=1) instead. To get a de-fragmented frame, use `newframe = frame.copy()`\n",
      "  df[f'Önceki_{i}_Hacim'] = df['Volume'].shift(i)\n",
      "/var/folders/w9/3z_zbj956tj44glgzg44rgbr0000gn/T/ipykernel_50734/1521282515.py:9: PerformanceWarning: DataFrame is highly fragmented.  This is usually the result of calling `frame.insert` many times, which has poor performance.  Consider joining all columns at once using pd.concat(axis=1) instead. To get a de-fragmented frame, use `newframe = frame.copy()`\n",
      "  df[f'Önceki_{i}_Açılış'] = df['Open'].shift(i)\n",
      "/var/folders/w9/3z_zbj956tj44glgzg44rgbr0000gn/T/ipykernel_50734/1521282515.py:10: PerformanceWarning: DataFrame is highly fragmented.  This is usually the result of calling `frame.insert` many times, which has poor performance.  Consider joining all columns at once using pd.concat(axis=1) instead. To get a de-fragmented frame, use `newframe = frame.copy()`\n",
      "  df[f'Önceki_{i}_Yüksek'] = df['High'].shift(i)\n",
      "/var/folders/w9/3z_zbj956tj44glgzg44rgbr0000gn/T/ipykernel_50734/1521282515.py:11: PerformanceWarning: DataFrame is highly fragmented.  This is usually the result of calling `frame.insert` many times, which has poor performance.  Consider joining all columns at once using pd.concat(axis=1) instead. To get a de-fragmented frame, use `newframe = frame.copy()`\n",
      "  df[f'Önceki_{i}_Düşük'] = df['Low'].shift(i)\n",
      "/var/folders/w9/3z_zbj956tj44glgzg44rgbr0000gn/T/ipykernel_50734/1521282515.py:12: PerformanceWarning: DataFrame is highly fragmented.  This is usually the result of calling `frame.insert` many times, which has poor performance.  Consider joining all columns at once using pd.concat(axis=1) instead. To get a de-fragmented frame, use `newframe = frame.copy()`\n",
      "  df[f'Önceki_{i}_Kapanış'] = df['Close'].shift(i)\n",
      "/var/folders/w9/3z_zbj956tj44glgzg44rgbr0000gn/T/ipykernel_50734/1521282515.py:13: PerformanceWarning: DataFrame is highly fragmented.  This is usually the result of calling `frame.insert` many times, which has poor performance.  Consider joining all columns at once using pd.concat(axis=1) instead. To get a de-fragmented frame, use `newframe = frame.copy()`\n",
      "  df[f'Önceki_{i}_Adj'] = df['Adj Close'].shift(i)\n",
      "/var/folders/w9/3z_zbj956tj44glgzg44rgbr0000gn/T/ipykernel_50734/1521282515.py:14: PerformanceWarning: DataFrame is highly fragmented.  This is usually the result of calling `frame.insert` many times, which has poor performance.  Consider joining all columns at once using pd.concat(axis=1) instead. To get a de-fragmented frame, use `newframe = frame.copy()`\n",
      "  df[f'Önceki_{i}_Hacim'] = df['Volume'].shift(i)\n",
      "/var/folders/w9/3z_zbj956tj44glgzg44rgbr0000gn/T/ipykernel_50734/1521282515.py:9: PerformanceWarning: DataFrame is highly fragmented.  This is usually the result of calling `frame.insert` many times, which has poor performance.  Consider joining all columns at once using pd.concat(axis=1) instead. To get a de-fragmented frame, use `newframe = frame.copy()`\n",
      "  df[f'Önceki_{i}_Açılış'] = df['Open'].shift(i)\n",
      "/var/folders/w9/3z_zbj956tj44glgzg44rgbr0000gn/T/ipykernel_50734/1521282515.py:10: PerformanceWarning: DataFrame is highly fragmented.  This is usually the result of calling `frame.insert` many times, which has poor performance.  Consider joining all columns at once using pd.concat(axis=1) instead. To get a de-fragmented frame, use `newframe = frame.copy()`\n",
      "  df[f'Önceki_{i}_Yüksek'] = df['High'].shift(i)\n",
      "/var/folders/w9/3z_zbj956tj44glgzg44rgbr0000gn/T/ipykernel_50734/1521282515.py:11: PerformanceWarning: DataFrame is highly fragmented.  This is usually the result of calling `frame.insert` many times, which has poor performance.  Consider joining all columns at once using pd.concat(axis=1) instead. To get a de-fragmented frame, use `newframe = frame.copy()`\n",
      "  df[f'Önceki_{i}_Düşük'] = df['Low'].shift(i)\n",
      "/var/folders/w9/3z_zbj956tj44glgzg44rgbr0000gn/T/ipykernel_50734/1521282515.py:12: PerformanceWarning: DataFrame is highly fragmented.  This is usually the result of calling `frame.insert` many times, which has poor performance.  Consider joining all columns at once using pd.concat(axis=1) instead. To get a de-fragmented frame, use `newframe = frame.copy()`\n",
      "  df[f'Önceki_{i}_Kapanış'] = df['Close'].shift(i)\n",
      "/var/folders/w9/3z_zbj956tj44glgzg44rgbr0000gn/T/ipykernel_50734/1521282515.py:13: PerformanceWarning: DataFrame is highly fragmented.  This is usually the result of calling `frame.insert` many times, which has poor performance.  Consider joining all columns at once using pd.concat(axis=1) instead. To get a de-fragmented frame, use `newframe = frame.copy()`\n",
      "  df[f'Önceki_{i}_Adj'] = df['Adj Close'].shift(i)\n",
      "/var/folders/w9/3z_zbj956tj44glgzg44rgbr0000gn/T/ipykernel_50734/1521282515.py:14: PerformanceWarning: DataFrame is highly fragmented.  This is usually the result of calling `frame.insert` many times, which has poor performance.  Consider joining all columns at once using pd.concat(axis=1) instead. To get a de-fragmented frame, use `newframe = frame.copy()`\n",
      "  df[f'Önceki_{i}_Hacim'] = df['Volume'].shift(i)\n",
      "/var/folders/w9/3z_zbj956tj44glgzg44rgbr0000gn/T/ipykernel_50734/1521282515.py:9: PerformanceWarning: DataFrame is highly fragmented.  This is usually the result of calling `frame.insert` many times, which has poor performance.  Consider joining all columns at once using pd.concat(axis=1) instead. To get a de-fragmented frame, use `newframe = frame.copy()`\n",
      "  df[f'Önceki_{i}_Açılış'] = df['Open'].shift(i)\n",
      "/var/folders/w9/3z_zbj956tj44glgzg44rgbr0000gn/T/ipykernel_50734/1521282515.py:10: PerformanceWarning: DataFrame is highly fragmented.  This is usually the result of calling `frame.insert` many times, which has poor performance.  Consider joining all columns at once using pd.concat(axis=1) instead. To get a de-fragmented frame, use `newframe = frame.copy()`\n",
      "  df[f'Önceki_{i}_Yüksek'] = df['High'].shift(i)\n",
      "/var/folders/w9/3z_zbj956tj44glgzg44rgbr0000gn/T/ipykernel_50734/1521282515.py:11: PerformanceWarning: DataFrame is highly fragmented.  This is usually the result of calling `frame.insert` many times, which has poor performance.  Consider joining all columns at once using pd.concat(axis=1) instead. To get a de-fragmented frame, use `newframe = frame.copy()`\n",
      "  df[f'Önceki_{i}_Düşük'] = df['Low'].shift(i)\n",
      "/var/folders/w9/3z_zbj956tj44glgzg44rgbr0000gn/T/ipykernel_50734/1521282515.py:12: PerformanceWarning: DataFrame is highly fragmented.  This is usually the result of calling `frame.insert` many times, which has poor performance.  Consider joining all columns at once using pd.concat(axis=1) instead. To get a de-fragmented frame, use `newframe = frame.copy()`\n",
      "  df[f'Önceki_{i}_Kapanış'] = df['Close'].shift(i)\n",
      "/var/folders/w9/3z_zbj956tj44glgzg44rgbr0000gn/T/ipykernel_50734/1521282515.py:13: PerformanceWarning: DataFrame is highly fragmented.  This is usually the result of calling `frame.insert` many times, which has poor performance.  Consider joining all columns at once using pd.concat(axis=1) instead. To get a de-fragmented frame, use `newframe = frame.copy()`\n",
      "  df[f'Önceki_{i}_Adj'] = df['Adj Close'].shift(i)\n",
      "/var/folders/w9/3z_zbj956tj44glgzg44rgbr0000gn/T/ipykernel_50734/1521282515.py:14: PerformanceWarning: DataFrame is highly fragmented.  This is usually the result of calling `frame.insert` many times, which has poor performance.  Consider joining all columns at once using pd.concat(axis=1) instead. To get a de-fragmented frame, use `newframe = frame.copy()`\n",
      "  df[f'Önceki_{i}_Hacim'] = df['Volume'].shift(i)\n",
      "/var/folders/w9/3z_zbj956tj44glgzg44rgbr0000gn/T/ipykernel_50734/1521282515.py:9: PerformanceWarning: DataFrame is highly fragmented.  This is usually the result of calling `frame.insert` many times, which has poor performance.  Consider joining all columns at once using pd.concat(axis=1) instead. To get a de-fragmented frame, use `newframe = frame.copy()`\n",
      "  df[f'Önceki_{i}_Açılış'] = df['Open'].shift(i)\n",
      "/var/folders/w9/3z_zbj956tj44glgzg44rgbr0000gn/T/ipykernel_50734/1521282515.py:10: PerformanceWarning: DataFrame is highly fragmented.  This is usually the result of calling `frame.insert` many times, which has poor performance.  Consider joining all columns at once using pd.concat(axis=1) instead. To get a de-fragmented frame, use `newframe = frame.copy()`\n",
      "  df[f'Önceki_{i}_Yüksek'] = df['High'].shift(i)\n",
      "/var/folders/w9/3z_zbj956tj44glgzg44rgbr0000gn/T/ipykernel_50734/1521282515.py:11: PerformanceWarning: DataFrame is highly fragmented.  This is usually the result of calling `frame.insert` many times, which has poor performance.  Consider joining all columns at once using pd.concat(axis=1) instead. To get a de-fragmented frame, use `newframe = frame.copy()`\n",
      "  df[f'Önceki_{i}_Düşük'] = df['Low'].shift(i)\n",
      "/var/folders/w9/3z_zbj956tj44glgzg44rgbr0000gn/T/ipykernel_50734/1521282515.py:12: PerformanceWarning: DataFrame is highly fragmented.  This is usually the result of calling `frame.insert` many times, which has poor performance.  Consider joining all columns at once using pd.concat(axis=1) instead. To get a de-fragmented frame, use `newframe = frame.copy()`\n",
      "  df[f'Önceki_{i}_Kapanış'] = df['Close'].shift(i)\n",
      "/var/folders/w9/3z_zbj956tj44glgzg44rgbr0000gn/T/ipykernel_50734/1521282515.py:13: PerformanceWarning: DataFrame is highly fragmented.  This is usually the result of calling `frame.insert` many times, which has poor performance.  Consider joining all columns at once using pd.concat(axis=1) instead. To get a de-fragmented frame, use `newframe = frame.copy()`\n",
      "  df[f'Önceki_{i}_Adj'] = df['Adj Close'].shift(i)\n",
      "/var/folders/w9/3z_zbj956tj44glgzg44rgbr0000gn/T/ipykernel_50734/1521282515.py:14: PerformanceWarning: DataFrame is highly fragmented.  This is usually the result of calling `frame.insert` many times, which has poor performance.  Consider joining all columns at once using pd.concat(axis=1) instead. To get a de-fragmented frame, use `newframe = frame.copy()`\n",
      "  df[f'Önceki_{i}_Hacim'] = df['Volume'].shift(i)\n",
      "/var/folders/w9/3z_zbj956tj44glgzg44rgbr0000gn/T/ipykernel_50734/1521282515.py:9: PerformanceWarning: DataFrame is highly fragmented.  This is usually the result of calling `frame.insert` many times, which has poor performance.  Consider joining all columns at once using pd.concat(axis=1) instead. To get a de-fragmented frame, use `newframe = frame.copy()`\n",
      "  df[f'Önceki_{i}_Açılış'] = df['Open'].shift(i)\n",
      "/var/folders/w9/3z_zbj956tj44glgzg44rgbr0000gn/T/ipykernel_50734/1521282515.py:10: PerformanceWarning: DataFrame is highly fragmented.  This is usually the result of calling `frame.insert` many times, which has poor performance.  Consider joining all columns at once using pd.concat(axis=1) instead. To get a de-fragmented frame, use `newframe = frame.copy()`\n",
      "  df[f'Önceki_{i}_Yüksek'] = df['High'].shift(i)\n",
      "/var/folders/w9/3z_zbj956tj44glgzg44rgbr0000gn/T/ipykernel_50734/1521282515.py:11: PerformanceWarning: DataFrame is highly fragmented.  This is usually the result of calling `frame.insert` many times, which has poor performance.  Consider joining all columns at once using pd.concat(axis=1) instead. To get a de-fragmented frame, use `newframe = frame.copy()`\n",
      "  df[f'Önceki_{i}_Düşük'] = df['Low'].shift(i)\n",
      "/var/folders/w9/3z_zbj956tj44glgzg44rgbr0000gn/T/ipykernel_50734/1521282515.py:12: PerformanceWarning: DataFrame is highly fragmented.  This is usually the result of calling `frame.insert` many times, which has poor performance.  Consider joining all columns at once using pd.concat(axis=1) instead. To get a de-fragmented frame, use `newframe = frame.copy()`\n",
      "  df[f'Önceki_{i}_Kapanış'] = df['Close'].shift(i)\n",
      "/var/folders/w9/3z_zbj956tj44glgzg44rgbr0000gn/T/ipykernel_50734/1521282515.py:13: PerformanceWarning: DataFrame is highly fragmented.  This is usually the result of calling `frame.insert` many times, which has poor performance.  Consider joining all columns at once using pd.concat(axis=1) instead. To get a de-fragmented frame, use `newframe = frame.copy()`\n",
      "  df[f'Önceki_{i}_Adj'] = df['Adj Close'].shift(i)\n",
      "/var/folders/w9/3z_zbj956tj44glgzg44rgbr0000gn/T/ipykernel_50734/1521282515.py:14: PerformanceWarning: DataFrame is highly fragmented.  This is usually the result of calling `frame.insert` many times, which has poor performance.  Consider joining all columns at once using pd.concat(axis=1) instead. To get a de-fragmented frame, use `newframe = frame.copy()`\n",
      "  df[f'Önceki_{i}_Hacim'] = df['Volume'].shift(i)\n",
      "/var/folders/w9/3z_zbj956tj44glgzg44rgbr0000gn/T/ipykernel_50734/1521282515.py:9: PerformanceWarning: DataFrame is highly fragmented.  This is usually the result of calling `frame.insert` many times, which has poor performance.  Consider joining all columns at once using pd.concat(axis=1) instead. To get a de-fragmented frame, use `newframe = frame.copy()`\n",
      "  df[f'Önceki_{i}_Açılış'] = df['Open'].shift(i)\n",
      "/var/folders/w9/3z_zbj956tj44glgzg44rgbr0000gn/T/ipykernel_50734/1521282515.py:10: PerformanceWarning: DataFrame is highly fragmented.  This is usually the result of calling `frame.insert` many times, which has poor performance.  Consider joining all columns at once using pd.concat(axis=1) instead. To get a de-fragmented frame, use `newframe = frame.copy()`\n",
      "  df[f'Önceki_{i}_Yüksek'] = df['High'].shift(i)\n",
      "/var/folders/w9/3z_zbj956tj44glgzg44rgbr0000gn/T/ipykernel_50734/1521282515.py:11: PerformanceWarning: DataFrame is highly fragmented.  This is usually the result of calling `frame.insert` many times, which has poor performance.  Consider joining all columns at once using pd.concat(axis=1) instead. To get a de-fragmented frame, use `newframe = frame.copy()`\n",
      "  df[f'Önceki_{i}_Düşük'] = df['Low'].shift(i)\n",
      "/var/folders/w9/3z_zbj956tj44glgzg44rgbr0000gn/T/ipykernel_50734/1521282515.py:12: PerformanceWarning: DataFrame is highly fragmented.  This is usually the result of calling `frame.insert` many times, which has poor performance.  Consider joining all columns at once using pd.concat(axis=1) instead. To get a de-fragmented frame, use `newframe = frame.copy()`\n",
      "  df[f'Önceki_{i}_Kapanış'] = df['Close'].shift(i)\n",
      "/var/folders/w9/3z_zbj956tj44glgzg44rgbr0000gn/T/ipykernel_50734/1521282515.py:13: PerformanceWarning: DataFrame is highly fragmented.  This is usually the result of calling `frame.insert` many times, which has poor performance.  Consider joining all columns at once using pd.concat(axis=1) instead. To get a de-fragmented frame, use `newframe = frame.copy()`\n",
      "  df[f'Önceki_{i}_Adj'] = df['Adj Close'].shift(i)\n",
      "/var/folders/w9/3z_zbj956tj44glgzg44rgbr0000gn/T/ipykernel_50734/1521282515.py:14: PerformanceWarning: DataFrame is highly fragmented.  This is usually the result of calling `frame.insert` many times, which has poor performance.  Consider joining all columns at once using pd.concat(axis=1) instead. To get a de-fragmented frame, use `newframe = frame.copy()`\n",
      "  df[f'Önceki_{i}_Hacim'] = df['Volume'].shift(i)\n",
      "/var/folders/w9/3z_zbj956tj44glgzg44rgbr0000gn/T/ipykernel_50734/1521282515.py:9: PerformanceWarning: DataFrame is highly fragmented.  This is usually the result of calling `frame.insert` many times, which has poor performance.  Consider joining all columns at once using pd.concat(axis=1) instead. To get a de-fragmented frame, use `newframe = frame.copy()`\n",
      "  df[f'Önceki_{i}_Açılış'] = df['Open'].shift(i)\n",
      "/var/folders/w9/3z_zbj956tj44glgzg44rgbr0000gn/T/ipykernel_50734/1521282515.py:10: PerformanceWarning: DataFrame is highly fragmented.  This is usually the result of calling `frame.insert` many times, which has poor performance.  Consider joining all columns at once using pd.concat(axis=1) instead. To get a de-fragmented frame, use `newframe = frame.copy()`\n",
      "  df[f'Önceki_{i}_Yüksek'] = df['High'].shift(i)\n",
      "/var/folders/w9/3z_zbj956tj44glgzg44rgbr0000gn/T/ipykernel_50734/1521282515.py:11: PerformanceWarning: DataFrame is highly fragmented.  This is usually the result of calling `frame.insert` many times, which has poor performance.  Consider joining all columns at once using pd.concat(axis=1) instead. To get a de-fragmented frame, use `newframe = frame.copy()`\n",
      "  df[f'Önceki_{i}_Düşük'] = df['Low'].shift(i)\n",
      "/var/folders/w9/3z_zbj956tj44glgzg44rgbr0000gn/T/ipykernel_50734/1521282515.py:12: PerformanceWarning: DataFrame is highly fragmented.  This is usually the result of calling `frame.insert` many times, which has poor performance.  Consider joining all columns at once using pd.concat(axis=1) instead. To get a de-fragmented frame, use `newframe = frame.copy()`\n",
      "  df[f'Önceki_{i}_Kapanış'] = df['Close'].shift(i)\n",
      "/var/folders/w9/3z_zbj956tj44glgzg44rgbr0000gn/T/ipykernel_50734/1521282515.py:13: PerformanceWarning: DataFrame is highly fragmented.  This is usually the result of calling `frame.insert` many times, which has poor performance.  Consider joining all columns at once using pd.concat(axis=1) instead. To get a de-fragmented frame, use `newframe = frame.copy()`\n",
      "  df[f'Önceki_{i}_Adj'] = df['Adj Close'].shift(i)\n",
      "/var/folders/w9/3z_zbj956tj44glgzg44rgbr0000gn/T/ipykernel_50734/1521282515.py:14: PerformanceWarning: DataFrame is highly fragmented.  This is usually the result of calling `frame.insert` many times, which has poor performance.  Consider joining all columns at once using pd.concat(axis=1) instead. To get a de-fragmented frame, use `newframe = frame.copy()`\n",
      "  df[f'Önceki_{i}_Hacim'] = df['Volume'].shift(i)\n"
     ]
    },
    {
     "name": "stdout",
     "output_type": "stream",
     "text": [
      "SOL-USD verisi windowed olarak kaydedildi\n"
     ]
    }
   ],
   "source": [
    "window = 30\n",
    "\n",
    "def veri_hazirla(df, window):\n",
    "    # Veri çerçevesinin kopyasını oluşturun\n",
    "    df = df.copy()\n",
    "    \n",
    "    # Veri çerçevesine yeni sütunlar ekleyin\n",
    "    for i in range(1, window + 1):\n",
    "        df[f'Önceki_{i}_Açılış'] = df['Open'].shift(i)\n",
    "        df[f'Önceki_{i}_Yüksek'] = df['High'].shift(i)\n",
    "        df[f'Önceki_{i}_Düşük'] = df['Low'].shift(i)\n",
    "        df[f'Önceki_{i}_Kapanış'] = df['Close'].shift(i)\n",
    "        df[f'Önceki_{i}_Adj'] = df['Adj Close'].shift(i)\n",
    "        df[f'Önceki_{i}_Hacim'] = df['Volume'].shift(i)\n",
    "        \n",
    "    # NaN değerleri bırakın\n",
    "    df.dropna(inplace=True)\n",
    "    \n",
    "    return df\n",
    "\n",
    "# Her bir veri çerçevesi için döngü oluşturun ve verileri hazırlayın\n",
    "data_windowed = [veri_hazirla(df, window) for df in datasets]\n",
    "\n",
    "\n",
    "if not os.path.exists('datas/windowed'):\n",
    "    os.makedirs('datas/windowed')\n",
    "\n",
    "# Her bir veri çerçevesi için parite ismiyle birlikte windowed klasörüne kaydedin \n",
    "for i in range(len(data_windowed)):\n",
    "    data_windowed[i].to_csv(f'datas/windowed/{tickers[i]}_windowed.csv')\n",
    "    print(f'{tickers[i]} verisi windowed olarak kaydedildi')\n",
    "\n"
   ]
  },
  {
   "cell_type": "code",
   "execution_count": 9,
   "metadata": {
    "ExecuteTime": {
     "end_time": "2024-02-03T17:23:04.571254Z",
     "start_time": "2024-02-03T17:23:04.559055Z"
    }
   },
   "outputs": [],
   "source": [
    "#data_windowed"
   ]
  },
  {
   "cell_type": "code",
   "execution_count": 10,
   "metadata": {
    "ExecuteTime": {
     "end_time": "2024-02-03T17:23:05.355216Z",
     "start_time": "2024-02-03T17:23:04.570008Z"
    }
   },
   "outputs": [
    {
     "name": "stdout",
     "output_type": "stream",
     "text": [
      "SOL-USD verisi X ve y olarak kaydedildi\n"
     ]
    }
   ],
   "source": [
    "#her bir veri çerçevesi için X  = features(öncekiler) y = labels olan veriyapısını kuruyoruz (labels  = ['Open','High', 'Low', 'Close', 'Adj Close', 'Volume'])\n",
    "\n",
    "def X_y_olustur(df, window, labels):\n",
    "    # Veri çerçevesinin kopyasını oluşturun\n",
    "    df = df.copy()\n",
    "    \n",
    "    # Özellikler ve etiketler için boş listeler oluşturun\n",
    "    X = []\n",
    "    y = []\n",
    "    \n",
    "    # Her bir satır için döngü oluşturun\n",
    "    for i in range(len(df) - window):\n",
    "        # Özellikler için satırı alın\n",
    "        X_row = df.iloc[i:i + window].values\n",
    "        \n",
    "        # Etiketler için satırı alın\n",
    "        y_row = df[labels].iloc[i + window].values\n",
    "        \n",
    "        # Özellikleri ve etiketleri listelere ekleyin\n",
    "        X.append(X_row)\n",
    "        y.append(y_row)\n",
    "        \n",
    "    # Listeleri numpy dizilerine dönüştürün\n",
    "    X = np.array(X)\n",
    "    y = np.array(y)\n",
    "    \n",
    "    return X, y\n",
    "\n",
    "# Her bir veri çerçevesi için döngü oluşturun ve X ve y oluşturun\n",
    "X_y = [X_y_olustur(df, window, ['Open', 'High', 'Low', 'Close', 'Adj Close', 'Volume']) for df in data_windowed]\n",
    "#X_y = [X_y_olustur(df, window, ['Close' ,'Volume']) for df in data_windowed]\n",
    "\n",
    "# Her bir veri çerçevesi için parite ismiyle birlikte numpy klasörüne kaydedin\n",
    "\n",
    "if not os.path.exists('datas/numpy'):\n",
    "    os.makedirs('datas/numpy')\n",
    "for i in range(len(X_y)):\n",
    "    np.save(f'datas/numpy/{tickers[i]}_X.npy', X_y[i][0])\n",
    "    np.save(f'datas/numpy/{tickers[i]}_y.npy', X_y[i][1])\n",
    "    print(f'{tickers[i]} verisi X ve y olarak kaydedildi')\n",
    "    \n",
    "\n"
   ]
  },
  {
   "cell_type": "code",
   "execution_count": 11,
   "metadata": {
    "collapsed": false,
    "ExecuteTime": {
     "end_time": "2024-02-03T17:23:05.356740Z",
     "start_time": "2024-02-03T17:23:05.347932Z"
    }
   },
   "outputs": [],
   "source": [
    "# her bir veri çerçevesi için train test split yapalım time series için doğru yolla yapmak gerekiyor\n",
    "\n",
    "def train_test_split(X, y, test_size):\n",
    "        # Test boyutunu hesaplayın\n",
    "\n",
    "        \n",
    "        #test_size = int(len(X) * test_size) #yüzdelikli tercih değil\n",
    "\n",
    "        \n",
    "        # Eğitim ve test veri kümelerini ayırın\n",
    "        X_train = X[:-test_size]\n",
    "        X_test = X[-test_size:]\n",
    "        y_train = y[:-test_size]\n",
    "        y_test = y[-test_size:]\n",
    "        \n",
    "        return X_train, X_test, y_train, y_test\n",
    "\n",
    "# Her bir veri çerçevesi için döngü oluşturun ve train ve test veri kümelerini ayırın\n",
    "test_size = 60\n",
    "X_train_test = [train_test_split(X_y[i][0], X_y[i][1], 60) for i in range(len(X_y))]"
   ]
  },
  {
   "cell_type": "code",
   "outputs": [],
   "source": [
    "# her bir veri çerçevesi için zerobase normalizasyon ve minmax scaling yapalım\n",
    "\n",
    "def normalize(X_train, X_test, y_train, y_test):\n",
    "    # Zerobase normalizasyonu uygulayın\n",
    "    X_train = (X_train - X_train.mean()) / X_train.std()\n",
    "    X_test = (X_test - X_test.mean()) / X_test.std()\n",
    "    y_train = (y_train - y_train.mean()) / y_train.std()\n",
    "    y_test = (y_test - y_test.mean()) / y_test.std()\n",
    "    \n",
    "    # Minmax scaling uygulayın\n",
    "    X_train = (X_train - X_train.min()) / (X_train.max() - X_train.min())\n",
    "    X_test = (X_test - X_test.min()) / (X_test.max() - X_test.min())\n",
    "    y_train = (y_train - y_train.min()) / (y_train.max() - y_train.min())\n",
    "    y_test = (y_test - y_test.min()) / (y_test.max() - y_test.min())\n",
    "    \n",
    "    return X_train, X_test, y_train, y_test\n",
    "\n",
    "# Her bir veri çerçevesi için döngü oluşturun ve normalizasyon ve ölçeklendirme uygulayın\n",
    "\n",
    "X_train_test_normalized = [normalize(X_train_test[i][0], X_train_test[i][1], X_train_test[i][2], X_train_test[i][3]) for i in range(len(X_train_test))]\n",
    "\n",
    "\n"
   ],
   "metadata": {
    "collapsed": false,
    "ExecuteTime": {
     "end_time": "2024-02-03T17:23:05.541323Z",
     "start_time": "2024-02-03T17:23:05.357304Z"
    }
   },
   "execution_count": 12
  },
  {
   "cell_type": "code",
   "outputs": [],
   "source": [
    "# her bir veri çerçevesi için LSTM modeli oluşturalım\n",
    "\n",
    "def build_model(input_shape ,  output_shape):\n",
    "    # Modeli oluşturun\n",
    "    model = Sequential()\n",
    "    model.add(LSTM(128, input_shape=input_shape, return_sequences=True))\n",
    "    model.add(Dropout(0.2))\n",
    "    model.add(BatchNormalization())\n",
    "    \n",
    "    model.add(LSTM(128, return_sequences=True))\n",
    "    model.add(Dropout(0.2))\n",
    "    model.add(BatchNormalization())\n",
    "    \n",
    "    model.add(LSTM(128 , return_sequences=False))\n",
    "    model.add(Dropout(0.2))\n",
    "    model.add(BatchNormalization())\n",
    "    \n",
    "    model.add(Dense(32, activation='relu'))\n",
    "    model.add(Dropout(0.2))\n",
    "    \n",
    "    model.add(Dense(output_shape))\n",
    "    \n",
    "    return model"
   ],
   "metadata": {
    "collapsed": false,
    "ExecuteTime": {
     "end_time": "2024-02-03T17:23:05.557807Z",
     "start_time": "2024-02-03T17:23:05.544364Z"
    }
   },
   "execution_count": 13
  },
  {
   "cell_type": "code",
   "outputs": [
    {
     "name": "stdout",
     "output_type": "stream",
     "text": [
      "Epoch 1/100\n",
      "20/20 [==============================] - 11s 168ms/step - loss: 0.6683 - val_loss: 0.0407\n",
      "Epoch 2/100\n",
      "20/20 [==============================] - 2s 90ms/step - loss: 0.2971 - val_loss: 0.0336\n",
      "Epoch 3/100\n",
      "20/20 [==============================] - 2s 89ms/step - loss: 0.2092 - val_loss: 0.0416\n",
      "Epoch 4/100\n",
      "20/20 [==============================] - 2s 87ms/step - loss: 0.1608 - val_loss: 0.0382\n",
      "Epoch 5/100\n",
      "20/20 [==============================] - 2s 91ms/step - loss: 0.1168 - val_loss: 0.0371\n",
      "Epoch 6/100\n",
      "20/20 [==============================] - 2s 104ms/step - loss: 0.0923 - val_loss: 0.0369\n",
      "Epoch 7/100\n",
      "20/20 [==============================] - 2s 98ms/step - loss: 0.0726 - val_loss: 0.0364\n",
      "Epoch 8/100\n",
      "20/20 [==============================] - 2s 106ms/step - loss: 0.0591 - val_loss: 0.0360\n",
      "Epoch 9/100\n",
      "20/20 [==============================] - 2s 100ms/step - loss: 0.0463 - val_loss: 0.0357\n",
      "Epoch 10/100\n",
      "20/20 [==============================] - 2s 90ms/step - loss: 0.0423 - val_loss: 0.0355\n",
      "Epoch 11/100\n",
      "20/20 [==============================] - 2s 88ms/step - loss: 0.0329 - val_loss: 0.0353\n",
      "Epoch 12/100\n",
      "20/20 [==============================] - 2s 83ms/step - loss: 0.0292 - val_loss: 0.0346\n",
      "Epoch 13/100\n",
      "20/20 [==============================] - 2s 92ms/step - loss: 0.0244 - val_loss: 0.0345\n",
      "Epoch 14/100\n",
      "20/20 [==============================] - 2s 83ms/step - loss: 0.0210 - val_loss: 0.0341\n",
      "Epoch 15/100\n",
      "20/20 [==============================] - 2s 82ms/step - loss: 0.0179 - val_loss: 0.0337\n",
      "Epoch 16/100\n",
      "20/20 [==============================] - 2s 94ms/step - loss: 0.0156 - val_loss: 0.0335\n",
      "Epoch 17/100\n",
      "20/20 [==============================] - 2s 90ms/step - loss: 0.0117 - val_loss: 0.0331\n",
      "Epoch 18/100\n",
      "20/20 [==============================] - 2s 92ms/step - loss: 0.0121 - val_loss: 0.0328\n",
      "Epoch 19/100\n",
      "20/20 [==============================] - 2s 87ms/step - loss: 0.0095 - val_loss: 0.0326\n",
      "Epoch 20/100\n",
      "20/20 [==============================] - 2s 86ms/step - loss: 0.0092 - val_loss: 0.0326\n",
      "Epoch 21/100\n",
      "20/20 [==============================] - 2s 96ms/step - loss: 0.0069 - val_loss: 0.0326\n",
      "Epoch 22/100\n",
      "20/20 [==============================] - 2s 91ms/step - loss: 0.0067 - val_loss: 0.0324\n",
      "Epoch 23/100\n",
      "20/20 [==============================] - 2s 89ms/step - loss: 0.0061 - val_loss: 0.0323\n",
      "Epoch 24/100\n",
      "20/20 [==============================] - 2s 91ms/step - loss: 0.0051 - val_loss: 0.0322\n",
      "Epoch 25/100\n",
      "20/20 [==============================] - 2s 86ms/step - loss: 0.0055 - val_loss: 0.0322\n",
      "Epoch 26/100\n",
      "20/20 [==============================] - 2s 87ms/step - loss: 0.0039 - val_loss: 0.0323\n",
      "Epoch 27/100\n",
      "20/20 [==============================] - 2s 88ms/step - loss: 0.0039 - val_loss: 0.0326\n",
      "Epoch 28/100\n",
      "20/20 [==============================] - 2s 95ms/step - loss: 0.0034 - val_loss: 0.0327\n",
      "Epoch 29/100\n",
      "20/20 [==============================] - 2s 85ms/step - loss: 0.0033 - val_loss: 0.0326\n",
      "Epoch 30/100\n",
      "20/20 [==============================] - 2s 87ms/step - loss: 0.0028 - val_loss: 0.0324\n",
      "Epoch 31/100\n",
      "20/20 [==============================] - 2s 86ms/step - loss: 0.0034 - val_loss: 0.0325\n",
      "Epoch 32/100\n",
      "20/20 [==============================] - 2s 88ms/step - loss: 0.0026 - val_loss: 0.0326\n",
      "Epoch 33/100\n",
      "20/20 [==============================] - 2s 90ms/step - loss: 0.0022 - val_loss: 0.0328\n",
      "Epoch 34/100\n",
      "20/20 [==============================] - 2s 85ms/step - loss: 0.0020 - val_loss: 0.0329\n",
      "Epoch 35/100\n",
      "20/20 [==============================] - 2s 87ms/step - loss: 0.0029 - val_loss: 0.0330\n",
      "Epoch 36/100\n",
      "20/20 [==============================] - 2s 88ms/step - loss: 0.0024 - val_loss: 0.0330\n",
      "Epoch 37/100\n",
      "20/20 [==============================] - 2s 87ms/step - loss: 0.0018 - val_loss: 0.0333\n",
      "Epoch 38/100\n",
      "20/20 [==============================] - 2s 91ms/step - loss: 0.0024 - val_loss: 0.0336\n",
      "Epoch 39/100\n",
      "20/20 [==============================] - 2s 87ms/step - loss: 0.0020 - val_loss: 0.0335\n",
      "Epoch 40/100\n",
      "20/20 [==============================] - 2s 87ms/step - loss: 0.0019 - val_loss: 0.0335\n",
      "Epoch 41/100\n",
      "20/20 [==============================] - 2s 88ms/step - loss: 0.0016 - val_loss: 0.0336\n",
      "Epoch 42/100\n",
      "20/20 [==============================] - 2s 87ms/step - loss: 0.0018 - val_loss: 0.0338\n",
      "Epoch 43/100\n",
      "20/20 [==============================] - 2s 88ms/step - loss: 0.0017 - val_loss: 0.0339\n",
      "Epoch 44/100\n",
      "20/20 [==============================] - 2s 91ms/step - loss: 0.0017 - val_loss: 0.0340\n",
      "Epoch 45/100\n",
      "20/20 [==============================] - 2s 88ms/step - loss: 0.0014 - val_loss: 0.0340\n",
      "Epoch 46/100\n",
      "20/20 [==============================] - 2s 94ms/step - loss: 0.0014 - val_loss: 0.0341\n",
      "Epoch 47/100\n",
      "20/20 [==============================] - 2s 94ms/step - loss: 0.0012 - val_loss: 0.0344\n",
      "Epoch 48/100\n",
      "20/20 [==============================] - 2s 91ms/step - loss: 0.0014 - val_loss: 0.0343\n",
      "Epoch 49/100\n",
      "20/20 [==============================] - 2s 85ms/step - loss: 0.0015 - val_loss: 0.0343\n",
      "Epoch 50/100\n",
      "20/20 [==============================] - 2s 92ms/step - loss: 0.0012 - val_loss: 0.0343\n",
      "Epoch 51/100\n",
      "20/20 [==============================] - 3s 170ms/step - loss: 0.0015 - val_loss: 0.0345\n",
      "Epoch 52/100\n",
      "20/20 [==============================] - 2s 97ms/step - loss: 0.0014 - val_loss: 0.0344\n",
      "Epoch 53/100\n",
      "20/20 [==============================] - 2s 103ms/step - loss: 0.0015 - val_loss: 0.0343\n",
      "Epoch 54/100\n",
      "20/20 [==============================] - 2s 89ms/step - loss: 0.0012 - val_loss: 0.0343\n",
      "Epoch 55/100\n",
      "20/20 [==============================] - 2s 83ms/step - loss: 0.0011 - val_loss: 0.0345\n",
      "Epoch 56/100\n",
      "20/20 [==============================] - 2s 86ms/step - loss: 0.0011 - val_loss: 0.0344\n",
      "Epoch 57/100\n",
      "20/20 [==============================] - 2s 83ms/step - loss: 0.0011 - val_loss: 0.0345\n",
      "Epoch 58/100\n",
      "20/20 [==============================] - 2s 90ms/step - loss: 0.0012 - val_loss: 0.0346\n",
      "Epoch 59/100\n",
      "20/20 [==============================] - 2s 94ms/step - loss: 0.0011 - val_loss: 0.0347\n",
      "Epoch 60/100\n",
      "20/20 [==============================] - 2s 93ms/step - loss: 0.0011 - val_loss: 0.0346\n",
      "Epoch 61/100\n",
      "20/20 [==============================] - 2s 107ms/step - loss: 0.0010 - val_loss: 0.0345\n",
      "Epoch 62/100\n",
      "20/20 [==============================] - 2s 87ms/step - loss: 0.0010 - val_loss: 0.0347\n",
      "Epoch 63/100\n",
      "20/20 [==============================] - 2s 87ms/step - loss: 0.0012 - val_loss: 0.0347\n",
      "Epoch 64/100\n",
      "20/20 [==============================] - 2s 87ms/step - loss: 0.0011 - val_loss: 0.0346\n",
      "Epoch 65/100\n",
      "20/20 [==============================] - 2s 92ms/step - loss: 0.0012 - val_loss: 0.0345\n",
      "Epoch 66/100\n",
      "20/20 [==============================] - 2s 87ms/step - loss: 0.0011 - val_loss: 0.0341\n",
      "Epoch 67/100\n",
      "20/20 [==============================] - 2s 87ms/step - loss: 0.0011 - val_loss: 0.0340\n",
      "Epoch 68/100\n",
      "20/20 [==============================] - 2s 87ms/step - loss: 0.0011 - val_loss: 0.0341\n",
      "Epoch 69/100\n",
      "20/20 [==============================] - 2s 84ms/step - loss: 9.5666e-04 - val_loss: 0.0344\n",
      "Epoch 70/100\n",
      "20/20 [==============================] - 2s 90ms/step - loss: 0.0010 - val_loss: 0.0344\n",
      "Epoch 71/100\n",
      "20/20 [==============================] - 2s 93ms/step - loss: 0.0016 - val_loss: 0.0346\n",
      "Epoch 72/100\n",
      "20/20 [==============================] - 2s 91ms/step - loss: 9.4628e-04 - val_loss: 0.0343\n",
      "Epoch 73/100\n",
      "20/20 [==============================] - 2s 89ms/step - loss: 9.2881e-04 - val_loss: 0.0343\n",
      "Epoch 74/100\n",
      "20/20 [==============================] - 2s 88ms/step - loss: 9.6723e-04 - val_loss: 0.0344\n",
      "Epoch 75/100\n",
      "20/20 [==============================] - 2s 81ms/step - loss: 9.3874e-04 - val_loss: 0.0341\n",
      "Epoch 76/100\n",
      "20/20 [==============================] - 1s 69ms/step - loss: 0.0010 - val_loss: 0.0340\n",
      "Epoch 77/100\n",
      "20/20 [==============================] - 1s 72ms/step - loss: 9.5276e-04 - val_loss: 0.0341\n",
      "Epoch 78/100\n",
      "20/20 [==============================] - 1s 71ms/step - loss: 0.0010 - val_loss: 0.0339\n",
      "Epoch 79/100\n",
      "20/20 [==============================] - 1s 74ms/step - loss: 8.7538e-04 - val_loss: 0.0341\n",
      "Epoch 80/100\n",
      "20/20 [==============================] - 2s 91ms/step - loss: 9.2897e-04 - val_loss: 0.0342\n",
      "Epoch 81/100\n",
      "20/20 [==============================] - 2s 99ms/step - loss: 9.8354e-04 - val_loss: 0.0348\n",
      "Epoch 82/100\n",
      "20/20 [==============================] - 2s 87ms/step - loss: 9.4214e-04 - val_loss: 0.0344\n",
      "Epoch 83/100\n",
      "20/20 [==============================] - 2s 92ms/step - loss: 8.7804e-04 - val_loss: 0.0341\n",
      "Epoch 84/100\n",
      "20/20 [==============================] - 2s 87ms/step - loss: 8.9204e-04 - val_loss: 0.0342\n",
      "Epoch 85/100\n",
      "20/20 [==============================] - 2s 89ms/step - loss: 9.0932e-04 - val_loss: 0.0336\n",
      "Epoch 86/100\n",
      "20/20 [==============================] - 2s 91ms/step - loss: 9.1260e-04 - val_loss: 0.0340\n",
      "Epoch 87/100\n",
      "20/20 [==============================] - 2s 94ms/step - loss: 9.3701e-04 - val_loss: 0.0340\n",
      "Epoch 88/100\n",
      "20/20 [==============================] - 2s 99ms/step - loss: 0.0012 - val_loss: 0.0341\n",
      "Epoch 89/100\n",
      "20/20 [==============================] - 2s 101ms/step - loss: 0.0010 - val_loss: 0.0341\n",
      "Epoch 90/100\n",
      "20/20 [==============================] - 2s 101ms/step - loss: 9.4244e-04 - val_loss: 0.0338\n",
      "Epoch 91/100\n",
      "20/20 [==============================] - 2s 99ms/step - loss: 9.9265e-04 - val_loss: 0.0341\n",
      "Epoch 92/100\n",
      "20/20 [==============================] - 2s 99ms/step - loss: 0.0010 - val_loss: 0.0337\n",
      "Epoch 93/100\n",
      "20/20 [==============================] - 2s 96ms/step - loss: 9.7916e-04 - val_loss: 0.0334\n",
      "Epoch 94/100\n",
      "20/20 [==============================] - 2s 102ms/step - loss: 9.4389e-04 - val_loss: 0.0331\n",
      "Epoch 95/100\n",
      "20/20 [==============================] - 2s 96ms/step - loss: 9.2356e-04 - val_loss: 0.0332\n",
      "Epoch 96/100\n",
      "20/20 [==============================] - 2s 96ms/step - loss: 8.3731e-04 - val_loss: 0.0333\n",
      "Epoch 97/100\n",
      "20/20 [==============================] - 2s 94ms/step - loss: 8.3472e-04 - val_loss: 0.0328\n",
      "Epoch 98/100\n",
      "20/20 [==============================] - 2s 93ms/step - loss: 9.4793e-04 - val_loss: 0.0323\n",
      "Epoch 99/100\n",
      "20/20 [==============================] - 2s 98ms/step - loss: 9.7347e-04 - val_loss: 0.0311\n",
      "Epoch 100/100\n",
      "20/20 [==============================] - 2s 94ms/step - loss: 9.5975e-04 - val_loss: 0.0337\n",
      "SOL-USD modeli eğitildi ve kaydedildi\n"
     ]
    },
    {
     "name": "stderr",
     "output_type": "stream",
     "text": [
      "/Users/mustafakapici/anaconda3/envs/all/lib/python3.11/site-packages/keras/src/engine/training.py:3079: UserWarning: You are saving your model as an HDF5 file via `model.save()`. This file format is considered legacy. We recommend using instead the native Keras format, e.g. `model.save('my_model.keras')`.\n",
      "  saving_api.save_model(\n"
     ]
    }
   ],
   "source": [
    "# her bir veri çerçevesi için modeli eğitelim\n",
    "\n",
    "if not os.path.exists('datas/models'):\n",
    "    os.makedirs('datas/models')\n",
    "\n",
    "models=[]\n",
    "\n",
    "batch_size = 64\n",
    "\n",
    "epochs = 100\n",
    "\n",
    "for i in range(len(X_train_test_normalized)):\n",
    "    # Modeli oluşturun\n",
    "    model = build_model(X_train_test_normalized[i][0].shape[1:], X_train_test_normalized[i][2].shape[1])\n",
    "    \n",
    "    # Modeli derleyin\n",
    "    model.compile(optimizer='adam', loss='mean_squared_error')\n",
    "    \n",
    "    # Modeli eğitin\n",
    "    model.fit(X_train_test_normalized[i][0], X_train_test_normalized[i][2], batch_size=batch_size, epochs=epochs, validation_data=(X_train_test_normalized[i][1], X_train_test_normalized[i][3]))\n",
    "    \n",
    "    # Modeli kaydedin\n",
    "    model.save(f'datas/models/{tickers[i]}_model.h5')\n",
    "    \n",
    "    # Modeli listeye ekleyin\n",
    "    models.append(model)\n",
    "    print(f'{tickers[i]} modeli eğitildi ve kaydedildi')\n",
    "    \n",
    "    "
   ],
   "metadata": {
    "collapsed": false,
    "ExecuteTime": {
     "end_time": "2024-02-03T17:26:17.713115Z",
     "start_time": "2024-02-03T17:23:05.554325Z"
    }
   },
   "execution_count": 14
  },
  {
   "cell_type": "code",
   "outputs": [
    {
     "name": "stdout",
     "output_type": "stream",
     "text": [
      "2/2 [==============================] - 2s 19ms/step\n",
      "SOL-USD için tahminler kaydedildi\n"
     ]
    }
   ],
   "source": [
    "# her bir veri çerçevesi için modeli yükleyelim ve tahmin yapalım\n",
    "\n",
    "# Her bir model için döngü oluşturun ve tahmin yapın\n",
    "\n",
    "if not os.path.exists('datas/predictions'):\n",
    "    os.makedirs('datas/predictions')\n",
    "    \n",
    "for i in range(len(models)):\n",
    "    # Modeli yükleyin\n",
    "    model = tf.keras.models.load_model(f'datas/models/{tickers[i]}_model.h5')\n",
    "    \n",
    "    # Tahmin yapın\n",
    "    predictions = model.predict(X_train_test_normalized[i][1])\n",
    "    \n",
    "    # Tahminleri kaydedin\n",
    "    np.save(f'datas/predictions/{tickers[i]}_predictions.npy', predictions)\n",
    "    print(f'{tickers[i]} için tahminler kaydedildi')\n",
    "    \n",
    "    "
   ],
   "metadata": {
    "collapsed": false,
    "ExecuteTime": {
     "end_time": "2024-02-03T17:26:21.067863Z",
     "start_time": "2024-02-03T17:26:17.714780Z"
    }
   },
   "execution_count": 15
  },
  {
   "cell_type": "code",
   "outputs": [
    {
     "data": {
      "text/plain": "<Figure size 1400x700 with 1 Axes>",
      "image/png": "[encoded data removed]"
     },
     "metadata": {},
     "output_type": "display_data"
    }
   ],
   "source": [
    "# her bir veri çerçevesi için tahminleri gerçek verilerle karşılaştıralım\n",
    "\n",
    "# Her bir model için döngü oluşturun ve tahminleri gerçek verilerle karşılaştırın\n",
    "\n",
    "for i in range(len(X_train_test_normalized)):\n",
    "    # Gerçek verileri yükleyin\n",
    "    y_test = X_train_test_normalized[i][3]\n",
    "    \n",
    "    # Tahminleri yükleyin\n",
    "    predictions = np.load(f'datas/predictions/{tickers[i]}_predictions.npy')\n",
    "    \n",
    "    # Gerçek verileri ters ölçeklendirin\n",
    "    y_test = (y_test * (y_test.max() - y_test.min())) + y_test.min()\n",
    "    \n",
    "    # Tahminleri ters ölçeklendirin\n",
    "    predictions = (predictions * (y_test.max() - y_test.min())) + y_test.min()\n",
    "    \n",
    "    # Gerçek verileri ve tahminleri çizdirin\n",
    "    plt.figure(figsize=(14, 7))\n",
    "    plt.plot(y_test, label='Gerçek Veriler')\n",
    "    plt.plot(predictions, label='Tahminler')\n",
    "    plt.title(f'{tickers[i]} Gerçek Veriler ve Tahminler')\n",
    "    plt.xlabel('Zaman')\n",
    "    plt.ylabel('Fiyat')\n",
    "    plt.legend()\n",
    "    plt.show()\n",
    "    "
   ],
   "metadata": {
    "collapsed": false,
    "ExecuteTime": {
     "end_time": "2024-02-03T17:26:59.538643Z",
     "start_time": "2024-02-03T17:26:59.275808Z"
    }
   },
   "execution_count": 18
  },
  {
   "cell_type": "code",
   "execution_count": 17,
   "metadata": {
    "collapsed": false,
    "ExecuteTime": {
     "end_time": "2024-02-03T17:26:21.392936Z",
     "start_time": "2024-02-03T17:26:21.390520Z"
    }
   },
   "outputs": [],
   "source": [
    "#TODO :  normalizasyon yapılacak : zerobase - minmax scaler  +\n",
    "\n",
    "#TODO : seq2seq LSTM Yapılcak denenecek\n",
    "\n",
    "#TODO : Dikkat Mekanizması ile LSTM yapılacak"
   ]
  }
 ],
 "metadata": {
  "kernelspec": {
   "display_name": "all",
   "language": "python",
   "name": "python3"
  },
  "language_info": {
   "codemirror_mode": {
    "name": "ipython",
    "version": 3
   },
   "file_extension": ".py",
   "mimetype": "text/x-python",
   "name": "python",
   "nbconvert_exporter": "python",
   "pygments_lexer": "ipython3",
   "version": "3.6.13"
  }
 },
 "nbformat": 4,
 "nbformat_minor": 2
}
