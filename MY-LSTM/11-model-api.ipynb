{
 "cells": [
  {
   "cell_type": "code",
   "outputs": [],
   "source": [
    "\n",
    "# yeni hali \n",
    "\n",
    "import numpy as np\n",
    "import pandas as pd \n",
    "import matplotlib.pyplot as plt\n",
    "\n",
    "import os\n",
    "\n",
    "import tensorflow as tf\n",
    "\n",
    "from tensorflow.keras.models import Sequential \n",
    "from tensorflow.keras.layers import Dense, Dropout, Activation, Flatten,  LSTM , BatchNormalization\n",
    "\n",
    "from tensorflow.keras.layers import Input, LSTM, Dense, TimeDistributed, RepeatVector, Concatenate, Attention\n",
    "\n",
    "from tensorflow.keras.models import Model\n",
    "\n",
    "from sklearn.preprocessing import MinMaxScaler\n"
   ],
   "metadata": {
    "collapsed": false,
    "ExecuteTime": {
     "end_time": "2024-02-08T01:33:32.909547Z",
     "start_time": "2024-02-08T01:33:32.756136Z"
    }
   },
   "execution_count": 33
  },
  {
   "cell_type": "code",
   "execution_count": 34,
   "metadata": {
    "ExecuteTime": {
     "end_time": "2024-02-08T01:33:32.928640Z",
     "start_time": "2024-02-08T01:33:32.911542Z"
    }
   },
   "outputs": [],
   "source": [
    "import yfinance as yf"
   ]
  },
  {
   "cell_type": "code",
   "outputs": [],
   "source": [
    "import os\n",
    "\n",
    "if os.path.exists('datas'):\n",
    "    #sil\n",
    "    os.system('rm -rf datas')"
   ],
   "metadata": {
    "collapsed": false,
    "ExecuteTime": {
     "end_time": "2024-02-08T01:33:33.009374Z",
     "start_time": "2024-02-08T01:33:32.929946Z"
    }
   },
   "execution_count": 35
  },
  {
   "cell_type": "code",
   "execution_count": 36,
   "metadata": {
    "ExecuteTime": {
     "end_time": "2024-02-08T01:33:33.010546Z",
     "start_time": "2024-02-08T01:33:32.953041Z"
    }
   },
   "outputs": [],
   "source": [
    "#period = '3000d'\n",
    "period = 'max'\n",
    "\n",
    "\n",
    "#features = ['Open', 'High', 'Low', 'Close','Adj Close', 'Volume']\n",
    "features = [ 'Close' ]  # Sadece kapanış fiyatını kullanın\n",
    "\n",
    "#tickers = ['AAPL', 'MSFT', 'AMZN', 'GOOG', 'GOOGL', 'TSLA', 'NVDA', 'PYPL', 'ADBE','BTC-USD', 'ETH-USD', 'XRP-USD', 'LTC-USD','BCH-USD', 'BNB-USD', 'LINK-USD', 'ADA-USD', 'XLM-USD', 'SOL-USD', 'TRX-USD']\n",
    "\n",
    "#tickers = ['SOL-USD']\n",
    "\n",
    "#tickers = ['BTC-USD']\n",
    "\n",
    "tickers = ['BTC-USD' , 'SOL-USD'] # ilki yanlış ikinciyi doğru tahmin etti\n",
    "\n",
    "#tickers = [  'SOL-USD', 'BTC-USD' , 'ETH-USD']\n",
    "\n",
    "\n",
    "\n",
    "\n",
    "\n",
    "\n",
    "\n"
   ]
  },
  {
   "cell_type": "code",
   "execution_count": 37,
   "metadata": {
    "ExecuteTime": {
     "end_time": "2024-02-08T01:33:33.023209Z",
     "start_time": "2024-02-08T01:33:33.004624Z"
    }
   },
   "outputs": [],
   "source": [
    "def indir_ve_df_olustur(tickers, period):\n",
    "    # Her bir hisse senedi için boş bir sözlük oluşturun\n",
    "    pariteler = {}\n",
    "\n",
    "    # Her bir hisse senedi için döngü oluşturun ve verileri indirin\n",
    "    for ticker in tickers:\n",
    "        try:\n",
    "            # Hisse senedi verilerini indirin\n",
    "            veri = yf.download(ticker, period=period)\n",
    "\n",
    "            veri = veri[features]   \n",
    "            # Veriyi sözlüğe ekleyin\n",
    "            pariteler[ticker] = veri\n",
    "            \n",
    "            \n",
    "        except Exception as e:\n",
    "            print(f\"{ticker} için veri indirilirken bir hata oluştu: {str(e)}\")\n",
    "\n",
    "    # Her bir hisse senedi için ayrı bir veri çerçevesi oluşturun\n",
    "    df_listesi = [veri for veri in pariteler.values()]\n",
    "\n",
    "    return df_listesi"
   ]
  },
  {
   "cell_type": "code",
   "execution_count": 38,
   "metadata": {
    "ExecuteTime": {
     "end_time": "2024-02-08T01:33:33.056810Z",
     "start_time": "2024-02-08T01:33:33.025404Z"
    }
   },
   "outputs": [],
   "source": [
    "#pariteler adında klasör oluştur :\n",
    "\n",
    "import os \n",
    "\n",
    "if not os.path.exists('datas/pariteler'):\n",
    "    os.makedirs('datas/pariteler')\n",
    "\n"
   ]
  },
  {
   "cell_type": "code",
   "execution_count": 39,
   "metadata": {
    "ExecuteTime": {
     "end_time": "2024-02-08T01:33:33.850094Z",
     "start_time": "2024-02-08T01:33:33.058176Z"
    }
   },
   "outputs": [
    {
     "name": "stdout",
     "output_type": "stream",
     "text": [
      "[*********************100%%**********************]  1 of 1 completed\n",
      "[*********************100%%**********************]  1 of 1 completed\n",
      "BTC-USD verisi csv olarak kaydedildi\n",
      "SOL-USD verisi csv olarak kaydedildi\n"
     ]
    }
   ],
   "source": [
    "datasets = indir_ve_df_olustur(tickers, period)\n",
    "\n",
    "#pariteler içine kaydet \n",
    "\n",
    "for i in range(len(datasets)):\n",
    "    datasets[i].to_csv(f'datas/pariteler/{tickers[i]}.csv')\n",
    "    print(f'{tickers[i]} verisi csv olarak kaydedildi')\n"
   ]
  },
  {
   "cell_type": "code",
   "outputs": [
    {
     "name": "stdout",
     "output_type": "stream",
     "text": [
      "BTC-USD verisi scaled edilerek kaydedildi\n",
      "SOL-USD verisi scaled edilerek kaydedildi\n"
     ]
    }
   ],
   "source": [
    "scaler  = MinMaxScaler()\n",
    "\n",
    "#her bir veri çerçevesi için scaled dataset oluştur\n",
    "\n",
    "if not os.path.exists('datas/scaled_datasets'):\n",
    "    os.makedirs('datas/scaled_datasets')\n",
    "\n",
    "scaled_datasets = []\n",
    "\n",
    "for i in range(len(datasets)):\n",
    "    scaled_datasets.append(scaler.fit_transform(datasets[i]))\n",
    "    np.save(f'datas/scaled_datasets/{tickers[i]}.npy', scaled_datasets[i])\n",
    "    print(f'{tickers[i]} verisi scaled edilerek kaydedildi')\n",
    "    "
   ],
   "metadata": {
    "collapsed": false,
    "ExecuteTime": {
     "end_time": "2024-02-08T01:33:33.865734Z",
     "start_time": "2024-02-08T01:33:33.852143Z"
    }
   },
   "execution_count": 40
  },
  {
   "cell_type": "code",
   "outputs": [
    {
     "name": "stdout",
     "output_type": "stream",
     "text": [
      "BTC-USD verisi dizilere bölünerek kaydedildi\n",
      "SOL-USD verisi dizilere bölünerek kaydedildi\n"
     ]
    }
   ],
   "source": [
    "# her bir veri çerçevesi için veriyi dizilere bölme\n",
    "\n",
    "seq_length = 60  # Son 60 günü kullanarak\n",
    "pred_length = 7  # Önümüzdeki 7 günü tahmin etme\n",
    "\n",
    "def create_sequences(data, seq_length, pred_length):\n",
    "    X, y = [], []\n",
    "    for i in range(len(data)-seq_length-pred_length):\n",
    "        X.append(data[i:i+seq_length])\n",
    "        y.append(data[i+seq_length:i+seq_length+pred_length])\n",
    "    return np.array(X), np.array(y)\n",
    "\n",
    "# her bir veri çerçevesi için veriyi dizilere bölme\n",
    "\n",
    "if not os.path.exists('datas/sequences'):\n",
    "    os.makedirs('datas/sequences')\n",
    "\n",
    "X, y = [], []\n",
    "\n",
    "for i in range(len(scaled_datasets)):\n",
    "    X_, y_ = create_sequences(scaled_datasets[i], seq_length, pred_length)\n",
    "    X.append(X_)\n",
    "    y.append(y_)\n",
    "    np.save(f'datas/sequences/X_{tickers[i]}.npy', X_)\n",
    "    np.save(f'datas/sequences/y_{tickers[i]}.npy', y_)\n",
    "    print(f'{tickers[i]} verisi dizilere bölünerek kaydedildi')\n",
    "    \n"
   ],
   "metadata": {
    "collapsed": false,
    "ExecuteTime": {
     "end_time": "2024-02-08T01:33:33.880332Z",
     "start_time": "2024-02-08T01:33:33.864276Z"
    }
   },
   "execution_count": 41
  },
  {
   "cell_type": "code",
   "outputs": [],
   "source": [
    "# her bir veri çerçevesi için  seq2seq attention modeli oluştur\n",
    "\n",
    "# Encoder\n",
    "encoder_inputs = Input(shape=(seq_length, len(features)))\n",
    "encoder_lstm = LSTM(100, return_state=True)\n",
    "encoder_outputs, state_h, state_c = encoder_lstm(encoder_inputs)\n",
    "encoder_states = [state_h, state_c]\n",
    "\n",
    "\n",
    "# Decoder\n",
    "decoder_inputs = RepeatVector(pred_length)(encoder_outputs)\n",
    "decoder_lstm = LSTM(100, return_sequences=True)\n",
    "decoder_outputs = decoder_lstm(decoder_inputs, initial_state=encoder_states)\n",
    "\n",
    "\n",
    "# Dikkat Mekanizması\n",
    "attention_layer = Attention(use_scale=True)\n",
    "attention_outputs = attention_layer([decoder_outputs, encoder_outputs])\n",
    "decoder_concat_input = Concatenate(axis=-1)([decoder_outputs, attention_outputs])\n",
    "\n",
    "\n",
    "# TimeDistributed Dense\n",
    "decoder_dense = TimeDistributed(Dense(len(features)))\n",
    "decoder_outputs = decoder_dense(decoder_concat_input)\n",
    "\n",
    "def create_model(encoder_inputs, decoder_outputs):\n",
    "    model = Model(encoder_inputs, decoder_outputs)\n",
    "    return model\n",
    "    \n"
   ],
   "metadata": {
    "collapsed": false,
    "ExecuteTime": {
     "end_time": "2024-02-08T01:33:34.644789Z",
     "start_time": "2024-02-08T01:33:33.889155Z"
    }
   },
   "execution_count": 42
  },
  {
   "cell_type": "code",
   "outputs": [],
   "source": [],
   "metadata": {
    "collapsed": false,
    "ExecuteTime": {
     "end_time": "2024-02-08T01:33:34.648184Z",
     "start_time": "2024-02-08T01:33:34.644297Z"
    }
   },
   "execution_count": 42
  },
  {
   "cell_type": "code",
   "outputs": [
    {
     "name": "stdout",
     "output_type": "stream",
     "text": [
      "Epoch 1/20\n"
     ]
    },
    {
     "name": "stderr",
     "output_type": "stream",
     "text": [
      "2024-02-08 04:33:39.444829: W tensorflow/core/grappler/costs/op_level_cost_estimator.cc:693] Error in PredictCost() for the op: op: \"Softmax\" attr { key: \"T\" value { type: DT_FLOAT } } inputs { dtype: DT_FLOAT shape { unknown_rank: true } } device { type: \"CPU\" vendor: \"GenuineIntel\" model: \"110\" frequency: 2300 num_cores: 16 environment { key: \"cpu_instruction_set\" value: \"AVX SSE, SSE2, SSE3, SSSE3, SSE4.1, SSE4.2\" } environment { key: \"eigen\" value: \"3.4.90\" } l1_cache_size: 32768 l2_cache_size: 262144 l3_cache_size: 16777216 memory_size: 268435456 } outputs { dtype: DT_FLOAT shape { unknown_rank: true } }\n"
     ]
    },
    {
     "name": "stdout",
     "output_type": "stream",
     "text": [
      "41/43 [===========================>..] - ETA: 0s - loss: 0.0092"
     ]
    },
    {
     "name": "stderr",
     "output_type": "stream",
     "text": [
      "2024-02-08 04:33:42.236877: W tensorflow/core/grappler/costs/op_level_cost_estimator.cc:693] Error in PredictCost() for the op: op: \"Softmax\" attr { key: \"T\" value { type: DT_FLOAT } } inputs { dtype: DT_FLOAT shape { unknown_rank: true } } device { type: \"CPU\" vendor: \"GenuineIntel\" model: \"110\" frequency: 2300 num_cores: 16 environment { key: \"cpu_instruction_set\" value: \"AVX SSE, SSE2, SSE3, SSSE3, SSE4.1, SSE4.2\" } environment { key: \"eigen\" value: \"3.4.90\" } l1_cache_size: 32768 l2_cache_size: 262144 l3_cache_size: 16777216 memory_size: 268435456 } outputs { dtype: DT_FLOAT shape { unknown_rank: true } }\n"
     ]
    },
    {
     "name": "stdout",
     "output_type": "stream",
     "text": [
      "43/43 [==============================] - 7s 60ms/step - loss: 0.0090 - val_loss: 0.0011\n",
      "Epoch 2/20\n",
      "43/43 [==============================] - 2s 36ms/step - loss: 9.5581e-04 - val_loss: 0.0010\n",
      "Epoch 3/20\n",
      "43/43 [==============================] - 2s 35ms/step - loss: 9.3691e-04 - val_loss: 0.0075\n",
      "Epoch 4/20\n",
      "43/43 [==============================] - 2s 36ms/step - loss: 0.0011 - val_loss: 7.9502e-04\n",
      "Epoch 5/20\n",
      "43/43 [==============================] - 2s 38ms/step - loss: 0.0012 - val_loss: 8.5678e-04\n",
      "Epoch 6/20\n",
      "43/43 [==============================] - 2s 36ms/step - loss: 7.8854e-04 - val_loss: 8.2294e-04\n",
      "Epoch 7/20\n",
      "43/43 [==============================] - 2s 35ms/step - loss: 7.4056e-04 - val_loss: 0.0017\n",
      "Epoch 8/20\n",
      "43/43 [==============================] - 2s 35ms/step - loss: 8.0407e-04 - val_loss: 0.0017\n",
      "Epoch 9/20\n",
      "43/43 [==============================] - 2s 36ms/step - loss: 7.5143e-04 - val_loss: 8.5501e-04\n",
      "Epoch 10/20\n",
      "43/43 [==============================] - 2s 36ms/step - loss: 7.8425e-04 - val_loss: 7.5508e-04\n",
      "Epoch 11/20\n",
      "43/43 [==============================] - 2s 38ms/step - loss: 9.2762e-04 - val_loss: 0.0026\n",
      "Epoch 12/20\n",
      "43/43 [==============================] - 2s 37ms/step - loss: 7.5953e-04 - val_loss: 7.0561e-04\n",
      "Epoch 13/20\n",
      "43/43 [==============================] - 2s 37ms/step - loss: 7.3677e-04 - val_loss: 0.0021\n",
      "Epoch 14/20\n",
      "43/43 [==============================] - 2s 36ms/step - loss: 7.4893e-04 - val_loss: 8.1918e-04\n",
      "Epoch 15/20\n",
      "43/43 [==============================] - 2s 36ms/step - loss: 6.5346e-04 - val_loss: 7.5830e-04\n",
      "Epoch 16/20\n",
      "43/43 [==============================] - 2s 37ms/step - loss: 6.7736e-04 - val_loss: 0.0013\n",
      "Epoch 17/20\n",
      "43/43 [==============================] - 2s 38ms/step - loss: 7.1808e-04 - val_loss: 7.1386e-04\n",
      "Epoch 18/20\n",
      "43/43 [==============================] - 2s 38ms/step - loss: 6.7974e-04 - val_loss: 6.6188e-04\n",
      "Epoch 19/20\n",
      "43/43 [==============================] - 2s 38ms/step - loss: 6.4883e-04 - val_loss: 0.0010\n",
      "Epoch 20/20\n",
      "43/43 [==============================] - 2s 39ms/step - loss: 7.0913e-04 - val_loss: 6.2579e-04\n",
      "BTC-USD modeli eğitildi ve kaydedildi\n",
      "Epoch 1/20\n"
     ]
    },
    {
     "name": "stderr",
     "output_type": "stream",
     "text": [
      "/Users/mustafakapici/anaconda3/envs/all/lib/python3.11/site-packages/keras/src/engine/training.py:3079: UserWarning: You are saving your model as an HDF5 file via `model.save()`. This file format is considered legacy. We recommend using instead the native Keras format, e.g. `model.save('my_model.keras')`.\n",
      "  saving_api.save_model(\n",
      "2024-02-08 04:34:16.926324: W tensorflow/core/grappler/costs/op_level_cost_estimator.cc:693] Error in PredictCost() for the op: op: \"Softmax\" attr { key: \"T\" value { type: DT_FLOAT } } inputs { dtype: DT_FLOAT shape { unknown_rank: true } } device { type: \"CPU\" vendor: \"GenuineIntel\" model: \"110\" frequency: 2300 num_cores: 16 environment { key: \"cpu_instruction_set\" value: \"AVX SSE, SSE2, SSE3, SSSE3, SSE4.1, SSE4.2\" } environment { key: \"eigen\" value: \"3.4.90\" } l1_cache_size: 32768 l2_cache_size: 262144 l3_cache_size: 16777216 memory_size: 268435456 } outputs { dtype: DT_FLOAT shape { unknown_rank: true } }\n"
     ]
    },
    {
     "name": "stdout",
     "output_type": "stream",
     "text": [
      "17/17 [==============================] - 7s 106ms/step - loss: 0.0019 - val_loss: 5.7008e-04\n",
      "Epoch 2/20\n"
     ]
    },
    {
     "name": "stderr",
     "output_type": "stream",
     "text": [
      "2024-02-08 04:34:18.981719: W tensorflow/core/grappler/costs/op_level_cost_estimator.cc:693] Error in PredictCost() for the op: op: \"Softmax\" attr { key: \"T\" value { type: DT_FLOAT } } inputs { dtype: DT_FLOAT shape { unknown_rank: true } } device { type: \"CPU\" vendor: \"GenuineIntel\" model: \"110\" frequency: 2300 num_cores: 16 environment { key: \"cpu_instruction_set\" value: \"AVX SSE, SSE2, SSE3, SSSE3, SSE4.1, SSE4.2\" } environment { key: \"eigen\" value: \"3.4.90\" } l1_cache_size: 32768 l2_cache_size: 262144 l3_cache_size: 16777216 memory_size: 268435456 } outputs { dtype: DT_FLOAT shape { unknown_rank: true } }\n"
     ]
    },
    {
     "name": "stdout",
     "output_type": "stream",
     "text": [
      "17/17 [==============================] - 1s 39ms/step - loss: 0.0016 - val_loss: 6.2911e-04\n",
      "Epoch 3/20\n",
      "17/17 [==============================] - 1s 42ms/step - loss: 0.0016 - val_loss: 5.6719e-04\n",
      "Epoch 4/20\n",
      "17/17 [==============================] - 1s 40ms/step - loss: 0.0016 - val_loss: 5.7532e-04\n",
      "Epoch 5/20\n",
      "17/17 [==============================] - 1s 39ms/step - loss: 0.0015 - val_loss: 5.2849e-04\n",
      "Epoch 6/20\n",
      "17/17 [==============================] - 1s 39ms/step - loss: 0.0015 - val_loss: 5.7037e-04\n",
      "Epoch 7/20\n",
      "17/17 [==============================] - 1s 39ms/step - loss: 0.0015 - val_loss: 6.3747e-04\n",
      "Epoch 8/20\n",
      "17/17 [==============================] - 1s 39ms/step - loss: 0.0016 - val_loss: 5.2463e-04\n",
      "Epoch 9/20\n",
      "17/17 [==============================] - 1s 40ms/step - loss: 0.0015 - val_loss: 6.1551e-04\n",
      "Epoch 10/20\n",
      "17/17 [==============================] - 1s 39ms/step - loss: 0.0015 - val_loss: 6.2083e-04\n",
      "Epoch 11/20\n",
      "17/17 [==============================] - 1s 39ms/step - loss: 0.0017 - val_loss: 5.9041e-04\n",
      "Epoch 12/20\n",
      "17/17 [==============================] - 1s 39ms/step - loss: 0.0015 - val_loss: 7.5357e-04\n",
      "Epoch 13/20\n",
      "17/17 [==============================] - 1s 41ms/step - loss: 0.0016 - val_loss: 5.2432e-04\n",
      "Epoch 14/20\n",
      "17/17 [==============================] - 1s 45ms/step - loss: 0.0014 - val_loss: 5.4380e-04\n",
      "Epoch 15/20\n",
      "17/17 [==============================] - 1s 40ms/step - loss: 0.0014 - val_loss: 5.5064e-04\n",
      "Epoch 16/20\n",
      "17/17 [==============================] - 1s 39ms/step - loss: 0.0014 - val_loss: 5.3515e-04\n",
      "Epoch 17/20\n",
      "17/17 [==============================] - 1s 40ms/step - loss: 0.0015 - val_loss: 5.3174e-04\n",
      "Epoch 18/20\n",
      "17/17 [==============================] - 1s 43ms/step - loss: 0.0014 - val_loss: 5.1706e-04\n",
      "Epoch 19/20\n",
      "17/17 [==============================] - 1s 40ms/step - loss: 0.0014 - val_loss: 6.5497e-04\n",
      "Epoch 20/20\n",
      "17/17 [==============================] - 1s 39ms/step - loss: 0.0014 - val_loss: 5.0744e-04\n",
      "SOL-USD modeli eğitildi ve kaydedildi\n"
     ]
    }
   ],
   "source": [
    "# her bir veri çerçevesi için modeli oluştur ve eğit\n",
    "\n",
    "if not os.path.exists('datas/models'):\n",
    "    os.makedirs('datas/models')\n",
    "\n",
    "models = []\n",
    "batch_size = 64\n",
    "epochs = 20\n",
    "\n",
    "for i in range(len(scaled_datasets)):\n",
    "    # modeli oluştur\n",
    "    model = create_model(encoder_inputs, decoder_outputs)\n",
    "    \n",
    "    # modeli derle\n",
    "    model.compile(optimizer='adam', loss='mean_squared_error')\n",
    "    \n",
    "    # modeli listeye ekle\n",
    "    models.append(model)\n",
    "    \n",
    "    # modeli eğit\n",
    "    models[i].fit(X[i], y[i],\n",
    "                  batch_size=batch_size, epochs=epochs, \n",
    "                  validation_split=0.2, verbose=1)\n",
    "    \n",
    "    # modeli kaydet\n",
    "    models[i].save(f'datas/models/{tickers[i]}_model.h5')\n",
    "    \n",
    "    # ağırlıkları kaydet\n",
    "    models[i].save_weights(f'datas/models/{tickers[i]}_model_weights.h5')\n",
    "    \n",
    "\n",
    "\n",
    "    print(f'{tickers[i]} modeli eğitildi ve kaydedildi')\n"
   ],
   "metadata": {
    "collapsed": false,
    "ExecuteTime": {
     "end_time": "2024-02-08T01:34:32.072081Z",
     "start_time": "2024-02-08T01:33:34.651876Z"
    }
   },
   "execution_count": 43
  },
  {
   "cell_type": "code",
   "outputs": [
    {
     "data": {
      "image/png": "[encoded data removed]",
      "text/plain": "<IPython.core.display.Image object>"
     },
     "execution_count": 44,
     "metadata": {},
     "output_type": "execute_result"
    }
   ],
   "source": [
    "# modelerden bir tanesini png kaydedelim\n",
    "from tensorflow.keras.utils import plot_model\n",
    "plot_model(models[0], to_file='datas/model.png', show_shapes=True, show_layer_names=True , rankdir='TB', expand_nested=True, dpi=96, )"
   ],
   "metadata": {
    "collapsed": false,
    "ExecuteTime": {
     "end_time": "2024-02-08T01:34:32.405881Z",
     "start_time": "2024-02-08T01:34:32.067710Z"
    }
   },
   "execution_count": 44
  },
  {
   "cell_type": "code",
   "outputs": [
    {
     "name": "stdout",
     "output_type": "stream",
     "text": [
      "WARNING:tensorflow:5 out of the last 5 calls to <function Model.make_predict_function.<locals>.predict_function at 0x1737d4e00> triggered tf.function retracing. Tracing is expensive and the excessive number of tracings could be due to (1) creating @tf.function repeatedly in a loop, (2) passing tensors with different shapes, (3) passing Python objects instead of tensors. For (1), please define your @tf.function outside of the loop. For (2), @tf.function has reduce_retracing=True option that can avoid unnecessary retracing. For (3), please refer to https://www.tensorflow.org/guide/function#controlling_retracing and https://www.tensorflow.org/api_docs/python/tf/function for  more details.\n",
      "1/1 [==============================] - 1s 1s/step\n"
     ]
    },
    {
     "name": "stderr",
     "output_type": "stream",
     "text": [
      "2024-02-08 04:34:33.979132: W tensorflow/core/grappler/costs/op_level_cost_estimator.cc:693] Error in PredictCost() for the op: op: \"Softmax\" attr { key: \"T\" value { type: DT_FLOAT } } inputs { dtype: DT_FLOAT shape { unknown_rank: true } } device { type: \"CPU\" vendor: \"GenuineIntel\" model: \"110\" frequency: 2300 num_cores: 16 environment { key: \"cpu_instruction_set\" value: \"AVX SSE, SSE2, SSE3, SSSE3, SSE4.1, SSE4.2\" } environment { key: \"eigen\" value: \"3.4.90\" } l1_cache_size: 32768 l2_cache_size: 262144 l3_cache_size: 16777216 memory_size: 268435456 } outputs { dtype: DT_FLOAT shape { unknown_rank: true } }\n"
     ]
    },
    {
     "name": "stdout",
     "output_type": "stream",
     "text": [
      "BTC-USD verisi için prediction yapıldı ve kaydedildi\n",
      "WARNING:tensorflow:6 out of the last 6 calls to <function Model.make_predict_function.<locals>.predict_function at 0x173aff9c0> triggered tf.function retracing. Tracing is expensive and the excessive number of tracings could be due to (1) creating @tf.function repeatedly in a loop, (2) passing tensors with different shapes, (3) passing Python objects instead of tensors. For (1), please define your @tf.function outside of the loop. For (2), @tf.function has reduce_retracing=True option that can avoid unnecessary retracing. For (3), please refer to https://www.tensorflow.org/guide/function#controlling_retracing and https://www.tensorflow.org/api_docs/python/tf/function for  more details.\n",
      "1/1 [==============================] - 1s 1s/step\n",
      "SOL-USD verisi için prediction yapıldı ve kaydedildi\n"
     ]
    },
    {
     "name": "stderr",
     "output_type": "stream",
     "text": [
      "2024-02-08 04:34:35.697520: W tensorflow/core/grappler/costs/op_level_cost_estimator.cc:693] Error in PredictCost() for the op: op: \"Softmax\" attr { key: \"T\" value { type: DT_FLOAT } } inputs { dtype: DT_FLOAT shape { unknown_rank: true } } device { type: \"CPU\" vendor: \"GenuineIntel\" model: \"110\" frequency: 2300 num_cores: 16 environment { key: \"cpu_instruction_set\" value: \"AVX SSE, SSE2, SSE3, SSSE3, SSE4.1, SSE4.2\" } environment { key: \"eigen\" value: \"3.4.90\" } l1_cache_size: 32768 l2_cache_size: 262144 l3_cache_size: 16777216 memory_size: 268435456 } outputs { dtype: DT_FLOAT shape { unknown_rank: true } }\n"
     ]
    }
   ],
   "source": [
    "# her bir veri çerçevesi için last_sequence = data_scaled[-seq_length:] mantığında prediction yap\n",
    "\n",
    "if not os.path.exists('datas/predictions'):\n",
    "    os.makedirs('datas/predictions')\n",
    "    \n",
    "predictions = []    \n",
    "\n",
    "for i in range(len(scaled_datasets)):\n",
    "    last_sequence = scaled_datasets[i][-seq_length:]\n",
    "    last_sequence = last_sequence.reshape((1, seq_length, len(features)))\n",
    "    \n",
    "    model = tf.keras.models.load_model(f'datas/models/{tickers[i]}_model.h5', custom_objects={'Attention': Attention})\n",
    "    \n",
    "    predicted = model.predict(last_sequence)\n",
    "    \n",
    "    predictions.append(predicted)\n",
    "    np.save(f'datas/predictions/{tickers[i]}_prediction.npy', predicted)\n",
    "    print(f'{tickers[i]} verisi için prediction yapıldı ve kaydedildi')\n",
    "    "
   ],
   "metadata": {
    "collapsed": false,
    "ExecuteTime": {
     "end_time": "2024-02-08T01:34:35.837674Z",
     "start_time": "2024-02-08T01:34:32.405025Z"
    }
   },
   "execution_count": 45
  },
  {
   "cell_type": "code",
   "outputs": [
    {
     "name": "stdout",
     "output_type": "stream",
     "text": [
      "BTC-USD verisi için forecast yapıldı ve kaydedildi\n",
      "(7, 1)\n",
      "SOL-USD verisi için forecast yapıldı ve kaydedildi\n",
      "(7, 1)\n",
      "BTC-USD verisi için forecast dataframe oluşturuldu ve kaydedildi\n",
      "SOL-USD verisi için forecast dataframe oluşturuldu ve kaydedildi\n"
     ]
    }
   ],
   "source": [
    "# her bir veri çerçevesi için bütün sütunları predictionları geri dönüşüm yap ve yeni bi df e kaydet\n",
    "\n",
    "if not os.path.exists('datas/forecasts'):\n",
    "    os.makedirs('datas/forecasts')\n",
    "    \n",
    "forecasts = []\n",
    "\n",
    "for i in range(len(scaled_datasets)):\n",
    "    prediction = np.load(f'datas/predictions/{tickers[i]}_prediction.npy')\n",
    "    \n",
    "    #prediction = predictions[i]\n",
    "    \n",
    "    prediction = scaler.inverse_transform(prediction.reshape(-1, len(features) ))\n",
    "    forecasts.append(prediction)\n",
    "    np.save(f'datas/forecasts/{tickers[i]}_forecast.npy', prediction)\n",
    "    print(f'{tickers[i]} verisi için forecast yapıldı ve kaydedildi')\n",
    "    print(forecasts[i].shape)\n",
    "    \n",
    "# dataframe oluştur\n",
    "\n",
    "for i in range(len(forecasts)):\n",
    "    \n",
    "    \n",
    "    forecast = forecasts[i]\n",
    "    forecast_dates = datasets[i].index[-pred_length:]\n",
    "    forecast = pd.DataFrame(forecast, index=forecast_dates, columns=features)\n",
    "    forecast.to_csv(f'datas/forecasts/{tickers[i]}_forecast.csv')\n",
    "    print(f'{tickers[i]} verisi için forecast dataframe oluşturuldu ve kaydedildi')\n",
    "\n",
    "\n",
    "    "
   ],
   "metadata": {
    "collapsed": false,
    "ExecuteTime": {
     "end_time": "2024-02-08T01:34:35.847892Z",
     "start_time": "2024-02-08T01:34:35.836988Z"
    }
   },
   "execution_count": 46
  },
  {
   "cell_type": "code",
   "outputs": [
    {
     "name": "stdout",
     "output_type": "stream",
     "text": [
      "BTC-USD verisi için forecast dataframe\n",
      "                Close\n",
      "Date                 \n",
      "2024-02-01  163.77681\n",
      "2024-02-02  166.23352\n",
      "2024-02-03  165.32108\n",
      "2024-02-04  164.28748\n",
      "2024-02-05  163.85931\n",
      "2024-02-06  164.02556\n",
      "2024-02-08  164.59490\n",
      "SOL-USD verisi için forecast dataframe\n",
      "                 Close\n",
      "Date                  \n",
      "2024-02-01   97.133020\n",
      "2024-02-02  100.296170\n",
      "2024-02-03  100.958310\n",
      "2024-02-04  101.325035\n",
      "2024-02-05  101.752210\n",
      "2024-02-06  102.219610\n",
      "2024-02-08  102.663240\n"
     ]
    }
   ],
   "source": [
    "#dataframeleri bi yazdır tarihleri ile\n",
    "\n",
    "for i in range(len(forecasts)):\n",
    "    forecast = pd.read_csv(f'datas/forecasts/{tickers[i]}_forecast.csv', index_col=0)\n",
    "    print(f'{tickers[i]} verisi için forecast dataframe')\n",
    "    print(forecast)"
   ],
   "metadata": {
    "collapsed": false,
    "ExecuteTime": {
     "end_time": "2024-02-08T01:34:35.881463Z",
     "start_time": "2024-02-08T01:34:35.852439Z"
    }
   },
   "execution_count": 47
  },
  {
   "cell_type": "code",
   "outputs": [
    {
     "name": "stdout",
     "output_type": "stream",
     "text": [
      "BTC-USD verisi için gerçek veri\n",
      "                   Close\n",
      "Date                    \n",
      "2024-02-01  43075.773438\n",
      "2024-02-02  43185.859375\n",
      "2024-02-03  42992.250000\n",
      "2024-02-04  42583.582031\n",
      "2024-02-05  42658.667969\n",
      "2024-02-06  43084.671875\n",
      "2024-02-08  44543.406250\n",
      "SOL-USD verisi için gerçek veri\n",
      "                 Close\n",
      "Date                  \n",
      "2024-02-01   97.846695\n",
      "2024-02-02  100.440521\n",
      "2024-02-03   97.879982\n",
      "2024-02-04   95.476959\n",
      "2024-02-05   95.548660\n",
      "2024-02-06   96.861076\n",
      "2024-02-08  101.563423\n"
     ]
    }
   ],
   "source": [
    "# Gerçek veriyi yazdır aynı tarihteki \n",
    "\n",
    "for i in range(len(datasets)):\n",
    "    print(f'{tickers[i]} verisi için gerçek veri')\n",
    "    print(datasets[i].tail(pred_length))\n"
   ],
   "metadata": {
    "collapsed": false,
    "ExecuteTime": {
     "end_time": "2024-02-08T01:34:35.883757Z",
     "start_time": "2024-02-08T01:34:35.861821Z"
    }
   },
   "execution_count": 48
  },
  {
   "cell_type": "markdown",
   "source": [
    "## 2. Kısım"
   ],
   "metadata": {
    "collapsed": false
   }
  },
  {
   "cell_type": "code",
   "outputs": [
    {
     "name": "stdout",
     "output_type": "stream",
     "text": [
      "BTC-USD verisi için full data hazırlandı\n",
      "SOL-USD verisi için full data hazırlandı\n"
     ]
    }
   ],
   "source": [
    "# her bir veri çerçevesi için eğitime uygun full data hazırla (tensor dataset)\n",
    "\n",
    "if not os.path.exists('datas/full_data'):\n",
    "    os.makedirs('datas/full_data')\n",
    "    \n",
    "full_data = []\n",
    "\n",
    "for i in range(len(scaled_datasets)):\n",
    "    \n",
    "    scaled_dataset_all = np.load(f'datas/scaled_datasets/{tickers[i]}.npy')\n",
    "    \n",
    "    #scaled_dataset_all = scaled_datasets[i].reshape(-1, len(features))\n",
    "    \n",
    "    scaled_dataset_all = tf.data.Dataset.from_tensor_slices(scaled_dataset_all)\n",
    "    \n",
    "    scaled_dataset_all = tf.data.Dataset.zip((scaled_dataset_all, scaled_dataset_all.skip(seq_length)))\n",
    "    \n",
    "    full_data.append(scaled_dataset_all)\n",
    "    \n",
    "    full_data[i] = full_data[i].batch(batch_size, drop_remainder=True).prefetch(1)\n",
    "    \n",
    "    full_data[i] = full_data[i].cache(f'datas/full_data/{tickers[i]}_full_data')\n",
    "\n",
    "    print(f'{tickers[i]} verisi için full data hazırlandı')\n",
    "    \n",
    "    \n",
    "    "
   ],
   "metadata": {
    "collapsed": false,
    "ExecuteTime": {
     "end_time": "2024-02-08T01:34:35.885378Z",
     "start_time": "2024-02-08T01:34:35.869882Z"
    }
   },
   "execution_count": 49
  },
  {
   "cell_type": "code",
   "outputs": [
    {
     "name": "stdout",
     "output_type": "stream",
     "text": [
      "Epoch 1/20\n"
     ]
    },
    {
     "name": "stderr",
     "output_type": "stream",
     "text": [
      "2024-02-08 04:34:36.564274: W tensorflow/core/kernels/data/cache_dataset_ops.cc:298] The calling iterator did not fully read the dataset being cached. In order to avoid unexpected truncation of the dataset, the partially cached contents of the dataset  will be discarded. This can happen if you have an input pipeline similar to `dataset.cache().take(k).repeat()`. You should use `dataset.take(k).cache().repeat()` instead.\n",
      "2024-02-08 04:34:40.888589: W tensorflow/core/grappler/costs/op_level_cost_estimator.cc:693] Error in PredictCost() for the op: op: \"Softmax\" attr { key: \"T\" value { type: DT_FLOAT } } inputs { dtype: DT_FLOAT shape { unknown_rank: true } } device { type: \"CPU\" vendor: \"GenuineIntel\" model: \"110\" frequency: 2300 num_cores: 16 environment { key: \"cpu_instruction_set\" value: \"AVX SSE, SSE2, SSE3, SSSE3, SSE4.1, SSE4.2\" } environment { key: \"eigen\" value: \"3.4.90\" } l1_cache_size: 32768 l2_cache_size: 262144 l3_cache_size: 16777216 memory_size: 268435456 } outputs { dtype: DT_FLOAT shape { unknown_rank: true } }\n"
     ]
    },
    {
     "name": "stdout",
     "output_type": "stream",
     "text": [
      "52/52 [==============================] - 5s 8ms/step - loss: 0.0201\n",
      "Epoch 2/20\n",
      "20/52 [==========>...................] - ETA: 0s - loss: 0.0123"
     ]
    },
    {
     "name": "stderr",
     "output_type": "stream",
     "text": [
      "2024-02-08 04:34:41.764847: W tensorflow/core/kernels/data/cache_dataset_ops.cc:298] The calling iterator did not fully read the dataset being cached. In order to avoid unexpected truncation of the dataset, the partially cached contents of the dataset  will be discarded. This can happen if you have an input pipeline similar to `dataset.cache().take(k).repeat()`. You should use `dataset.take(k).cache().repeat()` instead.\n"
     ]
    },
    {
     "name": "stdout",
     "output_type": "stream",
     "text": [
      "52/52 [==============================] - 0s 9ms/step - loss: 0.0245\n",
      "Epoch 3/20\n",
      "52/52 [==============================] - 0s 9ms/step - loss: 0.0187\n",
      "Epoch 4/20\n",
      "52/52 [==============================] - 0s 9ms/step - loss: 0.0139\n",
      "Epoch 5/20\n",
      "52/52 [==============================] - 0s 9ms/step - loss: 0.0124\n",
      "Epoch 6/20\n",
      "52/52 [==============================] - 0s 9ms/step - loss: 0.0120\n",
      "Epoch 7/20\n",
      "52/52 [==============================] - 0s 9ms/step - loss: 0.0117\n",
      "Epoch 8/20\n",
      "52/52 [==============================] - 1s 10ms/step - loss: 0.0115\n",
      "Epoch 9/20\n",
      "52/52 [==============================] - 1s 10ms/step - loss: 0.0113\n",
      "Epoch 10/20\n",
      "52/52 [==============================] - 1s 10ms/step - loss: 0.0111\n",
      "Epoch 11/20\n",
      "52/52 [==============================] - 1s 10ms/step - loss: 0.0109\n",
      "Epoch 12/20\n",
      "52/52 [==============================] - 1s 10ms/step - loss: 0.0108\n",
      "Epoch 13/20\n",
      "52/52 [==============================] - 1s 11ms/step - loss: 0.0107\n",
      "Epoch 14/20\n",
      "52/52 [==============================] - 1s 12ms/step - loss: 0.0106\n",
      "Epoch 15/20\n",
      "52/52 [==============================] - 1s 11ms/step - loss: 0.0105\n",
      "Epoch 16/20\n",
      "52/52 [==============================] - 1s 10ms/step - loss: 0.0104\n",
      "Epoch 17/20\n",
      "52/52 [==============================] - 1s 10ms/step - loss: 0.0103\n",
      "Epoch 18/20\n",
      "52/52 [==============================] - 1s 11ms/step - loss: 0.0103\n",
      "Epoch 19/20\n",
      "52/52 [==============================] - 1s 11ms/step - loss: 0.0102\n",
      "Epoch 20/20\n",
      "52/52 [==============================] - 1s 11ms/step - loss: 0.0101\n",
      "BTC-USD modeli eğitildi ve kaydedildi\n"
     ]
    },
    {
     "name": "stderr",
     "output_type": "stream",
     "text": [
      "/Users/mustafakapici/anaconda3/envs/all/lib/python3.11/site-packages/keras/src/engine/training.py:3079: UserWarning: You are saving your model as an HDF5 file via `model.save()`. This file format is considered legacy. We recommend using instead the native Keras format, e.g. `model.save('my_model.keras')`.\n",
      "  saving_api.save_model(\n"
     ]
    },
    {
     "name": "stdout",
     "output_type": "stream",
     "text": [
      "Epoch 1/20\n"
     ]
    },
    {
     "name": "stderr",
     "output_type": "stream",
     "text": [
      "2024-02-08 04:34:52.852691: W tensorflow/core/kernels/data/cache_dataset_ops.cc:298] The calling iterator did not fully read the dataset being cached. In order to avoid unexpected truncation of the dataset, the partially cached contents of the dataset  will be discarded. This can happen if you have an input pipeline similar to `dataset.cache().take(k).repeat()`. You should use `dataset.take(k).cache().repeat()` instead.\n",
      "2024-02-08 04:34:58.337139: W tensorflow/core/grappler/costs/op_level_cost_estimator.cc:693] Error in PredictCost() for the op: op: \"Softmax\" attr { key: \"T\" value { type: DT_FLOAT } } inputs { dtype: DT_FLOAT shape { unknown_rank: true } } device { type: \"CPU\" vendor: \"GenuineIntel\" model: \"110\" frequency: 2300 num_cores: 16 environment { key: \"cpu_instruction_set\" value: \"AVX SSE, SSE2, SSE3, SSSE3, SSE4.1, SSE4.2\" } environment { key: \"eigen\" value: \"3.4.90\" } l1_cache_size: 32768 l2_cache_size: 262144 l3_cache_size: 16777216 memory_size: 268435456 } outputs { dtype: DT_FLOAT shape { unknown_rank: true } }\n"
     ]
    },
    {
     "name": "stdout",
     "output_type": "stream",
     "text": [
      "20/20 [==============================] - 6s 11ms/step - loss: 0.0254\n",
      "Epoch 2/20\n",
      "16/20 [=======================>......] - ETA: 0s - loss: 0.0275"
     ]
    },
    {
     "name": "stderr",
     "output_type": "stream",
     "text": [
      "2024-02-08 04:34:59.167691: W tensorflow/core/kernels/data/cache_dataset_ops.cc:298] The calling iterator did not fully read the dataset being cached. In order to avoid unexpected truncation of the dataset, the partially cached contents of the dataset  will be discarded. This can happen if you have an input pipeline similar to `dataset.cache().take(k).repeat()`. You should use `dataset.take(k).cache().repeat()` instead.\n"
     ]
    },
    {
     "name": "stdout",
     "output_type": "stream",
     "text": [
      "20/20 [==============================] - 0s 11ms/step - loss: 0.0227\n",
      "Epoch 3/20\n",
      "20/20 [==============================] - 0s 11ms/step - loss: 0.0225\n",
      "Epoch 4/20\n",
      "20/20 [==============================] - 0s 11ms/step - loss: 0.0221\n",
      "Epoch 5/20\n",
      "20/20 [==============================] - 0s 10ms/step - loss: 0.0220\n",
      "Epoch 6/20\n",
      "20/20 [==============================] - 0s 11ms/step - loss: 0.0218\n",
      "Epoch 7/20\n",
      "20/20 [==============================] - 0s 11ms/step - loss: 0.0218\n",
      "Epoch 8/20\n",
      "20/20 [==============================] - 0s 12ms/step - loss: 0.0217\n",
      "Epoch 9/20\n",
      "20/20 [==============================] - 0s 12ms/step - loss: 0.0216\n",
      "Epoch 10/20\n",
      "20/20 [==============================] - 0s 11ms/step - loss: 0.0215\n",
      "Epoch 11/20\n",
      "20/20 [==============================] - 0s 11ms/step - loss: 0.0215\n",
      "Epoch 12/20\n",
      "20/20 [==============================] - 0s 12ms/step - loss: 0.0214\n",
      "Epoch 13/20\n",
      "20/20 [==============================] - 0s 11ms/step - loss: 0.0214\n",
      "Epoch 14/20\n",
      "20/20 [==============================] - 0s 13ms/step - loss: 0.0214\n",
      "Epoch 15/20\n",
      "20/20 [==============================] - 0s 15ms/step - loss: 0.0213\n",
      "Epoch 16/20\n",
      "20/20 [==============================] - 0s 13ms/step - loss: 0.0213\n",
      "Epoch 17/20\n",
      "20/20 [==============================] - 0s 11ms/step - loss: 0.0212\n",
      "Epoch 18/20\n",
      "20/20 [==============================] - 0s 13ms/step - loss: 0.0212\n",
      "Epoch 19/20\n",
      "20/20 [==============================] - 0s 13ms/step - loss: 0.0212\n",
      "Epoch 20/20\n",
      "20/20 [==============================] - 0s 13ms/step - loss: 0.0212\n",
      "SOL-USD modeli eğitildi ve kaydedildi\n"
     ]
    }
   ],
   "source": [
    "# her bir veri çerçevesi için modeli import et ve eğit\n",
    "\n",
    "for i in range(len(scaled_datasets)):\n",
    "    model = tf.keras.models.load_model(f'datas/models/{tickers[i]}_model.h5', custom_objects={'Attention': Attention})\n",
    "    \n",
    "    model.compile(optimizer='adam', loss='mean_squared_error')\n",
    "    \n",
    "    model.fit(full_data[i], epochs=epochs, verbose=1)\n",
    "    \n",
    "    model.save(f'datas/models/{tickers[i]}_model.h5')\n",
    "    \n",
    "    print(f'{tickers[i]} modeli eğitildi ve kaydedildi')\n",
    "    "
   ],
   "metadata": {
    "collapsed": false,
    "ExecuteTime": {
     "end_time": "2024-02-08T01:35:03.783953Z",
     "start_time": "2024-02-08T01:34:35.881058Z"
    }
   },
   "execution_count": 50
  },
  {
   "cell_type": "code",
   "outputs": [],
   "source": [
    "into_future = 1 # 7 gün için 1 hafta\n",
    "\n",
    "def future_forecast(model, data, into_future):\n",
    "    future_forecast = []\n",
    "    last_sequence = data[-seq_length:]\n",
    "    last_sequence = last_sequence.reshape((1, seq_length, len(features)))\n",
    "    for i in range(into_future):\n",
    "        predicted = model.predict(last_sequence)\n",
    "        future_forecast.append(predicted)\n",
    "        last_sequence = np.append(last_sequence, predicted)\n",
    "        last_sequence = last_sequence[-seq_length:]\n",
    "        last_sequence = last_sequence.reshape((1, seq_length, len(features)))\n",
    "    return future_forecast\n"
   ],
   "metadata": {
    "collapsed": false,
    "ExecuteTime": {
     "end_time": "2024-02-08T01:35:03.787161Z",
     "start_time": "2024-02-08T01:35:03.772969Z"
    }
   },
   "execution_count": 51
  },
  {
   "cell_type": "code",
   "outputs": [
    {
     "name": "stdout",
     "output_type": "stream",
     "text": [
      "1 60\n"
     ]
    }
   ],
   "source": [
    "print( into_future , seq_length,)"
   ],
   "metadata": {
    "collapsed": false,
    "ExecuteTime": {
     "end_time": "2024-02-08T01:35:03.791410Z",
     "start_time": "2024-02-08T01:35:03.778636Z"
    }
   },
   "execution_count": 52
  },
  {
   "cell_type": "markdown",
   "source": [],
   "metadata": {
    "collapsed": false
   }
  },
  {
   "cell_type": "code",
   "outputs": [
    {
     "name": "stderr",
     "output_type": "stream",
     "text": [
      "2024-02-08 04:35:05.252593: W tensorflow/core/grappler/costs/op_level_cost_estimator.cc:693] Error in PredictCost() for the op: op: \"Softmax\" attr { key: \"T\" value { type: DT_FLOAT } } inputs { dtype: DT_FLOAT shape { unknown_rank: true } } device { type: \"CPU\" vendor: \"GenuineIntel\" model: \"110\" frequency: 2300 num_cores: 16 environment { key: \"cpu_instruction_set\" value: \"AVX SSE, SSE2, SSE3, SSSE3, SSE4.1, SSE4.2\" } environment { key: \"eigen\" value: \"3.4.90\" } l1_cache_size: 32768 l2_cache_size: 262144 l3_cache_size: 16777216 memory_size: 268435456 } outputs { dtype: DT_FLOAT shape { unknown_rank: true } }\n"
     ]
    },
    {
     "name": "stdout",
     "output_type": "stream",
     "text": [
      "1/1 [==============================] - 2s 2s/step\n",
      "BTC-USD verisi için future values yapıldı ve kaydedildi\n"
     ]
    },
    {
     "name": "stderr",
     "output_type": "stream",
     "text": [
      "2024-02-08 04:35:07.503405: W tensorflow/core/grappler/costs/op_level_cost_estimator.cc:693] Error in PredictCost() for the op: op: \"Softmax\" attr { key: \"T\" value { type: DT_FLOAT } } inputs { dtype: DT_FLOAT shape { unknown_rank: true } } device { type: \"CPU\" vendor: \"GenuineIntel\" model: \"110\" frequency: 2300 num_cores: 16 environment { key: \"cpu_instruction_set\" value: \"AVX SSE, SSE2, SSE3, SSSE3, SSE4.1, SSE4.2\" } environment { key: \"eigen\" value: \"3.4.90\" } l1_cache_size: 32768 l2_cache_size: 262144 l3_cache_size: 16777216 memory_size: 268435456 } outputs { dtype: DT_FLOAT shape { unknown_rank: true } }\n"
     ]
    },
    {
     "name": "stdout",
     "output_type": "stream",
     "text": [
      "1/1 [==============================] - 2s 2s/step\n",
      "SOL-USD verisi için future values yapıldı ve kaydedildi\n"
     ]
    }
   ],
   "source": [
    "future_values = []\n",
    "\n",
    "if not os.path.exists('datas/future_values'):\n",
    "    os.makedirs('datas/future_values')\n",
    "\n",
    "for i in range(len(scaled_datasets)):\n",
    "    future_values.append(future_forecast(models[i], scaled_datasets[i], into_future))\n",
    "    np.save(f'datas/future_values/{tickers[i]}_future_values.npy', future_values[i])\n",
    "    print(f'{tickers[i]} verisi için future values yapıldı ve kaydedildi')\n",
    "    "
   ],
   "metadata": {
    "collapsed": false,
    "ExecuteTime": {
     "end_time": "2024-02-08T01:35:07.717683Z",
     "start_time": "2024-02-08T01:35:03.786428Z"
    }
   },
   "execution_count": 53
  },
  {
   "cell_type": "code",
   "outputs": [
    {
     "name": "stdout",
     "output_type": "stream",
     "text": [
      "BTC-USD verisi için future forecast yapıldı ve kaydedildi\n",
      "(7, 1)\n",
      "SOL-USD verisi için future forecast yapıldı ve kaydedildi\n",
      "(7, 1)\n"
     ]
    }
   ],
   "source": [
    "# her bir veri çerçevesi için future valuesları geri dönüşüm yap ve yeni bi df e kaydet\n",
    "\n",
    "if not os.path.exists('datas/future_forecasts'):\n",
    "    os.makedirs('datas/future_forecasts')\n",
    "    \n",
    "future_forecasts = []\n",
    "\n",
    "for i in range(len(scaled_datasets)):\n",
    "    \n",
    "    #np array olarak future values al\n",
    "    future_value = np.load(f'datas/future_values/{tickers[i]}_future_values.npy')\n",
    "    future_value = scaler.inverse_transform(future_value.reshape(-1, 1))\n",
    "    future_forecasts.append(future_value)\n",
    "    np.save(f'datas/future_forecasts/{tickers[i]}_future_forecast.npy', future_value)\n",
    "    print(f'{tickers[i]} verisi için future forecast yapıldı ve kaydedildi')\n",
    "    print(future_forecasts[i].shape)"
   ],
   "metadata": {
    "collapsed": false,
    "ExecuteTime": {
     "end_time": "2024-02-08T01:35:07.798467Z",
     "start_time": "2024-02-08T01:35:07.722176Z"
    }
   },
   "execution_count": 54
  },
  {
   "cell_type": "code",
   "outputs": [
    {
     "name": "stdout",
     "output_type": "stream",
     "text": [
      "[[165.8111 ]\n",
      " [166.7727 ]\n",
      " [165.90314]\n",
      " [165.27643]\n",
      " [165.06367]\n",
      " [165.10226]\n",
      " [165.24236]]\n"
     ]
    }
   ],
   "source": [
    "print(future_forecasts[0])"
   ],
   "metadata": {
    "collapsed": false,
    "ExecuteTime": {
     "end_time": "2024-02-08T01:35:07.822466Z",
     "start_time": "2024-02-08T01:35:07.736253Z"
    }
   },
   "execution_count": 55
  },
  {
   "cell_type": "code",
   "outputs": [
    {
     "name": "stdout",
     "output_type": "stream",
     "text": [
      "1\n"
     ]
    }
   ],
   "source": [
    "print(into_future) "
   ],
   "metadata": {
    "collapsed": false,
    "ExecuteTime": {
     "end_time": "2024-02-08T01:35:07.826616Z",
     "start_time": "2024-02-08T01:35:07.746069Z"
    }
   },
   "execution_count": 56
  },
  {
   "cell_type": "code",
   "outputs": [
    {
     "name": "stdout",
     "output_type": "stream",
     "text": [
      "BTC-USD verisi için future forecast dataframe oluşturuldu ve kaydedildi\n",
      "SOL-USD verisi için future forecast dataframe oluşturuldu ve kaydedildi\n"
     ]
    }
   ],
   "source": [
    "\n",
    "# dataframe oluştur\n",
    "\n",
    "if not os.path.exists('datas/future_forecasts_df'):\n",
    "    os.makedirs('datas/future_forecasts_df')\n",
    "\n",
    "hafta = (into_future*7) + 1\n",
    "\n",
    "for i in range(len(future_forecasts)):\n",
    "    future_forecast = future_forecasts[i]\n",
    "    future_forecast_dates = pd.date_range(start=datasets[i].index[-1], periods=hafta)[1:]\n",
    "    future_forecast = pd.DataFrame(future_forecast, index=future_forecast_dates, columns=features)\n",
    "    future_forecast.to_csv(f'datas/future_forecasts_df/{tickers[i]}_future_forecast.csv')\n",
    "    print(f'{tickers[i]} verisi için future forecast dataframe oluşturuldu ve kaydedildi')"
   ],
   "metadata": {
    "collapsed": false,
    "ExecuteTime": {
     "end_time": "2024-02-08T01:35:07.842817Z",
     "start_time": "2024-02-08T01:35:07.752592Z"
    }
   },
   "execution_count": 57
  },
  {
   "cell_type": "code",
   "outputs": [
    {
     "name": "stdout",
     "output_type": "stream",
     "text": [
      "BTC-USD verisi için future forecast dataframe\n",
      "                Close\n",
      "2024-02-09  165.81110\n",
      "2024-02-10  166.77270\n",
      "2024-02-11  165.90314\n",
      "2024-02-12  165.27643\n",
      "2024-02-13  165.06367\n",
      "2024-02-14  165.10226\n",
      "2024-02-15  165.24236\n",
      "SOL-USD verisi için future forecast dataframe\n",
      "                 Close\n",
      "2024-02-09   97.133020\n",
      "2024-02-10  100.296170\n",
      "2024-02-11  100.958310\n",
      "2024-02-12  101.325035\n",
      "2024-02-13  101.752210\n",
      "2024-02-14  102.219610\n",
      "2024-02-15  102.663240\n"
     ]
    }
   ],
   "source": [
    "# forecast dataframe leri göster\n",
    "\n",
    "\n",
    "for i in range(len(future_forecasts)):\n",
    "    future_forecast = pd.read_csv(f'datas/future_forecasts_df/{tickers[i]}_future_forecast.csv', index_col=0)\n",
    "    print(f'{tickers[i]} verisi için future forecast dataframe')\n",
    "    print(future_forecast)"
   ],
   "metadata": {
    "collapsed": false,
    "ExecuteTime": {
     "end_time": "2024-02-08T01:35:07.909682Z",
     "start_time": "2024-02-08T01:35:07.766631Z"
    }
   },
   "execution_count": 58
  },
  {
   "cell_type": "code",
   "outputs": [
    {
     "name": "stdout",
     "output_type": "stream",
     "text": [
      "BTC-USD verisi için combined forecast dataframe oluşturuldu ve kaydedildi\n",
      "SOL-USD verisi için combined forecast dataframe oluşturuldu ve kaydedildi\n"
     ]
    }
   ],
   "source": [
    "# her bir veri çerçevesi için geçmişle geleceğin birlieştirildiği dataframe oluştur\n",
    "\n",
    "if not os.path.exists('datas/combined_forecasts'):\n",
    "    os.makedirs('datas/combined_forecasts')\n",
    "    \n",
    "combined_forecasts = []\n",
    "\n",
    "for i in range(len(datasets)):\n",
    "    \n",
    "    hist = pd.read_csv(f'datas/pariteler/{tickers[i]}.csv', index_col=0)\n",
    "    futur = pd.read_csv(f'datas/future_forecasts_df/{tickers[i]}_future_forecast.csv', index_col=0)\n",
    "    \n",
    "    combined_forecast = pd.concat([hist, futur])\n",
    "    \n",
    "    combined_forecasts.append(combined_forecast)\n",
    "    combined_forecast.to_csv(f'datas/combined_forecasts/{tickers[i]}_combined_forecast.csv')\n",
    "    print(f'{tickers[i]} verisi için combined forecast dataframe oluşturuldu ve kaydedildi')"
   ],
   "metadata": {
    "collapsed": false,
    "ExecuteTime": {
     "end_time": "2024-02-08T01:35:07.934837Z",
     "start_time": "2024-02-08T01:35:07.783091Z"
    }
   },
   "execution_count": 59
  },
  {
   "cell_type": "code",
   "outputs": [
    {
     "name": "stdout",
     "output_type": "stream",
     "text": [
      "BTC-USD verisi için combined forecast dataframe\n",
      "                   Close\n",
      "2024-01-16  43154.945312\n",
      "2024-01-17  42742.652344\n",
      "2024-01-18  41262.058594\n",
      "2024-01-19  41618.406250\n",
      "2024-01-20  41665.585938\n",
      "2024-01-21  41545.785156\n",
      "2024-01-22  39507.367188\n",
      "2024-01-23  39845.550781\n",
      "2024-01-24  40077.074219\n",
      "2024-01-25  39933.808594\n",
      "2024-01-26  41816.871094\n",
      "2024-01-27  42120.054688\n",
      "2024-01-28  42035.593750\n",
      "2024-01-29  43288.246094\n",
      "2024-01-30  42952.609375\n",
      "2024-01-31  42582.605469\n",
      "2024-02-01  43075.773438\n",
      "2024-02-02  43185.859375\n",
      "2024-02-03  42992.250000\n",
      "2024-02-04  42583.582031\n",
      "2024-02-05  42658.667969\n",
      "2024-02-06  43084.671875\n",
      "2024-02-08  44543.406250\n",
      "2024-02-09    165.811100\n",
      "2024-02-10    166.772700\n",
      "2024-02-11    165.903140\n",
      "2024-02-12    165.276430\n",
      "2024-02-13    165.063670\n",
      "2024-02-14    165.102260\n",
      "2024-02-15    165.242360\n",
      "---------------\n",
      "\n",
      "\n",
      "SOL-USD verisi için combined forecast dataframe\n",
      "                 Close\n",
      "2024-01-16   97.626915\n",
      "2024-01-17  102.063599\n",
      "2024-01-18   94.250954\n",
      "2024-01-19   93.386169\n",
      "2024-01-20   92.569839\n",
      "2024-01-21   90.848434\n",
      "2024-01-22   83.622810\n",
      "2024-01-23   84.274506\n",
      "2024-01-24   88.732010\n",
      "2024-01-25   86.889214\n",
      "2024-01-26   92.442368\n",
      "2024-01-27   94.163216\n",
      "2024-01-28   95.937981\n",
      "2024-01-29  101.566666\n",
      "2024-01-30  101.472977\n",
      "2024-01-31   97.028709\n",
      "2024-02-01   97.846695\n",
      "2024-02-02  100.440521\n",
      "2024-02-03   97.879982\n",
      "2024-02-04   95.476959\n",
      "2024-02-05   95.548660\n",
      "2024-02-06   96.861076\n",
      "2024-02-08  101.563423\n",
      "2024-02-09   97.133020\n",
      "2024-02-10  100.296170\n",
      "2024-02-11  100.958310\n",
      "2024-02-12  101.325035\n",
      "2024-02-13  101.752210\n",
      "2024-02-14  102.219610\n",
      "2024-02-15  102.663240\n",
      "---------------\n",
      "\n"
     ]
    }
   ],
   "source": [
    "# combined forecast dataframelerin son 30 günününü göster\n",
    "\n",
    "for i in range(len(combined_forecasts)):\n",
    "    print(f'{tickers[i]} verisi için combined forecast dataframe')\n",
    "    print(combined_forecasts[i].tail(30))\n",
    "    \n",
    "    print('---------------\\n\\n')\n",
    "    "
   ],
   "metadata": {
    "collapsed": false,
    "ExecuteTime": {
     "end_time": "2024-02-08T01:35:07.965191Z",
     "start_time": "2024-02-08T01:35:07.831337Z"
    }
   },
   "execution_count": 60
  },
  {
   "cell_type": "code",
   "outputs": [
    {
     "name": "stdout",
     "output_type": "stream",
     "text": [
      "BTC-USD verisi için combined forecast dataframe JSON olarak kaydedildi\n",
      "SOL-USD verisi için combined forecast dataframe JSON olarak kaydedildi\n"
     ]
    }
   ],
   "source": [
    "# son 30 günleri JSON oalrak API de sunacağız\n",
    "\n",
    "import json\n",
    "\n",
    "if not os.path.exists('datas/combined_forecasts_json'):\n",
    "    os.makedirs('datas/combined_forecasts_json')\n",
    "    \n",
    "for i in range(len(combined_forecasts)):\n",
    "    combined_forecasts[i].tail(30).to_json(f'datas/combined_forecasts_json/{tickers[i]}_combined_forecast.json', orient='index')\n",
    "    print(f'{tickers[i]} verisi için combined forecast dataframe JSON olarak kaydedildi')\n",
    "    "
   ],
   "metadata": {
    "collapsed": false,
    "ExecuteTime": {
     "end_time": "2024-02-08T01:35:07.989460Z",
     "start_time": "2024-02-08T01:35:07.839379Z"
    }
   },
   "execution_count": 61
  },
  {
   "cell_type": "code",
   "outputs": [
    {
     "name": "stdout",
     "output_type": "stream",
     "text": [
      "Tüm veriler tek bir JSON dosyasında birleştirildi\n"
     ]
    }
   ],
   "source": [
    "# oluşturulan json dosyalarını tek bir json dosyasında birleştir JSON şema kullan \n",
    "# [ \n",
    "# { \"ticker\": \"AAPL\", \n",
    "# \"forecasts\": { \"date\": \"2021-09-01\", \"Close\": 150.0 } ,{ \"date\": \"2021-09-01\", \"Close\": 150.0 } \n",
    "# }, \n",
    "# { \"ticker\": \"MSFT\", \n",
    "# \"forecasts\": { \"date\": \"2021-09-01\", \"Close\": 150.0 },{ \"date\": \"2021-09-01\", \"Close\": 150.0 }\n",
    "# }\n",
    "# ]\n",
    "\n",
    "\n",
    "combined_json = []\n",
    "\n",
    "for i in range(len(tickers)):\n",
    "    with open(f'datas/combined_forecasts_json/{tickers[i]}_combined_forecast.json') as f:\n",
    "        data = json.load(f)\n",
    "        combined_json.append({ \"ticker\": tickers[i], \"forecasts\": data })\n",
    "        \n",
    "with open('datas/combined_forecasts_json/ALL_combined_forecasts.json', 'w') as f:\n",
    "    json.dump(combined_json, f)\n",
    "    print('Tüm veriler tek bir JSON dosyasında birleştirildi')\n",
    "    "
   ],
   "metadata": {
    "collapsed": false,
    "ExecuteTime": {
     "end_time": "2024-02-08T01:35:07.992490Z",
     "start_time": "2024-02-08T01:35:07.853207Z"
    }
   },
   "execution_count": 62
  },
  {
   "cell_type": "code",
   "outputs": [
    {
     "name": "stdout",
     "output_type": "stream",
     "text": [
      " * Serving Flask app '__main__'\n",
      " * Debug mode: off\n"
     ]
    },
    {
     "name": "stderr",
     "output_type": "stream",
     "text": [
      "\u001B[31m\u001B[1mWARNING: This is a development server. Do not use it in a production deployment. Use a production WSGI server instead.\u001B[0m\n",
      " * Running on http://127.0.0.1:5000\n",
      "\u001B[33mPress CTRL+C to quit\u001B[0m\n"
     ]
    }
   ],
   "source": [
    "import flask \n",
    "\n",
    "app = flask.Flask(__name__)\n",
    "\n",
    "@app.route('/forec')\n",
    "\n",
    "def forecasts():\n",
    "    with open('datas/combined_forecasts_json/ALL_combined_forecasts.json') as f:\n",
    "        forecasts = json.load(f)\n",
    "    return forecasts\n",
    "\n",
    "if __name__ == '__main__':\n",
    "    app.run()"
   ],
   "metadata": {
    "collapsed": false,
    "ExecuteTime": {
     "end_time": "2024-02-08T01:35:56.655347Z",
     "start_time": "2024-02-08T01:35:07.862093Z"
    }
   },
   "execution_count": 63
  },
  {
   "cell_type": "code",
   "outputs": [],
   "source": [],
   "metadata": {
    "collapsed": false,
    "ExecuteTime": {
     "end_time": "2024-02-08T01:35:56.659235Z",
     "start_time": "2024-02-08T01:35:56.656050Z"
    }
   },
   "execution_count": 63
  },
  {
   "cell_type": "code",
   "outputs": [],
   "source": [
    "# flaskı durdur\n",
    "\n",
    "\n"
   ],
   "metadata": {
    "collapsed": false,
    "ExecuteTime": {
     "end_time": "2024-02-08T01:35:56.669126Z",
     "start_time": "2024-02-08T01:35:56.664476Z"
    }
   },
   "execution_count": 64
  },
  {
   "cell_type": "code",
   "outputs": [],
   "source": [],
   "metadata": {
    "collapsed": false,
    "ExecuteTime": {
     "end_time": "2024-02-08T01:35:56.671884Z",
     "start_time": "2024-02-08T01:35:56.667857Z"
    }
   },
   "execution_count": 64
  }
 ],
 "metadata": {
  "kernelspec": {
   "display_name": "all",
   "language": "python",
   "name": "python3"
  },
  "language_info": {
   "codemirror_mode": {
    "name": "ipython",
    "version": 3
   },
   "file_extension": ".py",
   "mimetype": "text/x-python",
   "name": "python",
   "nbconvert_exporter": "python",
   "pygments_lexer": "ipython3",
   "version": "3.6.13"
  }
 },
 "nbformat": 4,
 "nbformat_minor": 2
}
