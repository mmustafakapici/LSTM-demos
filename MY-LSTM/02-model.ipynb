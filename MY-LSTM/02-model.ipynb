{
 "cells": [
  {
   "cell_type": "code",
   "execution_count": 1,
   "metadata": {},
   "outputs": [
    {
     "name": "stderr",
     "output_type": "stream",
     "text": [
      "2024-02-03 03:58:51.271373: I tensorflow/core/platform/cpu_feature_guard.cc:182] This TensorFlow binary is optimized to use available CPU instructions in performance-critical operations.\n",
      "To enable the following instructions: AVX2 FMA, in other operations, rebuild TensorFlow with the appropriate compiler flags.\n"
     ]
    }
   ],
   "source": [
    "import numpy as np\n",
    "import pandas as pd \n",
    "import matplotlib.pyplot as plt\n",
    "\n",
    "import os\n",
    "\n",
    "import tensorflow as tf\n",
    "\n",
    "from tensorflow.keras.models import Sequential \n",
    "from tensorflow.keras.layers import Dense, Dropout, Activation, Flatten,  LSTM , BatchNormalization\n"
   ]
  },
  {
   "cell_type": "code",
   "execution_count": 2,
   "metadata": {},
   "outputs": [],
   "source": [
    "import yfinance as yf"
   ]
  },
  {
   "cell_type": "code",
   "execution_count": 3,
   "metadata": {},
   "outputs": [],
   "source": [
    "period = '1000d'\n",
    "\n",
    "tickers = ['AAPL', 'MSFT', 'AMZN', 'GOOG', 'GOOGL', 'TSLA', 'NVDA', 'PYPL', 'ADBE','BTC-USD', 'ETH-USD', 'XRP-USD', 'LTC-USD','BCH-USD', 'BNB-USD', 'LINK-USD', 'ADA-USD', 'XLM-USD', 'SOL-USD', 'TRX-USD']\n",
    "\n",
    "#tickers = ['SOL-USD']\n"
   ]
  },
  {
   "cell_type": "code",
   "execution_count": 4,
   "metadata": {},
   "outputs": [],
   "source": [
    "def indir_ve_df_olustur(tickers, period):\n",
    "    # Her bir hisse senedi için boş bir sözlük oluşturun\n",
    "    pariteler = {}\n",
    "\n",
    "    # Her bir hisse senedi için döngü oluşturun ve verileri indirin\n",
    "    for ticker in tickers:\n",
    "        try:\n",
    "            # Hisse senedi verilerini indirin\n",
    "            veri = yf.download(ticker, period=period)\n",
    "            \n",
    "            # Veriyi sözlüğe ekleyin\n",
    "            pariteler[ticker] = veri\n",
    "        except Exception as e:\n",
    "            print(f\"{ticker} için veri indirilirken bir hata oluştu: {str(e)}\")\n",
    "\n",
    "    # Her bir hisse senedi için ayrı bir veri çerçevesi oluşturun\n",
    "    df_listesi = [veri for veri in pariteler.values()]\n",
    "\n",
    "    return df_listesi"
   ]
  },
  {
   "cell_type": "code",
   "execution_count": 5,
   "metadata": {},
   "outputs": [],
   "source": [
    "#pariteler adında klasör oluştur :\n",
    "\n",
    "import os \n",
    "\n",
    "if not os.path.exists('pariteler'):\n",
    "    os.makedirs('pariteler')\n",
    "\n"
   ]
  },
  {
   "cell_type": "code",
   "execution_count": 6,
   "metadata": {},
   "outputs": [
    {
     "name": "stdout",
     "output_type": "stream",
     "text": [
      "[*********************100%%**********************]  1 of 1 completed\n"
     ]
    }
   ],
   "source": [
    "datasets = indir_ve_df_olustur(tickers, period)\n",
    "\n",
    "#pariteler içine kaydet \n",
    "\n",
    "for i in range(len(datasets)):\n",
    "    datasets[i].to_csv(f'pariteler/{tickers[i]}.csv')\n",
    "    #print(f'{tickers[i]} verisi csv olarak kaydedildi')\n"
   ]
  },
  {
   "cell_type": "code",
   "execution_count": 7,
   "metadata": {},
   "outputs": [
    {
     "name": "stderr",
     "output_type": "stream",
     "text": [
      "/var/folders/w9/3z_zbj956tj44glgzg44rgbr0000gn/T/ipykernel_36546/922027487.py:11: PerformanceWarning: DataFrame is highly fragmented.  This is usually the result of calling `frame.insert` many times, which has poor performance.  Consider joining all columns at once using pd.concat(axis=1) instead. To get a de-fragmented frame, use `newframe = frame.copy()`\n",
      "  df[f'Önceki_{i}_Düşük'] = df['Low'].shift(i)\n",
      "/var/folders/w9/3z_zbj956tj44glgzg44rgbr0000gn/T/ipykernel_36546/922027487.py:12: PerformanceWarning: DataFrame is highly fragmented.  This is usually the result of calling `frame.insert` many times, which has poor performance.  Consider joining all columns at once using pd.concat(axis=1) instead. To get a de-fragmented frame, use `newframe = frame.copy()`\n",
      "  df[f'Önceki_{i}_Kapanış'] = df['Close'].shift(i)\n",
      "/var/folders/w9/3z_zbj956tj44glgzg44rgbr0000gn/T/ipykernel_36546/922027487.py:13: PerformanceWarning: DataFrame is highly fragmented.  This is usually the result of calling `frame.insert` many times, which has poor performance.  Consider joining all columns at once using pd.concat(axis=1) instead. To get a de-fragmented frame, use `newframe = frame.copy()`\n",
      "  df[f'Önceki_{i}_Adj'] = df['Adj Close'].shift(i)\n",
      "/var/folders/w9/3z_zbj956tj44glgzg44rgbr0000gn/T/ipykernel_36546/922027487.py:14: PerformanceWarning: DataFrame is highly fragmented.  This is usually the result of calling `frame.insert` many times, which has poor performance.  Consider joining all columns at once using pd.concat(axis=1) instead. To get a de-fragmented frame, use `newframe = frame.copy()`\n",
      "  df[f'Önceki_{i}_Hacim'] = df['Volume'].shift(i)\n",
      "/var/folders/w9/3z_zbj956tj44glgzg44rgbr0000gn/T/ipykernel_36546/922027487.py:9: PerformanceWarning: DataFrame is highly fragmented.  This is usually the result of calling `frame.insert` many times, which has poor performance.  Consider joining all columns at once using pd.concat(axis=1) instead. To get a de-fragmented frame, use `newframe = frame.copy()`\n",
      "  df[f'Önceki_{i}_Açılış'] = df['Open'].shift(i)\n",
      "/var/folders/w9/3z_zbj956tj44glgzg44rgbr0000gn/T/ipykernel_36546/922027487.py:10: PerformanceWarning: DataFrame is highly fragmented.  This is usually the result of calling `frame.insert` many times, which has poor performance.  Consider joining all columns at once using pd.concat(axis=1) instead. To get a de-fragmented frame, use `newframe = frame.copy()`\n",
      "  df[f'Önceki_{i}_Yüksek'] = df['High'].shift(i)\n",
      "/var/folders/w9/3z_zbj956tj44glgzg44rgbr0000gn/T/ipykernel_36546/922027487.py:11: PerformanceWarning: DataFrame is highly fragmented.  This is usually the result of calling `frame.insert` many times, which has poor performance.  Consider joining all columns at once using pd.concat(axis=1) instead. To get a de-fragmented frame, use `newframe = frame.copy()`\n",
      "  df[f'Önceki_{i}_Düşük'] = df['Low'].shift(i)\n",
      "/var/folders/w9/3z_zbj956tj44glgzg44rgbr0000gn/T/ipykernel_36546/922027487.py:12: PerformanceWarning: DataFrame is highly fragmented.  This is usually the result of calling `frame.insert` many times, which has poor performance.  Consider joining all columns at once using pd.concat(axis=1) instead. To get a de-fragmented frame, use `newframe = frame.copy()`\n",
      "  df[f'Önceki_{i}_Kapanış'] = df['Close'].shift(i)\n",
      "/var/folders/w9/3z_zbj956tj44glgzg44rgbr0000gn/T/ipykernel_36546/922027487.py:13: PerformanceWarning: DataFrame is highly fragmented.  This is usually the result of calling `frame.insert` many times, which has poor performance.  Consider joining all columns at once using pd.concat(axis=1) instead. To get a de-fragmented frame, use `newframe = frame.copy()`\n",
      "  df[f'Önceki_{i}_Adj'] = df['Adj Close'].shift(i)\n",
      "/var/folders/w9/3z_zbj956tj44glgzg44rgbr0000gn/T/ipykernel_36546/922027487.py:14: PerformanceWarning: DataFrame is highly fragmented.  This is usually the result of calling `frame.insert` many times, which has poor performance.  Consider joining all columns at once using pd.concat(axis=1) instead. To get a de-fragmented frame, use `newframe = frame.copy()`\n",
      "  df[f'Önceki_{i}_Hacim'] = df['Volume'].shift(i)\n",
      "/var/folders/w9/3z_zbj956tj44glgzg44rgbr0000gn/T/ipykernel_36546/922027487.py:9: PerformanceWarning: DataFrame is highly fragmented.  This is usually the result of calling `frame.insert` many times, which has poor performance.  Consider joining all columns at once using pd.concat(axis=1) instead. To get a de-fragmented frame, use `newframe = frame.copy()`\n",
      "  df[f'Önceki_{i}_Açılış'] = df['Open'].shift(i)\n",
      "/var/folders/w9/3z_zbj956tj44glgzg44rgbr0000gn/T/ipykernel_36546/922027487.py:10: PerformanceWarning: DataFrame is highly fragmented.  This is usually the result of calling `frame.insert` many times, which has poor performance.  Consider joining all columns at once using pd.concat(axis=1) instead. To get a de-fragmented frame, use `newframe = frame.copy()`\n",
      "  df[f'Önceki_{i}_Yüksek'] = df['High'].shift(i)\n",
      "/var/folders/w9/3z_zbj956tj44glgzg44rgbr0000gn/T/ipykernel_36546/922027487.py:11: PerformanceWarning: DataFrame is highly fragmented.  This is usually the result of calling `frame.insert` many times, which has poor performance.  Consider joining all columns at once using pd.concat(axis=1) instead. To get a de-fragmented frame, use `newframe = frame.copy()`\n",
      "  df[f'Önceki_{i}_Düşük'] = df['Low'].shift(i)\n",
      "/var/folders/w9/3z_zbj956tj44glgzg44rgbr0000gn/T/ipykernel_36546/922027487.py:12: PerformanceWarning: DataFrame is highly fragmented.  This is usually the result of calling `frame.insert` many times, which has poor performance.  Consider joining all columns at once using pd.concat(axis=1) instead. To get a de-fragmented frame, use `newframe = frame.copy()`\n",
      "  df[f'Önceki_{i}_Kapanış'] = df['Close'].shift(i)\n",
      "/var/folders/w9/3z_zbj956tj44glgzg44rgbr0000gn/T/ipykernel_36546/922027487.py:13: PerformanceWarning: DataFrame is highly fragmented.  This is usually the result of calling `frame.insert` many times, which has poor performance.  Consider joining all columns at once using pd.concat(axis=1) instead. To get a de-fragmented frame, use `newframe = frame.copy()`\n",
      "  df[f'Önceki_{i}_Adj'] = df['Adj Close'].shift(i)\n",
      "/var/folders/w9/3z_zbj956tj44glgzg44rgbr0000gn/T/ipykernel_36546/922027487.py:14: PerformanceWarning: DataFrame is highly fragmented.  This is usually the result of calling `frame.insert` many times, which has poor performance.  Consider joining all columns at once using pd.concat(axis=1) instead. To get a de-fragmented frame, use `newframe = frame.copy()`\n",
      "  df[f'Önceki_{i}_Hacim'] = df['Volume'].shift(i)\n",
      "/var/folders/w9/3z_zbj956tj44glgzg44rgbr0000gn/T/ipykernel_36546/922027487.py:9: PerformanceWarning: DataFrame is highly fragmented.  This is usually the result of calling `frame.insert` many times, which has poor performance.  Consider joining all columns at once using pd.concat(axis=1) instead. To get a de-fragmented frame, use `newframe = frame.copy()`\n",
      "  df[f'Önceki_{i}_Açılış'] = df['Open'].shift(i)\n",
      "/var/folders/w9/3z_zbj956tj44glgzg44rgbr0000gn/T/ipykernel_36546/922027487.py:10: PerformanceWarning: DataFrame is highly fragmented.  This is usually the result of calling `frame.insert` many times, which has poor performance.  Consider joining all columns at once using pd.concat(axis=1) instead. To get a de-fragmented frame, use `newframe = frame.copy()`\n",
      "  df[f'Önceki_{i}_Yüksek'] = df['High'].shift(i)\n",
      "/var/folders/w9/3z_zbj956tj44glgzg44rgbr0000gn/T/ipykernel_36546/922027487.py:11: PerformanceWarning: DataFrame is highly fragmented.  This is usually the result of calling `frame.insert` many times, which has poor performance.  Consider joining all columns at once using pd.concat(axis=1) instead. To get a de-fragmented frame, use `newframe = frame.copy()`\n",
      "  df[f'Önceki_{i}_Düşük'] = df['Low'].shift(i)\n",
      "/var/folders/w9/3z_zbj956tj44glgzg44rgbr0000gn/T/ipykernel_36546/922027487.py:12: PerformanceWarning: DataFrame is highly fragmented.  This is usually the result of calling `frame.insert` many times, which has poor performance.  Consider joining all columns at once using pd.concat(axis=1) instead. To get a de-fragmented frame, use `newframe = frame.copy()`\n",
      "  df[f'Önceki_{i}_Kapanış'] = df['Close'].shift(i)\n",
      "/var/folders/w9/3z_zbj956tj44glgzg44rgbr0000gn/T/ipykernel_36546/922027487.py:13: PerformanceWarning: DataFrame is highly fragmented.  This is usually the result of calling `frame.insert` many times, which has poor performance.  Consider joining all columns at once using pd.concat(axis=1) instead. To get a de-fragmented frame, use `newframe = frame.copy()`\n",
      "  df[f'Önceki_{i}_Adj'] = df['Adj Close'].shift(i)\n",
      "/var/folders/w9/3z_zbj956tj44glgzg44rgbr0000gn/T/ipykernel_36546/922027487.py:14: PerformanceWarning: DataFrame is highly fragmented.  This is usually the result of calling `frame.insert` many times, which has poor performance.  Consider joining all columns at once using pd.concat(axis=1) instead. To get a de-fragmented frame, use `newframe = frame.copy()`\n",
      "  df[f'Önceki_{i}_Hacim'] = df['Volume'].shift(i)\n",
      "/var/folders/w9/3z_zbj956tj44glgzg44rgbr0000gn/T/ipykernel_36546/922027487.py:9: PerformanceWarning: DataFrame is highly fragmented.  This is usually the result of calling `frame.insert` many times, which has poor performance.  Consider joining all columns at once using pd.concat(axis=1) instead. To get a de-fragmented frame, use `newframe = frame.copy()`\n",
      "  df[f'Önceki_{i}_Açılış'] = df['Open'].shift(i)\n",
      "/var/folders/w9/3z_zbj956tj44glgzg44rgbr0000gn/T/ipykernel_36546/922027487.py:10: PerformanceWarning: DataFrame is highly fragmented.  This is usually the result of calling `frame.insert` many times, which has poor performance.  Consider joining all columns at once using pd.concat(axis=1) instead. To get a de-fragmented frame, use `newframe = frame.copy()`\n",
      "  df[f'Önceki_{i}_Yüksek'] = df['High'].shift(i)\n",
      "/var/folders/w9/3z_zbj956tj44glgzg44rgbr0000gn/T/ipykernel_36546/922027487.py:11: PerformanceWarning: DataFrame is highly fragmented.  This is usually the result of calling `frame.insert` many times, which has poor performance.  Consider joining all columns at once using pd.concat(axis=1) instead. To get a de-fragmented frame, use `newframe = frame.copy()`\n",
      "  df[f'Önceki_{i}_Düşük'] = df['Low'].shift(i)\n",
      "/var/folders/w9/3z_zbj956tj44glgzg44rgbr0000gn/T/ipykernel_36546/922027487.py:12: PerformanceWarning: DataFrame is highly fragmented.  This is usually the result of calling `frame.insert` many times, which has poor performance.  Consider joining all columns at once using pd.concat(axis=1) instead. To get a de-fragmented frame, use `newframe = frame.copy()`\n",
      "  df[f'Önceki_{i}_Kapanış'] = df['Close'].shift(i)\n",
      "/var/folders/w9/3z_zbj956tj44glgzg44rgbr0000gn/T/ipykernel_36546/922027487.py:13: PerformanceWarning: DataFrame is highly fragmented.  This is usually the result of calling `frame.insert` many times, which has poor performance.  Consider joining all columns at once using pd.concat(axis=1) instead. To get a de-fragmented frame, use `newframe = frame.copy()`\n",
      "  df[f'Önceki_{i}_Adj'] = df['Adj Close'].shift(i)\n",
      "/var/folders/w9/3z_zbj956tj44glgzg44rgbr0000gn/T/ipykernel_36546/922027487.py:14: PerformanceWarning: DataFrame is highly fragmented.  This is usually the result of calling `frame.insert` many times, which has poor performance.  Consider joining all columns at once using pd.concat(axis=1) instead. To get a de-fragmented frame, use `newframe = frame.copy()`\n",
      "  df[f'Önceki_{i}_Hacim'] = df['Volume'].shift(i)\n",
      "/var/folders/w9/3z_zbj956tj44glgzg44rgbr0000gn/T/ipykernel_36546/922027487.py:9: PerformanceWarning: DataFrame is highly fragmented.  This is usually the result of calling `frame.insert` many times, which has poor performance.  Consider joining all columns at once using pd.concat(axis=1) instead. To get a de-fragmented frame, use `newframe = frame.copy()`\n",
      "  df[f'Önceki_{i}_Açılış'] = df['Open'].shift(i)\n",
      "/var/folders/w9/3z_zbj956tj44glgzg44rgbr0000gn/T/ipykernel_36546/922027487.py:10: PerformanceWarning: DataFrame is highly fragmented.  This is usually the result of calling `frame.insert` many times, which has poor performance.  Consider joining all columns at once using pd.concat(axis=1) instead. To get a de-fragmented frame, use `newframe = frame.copy()`\n",
      "  df[f'Önceki_{i}_Yüksek'] = df['High'].shift(i)\n",
      "/var/folders/w9/3z_zbj956tj44glgzg44rgbr0000gn/T/ipykernel_36546/922027487.py:11: PerformanceWarning: DataFrame is highly fragmented.  This is usually the result of calling `frame.insert` many times, which has poor performance.  Consider joining all columns at once using pd.concat(axis=1) instead. To get a de-fragmented frame, use `newframe = frame.copy()`\n",
      "  df[f'Önceki_{i}_Düşük'] = df['Low'].shift(i)\n",
      "/var/folders/w9/3z_zbj956tj44glgzg44rgbr0000gn/T/ipykernel_36546/922027487.py:12: PerformanceWarning: DataFrame is highly fragmented.  This is usually the result of calling `frame.insert` many times, which has poor performance.  Consider joining all columns at once using pd.concat(axis=1) instead. To get a de-fragmented frame, use `newframe = frame.copy()`\n",
      "  df[f'Önceki_{i}_Kapanış'] = df['Close'].shift(i)\n",
      "/var/folders/w9/3z_zbj956tj44glgzg44rgbr0000gn/T/ipykernel_36546/922027487.py:13: PerformanceWarning: DataFrame is highly fragmented.  This is usually the result of calling `frame.insert` many times, which has poor performance.  Consider joining all columns at once using pd.concat(axis=1) instead. To get a de-fragmented frame, use `newframe = frame.copy()`\n",
      "  df[f'Önceki_{i}_Adj'] = df['Adj Close'].shift(i)\n",
      "/var/folders/w9/3z_zbj956tj44glgzg44rgbr0000gn/T/ipykernel_36546/922027487.py:14: PerformanceWarning: DataFrame is highly fragmented.  This is usually the result of calling `frame.insert` many times, which has poor performance.  Consider joining all columns at once using pd.concat(axis=1) instead. To get a de-fragmented frame, use `newframe = frame.copy()`\n",
      "  df[f'Önceki_{i}_Hacim'] = df['Volume'].shift(i)\n",
      "/var/folders/w9/3z_zbj956tj44glgzg44rgbr0000gn/T/ipykernel_36546/922027487.py:9: PerformanceWarning: DataFrame is highly fragmented.  This is usually the result of calling `frame.insert` many times, which has poor performance.  Consider joining all columns at once using pd.concat(axis=1) instead. To get a de-fragmented frame, use `newframe = frame.copy()`\n",
      "  df[f'Önceki_{i}_Açılış'] = df['Open'].shift(i)\n",
      "/var/folders/w9/3z_zbj956tj44glgzg44rgbr0000gn/T/ipykernel_36546/922027487.py:10: PerformanceWarning: DataFrame is highly fragmented.  This is usually the result of calling `frame.insert` many times, which has poor performance.  Consider joining all columns at once using pd.concat(axis=1) instead. To get a de-fragmented frame, use `newframe = frame.copy()`\n",
      "  df[f'Önceki_{i}_Yüksek'] = df['High'].shift(i)\n",
      "/var/folders/w9/3z_zbj956tj44glgzg44rgbr0000gn/T/ipykernel_36546/922027487.py:11: PerformanceWarning: DataFrame is highly fragmented.  This is usually the result of calling `frame.insert` many times, which has poor performance.  Consider joining all columns at once using pd.concat(axis=1) instead. To get a de-fragmented frame, use `newframe = frame.copy()`\n",
      "  df[f'Önceki_{i}_Düşük'] = df['Low'].shift(i)\n",
      "/var/folders/w9/3z_zbj956tj44glgzg44rgbr0000gn/T/ipykernel_36546/922027487.py:12: PerformanceWarning: DataFrame is highly fragmented.  This is usually the result of calling `frame.insert` many times, which has poor performance.  Consider joining all columns at once using pd.concat(axis=1) instead. To get a de-fragmented frame, use `newframe = frame.copy()`\n",
      "  df[f'Önceki_{i}_Kapanış'] = df['Close'].shift(i)\n",
      "/var/folders/w9/3z_zbj956tj44glgzg44rgbr0000gn/T/ipykernel_36546/922027487.py:13: PerformanceWarning: DataFrame is highly fragmented.  This is usually the result of calling `frame.insert` many times, which has poor performance.  Consider joining all columns at once using pd.concat(axis=1) instead. To get a de-fragmented frame, use `newframe = frame.copy()`\n",
      "  df[f'Önceki_{i}_Adj'] = df['Adj Close'].shift(i)\n",
      "/var/folders/w9/3z_zbj956tj44glgzg44rgbr0000gn/T/ipykernel_36546/922027487.py:14: PerformanceWarning: DataFrame is highly fragmented.  This is usually the result of calling `frame.insert` many times, which has poor performance.  Consider joining all columns at once using pd.concat(axis=1) instead. To get a de-fragmented frame, use `newframe = frame.copy()`\n",
      "  df[f'Önceki_{i}_Hacim'] = df['Volume'].shift(i)\n",
      "/var/folders/w9/3z_zbj956tj44glgzg44rgbr0000gn/T/ipykernel_36546/922027487.py:9: PerformanceWarning: DataFrame is highly fragmented.  This is usually the result of calling `frame.insert` many times, which has poor performance.  Consider joining all columns at once using pd.concat(axis=1) instead. To get a de-fragmented frame, use `newframe = frame.copy()`\n",
      "  df[f'Önceki_{i}_Açılış'] = df['Open'].shift(i)\n",
      "/var/folders/w9/3z_zbj956tj44glgzg44rgbr0000gn/T/ipykernel_36546/922027487.py:10: PerformanceWarning: DataFrame is highly fragmented.  This is usually the result of calling `frame.insert` many times, which has poor performance.  Consider joining all columns at once using pd.concat(axis=1) instead. To get a de-fragmented frame, use `newframe = frame.copy()`\n",
      "  df[f'Önceki_{i}_Yüksek'] = df['High'].shift(i)\n",
      "/var/folders/w9/3z_zbj956tj44glgzg44rgbr0000gn/T/ipykernel_36546/922027487.py:11: PerformanceWarning: DataFrame is highly fragmented.  This is usually the result of calling `frame.insert` many times, which has poor performance.  Consider joining all columns at once using pd.concat(axis=1) instead. To get a de-fragmented frame, use `newframe = frame.copy()`\n",
      "  df[f'Önceki_{i}_Düşük'] = df['Low'].shift(i)\n",
      "/var/folders/w9/3z_zbj956tj44glgzg44rgbr0000gn/T/ipykernel_36546/922027487.py:12: PerformanceWarning: DataFrame is highly fragmented.  This is usually the result of calling `frame.insert` many times, which has poor performance.  Consider joining all columns at once using pd.concat(axis=1) instead. To get a de-fragmented frame, use `newframe = frame.copy()`\n",
      "  df[f'Önceki_{i}_Kapanış'] = df['Close'].shift(i)\n",
      "/var/folders/w9/3z_zbj956tj44glgzg44rgbr0000gn/T/ipykernel_36546/922027487.py:13: PerformanceWarning: DataFrame is highly fragmented.  This is usually the result of calling `frame.insert` many times, which has poor performance.  Consider joining all columns at once using pd.concat(axis=1) instead. To get a de-fragmented frame, use `newframe = frame.copy()`\n",
      "  df[f'Önceki_{i}_Adj'] = df['Adj Close'].shift(i)\n",
      "/var/folders/w9/3z_zbj956tj44glgzg44rgbr0000gn/T/ipykernel_36546/922027487.py:14: PerformanceWarning: DataFrame is highly fragmented.  This is usually the result of calling `frame.insert` many times, which has poor performance.  Consider joining all columns at once using pd.concat(axis=1) instead. To get a de-fragmented frame, use `newframe = frame.copy()`\n",
      "  df[f'Önceki_{i}_Hacim'] = df['Volume'].shift(i)\n",
      "/var/folders/w9/3z_zbj956tj44glgzg44rgbr0000gn/T/ipykernel_36546/922027487.py:9: PerformanceWarning: DataFrame is highly fragmented.  This is usually the result of calling `frame.insert` many times, which has poor performance.  Consider joining all columns at once using pd.concat(axis=1) instead. To get a de-fragmented frame, use `newframe = frame.copy()`\n",
      "  df[f'Önceki_{i}_Açılış'] = df['Open'].shift(i)\n",
      "/var/folders/w9/3z_zbj956tj44glgzg44rgbr0000gn/T/ipykernel_36546/922027487.py:10: PerformanceWarning: DataFrame is highly fragmented.  This is usually the result of calling `frame.insert` many times, which has poor performance.  Consider joining all columns at once using pd.concat(axis=1) instead. To get a de-fragmented frame, use `newframe = frame.copy()`\n",
      "  df[f'Önceki_{i}_Yüksek'] = df['High'].shift(i)\n",
      "/var/folders/w9/3z_zbj956tj44glgzg44rgbr0000gn/T/ipykernel_36546/922027487.py:11: PerformanceWarning: DataFrame is highly fragmented.  This is usually the result of calling `frame.insert` many times, which has poor performance.  Consider joining all columns at once using pd.concat(axis=1) instead. To get a de-fragmented frame, use `newframe = frame.copy()`\n",
      "  df[f'Önceki_{i}_Düşük'] = df['Low'].shift(i)\n",
      "/var/folders/w9/3z_zbj956tj44glgzg44rgbr0000gn/T/ipykernel_36546/922027487.py:12: PerformanceWarning: DataFrame is highly fragmented.  This is usually the result of calling `frame.insert` many times, which has poor performance.  Consider joining all columns at once using pd.concat(axis=1) instead. To get a de-fragmented frame, use `newframe = frame.copy()`\n",
      "  df[f'Önceki_{i}_Kapanış'] = df['Close'].shift(i)\n",
      "/var/folders/w9/3z_zbj956tj44glgzg44rgbr0000gn/T/ipykernel_36546/922027487.py:13: PerformanceWarning: DataFrame is highly fragmented.  This is usually the result of calling `frame.insert` many times, which has poor performance.  Consider joining all columns at once using pd.concat(axis=1) instead. To get a de-fragmented frame, use `newframe = frame.copy()`\n",
      "  df[f'Önceki_{i}_Adj'] = df['Adj Close'].shift(i)\n",
      "/var/folders/w9/3z_zbj956tj44glgzg44rgbr0000gn/T/ipykernel_36546/922027487.py:14: PerformanceWarning: DataFrame is highly fragmented.  This is usually the result of calling `frame.insert` many times, which has poor performance.  Consider joining all columns at once using pd.concat(axis=1) instead. To get a de-fragmented frame, use `newframe = frame.copy()`\n",
      "  df[f'Önceki_{i}_Hacim'] = df['Volume'].shift(i)\n",
      "/var/folders/w9/3z_zbj956tj44glgzg44rgbr0000gn/T/ipykernel_36546/922027487.py:9: PerformanceWarning: DataFrame is highly fragmented.  This is usually the result of calling `frame.insert` many times, which has poor performance.  Consider joining all columns at once using pd.concat(axis=1) instead. To get a de-fragmented frame, use `newframe = frame.copy()`\n",
      "  df[f'Önceki_{i}_Açılış'] = df['Open'].shift(i)\n",
      "/var/folders/w9/3z_zbj956tj44glgzg44rgbr0000gn/T/ipykernel_36546/922027487.py:10: PerformanceWarning: DataFrame is highly fragmented.  This is usually the result of calling `frame.insert` many times, which has poor performance.  Consider joining all columns at once using pd.concat(axis=1) instead. To get a de-fragmented frame, use `newframe = frame.copy()`\n",
      "  df[f'Önceki_{i}_Yüksek'] = df['High'].shift(i)\n",
      "/var/folders/w9/3z_zbj956tj44glgzg44rgbr0000gn/T/ipykernel_36546/922027487.py:11: PerformanceWarning: DataFrame is highly fragmented.  This is usually the result of calling `frame.insert` many times, which has poor performance.  Consider joining all columns at once using pd.concat(axis=1) instead. To get a de-fragmented frame, use `newframe = frame.copy()`\n",
      "  df[f'Önceki_{i}_Düşük'] = df['Low'].shift(i)\n",
      "/var/folders/w9/3z_zbj956tj44glgzg44rgbr0000gn/T/ipykernel_36546/922027487.py:12: PerformanceWarning: DataFrame is highly fragmented.  This is usually the result of calling `frame.insert` many times, which has poor performance.  Consider joining all columns at once using pd.concat(axis=1) instead. To get a de-fragmented frame, use `newframe = frame.copy()`\n",
      "  df[f'Önceki_{i}_Kapanış'] = df['Close'].shift(i)\n",
      "/var/folders/w9/3z_zbj956tj44glgzg44rgbr0000gn/T/ipykernel_36546/922027487.py:13: PerformanceWarning: DataFrame is highly fragmented.  This is usually the result of calling `frame.insert` many times, which has poor performance.  Consider joining all columns at once using pd.concat(axis=1) instead. To get a de-fragmented frame, use `newframe = frame.copy()`\n",
      "  df[f'Önceki_{i}_Adj'] = df['Adj Close'].shift(i)\n",
      "/var/folders/w9/3z_zbj956tj44glgzg44rgbr0000gn/T/ipykernel_36546/922027487.py:14: PerformanceWarning: DataFrame is highly fragmented.  This is usually the result of calling `frame.insert` many times, which has poor performance.  Consider joining all columns at once using pd.concat(axis=1) instead. To get a de-fragmented frame, use `newframe = frame.copy()`\n",
      "  df[f'Önceki_{i}_Hacim'] = df['Volume'].shift(i)\n",
      "/var/folders/w9/3z_zbj956tj44glgzg44rgbr0000gn/T/ipykernel_36546/922027487.py:9: PerformanceWarning: DataFrame is highly fragmented.  This is usually the result of calling `frame.insert` many times, which has poor performance.  Consider joining all columns at once using pd.concat(axis=1) instead. To get a de-fragmented frame, use `newframe = frame.copy()`\n",
      "  df[f'Önceki_{i}_Açılış'] = df['Open'].shift(i)\n",
      "/var/folders/w9/3z_zbj956tj44glgzg44rgbr0000gn/T/ipykernel_36546/922027487.py:10: PerformanceWarning: DataFrame is highly fragmented.  This is usually the result of calling `frame.insert` many times, which has poor performance.  Consider joining all columns at once using pd.concat(axis=1) instead. To get a de-fragmented frame, use `newframe = frame.copy()`\n",
      "  df[f'Önceki_{i}_Yüksek'] = df['High'].shift(i)\n",
      "/var/folders/w9/3z_zbj956tj44glgzg44rgbr0000gn/T/ipykernel_36546/922027487.py:11: PerformanceWarning: DataFrame is highly fragmented.  This is usually the result of calling `frame.insert` many times, which has poor performance.  Consider joining all columns at once using pd.concat(axis=1) instead. To get a de-fragmented frame, use `newframe = frame.copy()`\n",
      "  df[f'Önceki_{i}_Düşük'] = df['Low'].shift(i)\n",
      "/var/folders/w9/3z_zbj956tj44glgzg44rgbr0000gn/T/ipykernel_36546/922027487.py:12: PerformanceWarning: DataFrame is highly fragmented.  This is usually the result of calling `frame.insert` many times, which has poor performance.  Consider joining all columns at once using pd.concat(axis=1) instead. To get a de-fragmented frame, use `newframe = frame.copy()`\n",
      "  df[f'Önceki_{i}_Kapanış'] = df['Close'].shift(i)\n",
      "/var/folders/w9/3z_zbj956tj44glgzg44rgbr0000gn/T/ipykernel_36546/922027487.py:13: PerformanceWarning: DataFrame is highly fragmented.  This is usually the result of calling `frame.insert` many times, which has poor performance.  Consider joining all columns at once using pd.concat(axis=1) instead. To get a de-fragmented frame, use `newframe = frame.copy()`\n",
      "  df[f'Önceki_{i}_Adj'] = df['Adj Close'].shift(i)\n",
      "/var/folders/w9/3z_zbj956tj44glgzg44rgbr0000gn/T/ipykernel_36546/922027487.py:14: PerformanceWarning: DataFrame is highly fragmented.  This is usually the result of calling `frame.insert` many times, which has poor performance.  Consider joining all columns at once using pd.concat(axis=1) instead. To get a de-fragmented frame, use `newframe = frame.copy()`\n",
      "  df[f'Önceki_{i}_Hacim'] = df['Volume'].shift(i)\n",
      "/var/folders/w9/3z_zbj956tj44glgzg44rgbr0000gn/T/ipykernel_36546/922027487.py:9: PerformanceWarning: DataFrame is highly fragmented.  This is usually the result of calling `frame.insert` many times, which has poor performance.  Consider joining all columns at once using pd.concat(axis=1) instead. To get a de-fragmented frame, use `newframe = frame.copy()`\n",
      "  df[f'Önceki_{i}_Açılış'] = df['Open'].shift(i)\n",
      "/var/folders/w9/3z_zbj956tj44glgzg44rgbr0000gn/T/ipykernel_36546/922027487.py:10: PerformanceWarning: DataFrame is highly fragmented.  This is usually the result of calling `frame.insert` many times, which has poor performance.  Consider joining all columns at once using pd.concat(axis=1) instead. To get a de-fragmented frame, use `newframe = frame.copy()`\n",
      "  df[f'Önceki_{i}_Yüksek'] = df['High'].shift(i)\n",
      "/var/folders/w9/3z_zbj956tj44glgzg44rgbr0000gn/T/ipykernel_36546/922027487.py:11: PerformanceWarning: DataFrame is highly fragmented.  This is usually the result of calling `frame.insert` many times, which has poor performance.  Consider joining all columns at once using pd.concat(axis=1) instead. To get a de-fragmented frame, use `newframe = frame.copy()`\n",
      "  df[f'Önceki_{i}_Düşük'] = df['Low'].shift(i)\n",
      "/var/folders/w9/3z_zbj956tj44glgzg44rgbr0000gn/T/ipykernel_36546/922027487.py:12: PerformanceWarning: DataFrame is highly fragmented.  This is usually the result of calling `frame.insert` many times, which has poor performance.  Consider joining all columns at once using pd.concat(axis=1) instead. To get a de-fragmented frame, use `newframe = frame.copy()`\n",
      "  df[f'Önceki_{i}_Kapanış'] = df['Close'].shift(i)\n",
      "/var/folders/w9/3z_zbj956tj44glgzg44rgbr0000gn/T/ipykernel_36546/922027487.py:13: PerformanceWarning: DataFrame is highly fragmented.  This is usually the result of calling `frame.insert` many times, which has poor performance.  Consider joining all columns at once using pd.concat(axis=1) instead. To get a de-fragmented frame, use `newframe = frame.copy()`\n",
      "  df[f'Önceki_{i}_Adj'] = df['Adj Close'].shift(i)\n",
      "/var/folders/w9/3z_zbj956tj44glgzg44rgbr0000gn/T/ipykernel_36546/922027487.py:14: PerformanceWarning: DataFrame is highly fragmented.  This is usually the result of calling `frame.insert` many times, which has poor performance.  Consider joining all columns at once using pd.concat(axis=1) instead. To get a de-fragmented frame, use `newframe = frame.copy()`\n",
      "  df[f'Önceki_{i}_Hacim'] = df['Volume'].shift(i)\n",
      "/var/folders/w9/3z_zbj956tj44glgzg44rgbr0000gn/T/ipykernel_36546/922027487.py:9: PerformanceWarning: DataFrame is highly fragmented.  This is usually the result of calling `frame.insert` many times, which has poor performance.  Consider joining all columns at once using pd.concat(axis=1) instead. To get a de-fragmented frame, use `newframe = frame.copy()`\n",
      "  df[f'Önceki_{i}_Açılış'] = df['Open'].shift(i)\n",
      "/var/folders/w9/3z_zbj956tj44glgzg44rgbr0000gn/T/ipykernel_36546/922027487.py:10: PerformanceWarning: DataFrame is highly fragmented.  This is usually the result of calling `frame.insert` many times, which has poor performance.  Consider joining all columns at once using pd.concat(axis=1) instead. To get a de-fragmented frame, use `newframe = frame.copy()`\n",
      "  df[f'Önceki_{i}_Yüksek'] = df['High'].shift(i)\n",
      "/var/folders/w9/3z_zbj956tj44glgzg44rgbr0000gn/T/ipykernel_36546/922027487.py:11: PerformanceWarning: DataFrame is highly fragmented.  This is usually the result of calling `frame.insert` many times, which has poor performance.  Consider joining all columns at once using pd.concat(axis=1) instead. To get a de-fragmented frame, use `newframe = frame.copy()`\n",
      "  df[f'Önceki_{i}_Düşük'] = df['Low'].shift(i)\n",
      "/var/folders/w9/3z_zbj956tj44glgzg44rgbr0000gn/T/ipykernel_36546/922027487.py:12: PerformanceWarning: DataFrame is highly fragmented.  This is usually the result of calling `frame.insert` many times, which has poor performance.  Consider joining all columns at once using pd.concat(axis=1) instead. To get a de-fragmented frame, use `newframe = frame.copy()`\n",
      "  df[f'Önceki_{i}_Kapanış'] = df['Close'].shift(i)\n",
      "/var/folders/w9/3z_zbj956tj44glgzg44rgbr0000gn/T/ipykernel_36546/922027487.py:13: PerformanceWarning: DataFrame is highly fragmented.  This is usually the result of calling `frame.insert` many times, which has poor performance.  Consider joining all columns at once using pd.concat(axis=1) instead. To get a de-fragmented frame, use `newframe = frame.copy()`\n",
      "  df[f'Önceki_{i}_Adj'] = df['Adj Close'].shift(i)\n",
      "/var/folders/w9/3z_zbj956tj44glgzg44rgbr0000gn/T/ipykernel_36546/922027487.py:14: PerformanceWarning: DataFrame is highly fragmented.  This is usually the result of calling `frame.insert` many times, which has poor performance.  Consider joining all columns at once using pd.concat(axis=1) instead. To get a de-fragmented frame, use `newframe = frame.copy()`\n",
      "  df[f'Önceki_{i}_Hacim'] = df['Volume'].shift(i)\n",
      "/var/folders/w9/3z_zbj956tj44glgzg44rgbr0000gn/T/ipykernel_36546/922027487.py:9: PerformanceWarning: DataFrame is highly fragmented.  This is usually the result of calling `frame.insert` many times, which has poor performance.  Consider joining all columns at once using pd.concat(axis=1) instead. To get a de-fragmented frame, use `newframe = frame.copy()`\n",
      "  df[f'Önceki_{i}_Açılış'] = df['Open'].shift(i)\n",
      "/var/folders/w9/3z_zbj956tj44glgzg44rgbr0000gn/T/ipykernel_36546/922027487.py:10: PerformanceWarning: DataFrame is highly fragmented.  This is usually the result of calling `frame.insert` many times, which has poor performance.  Consider joining all columns at once using pd.concat(axis=1) instead. To get a de-fragmented frame, use `newframe = frame.copy()`\n",
      "  df[f'Önceki_{i}_Yüksek'] = df['High'].shift(i)\n",
      "/var/folders/w9/3z_zbj956tj44glgzg44rgbr0000gn/T/ipykernel_36546/922027487.py:11: PerformanceWarning: DataFrame is highly fragmented.  This is usually the result of calling `frame.insert` many times, which has poor performance.  Consider joining all columns at once using pd.concat(axis=1) instead. To get a de-fragmented frame, use `newframe = frame.copy()`\n",
      "  df[f'Önceki_{i}_Düşük'] = df['Low'].shift(i)\n",
      "/var/folders/w9/3z_zbj956tj44glgzg44rgbr0000gn/T/ipykernel_36546/922027487.py:12: PerformanceWarning: DataFrame is highly fragmented.  This is usually the result of calling `frame.insert` many times, which has poor performance.  Consider joining all columns at once using pd.concat(axis=1) instead. To get a de-fragmented frame, use `newframe = frame.copy()`\n",
      "  df[f'Önceki_{i}_Kapanış'] = df['Close'].shift(i)\n",
      "/var/folders/w9/3z_zbj956tj44glgzg44rgbr0000gn/T/ipykernel_36546/922027487.py:13: PerformanceWarning: DataFrame is highly fragmented.  This is usually the result of calling `frame.insert` many times, which has poor performance.  Consider joining all columns at once using pd.concat(axis=1) instead. To get a de-fragmented frame, use `newframe = frame.copy()`\n",
      "  df[f'Önceki_{i}_Adj'] = df['Adj Close'].shift(i)\n",
      "/var/folders/w9/3z_zbj956tj44glgzg44rgbr0000gn/T/ipykernel_36546/922027487.py:14: PerformanceWarning: DataFrame is highly fragmented.  This is usually the result of calling `frame.insert` many times, which has poor performance.  Consider joining all columns at once using pd.concat(axis=1) instead. To get a de-fragmented frame, use `newframe = frame.copy()`\n",
      "  df[f'Önceki_{i}_Hacim'] = df['Volume'].shift(i)\n"
     ]
    },
    {
     "name": "stdout",
     "output_type": "stream",
     "text": [
      "SOL-USD verisi windowed olarak kaydedildi\n"
     ]
    }
   ],
   "source": [
    "window = 30\n",
    "\n",
    "def veri_hazirla(df, window):\n",
    "    # Veri çerçevesinin kopyasını oluşturun\n",
    "    df = df.copy()\n",
    "    \n",
    "    # Veri çerçevesine yeni sütunlar ekleyin\n",
    "    for i in range(1, window + 1):\n",
    "        df[f'Önceki_{i}_Açılış'] = df['Open'].shift(i)\n",
    "        df[f'Önceki_{i}_Yüksek'] = df['High'].shift(i)\n",
    "        df[f'Önceki_{i}_Düşük'] = df['Low'].shift(i)\n",
    "        df[f'Önceki_{i}_Kapanış'] = df['Close'].shift(i)\n",
    "        df[f'Önceki_{i}_Adj'] = df['Adj Close'].shift(i)\n",
    "        df[f'Önceki_{i}_Hacim'] = df['Volume'].shift(i)\n",
    "        \n",
    "    # NaN değerleri bırakın\n",
    "    df.dropna(inplace=True)\n",
    "    \n",
    "    return df\n",
    "\n",
    "# Her bir veri çerçevesi için döngü oluşturun ve verileri hazırlayın\n",
    "data_windowed = [veri_hazirla(df, window) for df in datasets]\n",
    "\n",
    "\n",
    "if not os.path.exists('windowed'):\n",
    "    os.makedirs('windowed')\n",
    "\n",
    "# Her bir veri çerçevesi için parite ismiyle birlikte windowed klasörüne kaydedin \n",
    "for i in range(len(data_windowed)):\n",
    "    data_windowed[i].to_csv(f'windowed/{tickers[i]}_windowed.csv')\n",
    "    print(f'{tickers[i]} verisi windowed olarak kaydedildi')\n",
    "\n"
   ]
  },
  {
   "cell_type": "code",
   "execution_count": 8,
   "metadata": {},
   "outputs": [],
   "source": [
    "#data_windowed"
   ]
  },
  {
   "cell_type": "code",
   "execution_count": 9,
   "metadata": {},
   "outputs": [
    {
     "name": "stdout",
     "output_type": "stream",
     "text": [
      "SOL-USD verisi X ve y olarak kaydedildi\n"
     ]
    }
   ],
   "source": [
    "#her bir veri çerçevesi için X  = features(öncekiler) y = labels olan veriyapısını kuruyoruz (labels  = ['Open','High', 'Low', 'Close', 'Adj Close', 'Volume'])\n",
    "\n",
    "def X_y_olustur(df, window, labels):\n",
    "    # Veri çerçevesinin kopyasını oluşturun\n",
    "    df = df.copy()\n",
    "    \n",
    "    # Özellikler ve etiketler için boş listeler oluşturun\n",
    "    X = []\n",
    "    y = []\n",
    "    \n",
    "    # Her bir satır için döngü oluşturun\n",
    "    for i in range(len(df) - window):\n",
    "        # Özellikler için satırı alın\n",
    "        X_row = df.iloc[i:i + window].values\n",
    "        \n",
    "        # Etiketler için satırı alın\n",
    "        y_row = df[labels].iloc[i + window].values\n",
    "        \n",
    "        # Özellikleri ve etiketleri listelere ekleyin\n",
    "        X.append(X_row)\n",
    "        y.append(y_row)\n",
    "        \n",
    "    # Listeleri numpy dizilerine dönüştürün\n",
    "    X = np.array(X)\n",
    "    y = np.array(y)\n",
    "    \n",
    "    return X, y\n",
    "\n",
    "# Her bir veri çerçevesi için döngü oluşturun ve X ve y oluşturun\n",
    "X_y = [X_y_olustur(df, window, ['Open', 'High', 'Low', 'Close', 'Adj Close', 'Volume']) for df in data_windowed]\n",
    "#X_y = [X_y_olustur(df, window, ['Close' ,'Volume']) for df in data_windowed]\n",
    "\n",
    "# Her bir veri çerçevesi için parite ismiyle birlikte numpy klasörüne kaydedin\n",
    "\n",
    "if not os.path.exists('numpy'):\n",
    "    os.makedirs('numpy')\n",
    "for i in range(len(X_y)):\n",
    "    np.save(f'numpy/{tickers[i]}_X.npy', X_y[i][0])\n",
    "    np.save(f'numpy/{tickers[i]}_y.npy', X_y[i][1])\n",
    "    print(f'{tickers[i]} verisi X ve y olarak kaydedildi')\n",
    "    \n",
    "\n"
   ]
  },
  {
   "cell_type": "code",
   "execution_count": 10,
   "metadata": {
    "collapsed": false
   },
   "outputs": [
    {
     "name": "stdout",
     "output_type": "stream",
     "text": [
      "SOL-USD verisi eğitim ve test olarak ayrıldı\n"
     ]
    }
   ],
   "source": [
    "# her bir veri çerçevesi için train test split yapalım time series için doğru yolla yapmak gerekiyor\n",
    "\n",
    "def train_test_split(X, y, test_size):\n",
    "        # Test boyutunu hesaplayın\n",
    "        test_size = int(len(X) * test_size)\n",
    "        \n",
    "        # Eğitim ve test veri kümelerini ayırın\n",
    "        X_train = X[:-test_size]\n",
    "        X_test = X[-test_size:]\n",
    "        y_train = y[:-test_size]\n",
    "        y_test = y[-test_size:]\n",
    "        \n",
    "        return X_train, X_test, y_train, y_test\n",
    "\n",
    "# Her bir veri çerçevesi için döngü oluşturun ve train ve test veri kümelerini ayırın\n",
    "\n",
    "X_train_test = []\n",
    "y_train_test = []\n",
    "\n",
    "for i in range(len(X_y)):\n",
    "    X_train, X_test, y_train, y_test = train_test_split(X_y[i][0], X_y[i][1], 30)\n",
    "    X_train_test.append((X_train, X_test))\n",
    "    y_train_test.append((y_train, y_test))\n",
    "    print(f'{tickers[i]} verisi eğitim ve test olarak ayrıldı')\n",
    "    \n",
    "    "
   ]
  },
  {
   "cell_type": "code",
   "execution_count": 11,
   "metadata": {
    "collapsed": false
   },
   "outputs": [],
   "source": [
    "#her bir veri çerçevesi için dense model oluşturup eğitelim\n",
    "\n",
    "def model_olustur(input_shape , output_shape):\n",
    "    # Modeli oluşturun\n",
    "    model = Sequential()\n",
    "    model.add(LSTM(128, input_shape=input_shape, return_sequences=True))\n",
    "    model.add(Dropout(0.2))\n",
    "    model.add(BatchNormalization())\n",
    "\n",
    "    model.add(LSTM(128, return_sequences=True))\n",
    "    model.add(Dropout(0.1))\n",
    "    model.add(BatchNormalization())\n",
    "\n",
    "    model.add(LSTM(128))\n",
    "    model.add(Dropout(0.2))\n",
    "    model.add(BatchNormalization())\n",
    "\n",
    "    model.add(Dense(32, activation='relu'))\n",
    "    model.add(Dropout(0.2))\n",
    "\n",
    "    model.add(Dense(output_shape, activation='linear'))\n",
    "\n",
    "    return model\n",
    "\n"
   ]
  },
  {
   "cell_type": "code",
   "execution_count": 12,
   "metadata": {},
   "outputs": [
    {
     "data": {
      "text/plain": [
       "(30, 186)"
      ]
     },
     "execution_count": 12,
     "metadata": {},
     "output_type": "execute_result"
    }
   ],
   "source": [
    "X_train_test[i][0].shape[1:]"
   ]
  },
  {
   "cell_type": "code",
   "execution_count": 13,
   "metadata": {},
   "outputs": [
    {
     "data": {
      "text/plain": [
       "6"
      ]
     },
     "execution_count": 13,
     "metadata": {},
     "output_type": "execute_result"
    }
   ],
   "source": [
    "y_train_test[i][0].shape[1]"
   ]
  },
  {
   "cell_type": "code",
   "execution_count": 14,
   "metadata": {},
   "outputs": [],
   "source": [
    "#X_train_test[i][1]"
   ]
  },
  {
   "cell_type": "code",
   "execution_count": 15,
   "metadata": {},
   "outputs": [],
   "source": [
    "#y_train_test[i][1]"
   ]
  },
  {
   "cell_type": "code",
   "execution_count": 16,
   "metadata": {
    "collapsed": false
   },
   "outputs": [
    {
     "ename": "ValueError",
     "evalue": "Expected input data to be non-empty.",
     "output_type": "error",
     "traceback": [
      "\u001b[0;31m---------------------------------------------------------------------------\u001b[0m",
      "\u001b[0;31mValueError\u001b[0m                                Traceback (most recent call last)",
      "Cell \u001b[0;32mIn[16], line 18\u001b[0m\n\u001b[1;32m     15\u001b[0m model\u001b[38;5;241m.\u001b[39mcompile(optimizer\u001b[38;5;241m=\u001b[39m\u001b[38;5;124m'\u001b[39m\u001b[38;5;124madam\u001b[39m\u001b[38;5;124m'\u001b[39m, loss\u001b[38;5;241m=\u001b[39m\u001b[38;5;124m'\u001b[39m\u001b[38;5;124mmse\u001b[39m\u001b[38;5;124m'\u001b[39m, metrics\u001b[38;5;241m=\u001b[39m[\u001b[38;5;124m'\u001b[39m\u001b[38;5;124mmae\u001b[39m\u001b[38;5;124m'\u001b[39m])\n\u001b[1;32m     17\u001b[0m \u001b[38;5;66;03m# Modeli eğitin\u001b[39;00m\n\u001b[0;32m---> 18\u001b[0m \u001b[43mmodel\u001b[49m\u001b[38;5;241;43m.\u001b[39;49m\u001b[43mfit\u001b[49m\u001b[43m(\u001b[49m\u001b[43mX_train_test\u001b[49m\u001b[43m[\u001b[49m\u001b[43mi\u001b[49m\u001b[43m]\u001b[49m\u001b[43m[\u001b[49m\u001b[38;5;241;43m0\u001b[39;49m\u001b[43m]\u001b[49m\u001b[43m,\u001b[49m\u001b[43m \u001b[49m\u001b[43my_train_test\u001b[49m\u001b[43m[\u001b[49m\u001b[43mi\u001b[49m\u001b[43m]\u001b[49m\u001b[43m[\u001b[49m\u001b[38;5;241;43m0\u001b[39;49m\u001b[43m]\u001b[49m\u001b[43m,\u001b[49m\u001b[43m \u001b[49m\u001b[43mepochs\u001b[49m\u001b[38;5;241;43m=\u001b[39;49m\u001b[43mepochs\u001b[49m\u001b[43m,\u001b[49m\u001b[43m \u001b[49m\u001b[43mbatch_size\u001b[49m\u001b[38;5;241;43m=\u001b[39;49m\u001b[43mbatch_size\u001b[49m\u001b[43m,\u001b[49m\u001b[43m \u001b[49m\u001b[43mvalidation_data\u001b[49m\u001b[38;5;241;43m=\u001b[39;49m\u001b[43m(\u001b[49m\u001b[43mX_train_test\u001b[49m\u001b[43m[\u001b[49m\u001b[43mi\u001b[49m\u001b[43m]\u001b[49m\u001b[43m[\u001b[49m\u001b[38;5;241;43m1\u001b[39;49m\u001b[43m]\u001b[49m\u001b[43m,\u001b[49m\u001b[43m \u001b[49m\u001b[43my_train_test\u001b[49m\u001b[43m[\u001b[49m\u001b[43mi\u001b[49m\u001b[43m]\u001b[49m\u001b[43m[\u001b[49m\u001b[38;5;241;43m1\u001b[39;49m\u001b[43m]\u001b[49m\u001b[43m)\u001b[49m\u001b[43m,\u001b[49m\u001b[43m \u001b[49m\u001b[43mverbose\u001b[49m\u001b[38;5;241;43m=\u001b[39;49m\u001b[38;5;241;43m1\u001b[39;49m\u001b[43m)\u001b[49m\n\u001b[1;32m     20\u001b[0m \u001b[38;5;66;03m# Modeli kaydedin\u001b[39;00m\n\u001b[1;32m     21\u001b[0m model\u001b[38;5;241m.\u001b[39msave(\u001b[38;5;124mf\u001b[39m\u001b[38;5;124m'\u001b[39m\u001b[38;5;124mmodels/\u001b[39m\u001b[38;5;132;01m{\u001b[39;00mtickers[i]\u001b[38;5;132;01m}\u001b[39;00m\u001b[38;5;124m_model.h5\u001b[39m\u001b[38;5;124m'\u001b[39m)\n",
      "File \u001b[0;32m~/anaconda3/envs/all/lib/python3.11/site-packages/keras/src/utils/traceback_utils.py:70\u001b[0m, in \u001b[0;36mfilter_traceback.<locals>.error_handler\u001b[0;34m(*args, **kwargs)\u001b[0m\n\u001b[1;32m     67\u001b[0m     filtered_tb \u001b[38;5;241m=\u001b[39m _process_traceback_frames(e\u001b[38;5;241m.\u001b[39m__traceback__)\n\u001b[1;32m     68\u001b[0m     \u001b[38;5;66;03m# To get the full stack trace, call:\u001b[39;00m\n\u001b[1;32m     69\u001b[0m     \u001b[38;5;66;03m# `tf.debugging.disable_traceback_filtering()`\u001b[39;00m\n\u001b[0;32m---> 70\u001b[0m     \u001b[38;5;28;01mraise\u001b[39;00m e\u001b[38;5;241m.\u001b[39mwith_traceback(filtered_tb) \u001b[38;5;28;01mfrom\u001b[39;00m \u001b[38;5;28;01mNone\u001b[39;00m\n\u001b[1;32m     71\u001b[0m \u001b[38;5;28;01mfinally\u001b[39;00m:\n\u001b[1;32m     72\u001b[0m     \u001b[38;5;28;01mdel\u001b[39;00m filtered_tb\n",
      "File \u001b[0;32m~/anaconda3/envs/all/lib/python3.11/site-packages/keras/src/engine/data_adapter.py:1319\u001b[0m, in \u001b[0;36mDataHandler.__init__\u001b[0;34m(self, x, y, sample_weight, batch_size, steps_per_epoch, initial_epoch, epochs, shuffle, class_weight, max_queue_size, workers, use_multiprocessing, model, steps_per_execution, distribute, pss_evaluation_shards)\u001b[0m\n\u001b[1;32m   1314\u001b[0m \u001b[38;5;28mself\u001b[39m\u001b[38;5;241m.\u001b[39m_configure_dataset_and_inferred_steps(\n\u001b[1;32m   1315\u001b[0m     strategy, x, steps_per_epoch, class_weight, distribute\n\u001b[1;32m   1316\u001b[0m )\n\u001b[1;32m   1318\u001b[0m \u001b[38;5;28;01mif\u001b[39;00m \u001b[38;5;28mself\u001b[39m\u001b[38;5;241m.\u001b[39m_inferred_steps \u001b[38;5;241m==\u001b[39m \u001b[38;5;241m0\u001b[39m:\n\u001b[0;32m-> 1319\u001b[0m     \u001b[38;5;28;01mraise\u001b[39;00m \u001b[38;5;167;01mValueError\u001b[39;00m(\u001b[38;5;124m\"\u001b[39m\u001b[38;5;124mExpected input data to be non-empty.\u001b[39m\u001b[38;5;124m\"\u001b[39m)\n",
      "\u001b[0;31mValueError\u001b[0m: Expected input data to be non-empty."
     ]
    }
   ],
   "source": [
    "#her bir veri çerçevesi için modeli oluşturup eğitelim mse loss r2 accuracy metrics olarak kullanalım\n",
    "\n",
    "if not os.path.exists('models'):\n",
    "    os.makedirs('models')\n",
    "\n",
    "epochs = 10\n",
    "batch_size = 32\n",
    "models = []\n",
    "\n",
    "for i in range(len(X_train_test)):\n",
    "    # Modeli oluşturun\n",
    "    model = model_olustur(X_train_test[i][0].shape[1:], y_train_test[i][0].shape[1])\n",
    "    \n",
    "    # Modeli derleyin\n",
    "    model.compile(optimizer='adam', loss='mse', metrics=['mae'])\n",
    "    \n",
    "    # Modeli eğitin\n",
    "    model.fit(X_train_test[i][0], y_train_test[i][0], epochs=epochs, batch_size=batch_size, validation_data=(X_train_test[i][1], y_train_test[i][1]), verbose=1)\n",
    "    \n",
    "    # Modeli kaydedin\n",
    "    model.save(f'models/{tickers[i]}_model.h5')\n",
    "    print(f'{tickers[i]} modeli kaydedildi')\n",
    "    \n",
    "    # Modeli listeye ekleyin\n",
    "    models.append(model)\n",
    "\n"
   ]
  },
  {
   "cell_type": "code",
   "execution_count": null,
   "metadata": {
    "collapsed": false
   },
   "outputs": [],
   "source": [
    "#her bir veri çerçevesi için modeli yükleyip test veri kümeleri ile test edelim\n",
    "\n",
    "from sklearn.metrics import mean_squared_error, r2_score\n",
    "\n",
    "# Her bir model için döngü oluşturun ve test veri kümeleri ile test edin\n",
    "for i in range(len(models)):\n",
    "    # Modeli yükleyin\n",
    "    model = tf.keras.models.load_model(f'models/{tickers[i]}_model.h5')\n",
    "    \n",
    "    # Tahminleri yapın\n",
    "    preds = model.predict(X_train_test[i][1])\n",
    "    \n",
    "    # MSE ve R2 skorlarını hesaplayın\n",
    "    mse = mean_squared_error(y_train_test[i][1], preds)\n",
    "    r2 = r2_score(y_train_test[i][1], preds)\n",
    "    \n",
    "    print(f'{tickers[i]} için MSE: {mse}')\n",
    "    print(f'{tickers[i]} için R2: {r2}')\n",
    "    \n",
    "    # Tahminleri ve gerçek değerleri görselleştirin\n",
    "    #plt.figure(figsize=(12, 6))\n",
    "    #plt.plot(y_train_test[i][1][:, 0], label='Gerçek Değerler')\n",
    "    #plt.plot(preds[:, 0], label='Tahminler')\n",
    "    #plt.title(f'{tickers[i]} Açılış Fiyatı Tahminleri')\n",
    "    #plt.xlabel('Zaman')\n",
    "    #plt.ylabel('Açılış Fiyatı')\n",
    "    #plt.legend()\n",
    "    #plt.show()\n",
    "\n",
    "\n",
    "    # candlestick chart\n",
    "    ohlc = datasets[i][['Open', 'High', 'Low', 'Close']].iloc[-len(preds):]\n",
    "    ohlc['Predictions'] = preds[:, 0]\n",
    "    ohlc['Date'] = ohlc.index\n",
    "    ohlc = ohlc.reset_index(drop=True)\n",
    "    ohlc['Date'] = pd.to_datetime(ohlc['Date'])\n",
    "    ohlc.set_index('Date', inplace=True)\n",
    "    ohlc = ohlc[-30:]\n",
    "    ohlc = ohlc[-30:]\n",
    "\n",
    "    fig, ax = plt.subplots(figsize=(12, 6))\n",
    "    ax.plot(ohlc.index, ohlc['Open'], label='Open')\n",
    "    ax.plot(ohlc.index, ohlc['High'], label='High')\n",
    "    ax.plot(ohlc.index, ohlc['Low'], label='Low')\n",
    "    ax.plot(ohlc.index, ohlc['Close'], label='Close')\n",
    "    ax.plot(ohlc.index, ohlc['Predictions'], label='Predictions')\n",
    "    ax.set_title(f'{tickers[i]}')\n",
    "    ax.legend()\n",
    "    plt.show()\n",
    "\n",
    "\n",
    "    \n",
    "    print('\\n\\n\\n')\n",
    "    "
   ]
  },
  {
   "cell_type": "code",
   "execution_count": null,
   "metadata": {
    "collapsed": false
   },
   "outputs": [],
   "source": []
  }
 ],
 "metadata": {
  "kernelspec": {
   "display_name": "all",
   "language": "python",
   "name": "python3"
  },
  "language_info": {
   "codemirror_mode": {
    "name": "ipython",
    "version": 3
   },
   "file_extension": ".py",
   "mimetype": "text/x-python",
   "name": "python",
   "nbconvert_exporter": "python",
   "pygments_lexer": "ipython3",
   "version": "3.11.5"
  }
 },
 "nbformat": 4,
 "nbformat_minor": 2
}
