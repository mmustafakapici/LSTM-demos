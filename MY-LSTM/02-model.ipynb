{
 "cells": [
  {
   "cell_type": "code",
   "execution_count": 103,
   "metadata": {
    "ExecuteTime": {
     "end_time": "2024-02-03T02:07:55.849549Z",
     "start_time": "2024-02-03T02:07:55.838483Z"
    }
   },
   "outputs": [],
   "source": [
    "import numpy as np\n",
    "import pandas as pd \n",
    "import matplotlib.pyplot as plt\n",
    "\n",
    "import os\n",
    "\n",
    "import tensorflow as tf\n",
    "\n",
    "from tensorflow.keras.models import Sequential \n",
    "from tensorflow.keras.layers import Dense, Dropout, Activation, Flatten,  LSTM , BatchNormalization\n"
   ]
  },
  {
   "cell_type": "code",
   "execution_count": 104,
   "metadata": {
    "ExecuteTime": {
     "end_time": "2024-02-03T02:07:55.881961Z",
     "start_time": "2024-02-03T02:07:55.870579Z"
    }
   },
   "outputs": [],
   "source": [
    "import yfinance as yf"
   ]
  },
  {
   "cell_type": "code",
   "execution_count": 105,
   "metadata": {
    "ExecuteTime": {
     "end_time": "2024-02-03T02:07:55.882487Z",
     "start_time": "2024-02-03T02:07:55.874736Z"
    }
   },
   "outputs": [],
   "source": [
    "period = '1000d'\n",
    "\n",
    "#tickers = ['AAPL', 'MSFT', 'AMZN', 'GOOG', 'GOOGL', 'TSLA', 'NVDA', 'PYPL', 'ADBE','BTC-USD', 'ETH-USD', 'XRP-USD', 'LTC-USD','BCH-USD', 'BNB-USD', 'LINK-USD', 'ADA-USD', 'XLM-USD', 'SOL-USD', 'TRX-USD']\n",
    "\n",
    "tickers = ['SOL-USD']\n"
   ]
  },
  {
   "cell_type": "code",
   "execution_count": 106,
   "metadata": {
    "ExecuteTime": {
     "end_time": "2024-02-03T02:07:55.900855Z",
     "start_time": "2024-02-03T02:07:55.889267Z"
    }
   },
   "outputs": [],
   "source": [
    "def indir_ve_df_olustur(tickers, period):\n",
    "    # Her bir hisse senedi için boş bir sözlük oluşturun\n",
    "    pariteler = {}\n",
    "\n",
    "    # Her bir hisse senedi için döngü oluşturun ve verileri indirin\n",
    "    for ticker in tickers:\n",
    "        try:\n",
    "            # Hisse senedi verilerini indirin\n",
    "            veri = yf.download(ticker, period=period)\n",
    "            \n",
    "            # Veriyi sözlüğe ekleyin\n",
    "            pariteler[ticker] = veri\n",
    "        except Exception as e:\n",
    "            print(f\"{ticker} için veri indirilirken bir hata oluştu: {str(e)}\")\n",
    "\n",
    "    # Her bir hisse senedi için ayrı bir veri çerçevesi oluşturun\n",
    "    df_listesi = [veri for veri in pariteler.values()]\n",
    "\n",
    "    return df_listesi"
   ]
  },
  {
   "cell_type": "code",
   "execution_count": 107,
   "metadata": {
    "ExecuteTime": {
     "end_time": "2024-02-03T02:07:55.909577Z",
     "start_time": "2024-02-03T02:07:55.900853Z"
    }
   },
   "outputs": [],
   "source": [
    "#pariteler adında klasör oluştur :\n",
    "\n",
    "import os \n",
    "\n",
    "if not os.path.exists('pariteler'):\n",
    "    os.makedirs('pariteler')\n",
    "\n"
   ]
  },
  {
   "cell_type": "code",
   "execution_count": 108,
   "metadata": {
    "ExecuteTime": {
     "end_time": "2024-02-03T02:07:56.201990Z",
     "start_time": "2024-02-03T02:07:55.916973Z"
    }
   },
   "outputs": [
    {
     "name": "stdout",
     "output_type": "stream",
     "text": [
      "[*********************100%%**********************]  1 of 1 completed\n"
     ]
    }
   ],
   "source": [
    "datasets = indir_ve_df_olustur(tickers, period)\n",
    "\n",
    "#pariteler içine kaydet \n",
    "\n",
    "for i in range(len(datasets)):\n",
    "    datasets[i].to_csv(f'pariteler/{tickers[i]}.csv')\n",
    "    #print(f'{tickers[i]} verisi csv olarak kaydedildi')\n"
   ]
  },
  {
   "cell_type": "code",
   "execution_count": 109,
   "metadata": {
    "ExecuteTime": {
     "end_time": "2024-02-03T02:07:56.533795Z",
     "start_time": "2024-02-03T02:07:56.198017Z"
    }
   },
   "outputs": [
    {
     "name": "stderr",
     "output_type": "stream",
     "text": [
      "/var/folders/w9/3z_zbj956tj44glgzg44rgbr0000gn/T/ipykernel_42600/2059070395.py:11: PerformanceWarning: DataFrame is highly fragmented.  This is usually the result of calling `frame.insert` many times, which has poor performance.  Consider joining all columns at once using pd.concat(axis=1) instead. To get a de-fragmented frame, use `newframe = frame.copy()`\n",
      "  df[f'Önceki_{i}_Düşük'] = df['Low'].shift(i)\n",
      "/var/folders/w9/3z_zbj956tj44glgzg44rgbr0000gn/T/ipykernel_42600/2059070395.py:12: PerformanceWarning: DataFrame is highly fragmented.  This is usually the result of calling `frame.insert` many times, which has poor performance.  Consider joining all columns at once using pd.concat(axis=1) instead. To get a de-fragmented frame, use `newframe = frame.copy()`\n",
      "  df[f'Önceki_{i}_Kapanış'] = df['Close'].shift(i)\n",
      "/var/folders/w9/3z_zbj956tj44glgzg44rgbr0000gn/T/ipykernel_42600/2059070395.py:13: PerformanceWarning: DataFrame is highly fragmented.  This is usually the result of calling `frame.insert` many times, which has poor performance.  Consider joining all columns at once using pd.concat(axis=1) instead. To get a de-fragmented frame, use `newframe = frame.copy()`\n",
      "  df[f'Önceki_{i}_Adj'] = df['Adj Close'].shift(i)\n",
      "/var/folders/w9/3z_zbj956tj44glgzg44rgbr0000gn/T/ipykernel_42600/2059070395.py:14: PerformanceWarning: DataFrame is highly fragmented.  This is usually the result of calling `frame.insert` many times, which has poor performance.  Consider joining all columns at once using pd.concat(axis=1) instead. To get a de-fragmented frame, use `newframe = frame.copy()`\n",
      "  df[f'Önceki_{i}_Hacim'] = df['Volume'].shift(i)\n",
      "/var/folders/w9/3z_zbj956tj44glgzg44rgbr0000gn/T/ipykernel_42600/2059070395.py:9: PerformanceWarning: DataFrame is highly fragmented.  This is usually the result of calling `frame.insert` many times, which has poor performance.  Consider joining all columns at once using pd.concat(axis=1) instead. To get a de-fragmented frame, use `newframe = frame.copy()`\n",
      "  df[f'Önceki_{i}_Açılış'] = df['Open'].shift(i)\n",
      "/var/folders/w9/3z_zbj956tj44glgzg44rgbr0000gn/T/ipykernel_42600/2059070395.py:10: PerformanceWarning: DataFrame is highly fragmented.  This is usually the result of calling `frame.insert` many times, which has poor performance.  Consider joining all columns at once using pd.concat(axis=1) instead. To get a de-fragmented frame, use `newframe = frame.copy()`\n",
      "  df[f'Önceki_{i}_Yüksek'] = df['High'].shift(i)\n",
      "/var/folders/w9/3z_zbj956tj44glgzg44rgbr0000gn/T/ipykernel_42600/2059070395.py:11: PerformanceWarning: DataFrame is highly fragmented.  This is usually the result of calling `frame.insert` many times, which has poor performance.  Consider joining all columns at once using pd.concat(axis=1) instead. To get a de-fragmented frame, use `newframe = frame.copy()`\n",
      "  df[f'Önceki_{i}_Düşük'] = df['Low'].shift(i)\n",
      "/var/folders/w9/3z_zbj956tj44glgzg44rgbr0000gn/T/ipykernel_42600/2059070395.py:12: PerformanceWarning: DataFrame is highly fragmented.  This is usually the result of calling `frame.insert` many times, which has poor performance.  Consider joining all columns at once using pd.concat(axis=1) instead. To get a de-fragmented frame, use `newframe = frame.copy()`\n",
      "  df[f'Önceki_{i}_Kapanış'] = df['Close'].shift(i)\n",
      "/var/folders/w9/3z_zbj956tj44glgzg44rgbr0000gn/T/ipykernel_42600/2059070395.py:13: PerformanceWarning: DataFrame is highly fragmented.  This is usually the result of calling `frame.insert` many times, which has poor performance.  Consider joining all columns at once using pd.concat(axis=1) instead. To get a de-fragmented frame, use `newframe = frame.copy()`\n",
      "  df[f'Önceki_{i}_Adj'] = df['Adj Close'].shift(i)\n",
      "/var/folders/w9/3z_zbj956tj44glgzg44rgbr0000gn/T/ipykernel_42600/2059070395.py:14: PerformanceWarning: DataFrame is highly fragmented.  This is usually the result of calling `frame.insert` many times, which has poor performance.  Consider joining all columns at once using pd.concat(axis=1) instead. To get a de-fragmented frame, use `newframe = frame.copy()`\n",
      "  df[f'Önceki_{i}_Hacim'] = df['Volume'].shift(i)\n",
      "/var/folders/w9/3z_zbj956tj44glgzg44rgbr0000gn/T/ipykernel_42600/2059070395.py:9: PerformanceWarning: DataFrame is highly fragmented.  This is usually the result of calling `frame.insert` many times, which has poor performance.  Consider joining all columns at once using pd.concat(axis=1) instead. To get a de-fragmented frame, use `newframe = frame.copy()`\n",
      "  df[f'Önceki_{i}_Açılış'] = df['Open'].shift(i)\n",
      "/var/folders/w9/3z_zbj956tj44glgzg44rgbr0000gn/T/ipykernel_42600/2059070395.py:10: PerformanceWarning: DataFrame is highly fragmented.  This is usually the result of calling `frame.insert` many times, which has poor performance.  Consider joining all columns at once using pd.concat(axis=1) instead. To get a de-fragmented frame, use `newframe = frame.copy()`\n",
      "  df[f'Önceki_{i}_Yüksek'] = df['High'].shift(i)\n",
      "/var/folders/w9/3z_zbj956tj44glgzg44rgbr0000gn/T/ipykernel_42600/2059070395.py:11: PerformanceWarning: DataFrame is highly fragmented.  This is usually the result of calling `frame.insert` many times, which has poor performance.  Consider joining all columns at once using pd.concat(axis=1) instead. To get a de-fragmented frame, use `newframe = frame.copy()`\n",
      "  df[f'Önceki_{i}_Düşük'] = df['Low'].shift(i)\n",
      "/var/folders/w9/3z_zbj956tj44glgzg44rgbr0000gn/T/ipykernel_42600/2059070395.py:12: PerformanceWarning: DataFrame is highly fragmented.  This is usually the result of calling `frame.insert` many times, which has poor performance.  Consider joining all columns at once using pd.concat(axis=1) instead. To get a de-fragmented frame, use `newframe = frame.copy()`\n",
      "  df[f'Önceki_{i}_Kapanış'] = df['Close'].shift(i)\n",
      "/var/folders/w9/3z_zbj956tj44glgzg44rgbr0000gn/T/ipykernel_42600/2059070395.py:13: PerformanceWarning: DataFrame is highly fragmented.  This is usually the result of calling `frame.insert` many times, which has poor performance.  Consider joining all columns at once using pd.concat(axis=1) instead. To get a de-fragmented frame, use `newframe = frame.copy()`\n",
      "  df[f'Önceki_{i}_Adj'] = df['Adj Close'].shift(i)\n",
      "/var/folders/w9/3z_zbj956tj44glgzg44rgbr0000gn/T/ipykernel_42600/2059070395.py:14: PerformanceWarning: DataFrame is highly fragmented.  This is usually the result of calling `frame.insert` many times, which has poor performance.  Consider joining all columns at once using pd.concat(axis=1) instead. To get a de-fragmented frame, use `newframe = frame.copy()`\n",
      "  df[f'Önceki_{i}_Hacim'] = df['Volume'].shift(i)\n",
      "/var/folders/w9/3z_zbj956tj44glgzg44rgbr0000gn/T/ipykernel_42600/2059070395.py:9: PerformanceWarning: DataFrame is highly fragmented.  This is usually the result of calling `frame.insert` many times, which has poor performance.  Consider joining all columns at once using pd.concat(axis=1) instead. To get a de-fragmented frame, use `newframe = frame.copy()`\n",
      "  df[f'Önceki_{i}_Açılış'] = df['Open'].shift(i)\n",
      "/var/folders/w9/3z_zbj956tj44glgzg44rgbr0000gn/T/ipykernel_42600/2059070395.py:10: PerformanceWarning: DataFrame is highly fragmented.  This is usually the result of calling `frame.insert` many times, which has poor performance.  Consider joining all columns at once using pd.concat(axis=1) instead. To get a de-fragmented frame, use `newframe = frame.copy()`\n",
      "  df[f'Önceki_{i}_Yüksek'] = df['High'].shift(i)\n",
      "/var/folders/w9/3z_zbj956tj44glgzg44rgbr0000gn/T/ipykernel_42600/2059070395.py:11: PerformanceWarning: DataFrame is highly fragmented.  This is usually the result of calling `frame.insert` many times, which has poor performance.  Consider joining all columns at once using pd.concat(axis=1) instead. To get a de-fragmented frame, use `newframe = frame.copy()`\n",
      "  df[f'Önceki_{i}_Düşük'] = df['Low'].shift(i)\n",
      "/var/folders/w9/3z_zbj956tj44glgzg44rgbr0000gn/T/ipykernel_42600/2059070395.py:12: PerformanceWarning: DataFrame is highly fragmented.  This is usually the result of calling `frame.insert` many times, which has poor performance.  Consider joining all columns at once using pd.concat(axis=1) instead. To get a de-fragmented frame, use `newframe = frame.copy()`\n",
      "  df[f'Önceki_{i}_Kapanış'] = df['Close'].shift(i)\n",
      "/var/folders/w9/3z_zbj956tj44glgzg44rgbr0000gn/T/ipykernel_42600/2059070395.py:13: PerformanceWarning: DataFrame is highly fragmented.  This is usually the result of calling `frame.insert` many times, which has poor performance.  Consider joining all columns at once using pd.concat(axis=1) instead. To get a de-fragmented frame, use `newframe = frame.copy()`\n",
      "  df[f'Önceki_{i}_Adj'] = df['Adj Close'].shift(i)\n",
      "/var/folders/w9/3z_zbj956tj44glgzg44rgbr0000gn/T/ipykernel_42600/2059070395.py:14: PerformanceWarning: DataFrame is highly fragmented.  This is usually the result of calling `frame.insert` many times, which has poor performance.  Consider joining all columns at once using pd.concat(axis=1) instead. To get a de-fragmented frame, use `newframe = frame.copy()`\n",
      "  df[f'Önceki_{i}_Hacim'] = df['Volume'].shift(i)\n",
      "/var/folders/w9/3z_zbj956tj44glgzg44rgbr0000gn/T/ipykernel_42600/2059070395.py:9: PerformanceWarning: DataFrame is highly fragmented.  This is usually the result of calling `frame.insert` many times, which has poor performance.  Consider joining all columns at once using pd.concat(axis=1) instead. To get a de-fragmented frame, use `newframe = frame.copy()`\n",
      "  df[f'Önceki_{i}_Açılış'] = df['Open'].shift(i)\n",
      "/var/folders/w9/3z_zbj956tj44glgzg44rgbr0000gn/T/ipykernel_42600/2059070395.py:10: PerformanceWarning: DataFrame is highly fragmented.  This is usually the result of calling `frame.insert` many times, which has poor performance.  Consider joining all columns at once using pd.concat(axis=1) instead. To get a de-fragmented frame, use `newframe = frame.copy()`\n",
      "  df[f'Önceki_{i}_Yüksek'] = df['High'].shift(i)\n",
      "/var/folders/w9/3z_zbj956tj44glgzg44rgbr0000gn/T/ipykernel_42600/2059070395.py:11: PerformanceWarning: DataFrame is highly fragmented.  This is usually the result of calling `frame.insert` many times, which has poor performance.  Consider joining all columns at once using pd.concat(axis=1) instead. To get a de-fragmented frame, use `newframe = frame.copy()`\n",
      "  df[f'Önceki_{i}_Düşük'] = df['Low'].shift(i)\n",
      "/var/folders/w9/3z_zbj956tj44glgzg44rgbr0000gn/T/ipykernel_42600/2059070395.py:12: PerformanceWarning: DataFrame is highly fragmented.  This is usually the result of calling `frame.insert` many times, which has poor performance.  Consider joining all columns at once using pd.concat(axis=1) instead. To get a de-fragmented frame, use `newframe = frame.copy()`\n",
      "  df[f'Önceki_{i}_Kapanış'] = df['Close'].shift(i)\n",
      "/var/folders/w9/3z_zbj956tj44glgzg44rgbr0000gn/T/ipykernel_42600/2059070395.py:13: PerformanceWarning: DataFrame is highly fragmented.  This is usually the result of calling `frame.insert` many times, which has poor performance.  Consider joining all columns at once using pd.concat(axis=1) instead. To get a de-fragmented frame, use `newframe = frame.copy()`\n",
      "  df[f'Önceki_{i}_Adj'] = df['Adj Close'].shift(i)\n",
      "/var/folders/w9/3z_zbj956tj44glgzg44rgbr0000gn/T/ipykernel_42600/2059070395.py:14: PerformanceWarning: DataFrame is highly fragmented.  This is usually the result of calling `frame.insert` many times, which has poor performance.  Consider joining all columns at once using pd.concat(axis=1) instead. To get a de-fragmented frame, use `newframe = frame.copy()`\n",
      "  df[f'Önceki_{i}_Hacim'] = df['Volume'].shift(i)\n",
      "/var/folders/w9/3z_zbj956tj44glgzg44rgbr0000gn/T/ipykernel_42600/2059070395.py:9: PerformanceWarning: DataFrame is highly fragmented.  This is usually the result of calling `frame.insert` many times, which has poor performance.  Consider joining all columns at once using pd.concat(axis=1) instead. To get a de-fragmented frame, use `newframe = frame.copy()`\n",
      "  df[f'Önceki_{i}_Açılış'] = df['Open'].shift(i)\n",
      "/var/folders/w9/3z_zbj956tj44glgzg44rgbr0000gn/T/ipykernel_42600/2059070395.py:10: PerformanceWarning: DataFrame is highly fragmented.  This is usually the result of calling `frame.insert` many times, which has poor performance.  Consider joining all columns at once using pd.concat(axis=1) instead. To get a de-fragmented frame, use `newframe = frame.copy()`\n",
      "  df[f'Önceki_{i}_Yüksek'] = df['High'].shift(i)\n",
      "/var/folders/w9/3z_zbj956tj44glgzg44rgbr0000gn/T/ipykernel_42600/2059070395.py:11: PerformanceWarning: DataFrame is highly fragmented.  This is usually the result of calling `frame.insert` many times, which has poor performance.  Consider joining all columns at once using pd.concat(axis=1) instead. To get a de-fragmented frame, use `newframe = frame.copy()`\n",
      "  df[f'Önceki_{i}_Düşük'] = df['Low'].shift(i)\n",
      "/var/folders/w9/3z_zbj956tj44glgzg44rgbr0000gn/T/ipykernel_42600/2059070395.py:12: PerformanceWarning: DataFrame is highly fragmented.  This is usually the result of calling `frame.insert` many times, which has poor performance.  Consider joining all columns at once using pd.concat(axis=1) instead. To get a de-fragmented frame, use `newframe = frame.copy()`\n",
      "  df[f'Önceki_{i}_Kapanış'] = df['Close'].shift(i)\n",
      "/var/folders/w9/3z_zbj956tj44glgzg44rgbr0000gn/T/ipykernel_42600/2059070395.py:13: PerformanceWarning: DataFrame is highly fragmented.  This is usually the result of calling `frame.insert` many times, which has poor performance.  Consider joining all columns at once using pd.concat(axis=1) instead. To get a de-fragmented frame, use `newframe = frame.copy()`\n",
      "  df[f'Önceki_{i}_Adj'] = df['Adj Close'].shift(i)\n",
      "/var/folders/w9/3z_zbj956tj44glgzg44rgbr0000gn/T/ipykernel_42600/2059070395.py:14: PerformanceWarning: DataFrame is highly fragmented.  This is usually the result of calling `frame.insert` many times, which has poor performance.  Consider joining all columns at once using pd.concat(axis=1) instead. To get a de-fragmented frame, use `newframe = frame.copy()`\n",
      "  df[f'Önceki_{i}_Hacim'] = df['Volume'].shift(i)\n",
      "/var/folders/w9/3z_zbj956tj44glgzg44rgbr0000gn/T/ipykernel_42600/2059070395.py:9: PerformanceWarning: DataFrame is highly fragmented.  This is usually the result of calling `frame.insert` many times, which has poor performance.  Consider joining all columns at once using pd.concat(axis=1) instead. To get a de-fragmented frame, use `newframe = frame.copy()`\n",
      "  df[f'Önceki_{i}_Açılış'] = df['Open'].shift(i)\n",
      "/var/folders/w9/3z_zbj956tj44glgzg44rgbr0000gn/T/ipykernel_42600/2059070395.py:10: PerformanceWarning: DataFrame is highly fragmented.  This is usually the result of calling `frame.insert` many times, which has poor performance.  Consider joining all columns at once using pd.concat(axis=1) instead. To get a de-fragmented frame, use `newframe = frame.copy()`\n",
      "  df[f'Önceki_{i}_Yüksek'] = df['High'].shift(i)\n",
      "/var/folders/w9/3z_zbj956tj44glgzg44rgbr0000gn/T/ipykernel_42600/2059070395.py:11: PerformanceWarning: DataFrame is highly fragmented.  This is usually the result of calling `frame.insert` many times, which has poor performance.  Consider joining all columns at once using pd.concat(axis=1) instead. To get a de-fragmented frame, use `newframe = frame.copy()`\n",
      "  df[f'Önceki_{i}_Düşük'] = df['Low'].shift(i)\n",
      "/var/folders/w9/3z_zbj956tj44glgzg44rgbr0000gn/T/ipykernel_42600/2059070395.py:12: PerformanceWarning: DataFrame is highly fragmented.  This is usually the result of calling `frame.insert` many times, which has poor performance.  Consider joining all columns at once using pd.concat(axis=1) instead. To get a de-fragmented frame, use `newframe = frame.copy()`\n",
      "  df[f'Önceki_{i}_Kapanış'] = df['Close'].shift(i)\n",
      "/var/folders/w9/3z_zbj956tj44glgzg44rgbr0000gn/T/ipykernel_42600/2059070395.py:13: PerformanceWarning: DataFrame is highly fragmented.  This is usually the result of calling `frame.insert` many times, which has poor performance.  Consider joining all columns at once using pd.concat(axis=1) instead. To get a de-fragmented frame, use `newframe = frame.copy()`\n",
      "  df[f'Önceki_{i}_Adj'] = df['Adj Close'].shift(i)\n",
      "/var/folders/w9/3z_zbj956tj44glgzg44rgbr0000gn/T/ipykernel_42600/2059070395.py:14: PerformanceWarning: DataFrame is highly fragmented.  This is usually the result of calling `frame.insert` many times, which has poor performance.  Consider joining all columns at once using pd.concat(axis=1) instead. To get a de-fragmented frame, use `newframe = frame.copy()`\n",
      "  df[f'Önceki_{i}_Hacim'] = df['Volume'].shift(i)\n",
      "/var/folders/w9/3z_zbj956tj44glgzg44rgbr0000gn/T/ipykernel_42600/2059070395.py:9: PerformanceWarning: DataFrame is highly fragmented.  This is usually the result of calling `frame.insert` many times, which has poor performance.  Consider joining all columns at once using pd.concat(axis=1) instead. To get a de-fragmented frame, use `newframe = frame.copy()`\n",
      "  df[f'Önceki_{i}_Açılış'] = df['Open'].shift(i)\n",
      "/var/folders/w9/3z_zbj956tj44glgzg44rgbr0000gn/T/ipykernel_42600/2059070395.py:10: PerformanceWarning: DataFrame is highly fragmented.  This is usually the result of calling `frame.insert` many times, which has poor performance.  Consider joining all columns at once using pd.concat(axis=1) instead. To get a de-fragmented frame, use `newframe = frame.copy()`\n",
      "  df[f'Önceki_{i}_Yüksek'] = df['High'].shift(i)\n",
      "/var/folders/w9/3z_zbj956tj44glgzg44rgbr0000gn/T/ipykernel_42600/2059070395.py:11: PerformanceWarning: DataFrame is highly fragmented.  This is usually the result of calling `frame.insert` many times, which has poor performance.  Consider joining all columns at once using pd.concat(axis=1) instead. To get a de-fragmented frame, use `newframe = frame.copy()`\n",
      "  df[f'Önceki_{i}_Düşük'] = df['Low'].shift(i)\n",
      "/var/folders/w9/3z_zbj956tj44glgzg44rgbr0000gn/T/ipykernel_42600/2059070395.py:12: PerformanceWarning: DataFrame is highly fragmented.  This is usually the result of calling `frame.insert` many times, which has poor performance.  Consider joining all columns at once using pd.concat(axis=1) instead. To get a de-fragmented frame, use `newframe = frame.copy()`\n",
      "  df[f'Önceki_{i}_Kapanış'] = df['Close'].shift(i)\n",
      "/var/folders/w9/3z_zbj956tj44glgzg44rgbr0000gn/T/ipykernel_42600/2059070395.py:13: PerformanceWarning: DataFrame is highly fragmented.  This is usually the result of calling `frame.insert` many times, which has poor performance.  Consider joining all columns at once using pd.concat(axis=1) instead. To get a de-fragmented frame, use `newframe = frame.copy()`\n",
      "  df[f'Önceki_{i}_Adj'] = df['Adj Close'].shift(i)\n",
      "/var/folders/w9/3z_zbj956tj44glgzg44rgbr0000gn/T/ipykernel_42600/2059070395.py:14: PerformanceWarning: DataFrame is highly fragmented.  This is usually the result of calling `frame.insert` many times, which has poor performance.  Consider joining all columns at once using pd.concat(axis=1) instead. To get a de-fragmented frame, use `newframe = frame.copy()`\n",
      "  df[f'Önceki_{i}_Hacim'] = df['Volume'].shift(i)\n",
      "/var/folders/w9/3z_zbj956tj44glgzg44rgbr0000gn/T/ipykernel_42600/2059070395.py:9: PerformanceWarning: DataFrame is highly fragmented.  This is usually the result of calling `frame.insert` many times, which has poor performance.  Consider joining all columns at once using pd.concat(axis=1) instead. To get a de-fragmented frame, use `newframe = frame.copy()`\n",
      "  df[f'Önceki_{i}_Açılış'] = df['Open'].shift(i)\n",
      "/var/folders/w9/3z_zbj956tj44glgzg44rgbr0000gn/T/ipykernel_42600/2059070395.py:10: PerformanceWarning: DataFrame is highly fragmented.  This is usually the result of calling `frame.insert` many times, which has poor performance.  Consider joining all columns at once using pd.concat(axis=1) instead. To get a de-fragmented frame, use `newframe = frame.copy()`\n",
      "  df[f'Önceki_{i}_Yüksek'] = df['High'].shift(i)\n",
      "/var/folders/w9/3z_zbj956tj44glgzg44rgbr0000gn/T/ipykernel_42600/2059070395.py:11: PerformanceWarning: DataFrame is highly fragmented.  This is usually the result of calling `frame.insert` many times, which has poor performance.  Consider joining all columns at once using pd.concat(axis=1) instead. To get a de-fragmented frame, use `newframe = frame.copy()`\n",
      "  df[f'Önceki_{i}_Düşük'] = df['Low'].shift(i)\n",
      "/var/folders/w9/3z_zbj956tj44glgzg44rgbr0000gn/T/ipykernel_42600/2059070395.py:12: PerformanceWarning: DataFrame is highly fragmented.  This is usually the result of calling `frame.insert` many times, which has poor performance.  Consider joining all columns at once using pd.concat(axis=1) instead. To get a de-fragmented frame, use `newframe = frame.copy()`\n",
      "  df[f'Önceki_{i}_Kapanış'] = df['Close'].shift(i)\n",
      "/var/folders/w9/3z_zbj956tj44glgzg44rgbr0000gn/T/ipykernel_42600/2059070395.py:13: PerformanceWarning: DataFrame is highly fragmented.  This is usually the result of calling `frame.insert` many times, which has poor performance.  Consider joining all columns at once using pd.concat(axis=1) instead. To get a de-fragmented frame, use `newframe = frame.copy()`\n",
      "  df[f'Önceki_{i}_Adj'] = df['Adj Close'].shift(i)\n",
      "/var/folders/w9/3z_zbj956tj44glgzg44rgbr0000gn/T/ipykernel_42600/2059070395.py:14: PerformanceWarning: DataFrame is highly fragmented.  This is usually the result of calling `frame.insert` many times, which has poor performance.  Consider joining all columns at once using pd.concat(axis=1) instead. To get a de-fragmented frame, use `newframe = frame.copy()`\n",
      "  df[f'Önceki_{i}_Hacim'] = df['Volume'].shift(i)\n",
      "/var/folders/w9/3z_zbj956tj44glgzg44rgbr0000gn/T/ipykernel_42600/2059070395.py:9: PerformanceWarning: DataFrame is highly fragmented.  This is usually the result of calling `frame.insert` many times, which has poor performance.  Consider joining all columns at once using pd.concat(axis=1) instead. To get a de-fragmented frame, use `newframe = frame.copy()`\n",
      "  df[f'Önceki_{i}_Açılış'] = df['Open'].shift(i)\n",
      "/var/folders/w9/3z_zbj956tj44glgzg44rgbr0000gn/T/ipykernel_42600/2059070395.py:10: PerformanceWarning: DataFrame is highly fragmented.  This is usually the result of calling `frame.insert` many times, which has poor performance.  Consider joining all columns at once using pd.concat(axis=1) instead. To get a de-fragmented frame, use `newframe = frame.copy()`\n",
      "  df[f'Önceki_{i}_Yüksek'] = df['High'].shift(i)\n",
      "/var/folders/w9/3z_zbj956tj44glgzg44rgbr0000gn/T/ipykernel_42600/2059070395.py:11: PerformanceWarning: DataFrame is highly fragmented.  This is usually the result of calling `frame.insert` many times, which has poor performance.  Consider joining all columns at once using pd.concat(axis=1) instead. To get a de-fragmented frame, use `newframe = frame.copy()`\n",
      "  df[f'Önceki_{i}_Düşük'] = df['Low'].shift(i)\n",
      "/var/folders/w9/3z_zbj956tj44glgzg44rgbr0000gn/T/ipykernel_42600/2059070395.py:12: PerformanceWarning: DataFrame is highly fragmented.  This is usually the result of calling `frame.insert` many times, which has poor performance.  Consider joining all columns at once using pd.concat(axis=1) instead. To get a de-fragmented frame, use `newframe = frame.copy()`\n",
      "  df[f'Önceki_{i}_Kapanış'] = df['Close'].shift(i)\n",
      "/var/folders/w9/3z_zbj956tj44glgzg44rgbr0000gn/T/ipykernel_42600/2059070395.py:13: PerformanceWarning: DataFrame is highly fragmented.  This is usually the result of calling `frame.insert` many times, which has poor performance.  Consider joining all columns at once using pd.concat(axis=1) instead. To get a de-fragmented frame, use `newframe = frame.copy()`\n",
      "  df[f'Önceki_{i}_Adj'] = df['Adj Close'].shift(i)\n",
      "/var/folders/w9/3z_zbj956tj44glgzg44rgbr0000gn/T/ipykernel_42600/2059070395.py:14: PerformanceWarning: DataFrame is highly fragmented.  This is usually the result of calling `frame.insert` many times, which has poor performance.  Consider joining all columns at once using pd.concat(axis=1) instead. To get a de-fragmented frame, use `newframe = frame.copy()`\n",
      "  df[f'Önceki_{i}_Hacim'] = df['Volume'].shift(i)\n",
      "/var/folders/w9/3z_zbj956tj44glgzg44rgbr0000gn/T/ipykernel_42600/2059070395.py:9: PerformanceWarning: DataFrame is highly fragmented.  This is usually the result of calling `frame.insert` many times, which has poor performance.  Consider joining all columns at once using pd.concat(axis=1) instead. To get a de-fragmented frame, use `newframe = frame.copy()`\n",
      "  df[f'Önceki_{i}_Açılış'] = df['Open'].shift(i)\n",
      "/var/folders/w9/3z_zbj956tj44glgzg44rgbr0000gn/T/ipykernel_42600/2059070395.py:10: PerformanceWarning: DataFrame is highly fragmented.  This is usually the result of calling `frame.insert` many times, which has poor performance.  Consider joining all columns at once using pd.concat(axis=1) instead. To get a de-fragmented frame, use `newframe = frame.copy()`\n",
      "  df[f'Önceki_{i}_Yüksek'] = df['High'].shift(i)\n",
      "/var/folders/w9/3z_zbj956tj44glgzg44rgbr0000gn/T/ipykernel_42600/2059070395.py:11: PerformanceWarning: DataFrame is highly fragmented.  This is usually the result of calling `frame.insert` many times, which has poor performance.  Consider joining all columns at once using pd.concat(axis=1) instead. To get a de-fragmented frame, use `newframe = frame.copy()`\n",
      "  df[f'Önceki_{i}_Düşük'] = df['Low'].shift(i)\n",
      "/var/folders/w9/3z_zbj956tj44glgzg44rgbr0000gn/T/ipykernel_42600/2059070395.py:12: PerformanceWarning: DataFrame is highly fragmented.  This is usually the result of calling `frame.insert` many times, which has poor performance.  Consider joining all columns at once using pd.concat(axis=1) instead. To get a de-fragmented frame, use `newframe = frame.copy()`\n",
      "  df[f'Önceki_{i}_Kapanış'] = df['Close'].shift(i)\n",
      "/var/folders/w9/3z_zbj956tj44glgzg44rgbr0000gn/T/ipykernel_42600/2059070395.py:13: PerformanceWarning: DataFrame is highly fragmented.  This is usually the result of calling `frame.insert` many times, which has poor performance.  Consider joining all columns at once using pd.concat(axis=1) instead. To get a de-fragmented frame, use `newframe = frame.copy()`\n",
      "  df[f'Önceki_{i}_Adj'] = df['Adj Close'].shift(i)\n",
      "/var/folders/w9/3z_zbj956tj44glgzg44rgbr0000gn/T/ipykernel_42600/2059070395.py:14: PerformanceWarning: DataFrame is highly fragmented.  This is usually the result of calling `frame.insert` many times, which has poor performance.  Consider joining all columns at once using pd.concat(axis=1) instead. To get a de-fragmented frame, use `newframe = frame.copy()`\n",
      "  df[f'Önceki_{i}_Hacim'] = df['Volume'].shift(i)\n",
      "/var/folders/w9/3z_zbj956tj44glgzg44rgbr0000gn/T/ipykernel_42600/2059070395.py:9: PerformanceWarning: DataFrame is highly fragmented.  This is usually the result of calling `frame.insert` many times, which has poor performance.  Consider joining all columns at once using pd.concat(axis=1) instead. To get a de-fragmented frame, use `newframe = frame.copy()`\n",
      "  df[f'Önceki_{i}_Açılış'] = df['Open'].shift(i)\n",
      "/var/folders/w9/3z_zbj956tj44glgzg44rgbr0000gn/T/ipykernel_42600/2059070395.py:10: PerformanceWarning: DataFrame is highly fragmented.  This is usually the result of calling `frame.insert` many times, which has poor performance.  Consider joining all columns at once using pd.concat(axis=1) instead. To get a de-fragmented frame, use `newframe = frame.copy()`\n",
      "  df[f'Önceki_{i}_Yüksek'] = df['High'].shift(i)\n",
      "/var/folders/w9/3z_zbj956tj44glgzg44rgbr0000gn/T/ipykernel_42600/2059070395.py:11: PerformanceWarning: DataFrame is highly fragmented.  This is usually the result of calling `frame.insert` many times, which has poor performance.  Consider joining all columns at once using pd.concat(axis=1) instead. To get a de-fragmented frame, use `newframe = frame.copy()`\n",
      "  df[f'Önceki_{i}_Düşük'] = df['Low'].shift(i)\n",
      "/var/folders/w9/3z_zbj956tj44glgzg44rgbr0000gn/T/ipykernel_42600/2059070395.py:12: PerformanceWarning: DataFrame is highly fragmented.  This is usually the result of calling `frame.insert` many times, which has poor performance.  Consider joining all columns at once using pd.concat(axis=1) instead. To get a de-fragmented frame, use `newframe = frame.copy()`\n",
      "  df[f'Önceki_{i}_Kapanış'] = df['Close'].shift(i)\n",
      "/var/folders/w9/3z_zbj956tj44glgzg44rgbr0000gn/T/ipykernel_42600/2059070395.py:13: PerformanceWarning: DataFrame is highly fragmented.  This is usually the result of calling `frame.insert` many times, which has poor performance.  Consider joining all columns at once using pd.concat(axis=1) instead. To get a de-fragmented frame, use `newframe = frame.copy()`\n",
      "  df[f'Önceki_{i}_Adj'] = df['Adj Close'].shift(i)\n",
      "/var/folders/w9/3z_zbj956tj44glgzg44rgbr0000gn/T/ipykernel_42600/2059070395.py:14: PerformanceWarning: DataFrame is highly fragmented.  This is usually the result of calling `frame.insert` many times, which has poor performance.  Consider joining all columns at once using pd.concat(axis=1) instead. To get a de-fragmented frame, use `newframe = frame.copy()`\n",
      "  df[f'Önceki_{i}_Hacim'] = df['Volume'].shift(i)\n",
      "/var/folders/w9/3z_zbj956tj44glgzg44rgbr0000gn/T/ipykernel_42600/2059070395.py:9: PerformanceWarning: DataFrame is highly fragmented.  This is usually the result of calling `frame.insert` many times, which has poor performance.  Consider joining all columns at once using pd.concat(axis=1) instead. To get a de-fragmented frame, use `newframe = frame.copy()`\n",
      "  df[f'Önceki_{i}_Açılış'] = df['Open'].shift(i)\n",
      "/var/folders/w9/3z_zbj956tj44glgzg44rgbr0000gn/T/ipykernel_42600/2059070395.py:10: PerformanceWarning: DataFrame is highly fragmented.  This is usually the result of calling `frame.insert` many times, which has poor performance.  Consider joining all columns at once using pd.concat(axis=1) instead. To get a de-fragmented frame, use `newframe = frame.copy()`\n",
      "  df[f'Önceki_{i}_Yüksek'] = df['High'].shift(i)\n",
      "/var/folders/w9/3z_zbj956tj44glgzg44rgbr0000gn/T/ipykernel_42600/2059070395.py:11: PerformanceWarning: DataFrame is highly fragmented.  This is usually the result of calling `frame.insert` many times, which has poor performance.  Consider joining all columns at once using pd.concat(axis=1) instead. To get a de-fragmented frame, use `newframe = frame.copy()`\n",
      "  df[f'Önceki_{i}_Düşük'] = df['Low'].shift(i)\n",
      "/var/folders/w9/3z_zbj956tj44glgzg44rgbr0000gn/T/ipykernel_42600/2059070395.py:12: PerformanceWarning: DataFrame is highly fragmented.  This is usually the result of calling `frame.insert` many times, which has poor performance.  Consider joining all columns at once using pd.concat(axis=1) instead. To get a de-fragmented frame, use `newframe = frame.copy()`\n",
      "  df[f'Önceki_{i}_Kapanış'] = df['Close'].shift(i)\n",
      "/var/folders/w9/3z_zbj956tj44glgzg44rgbr0000gn/T/ipykernel_42600/2059070395.py:13: PerformanceWarning: DataFrame is highly fragmented.  This is usually the result of calling `frame.insert` many times, which has poor performance.  Consider joining all columns at once using pd.concat(axis=1) instead. To get a de-fragmented frame, use `newframe = frame.copy()`\n",
      "  df[f'Önceki_{i}_Adj'] = df['Adj Close'].shift(i)\n",
      "/var/folders/w9/3z_zbj956tj44glgzg44rgbr0000gn/T/ipykernel_42600/2059070395.py:14: PerformanceWarning: DataFrame is highly fragmented.  This is usually the result of calling `frame.insert` many times, which has poor performance.  Consider joining all columns at once using pd.concat(axis=1) instead. To get a de-fragmented frame, use `newframe = frame.copy()`\n",
      "  df[f'Önceki_{i}_Hacim'] = df['Volume'].shift(i)\n",
      "/var/folders/w9/3z_zbj956tj44glgzg44rgbr0000gn/T/ipykernel_42600/2059070395.py:9: PerformanceWarning: DataFrame is highly fragmented.  This is usually the result of calling `frame.insert` many times, which has poor performance.  Consider joining all columns at once using pd.concat(axis=1) instead. To get a de-fragmented frame, use `newframe = frame.copy()`\n",
      "  df[f'Önceki_{i}_Açılış'] = df['Open'].shift(i)\n",
      "/var/folders/w9/3z_zbj956tj44glgzg44rgbr0000gn/T/ipykernel_42600/2059070395.py:10: PerformanceWarning: DataFrame is highly fragmented.  This is usually the result of calling `frame.insert` many times, which has poor performance.  Consider joining all columns at once using pd.concat(axis=1) instead. To get a de-fragmented frame, use `newframe = frame.copy()`\n",
      "  df[f'Önceki_{i}_Yüksek'] = df['High'].shift(i)\n",
      "/var/folders/w9/3z_zbj956tj44glgzg44rgbr0000gn/T/ipykernel_42600/2059070395.py:11: PerformanceWarning: DataFrame is highly fragmented.  This is usually the result of calling `frame.insert` many times, which has poor performance.  Consider joining all columns at once using pd.concat(axis=1) instead. To get a de-fragmented frame, use `newframe = frame.copy()`\n",
      "  df[f'Önceki_{i}_Düşük'] = df['Low'].shift(i)\n",
      "/var/folders/w9/3z_zbj956tj44glgzg44rgbr0000gn/T/ipykernel_42600/2059070395.py:12: PerformanceWarning: DataFrame is highly fragmented.  This is usually the result of calling `frame.insert` many times, which has poor performance.  Consider joining all columns at once using pd.concat(axis=1) instead. To get a de-fragmented frame, use `newframe = frame.copy()`\n",
      "  df[f'Önceki_{i}_Kapanış'] = df['Close'].shift(i)\n",
      "/var/folders/w9/3z_zbj956tj44glgzg44rgbr0000gn/T/ipykernel_42600/2059070395.py:13: PerformanceWarning: DataFrame is highly fragmented.  This is usually the result of calling `frame.insert` many times, which has poor performance.  Consider joining all columns at once using pd.concat(axis=1) instead. To get a de-fragmented frame, use `newframe = frame.copy()`\n",
      "  df[f'Önceki_{i}_Adj'] = df['Adj Close'].shift(i)\n",
      "/var/folders/w9/3z_zbj956tj44glgzg44rgbr0000gn/T/ipykernel_42600/2059070395.py:14: PerformanceWarning: DataFrame is highly fragmented.  This is usually the result of calling `frame.insert` many times, which has poor performance.  Consider joining all columns at once using pd.concat(axis=1) instead. To get a de-fragmented frame, use `newframe = frame.copy()`\n",
      "  df[f'Önceki_{i}_Hacim'] = df['Volume'].shift(i)\n"
     ]
    },
    {
     "name": "stdout",
     "output_type": "stream",
     "text": [
      "SOL-USD verisi windowed olarak kaydedildi\n"
     ]
    }
   ],
   "source": [
    "window = 30\n",
    "\n",
    "def veri_hazirla(df, window):\n",
    "    # Veri çerçevesinin kopyasını oluşturun\n",
    "    df = df.copy()\n",
    "    \n",
    "    # Veri çerçevesine yeni sütunlar ekleyin\n",
    "    for i in range(1, window + 1):\n",
    "        df[f'Önceki_{i}_Açılış'] = df['Open'].shift(i)\n",
    "        df[f'Önceki_{i}_Yüksek'] = df['High'].shift(i)\n",
    "        df[f'Önceki_{i}_Düşük'] = df['Low'].shift(i)\n",
    "        df[f'Önceki_{i}_Kapanış'] = df['Close'].shift(i)\n",
    "        df[f'Önceki_{i}_Adj'] = df['Adj Close'].shift(i)\n",
    "        df[f'Önceki_{i}_Hacim'] = df['Volume'].shift(i)\n",
    "        \n",
    "    # NaN değerleri bırakın\n",
    "    df.dropna(inplace=True)\n",
    "    \n",
    "    return df\n",
    "\n",
    "# Her bir veri çerçevesi için döngü oluşturun ve verileri hazırlayın\n",
    "data_windowed = [veri_hazirla(df, window) for df in datasets]\n",
    "\n",
    "\n",
    "if not os.path.exists('windowed'):\n",
    "    os.makedirs('windowed')\n",
    "\n",
    "# Her bir veri çerçevesi için parite ismiyle birlikte windowed klasörüne kaydedin \n",
    "for i in range(len(data_windowed)):\n",
    "    data_windowed[i].to_csv(f'windowed/{tickers[i]}_windowed.csv')\n",
    "    print(f'{tickers[i]} verisi windowed olarak kaydedildi')\n",
    "\n"
   ]
  },
  {
   "cell_type": "code",
   "execution_count": 110,
   "metadata": {
    "ExecuteTime": {
     "end_time": "2024-02-03T02:07:56.534374Z",
     "start_time": "2024-02-03T02:07:56.525471Z"
    }
   },
   "outputs": [],
   "source": [
    "#data_windowed"
   ]
  },
  {
   "cell_type": "code",
   "execution_count": 111,
   "metadata": {
    "ExecuteTime": {
     "end_time": "2024-02-03T02:07:57.217620Z",
     "start_time": "2024-02-03T02:07:56.534399Z"
    }
   },
   "outputs": [
    {
     "name": "stdout",
     "output_type": "stream",
     "text": [
      "SOL-USD verisi X ve y olarak kaydedildi\n"
     ]
    }
   ],
   "source": [
    "#her bir veri çerçevesi için X  = features(öncekiler) y = labels olan veriyapısını kuruyoruz (labels  = ['Open','High', 'Low', 'Close', 'Adj Close', 'Volume'])\n",
    "\n",
    "def X_y_olustur(df, window, labels):\n",
    "    # Veri çerçevesinin kopyasını oluşturun\n",
    "    df = df.copy()\n",
    "    \n",
    "    # Özellikler ve etiketler için boş listeler oluşturun\n",
    "    X = []\n",
    "    y = []\n",
    "    \n",
    "    # Her bir satır için döngü oluşturun\n",
    "    for i in range(len(df) - window):\n",
    "        # Özellikler için satırı alın\n",
    "        X_row = df.iloc[i:i + window].values\n",
    "        \n",
    "        # Etiketler için satırı alın\n",
    "        y_row = df[labels].iloc[i + window].values\n",
    "        \n",
    "        # Özellikleri ve etiketleri listelere ekleyin\n",
    "        X.append(X_row)\n",
    "        y.append(y_row)\n",
    "        \n",
    "    # Listeleri numpy dizilerine dönüştürün\n",
    "    X = np.array(X)\n",
    "    y = np.array(y)\n",
    "    \n",
    "    return X, y\n",
    "\n",
    "# Her bir veri çerçevesi için döngü oluşturun ve X ve y oluşturun\n",
    "X_y = [X_y_olustur(df, window, ['Open', 'High', 'Low', 'Close', 'Adj Close', 'Volume']) for df in data_windowed]\n",
    "#X_y = [X_y_olustur(df, window, ['Close' ,'Volume']) for df in data_windowed]\n",
    "\n",
    "# Her bir veri çerçevesi için parite ismiyle birlikte numpy klasörüne kaydedin\n",
    "\n",
    "if not os.path.exists('numpy'):\n",
    "    os.makedirs('numpy')\n",
    "for i in range(len(X_y)):\n",
    "    np.save(f'numpy/{tickers[i]}_X.npy', X_y[i][0])\n",
    "    np.save(f'numpy/{tickers[i]}_y.npy', X_y[i][1])\n",
    "    print(f'{tickers[i]} verisi X ve y olarak kaydedildi')\n",
    "    \n",
    "\n"
   ]
  },
  {
   "cell_type": "code",
   "outputs": [],
   "source": [
    "# her bir veri çerçevesi için train test split yapalım time series için doğru yolla yapmak gerekiyor\n",
    "\n",
    "def train_test_split(X, y, test_size):\n",
    "        # Test boyutunu hesaplayın\n",
    "        test_size = int(len(X) * test_size)\n",
    "        \n",
    "        # Eğitim ve test veri kümelerini ayırın\n",
    "        X_train = X[:-test_size]\n",
    "        X_test = X[-test_size:]\n",
    "        y_train = y[:-test_size]\n",
    "        y_test = y[-test_size:]\n",
    "        \n",
    "        return X_train, X_test, y_train, y_test\n",
    "\n",
    "# Her bir veri çerçevesi için döngü oluşturun ve train ve test veri kümelerini ayırın\n",
    "\n",
    "X_train_test = [train_test_split(X_y[i][0], X_y[i][1], 0.2) for i in range(len(X_y))]"
   ],
   "metadata": {
    "collapsed": false,
    "ExecuteTime": {
     "end_time": "2024-02-03T02:07:57.234714Z",
     "start_time": "2024-02-03T02:07:57.225915Z"
    }
   },
   "execution_count": 112
  },
  {
   "cell_type": "code",
   "outputs": [],
   "source": [
    "# her bir veri çerçevesi için model oluşturup eğitelim\n",
    "\n",
    "def model_olustur(input_shape, output_shape):\n",
    "    # Modeli oluşturun\n",
    "    model = Sequential()\n",
    "    model.add(Dense(128, input_shape=input_shape))\n",
    "    model.add(Dropout(0.2))\n",
    "    model.add(BatchNormalization())\n",
    "\n",
    "    model.add(Dense(128))\n",
    "    model.add(Dropout(0.1))\n",
    "    model.add(BatchNormalization())\n",
    "\n",
    "    model.add(Dense(128))\n",
    "    model.add(Dropout(0.2))\n",
    "    model.add(BatchNormalization())\n",
    "\n",
    "    model.add(Dense(32, activation='relu'))\n",
    "    model.add(Dropout(0.2))\n",
    "\n",
    "    model.add(Dense(output_shape))\n",
    "    \n",
    "    return model"
   ],
   "metadata": {
    "collapsed": false,
    "ExecuteTime": {
     "end_time": "2024-02-03T02:07:57.236624Z",
     "start_time": "2024-02-03T02:07:57.232807Z"
    }
   },
   "execution_count": 113
  },
  {
   "cell_type": "code",
   "outputs": [
    {
     "name": "stdout",
     "output_type": "stream",
     "text": [
      "Epoch 1/10\n"
     ]
    },
    {
     "ename": "InvalidArgumentError",
     "evalue": "Graph execution error:\n\nDetected at node gradient_tape/mean_squared_error/BroadcastGradientArgs defined at (most recent call last):\n  File \"<frozen runpy>\", line 198, in _run_module_as_main\n\n  File \"<frozen runpy>\", line 88, in _run_code\n\n  File \"/Users/mustafakapici/anaconda3/envs/all/lib/python3.11/site-packages/ipykernel_launcher.py\", line 17, in <module>\n\n  File \"/Users/mustafakapici/anaconda3/envs/all/lib/python3.11/site-packages/traitlets/config/application.py\", line 1053, in launch_instance\n\n  File \"/Users/mustafakapici/anaconda3/envs/all/lib/python3.11/site-packages/ipykernel/kernelapp.py\", line 737, in start\n\n  File \"/Users/mustafakapici/anaconda3/envs/all/lib/python3.11/site-packages/tornado/platform/asyncio.py\", line 195, in start\n\n  File \"/Users/mustafakapici/anaconda3/envs/all/lib/python3.11/asyncio/base_events.py\", line 607, in run_forever\n\n  File \"/Users/mustafakapici/anaconda3/envs/all/lib/python3.11/asyncio/base_events.py\", line 1922, in _run_once\n\n  File \"/Users/mustafakapici/anaconda3/envs/all/lib/python3.11/asyncio/events.py\", line 80, in _run\n\n  File \"/Users/mustafakapici/anaconda3/envs/all/lib/python3.11/site-packages/ipykernel/kernelbase.py\", line 524, in dispatch_queue\n\n  File \"/Users/mustafakapici/anaconda3/envs/all/lib/python3.11/site-packages/ipykernel/kernelbase.py\", line 513, in process_one\n\n  File \"/Users/mustafakapici/anaconda3/envs/all/lib/python3.11/site-packages/ipykernel/kernelbase.py\", line 418, in dispatch_shell\n\n  File \"/Users/mustafakapici/anaconda3/envs/all/lib/python3.11/site-packages/ipykernel/kernelbase.py\", line 758, in execute_request\n\n  File \"/Users/mustafakapici/anaconda3/envs/all/lib/python3.11/site-packages/ipykernel/ipkernel.py\", line 426, in do_execute\n\n  File \"/Users/mustafakapici/anaconda3/envs/all/lib/python3.11/site-packages/ipykernel/zmqshell.py\", line 549, in run_cell\n\n  File \"/Users/mustafakapici/anaconda3/envs/all/lib/python3.11/site-packages/IPython/core/interactiveshell.py\", line 3048, in run_cell\n\n  File \"/Users/mustafakapici/anaconda3/envs/all/lib/python3.11/site-packages/IPython/core/interactiveshell.py\", line 3103, in _run_cell\n\n  File \"/Users/mustafakapici/anaconda3/envs/all/lib/python3.11/site-packages/IPython/core/async_helpers.py\", line 129, in _pseudo_sync_runner\n\n  File \"/Users/mustafakapici/anaconda3/envs/all/lib/python3.11/site-packages/IPython/core/interactiveshell.py\", line 3308, in run_cell_async\n\n  File \"/Users/mustafakapici/anaconda3/envs/all/lib/python3.11/site-packages/IPython/core/interactiveshell.py\", line 3490, in run_ast_nodes\n\n  File \"/Users/mustafakapici/anaconda3/envs/all/lib/python3.11/site-packages/IPython/core/interactiveshell.py\", line 3550, in run_code\n\n  File \"/var/folders/w9/3z_zbj956tj44glgzg44rgbr0000gn/T/ipykernel_42600/1300805321.py\", line 19, in <module>\n\n  File \"/Users/mustafakapici/anaconda3/envs/all/lib/python3.11/site-packages/keras/src/utils/traceback_utils.py\", line 65, in error_handler\n\n  File \"/Users/mustafakapici/anaconda3/envs/all/lib/python3.11/site-packages/keras/src/engine/training.py\", line 1783, in fit\n\n  File \"/Users/mustafakapici/anaconda3/envs/all/lib/python3.11/site-packages/keras/src/engine/training.py\", line 1377, in train_function\n\n  File \"/Users/mustafakapici/anaconda3/envs/all/lib/python3.11/site-packages/keras/src/engine/training.py\", line 1360, in step_function\n\n  File \"/Users/mustafakapici/anaconda3/envs/all/lib/python3.11/site-packages/keras/src/engine/training.py\", line 1349, in run_step\n\n  File \"/Users/mustafakapici/anaconda3/envs/all/lib/python3.11/site-packages/keras/src/engine/training.py\", line 1130, in train_step\n\n  File \"/Users/mustafakapici/anaconda3/envs/all/lib/python3.11/site-packages/keras/src/optimizers/optimizer.py\", line 543, in minimize\n\n  File \"/Users/mustafakapici/anaconda3/envs/all/lib/python3.11/site-packages/keras/src/optimizers/optimizer.py\", line 276, in compute_gradients\n\nIncompatible shapes: [64,30,6] vs. [64,6]\n\t [[{{node gradient_tape/mean_squared_error/BroadcastGradientArgs}}]] [Op:__inference_train_function_69904]",
     "output_type": "error",
     "traceback": [
      "\u001B[0;31m---------------------------------------------------------------------------\u001B[0m",
      "\u001B[0;31mInvalidArgumentError\u001B[0m                      Traceback (most recent call last)",
      "Cell \u001B[0;32mIn[114], line 19\u001B[0m\n\u001B[1;32m     16\u001B[0m model\u001B[38;5;241m.\u001B[39mcompile(optimizer\u001B[38;5;241m=\u001B[39m\u001B[38;5;124m'\u001B[39m\u001B[38;5;124madam\u001B[39m\u001B[38;5;124m'\u001B[39m, loss\u001B[38;5;241m=\u001B[39m\u001B[38;5;124m'\u001B[39m\u001B[38;5;124mmean_squared_error\u001B[39m\u001B[38;5;124m'\u001B[39m)\n\u001B[1;32m     18\u001B[0m \u001B[38;5;66;03m# Modeli eğitin\u001B[39;00m\n\u001B[0;32m---> 19\u001B[0m \u001B[43mmodel\u001B[49m\u001B[38;5;241;43m.\u001B[39;49m\u001B[43mfit\u001B[49m\u001B[43m(\u001B[49m\u001B[43mX_train_test\u001B[49m\u001B[43m[\u001B[49m\u001B[43mi\u001B[49m\u001B[43m]\u001B[49m\u001B[43m[\u001B[49m\u001B[38;5;241;43m0\u001B[39;49m\u001B[43m]\u001B[49m\u001B[43m,\u001B[49m\u001B[43m \u001B[49m\u001B[43mX_train_test\u001B[49m\u001B[43m[\u001B[49m\u001B[43mi\u001B[49m\u001B[43m]\u001B[49m\u001B[43m[\u001B[49m\u001B[38;5;241;43m2\u001B[39;49m\u001B[43m]\u001B[49m\u001B[43m,\u001B[49m\u001B[43m \u001B[49m\u001B[43mepochs\u001B[49m\u001B[38;5;241;43m=\u001B[39;49m\u001B[43mepochs\u001B[49m\u001B[43m,\u001B[49m\u001B[43m \u001B[49m\u001B[43mbatch_size\u001B[49m\u001B[38;5;241;43m=\u001B[39;49m\u001B[43mbatch_size\u001B[49m\u001B[43m,\u001B[49m\n\u001B[1;32m     20\u001B[0m \u001B[43m          \u001B[49m\u001B[43mvalidation_data\u001B[49m\u001B[38;5;241;43m=\u001B[39;49m\u001B[43m(\u001B[49m\u001B[43mX_train_test\u001B[49m\u001B[43m[\u001B[49m\u001B[43mi\u001B[49m\u001B[43m]\u001B[49m\u001B[43m[\u001B[49m\u001B[38;5;241;43m1\u001B[39;49m\u001B[43m]\u001B[49m\u001B[43m,\u001B[49m\u001B[43m \u001B[49m\u001B[43mX_train_test\u001B[49m\u001B[43m[\u001B[49m\u001B[43mi\u001B[49m\u001B[43m]\u001B[49m\u001B[43m[\u001B[49m\u001B[38;5;241;43m3\u001B[39;49m\u001B[43m]\u001B[49m\u001B[43m)\u001B[49m\u001B[43m,\u001B[49m\n\u001B[1;32m     21\u001B[0m \u001B[43m            \u001B[49m\u001B[43mverbose\u001B[49m\u001B[38;5;241;43m=\u001B[39;49m\u001B[38;5;241;43m1\u001B[39;49m\u001B[43m)\u001B[49m\n\u001B[1;32m     23\u001B[0m \u001B[38;5;66;03m# Modeli kaydedin\u001B[39;00m\n\u001B[1;32m     24\u001B[0m model\u001B[38;5;241m.\u001B[39msave(\u001B[38;5;124mf\u001B[39m\u001B[38;5;124m'\u001B[39m\u001B[38;5;124mmodels/\u001B[39m\u001B[38;5;132;01m{\u001B[39;00mtickers[i]\u001B[38;5;132;01m}\u001B[39;00m\u001B[38;5;124m_model.h5\u001B[39m\u001B[38;5;124m'\u001B[39m)\n",
      "File \u001B[0;32m~/anaconda3/envs/all/lib/python3.11/site-packages/keras/src/utils/traceback_utils.py:70\u001B[0m, in \u001B[0;36mfilter_traceback.<locals>.error_handler\u001B[0;34m(*args, **kwargs)\u001B[0m\n\u001B[1;32m     67\u001B[0m     filtered_tb \u001B[38;5;241m=\u001B[39m _process_traceback_frames(e\u001B[38;5;241m.\u001B[39m__traceback__)\n\u001B[1;32m     68\u001B[0m     \u001B[38;5;66;03m# To get the full stack trace, call:\u001B[39;00m\n\u001B[1;32m     69\u001B[0m     \u001B[38;5;66;03m# `tf.debugging.disable_traceback_filtering()`\u001B[39;00m\n\u001B[0;32m---> 70\u001B[0m     \u001B[38;5;28;01mraise\u001B[39;00m e\u001B[38;5;241m.\u001B[39mwith_traceback(filtered_tb) \u001B[38;5;28;01mfrom\u001B[39;00m \u001B[38;5;28;01mNone\u001B[39;00m\n\u001B[1;32m     71\u001B[0m \u001B[38;5;28;01mfinally\u001B[39;00m:\n\u001B[1;32m     72\u001B[0m     \u001B[38;5;28;01mdel\u001B[39;00m filtered_tb\n",
      "File \u001B[0;32m~/anaconda3/envs/all/lib/python3.11/site-packages/tensorflow/python/eager/execute.py:60\u001B[0m, in \u001B[0;36mquick_execute\u001B[0;34m(op_name, num_outputs, inputs, attrs, ctx, name)\u001B[0m\n\u001B[1;32m     53\u001B[0m   \u001B[38;5;66;03m# Convert any objects of type core_types.Tensor to Tensor.\u001B[39;00m\n\u001B[1;32m     54\u001B[0m   inputs \u001B[38;5;241m=\u001B[39m [\n\u001B[1;32m     55\u001B[0m       tensor_conversion_registry\u001B[38;5;241m.\u001B[39mconvert(t)\n\u001B[1;32m     56\u001B[0m       \u001B[38;5;28;01mif\u001B[39;00m \u001B[38;5;28misinstance\u001B[39m(t, core_types\u001B[38;5;241m.\u001B[39mTensor)\n\u001B[1;32m     57\u001B[0m       \u001B[38;5;28;01melse\u001B[39;00m t\n\u001B[1;32m     58\u001B[0m       \u001B[38;5;28;01mfor\u001B[39;00m t \u001B[38;5;129;01min\u001B[39;00m inputs\n\u001B[1;32m     59\u001B[0m   ]\n\u001B[0;32m---> 60\u001B[0m   tensors \u001B[38;5;241m=\u001B[39m pywrap_tfe\u001B[38;5;241m.\u001B[39mTFE_Py_Execute(ctx\u001B[38;5;241m.\u001B[39m_handle, device_name, op_name,\n\u001B[1;32m     61\u001B[0m                                       inputs, attrs, num_outputs)\n\u001B[1;32m     62\u001B[0m \u001B[38;5;28;01mexcept\u001B[39;00m core\u001B[38;5;241m.\u001B[39m_NotOkStatusException \u001B[38;5;28;01mas\u001B[39;00m e:\n\u001B[1;32m     63\u001B[0m   \u001B[38;5;28;01mif\u001B[39;00m name \u001B[38;5;129;01mis\u001B[39;00m \u001B[38;5;129;01mnot\u001B[39;00m \u001B[38;5;28;01mNone\u001B[39;00m:\n",
      "\u001B[0;31mInvalidArgumentError\u001B[0m: Graph execution error:\n\nDetected at node gradient_tape/mean_squared_error/BroadcastGradientArgs defined at (most recent call last):\n  File \"<frozen runpy>\", line 198, in _run_module_as_main\n\n  File \"<frozen runpy>\", line 88, in _run_code\n\n  File \"/Users/mustafakapici/anaconda3/envs/all/lib/python3.11/site-packages/ipykernel_launcher.py\", line 17, in <module>\n\n  File \"/Users/mustafakapici/anaconda3/envs/all/lib/python3.11/site-packages/traitlets/config/application.py\", line 1053, in launch_instance\n\n  File \"/Users/mustafakapici/anaconda3/envs/all/lib/python3.11/site-packages/ipykernel/kernelapp.py\", line 737, in start\n\n  File \"/Users/mustafakapici/anaconda3/envs/all/lib/python3.11/site-packages/tornado/platform/asyncio.py\", line 195, in start\n\n  File \"/Users/mustafakapici/anaconda3/envs/all/lib/python3.11/asyncio/base_events.py\", line 607, in run_forever\n\n  File \"/Users/mustafakapici/anaconda3/envs/all/lib/python3.11/asyncio/base_events.py\", line 1922, in _run_once\n\n  File \"/Users/mustafakapici/anaconda3/envs/all/lib/python3.11/asyncio/events.py\", line 80, in _run\n\n  File \"/Users/mustafakapici/anaconda3/envs/all/lib/python3.11/site-packages/ipykernel/kernelbase.py\", line 524, in dispatch_queue\n\n  File \"/Users/mustafakapici/anaconda3/envs/all/lib/python3.11/site-packages/ipykernel/kernelbase.py\", line 513, in process_one\n\n  File \"/Users/mustafakapici/anaconda3/envs/all/lib/python3.11/site-packages/ipykernel/kernelbase.py\", line 418, in dispatch_shell\n\n  File \"/Users/mustafakapici/anaconda3/envs/all/lib/python3.11/site-packages/ipykernel/kernelbase.py\", line 758, in execute_request\n\n  File \"/Users/mustafakapici/anaconda3/envs/all/lib/python3.11/site-packages/ipykernel/ipkernel.py\", line 426, in do_execute\n\n  File \"/Users/mustafakapici/anaconda3/envs/all/lib/python3.11/site-packages/ipykernel/zmqshell.py\", line 549, in run_cell\n\n  File \"/Users/mustafakapici/anaconda3/envs/all/lib/python3.11/site-packages/IPython/core/interactiveshell.py\", line 3048, in run_cell\n\n  File \"/Users/mustafakapici/anaconda3/envs/all/lib/python3.11/site-packages/IPython/core/interactiveshell.py\", line 3103, in _run_cell\n\n  File \"/Users/mustafakapici/anaconda3/envs/all/lib/python3.11/site-packages/IPython/core/async_helpers.py\", line 129, in _pseudo_sync_runner\n\n  File \"/Users/mustafakapici/anaconda3/envs/all/lib/python3.11/site-packages/IPython/core/interactiveshell.py\", line 3308, in run_cell_async\n\n  File \"/Users/mustafakapici/anaconda3/envs/all/lib/python3.11/site-packages/IPython/core/interactiveshell.py\", line 3490, in run_ast_nodes\n\n  File \"/Users/mustafakapici/anaconda3/envs/all/lib/python3.11/site-packages/IPython/core/interactiveshell.py\", line 3550, in run_code\n\n  File \"/var/folders/w9/3z_zbj956tj44glgzg44rgbr0000gn/T/ipykernel_42600/1300805321.py\", line 19, in <module>\n\n  File \"/Users/mustafakapici/anaconda3/envs/all/lib/python3.11/site-packages/keras/src/utils/traceback_utils.py\", line 65, in error_handler\n\n  File \"/Users/mustafakapici/anaconda3/envs/all/lib/python3.11/site-packages/keras/src/engine/training.py\", line 1783, in fit\n\n  File \"/Users/mustafakapici/anaconda3/envs/all/lib/python3.11/site-packages/keras/src/engine/training.py\", line 1377, in train_function\n\n  File \"/Users/mustafakapici/anaconda3/envs/all/lib/python3.11/site-packages/keras/src/engine/training.py\", line 1360, in step_function\n\n  File \"/Users/mustafakapici/anaconda3/envs/all/lib/python3.11/site-packages/keras/src/engine/training.py\", line 1349, in run_step\n\n  File \"/Users/mustafakapici/anaconda3/envs/all/lib/python3.11/site-packages/keras/src/engine/training.py\", line 1130, in train_step\n\n  File \"/Users/mustafakapici/anaconda3/envs/all/lib/python3.11/site-packages/keras/src/optimizers/optimizer.py\", line 543, in minimize\n\n  File \"/Users/mustafakapici/anaconda3/envs/all/lib/python3.11/site-packages/keras/src/optimizers/optimizer.py\", line 276, in compute_gradients\n\nIncompatible shapes: [64,30,6] vs. [64,6]\n\t [[{{node gradient_tape/mean_squared_error/BroadcastGradientArgs}}]] [Op:__inference_train_function_69904]"
     ]
    }
   ],
   "source": [
    "# her bir veri çerçevesi için modeli eğitelim\n",
    "\n",
    "\n",
    "if not os.path.exists('models'):\n",
    "    os.makedirs('models')\n",
    "\n",
    "epochs = 10\n",
    "batch_size = 64\n",
    "models = []\n",
    "\n",
    "for i in range(len(X_train_test)):\n",
    "    # Modeli oluşturun\n",
    "    model = model_olustur(X_train_test[i][0].shape[1:], X_train_test[i][2].shape[1])\n",
    "    \n",
    "    # Modeli derleyin\n",
    "    model.compile(optimizer='adam', loss='mean_squared_error')\n",
    "    \n",
    "    # Modeli eğitin\n",
    "    model.fit(X_train_test[i][0], X_train_test[i][2], epochs=epochs, batch_size=batch_size,\n",
    "              validation_data=(X_train_test[i][1], X_train_test[i][3]),\n",
    "                verbose=1)\n",
    "    \n",
    "    # Modeli kaydedin\n",
    "    model.save(f'models/{tickers[i]}_model.h5')\n",
    "    \n",
    "    # Modeli listeye ekleyin\n",
    "    models.append(model)\n",
    "    print(f'{tickers[i]} modeli eğitildi ve kaydedildi')\n"
   ],
   "metadata": {
    "collapsed": false,
    "ExecuteTime": {
     "end_time": "2024-02-03T02:08:00.067910Z",
     "start_time": "2024-02-03T02:07:57.240602Z"
    }
   },
   "execution_count": 114
  },
  {
   "cell_type": "code",
   "outputs": [],
   "source": [
    "# her bir veri çerçevesi için modeli yükleyip tahmin yapalım tahminlerin bütün kolonlarını görselleştirelim\n",
    "\n",
    "# Her bir model için döngü oluşturun\n",
    "for i in range(len(models)):\n",
    "    # Modeli yükleyin\n",
    "    model = tf.keras.models.load_model(f'models/{tickers[i]}_model.h5')\n",
    "    \n",
    "    # Tahminleri yapın\n",
    "    predictions = model.predict(X_train_test[i][1])\n",
    "    \n",
    "    # Tahminleri ve gerçek değerleri görselleştirin\n",
    "    plt.figure(figsize=(12, 6))\n",
    "    plt.plot(predictions, label='Tahminler')\n",
    "    plt.plot(X_train_test[i][3], label='Gerçek Değerler')\n",
    "    plt.legend()\n",
    "    plt.show()\n",
    "    \n",
    "    "
   ],
   "metadata": {
    "collapsed": false,
    "ExecuteTime": {
     "end_time": "2024-02-03T02:08:00.075870Z",
     "start_time": "2024-02-03T02:08:00.070640Z"
    }
   },
   "execution_count": null
  },
  {
   "cell_type": "code",
   "outputs": [],
   "source": [],
   "metadata": {
    "collapsed": false,
    "ExecuteTime": {
     "start_time": "2024-02-03T02:08:00.073176Z"
    }
   },
   "execution_count": null
  }
 ],
 "metadata": {
  "kernelspec": {
   "display_name": "all",
   "language": "python",
   "name": "python3"
  },
  "language_info": {
   "codemirror_mode": {
    "name": "ipython",
    "version": 3
   },
   "file_extension": ".py",
   "mimetype": "text/x-python",
   "name": "python",
   "nbconvert_exporter": "python",
   "pygments_lexer": "ipython3",
   "version": "3.11.5"
  }
 },
 "nbformat": 4,
 "nbformat_minor": 2
}
