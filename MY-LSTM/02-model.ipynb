{
 "cells": [
  {
   "cell_type": "code",
   "execution_count": null,
   "metadata": {},
   "outputs": [],
   "source": [
    "import numpy as np\n",
    "import pandas as pd \n",
    "import matplotlib.pyplot as plt\n",
    "\n",
    "import os\n",
    "\n",
    "import tensorflow as tf\n",
    "\n",
    "from tensorflow.keras.models import Sequential \n",
    "from tensorflow.keras.layers import Dense, Dropout, Activation, Flatten,  LSTM\n"
   ]
  },
  {
   "cell_type": "code",
   "execution_count": null,
   "metadata": {},
   "outputs": [],
   "source": [
    "import yfinance as yf"
   ]
  },
  {
   "cell_type": "code",
   "execution_count": null,
   "metadata": {},
   "outputs": [],
   "source": [
    "period = '1000d'\n",
    "\n",
    "tickers = ['AAPL', 'MSFT', 'AMZN', 'GOOG', 'GOOGL', 'TSLA', 'NVDA', 'PYPL', 'ADBE',\n",
    "           'BTC-USD', 'ETH-USD', 'XRP-USD', 'LTC-USD', 'BCH-USD', 'BNB-USD', 'LINK-USD', 'ADA-USD', 'XLM-USD', 'SOL-USD', 'TRX-USD']"
   ]
  },
  {
   "cell_type": "code",
   "execution_count": null,
   "metadata": {},
   "outputs": [],
   "source": [
    "def indir_ve_df_olustur(tickers, period):\n",
    "    # Her bir hisse senedi için boş bir sözlük oluşturun\n",
    "    pariteler = {}\n",
    "\n",
    "    # Her bir hisse senedi için döngü oluşturun ve verileri indirin\n",
    "    for ticker in tickers:\n",
    "        try:\n",
    "            # Hisse senedi verilerini indirin\n",
    "            veri = yf.download(ticker, period=period)\n",
    "            \n",
    "            # Veriyi sözlüğe ekleyin\n",
    "            pariteler[ticker] = veri\n",
    "        except Exception as e:\n",
    "            print(f\"{ticker} için veri indirilirken bir hata oluştu: {str(e)}\")\n",
    "\n",
    "    # Her bir hisse senedi için ayrı bir veri çerçevesi oluşturun\n",
    "    df_listesi = [veri for veri in pariteler.values()]\n",
    "\n",
    "    return df_listesi"
   ]
  },
  {
   "cell_type": "code",
   "execution_count": null,
   "metadata": {},
   "outputs": [],
   "source": [
    "#pariteler adında klasör oluştur :\n",
    "\n",
    "import os \n",
    "\n",
    "if not os.path.exists('pariteler'):\n",
    "    os.makedirs('pariteler')\n",
    "\n"
   ]
  },
  {
   "cell_type": "code",
   "execution_count": null,
   "metadata": {},
   "outputs": [],
   "source": [
    "datasets = indir_ve_df_olustur(tickers, period)\n",
    "\n",
    "#pariteler içine kaydet \n",
    "\n",
    "for i in range(len(datasets)):\n",
    "    datasets[i].to_csv(f'pariteler/{tickers[i]}.csv')\n",
    "    #print(f'{tickers[i]} verisi csv olarak kaydedildi')\n"
   ]
  },
  {
   "cell_type": "code",
   "execution_count": null,
   "metadata": {},
   "outputs": [],
   "source": [
    "window = 60\n",
    "\n",
    "def veri_hazirla(df, window):\n",
    "    # Veri çerçevesinin kopyasını oluşturun\n",
    "    df = df.copy()\n",
    "    \n",
    "    # Veri çerçevesine yeni sütunlar ekleyin\n",
    "    for i in range(1, window + 1):\n",
    "        df[f'Önceki_{i}_Kapanış'] = df['Close'].shift(i)\n",
    "        df[f'Önceki_{i}_Hacim'] = df['Volume'].shift(i)\n",
    "        df[f'Önceki_{i}_Açılış'] = df['Open'].shift(i)\n",
    "        df[f'Önceki_{i}_Yüksek'] = df['High'].shift(i)\n",
    "        df[f'Önceki_{i}_Düşük'] = df['Low'].shift(i)\n",
    "        \n",
    "    # NaN değerleri bırakın\n",
    "    df.dropna(inplace=True)\n",
    "    \n",
    "    return df\n",
    "\n",
    "# Her bir veri çerçevesi için döngü oluşturun ve verileri hazırlayın\n",
    "data_windowed = [veri_hazirla(df, window) for df in datasets]\n",
    "\n",
    "\n",
    "if not os.path.exists('windowed'):\n",
    "    os.makedirs('windowed')\n",
    "\n",
    "# Her bir veri çerçevesi için parite ismiyle birlikte windowed klasörüne kaydedin \n",
    "for i in range(len(data_windowed)):\n",
    "    data_windowed[i].to_csv(f'windowed/{tickers[i]}_windowed.csv')\n",
    "    print(f'{tickers[i]} verisi windowed olarak kaydedildi')\n",
    "\n"
   ]
  },
  {
   "cell_type": "code",
   "execution_count": null,
   "metadata": {},
   "outputs": [],
   "source": [
    "#data_windowed"
   ]
  },
  {
   "cell_type": "code",
   "execution_count": null,
   "metadata": {},
   "outputs": [],
   "source": [
    "#her bir veri çerçevesi için X  = features y = labels olan veriyapısını kuruyoruz (etketler  = open close hig low volume)\n",
    "\n",
    "def veri_yapisi_olustur(df, window):\n",
    "    # Veri çerçevesinin kopyasını oluşturun\n",
    "    df = df.copy()\n",
    "    \n",
    "    # Özellikler ve etiketler oluşturun\n",
    "    X = df.drop(['Open', 'Close', 'High', 'Low', 'Volume'], axis=1)\n",
    "    y = df[['Open', 'Close', 'High', 'Low', 'Volume']]\n",
    "    \n",
    "    # Veriyi numpy dizilerine dönüştürün\n",
    "    X = X.values\n",
    "    y = y.values\n",
    "    \n",
    "    # Veriyi yeniden şekillendirin\n",
    "    X = X.reshape(-1, window, X.shape[1])\n",
    "    y = y.reshape(-1, 5)\n",
    "    \n",
    "    return X, y\n",
    "\n",
    "# Her bir veri çerçevesi için döngü oluşturun ve veri yapılarını oluşturun\n",
    "data = [veri_yapisi_olustur(df, window) for df in data_windowed]\n",
    "\n"
   ]
  },
  {
   "cell_type": "code",
   "outputs": [],
   "source": [],
   "metadata": {
    "collapsed": false
   }
  }
 ],
 "metadata": {
  "kernelspec": {
   "display_name": "all",
   "language": "python",
   "name": "python3"
  },
  "language_info": {
   "codemirror_mode": {
    "name": "ipython",
    "version": 3
   },
   "file_extension": ".py",
   "mimetype": "text/x-python",
   "name": "python",
   "nbconvert_exporter": "python",
   "pygments_lexer": "ipython3",
   "version": "3.11.5"
  }
 },
 "nbformat": 4,
 "nbformat_minor": 2
}
