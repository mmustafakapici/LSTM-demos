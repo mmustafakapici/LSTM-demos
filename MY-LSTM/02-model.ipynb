{
 "cells": [
  {
   "cell_type": "code",
   "execution_count": 1,
   "metadata": {
    "ExecuteTime": {
     "end_time": "2024-02-03T02:44:12.007868Z",
     "start_time": "2024-02-03T02:44:11.997012Z"
    }
   },
   "outputs": [],
   "source": [
    "\n",
    "# yeni hali \n",
    "\n",
    "import numpy as np\n",
    "import pandas as pd \n",
    "import matplotlib.pyplot as plt\n",
    "\n",
    "import os\n",
    "\n",
    "import tensorflow as tf\n",
    "\n",
    "from tensorflow.keras.models import Sequential \n",
    "from tensorflow.keras.layers import Dense, Dropout, Activation, Flatten,  LSTM , BatchNormalization\n"
   ]
  },
  {
   "cell_type": "code",
   "execution_count": 2,
   "metadata": {
    "ExecuteTime": {
     "end_time": "2024-02-03T02:44:12.024161Z",
     "start_time": "2024-02-03T02:44:12.013846Z"
    }
   },
   "outputs": [],
   "source": [
    "import yfinance as yf"
   ]
  },
  {
   "cell_type": "code",
   "execution_count": 3,
   "metadata": {
    "ExecuteTime": {
     "end_time": "2024-02-03T02:44:12.036949Z",
     "start_time": "2024-02-03T02:44:12.029222Z"
    }
   },
   "outputs": [],
   "source": [
    "period = '3000d'\n",
    "\n",
    "#tickers = ['AAPL', 'MSFT', 'AMZN', 'GOOG', 'GOOGL', 'TSLA', 'NVDA', 'PYPL', 'ADBE','BTC-USD', 'ETH-USD', 'XRP-USD', 'LTC-USD','BCH-USD', 'BNB-USD', 'LINK-USD', 'ADA-USD', 'XLM-USD', 'SOL-USD', 'TRX-USD']\n",
    "\n",
    "tickers = ['SOL-USD']\n"
   ]
  },
  {
   "cell_type": "code",
   "execution_count": 4,
   "metadata": {
    "ExecuteTime": {
     "end_time": "2024-02-03T02:44:12.044128Z",
     "start_time": "2024-02-03T02:44:12.041940Z"
    }
   },
   "outputs": [],
   "source": [
    "def indir_ve_df_olustur(tickers, period):\n",
    "    # Her bir hisse senedi için boş bir sözlük oluşturun\n",
    "    pariteler = {}\n",
    "\n",
    "    # Her bir hisse senedi için döngü oluşturun ve verileri indirin\n",
    "    for ticker in tickers:\n",
    "        try:\n",
    "            # Hisse senedi verilerini indirin\n",
    "            veri = yf.download(ticker, period=period)\n",
    "            \n",
    "            # Veriyi sözlüğe ekleyin\n",
    "            pariteler[ticker] = veri\n",
    "        except Exception as e:\n",
    "            print(f\"{ticker} için veri indirilirken bir hata oluştu: {str(e)}\")\n",
    "\n",
    "    # Her bir hisse senedi için ayrı bir veri çerçevesi oluşturun\n",
    "    df_listesi = [veri for veri in pariteler.values()]\n",
    "\n",
    "    return df_listesi"
   ]
  },
  {
   "cell_type": "code",
   "execution_count": 5,
   "metadata": {
    "ExecuteTime": {
     "end_time": "2024-02-03T02:44:12.056811Z",
     "start_time": "2024-02-03T02:44:12.048371Z"
    }
   },
   "outputs": [],
   "source": [
    "#pariteler adında klasör oluştur :\n",
    "\n",
    "import os \n",
    "\n",
    "if not os.path.exists('datas/pariteler'):\n",
    "    os.makedirs('datas/pariteler')\n",
    "\n"
   ]
  },
  {
   "cell_type": "code",
   "execution_count": 6,
   "metadata": {
    "ExecuteTime": {
     "end_time": "2024-02-03T02:44:12.577538Z",
     "start_time": "2024-02-03T02:44:12.053493Z"
    }
   },
   "outputs": [
    {
     "name": "stdout",
     "output_type": "stream",
     "text": [
      "[*********************100%***********************]  1 of 1 completed\n"
     ]
    }
   ],
   "source": [
    "datasets = indir_ve_df_olustur(tickers, period)\n",
    "\n",
    "#pariteler içine kaydet \n",
    "\n",
    "for i in range(len(datasets)):\n",
    "    datasets[i].to_csv(f'datas/pariteler/{tickers[i]}.csv')\n",
    "    #print(f'{tickers[i]} verisi csv olarak kaydedildi')\n"
   ]
  },
  {
   "cell_type": "code",
   "execution_count": 7,
   "metadata": {
    "ExecuteTime": {
     "end_time": "2024-02-03T02:44:13.239303Z",
     "start_time": "2024-02-03T02:44:12.578557Z"
    }
   },
   "outputs": [
    {
     "name": "stdout",
     "output_type": "stream",
     "text": [
      "SOL-USD verisi windowed olarak kaydedildi\n"
     ]
    }
   ],
   "source": [
    "window = 30\n",
    "\n",
    "def veri_hazirla(df, window):\n",
    "    # Veri çerçevesinin kopyasını oluşturun\n",
    "    df = df.copy()\n",
    "    \n",
    "    # Veri çerçevesine yeni sütunlar ekleyin\n",
    "    for i in range(1, window + 1):\n",
    "        df[f'Önceki_{i}_Açılış'] = df['Open'].shift(i)\n",
    "        df[f'Önceki_{i}_Yüksek'] = df['High'].shift(i)\n",
    "        df[f'Önceki_{i}_Düşük'] = df['Low'].shift(i)\n",
    "        df[f'Önceki_{i}_Kapanış'] = df['Close'].shift(i)\n",
    "        df[f'Önceki_{i}_Adj'] = df['Adj Close'].shift(i)\n",
    "        df[f'Önceki_{i}_Hacim'] = df['Volume'].shift(i)\n",
    "        \n",
    "    # NaN değerleri bırakın\n",
    "    df.dropna(inplace=True)\n",
    "    \n",
    "    return df\n",
    "\n",
    "# Her bir veri çerçevesi için döngü oluşturun ve verileri hazırlayın\n",
    "data_windowed = [veri_hazirla(df, window) for df in datasets]\n",
    "\n",
    "\n",
    "if not os.path.exists('datas/windowed'):\n",
    "    os.makedirs('datas/windowed')\n",
    "\n",
    "# Her bir veri çerçevesi için parite ismiyle birlikte windowed klasörüne kaydedin \n",
    "for i in range(len(data_windowed)):\n",
    "    data_windowed[i].to_csv(f'datas/windowed/{tickers[i]}_windowed.csv')\n",
    "    print(f'{tickers[i]} verisi windowed olarak kaydedildi')\n",
    "\n"
   ]
  },
  {
   "cell_type": "code",
   "execution_count": 8,
   "metadata": {
    "ExecuteTime": {
     "end_time": "2024-02-03T02:44:13.239917Z",
     "start_time": "2024-02-03T02:44:13.235294Z"
    }
   },
   "outputs": [],
   "source": [
    "#data_windowed"
   ]
  },
  {
   "cell_type": "code",
   "execution_count": 9,
   "metadata": {
    "ExecuteTime": {
     "end_time": "2024-02-03T02:44:13.835842Z",
     "start_time": "2024-02-03T02:44:13.244916Z"
    }
   },
   "outputs": [
    {
     "name": "stdout",
     "output_type": "stream",
     "text": [
      "SOL-USD verisi X ve y olarak kaydedildi\n"
     ]
    }
   ],
   "source": [
    "#her bir veri çerçevesi için X  = features(öncekiler) y = labels olan veriyapısını kuruyoruz (labels  = ['Open','High', 'Low', 'Close', 'Adj Close', 'Volume'])\n",
    "\n",
    "def X_y_olustur(df, window, labels):\n",
    "    # Veri çerçevesinin kopyasını oluşturun\n",
    "    df = df.copy()\n",
    "    \n",
    "    # Özellikler ve etiketler için boş listeler oluşturun\n",
    "    X = []\n",
    "    y = []\n",
    "    \n",
    "    # Her bir satır için döngü oluşturun\n",
    "    for i in range(len(df) - window):\n",
    "        # Özellikler için satırı alın\n",
    "        X_row = df.iloc[i:i + window].values\n",
    "        \n",
    "        # Etiketler için satırı alın\n",
    "        y_row = df[labels].iloc[i + window].values\n",
    "        \n",
    "        # Özellikleri ve etiketleri listelere ekleyin\n",
    "        X.append(X_row)\n",
    "        y.append(y_row)\n",
    "        \n",
    "    # Listeleri numpy dizilerine dönüştürün\n",
    "    X = np.array(X)\n",
    "    y = np.array(y)\n",
    "    \n",
    "    return X, y\n",
    "\n",
    "# Her bir veri çerçevesi için döngü oluşturun ve X ve y oluşturun\n",
    "X_y = [X_y_olustur(df, window, ['Open', 'High', 'Low', 'Close', 'Adj Close', 'Volume']) for df in data_windowed]\n",
    "#X_y = [X_y_olustur(df, window, ['Close' ,'Volume']) for df in data_windowed]\n",
    "\n",
    "# Her bir veri çerçevesi için parite ismiyle birlikte numpy klasörüne kaydedin\n",
    "\n",
    "if not os.path.exists('datas/numpy'):\n",
    "    os.makedirs('datas/numpy')\n",
    "for i in range(len(X_y)):\n",
    "    np.save(f'datas/numpy/{tickers[i]}_X.npy', X_y[i][0])\n",
    "    np.save(f'datas/numpy/{tickers[i]}_y.npy', X_y[i][1])\n",
    "    print(f'{tickers[i]} verisi X ve y olarak kaydedildi')\n",
    "    \n",
    "\n"
   ]
  },
  {
   "cell_type": "code",
   "execution_count": 10,
   "metadata": {
    "ExecuteTime": {
     "end_time": "2024-02-03T02:44:13.845923Z",
     "start_time": "2024-02-03T02:44:13.837374Z"
    },
    "collapsed": false
   },
   "outputs": [],
   "source": [
    "# her bir veri çerçevesi için train test split yapalım time series için doğru yolla yapmak gerekiyor\n",
    "\n",
    "def train_test_split(X, y, test_size):\n",
    "        # Test boyutunu hesaplayın\n",
    "\n",
    "        \n",
    "        #test_size = int(len(X) * test_size) #yüzdelikli tercih değil\n",
    "\n",
    "        \n",
    "        # Eğitim ve test veri kümelerini ayırın\n",
    "        X_train = X[:-test_size]\n",
    "        X_test = X[-test_size:]\n",
    "        y_train = y[:-test_size]\n",
    "        y_test = y[-test_size:]\n",
    "        \n",
    "        return X_train, X_test, y_train, y_test\n",
    "\n",
    "# Her bir veri çerçevesi için döngü oluşturun ve train ve test veri kümelerini ayırın\n",
    "test_size = 60\n",
    "X_train_test = [train_test_split(X_y[i][0], X_y[i][1], 60) for i in range(len(X_y))]"
   ]
  },
  {
   "cell_type": "code",
   "execution_count": 11,
   "metadata": {
    "ExecuteTime": {
     "end_time": "2024-02-03T02:44:13.846653Z",
     "start_time": "2024-02-03T02:44:13.843724Z"
    },
    "collapsed": false
   },
   "outputs": [],
   "source": [
    "# her bir veri çerçevesi için model oluşturup eğitelim\n",
    "\n",
    "def model_olustur(input_shape, output_shape):\n",
    "    # Modeli oluşturun\n",
    "    model = Sequential()\n",
    "    \n",
    "    # Giriş katmanı\n",
    "    model.add(LSTM(128, input_shape=input_shape, return_sequences=True))\n",
    "    model.add(Dropout(0.2))\n",
    "    model.add(BatchNormalization())\n",
    "    \n",
    "    # Gizli katmanlar\n",
    "    model.add(LSTM(128, return_sequences=True))\n",
    "    model.add(Dropout(0.2))\n",
    "    model.add(BatchNormalization())\n",
    "\n",
    "     # Gizli katmanlar\n",
    "    model.add(LSTM(128, return_sequences=True))\n",
    "    model.add(Dropout(0.2))\n",
    "    model.add(BatchNormalization())\n",
    "\n",
    "     # Gizli katmanlar\n",
    "    model.add(LSTM(128, return_sequences=True))\n",
    "    model.add(Dropout(0.2))\n",
    "    model.add(BatchNormalization())\n",
    "\n",
    "     # Gizli katmanlar\n",
    "    model.add(LSTM(128, return_sequences=True))\n",
    "    model.add(Dropout(0.2))\n",
    "    model.add(BatchNormalization())\n",
    "\n",
    "     # Gizli katmanlar\n",
    "    model.add(LSTM(128, return_sequences=False))\n",
    "    model.add(Dropout(0.2))\n",
    "    model.add(BatchNormalization())\n",
    "\n",
    "    \n",
    "    model.add(Dense(64, activation='relu'))\n",
    "    model.add(Dropout(0.2))\n",
    "    \n",
    "    # Çıkış katmanı\n",
    "    model.add(Dense(output_shape))\n",
    "    \n",
    "    return model"
   ]
  },
  {
   "cell_type": "code",
   "execution_count": 12,
   "metadata": {},
   "outputs": [
    {
     "data": {
      "text/plain": [
       "'/device:DML:0'"
      ]
     },
     "execution_count": 12,
     "metadata": {},
     "output_type": "execute_result"
    }
   ],
   "source": [
    "tf.test.gpu_device_name()\n"
   ]
  },
  {
   "cell_type": "code",
   "execution_count": 13,
   "metadata": {
    "ExecuteTime": {
     "end_time": "2024-02-03T02:44:28.955365Z",
     "start_time": "2024-02-03T02:44:13.854416Z"
    },
    "collapsed": false
   },
   "outputs": [
    {
     "name": "stdout",
     "output_type": "stream",
     "text": [
      "WARNING:tensorflow:From c:\\Users\\mmust\\anaconda3\\envs\\directML\\lib\\site-packages\\tensorflow_core\\python\\ops\\resource_variable_ops.py:1630: calling BaseResourceVariable.__init__ (from tensorflow.python.ops.resource_variable_ops) with constraint is deprecated and will be removed in a future version.\n",
      "Instructions for updating:\n",
      "If using Keras pass *_constraint arguments to layers.\n",
      "WARNING:tensorflow:From c:\\Users\\mmust\\anaconda3\\envs\\directML\\lib\\site-packages\\tensorflow_core\\python\\ops\\math_grad.py:1424: where (from tensorflow.python.ops.array_ops) is deprecated and will be removed in a future version.\n",
      "Instructions for updating:\n",
      "Use tf.where in 2.0, which has the same broadcast rule as np.where\n",
      "Train on 1274 samples, validate on 60 samples\n",
      "Epoch 1/100\n",
      "1274/1274 [==============================] - 5s 4ms/sample - loss: 493826307182324224.0000 - val_loss: 1778972292907270144.0000\n",
      "Epoch 2/100\n",
      "1274/1274 [==============================] - 1s 1ms/sample - loss: 493826312468437824.0000 - val_loss: 1778972292907270144.0000\n",
      "Epoch 3/100\n",
      "1274/1274 [==============================] - 1s 1ms/sample - loss: 493826314302395648.0000 - val_loss: 1778972292907270144.0000\n",
      "Epoch 4/100\n",
      "1274/1274 [==============================] - 1s 1ms/sample - loss: 493826322717025408.0000 - val_loss: 1778972292907270144.0000\n",
      "Epoch 5/100\n",
      "1274/1274 [==============================] - 1s 1ms/sample - loss: 493826318240010880.0000 - val_loss: 1778972292907270144.0000\n",
      "Epoch 6/100\n",
      "1274/1274 [==============================] - 1s 1ms/sample - loss: 493826321584286784.0000 - val_loss: 1778972292907270144.0000\n",
      "Epoch 7/100\n",
      "1274/1274 [==============================] - 1s 1ms/sample - loss: 493826306696864832.0000 - val_loss: 1778972292907270144.0000\n",
      "Epoch 8/100\n",
      "1274/1274 [==============================] - 1s 1ms/sample - loss: 493826325521902016.0000 - val_loss: 1778972292907270144.0000\n",
      "Epoch 9/100\n",
      "1274/1274 [==============================] - 1s 1ms/sample - loss: 493826316783632640.0000 - val_loss: 1778972292907270144.0000\n",
      "Epoch 10/100\n",
      "1274/1274 [==============================] - 1s 1ms/sample - loss: 493826280104476992.0000 - val_loss: 1778972292907270144.0000\n",
      "Epoch 11/100\n",
      "1274/1274 [==============================] - 1s 1ms/sample - loss: 493826285552410496.0000 - val_loss: 1778972292907270144.0000\n",
      "Epoch 12/100\n",
      "1274/1274 [==============================] - 1s 1ms/sample - loss: 493826273631684928.0000 - val_loss: 1778972292907270144.0000\n",
      "Epoch 13/100\n",
      "1274/1274 [==============================] - 1s 1ms/sample - loss: 493826253835728896.0000 - val_loss: 1778972292907270144.0000\n",
      "Epoch 14/100\n",
      "1274/1274 [==============================] - 1s 1ms/sample - loss: 493826262789758080.0000 - val_loss: 1778972292907270144.0000\n",
      "Epoch 15/100\n",
      "1274/1274 [==============================] - 1s 1ms/sample - loss: 493826225840902784.0000 - val_loss: 1778972292907270144.0000\n",
      "Epoch 16/100\n",
      "1274/1274 [==============================] - 1s 1ms/sample - loss: 493826226110602432.0000 - val_loss: 1778972292907270144.0000\n",
      "Epoch 17/100\n",
      "1274/1274 [==============================] - 1s 1ms/sample - loss: 493826239973165760.0000 - val_loss: 1778972292907270144.0000\n",
      "Epoch 18/100\n",
      "1274/1274 [==============================] - 1s 1ms/sample - loss: 493826197198797504.0000 - val_loss: 1778972155468316672.0000\n",
      "Epoch 19/100\n",
      "1274/1274 [==============================] - 1s 1ms/sample - loss: 493826194016341312.0000 - val_loss: 1778972155468316672.0000\n",
      "Epoch 20/100\n",
      "1274/1274 [==============================] - 1s 1ms/sample - loss: 493826169203971456.0000 - val_loss: 1778972292907270144.0000\n",
      "Epoch 21/100\n",
      "1274/1274 [==============================] - 1s 1ms/sample - loss: 493826168826391936.0000 - val_loss: 1778972292907270144.0000\n",
      "Epoch 22/100\n",
      "1274/1274 [==============================] - 1s 1ms/sample - loss: 493826137541229760.0000 - val_loss: 1778972292907270144.0000\n",
      "Epoch 23/100\n",
      "1274/1274 [==============================] - 1s 1ms/sample - loss: 493826125296864576.0000 - val_loss: 1778972292907270144.0000\n",
      "Epoch 24/100\n",
      "1274/1274 [==============================] - 1s 1ms/sample - loss: 493826098057197632.0000 - val_loss: 1778972292907270144.0000\n",
      "Epoch 25/100\n",
      "1274/1274 [==============================] - 1s 1ms/sample - loss: 493826118662252672.0000 - val_loss: 1778972292907270144.0000\n",
      "Epoch 26/100\n",
      "1274/1274 [==============================] - 1s 1ms/sample - loss: 493826096816579136.0000 - val_loss: 1778972155468316672.0000\n",
      "Epoch 27/100\n",
      "1274/1274 [==============================] - 1s 1ms/sample - loss: 493826099891155392.0000 - val_loss: 1778972155468316672.0000\n",
      "Epoch 28/100\n",
      "1274/1274 [==============================] - 1s 1ms/sample - loss: 493826067635074496.0000 - val_loss: 1778972155468316672.0000\n",
      "Epoch 29/100\n",
      "1274/1274 [==============================] - 1s 1ms/sample - loss: 493826038399629888.0000 - val_loss: 1778972155468316672.0000\n",
      "Epoch 30/100\n",
      "1274/1274 [==============================] - 1s 1ms/sample - loss: 493826007545987328.0000 - val_loss: 1778972018029363200.0000\n",
      "Epoch 31/100\n",
      "1274/1274 [==============================] - 1s 1ms/sample - loss: 493825959593385408.0000 - val_loss: 1778972292907270144.0000\n",
      "Epoch 32/100\n",
      "1274/1274 [==============================] - 1s 1ms/sample - loss: 493825911964423168.0000 - val_loss: 1778972292907270144.0000\n",
      "Epoch 33/100\n",
      "1274/1274 [==============================] - 1s 1ms/sample - loss: 493825871563412096.0000 - val_loss: 1778972155468316672.0000\n",
      "Epoch 34/100\n",
      "1274/1274 [==============================] - 1s 1ms/sample - loss: 493825817353777728.0000 - val_loss: 1778972155468316672.0000\n",
      "Epoch 35/100\n",
      "1274/1274 [==============================] - 1s 1ms/sample - loss: 493825773662430656.0000 - val_loss: 1778972155468316672.0000\n",
      "Epoch 36/100\n",
      "1274/1274 [==============================] - 1s 1ms/sample - loss: 493825743887586752.0000 - val_loss: 1778972155468316672.0000\n",
      "Epoch 37/100\n",
      "1274/1274 [==============================] - 1s 1ms/sample - loss: 493825697930762496.0000 - val_loss: 1778971880590409728.0000\n",
      "Epoch 38/100\n",
      "1274/1274 [==============================] - 1s 1ms/sample - loss: 493825629858564992.0000 - val_loss: 1778971743151456256.0000\n",
      "Epoch 39/100\n",
      "1274/1274 [==============================] - 1s 1ms/sample - loss: 493825589943013248.0000 - val_loss: 1778971605712502784.0000\n",
      "Epoch 40/100\n",
      "1274/1274 [==============================] - 1s 1ms/sample - loss: 493825545388627264.0000 - val_loss: 1778971468273549312.0000\n",
      "Epoch 41/100\n",
      "1274/1274 [==============================] - 1s 1ms/sample - loss: 493825460163530496.0000 - val_loss: 1778971605712502784.0000\n",
      "Epoch 42/100\n",
      "1274/1274 [==============================] - 1s 1ms/sample - loss: 493825414665195648.0000 - val_loss: 1778971468273549312.0000\n",
      "Epoch 43/100\n",
      "1274/1274 [==============================] - 1s 1ms/sample - loss: 493825333620443904.0000 - val_loss: 1778971055956688896.0000\n",
      "Epoch 44/100\n",
      "1274/1274 [==============================] - 1s 1ms/sample - loss: 493825306812296320.0000 - val_loss: 1778971055956688896.0000\n",
      "Epoch 45/100\n",
      "1274/1274 [==============================] - 1s 1ms/sample - loss: 493825214898647680.0000 - val_loss: 1778971055956688896.0000\n",
      "Epoch 46/100\n",
      "1274/1274 [==============================] - 1s 1ms/sample - loss: 493825155241079936.0000 - val_loss: 1778971055956688896.0000\n",
      "Epoch 47/100\n",
      "1274/1274 [==============================] - 1s 1ms/sample - loss: 493825038730821120.0000 - val_loss: 1778970643639828480.0000\n",
      "Epoch 48/100\n",
      "1274/1274 [==============================] - 1s 1ms/sample - loss: 493824979666592768.0000 - val_loss: 1778971055956688896.0000\n",
      "Epoch 49/100\n",
      "1274/1274 [==============================] - 1s 1ms/sample - loss: 493824930149732736.0000 - val_loss: 1778971055956688896.0000\n",
      "Epoch 50/100\n",
      "1274/1274 [==============================] - 1s 1ms/sample - loss: 493824821029244928.0000 - val_loss: 1778970918517735424.0000\n",
      "Epoch 51/100\n",
      "1274/1274 [==============================] - 1s 1ms/sample - loss: 493824700958950400.0000 - val_loss: 1778970368761921536.0000\n",
      "Epoch 52/100\n",
      "1274/1274 [==============================] - 1s 1ms/sample - loss: 493824644052319360.0000 - val_loss: 1778969544128200704.0000\n",
      "Epoch 53/100\n",
      "1274/1274 [==============================] - 1s 1ms/sample - loss: 493824558395703168.0000 - val_loss: 1778969956445061120.0000\n",
      "Epoch 54/100\n",
      "1274/1274 [==============================] - 1s 1ms/sample - loss: 493824415724576064.0000 - val_loss: 1778970368761921536.0000\n",
      "Epoch 55/100\n",
      "1274/1274 [==============================] - 1s 1ms/sample - loss: 493824351266354112.0000 - val_loss: 1778970231322968064.0000\n",
      "Epoch 56/100\n",
      "1274/1274 [==============================] - 1s 1ms/sample - loss: 493824208163707520.0000 - val_loss: 1778970506200875008.0000\n",
      "Epoch 57/100\n",
      "1274/1274 [==============================] - 1s 1ms/sample - loss: 493824108428768384.0000 - val_loss: 1778969269250293760.0000\n",
      "Epoch 58/100\n",
      "1274/1274 [==============================] - 1s 1ms/sample - loss: 493823997312503040.0000 - val_loss: 1778969269250293760.0000\n",
      "Epoch 59/100\n",
      "1274/1274 [==============================] - 1s 1ms/sample - loss: 493823886196237696.0000 - val_loss: 1778969681567154176.0000\n",
      "Epoch 60/100\n",
      "1274/1274 [==============================] - 1s 1ms/sample - loss: 493823741421452992.0000 - val_loss: 1778968994372386816.0000\n",
      "Epoch 61/100\n",
      "1274/1274 [==============================] - 1s 1ms/sample - loss: 493823613961387520.0000 - val_loss: 1778968719494479872.0000\n",
      "Epoch 62/100\n",
      "1274/1274 [==============================] - 1s 1ms/sample - loss: 493823470750860992.0000 - val_loss: 1778967757421805568.0000\n",
      "Epoch 63/100\n",
      "1274/1274 [==============================] - 1s 1ms/sample - loss: 493823337249522752.0000 - val_loss: 1778967482543898624.0000\n",
      "Epoch 64/100\n",
      "1274/1274 [==============================] - 1s 1ms/sample - loss: 493823199379049856.0000 - val_loss: 1778967482543898624.0000\n",
      "Epoch 65/100\n",
      "1274/1274 [==============================] - 1s 1ms/sample - loss: 493823097864092800.0000 - val_loss: 1778967757421805568.0000\n",
      "Epoch 66/100\n",
      "1274/1274 [==============================] - 1s 1ms/sample - loss: 493822900605751872.0000 - val_loss: 1778968169738665984.0000\n",
      "Epoch 67/100\n",
      "1274/1274 [==============================] - 1s 1ms/sample - loss: 493822760038282176.0000 - val_loss: 1778968444616572928.0000\n",
      "Epoch 68/100\n",
      "1274/1274 [==============================] - 1s 1ms/sample - loss: 493822624001766976.0000 - val_loss: 1778967207665991680.0000\n",
      "Epoch 69/100\n",
      "1274/1274 [==============================] - 1s 1ms/sample - loss: 493822449020619008.0000 - val_loss: 1778966795349131264.0000\n",
      "Epoch 70/100\n",
      "1274/1274 [==============================] - 1s 1ms/sample - loss: 493822282723800448.0000 - val_loss: 1778965695837503488.0000\n",
      "Epoch 71/100\n",
      "1274/1274 [==============================] - 1s 1ms/sample - loss: 493822141994510976.0000 - val_loss: 1778965695837503488.0000\n",
      "Epoch 72/100\n",
      "1274/1274 [==============================] - 1s 1ms/sample - loss: 493821934379702528.0000 - val_loss: 1778964871203782656.0000\n",
      "Epoch 73/100\n",
      "1274/1274 [==============================] - 1s 1ms/sample - loss: 493821770725940864.0000 - val_loss: 1778963634253201408.0000\n",
      "Epoch 74/100\n",
      "1274/1274 [==============================] - 1s 1ms/sample - loss: 493821504154783872.0000 - val_loss: 1778964321447968768.0000\n",
      "Epoch 75/100\n",
      "1274/1274 [==============================] - 1s 1ms/sample - loss: 493821342281040000.0000 - val_loss: 1778965283520643072.0000\n",
      "Epoch 76/100\n",
      "1274/1274 [==============================] - 1s 1ms/sample - loss: 493821196751096320.0000 - val_loss: 1778964596325875712.0000\n",
      "Epoch 77/100\n",
      "1274/1274 [==============================] - 1s 1ms/sample - loss: 493820952295312512.0000 - val_loss: 1778963084497387520.0000\n",
      "Epoch 78/100\n",
      "1274/1274 [==============================] - 1s 1ms/sample - loss: 493820769007414592.0000 - val_loss: 1778963084497387520.0000\n",
      "Epoch 79/100\n",
      "1274/1274 [==============================] - 1s 1ms/sample - loss: 493820416725701440.0000 - val_loss: 1778963496814247936.0000\n",
      "Epoch 80/100\n",
      "1274/1274 [==============================] - 1s 1ms/sample - loss: 493820214936405888.0000 - val_loss: 1778962809619480576.0000\n",
      "Epoch 81/100\n",
      "1274/1274 [==============================] - 1s 1ms/sample - loss: 493819966866646464.0000 - val_loss: 1778962122424713216.0000\n",
      "Epoch 82/100\n",
      "1274/1274 [==============================] - 1s 1ms/sample - loss: 493819785035126784.0000 - val_loss: 1778961847546806272.0000\n",
      "Epoch 83/100\n",
      "1274/1274 [==============================] - 1s 1ms/sample - loss: 493819525044641856.0000 - val_loss: 1778961022913085440.0000\n",
      "Epoch 84/100\n",
      "1274/1274 [==============================] - 1s 1ms/sample - loss: 493819221120080128.0000 - val_loss: 1778961297790992384.0000\n",
      "Epoch 85/100\n",
      "1274/1274 [==============================] - 1s 1ms/sample - loss: 493819070708572288.0000 - val_loss: 1778958823889829888.0000\n",
      "Epoch 86/100\n",
      "1274/1274 [==============================] - 1s 1ms/sample - loss: 493818772852253248.0000 - val_loss: 1778960335718318080.0000\n",
      "Epoch 87/100\n",
      "1274/1274 [==============================] - 1s 1ms/sample - loss: 493818480497807488.0000 - val_loss: 1778960198279364608.0000\n",
      "Epoch 88/100\n",
      "1274/1274 [==============================] - 1s 1ms/sample - loss: 493818284749784576.0000 - val_loss: 1778960748035178496.0000\n",
      "Epoch 89/100\n",
      "1274/1274 [==============================] - 1s 1ms/sample - loss: 493817932683831232.0000 - val_loss: 1778957312061341696.0000\n",
      "Epoch 90/100\n",
      "1274/1274 [==============================] - 1s 1ms/sample - loss: 493817585040952448.0000 - val_loss: 1778957037183434752.0000\n",
      "Epoch 91/100\n",
      "1274/1274 [==============================] - 1s 1ms/sample - loss: 493817415993197248.0000 - val_loss: 1778959648523550720.0000\n",
      "Epoch 92/100\n",
      "1274/1274 [==============================] - 1s 1ms/sample - loss: 493817225612198016.0000 - val_loss: 1778961572668899328.0000\n",
      "Epoch 93/100\n",
      "1274/1274 [==============================] - 1s 1ms/sample - loss: 493816647241248704.0000 - val_loss: 1778960060840411136.0000\n",
      "Epoch 94/100\n",
      "1274/1274 [==============================] - 1s 1ms/sample - loss: 493816459017846784.0000 - val_loss: 1778959923401457664.0000\n",
      "Epoch 95/100\n",
      "1274/1274 [==============================] - 1s 1ms/sample - loss: 493816184706309120.0000 - val_loss: 1778958823889829888.0000\n",
      "Epoch 96/100\n",
      "1274/1274 [==============================] - 1s 1ms/sample - loss: 493815755506249152.0000 - val_loss: 1778958136695062528.0000\n",
      "Epoch 97/100\n",
      "1274/1274 [==============================] - 1s 1ms/sample - loss: 493815454413534016.0000 - val_loss: 1778956349988667392.0000\n",
      "Epoch 98/100\n",
      "1274/1274 [==============================] - 1s 1ms/sample - loss: 493815090480795008.0000 - val_loss: 1778956762305527808.0000\n",
      "Epoch 99/100\n",
      "1274/1274 [==============================] - 1s 1ms/sample - loss: 493814878119272320.0000 - val_loss: 1778955113038086144.0000\n",
      "Epoch 100/100\n",
      "1274/1274 [==============================] - 1s 1ms/sample - loss: 493814440180942912.0000 - val_loss: 1778953463770644480.0000\n",
      "SOL-USD modeli eğitildi ve kaydedildi\n"
     ]
    }
   ],
   "source": [
    "# her bir veri çerçevesi için modeli eğitelim\n",
    "\n",
    "\n",
    "if not os.path.exists('datas/models'):\n",
    "    os.makedirs('datas/models')\n",
    "\n",
    "epochs = 100\n",
    "batch_size = 200\n",
    "models = []\n",
    "\n",
    "for i in range(len(X_train_test)):\n",
    "    # Modeli oluşturun\n",
    "    model = model_olustur(X_train_test[i][0].shape[1:], X_train_test[i][2].shape[1])\n",
    "    \n",
    "    # Modeli derleyin\n",
    "    model.compile(optimizer='adam', loss='mean_squared_error')\n",
    "    \n",
    "    # Modeli eğitin\n",
    "    model.fit(X_train_test[i][0], X_train_test[i][2], epochs=epochs, batch_size=batch_size,\n",
    "              validation_data=(X_train_test[i][1], X_train_test[i][3]),\n",
    "                verbose=1)\n",
    "    \n",
    "    # Modeli kaydedin\n",
    "    model.save(f'datas/models/{tickers[i]}_model.h5')\n",
    "    \n",
    "    # Modeli listeye ekleyin\n",
    "    models.append(model)\n",
    "    print(f'{tickers[i]} modeli eğitildi ve kaydedildi')\n"
   ]
  },
  {
   "cell_type": "code",
   "execution_count": 14,
   "metadata": {
    "ExecuteTime": {
     "end_time": "2024-02-03T02:44:31.040853Z",
     "start_time": "2024-02-03T02:44:28.956114Z"
    },
    "collapsed": false
   },
   "outputs": [
    {
     "name": "stdout",
     "output_type": "stream",
     "text": [
      "WARNING:tensorflow:From c:\\Users\\mmust\\anaconda3\\envs\\directML\\lib\\site-packages\\tensorflow_core\\python\\ops\\init_ops.py:97: calling GlorotUniform.__init__ (from tensorflow.python.ops.init_ops) with dtype is deprecated and will be removed in a future version.\n",
      "Instructions for updating:\n",
      "Call initializer instance with the dtype argument instead of passing it to the constructor\n",
      "WARNING:tensorflow:From c:\\Users\\mmust\\anaconda3\\envs\\directML\\lib\\site-packages\\tensorflow_core\\python\\ops\\init_ops.py:97: calling Orthogonal.__init__ (from tensorflow.python.ops.init_ops) with dtype is deprecated and will be removed in a future version.\n",
      "Instructions for updating:\n",
      "Call initializer instance with the dtype argument instead of passing it to the constructor\n",
      "WARNING:tensorflow:From c:\\Users\\mmust\\anaconda3\\envs\\directML\\lib\\site-packages\\tensorflow_core\\python\\ops\\init_ops.py:97: calling Zeros.__init__ (from tensorflow.python.ops.init_ops) with dtype is deprecated and will be removed in a future version.\n",
      "Instructions for updating:\n",
      "Call initializer instance with the dtype argument instead of passing it to the constructor\n",
      "WARNING:tensorflow:From c:\\Users\\mmust\\anaconda3\\envs\\directML\\lib\\site-packages\\tensorflow_core\\python\\ops\\init_ops.py:97: calling Ones.__init__ (from tensorflow.python.ops.init_ops) with dtype is deprecated and will be removed in a future version.\n",
      "Instructions for updating:\n",
      "Call initializer instance with the dtype argument instead of passing it to the constructor\n"
     ]
    },
    {
     "data": {
      "image/png": "[encoded data removed]",
      "text/plain": [
       "<Figure size 1008x360 with 1 Axes>"
      ]
     },
     "metadata": {
      "needs_background": "light"
     },
     "output_type": "display_data"
    }
   ],
   "source": [
    "# Her bir model için döngü oluşturun ve tahmin yapın\n",
    "for i in range(len(models)):\n",
    "    # Modeli yükleyin\n",
    "    model = tf.keras.models.load_model(f'datas/models/{tickers[i]}_model.h5')\n",
    "    \n",
    "    # Tahmin yapın\n",
    "    predictions = model.predict(X_train_test[i][1])\n",
    "    \n",
    "    # Tahminleri ve gerçek değerleri görselleştirin sadece close\n",
    "    plt.figure(figsize=(14, 5))\n",
    "    plt.plot(predictions[:, 3], label='Tahminler')\n",
    "    plt.plot(X_train_test[i][3][:, 3], label='Gerçek Değerler')\n",
    "    plt.title(f'{tickers[i]} Tahminleri ve Gerçek Değerler')\n",
    "    plt.xlabel('Zaman')\n",
    "    plt.ylabel('Kapanış Fiyatı')\n",
    "    plt.legend()\n",
    "    plt.show()\n",
    "    \n",
    "\n",
    "    \n",
    "    "
   ]
  },
  {
   "cell_type": "code",
   "execution_count": 15,
   "metadata": {
    "ExecuteTime": {
     "end_time": "2024-02-03T02:44:31.047172Z",
     "start_time": "2024-02-03T02:44:31.040680Z"
    },
    "collapsed": false
   },
   "outputs": [],
   "source": [
    "#TODO :  normalizasyon yapılacak : zerobase - minmax scaler\n",
    "\n",
    "#TODO : seq2seq LSTM Yapılcak denenecek\n",
    "\n",
    "#TODO : Dikkat Mekanizması ile LSTM yapılacak"
   ]
  }
 ],
 "metadata": {
  "kernelspec": {
   "display_name": "all",
   "language": "python",
   "name": "python3"
  },
  "language_info": {
   "codemirror_mode": {
    "name": "ipython",
    "version": 3
   },
   "file_extension": ".py",
   "mimetype": "text/x-python",
   "name": "python",
   "nbconvert_exporter": "python",
   "pygments_lexer": "ipython3",
   "version": "3.6.13"
  }
 },
 "nbformat": 4,
 "nbformat_minor": 2
}
