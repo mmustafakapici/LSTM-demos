{
 "cells": [
  {
   "cell_type": "code",
   "execution_count": 14,
   "metadata": {
    "ExecuteTime": {
     "end_time": "2024-02-03T02:44:12.007868Z",
     "start_time": "2024-02-03T02:44:11.997012Z"
    }
   },
   "outputs": [],
   "source": [
    "import numpy as np\n",
    "import pandas as pd \n",
    "import matplotlib.pyplot as plt\n",
    "\n",
    "import os\n",
    "\n",
    "import tensorflow as tf\n",
    "\n",
    "from tensorflow.keras.models import Sequential \n",
    "from tensorflow.keras.layers import Dense, Dropout, Activation, Flatten,  LSTM , BatchNormalization\n"
   ]
  },
  {
   "cell_type": "code",
   "execution_count": 15,
   "metadata": {
    "ExecuteTime": {
     "end_time": "2024-02-03T02:44:12.024161Z",
     "start_time": "2024-02-03T02:44:12.013846Z"
    }
   },
   "outputs": [],
   "source": [
    "import yfinance as yf"
   ]
  },
  {
   "cell_type": "code",
   "execution_count": 16,
   "metadata": {
    "ExecuteTime": {
     "end_time": "2024-02-03T02:44:12.036949Z",
     "start_time": "2024-02-03T02:44:12.029222Z"
    }
   },
   "outputs": [],
   "source": [
    "period = '1000d'\n",
    "\n",
    "#tickers = ['AAPL', 'MSFT', 'AMZN', 'GOOG', 'GOOGL', 'TSLA', 'NVDA', 'PYPL', 'ADBE','BTC-USD', 'ETH-USD', 'XRP-USD', 'LTC-USD','BCH-USD', 'BNB-USD', 'LINK-USD', 'ADA-USD', 'XLM-USD', 'SOL-USD', 'TRX-USD']\n",
    "\n",
    "tickers = ['SOL-USD']\n"
   ]
  },
  {
   "cell_type": "code",
   "execution_count": 17,
   "metadata": {
    "ExecuteTime": {
     "end_time": "2024-02-03T02:44:12.044128Z",
     "start_time": "2024-02-03T02:44:12.041940Z"
    }
   },
   "outputs": [],
   "source": [
    "def indir_ve_df_olustur(tickers, period):\n",
    "    # Her bir hisse senedi için boş bir sözlük oluşturun\n",
    "    pariteler = {}\n",
    "\n",
    "    # Her bir hisse senedi için döngü oluşturun ve verileri indirin\n",
    "    for ticker in tickers:\n",
    "        try:\n",
    "            # Hisse senedi verilerini indirin\n",
    "            veri = yf.download(ticker, period=period)\n",
    "            \n",
    "            # Veriyi sözlüğe ekleyin\n",
    "            pariteler[ticker] = veri\n",
    "        except Exception as e:\n",
    "            print(f\"{ticker} için veri indirilirken bir hata oluştu: {str(e)}\")\n",
    "\n",
    "    # Her bir hisse senedi için ayrı bir veri çerçevesi oluşturun\n",
    "    df_listesi = [veri for veri in pariteler.values()]\n",
    "\n",
    "    return df_listesi"
   ]
  },
  {
   "cell_type": "code",
   "execution_count": 18,
   "metadata": {
    "ExecuteTime": {
     "end_time": "2024-02-03T02:44:12.056811Z",
     "start_time": "2024-02-03T02:44:12.048371Z"
    }
   },
   "outputs": [],
   "source": [
    "#pariteler adında klasör oluştur :\n",
    "\n",
    "import os \n",
    "\n",
    "if not os.path.exists('pariteler'):\n",
    "    os.makedirs('pariteler')\n",
    "\n"
   ]
  },
  {
   "cell_type": "code",
   "execution_count": 19,
   "metadata": {
    "ExecuteTime": {
     "end_time": "2024-02-03T02:44:12.577538Z",
     "start_time": "2024-02-03T02:44:12.053493Z"
    }
   },
   "outputs": [
    {
     "name": "stdout",
     "output_type": "stream",
     "text": [
      "[*********************100%%**********************]  1 of 1 completed\n"
     ]
    }
   ],
   "source": [
    "datasets = indir_ve_df_olustur(tickers, period)\n",
    "\n",
    "#pariteler içine kaydet \n",
    "\n",
    "for i in range(len(datasets)):\n",
    "    datasets[i].to_csv(f'pariteler/{tickers[i]}.csv')\n",
    "    #print(f'{tickers[i]} verisi csv olarak kaydedildi')\n"
   ]
  },
  {
   "cell_type": "code",
   "execution_count": 20,
   "metadata": {
    "ExecuteTime": {
     "end_time": "2024-02-03T02:44:13.239303Z",
     "start_time": "2024-02-03T02:44:12.578557Z"
    }
   },
   "outputs": [
    {
     "name": "stderr",
     "output_type": "stream",
     "text": [
      "/var/folders/w9/3z_zbj956tj44glgzg44rgbr0000gn/T/ipykernel_48702/2059070395.py:11: PerformanceWarning: DataFrame is highly fragmented.  This is usually the result of calling `frame.insert` many times, which has poor performance.  Consider joining all columns at once using pd.concat(axis=1) instead. To get a de-fragmented frame, use `newframe = frame.copy()`\n",
      "  df[f'Önceki_{i}_Düşük'] = df['Low'].shift(i)\n",
      "/var/folders/w9/3z_zbj956tj44glgzg44rgbr0000gn/T/ipykernel_48702/2059070395.py:12: PerformanceWarning: DataFrame is highly fragmented.  This is usually the result of calling `frame.insert` many times, which has poor performance.  Consider joining all columns at once using pd.concat(axis=1) instead. To get a de-fragmented frame, use `newframe = frame.copy()`\n",
      "  df[f'Önceki_{i}_Kapanış'] = df['Close'].shift(i)\n",
      "/var/folders/w9/3z_zbj956tj44glgzg44rgbr0000gn/T/ipykernel_48702/2059070395.py:13: PerformanceWarning: DataFrame is highly fragmented.  This is usually the result of calling `frame.insert` many times, which has poor performance.  Consider joining all columns at once using pd.concat(axis=1) instead. To get a de-fragmented frame, use `newframe = frame.copy()`\n",
      "  df[f'Önceki_{i}_Adj'] = df['Adj Close'].shift(i)\n",
      "/var/folders/w9/3z_zbj956tj44glgzg44rgbr0000gn/T/ipykernel_48702/2059070395.py:14: PerformanceWarning: DataFrame is highly fragmented.  This is usually the result of calling `frame.insert` many times, which has poor performance.  Consider joining all columns at once using pd.concat(axis=1) instead. To get a de-fragmented frame, use `newframe = frame.copy()`\n",
      "  df[f'Önceki_{i}_Hacim'] = df['Volume'].shift(i)\n",
      "/var/folders/w9/3z_zbj956tj44glgzg44rgbr0000gn/T/ipykernel_48702/2059070395.py:9: PerformanceWarning: DataFrame is highly fragmented.  This is usually the result of calling `frame.insert` many times, which has poor performance.  Consider joining all columns at once using pd.concat(axis=1) instead. To get a de-fragmented frame, use `newframe = frame.copy()`\n",
      "  df[f'Önceki_{i}_Açılış'] = df['Open'].shift(i)\n",
      "/var/folders/w9/3z_zbj956tj44glgzg44rgbr0000gn/T/ipykernel_48702/2059070395.py:10: PerformanceWarning: DataFrame is highly fragmented.  This is usually the result of calling `frame.insert` many times, which has poor performance.  Consider joining all columns at once using pd.concat(axis=1) instead. To get a de-fragmented frame, use `newframe = frame.copy()`\n",
      "  df[f'Önceki_{i}_Yüksek'] = df['High'].shift(i)\n",
      "/var/folders/w9/3z_zbj956tj44glgzg44rgbr0000gn/T/ipykernel_48702/2059070395.py:11: PerformanceWarning: DataFrame is highly fragmented.  This is usually the result of calling `frame.insert` many times, which has poor performance.  Consider joining all columns at once using pd.concat(axis=1) instead. To get a de-fragmented frame, use `newframe = frame.copy()`\n",
      "  df[f'Önceki_{i}_Düşük'] = df['Low'].shift(i)\n",
      "/var/folders/w9/3z_zbj956tj44glgzg44rgbr0000gn/T/ipykernel_48702/2059070395.py:12: PerformanceWarning: DataFrame is highly fragmented.  This is usually the result of calling `frame.insert` many times, which has poor performance.  Consider joining all columns at once using pd.concat(axis=1) instead. To get a de-fragmented frame, use `newframe = frame.copy()`\n",
      "  df[f'Önceki_{i}_Kapanış'] = df['Close'].shift(i)\n",
      "/var/folders/w9/3z_zbj956tj44glgzg44rgbr0000gn/T/ipykernel_48702/2059070395.py:13: PerformanceWarning: DataFrame is highly fragmented.  This is usually the result of calling `frame.insert` many times, which has poor performance.  Consider joining all columns at once using pd.concat(axis=1) instead. To get a de-fragmented frame, use `newframe = frame.copy()`\n",
      "  df[f'Önceki_{i}_Adj'] = df['Adj Close'].shift(i)\n",
      "/var/folders/w9/3z_zbj956tj44glgzg44rgbr0000gn/T/ipykernel_48702/2059070395.py:14: PerformanceWarning: DataFrame is highly fragmented.  This is usually the result of calling `frame.insert` many times, which has poor performance.  Consider joining all columns at once using pd.concat(axis=1) instead. To get a de-fragmented frame, use `newframe = frame.copy()`\n",
      "  df[f'Önceki_{i}_Hacim'] = df['Volume'].shift(i)\n",
      "/var/folders/w9/3z_zbj956tj44glgzg44rgbr0000gn/T/ipykernel_48702/2059070395.py:9: PerformanceWarning: DataFrame is highly fragmented.  This is usually the result of calling `frame.insert` many times, which has poor performance.  Consider joining all columns at once using pd.concat(axis=1) instead. To get a de-fragmented frame, use `newframe = frame.copy()`\n",
      "  df[f'Önceki_{i}_Açılış'] = df['Open'].shift(i)\n",
      "/var/folders/w9/3z_zbj956tj44glgzg44rgbr0000gn/T/ipykernel_48702/2059070395.py:10: PerformanceWarning: DataFrame is highly fragmented.  This is usually the result of calling `frame.insert` many times, which has poor performance.  Consider joining all columns at once using pd.concat(axis=1) instead. To get a de-fragmented frame, use `newframe = frame.copy()`\n",
      "  df[f'Önceki_{i}_Yüksek'] = df['High'].shift(i)\n",
      "/var/folders/w9/3z_zbj956tj44glgzg44rgbr0000gn/T/ipykernel_48702/2059070395.py:11: PerformanceWarning: DataFrame is highly fragmented.  This is usually the result of calling `frame.insert` many times, which has poor performance.  Consider joining all columns at once using pd.concat(axis=1) instead. To get a de-fragmented frame, use `newframe = frame.copy()`\n",
      "  df[f'Önceki_{i}_Düşük'] = df['Low'].shift(i)\n",
      "/var/folders/w9/3z_zbj956tj44glgzg44rgbr0000gn/T/ipykernel_48702/2059070395.py:12: PerformanceWarning: DataFrame is highly fragmented.  This is usually the result of calling `frame.insert` many times, which has poor performance.  Consider joining all columns at once using pd.concat(axis=1) instead. To get a de-fragmented frame, use `newframe = frame.copy()`\n",
      "  df[f'Önceki_{i}_Kapanış'] = df['Close'].shift(i)\n",
      "/var/folders/w9/3z_zbj956tj44glgzg44rgbr0000gn/T/ipykernel_48702/2059070395.py:13: PerformanceWarning: DataFrame is highly fragmented.  This is usually the result of calling `frame.insert` many times, which has poor performance.  Consider joining all columns at once using pd.concat(axis=1) instead. To get a de-fragmented frame, use `newframe = frame.copy()`\n",
      "  df[f'Önceki_{i}_Adj'] = df['Adj Close'].shift(i)\n",
      "/var/folders/w9/3z_zbj956tj44glgzg44rgbr0000gn/T/ipykernel_48702/2059070395.py:14: PerformanceWarning: DataFrame is highly fragmented.  This is usually the result of calling `frame.insert` many times, which has poor performance.  Consider joining all columns at once using pd.concat(axis=1) instead. To get a de-fragmented frame, use `newframe = frame.copy()`\n",
      "  df[f'Önceki_{i}_Hacim'] = df['Volume'].shift(i)\n",
      "/var/folders/w9/3z_zbj956tj44glgzg44rgbr0000gn/T/ipykernel_48702/2059070395.py:9: PerformanceWarning: DataFrame is highly fragmented.  This is usually the result of calling `frame.insert` many times, which has poor performance.  Consider joining all columns at once using pd.concat(axis=1) instead. To get a de-fragmented frame, use `newframe = frame.copy()`\n",
      "  df[f'Önceki_{i}_Açılış'] = df['Open'].shift(i)\n",
      "/var/folders/w9/3z_zbj956tj44glgzg44rgbr0000gn/T/ipykernel_48702/2059070395.py:10: PerformanceWarning: DataFrame is highly fragmented.  This is usually the result of calling `frame.insert` many times, which has poor performance.  Consider joining all columns at once using pd.concat(axis=1) instead. To get a de-fragmented frame, use `newframe = frame.copy()`\n",
      "  df[f'Önceki_{i}_Yüksek'] = df['High'].shift(i)\n",
      "/var/folders/w9/3z_zbj956tj44glgzg44rgbr0000gn/T/ipykernel_48702/2059070395.py:11: PerformanceWarning: DataFrame is highly fragmented.  This is usually the result of calling `frame.insert` many times, which has poor performance.  Consider joining all columns at once using pd.concat(axis=1) instead. To get a de-fragmented frame, use `newframe = frame.copy()`\n",
      "  df[f'Önceki_{i}_Düşük'] = df['Low'].shift(i)\n",
      "/var/folders/w9/3z_zbj956tj44glgzg44rgbr0000gn/T/ipykernel_48702/2059070395.py:12: PerformanceWarning: DataFrame is highly fragmented.  This is usually the result of calling `frame.insert` many times, which has poor performance.  Consider joining all columns at once using pd.concat(axis=1) instead. To get a de-fragmented frame, use `newframe = frame.copy()`\n",
      "  df[f'Önceki_{i}_Kapanış'] = df['Close'].shift(i)\n",
      "/var/folders/w9/3z_zbj956tj44glgzg44rgbr0000gn/T/ipykernel_48702/2059070395.py:13: PerformanceWarning: DataFrame is highly fragmented.  This is usually the result of calling `frame.insert` many times, which has poor performance.  Consider joining all columns at once using pd.concat(axis=1) instead. To get a de-fragmented frame, use `newframe = frame.copy()`\n",
      "  df[f'Önceki_{i}_Adj'] = df['Adj Close'].shift(i)\n",
      "/var/folders/w9/3z_zbj956tj44glgzg44rgbr0000gn/T/ipykernel_48702/2059070395.py:14: PerformanceWarning: DataFrame is highly fragmented.  This is usually the result of calling `frame.insert` many times, which has poor performance.  Consider joining all columns at once using pd.concat(axis=1) instead. To get a de-fragmented frame, use `newframe = frame.copy()`\n",
      "  df[f'Önceki_{i}_Hacim'] = df['Volume'].shift(i)\n",
      "/var/folders/w9/3z_zbj956tj44glgzg44rgbr0000gn/T/ipykernel_48702/2059070395.py:9: PerformanceWarning: DataFrame is highly fragmented.  This is usually the result of calling `frame.insert` many times, which has poor performance.  Consider joining all columns at once using pd.concat(axis=1) instead. To get a de-fragmented frame, use `newframe = frame.copy()`\n",
      "  df[f'Önceki_{i}_Açılış'] = df['Open'].shift(i)\n",
      "/var/folders/w9/3z_zbj956tj44glgzg44rgbr0000gn/T/ipykernel_48702/2059070395.py:10: PerformanceWarning: DataFrame is highly fragmented.  This is usually the result of calling `frame.insert` many times, which has poor performance.  Consider joining all columns at once using pd.concat(axis=1) instead. To get a de-fragmented frame, use `newframe = frame.copy()`\n",
      "  df[f'Önceki_{i}_Yüksek'] = df['High'].shift(i)\n",
      "/var/folders/w9/3z_zbj956tj44glgzg44rgbr0000gn/T/ipykernel_48702/2059070395.py:11: PerformanceWarning: DataFrame is highly fragmented.  This is usually the result of calling `frame.insert` many times, which has poor performance.  Consider joining all columns at once using pd.concat(axis=1) instead. To get a de-fragmented frame, use `newframe = frame.copy()`\n",
      "  df[f'Önceki_{i}_Düşük'] = df['Low'].shift(i)\n",
      "/var/folders/w9/3z_zbj956tj44glgzg44rgbr0000gn/T/ipykernel_48702/2059070395.py:12: PerformanceWarning: DataFrame is highly fragmented.  This is usually the result of calling `frame.insert` many times, which has poor performance.  Consider joining all columns at once using pd.concat(axis=1) instead. To get a de-fragmented frame, use `newframe = frame.copy()`\n",
      "  df[f'Önceki_{i}_Kapanış'] = df['Close'].shift(i)\n",
      "/var/folders/w9/3z_zbj956tj44glgzg44rgbr0000gn/T/ipykernel_48702/2059070395.py:13: PerformanceWarning: DataFrame is highly fragmented.  This is usually the result of calling `frame.insert` many times, which has poor performance.  Consider joining all columns at once using pd.concat(axis=1) instead. To get a de-fragmented frame, use `newframe = frame.copy()`\n",
      "  df[f'Önceki_{i}_Adj'] = df['Adj Close'].shift(i)\n",
      "/var/folders/w9/3z_zbj956tj44glgzg44rgbr0000gn/T/ipykernel_48702/2059070395.py:14: PerformanceWarning: DataFrame is highly fragmented.  This is usually the result of calling `frame.insert` many times, which has poor performance.  Consider joining all columns at once using pd.concat(axis=1) instead. To get a de-fragmented frame, use `newframe = frame.copy()`\n",
      "  df[f'Önceki_{i}_Hacim'] = df['Volume'].shift(i)\n",
      "/var/folders/w9/3z_zbj956tj44glgzg44rgbr0000gn/T/ipykernel_48702/2059070395.py:9: PerformanceWarning: DataFrame is highly fragmented.  This is usually the result of calling `frame.insert` many times, which has poor performance.  Consider joining all columns at once using pd.concat(axis=1) instead. To get a de-fragmented frame, use `newframe = frame.copy()`\n",
      "  df[f'Önceki_{i}_Açılış'] = df['Open'].shift(i)\n",
      "/var/folders/w9/3z_zbj956tj44glgzg44rgbr0000gn/T/ipykernel_48702/2059070395.py:10: PerformanceWarning: DataFrame is highly fragmented.  This is usually the result of calling `frame.insert` many times, which has poor performance.  Consider joining all columns at once using pd.concat(axis=1) instead. To get a de-fragmented frame, use `newframe = frame.copy()`\n",
      "  df[f'Önceki_{i}_Yüksek'] = df['High'].shift(i)\n",
      "/var/folders/w9/3z_zbj956tj44glgzg44rgbr0000gn/T/ipykernel_48702/2059070395.py:11: PerformanceWarning: DataFrame is highly fragmented.  This is usually the result of calling `frame.insert` many times, which has poor performance.  Consider joining all columns at once using pd.concat(axis=1) instead. To get a de-fragmented frame, use `newframe = frame.copy()`\n",
      "  df[f'Önceki_{i}_Düşük'] = df['Low'].shift(i)\n",
      "/var/folders/w9/3z_zbj956tj44glgzg44rgbr0000gn/T/ipykernel_48702/2059070395.py:12: PerformanceWarning: DataFrame is highly fragmented.  This is usually the result of calling `frame.insert` many times, which has poor performance.  Consider joining all columns at once using pd.concat(axis=1) instead. To get a de-fragmented frame, use `newframe = frame.copy()`\n",
      "  df[f'Önceki_{i}_Kapanış'] = df['Close'].shift(i)\n",
      "/var/folders/w9/3z_zbj956tj44glgzg44rgbr0000gn/T/ipykernel_48702/2059070395.py:13: PerformanceWarning: DataFrame is highly fragmented.  This is usually the result of calling `frame.insert` many times, which has poor performance.  Consider joining all columns at once using pd.concat(axis=1) instead. To get a de-fragmented frame, use `newframe = frame.copy()`\n",
      "  df[f'Önceki_{i}_Adj'] = df['Adj Close'].shift(i)\n",
      "/var/folders/w9/3z_zbj956tj44glgzg44rgbr0000gn/T/ipykernel_48702/2059070395.py:14: PerformanceWarning: DataFrame is highly fragmented.  This is usually the result of calling `frame.insert` many times, which has poor performance.  Consider joining all columns at once using pd.concat(axis=1) instead. To get a de-fragmented frame, use `newframe = frame.copy()`\n",
      "  df[f'Önceki_{i}_Hacim'] = df['Volume'].shift(i)\n",
      "/var/folders/w9/3z_zbj956tj44glgzg44rgbr0000gn/T/ipykernel_48702/2059070395.py:9: PerformanceWarning: DataFrame is highly fragmented.  This is usually the result of calling `frame.insert` many times, which has poor performance.  Consider joining all columns at once using pd.concat(axis=1) instead. To get a de-fragmented frame, use `newframe = frame.copy()`\n",
      "  df[f'Önceki_{i}_Açılış'] = df['Open'].shift(i)\n",
      "/var/folders/w9/3z_zbj956tj44glgzg44rgbr0000gn/T/ipykernel_48702/2059070395.py:10: PerformanceWarning: DataFrame is highly fragmented.  This is usually the result of calling `frame.insert` many times, which has poor performance.  Consider joining all columns at once using pd.concat(axis=1) instead. To get a de-fragmented frame, use `newframe = frame.copy()`\n",
      "  df[f'Önceki_{i}_Yüksek'] = df['High'].shift(i)\n",
      "/var/folders/w9/3z_zbj956tj44glgzg44rgbr0000gn/T/ipykernel_48702/2059070395.py:11: PerformanceWarning: DataFrame is highly fragmented.  This is usually the result of calling `frame.insert` many times, which has poor performance.  Consider joining all columns at once using pd.concat(axis=1) instead. To get a de-fragmented frame, use `newframe = frame.copy()`\n",
      "  df[f'Önceki_{i}_Düşük'] = df['Low'].shift(i)\n",
      "/var/folders/w9/3z_zbj956tj44glgzg44rgbr0000gn/T/ipykernel_48702/2059070395.py:12: PerformanceWarning: DataFrame is highly fragmented.  This is usually the result of calling `frame.insert` many times, which has poor performance.  Consider joining all columns at once using pd.concat(axis=1) instead. To get a de-fragmented frame, use `newframe = frame.copy()`\n",
      "  df[f'Önceki_{i}_Kapanış'] = df['Close'].shift(i)\n",
      "/var/folders/w9/3z_zbj956tj44glgzg44rgbr0000gn/T/ipykernel_48702/2059070395.py:13: PerformanceWarning: DataFrame is highly fragmented.  This is usually the result of calling `frame.insert` many times, which has poor performance.  Consider joining all columns at once using pd.concat(axis=1) instead. To get a de-fragmented frame, use `newframe = frame.copy()`\n",
      "  df[f'Önceki_{i}_Adj'] = df['Adj Close'].shift(i)\n",
      "/var/folders/w9/3z_zbj956tj44glgzg44rgbr0000gn/T/ipykernel_48702/2059070395.py:14: PerformanceWarning: DataFrame is highly fragmented.  This is usually the result of calling `frame.insert` many times, which has poor performance.  Consider joining all columns at once using pd.concat(axis=1) instead. To get a de-fragmented frame, use `newframe = frame.copy()`\n",
      "  df[f'Önceki_{i}_Hacim'] = df['Volume'].shift(i)\n",
      "/var/folders/w9/3z_zbj956tj44glgzg44rgbr0000gn/T/ipykernel_48702/2059070395.py:9: PerformanceWarning: DataFrame is highly fragmented.  This is usually the result of calling `frame.insert` many times, which has poor performance.  Consider joining all columns at once using pd.concat(axis=1) instead. To get a de-fragmented frame, use `newframe = frame.copy()`\n",
      "  df[f'Önceki_{i}_Açılış'] = df['Open'].shift(i)\n",
      "/var/folders/w9/3z_zbj956tj44glgzg44rgbr0000gn/T/ipykernel_48702/2059070395.py:10: PerformanceWarning: DataFrame is highly fragmented.  This is usually the result of calling `frame.insert` many times, which has poor performance.  Consider joining all columns at once using pd.concat(axis=1) instead. To get a de-fragmented frame, use `newframe = frame.copy()`\n",
      "  df[f'Önceki_{i}_Yüksek'] = df['High'].shift(i)\n",
      "/var/folders/w9/3z_zbj956tj44glgzg44rgbr0000gn/T/ipykernel_48702/2059070395.py:11: PerformanceWarning: DataFrame is highly fragmented.  This is usually the result of calling `frame.insert` many times, which has poor performance.  Consider joining all columns at once using pd.concat(axis=1) instead. To get a de-fragmented frame, use `newframe = frame.copy()`\n",
      "  df[f'Önceki_{i}_Düşük'] = df['Low'].shift(i)\n",
      "/var/folders/w9/3z_zbj956tj44glgzg44rgbr0000gn/T/ipykernel_48702/2059070395.py:12: PerformanceWarning: DataFrame is highly fragmented.  This is usually the result of calling `frame.insert` many times, which has poor performance.  Consider joining all columns at once using pd.concat(axis=1) instead. To get a de-fragmented frame, use `newframe = frame.copy()`\n",
      "  df[f'Önceki_{i}_Kapanış'] = df['Close'].shift(i)\n",
      "/var/folders/w9/3z_zbj956tj44glgzg44rgbr0000gn/T/ipykernel_48702/2059070395.py:13: PerformanceWarning: DataFrame is highly fragmented.  This is usually the result of calling `frame.insert` many times, which has poor performance.  Consider joining all columns at once using pd.concat(axis=1) instead. To get a de-fragmented frame, use `newframe = frame.copy()`\n",
      "  df[f'Önceki_{i}_Adj'] = df['Adj Close'].shift(i)\n",
      "/var/folders/w9/3z_zbj956tj44glgzg44rgbr0000gn/T/ipykernel_48702/2059070395.py:14: PerformanceWarning: DataFrame is highly fragmented.  This is usually the result of calling `frame.insert` many times, which has poor performance.  Consider joining all columns at once using pd.concat(axis=1) instead. To get a de-fragmented frame, use `newframe = frame.copy()`\n",
      "  df[f'Önceki_{i}_Hacim'] = df['Volume'].shift(i)\n",
      "/var/folders/w9/3z_zbj956tj44glgzg44rgbr0000gn/T/ipykernel_48702/2059070395.py:9: PerformanceWarning: DataFrame is highly fragmented.  This is usually the result of calling `frame.insert` many times, which has poor performance.  Consider joining all columns at once using pd.concat(axis=1) instead. To get a de-fragmented frame, use `newframe = frame.copy()`\n",
      "  df[f'Önceki_{i}_Açılış'] = df['Open'].shift(i)\n",
      "/var/folders/w9/3z_zbj956tj44glgzg44rgbr0000gn/T/ipykernel_48702/2059070395.py:10: PerformanceWarning: DataFrame is highly fragmented.  This is usually the result of calling `frame.insert` many times, which has poor performance.  Consider joining all columns at once using pd.concat(axis=1) instead. To get a de-fragmented frame, use `newframe = frame.copy()`\n",
      "  df[f'Önceki_{i}_Yüksek'] = df['High'].shift(i)\n",
      "/var/folders/w9/3z_zbj956tj44glgzg44rgbr0000gn/T/ipykernel_48702/2059070395.py:11: PerformanceWarning: DataFrame is highly fragmented.  This is usually the result of calling `frame.insert` many times, which has poor performance.  Consider joining all columns at once using pd.concat(axis=1) instead. To get a de-fragmented frame, use `newframe = frame.copy()`\n",
      "  df[f'Önceki_{i}_Düşük'] = df['Low'].shift(i)\n",
      "/var/folders/w9/3z_zbj956tj44glgzg44rgbr0000gn/T/ipykernel_48702/2059070395.py:12: PerformanceWarning: DataFrame is highly fragmented.  This is usually the result of calling `frame.insert` many times, which has poor performance.  Consider joining all columns at once using pd.concat(axis=1) instead. To get a de-fragmented frame, use `newframe = frame.copy()`\n",
      "  df[f'Önceki_{i}_Kapanış'] = df['Close'].shift(i)\n",
      "/var/folders/w9/3z_zbj956tj44glgzg44rgbr0000gn/T/ipykernel_48702/2059070395.py:13: PerformanceWarning: DataFrame is highly fragmented.  This is usually the result of calling `frame.insert` many times, which has poor performance.  Consider joining all columns at once using pd.concat(axis=1) instead. To get a de-fragmented frame, use `newframe = frame.copy()`\n",
      "  df[f'Önceki_{i}_Adj'] = df['Adj Close'].shift(i)\n",
      "/var/folders/w9/3z_zbj956tj44glgzg44rgbr0000gn/T/ipykernel_48702/2059070395.py:14: PerformanceWarning: DataFrame is highly fragmented.  This is usually the result of calling `frame.insert` many times, which has poor performance.  Consider joining all columns at once using pd.concat(axis=1) instead. To get a de-fragmented frame, use `newframe = frame.copy()`\n",
      "  df[f'Önceki_{i}_Hacim'] = df['Volume'].shift(i)\n",
      "/var/folders/w9/3z_zbj956tj44glgzg44rgbr0000gn/T/ipykernel_48702/2059070395.py:9: PerformanceWarning: DataFrame is highly fragmented.  This is usually the result of calling `frame.insert` many times, which has poor performance.  Consider joining all columns at once using pd.concat(axis=1) instead. To get a de-fragmented frame, use `newframe = frame.copy()`\n",
      "  df[f'Önceki_{i}_Açılış'] = df['Open'].shift(i)\n",
      "/var/folders/w9/3z_zbj956tj44glgzg44rgbr0000gn/T/ipykernel_48702/2059070395.py:10: PerformanceWarning: DataFrame is highly fragmented.  This is usually the result of calling `frame.insert` many times, which has poor performance.  Consider joining all columns at once using pd.concat(axis=1) instead. To get a de-fragmented frame, use `newframe = frame.copy()`\n",
      "  df[f'Önceki_{i}_Yüksek'] = df['High'].shift(i)\n",
      "/var/folders/w9/3z_zbj956tj44glgzg44rgbr0000gn/T/ipykernel_48702/2059070395.py:11: PerformanceWarning: DataFrame is highly fragmented.  This is usually the result of calling `frame.insert` many times, which has poor performance.  Consider joining all columns at once using pd.concat(axis=1) instead. To get a de-fragmented frame, use `newframe = frame.copy()`\n",
      "  df[f'Önceki_{i}_Düşük'] = df['Low'].shift(i)\n",
      "/var/folders/w9/3z_zbj956tj44glgzg44rgbr0000gn/T/ipykernel_48702/2059070395.py:12: PerformanceWarning: DataFrame is highly fragmented.  This is usually the result of calling `frame.insert` many times, which has poor performance.  Consider joining all columns at once using pd.concat(axis=1) instead. To get a de-fragmented frame, use `newframe = frame.copy()`\n",
      "  df[f'Önceki_{i}_Kapanış'] = df['Close'].shift(i)\n",
      "/var/folders/w9/3z_zbj956tj44glgzg44rgbr0000gn/T/ipykernel_48702/2059070395.py:13: PerformanceWarning: DataFrame is highly fragmented.  This is usually the result of calling `frame.insert` many times, which has poor performance.  Consider joining all columns at once using pd.concat(axis=1) instead. To get a de-fragmented frame, use `newframe = frame.copy()`\n",
      "  df[f'Önceki_{i}_Adj'] = df['Adj Close'].shift(i)\n",
      "/var/folders/w9/3z_zbj956tj44glgzg44rgbr0000gn/T/ipykernel_48702/2059070395.py:14: PerformanceWarning: DataFrame is highly fragmented.  This is usually the result of calling `frame.insert` many times, which has poor performance.  Consider joining all columns at once using pd.concat(axis=1) instead. To get a de-fragmented frame, use `newframe = frame.copy()`\n",
      "  df[f'Önceki_{i}_Hacim'] = df['Volume'].shift(i)\n",
      "/var/folders/w9/3z_zbj956tj44glgzg44rgbr0000gn/T/ipykernel_48702/2059070395.py:9: PerformanceWarning: DataFrame is highly fragmented.  This is usually the result of calling `frame.insert` many times, which has poor performance.  Consider joining all columns at once using pd.concat(axis=1) instead. To get a de-fragmented frame, use `newframe = frame.copy()`\n",
      "  df[f'Önceki_{i}_Açılış'] = df['Open'].shift(i)\n",
      "/var/folders/w9/3z_zbj956tj44glgzg44rgbr0000gn/T/ipykernel_48702/2059070395.py:10: PerformanceWarning: DataFrame is highly fragmented.  This is usually the result of calling `frame.insert` many times, which has poor performance.  Consider joining all columns at once using pd.concat(axis=1) instead. To get a de-fragmented frame, use `newframe = frame.copy()`\n",
      "  df[f'Önceki_{i}_Yüksek'] = df['High'].shift(i)\n",
      "/var/folders/w9/3z_zbj956tj44glgzg44rgbr0000gn/T/ipykernel_48702/2059070395.py:11: PerformanceWarning: DataFrame is highly fragmented.  This is usually the result of calling `frame.insert` many times, which has poor performance.  Consider joining all columns at once using pd.concat(axis=1) instead. To get a de-fragmented frame, use `newframe = frame.copy()`\n",
      "  df[f'Önceki_{i}_Düşük'] = df['Low'].shift(i)\n",
      "/var/folders/w9/3z_zbj956tj44glgzg44rgbr0000gn/T/ipykernel_48702/2059070395.py:12: PerformanceWarning: DataFrame is highly fragmented.  This is usually the result of calling `frame.insert` many times, which has poor performance.  Consider joining all columns at once using pd.concat(axis=1) instead. To get a de-fragmented frame, use `newframe = frame.copy()`\n",
      "  df[f'Önceki_{i}_Kapanış'] = df['Close'].shift(i)\n",
      "/var/folders/w9/3z_zbj956tj44glgzg44rgbr0000gn/T/ipykernel_48702/2059070395.py:13: PerformanceWarning: DataFrame is highly fragmented.  This is usually the result of calling `frame.insert` many times, which has poor performance.  Consider joining all columns at once using pd.concat(axis=1) instead. To get a de-fragmented frame, use `newframe = frame.copy()`\n",
      "  df[f'Önceki_{i}_Adj'] = df['Adj Close'].shift(i)\n",
      "/var/folders/w9/3z_zbj956tj44glgzg44rgbr0000gn/T/ipykernel_48702/2059070395.py:14: PerformanceWarning: DataFrame is highly fragmented.  This is usually the result of calling `frame.insert` many times, which has poor performance.  Consider joining all columns at once using pd.concat(axis=1) instead. To get a de-fragmented frame, use `newframe = frame.copy()`\n",
      "  df[f'Önceki_{i}_Hacim'] = df['Volume'].shift(i)\n",
      "/var/folders/w9/3z_zbj956tj44glgzg44rgbr0000gn/T/ipykernel_48702/2059070395.py:9: PerformanceWarning: DataFrame is highly fragmented.  This is usually the result of calling `frame.insert` many times, which has poor performance.  Consider joining all columns at once using pd.concat(axis=1) instead. To get a de-fragmented frame, use `newframe = frame.copy()`\n",
      "  df[f'Önceki_{i}_Açılış'] = df['Open'].shift(i)\n",
      "/var/folders/w9/3z_zbj956tj44glgzg44rgbr0000gn/T/ipykernel_48702/2059070395.py:10: PerformanceWarning: DataFrame is highly fragmented.  This is usually the result of calling `frame.insert` many times, which has poor performance.  Consider joining all columns at once using pd.concat(axis=1) instead. To get a de-fragmented frame, use `newframe = frame.copy()`\n",
      "  df[f'Önceki_{i}_Yüksek'] = df['High'].shift(i)\n",
      "/var/folders/w9/3z_zbj956tj44glgzg44rgbr0000gn/T/ipykernel_48702/2059070395.py:11: PerformanceWarning: DataFrame is highly fragmented.  This is usually the result of calling `frame.insert` many times, which has poor performance.  Consider joining all columns at once using pd.concat(axis=1) instead. To get a de-fragmented frame, use `newframe = frame.copy()`\n",
      "  df[f'Önceki_{i}_Düşük'] = df['Low'].shift(i)\n",
      "/var/folders/w9/3z_zbj956tj44glgzg44rgbr0000gn/T/ipykernel_48702/2059070395.py:12: PerformanceWarning: DataFrame is highly fragmented.  This is usually the result of calling `frame.insert` many times, which has poor performance.  Consider joining all columns at once using pd.concat(axis=1) instead. To get a de-fragmented frame, use `newframe = frame.copy()`\n",
      "  df[f'Önceki_{i}_Kapanış'] = df['Close'].shift(i)\n",
      "/var/folders/w9/3z_zbj956tj44glgzg44rgbr0000gn/T/ipykernel_48702/2059070395.py:13: PerformanceWarning: DataFrame is highly fragmented.  This is usually the result of calling `frame.insert` many times, which has poor performance.  Consider joining all columns at once using pd.concat(axis=1) instead. To get a de-fragmented frame, use `newframe = frame.copy()`\n",
      "  df[f'Önceki_{i}_Adj'] = df['Adj Close'].shift(i)\n",
      "/var/folders/w9/3z_zbj956tj44glgzg44rgbr0000gn/T/ipykernel_48702/2059070395.py:14: PerformanceWarning: DataFrame is highly fragmented.  This is usually the result of calling `frame.insert` many times, which has poor performance.  Consider joining all columns at once using pd.concat(axis=1) instead. To get a de-fragmented frame, use `newframe = frame.copy()`\n",
      "  df[f'Önceki_{i}_Hacim'] = df['Volume'].shift(i)\n",
      "/var/folders/w9/3z_zbj956tj44glgzg44rgbr0000gn/T/ipykernel_48702/2059070395.py:9: PerformanceWarning: DataFrame is highly fragmented.  This is usually the result of calling `frame.insert` many times, which has poor performance.  Consider joining all columns at once using pd.concat(axis=1) instead. To get a de-fragmented frame, use `newframe = frame.copy()`\n",
      "  df[f'Önceki_{i}_Açılış'] = df['Open'].shift(i)\n",
      "/var/folders/w9/3z_zbj956tj44glgzg44rgbr0000gn/T/ipykernel_48702/2059070395.py:10: PerformanceWarning: DataFrame is highly fragmented.  This is usually the result of calling `frame.insert` many times, which has poor performance.  Consider joining all columns at once using pd.concat(axis=1) instead. To get a de-fragmented frame, use `newframe = frame.copy()`\n",
      "  df[f'Önceki_{i}_Yüksek'] = df['High'].shift(i)\n",
      "/var/folders/w9/3z_zbj956tj44glgzg44rgbr0000gn/T/ipykernel_48702/2059070395.py:11: PerformanceWarning: DataFrame is highly fragmented.  This is usually the result of calling `frame.insert` many times, which has poor performance.  Consider joining all columns at once using pd.concat(axis=1) instead. To get a de-fragmented frame, use `newframe = frame.copy()`\n",
      "  df[f'Önceki_{i}_Düşük'] = df['Low'].shift(i)\n",
      "/var/folders/w9/3z_zbj956tj44glgzg44rgbr0000gn/T/ipykernel_48702/2059070395.py:12: PerformanceWarning: DataFrame is highly fragmented.  This is usually the result of calling `frame.insert` many times, which has poor performance.  Consider joining all columns at once using pd.concat(axis=1) instead. To get a de-fragmented frame, use `newframe = frame.copy()`\n",
      "  df[f'Önceki_{i}_Kapanış'] = df['Close'].shift(i)\n",
      "/var/folders/w9/3z_zbj956tj44glgzg44rgbr0000gn/T/ipykernel_48702/2059070395.py:13: PerformanceWarning: DataFrame is highly fragmented.  This is usually the result of calling `frame.insert` many times, which has poor performance.  Consider joining all columns at once using pd.concat(axis=1) instead. To get a de-fragmented frame, use `newframe = frame.copy()`\n",
      "  df[f'Önceki_{i}_Adj'] = df['Adj Close'].shift(i)\n",
      "/var/folders/w9/3z_zbj956tj44glgzg44rgbr0000gn/T/ipykernel_48702/2059070395.py:14: PerformanceWarning: DataFrame is highly fragmented.  This is usually the result of calling `frame.insert` many times, which has poor performance.  Consider joining all columns at once using pd.concat(axis=1) instead. To get a de-fragmented frame, use `newframe = frame.copy()`\n",
      "  df[f'Önceki_{i}_Hacim'] = df['Volume'].shift(i)\n",
      "/var/folders/w9/3z_zbj956tj44glgzg44rgbr0000gn/T/ipykernel_48702/2059070395.py:9: PerformanceWarning: DataFrame is highly fragmented.  This is usually the result of calling `frame.insert` many times, which has poor performance.  Consider joining all columns at once using pd.concat(axis=1) instead. To get a de-fragmented frame, use `newframe = frame.copy()`\n",
      "  df[f'Önceki_{i}_Açılış'] = df['Open'].shift(i)\n",
      "/var/folders/w9/3z_zbj956tj44glgzg44rgbr0000gn/T/ipykernel_48702/2059070395.py:10: PerformanceWarning: DataFrame is highly fragmented.  This is usually the result of calling `frame.insert` many times, which has poor performance.  Consider joining all columns at once using pd.concat(axis=1) instead. To get a de-fragmented frame, use `newframe = frame.copy()`\n",
      "  df[f'Önceki_{i}_Yüksek'] = df['High'].shift(i)\n",
      "/var/folders/w9/3z_zbj956tj44glgzg44rgbr0000gn/T/ipykernel_48702/2059070395.py:11: PerformanceWarning: DataFrame is highly fragmented.  This is usually the result of calling `frame.insert` many times, which has poor performance.  Consider joining all columns at once using pd.concat(axis=1) instead. To get a de-fragmented frame, use `newframe = frame.copy()`\n",
      "  df[f'Önceki_{i}_Düşük'] = df['Low'].shift(i)\n",
      "/var/folders/w9/3z_zbj956tj44glgzg44rgbr0000gn/T/ipykernel_48702/2059070395.py:12: PerformanceWarning: DataFrame is highly fragmented.  This is usually the result of calling `frame.insert` many times, which has poor performance.  Consider joining all columns at once using pd.concat(axis=1) instead. To get a de-fragmented frame, use `newframe = frame.copy()`\n",
      "  df[f'Önceki_{i}_Kapanış'] = df['Close'].shift(i)\n",
      "/var/folders/w9/3z_zbj956tj44glgzg44rgbr0000gn/T/ipykernel_48702/2059070395.py:13: PerformanceWarning: DataFrame is highly fragmented.  This is usually the result of calling `frame.insert` many times, which has poor performance.  Consider joining all columns at once using pd.concat(axis=1) instead. To get a de-fragmented frame, use `newframe = frame.copy()`\n",
      "  df[f'Önceki_{i}_Adj'] = df['Adj Close'].shift(i)\n",
      "/var/folders/w9/3z_zbj956tj44glgzg44rgbr0000gn/T/ipykernel_48702/2059070395.py:14: PerformanceWarning: DataFrame is highly fragmented.  This is usually the result of calling `frame.insert` many times, which has poor performance.  Consider joining all columns at once using pd.concat(axis=1) instead. To get a de-fragmented frame, use `newframe = frame.copy()`\n",
      "  df[f'Önceki_{i}_Hacim'] = df['Volume'].shift(i)\n"
     ]
    },
    {
     "name": "stdout",
     "output_type": "stream",
     "text": [
      "SOL-USD verisi windowed olarak kaydedildi\n"
     ]
    }
   ],
   "source": [
    "window = 30\n",
    "\n",
    "def veri_hazirla(df, window):\n",
    "    # Veri çerçevesinin kopyasını oluşturun\n",
    "    df = df.copy()\n",
    "    \n",
    "    # Veri çerçevesine yeni sütunlar ekleyin\n",
    "    for i in range(1, window + 1):\n",
    "        df[f'Önceki_{i}_Açılış'] = df['Open'].shift(i)\n",
    "        df[f'Önceki_{i}_Yüksek'] = df['High'].shift(i)\n",
    "        df[f'Önceki_{i}_Düşük'] = df['Low'].shift(i)\n",
    "        df[f'Önceki_{i}_Kapanış'] = df['Close'].shift(i)\n",
    "        df[f'Önceki_{i}_Adj'] = df['Adj Close'].shift(i)\n",
    "        df[f'Önceki_{i}_Hacim'] = df['Volume'].shift(i)\n",
    "        \n",
    "    # NaN değerleri bırakın\n",
    "    df.dropna(inplace=True)\n",
    "    \n",
    "    return df\n",
    "\n",
    "# Her bir veri çerçevesi için döngü oluşturun ve verileri hazırlayın\n",
    "data_windowed = [veri_hazirla(df, window) for df in datasets]\n",
    "\n",
    "\n",
    "if not os.path.exists('windowed'):\n",
    "    os.makedirs('windowed')\n",
    "\n",
    "# Her bir veri çerçevesi için parite ismiyle birlikte windowed klasörüne kaydedin \n",
    "for i in range(len(data_windowed)):\n",
    "    data_windowed[i].to_csv(f'windowed/{tickers[i]}_windowed.csv')\n",
    "    print(f'{tickers[i]} verisi windowed olarak kaydedildi')\n",
    "\n"
   ]
  },
  {
   "cell_type": "code",
   "execution_count": 21,
   "metadata": {
    "ExecuteTime": {
     "end_time": "2024-02-03T02:44:13.239917Z",
     "start_time": "2024-02-03T02:44:13.235294Z"
    }
   },
   "outputs": [],
   "source": [
    "#data_windowed"
   ]
  },
  {
   "cell_type": "code",
   "execution_count": 22,
   "metadata": {
    "ExecuteTime": {
     "end_time": "2024-02-03T02:44:13.835842Z",
     "start_time": "2024-02-03T02:44:13.244916Z"
    }
   },
   "outputs": [
    {
     "name": "stdout",
     "output_type": "stream",
     "text": [
      "SOL-USD verisi X ve y olarak kaydedildi\n"
     ]
    }
   ],
   "source": [
    "#her bir veri çerçevesi için X  = features(öncekiler) y = labels olan veriyapısını kuruyoruz (labels  = ['Open','High', 'Low', 'Close', 'Adj Close', 'Volume'])\n",
    "\n",
    "def X_y_olustur(df, window, labels):\n",
    "    # Veri çerçevesinin kopyasını oluşturun\n",
    "    df = df.copy()\n",
    "    \n",
    "    # Özellikler ve etiketler için boş listeler oluşturun\n",
    "    X = []\n",
    "    y = []\n",
    "    \n",
    "    # Her bir satır için döngü oluşturun\n",
    "    for i in range(len(df) - window):\n",
    "        # Özellikler için satırı alın\n",
    "        X_row = df.iloc[i:i + window].values\n",
    "        \n",
    "        # Etiketler için satırı alın\n",
    "        y_row = df[labels].iloc[i + window].values\n",
    "        \n",
    "        # Özellikleri ve etiketleri listelere ekleyin\n",
    "        X.append(X_row)\n",
    "        y.append(y_row)\n",
    "        \n",
    "    # Listeleri numpy dizilerine dönüştürün\n",
    "    X = np.array(X)\n",
    "    y = np.array(y)\n",
    "    \n",
    "    return X, y\n",
    "\n",
    "# Her bir veri çerçevesi için döngü oluşturun ve X ve y oluşturun\n",
    "X_y = [X_y_olustur(df, window, ['Open', 'High', 'Low', 'Close', 'Adj Close', 'Volume']) for df in data_windowed]\n",
    "#X_y = [X_y_olustur(df, window, ['Close' ,'Volume']) for df in data_windowed]\n",
    "\n",
    "# Her bir veri çerçevesi için parite ismiyle birlikte numpy klasörüne kaydedin\n",
    "\n",
    "if not os.path.exists('numpy'):\n",
    "    os.makedirs('numpy')\n",
    "for i in range(len(X_y)):\n",
    "    np.save(f'numpy/{tickers[i]}_X.npy', X_y[i][0])\n",
    "    np.save(f'numpy/{tickers[i]}_y.npy', X_y[i][1])\n",
    "    print(f'{tickers[i]} verisi X ve y olarak kaydedildi')\n",
    "    \n",
    "\n"
   ]
  },
  {
   "cell_type": "code",
   "outputs": [],
   "source": [
    "# her bir veri çerçevesi için train test split yapalım time series için doğru yolla yapmak gerekiyor\n",
    "\n",
    "def train_test_split(X, y, test_size):\n",
    "        # Test boyutunu hesaplayın\n",
    "        test_size = int(len(X) * test_size)\n",
    "        \n",
    "        # Eğitim ve test veri kümelerini ayırın\n",
    "        X_train = X[:-test_size]\n",
    "        X_test = X[-test_size:]\n",
    "        y_train = y[:-test_size]\n",
    "        y_test = y[-test_size:]\n",
    "        \n",
    "        return X_train, X_test, y_train, y_test\n",
    "\n",
    "# Her bir veri çerçevesi için döngü oluşturun ve train ve test veri kümelerini ayırın\n",
    "\n",
    "X_train_test = [train_test_split(X_y[i][0], X_y[i][1], 0.2) for i in range(len(X_y))]"
   ],
   "metadata": {
    "collapsed": false,
    "ExecuteTime": {
     "end_time": "2024-02-03T02:44:13.845923Z",
     "start_time": "2024-02-03T02:44:13.837374Z"
    }
   },
   "execution_count": 23
  },
  {
   "cell_type": "code",
   "outputs": [],
   "source": [
    "# her bir veri çerçevesi için model oluşturup eğitelim\n",
    "\n",
    "def model_olustur(input_shape, output_shape):\n",
    "    # Modeli oluşturun\n",
    "    model = Sequential()\n",
    "    \n",
    "    # Giriş katmanı\n",
    "    model.add(LSTM(128, input_shape=input_shape, return_sequences=True))\n",
    "    model.add(Dropout(0.2))\n",
    "    model.add(BatchNormalization())\n",
    "    \n",
    "    # Gizli katmanlar\n",
    "    model.add(LSTM(128, return_sequences=False))\n",
    "    model.add(Dropout(0.2))\n",
    "    model.add(BatchNormalization())\n",
    "    \n",
    "    model.add(Dense(32, activation='relu'))\n",
    "    model.add(Dropout(0.2))\n",
    "    \n",
    "    # Çıkış katmanı\n",
    "    model.add(Dense(output_shape))\n",
    "    \n",
    "    return model"
   ],
   "metadata": {
    "collapsed": false,
    "ExecuteTime": {
     "end_time": "2024-02-03T02:44:13.846653Z",
     "start_time": "2024-02-03T02:44:13.843724Z"
    }
   },
   "execution_count": 24
  },
  {
   "cell_type": "code",
   "outputs": [
    {
     "name": "stdout",
     "output_type": "stream",
     "text": [
      "Epoch 1/10\n",
      "12/12 [==============================] - 8s 167ms/step - loss: 770865059613114368.0000 - val_loss: 758253867400953856.0000\n",
      "Epoch 2/10\n",
      "12/12 [==============================] - 1s 59ms/step - loss: 770865059613114368.0000 - val_loss: 758253867400953856.0000\n",
      "Epoch 3/10\n",
      "12/12 [==============================] - 1s 62ms/step - loss: 770865059613114368.0000 - val_loss: 758253867400953856.0000\n",
      "Epoch 4/10\n",
      "12/12 [==============================] - 1s 61ms/step - loss: 770865059613114368.0000 - val_loss: 758253867400953856.0000\n",
      "Epoch 5/10\n",
      "12/12 [==============================] - 1s 59ms/step - loss: 770864990893637632.0000 - val_loss: 758253867400953856.0000\n",
      "Epoch 6/10\n",
      "12/12 [==============================] - 1s 59ms/step - loss: 770865059613114368.0000 - val_loss: 758253867400953856.0000\n",
      "Epoch 7/10\n",
      "12/12 [==============================] - 1s 61ms/step - loss: 770865128332591104.0000 - val_loss: 758253867400953856.0000\n",
      "Epoch 8/10\n",
      "12/12 [==============================] - 1s 60ms/step - loss: 770865059613114368.0000 - val_loss: 758253867400953856.0000\n",
      "Epoch 9/10\n",
      "12/12 [==============================] - 1s 59ms/step - loss: 770865059613114368.0000 - val_loss: 758253867400953856.0000\n",
      "Epoch 10/10\n",
      "12/12 [==============================] - 1s 58ms/step - loss: 770865059613114368.0000 - val_loss: 758253867400953856.0000\n",
      "SOL-USD modeli eğitildi ve kaydedildi\n"
     ]
    },
    {
     "name": "stderr",
     "output_type": "stream",
     "text": [
      "/Users/mustafakapici/anaconda3/envs/all/lib/python3.11/site-packages/keras/src/engine/training.py:3079: UserWarning: You are saving your model as an HDF5 file via `model.save()`. This file format is considered legacy. We recommend using instead the native Keras format, e.g. `model.save('my_model.keras')`.\n",
      "  saving_api.save_model(\n"
     ]
    }
   ],
   "source": [
    "# her bir veri çerçevesi için modeli eğitelim\n",
    "\n",
    "\n",
    "if not os.path.exists('models'):\n",
    "    os.makedirs('models')\n",
    "\n",
    "epochs = 10\n",
    "batch_size = 64\n",
    "models = []\n",
    "\n",
    "for i in range(len(X_train_test)):\n",
    "    # Modeli oluşturun\n",
    "    model = model_olustur(X_train_test[i][0].shape[1:], X_train_test[i][2].shape[1])\n",
    "    \n",
    "    # Modeli derleyin\n",
    "    model.compile(optimizer='adam', loss='mean_squared_error')\n",
    "    \n",
    "    # Modeli eğitin\n",
    "    model.fit(X_train_test[i][0], X_train_test[i][2], epochs=epochs, batch_size=batch_size,\n",
    "              validation_data=(X_train_test[i][1], X_train_test[i][3]),\n",
    "                verbose=1)\n",
    "    \n",
    "    # Modeli kaydedin\n",
    "    model.save(f'models/{tickers[i]}_model.h5')\n",
    "    \n",
    "    # Modeli listeye ekleyin\n",
    "    models.append(model)\n",
    "    print(f'{tickers[i]} modeli eğitildi ve kaydedildi')\n"
   ],
   "metadata": {
    "collapsed": false,
    "ExecuteTime": {
     "end_time": "2024-02-03T02:44:28.955365Z",
     "start_time": "2024-02-03T02:44:13.854416Z"
    }
   },
   "execution_count": 25
  },
  {
   "cell_type": "code",
   "outputs": [
    {
     "name": "stdout",
     "output_type": "stream",
     "text": [
      "6/6 [==============================] - 1s 14ms/step\n"
     ]
    },
    {
     "data": {
      "text/plain": "<Figure size 1400x500 with 1 Axes>",
      "image/png": "[encoded data removed]"
     },
     "metadata": {},
     "output_type": "display_data"
    }
   ],
   "source": [
    "# Her bir model için döngü oluşturun ve tahmin yapın\n",
    "for i in range(len(models)):\n",
    "    # Modeli yükleyin\n",
    "    model = tf.keras.models.load_model(f'models/{tickers[i]}_model.h5')\n",
    "    \n",
    "    # Tahmin yapın\n",
    "    predictions = model.predict(X_train_test[i][1])\n",
    "    \n",
    "    # Tahminleri ve gerçek değerleri görselleştirin sadece close\n",
    "    plt.figure(figsize=(14, 5))\n",
    "    plt.plot(predictions[:, 3], label='Tahminler')\n",
    "    plt.plot(X_train_test[i][3][:, 3], label='Gerçek Değerler')\n",
    "    plt.title(f'{tickers[i]} Tahminleri ve Gerçek Değerler')\n",
    "    plt.xlabel('Zaman')\n",
    "    plt.ylabel('Kapanış Fiyatı')\n",
    "    plt.legend()\n",
    "    plt.show()\n",
    "    \n",
    "\n",
    "    \n",
    "    "
   ],
   "metadata": {
    "collapsed": false,
    "ExecuteTime": {
     "end_time": "2024-02-03T02:44:31.040853Z",
     "start_time": "2024-02-03T02:44:28.956114Z"
    }
   },
   "execution_count": 26
  },
  {
   "cell_type": "code",
   "outputs": [],
   "source": [],
   "metadata": {
    "collapsed": false,
    "ExecuteTime": {
     "end_time": "2024-02-03T02:44:31.047172Z",
     "start_time": "2024-02-03T02:44:31.040680Z"
    }
   },
   "execution_count": 26
  }
 ],
 "metadata": {
  "kernelspec": {
   "display_name": "all",
   "language": "python",
   "name": "python3"
  },
  "language_info": {
   "codemirror_mode": {
    "name": "ipython",
    "version": 3
   },
   "file_extension": ".py",
   "mimetype": "text/x-python",
   "name": "python",
   "nbconvert_exporter": "python",
   "pygments_lexer": "ipython3",
   "version": "3.11.5"
  }
 },
 "nbformat": 4,
 "nbformat_minor": 2
}
