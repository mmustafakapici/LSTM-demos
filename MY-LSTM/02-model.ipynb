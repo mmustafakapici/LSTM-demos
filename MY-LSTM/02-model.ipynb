{
 "cells": [
  {
   "cell_type": "code",
   "execution_count": 1,
   "metadata": {
    "ExecuteTime": {
     "end_time": "2024-02-03T02:44:12.007868Z",
     "start_time": "2024-02-03T02:44:11.997012Z"
    }
   },
   "outputs": [],
   "source": [
    "import numpy as np\n",
    "import pandas as pd \n",
    "import matplotlib.pyplot as plt\n",
    "\n",
    "import os\n",
    "\n",
    "import tensorflow as tf\n",
    "\n",
    "from tensorflow.keras.models import Sequential \n",
    "from tensorflow.keras.layers import Dense, Dropout, Activation, Flatten,  LSTM , BatchNormalization\n"
   ]
  },
  {
   "cell_type": "code",
   "execution_count": 2,
   "metadata": {
    "ExecuteTime": {
     "end_time": "2024-02-03T02:44:12.024161Z",
     "start_time": "2024-02-03T02:44:12.013846Z"
    }
   },
   "outputs": [],
   "source": [
    "import yfinance as yf"
   ]
  },
  {
   "cell_type": "code",
   "execution_count": 3,
   "metadata": {
    "ExecuteTime": {
     "end_time": "2024-02-03T02:44:12.036949Z",
     "start_time": "2024-02-03T02:44:12.029222Z"
    }
   },
   "outputs": [],
   "source": [
    "period = '1000d'\n",
    "\n",
    "#tickers = ['AAPL', 'MSFT', 'AMZN', 'GOOG', 'GOOGL', 'TSLA', 'NVDA', 'PYPL', 'ADBE','BTC-USD', 'ETH-USD', 'XRP-USD', 'LTC-USD','BCH-USD', 'BNB-USD', 'LINK-USD', 'ADA-USD', 'XLM-USD', 'SOL-USD', 'TRX-USD']\n",
    "\n",
    "tickers = ['SOL-USD']\n"
   ]
  },
  {
   "cell_type": "code",
   "execution_count": 4,
   "metadata": {
    "ExecuteTime": {
     "end_time": "2024-02-03T02:44:12.044128Z",
     "start_time": "2024-02-03T02:44:12.041940Z"
    }
   },
   "outputs": [],
   "source": [
    "def indir_ve_df_olustur(tickers, period):\n",
    "    # Her bir hisse senedi için boş bir sözlük oluşturun\n",
    "    pariteler = {}\n",
    "\n",
    "    # Her bir hisse senedi için döngü oluşturun ve verileri indirin\n",
    "    for ticker in tickers:\n",
    "        try:\n",
    "            # Hisse senedi verilerini indirin\n",
    "            veri = yf.download(ticker, period=period)\n",
    "            \n",
    "            # Veriyi sözlüğe ekleyin\n",
    "            pariteler[ticker] = veri\n",
    "        except Exception as e:\n",
    "            print(f\"{ticker} için veri indirilirken bir hata oluştu: {str(e)}\")\n",
    "\n",
    "    # Her bir hisse senedi için ayrı bir veri çerçevesi oluşturun\n",
    "    df_listesi = [veri for veri in pariteler.values()]\n",
    "\n",
    "    return df_listesi"
   ]
  },
  {
   "cell_type": "code",
   "execution_count": 5,
   "metadata": {
    "ExecuteTime": {
     "end_time": "2024-02-03T02:44:12.056811Z",
     "start_time": "2024-02-03T02:44:12.048371Z"
    }
   },
   "outputs": [],
   "source": [
    "#pariteler adında klasör oluştur :\n",
    "\n",
    "import os \n",
    "\n",
    "if not os.path.exists('pariteler'):\n",
    "    os.makedirs('pariteler')\n",
    "\n"
   ]
  },
  {
   "cell_type": "code",
   "execution_count": 6,
   "metadata": {
    "ExecuteTime": {
     "end_time": "2024-02-03T02:44:12.577538Z",
     "start_time": "2024-02-03T02:44:12.053493Z"
    }
   },
   "outputs": [
    {
     "name": "stdout",
     "output_type": "stream",
     "text": [
      "[*********************100%***********************]  1 of 1 completed\n"
     ]
    }
   ],
   "source": [
    "datasets = indir_ve_df_olustur(tickers, period)\n",
    "\n",
    "#pariteler içine kaydet \n",
    "\n",
    "for i in range(len(datasets)):\n",
    "    datasets[i].to_csv(f'pariteler/{tickers[i]}.csv')\n",
    "    #print(f'{tickers[i]} verisi csv olarak kaydedildi')\n"
   ]
  },
  {
   "cell_type": "code",
   "execution_count": 7,
   "metadata": {
    "ExecuteTime": {
     "end_time": "2024-02-03T02:44:13.239303Z",
     "start_time": "2024-02-03T02:44:12.578557Z"
    }
   },
   "outputs": [
    {
     "name": "stdout",
     "output_type": "stream",
     "text": [
      "SOL-USD verisi windowed olarak kaydedildi\n"
     ]
    }
   ],
   "source": [
    "window = 30\n",
    "\n",
    "def veri_hazirla(df, window):\n",
    "    # Veri çerçevesinin kopyasını oluşturun\n",
    "    df = df.copy()\n",
    "    \n",
    "    # Veri çerçevesine yeni sütunlar ekleyin\n",
    "    for i in range(1, window + 1):\n",
    "        df[f'Önceki_{i}_Açılış'] = df['Open'].shift(i)\n",
    "        df[f'Önceki_{i}_Yüksek'] = df['High'].shift(i)\n",
    "        df[f'Önceki_{i}_Düşük'] = df['Low'].shift(i)\n",
    "        df[f'Önceki_{i}_Kapanış'] = df['Close'].shift(i)\n",
    "        df[f'Önceki_{i}_Adj'] = df['Adj Close'].shift(i)\n",
    "        df[f'Önceki_{i}_Hacim'] = df['Volume'].shift(i)\n",
    "        \n",
    "    # NaN değerleri bırakın\n",
    "    df.dropna(inplace=True)\n",
    "    \n",
    "    return df\n",
    "\n",
    "# Her bir veri çerçevesi için döngü oluşturun ve verileri hazırlayın\n",
    "data_windowed = [veri_hazirla(df, window) for df in datasets]\n",
    "\n",
    "\n",
    "if not os.path.exists('windowed'):\n",
    "    os.makedirs('windowed')\n",
    "\n",
    "# Her bir veri çerçevesi için parite ismiyle birlikte windowed klasörüne kaydedin \n",
    "for i in range(len(data_windowed)):\n",
    "    data_windowed[i].to_csv(f'windowed/{tickers[i]}_windowed.csv')\n",
    "    print(f'{tickers[i]} verisi windowed olarak kaydedildi')\n",
    "\n"
   ]
  },
  {
   "cell_type": "code",
   "execution_count": 8,
   "metadata": {
    "ExecuteTime": {
     "end_time": "2024-02-03T02:44:13.239917Z",
     "start_time": "2024-02-03T02:44:13.235294Z"
    }
   },
   "outputs": [],
   "source": [
    "#data_windowed"
   ]
  },
  {
   "cell_type": "code",
   "execution_count": 9,
   "metadata": {
    "ExecuteTime": {
     "end_time": "2024-02-03T02:44:13.835842Z",
     "start_time": "2024-02-03T02:44:13.244916Z"
    }
   },
   "outputs": [
    {
     "name": "stdout",
     "output_type": "stream",
     "text": [
      "SOL-USD verisi X ve y olarak kaydedildi\n"
     ]
    }
   ],
   "source": [
    "#her bir veri çerçevesi için X  = features(öncekiler) y = labels olan veriyapısını kuruyoruz (labels  = ['Open','High', 'Low', 'Close', 'Adj Close', 'Volume'])\n",
    "\n",
    "def X_y_olustur(df, window, labels):\n",
    "    # Veri çerçevesinin kopyasını oluşturun\n",
    "    df = df.copy()\n",
    "    \n",
    "    # Özellikler ve etiketler için boş listeler oluşturun\n",
    "    X = []\n",
    "    y = []\n",
    "    \n",
    "    # Her bir satır için döngü oluşturun\n",
    "    for i in range(len(df) - window):\n",
    "        # Özellikler için satırı alın\n",
    "        X_row = df.iloc[i:i + window].values\n",
    "        \n",
    "        # Etiketler için satırı alın\n",
    "        y_row = df[labels].iloc[i + window].values\n",
    "        \n",
    "        # Özellikleri ve etiketleri listelere ekleyin\n",
    "        X.append(X_row)\n",
    "        y.append(y_row)\n",
    "        \n",
    "    # Listeleri numpy dizilerine dönüştürün\n",
    "    X = np.array(X)\n",
    "    y = np.array(y)\n",
    "    \n",
    "    return X, y\n",
    "\n",
    "# Her bir veri çerçevesi için döngü oluşturun ve X ve y oluşturun\n",
    "X_y = [X_y_olustur(df, window, ['Open', 'High', 'Low', 'Close', 'Adj Close', 'Volume']) for df in data_windowed]\n",
    "#X_y = [X_y_olustur(df, window, ['Close' ,'Volume']) for df in data_windowed]\n",
    "\n",
    "# Her bir veri çerçevesi için parite ismiyle birlikte numpy klasörüne kaydedin\n",
    "\n",
    "if not os.path.exists('numpy'):\n",
    "    os.makedirs('numpy')\n",
    "for i in range(len(X_y)):\n",
    "    np.save(f'numpy/{tickers[i]}_X.npy', X_y[i][0])\n",
    "    np.save(f'numpy/{tickers[i]}_y.npy', X_y[i][1])\n",
    "    print(f'{tickers[i]} verisi X ve y olarak kaydedildi')\n",
    "    \n",
    "\n"
   ]
  },
  {
   "cell_type": "code",
   "execution_count": 10,
   "metadata": {
    "ExecuteTime": {
     "end_time": "2024-02-03T02:44:13.845923Z",
     "start_time": "2024-02-03T02:44:13.837374Z"
    },
    "collapsed": false
   },
   "outputs": [],
   "source": [
    "# her bir veri çerçevesi için train test split yapalım time series için doğru yolla yapmak gerekiyor\n",
    "\n",
    "def train_test_split(X, y, test_size):\n",
    "        # Test boyutunu hesaplayın\n",
    "        test_size = int(len(X) * test_size)\n",
    "        \n",
    "        # Eğitim ve test veri kümelerini ayırın\n",
    "        X_train = X[:-test_size]\n",
    "        X_test = X[-test_size:]\n",
    "        y_train = y[:-test_size]\n",
    "        y_test = y[-test_size:]\n",
    "        \n",
    "        return X_train, X_test, y_train, y_test\n",
    "\n",
    "# Her bir veri çerçevesi için döngü oluşturun ve train ve test veri kümelerini ayırın\n",
    "\n",
    "X_train_test = [train_test_split(X_y[i][0], X_y[i][1], 0.2) for i in range(len(X_y))]"
   ]
  },
  {
   "cell_type": "code",
   "execution_count": 11,
   "metadata": {
    "ExecuteTime": {
     "end_time": "2024-02-03T02:44:13.846653Z",
     "start_time": "2024-02-03T02:44:13.843724Z"
    },
    "collapsed": false
   },
   "outputs": [],
   "source": [
    "# her bir veri çerçevesi için model oluşturup eğitelim\n",
    "\n",
    "def model_olustur(input_shape, output_shape):\n",
    "    # Modeli oluşturun\n",
    "    model = Sequential()\n",
    "    \n",
    "    # Giriş katmanı\n",
    "    model.add(LSTM(128, input_shape=input_shape, return_sequences=True))\n",
    "    model.add(Dropout(0.2))\n",
    "    model.add(BatchNormalization())\n",
    "    \n",
    "    # Gizli katmanlar\n",
    "    model.add(LSTM(128, return_sequences=False))\n",
    "    model.add(Dropout(0.2))\n",
    "    model.add(BatchNormalization())\n",
    "    \n",
    "    model.add(Dense(32, activation='relu'))\n",
    "    model.add(Dropout(0.2))\n",
    "    \n",
    "    # Çıkış katmanı\n",
    "    model.add(Dense(output_shape))\n",
    "    \n",
    "    return model"
   ]
  },
  {
   "cell_type": "code",
   "execution_count": 12,
   "metadata": {},
   "outputs": [
    {
     "data": {
      "text/plain": [
       "'/device:DML:0'"
      ]
     },
     "execution_count": 12,
     "metadata": {},
     "output_type": "execute_result"
    }
   ],
   "source": [
    "tf.test.gpu_device_name()"
   ]
  },
  {
   "cell_type": "code",
   "execution_count": 13,
   "metadata": {
    "ExecuteTime": {
     "end_time": "2024-02-03T02:44:28.955365Z",
     "start_time": "2024-02-03T02:44:13.854416Z"
    },
    "collapsed": false
   },
   "outputs": [
    {
     "name": "stdout",
     "output_type": "stream",
     "text": [
      "WARNING:tensorflow:From c:\\Users\\mmust\\anaconda3\\envs\\directML\\lib\\site-packages\\tensorflow_core\\python\\ops\\resource_variable_ops.py:1630: calling BaseResourceVariable.__init__ (from tensorflow.python.ops.resource_variable_ops) with constraint is deprecated and will be removed in a future version.\n",
      "Instructions for updating:\n",
      "If using Keras pass *_constraint arguments to layers.\n",
      "WARNING:tensorflow:From c:\\Users\\mmust\\anaconda3\\envs\\directML\\lib\\site-packages\\tensorflow_core\\python\\ops\\math_grad.py:1424: where (from tensorflow.python.ops.array_ops) is deprecated and will be removed in a future version.\n",
      "Instructions for updating:\n",
      "Use tf.where in 2.0, which has the same broadcast rule as np.where\n",
      "Train on 752 samples, validate on 187 samples\n",
      "Epoch 1/100\n",
      "752/752 [==============================] - 2s 3ms/sample - loss: 770865008439036032.0000 - val_loss: 758209618305161088.0000\n",
      "Epoch 2/100\n",
      "752/752 [==============================] - 1s 1ms/sample - loss: 770864995279987200.0000 - val_loss: 758209595888647168.0000\n",
      "Epoch 3/100\n",
      "752/752 [==============================] - 1s 993us/sample - loss: 770865001128453376.0000 - val_loss: 758209585966583680.0000\n",
      "Epoch 4/100\n",
      "752/752 [==============================] - 1s 1ms/sample - loss: 770864980658821888.0000 - val_loss: 758209617937677184.0000\n",
      "Epoch 5/100\n",
      "752/752 [==============================] - 1s 1ms/sample - loss: 770864988700462720.0000 - val_loss: 758209621428773632.0000\n",
      "Epoch 6/100\n",
      "752/752 [==============================] - 1s 1ms/sample - loss: 770864987238346240.0000 - val_loss: 758209617937677184.0000\n",
      "Epoch 7/100\n",
      "752/752 [==============================] - 1s 1ms/sample - loss: 770864973348239232.0000 - val_loss: 758209627492256896.0000\n",
      "Epoch 8/100\n",
      "752/752 [==============================] - 1s 1ms/sample - loss: 770864986507288064.0000 - val_loss: 758209603054582016.0000\n",
      "Epoch 9/100\n",
      "752/752 [==============================] - 1s 1ms/sample - loss: 770864991624695936.0000 - val_loss: 758209602135872384.0000\n",
      "Epoch 10/100\n",
      "752/752 [==============================] - 1s 1ms/sample - loss: 770864952878607872.0000 - val_loss: 758209544808394496.0000\n",
      "Epoch 11/100\n",
      "752/752 [==============================] - 1s 983us/sample - loss: 770864936795326208.0000 - val_loss: 758209602503356160.0000\n",
      "Epoch 12/100\n",
      "752/752 [==============================] - 1s 1ms/sample - loss: 770864922174160896.0000 - val_loss: 758209532681427968.0000\n",
      "Epoch 13/100\n",
      "752/752 [==============================] - 1s 1ms/sample - loss: 770864918518869504.0000 - val_loss: 758209537274975872.0000\n",
      "Epoch 14/100\n",
      "752/752 [==============================] - 1s 1ms/sample - loss: 770864887814422528.0000 - val_loss: 758209572737165824.0000\n",
      "Epoch 15/100\n",
      "752/752 [==============================] - 1s 1ms/sample - loss: 770864866613732992.0000 - val_loss: 758209564652521472.0000\n",
      "Epoch 16/100\n",
      "752/752 [==============================] - 1s 1ms/sample - loss: 770864857841033728.0000 - val_loss: 758209529741557376.0000\n",
      "Epoch 17/100\n",
      "752/752 [==============================] - 1s 1ms/sample - loss: 770864825674470144.0000 - val_loss: 758209514674720128.0000\n",
      "Epoch 18/100\n",
      "752/752 [==============================] - 1s 1ms/sample - loss: 770864813977537920.0000 - val_loss: 758209426111116416.0000\n",
      "Epoch 19/100\n",
      "752/752 [==============================] - 1s 1ms/sample - loss: 770864766458750848.0000 - val_loss: 758209433093309312.0000\n",
      "Epoch 20/100\n",
      "752/752 [==============================] - 1s 985us/sample - loss: 770864733561129088.0000 - val_loss: 758209430520922496.0000\n",
      "Epoch 21/100\n",
      "752/752 [==============================] - 1s 1ms/sample - loss: 770864688235516672.0000 - val_loss: 758209422803761920.0000\n",
      "Epoch 22/100\n",
      "752/752 [==============================] - 1s 1ms/sample - loss: 770864672152234880.0000 - val_loss: 758209255966101888.0000\n",
      "Epoch 23/100\n",
      "752/752 [==============================] - 1s 1ms/sample - loss: 770864618053923456.0000 - val_loss: 758209436951889536.0000\n",
      "Epoch 24/100\n",
      "752/752 [==============================] - 1s 1ms/sample - loss: 770864558107145856.0000 - val_loss: 758209273972809728.0000\n",
      "Epoch 25/100\n",
      "752/752 [==============================] - 1s 1ms/sample - loss: 770864511319416960.0000 - val_loss: 758209271216680960.0000\n",
      "Epoch 26/100\n",
      "752/752 [==============================] - 1s 996us/sample - loss: 770864486463436032.0000 - val_loss: 758209246044038400.0000\n",
      "Epoch 27/100\n",
      "752/752 [==============================] - 1s 1ms/sample - loss: 770864385577395840.0000 - val_loss: 758209214807912576.0000\n",
      "Epoch 28/100\n",
      "752/752 [==============================] - 1s 1ms/sample - loss: 770864350486599168.0000 - val_loss: 758209008649482368.0000\n",
      "Epoch 29/100\n",
      "752/752 [==============================] - 1s 1ms/sample - loss: 770864274456539776.0000 - val_loss: 758209204885849088.0000\n",
      "Epoch 30/100\n",
      "752/752 [==============================] - 1s 997us/sample - loss: 770864207199179520.0000 - val_loss: 758208832624726528.0000\n",
      "Epoch 31/100\n",
      "752/752 [==============================] - 1s 1ms/sample - loss: 770864119472187904.0000 - val_loss: 758209147558371200.0000\n",
      "Epoch 32/100\n",
      "752/752 [==============================] - 1s 1ms/sample - loss: 770863998116516352.0000 - val_loss: 758208936990135040.0000\n",
      "Epoch 33/100\n",
      "752/752 [==============================] - 1s 1ms/sample - loss: 770864015661914496.0000 - val_loss: 758208105374221312.0000\n",
      "Epoch 34/100\n",
      "752/752 [==============================] - 1s 995us/sample - loss: 770864031745196416.0000 - val_loss: 758208396421416960.0000\n",
      "Epoch 35/100\n",
      "752/752 [==============================] - 1s 1ms/sample - loss: 770863939631855232.0000 - val_loss: 758208380619612160.0000\n",
      "Epoch 36/100\n",
      "752/752 [==============================] - 1s 1ms/sample - loss: 770863847518514048.0000 - val_loss: 758208430964897152.0000\n",
      "Epoch 37/100\n",
      "752/752 [==============================] - 1s 1ms/sample - loss: 770863705693211008.0000 - val_loss: 758208391644127104.0000\n",
      "Epoch 38/100\n",
      "752/752 [==============================] - 1s 984us/sample - loss: 770863520735470336.0000 - val_loss: 758208571343721344.0000\n",
      "Epoch 39/100\n",
      "752/752 [==============================] - 1s 1ms/sample - loss: 770863401572973568.0000 - val_loss: 758208500786825472.0000\n",
      "Epoch 40/100\n",
      "752/752 [==============================] - 1s 985us/sample - loss: 770863243664388736.0000 - val_loss: 758208724584479616.0000\n",
      "Epoch 41/100\n",
      "752/752 [==============================] - 1s 1ms/sample - loss: 770863087948978560.0000 - val_loss: 758208593392751360.0000\n",
      "Epoch 42/100\n",
      "752/752 [==============================] - 1s 985us/sample - loss: 770862921998753024.0000 - val_loss: 758208322557166592.0000\n",
      "Epoch 43/100\n",
      "752/752 [==============================] - 1s 1ms/sample - loss: 770862797718848128.0000 - val_loss: 758208348281034880.0000\n",
      "Epoch 44/100\n",
      "752/752 [==============================] - 1s 1ms/sample - loss: 770862594484651008.0000 - val_loss: 758208322924650368.0000\n",
      "Epoch 45/100\n",
      "752/752 [==============================] - 1s 997us/sample - loss: 770862417568551424.0000 - val_loss: 758208168581440640.0000\n",
      "Epoch 46/100\n",
      "752/752 [==============================] - 1s 1ms/sample - loss: 770862259659966592.0000 - val_loss: 758208333214197632.0000\n",
      "Epoch 47/100\n",
      "752/752 [==============================] - 1s 997us/sample - loss: 770862024990264064.0000 - val_loss: 758208337624003712.0000\n",
      "Epoch 48/100\n",
      "752/752 [==============================] - 1s 1ms/sample - loss: 770861789589503360.0000 - val_loss: 758208025262745728.0000\n",
      "Epoch 49/100\n",
      "752/752 [==============================] - 1s 1ms/sample - loss: 770861651419491584.0000 - val_loss: 758208157556925568.0000\n",
      "Epoch 50/100\n",
      "752/752 [==============================] - 1s 1ms/sample - loss: 770861459882226688.0000 - val_loss: 758207635729883008.0000\n",
      "Epoch 51/100\n",
      "752/752 [==============================] - 1s 999us/sample - loss: 770861212053475456.0000 - val_loss: 758208096554609408.0000\n",
      "Epoch 52/100\n",
      "752/752 [==============================] - 1s 1ms/sample - loss: 770860889656781312.0000 - val_loss: 758207933024303744.0000\n",
      "Epoch 53/100\n",
      "752/752 [==============================] - 1s 985us/sample - loss: 770860689346817280.0000 - val_loss: 758208110886478848.0000\n",
      "Epoch 54/100\n",
      "752/752 [==============================] - 1s 1ms/sample - loss: 770860433476425216.0000 - val_loss: 758208165641569920.0000\n",
      "Epoch 55/100\n",
      "752/752 [==============================] - 1s 1ms/sample - loss: 770860243401276800.0000 - val_loss: 758207086709036800.0000\n",
      "Epoch 56/100\n",
      "752/752 [==============================] - 1s 1ms/sample - loss: 770859904190242688.0000 - val_loss: 758208024895261952.0000\n",
      "Epoch 57/100\n",
      "752/752 [==============================] - 1s 997us/sample - loss: 770859583986723328.0000 - val_loss: 758207916855015168.0000\n",
      "Epoch 58/100\n",
      "752/752 [==============================] - 1s 1ms/sample - loss: 770859470672692480.0000 - val_loss: 758206182698808064.0000\n",
      "Epoch 59/100\n",
      "752/752 [==============================] - 1s 995us/sample - loss: 770859012299161600.0000 - val_loss: 758206984916015104.0000\n",
      "Epoch 60/100\n",
      "752/752 [==============================] - 1s 1ms/sample - loss: 770858684785059712.0000 - val_loss: 758206451696973696.0000\n",
      "Epoch 61/100\n",
      "752/752 [==============================] - 1s 1ms/sample - loss: 770858224218354048.0000 - val_loss: 758207130807096704.0000\n",
      "Epoch 62/100\n",
      "752/752 [==============================] - 1s 1ms/sample - loss: 770858020253098496.0000 - val_loss: 758207485428995328.0000\n",
      "Epoch 63/100\n",
      "752/752 [==============================] - 1s 1ms/sample - loss: 770857765113764608.0000 - val_loss: 758207053268007936.0000\n",
      "Epoch 64/100\n",
      "752/752 [==============================] - 1s 1ms/sample - loss: 770857272380495360.0000 - val_loss: 758207413034680320.0000\n",
      "Epoch 65/100\n",
      "752/752 [==============================] - 1s 1ms/sample - loss: 770857051600899712.0000 - val_loss: 758206657855403904.0000\n",
      "Epoch 66/100\n",
      "752/752 [==============================] - 1s 988us/sample - loss: 770856675836952576.0000 - val_loss: 758206477053358208.0000\n",
      "Epoch 67/100\n",
      "752/752 [==============================] - 1s 1ms/sample - loss: 770856067596477696.0000 - val_loss: 758207075684521856.0000\n",
      "Epoch 68/100\n",
      "752/752 [==============================] - 1s 1ms/sample - loss: 770855719612744320.0000 - val_loss: 758206856296673664.0000\n",
      "Epoch 69/100\n",
      "752/752 [==============================] - 1s 1ms/sample - loss: 770855362125253632.0000 - val_loss: 758206018801018624.0000\n",
      "Epoch 70/100\n",
      "752/752 [==============================] - 1s 995us/sample - loss: 770855014872578816.0000 - val_loss: 758206171306809216.0000\n",
      "Epoch 71/100\n",
      "752/752 [==============================] - 1s 1ms/sample - loss: 770854488510629120.0000 - val_loss: 758205710114599040.0000\n",
      "Epoch 72/100\n",
      "752/752 [==============================] - 1s 991us/sample - loss: 770854026481806848.0000 - val_loss: 758206127208749312.0000\n",
      "Epoch 73/100\n",
      "752/752 [==============================] - 1s 1ms/sample - loss: 770853254484281088.0000 - val_loss: 758205753110207488.0000\n",
      "Epoch 74/100\n",
      "752/752 [==============================] - 1s 987us/sample - loss: 770853017621403776.0000 - val_loss: 758205368354634496.0000\n",
      "Epoch 75/100\n",
      "752/752 [==============================] - 1s 1ms/sample - loss: 770852192987682944.0000 - val_loss: 758205772586850688.0000\n",
      "Epoch 76/100\n",
      "752/752 [==============================] - 1s 1ms/sample - loss: 770851899102261120.0000 - val_loss: 758206361663434624.0000\n",
      "Epoch 77/100\n",
      "752/752 [==============================] - 1s 1ms/sample - loss: 770851891060620288.0000 - val_loss: 758204691449414528.0000\n",
      "Epoch 78/100\n",
      "752/752 [==============================] - 1s 1ms/sample - loss: 770850770348302848.0000 - val_loss: 758205783978849408.0000\n",
      "Epoch 79/100\n",
      "752/752 [==============================] - 1s 1ms/sample - loss: 770850469152298496.0000 - val_loss: 758205118465628288.0000\n",
      "Epoch 80/100\n",
      "752/752 [==============================] - 1s 991us/sample - loss: 770849473450944128.0000 - val_loss: 758205566795904256.0000\n",
      "Epoch 81/100\n",
      "752/752 [==============================] - 1s 1ms/sample - loss: 770849431049564800.0000 - val_loss: 758206072453658240.0000\n",
      "Epoch 82/100\n",
      "752/752 [==============================] - 1s 989us/sample - loss: 770849090376414208.0000 - val_loss: 758201858516547328.0000\n",
      "Epoch 83/100\n",
      "752/752 [==============================] - 1s 1ms/sample - loss: 770848705108709504.0000 - val_loss: 758204562095105408.0000\n",
      "Epoch 84/100\n",
      "752/752 [==============================] - 1s 1ms/sample - loss: 770847561002527616.0000 - val_loss: 758203722762031232.0000\n",
      "Epoch 85/100\n",
      "752/752 [==============================] - 1s 1ms/sample - loss: 770846903050090752.0000 - val_loss: 758201955164795392.0000\n",
      "Epoch 86/100\n",
      "752/752 [==============================] - 1s 1ms/sample - loss: 770846303582315008.0000 - val_loss: 758198788556608000.0000\n",
      "Epoch 87/100\n",
      "752/752 [==============================] - 1s 1ms/sample - loss: 770845900038153856.0000 - val_loss: 758199559905173120.0000\n",
      "Epoch 88/100\n",
      "752/752 [==============================] - 1s 1ms/sample - loss: 770844782981127680.0000 - val_loss: 758200055640863616.0000\n",
      "Epoch 89/100\n",
      "752/752 [==============================] - 1s 1ms/sample - loss: 770844537345551232.0000 - val_loss: 758200480452174336.0000\n",
      "Epoch 90/100\n",
      "752/752 [==============================] - 1s 1ms/sample - loss: 770843676889975552.0000 - val_loss: 758202750032325760.0000\n",
      "Epoch 91/100\n",
      "752/752 [==============================] - 1s 1ms/sample - loss: 770842994812616064.0000 - val_loss: 758200368002121472.0000\n",
      "Epoch 92/100\n",
      "752/752 [==============================] - 1s 1ms/sample - loss: 770842162868312448.0000 - val_loss: 758202194396770560.0000\n",
      "Epoch 93/100\n",
      "752/752 [==============================] - 1s 1ms/sample - loss: 770841568517944576.0000 - val_loss: 758198398288777600.0000\n",
      "Epoch 94/100\n",
      "752/752 [==============================] - 1s 1ms/sample - loss: 770840104208243456.0000 - val_loss: 758201790532038272.0000\n",
      "Epoch 95/100\n",
      "752/752 [==============================] - 1s 1ms/sample - loss: 770839621709789952.0000 - val_loss: 758199274002751232.0000\n",
      "Epoch 96/100\n",
      "752/752 [==============================] - 1s 992us/sample - loss: 770839052946461184.0000 - val_loss: 758199144648441984.0000\n",
      "Epoch 97/100\n",
      "752/752 [==============================] - 1s 1ms/sample - loss: 770838991537566976.0000 - val_loss: 758200496621462912.0000\n",
      "Epoch 98/100\n",
      "752/752 [==============================] - 1s 1ms/sample - loss: 770837428535000448.0000 - val_loss: 758200846098587904.0000\n",
      "Epoch 99/100\n",
      "752/752 [==============================] - 1s 1ms/sample - loss: 770836087774145792.0000 - val_loss: 758199854259723136.0000\n",
      "Epoch 100/100\n",
      "752/752 [==============================] - 1s 1ms/sample - loss: 770835695926916736.0000 - val_loss: 758197162073164032.0000\n",
      "SOL-USD modeli eğitildi ve kaydedildi\n"
     ]
    }
   ],
   "source": [
    "# her bir veri çerçevesi için modeli eğitelim\n",
    "\n",
    "\n",
    "if not os.path.exists('models'):\n",
    "    os.makedirs('models')\n",
    "\n",
    "epochs = 100\n",
    "batch_size = 64\n",
    "models = []\n",
    "\n",
    "for i in range(len(X_train_test)):\n",
    "    # Modeli oluşturun\n",
    "    model = model_olustur(X_train_test[i][0].shape[1:], X_train_test[i][2].shape[1])\n",
    "    \n",
    "    # Modeli derleyin\n",
    "    model.compile(optimizer='adam', loss='mean_squared_error')\n",
    "    \n",
    "    # Modeli eğitin\n",
    "    model.fit(X_train_test[i][0], X_train_test[i][2], epochs=epochs, batch_size=batch_size,\n",
    "              validation_data=(X_train_test[i][1], X_train_test[i][3]),\n",
    "                verbose=1)\n",
    "    \n",
    "    # Modeli kaydedin\n",
    "    model.save(f'models/{tickers[i]}_model.h5')\n",
    "    \n",
    "    # Modeli listeye ekleyin\n",
    "    models.append(model)\n",
    "    print(f'{tickers[i]} modeli eğitildi ve kaydedildi')\n"
   ]
  },
  {
   "cell_type": "code",
   "execution_count": 14,
   "metadata": {
    "ExecuteTime": {
     "end_time": "2024-02-03T02:44:31.040853Z",
     "start_time": "2024-02-03T02:44:28.956114Z"
    },
    "collapsed": false
   },
   "outputs": [
    {
     "name": "stdout",
     "output_type": "stream",
     "text": [
      "WARNING:tensorflow:From c:\\Users\\mmust\\anaconda3\\envs\\directML\\lib\\site-packages\\tensorflow_core\\python\\ops\\init_ops.py:97: calling GlorotUniform.__init__ (from tensorflow.python.ops.init_ops) with dtype is deprecated and will be removed in a future version.\n",
      "Instructions for updating:\n",
      "Call initializer instance with the dtype argument instead of passing it to the constructor\n",
      "WARNING:tensorflow:From c:\\Users\\mmust\\anaconda3\\envs\\directML\\lib\\site-packages\\tensorflow_core\\python\\ops\\init_ops.py:97: calling Orthogonal.__init__ (from tensorflow.python.ops.init_ops) with dtype is deprecated and will be removed in a future version.\n",
      "Instructions for updating:\n",
      "Call initializer instance with the dtype argument instead of passing it to the constructor\n",
      "WARNING:tensorflow:From c:\\Users\\mmust\\anaconda3\\envs\\directML\\lib\\site-packages\\tensorflow_core\\python\\ops\\init_ops.py:97: calling Zeros.__init__ (from tensorflow.python.ops.init_ops) with dtype is deprecated and will be removed in a future version.\n",
      "Instructions for updating:\n",
      "Call initializer instance with the dtype argument instead of passing it to the constructor\n",
      "WARNING:tensorflow:From c:\\Users\\mmust\\anaconda3\\envs\\directML\\lib\\site-packages\\tensorflow_core\\python\\ops\\init_ops.py:97: calling Ones.__init__ (from tensorflow.python.ops.init_ops) with dtype is deprecated and will be removed in a future version.\n",
      "Instructions for updating:\n",
      "Call initializer instance with the dtype argument instead of passing it to the constructor\n"
     ]
    },
    {
     "data": {
      "image/png": "[encoded data removed]",
      "text/plain": [
       "<Figure size 1008x360 with 1 Axes>"
      ]
     },
     "metadata": {
      "needs_background": "light"
     },
     "output_type": "display_data"
    }
   ],
   "source": [
    "# Her bir model için döngü oluşturun ve tahmin yapın\n",
    "for i in range(len(models)):\n",
    "    # Modeli yükleyin\n",
    "    model = tf.keras.models.load_model(f'models/{tickers[i]}_model.h5')\n",
    "    \n",
    "    # Tahmin yapın\n",
    "    predictions = model.predict(X_train_test[i][1])\n",
    "    \n",
    "    # Tahminleri ve gerçek değerleri görselleştirin sadece close\n",
    "    plt.figure(figsize=(14, 5))\n",
    "    plt.plot(predictions[:, 3], label='Tahminler')\n",
    "    plt.plot(X_train_test[i][3][:, 3], label='Gerçek Değerler')\n",
    "    plt.title(f'{tickers[i]} Tahminleri ve Gerçek Değerler')\n",
    "    plt.xlabel('Zaman')\n",
    "    plt.ylabel('Kapanış Fiyatı')\n",
    "    plt.legend()\n",
    "    plt.show()\n",
    "    \n",
    "\n",
    "    \n",
    "    "
   ]
  },
  {
   "cell_type": "code",
   "execution_count": null,
   "metadata": {
    "ExecuteTime": {
     "end_time": "2024-02-03T02:44:31.047172Z",
     "start_time": "2024-02-03T02:44:31.040680Z"
    },
    "collapsed": false
   },
   "outputs": [],
   "source": []
  }
 ],
 "metadata": {
  "kernelspec": {
   "display_name": "all",
   "language": "python",
   "name": "python3"
  },
  "language_info": {
   "codemirror_mode": {
    "name": "ipython",
    "version": 3
   },
   "file_extension": ".py",
   "mimetype": "text/x-python",
   "name": "python",
   "nbconvert_exporter": "python",
   "pygments_lexer": "ipython3",
   "version": "3.6.13"
  }
 },
 "nbformat": 4,
 "nbformat_minor": 2
}
